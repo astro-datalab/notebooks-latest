{
 "cells": [
  {
   "cell_type": "code",
   "execution_count": 1,
   "metadata": {
    "execution": {
     "iopub.execute_input": "2024-05-29T15:02:30.914526Z",
     "iopub.status.busy": "2024-05-29T15:02:30.913739Z",
     "iopub.status.idle": "2024-05-29T15:02:30.922053Z",
     "shell.execute_reply": "2024-05-29T15:02:30.920340Z",
     "shell.execute_reply.started": "2024-05-29T15:02:30.914467Z"
    },
    "tags": []
   },
   "outputs": [],
   "source": [
    "__author__ = 'Jane Author <jane.author@noirlab.edu>, John Writer <john.doe@noirlab.edu>' # single string; emails in <>\n",
    "__version__ = '20240529' # yyyymmdd; version datestamp of this notebook\n",
    "__datasets__ = ['']  # datasets used in this notebook\n",
    "__keywords__ = [''] # keywords relevant to this notebook, e.g. ['science case','dwarf galaxies'] Use only keywords from the master list: https://github.com/astro-datalab/notebooks-latest/blob/master/keywords.txt"
   ]
  },
  {
   "cell_type": "markdown",
   "metadata": {},
   "source": [
    "# Short self-describing title of this notebook (e.g. Finding Dwarf Galaxies in DES DR1)\n",
    "\n",
    "*Jane Author, John Writer, & the Astro Data Lab Team*"
   ]
  },
  {
   "cell_type": "markdown",
   "metadata": {},
   "source": [
    "### Table of contents\n",
    "* [Goals & notebook summary](#goals)\n",
    "* [Disclaimer & attribution](#attribution)\n",
    "* [Imports & setup](#import)\n",
    "* [Authentication](#auth)\n",
    "* [First chapter](#chapter1)\n",
    "* [Resources and references](#resources)"
   ]
  },
  {
   "cell_type": "markdown",
   "metadata": {},
   "source": [
    "<a class=\"anchor\" id=\"goals\"></a>\n",
    "# Goals\n",
    "One or two sentences, or a bullet list, of the goals of this notebook. E.g. \"To find dwarf galaxies in DES DR1 images\"."
   ]
  },
  {
   "cell_type": "markdown",
   "metadata": {},
   "source": [
    "# Summary\n",
    "Description of the content of this notebook: we do X, using data Y. The technique used is Z. Also rename the notebook file to something meaningful, e.g. 'TimeSeriesAnalysisRRLyrae_20171011'."
   ]
  },
  {
   "cell_type": "markdown",
   "metadata": {},
   "source": [
    "<a class=\"anchor\" id=\"attribution\"></a>\n",
    "# Disclaimer & attribution\n",
    "\n",
    "Disclaimers\n",
    "-----------\n",
    "Note that using the Astro Data Lab constitutes your agreement with our minimal [Disclaimers](https://datalab.noirlab.edu/disclaimers.php).\n",
    "\n",
    "Acknowledgments\n",
    "---------------\n",
    "If you use **Astro Data Lab** in your published research, please include the text in your paper's Acknowledgments section:\n",
    "\n",
    "_This research uses services or data provided by the Astro Data Lab, which is part of the Community Science and Data Center (CSDC) Program of NSF NOIRLab. NOIRLab is operated by the Association of Universities for Research in Astronomy (AURA), Inc. under a cooperative agreement with the U.S. National Science Foundation._\n",
    "\n",
    "If you use **SPARCL jointly with the Astro Data Lab platform** (via JupyterLab, command-line, or web interface) in your published research, please include this text below in your paper's Acknowledgments section:\n",
    "\n",
    "_This research uses services or data provided by the SPectra Analysis and Retrievable Catalog Lab (SPARCL) and the Astro Data Lab, which are both part of the Community Science and Data Center (CSDC) Program of NSF NOIRLab. NOIRLab is operated by the Association of Universities for Research in Astronomy (AURA), Inc. under a cooperative agreement with the U.S. National Science Foundation._\n",
    "\n",
    "In either case **please cite the following papers**:\n",
    "\n",
    "* Data Lab concept paper: Fitzpatrick et al., \"The NOAO Data Laboratory: a conceptual overview\", SPIE, 9149, 2014, https://doi.org/10.1117/12.2057445\n",
    "\n",
    "* Astro Data Lab overview: Nikutta et al., \"Data Lab - A Community Science Platform\", Astronomy and Computing, 33, 2020, https://doi.org/10.1016/j.ascom.2020.100411\n",
    "\n",
    "If you are referring to the Data Lab JupyterLab / Jupyter Notebooks, cite:\n",
    "\n",
    "* Juneau et al., \"Jupyter-Enabled Astrophysical Analysis Using Data-Proximate Computing Platforms\", CiSE, 23, 15, 2021, https://doi.org/10.1109/MCSE.2021.3057097\n",
    "\n",
    "If publishing in a AAS journal, also add the keyword: `\\facility{Astro Data Lab}`\n",
    "\n",
    "And if you are using SPARCL, please also add `\\software{SPARCL}` and cite:\n",
    "\n",
    "* Juneau et al., \"SPARCL: SPectra Analysis and Retrievable Catalog Lab\", Conference Proceedings for ADASS XXXIII, 2024\n",
    "https://doi.org/10.48550/arXiv.2401.05576\n",
    "\n",
    "The NOIRLab Library maintains [lists of proper acknowledgments](https://noirlab.edu/science/about/scientific-acknowledgments) to use when publishing papers using the Lab's facilities, data, or services."
   ]
  },
  {
   "cell_type": "markdown",
   "metadata": {},
   "source": [
    "<a class=\"anchor\" id=\"import\"></a>\n",
    "# Imports and setup"
   ]
  },
  {
   "cell_type": "code",
   "execution_count": 2,
   "metadata": {
    "execution": {
     "iopub.execute_input": "2024-05-29T15:02:33.917102Z",
     "iopub.status.busy": "2024-05-29T15:02:33.916375Z",
     "iopub.status.idle": "2024-05-29T15:02:35.478459Z",
     "shell.execute_reply": "2024-05-29T15:02:35.477223Z",
     "shell.execute_reply.started": "2024-05-29T15:02:33.917048Z"
    },
    "tags": []
   },
   "outputs": [],
   "source": [
    "# std lib\n",
    "from getpass import getpass\n",
    "\n",
    "# 3rd party # remove imports that are not needed\n",
    "import numpy as np\n",
    "import pylab as plt\n",
    "import matplotlib\n",
    "%matplotlib inline\n",
    "\n",
    "# Data Lab\n",
    "from dl import authClient as ac, queryClient as qc, storeClient as sc\n",
    "# Data Lab helpers as needed, e.g.: (uncomment as needed)\n",
    "#from dl.helpers.utils import convert"
   ]
  },
  {
   "cell_type": "markdown",
   "metadata": {},
   "source": [
    "<a class=\"anchor\" id=\"auth\"></a>\n",
    "# Authentication\n",
    "Use this mini-section to authenticate the user, IF the notebook needs authentication (e.g. for saving files to VOSpace). If the notebook does not require authnetication at all, remove this entire subsection."
   ]
  },
  {
   "cell_type": "markdown",
   "metadata": {},
   "source": [
    "Much of the functionality of Data Lab can be accessed without explicitly logging in (the service then uses an anonymous login). But some capacities, for instance saving the results of your queries to your virtual storage space, require a login (i.e. you will need a registered user account).\n",
    "\n",
    "If you need to log in to Data Lab, un-comment the cell below and execute it:"
   ]
  },
  {
   "cell_type": "code",
   "execution_count": 3,
   "metadata": {
    "execution": {
     "iopub.execute_input": "2024-05-29T15:02:37.942672Z",
     "iopub.status.busy": "2024-05-29T15:02:37.941937Z",
     "iopub.status.idle": "2024-05-29T15:02:37.947818Z",
     "shell.execute_reply": "2024-05-29T15:02:37.946264Z",
     "shell.execute_reply.started": "2024-05-29T15:02:37.942616Z"
    },
    "tags": []
   },
   "outputs": [],
   "source": [
    "#token = ac.login(input(\"Enter user name: (+ENTER) \"),getpass(\"Enter password: (+ENTER) \"))\n",
    "#ac.whoAmI()"
   ]
  },
  {
   "cell_type": "markdown",
   "metadata": {},
   "source": [
    "# Available datasets in Data Lab\n",
    "This is a way to find out about available datasets. Use it only internally, and the list the datasets used in the ``__datasets__`` list in the very first cell of the notebook. Remove then this subsection from the notebook."
   ]
  },
  {
   "cell_type": "code",
   "execution_count": 4,
   "metadata": {
    "execution": {
     "iopub.execute_input": "2024-05-29T15:02:39.081692Z",
     "iopub.status.busy": "2024-05-29T15:02:39.081000Z",
     "iopub.status.idle": "2024-05-29T15:02:39.290570Z",
     "shell.execute_reply": "2024-05-29T15:02:39.289049Z",
     "shell.execute_reply.started": "2024-05-29T15:02:39.081636Z"
    },
    "tags": []
   },
   "outputs": [
    {
     "name": "stdout",
     "output_type": "stream",
     "text": [
      "Datasets available in Data Lab (with current profile):\n",
      " ['allwise', 'analytics', 'buzzard_dr1', 'catwise2020', 'dad_dr1', 'dad_dr2', 'dbms_pipe', 'decaps_dr1', 'decaps_dr2', 'delve_dr1', 'delve_dr2', 'des_dr1', 'des_dr2', 'des_sva1', 'desi_edr', 'dltest', 'gaia_dr1', 'gaia_dr2', 'gaia_dr3', 'gaia_edr3', 'gnirs_dqs', 'gogreen_dr1', 'hipparcos', 'hipparcos2', 'ls_dr10', 'ls_dr6', 'ls_dr7', 'ls_dr8', 'ls_dr9', 'ls_dr9sv', 'lsst_sim', 'nbdata', 'nsc_dr1', 'nsc_dr2', 'phat_v2', 'sdss_dr12', 'sdss_dr13', 'sdss_dr14', 'sdss_dr16', 'sdss_dr17', 'sga2020', 'skymapper_dr1', 'skymapper_dr2', 'skymapper_dr4', 'smash_dr1', 'smash_dr2', 'sparcl', 'splus_dr1', 'splus_dr2', 'splus_edr', 'stripe82', 'tap_schema', 'twomass', 'tycho2', 'ukidss_dr11plus', 'unwise_dr1', 'usno', 'vhs_dr5']\n"
     ]
    }
   ],
   "source": [
    "# get all schemas from DB\n",
    "schemas = set(qc.query(sql=\"SELECT schema FROM tbl_stat\").split())\n",
    "\n",
    "# these schemas are not astronomical datasets\n",
    "remove = set(qc.query(sql=\"SELECT schema FROM tbl_stat where schema like 'ivoa_%'\").split())\n",
    "\n",
    "# remove non-astro schemas\n",
    "datasets = sorted(list(schemas - remove))\n",
    "print(\"Datasets available in Data Lab (with current profile):\\n\", datasets)\n",
    "\n",
    "# TODO for user: Enter used datasets by hand in the list __datasets__ in the very first cell above"
   ]
  },
  {
   "cell_type": "markdown",
   "metadata": {},
   "source": [
    "<a class=\"anchor\" id=\"chapter1\"></a>\n",
    "# Chapter 1 - your content below..."
   ]
  },
  {
   "cell_type": "code",
   "execution_count": 5,
   "metadata": {
    "execution": {
     "iopub.execute_input": "2024-05-29T15:02:40.915164Z",
     "iopub.status.busy": "2024-05-29T15:02:40.914478Z",
     "iopub.status.idle": "2024-05-29T15:02:40.921600Z",
     "shell.execute_reply": "2024-05-29T15:02:40.920057Z",
     "shell.execute_reply.started": "2024-05-29T15:02:40.915112Z"
    }
   },
   "outputs": [
    {
     "name": "stdout",
     "output_type": "stream",
     "text": [
      "5\n"
     ]
    }
   ],
   "source": [
    "a = 2+3\n",
    "print(a)"
   ]
  },
  {
   "cell_type": "markdown",
   "metadata": {},
   "source": [
    "<a class=\"anchor\" id=\"resources\"></a>\n",
    "# Resources and references\n",
    "Add some resources and \"further reading\" links relevant to this notebook.\n",
    "\n",
    "Lomb, N.R. (1976) \"Least-squares frequency analysis of unequally spaced data\". Astrophysics and Space Science. 39 (2): 447–462: http://adsabs.harvard.edu/abs/1976Ap%26SS..39..447L\n",
    "\n",
    "Scargle, J. D. (1982) \"Studies in astronomical time series analysis. II - Statistical aspects of spectral analysis of unevenly spaced data\". Astrophysical Journal. 263, 835: http://adsabs.harvard.edu/doi/10.1086/160554\n",
    "\n",
    "Lomb-Scargle periodograms in `astropy`: http://docs.astropy.org/en/stable/stats/lombscargle.html"
   ]
  }
 ],
 "metadata": {
  "kernelspec": {
   "display_name": "Python 3",
   "language": "python",
   "name": "python3"
  },
  "language_info": {
   "codemirror_mode": {
    "name": "ipython",
    "version": 3
   },
   "file_extension": ".py",
   "mimetype": "text/x-python",
   "name": "python",
   "nbconvert_exporter": "python",
   "pygments_lexer": "ipython3",
   "version": "3.11.5"
  }
 },
 "nbformat": 4,
 "nbformat_minor": 4
}
