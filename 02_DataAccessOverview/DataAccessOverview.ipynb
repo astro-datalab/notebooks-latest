{
 "cells": [
  {
   "cell_type": "code",
   "execution_count": 1,
   "metadata": {},
   "outputs": [],
   "source": [
    "__author__ = 'Robert Nikutta <robert.nikutta@noirlab.edu> and the Astro Data Lab team <datalab@noirlab.edu>'\n",
    "__version__ = '20240620' # yyyymmdd; version datestamp of this notebook\n",
    "__datasets__ = ['allwise', 'smash']\n",
    "__keywords__ = ['authentication', 'histogram', 'plot:cmd', 'RRLyrae', 'lightcurve']"
   ]
  },
  {
   "cell_type": "markdown",
   "metadata": {},
   "source": [
    "# Data Lab data access examples\n",
    "_Robert Nikutta and the Astro Data Lab Team_"
   ]
  },
  {
   "cell_type": "markdown",
   "metadata": {},
   "source": [
    "### Table of contents\n",
    "* [Module imports](#import)\n",
    "* [Authentication](#auth)\n",
    "* [Magnitude distribution in WISE](#histogram)\n",
    "* [Color-magnitude diagram of a dwarf galaxy](#cmd)\n",
    "* [Light curve of RRLyrae star](#lightcurve)"
   ]
  },
  {
   "cell_type": "markdown",
   "metadata": {},
   "source": [
    "# Goals\n",
    "To demonstrate how to:\n",
    "* Import Data Lab (and other) packages\n",
    "* Log in to Data Lab (if required)\n",
    "* Issue simple SQL queries against database tables in Data Lab\n",
    "* Make 1d (histogram) and 2d (color-magnitude diagram) plots of the retrieved data\n",
    "* Query for the light curve of a variable star and plot it"
   ]
  },
  {
   "cell_type": "markdown",
   "metadata": {},
   "source": [
    "# Summary\n",
    "This notebook shows very short examples of how different data can be queried in Data Lab, and what you can do with them.\n",
    "\n",
    "Also experiment with the notebooks in [Getting Started With Data Lab](https://github.com/astro-datalab/notebooks-latest/blob/master/01_GettingStartedWithDataLab/02_GettingStartedWithDataLab.ipynb)"
   ]
  },
  {
   "cell_type": "markdown",
   "metadata": {},
   "source": [
    "# Disclaimer & attribution\n",
    "If you use parts of this or other notebooks for your published science, please acknowledge the following:\n",
    "\n",
    "* Data Lab concept paper: Fitzpatrick et al., \"The NOAO Data Laboratory: a conceptual overview\", SPIE, 9149, 2014, http://dx.doi.org/10.1117/12.2057445\n",
    "\n",
    "* Data Lab disclaimer: https://datalab.noirlab.edu/disclaimers.php"
   ]
  },
  {
   "cell_type": "markdown",
   "metadata": {},
   "source": [
    "<a class=\"anchor\" id=\"import\"></a>\n",
    "# Imports and setup\n",
    "Let's import a few Python packages, and the relevant Data Lab modules. "
   ]
  },
  {
   "cell_type": "code",
   "execution_count": 2,
   "metadata": {},
   "outputs": [],
   "source": [
    "# std lib\n",
    "from getpass import getpass\n",
    "\n",
    "# 3rd party\n",
    "import numpy as np\n",
    "import pylab as plt\n",
    "%matplotlib inline\n",
    "\n",
    "# Data Lab\n",
    "from dl import authClient as ac, queryClient as qc #, storeClient as sc\n",
    "from dl.helpers.utils import convert"
   ]
  },
  {
   "cell_type": "markdown",
   "metadata": {},
   "source": [
    "<a class=\"anchor\" id=\"auth\"></a>\n",
    "# Authentication\n",
    "Much of the functionality of Data Lab can be accessed without explicitly logging in (the service then uses an anonymous login). But some capacities, for instance saving the results of your queries to your virtual storage space, require a login (i.e. you will need a registered user account).\n",
    "\n",
    "If you need to log in to Data Lab, un-comment the cell below and execute it:"
   ]
  },
  {
   "cell_type": "code",
   "execution_count": 3,
   "metadata": {},
   "outputs": [
    {
     "data": {
      "text/plain": [
       "'demo00'"
      ]
     },
     "execution_count": 3,
     "metadata": {},
     "output_type": "execute_result"
    }
   ],
   "source": [
    "#token = ac.login(input(\"Enter user name: (+ENTER) \"),getpass(\"Enter password: (+ENTER) \"))\n",
    "ac.whoAmI()"
   ]
  },
  {
   "cell_type": "markdown",
   "metadata": {},
   "source": [
    "<a class=\"anchor\" id=\"histogram\"></a>\n",
    "# Magnitude distribution\n",
    "In this example we query the AllWISE database (the `source` table) for the measured magnitudes in 3 bands of 10k sources with high SNR."
   ]
  },
  {
   "cell_type": "code",
   "execution_count": 4,
   "metadata": {},
   "outputs": [],
   "source": [
    "query =\\\n",
    "\"\"\"\n",
    "select w1mpro,w2mpro,w3mpro\n",
    "from allwise.source\n",
    "where w1snr>30 and w2snr>30 and w3snr>30\n",
    "limit 10000\n",
    "\"\"\"\n",
    "res = qc.query(sql=query,format='csv')"
   ]
  },
  {
   "cell_type": "markdown",
   "metadata": {},
   "source": [
    "Let's convert the result of the query to a convenient format (here a Pandas dataframe)."
   ]
  },
  {
   "cell_type": "code",
   "execution_count": 5,
   "metadata": {},
   "outputs": [],
   "source": [
    "df = convert(res,'pandas')"
   ]
  },
  {
   "cell_type": "markdown",
   "metadata": {},
   "source": [
    "We'll plot the distributions of the WISE W1, W2, W3 magnitudes as histograms."
   ]
  },
  {
   "cell_type": "code",
   "execution_count": 6,
   "metadata": {},
   "outputs": [
    {
     "data": {
      "text/plain": [
       "<matplotlib.legend.Legend at 0x7f9562545070>"
      ]
     },
     "execution_count": 6,
     "metadata": {},
     "output_type": "execute_result"
    },
    {
     "data": {
      "image/png": "[encoded data removed]",
      "text/plain": [
       "<Figure size 504x360 with 1 Axes>"
      ]
     },
     "metadata": {
      "needs_background": "light"
     },
     "output_type": "display_data"
    }
   ],
   "source": [
    "colors = list('rgb')\n",
    "fig, ax = plt.subplots(1,1,figsize=(7,5))\n",
    "for j in (1,2,3):\n",
    "    ax.hist(df['w{:d}mpro'.format(j)],bins=40,range=(6,10),histtype='step',lw=3,color=colors[j-1],alpha=0.4,label='W{:d}'.format(j+1))\n",
    "ax.set_xlabel('mag (Vega)')\n",
    "ax.set_ylabel('histogram')\n",
    "ax.legend(loc='upper left',frameon=False)"
   ]
  },
  {
   "cell_type": "markdown",
   "metadata": {},
   "source": [
    "<a class=\"anchor\" id=\"cmd\"></a>\n",
    "# Color magnitude diagram\n",
    "In this example we query for the photometry of stars around the known location of the Hydra II dwarf Galaxy, and generate a color-magnitude diagram (CDM) of them.\n",
    "\n",
    "Let's define the query string. We ask for point-like objects `(abs(sharp<0.5))` in field number `169`, deteceted in long exposure images (`depthflag>1`), with `g` magnitudes between `9` and `25`, around a central position `ra0/dec0`, withing `0.1` degrees radius."
   ]
  },
  {
   "cell_type": "code",
   "execution_count": 7,
   "metadata": {},
   "outputs": [],
   "source": [
    "field, ra0, dec0, radius = 169, 185.410559533, -31.9760034474, 0.1 # ra0,dec0,radius all in decimal degrees\n",
    "query = \"\"\"\n",
    "SELECT ra,dec,gmag,rmag,imag FROM smash_dr1.object\n",
    "  WHERE fieldid = {:d}\n",
    "    AND depthflag > 1\n",
    "    AND abs(sharp) < 0.5\n",
    "    AND gmag BETWEEN 9 AND 25\n",
    "    AND q3c_radial_query(ra,dec,{:f},{:f},{:f})\n",
    "\"\"\".format(field,ra0,dec0,radius)"
   ]
  },
  {
   "cell_type": "markdown",
   "metadata": {},
   "source": [
    "Submit the query and convert to Pandas:"
   ]
  },
  {
   "cell_type": "code",
   "execution_count": 8,
   "metadata": {},
   "outputs": [
    {
     "name": "stdout",
     "output_type": "stream",
     "text": [
      "           ra        dec       gmag       rmag       imag\n",
      "0  185.347863 -32.058646  22.300820  21.167992  20.728119\n",
      "1  185.345062 -32.054665  23.378016  21.751303  21.199726\n",
      "2  185.354247 -32.055922  22.539667  24.535675  23.734186\n",
      "3  185.353235 -32.054740  23.123001  22.568447  22.088177\n",
      "4  185.321045 -32.040530  24.278828  24.717794  24.606342\n"
     ]
    }
   ],
   "source": [
    "response = qc.query(sql=query,format='csv')\n",
    "df = convert(response,'pandas')\n",
    "print(df.head())"
   ]
  },
  {
   "cell_type": "markdown",
   "metadata": {},
   "source": [
    "Compute a color column (in the same dataframe):"
   ]
  },
  {
   "cell_type": "code",
   "execution_count": 9,
   "metadata": {},
   "outputs": [
    {
     "name": "stdout",
     "output_type": "stream",
     "text": [
      "           ra        dec       gmag       rmag       imag       g_r\n",
      "0  185.347863 -32.058646  22.300820  21.167992  20.728119  1.132828\n",
      "1  185.345062 -32.054665  23.378016  21.751303  21.199726  1.626713\n",
      "2  185.354247 -32.055922  22.539667  24.535675  23.734186 -1.996008\n",
      "3  185.353235 -32.054740  23.123001  22.568447  22.088177  0.554554\n",
      "4  185.321045 -32.040530  24.278828  24.717794  24.606342 -0.438966\n"
     ]
    }
   ],
   "source": [
    "df['g_r'] = df['gmag'] - df['rmag']\n",
    "print(df.head())"
   ]
  },
  {
   "cell_type": "markdown",
   "metadata": {},
   "source": [
    "Plot a color-magnitude diagram:"
   ]
  },
  {
   "cell_type": "code",
   "execution_count": 10,
   "metadata": {},
   "outputs": [
    {
     "data": {
      "image/png": "[encoded data removed]",
      "text/plain": [
       "<Figure size 360x360 with 1 Axes>"
      ]
     },
     "metadata": {
      "needs_background": "light"
     },
     "output_type": "display_data"
    }
   ],
   "source": [
    "fig, ax = plt.subplots(figsize=(5,5))\n",
    "x = df['g_r']\n",
    "y = df['gmag']\n",
    "ax.scatter(x,y,marker='.',s=10, alpha=0.8)\n",
    "ax.set_xlabel(x.name)\n",
    "ax.set_ylabel(y.name)\n",
    "ax.set_xlim((-1,2))\n",
    "ax.set_ylim((25.2,14))\n",
    "title = ax.set_title('{:d} objects'.format(len(df)))"
   ]
  },
  {
   "cell_type": "markdown",
   "metadata": {},
   "source": [
    "<a class=\"anchor\" id=\"lightcurve\"></a>\n",
    "# Light curve\n",
    "Some catalogs have multi-epoch data, such as the SMASH survey. We will query for the magnitudes and their errors of all measurements of a star, whose ID we know."
   ]
  },
  {
   "cell_type": "code",
   "execution_count": 11,
   "metadata": {},
   "outputs": [],
   "source": [
    "# Unique ID of a RR Lyrae star in Hydra II dwarf galaxy\n",
    "objID = '169.429960'\n",
    "\n",
    "# Select columns: RA, Dec, modified Julian date, calibrated mag, uncertainties, filter band\n",
    "# Note: this database table encodes 'no measurement' values as 99.99\n",
    "# Order the returned rows by ascending mod. Julian date\n",
    "query = \"\"\"SELECT ra,dec,mjd,cmag,cerr,filter\n",
    "        FROM smash_dr1.source\n",
    "        WHERE id='{:s}' AND cmag<99\n",
    "        ORDER BY mjd ASC\"\"\".format(objID)\n",
    "result = qc.query(sql=query) # by default the result is a CSV formatted string"
   ]
  },
  {
   "cell_type": "markdown",
   "metadata": {},
   "source": [
    "Convert to Pandas for convenience"
   ]
  },
  {
   "cell_type": "code",
   "execution_count": 12,
   "metadata": {},
   "outputs": [
    {
     "name": "stdout",
     "output_type": "stream",
     "text": [
      "           ra        dec           mjd       cmag      cerr filter\n",
      "0  185.431155 -31.995327  56371.327538  21.433147  0.020651      g\n",
      "1  185.431146 -31.995324  56371.328563  21.231598  0.022473      r\n",
      "2  185.431139 -31.995320  56371.329582  21.149094  0.026192      i\n",
      "3  185.431142 -31.995334  56371.330610  21.237938  0.045429      z\n",
      "4  185.431145 -31.995325  56371.331633  21.346725  0.015112      g\n"
     ]
    }
   ],
   "source": [
    "df = convert(result,'pandas') # convert query result to a Pandas dataframe\n",
    "print(df.head())"
   ]
  },
  {
   "cell_type": "markdown",
   "metadata": {},
   "source": [
    "Let's plot the lightcurve as function of date"
   ]
  },
  {
   "cell_type": "code",
   "execution_count": 13,
   "metadata": {},
   "outputs": [
    {
     "data": {
      "text/plain": [
       "Text(0, 0.5, 'g magnitude')"
      ]
     },
     "execution_count": 13,
     "metadata": {},
     "output_type": "execute_result"
    },
    {
     "data": {
      "image/png": "[encoded data removed]",
      "text/plain": [
       "<Figure size 576x432 with 1 Axes>"
      ]
     },
     "metadata": {
      "needs_background": "light"
     },
     "output_type": "display_data"
    }
   ],
   "source": [
    "fig, ax = plt.subplots(figsize=(8,6))\n",
    "co = (df['filter']=='g')\n",
    "start = 16\n",
    "jd0 = 57110\n",
    "ax.errorbar(df['mjd'][co][start:]-jd0,df['cmag'][co][start:],yerr=df['cerr'][co][start:],marker='.',ms=8,ls='none',color='g',lw=1,alpha=0.5,label='')\n",
    "ax.set_xlabel('modified Julian date - {:d}'.format(jd0))\n",
    "ax.set_ylabel('g magnitude')"
   ]
  },
  {
   "cell_type": "markdown",
   "metadata": {},
   "source": [
    "A more complete example of time series analysis is shown in the [notebook on RRLyrae stars](https://github.com/astro-datalab/notebooks-latest/blob/master/03_ScienceExamples/TimeSeriesAnalysisRrLyraeStar/TimeSeriesAnalysisOfRrLyraeStar.ipynb)."
   ]
  }
 ],
 "metadata": {
  "kernelspec": {
   "display_name": "Python 3",
   "language": "python",
   "name": "python3"
  },
  "language_info": {
   "codemirror_mode": {
    "name": "ipython",
    "version": 3
   },
   "file_extension": ".py",
   "mimetype": "text/x-python",
   "name": "python",
   "nbconvert_exporter": "python",
   "pygments_lexer": "ipython3",
   "version": "3.8.8"
  }
 },
 "nbformat": 4,
 "nbformat_minor": 4
}
