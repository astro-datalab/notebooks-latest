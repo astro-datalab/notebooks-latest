{
 "cells": [
  {
   "cell_type": "code",
   "execution_count": null,
   "metadata": {},
   "outputs": [],
   "source": [
    "__author__ = 'Robert Nikutta <robert.nikutta@noirlab.edu>, Data Lab Team <datalab@noirlab.edu'\n",
    "__version__ = '20240819'"
   ]
  },
  {
   "cell_type": "markdown",
   "metadata": {},
   "source": [
    "# Automatic notebook testing\n",
    "### Run the cells in this notebook in order.\n",
    "\n",
    "Note: if you wish to run any Python code as the first cell of any tested notebooks, please edit the file `prerun.py` in this directory. Any not commented-out code there will be injected as the first cell to any notebooks tested by `testnotebooks`."
   ]
  },
  {
   "cell_type": "markdown",
   "metadata": {},
   "source": [
    "## Imports & setup"
   ]
  },
  {
   "cell_type": "code",
   "execution_count": null,
   "metadata": {},
   "outputs": [],
   "source": [
    "from testnotebooks import *"
   ]
  },
  {
   "cell_type": "markdown",
   "metadata": {},
   "source": [
    "## Log in to Data Lab once"
   ]
  },
  {
   "cell_type": "code",
   "execution_count": null,
   "metadata": {},
   "outputs": [],
   "source": [
    "token = login(input('Username: '),getpass('Password: '))"
   ]
  },
  {
   "cell_type": "markdown",
   "metadata": {},
   "source": [
    "## Set up which notebooks to test, and which to exclude from testing"
   ]
  },
  {
   "cell_type": "code",
   "execution_count": null,
   "metadata": {},
   "outputs": [],
   "source": [
    "# List all paths with notebooks to test.\n",
    "# Paths can be single notebooks, directories, or a mix.\n",
    "# If single ipynb or single directory, paths can be a string.\n",
    "# If multiple elements, make it a sequence of strings.\n",
    "#\n",
    "# Examples:\n",
    "#\n",
    "paths = '../01_GettingStartedWithDataLab/'  # test only notebooks in the ../01_GettingStartedWithDataLab/ directory\n",
    "#paths = ('../01_GettingStartedWithDataLab/','../02_DataAccessOverview/')  # test notebooks in these two directories; Note: this is a tuple of paths\n",
    "#paths = ('../01_GettingStartedWithDataLab/02_GettingStartedWithDataLab.ipynb','../02_DataAccessOverview/')  # test one NB in 01... dir, and all NBs in 02... dir\n",
    "#paths = '../' # test all Data Lab notebooks that are not excluded below\n",
    "\n",
    "# List pattern of notebook names, and/or paths, to exclude from testing.\n",
    "# ** means \"any number of intermediate directories\"\n",
    "# * means \"any number of intermediate characters in this directory\"\n",
    "# A few default notebooks are explicitly excluded here, e.g. b/c they have very long run times.\n",
    "#exclude = ('**/*AuthClient.ipynb','**/e-Teen*/**/*ipynb','**/*DataReduction*/**/*ipynb')\n",
    "exclude = ('**/*AuthClient.ipynb','**/e-Teen*/**/*ipynb',\n",
    "           '**/DRAGONS_reduction_examples/GMOS_longslit_WhiteDwarf/GMOS_longslit_WhiteDwarf.ipynb',\n",
    "           '**/DRAGONS_reduction_examples/GSAOI_Imaging_EllipticalGalaxy/GSAOI_Imaging_EllipticalGalaxy.ipynb')"
   ]
  },
  {
   "cell_type": "markdown",
   "metadata": {},
   "source": [
    "## Get list of notebooks to run"
   ]
  },
  {
   "cell_type": "code",
   "execution_count": null,
   "metadata": {},
   "outputs": [],
   "source": [
    "nbs = get_nbs(paths=paths,exclude=exclude)"
   ]
  },
  {
   "cell_type": "markdown",
   "metadata": {},
   "source": [
    "## Run the test suite\n",
    "**This can take a while!**"
   ]
  },
  {
   "cell_type": "code",
   "execution_count": null,
   "metadata": {},
   "outputs": [],
   "source": [
    "testresults = run(nbs)"
   ]
  },
  {
   "cell_type": "markdown",
   "metadata": {},
   "source": [
    "## Summarize the test results"
   ]
  },
  {
   "cell_type": "code",
   "execution_count": null,
   "metadata": {},
   "outputs": [],
   "source": [
    "testresults"
   ]
  }
 ],
 "metadata": {
  "kernelspec": {
   "display_name": "Python 3",
   "language": "python",
   "name": "python3"
  },
  "language_info": {
   "codemirror_mode": {
    "name": "ipython",
    "version": 3
   },
   "file_extension": ".py",
   "mimetype": "text/x-python",
   "name": "python",
   "nbconvert_exporter": "python",
   "pygments_lexer": "ipython3",
   "version": "3.10.13"
  }
 },
 "nbformat": 4,
 "nbformat_minor": 4
}
