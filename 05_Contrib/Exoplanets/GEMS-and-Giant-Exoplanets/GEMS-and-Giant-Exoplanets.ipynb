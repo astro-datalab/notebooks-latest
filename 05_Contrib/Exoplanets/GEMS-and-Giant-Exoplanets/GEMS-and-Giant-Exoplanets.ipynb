{
 "cells": [
  {
   "cell_type": "code",
   "execution_count": 1,
   "metadata": {},
   "outputs": [],
   "source": [
    "__author__ = 'Jane Author <jane.author@noirlab.edu>, John Writer <john.doe@noirlab.edu>' # single string; emails in <>\n",
    "__version__ = '20230728' # yyyymmdd; version datestamp of this notebook\n",
    "__datasets__ = ['']  # datasets used in this notebook\n",
    "__keywords__ = [''] # keywords relevant to this notebook, e.g. ['science case','dwarf galaxies'] Use only keywords from the master list: https://github.com/astro-datalab/notebooks-latest/blob/master/keywords.txt"
   ]
  },
  {
   "cell_type": "markdown",
   "metadata": {},
   "source": [
    "# Short self-describing title of this notebook (e.g. Finding Dwarf Galaxies in DES DR1)\n",
    "\n",
    "*Jane Author, John Writer, & the Astro Data Lab Team*"
   ]
  },
  {
   "cell_type": "markdown",
   "metadata": {},
   "source": [
    "### Table of contents\n",
    "* [Goals & notebook summary](#goals)\n",
    "* [Disclaimer & attribution](#attribution)\n",
    "* [Imports & setup](#import)\n",
    "* [Authentication](#auth)\n",
    "* [First chapter](#chapter1)\n",
    "* [Resources and references](#resources)"
   ]
  },
  {
   "cell_type": "markdown",
   "metadata": {},
   "source": [
    "<a class=\"anchor\" id=\"goals\"></a>\n",
    "# Goals\n",
    "One or two sentences, or a bullet list, of the goals of this notebook. E.g. \"To find dwarf galaxies in DES DR1 images\"."
   ]
  },
  {
   "cell_type": "markdown",
   "metadata": {},
   "source": [
    "# Summary\n",
    "Description of the content of this notebook: we do X, using data Y. The technique used is Z. Also rename the notebook file to something meaningful, e.g. 'TimeSeriesAnalysisRRLyrae_20171011'."
   ]
  },
  {
   "cell_type": "markdown",
   "metadata": {},
   "source": [
    "<a class=\"anchor\" id=\"attribution\"></a>\n",
    "# Disclaimer & attribution\n",
    "If you use this notebook for your published science, please acknowledge the following:\n",
    "\n",
    "* Data Lab concept paper: Fitzpatrick et al., \"The NOAO Data Laboratory: a conceptual overview\", SPIE, 9149, 2014, http://dx.doi.org/10.1117/12.2057445\n",
    "\n",
    "* Data Lab disclaimer: https://datalab.noirlab.edu/disclaimers.php"
   ]
  },
  {
   "cell_type": "markdown",
   "metadata": {},
   "source": [
    "<a class=\"anchor\" id=\"import\"></a>\n",
    "# Imports and setup"
   ]
  },
  {
   "cell_type": "code",
   "execution_count": 2,
   "metadata": {},
   "outputs": [],
   "source": [
    "# std lib\n",
    "from getpass import getpass\n",
    "\n",
    "# 3rd party # remove imports that are not needed\n",
    "import numpy as np\n",
    "import pylab as plt\n",
    "import matplotlib\n",
    "%matplotlib inline\n",
    "\n",
    "# Data Lab\n",
    "from dl import authClient as ac, queryClient as qc, storeClient as sc\n",
    "# Data Lab helpers as needed, e.g.: (uncomment as needed)\n",
    "#from dl.helpers.utils import convert"
   ]
  },
  {
   "cell_type": "markdown",
   "metadata": {},
   "source": [
    "<a class=\"anchor\" id=\"auth\"></a>\n",
    "# Authentication\n",
    "Use this mini-section to authenticate the user, IF the notebook needs authentication (e.g. for saving files to VOSpace). If the notebook does not require authnetication at all, remove this entire subsection."
   ]
  },
  {
   "cell_type": "markdown",
   "metadata": {},
   "source": [
    "Much of the functionality of Data Lab can be accessed without explicitly logging in (the service then uses an anonymous login). But some capacities, for instance saving the results of your queries to your virtual storage space, require a login (i.e. you will need a registered user account).\n",
    "\n",
    "If you need to log in to Data Lab, un-comment the cell below and execute it:"
   ]
  },
  {
   "cell_type": "code",
   "execution_count": 3,
   "metadata": {},
   "outputs": [
    {
     "data": {
      "text/plain": [
       "'demo00'"
      ]
     },
     "execution_count": 3,
     "metadata": {},
     "output_type": "execute_result"
    }
   ],
   "source": [
    "#token = ac.login(input(\"Enter user name: (+ENTER) \"),getpass(\"Enter password: (+ENTER) \"))\n",
    "ac.whoAmI()"
   ]
  },
  {
   "cell_type": "markdown",
   "metadata": {},
   "source": [
    "# Available datasets in Data Lab\n",
    "This is a way to find out about available datasets. Use it only internally, and the list the datasets used in the ``__datasets__`` list in the very first cell of the notebook. Remove then this subsection from the notebook."
   ]
  },
  {
   "cell_type": "code",
   "execution_count": 4,
   "metadata": {},
   "outputs": [
    {
     "name": "stdout",
     "output_type": "stream",
     "text": [
      "Datasets available in Data Lab (with current profile):\n",
      " ['allwise', 'buzzard_dr1', 'catwise2020', 'dad_dr1', 'dad_dr2', 'dbms_pipe', 'decaps_dr1', 'decaps_dr2', 'delve_dr1', 'delve_dr2', 'des_dr1', 'des_dr2', 'des_sva1', 'desi_edr', 'dltest', 'gaia_dr1', 'gaia_dr2', 'gaia_dr3', 'gaia_edr3', 'gnirs_dqs', 'gogreen_dr1', 'hipparcos', 'hipparcos2', 'ivoa_calibrated', 'ivoa_coadd', 'ivoa_decaps_dr1', 'ivoa_des_dr1', 'ivoa_des_dr2', 'ivoa_des_dr2_se', 'ivoa_des_sva1', 'ivoa_des_y1', 'ivoa_des_y2', 'ivoa_des_y3', 'ivoa_des_y4', 'ivoa_gogreen_dr1', 'ivoa_ls_dr3', 'ivoa_ls_dr4', 'ivoa_ls_dr5', 'ivoa_ls_dr6', 'ivoa_ls_dr7', 'ivoa_ls_dr8', 'ivoa_ls_dr9', 'ivoa_nsa', 'ivoa_nsc_dr2', 'ivoa_raw', 'ivoa_sdss_dr9', 'ivoa_smash_dr1', 'ivoa_smash_dr2', 'ivoa_splus_dr1', 'ivoa_splus_edr', 'ivoa_stripe82', 'ls_dr10', 'ls_dr3', 'ls_dr4', 'ls_dr5', 'ls_dr6', 'ls_dr7', 'ls_dr8', 'ls_dr9', 'ls_dr9sv', 'lsst_sim', 'nsc_dr1', 'nsc_dr2', 'phat_v2', 'sdss_dr12', 'sdss_dr13', 'sdss_dr14', 'sdss_dr16', 'sdss_dr17', 'sga2020', 'skymapper_dr1', 'skymapper_dr2', 'smash_dr1', 'smash_dr2', 'sparcl', 'splus_dr1', 'splus_dr2', 'splus_edr', 'stripe82', 'twomass', 'tycho2', 'ukidss_dr11plus', 'unwise_dr1', 'usno', 'vhs_dr5']\n"
     ]
    }
   ],
   "source": [
    "# these schemas are not astronomical datasets\n",
    "_remove = set(['ivao','ivao_smash','tap_schema','schema'])\n",
    "\n",
    "# get all schemas from DB\n",
    "_schemas = set(qc.query(sql='SELECT schema FROM tbl_stat').split())\n",
    "\n",
    "# remove non-astro schemas\n",
    "_alldatasets = sorted(list(_schemas - _remove))\n",
    "print(\"Datasets available in Data Lab (with current profile):\\n\", _alldatasets)\n",
    "\n",
    "# TODO: Enter used datasets by hand in the list __datasets__ in the very first cell above"
   ]
  },
  {
   "cell_type": "markdown",
   "metadata": {},
   "source": [
    "<a class=\"anchor\" id=\"chapter1\"></a>\n",
    "# Chapter 1 - your content below..."
   ]
  },
  {
   "cell_type": "code",
   "execution_count": 5,
   "metadata": {},
   "outputs": [
    {
     "name": "stdout",
     "output_type": "stream",
     "text": [
      "5\n"
     ]
    }
   ],
   "source": [
    "a = 2+3\n",
    "print(a)"
   ]
  },
  {
   "cell_type": "markdown",
   "metadata": {},
   "source": [
    "<a class=\"anchor\" id=\"resources\"></a>\n",
    "# Resources and references\n",
    "Add some resources and \"further reading\" links relevant to this notebook.\n",
    "\n",
    "Lomb, N.R. (1976) \"Least-squares frequency analysis of unequally spaced data\". Astrophysics and Space Science. 39 (2): 447–462: http://adsabs.harvard.edu/abs/1976Ap%26SS..39..447L\n",
    "\n",
    "Scargle, J. D. (1982) \"Studies in astronomical time series analysis. II - Statistical aspects of spectral analysis of unevenly spaced data\". Astrophysical Journal. 263, 835: http://adsabs.harvard.edu/doi/10.1086/160554\n",
    "\n",
    "Lomb-Scargle periodograms in `astropy`: http://docs.astropy.org/en/stable/stats/lombscargle.html"
   ]
  }
 ],
 "metadata": {
  "kernelspec": {
   "display_name": "Python 3",
   "language": "python",
   "name": "python3"
  },
  "language_info": {
   "codemirror_mode": {
    "name": "ipython",
    "version": 3
   },
   "file_extension": ".py",
   "mimetype": "text/x-python",
   "name": "python",
   "nbconvert_exporter": "python",
   "pygments_lexer": "ipython3",
   "version": "3.8.8"
  }
 },
 "nbformat": 4,
 "nbformat_minor": 4
}
