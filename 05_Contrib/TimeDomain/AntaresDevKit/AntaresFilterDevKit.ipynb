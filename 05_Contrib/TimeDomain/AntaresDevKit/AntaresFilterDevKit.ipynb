{
 "cells": [
  {
   "cell_type": "code",
   "execution_count": 1,
   "metadata": {
    "execution": {
     "iopub.execute_input": "2024-06-01T17:38:50.236027Z",
     "iopub.status.busy": "2024-06-01T17:38:50.235684Z",
     "iopub.status.idle": "2024-06-01T17:38:50.242233Z",
     "shell.execute_reply": "2024-06-01T17:38:50.241772Z",
     "shell.execute_reply.started": "2024-06-01T17:38:50.236001Z"
    }
   },
   "outputs": [],
   "source": [
    "__nbid__ = '0063'\n",
    "__author__ = 'Carl Stubens, Sebastián Vicencio'\n",
    "__edited__ = 'Gautham Narayan, Chien-Hsiu Lee, ANTARES Team <antares@noirlab.edu>'\n",
    "__version__ = '20240601' # yyyymmdd\n",
    "__datasets__ = ['']\n",
    "__keywords__ = ['ANTARES', 'transient']"
   ]
  },
  {
   "cell_type": "markdown",
   "metadata": {},
   "source": [
    "# ANTARES Filter Development Kit\n",
    "\n",
    "_Carl Stubens, Gautham Narayan, Chien-Hsiu Lee, Sebastián Vicencio, ANTARES Team._\n",
    "\n",
    "_Many thanks to Mike Fitzpatrick, Adam Scott, Knut Olsen, Jennifer Andrews, Robert Nikutta, Alice Jacques._\n",
    "\n",
    "## Summary\n",
    "\n",
    "This notebook demonstrates how to write filters for [ANTARES](https://antares.noirlab.edu) and test them against a sample of real data from [ZTF](https://ztf.caltech.edu/).\n",
    "\n",
    "This notebook is intended to be used in Astro Data Lab's Jupyter environment. There, you will have access to ANTARES data. If you're not running in Data Lab, [sign up for Data Lab](https://datalab.noirlab.edu), then [log in to the notebook server](https://datalab.noirlab.edu/devbooks).\n",
    "\n",
    "For new Data Lab accounts, this notebook will be automatically included in your `notebooks/` directory. Otherwise, you can save this `.ipynb` notebook file locally, and then upload it to your Data Lab Jupyter notebook server (use the 'Upload' button in the upper left corner).\n",
    "\n",
    "In Data Lab, you MUST use the Kernel version \"Python 3 (ANTARES)\".\n",
    "\n",
    "## Goals\n",
    "\n",
    "To demonstrate:\n",
    "\n",
    "1. How to write filters using the ANTARES filter API.\n",
    "1. How to test filters against a small test dataset.\n",
    "\n",
    "\n",
    "<a class=\"anchor\" id=\"attribution\"></a>\n",
    "## Disclaimer & attribution\n",
    "\n",
    "Disclaimers\n",
    "-----------\n",
    "Note that using the Astro Data Lab constitutes your agreement with our minimal [Disclaimers](https://datalab.noirlab.edu/disclaimers.php).\n",
    "\n",
    "Acknowledgments\n",
    "---------------\n",
    "If you use **Astro Data Lab** in your published research, please include the text in your paper's Acknowledgments section:\n",
    "\n",
    "_This research uses services or data provided by the Astro Data Lab, which is part of the Community Science and Data Center (CSDC) Program of NSF NOIRLab. NOIRLab is operated by the Association of Universities for Research in Astronomy (AURA), Inc. under a cooperative agreement with the U.S. National Science Foundation._\n",
    "\n",
    "If you use **SPARCL jointly with the Astro Data Lab platform** (via JupyterLab, command-line, or web interface) in your published research, please include this text below in your paper's Acknowledgments section:\n",
    "\n",
    "_This research uses services or data provided by the SPectra Analysis and Retrievable Catalog Lab (SPARCL) and the Astro Data Lab, which are both part of the Community Science and Data Center (CSDC) Program of NSF NOIRLab. NOIRLab is operated by the Association of Universities for Research in Astronomy (AURA), Inc. under a cooperative agreement with the U.S. National Science Foundation._\n",
    "\n",
    "In either case **please cite the following papers**:\n",
    "\n",
    "* Data Lab concept paper: Fitzpatrick et al., \"The NOAO Data Laboratory: a conceptual overview\", SPIE, 9149, 2014, https://doi.org/10.1117/12.2057445\n",
    "\n",
    "* Astro Data Lab overview: Nikutta et al., \"Data Lab - A Community Science Platform\", Astronomy and Computing, 33, 2020, https://doi.org/10.1016/j.ascom.2020.100411\n",
    "\n",
    "If you are referring to the Data Lab JupyterLab / Jupyter Notebooks, cite:\n",
    "\n",
    "* Juneau et al., \"Jupyter-Enabled Astrophysical Analysis Using Data-Proximate Computing Platforms\", CiSE, 23, 15, 2021, https://doi.org/10.1109/MCSE.2021.3057097\n",
    "\n",
    "If publishing in a AAS journal, also add the keyword: `\\facility{Astro Data Lab}`\n",
    "\n",
    "And if you are using SPARCL, please also add `\\software{SPARCL}` and cite:\n",
    "\n",
    "* Juneau et al., \"SPARCL: SPectra Analysis and Retrievable Catalog Lab\", Conference Proceedings for ADASS XXXIII, 2024\n",
    "https://doi.org/10.48550/arXiv.2401.05576\n",
    "\n",
    "The NOIRLab Library maintains [lists of proper acknowledgments](https://noirlab.edu/science/about/scientific-acknowledgments) to use when publishing papers using the Lab's facilities, data, or services.\n",
    "\n",
    "\n",
    "## Table of Contents\n",
    "\n",
    "* [0. Background information on ANTARES](#background)\n",
    "* [1. Initialize the dev kit](#connect)\n",
    "* [2. Write a filter](#write)\n",
    " * [2.1 Hello world](#write-one)\n",
    " * [2.2 Example of a real filter](#write-two)\n",
    " * [2.3 Structure of a filter](#write-three)\n",
    "* [3. Test a filter](#test)\n",
    " * [3.1 Constructing locus objects](#test-one)\n",
    "* [4. Upload and use data files](#data)\n",
    " * [4.1 Uploading files into ANTARES](#data-one)\n",
    " * [4.2 Accessing files from filters](#data-two)\n",
    " * [4.3 Requesting files copy](#data-three)\n",
    "* [5. Submit filter to ANTARES](#submit)\n",
    "\n",
    "<a class=\"anchor\" id=\"background\"></a>\n",
    "## 0. Background information on ANTARES\n",
    "\n",
    "ANTARES receives alerts from surveys in real-time and sends them through a processing pipeline. The pipeline contains the following stages:\n",
    "\n",
    "1. Associate the alert with the nearest point of known past measurements within a 1\" radius. We call this a locus.\n",
    "2. Discard alerts with a high probability of being false detections.\n",
    "3. Discard alerts with poor image quality.\n",
    "4. Look up associated objects in our catalogs.\n",
    "5. If the alert's locus has two or more measurements on it, execute the filters.\n",
    "\n",
    "The filters are Python functions which take a `LocusData` object as a single parameter. Functions on the `LocusData` provide access to the alert's properties, the data from past alerts on the locus, and the associated catalog objects. The `LocusData` also provides functions to set new properties on the alert, and to send it to output streams.\n",
    "\n",
    "<a class=\"anchor\" id=\"connect\"></a>\n",
    "## 1. Initialize the dev kit\n",
    "\n",
    "This will configure the `antares` package to connect to the test database"
   ]
  },
  {
   "cell_type": "code",
   "execution_count": 2,
   "metadata": {
    "execution": {
     "iopub.execute_input": "2024-06-01T17:38:50.243283Z",
     "iopub.status.busy": "2024-06-01T17:38:50.243018Z",
     "iopub.status.idle": "2024-06-01T17:38:56.885418Z",
     "shell.execute_reply": "2024-06-01T17:38:56.884441Z",
     "shell.execute_reply.started": "2024-06-01T17:38:50.243271Z"
    },
    "tags": []
   },
   "outputs": [
    {
     "name": "stdout",
     "output_type": "stream",
     "text": [
      "Loading ANTARES from /data0/sw/antares-kernel/lib/python3.9/site-packages/antares/__init__.py\n",
      "\n",
      "        _    _   _ _____  _    ____  _____ ____\n",
      "       / \\  | \\ | |_   _|/ \\  |  _ \\| ____/ ___|\n",
      "      / _ \\ |  \\| | | | / _ \\ | |_| |  _| \\___ \\\\\n",
      "     / ___ \\| |\\  | | |/ ___ \\|  _ /| |___ ___| |\n",
      "    /_/   \\_\\_| \\_| |_/_/   \\_\\_| \\_\\_____|____/   v2.11.0\n",
      "    \n",
      "2024-06-01 10:38:51,491 - WARNING MainThread settings.py:setup_prometheus:124 - Prometheus failed to start with [Errno 98] Address already in use\n"
     ]
    },
    {
     "name": "stderr",
     "output_type": "stream",
     "text": [
      "Jaeger tracer already initialized, skipping\n"
     ]
    },
    {
     "name": "stdout",
     "output_type": "stream",
     "text": [
      "Testing loading a random Locus with `dk.get_locus()`...\n",
      "\n",
      "ANTARES v2.11.0 DevKit is ready!\n",
      "Website: https://antares.noirlab.edu\n",
      "Documentation: https://nsf-noirlab.gitlab.io/csdc/antares/antares/\n",
      "\n"
     ]
    }
   ],
   "source": [
    "# Imports\n",
    "import antares.devkit as dk\n",
    "dk.init()\n",
    "# You should see a happy message that says that \"ANTARES DevKit is ready!\""
   ]
  },
  {
   "cell_type": "markdown",
   "metadata": {},
   "source": [
    "<a class=\"anchor\" id=\"write\"></a>\n",
    "## 2. Write a filter\n",
    "\n",
    "<a class=\"anchor\" id=\"write-one\"></a>\n",
    "### 2.1 Hello world\n",
    "\n",
    "Let’s make a simple `HelloWorld` filter which tags all loci `hello_world`:\n"
   ]
  },
  {
   "cell_type": "code",
   "execution_count": 3,
   "metadata": {
    "execution": {
     "iopub.execute_input": "2024-06-01T17:38:56.886680Z",
     "iopub.status.busy": "2024-06-01T17:38:56.886507Z",
     "iopub.status.idle": "2024-06-01T17:38:56.890938Z",
     "shell.execute_reply": "2024-06-01T17:38:56.890245Z",
     "shell.execute_reply.started": "2024-06-01T17:38:56.886664Z"
    }
   },
   "outputs": [],
   "source": [
    "class HelloWorld(dk.Filter):\n",
    "    OUTPUT_TAGS = [\n",
    "        {\n",
    "            'name': 'hello_world',\n",
    "            'description': 'hello!',\n",
    "        },\n",
    "    ]\n",
    "\n",
    "    def run(self, locus):\n",
    "        print('Hello Locus', locus.locus_id)\n",
    "        locus.tag('hello_world')"
   ]
  },
  {
   "cell_type": "markdown",
   "metadata": {},
   "source": [
    "Let’s run the filter on a randomly chosen real locus from the database:"
   ]
  },
  {
   "cell_type": "code",
   "execution_count": 4,
   "metadata": {
    "execution": {
     "iopub.execute_input": "2024-06-01T17:38:56.892456Z",
     "iopub.status.busy": "2024-06-01T17:38:56.892312Z",
     "iopub.status.idle": "2024-06-01T17:39:00.565509Z",
     "shell.execute_reply": "2024-06-01T17:39:00.564658Z",
     "shell.execute_reply.started": "2024-06-01T17:38:56.892445Z"
    }
   },
   "outputs": [
    {
     "name": "stdout",
     "output_type": "stream",
     "text": [
      "Hello Locus ANT2020hwxa\n",
      "{'locus_id': 'ANT2020hwxa', 'locus_data': FilterContext(locus_id=\"ANT2020hwxa\"), 't': 7.525999999913324e-05, 'new_locus_properties': {}, 'new_alert_properties': {}, 'new_tags': {'hello_world'}, 'raised_halt': False}\n"
     ]
    },
    {
     "name": "stderr",
     "output_type": "stream",
     "text": [
      "/data0/sw/antares-kernel/lib/python3.9/site-packages/pandas/core/arraylike.py:399: RuntimeWarning: invalid value encountered in log10\n",
      "  result = getattr(ufunc, method)(*inputs, **kwargs)\n"
     ]
    }
   ],
   "source": [
    "# Fetch 1 random Locus ID from the test dataset\n",
    "locus_id = dk.get_locus_ids(1)[0]\n",
    "\n",
    "# Execute HelloWorld filter on the locus\n",
    "report = dk.run_filter(HelloWorld, locus=locus_id)\n",
    "\n",
    "# `run_filter()` returns a report of what the filter did. Take a look at it:\n",
    "print(report)"
   ]
  },
  {
   "cell_type": "markdown",
   "metadata": {},
   "source": [
    "<a class=\"anchor\" id=\"write-two\"></a>\n",
    "### 2.2 Example of a real filter\n",
    "\n",
    "As an example, here’s a version of the “High SNR” filter which is one of the defaults included in ANTARES. It tags loci which have at least one alert with a high signal-noise ratio:"
   ]
  },
  {
   "cell_type": "code",
   "execution_count": 5,
   "metadata": {
    "execution": {
     "iopub.execute_input": "2024-06-01T17:39:00.566714Z",
     "iopub.status.busy": "2024-06-01T17:39:00.566540Z",
     "iopub.status.idle": "2024-06-01T17:39:00.572724Z",
     "shell.execute_reply": "2024-06-01T17:39:00.572066Z",
     "shell.execute_reply.started": "2024-06-01T17:39:00.566699Z"
    }
   },
   "outputs": [],
   "source": [
    "class HighSNR(dk.Filter):\n",
    "    NAME = \"High SNR\"\n",
    "    ERROR_SLACK_CHANNEL = \"\"  # Put your Slack user ID here\n",
    "    REQUIRED_LOCUS_PROPERTIES = [\n",
    "        'ztf_object_id',\n",
    "    ]\n",
    "    REQUIRED_ALERT_PROPERTIES = [\n",
    "        'passband',\n",
    "        'ztf_sigmapsf',\n",
    "    ]\n",
    "    OUTPUT_LOCUS_PROPERTIES = []\n",
    "    OUTPUT_ALERT_PROPERTIES = []\n",
    "    OUTPUT_TAGS = [\n",
    "        {\n",
    "            'name': 'high_snr',\n",
    "            'description': 'Locus has one or more Alerts with high SNR.',\n",
    "        },\n",
    "    ]\n",
    "\n",
    "    def run(self, locus):\n",
    "        \"\"\"\n",
    "        If this Alert has a high SNR, then tag the Locus \"high_snr\".\n",
    "        \"\"\"\n",
    "        # The threshold is dependent on the band that is being imaged.\n",
    "        # These thresholds should flag ~2-3% of alerts.\n",
    "        snr_threshold = {\n",
    "            'g': 50.0,\n",
    "            'R': 55.0,\n",
    "        }\n",
    "        passband = locus.alert.properties['ant_passband']\n",
    "        if passband not in snr_threshold:\n",
    "            print(f'passband {passband} is not supported by this filter.')\n",
    "            return  # Do nothing.\n",
    "        threshold = snr_threshold[passband]\n",
    "        sigmapsf = locus.alert.properties['ztf_sigmapsf']  # Get the ZTF Alert property \"sigmapsf\"\n",
    "        alert_snr = 1.0 / sigmapsf\n",
    "        alert_id = locus.alert.alert_id  # Get the ANTARES alert_id\n",
    "        ztf_object_id = locus.properties['ztf_object_id']  # Get the ZTF Object ID\n",
    "        print(f'Alert {alert_id}')\n",
    "        print(f'Object {ztf_object_id}')\n",
    "        print(f'snr = {alert_snr}')\n",
    "        if alert_snr > threshold:\n",
    "            print('High SNR detected')\n",
    "            locus.tag('high_snr')"
   ]
  },
  {
   "cell_type": "markdown",
   "metadata": {},
   "source": [
    "<a class=\"anchor\" id=\"write-three\"></a>\n",
    "### 2.3 Structure of a filter\n",
    "\n",
    "\n",
    "The filter `MyFilter` below does nothing of scientific interest, but it demonstrates the most basic use of the filter API.\n",
    "\n",
    "The filter API consists of the `Locus` Object, which is passed to the `Filter` as the single parameter. The `MyFilter` shows examples of how to use the locus data. For detailed information on the `Locus` Object, please visit ANTARES documentation at https://nsf-noirlab.gitlab.io/csdc/antares/antares/devkit/locus.html"
   ]
  },
  {
   "cell_type": "markdown",
   "metadata": {},
   "source": [
    "```python\n",
    "class MyFilter(dk.Filter):\n",
    "\n",
    "    # Required.\n",
    "    #\n",
    "    # This allows you to receive error logs through Slack.\n",
    "    # See footnotes below for more details.\n",
    "    ERROR_SLACK_CHANNEL = '<my_slack_member_id>'\n",
    "\n",
    "    # Optional.\n",
    "    #\n",
    "    # List of Locus properties which the Filter depends on.\n",
    "    # If an incoming Alert's Locus does not have all properties listed here,\n",
    "    # then the Filter will not run on it.\n",
    "    REQUIRED_LOCUS_PROPERTIES = [\n",
    "        # eg:\n",
    "        'ztf_object_id',\n",
    "        # etc.\n",
    "    ]\n",
    "\n",
    "    # Optional.\n",
    "    #\n",
    "    # List of Alert properties which the Filter depends on.\n",
    "    # If an incoming Alert does not have all properties listed here, then\n",
    "    # the Filter will not run on it.\n",
    "    REQUIRED_ALERT_PROPERTIES = [\n",
    "        # eg:\n",
    "        'passband',\n",
    "        'mag',\n",
    "        'ztf_magpsf',\n",
    "        # etc.\n",
    "    ]\n",
    "\n",
    "    # Optional.\n",
    "    #\n",
    "    # List of Tag names which the Filter depends on.\n",
    "    # If an incoming Alert's Locus does not have all Tags listed here, then\n",
    "    # the Filter will not run on it.\n",
    "    REQUIRED_TAGS = [\n",
    "        # eg:\n",
    "        'high_snr',\n",
    "        # etc.\n",
    "    ]\n",
    "\n",
    "    # Required.\n",
    "    #\n",
    "    # A list of all Alert properties which the filter may set.\n",
    "    # If your filter doesn't set properties, then value should be an\n",
    "    # empty list.\n",
    "    # 'name' must be formatted like '<author>_<property_name>'.\n",
    "    # 'type' must be one of the strings: 'int', 'float', or 'str'.\n",
    "    # 'description' should briefly describe what the property means.\n",
    "    OUTPUT_LOCUS_PROPERTIES = [\n",
    "        # eg:\n",
    "        {\n",
    "            'name': 'stubens_interest_score',\n",
    "            'type': 'float',\n",
    "            'description': 'interestingness of the alert by algorithm XYZ',\n",
    "        },\n",
    "        {\n",
    "            'name': 'stubens_object_class',\n",
    "            'type': 'str',\n",
    "            'description': 'probable class of object by algorithm ABC',\n",
    "        },\n",
    "        # etc.\n",
    "    ]\n",
    "\n",
    "    # Required.\n",
    "    #\n",
    "    # A list of all Alert properties which the filter may set.\n",
    "    # If your filter doesn't set properties, then value should be an\n",
    "    # empty list.\n",
    "    # 'name' must be formatted like '<author>_<property_name>'.\n",
    "    # 'type' must be one of the strings: 'int', 'float', or 'str'.\n",
    "    # 'description' should briefly describe what the property means.\n",
    "    OUTPUT_ALERT_PROPERTIES = [\n",
    "        # eg:\n",
    "        {\n",
    "            'name': 'stubens_g_minus_r',\n",
    "            'type': 'float',\n",
    "            'description': 'estimated g-minus-r magnitude',\n",
    "        },\n",
    "        # etc.\n",
    "    ]\n",
    "\n",
    "    # Required.\n",
    "    #\n",
    "    # A list tags names which this Filter may produce.\n",
    "    # If your filter does't tag Loci, then this list should be empty.\n",
    "    # 'name' must be formatted like '<author>_<property_name>'.\n",
    "    # 'description' should briefly describe what the tag means.\n",
    "    OUTPUT_TAGS = [\n",
    "        # eg:\n",
    "        {\n",
    "            'name': 'stubens_transients',\n",
    "            'description': 'Probable transient according to method PQE'\n",
    "        },\n",
    "        # etc.\n",
    "    ]\n",
    "\n",
    "    # Optional.\n",
    "    #\n",
    "    # If your filter requires access to data files, they must be declared here.\n",
    "    # See footnotes below for more details on how to work with data files.\n",
    "    REQUIRES_FILES = [\n",
    "        # eg:\n",
    "        'soraisam_myFile.txt',\n",
    "        'soraisam_myOtherFile.bin',\n",
    "        # etc.\n",
    "    ]\n",
    "\n",
    "    # Optional.\n",
    "    #\n",
    "    # This function is called once per night when ANTARES reboots and\n",
    "    # filters are instantiated. If your filter needs to do any work to prepare\n",
    "    # itself to run, that logic should go here.\n",
    "    # Examples:\n",
    "    #  - Loading data from files\n",
    "    #  - Constructing datastructures\n",
    "    #  - Instantiating machine-learning model objects\n",
    "    def setup(self):\n",
    "        ...\n",
    "\n",
    "    # Required.\n",
    "    #\n",
    "    # This is the function which is called to process an Alert.\n",
    "    # All setup work should have been done in `setup()` in order to make this\n",
    "    # function run as efficiently as possible.\n",
    "    # See footnotes below for description of the `locus` object.\n",
    "    def run(self, locus):\n",
    "        ...\n",
    "```"
   ]
  },
  {
   "cell_type": "markdown",
   "metadata": {},
   "source": [
    "<a class=\"anchor\" id=\"test\"></a>\n",
    "## 3. Test a filter\n",
    "\n",
    "\n",
    "Let’s run the simple `HelloWorld` filter defined in section [2.1 Hello world](#write-one).\n",
    "\n",
    "We can use `run_filter()` to run the filter on a randomly chosen real `Locus` from the database. We can also ask the filter to run a specific locus by giving a locus ID:"
   ]
  },
  {
   "cell_type": "code",
   "execution_count": 6,
   "metadata": {
    "execution": {
     "iopub.execute_input": "2024-06-01T17:39:00.573831Z",
     "iopub.status.busy": "2024-06-01T17:39:00.573521Z",
     "iopub.status.idle": "2024-06-01T17:39:04.846210Z",
     "shell.execute_reply": "2024-06-01T17:39:04.845028Z",
     "shell.execute_reply.started": "2024-06-01T17:39:00.573816Z"
    }
   },
   "outputs": [
    {
     "name": "stderr",
     "output_type": "stream",
     "text": [
      "/data0/sw/antares-kernel/lib/python3.9/site-packages/pandas/core/arraylike.py:399: RuntimeWarning: invalid value encountered in log10\n",
      "  result = getattr(ufunc, method)(*inputs, **kwargs)\n"
     ]
    },
    {
     "name": "stdout",
     "output_type": "stream",
     "text": [
      "Hello Locus ANT2020hwxa\n",
      "{'locus_id': 'ANT2020hwxa', 'locus_data': FilterContext(locus_id=\"ANT2020hwxa\"), 't': 8.110999999999535e-05, 'new_locus_properties': {}, 'new_alert_properties': {}, 'new_tags': {'hello_world'}, 'raised_halt': False}\n",
      "Hello Locus ANT2020hcm7s\n",
      "{'locus_id': 'ANT2020hcm7s', 'locus_data': FilterContext(locus_id=\"ANT2020hcm7s\"), 't': 7.251000000074725e-05, 'new_locus_properties': {}, 'new_alert_properties': {}, 'new_tags': {'hello_world'}, 'raised_halt': False}\n"
     ]
    }
   ],
   "source": [
    "# Execute HelloWorld filter on a random locus\n",
    "report = dk.run_filter(HelloWorld)\n",
    "\n",
    "# `run_filter()` returns a report of what the filter did. Take a look at it:\n",
    "print(report)\n",
    "\n",
    "\n",
    "# Execute HelloWorld filter on a specified locus\n",
    "locus_id = 'ANT2020hcm7s'\n",
    "report = dk.run_filter(HelloWorld, locus=locus_id)\n",
    "\n",
    "# `run_filter()` returns a report of what the filter did. Take a look at it:\n",
    "print(report)"
   ]
  },
  {
   "cell_type": "markdown",
   "metadata": {},
   "source": [
    "For testing purposes, we recommend to run the filter on multiple loci using `run_many()`:\n"
   ]
  },
  {
   "cell_type": "code",
   "execution_count": 7,
   "metadata": {
    "execution": {
     "iopub.execute_input": "2024-06-01T17:39:04.848116Z",
     "iopub.status.busy": "2024-06-01T17:39:04.847942Z",
     "iopub.status.idle": "2024-06-01T17:39:19.199233Z",
     "shell.execute_reply": "2024-06-01T17:39:19.198358Z",
     "shell.execute_reply.started": "2024-06-01T17:39:04.848097Z"
    },
    "scrolled": true,
    "tags": []
   },
   "outputs": [
    {
     "name": "stderr",
     "output_type": "stream",
     "text": [
      "/data0/sw/antares-kernel/lib/python3.9/site-packages/pandas/core/arraylike.py:399: RuntimeWarning: invalid value encountered in log10\n",
      "  result = getattr(ufunc, method)(*inputs, **kwargs)\n"
     ]
    },
    {
     "name": "stdout",
     "output_type": "stream",
     "text": [
      "Hello Locus ANT2020hwxa\n"
     ]
    },
    {
     "name": "stderr",
     "output_type": "stream",
     "text": [
      "/data0/sw/antares-kernel/lib/python3.9/site-packages/pandas/core/arraylike.py:399: RuntimeWarning: invalid value encountered in log10\n",
      "  result = getattr(ufunc, method)(*inputs, **kwargs)\n"
     ]
    },
    {
     "name": "stdout",
     "output_type": "stream",
     "text": [
      "Hello Locus ANT2020aeh5y\n"
     ]
    },
    {
     "name": "stderr",
     "output_type": "stream",
     "text": [
      "/data0/sw/antares-kernel/lib/python3.9/site-packages/pandas/core/arraylike.py:399: RuntimeWarning: invalid value encountered in log10\n",
      "  result = getattr(ufunc, method)(*inputs, **kwargs)\n"
     ]
    },
    {
     "name": "stdout",
     "output_type": "stream",
     "text": [
      "Hello Locus ANT2021j33gq\n"
     ]
    },
    {
     "name": "stderr",
     "output_type": "stream",
     "text": [
      "/data0/sw/antares-kernel/lib/python3.9/site-packages/pandas/core/arraylike.py:399: RuntimeWarning: invalid value encountered in log10\n",
      "  result = getattr(ufunc, method)(*inputs, **kwargs)\n"
     ]
    },
    {
     "name": "stdout",
     "output_type": "stream",
     "text": [
      "Hello Locus ANT2020nywq\n",
      "Hello Locus ANT2024ca1o11v66al9\n",
      "Hello Locus ANT2023bynq4t663xbp\n"
     ]
    },
    {
     "name": "stderr",
     "output_type": "stream",
     "text": [
      "/data0/sw/antares-kernel/lib/python3.9/site-packages/pandas/core/arraylike.py:399: RuntimeWarning: invalid value encountered in log10\n",
      "  result = getattr(ufunc, method)(*inputs, **kwargs)\n"
     ]
    },
    {
     "name": "stdout",
     "output_type": "stream",
     "text": [
      "Hello Locus ANT2020gs3q\n",
      "Hello Locus ANT2021fadmw\n"
     ]
    },
    {
     "name": "stderr",
     "output_type": "stream",
     "text": [
      "/data0/sw/antares-kernel/lib/python3.9/site-packages/pandas/core/arraylike.py:399: RuntimeWarning: invalid value encountered in log10\n",
      "  result = getattr(ufunc, method)(*inputs, **kwargs)\n"
     ]
    },
    {
     "name": "stdout",
     "output_type": "stream",
     "text": [
      "Hello Locus ANT2022cbz4qhsr5ayq\n",
      "Hello Locus ANT2020j6cty\n",
      "{'n': 10, 'results': [{'locus_id': 'ANT2020hwxa', 'locus_data': FilterContext(locus_id=\"ANT2020hwxa\"), 't': 6.059000000036008e-05, 'new_locus_properties': {}, 'new_alert_properties': {}, 'new_tags': {'hello_world'}, 'raised_halt': False}, {'locus_id': 'ANT2020aeh5y', 'locus_data': FilterContext(locus_id=\"ANT2020aeh5y\"), 't': 6.427000000108762e-05, 'new_locus_properties': {}, 'new_alert_properties': {}, 'new_tags': {'hello_world'}, 'raised_halt': False}, {'locus_id': 'ANT2021j33gq', 'locus_data': FilterContext(locus_id=\"ANT2021j33gq\"), 't': 5.53100000004747e-05, 'new_locus_properties': {}, 'new_alert_properties': {}, 'new_tags': {'hello_world'}, 'raised_halt': False}, {'locus_id': 'ANT2020nywq', 'locus_data': FilterContext(locus_id=\"ANT2020nywq\"), 't': 8.371000000018114e-05, 'new_locus_properties': {}, 'new_alert_properties': {}, 'new_tags': {'hello_world'}, 'raised_halt': False}, {'locus_id': 'ANT2024ca1o11v66al9', 'locus_data': FilterContext(locus_id=\"ANT2024ca1o11v66al9\"), 't': 8.20099999998547e-05, 'new_locus_properties': {}, 'new_alert_properties': {}, 'new_tags': {'hello_world'}, 'raised_halt': False}, {'locus_id': 'ANT2023bynq4t663xbp', 'locus_data': FilterContext(locus_id=\"ANT2023bynq4t663xbp\"), 't': 0.00013588000000019917, 'new_locus_properties': {}, 'new_alert_properties': {}, 'new_tags': {'hello_world'}, 'raised_halt': False}, {'locus_id': 'ANT2020gs3q', 'locus_data': FilterContext(locus_id=\"ANT2020gs3q\"), 't': 6.941000000004749e-05, 'new_locus_properties': {}, 'new_alert_properties': {}, 'new_tags': {'hello_world'}, 'raised_halt': False}, {'locus_id': 'ANT2021fadmw', 'locus_data': FilterContext(locus_id=\"ANT2021fadmw\"), 't': 8.352999999949873e-05, 'new_locus_properties': {}, 'new_alert_properties': {}, 'new_tags': {'hello_world'}, 'raised_halt': False}, {'locus_id': 'ANT2022cbz4qhsr5ayq', 'locus_data': FilterContext(locus_id=\"ANT2022cbz4qhsr5ayq\"), 't': 4.7190000000085774e-05, 'new_locus_properties': {}, 'new_alert_properties': {}, 'new_tags': {'hello_world'}, 'raised_halt': False}, {'locus_id': 'ANT2020j6cty', 'locus_data': FilterContext(locus_id=\"ANT2020j6cty\"), 't': 5.379000000083067e-05, 'new_locus_properties': {}, 'new_alert_properties': {}, 'new_tags': {'hello_world'}, 'raised_halt': False}], 't_50_percentile': 6.684000000056756e-05, 't_90_percentile': 8.892700000018293e-05, 't_95_percentile': 0.000112403500000191, 't_99_percentile': 0.00013118470000019755}\n"
     ]
    },
    {
     "name": "stderr",
     "output_type": "stream",
     "text": [
      "/data0/sw/antares-kernel/lib/python3.9/site-packages/pandas/core/arraylike.py:399: RuntimeWarning: invalid value encountered in log10\n",
      "  result = getattr(ufunc, method)(*inputs, **kwargs)\n"
     ]
    }
   ],
   "source": [
    "# Execute HelloWorld filter on 10 random loci\n",
    "report = dk.run_many(HelloWorld, n=10)\n",
    "\n",
    "# `run_many()` returns a report of what the filter did. Take a look at it:\n",
    "print(report)"
   ]
  },
  {
   "cell_type": "markdown",
   "metadata": {},
   "source": [
    "<a class=\"anchor\" id=\"test-one\"></a>\n",
    "### 3.1 Constructing locus objects\n",
    "You can also construct your own locus objects for testing:"
   ]
  },
  {
   "cell_type": "code",
   "execution_count": 8,
   "metadata": {
    "execution": {
     "iopub.execute_input": "2024-06-01T17:39:19.200644Z",
     "iopub.status.busy": "2024-06-01T17:39:19.200255Z",
     "iopub.status.idle": "2024-06-01T17:39:19.404131Z",
     "shell.execute_reply": "2024-06-01T17:39:19.403519Z",
     "shell.execute_reply.started": "2024-06-01T17:39:19.200629Z"
    }
   },
   "outputs": [
    {
     "name": "stdout",
     "output_type": "stream",
     "text": [
      "2024-06-01 10:39:19,394 - WARNING MainThread ztf_flux_correction.py:correct_mags:62 - Attempt to correct magnitudes failed, missing fields\n",
      "Building the lightcurve with the following missing columns: {'ant_magerr', 'ant_survey', 'ant_ra', 'ant_maglim', 'ant_dec', 'ant_passband'}\n",
      "Hello Locus locus1\n"
     ]
    },
    {
     "data": {
      "text/plain": [
       "{'locus_id': 'locus1',\n",
       " 'locus_data': FilterContext(locus_id=\"locus1\"),\n",
       " 't': 2.4439999998904227e-05,\n",
       " 'new_locus_properties': {},\n",
       " 'new_alert_properties': {},\n",
       " 'new_tags': {'hello_world'},\n",
       " 'raised_halt': False}"
      ]
     },
     "execution_count": 8,
     "metadata": {},
     "output_type": "execute_result"
    }
   ],
   "source": [
    "ra, dec = 88.2744186, -5.0010774\n",
    "locus_dict = {\n",
    "    'locus_id': 'locus1',\n",
    "    'ra': ra,\n",
    "    'dec': dec,\n",
    "    'properties': {\n",
    "        'num_alerts': 2,\n",
    "        'num_mag_values': 2,\n",
    "    },\n",
    "    'tags': [],\n",
    "    'watch_list_ids': [],\n",
    "    'watch_object_ids': [],\n",
    "    'catalog_objects': dk.search_catalogs(ra, dec),\n",
    "    'alerts': [\n",
    "        {\n",
    "            'alert_id': 'alert1',\n",
    "            'locus_id': 'locus1',\n",
    "            'mjd': 58794.272488399874,\n",
    "            'properties': {\n",
    "                'ant_mag': 15.1,\n",
    "            },\n",
    "        },\n",
    "        {\n",
    "            'alert_id': 'alert2',\n",
    "            'locus_id': 'locus1',\n",
    "            'mjd': 58799.50587960007,\n",
    "            'properties': {\n",
    "                'ant_mag': 15.2,\n",
    "            }\n",
    "        },\n",
    "    ],\n",
    "}\n",
    "\n",
    "locus = dk.locus_from_dict(locus_dict)\n",
    "\n",
    "dk.run_filter(HelloWorld, locus)"
   ]
  },
  {
   "cell_type": "markdown",
   "metadata": {},
   "source": [
    "<a class=\"anchor\" id=\"data\"></a>\n",
    "## 4. Upload and use data files\n",
    "\n",
    "Some filters require access to data files, such as statistical models. ANTARES supports this by storing such files as binary blobs in a database table. These data files can then be loaded into filters when the filter’s `setup()` function is called.\n",
    "\n",
    "<a class=\"anchor\" id=\"data-one\"></a>\n",
    "### 4.1 Uploading files into ANTARES\n",
    "\n",
    "The detail for uploading files into ANTARES can be found at ANTARES [documentation](https://nsf-noirlab.gitlab.io/csdc/antares/antares/devkit/files.html)"
   ]
  },
  {
   "cell_type": "markdown",
   "metadata": {},
   "source": [
    "<a class=\"anchor\" id=\"data-two\"></a>\n",
    "### 4.2 Accessing files from filters\n",
    "In the `setup()` function of your filter, file data are available as bytes objects.\n",
    "\n",
    "Here is an example of a filter which requires a file, transforms that file into a Python object or data structure, and then uses that object when the filter runs:"
   ]
  },
  {
   "cell_type": "code",
   "execution_count": 9,
   "metadata": {
    "execution": {
     "iopub.execute_input": "2024-06-01T17:39:19.405754Z",
     "iopub.status.busy": "2024-06-01T17:39:19.405596Z",
     "iopub.status.idle": "2024-06-01T17:39:19.409591Z",
     "shell.execute_reply": "2024-06-01T17:39:19.408978Z",
     "shell.execute_reply.started": "2024-06-01T17:39:19.405742Z"
    }
   },
   "outputs": [],
   "source": [
    "import antares.devkit as dk\n",
    "\n",
    "\n",
    "class MyFilter(dk.Filter):\n",
    "    REQUIRES_FILES = [\n",
    "        'author_file_v1.txt'\n",
    "    ]\n",
    "\n",
    "    def setup(self):\n",
    "        \"\"\"\n",
    "        ANTARES will call this function once at the beginning of each night\n",
    "        when filters are loaded.\n",
    "        \"\"\"\n",
    "        # ANTARES will load all files in `REQUIRED_FILES` into a dict\n",
    "        # on the filter object `self.files`. Values in this dictionary\n",
    "        # will be byte strings of class `bytes`.\n",
    "        # You can then access them like:\n",
    "        file_data = self.files['author_file_v1.txt']\n",
    "\n",
    "        # Construct a Python object or data structure from the raw `file_data`.\n",
    "        # TODO: your code here\n",
    "        # Then, you can store it on the filter instance for use in `run()`:\n",
    "        self.my_object = my_object\n",
    "\n",
    "    def run(self, locus):\n",
    "        \"\"\"\n",
    "        ANTARES will call this function in real-time for each incoming alert.\n",
    "        \"\"\"\n",
    "        # Here you can use `self.my_object` in your processing of the alert.\n",
    "        # TODO: your code here"
   ]
  },
  {
   "cell_type": "markdown",
   "metadata": {},
   "source": [
    "<a class=\"anchor\" id=\"data-three\"></a>\n",
    "### 4.3 Requesting files copy\n",
    "**BEFORE** you submit your filter to ANTARES, you must contact the ANTARES team  by email (antares@noirlab.edu) to request that we copy your data files from the DevKit database into the production database. Please provide the file `key` value(s) which you uploaded the files to."
   ]
  },
  {
   "cell_type": "markdown",
   "metadata": {},
   "source": [
    "<a class=\"anchor\" id=\"submit\"></a>\n",
    "## 5. Submit filter to ANTARES\n",
    "\n",
    "When you're ready to submit your filter to ANTARES, go to the [filters](https://antares.noirlab.edu/filters) page on the ANTARES website and click \"Add\".\n",
    "\n",
    "**Note**: We highly recommend setting an `ERROR_SLACK_CHANNEL` on your filter so that you will receive notifications of errors. See [Debugging Filters in Production](https://nsf-noirlab.gitlab.io/csdc/antares/antares/devkit/debugging.html).\n",
    "\n",
    "When you submit your filter you will need to provide:\n",
    "\n",
    "* **Name** – A unique name for your filter. Name your filter like:\n",
    "\n",
    "     * Format: `<author or group>_<name>`\n",
    "\n",
    "     * eg: `author_sn1a_candidates`\n",
    "     \n",
    "\n",
    "* **Description** – A brief text description of your filter. Will be publicly visible.\n",
    "\n",
    "\n",
    "* **Handler** – The name of the filter class in your code. The handler name does not need to be unique outside of your code.\n",
    "\n",
    "\n",
    "* **Code** – A block of code which includes:\n",
    "\n",
    "     * Your import statements\n",
    "\n",
    "     * Filter class\n",
    "\n",
    "     * Any helper functions that your filter needs"
   ]
  }
 ],
 "metadata": {
  "kernelspec": {
   "display_name": "Python 3 (ANTARES)",
   "language": "python",
   "name": "antares_py3.7"
  },
  "language_info": {
   "codemirror_mode": {
    "name": "ipython",
    "version": 3
   },
   "file_extension": ".py",
   "mimetype": "text/x-python",
   "name": "python",
   "nbconvert_exporter": "python",
   "pygments_lexer": "ipython3",
   "version": "3.9.18"
  }
 },
 "nbformat": 4,
 "nbformat_minor": 4
}
