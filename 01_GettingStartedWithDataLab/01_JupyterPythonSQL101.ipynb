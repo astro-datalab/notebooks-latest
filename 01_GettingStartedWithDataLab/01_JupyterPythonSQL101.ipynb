{
 "cells": [
  {
   "cell_type": "code",
   "execution_count": 1,
   "metadata": {
    "execution": {
     "iopub.execute_input": "2024-06-03T18:38:53.689841Z",
     "iopub.status.busy": "2024-06-03T18:38:53.689701Z",
     "iopub.status.idle": "2024-06-03T18:38:53.695272Z",
     "shell.execute_reply": "2024-06-03T18:38:53.694861Z",
     "shell.execute_reply.started": "2024-06-03T18:38:53.689829Z"
    }
   },
   "outputs": [],
   "source": [
    "__nbid__ = '0001'\n",
    "__author__ = 'Robert Nikutta <robert.nikutta@noirlab.edu>, Data Lab Team <datalab@noirlab.edu>'\n",
    "__version__ = '20240603' # yyyymmdd\n",
    "__datasets__ = ['gaia_dr3', 'smash_dr1']\n",
    "__keywords__ = ['Jupyter', 'Python', 'SQL', 'tutorial', 'query']"
   ]
  },
  {
   "cell_type": "markdown",
   "metadata": {},
   "source": [
    "\n",
    "<a class=\"anchor\" id=\"goals\"></a>\n",
    "# Goals\n",
    "Learn or review the basics of:\n",
    "- How to use a Jupyter notebook\n",
    "- Simple Python operations, package imports, and simple plots\n",
    "- Importing Data Lab packages\n",
    "- Logging in to Data Lab\n",
    "- Query the Data Lab database through SQL\n",
    "\n",
    "<a class=\"anchor\" id=\"summary\"></a>\n",
    "# Summary\n",
    "In this notebook, we provide a review of simple Jupyter notebook operations, basic Python, and show how to access catalog data through the Data Lab.  We construct a basic Structured Query Language (SQL) query, and issue it through the Data Lab both in while-you-wait (synchronous) and batch (asynchronous) mode.\n",
    "\n",
    "# Table of contents\n",
    "\n",
    "\n",
    "## Jupyter 101\n",
    "* [Get by with just a few shortcuts](#shortcuts)\n",
    "\n",
    "\n",
    "## Python 101 - 201\n",
    "* [Hello world](#hello) _print()_\n",
    "* [Hello you](#helloyou) _functions_\n",
    "* [2 + 2](#calc) _math_\n",
    "* [If it quacks like a duck...](#duck) _types_\n",
    "* [Extra power through modules](#modules) _packages_\n",
    "* [Everything is an object](#object) _attributes & methods_\n",
    "* [Example: Plot a 1-d function](#plot1d) _plotting_\n",
    "* [Example: Plot a 2d Gaussian](#gauss2d) _array calcs_\n",
    "* [Example: Make a scatter plot](#scatter) _export data to file_\n",
    "\n",
    "## Data Lab 101\n",
    "* [Import Data Lab packages](#dlimport)\n",
    "* [Login](#login)\n",
    "\n",
    "## SQL 101\n",
    "* [Structure of a simple query](#querystructure)\n",
    "* [Our first Data Lab query](#firstquery)\n",
    "* [LIMIT yourself](#limit)\n",
    "* [What's there anyway?](#whatsthere)\n",
    "* [Async queries](#asy)\n",
    "\n",
    "## Links you need\n",
    "\n",
    "| What | Where |\n",
    "|------|-------|\n",
    "|Get your Data Lab account now!| https://datalab.noirlab.edu/account/register.html |\n",
    "|To the Data Lab notebook server!| https://datalab.noirlab.edu/devbooks |\n",
    "|Always look to the Data Lab user manual (and use search function)| https://datalab.noirlab.edu/docs/manual/ |\n",
    "|Ask questions on our help desk| https://datalab.noirlab.edu/help/ |\n",
    "\n",
    "\n",
    "\n"
   ]
  },
  {
   "cell_type": "markdown",
   "metadata": {},
   "source": [
    "# Jupyter notebook\n",
    "<a class=\"anchor\" id=\"shortcuts\"></a>\n",
    "\n",
    "## Get by with just a few shortcuts\n",
    "\n",
    "Everything is entered into _cells_. A cell can hold text, or code, or an image, etc.\n",
    "\n",
    "A _code_ cell can be executed (i.e. the Python code can be _run_), just select the cell (move arrows up/down), then press `SHIFT + ENTER`\n",
    "\n",
    "`ESC + m` change cell type to mardown (for writing text)\n",
    "\n",
    "`ESC + y` change cell type to code (for entering Python code)\n",
    "\n",
    "`ESC + a` add a new cell above the current one\n",
    "\n",
    "`ESC + b` add a new cell below the current one\n",
    "\n",
    "`ESC + x` cut/delete a cell\n",
    "\n",
    "`ESC + v` paste a cell\n",
    "\n",
    "`ESC + h` pop up a help window (more shortcuts)"
   ]
  },
  {
   "cell_type": "markdown",
   "metadata": {},
   "source": [
    "# Disclaimer & attribution\n",
    "\n",
    "Disclaimers\n",
    "-----------\n",
    "Note that using the Astro Data Lab constitutes your agreement with our minimal [Disclaimers](https://datalab.noirlab.edu/disclaimers.php).\n",
    "\n",
    "Acknowledgments\n",
    "---------------\n",
    "If you use **Astro Data Lab** in your published research, please include the text in your paper's Acknowledgments section:\n",
    "\n",
    "_This research uses services or data provided by the Astro Data Lab, which is part of the Community Science and Data Center (CSDC) Program of NSF NOIRLab. NOIRLab is operated by the Association of Universities for Research in Astronomy (AURA), Inc. under a cooperative agreement with the U.S. National Science Foundation._\n",
    "\n",
    "If you use **SPARCL jointly with the Astro Data Lab platform** (via JupyterLab, command-line, or web interface) in your published research, please include this text below in your paper's Acknowledgments section:\n",
    "\n",
    "_This research uses services or data provided by the SPectra Analysis and Retrievable Catalog Lab (SPARCL) and the Astro Data Lab, which are both part of the Community Science and Data Center (CSDC) Program of NSF NOIRLab. NOIRLab is operated by the Association of Universities for Research in Astronomy (AURA), Inc. under a cooperative agreement with the U.S. National Science Foundation._\n",
    "\n",
    "In either case **please cite the following papers**:\n",
    "\n",
    "* Data Lab concept paper: Fitzpatrick et al., \"The NOAO Data Laboratory: a conceptual overview\", SPIE, 9149, 2014, https://doi.org/10.1117/12.2057445\n",
    "\n",
    "* Astro Data Lab overview: Nikutta et al., \"Data Lab - A Community Science Platform\", Astronomy and Computing, 33, 2020, https://doi.org/10.1016/j.ascom.2020.100411\n",
    "\n",
    "If you are referring to the Data Lab JupyterLab / Jupyter Notebooks, cite:\n",
    "\n",
    "* Juneau et al., \"Jupyter-Enabled Astrophysical Analysis Using Data-Proximate Computing Platforms\", CiSE, 23, 15, 2021, https://doi.org/10.1109/MCSE.2021.3057097\n",
    "\n",
    "If publishing in a AAS journal, also add the keyword: `\\facility{Astro Data Lab}`\n",
    "\n",
    "And if you are using SPARCL, please also add `\\software{SPARCL}` and cite:\n",
    "\n",
    "* Juneau et al., \"SPARCL: SPectra Analysis and Retrievable Catalog Lab\", Conference Proceedings for ADASS XXXIII, 2024\n",
    "https://doi.org/10.48550/arXiv.2401.05576\n",
    "\n",
    "The NOIRLab Library maintains [lists of proper acknowledgments](https://noirlab.edu/science/about/scientific-acknowledgments) to use when publishing papers using the Lab's facilities, data, or services."
   ]
  },
  {
   "cell_type": "markdown",
   "metadata": {},
   "source": [
    "# Python 101 - 201\n",
    "<a class=\"anchor\" id=\"hello\"></a>\n",
    "## Hello World!\n",
    "Python is an interpreted programming language.\n",
    "You write a line of Python code, or many lines, and run them. No compilation step."
   ]
  },
  {
   "cell_type": "code",
   "execution_count": 2,
   "metadata": {
    "execution": {
     "iopub.execute_input": "2024-06-03T18:38:53.695941Z",
     "iopub.status.busy": "2024-06-03T18:38:53.695814Z",
     "iopub.status.idle": "2024-06-03T18:38:53.734538Z",
     "shell.execute_reply": "2024-06-03T18:38:53.734056Z",
     "shell.execute_reply.started": "2024-06-03T18:38:53.695930Z"
    }
   },
   "outputs": [
    {
     "name": "stdout",
     "output_type": "stream",
     "text": [
      "Hello World!\n"
     ]
    }
   ],
   "source": [
    "print(\"Hello World!\")"
   ]
  },
  {
   "cell_type": "markdown",
   "metadata": {},
   "source": [
    "Note that strings are within single '' or double \"\" quotes."
   ]
  },
  {
   "cell_type": "markdown",
   "metadata": {},
   "source": [
    "<a class=\"anchor\" id=\"helloyou\"></a>\n",
    "## Hello you!\n",
    "Let's write our first function. The template for functions is always the same:\n",
    "\n",
    "```\n",
    "def function_name(arguments):\n",
    "    do something\n",
    "    [return something] # optional\n",
    "```\n",
    "Note: Comment lines in Python begin with `#`"
   ]
  },
  {
   "cell_type": "code",
   "execution_count": 3,
   "metadata": {
    "execution": {
     "iopub.execute_input": "2024-06-03T18:38:53.735160Z",
     "iopub.status.busy": "2024-06-03T18:38:53.735038Z",
     "iopub.status.idle": "2024-06-03T18:38:53.738434Z",
     "shell.execute_reply": "2024-06-03T18:38:53.738014Z",
     "shell.execute_reply.started": "2024-06-03T18:38:53.735150Z"
    }
   },
   "outputs": [],
   "source": [
    "def helloyou(name):\n",
    "    # will print your name\n",
    "    print(\"Hello\",name,'!')"
   ]
  },
  {
   "cell_type": "markdown",
   "metadata": {},
   "source": [
    "Separate all arguments to the print function by commas. They will all be printed in order."
   ]
  },
  {
   "cell_type": "code",
   "execution_count": 4,
   "metadata": {
    "execution": {
     "iopub.execute_input": "2024-06-03T18:38:53.739099Z",
     "iopub.status.busy": "2024-06-03T18:38:53.738975Z",
     "iopub.status.idle": "2024-06-03T18:38:53.742832Z",
     "shell.execute_reply": "2024-06-03T18:38:53.742405Z",
     "shell.execute_reply.started": "2024-06-03T18:38:53.739088Z"
    }
   },
   "outputs": [
    {
     "name": "stdout",
     "output_type": "stream",
     "text": [
      "Hello Kitty !\n"
     ]
    }
   ],
   "source": [
    "helloyou('Kitty')"
   ]
  },
  {
   "cell_type": "markdown",
   "metadata": {},
   "source": [
    "<a class=\"anchor\" id=\"calc\"></a>\n",
    "## 2 + 2\n",
    "Use Python as a powerful calculator. Here are some examples."
   ]
  },
  {
   "cell_type": "code",
   "execution_count": 5,
   "metadata": {
    "execution": {
     "iopub.execute_input": "2024-06-03T18:38:53.743667Z",
     "iopub.status.busy": "2024-06-03T18:38:53.743365Z",
     "iopub.status.idle": "2024-06-03T18:38:53.748329Z",
     "shell.execute_reply": "2024-06-03T18:38:53.747914Z",
     "shell.execute_reply.started": "2024-06-03T18:38:53.743654Z"
    }
   },
   "outputs": [
    {
     "data": {
      "text/plain": [
       "4"
      ]
     },
     "execution_count": 5,
     "metadata": {},
     "output_type": "execute_result"
    }
   ],
   "source": [
    "2+2"
   ]
  },
  {
   "cell_type": "code",
   "execution_count": 6,
   "metadata": {
    "execution": {
     "iopub.execute_input": "2024-06-03T18:38:53.750084Z",
     "iopub.status.busy": "2024-06-03T18:38:53.749817Z",
     "iopub.status.idle": "2024-06-03T18:38:53.752807Z",
     "shell.execute_reply": "2024-06-03T18:38:53.752398Z",
     "shell.execute_reply.started": "2024-06-03T18:38:53.750072Z"
    }
   },
   "outputs": [
    {
     "data": {
      "text/plain": [
       "3.881558974007327"
      ]
     },
     "execution_count": 6,
     "metadata": {},
     "output_type": "execute_result"
    }
   ],
   "source": [
    "3**1.2345 # 3 to the power of 1.2345"
   ]
  },
  {
   "cell_type": "code",
   "execution_count": 7,
   "metadata": {
    "execution": {
     "iopub.execute_input": "2024-06-03T18:38:53.753576Z",
     "iopub.status.busy": "2024-06-03T18:38:53.753453Z",
     "iopub.status.idle": "2024-06-03T18:38:53.763564Z",
     "shell.execute_reply": "2024-06-03T18:38:53.763163Z",
     "shell.execute_reply.started": "2024-06-03T18:38:53.753565Z"
    }
   },
   "outputs": [
    {
     "data": {
      "text/plain": [
       "5.666666666666667"
      ]
     },
     "execution_count": 7,
     "metadata": {},
     "output_type": "execute_result"
    }
   ],
   "source": [
    "17 / 3 # classic division always returns a float"
   ]
  },
  {
   "cell_type": "code",
   "execution_count": 8,
   "metadata": {
    "execution": {
     "iopub.execute_input": "2024-06-03T18:38:53.764374Z",
     "iopub.status.busy": "2024-06-03T18:38:53.764105Z",
     "iopub.status.idle": "2024-06-03T18:38:53.768597Z",
     "shell.execute_reply": "2024-06-03T18:38:53.768182Z",
     "shell.execute_reply.started": "2024-06-03T18:38:53.764361Z"
    }
   },
   "outputs": [
    {
     "data": {
      "text/plain": [
       "5"
      ]
     },
     "execution_count": 8,
     "metadata": {},
     "output_type": "execute_result"
    }
   ],
   "source": [
    "17 // 3 # floor division discards the fractional part  "
   ]
  },
  {
   "cell_type": "code",
   "execution_count": 9,
   "metadata": {
    "execution": {
     "iopub.execute_input": "2024-06-03T18:38:53.769257Z",
     "iopub.status.busy": "2024-06-03T18:38:53.769139Z",
     "iopub.status.idle": "2024-06-03T18:38:53.772959Z",
     "shell.execute_reply": "2024-06-03T18:38:53.772512Z",
     "shell.execute_reply.started": "2024-06-03T18:38:53.769247Z"
    }
   },
   "outputs": [
    {
     "data": {
      "text/plain": [
       "'yoyo'"
      ]
     },
     "execution_count": 9,
     "metadata": {},
     "output_type": "execute_result"
    }
   ],
   "source": [
    "2*\"yo\""
   ]
  },
  {
   "cell_type": "markdown",
   "metadata": {},
   "source": [
    "<a class=\"anchor\" id=\"duck\"></a>\n",
    "## Python has _duck typing_ 🦆\n",
    "If it walks like a duck and quacks like a duck, it must be a duck!"
   ]
  },
  {
   "cell_type": "code",
   "execution_count": 10,
   "metadata": {
    "execution": {
     "iopub.execute_input": "2024-06-03T18:38:53.773604Z",
     "iopub.status.busy": "2024-06-03T18:38:53.773485Z",
     "iopub.status.idle": "2024-06-03T18:38:53.777493Z",
     "shell.execute_reply": "2024-06-03T18:38:53.777091Z",
     "shell.execute_reply.started": "2024-06-03T18:38:53.773593Z"
    }
   },
   "outputs": [
    {
     "data": {
      "text/plain": [
       "int"
      ]
     },
     "execution_count": 10,
     "metadata": {},
     "output_type": "execute_result"
    }
   ],
   "source": [
    "type(2)"
   ]
  },
  {
   "cell_type": "code",
   "execution_count": 11,
   "metadata": {
    "execution": {
     "iopub.execute_input": "2024-06-03T18:38:53.778107Z",
     "iopub.status.busy": "2024-06-03T18:38:53.777988Z",
     "iopub.status.idle": "2024-06-03T18:38:53.781292Z",
     "shell.execute_reply": "2024-06-03T18:38:53.780891Z",
     "shell.execute_reply.started": "2024-06-03T18:38:53.778097Z"
    }
   },
   "outputs": [
    {
     "data": {
      "text/plain": [
       "float"
      ]
     },
     "execution_count": 11,
     "metadata": {},
     "output_type": "execute_result"
    }
   ],
   "source": [
    "type(3.1415)"
   ]
  },
  {
   "cell_type": "code",
   "execution_count": 12,
   "metadata": {
    "execution": {
     "iopub.execute_input": "2024-06-03T18:38:53.782038Z",
     "iopub.status.busy": "2024-06-03T18:38:53.781910Z",
     "iopub.status.idle": "2024-06-03T18:38:53.784849Z",
     "shell.execute_reply": "2024-06-03T18:38:53.784447Z",
     "shell.execute_reply.started": "2024-06-03T18:38:53.782028Z"
    }
   },
   "outputs": [
    {
     "data": {
      "text/plain": [
       "str"
      ]
     },
     "execution_count": 12,
     "metadata": {},
     "output_type": "execute_result"
    }
   ],
   "source": [
    "type('word')"
   ]
  },
  {
   "cell_type": "code",
   "execution_count": 13,
   "metadata": {
    "execution": {
     "iopub.execute_input": "2024-06-03T18:38:53.785489Z",
     "iopub.status.busy": "2024-06-03T18:38:53.785369Z",
     "iopub.status.idle": "2024-06-03T18:38:53.788815Z",
     "shell.execute_reply": "2024-06-03T18:38:53.788417Z",
     "shell.execute_reply.started": "2024-06-03T18:38:53.785479Z"
    }
   },
   "outputs": [
    {
     "data": {
      "text/plain": [
       "function"
      ]
     },
     "execution_count": 13,
     "metadata": {},
     "output_type": "execute_result"
    }
   ],
   "source": [
    "type(helloyou)"
   ]
  },
  {
   "cell_type": "code",
   "execution_count": 14,
   "metadata": {
    "execution": {
     "iopub.execute_input": "2024-06-03T18:38:53.789678Z",
     "iopub.status.busy": "2024-06-03T18:38:53.789425Z",
     "iopub.status.idle": "2024-06-03T18:38:53.792689Z",
     "shell.execute_reply": "2024-06-03T18:38:53.792290Z",
     "shell.execute_reply.started": "2024-06-03T18:38:53.789665Z"
    }
   },
   "outputs": [
    {
     "data": {
      "text/plain": [
       "float"
      ]
     },
     "execution_count": 14,
     "metadata": {},
     "output_type": "execute_result"
    }
   ],
   "source": [
    "a = 2\n",
    "b = 3.1415\n",
    "c = a*b\n",
    "type(c)"
   ]
  },
  {
   "cell_type": "code",
   "execution_count": 15,
   "metadata": {
    "execution": {
     "iopub.execute_input": "2024-06-03T18:38:53.793502Z",
     "iopub.status.busy": "2024-06-03T18:38:53.793232Z",
     "iopub.status.idle": "2024-06-03T18:38:53.803914Z",
     "shell.execute_reply": "2024-06-03T18:38:53.803500Z",
     "shell.execute_reply.started": "2024-06-03T18:38:53.793490Z"
    }
   },
   "outputs": [
    {
     "data": {
      "text/plain": [
       "3"
      ]
     },
     "execution_count": 15,
     "metadata": {},
     "output_type": "execute_result"
    }
   ],
   "source": [
    "int(3.1415) # convert a float to an int"
   ]
  },
  {
   "cell_type": "code",
   "execution_count": 16,
   "metadata": {
    "execution": {
     "iopub.execute_input": "2024-06-03T18:38:53.804559Z",
     "iopub.status.busy": "2024-06-03T18:38:53.804441Z",
     "iopub.status.idle": "2024-06-03T18:38:53.807696Z",
     "shell.execute_reply": "2024-06-03T18:38:53.807268Z",
     "shell.execute_reply.started": "2024-06-03T18:38:53.804549Z"
    }
   },
   "outputs": [
    {
     "data": {
      "text/plain": [
       "2.0"
      ]
     },
     "execution_count": 16,
     "metadata": {},
     "output_type": "execute_result"
    }
   ],
   "source": [
    "float(2) # convert an int to a float"
   ]
  },
  {
   "cell_type": "markdown",
   "metadata": {},
   "source": [
    "<a class=\"anchor\" id=\"modules\"></a>\n",
    "## Extra power with modules/packages\n",
    "Python has a lot of functionality built-in in its standard library.\n",
    "But much more functionality can be added by importing specific packages."
   ]
  },
  {
   "cell_type": "code",
   "execution_count": 17,
   "metadata": {
    "execution": {
     "iopub.execute_input": "2024-06-03T18:38:53.808296Z",
     "iopub.status.busy": "2024-06-03T18:38:53.808178Z",
     "iopub.status.idle": "2024-06-03T18:38:53.895410Z",
     "shell.execute_reply": "2024-06-03T18:38:53.894765Z",
     "shell.execute_reply.started": "2024-06-03T18:38:53.808285Z"
    }
   },
   "outputs": [],
   "source": [
    "import numpy  # \"numeric python\" - math and array operations"
   ]
  },
  {
   "cell_type": "markdown",
   "metadata": {},
   "source": [
    "Or import under a different (often shorter) name:"
   ]
  },
  {
   "cell_type": "code",
   "execution_count": 18,
   "metadata": {
    "execution": {
     "iopub.execute_input": "2024-06-03T18:38:53.896550Z",
     "iopub.status.busy": "2024-06-03T18:38:53.896289Z",
     "iopub.status.idle": "2024-06-03T18:38:53.900600Z",
     "shell.execute_reply": "2024-06-03T18:38:53.899867Z",
     "shell.execute_reply.started": "2024-06-03T18:38:53.896533Z"
    }
   },
   "outputs": [],
   "source": [
    "import numpy as np"
   ]
  },
  {
   "cell_type": "code",
   "execution_count": 19,
   "metadata": {
    "execution": {
     "iopub.execute_input": "2024-06-03T18:38:53.902706Z",
     "iopub.status.busy": "2024-06-03T18:38:53.902369Z",
     "iopub.status.idle": "2024-06-03T18:38:53.907395Z",
     "shell.execute_reply": "2024-06-03T18:38:53.907016Z",
     "shell.execute_reply.started": "2024-06-03T18:38:53.902685Z"
    }
   },
   "outputs": [
    {
     "data": {
      "text/plain": [
       "4.123105625617661"
      ]
     },
     "execution_count": 19,
     "metadata": {},
     "output_type": "execute_result"
    }
   ],
   "source": [
    "np.sqrt(17)"
   ]
  },
  {
   "cell_type": "code",
   "execution_count": 20,
   "metadata": {
    "execution": {
     "iopub.execute_input": "2024-06-03T18:38:53.908137Z",
     "iopub.status.busy": "2024-06-03T18:38:53.907877Z",
     "iopub.status.idle": "2024-06-03T18:38:53.911527Z",
     "shell.execute_reply": "2024-06-03T18:38:53.911168Z",
     "shell.execute_reply.started": "2024-06-03T18:38:53.908126Z"
    }
   },
   "outputs": [
    {
     "data": {
      "text/plain": [
       "360.0"
      ]
     },
     "execution_count": 20,
     "metadata": {},
     "output_type": "execute_result"
    }
   ],
   "source": [
    "np.rad2deg(2*np.pi) # convert radians to degrees"
   ]
  },
  {
   "cell_type": "code",
   "execution_count": 21,
   "metadata": {
    "execution": {
     "iopub.execute_input": "2024-06-03T18:38:53.914827Z",
     "iopub.status.busy": "2024-06-03T18:38:53.914590Z",
     "iopub.status.idle": "2024-06-03T18:38:53.917341Z",
     "shell.execute_reply": "2024-06-03T18:38:53.916990Z",
     "shell.execute_reply.started": "2024-06-03T18:38:53.914815Z"
    }
   },
   "outputs": [
    {
     "data": {
      "text/plain": [
       "57.29577951308232"
      ]
     },
     "execution_count": 21,
     "metadata": {},
     "output_type": "execute_result"
    }
   ],
   "source": [
    "np.rad2deg(1)"
   ]
  },
  {
   "cell_type": "code",
   "execution_count": 22,
   "metadata": {
    "execution": {
     "iopub.execute_input": "2024-06-03T18:38:53.917879Z",
     "iopub.status.busy": "2024-06-03T18:38:53.917760Z",
     "iopub.status.idle": "2024-06-03T18:38:53.921578Z",
     "shell.execute_reply": "2024-06-03T18:38:53.921158Z",
     "shell.execute_reply.started": "2024-06-03T18:38:53.917868Z"
    }
   },
   "outputs": [
    {
     "name": "stdout",
     "output_type": "stream",
     "text": [
      "Vector                 a = [1 2 3]\n",
      "Vector                 b = [3 2 1]\n",
      "\n",
      "Sum                  a+b = [4 4 4]\n",
      "Element-wise product a*b = [3 4 3]\n",
      "Dot product          a.b = 10\n"
     ]
    }
   ],
   "source": [
    "a = np.array((1,2,3))\n",
    "b = np.array((3,2,1))\n",
    "print(\"Vector                 a =\", a)\n",
    "print(\"Vector                 b =\", b)\n",
    "print()\n",
    "print(\"Sum                  a+b =\", a+b)\n",
    "print(\"Element-wise product a*b =\", a*b)\n",
    "print(\"Dot product          a.b =\", np.dot(a,b))"
   ]
  },
  {
   "cell_type": "markdown",
   "metadata": {},
   "source": [
    "<a class=\"anchor\" id=\"object\"></a>\n",
    "## Everything in Python is an object...\n",
    "... and objects have inherent characteristics ..."
   ]
  },
  {
   "cell_type": "code",
   "execution_count": 23,
   "metadata": {
    "execution": {
     "iopub.execute_input": "2024-06-03T18:38:53.922252Z",
     "iopub.status.busy": "2024-06-03T18:38:53.922020Z",
     "iopub.status.idle": "2024-06-03T18:38:53.925944Z",
     "shell.execute_reply": "2024-06-03T18:38:53.925570Z",
     "shell.execute_reply.started": "2024-06-03T18:38:53.922238Z"
    }
   },
   "outputs": [
    {
     "data": {
      "text/plain": [
       "array([[1., 0., 0.],\n",
       "       [0., 1., 0.],\n",
       "       [0., 0., 1.]])"
      ]
     },
     "execution_count": 23,
     "metadata": {},
     "output_type": "execute_result"
    }
   ],
   "source": [
    "A = np.eye(3) # rank-3 identity matrix (just a 2-d Numpy array with float values)\n",
    "A"
   ]
  },
  {
   "cell_type": "code",
   "execution_count": 24,
   "metadata": {
    "execution": {
     "iopub.execute_input": "2024-06-03T18:38:53.926501Z",
     "iopub.status.busy": "2024-06-03T18:38:53.926379Z",
     "iopub.status.idle": "2024-06-03T18:38:53.929691Z",
     "shell.execute_reply": "2024-06-03T18:38:53.929327Z",
     "shell.execute_reply.started": "2024-06-03T18:38:53.926490Z"
    }
   },
   "outputs": [
    {
     "data": {
      "text/plain": [
       "(3, 3)"
      ]
     },
     "execution_count": 24,
     "metadata": {},
     "output_type": "execute_result"
    }
   ],
   "source": [
    "A.shape # shape of the array"
   ]
  },
  {
   "cell_type": "code",
   "execution_count": 25,
   "metadata": {
    "execution": {
     "iopub.execute_input": "2024-06-03T18:38:53.930417Z",
     "iopub.status.busy": "2024-06-03T18:38:53.930157Z",
     "iopub.status.idle": "2024-06-03T18:38:53.933470Z",
     "shell.execute_reply": "2024-06-03T18:38:53.933082Z",
     "shell.execute_reply.started": "2024-06-03T18:38:53.930406Z"
    }
   },
   "outputs": [
    {
     "data": {
      "text/plain": [
       "9"
      ]
     },
     "execution_count": 25,
     "metadata": {},
     "output_type": "execute_result"
    }
   ],
   "source": [
    "A.size  # how many elements in A"
   ]
  },
  {
   "cell_type": "code",
   "execution_count": 26,
   "metadata": {
    "execution": {
     "iopub.execute_input": "2024-06-03T18:38:53.934020Z",
     "iopub.status.busy": "2024-06-03T18:38:53.933900Z",
     "iopub.status.idle": "2024-06-03T18:38:53.937367Z",
     "shell.execute_reply": "2024-06-03T18:38:53.937000Z",
     "shell.execute_reply.started": "2024-06-03T18:38:53.934010Z"
    }
   },
   "outputs": [
    {
     "data": {
      "text/plain": [
       "2"
      ]
     },
     "execution_count": 26,
     "metadata": {},
     "output_type": "execute_result"
    }
   ],
   "source": [
    "A.ndim # number of array dimensions"
   ]
  },
  {
   "cell_type": "markdown",
   "metadata": {},
   "source": [
    "## ... and objects can do things"
   ]
  },
  {
   "cell_type": "code",
   "execution_count": 27,
   "metadata": {
    "execution": {
     "iopub.execute_input": "2024-06-03T18:38:53.937956Z",
     "iopub.status.busy": "2024-06-03T18:38:53.937832Z",
     "iopub.status.idle": "2024-06-03T18:38:54.019223Z",
     "shell.execute_reply": "2024-06-03T18:38:54.018851Z",
     "shell.execute_reply.started": "2024-06-03T18:38:53.937945Z"
    }
   },
   "outputs": [
    {
     "data": {
      "text/plain": [
       "array([1., 1., 1.])"
      ]
     },
     "execution_count": 27,
     "metadata": {},
     "output_type": "execute_result"
    }
   ],
   "source": [
    "A.diagonal()"
   ]
  },
  {
   "cell_type": "code",
   "execution_count": 28,
   "metadata": {
    "execution": {
     "iopub.execute_input": "2024-06-03T18:38:54.019955Z",
     "iopub.status.busy": "2024-06-03T18:38:54.019654Z",
     "iopub.status.idle": "2024-06-03T18:38:54.024077Z",
     "shell.execute_reply": "2024-06-03T18:38:54.023742Z",
     "shell.execute_reply.started": "2024-06-03T18:38:54.019944Z"
    }
   },
   "outputs": [
    {
     "data": {
      "text/plain": [
       "0.3333333333333333"
      ]
     },
     "execution_count": 28,
     "metadata": {},
     "output_type": "execute_result"
    }
   ],
   "source": [
    "A.mean()"
   ]
  },
  {
   "cell_type": "code",
   "execution_count": 29,
   "metadata": {
    "execution": {
     "iopub.execute_input": "2024-06-03T18:38:54.024758Z",
     "iopub.status.busy": "2024-06-03T18:38:54.024510Z",
     "iopub.status.idle": "2024-06-03T18:38:54.028547Z",
     "shell.execute_reply": "2024-06-03T18:38:54.028151Z",
     "shell.execute_reply.started": "2024-06-03T18:38:54.024747Z"
    }
   },
   "outputs": [
    {
     "data": {
      "text/plain": [
       "0.4714045207910317"
      ]
     },
     "execution_count": 29,
     "metadata": {},
     "output_type": "execute_result"
    }
   ],
   "source": [
    "np.std(A) # standard deviation"
   ]
  },
  {
   "cell_type": "code",
   "execution_count": 30,
   "metadata": {
    "execution": {
     "iopub.execute_input": "2024-06-03T18:38:54.029243Z",
     "iopub.status.busy": "2024-06-03T18:38:54.028988Z",
     "iopub.status.idle": "2024-06-03T18:38:54.032373Z",
     "shell.execute_reply": "2024-06-03T18:38:54.032011Z",
     "shell.execute_reply.started": "2024-06-03T18:38:54.029231Z"
    }
   },
   "outputs": [
    {
     "name": "stdout",
     "output_type": "stream",
     "text": [
      "[[0. 0. 1.]\n",
      " [0. 0. 1.]\n",
      " [0. 0. 1.]]\n"
     ]
    }
   ],
   "source": [
    "A.sort() # sort each row in ascending order\n",
    "print(A)"
   ]
  },
  {
   "cell_type": "markdown",
   "metadata": {},
   "source": [
    "<a class=\"anchor\" id=\"plot1d\"></a>\n",
    "# Example: Plot a 1-d function"
   ]
  },
  {
   "cell_type": "markdown",
   "metadata": {},
   "source": [
    "All we need to start plotting... is a plotting module!"
   ]
  },
  {
   "cell_type": "code",
   "execution_count": 31,
   "metadata": {
    "execution": {
     "iopub.execute_input": "2024-06-03T18:38:54.033049Z",
     "iopub.status.busy": "2024-06-03T18:38:54.032811Z",
     "iopub.status.idle": "2024-06-03T18:38:54.289343Z",
     "shell.execute_reply": "2024-06-03T18:38:54.288753Z",
     "shell.execute_reply.started": "2024-06-03T18:38:54.033038Z"
    }
   },
   "outputs": [],
   "source": [
    "import pylab as plt\n",
    "%matplotlib inline\n",
    "plt.rcParams['figure.figsize'] = (5,5)"
   ]
  },
  {
   "cell_type": "code",
   "execution_count": 32,
   "metadata": {
    "execution": {
     "iopub.execute_input": "2024-06-03T18:38:54.290299Z",
     "iopub.status.busy": "2024-06-03T18:38:54.290095Z",
     "iopub.status.idle": "2024-06-03T18:38:54.293813Z",
     "shell.execute_reply": "2024-06-03T18:38:54.293428Z",
     "shell.execute_reply.started": "2024-06-03T18:38:54.290275Z"
    }
   },
   "outputs": [
    {
     "name": "stdout",
     "output_type": "stream",
     "text": [
      "[0.         0.06346652 0.12693304 0.19039955 0.25386607 0.31733259\n",
      " 0.38079911 0.44426563 0.50773215 0.57119866 0.63466518 0.6981317\n",
      " 0.76159822 0.82506474 0.88853126 0.95199777 1.01546429 1.07893081\n",
      " 1.14239733 1.20586385 1.26933037 1.33279688 1.3962634  1.45972992\n",
      " 1.52319644 1.58666296 1.65012947 1.71359599 1.77706251 1.84052903\n",
      " 1.90399555 1.96746207 2.03092858 2.0943951  2.15786162 2.22132814\n",
      " 2.28479466 2.34826118 2.41172769 2.47519421 2.53866073 2.60212725\n",
      " 2.66559377 2.72906028 2.7925268  2.85599332 2.91945984 2.98292636\n",
      " 3.04639288 3.10985939 3.17332591 3.23679243 3.30025895 3.36372547\n",
      " 3.42719199 3.4906585  3.55412502 3.61759154 3.68105806 3.74452458\n",
      " 3.8079911  3.87145761 3.93492413 3.99839065 4.06185717 4.12532369\n",
      " 4.1887902  4.25225672 4.31572324 4.37918976 4.44265628 4.5061228\n",
      " 4.56958931 4.63305583 4.69652235 4.75998887 4.82345539 4.88692191\n",
      " 4.95038842 5.01385494 5.07732146 5.14078798 5.2042545  5.26772102\n",
      " 5.33118753 5.39465405 5.45812057 5.52158709 5.58505361 5.64852012\n",
      " 5.71198664 5.77545316 5.83891968 5.9023862  5.96585272 6.02931923\n",
      " 6.09278575 6.15625227 6.21971879 6.28318531]\n",
      "Steps:  100\n"
     ]
    }
   ],
   "source": [
    "x = np.linspace(0,2*np.pi,100) # create an array of evenly-spaced values starting at 0,ending at 2*pi,with 100 steps\n",
    "print(x)\n",
    "print('Steps: ',x.size)"
   ]
  },
  {
   "cell_type": "code",
   "execution_count": 33,
   "metadata": {
    "execution": {
     "iopub.execute_input": "2024-06-03T18:38:54.294792Z",
     "iopub.status.busy": "2024-06-03T18:38:54.294342Z",
     "iopub.status.idle": "2024-06-03T18:38:54.299024Z",
     "shell.execute_reply": "2024-06-03T18:38:54.298659Z",
     "shell.execute_reply.started": "2024-06-03T18:38:54.294781Z"
    }
   },
   "outputs": [],
   "source": [
    "y = np.sin(x)"
   ]
  },
  {
   "cell_type": "code",
   "execution_count": 34,
   "metadata": {
    "execution": {
     "iopub.execute_input": "2024-06-03T18:38:54.299793Z",
     "iopub.status.busy": "2024-06-03T18:38:54.299506Z",
     "iopub.status.idle": "2024-06-03T18:38:54.402077Z",
     "shell.execute_reply": "2024-06-03T18:38:54.401628Z",
     "shell.execute_reply.started": "2024-06-03T18:38:54.299781Z"
    }
   },
   "outputs": [
    {
     "data": {
      "text/plain": [
       "[<matplotlib.lines.Line2D at 0x7ff6c32f67a0>]"
      ]
     },
     "execution_count": 34,
     "metadata": {},
     "output_type": "execute_result"
    },
    {
     "data": {
      "image/png": "[encoded data removed]",
      "text/plain": [
       "<Figure size 500x500 with 1 Axes>"
      ]
     },
     "metadata": {},
     "output_type": "display_data"
    }
   ],
   "source": [
    "plt.plot(x,y,'b-')"
   ]
  },
  {
   "cell_type": "markdown",
   "metadata": {},
   "source": [
    "<a class=\"anchor\" id=\"gauss2d\"></a>\n",
    "# Example: Plot a 2-d Gaussian"
   ]
  },
  {
   "cell_type": "code",
   "execution_count": 35,
   "metadata": {
    "execution": {
     "iopub.execute_input": "2024-06-03T18:38:54.402959Z",
     "iopub.status.busy": "2024-06-03T18:38:54.402827Z",
     "iopub.status.idle": "2024-06-03T18:38:55.093194Z",
     "shell.execute_reply": "2024-06-03T18:38:55.092636Z",
     "shell.execute_reply.started": "2024-06-03T18:38:54.402947Z"
    }
   },
   "outputs": [],
   "source": [
    "from astropy.modeling.models import Gaussian2D"
   ]
  },
  {
   "cell_type": "code",
   "execution_count": 36,
   "metadata": {
    "execution": {
     "iopub.execute_input": "2024-06-03T18:38:55.094499Z",
     "iopub.status.busy": "2024-06-03T18:38:55.094059Z",
     "iopub.status.idle": "2024-06-03T18:38:55.098142Z",
     "shell.execute_reply": "2024-06-03T18:38:55.097743Z",
     "shell.execute_reply.started": "2024-06-03T18:38:55.094474Z"
    }
   },
   "outputs": [],
   "source": [
    "g = Gaussian2D(x_mean=0,y_mean=0,x_stddev=5,y_stddev=10)"
   ]
  },
  {
   "cell_type": "code",
   "execution_count": 37,
   "metadata": {
    "execution": {
     "iopub.execute_input": "2024-06-03T18:38:55.098873Z",
     "iopub.status.busy": "2024-06-03T18:38:55.098720Z",
     "iopub.status.idle": "2024-06-03T18:38:55.104292Z",
     "shell.execute_reply": "2024-06-03T18:38:55.103961Z",
     "shell.execute_reply.started": "2024-06-03T18:38:55.098861Z"
    }
   },
   "outputs": [],
   "source": [
    "nx = 100\n",
    "half = nx//2\n",
    "x = np.linspace(-half,half,nx)\n",
    "# meshgrid creates a rectangular grid out of an array of x values and an array of y values\n",
    "X,Y = np.meshgrid(x,x) # using x for both x and y axes, since we want a square grid anyway"
   ]
  },
  {
   "cell_type": "code",
   "execution_count": 38,
   "metadata": {
    "execution": {
     "iopub.execute_input": "2024-06-03T18:38:55.104904Z",
     "iopub.status.busy": "2024-06-03T18:38:55.104775Z",
     "iopub.status.idle": "2024-06-03T18:38:55.207968Z",
     "shell.execute_reply": "2024-06-03T18:38:55.207619Z",
     "shell.execute_reply.started": "2024-06-03T18:38:55.104893Z"
    }
   },
   "outputs": [
    {
     "data": {
      "text/plain": [
       "<matplotlib.image.AxesImage at 0x7ff61dfae440>"
      ]
     },
     "execution_count": 38,
     "metadata": {},
     "output_type": "execute_result"
    },
    {
     "data": {
      "image/png": "[encoded data removed]",
      "text/plain": [
       "<Figure size 500x500 with 1 Axes>"
      ]
     },
     "metadata": {},
     "output_type": "display_data"
    }
   ],
   "source": [
    "plt.imshow(g(X,Y))"
   ]
  },
  {
   "cell_type": "markdown",
   "metadata": {},
   "source": [
    "<a class=\"anchor\" id=\"scatter\"></a>\n",
    "# Example: Make a scatter plot"
   ]
  },
  {
   "cell_type": "code",
   "execution_count": 39,
   "metadata": {
    "execution": {
     "iopub.execute_input": "2024-06-03T18:38:55.208635Z",
     "iopub.status.busy": "2024-06-03T18:38:55.208501Z",
     "iopub.status.idle": "2024-06-03T18:38:55.211293Z",
     "shell.execute_reply": "2024-06-03T18:38:55.210898Z",
     "shell.execute_reply.started": "2024-06-03T18:38:55.208624Z"
    }
   },
   "outputs": [],
   "source": [
    "x = np.random.normal(size=1000)\n",
    "y = np.random.normal(size=1000)"
   ]
  },
  {
   "cell_type": "code",
   "execution_count": 40,
   "metadata": {
    "execution": {
     "iopub.execute_input": "2024-06-03T18:38:55.212062Z",
     "iopub.status.busy": "2024-06-03T18:38:55.211871Z",
     "iopub.status.idle": "2024-06-03T18:38:55.308939Z",
     "shell.execute_reply": "2024-06-03T18:38:55.308547Z",
     "shell.execute_reply.started": "2024-06-03T18:38:55.212046Z"
    }
   },
   "outputs": [
    {
     "data": {
      "text/plain": [
       "<matplotlib.collections.PathCollection at 0x7ff61e036890>"
      ]
     },
     "execution_count": 40,
     "metadata": {},
     "output_type": "execute_result"
    },
    {
     "data": {
      "image/png": "[encoded data removed]",
      "text/plain": [
       "<Figure size 500x500 with 1 Axes>"
      ]
     },
     "metadata": {},
     "output_type": "display_data"
    }
   ],
   "source": [
    "plt.scatter(x,y,s=5)"
   ]
  },
  {
   "cell_type": "markdown",
   "metadata": {},
   "source": [
    "# Data Lab 101\n",
    "Full introduction to Data Lab in the tutorial session.\n",
    "\n",
    "For now just the bare minimum to get us started."
   ]
  },
  {
   "cell_type": "markdown",
   "metadata": {},
   "source": [
    "<a class=\"anchor\" id=\"dlimport\"></a>\n",
    "## Import Data Lab packages (almost always this way)"
   ]
  },
  {
   "cell_type": "code",
   "execution_count": 41,
   "metadata": {
    "execution": {
     "iopub.execute_input": "2024-06-03T18:38:55.309709Z",
     "iopub.status.busy": "2024-06-03T18:38:55.309521Z",
     "iopub.status.idle": "2024-06-03T18:38:55.477307Z",
     "shell.execute_reply": "2024-06-03T18:38:55.476711Z",
     "shell.execute_reply.started": "2024-06-03T18:38:55.309693Z"
    }
   },
   "outputs": [],
   "source": [
    "from dl import authClient as ac, queryClient as qc\n",
    "from dl.helpers.utils import convert\n",
    "from getpass import getpass"
   ]
  },
  {
   "cell_type": "markdown",
   "metadata": {},
   "source": [
    "<a class=\"anchor\" id=\"login\"></a>\n",
    "## Log in\n",
    "Much of the functionality of Data Lab can be accessed without explicitly logging in (the service then uses an anonymous login). But some capacities, for instance saving the results of your queries to your virtual storage space, require a login (i.e. you will need a registered user account).\n",
    "\n",
    "If you need to log in to Data Lab, un-comment the cell below and execute it:"
   ]
  },
  {
   "cell_type": "code",
   "execution_count": 42,
   "metadata": {
    "execution": {
     "iopub.execute_input": "2024-06-03T18:38:55.478358Z",
     "iopub.status.busy": "2024-06-03T18:38:55.478118Z",
     "iopub.status.idle": "2024-06-03T18:38:55.495510Z",
     "shell.execute_reply": "2024-06-03T18:38:55.495151Z",
     "shell.execute_reply.started": "2024-06-03T18:38:55.478336Z"
    }
   },
   "outputs": [
    {
     "data": {
      "text/plain": [
       "'ajacques'"
      ]
     },
     "execution_count": 42,
     "metadata": {},
     "output_type": "execute_result"
    }
   ],
   "source": [
    "#token = ac.login(input(\"Enter user name: (+ENTER) \"),getpass(\"Enter password: (+ENTER) \"))\n",
    "ac.whoAmI()"
   ]
  },
  {
   "cell_type": "markdown",
   "metadata": {},
   "source": [
    "# SQL - Structured Query Language\n",
    "\n",
    "<a class=\"anchor\" id=\"querystructure\"></a>\n",
    "## SQL is a way to describe to a database what you want from it\n",
    "General template for a simple query written in SQL\n",
    "```\n",
    "SELECT something\n",
    "FROM database.table\n",
    "WHERE constraints\n",
    "```\n",
    "\n",
    "The `something` is usually a list of column names, e.g. `SELECT ra,dec`\n",
    "\n",
    "A `database` has a name, and usually holds several `table`s.\n",
    "\n",
    "E.g. to access columns in the `gaia_dr3` database, `gaia_source` table, one could ask for\n",
    "`gaia_dr3.gaia_source`\n",
    "\n",
    "The `constaints` are filters, or qualifiers, on the query, e.g.:\n",
    "\n",
    "`WHERE ra>90`\n",
    "\n",
    "Or combine several constaints:\n",
    "\n",
    "```\n",
    "WHERE ra>90 AND ra<100\n",
    "AND dec>40 AND dec<42\n",
    "```"
   ]
  },
  {
   "cell_type": "markdown",
   "metadata": {},
   "source": [
    "<a class=\"anchor\" id=\"limit\"></a>\n",
    "## LIMIT yourself\n",
    "If you append a `LIMIT 100` (or any small number) to your query, the database will return only the first 100 result rows. This is usually fast and you can tweak your query many times this way until you get it right.\n",
    "\n",
    "**Excellent advice while testing queries: LIMIT yourself.**\n",
    "\n",
    "The template becomes:\n",
    "```\n",
    "SELECT something\n",
    "FROM database.table\n",
    "WHERE constraints\n",
    "LIMIT 100\n",
    "```"
   ]
  },
  {
   "cell_type": "markdown",
   "metadata": {},
   "source": [
    "<a class=\"anchor\" id=\"firstquery\"></a>\n",
    "## Our first Data Lab query\n",
    "Let's ask for the radial velocities of all stars in Gaia DR3 around the position of the LMC"
   ]
  },
  {
   "cell_type": "code",
   "execution_count": 43,
   "metadata": {
    "execution": {
     "iopub.execute_input": "2024-06-03T18:38:55.496355Z",
     "iopub.status.busy": "2024-06-03T18:38:55.496152Z",
     "iopub.status.idle": "2024-06-03T18:38:55.499346Z",
     "shell.execute_reply": "2024-06-03T18:38:55.498956Z",
     "shell.execute_reply.started": "2024-06-03T18:38:55.496338Z"
    }
   },
   "outputs": [
    {
     "name": "stdout",
     "output_type": "stream",
     "text": [
      "\n",
      "SELECT radial_velocity\n",
      "FROM gaia_dr3.gaia_source\n",
      "WHERE ra>78 and ra<84\n",
      "  AND dec>-73 and dec<-67\n",
      "  AND radial_velocity != 'nan'\n",
      "  AND abs(radial_velocity)>0.\n",
      "\n"
     ]
    }
   ],
   "source": [
    "# coordinates of the LMC\n",
    "#ra = 81.\n",
    "#dec = -69.8\n",
    "\n",
    "query = \"\"\"\n",
    "SELECT radial_velocity\n",
    "FROM gaia_dr3.gaia_source\n",
    "WHERE ra>78 and ra<84\n",
    "  AND dec>-73 and dec<-67\n",
    "  AND radial_velocity != 'nan'\n",
    "  AND abs(radial_velocity)>0.\n",
    "\"\"\"\n",
    "\n",
    "print(query)"
   ]
  },
  {
   "cell_type": "markdown",
   "metadata": {},
   "source": [
    "Now let's submit the query to the Data Lab database"
   ]
  },
  {
   "cell_type": "code",
   "execution_count": 44,
   "metadata": {
    "execution": {
     "iopub.execute_input": "2024-06-03T18:38:55.500123Z",
     "iopub.status.busy": "2024-06-03T18:38:55.499934Z",
     "iopub.status.idle": "2024-06-03T18:39:10.943970Z",
     "shell.execute_reply": "2024-06-03T18:39:10.943476Z",
     "shell.execute_reply.started": "2024-06-03T18:38:55.500107Z"
    }
   },
   "outputs": [],
   "source": [
    "result = qc.query(sql=query)"
   ]
  },
  {
   "cell_type": "markdown",
   "metadata": {},
   "source": [
    "It took some time (under a minute I hope), and the returned result is in the variable called `result`.\n",
    "\n",
    "What type is `result`?"
   ]
  },
  {
   "cell_type": "code",
   "execution_count": 45,
   "metadata": {
    "execution": {
     "iopub.execute_input": "2024-06-03T18:39:10.944792Z",
     "iopub.status.busy": "2024-06-03T18:39:10.944596Z",
     "iopub.status.idle": "2024-06-03T18:39:10.948616Z",
     "shell.execute_reply": "2024-06-03T18:39:10.948290Z",
     "shell.execute_reply.started": "2024-06-03T18:39:10.944774Z"
    }
   },
   "outputs": [
    {
     "data": {
      "text/plain": [
       "str"
      ]
     },
     "execution_count": 45,
     "metadata": {},
     "output_type": "execute_result"
    }
   ],
   "source": [
    "type(result)"
   ]
  },
  {
   "cell_type": "markdown",
   "metadata": {},
   "source": [
    "The type is 'str' or string.\n",
    "\n",
    "How long is this 'str' object? (in characters)"
   ]
  },
  {
   "cell_type": "code",
   "execution_count": 46,
   "metadata": {
    "execution": {
     "iopub.execute_input": "2024-06-03T18:39:10.949207Z",
     "iopub.status.busy": "2024-06-03T18:39:10.949082Z",
     "iopub.status.idle": "2024-06-03T18:39:10.955148Z",
     "shell.execute_reply": "2024-06-03T18:39:10.954808Z",
     "shell.execute_reply.started": "2024-06-03T18:39:10.949197Z"
    }
   },
   "outputs": [
    {
     "data": {
      "text/plain": [
       "136132"
      ]
     },
     "execution_count": 46,
     "metadata": {},
     "output_type": "execute_result"
    }
   ],
   "source": [
    "len(result)"
   ]
  },
  {
   "cell_type": "markdown",
   "metadata": {},
   "source": [
    "That's many characters! Let's print the first 200 or so:"
   ]
  },
  {
   "cell_type": "code",
   "execution_count": 47,
   "metadata": {
    "execution": {
     "iopub.execute_input": "2024-06-03T18:39:10.955862Z",
     "iopub.status.busy": "2024-06-03T18:39:10.955672Z",
     "iopub.status.idle": "2024-06-03T18:39:10.959253Z",
     "shell.execute_reply": "2024-06-03T18:39:10.958913Z",
     "shell.execute_reply.started": "2024-06-03T18:39:10.955846Z"
    }
   },
   "outputs": [
    {
     "data": {
      "text/plain": [
       "'radial_velocity\\n4.155434\\n238.55446\\n254.06628\\n48.141098\\n-12.778127\\n210.53014\\n5.028206\\n24.298592\\n21.564756\\n31.360075\\n66.51129\\n29.528\\n242.24164\\n11.324264\\n36.658955\\n14.816024\\n255.58084\\n265.13043\\n5.139609\\n'"
      ]
     },
     "execution_count": 47,
     "metadata": {},
     "output_type": "execute_result"
    }
   ],
   "source": [
    "result[:200]"
   ]
  },
  {
   "cell_type": "markdown",
   "metadata": {},
   "source": [
    "It's like a long string. The `\\n` are line breaks. The first line is the header (here just `radial_velocity`).\n",
    "\n",
    "It's hard to plot a long text object. We convert to a more \"numerical\" data format:"
   ]
  },
  {
   "cell_type": "code",
   "execution_count": 48,
   "metadata": {
    "execution": {
     "iopub.execute_input": "2024-06-03T18:39:10.959978Z",
     "iopub.status.busy": "2024-06-03T18:39:10.959787Z",
     "iopub.status.idle": "2024-06-03T18:39:10.965486Z",
     "shell.execute_reply": "2024-06-03T18:39:10.965138Z",
     "shell.execute_reply.started": "2024-06-03T18:39:10.959962Z"
    }
   },
   "outputs": [],
   "source": [
    "df = convert(result) # df mean data frame"
   ]
  },
  {
   "cell_type": "markdown",
   "metadata": {},
   "source": [
    "What does the converted table look like?"
   ]
  },
  {
   "cell_type": "code",
   "execution_count": 49,
   "metadata": {
    "execution": {
     "iopub.execute_input": "2024-06-03T18:39:10.966644Z",
     "iopub.status.busy": "2024-06-03T18:39:10.966046Z",
     "iopub.status.idle": "2024-06-03T18:39:10.972217Z",
     "shell.execute_reply": "2024-06-03T18:39:10.971886Z",
     "shell.execute_reply.started": "2024-06-03T18:39:10.966623Z"
    }
   },
   "outputs": [
    {
     "name": "stdout",
     "output_type": "stream",
     "text": [
      "(14016, 1)\n"
     ]
    },
    {
     "data": {
      "text/html": [
       "<div>\n",
       "<style scoped>\n",
       "    .dataframe tbody tr th:only-of-type {\n",
       "        vertical-align: middle;\n",
       "    }\n",
       "\n",
       "    .dataframe tbody tr th {\n",
       "        vertical-align: top;\n",
       "    }\n",
       "\n",
       "    .dataframe thead th {\n",
       "        text-align: right;\n",
       "    }\n",
       "</style>\n",
       "<table border=\"1\" class=\"dataframe\">\n",
       "  <thead>\n",
       "    <tr style=\"text-align: right;\">\n",
       "      <th></th>\n",
       "      <th>radial_velocity</th>\n",
       "    </tr>\n",
       "  </thead>\n",
       "  <tbody>\n",
       "    <tr>\n",
       "      <th>0</th>\n",
       "      <td>4.155434</td>\n",
       "    </tr>\n",
       "    <tr>\n",
       "      <th>1</th>\n",
       "      <td>238.554460</td>\n",
       "    </tr>\n",
       "    <tr>\n",
       "      <th>2</th>\n",
       "      <td>254.066280</td>\n",
       "    </tr>\n",
       "    <tr>\n",
       "      <th>3</th>\n",
       "      <td>48.141098</td>\n",
       "    </tr>\n",
       "    <tr>\n",
       "      <th>4</th>\n",
       "      <td>-12.778127</td>\n",
       "    </tr>\n",
       "  </tbody>\n",
       "</table>\n",
       "</div>"
      ],
      "text/plain": [
       "   radial_velocity\n",
       "0         4.155434\n",
       "1       238.554460\n",
       "2       254.066280\n",
       "3        48.141098\n",
       "4       -12.778127"
      ]
     },
     "execution_count": 49,
     "metadata": {},
     "output_type": "execute_result"
    }
   ],
   "source": [
    "print(df.shape)\n",
    "df.head(5)"
   ]
  },
  {
   "cell_type": "markdown",
   "metadata": {},
   "source": [
    "Ah yes, 14016 rows, and 1 column (`radial_velocity`).\n",
    "\n",
    "Let's plot a histogram of the radial velocities:"
   ]
  },
  {
   "cell_type": "code",
   "execution_count": 50,
   "metadata": {
    "execution": {
     "iopub.execute_input": "2024-06-03T18:39:10.972942Z",
     "iopub.status.busy": "2024-06-03T18:39:10.972762Z",
     "iopub.status.idle": "2024-06-03T18:39:11.060396Z",
     "shell.execute_reply": "2024-06-03T18:39:11.060013Z",
     "shell.execute_reply.started": "2024-06-03T18:39:10.972926Z"
    }
   },
   "outputs": [
    {
     "data": {
      "text/plain": [
       "(-100.0, 500.0)"
      ]
     },
     "execution_count": 50,
     "metadata": {},
     "output_type": "execute_result"
    },
    {
     "data": {
      "image/png": "[encoded data removed]",
      "text/plain": [
       "<Figure size 500x500 with 1 Axes>"
      ]
     },
     "metadata": {},
     "output_type": "display_data"
    }
   ],
   "source": [
    "res = plt.hist(df['radial_velocity'],bins=50,histtype='step',color='b')\n",
    "plt.xlabel('radial velocity (km/s)')\n",
    "plt.xlim(-100,500)"
   ]
  },
  {
   "cell_type": "markdown",
   "metadata": {},
   "source": [
    "The radial velocity of the LMC is ~270 km/s."
   ]
  },
  {
   "cell_type": "markdown",
   "metadata": {},
   "source": [
    "<a class=\"anchor\" id=\"whatsthere\"></a>\n",
    "# What's there anyway?\n",
    "How can you find what databases and tables there are in Data Lab?"
   ]
  },
  {
   "cell_type": "markdown",
   "metadata": {},
   "source": [
    "## List all databases:"
   ]
  },
  {
   "cell_type": "code",
   "execution_count": 51,
   "metadata": {
    "execution": {
     "iopub.execute_input": "2024-06-03T18:39:11.061149Z",
     "iopub.status.busy": "2024-06-03T18:39:11.060963Z",
     "iopub.status.idle": "2024-06-03T18:39:11.106950Z",
     "shell.execute_reply": "2024-06-03T18:39:11.106555Z",
     "shell.execute_reply.started": "2024-06-03T18:39:11.061133Z"
    }
   },
   "outputs": [
    {
     "name": "stdout",
     "output_type": "stream",
     "text": [
      "\n",
      "     Schema Name   Description\n",
      "     -----------   -----------\n",
      "         allwise   The AllWISE data release\n",
      "     buzzard_dr1   Buzzard Data Release 1\n",
      "     catwise2020   CatWise 2020 data, containing the main catalog with 191 co\n",
      "                   lumns and 1.89 billion rows\n",
      "         dad_dr1   DECam Asteroid Database -- Data Release 1\n",
      "         dad_dr2   DECam Asteroid Database -- Data Release 2\n",
      "      decaps_dr1   DECaPS Survey Data Release 1\n",
      "      decaps_dr2   DECaPS Survey Data Release 2\n",
      "       delve_dr1   First data release of the DELVE survey (Drlica-Wagner et a\n",
      "                   l. 2020)\n",
      "       delve_dr2   Second data release of the DELVE survey\n",
      "         des_dr1   Dark Energy Survey (DES) Data Release 1\n",
      "         des_dr2   Dark Energy Survey (DES) Data Release 2\n",
      "        des_sva1   DES SVA1 Data Products\n",
      "        desi_edr   Early Data Release from the Dark Energy Spectroscopic Inst\n",
      "                   rument\n",
      "          dltest   \n",
      "        gaia_dr1   GAIA Data Release 1\n",
      "        gaia_dr2   Gaia Data Release 2 -- April 25, 2018\n",
      "        gaia_dr3   Gaia Data Release 3\n",
      "       gaia_edr3   The early installment of the third Gaia data release, Gaia\n",
      "                   EDR3, encompasses astrometry and photometry, complemented\n",
      "                   with radial velocities copied from Gaia DR2 after removal\n",
      "                   of a small number of spurious entries.\n",
      "       gnirs_dqs   Gemini North Near-Infrared Distant Quasar Survey\n",
      "     gogreen_dr1   GOGREEN and GCLASS first data release survey catalogues\n",
      "       hipparcos   ftp://cdsarc.u-strasbg.fr/pub/cats/I/239/ReadMe\n",
      "      hipparcos2   A new reduction of the astrometric data as produced by the\n",
      "                   Hipparcos mission has been published, claiming accuracies\n",
      "                   for nearly all stars brighter than magnitude Hp=8 to be b\n",
      "                   etter, by up to a factor 4, than in the original catalogue\n",
      "                   . ftp://cdsarc.u-strasbg.fr/pub/cats/I/311/ReadMe\n",
      " ivoa_calibrated   Instrument calibrated images for specific surveys\n",
      "      ivoa_coadd   Subset of stacked calibrated images for specific surveys\n",
      " ivoa_decaps_dr1   IVOA SIA/ObsCore Tables for ivoa_decaps_dr1 images\n",
      "    ivoa_des_dr1   IVOA SIA/ObsCore Tables for Dark Energy Survey DR1 images\n",
      "    ivoa_des_dr2   IVOA SIA/ObsCore Tables for ivoa_des_dr2 images\n",
      " ivoa_des_dr2_se   IVOA SIA/ObsCore Tables for ivoa_des_dr2_se images\n",
      "   ivoa_des_sva1   IVOA SIA/ObsCore Tables for ivoa_des_sva1 images\n",
      "     ivoa_des_y1   IVOA SIA/ObsCore Tables for ivoa_des_y1 images\n",
      "     ivoa_des_y2   IVOA SIA/ObsCore Tables for ivoa_des_y2 images\n",
      "     ivoa_des_y3   IVOA SIA/ObsCore Tables for ivoa_des_y3 images\n",
      "     ivoa_des_y4   IVOA SIA/ObsCore Tables for ivoa_des_y4 images\n",
      "ivoa_gogreen_dr1   IVOA SIA/ObsCore Tables for gogreen_dr1 images\n",
      "     ivoa_ls_dr8   IVOA SIA/ObsCore Tables for ls_dr8 images\n",
      "     ivoa_ls_dr9   IVOA SIA/ObsCore Tables for ls_dr9 images\n",
      "        ivoa_nsa   IVOA SIA/ObsCore Tables for NOAO Science Archive images\n",
      "    ivoa_nsc_dr2   IVOA SIA/ObsCore Tables for ivoa_nsc_dr2 images\n",
      "        ivoa_raw   Subset of raw uncalibrated images for specific surveys\n",
      "   ivoa_sdss_dr9   IVOA SIA/ObsCore Tables for sdss_dr9 images\n",
      "  ivoa_smash_dr1   IVOA SIA/ObsCore Tables for SMASH DR1 images\n",
      "  ivoa_smash_dr2   IVOA SIA/ObsCore Tables for ivoa_smash_dr2 images\n",
      "  ivoa_splus_dr1   IVOA SIA/ObsCore Tables for ivoa_splus_dr1 images\n",
      "  ivoa_splus_edr   IVOA SIA/ObsCore Tables for ivoa_splus_edr images\n",
      "   ivoa_stripe82   The subset of images that overlap with SDSS Stripe 82\n",
      "         ls_dr10   Legacy Survey (LS) Data Release 10\n",
      "          ls_dr8   Legacy Survey Data Release 8\n",
      "          ls_dr9   Legacy Survey (LS) Data Release 9\n",
      "        ls_dr9sv   \n",
      "        lsst_sim   lsst_sim\n",
      "            mydb   MyDB table schema\n",
      "         nsc_dr1   NOIRLab Source Catalog Data Release 1\n",
      "         nsc_dr2   NOIRLab Source Catalog Data Release 2\n",
      "         phat_v2   Panchromatic Hubble Andromeda Treasury Version 2\n",
      "       sdss_dr12   Sloan Digital Sky Survey Data Release 12\n",
      "       sdss_dr13   Sloan Digital Sky Survey Data Relase 13\n",
      "       sdss_dr14   Sloan Digital Sky Survey Data Release 14\n",
      "       sdss_dr16   Sloan Digital Sky Survey Data Release 16\n",
      "       sdss_dr17   Sloan Digital Sky Survey Data Release 17\n",
      "         sga2020   Siena Galaxy Atlas 2020\n",
      "   skymapper_dr1   http://skymapper.anu.edu.au/data-release/\n",
      "   skymapper_dr2   https://skymapper.anu.edu.au/data-release/\n",
      "   skymapper_dr4   The fourth data release of the SkyMapper Southern Survey; \n",
      "                   6-band optical survey conducted with the Australian Nation\n",
      "                   al Universitys 1.3m SkyMapper Telescope at Siding Spring O\n",
      "                   bservatory in Australia\n",
      "       smash_dr1   SMASH Data Release 1\n",
      "       smash_dr2   SMASH Data Release 2\n",
      "          sparcl   SPectra Analysis & Retrieveable Catalog Lab\n",
      "       splus_dr1   The Southern Photometric Local Universe Survey (S-PLUS) --\n",
      "                   Data Release 1\n",
      "       splus_dr2   The Southern Photometric Local Universe Survey (S-PLUS) --\n",
      "                   Data Release 2\n",
      "       splus_edr   The Southern Photometric Local Universe Survey (S-PLUS) --\n",
      "                   Data Release 1\n",
      "        stripe82   Primary object catalogs in Stripe 82 footprint\n",
      "      tap_schema   TAP Schema Tables\n",
      "         twomass   2MASS All-Sky Catalogs (2003)\n",
      "          tycho2   The Tycho-2 Catalogue is an astrometric reference catalogu\n",
      "                   e containing positions, proper motions and two-colour phot\n",
      "                   ometry for the 2.5 million brightest stars in the sky. The\n",
      "                   catalogue is based on observations made using the Hipparc\n",
      "                   os satellite star mapper and is constructed using the same\n",
      "                   observations that were used to create the original Tycho\n",
      "                   catalogue. Improved reduction techniques have resulted in\n",
      "                   a catalogue with significantly more entries and in improve\n",
      "                   d precision.\n",
      " ukidss_dr11plus   Five different UKIDSS databases contain calibrated data fr\n",
      "                   om the UKIRT Wide Field Camera (WFCAM).\n",
      "      unwise_dr1   unWISE DR1 band-merged catalog\n",
      "            usno   USNO Astrometry Catalogs\n",
      "         vhs_dr5   VISTA Hemisphere Survey (VHS) band-merged multi-waveband c\n",
      "                   atalogues Data Release 5\n",
      "\n"
     ]
    }
   ],
   "source": [
    "print(qc.schema())"
   ]
  },
  {
   "cell_type": "markdown",
   "metadata": {},
   "source": [
    "## List all tables in a database:"
   ]
  },
  {
   "cell_type": "code",
   "execution_count": 52,
   "metadata": {
    "execution": {
     "iopub.execute_input": "2024-06-03T18:39:11.108011Z",
     "iopub.status.busy": "2024-06-03T18:39:11.107821Z",
     "iopub.status.idle": "2024-06-03T18:39:11.159722Z",
     "shell.execute_reply": "2024-06-03T18:39:11.159332Z",
     "shell.execute_reply.started": "2024-06-03T18:39:11.107995Z"
    }
   },
   "outputs": [
    {
     "name": "stdout",
     "output_type": "stream",
     "text": [
      "\n",
      "Schema: smash_dr1\n",
      "\n",
      "      Table Name   Description\n",
      "      ----------   -----------\n",
      "            chip   Info on each chip in the frame\n",
      "        exposure   Info on each exposure\n",
      "           field   Info on each target field (position, Num exposures, etc)\n",
      "        galaxies   View of object table to select for galaxies\n",
      "          object   Average photometry of each unique object\n",
      "          source   All of the individual source measurements\n",
      "           stars   View of object table to select for stars\n",
      "x1p5__object__gaia_dr3__gaia_source   smash_dr1.object and gaia_dr3.gaia_source crossmatch (1.5 \n",
      "                   arcsec)\n",
      "x1p5__object__nsc_dr2__object   smash_dr1.object and nsc_dr2.object crossmatch (1.5 arcsec)\n",
      "x1p5__object__unwise_dr1__object   smash_dr1.object and unwise_dr1.object crossmatch (1.5 arcsec)\n",
      "          xmatch   Crossmatch of object against GAIA DR1 and WISE\n",
      "\n"
     ]
    }
   ],
   "source": [
    "print(qc.schema('smash_dr1'))"
   ]
  },
  {
   "cell_type": "markdown",
   "metadata": {},
   "source": [
    "## List all columns in a table in a database"
   ]
  },
  {
   "cell_type": "code",
   "execution_count": 53,
   "metadata": {
    "execution": {
     "iopub.execute_input": "2024-06-03T18:39:11.160906Z",
     "iopub.status.busy": "2024-06-03T18:39:11.160702Z",
     "iopub.status.idle": "2024-06-03T18:39:11.222952Z",
     "shell.execute_reply": "2024-06-03T18:39:11.222543Z",
     "shell.execute_reply.started": "2024-06-03T18:39:11.160890Z"
    }
   },
   "outputs": [
    {
     "name": "stdout",
     "output_type": "stream",
     "text": [
      "\n",
      "Schema: smash_dr1\n",
      " Table: object\n",
      "\n",
      "     Column Name   Description\n",
      "     -----------   -----------\n",
      "              id   Unique ID for this object, the field name plus a running number\n",
      "         fieldid   SMASH Field ID\n",
      "              ra   Right Ascension (J2000.0) of source, in degrees\n",
      "             dec   Declination (J2000.0) of source, in degrees\n",
      "            glon   Galactic Longitude\n",
      "            glat   Galactic Latitude\n",
      "            elon   Ecliptic Longitude\n",
      "            elat   Ecliptic Latitude\n",
      "            htm9   HTM index (order 9 => ~10 arcmin size)\n",
      "         ring256   HEALPIX index (Nsides 256, Ring scheme => ~14 arcmin size)\n",
      "        nest4096   HEALPIX index (Nsides 4096, Nest scheme => ~52 arcsec size\n",
      "       random_id   Random ID in the range 0.0 => 100.0\n",
      "           raerr   Uncertainty in mean RA of object (arcseconds) from indiv values\n",
      "          decerr   Uncertainty in mean DEC of object (arcseconds) from indiv \n",
      "                   values\n",
      "            ndet   Number of detections of this source (in ALLSRC)\n",
      "       depthflag   Flag of exposure detected in: 1-shallow, 2-deep, 3-both\n",
      "            umag   Weighted-average, calibrated u-band magnitude, 99.99 if no\n",
      "                   detection\n",
      "            uerr   Uncertainty in calibrated u-band magnitude\n",
      "        uscatter   RMS scatter in u from multiple measurements of this object\n",
      "           ndetu   Number of detections in u\n",
      "            gmag   Weighted-average, calibrated g-band magnitude, 99.99 if no\n",
      "                   detection\n",
      "            gerr   Unceratinty in calibrated g-band magnitude\n",
      "        gscatter   RMS scatter in g from multiple measurements of this object\n",
      "           ndetg   Number of detections in g\n",
      "            rmag   Weighted-avarage, calibrated r-band magnitude, 99.99 if no\n",
      "                   detection\n",
      "            rerr   Uncertainty in calibrated r-band magnitude\n",
      "        rscatter   RMS scatter in r from multiple measurements of this object\n",
      "           ndetr   Number of detections in r\n",
      "            imag   Weighted-average, calibrated i-band magnitude, 99.99 if no\n",
      "                   detection\n",
      "            ierr   Uncertainty in calibrated i-band magnitude\n",
      "        iscatter   RMS scatter in i from multiple measurements of this object\n",
      "           ndeti   Number of detections in i\n",
      "            zmag   Weighted-avarege, calibrated z-band magnitude, 99.99 if no\n",
      "                   detection\n",
      "            zerr   Uncertainty in calibrated z-band magnitude\n",
      "        zscatter   RMS scatter in z from multiple measurements of this object\n",
      "           ndetz   Number of detections in z\n",
      "             u_g   u-g color index\n",
      "             g_r   g-r color index\n",
      "             g_i   g-i color index\n",
      "             i_z   i-z color index\n",
      "             chi   Average DAOPHOT chi value, i.e. how well the PSF fit this \n",
      "                   source\n",
      "           sharp   Average DAOPHOT sharp value, measurement of peakiness\n",
      "            flag   OR-combined Source Extractor FLAG value from coadd image\n",
      "            prob   Average Source Extractor stellaricity probability value\n",
      "             ebv   Median SFD E(B-V) across frame\n",
      "\n"
     ]
    }
   ],
   "source": [
    "print(qc.schema('smash_dr1.object'))"
   ]
  },
  {
   "cell_type": "markdown",
   "metadata": {},
   "source": [
    "<a class=\"anchor\" id=\"asy\"></a>\n",
    "# If you're too cool to be sitting around: async queries\n",
    "A query that could run potentially longer than your attention span... In that case just submit it in async mode, and retrieve the results later when the query is done (and when you've had your well-deserved coffee):"
   ]
  },
  {
   "cell_type": "code",
   "execution_count": 54,
   "metadata": {
    "execution": {
     "iopub.execute_input": "2024-06-03T18:39:11.223671Z",
     "iopub.status.busy": "2024-06-03T18:39:11.223487Z",
     "iopub.status.idle": "2024-06-03T18:39:11.226213Z",
     "shell.execute_reply": "2024-06-03T18:39:11.225813Z",
     "shell.execute_reply.started": "2024-06-03T18:39:11.223654Z"
    }
   },
   "outputs": [],
   "source": [
    "query = \"\"\"SELECT ra,dec FROM smash_dr1.object \n",
    "WHERE fieldid = 169 AND depthflag > 1 \n",
    "AND ndetr > 3 AND ndetg > 3 \n",
    "AND abs(sharp) < 0.5 \n",
    "AND gmag BETWEEN 9 AND 25 \n",
    "AND (gmag-rmag) BETWEEN -0.4 AND 0.4\"\"\""
   ]
  },
  {
   "cell_type": "markdown",
   "metadata": {},
   "source": [
    "Asynchronous queries get a jobid upon submission e.g.:\n",
    "\n",
    "```\n",
    "jobid = qc.query(adql=query,async_=True)\n",
    "print(jobid)\n",
    "q5qy6ujsu9cnygcp\n",
    "```\n",
    "\n",
    "You can then check periodically for the status of the query, by submitting the `jobid` string to the `status` method:\n",
    "\n",
    "```\n",
    "qc.status(jobid)\n",
    "'EXECUTING'\n",
    "```\n",
    "\n",
    "If you repeat the `status` request a bit later, it will eventually change to `'COMPLETED'`, at which point you can retrieve the result:\n",
    "\n",
    "```\n",
    "result = qc.results(jobid)\n",
    "```\n",
    "\n",
    "**Luckliy, there is a built-in mechanism to do the periodic checking for you.** It also retrieves the results of your query for you at the end. The signature is:\n",
    "\n",
    "```\n",
    "result = qc.query(sql=query,async_=True,wait=True,poll=5,verbose=1)\n",
    "```\n",
    "\n",
    "where `poll` sets the polling period (in seconds)."
   ]
  },
  {
   "cell_type": "code",
   "execution_count": 55,
   "metadata": {
    "execution": {
     "iopub.execute_input": "2024-06-03T18:39:11.226951Z",
     "iopub.status.busy": "2024-06-03T18:39:11.226767Z",
     "iopub.status.idle": "2024-06-03T18:39:22.438463Z",
     "shell.execute_reply": "2024-06-03T18:39:22.437408Z",
     "shell.execute_reply.started": "2024-06-03T18:39:11.226934Z"
    }
   },
   "outputs": [
    {
     "name": "stdout",
     "output_type": "stream",
     "text": [
      "EXECUTING\n",
      "Status = EXECUTING; elapsed time: 5, timeout in 295\n",
      "EXECUTING\n",
      "Status = COMPLETED; elapsed time: 10, timeout in 290\n",
      "Retrieving results\n",
      "\n",
      "Total time: 0.48s for 3.82 MB\n"
     ]
    }
   ],
   "source": [
    "result = qc.query(adql=query,async_=True,wait=True,poll=5,verbose=1)"
   ]
  },
  {
   "cell_type": "markdown",
   "metadata": {},
   "source": [
    "Convert to Pandas dataframe, just like before:"
   ]
  },
  {
   "cell_type": "code",
   "execution_count": 56,
   "metadata": {
    "execution": {
     "iopub.execute_input": "2024-06-03T18:39:22.439945Z",
     "iopub.status.busy": "2024-06-03T18:39:22.439660Z",
     "iopub.status.idle": "2024-06-03T18:39:22.475020Z",
     "shell.execute_reply": "2024-06-03T18:39:22.474229Z",
     "shell.execute_reply.started": "2024-06-03T18:39:22.439927Z"
    }
   },
   "outputs": [],
   "source": [
    "df = convert(result)"
   ]
  },
  {
   "cell_type": "markdown",
   "metadata": {},
   "source": [
    "Use the dataframe as you please, e.g. here to plot RA & Dec:"
   ]
  },
  {
   "cell_type": "code",
   "execution_count": 57,
   "metadata": {
    "execution": {
     "iopub.execute_input": "2024-06-03T18:39:22.476051Z",
     "iopub.status.busy": "2024-06-03T18:39:22.475896Z",
     "iopub.status.idle": "2024-06-03T18:39:22.674026Z",
     "shell.execute_reply": "2024-06-03T18:39:22.673370Z",
     "shell.execute_reply.started": "2024-06-03T18:39:22.476037Z"
    }
   },
   "outputs": [
    {
     "data": {
      "text/plain": [
       "Text(0, 0.5, 'dec')"
      ]
     },
     "execution_count": 57,
     "metadata": {},
     "output_type": "execute_result"
    },
    {
     "data": {
      "image/png": "[encoded data removed]",
      "text/plain": [
       "<Figure size 500x500 with 1 Axes>"
      ]
     },
     "metadata": {},
     "output_type": "display_data"
    }
   ],
   "source": [
    "plt.figure(figsize=(5,5))\n",
    "plt.hexbin(df['ra'],df['dec'])\n",
    "plt.xlabel('ra')\n",
    "plt.ylabel('dec')"
   ]
  }
 ],
 "metadata": {
  "kernelspec": {
   "display_name": "Python 3",
   "language": "python",
   "name": "python3"
  },
  "language_info": {
   "codemirror_mode": {
    "name": "ipython",
    "version": 3
   },
   "file_extension": ".py",
   "mimetype": "text/x-python",
   "name": "python",
   "nbconvert_exporter": "python",
   "pygments_lexer": "ipython3",
   "version": "3.10.13"
  }
 },
 "nbformat": 4,
 "nbformat_minor": 4
}
