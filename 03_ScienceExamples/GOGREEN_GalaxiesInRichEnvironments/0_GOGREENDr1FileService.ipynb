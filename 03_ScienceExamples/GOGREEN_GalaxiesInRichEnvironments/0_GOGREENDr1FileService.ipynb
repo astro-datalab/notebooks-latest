{
 "cells": [
  {
   "cell_type": "code",
   "execution_count": 16,
   "id": "02665f9e-1125-4544-bed2-df8752874ebd",
   "metadata": {},
   "outputs": [],
   "source": [
    "__author__ = 'Stephanie Juneau <stephanie.juneau@noirlab.edu>, Felix Pat <felixpat10@email.arizona.edu>'\n",
    "__version__ = '20240606' #yyyymmdd\n",
    "__datasets__ = ['gogreen_dr1']\n",
    "__keywords__ = ['gemini llp','file service','spectra','catalogues']"
   ]
  },
  {
   "cell_type": "markdown",
   "id": "45a1e8c1-46ec-4447-aed9-c0b0ac81a502",
   "metadata": {},
   "source": [
    "# Listing files in the GOGREEN DR1 Dataset\n",
    "*Authors: Stephanie Juneau (NOIRLab), Felix Pat (Univ. of Arizona), and the Astro Data Lab Team*"
   ]
  },
  {
   "cell_type": "markdown",
   "id": "315d46d7-5fe9-4d7f-8928-77fabc40b773",
   "metadata": {},
   "source": [
    "### Table of contents\n",
    "* [Goal](#LFgoal)\n",
    "* [Summary](#LFsummary)\n",
    "* [Disclaimer & attribution](#LFdisclaimer)\n",
    "* [Imports](#LFimport)\n",
    "* [Reading in Cluster table from the Data Lab database](#LF0)\n",
    "* [Pathway to 1D, 2D, and image directories](#LF1)\n",
    "* [1D spectra files](#LF2)\n",
    "* [2D spectra files](#LF3)\n",
    "* [Image files](#LF4)\n",
    "* [References](#LF5)"
   ]
  },
  {
   "cell_type": "markdown",
   "id": "06def35e-b82b-4f0e-af0c-03f7fd1780ad",
   "metadata": {},
   "source": [
    "<a class=\"anchor\" id=\"LFgoal\"></a>\n",
    "# Goal\n",
    "This notebook uses the file service to list available files as part of the [GOGREEN DR1 dataset](https://datalab.noirlab.edu/gogreendr1/), which includes data from [GOGREEN](https://ui.adsabs.harvard.edu/abs/2017MNRAS.470.4168B/abstract) and [GCLASS.](https://ui.adsabs.harvard.edu/abs/2012ApJ...746..188M/abstract)"
   ]
  },
  {
   "cell_type": "markdown",
   "id": "dae0d2b6-f4c6-4d95-9eac-d108c693e1ef",
   "metadata": {
    "jp-MarkdownHeadingCollapsed": true
   },
   "source": [
    "<a class=\"anchor\" id=\"LFsummary\"></a>\n",
    "# Summary\n",
    "This notebook prints out files available in Data Lab from [GOGREEN DR1 dataset](https://ui.adsabs.harvard.edu/abs/2021MNRAS.500..358B/abstract) 1D spectra, 2D spectra, and image directories. After listing each cluster name and whether their respective file is available, one can use the lists to retrieve data for clusters and/or galaxies of interest. This notebooks gives a tour of the data files as a starting point while other GOGREEN notebooks demonstrate various capabilities for data access and analyses."
   ]
  },
  {
   "cell_type": "markdown",
   "id": "6e68d221-4261-4859-bd6e-5e7db5a548c4",
   "metadata": {},
   "source": [
    "<a class=\"anchor\" id=\"attribution\"></a>\n",
    "# Disclaimer & attribution\n",
    "\n",
    "Disclaimers\n",
    "-----------\n",
    "Note that using the Astro Data Lab constitutes your agreement with our minimal [Disclaimers](https://datalab.noirlab.edu/disclaimers.php).\n",
    "\n",
    "Acknowledgments\n",
    "---------------\n",
    "If you use **Astro Data Lab** in your published research, please include the text in your paper's Acknowledgments section:\n",
    "\n",
    "_This research uses services or data provided by the Astro Data Lab, which is part of the Community Science and Data Center (CSDC) Program of NSF NOIRLab. NOIRLab is operated by the Association of Universities for Research in Astronomy (AURA), Inc. under a cooperative agreement with the U.S. National Science Foundation._\n",
    "\n",
    "If you use **SPARCL jointly with the Astro Data Lab platform** (via JupyterLab, command-line, or web interface) in your published research, please include this text below in your paper's Acknowledgments section:\n",
    "\n",
    "_This research uses services or data provided by the SPectra Analysis and Retrievable Catalog Lab (SPARCL) and the Astro Data Lab, which are both part of the Community Science and Data Center (CSDC) Program of NSF NOIRLab. NOIRLab is operated by the Association of Universities for Research in Astronomy (AURA), Inc. under a cooperative agreement with the U.S. National Science Foundation._\n",
    "\n",
    "In either case **please cite the following papers**:\n",
    "\n",
    "* Data Lab concept paper: Fitzpatrick et al., \"The NOAO Data Laboratory: a conceptual overview\", SPIE, 9149, 2014, https://doi.org/10.1117/12.2057445\n",
    "\n",
    "* Astro Data Lab overview: Nikutta et al., \"Data Lab - A Community Science Platform\", Astronomy and Computing, 33, 2020, https://doi.org/10.1016/j.ascom.2020.100411\n",
    "\n",
    "If you are referring to the Data Lab JupyterLab / Jupyter Notebooks, cite:\n",
    "\n",
    "* Juneau et al., \"Jupyter-Enabled Astrophysical Analysis Using Data-Proximate Computing Platforms\", CiSE, 23, 15, 2021, https://doi.org/10.1109/MCSE.2021.3057097\n",
    "\n",
    "If publishing in a AAS journal, also add the keyword: `\\facility{Astro Data Lab}`\n",
    "\n",
    "And if you are using SPARCL, please also add `\\software{SPARCL}` and cite:\n",
    "\n",
    "* Juneau et al., \"SPARCL: SPectra Analysis and Retrievable Catalog Lab\", Conference Proceedings for ADASS XXXIII, 2024\n",
    "https://doi.org/10.48550/arXiv.2401.05576\n",
    "\n",
    "The NOIRLab Library maintains [lists of proper acknowledgments](https://noirlab.edu/science/about/scientific-acknowledgments) to use when publishing papers using the Lab's facilities, data, or services."
   ]
  },
  {
   "cell_type": "markdown",
   "id": "df61b028-d61d-4b03-929a-39d7b3e9d604",
   "metadata": {},
   "source": [
    "<a class=\"anchor\" id=\"LFimport\"></a>\n",
    "# Imports"
   ]
  },
  {
   "cell_type": "code",
   "execution_count": 2,
   "id": "15ce0190-b8e1-4a71-822c-6cbaf103f2f5",
   "metadata": {},
   "outputs": [],
   "source": [
    "# 3rd party\n",
    "import textwrap\n",
    "wrapper = textwrap.TextWrapper(width=200)\n",
    "\n",
    "# Data Lab\n",
    "from dl import queryClient as qc, storeClient as sc"
   ]
  },
  {
   "cell_type": "markdown",
   "id": "e0b457ac-2370-4707-8986-0d4f96eec0b8",
   "metadata": {},
   "source": [
    "<a class=\"anchor\" id=\"LF0\"></a>\n",
    "# Read in Clusters table from the [gogreen_dr1 database](https://datalab.noirlab.edu/query.php?name=gogreen_dr1.clusters)"
   ]
  },
  {
   "cell_type": "code",
   "execution_count": 3,
   "id": "0f863a2a-ca30-4039-b86a-75c90287d1c6",
   "metadata": {},
   "outputs": [],
   "source": [
    "clusters = qc.query('select * from gogreen_dr1.clusters', fmt='pandas')"
   ]
  },
  {
   "cell_type": "code",
   "execution_count": 4,
   "id": "ce723d7f-0b75-4f5e-97e9-4fdda7786843",
   "metadata": {},
   "outputs": [
    {
     "data": {
      "text/plain": [
       "Index(['cluster', 'fullname', 'cluster_id', 'ra_best', 'dec_best', 'ra_gmos',\n",
       "       'dec_gmos', 'pa_deg', 'redshift', 'vdisp', 'vdisp_err', 'gogreen_m1',\n",
       "       'gogreen_m2', 'gogreen_m3', 'gogreen_m4', 'gogreen_m5', 'gogreen_m6',\n",
       "       'gclass_m1', 'gclass_m2', 'gclass_m3', 'gclass_m4', 'gclass_m5',\n",
       "       'kphot_cat', 'photoz_cat', 'stelmass_cat', 'image_u', 'image_b',\n",
       "       'image_g', 'image_v', 'image_r', 'image_i', 'image_z', 'image_j',\n",
       "       'image_j1', 'image_y', 'image_k', 'image_irac1', 'preimage',\n",
       "       'random_id'],\n",
       "      dtype='object')"
      ]
     },
     "execution_count": 4,
     "metadata": {},
     "output_type": "execute_result"
    }
   ],
   "source": [
    "clusters.columns"
   ]
  },
  {
   "cell_type": "code",
   "execution_count": 5,
   "id": "71491682-8ec4-4596-86e5-5f6d469e4273",
   "metadata": {},
   "outputs": [
    {
     "data": {
      "text/html": [
       "<div>\n",
       "<style scoped>\n",
       "    .dataframe tbody tr th:only-of-type {\n",
       "        vertical-align: middle;\n",
       "    }\n",
       "\n",
       "    .dataframe tbody tr th {\n",
       "        vertical-align: top;\n",
       "    }\n",
       "\n",
       "    .dataframe thead th {\n",
       "        text-align: right;\n",
       "    }\n",
       "</style>\n",
       "<table border=\"1\" class=\"dataframe\">\n",
       "  <thead>\n",
       "    <tr style=\"text-align: right;\">\n",
       "      <th></th>\n",
       "      <th>cluster</th>\n",
       "      <th>gogreen_m1</th>\n",
       "      <th>gclass_m1</th>\n",
       "    </tr>\n",
       "  </thead>\n",
       "  <tbody>\n",
       "    <tr>\n",
       "      <th>0</th>\n",
       "      <td>COSMOS-125</td>\n",
       "      <td>GS2015ALP001-02</td>\n",
       "      <td>NaN</td>\n",
       "    </tr>\n",
       "    <tr>\n",
       "      <th>1</th>\n",
       "      <td>COSMOS-221</td>\n",
       "      <td>GS2014BLP001-05</td>\n",
       "      <td>NaN</td>\n",
       "    </tr>\n",
       "    <tr>\n",
       "      <th>2</th>\n",
       "      <td>COSMOS-28</td>\n",
       "      <td>GN2015BLP004-03</td>\n",
       "      <td>NaN</td>\n",
       "    </tr>\n",
       "    <tr>\n",
       "      <th>3</th>\n",
       "      <td>COSMOS-63</td>\n",
       "      <td>GN2015BLP004-02</td>\n",
       "      <td>NaN</td>\n",
       "    </tr>\n",
       "    <tr>\n",
       "      <th>4</th>\n",
       "      <td>SPT0205</td>\n",
       "      <td>GS2014BLP001-06</td>\n",
       "      <td>NaN</td>\n",
       "    </tr>\n",
       "    <tr>\n",
       "      <th>5</th>\n",
       "      <td>SPT0546</td>\n",
       "      <td>GS2014BLP001-09</td>\n",
       "      <td>NaN</td>\n",
       "    </tr>\n",
       "    <tr>\n",
       "      <th>6</th>\n",
       "      <td>SPT2106</td>\n",
       "      <td>GS2018ALP001-01</td>\n",
       "      <td>NaN</td>\n",
       "    </tr>\n",
       "    <tr>\n",
       "      <th>7</th>\n",
       "      <td>SXDF49</td>\n",
       "      <td>GN2015BLP004-01</td>\n",
       "      <td>NaN</td>\n",
       "    </tr>\n",
       "    <tr>\n",
       "      <th>8</th>\n",
       "      <td>SXDF64</td>\n",
       "      <td>GS2014BLP001-08</td>\n",
       "      <td>NaN</td>\n",
       "    </tr>\n",
       "    <tr>\n",
       "      <th>9</th>\n",
       "      <td>SXDF76</td>\n",
       "      <td>GS2014BLP001-02</td>\n",
       "      <td>NaN</td>\n",
       "    </tr>\n",
       "    <tr>\n",
       "      <th>10</th>\n",
       "      <td>SXDF76b</td>\n",
       "      <td>GS2014BLP001-02</td>\n",
       "      <td>NaN</td>\n",
       "    </tr>\n",
       "    <tr>\n",
       "      <th>11</th>\n",
       "      <td>SXDF87</td>\n",
       "      <td>GS2014BLP001-07</td>\n",
       "      <td>NaN</td>\n",
       "    </tr>\n",
       "    <tr>\n",
       "      <th>12</th>\n",
       "      <td>SpARCS0035</td>\n",
       "      <td>GS2015BLP001-06</td>\n",
       "      <td>GS2010BQ027-01</td>\n",
       "    </tr>\n",
       "    <tr>\n",
       "      <th>13</th>\n",
       "      <td>SpARCS0219</td>\n",
       "      <td>GS2015BLP001-17</td>\n",
       "      <td>NaN</td>\n",
       "    </tr>\n",
       "    <tr>\n",
       "      <th>14</th>\n",
       "      <td>SpARCS0335</td>\n",
       "      <td>GS2016BLP001-13</td>\n",
       "      <td>NaN</td>\n",
       "    </tr>\n",
       "    <tr>\n",
       "      <th>15</th>\n",
       "      <td>SpARCS1033</td>\n",
       "      <td>GN2017ALP004-02</td>\n",
       "      <td>NaN</td>\n",
       "    </tr>\n",
       "    <tr>\n",
       "      <th>16</th>\n",
       "      <td>SpARCS1034</td>\n",
       "      <td>GN2017BDD012-01</td>\n",
       "      <td>NaN</td>\n",
       "    </tr>\n",
       "    <tr>\n",
       "      <th>17</th>\n",
       "      <td>SpARCS1051</td>\n",
       "      <td>GN2016ALP004-03</td>\n",
       "      <td>GN2010AQ001-07</td>\n",
       "    </tr>\n",
       "    <tr>\n",
       "      <th>18</th>\n",
       "      <td>SpARCS1616</td>\n",
       "      <td>GN2016ALP004-06</td>\n",
       "      <td>GN2009AQ001-01</td>\n",
       "    </tr>\n",
       "    <tr>\n",
       "      <th>19</th>\n",
       "      <td>SpARCS1634</td>\n",
       "      <td>GN2016ALP004-04</td>\n",
       "      <td>GN2010AQ001-08</td>\n",
       "    </tr>\n",
       "    <tr>\n",
       "      <th>20</th>\n",
       "      <td>SpARCS1638</td>\n",
       "      <td>GN2016ALP004-01</td>\n",
       "      <td>GN2010AQ001-10</td>\n",
       "    </tr>\n",
       "    <tr>\n",
       "      <th>21</th>\n",
       "      <td>SpARCS0034</td>\n",
       "      <td>NaN</td>\n",
       "      <td>GS2009BQ026-05</td>\n",
       "    </tr>\n",
       "    <tr>\n",
       "      <th>22</th>\n",
       "      <td>SpARCS0036</td>\n",
       "      <td>NaN</td>\n",
       "      <td>GS2009BQ026-01</td>\n",
       "    </tr>\n",
       "    <tr>\n",
       "      <th>23</th>\n",
       "      <td>SpARCS0215</td>\n",
       "      <td>NaN</td>\n",
       "      <td>GN2009BQ034-01</td>\n",
       "    </tr>\n",
       "    <tr>\n",
       "      <th>24</th>\n",
       "      <td>SpARCS1047</td>\n",
       "      <td>NaN</td>\n",
       "      <td>GN2010BQ037-04</td>\n",
       "    </tr>\n",
       "    <tr>\n",
       "      <th>25</th>\n",
       "      <td>SpARCS1613</td>\n",
       "      <td>NaN</td>\n",
       "      <td>GN2010AQ001-04</td>\n",
       "    </tr>\n",
       "  </tbody>\n",
       "</table>\n",
       "</div>"
      ],
      "text/plain": [
       "       cluster       gogreen_m1       gclass_m1\n",
       "0   COSMOS-125  GS2015ALP001-02             NaN\n",
       "1   COSMOS-221  GS2014BLP001-05             NaN\n",
       "2    COSMOS-28  GN2015BLP004-03             NaN\n",
       "3    COSMOS-63  GN2015BLP004-02             NaN\n",
       "4      SPT0205  GS2014BLP001-06             NaN\n",
       "5      SPT0546  GS2014BLP001-09             NaN\n",
       "6      SPT2106  GS2018ALP001-01             NaN\n",
       "7       SXDF49  GN2015BLP004-01             NaN\n",
       "8       SXDF64  GS2014BLP001-08             NaN\n",
       "9       SXDF76  GS2014BLP001-02             NaN\n",
       "10     SXDF76b  GS2014BLP001-02             NaN\n",
       "11      SXDF87  GS2014BLP001-07             NaN\n",
       "12  SpARCS0035  GS2015BLP001-06  GS2010BQ027-01\n",
       "13  SpARCS0219  GS2015BLP001-17             NaN\n",
       "14  SpARCS0335  GS2016BLP001-13             NaN\n",
       "15  SpARCS1033  GN2017ALP004-02             NaN\n",
       "16  SpARCS1034  GN2017BDD012-01             NaN\n",
       "17  SpARCS1051  GN2016ALP004-03  GN2010AQ001-07\n",
       "18  SpARCS1616  GN2016ALP004-06  GN2009AQ001-01\n",
       "19  SpARCS1634  GN2016ALP004-04  GN2010AQ001-08\n",
       "20  SpARCS1638  GN2016ALP004-01  GN2010AQ001-10\n",
       "21  SpARCS0034              NaN  GS2009BQ026-05\n",
       "22  SpARCS0036              NaN  GS2009BQ026-01\n",
       "23  SpARCS0215              NaN  GN2009BQ034-01\n",
       "24  SpARCS1047              NaN  GN2010BQ037-04\n",
       "25  SpARCS1613              NaN  GN2010AQ001-04"
      ]
     },
     "execution_count": 5,
     "metadata": {},
     "output_type": "execute_result"
    }
   ],
   "source": [
    "# List the cluster names, and the first mask from GOGREEN and from GCLASS to check\n",
    "# which clusters don't have any GOGREEN data (gogreen_m1 = NaN)\n",
    "clusters[['cluster','gogreen_m1','gclass_m1']]"
   ]
  },
  {
   "cell_type": "code",
   "execution_count": 6,
   "id": "134dce60-6dfb-4e03-8e73-8583894b8bad",
   "metadata": {},
   "outputs": [
    {
     "name": "stdout",
     "output_type": "stream",
     "text": [
      "Total number of galaxy clusters:  26\n"
     ]
    },
    {
     "data": {
      "text/plain": [
       "0     COSMOS-125\n",
       "1     COSMOS-221\n",
       "2      COSMOS-28\n",
       "3      COSMOS-63\n",
       "4        SPT0205\n",
       "5        SPT0546\n",
       "6        SPT2106\n",
       "7         SXDF49\n",
       "8         SXDF64\n",
       "9         SXDF76\n",
       "10       SXDF76b\n",
       "11        SXDF87\n",
       "12    SpARCS0035\n",
       "13    SpARCS0219\n",
       "14    SpARCS0335\n",
       "15    SpARCS1033\n",
       "16    SpARCS1034\n",
       "17    SpARCS1051\n",
       "18    SpARCS1616\n",
       "19    SpARCS1634\n",
       "20    SpARCS1638\n",
       "21    SpARCS0034\n",
       "22    SpARCS0036\n",
       "23    SpARCS0215\n",
       "24    SpARCS1047\n",
       "25    SpARCS1613\n",
       "Name: cluster, dtype: object"
      ]
     },
     "execution_count": 6,
     "metadata": {},
     "output_type": "execute_result"
    }
   ],
   "source": [
    "print('Total number of galaxy clusters: ', len(clusters))\n",
    "cluster = clusters.cluster\n",
    "\n",
    "cluster"
   ]
  },
  {
   "cell_type": "markdown",
   "id": "63b29efb-aad3-4812-8d3e-face61a71973",
   "metadata": {},
   "source": [
    "<a class=\"anchor\" id=\"LF1\"></a>\n",
    "# Location of files in the file service"
   ]
  },
  {
   "cell_type": "code",
   "execution_count": 7,
   "id": "c389d84f-d1c8-46b8-ad19-163b5c04702e",
   "metadata": {},
   "outputs": [],
   "source": [
    "oneddir = 'gogreen_dr1://SPECTROSCOPY/OneD/'  # 1-d spectra\n",
    "twoddir = 'gogreen_dr1://SPECTROSCOPY/TwoD/'  # 2-d spectra\n",
    "imdir = 'gogreen_dr1://PHOTOMETRY/IMAGES/'    # photometry and images\n",
    "\n",
    "# make variables for file names\n",
    "onedfiles = oneddir + cluster + '_final.fits'\n",
    "twodfiles = twoddir + cluster + '_twod.fits.gz'"
   ]
  },
  {
   "cell_type": "markdown",
   "id": "bf2d2d36-3d43-4bcf-aa47-a726df0c7cd0",
   "metadata": {},
   "source": [
    "<a class=\"anchor\" id=\"LF2\"></a>\n",
    "# One-D spectra\n",
    "The storeClient as sc service is called here to retrieve the file names. For more uses and information, refer to the [How-to-use-the-StoreClient](https://github.com/astro-datalab/notebooks-latest/blob/master/04_HowTos/StoreClient/How_to_use_the_Data_Lab_StoreClient.ipynb) notebook."
   ]
  },
  {
   "cell_type": "code",
   "execution_count": 8,
   "id": "6472f4e9-cb98-4e1b-88ee-0da3f2996d7e",
   "metadata": {},
   "outputs": [
    {
     "name": "stdout",
     "output_type": "stream",
     "text": [
      "-rw-rw-r-x  gogreen_dr1  2793600  13 Aug 2020 17:54  COSMOS-125_final.fits\n",
      "-rw-rw-r-x  gogreen_dr1  3438720  13 Aug 2020 17:54  COSMOS-221_final.fits\n",
      "-rw-rw-r-x  gogreen_dr1  2833920  13 Aug 2020 17:54  COSMOS-28_final.fits\n",
      "-rw-rw-r-x  gogreen_dr1  1379520  13 Aug 2020 17:54  COSMOS-63_final.fits\n",
      "-rw-rw-r-x  gogreen_dr1     174  13 Aug 2020 17:54  README\n",
      "-rw-rw-r-x  gogreen_dr1  3720960  13 Aug 2020 17:54  SPT0205_final.fits\n",
      "-rw-rw-r-x  gogreen_dr1  4728960  13 Aug 2020 17:54  SPT0546_final.fits\n",
      "-rw-rw-r-x  gogreen_dr1  3358080  13 Aug 2020 17:54  SPT2106_final.fits\n",
      "-rw-rw-r-x  gogreen_dr1  5011200  13 Aug 2020 17:54  SXDF49_final.fits\n",
      "-rw-rw-r-x  gogreen_dr1  1137600  13 Aug 2020 17:54  SXDF64_final.fits\n",
      "-rw-rw-r-x  gogreen_dr1  4245120  13 Aug 2020 17:54  SXDF76_final.fits\n",
      "-rw-rw-r-x  gogreen_dr1  4783680  13 Aug 2020 17:54  SpARCS0034_final.fits\n",
      "-rw-rw-r-x  gogreen_dr1  5451840  13 Aug 2020 17:54  SpARCS0035_final.fits\n",
      "-rw-rw-r-x  gogreen_dr1  4262400  13 Aug 2020 17:54  SpARCS0036_final.fits\n",
      "-rw-rw-r-x  gogreen_dr1  4331520  13 Aug 2020 17:54  SpARCS0215_final.fits\n",
      "-rw-rw-r-x  gogreen_dr1  3075840  13 Aug 2020 17:54  SpARCS0219_final.fits\n",
      "-rw-rw-r-x  gogreen_dr1  3317760  13 Aug 2020 17:54  SpARCS0335_final.fits\n",
      "-rw-rw-r-x  gogreen_dr1  2995200  13 Aug 2020 17:54  SpARCS1033_final.fits\n",
      "-rw-rw-r-x  gogreen_dr1  3156480  13 Aug 2020 17:54  SpARCS1034_final.fits\n",
      "-rw-rw-r-x  gogreen_dr1  5094720  13 Aug 2020 17:54  SpARCS1047_final.fits\n",
      "-rw-rw-r-x  gogreen_dr1  7240320  13 Aug 2020 17:54  SpARCS1051_final.fits\n",
      "-rw-rw-r-x  gogreen_dr1  5613120  13 Aug 2020 17:54  SpARCS1613_final.fits\n",
      "-rw-rw-r-x  gogreen_dr1  8461440  13 Aug 2020 17:54  SpARCS1616_final.fits\n",
      "-rw-rw-r-x  gogreen_dr1  7361280  13 Aug 2020 17:54  SpARCS1634_final.fits\n",
      "-rw-rw-r-x  gogreen_dr1  7084800  13 Aug 2020 17:54  SpARCS1638_final.fits\n",
      "\n"
     ]
    }
   ],
   "source": [
    "print(sc.ls(oneddir,format='long'))"
   ]
  },
  {
   "cell_type": "code",
   "execution_count": 9,
   "id": "2e76690b-2e6c-494c-94f2-708a5b15d141",
   "metadata": {},
   "outputs": [
    {
     "name": "stdout",
     "output_type": "stream",
     "text": [
      "This directory contains final 1D spectra for every system in GOGREEN and GCLASS.  These have been absolute flux calibrated where possible, using Lyndsay's v1.1 calibrations.\n"
     ]
    }
   ],
   "source": [
    "print(wrapper.fill(text=sc.get(oneddir+'README')))"
   ]
  },
  {
   "cell_type": "markdown",
   "id": "cd4d06fd-83d8-4656-a1f5-e0ca1ff0b351",
   "metadata": {},
   "source": [
    "### Note:\n",
    "From the list above, there are 24 subfolders for 26 clusters. This is expected because two pairs of clusters are in the same field and therefore share a file (see footnote to Table 1 in the GOGREEN DR1 paper):\n",
    "- `SXDF49` and `SXDF87` share a single GMOS field.  The spectra for both are included in the `SXDF49` fits files.\n",
    "- `SXDF76` and `SXDF76b` share a single GMOS field.  The spectra for both are included in the `SXDF76` fits files.\n",
    "\n",
    "Below, we will verify this by printing the names of the 1D spectra files."
   ]
  },
  {
   "cell_type": "code",
   "execution_count": 10,
   "id": "e9123af2-c485-43cd-816c-b30741635e37",
   "metadata": {},
   "outputs": [
    {
     "name": "stdout",
     "output_type": "stream",
     "text": [
      "COSMOS-125 True\n",
      "COSMOS-221 True\n",
      "COSMOS-28  True\n",
      "COSMOS-63  True\n",
      "SPT0205    True\n",
      "SPT0546    True\n",
      "SPT2106    True\n",
      "SXDF49     True\n",
      "SXDF64     True\n",
      "SXDF76     True\n",
      "SXDF76b    False\n",
      "SXDF87     False\n",
      "SpARCS0035 True\n",
      "SpARCS0219 True\n",
      "SpARCS0335 True\n",
      "SpARCS1033 True\n",
      "SpARCS1034 True\n",
      "SpARCS1051 True\n",
      "SpARCS1616 True\n",
      "SpARCS1634 True\n",
      "SpARCS1638 True\n",
      "SpARCS0034 True\n",
      "SpARCS0036 True\n",
      "SpARCS0215 True\n",
      "SpARCS1047 True\n",
      "SpARCS1613 True\n"
     ]
    }
   ],
   "source": [
    "for i in range(len(clusters)):\n",
    "     print(\"%-10s \" % cluster[i],end='')\n",
    "     if sc.stat(onedfiles[i]) != {}:\n",
    "         print(True)\n",
    "     else:\n",
    "         print(False)"
   ]
  },
  {
   "cell_type": "markdown",
   "id": "0442ce6c-b131-4f2e-9f7a-c1bb1559086d",
   "metadata": {},
   "source": [
    "### Note:\n",
    "As expected, we find that `SXDF76b` and `SXDF87` are not listed with separate one-D spectra files."
   ]
  },
  {
   "cell_type": "markdown",
   "id": "fa1f919e-81b5-4ed0-ad88-435c80943df6",
   "metadata": {},
   "source": [
    "<a class=\"anchor\" id=\"LF3\"></a>\n",
    "# Two-D spectra"
   ]
  },
  {
   "cell_type": "code",
   "execution_count": 11,
   "id": "1802c0fb-cbc2-4130-b325-7745f6f42f25",
   "metadata": {
    "tags": []
   },
   "outputs": [
    {
     "name": "stdout",
     "output_type": "stream",
     "text": [
      "-rw-rw-r-x  gogreen_dr1  8714082  13 Aug 2020 17:54  COSMOS-125_twod.fits.gz\n",
      "-rw-rw-r-x  gogreen_dr1  10620431  13 Aug 2020 17:54  COSMOS-221_twod.fits.gz\n",
      "-rw-rw-r-x  gogreen_dr1  14009121  13 Aug 2020 17:54  COSMOS-28_twod.fits.gz\n",
      "-rw-rw-r-x  gogreen_dr1  4838575  13 Aug 2020 17:54  COSMOS-63_twod.fits.gz\n",
      "-rw-rw-r-x  gogreen_dr1     340  13 Aug 2020 17:54  README\n",
      "-rw-rw-r-x  gogreen_dr1  11848796  13 Aug 2020 17:54  SPT0205_twod.fits.gz\n",
      "-rw-rw-r-x  gogreen_dr1  15034157  13 Aug 2020 17:54  SPT0546_twod.fits.gz\n",
      "-rw-rw-r-x  gogreen_dr1  10916915  13 Aug 2020 17:54  SPT2106_twod.fits.gz\n",
      "-rw-rw-r-x  gogreen_dr1  27405946  13 Aug 2020 17:54  SXDF49_twod.fits.gz\n",
      "-rw-rw-r-x  gogreen_dr1  3710772  13 Aug 2020 17:54  SXDF64_twod.fits.gz\n",
      "-rw-rw-r-x  gogreen_dr1  13944087  13 Aug 2020 17:54  SXDF76_twod.fits.gz\n",
      "-rw-rw-r-x  gogreen_dr1  11352764  13 Aug 2020 17:54  SpARCS0035_twod.fits.gz\n",
      "-rw-rw-r-x  gogreen_dr1  10195223  13 Aug 2020 17:54  SpARCS0219_twod.fits.gz\n",
      "-rw-rw-r-x  gogreen_dr1  10879009  13 Aug 2020 17:54  SpARCS0335_twod.fits.gz\n",
      "-rw-rw-r-x  gogreen_dr1  9898930  13 Aug 2020 17:54  SpARCS1033_twod.fits.gz\n",
      "-rw-rw-r-x  gogreen_dr1  10452166  13 Aug 2020 17:54  SpARCS1034_twod.fits.gz\n",
      "-rw-rw-r-x  gogreen_dr1  15114192  13 Aug 2020 17:54  SpARCS1051_twod.fits.gz\n",
      "-rw-rw-r-x  gogreen_dr1  17194858  13 Aug 2020 17:54  SpARCS1616_twod.fits.gz\n",
      "-rw-rw-r-x  gogreen_dr1  18905927  13 Aug 2020 17:54  SpARCS1634_twod.fits.gz\n",
      "-rw-rw-r-x  gogreen_dr1  18361425  13 Aug 2020 17:54  SpARCS1638_twod.fits.gz\n",
      "\n"
     ]
    }
   ],
   "source": [
    "print(sc.ls(twoddir,format='long'))"
   ]
  },
  {
   "cell_type": "code",
   "execution_count": 12,
   "id": "97aade61-99b1-4c83-9d82-40cb58ba710c",
   "metadata": {
    "tags": []
   },
   "outputs": [
    {
     "name": "stdout",
     "output_type": "stream",
     "text": [
      "Each file contains 2D spectra for GOGREEN.  The spatial axis is in pixels, which are 0.16\".  No relative or absolute flux calibration has been applied to these spectra; the pixel units are in detector\n",
      "counts.  Note the dimension of these MEF files can be different from the corresponding 1D files because the latter include GCLASS spectra.\n"
     ]
    }
   ],
   "source": [
    "print(wrapper.fill(text=sc.get(twoddir+'README')))"
   ]
  },
  {
   "cell_type": "code",
   "execution_count": 13,
   "id": "f2810e8e-8ca2-4ad0-a2dc-af5d09e79295",
   "metadata": {
    "tags": []
   },
   "outputs": [
    {
     "name": "stdout",
     "output_type": "stream",
     "text": [
      "COSMOS-125 True\n",
      "COSMOS-221 True\n",
      "COSMOS-28  True\n",
      "COSMOS-63  True\n",
      "SPT0205    True\n",
      "SPT0546    True\n",
      "SPT2106    True\n",
      "SXDF49     True\n",
      "SXDF64     True\n",
      "SXDF76     True\n",
      "SXDF76b    False\n",
      "SXDF87     False\n",
      "SpARCS0035 True\n",
      "SpARCS0219 True\n",
      "SpARCS0335 True\n",
      "SpARCS1033 True\n",
      "SpARCS1034 True\n",
      "SpARCS1051 True\n",
      "SpARCS1616 True\n",
      "SpARCS1634 True\n",
      "SpARCS1638 True\n",
      "SpARCS0034 False\n",
      "SpARCS0036 False\n",
      "SpARCS0215 False\n",
      "SpARCS1047 False\n",
      "SpARCS1613 False\n"
     ]
    }
   ],
   "source": [
    "for i in range(len(clusters)):\n",
    "     print(\"%-10s \" % cluster[i],end='')\n",
    "     if sc.stat(twodfiles[i]) != {}:\n",
    "         print(True)\n",
    "     else:\n",
    "         print(False)"
   ]
  },
  {
   "cell_type": "markdown",
   "id": "ba566127-2734-447a-8853-315c3c3d41ea",
   "metadata": {},
   "source": [
    "### Note:\n",
    "The last five SpARCS clusters lack a GOGREEN mask, and therefore lack a twod data folder (as expected). In addition, the two pairs of clusters sharing a GMOS field are grouped together as we saw for the 1D spectra above (`SXDF76b` together with `SXDF76`; `SXDF87` together with `SXDF49`)."
   ]
  },
  {
   "cell_type": "markdown",
   "id": "4f107d85-b627-459a-8a51-cc27fb4f9a29",
   "metadata": {},
   "source": [
    "<a class=\"anchor\" id=\"LF4\"></a>\n",
    "# Images\n",
    "\n",
    "We now list the folders in the image directory."
   ]
  },
  {
   "cell_type": "code",
   "execution_count": 14,
   "id": "2f3ba321-6726-4cfc-9b42-d8e3a39fe2d1",
   "metadata": {
    "tags": []
   },
   "outputs": [
    {
     "name": "stdout",
     "output_type": "stream",
     "text": [
      "drwxrwxr-x  gogreen_dr1       0  13 Aug 2020 17:54  HST/\n",
      "-rw-rw-r-x  gogreen_dr1    5058  13 Aug 2020 17:54  MAGZPs_cal.list\n",
      "drwxrwxr-x  gogreen_dr1       0  13 Aug 2020 17:54  MANMASKS/\n",
      "drwxrwxr-x  gogreen_dr1       0  13 Aug 2020 17:54  Preimages/\n",
      "drwxrwxr-x  gogreen_dr1       0  13 Aug 2020 17:54  SPTCL-0205/\n",
      "drwxrwxr-x  gogreen_dr1       0  13 Aug 2020 17:54  SPTCL-0546/\n",
      "drwxrwxr-x  gogreen_dr1       0  13 Aug 2020 17:54  SPTCL-2106/\n",
      "drwxrwxr-x  gogreen_dr1       0  13 Aug 2020 17:54  SpARCS-0034/\n",
      "drwxrwxr-x  gogreen_dr1       0  13 Aug 2020 17:54  SpARCS-0035/\n",
      "drwxrwxr-x  gogreen_dr1       0  13 Aug 2020 17:54  SpARCS-0036/\n",
      "drwxrwxr-x  gogreen_dr1       0  13 Aug 2020 17:54  SpARCS-0215/\n",
      "drwxrwxr-x  gogreen_dr1       0  13 Aug 2020 17:54  SpARCS-0219/\n",
      "drwxrwxr-x  gogreen_dr1       0  13 Aug 2020 17:54  SpARCS-0335/\n",
      "drwxrwxr-x  gogreen_dr1       0  13 Aug 2020 17:54  SpARCS-1034/\n",
      "drwxrwxr-x  gogreen_dr1       0  13 Aug 2020 17:54  SpARCS-1047/\n",
      "drwxrwxr-x  gogreen_dr1       0  13 Aug 2020 17:54  SpARCS-1051/\n",
      "drwxrwxr-x  gogreen_dr1       0  13 Aug 2020 17:54  SpARCS-1613/\n",
      "drwxrwxr-x  gogreen_dr1       0  13 Aug 2020 17:54  SpARCS-1616/\n",
      "drwxrwxr-x  gogreen_dr1       0  13 Aug 2020 17:54  SpARCS-1634/\n",
      "drwxrwxr-x  gogreen_dr1       0  13 Aug 2020 17:54  SpARCS-1638/\n",
      "-rw-rw-r-x  gogreen_dr1     288  13 Aug 2020 17:54  psfsize_target.dat\n",
      "-rw-rw-r-x  gogreen_dr1     204  13 Aug 2020 17:54  psfsize_target_psf2.dat\n",
      "-rw-rw-r-x  gogreen_dr1    1380  13 Aug 2020 17:54  seeingpsf.info\n",
      "\n"
     ]
    }
   ],
   "source": [
    "print(sc.ls(imdir, format='long'))"
   ]
  },
  {
   "cell_type": "markdown",
   "id": "96f8676e-a6eb-4f7d-a797-c61e4fae42d3",
   "metadata": {},
   "source": [
    "### Note:\n",
    "Above, we see that the nomenclature is different from the cluster naming from the table. Namely:\n",
    "- `SPTxxxx` are named `SPTCL-xxxx`\n",
    "- `SpARCSxxxx` are named `SpARCS-xxxx`\n",
    "\n",
    "There are 16 out of 26 clusters with an imaging folder. In the case of Cluster `SpARCS1033`, the K-band imaging was not available at the time of the first release. It will however become available in the future as part of GOGREEN DR2.\n",
    "\n",
    "In addition, there is an `HST/` folder for Hubble Space Telescope imaging. Let's examine its content next."
   ]
  },
  {
   "cell_type": "code",
   "execution_count": 15,
   "id": "b2c125a0-0348-47b3-9b4b-fd95ca03ecb3",
   "metadata": {
    "tags": []
   },
   "outputs": [
    {
     "name": "stdout",
     "output_type": "stream",
     "text": [
      "-rw-rw-r-x  gogreen_dr1    3325  13 Aug 2020 17:54  README\n",
      "drwxrwxr-x  gogreen_dr1       0  13 Aug 2020 17:54  RGB_images/\n",
      "drwxrwxr-x  gogreen_dr1       0  13 Aug 2020 17:54  SPARCS0034/\n",
      "drwxrwxr-x  gogreen_dr1       0  13 Aug 2020 17:54  SPARCS0035/\n",
      "drwxrwxr-x  gogreen_dr1       0  13 Aug 2020 17:54  SPARCS0036/\n",
      "drwxrwxr-x  gogreen_dr1       0  13 Aug 2020 17:54  SPARCS0215/\n",
      "drwxrwxr-x  gogreen_dr1       0  13 Aug 2020 17:54  SPARCS0219/\n",
      "drwxrwxr-x  gogreen_dr1       0  13 Aug 2020 17:54  SPARCS0335/\n",
      "drwxrwxr-x  gogreen_dr1       0  13 Aug 2020 17:54  SPARCS1033/\n",
      "drwxrwxr-x  gogreen_dr1       0  13 Aug 2020 17:54  SPARCS1034/\n",
      "drwxrwxr-x  gogreen_dr1       0  13 Aug 2020 17:54  SPARCS1047/\n",
      "drwxrwxr-x  gogreen_dr1       0  13 Aug 2020 17:54  SPARCS1051/\n",
      "drwxrwxr-x  gogreen_dr1       0  13 Aug 2020 17:54  SPARCS1613/\n",
      "drwxrwxr-x  gogreen_dr1       0  13 Aug 2020 17:54  SPARCS1616/\n",
      "drwxrwxr-x  gogreen_dr1       0  13 Aug 2020 17:54  SPARCS1634/\n",
      "drwxrwxr-x  gogreen_dr1       0  13 Aug 2020 17:54  SPARCS1638/\n",
      "drwxrwxr-x  gogreen_dr1       0  13 Aug 2020 17:54  SPT0205/\n",
      "drwxrwxr-x  gogreen_dr1       0  13 Aug 2020 17:54  SPT0546/\n",
      "drwxrwxr-x  gogreen_dr1       0  13 Aug 2020 17:54  SPT2106/\n",
      "\n"
     ]
    }
   ],
   "source": [
    "print(sc.ls(imdir+'HST/', format='long'))"
   ]
  },
  {
   "cell_type": "markdown",
   "id": "00a5d66c-7e6b-4455-8127-6a19e1f43d98",
   "metadata": {},
   "source": [
    "### Note:\n",
    "Above, we see that the nomenclature is different from the previous folder, and also different from the cluster naming from the table in one case. Namely:\n",
    "- `SPTxxxx` are named the same as in the clusters table;\n",
    "- `SpARCSxxxx` are named `SPARCSxxxx` (all upper case letters)\n",
    "\n",
    "There are 17 out of 26 clusters with an `HST/` imaging folder."
   ]
  },
  {
   "cell_type": "markdown",
   "id": "9284634e-4ff7-4d0c-8746-c23a84d8545b",
   "metadata": {
    "tags": []
   },
   "source": [
    "<a class=\"anchor\" id=\"LF5\"></a>\n",
    "# References\n",
    "\n",
    "#### GOGREEN Notebooks at the Data Lab\n",
    "- [GOGREEN Data Release 1 data access at Astro Data Lab](https://github.com/astro-datalab/notebooks-latest/blob/master/03_ScienceExamples/GOGREEN_GalaxiesInRichEnvironments/1_GOGREENDr1DataAccessAtDataLab.ipynb)\n",
    "- [GOGREEN DR1 at Data Lab - Simple Image Access (SIA)](https://github.com/astro-datalab/notebooks-latest/blob/master/03_ScienceExamples/GOGREEN_GalaxiesInRichEnvironments/2_GOGREENDr1SIA.ipynb)\n",
    "\n",
    "#### GOGREEN & GCLASS DR1 Paper\n",
    "- [Balogh et al. 2021, MNRAS, 500, 358](https://ui.adsabs.harvard.edu/abs/2021MNRAS.500..358B/abstract)"
   ]
  }
 ],
 "metadata": {
  "kernelspec": {
   "display_name": "Python 3 (ipykernel)",
   "language": "python",
   "name": "python3"
  },
  "language_info": {
   "codemirror_mode": {
    "name": "ipython",
    "version": 3
   },
   "file_extension": ".py",
   "mimetype": "text/x-python",
   "name": "python",
   "nbconvert_exporter": "python",
   "pygments_lexer": "ipython3",
   "version": "3.12.0"
  }
 },
 "nbformat": 4,
 "nbformat_minor": 5
}
