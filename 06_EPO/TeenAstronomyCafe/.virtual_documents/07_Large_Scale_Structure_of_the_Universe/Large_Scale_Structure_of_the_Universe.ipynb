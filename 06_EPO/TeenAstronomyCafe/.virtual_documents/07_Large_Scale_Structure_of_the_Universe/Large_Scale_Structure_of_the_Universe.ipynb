# Text that follows a "#" is known as a comment.
# Comments do not affect your code in any way.
# You should always read the comments at the top of each cell you interact with.
# Comments will be used to describe what the cell's code is actually doing.


# Text that DOESN'T follow a "#" is considered code.
# Lines of code are instructions given to your computer.
# The line of code below is a "print" statement.
# A print statement literally prints out the text between its quotes.

print("Congrats! You have successfully run your first cell!")


#If you are running this notebook in Colab, you should install these packages:
get_ipython().getoutput("pip install ipympl astroML &> /dev/null")
get_ipython().getoutput("pip install -U matplotlib==3.1.3 &> /dev/null")
print("You have successfully installed: astroML")


"""Import libraries.

Here, you are importing the libraries needed for this notebook. These libraries set up the plotting environment in
your browser.
"""

import numpy as np

get_ipython().run_line_magic("matplotlib", " widget")
import matplotlib.pyplot as plt
import matplotlib.cm as cm
import matplotlib.path as mpath
from mpl_toolkits.mplot3d import Axes3D

from IPython.core.display import Image, Markdown, display

from ipywidgets import *

from astroML.datasets import fetch_sdss_S82standards, fetch_sdss_specgals, fetch_sdss_spectrum, fetch_vega_spectrum
from astroML.plotting import MultiAxes

print('Done! You have successfully imported the libraries.')





"""Fetch and plot the reference spectrum.

The "Plate", "MJD", and "Fiber" numbers of the reference spectrum are entered below. They are used to gather
wavelength and brightness data. That data is then plotted on a graph.
"""

# Fetch the reference spectrum.
plate = 396
mjd = 51816
fiber = 605
spec = fetch_sdss_spectrum(plate, mjd, fiber)

# Plot the reference spectrum.
fig = plt.figure(1,figsize=(10,5))
ax = fig.add_subplot(111)
ax.set_title('Reference Spectrum')
ax.set_xlabel('Wavelength [Å]')
ax.set_ylabel('Relative Brightness')
ax.set_yticks([])
ln, = ax.plot(spec.wavelength(), spec.spectrum/spec.spectrum.max(), c='red', lw=0.5, label='Reference')
ax.legend()
fig.canvas.toolbar_position = 'bottom'

# Create the interactive widget.
def f(w1):
    ln.set_color(w1)
    ln.set_label('Reference')
    ax.legend()
    plt.show()

layout = {'width':'initial'}
style = {'description_width':'150px'}
box_layout = {'display':'flex', 'flex_flow':'column', 'border':'5px solid grey', 'width':'initial'}
w1 = ColorPicker(description='Reference Color:', value='red', layout=layout, style=style)
interactive(f, w1=w1)
Box([w1], layout=box_layout)


"""Fetch and plot the galaxy spectrum.

The "Plate", "MJD", and "Fiber" numbers of the galaxy spectrum are entered below. They are used to gather
wavelength and brightness data. That data is then plotted on a graph.
"""

# Fetch the galaxy spectrum.
plate = 2434
mjd = 53826
fiber = 359
spec1 = fetch_sdss_spectrum(plate, mjd, fiber)

# Plot the galaxy spectrum.
fig = plt.figure(2,figsize=(10,5))
ax = fig.add_subplot(111)
ax.set_title('Galaxy Spectrum')
ax.set_xlabel('Wavelength [Å]')
ax.set_ylabel('Relative Brightness')
ax.set_yticks([])
ln, = ax.plot(spec1.wavelength(), spec1.spectrum/spec1.spectrum.max(), c='blue', lw=0.3, label='Galaxy')
ax.legend()
fig.canvas.toolbar_position = 'bottom'

# Create the interactive widget.
def f(w2):
    ln.set_color(w2)
    ln.set_label('Galaxy')
    ax.legend()
    plt.show()

w2 = ColorPicker(description='Galaxy Color:', value='blue', layout=layout, style=style)
interactive(f, w2=w2)
Box([w2], layout=box_layout)


"""Plot the reference and galaxy spectra.

The reference and galaxy spectra are plotted side by side. They can be compared analytically so that the galaxy
spectrum's redshift value can be determined.
"""

# Plot the reference and galaxy spectra.
fig = plt.figure(3,figsize=(10,5))
ax = fig.add_subplot(111)
ax.set_title('Reference vs. Galaxy Spectra')
ax.set_xlabel('Wavelength [Å]')
ax.set_ylabel('Relative Brightness')
ax.set_yticks([])
ax.set_xlim(3700,7700)
ln1, = ax.plot(spec.wavelength(), spec.spectrum/spec.spectrum.max(), c=w1.value, lw=0.4, label='Reference')
ln2, = ax.plot(spec1.wavelength(), spec1.spectrum/spec1.spectrum.max(), c=w2.value, lw=0.4, label='Galaxy')
ax.legend()
fig.canvas.toolbar_position = 'bottom'

# Create the interactive widget.
def f(w1, w2, w3, w4, w5):
    ln1.set_color(w1)
    ln2.set_color(w2)
    ln1.set_xdata(spec.wavelength() * (1 + w3))
    ln1.set_ydata(spec.spectrum/spec.spectrum.max() + w4)
    if w5 == 'On':
        ax.relim()
        ax.autoscale_view()
    ln1.set_label('Reference')
    ln2.set_label('Galaxy')
    ax.legend()
    plt.show()

w3 = FloatSlider(description='Redshift:', value=0, min=0, max=0.2, step=0.01, layout=layout, style=style)
w4 = FloatSlider(description='Vertical Separation:', value=0, min=-1, max=1, step=0.01, layout=layout, style=style)
w5 = ToggleButtons(description='Window Resizing:', options=['On', 'Off'], layout=layout, style=style)
interactive(f, w1=w1, w2=w2, w3=w3, w4=w4, w5=w5)
Box([w3, w4, w5, w1, w2], layout=box_layout)


# close previous instance to save memory
plt.close()


"""Plot the reference and mystery galaxy spectra.

Various mystery galaxy spectra are plotted next to the reference to showcase a variety of redshifts.
"""

# Fetch the mystery galaxy spectrum.
plate = 2121
mjd = 54180
fiber = 414
spec2 = fetch_sdss_spectrum(plate, mjd, fiber)

# Plot the reference and mystery galaxy spectra.
fig = plt.figure(4, figsize=(10,5))
ax = fig.add_subplot(111)
ax.set_title('Reference vs. Mystery Galaxy 1 Spectra')
ax.set_xlabel('Wavelength [Å]')
ax.set_ylabel('Relative Brightness')
ax.set_yticks([])
ax.set_xlim(3700,7700)
ln1, = ax.plot(spec.wavelength(), spec.spectrum/spec.spectrum.max(), c=w1.value, lw=0.5, label='Reference')
ln2, = ax.plot(spec2.wavelength(), spec2.spectrum/spec2.spectrum.max(), c=w2.value, lw=0.5, label='Galaxy')
ax.legend()
fig.canvas.toolbar_position = 'bottom'

# Create the interactive widget.
def f(w1, w2, w3, w4, w5, w6):
    if w6 == 'Mystery Galaxy 1':
        plate = 2121
        mjd = 54180
        fiber = 414
        ax.set_title('Reference vs. Mystery Galaxy 1 Spectra')
    if w6 == 'Mystery Galaxy 2':
        plate = 1759
        mjd = 53081
        fiber = 126
        ax.set_title('Reference vs. Mystery Galaxy 2 Spectra')
    if w6 == 'Mystery Galaxy 3':
        plate = 1839
        mjd = 53471
        fiber = 310
        ax.set_title('Reference vs. Mystery Galaxy 3 Spectra')
    if w6 == 'Mystery Galaxy 4':
        plate = 2121
        mjd = 54180
        fiber = 523
        ax.set_title('Reference vs. Mystery Galaxy 4 Spectra')
    spec2 = fetch_sdss_spectrum(plate, mjd, fiber)
    ln2.set_xdata(spec2.wavelength())
    ln2.set_ydata(spec2.spectrum/spec2.spectrum.max())
    ln1.set_color(w1)
    ln2.set_color(w2)
    ln1.set_xdata(spec.wavelength() * (1 + w3))
    ln1.set_ydata(spec.spectrum/spec.spectrum.max() + w4)
    if w5 == 'On':
        ax.relim()
        ax.autoscale_view()
    ln1.set_label('Reference')
    ln2.set_label('Galaxy')
    ax.legend()
    plt.show()

w3 = FloatSlider(description='Redshift:', value=0, min=0, max=0.2, step=0.01, layout=layout, style=style)
w4 = FloatSlider(description='Vertical Separation:', value=0, min=-1, max=1, step=0.01, layout=layout, style=style)
w5 = ToggleButtons(description='Window Resizing:', options=['On', 'Off'], layout=layout, style=style)
galaxies = ['Mystery Galaxy 1', 'Mystery Galaxy 2', 'Mystery Galaxy 3', 'Mystery Galaxy 4']
w6 = ToggleButtons(description='Mystery Galaxy:', options=galaxies, layout=layout, style=style)
interactive(f, w1=w1, w2=w2, w3=w3, w4=w4, w5=w5, w6=w6)
Box([w6, w3, w4, w5, w1, w2], layout=box_layout)


"""Fetch and plot a section of the sky from the SDSS data."""

# Fetch the SDSS sata.
data = fetch_sdss_specgals()
print('Done retrieving the galaxy sample.\n')

# Define the coordinate variables for plotting.
RA = data['ra']
DEC = data['dec']
print('Range for RA values: %s    %s' %(np.round(np.amin(RA),3),np.round(np.amax(RA))))
print('Range for DEC values: %s    %s' %(np.round(np.amin(DEC),2),np.round(np.amax(DEC),2)))

# Convert RA range to [-180, 180] instead of [0, 360].
RA -= 180
print('Range for RA values after conversion: %s    %s' %(np.round(np.amin(RA),3),np.round(np.amax(RA),3)))

# Plot the RA/DEC positions.
fig = plt.figure()
ax = fig.add_subplot(111, fc='black')
ax.set_title('SDSS Galaxies')
ax.set_xlabel('RA [degrees]')
ax.set_ylabel('DEC [degrees]')
ax.set_xlim(-8, 8)  # Range for the x axis (horizontal)
ax.set_ylim(0, 16)  # Range for the y axis (vertical)
ln, = ax.plot(RA, DEC, c='white', marker='.', ms=1, ls='', alpha=0.5)
fig.canvas.toolbar_position = 'bottom'


"""Highlight distant galaxies based on redshift."""

# Fetch the SDSS data.
data = fetch_sdss_specgals()
print('Done retrieving the galaxy sample.\n')

# Define the coordinate variables for plotting.
RA = data['ra']
DEC = data['dec']

# Convert RA range to [-180, 180] instead of [0, 360].
RA -= 180

# Define redshift variable z.
z = data['z']

# Select a redshift range to highlight.
rz = np.where(np.absolute(z) < 0.01)

# Plot the RA/DEC positions.
fig = plt.figure()
ax = fig.add_subplot(111, fc='black')
ax.set_title('SDSS Galaxies')
ax.set_xlabel('RA [degrees]')
ax.set_ylabel('DEC [degrees]')
ax.set_xlim(-8, 8)  # Range for the x axis (horizontal)
ax.set_ylim(0, 16)  # Range for the y axis (vertical)
ln1, = ax.plot(RA, DEC, c='white', marker='.', ms=1, ls='', alpha=0.5)
ln2, = ax.plot(RA[rz], DEC[rz], c='yellow', marker='.', ms=3, ls='', alpha=1)  # rz selected galaxies
fig.canvas.toolbar_position = 'bottom'

# Create the interactive widget.
def f(w3):
    rz = np.where(np.absolute(z-w3) < 0.01)
    ln2.set_data([RA[rz], DEC[rz]])
    plt.show()

w3 = FloatSlider(description='Redshift:', value=0, min=0.02, max=0.2, step=0.01, layout=layout, style=style)
interactive(f, w3=w3)
Box([w3], layout=box_layout)


"""Color-code distant galaxies based on redshift."""

# Fetch the SDSS data.
data = fetch_sdss_specgals()

# Define the coordinate variables for plotting.
RA = data['ra']
DEC = data['dec']

# Convert RA range to [-180, 180] instead of [0, 360].
RA -= 180

# Define redshift variable z.
z = data['z']

# Plot the RA/DEC positions.
fig = plt.figure(figsize=(9,7))
ax = fig.add_subplot(111, fc='black')
ax.set_title('SDSS Galaxies (Color-Coded by Redshift)')
ax.set_xlabel('RA [degrees]')
ax.set_ylabel('DEC [degrees]')
ax.set_xlim(-8, 8)
ax.set_ylim(0, 16)
ln = ax.scatter(RA, DEC, s=2, c=z, lw=0, cmap=cm.rainbow, vmin=0, vmax=0.2)
fig.colorbar(ln)  # Color bar
fig.canvas.toolbar_position = 'bottom'

# Count how many galaxies are within the plot.
points = np.column_stack([RA, DEC])
verts = np.array([[-8, -8, 8, 8], [0, 16, 16, 0]]).T
path = mpath.Path(verts)
points_inside = points[path.contains_points(points)]
print('-------------------------------------')
print('Number of galaxies in the plot above: %s' %np.count_nonzero(points_inside))


"""Color-code distant galaxies based on redshift (zoomed-in)."""

# Fetch the SDSS data.
data = fetch_sdss_specgals()

# Define the coordinate variables for plotting.
RA = data['ra']
DEC = data['dec']

# Convert RA range to [-180, 180] instead of [0, 360].
RA -= 180

# Define redshift variable z.
z = data['z']

# Plot the RA/DEC positions.
fig = plt.figure()
ax = fig.add_subplot(111, fc='black')
ax.set_title('SDSS Galaxies (Color-Coded by Redshift)')
ax.set_xlabel('RA [degrees]')
ax.set_ylabel('DEC [degrees]')
ax.set_xlim(-2, 2)
ax.set_ylim(0, 4)
ln = ax.scatter(RA, DEC, s=5, c=z, lw=0, cmap=cm.rainbow, vmin=0, vmax=0.2)
fig.colorbar(ln)  # Color bar
fig.canvas.toolbar_position = 'bottom'

# Count how many galaxies are within the plot.
points = np.column_stack([RA, DEC])
verts = np.array([[-2, -2, 2, 2], [0, 4, 4, 0]]).T
path = mpath.Path(verts)
points_inside = points[path.contains_points(points)]
print('-------------------------------------')
print('Number of galaxies in the plot above: %s' %np.count_nonzero(points_inside))


"""Color-code distant galaxies based on redshift (zoomed-out)."""

# Fetch the SDSS data.
data = fetch_sdss_specgals()

# Define the coordinate variables for plotting.
RA = data['ra']
DEC = data['dec']

# Convert RA range to [-180, 180] instead of [0, 360].
RA -= 180

# Define redshift variable z.
z = data['z']

# Plot the RA/DEC positions.
fig = plt.figure(figsize=(12,8))
ax = fig.add_subplot(111, fc='black')
ax.set_title('SDSS Galaxies (Color-Coded by Redshift)')
ax.set_xlabel('RA [degrees]')
ax.set_ylabel('DEC [degrees]')
ax.set_xlim(-16, 16)
ax.set_ylim(0, 32)
ln = ax.scatter(RA, DEC, s=1, c=z, lw=0, cmap=cm.rainbow, vmin=0, vmax=0.2)
fig.colorbar(ln)  # Color bar
fig.canvas.toolbar_position = 'bottom'

# Count how many galaxies are within the plot.
points = np.column_stack([RA, DEC])
verts = np.array([[-16, -16, 16, 16], [0, 32, 32, 0]]).T
path = mpath.Path(verts)
points_inside = points[path.contains_points(points)]
print('-------------------------------------')
print('Number of galaxies in the plot above: %s' %np.count_nonzero(points_inside))
