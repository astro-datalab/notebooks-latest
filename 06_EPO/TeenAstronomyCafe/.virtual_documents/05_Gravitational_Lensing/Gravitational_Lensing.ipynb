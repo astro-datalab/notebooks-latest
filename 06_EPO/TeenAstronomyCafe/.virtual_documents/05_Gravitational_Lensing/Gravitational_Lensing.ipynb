# Text that follows a "#" is known as a comment.
# Comments do not affect your code in any way.
# You should always read the comments at the top of each cell you interact with.
# Comments will be used to describe what the cell's code is actually doing.


# Text that DOESN'T follow a "#" is considered code.
# Lines of code are instructions given to your computer.
# The line of code below is a "print" statement.
# A print statement literally prints out the text between its quotes.

print("Congrats! You have successfully run your first cell!")


# Now we import some needed packages from our repository

repoURL = 'https://raw.githubusercontent.com/astro-datalab/notebooks-latest/master/06_EPO/e-TeenAstronomyCafe/'

from httpimport import remote_repo

with remote_repo(['lensdemo_funcs'], repoURL+'05_Gravitational_Lensing') :
    import lensdemo_funcs as ldf


# Import necessary modules.
import numpy as np
get_ipython().run_line_magic("matplotlib", " widget")
import matplotlib.pyplot as plt
from matplotlib import cm
import lensdemo_funcs as ldf
from ipywidgets import *


# Package some image display preferences in a "dictionary object", for use below:
myargs = {'interpolation': 'nearest', 'origin': 'lower', 'cmap': cm.nipy_spectral}
# The following specifies an alternate color map, which some may find preferable.
# Un-comment and execute the following line if you want to use it:
# myargs = {'interpolation': 'nearest', 'origin': 'lower', 'cmap': cm.hot}


# Set some parameters to make x and y coordinate images.
nx = 501
ny = 501
xhilo = [-2.5, 2.5]
yhilo = [-2.5, 2.5]
x = (xhilo[1] - xhilo[0]) * np.outer(np.ones(ny), np.arange(nx)) / float(nx-1) + xhilo[0]
y = (yhilo[1] - yhilo[0]) * np.outer(np.arange(ny), np.ones(nx)) / float(ny-1) + yhilo[0]

# Set some Pat image parameters and pack them into an array.
g_amp = 5  # Peak brightness value
g_sig = 0.25  # How spread out Pat is
g_xcen = 0  # x position of center
g_ycen = 0  # y position of center
g_axrat = 1  # Minor-to-major axis ratio
g_pa = 0  # Major-axis position angle [degrees] c.c.w. from x axis
gpar = np.asarray([g_amp, g_sig, g_xcen, g_ycen, g_axrat, g_pa])
g_image = ldf.gauss_2d(x, y, gpar)

# Have a look at the un-lensed Pat.
fig = plt.figure()
ax = fig.add_subplot(111)
ax.set_title('Un-Lensed Galaxy')
ax.set_xticks([])
ax.set_yticks([])
plt.imshow(g_image, **myargs)

# Create the interactive widget.
def f(g_amp, g_sig, g_xcen, g_ycen, g_axrat, g_pa):
    gpar = np.asarray([g_amp, g_sig, g_xcen, g_ycen, g_axrat, g_pa])
    g_image = ldf.gauss_2d(x, y, gpar)
    plt.imshow(g_image, **myargs)

layout = {'width':'initial'}
box_layout = {'display':'flex', 'flex_flow':'column', 'border':'5px solid grey', 'width':'initial'}
g_amp = FloatSlider(value=5, min=0, max=10, step=0.01, continuous_update=False, layout=layout)
g_sig = FloatSlider(value=0.25, min=0, max=0.5, step=0.01, continuous_update=False, layout=layout)
g_xcen = FloatSlider(value=0, min=-1, max=1, step=0.01, continuous_update=False, layout=layout)
g_ycen = FloatSlider(value=0, min=-1, max=1, step=0.01, continuous_update=False, layout=layout)
g_axrat = FloatSlider(value=1, min=0.01, max=1, step=0.01, continuous_update=False, layout=layout)
g_pa = FloatSlider(value=0, min=0, max=180, step=0.01, continuous_update=False, layout=layout)
interactive(f, g_amp=g_amp, g_sig=g_sig, g_xcen=g_xcen, g_ycen=g_ycen, g_axrat=g_axrat, g_pa=g_pa)
Box([g_amp, g_sig, g_xcen, g_ycen, g_axrat, g_pa], layout=box_layout)


# Set some lens-model parameters and pack them into an array.
l_amp = 1  # Einstein radius
l_xcen = 0  # x position of center
l_ycen = 0  # y position of center
l_axrat = 1  # Minor-to-major axis ratio
l_pa = 0  # Major-axis position angle [degrees] c.c.w. from x axis
lpar = np.asarray([l_amp, l_xcen, l_ycen, l_axrat, l_pa])
(xg, yg) = ldf.sie_grad(x, y, lpar)
g_lensimage = ldf.gauss_2d(x-xg, y-yg, gpar)

# Have a look at the lensed Pat.
fig = plt.figure()
ax = fig.add_subplot(111)
ax.set_title('Lensed Galaxy')
ax.set_xticks([])
ax.set_yticks([])
plt.imshow(g_lensimage, **myargs)

# Create the interactive widget.
def f(l_amp, l_xcen, l_ycen, l_axrat, l_pa):
    lpar = np.asarray([l_amp, l_xcen, l_ycen, l_axrat, l_pa])
    (xg, yg) = ldf.sie_grad(x, y, lpar)
    g_lensimage = ldf.gauss_2d(x-xg, y-yg, gpar)
    plt.imshow(g_lensimage, **myargs)

l_amp = FloatSlider(value=1, min=0, max=2, step=0.01, continuous_update=False, layout=layout)
l_xcen = FloatSlider(value=0, min=-1, max=1, step=0.01, continuous_update=False, layout=layout)
l_ycen = FloatSlider(value=0, min=-1, max=1, step=0.01, continuous_update=False, layout=layout)
l_axrat = FloatSlider(value=1, min=0.01, max=1, step=0.01, continuous_update=False, layout=layout)
l_pa = FloatSlider(value=0, min=0, max=180, step=0.01, continuous_update=False, layout=layout)
interactive(f, l_amp=l_amp, l_xcen=l_xcen, l_ycen=l_ycen, l_axrat=l_axrat, l_pa=l_pa)
Box([l_amp, l_xcen, l_ycen, l_axrat, l_pa], layout=box_layout)


# The following lines will plot the un-lensed and lensed images side by side.
gpar1 = np.asarray([5, 0.25, 0, 0, 1, 0])
lpar1 = np.asarray([1.5, 0, 0, 1, 0])
g_image1 = ldf.gauss_2d(x, y, gpar1)
(xg1, yg1) = ldf.sie_grad(x, y, lpar1)
g_lensimage1 = ldf.gauss_2d(x-xg1, y-yg1, gpar1)

# Display the images.
fig = plt.figure()
ax = fig.add_subplot(111)
ax.set_title('Un-Lensed Galaxy (Left) and Lensed Galaxy (Right)')
ax.set_xticks([])
ax.set_yticks([])
plt.imshow(np.hstack((g_image1, g_lensimage1)), **myargs)

# Create the interactive widget.
def f(g_amp, g_sig, g_xcen, g_ycen, g_axrat, g_pa, l_amp, l_xcen, l_ycen, l_axrat, l_pa):
    gpar1 = np.asarray([g_amp, g_sig, g_xcen, g_ycen, g_axrat, g_pa])
    lpar1 = np.asarray([l_amp, l_xcen, l_ycen, l_axrat, l_pa])
    g_image1 = ldf.gauss_2d(x, y, gpar1)
    (xg1, yg1) = ldf.sie_grad(x, y, lpar1)
    g_lensimage1 = ldf.gauss_2d(x-xg1, y-yg1, gpar1)
    plt.imshow(np.hstack((g_image1, g_lensimage1)), **myargs)

g_amp = FloatSlider(value=5, min=0, max=10, step=0.01, continuous_update=False, layout=layout)
g_sig = FloatSlider(value=0.25, min=0, max=0.5, step=0.01, continuous_update=False, layout=layout)
g_xcen = FloatSlider(value=0, min=-1, max=1, step=0.01, continuous_update=False, layout=layout)
g_ycen = FloatSlider(value=0, min=-1, max=1, step=0.01, continuous_update=False, layout=layout)
g_axrat = FloatSlider(value=1, min=0.01, max=1, step=0.01, continuous_update=False, layout=layout)
g_pa = FloatSlider(value=0, min=0, max=180, step=0.01, continuous_update=False, layout=layout)
l_amp = FloatSlider(value=1.5, min=0, max=2, step=0.01, continuous_update=False, layout=layout)
l_xcen = FloatSlider(value=0, min=-1, max=1, step=0.01, continuous_update=False, layout=layout)
l_ycen = FloatSlider(value=0, min=-1, max=1, step=0.01, continuous_update=False, layout=layout)
l_axrat = FloatSlider(value=1, min=0.01, max=1, step=0.01, continuous_update=False, layout=layout)
l_pa = FloatSlider(value=0, min=0, max=180, step=0.01, continuous_update=False, layout=layout)
interactive(f, g_amp=g_amp, g_sig=g_sig, g_xcen=g_xcen, g_ycen=g_ycen, g_axrat=g_axrat, g_pa=g_pa,
            l_amp=l_amp, l_xcen=l_xcen, l_ycen=l_ycen, l_axrat=l_axrat, l_pa=l_pa)
Box([g_amp, g_sig, g_xcen, g_ycen, g_axrat, g_pa, l_amp, l_xcen, l_ycen, l_axrat, l_pa], layout=box_layout)


# You can change the last one to change the color of the map.
myargs = {'interpolation': 'nearest', 'origin': 'lower', 'cmap': cm.Blues}


# The following lines will plot the un-lensed and lensed images side by side.
gpar1 = np.asarray([5, 0.25, 0, 0, 1, 0])
lpar1 = np.asarray([1, 0, 0, 1, 0])
g_image1 = ldf.gauss_2d(x, y, gpar1)
(xg1, yg1) = ldf.sie_grad(x, y, lpar1)
g_lensimage1 = ldf.gauss_2d(x-xg1, y-yg1, gpar1)

fig = plt.figure()
ax = fig.add_subplot(111)
ax.set_xticks([])
ax.set_yticks([])
plt.imshow(np.hstack((g_image1, g_lensimage1)), **myargs)

# Create the interactive widget.
def f(g_amp, g_sig, g_xcen, g_ycen, g_axrat, g_pa, l_amp, l_xcen, l_ycen, l_axrat, l_pa):
    gpar1 = np.asarray([g_amp, g_sig, g_xcen, g_ycen, g_axrat, g_pa])
    lpar1 = np.asarray([l_amp, l_xcen, l_ycen, l_axrat, l_pa])
    g_image1 = ldf.gauss_2d(x, y, gpar1)
    (xg1, yg1) = ldf.sie_grad(x, y, lpar1)
    g_lensimage1 = ldf.gauss_2d(x-xg1, y-yg1, gpar1)
    plt.imshow(np.hstack((g_image1, g_lensimage1)), **myargs)

g_amp = FloatSlider(value=5, min=0, max=10, step=0.01, continuous_update=False, layout=layout)
g_sig = FloatSlider(value=0.25, min=0, max=0.5, step=0.01, continuous_update=False, layout=layout)
g_xcen = FloatSlider(value=0, min=-1, max=1, step=0.01, continuous_update=False, layout=layout)
g_ycen = FloatSlider(value=0, min=-1, max=1, step=0.01, continuous_update=False, layout=layout)
g_axrat = FloatSlider(value=1, min=0.01, max=1, step=0.01, continuous_update=False, layout=layout)
g_pa = FloatSlider(value=0, min=0, max=180, step=0.01, continuous_update=False, layout=layout)
l_amp = FloatSlider(value=1, min=0, max=2, step=0.01, continuous_update=False, layout=layout)
l_xcen = FloatSlider(value=0, min=-1, max=1, step=0.01, continuous_update=False, layout=layout)
l_ycen = FloatSlider(value=0, min=-1, max=1, step=0.01, continuous_update=False, layout=layout)
l_axrat = FloatSlider(value=1, min=0.01, max=1, step=0.01, continuous_update=False, layout=layout)
l_pa = FloatSlider(value=0, min=0, max=180, step=0.01, continuous_update=False, layout=layout)
interactive(f, g_amp=g_amp, g_sig=g_sig, g_xcen=g_xcen, g_ycen=g_ycen, g_axrat=g_axrat, g_pa=g_pa,
            l_amp=l_amp, l_xcen=l_xcen, l_ycen=l_ycen, l_axrat=l_axrat, l_pa=l_pa)
Box([g_amp, g_sig, g_xcen, g_ycen, g_axrat, g_pa, l_amp, l_xcen, l_ycen, l_axrat, l_pa], layout=box_layout)
