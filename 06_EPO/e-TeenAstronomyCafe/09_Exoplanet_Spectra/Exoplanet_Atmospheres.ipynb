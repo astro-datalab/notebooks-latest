{
 "cells": [
  {
   "cell_type": "markdown",
   "metadata": {
    "id": "rYMl2UdX-V7L"
   },
   "source": [
    "<img src=\"Figures/logo154.svg\" alt=\"to Go logo\" width=\"100\" align=\"right\"/>\n",
    "<br>\n",
    "\n",
    "<font size='6'><u><b>Finding the Ingredients of Other Worlds</b></u></font>\n",
    "\n",
    "The first definitive planet found around a Sun-like star was found by Didier Queloz and Michel Mayor, earning them the [2019 Nobel prize in Physics](https://www.nobelprize.org/prizes/physics/2019/summary/). Since that time, the number of known planets has grown to 1000s of planets. Now, astronomers are moving beyond discovering planets to learning about their atmospheres. In this \"simulator\" you will be recovering spectra from exoplanet systems to understand what their atmospheres are made of.\n",
    "\n",
    "___"
   ]
  },
  {
   "cell_type": "markdown",
   "metadata": {
    "id": "uHMh0LI--V7N"
   },
   "source": [
    "# Table of Contents\n",
    "\n",
    "* [How to Use This Notebook](#How-to-Use-This-Notebook)\n",
    "* [Pre-Activity Setup](#Pre-Activity-Setup)\n",
    "* [Activity 1: Introduction - Planet Lightcurves](#Activity-1:-Introduction---Planet-Lightcurves)\n",
    "* [Activity 2: Planet Radius](#Activity-2:-Planet-Radius)\n",
    "* [Activity 3: A Planet Spectrum](#Activity-3:-A-Planet-Spectrum)\n",
    "* [Activity 4: Example Planet Atmospheres](#Activity-4:-Example-Planet-Atmospheres)\n",
    "* [Activity 5: Mystery Planet Atmospheres](#Activity-5:-Mystery-Planet-Atmospheres)\n",
    "* [Activity 6: Conclusions](#Activity-6:-Conclusions)\n",
    "\n",
    "___"
   ]
  },
  {
   "cell_type": "markdown",
   "metadata": {
    "id": "eS0PBNEd-V7O"
   },
   "source": [
    "# How to Use This Notebook\n",
    "\n",
    "The webpage you are in is actually an app called a Python Notebook — much like the ones on your phone. This app consists of cells.\n",
    "\n",
    "An *input* cell looks like a light grey box with an `In [ ]:` on its left. Input cells each contain code — instructions to make the computer do something.\n",
    "\n",
    "To activate or select a cell, click anywhere inside of it.\n",
    "\n",
    "<div class='alert alert-info'>\n",
    "    <font size='3'><b>Select the cell below and read its contents.</b></font>\n",
    "</div>"
   ]
  },
  {
   "cell_type": "code",
   "execution_count": null,
   "metadata": {
    "id": "wMcQtWcI-V7P"
   },
   "outputs": [],
   "source": [
    "# Text that follows a \"#\" is a comment.\n",
    "# Comments do not affect your code in any way.\n",
    "# Always read the comments at the top of each cell you interact with.\n",
    "# Comments will be used to describe what the cell's code is actually doing."
   ]
  },
  {
   "cell_type": "markdown",
   "metadata": {
    "id": "BycV-A7e-V7W"
   },
   "source": [
    "To execute or run a selected cell, click the little play button or hit `[Shift + Enter]` on your keyboard.\n",
    "\n",
    "<div class='alert alert-info'>\n",
    "    <font size='3'><b>Select the cell below and read its contents. Then, run the cell.</b></font>\n",
    "        <br> If a warning appears, just click <em>\"Run Anyway\"</em>, this code is safe ;) \n",
    "    <br> Also, if you want to save your progress, click the <em>\"Copy to Drive\"</em> button at the top.\n",
    "</div>"
   ]
  },
  {
   "cell_type": "code",
   "execution_count": null,
   "metadata": {
    "id": "0vowkWIT-V7X"
   },
   "outputs": [],
   "source": [
    "# Text that DOESN'T follow a \"#\" is considered code.\n",
    "# Lines of code are instructions given to your computer.\n",
    "# The line of code below is a \"print\" statement, which literally prints out the text between its quotes.\n",
    "\n",
    "print(\"Congrats! You have successfully run your first cell!\")"
   ]
  },
  {
   "cell_type": "markdown",
   "metadata": {
    "id": "4706Z_0A-V7b"
   },
   "source": [
    "Running a cell creates an *output* directly below it. An output can be some text, a graph, an interactive slider, or even nothing at all! When you have run a cell a number appears between the brackets, for instance [1].\n",
    "\n",
    "<div class='alert alert-info'>\n",
    "    <font size='3'><b>Open all sections in this notebook by selecting \"View\" menu and \"Expand Sections\" </b></font>\n",
    "        <br> \n",
    "</div>\n",
    "\n",
    "\n",
    "You can learn more about how Python Notebooks work at https://try.jupyter.org/\n",
    "___"
   ]
  },
  {
   "cell_type": "markdown",
   "metadata": {
    "id": "-p-fmrcY-V7c"
   },
   "source": [
    "# Pre-Activity Setup\n",
    "\n",
    "In order for any of the activities to work properly, you must import the libraries needed for the code in this notebook. These should have already loaded when you ran all cells.\n",
    "\n",
    "Go to the “Runtime” menu and select the option to “Run all.” Running all helps to ensure a cell was not skipped and all libraries are imported to help the activities work properly. As you work through the Python Notebook, you may also re-run each cell individually."
   ]
  },
  {
   "cell_type": "code",
   "execution_count": null,
   "metadata": {},
   "outputs": [],
   "source": [
    "# Import some packages which we'll be using below\n",
    "import requests\n",
    "import importlib.util\n",
    "from io import BytesIO\n",
    "import sys"
   ]
  },
  {
   "cell_type": "code",
   "execution_count": null,
   "metadata": {
    "id": "S_nkoED7-V7c",
    "tags": []
   },
   "outputs": [],
   "source": [
    "# Now we create a variable with the link to our repository\n",
    "repoURL = 'https://raw.githubusercontent.com/astro-datalab/notebooks-latest/master/'\n",
    "module_path = '06_EPO/e-TeenAstronomyCafe/09_Exoplanet_Spectra/lightcurve_slider.py'\n",
    "dataURL = 'https://datalab.noirlab.edu/nbdata/'\n",
    "\n",
    "# Load the module from the URL\n",
    "newUrl = repoURL + module_path\n",
    "response = requests.get(newUrl)\n",
    "module_code = response.content\n",
    "\n",
    "# Define a module name to be used for importing\n",
    "module_name = 'lightcurve_slider'\n",
    "\n",
    "# Create a new module with the fetched code\n",
    "spec = importlib.util.spec_from_loader(module_name, loader=None, origin=newUrl)\n",
    "module = importlib.util.module_from_spec(spec)\n",
    "exec(module_code, module.__dict__)\n",
    "\n",
    "# Add the module to the current namespace (optional)\n",
    "sys.modules[module_name] = module\n",
    "\n",
    "# Now you can use the module as usual\n",
    "from lightcurve_slider import *\n",
    "\n",
    "print('Done! You have successfully imported the libraries.')"
   ]
  },
  {
   "cell_type": "code",
   "execution_count": null,
   "metadata": {
    "id": "GW4unPgr-V7f"
   },
   "outputs": [],
   "source": [
    "initial_imports()\n",
    "\n",
    "print(\"Files imported successfully.\")"
   ]
  },
  {
   "cell_type": "markdown",
   "metadata": {
    "id": "eRqdQjxw-V7h"
   },
   "source": [
    "<div class='alert alert-info'>\n",
    "    <font size='3'><b>Adjust the slider below to 5.0.</b></font>\n",
    "</div>"
   ]
  },
  {
   "cell_type": "code",
   "execution_count": null,
   "metadata": {
    "id": "cW3kA4r6-V7i"
   },
   "outputs": [],
   "source": [
    "practice_slider()"
   ]
  },
  {
   "cell_type": "markdown",
   "metadata": {
    "id": "XCGsRNFa-V7k"
   },
   "source": [
    "<div class='alert alert-info'>\n",
    "    <font size='3'><b>Hover your cursor over the green text below.</b></font>\n",
    "</div>"
   ]
  },
  {
   "cell_type": "markdown",
   "metadata": {
    "id": "7wu-s1yY-V7k"
   },
   "source": [
    "Finally, there will be some <span title=\"Terminology is special language used by people in a specific field of study, usually as a shortcut\"><font color='green'>terminology</font></span> used in this notebook. You can hover over the text for more information."
   ]
  },
  {
   "cell_type": "markdown",
   "metadata": {
    "id": "m8v1UG5yBsKY"
   },
   "source": [
    "<div class='alert alert-info'>\n",
    "    <font size='3'><b>At this point, be sure you have run all cells and expanded all sections following the above instructions.</b></font>\n",
    "</div>\n",
    "\n",
    "___"
   ]
  },
  {
   "cell_type": "markdown",
   "metadata": {
    "id": "N9RVec8e-V7k"
   },
   "source": [
    "# Activity 1: Introduction - Planet Lightcurves"
   ]
  },
  {
   "cell_type": "markdown",
   "metadata": {
    "id": "drTEok3c-V7l"
   },
   "source": [
    "Let's start with an <span title=\"This is a plot that shows how the brightness of a star + planet system changes as a function of time as the planet goes in front of the star\"><font color='green'>exoplanet transit lightcurve</font></span>. This is a plot that shows how the brightness of a star + planet system changes with time as the planet goes in front of the star. The **x** axis is the time in hours the **y** axis is the brightness in percent. The time is shown relative to <span title=\"This is the moment when a planet and star line up\"><font color='green'>central transit</font></span>, which is when the planet and star line up.\n",
    "\n",
    "<div class='alert alert-info'>\n",
    "    <font size='3'><b>Drag the slider to change the time. <br>Watch what happens to the brightness (Lightcurve) and the planet crossing the star (Star View)</b></font>\n",
    "</div>\n"
   ]
  },
  {
   "cell_type": "code",
   "execution_count": null,
   "metadata": {
    "id": "rfZC251z-V7l"
   },
   "outputs": [],
   "source": [
    "lightcurve_slider(free_radius=False)"
   ]
  },
  {
   "cell_type": "markdown",
   "metadata": {
    "id": "FmUk7kym-V7n"
   },
   "source": [
    "<font size='4' color='#0076b6'>\n",
    "    <b>Question 1: When does the brightness change? Why do you think the light curve has a value of 100% at the beginning and end of the graph?</b>\n",
    "</font>\n",
    "\n",
    "___"
   ]
  },
  {
   "cell_type": "markdown",
   "metadata": {
    "id": "FH1EOmp9-V7n"
   },
   "source": [
    "# Activity 2: Planet Radius\n",
    "The next plot is another <span title=\"This is a plot that shows how the brightness of a star + planet system changes as a function of time as the planet goes in front of the star\"><font color='green'>exoplanet transit lightcurve</font></span>. This should be familiar to what you saw above with the same axes and shape. Now, we have added a new variable, the planet radius. Here, we give the planet radius in <span title=\"The radius of Earth is just under 4,000 miles. You could fit about 11 Earths across Jupiter and about 109 Earths across the sun.\"><font color='green'>Earth radii</font></span>. The radius of the Earth is 6,371 km (just under 4,000 miles).\n",
    "\n",
    "\n",
    "<div class='alert alert-info'>\n",
    "    <font size='3'><b>Drag the slider for the Radius to see how it affects the lightcurve and view of the star and planet.<br>\n",
    "    Drag the Time slider to a different position to see how it affects the geometry there. In reality, we cannot see the black circle but only the lightcurve.</b></font>\n",
    "</div>\n"
   ]
  },
  {
   "cell_type": "code",
   "execution_count": null,
   "metadata": {
    "id": "-vFurprK-V7n"
   },
   "outputs": [],
   "source": [
    "lightcurve_slider()"
   ]
  },
  {
   "cell_type": "markdown",
   "metadata": {
    "id": "qzfiZCZD-V7p"
   },
   "source": [
    "<font size='4' color='#0076b6'>\n",
    "    <b>\n",
    "        Question 2: Does increasing the planet radius make the dip deeper or shallower?<br>\n",
    "    </b>\n",
    "</font>\n",
    "<br>\n",
    "<font size='4' color='#0076b6'>\n",
    "    <b>\n",
    "        Question 3: How does the planet radius affect how long the brightness drops below 100%?\n",
    "    </b>\n",
    "</font>\n",
    "\n",
    "\n",
    "___"
   ]
  },
  {
   "cell_type": "markdown",
   "metadata": {
    "id": "Dvy8wdN6-V7p"
   },
   "source": [
    "# Activity 3: A Planet Spectrum"
   ]
  },
  {
   "cell_type": "markdown",
   "metadata": {
    "id": "iJg_ERsc-V7q"
   },
   "source": [
    "#### 3.a. Planet Size in Different Colors"
   ]
  },
  {
   "cell_type": "markdown",
   "metadata": {
    "id": "nIGn4rtR-V7q"
   },
   "source": [
    "Now let's explore what happens if a planet has an atmosphere. Some colors of light (<span title=\"The wavelength of light is the distance between light waves (oscillations) and is noticeable to our eyes as different colors\"><font color='green'>wavelengths</font></span>) will pass through the atmosphere whereas some colors of light will get absorbed or scattered. You can notice this on our home planet during sunsets where blue light is scattered away by the atmosphere and red light passes through the atmosphere. From the perspective of space, the Earth looks slightly bigger at blue <span title=\"The wavelength of light is the distance between light waves (oscillations) and is noticeable to our eyes as different colors\"><font color='green'>wavelengths</font></span> than red. Let's look at what happens to the effective size of a planet at each color when you add an atmosphere to a planet. The slider below controls the thickness of the atmosphere in <span title=\"The radius of Earth is just under 4,000 miles. You could fit about 11 Earths across Jupiter and about 109 Earths across the sun.\"><font color='green'>Earth radii</font></span>. The **x** and **y** axes are effective rulers to measure the size of the planet in <span title=\"The radius of Earth is just under 4,000 miles. You could fit about 11 Earths across Jupiter and about 109 Earths across the sun.\"><font color='green'>Earth radii</font></span>.\n",
    "\n",
    "<div class='alert alert-info'>\n",
    "    <font size='3'><b>Drag the slider to change the atmospheric thickness.</b></font>\n",
    "</div>\n",
    "\n"
   ]
  },
  {
   "cell_type": "code",
   "execution_count": null,
   "metadata": {
    "id": "CrSdXICF-V7q"
   },
   "outputs": [],
   "source": [
    "scattering_slider(plots=['planet'])\n"
   ]
  },
  {
   "cell_type": "markdown",
   "metadata": {
    "id": "aciXuTWl-V7s"
   },
   "source": [
    "<font size='4' color='#0076b6'>\n",
    "    <b>\n",
    "        Question 4: At which color does the planet appear biggest?\n",
    "    </b>\n",
    "</font>\n",
    "<br>\n",
    "<br>\n",
    "<font size='4' color='#0076b6'>\n",
    "    <b>\n",
    "        Question 5: How could you tell if a planet has an atmosphere?\n",
    "    </b>\n",
    "</font>\n"
   ]
  },
  {
   "cell_type": "markdown",
   "metadata": {
    "id": "2k067e6q-V7s"
   },
   "source": [
    "#### 3.b. A Spectrum Plot"
   ]
  },
  {
   "cell_type": "markdown",
   "metadata": {
    "id": "bKK1nfrR-V7s"
   },
   "source": [
    "The way astronomers visualize the above color picture of a planet is through a <span title=\"A spectrum is a plot of a planet's size versus wavelength.\"><font color='green'>transmission spectrum</font></span>. This is a plot of the size of the planet in <span title=\"The radius of Earth is just under 4,000 miles. You could fit about 11 Earths across Jupiter and about 109 Earths across the sun.\"><font color='green'>Earth radii</font></span> versus <span title=\"The wavelength of light is the distance between light waves (oscillations) and is noticeable to our eyes as different colors\"><font color='green'>wavelength</font></span>. The wavelength is measured in units of <span title=\"A micron is a unit of length that is one millionth of a meter. Human hair is about 75 microns in diameter.\"><font color='green'>microns</font></span>. A micron is one millionth of a meter. A typical width of a human hair is 75 microns (Smith 2002, *Industrial Metrology*).\n",
    "\n",
    "<div class='alert alert-info'>\n",
    "    <font size='3'><b>Drag the slider to change the atmospheric thickness.</b></font>\n",
    "</div>\n"
   ]
  },
  {
   "cell_type": "code",
   "execution_count": null,
   "metadata": {
    "id": "gCbhMEA0-V7s"
   },
   "outputs": [],
   "source": [
    "scattering_slider(plots=['planet','spectrum'])"
   ]
  },
  {
   "cell_type": "markdown",
   "metadata": {
    "id": "diySa7sK-V7u"
   },
   "source": [
    "<font size='4' color='#0076b6'>\n",
    "    <b>\n",
    "        Question 6: How would you describe the spectrum when the slope of this line is zero?\n",
    "    </b>\n",
    "</font>\n",
    "<br>\n",
    "<br>\n",
    "<font size='4' color='#0076b6'>\n",
    "    <b>\n",
    "        Question 7: How would you describe the atmosphere when the slope of this line is zero?\n",
    "    </b>\n",
    "</font>\n"
   ]
  },
  {
   "cell_type": "markdown",
   "metadata": {
    "id": "DbNsWrte-V7u"
   },
   "source": [
    "#### 3.c. A Multi-Colored Lightcurve"
   ]
  },
  {
   "cell_type": "markdown",
   "metadata": {
    "id": "kfbp71ha-V7u"
   },
   "source": [
    "Now that we have built some understanding of <span title=\"This is a plot that shows how the brightness of a star + planet system changes as a function of time as the planet goes in front of the star\"><font color='green'>exoplanet transit lightcurves</font></span> in [Section 1](#1.-Introduction:-Planet-Lightcurves) and [Section 2](#2.-Planet-Radius), we'll examine them at different <span title=\"The wavelength of light is the distance between light waves (oscillations) and is noticeable to our eyes as different colors\"><font color='green'>wavelengths</font></span>. The lightcurve and planet radius can be different from one wavelength to the next because some light passes through the atmosphere while other light is absorbed. You will now examine the lightcurve for different colors with a variable for the thickness of an atmosphere in <span title=\"The radius of Earth is just under 4,000 miles. You could fit about 11 Earths across Jupiter and about 109 Earths across the sun.\"><font color='green'>Earth radii</font></span>.\n",
    "\n",
    "\n",
    "<div class='alert alert-info'>\n",
    "    <font size='3'><b>Drag the slider to change the atmospheric thickness.</b></font>\n",
    "</div>\n",
    "\n"
   ]
  },
  {
   "cell_type": "code",
   "execution_count": null,
   "metadata": {
    "id": "AU1f5SWC-V7v"
   },
   "outputs": [],
   "source": [
    "scattering_slider(plots=['planet','spectrum','lightcurve'])\n"
   ]
  },
  {
   "cell_type": "markdown",
   "metadata": {
    "id": "E3-Iwbco-V7w"
   },
   "source": [
    "<font size='4' color='#0076b6'>\n",
    "    <b>\n",
    "       Question 8:  What kind of measurement could you make to find out if a planet has an atmosphere?\n",
    "    </b>\n",
    "</font>\n",
    "\n",
    "___"
   ]
  },
  {
   "cell_type": "markdown",
   "metadata": {
    "id": "lgsddFRq-V7w"
   },
   "source": [
    "# Activity 4: Example Planet Atmospheres\n",
    "\n",
    "Now that we have a feeling for how <span title=\"A spectrum is a plot of a planet's size versus wavelength.\"><font color='green'>transmission spectra</font></span> work, let's consider different types of models. The atmospheric sizes have been made larger than reality to make them easier to see.\n"
   ]
  },
  {
   "cell_type": "markdown",
   "metadata": {
    "id": "mcmFlwRW-V7x"
   },
   "source": [
    "#### A water vapor atmosphere\n",
    "\n",
    "\n",
    "The following atmospheric model contains water vapor. The molecules of water will vibrate and rotate at some <span title=\"The wavelength of light is the distance between light waves (oscillations) and is noticeable to our eyes as different colors\"><font color='green'>wavelengths</font></span> better than others so the planet looks bigger at those wavelengths near 2.6 <span title=\"A micron is a unit of length that is one millionth of a meter. Human hair is about 75 microns in diameter.\"><font color='green'>microns</font></span>.\n",
    "\n",
    "<div class='alert alert-info'>\n",
    "    <font size='3'><b>Inspect the spectrum below.</b></font>\n",
    "</div>\n"
   ]
  },
  {
   "cell_type": "code",
   "execution_count": null,
   "metadata": {
    "id": "IL__UaiA-V7x"
   },
   "outputs": [],
   "source": [
    "example_spectra(atmospheres=['H2O'])"
   ]
  },
  {
   "cell_type": "markdown",
   "metadata": {
    "id": "OqQEl0Ui-V7y"
   },
   "source": [
    "#### A methane atmosphere\n",
    "\n",
    "The following atmospheric model contains methane. Like water, the molecules of methane will vibrate and rotate at some <span title=\"The wavelength of light is the distance between light waves (oscillations) and is noticeable to our eyes as different colors\"><font color='green'>wavelengths</font></span> better than other. However, methane is has a different configuration of atoms so the planet looks bigger at near 3.4 <span title=\"A micron is a unit of length that is one millionth of a meter. Human hair is about 75 microns in diameter.\"><font color='green'>microns</font></span>.\n",
    "\n",
    "<div class='alert alert-info'>\n",
    "    <font size='3'><b>Inspect the spectrum below.</b></font>\n",
    "</div>\n",
    "\n"
   ]
  },
  {
   "cell_type": "code",
   "execution_count": null,
   "metadata": {
    "id": "EKjOY6iD-V7y"
   },
   "outputs": [],
   "source": [
    "example_spectra(atmospheres=['CH4'])"
   ]
  },
  {
   "cell_type": "markdown",
   "metadata": {
    "id": "mO6dkuUo-V70"
   },
   "source": [
    "#### A Carbon Dioxide Atmosphere\n",
    "\n",
    "Carbon dioxide is yet another configuration of molecules with two oxygen atoms on opposite sides of the carbon. The symmetry of the molecule means that there are only a few ways to vibrate carbon dioxide. This planet will look bigger at 2.8 <span title=\"A micron is a unit of length that is one millionth of a meter. Human hair is about 75 microns in diameter.\"><font color='green'>microns</font></span> and 4.4 <span title=\"A micron is a unit of length that is one millionth of a meter. Human hair is about 75 microns in diameter.\"><font color='green'>microns</font></span> but smaller at most other <span title=\"The wavelength of light is the distance between light waves (oscillations) and is noticeable to our eyes as different colors\"><font color='green'>wavelengths</font></span>.\n",
    "\n",
    "<div class='alert alert-info'>\n",
    "    <font size='3'><b>Inspect the spectrum below.</b></font>\n",
    "</div>\n"
   ]
  },
  {
   "cell_type": "code",
   "execution_count": null,
   "metadata": {
    "id": "KOFZIjtn-V70"
   },
   "outputs": [],
   "source": [
    "example_spectra(atmospheres=['CO2'])"
   ]
  },
  {
   "cell_type": "markdown",
   "metadata": {
    "id": "TKXmAGAA-V71"
   },
   "source": [
    "#### No Atmosphere\n",
    "\n",
    "If a planet has no atmosphere, all <span title=\"The wavelength of light is the distance between light waves (oscillations) and is noticeable to our eyes as different colors\"><font color='green'>wavelengths</font></span> will reach the ground. An airless planet will therefore look the same size at all wavelengths.\n",
    "\n",
    "<div class='alert alert-info'>\n",
    "    <font size='3'><b>Inspect the spectrum below.</b></font>\n",
    "</div>\n"
   ]
  },
  {
   "cell_type": "code",
   "execution_count": null,
   "metadata": {
    "id": "5sDHqgeb-V71"
   },
   "outputs": [],
   "source": [
    "example_spectra(atmospheres=['No Atmosphere'])"
   ]
  },
  {
   "cell_type": "markdown",
   "metadata": {
    "id": "BY80jFnQ-V72"
   },
   "source": [
    "<font size='4' color='#0076b6'>\n",
    "    <b>\n",
    "        Question 9: There is a solid surface visible here. At which level (in Earth Radii) is the surface? Where do you think it was in the above atmospheres?\n",
    "    </b>\n",
    "</font>\n",
    "\n",
    "\n",
    "___"
   ]
  },
  {
   "cell_type": "markdown",
   "metadata": {
    "id": "nk3lOZEF-V73"
   },
   "source": [
    "# Activity 5: Mystery Planet Atmospheres\n",
    "\n",
    "You are now playing the role of an astronomer. You measure the lightcurve of a planet at different <span title=\"The wavelength of light is the distance between light waves (oscillations) and is noticeable to our eyes as different colors\"><font color='green'>wavelengths</font></span> and this is shown below as a scattering of points at each color. You will need to figure out what the radius of the planet (in <span title=\"The radius of Earth is just under 4,000 miles. You could fit about 11 Earths across Jupiter and about 109 Earths across the sun.\"><font color='green'>Earth radii</font></span>) is for that  <span title=\"The wavelength of light is the distance between light waves (oscillations) and is noticeable to our eyes as different colors\"><font color='green'>wavelength</font></span>.\n",
    "\n"
   ]
  },
  {
   "cell_type": "markdown",
   "metadata": {
    "id": "gwRYUKnj-V73"
   },
   "source": [
    "#### Mystery Planet 1"
   ]
  },
  {
   "cell_type": "markdown",
   "metadata": {
    "id": "_A6ou8DF-V73"
   },
   "source": [
    "\n",
    "<div class='alert alert-info'>\n",
    "    <font size='3'><b>Drag the sliders to make the lines match the points of each color, forming lines of best fit. Be sure to scroll enough to see both plots.\n",
    "\n",
    "</b></font>\n",
    "</div>\n",
    "\n"
   ]
  },
  {
   "cell_type": "code",
   "execution_count": null,
   "metadata": {
    "id": "AOPycwW_-V73"
   },
   "outputs": [],
   "source": [
    "transmission_spec_slider(mysteryNum=2)"
   ]
  },
  {
   "cell_type": "markdown",
   "metadata": {
    "id": "aKBMqWIf-V75"
   },
   "source": [
    "Now you have found a <span title=\"A spectrum is a plot of a planet's size versus wavelength.\"><font color='green'>transmission spectrum</font></span> of the planet that best matches the data.\n",
    "\n"
   ]
  },
  {
   "cell_type": "code",
   "execution_count": null,
   "metadata": {
    "id": "aa4kM057-V75"
   },
   "outputs": [],
   "source": [
    "example_spectra()"
   ]
  },
  {
   "cell_type": "markdown",
   "metadata": {
    "id": "2dq9hAJx-V76"
   },
   "source": [
    "<font size='4' color='#0076b6'>\n",
    "    <b>\n",
    "        Question 10: Compare your transmission spectrum to the models. What kind of atmosphere did you find?\n",
    "    </b>\n",
    "</font>\n"
   ]
  },
  {
   "cell_type": "markdown",
   "metadata": {
    "id": "nS0nBLRK-V76"
   },
   "source": [
    "#### Mystery Planet 2"
   ]
  },
  {
   "cell_type": "markdown",
   "metadata": {
    "id": "MpXHglgP-V77"
   },
   "source": [
    "\n",
    "<div class='alert alert-info'>\n",
    "    <font size='3'><b>Drag the sliders to make the lines match the points of each color, forming lines of best fit. Be sure to scroll enough to see both plots.\n",
    "\n",
    "</b></font>\n",
    "</div>\n",
    "\n"
   ]
  },
  {
   "cell_type": "code",
   "execution_count": null,
   "metadata": {
    "id": "C3J_p7g0-V77"
   },
   "outputs": [],
   "source": [
    "transmission_spec_slider(mysteryNum=1)"
   ]
  },
  {
   "cell_type": "markdown",
   "metadata": {
    "id": "_wstsvbS-V78"
   },
   "source": [
    "Now you have found a <span title=\"A spectrum is a plot of a planet's size versus wavelength.\"><font color='green'>transmission spectrum</font></span> of the planet that best matches the data.\n",
    "\n"
   ]
  },
  {
   "cell_type": "code",
   "execution_count": null,
   "metadata": {
    "id": "PWnDCWRg-V78"
   },
   "outputs": [],
   "source": [
    "example_spectra()"
   ]
  },
  {
   "cell_type": "markdown",
   "metadata": {
    "id": "xGXOXiBr-V79"
   },
   "source": [
    "<font size='4' color='#0076b6'>\n",
    "    <b>\n",
    "        Question 11: Compare your transmission spectrum to the models. What kind of atmosphere did you find?\n",
    "    </b>\n",
    "</font>"
   ]
  },
  {
   "cell_type": "markdown",
   "metadata": {
    "id": "BAoiuiau-V79"
   },
   "source": [
    "#### Mystery Planet 3"
   ]
  },
  {
   "cell_type": "markdown",
   "metadata": {
    "id": "d6zxWQaz-V7-"
   },
   "source": [
    "\n",
    "<div class='alert alert-info'>\n",
    "    <font size='3'><b>Drag the sliders to make the lines match the points of each color, forming lines of best fit. Be sure to scroll enough to see both plots.\n",
    "\n",
    "</b></font>\n",
    "</div>\n",
    "\n"
   ]
  },
  {
   "cell_type": "code",
   "execution_count": null,
   "metadata": {
    "id": "nksLJGHF-V7-"
   },
   "outputs": [],
   "source": [
    "transmission_spec_slider(mysteryNum=3)"
   ]
  },
  {
   "cell_type": "markdown",
   "metadata": {
    "id": "qkhSStyb-V7_"
   },
   "source": [
    "Now you have found a <span title=\"A spectrum is a plot of a planet's size versus wavelength.\"><font color='green'>transmission spectrum</font></span> of the planet that best matches the data.\n",
    "\n"
   ]
  },
  {
   "cell_type": "code",
   "execution_count": null,
   "metadata": {
    "id": "7tEeDf5Z-V7_"
   },
   "outputs": [],
   "source": [
    "example_spectra()"
   ]
  },
  {
   "cell_type": "markdown",
   "metadata": {
    "id": "3KoJlWvZ-V8A"
   },
   "source": [
    "<font size='4' color='#0076b6'>\n",
    "    <b>\n",
    "        Question 12: Compare your transmission spectrum to the models. What kind of atmosphere did you find?\n",
    "    </b>\n",
    "</font>\n"
   ]
  },
  {
   "cell_type": "markdown",
   "metadata": {
    "id": "wrfCgHVK-V8A"
   },
   "source": [
    "#### Mystery Planet 4"
   ]
  },
  {
   "cell_type": "markdown",
   "metadata": {
    "id": "NzoTJtqR-V8A"
   },
   "source": [
    "\n",
    "<div class='alert alert-info'>\n",
    "    <font size='3'><b>Drag the sliders to make the lines match the points of each color, forming lines of best fit. Be sure to scroll enough to see both plots.\n",
    "\n",
    "</b></font>\n",
    "</div>\n",
    "\n"
   ]
  },
  {
   "cell_type": "code",
   "execution_count": null,
   "metadata": {
    "id": "12wWpbvL-V8A"
   },
   "outputs": [],
   "source": [
    "transmission_spec_slider(mysteryNum=4)"
   ]
  },
  {
   "cell_type": "markdown",
   "metadata": {
    "id": "ZPHxHeeP-V8B"
   },
   "source": [
    "Now you have found a <span title=\"A spectrum is a plot of a planet's size versus wavelength.\"><font color='green'>transmission spectrum</font></span> of the planet that best matches the data.\n",
    "\n"
   ]
  },
  {
   "cell_type": "code",
   "execution_count": null,
   "metadata": {
    "id": "zaS6TXD2-V8C"
   },
   "outputs": [],
   "source": [
    "example_spectra()"
   ]
  },
  {
   "cell_type": "markdown",
   "metadata": {
    "id": "mFsyypDh-V8D"
   },
   "source": [
    "<font size='4' color='#0076b6'>\n",
    "    <b>\n",
    "        Question 13: Compare your transmission spectrum to the models. What kind of atmosphere did you find?\n",
    "    </b>\n",
    "</font>\n",
    "\n",
    "___"
   ]
  },
  {
   "cell_type": "markdown",
   "metadata": {
    "id": "95cBTMBV-V8D"
   },
   "source": [
    "# Activity 6: Conclusions\n",
    "\n",
    "Congratulations! You are now figuring out what planet atmospheres are made of or if a planet lacks an atmosphere. In real atmospheres, we will get a mix of molecules that can tell us about the planets' chemistry and someday even help us find life elsewhere in the Universe. Astronomers are exploring real planet atmospheres with current and future telescopes such as the James Webb Space Telescope. You can read about the Webb Telescope and see Images of it at [jwst.nasa.gov/](https://jwst.nasa.gov/content/features/index.html#educationalFeatures).\n"
   ]
  },
  {
   "cell_type": "markdown",
   "metadata": {
    "id": "WmldeH4n-V8D"
   },
   "source": [
    "<div class='alert alert-info'>\n",
    "    <font size='3'><b>If you are doing this for a class, turn in your answers to the bold questions. If you are doing it for fun, you're done!</b></font><br>\n",
    "\n",
    "</div>\n",
    "————\n",
    "\n",
    "##### Python Notebook by [Everett Schlawin](http://mips.as.arizona.edu/~schlawin/) and the [NOIR Lab's Teen Astronomy Cafe Team](http://www.teenastronomycafe.org)\n",
    "\n",
    "#### Version 1.0\n",
    "\n",
    "The source code for this notebook is available at <a href=\"https://github.com/eas342/interactive_lc\">https://github.com/eas342/interactive_lc</a>."
   ]
  }
 ],
 "metadata": {
  "colab": {
   "collapsed_sections": [],
   "name": "Copy of Exoplanet_spectra_cafe.ipynb",
   "provenance": []
  },
  "kernelspec": {
   "display_name": "Python 3 (ipykernel)",
   "language": "python",
   "name": "python3"
  },
  "language_info": {
   "codemirror_mode": {
    "name": "ipython",
    "version": 3
   },
   "file_extension": ".py",
   "mimetype": "text/x-python",
   "name": "python",
   "nbconvert_exporter": "python",
   "pygments_lexer": "ipython3",
   "version": "3.10.10"
  }
 },
 "nbformat": 4,
 "nbformat_minor": 4
}
