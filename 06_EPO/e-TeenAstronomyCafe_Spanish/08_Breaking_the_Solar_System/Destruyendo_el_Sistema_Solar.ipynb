{
  "cells": [
    {
      "cell_type": "markdown",
      "metadata": {
        "id": "i5Hh0yA30C4p"
      },
      "source": [
        "<img src=\"https://github.com/astro-datalab/notebooks-latest/blob/master/06_EPO/e-TeenAstronomyCafe/08_Breaking_the_Solar_System/Figures/logo154.svg?raw=1\" alt=\"to Go logo\" width=\"100\" align=\"right\"/>\n",
        "<br>\n",
        "<br>\n",
        "<font size='6'><u><b>Destruyendo el Sistema Solar</b></u></font>\n",
        "<br><br>\n",
        "<font size='4'><b>Otras formas en que las simulaciones nos ayudan a comprender el Universo</b></font>\n",
        "<br>\n",
        "\n",
        "En esta actividad, vamos a ejecutar simulaciones de sistemas planetarios para comprender qué tan estable es el Sistema Solar. ¿Se vería igual el Sistema Solar si todo fuera 10 veces más masivo? ¿Qué pasaría si los planetas estuvieran más juntos? ¿o más alejados?\n",
        "\n",
        "¡Esperamos que, al final de la actividad de hoy, tengas las respuestas!\n",
        "\n",
        "___"
      ]
    },
    {
      "cell_type": "markdown",
      "metadata": {
        "id": "g7mpzTe80C4-"
      },
      "source": [
        "# Tabla de Contenidos\n",
        "\n",
        "* [Cómo usar esta Guía](#How-to-Use-This-Notebook)\n",
        "* [Configuración Previa a la Actividad](#Pre-Activity-Setup)\n",
        "* [Actividad 1: Simulando con un solo Planeta](#Activity-1:-Simulate-a-Single-Planet)\n",
        "    * [Parte 1.1: Crear una simulación de Rebound](#Part-1.1:-Create-a-Rebound-simulation-Part)\n",
        "    * [Parte 1.2: Agregando una estrella central para que nuestros planetas orbiten](#Part-1.2:-Add-a-central-star-for-our-planets-to-orbit)\n",
        "    * [Parte 1.3: Agregando planetas](#Part-1.3:-Add-planets)\n",
        "    * [Parte 1.4: Ejecuta la simulación](#Part-1.4:-Run-the-simulation)\n",
        "* [Actividad 2: Simular un exoplaneta de la clase Júpiter Caliente](#Activity-2:-Simulate-a-Hot-Jupiter-Exoplanet)\n",
        "* [Actividad 3: Simula el Sistema Solar](#Activity-3:-Simulate-the-Solar-System)\n",
        "* [Actividad 4: Destruyendo el Sistema Solar](#Activity-4:-Break-the-Solar-System)     \n",
        "___"
      ]
    },
    {
      "cell_type": "markdown",
      "metadata": {
        "id": "3x83OEuPCW08"
      },
      "source": [
        "# Cómo usar esta Guía\n",
        "\n",
        "La página web en la que te encuentras es en realidad una aplicación llamada Jupyter Notebook, muy parecida a las de tu teléfono. Esta aplicación contiene celdas.\n",
        "\n",
        "Una celda de *entrada/input* parece un cuadro gris claro con un `In [ ]` a su izquierda. Cada una de las celdas de entrada contiene códigos: instrucciones para hacer que el computador haga algo.\n",
        "\n",
        "Para activar o seleccionar una celda, haz clic en cualquier lugar dentro de ella.\n",
        "\n",
        "\\\\\n",
        "<div class='alert alert-info'>\n",
        "    <font size='3'><b>Selecciona la celda de abajo y lee su contenido.</b></font>\n",
        "</div>"
      ]
    },
    {
      "cell_type": "code",
      "execution_count": null,
      "metadata": {
        "id": "pJDpEpM7CW09"
      },
      "outputs": [],
      "source": [
        "# El texto que sigue a un \"#\" es un comentario.\n",
        "# Los comentarios no afectan su código de ninguna manera.\n",
        "# Lea siempre los comentarios en la parte superior de cada celda con la que interactúe.\n",
        "# Los comentarios se utilizarán para describir lo que realmente está haciendo el código de la celda."
      ]
    },
    {
      "cell_type": "markdown",
      "metadata": {
        "id": "ugFzRGxnCW1E"
      },
      "source": [
        "Para ejecutar una celda seleccionada, haz clic en el pequeño botón de reproducción o presiona `[Shift + Enter]` en tu teclado.\n",
        "\n",
        "\\\\\n",
        "<div class='alert alert-info'>\n",
        "    <font size='3'><b>Selecciona la celda de abajo y lee su contenido. Luego, ejecuta la celda.</b></font>\n",
        "        <br> Si aparece una advertencia, simplemente haz clic en <em>\"Ejecutar de todos modos\"</em>, este código es seguro 😉\n",
        "        <br> Además, si deseas guardar tu progreso, haz clic en el botón <em>\"Guardar una copia en Drive\"</em> en la parte superior.\n",
        "      </div>\n"
      ]
    },
    {
      "cell_type": "code",
      "execution_count": null,
      "metadata": {
        "colab": {
          "base_uri": "https://localhost:8080/"
        },
        "id": "yo5jTmbtCW1G",
        "outputId": "4e793e9f-0509-4a68-baf5-fdf3168326ff"
      },
      "outputs": [],
      "source": [
        "# El texto que NO está antecedido por un \"#\" se considera código.\n",
        "# Las líneas de código son instrucciones dadas a tu computador.\n",
        "# La línea de código de abajo es una instrucción de \"impresión\" (print), que literalmente imprime el texto entre comillas.\n",
        "\n",
        "print(\"¡Felicitaciones! ¡Has ejecutado con éxito tu primera celda!\")\n"
      ]
    },
    {
      "cell_type": "markdown",
      "metadata": {
        "id": "-OF2LKkjCW1J"
      },
      "source": [
        "Ejecutar una celda crea una *salida/output* directamente debajo de ella. Una salida puede ser un texto, un gráfico, un control deslizante interactivo, ¡o incluso nada en absoluto! Cuando has ejecutado una celda, aparece un número entre corchetes, por ejemplo [1] al lado izquierdo de la celda.\n",
        "\n",
        "Puedes obtener más información sobre cómo funcionan los Jupyter Notebooks en https://try.jupyter.org/ (página en inglés)\n",
        "___\n"
      ]
    },
    {
      "cell_type": "markdown",
      "metadata": {
        "id": "7CjxhXk5CW1K"
      },
      "source": [
        "___\n",
        "# Configuración Previa a la Actividad\n",
        "\n",
        "#### <font color=blue>Antes de comenzar a simular </font>\n",
        "\n",
        "Necesitamos cargar el software que usaremos en esta actividad. Estamos usando un paquete de simulación muy bueno llamado `Rebound` que hace la mayor parte del trabajo duro por nosotros. ¡La primera regla para escribir un nuevo software es que debe tener un nombre atractivo!\n",
        "\n",
        "Ingresa al menú \"Runtime\" (entorno de ejecución) y selecciona la opción \"Run all\" (ejecutar todo). Ejecutar todo ayuda a garantizar que no se omitió ninguna celda y que todas las bibliotecas fueron importadas.\n",
        "\n",
        "Para que cualquiera de las actividades funcione correctamente, debes importar las bibliotecas necesarias para el funcionamiento del código de esta guía. Estos ya deberían haberse cargado cuando ejecutaste todas las celdas.\n",
        "\n",
        "A medida que trabajas en Python Notebook, también puedes volver a ejecutar cada celda individualmente.\n",
        "\n",
        "<div class='alert alert-info'>\n",
        "    <font size='3'><b>Selecciona y ejecuta la celda a continuación.</b></font>\n",
        "</div>\n",
        "\n"
      ]
    },
    {
      "cell_type": "code",
      "execution_count": null,
      "metadata": {
        "colab": {
          "base_uri": "https://localhost:8080/"
        },
        "id": "yfyFJlHg0C5Y",
        "outputId": "b8b1198f-c2f2-47f1-b0b8-c77e0103cdae"
      },
      "outputs": [],
      "source": [
        "#Si estás ejecutando esto en Colab...\n",
        "\n",
        "!pip install rebound==3.28.4 &> /dev/null\n",
        "print(\"Has instalado con éxito: Rebound versión 3.28.4\")"
      ]
    },
    {
      "cell_type": "code",
      "execution_count": null,
      "metadata": {
        "colab": {
          "base_uri": "https://localhost:8080/"
        },
        "id": "FIoKXEeI0C5c",
        "outputId": "8371b24a-4fe9-4dbd-e2e2-5fa7fee44753"
      },
      "outputs": [],
      "source": [
        "# Ahora creamos una variable con el enlace/link a nuestro repositorio\n",
        "repoURL = 'https://raw.githubusercontent.com/astro-datalab/notebooks-latest/master/06_EPO/e-TeenAstronomyCafe_Spanish/'\n",
        "\n",
        "import requests\n",
        "\n",
        "url = repoURL+'08_Breaking_the_Solar_System/Files/tools.ipynb'\n",
        "r = requests.get(url, allow_redirects=True, stream=True)\n",
        "open('tools.ipynb', 'wb').write(r.content)\n",
        "\n",
        "print(\"Has descargado con éxito las herramientas adicionales necesarias para esta actividad.\")"
      ]
    },
    {
      "cell_type": "code",
      "execution_count": null,
      "metadata": {
        "colab": {
          "base_uri": "https://localhost:8080/"
        },
        "id": "nMdpxSLICW1L",
        "outputId": "4392393a-857a-4a53-f5e5-ed0f17c5a9fb"
      },
      "outputs": [],
      "source": [
        "# Cargando el programa\n",
        "# NO CAMBIES NADA EN ESTA CELDA\n",
        "\n",
        "#Paquete de simulación\n",
        "import rebound\n",
        "\n",
        "# Paquetes de matemáticas\n",
        "from numpy import *\n",
        "\n",
        "# Paquetes de gráfica y configuraciones\n",
        "import matplotlib.pyplot as plt\n",
        "plt.rcParams['animation.html']='jshtml'\n",
        "plt.rcParams['animation.embed_limit']=1024\n",
        "%matplotlib inline\n",
        "\n",
        "# Herramientas tras \"bambalinas\" para simplificar el código\n",
        "%run tools.ipynb\n",
        "\n",
        "# Corrección temporal de algunas advertencias benignas que aparecen al ejecutar esto en Binder\n",
        "import warnings\n",
        "warnings.filterwarnings(\"ignore\")\n",
        "\n",
        "print('¡Listo! Has importado correctamente las bibliotecas.')"
      ]
    },
    {
      "cell_type": "markdown",
      "metadata": {
        "id": "0AVJwZc3CW07"
      },
      "source": [
        "<div class='alert alert-info'>\n",
        "    <h3 class='alert-heading'>Recordatorio(s) Útil(es)</h3>\n",
        "    <ul>\n",
        "        <li>La guía del estudiante que acompaña a esta actividad de Python Notebook se puede encontrar en este <a href=\"https://rsmullen.github.io/files/BTSS_companion_worksheet.pdf\">enlace</a>.</li>\n",
        "    </ul>\n",
        "</div>\n"
      ]
    },
    {
      "cell_type": "markdown",
      "metadata": {
        "id": "7TdT4CJl6b9U"
      },
      "source": [
        "___\n",
        "# Actividad 1: Simulando con un solo planeta"
      ]
    },
    {
      "cell_type": "markdown",
      "metadata": {
        "id": "UnlcuIKpCW06"
      },
      "source": [
        "El tipo de simulaciones que estamos ejecutando aquí se denominan **simulaciones de N-cuerpos** porque utilizan la fuerza gravitacional entre cuerpos para predecir las posiciones de estos en el futuro. Recuerda que la fuerza gravitacional entre dos cuerpos se define como\n",
        "\n",
        "\n",
        "$$\n",
        " F = \\frac{-Gm_1m_2}{r^2}\n",
        "$$\n",
        "\n",
        "donde $G$ es la constante gravitacional, $m_1$ es la masa de un cuerpo, $m_2$ es la masa del otro cuerpo y $r$ es la distancia entre los dos cuerpos. Si los objetos están más cerca, o si uno de los cuerpos es masivo, la fuerza será mayor, lo que provocará fuerzas más grandes entre los cuerpos que pueden hacer que sucedan cosas muy extrañas.\n"
      ]
    },
    {
      "cell_type": "markdown",
      "metadata": {
        "id": "CAbIKUfrCW1P"
      },
      "source": [
        "Existen cuatro pasos para ejecutar una simulación de un sistema planetario. Esta sección te guiará para entender cada pieza del rompecabezas.\n",
        "\n",
        "<font color=red><b>Ejecuta cada una de las celdas de código de abajo cuando comprendas lo que hace.</b></font>"
      ]
    },
    {
      "cell_type": "markdown",
      "metadata": {
        "id": "Keh0ZrydCW1Q"
      },
      "source": [
        "## Parte 1.1: Crear una simulación de Rebound\n",
        "\n",
        "Agregaremos todas nuestras estrellas y planetas a esta simulación de cuerpos."
      ]
    },
    {
      "cell_type": "code",
      "execution_count": null,
      "metadata": {
        "id": "BAnShQJlCW1R"
      },
      "outputs": [],
      "source": [
        "mysim = initialize_simulation() # Crea una simulación llamada 'mysim'"
      ]
    },
    {
      "cell_type": "markdown",
      "metadata": {
        "id": "hyo7c5jBCW1U"
      },
      "source": [
        "## Parte 1.2: Agregar una estrella central para que nuestros planetas orbiten\n",
        "\n",
        "Debemos especificar la _masa_ y el _nombre_ de la estrella. La estrella siempre debe ser el primer objeto agregado a la simulación.\n",
        "\n",
        "La masa de la estrella debe tener unidades de **masas solares** (unidades donde la masa del Sol equivale a 1) y puede tener cualquier nombre que desees (siempre que esté entre comillas `\" `o` '`)\n"
      ]
    },
    {
      "cell_type": "code",
      "execution_count": null,
      "metadata": {
        "id": "rnja5EEmCW1X"
      },
      "outputs": [],
      "source": [
        "add_star(mysim,name='Estrella',mass=1.0) # Agrega una estrella a mysim, con masa en unidades de masas solares"
      ]
    },
    {
      "cell_type": "markdown",
      "metadata": {
        "id": "5MTOY9GrCW1a"
      },
      "source": [
        "## Parte 1.3: Agregar planetas\n",
        "\n",
        "Los planetas deben tener *masa*, un *nombre* y *semieje mayor*. Cada planeta requiere su propia órbita. </font>\n",
        "\n",
        "Los planetas también pueden tener *excentricidad*, *inclinación*, *argumento del perihelio*, *longitud del nodo ascendente* y *anomalía verdadera*, pero estos valores predeterminados quedarán en 0 si no se especifican. Recuerda que estas definiciones se describen en la guía del estudiante. Los valores $ i $, $ \\omega $, $ \\Omega $ y $ f $ tienen unidades de grados ($ 0-360^\\ circ $). Puedes especificar la cantidad de parámetros que tú encuentres necesaria.\n",
        "\n",
        "La masa del planeta debe estar en unidades de **masas de Júpiter** (unidades donde la masa de Júpiter equivale a 1), y el semieje mayor debe tener unidades en **unidades astronómicas (ua)** (unidad donde la distancia entre el Sol y la Tierra equivale 1). No olvidar que el nombre debe ir entre comillas.\n",
        "\n",
        "Como nota aparte: la masa de Júpiter es ${\\approx} 1/1000$ veces la del Sol. La masa de la Tierra es $ {\\approx} \\frac{1}{300} $ veces la de Júpiter o $\\frac{1}{300{,}000} $ veces la masa del Sol.\n"
      ]
    },
    {
      "cell_type": "code",
      "execution_count": null,
      "metadata": {
        "id": "VYK_7Ui9CW1b"
      },
      "outputs": [],
      "source": [
        "add_planet(mysim,name='Planeta',mass=1,a=1) # Agrega un planeta a mysim con masa en masas de Júpiter y en AU"
      ]
    },
    {
      "cell_type": "markdown",
      "metadata": {
        "id": "visnrcCnCW1e"
      },
      "source": [
        "## Parte 1.4: Ejecutar la simulación\n",
        "\n",
        "Ejecutaremos la simulación durante un período de tiempo que se especifica con la variable *end\\_time*. Esta parte del código nos entrega como resultado una película de la(s) órbita(s) de los planeta(s) que hemos agregado a la simulación. La podemos ver escribiendo el nombre de la película, en este caso \"movie\". También entrega tres gráficos con las variaciones (si es que hay) del semieje mayor, la distancia a la estrella y la excentricidad en función del tiempo </font>\n",
        "\n",
        "El tiempo en la simulación se mide en **años**. <Font color = red> ¡Este paso puede demorar unos segundos! El código se está ejecutando si ves que los [ ] están cargando </font>\n"
      ]
    },
    {
      "cell_type": "code",
      "execution_count": null,
      "metadata": {
        "colab": {
          "base_uri": "https://localhost:8080/",
          "height": 1000,
          "referenced_widgets": [
            "c093b245c4bb41ecaccd8d436ea1af28",
            "c072c65f82734038b1744e3c63b85259",
            "c6f23bb74755443d96398db805587d6b",
            "6b4a7699da274d82aa90597a8c223998",
            "31d6a24da4224d169e784a22ea3f1194",
            "8884193abbe64245a53da221c2722e59",
            "91e6b0a6c6a64196a70af15b87499052",
            "625f103b840f482491a468502d14a1f3",
            "62c09655212d42ddb18e9d9cd997f32c",
            "cd8aa712fc62480ca5cd58d3764f4e06",
            "24faa3d4c992494cbae8ce952d10acbd"
          ]
        },
        "id": "uNl8YKwcCW1e",
        "outputId": "f2d64dc0-4f84-4814-f41f-75c94afd6215"
      },
      "outputs": [],
      "source": [
        "movie = run_simulation(mysim,end_time=100) # Ejecuta mysim durante 10 años\n",
        "movie # muestra la película"
      ]
    },
    {
      "cell_type": "markdown",
      "metadata": {},
      "source": [
        "Years = Años\n",
        "\n",
        "Once = Una vez\n",
        "\n",
        "Loop = Bucle\n",
        "\n",
        "Reflect = Reflejar"
      ]
    },
    {
      "cell_type": "markdown",
      "metadata": {
        "id": "snTX7Ag8CW1h"
      },
      "source": [
        "<font color=green>Hay algunas cosas que debes tener en cuenta y que pueden ser útiles en los próximos pasos.</font>\n",
        "\n",
        "Primero, mientras se ejecutaba la simulación, deberías haber visto una barra de progreso con algunos números a un lado. La barra de progreso es para que sepas el estado de tu simulación. En simulaciones muy cortas, la película puede ejecutarse tan rápido que no alcanzarás a ver la barra de progreso. El significado de los números se muestra en la siguiente imagen. En particular, los números \"%Done\" (Listo%) y \"Time Remaining\" (Tiempo restante) son bastante útiles.\n"
      ]
    },
    {
      "cell_type": "markdown",
      "metadata": {
        "id": "C7JzScTHCW1j"
      },
      "source": [
        "<img src=\"https://github.com/astro-datalab/notebooks-latest/blob/master/06_EPO/e-TeenAstronomyCafe_Spanish/08_Breaking_the_Solar_System/Figures/progress-es.jpeg?raw=1\" style=\"width: 600px;\">"
      ]
    },
    {
      "cell_type": "markdown",
      "metadata": {
        "id": "Vaj9403GCW1l"
      },
      "source": [
        "En segundo lugar, tiene una película para reproducir que muestra una vista \"desde arriba hacia abajo\" de nuestro sistema planetario. Los controles de la película se muestran en la siguiente imagen.\n"
      ]
    },
    {
      "cell_type": "markdown",
      "metadata": {
        "id": "29j9KoVOCW1m"
      },
      "source": [
        "<img src=\"https://github.com/astro-datalab/notebooks-latest/blob/master/06_EPO/e-TeenAstronomyCafe_Spanish/08_Breaking_the_Solar_System/Figures/movie-es.jpeg?raw=1\" style=\"width: 500px;\">"
      ]
    },
    {
      "cell_type": "markdown",
      "metadata": {
        "id": "0ll6DtnxCW1o"
      },
      "source": [
        "A veces, las películas pueden parecer retroceder o permanecer quietas. Esto se llama [\"Efecto de rueda de carro\"](https://es.wikipedia.org/wiki/Efecto_de_rueda_de_carro). Si el planeta parece quedarse quieto, los [fotogramas](https://es.wikipedia.org/wiki/Fotograma) de la película se emiten una vez cada vez que el planeta gira alrededor de la estrella un número entero de veces. Si el planeta parece moverse al revés, los fotogramas se emiten cuando el planeta gira más de una vez pero menos de dos veces (o un múltiplo entero) entre fotogramas.\n"
      ]
    },
    {
      "cell_type": "markdown",
      "metadata": {
        "id": "-pmB8MobHHPr"
      },
      "source": [
        "<font color=green>**Antes de seguir adelante**</font>, ten presente que podemos poner todo el código en una celda para simplificar las cosas. A continuación se muestra un ejemplo. <Font color = red> _No_ necesitas ejecutar este código.</font>"
      ]
    },
    {
      "cell_type": "code",
      "execution_count": null,
      "metadata": {
        "colab": {
          "base_uri": "https://localhost:8080/",
          "height": 1000,
          "referenced_widgets": [
            "9cf9457507dc4dd0aae8b6ba01af8576",
            "d17f995649ad4286a216ecf10aa9e3e5",
            "6562f04fd7104912aeedf0e90d6ff09b",
            "6f617577015944e9925eae9b88ebb591",
            "6caa70825e1149a898d98b63cd28b634",
            "21a3ab0c61184b9c901d05460c7f647c",
            "b10b4f7c05024242b1c118bbbdd9151f",
            "30e2c9f3177e4056a252e50faad914e6",
            "3f6378f6ab1b413f892f87fb3198af71",
            "ae27f22b06a043f1a09f1f7d7947523b",
            "94c98d4925594137969c8fb6dc9e52e4"
          ]
        },
        "id": "2DE1_SFW51y6",
        "outputId": "ba68954f-e34b-4151-c35d-694887edc670"
      },
      "outputs": [],
      "source": [
        "# Crea una simulación\n",
        "mysim = initialize_simulation()\n",
        "\n",
        "# Agrega una estrella\n",
        "add_star(mysim, name='Sol', mass=1.0)\n",
        "\n",
        "# Agrega algunos planetas\n",
        "add_planet(mysim, name='planeta grande', mass=1, a=1) # un Jupiter a 1 AU\n",
        "add_planet(mysim, name='planeta pequeno', mass=1/300, a=5, e=0.2, i=10, omega=180, Omega=90, f=143) # una Tierra excéntrica a 5 AU\n",
        "\n",
        "# Ejecuta la simulación y muestra la película\n",
        "movie = run_simulation(mysim,end_time=100)\n",
        "movie"
      ]
    },
    {
      "cell_type": "markdown",
      "metadata": {},
      "source": [
        "Years = Años\n",
        "\n",
        "Once = Una vez\n",
        "\n",
        "Loop = Bucle\n",
        "\n",
        "Reflect = Reflejar"
      ]
    },
    {
      "cell_type": "markdown",
      "metadata": {
        "id": "YjLHMC-XB4xI"
      },
      "source": [
        "___\n",
        "# Actividad 2: Simular un exoplaneta de la clase Júpiter caliente\n",
        "\n",
        "En 1995 fue la primera vez que se observó un planeta fuera de nuestro Sistema Solar, llamado 51 Pegasi b. Fue descubierto por los astrónomos Michel Mayor y Didier Queloz, los cuales en 2019 recibieron el Premio Nobel en Física.  \n",
        "\n",
        "51 Pegasi b, y la mayoría de los otros exoplanetas (planetas fuera de nuestro propio Sistema Solar) descubiertos antes de 2012 son una clase de planetas llamados **Júpiteres calientes**. Estos son planetas _masivos_ que orbitan _muy cerca_ de su estrella anfitriona y suelen ser _excéntricos_.\n",
        "\n",
        " <font color=green>Creamos una lista de Júpiter calientes en [este enlace](https://rsmullen.github.io/files/hot_Jupiters.html).</font>\n"
      ]
    },
    {
      "cell_type": "markdown",
      "metadata": {
        "id": "OA3jSyrQID7n"
      },
      "source": [
        "<font color=red>**Siguiendo la guía del estudiante, ¡simula tu primer planeta!** </font> <br>\n",
        "\n",
        "Selecciona tu Júpiter caliente favorito de la lista de arriba. Crea una nueva simulación y agrega la estrella y el planeta. Ejecuta la simulación por 5 años. Asume que todos los parámetros orbitales que no figuran en la tabla son 0.\n",
        "\n",
        "\n",
        "<sub>¡Copiar y pegar está totalmente aceptado, siempre y cuando verifiques todos tus números! 🙃 </sub>"
      ]
    },
    {
      "cell_type": "code",
      "execution_count": null,
      "metadata": {
        "id": "vvnsdtXaCW14"
      },
      "outputs": [],
      "source": [
        "# Agrega tu simulación abajo"
      ]
    },
    {
      "cell_type": "markdown",
      "metadata": {
        "id": "7esQvBxHCW17"
      },
      "source": [
        "<div class='alert alert-danger'>\n",
        "    <h3 class='alert-heading'>Antes de continuar:</h3>\n",
        "    <ul>\n",
        "        <li>Esperemos a que todos lleguen hasta aquí antes de seguir con los siguientes pasos.</li>\n",
        "        <li> ¡Asegúrate de que tu guía del estudiante esté completa! Si terminaste antes, comparte tus resultados.</li>\n",
        "    </ul>\n",
        "</div>"
      ]
    },
    {
      "cell_type": "markdown",
      "metadata": {
        "id": "XiQdCRSAB8M1"
      },
      "source": [
        "____\n",
        "# Actividad 3: Simula el Sistema Solar"
      ]
    },
    {
      "cell_type": "markdown",
      "metadata": {
        "id": "Baz-MMhpIyjr"
      },
      "source": [
        "\n",
        "Antes de modificar y destruir el Sistema Solar, primero asegurémonos de que podamos hacerlo funcionar en su configuración actual.\n",
        "\n",
        "<font color=red>**Agrega el Sol y los planetas gigantes a la siguiente simulación y ejecútala por 100 años.** </font><br>\n",
        "Los elementos orbitales del Sistema Solar están en la guía del estudiante. La órbita de Neptuno dura 164 años. En tu simulación, ¿realiza al menos una órbita completa alrededor del Sol?, ¿cómo esperas que cambien las órbitas en escalas de tiempo largas, considerando que el Sistema Solar existe desde hace 4.500 millones de años?\n"
      ]
    },
    {
      "cell_type": "code",
      "execution_count": null,
      "metadata": {
        "colab": {
          "base_uri": "https://localhost:8080/",
          "height": 1000,
          "referenced_widgets": [
            "519e841215e74d58b1ea3853fdfa440a",
            "be5f7f0169904f0c90a56f4cd6cc9871",
            "e08a4bd43e2c4463a0f4641d2e064592",
            "7eee48d7419b412bafc3e79b8b83af5d",
            "0e695b84ad904992bc647c2006f5079b",
            "4c5c24e6820540ccb904fb9964508830",
            "b7a341cb76374ce6afdc80e581b77bbc",
            "fbde3aca15d74d4087291dd598ba674c",
            "a48cd09d4f0b41a484a53ece400ef6c4",
            "b6264b2fe97b497bb24d7b7e57aaee80",
            "9954640f5bca4d83ada7c718f249f2b8"
          ]
        },
        "id": "ZaMX6VC3JHUp",
        "outputId": "78abafe5-8b41-4e9b-c316-0e4c1cf76d95"
      },
      "outputs": [],
      "source": [
        "# Crea una simulación\n",
        "mysim = initialize_simulation()\n",
        "\n",
        "# Agrega el Sol aquí\n",
        "\n",
        "\n",
        "\n",
        "# Los planetas interiores\n",
        "add_planet(mysim, name='Mercurio', mass=0.00017, a=0.38, e=0.22, i=7.1, omega=30,  Omega=48,  f=201)\n",
        "add_planet(mysim, name='Venus',    mass=0.0026,  a=0.74, e=0.02, i=3.4, omega=91,  Omega=7,   f=347)\n",
        "add_planet(mysim, name='Tierra',   mass=0.0031,  a=1.00, e=0.01, i=0.0, omega=335, Omega=133, f=86)\n",
        "add_planet(mysim, name='Marte',    mass=0.00034, a=1.51, e=0.09, i=1.9, omega=292, Omega=49,  f=281)\n",
        "\n",
        "# Agrega los planetas gigantes aquí\n",
        "\n",
        "\n",
        "# Plutón-Caronte, solo por diversión. :)\n",
        "#add_planet(mysim, name='Pluton-Caronte', mass=0.000007, a=39.5, e=0.25, i=17.1, omega=114, Omega=110, f=69)\n",
        "\n",
        "# Ejecuta la simulación\n",
        "movie = run_simulation(mysim, end_time=1)\n",
        "movie\n"
      ]
    },
    {
      "cell_type": "markdown",
      "metadata": {},
      "source": [
        "Years = Años\n",
        "\n",
        "Once = Una vez\n",
        "\n",
        "Loop = Bucle\n",
        "\n",
        "Reflect = Reflejar"
      ]
    },
    {
      "cell_type": "markdown",
      "metadata": {
        "id": "R2eGwZuSKOho"
      },
      "source": [
        "Puede que hayas notado que esta simulación tomó mucho tiempo en ejecutarse en comparación con las simulaciones que ejecutamos anteriormente. Existen tres cosas importantes que afectan el tiempo de ejecución:\n",
        "\n",
        "\n",
        "\n",
        "1. El tiempo de duración de la simulación (obviamente).\n",
        "2. El número de cuerpos en la simulación (en este caso, planetas). Cada paso requiere $2^N$ cálculos, donde *N* es la cantidad de planetas, por lo que para un sistema de dos planetas, se requieren cuatro cálculos y para un sistema de ocho planetas, como el Sistema Solar, serían 256 cálculos. Entonces, menos planetas significa una simulación más rápida.\n",
        "3. La distancia del planeta más cercano a la estrella. Como estamos aproximando las órbitas entre iteraciones de tiempo, tenemos que hacer iteraciones más pequeñas para obtener una buena aproximación si hay un planeta muy cerca a la estrella. Por ejemplo, si añadimos a Mercurio en nuestra simulación, un año requiere 83 iteraciones en la simulación, pero si Júpiter fuese el planeta más cercano al Sol, un año requiere 2 iteraciones en la simulación. Un planeta interior más distante significa una simulación más rápida."
      ]
    },
    {
      "cell_type": "markdown",
      "metadata": {
        "id": "8s_sVB_eCW2W"
      },
      "source": [
        "___\n",
        "# Actividad 4: Destruyendo el Sistema Solar\n",
        "\n",
        "¿Qué tan sensible es la estabilidad del Sistema Solar? ¡Ahora lo  averiguarás! <br>\n",
        "Antes de comenzar la actividad, comienza con la guía del estudiante que te ayudará a entender lo que deseas investigar.\n"
      ]
    },
    {
      "cell_type": "markdown",
      "metadata": {
        "id": "r26omLs2B-77"
      },
      "source": [
        "**¡Ejecuta algunas simulaciones para descubrir la modificación más pequeña que necesitas para destruir el Sistema Solar según el criterio que definiste en la guía del estudiante!**\n",
        "\n",
        "* Cada simulación que pruebes debe ir en su propia celda. En la parte superior de la celda, escribe un comentario para recordar lo que estás probando. Recuerda que los comentarios comienzan con `#`.\n",
        "*Ejecuta cada simulación hasta un tiempo final de 10 millones de años. Esto se puede escribir en su código como `end_time=10E6` (la E mayúscula es importante; en lenguaje de código, esto se traduce como $10 \\times10^6$).\n",
        "*¡Asegúrate de ir completando tu guía del estudiante a medida que vas avanzando!\n",
        "\n",
        "<br>\n",
        "<img src=\"https://github.com/astro-datalab/notebooks-latest/blob/master/06_EPO/e-TeenAstronomyCafe_Spanish/08_Breaking_the_Solar_System/Figures/savage-es.jpeg?raw=1\" width=300  />"
      ]
    },
    {
      "cell_type": "code",
      "execution_count": null,
      "metadata": {
        "id": "Wpz_p3ImCo1f"
      },
      "outputs": [],
      "source": [
        "# Parámetros a probar:\n",
        "\n",
        "# Agrega tu simulación abajo\n"
      ]
    },
    {
      "cell_type": "code",
      "execution_count": null,
      "metadata": {
        "id": "KOmVboh40C6C"
      },
      "outputs": [],
      "source": [
        "# Parámetros a probar:\n",
        "\n",
        "# Agrega tu simulación abajo\n"
      ]
    },
    {
      "cell_type": "code",
      "execution_count": null,
      "metadata": {
        "id": "KVfVmQ8T0C6D"
      },
      "outputs": [],
      "source": [
        "# Parámetros a probar:\n",
        "\n",
        "# Agrega tu simulación abajo\n"
      ]
    },
    {
      "cell_type": "code",
      "execution_count": null,
      "metadata": {
        "id": "VqGbBD4M0C6E"
      },
      "outputs": [],
      "source": [
        "# Parámetros a probar:\n",
        "\n",
        "# Agrega tu simulación abajo\n"
      ]
    },
    {
      "cell_type": "code",
      "execution_count": null,
      "metadata": {
        "id": "TIBZKE5A0C6E"
      },
      "outputs": [],
      "source": [
        "# Parámetros a probar:\n",
        "\n",
        "# Agrega tu simulación abajo\n"
      ]
    },
    {
      "cell_type": "code",
      "execution_count": null,
      "metadata": {
        "id": "S5bXlsy70C6F"
      },
      "outputs": [],
      "source": []
    },
    {
      "cell_type": "code",
      "execution_count": null,
      "metadata": {
        "id": "LaLhUFSN0C6G"
      },
      "outputs": [],
      "source": []
    },
    {
      "cell_type": "code",
      "execution_count": null,
      "metadata": {
        "id": "OHis1lEn0C6Q"
      },
      "outputs": [],
      "source": []
    },
    {
      "cell_type": "code",
      "execution_count": null,
      "metadata": {
        "id": "1ROR0tI70C6R"
      },
      "outputs": [],
      "source": []
    },
    {
      "cell_type": "markdown",
      "metadata": {
        "id": "SEnfK9oB0C6R"
      },
      "source": [
        "¿Te gustó la película que creaste con tu simulación? Puedes guardarla para llevarla a tu casa colocando el siguiente comando al final de la celda que creó la película (puedes cambiar `'mymovie'` por el nombre que desees). Luego estará en la carpeta de almacenamiento de la sesión de Colab (panel izquierdo) para que lo descargues a tu computador.\n"
      ]
    },
    {
      "cell_type": "code",
      "execution_count": null,
      "metadata": {
        "id": "x0q2HSQH0C6S"
      },
      "outputs": [],
      "source": [
        "movie.save('mymovie.mpeg')"
      ]
    },
    {
      "cell_type": "markdown",
      "metadata": {
        "id": "MakFIJeH16mt"
      },
      "source": [
        "\n",
        "_**Creado por Rachel Smullen y Christine O'Donnell 2020.**_\n",
        "\n",
        "_**Traducido por Fernanda Urrutia y Carolina Vargas 2023.**_\n",
        "\n",
        "_**Revisado por Marco Moreno 2023.**_"
      ]
    }
  ],
  "metadata": {
    "colab": {
      "provenance": []
    },
    "kernelspec": {
      "display_name": "Python 3",
      "language": "python",
      "name": "python3"
    },
    "language_info": {
      "codemirror_mode": {
        "name": "ipython",
        "version": 3
      },
      "file_extension": ".py",
      "mimetype": "text/x-python",
      "name": "python",
      "nbconvert_exporter": "python",
      "pygments_lexer": "ipython3",
      "version": "3.9.5"
    },
    "widgets": {
      "application/vnd.jupyter.widget-state+json": {
        "0e695b84ad904992bc647c2006f5079b": {
          "model_module": "@jupyter-widgets/base",
          "model_module_version": "1.2.0",
          "model_name": "LayoutModel",
          "state": {
            "_model_module": "@jupyter-widgets/base",
            "_model_module_version": "1.2.0",
            "_model_name": "LayoutModel",
            "_view_count": null,
            "_view_module": "@jupyter-widgets/base",
            "_view_module_version": "1.2.0",
            "_view_name": "LayoutView",
            "align_content": null,
            "align_items": null,
            "align_self": null,
            "border": null,
            "bottom": null,
            "display": null,
            "flex": null,
            "flex_flow": null,
            "grid_area": null,
            "grid_auto_columns": null,
            "grid_auto_flow": null,
            "grid_auto_rows": null,
            "grid_column": null,
            "grid_gap": null,
            "grid_row": null,
            "grid_template_areas": null,
            "grid_template_columns": null,
            "grid_template_rows": null,
            "height": null,
            "justify_content": null,
            "justify_items": null,
            "left": null,
            "margin": null,
            "max_height": null,
            "max_width": null,
            "min_height": null,
            "min_width": null,
            "object_fit": null,
            "object_position": null,
            "order": null,
            "overflow": null,
            "overflow_x": null,
            "overflow_y": null,
            "padding": null,
            "right": null,
            "top": null,
            "visibility": null,
            "width": null
          }
        },
        "21a3ab0c61184b9c901d05460c7f647c": {
          "model_module": "@jupyter-widgets/base",
          "model_module_version": "1.2.0",
          "model_name": "LayoutModel",
          "state": {
            "_model_module": "@jupyter-widgets/base",
            "_model_module_version": "1.2.0",
            "_model_name": "LayoutModel",
            "_view_count": null,
            "_view_module": "@jupyter-widgets/base",
            "_view_module_version": "1.2.0",
            "_view_name": "LayoutView",
            "align_content": null,
            "align_items": null,
            "align_self": null,
            "border": null,
            "bottom": null,
            "display": null,
            "flex": null,
            "flex_flow": null,
            "grid_area": null,
            "grid_auto_columns": null,
            "grid_auto_flow": null,
            "grid_auto_rows": null,
            "grid_column": null,
            "grid_gap": null,
            "grid_row": null,
            "grid_template_areas": null,
            "grid_template_columns": null,
            "grid_template_rows": null,
            "height": null,
            "justify_content": null,
            "justify_items": null,
            "left": null,
            "margin": null,
            "max_height": null,
            "max_width": null,
            "min_height": null,
            "min_width": null,
            "object_fit": null,
            "object_position": null,
            "order": null,
            "overflow": null,
            "overflow_x": null,
            "overflow_y": null,
            "padding": null,
            "right": null,
            "top": null,
            "visibility": null,
            "width": null
          }
        },
        "24faa3d4c992494cbae8ce952d10acbd": {
          "model_module": "@jupyter-widgets/controls",
          "model_module_version": "1.5.0",
          "model_name": "DescriptionStyleModel",
          "state": {
            "_model_module": "@jupyter-widgets/controls",
            "_model_module_version": "1.5.0",
            "_model_name": "DescriptionStyleModel",
            "_view_count": null,
            "_view_module": "@jupyter-widgets/base",
            "_view_module_version": "1.2.0",
            "_view_name": "StyleView",
            "description_width": ""
          }
        },
        "30e2c9f3177e4056a252e50faad914e6": {
          "model_module": "@jupyter-widgets/base",
          "model_module_version": "1.2.0",
          "model_name": "LayoutModel",
          "state": {
            "_model_module": "@jupyter-widgets/base",
            "_model_module_version": "1.2.0",
            "_model_name": "LayoutModel",
            "_view_count": null,
            "_view_module": "@jupyter-widgets/base",
            "_view_module_version": "1.2.0",
            "_view_name": "LayoutView",
            "align_content": null,
            "align_items": null,
            "align_self": null,
            "border": null,
            "bottom": null,
            "display": null,
            "flex": null,
            "flex_flow": null,
            "grid_area": null,
            "grid_auto_columns": null,
            "grid_auto_flow": null,
            "grid_auto_rows": null,
            "grid_column": null,
            "grid_gap": null,
            "grid_row": null,
            "grid_template_areas": null,
            "grid_template_columns": null,
            "grid_template_rows": null,
            "height": null,
            "justify_content": null,
            "justify_items": null,
            "left": null,
            "margin": null,
            "max_height": null,
            "max_width": null,
            "min_height": null,
            "min_width": null,
            "object_fit": null,
            "object_position": null,
            "order": null,
            "overflow": null,
            "overflow_x": null,
            "overflow_y": null,
            "padding": null,
            "right": null,
            "top": null,
            "visibility": null,
            "width": null
          }
        },
        "31d6a24da4224d169e784a22ea3f1194": {
          "model_module": "@jupyter-widgets/base",
          "model_module_version": "1.2.0",
          "model_name": "LayoutModel",
          "state": {
            "_model_module": "@jupyter-widgets/base",
            "_model_module_version": "1.2.0",
            "_model_name": "LayoutModel",
            "_view_count": null,
            "_view_module": "@jupyter-widgets/base",
            "_view_module_version": "1.2.0",
            "_view_name": "LayoutView",
            "align_content": null,
            "align_items": null,
            "align_self": null,
            "border": null,
            "bottom": null,
            "display": null,
            "flex": null,
            "flex_flow": null,
            "grid_area": null,
            "grid_auto_columns": null,
            "grid_auto_flow": null,
            "grid_auto_rows": null,
            "grid_column": null,
            "grid_gap": null,
            "grid_row": null,
            "grid_template_areas": null,
            "grid_template_columns": null,
            "grid_template_rows": null,
            "height": null,
            "justify_content": null,
            "justify_items": null,
            "left": null,
            "margin": null,
            "max_height": null,
            "max_width": null,
            "min_height": null,
            "min_width": null,
            "object_fit": null,
            "object_position": null,
            "order": null,
            "overflow": null,
            "overflow_x": null,
            "overflow_y": null,
            "padding": null,
            "right": null,
            "top": null,
            "visibility": null,
            "width": null
          }
        },
        "3f6378f6ab1b413f892f87fb3198af71": {
          "model_module": "@jupyter-widgets/controls",
          "model_module_version": "1.5.0",
          "model_name": "ProgressStyleModel",
          "state": {
            "_model_module": "@jupyter-widgets/controls",
            "_model_module_version": "1.5.0",
            "_model_name": "ProgressStyleModel",
            "_view_count": null,
            "_view_module": "@jupyter-widgets/base",
            "_view_module_version": "1.2.0",
            "_view_name": "StyleView",
            "bar_color": null,
            "description_width": ""
          }
        },
        "4c5c24e6820540ccb904fb9964508830": {
          "model_module": "@jupyter-widgets/base",
          "model_module_version": "1.2.0",
          "model_name": "LayoutModel",
          "state": {
            "_model_module": "@jupyter-widgets/base",
            "_model_module_version": "1.2.0",
            "_model_name": "LayoutModel",
            "_view_count": null,
            "_view_module": "@jupyter-widgets/base",
            "_view_module_version": "1.2.0",
            "_view_name": "LayoutView",
            "align_content": null,
            "align_items": null,
            "align_self": null,
            "border": null,
            "bottom": null,
            "display": null,
            "flex": null,
            "flex_flow": null,
            "grid_area": null,
            "grid_auto_columns": null,
            "grid_auto_flow": null,
            "grid_auto_rows": null,
            "grid_column": null,
            "grid_gap": null,
            "grid_row": null,
            "grid_template_areas": null,
            "grid_template_columns": null,
            "grid_template_rows": null,
            "height": null,
            "justify_content": null,
            "justify_items": null,
            "left": null,
            "margin": null,
            "max_height": null,
            "max_width": null,
            "min_height": null,
            "min_width": null,
            "object_fit": null,
            "object_position": null,
            "order": null,
            "overflow": null,
            "overflow_x": null,
            "overflow_y": null,
            "padding": null,
            "right": null,
            "top": null,
            "visibility": null,
            "width": null
          }
        },
        "519e841215e74d58b1ea3853fdfa440a": {
          "model_module": "@jupyter-widgets/controls",
          "model_module_version": "1.5.0",
          "model_name": "HBoxModel",
          "state": {
            "_dom_classes": [],
            "_model_module": "@jupyter-widgets/controls",
            "_model_module_version": "1.5.0",
            "_model_name": "HBoxModel",
            "_view_count": null,
            "_view_module": "@jupyter-widgets/controls",
            "_view_module_version": "1.5.0",
            "_view_name": "HBoxView",
            "box_style": "",
            "children": [
              "IPY_MODEL_be5f7f0169904f0c90a56f4cd6cc9871",
              "IPY_MODEL_e08a4bd43e2c4463a0f4641d2e064592",
              "IPY_MODEL_7eee48d7419b412bafc3e79b8b83af5d"
            ],
            "layout": "IPY_MODEL_0e695b84ad904992bc647c2006f5079b"
          }
        },
        "625f103b840f482491a468502d14a1f3": {
          "model_module": "@jupyter-widgets/base",
          "model_module_version": "1.2.0",
          "model_name": "LayoutModel",
          "state": {
            "_model_module": "@jupyter-widgets/base",
            "_model_module_version": "1.2.0",
            "_model_name": "LayoutModel",
            "_view_count": null,
            "_view_module": "@jupyter-widgets/base",
            "_view_module_version": "1.2.0",
            "_view_name": "LayoutView",
            "align_content": null,
            "align_items": null,
            "align_self": null,
            "border": null,
            "bottom": null,
            "display": null,
            "flex": null,
            "flex_flow": null,
            "grid_area": null,
            "grid_auto_columns": null,
            "grid_auto_flow": null,
            "grid_auto_rows": null,
            "grid_column": null,
            "grid_gap": null,
            "grid_row": null,
            "grid_template_areas": null,
            "grid_template_columns": null,
            "grid_template_rows": null,
            "height": null,
            "justify_content": null,
            "justify_items": null,
            "left": null,
            "margin": null,
            "max_height": null,
            "max_width": null,
            "min_height": null,
            "min_width": null,
            "object_fit": null,
            "object_position": null,
            "order": null,
            "overflow": null,
            "overflow_x": null,
            "overflow_y": null,
            "padding": null,
            "right": null,
            "top": null,
            "visibility": null,
            "width": null
          }
        },
        "62c09655212d42ddb18e9d9cd997f32c": {
          "model_module": "@jupyter-widgets/controls",
          "model_module_version": "1.5.0",
          "model_name": "ProgressStyleModel",
          "state": {
            "_model_module": "@jupyter-widgets/controls",
            "_model_module_version": "1.5.0",
            "_model_name": "ProgressStyleModel",
            "_view_count": null,
            "_view_module": "@jupyter-widgets/base",
            "_view_module_version": "1.2.0",
            "_view_name": "StyleView",
            "bar_color": null,
            "description_width": ""
          }
        },
        "6562f04fd7104912aeedf0e90d6ff09b": {
          "model_module": "@jupyter-widgets/controls",
          "model_module_version": "1.5.0",
          "model_name": "FloatProgressModel",
          "state": {
            "_dom_classes": [],
            "_model_module": "@jupyter-widgets/controls",
            "_model_module_version": "1.5.0",
            "_model_name": "FloatProgressModel",
            "_view_count": null,
            "_view_module": "@jupyter-widgets/controls",
            "_view_module_version": "1.5.0",
            "_view_name": "ProgressView",
            "bar_style": "success",
            "description": "",
            "description_tooltip": null,
            "layout": "IPY_MODEL_30e2c9f3177e4056a252e50faad914e6",
            "max": 100,
            "min": 0,
            "orientation": "horizontal",
            "style": "IPY_MODEL_3f6378f6ab1b413f892f87fb3198af71",
            "value": 100
          }
        },
        "6b4a7699da274d82aa90597a8c223998": {
          "model_module": "@jupyter-widgets/controls",
          "model_module_version": "1.5.0",
          "model_name": "HTMLModel",
          "state": {
            "_dom_classes": [],
            "_model_module": "@jupyter-widgets/controls",
            "_model_module_version": "1.5.0",
            "_model_name": "HTMLModel",
            "_view_count": null,
            "_view_module": "@jupyter-widgets/controls",
            "_view_module_version": "1.5.0",
            "_view_name": "HTMLView",
            "description": "",
            "description_tooltip": null,
            "layout": "IPY_MODEL_cd8aa712fc62480ca5cd58d3764f4e06",
            "placeholder": "​",
            "style": "IPY_MODEL_24faa3d4c992494cbae8ce952d10acbd",
            "value": " 100/100 [00:01&lt;00:00, 79.82it/s]"
          }
        },
        "6caa70825e1149a898d98b63cd28b634": {
          "model_module": "@jupyter-widgets/base",
          "model_module_version": "1.2.0",
          "model_name": "LayoutModel",
          "state": {
            "_model_module": "@jupyter-widgets/base",
            "_model_module_version": "1.2.0",
            "_model_name": "LayoutModel",
            "_view_count": null,
            "_view_module": "@jupyter-widgets/base",
            "_view_module_version": "1.2.0",
            "_view_name": "LayoutView",
            "align_content": null,
            "align_items": null,
            "align_self": null,
            "border": null,
            "bottom": null,
            "display": null,
            "flex": null,
            "flex_flow": null,
            "grid_area": null,
            "grid_auto_columns": null,
            "grid_auto_flow": null,
            "grid_auto_rows": null,
            "grid_column": null,
            "grid_gap": null,
            "grid_row": null,
            "grid_template_areas": null,
            "grid_template_columns": null,
            "grid_template_rows": null,
            "height": null,
            "justify_content": null,
            "justify_items": null,
            "left": null,
            "margin": null,
            "max_height": null,
            "max_width": null,
            "min_height": null,
            "min_width": null,
            "object_fit": null,
            "object_position": null,
            "order": null,
            "overflow": null,
            "overflow_x": null,
            "overflow_y": null,
            "padding": null,
            "right": null,
            "top": null,
            "visibility": null,
            "width": null
          }
        },
        "6f617577015944e9925eae9b88ebb591": {
          "model_module": "@jupyter-widgets/controls",
          "model_module_version": "1.5.0",
          "model_name": "HTMLModel",
          "state": {
            "_dom_classes": [],
            "_model_module": "@jupyter-widgets/controls",
            "_model_module_version": "1.5.0",
            "_model_name": "HTMLModel",
            "_view_count": null,
            "_view_module": "@jupyter-widgets/controls",
            "_view_module_version": "1.5.0",
            "_view_name": "HTMLView",
            "description": "",
            "description_tooltip": null,
            "layout": "IPY_MODEL_ae27f22b06a043f1a09f1f7d7947523b",
            "placeholder": "​",
            "style": "IPY_MODEL_94c98d4925594137969c8fb6dc9e52e4",
            "value": " 100/100 [00:02&lt;00:00, 28.07it/s]"
          }
        },
        "7eee48d7419b412bafc3e79b8b83af5d": {
          "model_module": "@jupyter-widgets/controls",
          "model_module_version": "1.5.0",
          "model_name": "HTMLModel",
          "state": {
            "_dom_classes": [],
            "_model_module": "@jupyter-widgets/controls",
            "_model_module_version": "1.5.0",
            "_model_name": "HTMLModel",
            "_view_count": null,
            "_view_module": "@jupyter-widgets/controls",
            "_view_module_version": "1.5.0",
            "_view_name": "HTMLView",
            "description": "",
            "description_tooltip": null,
            "layout": "IPY_MODEL_b6264b2fe97b497bb24d7b7e57aaee80",
            "placeholder": "​",
            "style": "IPY_MODEL_9954640f5bca4d83ada7c718f249f2b8",
            "value": " 0/1 [00:05&lt;?, ?it/s]"
          }
        },
        "8884193abbe64245a53da221c2722e59": {
          "model_module": "@jupyter-widgets/base",
          "model_module_version": "1.2.0",
          "model_name": "LayoutModel",
          "state": {
            "_model_module": "@jupyter-widgets/base",
            "_model_module_version": "1.2.0",
            "_model_name": "LayoutModel",
            "_view_count": null,
            "_view_module": "@jupyter-widgets/base",
            "_view_module_version": "1.2.0",
            "_view_name": "LayoutView",
            "align_content": null,
            "align_items": null,
            "align_self": null,
            "border": null,
            "bottom": null,
            "display": null,
            "flex": null,
            "flex_flow": null,
            "grid_area": null,
            "grid_auto_columns": null,
            "grid_auto_flow": null,
            "grid_auto_rows": null,
            "grid_column": null,
            "grid_gap": null,
            "grid_row": null,
            "grid_template_areas": null,
            "grid_template_columns": null,
            "grid_template_rows": null,
            "height": null,
            "justify_content": null,
            "justify_items": null,
            "left": null,
            "margin": null,
            "max_height": null,
            "max_width": null,
            "min_height": null,
            "min_width": null,
            "object_fit": null,
            "object_position": null,
            "order": null,
            "overflow": null,
            "overflow_x": null,
            "overflow_y": null,
            "padding": null,
            "right": null,
            "top": null,
            "visibility": null,
            "width": null
          }
        },
        "91e6b0a6c6a64196a70af15b87499052": {
          "model_module": "@jupyter-widgets/controls",
          "model_module_version": "1.5.0",
          "model_name": "DescriptionStyleModel",
          "state": {
            "_model_module": "@jupyter-widgets/controls",
            "_model_module_version": "1.5.0",
            "_model_name": "DescriptionStyleModel",
            "_view_count": null,
            "_view_module": "@jupyter-widgets/base",
            "_view_module_version": "1.2.0",
            "_view_name": "StyleView",
            "description_width": ""
          }
        },
        "94c98d4925594137969c8fb6dc9e52e4": {
          "model_module": "@jupyter-widgets/controls",
          "model_module_version": "1.5.0",
          "model_name": "DescriptionStyleModel",
          "state": {
            "_model_module": "@jupyter-widgets/controls",
            "_model_module_version": "1.5.0",
            "_model_name": "DescriptionStyleModel",
            "_view_count": null,
            "_view_module": "@jupyter-widgets/base",
            "_view_module_version": "1.2.0",
            "_view_name": "StyleView",
            "description_width": ""
          }
        },
        "9954640f5bca4d83ada7c718f249f2b8": {
          "model_module": "@jupyter-widgets/controls",
          "model_module_version": "1.5.0",
          "model_name": "DescriptionStyleModel",
          "state": {
            "_model_module": "@jupyter-widgets/controls",
            "_model_module_version": "1.5.0",
            "_model_name": "DescriptionStyleModel",
            "_view_count": null,
            "_view_module": "@jupyter-widgets/base",
            "_view_module_version": "1.2.0",
            "_view_name": "StyleView",
            "description_width": ""
          }
        },
        "9cf9457507dc4dd0aae8b6ba01af8576": {
          "model_module": "@jupyter-widgets/controls",
          "model_module_version": "1.5.0",
          "model_name": "HBoxModel",
          "state": {
            "_dom_classes": [],
            "_model_module": "@jupyter-widgets/controls",
            "_model_module_version": "1.5.0",
            "_model_name": "HBoxModel",
            "_view_count": null,
            "_view_module": "@jupyter-widgets/controls",
            "_view_module_version": "1.5.0",
            "_view_name": "HBoxView",
            "box_style": "",
            "children": [
              "IPY_MODEL_d17f995649ad4286a216ecf10aa9e3e5",
              "IPY_MODEL_6562f04fd7104912aeedf0e90d6ff09b",
              "IPY_MODEL_6f617577015944e9925eae9b88ebb591"
            ],
            "layout": "IPY_MODEL_6caa70825e1149a898d98b63cd28b634"
          }
        },
        "a48cd09d4f0b41a484a53ece400ef6c4": {
          "model_module": "@jupyter-widgets/controls",
          "model_module_version": "1.5.0",
          "model_name": "ProgressStyleModel",
          "state": {
            "_model_module": "@jupyter-widgets/controls",
            "_model_module_version": "1.5.0",
            "_model_name": "ProgressStyleModel",
            "_view_count": null,
            "_view_module": "@jupyter-widgets/base",
            "_view_module_version": "1.2.0",
            "_view_name": "StyleView",
            "bar_color": null,
            "description_width": ""
          }
        },
        "ae27f22b06a043f1a09f1f7d7947523b": {
          "model_module": "@jupyter-widgets/base",
          "model_module_version": "1.2.0",
          "model_name": "LayoutModel",
          "state": {
            "_model_module": "@jupyter-widgets/base",
            "_model_module_version": "1.2.0",
            "_model_name": "LayoutModel",
            "_view_count": null,
            "_view_module": "@jupyter-widgets/base",
            "_view_module_version": "1.2.0",
            "_view_name": "LayoutView",
            "align_content": null,
            "align_items": null,
            "align_self": null,
            "border": null,
            "bottom": null,
            "display": null,
            "flex": null,
            "flex_flow": null,
            "grid_area": null,
            "grid_auto_columns": null,
            "grid_auto_flow": null,
            "grid_auto_rows": null,
            "grid_column": null,
            "grid_gap": null,
            "grid_row": null,
            "grid_template_areas": null,
            "grid_template_columns": null,
            "grid_template_rows": null,
            "height": null,
            "justify_content": null,
            "justify_items": null,
            "left": null,
            "margin": null,
            "max_height": null,
            "max_width": null,
            "min_height": null,
            "min_width": null,
            "object_fit": null,
            "object_position": null,
            "order": null,
            "overflow": null,
            "overflow_x": null,
            "overflow_y": null,
            "padding": null,
            "right": null,
            "top": null,
            "visibility": null,
            "width": null
          }
        },
        "b10b4f7c05024242b1c118bbbdd9151f": {
          "model_module": "@jupyter-widgets/controls",
          "model_module_version": "1.5.0",
          "model_name": "DescriptionStyleModel",
          "state": {
            "_model_module": "@jupyter-widgets/controls",
            "_model_module_version": "1.5.0",
            "_model_name": "DescriptionStyleModel",
            "_view_count": null,
            "_view_module": "@jupyter-widgets/base",
            "_view_module_version": "1.2.0",
            "_view_name": "StyleView",
            "description_width": ""
          }
        },
        "b6264b2fe97b497bb24d7b7e57aaee80": {
          "model_module": "@jupyter-widgets/base",
          "model_module_version": "1.2.0",
          "model_name": "LayoutModel",
          "state": {
            "_model_module": "@jupyter-widgets/base",
            "_model_module_version": "1.2.0",
            "_model_name": "LayoutModel",
            "_view_count": null,
            "_view_module": "@jupyter-widgets/base",
            "_view_module_version": "1.2.0",
            "_view_name": "LayoutView",
            "align_content": null,
            "align_items": null,
            "align_self": null,
            "border": null,
            "bottom": null,
            "display": null,
            "flex": null,
            "flex_flow": null,
            "grid_area": null,
            "grid_auto_columns": null,
            "grid_auto_flow": null,
            "grid_auto_rows": null,
            "grid_column": null,
            "grid_gap": null,
            "grid_row": null,
            "grid_template_areas": null,
            "grid_template_columns": null,
            "grid_template_rows": null,
            "height": null,
            "justify_content": null,
            "justify_items": null,
            "left": null,
            "margin": null,
            "max_height": null,
            "max_width": null,
            "min_height": null,
            "min_width": null,
            "object_fit": null,
            "object_position": null,
            "order": null,
            "overflow": null,
            "overflow_x": null,
            "overflow_y": null,
            "padding": null,
            "right": null,
            "top": null,
            "visibility": null,
            "width": null
          }
        },
        "b7a341cb76374ce6afdc80e581b77bbc": {
          "model_module": "@jupyter-widgets/controls",
          "model_module_version": "1.5.0",
          "model_name": "DescriptionStyleModel",
          "state": {
            "_model_module": "@jupyter-widgets/controls",
            "_model_module_version": "1.5.0",
            "_model_name": "DescriptionStyleModel",
            "_view_count": null,
            "_view_module": "@jupyter-widgets/base",
            "_view_module_version": "1.2.0",
            "_view_name": "StyleView",
            "description_width": ""
          }
        },
        "be5f7f0169904f0c90a56f4cd6cc9871": {
          "model_module": "@jupyter-widgets/controls",
          "model_module_version": "1.5.0",
          "model_name": "HTMLModel",
          "state": {
            "_dom_classes": [],
            "_model_module": "@jupyter-widgets/controls",
            "_model_module_version": "1.5.0",
            "_model_name": "HTMLModel",
            "_view_count": null,
            "_view_module": "@jupyter-widgets/controls",
            "_view_module_version": "1.5.0",
            "_view_name": "HTMLView",
            "description": "",
            "description_tooltip": null,
            "layout": "IPY_MODEL_4c5c24e6820540ccb904fb9964508830",
            "placeholder": "​",
            "style": "IPY_MODEL_b7a341cb76374ce6afdc80e581b77bbc",
            "value": "Progress:   0%"
          }
        },
        "c072c65f82734038b1744e3c63b85259": {
          "model_module": "@jupyter-widgets/controls",
          "model_module_version": "1.5.0",
          "model_name": "HTMLModel",
          "state": {
            "_dom_classes": [],
            "_model_module": "@jupyter-widgets/controls",
            "_model_module_version": "1.5.0",
            "_model_name": "HTMLModel",
            "_view_count": null,
            "_view_module": "@jupyter-widgets/controls",
            "_view_module_version": "1.5.0",
            "_view_name": "HTMLView",
            "description": "",
            "description_tooltip": null,
            "layout": "IPY_MODEL_8884193abbe64245a53da221c2722e59",
            "placeholder": "​",
            "style": "IPY_MODEL_91e6b0a6c6a64196a70af15b87499052",
            "value": "Progress: 100%"
          }
        },
        "c093b245c4bb41ecaccd8d436ea1af28": {
          "model_module": "@jupyter-widgets/controls",
          "model_module_version": "1.5.0",
          "model_name": "HBoxModel",
          "state": {
            "_dom_classes": [],
            "_model_module": "@jupyter-widgets/controls",
            "_model_module_version": "1.5.0",
            "_model_name": "HBoxModel",
            "_view_count": null,
            "_view_module": "@jupyter-widgets/controls",
            "_view_module_version": "1.5.0",
            "_view_name": "HBoxView",
            "box_style": "",
            "children": [
              "IPY_MODEL_c072c65f82734038b1744e3c63b85259",
              "IPY_MODEL_c6f23bb74755443d96398db805587d6b",
              "IPY_MODEL_6b4a7699da274d82aa90597a8c223998"
            ],
            "layout": "IPY_MODEL_31d6a24da4224d169e784a22ea3f1194"
          }
        },
        "c6f23bb74755443d96398db805587d6b": {
          "model_module": "@jupyter-widgets/controls",
          "model_module_version": "1.5.0",
          "model_name": "FloatProgressModel",
          "state": {
            "_dom_classes": [],
            "_model_module": "@jupyter-widgets/controls",
            "_model_module_version": "1.5.0",
            "_model_name": "FloatProgressModel",
            "_view_count": null,
            "_view_module": "@jupyter-widgets/controls",
            "_view_module_version": "1.5.0",
            "_view_name": "ProgressView",
            "bar_style": "success",
            "description": "",
            "description_tooltip": null,
            "layout": "IPY_MODEL_625f103b840f482491a468502d14a1f3",
            "max": 100,
            "min": 0,
            "orientation": "horizontal",
            "style": "IPY_MODEL_62c09655212d42ddb18e9d9cd997f32c",
            "value": 100
          }
        },
        "cd8aa712fc62480ca5cd58d3764f4e06": {
          "model_module": "@jupyter-widgets/base",
          "model_module_version": "1.2.0",
          "model_name": "LayoutModel",
          "state": {
            "_model_module": "@jupyter-widgets/base",
            "_model_module_version": "1.2.0",
            "_model_name": "LayoutModel",
            "_view_count": null,
            "_view_module": "@jupyter-widgets/base",
            "_view_module_version": "1.2.0",
            "_view_name": "LayoutView",
            "align_content": null,
            "align_items": null,
            "align_self": null,
            "border": null,
            "bottom": null,
            "display": null,
            "flex": null,
            "flex_flow": null,
            "grid_area": null,
            "grid_auto_columns": null,
            "grid_auto_flow": null,
            "grid_auto_rows": null,
            "grid_column": null,
            "grid_gap": null,
            "grid_row": null,
            "grid_template_areas": null,
            "grid_template_columns": null,
            "grid_template_rows": null,
            "height": null,
            "justify_content": null,
            "justify_items": null,
            "left": null,
            "margin": null,
            "max_height": null,
            "max_width": null,
            "min_height": null,
            "min_width": null,
            "object_fit": null,
            "object_position": null,
            "order": null,
            "overflow": null,
            "overflow_x": null,
            "overflow_y": null,
            "padding": null,
            "right": null,
            "top": null,
            "visibility": null,
            "width": null
          }
        },
        "d17f995649ad4286a216ecf10aa9e3e5": {
          "model_module": "@jupyter-widgets/controls",
          "model_module_version": "1.5.0",
          "model_name": "HTMLModel",
          "state": {
            "_dom_classes": [],
            "_model_module": "@jupyter-widgets/controls",
            "_model_module_version": "1.5.0",
            "_model_name": "HTMLModel",
            "_view_count": null,
            "_view_module": "@jupyter-widgets/controls",
            "_view_module_version": "1.5.0",
            "_view_name": "HTMLView",
            "description": "",
            "description_tooltip": null,
            "layout": "IPY_MODEL_21a3ab0c61184b9c901d05460c7f647c",
            "placeholder": "​",
            "style": "IPY_MODEL_b10b4f7c05024242b1c118bbbdd9151f",
            "value": "Progress: 100%"
          }
        },
        "e08a4bd43e2c4463a0f4641d2e064592": {
          "model_module": "@jupyter-widgets/controls",
          "model_module_version": "1.5.0",
          "model_name": "FloatProgressModel",
          "state": {
            "_dom_classes": [],
            "_model_module": "@jupyter-widgets/controls",
            "_model_module_version": "1.5.0",
            "_model_name": "FloatProgressModel",
            "_view_count": null,
            "_view_module": "@jupyter-widgets/controls",
            "_view_module_version": "1.5.0",
            "_view_name": "ProgressView",
            "bar_style": "danger",
            "description": "",
            "description_tooltip": null,
            "layout": "IPY_MODEL_fbde3aca15d74d4087291dd598ba674c",
            "max": 1,
            "min": 0,
            "orientation": "horizontal",
            "style": "IPY_MODEL_a48cd09d4f0b41a484a53ece400ef6c4",
            "value": 0
          }
        },
        "fbde3aca15d74d4087291dd598ba674c": {
          "model_module": "@jupyter-widgets/base",
          "model_module_version": "1.2.0",
          "model_name": "LayoutModel",
          "state": {
            "_model_module": "@jupyter-widgets/base",
            "_model_module_version": "1.2.0",
            "_model_name": "LayoutModel",
            "_view_count": null,
            "_view_module": "@jupyter-widgets/base",
            "_view_module_version": "1.2.0",
            "_view_name": "LayoutView",
            "align_content": null,
            "align_items": null,
            "align_self": null,
            "border": null,
            "bottom": null,
            "display": null,
            "flex": null,
            "flex_flow": null,
            "grid_area": null,
            "grid_auto_columns": null,
            "grid_auto_flow": null,
            "grid_auto_rows": null,
            "grid_column": null,
            "grid_gap": null,
            "grid_row": null,
            "grid_template_areas": null,
            "grid_template_columns": null,
            "grid_template_rows": null,
            "height": null,
            "justify_content": null,
            "justify_items": null,
            "left": null,
            "margin": null,
            "max_height": null,
            "max_width": null,
            "min_height": null,
            "min_width": null,
            "object_fit": null,
            "object_position": null,
            "order": null,
            "overflow": null,
            "overflow_x": null,
            "overflow_y": null,
            "padding": null,
            "right": null,
            "top": null,
            "visibility": null,
            "width": null
          }
        }
      }
    }
  },
  "nbformat": 4,
  "nbformat_minor": 0
}
