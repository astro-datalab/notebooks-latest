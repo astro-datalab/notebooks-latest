{
 "cells": [
  {
   "cell_type": "code",
   "execution_count": 3,
   "id": "6d2200cc",
   "metadata": {},
   "outputs": [],
   "source": [
    "__author__ = 'Brian Merino <brian.merino@noirlab.edu>'\n",
    "__version__ = '2024' # yyyymmdd; version datestamp of this notebook\n",
    "__keywords__ = ['Aladin','smash','des','delve']"
   ]
  },
  {
   "cell_type": "markdown",
   "id": "bae7824e",
   "metadata": {},
   "source": [
    "# Displaying MOCs and HiPs in Aladin Lite v3"
   ]
  },
  {
   "cell_type": "markdown",
   "id": "81454888",
   "metadata": {},
   "source": [
    "## Table of contents\n",
    "* [Goals](#goals)\n",
    "* [Summary](#summary)\n",
    "* [Disclaimers and attribution](#disclaimer)\n",
    "* [Imports and setup](#imports)\n",
    "* [Create MOCs](#Create_MOCs)\n",
    "* [About the dataset](#About)\n",
    "* [Downloading data for reduction](#Downloading_Data)\n",
    "* [Set up the DRAGONS logger](#DRAGONS_logger)\n",
    "* [Create File Lists](#File_Lists)\n",
    "* [Create Master Dark](#Master_dark)\n",
    "* [Create Bad Pixel Mask](#BPM)\n",
    "* [Create Master Flat Field](#Master_Flat)\n",
    "* [Reduce Science Images](#Reduce_Science)\n",
    "* [Display stacked final image](#Display_Image)\n",
    "* [Clean-up (optional)](#Clean-up)\n",
    "\n",
    "<a class=\"anchor\" id=\"goals\"></a>\n",
    "# Goals\n",
    "Showcase how to create Multi-Order Coverage maps (MOCs) and Hierarchical Progressive Surveys (HiPS) and display them on the Aladin Lite viewer.\n",
    "\n",
    "The steps include downloading data from the Astro DataLab's data explorer, turning the data into MOCs and HiPs files, establish a local instance of the Aladin Lite viewer, and finally, display the files and explorer Aladin.\n",
    "\n",
    "\n",
    "<a class=\"anchor\" id=\"summary\"></a>\n",
    "# Summary\n",
    "Aladin Lite is an interactable sky atlas that runs in your browser. \n",
    "\n",
    "Aladin makes it possible to explore the sky and has built in functionality that makes it possible to overlay images onto the map and identify objects included in databases. \n",
    "\n",
    "HiPS catalogs make it possible to see the locations of objects on the sky while MOCs display the footprints of surveys. MOCs make it possible to visualize overlaps in various surveys.\n",
    "\n",
    "This notebook will demonstrate how to create and overlay several MOC files onto Aladin which would help identify overlapping datasets. It could also assist in preparing for a telescope proposal as you would be able to see whether or not any of the datasets hosted by the datalab contain the source of interest. \n",
    "\n",
    "In addition to MOCs, this notebook will also generate and display HiPs catlogs. While MOCs visualize survey footprints, HiPS will identify individual sources and provide information about each source when you place your curser over their points on Aladin. \n",
    "\n",
    "\n",
    "<a class=\"anchor\" id=\"disclaimer\"></a>\n",
    "# Disclaimer & attribution\n",
    "If you use this notebook for your published science, please acknowledge the following:\n",
    "\n",
    "* Data Lab concept paper: Fitzpatrick et al., <a href=\"http://dx.doi.org/10.1117/12.2057445\">\"The NOAO Data Laboratory: a conceptual overview\"</a>, SPIE, 9149, 2014\n",
    "\n",
    "* <a href=\"https://datalab.noirlab.edu/disclaimers.php\">Data Lab disclaimer</a>\n",
    "\n",
    "* DRAGONS publication: Labrie et al., <a href=\"https://ui.adsabs.harvard.edu/abs/2019ASPC..523..321L/abstract\">\"DRAGONS - Data Reduction for Astronomy from Gemini Observatory North and South\"</a>, ASPC, 523, 321L \n",
    "\n",
    "* <a href=\"https://zenodo.org/record/7776065#.ZDg5qOzMLUI\">DRAGONS open source software publication</a>"
   ]
  },
  {
   "cell_type": "markdown",
   "id": "977ac932",
   "metadata": {},
   "source": [
    "<a class=\"anchor\" id=\"imports\"></a>\n",
    "# Importing Python libraries"
   ]
  },
  {
   "cell_type": "code",
   "execution_count": null,
   "id": "2c105b44",
   "metadata": {},
   "outputs": [],
   "source": [
    "from ipyaladin import Aladin\n",
    "\n",
    "from mocpy import MOC\n",
    "\n",
    "import astropy.units as u\n",
    "from astropy.visualization.wcsaxes.frame import EllipticalFrame\n",
    "from astropy.wcs import WCS\n",
    "from astropy.table import Table\n",
    "\n",
    "import matplotlib.pyplot as plt"
   ]
  },
  {
   "cell_type": "markdown",
   "id": "6d174f11",
   "metadata": {},
   "source": [
    "<a class=\"anchor\" id=\"Create_MOCs\"></a>\n",
    "# Create the MOCs\n",
    "\n",
    "__NOTE:__ I think I should create another section called 'Accessing the data' and move 'Create the MOCs' further down.\n",
    "\n",
    "To create the MOC that we will ultimately overlay onto Aladin, we are going to use the mocpy library. \n",
    "\n",
    "The first thing we will need to do is obtain the data from the Astro Data Lab. For this example, we will be working with data from three different surveys; The **DE**Cam **L**ocal **V**olume **E**xploration Survey [**DELVE**](https://datalab.noirlab.edu/delve/index.php), The **S**urvey of the **MA**gellanic **S**tellar **H**istory [**SMASH**](https://datalab.noirlab.edu/smash/smash.php), and The **D**ark **E**negery **S**urvey [**DES**](https://datalab.noirlab.edu/des/index.php).\n",
    "\n",
    "To accesss the data, you need to access the Query Interface which is listed under Tools on the [Astro Data Lab](https://datalab.noirlab.edu/index.php) home page. Before submitting your query, you will need to log into your account or create a new one. Once logged in, all of the available datasets will be listed as bullets points on the left hand side of the screen. \n",
    "\n",
    "The data used in this example will come from the following catalogs:\n",
    "- delve_dr2.objects \n",
    "- des_dr2.main\n",
    "- smash_dr2.object\n",
    "\n",
    "On the Query Interface, we are going to enter a command that follows this structure:\n",
    "\n",
    "---\n",
    "SELECT TOP 10000 * \n",
    "\n",
    "FROM **table**\n",
    "\n",
    "WHERE random_id BETWEEN 25.0 AND 25.01\n",
    "\n",
    "---\n",
    "\n",
    "You will need to run this query three times, one for each of the tables listed above. All you need to do, is replace **table** in the example quey with the catalog name then click the blue 'Process' button. \n",
    "\n",
    "The first line of the query tells the interface to select all of the columns belonging to the top 10,000 rows that meet the criteria listed below. \n",
    "\n",
    "The second line tells the interface from which table to apply the criteria.\n",
    "\n",
    "Finally, the third line utilizes the random_id that is assigned to each item in the table. The random values are all in the range 0.0. to 100.0. To acheive a good foot print from each table, we impose the condition that the random_id for each source should fall between 25.0 and 25.01. Although this range seems small, the catalogs that we are working with contain billions of sources which means this range will be sufficient. \n",
    "\n",
    "The image below shows the query that will obtain data from the DELVE survey. \n",
    "\n",
    "![DataLabQuery](DataLabQuery.png)"
   ]
  },
  {
   "cell_type": "code",
   "execution_count": null,
   "id": "46d94a76",
   "metadata": {},
   "outputs": [],
   "source": []
  },
  {
   "cell_type": "code",
   "execution_count": null,
   "id": "3cd19fee",
   "metadata": {},
   "outputs": [],
   "source": []
  },
  {
   "cell_type": "code",
   "execution_count": null,
   "id": "7ac8126b",
   "metadata": {},
   "outputs": [],
   "source": []
  },
  {
   "cell_type": "code",
   "execution_count": null,
   "id": "b1bc9edf",
   "metadata": {},
   "outputs": [],
   "source": []
  },
  {
   "cell_type": "code",
   "execution_count": null,
   "id": "00ee6dc0",
   "metadata": {},
   "outputs": [],
   "source": []
  },
  {
   "cell_type": "code",
   "execution_count": null,
   "id": "a627cb9a",
   "metadata": {},
   "outputs": [],
   "source": []
  },
  {
   "cell_type": "code",
   "execution_count": null,
   "id": "3820a4f7",
   "metadata": {},
   "outputs": [],
   "source": []
  },
  {
   "cell_type": "code",
   "execution_count": null,
   "id": "4edac2f0",
   "metadata": {},
   "outputs": [],
   "source": []
  }
 ],
 "metadata": {
  "kernelspec": {
   "display_name": "Python 3",
   "language": "python",
   "name": "python3"
  },
  "language_info": {
   "codemirror_mode": {
    "name": "ipython",
    "version": 3
   },
   "file_extension": ".py",
   "mimetype": "text/x-python",
   "name": "python",
   "nbconvert_exporter": "python",
   "pygments_lexer": "ipython3",
   "version": "3.8.8"
  }
 },
 "nbformat": 4,
 "nbformat_minor": 5
}
