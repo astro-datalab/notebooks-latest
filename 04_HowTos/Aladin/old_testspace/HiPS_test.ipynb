{
 "cells": [
  {
   "cell_type": "markdown",
   "id": "8b59e302",
   "metadata": {},
   "source": [
    "# Create a copy on datalab notebook"
   ]
  },
  {
   "cell_type": "markdown",
   "id": "3b96f0a1",
   "metadata": {},
   "source": [
    "As of 7/31/24, ipyaladin does not have a HiPS feature. On their GitHub's issue page, I found that they are working on it. Here is the link so I can keep track of their progress.\n",
    "\n",
    "https://github.com/cds-astro/ipyaladin/issues/76\n",
    "\n",
    "A current version of their user documentation can be found here:\n",
    "https://cds-astro.github.io/ipyaladin/user_documentation/user_documentation.html"
   ]
  },
  {
   "cell_type": "code",
   "execution_count": 1,
   "id": "3f890db8-7408-4669-8352-919af0074d47",
   "metadata": {
    "execution": {
     "iopub.execute_input": "2024-07-18T16:57:21.483259Z",
     "iopub.status.busy": "2024-07-18T16:57:21.482927Z",
     "iopub.status.idle": "2024-07-18T16:57:24.760475Z",
     "shell.execute_reply": "2024-07-18T16:57:24.759994Z",
     "shell.execute_reply.started": "2024-07-18T16:57:21.483239Z"
    },
    "scrolled": true
   },
   "outputs": [
    {
     "name": "stdout",
     "output_type": "stream",
     "text": [
      "Requirement already satisfied: ipyaladin in /Users/brian.merino/opt/anaconda3/lib/python3.8/site-packages (0.3.0)\n",
      "Requirement already satisfied: mocpy in /Users/brian.merino/opt/anaconda3/lib/python3.8/site-packages (0.13.1)\n",
      "Requirement already satisfied: anywidget in /Users/brian.merino/opt/anaconda3/lib/python3.8/site-packages (from ipyaladin) (0.9.12)\n",
      "Requirement already satisfied: matplotlib in /Users/brian.merino/opt/anaconda3/lib/python3.8/site-packages (from mocpy) (3.7.5)\n",
      "Requirement already satisfied: astropy<5.3 in /Users/brian.merino/opt/anaconda3/lib/python3.8/site-packages (from mocpy) (5.2.2)\n",
      "Requirement already satisfied: cdshealpix>=0.6.4 in /Users/brian.merino/opt/anaconda3/lib/python3.8/site-packages (from mocpy) (0.6.5)\n",
      "Requirement already satisfied: networkx>=2.5 in /Users/brian.merino/opt/anaconda3/lib/python3.8/site-packages (from mocpy) (2.5)\n",
      "Requirement already satisfied: pyerfa>=2.0 in /Users/brian.merino/opt/anaconda3/lib/python3.8/site-packages (from astropy<5.3->mocpy) (2.0.0.3)\n",
      "Requirement already satisfied: packaging>=19.0 in /Users/brian.merino/opt/anaconda3/lib/python3.8/site-packages (from astropy<5.3->mocpy) (24.0)\n",
      "Requirement already satisfied: numpy>=1.20 in /Users/brian.merino/opt/anaconda3/lib/python3.8/site-packages (from astropy<5.3->mocpy) (1.24.4)\n",
      "Requirement already satisfied: PyYAML>=3.13 in /Users/brian.merino/opt/anaconda3/lib/python3.8/site-packages (from astropy<5.3->mocpy) (6.0.1)\n",
      "Requirement already satisfied: decorator>=4.3.0 in /Users/brian.merino/opt/anaconda3/lib/python3.8/site-packages (from networkx>=2.5->mocpy) (5.0.6)\n",
      "Requirement already satisfied: psygnal>=0.8.1 in /Users/brian.merino/opt/anaconda3/lib/python3.8/site-packages (from anywidget->ipyaladin) (0.11.1)\n",
      "Requirement already satisfied: typing-extensions>=4.2.0 in /Users/brian.merino/opt/anaconda3/lib/python3.8/site-packages (from anywidget->ipyaladin) (4.11.0)\n",
      "Requirement already satisfied: ipywidgets>=7.6.0 in /Users/brian.merino/opt/anaconda3/lib/python3.8/site-packages (from anywidget->ipyaladin) (7.6.3)\n",
      "Requirement already satisfied: nbformat>=4.2.0 in /Users/brian.merino/.local/lib/python3.8/site-packages (from ipywidgets>=7.6.0->anywidget->ipyaladin) (5.10.4)\n",
      "Requirement already satisfied: jupyterlab-widgets>=1.0.0 in /Users/brian.merino/opt/anaconda3/lib/python3.8/site-packages (from ipywidgets>=7.6.0->anywidget->ipyaladin) (1.0.0)\n",
      "Requirement already satisfied: widgetsnbextension~=3.5.0 in /Users/brian.merino/opt/anaconda3/lib/python3.8/site-packages (from ipywidgets>=7.6.0->anywidget->ipyaladin) (3.5.1)\n",
      "Requirement already satisfied: ipykernel>=4.5.1 in /Users/brian.merino/opt/anaconda3/lib/python3.8/site-packages (from ipywidgets>=7.6.0->anywidget->ipyaladin) (5.3.4)\n",
      "Requirement already satisfied: traitlets>=4.3.1 in /Users/brian.merino/.local/lib/python3.8/site-packages (from ipywidgets>=7.6.0->anywidget->ipyaladin) (5.14.3)\n",
      "Requirement already satisfied: ipython>=4.0.0 in /Users/brian.merino/opt/anaconda3/lib/python3.8/site-packages (from ipywidgets>=7.6.0->anywidget->ipyaladin) (7.22.0)\n",
      "Requirement already satisfied: jupyter-client in /Users/brian.merino/opt/anaconda3/lib/python3.8/site-packages (from ipykernel>=4.5.1->ipywidgets>=7.6.0->anywidget->ipyaladin) (7.4.9)\n",
      "Requirement already satisfied: appnope in /Users/brian.merino/opt/anaconda3/lib/python3.8/site-packages (from ipykernel>=4.5.1->ipywidgets>=7.6.0->anywidget->ipyaladin) (0.1.2)\n",
      "Requirement already satisfied: tornado>=4.2 in /Users/brian.merino/opt/anaconda3/lib/python3.8/site-packages (from ipykernel>=4.5.1->ipywidgets>=7.6.0->anywidget->ipyaladin) (6.4)\n",
      "Requirement already satisfied: pexpect>4.3 in /Users/brian.merino/opt/anaconda3/lib/python3.8/site-packages (from ipython>=4.0.0->ipywidgets>=7.6.0->anywidget->ipyaladin) (4.8.0)\n",
      "Requirement already satisfied: setuptools>=18.5 in /Users/brian.merino/opt/anaconda3/lib/python3.8/site-packages (from ipython>=4.0.0->ipywidgets>=7.6.0->anywidget->ipyaladin) (69.5.1)\n",
      "Requirement already satisfied: prompt-toolkit!=3.0.0,!=3.0.1,<3.1.0,>=2.0.0 in /Users/brian.merino/opt/anaconda3/lib/python3.8/site-packages (from ipython>=4.0.0->ipywidgets>=7.6.0->anywidget->ipyaladin) (3.0.43)\n",
      "Requirement already satisfied: backcall in /Users/brian.merino/opt/anaconda3/lib/python3.8/site-packages (from ipython>=4.0.0->ipywidgets>=7.6.0->anywidget->ipyaladin) (0.2.0)\n",
      "Requirement already satisfied: jedi>=0.16 in /Users/brian.merino/opt/anaconda3/lib/python3.8/site-packages (from ipython>=4.0.0->ipywidgets>=7.6.0->anywidget->ipyaladin) (0.17.2)\n",
      "Requirement already satisfied: pickleshare in /Users/brian.merino/opt/anaconda3/lib/python3.8/site-packages (from ipython>=4.0.0->ipywidgets>=7.6.0->anywidget->ipyaladin) (0.7.5)\n",
      "Requirement already satisfied: pygments in /Users/brian.merino/opt/anaconda3/lib/python3.8/site-packages (from ipython>=4.0.0->ipywidgets>=7.6.0->anywidget->ipyaladin) (2.17.2)\n",
      "Requirement already satisfied: parso<0.8.0,>=0.7.0 in /Users/brian.merino/opt/anaconda3/lib/python3.8/site-packages (from jedi>=0.16->ipython>=4.0.0->ipywidgets>=7.6.0->anywidget->ipyaladin) (0.7.0)\n",
      "Requirement already satisfied: fastjsonschema>=2.15 in /Users/brian.merino/.local/lib/python3.8/site-packages (from nbformat>=4.2.0->ipywidgets>=7.6.0->anywidget->ipyaladin) (2.19.1)\n",
      "Requirement already satisfied: jsonschema>=2.6 in /Users/brian.merino/opt/anaconda3/lib/python3.8/site-packages (from nbformat>=4.2.0->ipywidgets>=7.6.0->anywidget->ipyaladin) (4.22.0)\n",
      "Requirement already satisfied: jupyter-core!=5.0.*,>=4.12 in /Users/brian.merino/.local/lib/python3.8/site-packages (from nbformat>=4.2.0->ipywidgets>=7.6.0->anywidget->ipyaladin) (5.7.2)\n",
      "Requirement already satisfied: attrs>=22.2.0 in /Users/brian.merino/opt/anaconda3/lib/python3.8/site-packages (from jsonschema>=2.6->nbformat>=4.2.0->ipywidgets>=7.6.0->anywidget->ipyaladin) (23.2.0)\n",
      "Requirement already satisfied: importlib-resources>=1.4.0 in /Users/brian.merino/opt/anaconda3/lib/python3.8/site-packages (from jsonschema>=2.6->nbformat>=4.2.0->ipywidgets>=7.6.0->anywidget->ipyaladin) (6.4.0)\n",
      "Requirement already satisfied: jsonschema-specifications>=2023.03.6 in /Users/brian.merino/opt/anaconda3/lib/python3.8/site-packages (from jsonschema>=2.6->nbformat>=4.2.0->ipywidgets>=7.6.0->anywidget->ipyaladin) (2023.12.1)\n",
      "Requirement already satisfied: rpds-py>=0.7.1 in /Users/brian.merino/opt/anaconda3/lib/python3.8/site-packages (from jsonschema>=2.6->nbformat>=4.2.0->ipywidgets>=7.6.0->anywidget->ipyaladin) (0.18.0)\n",
      "Requirement already satisfied: referencing>=0.28.4 in /Users/brian.merino/opt/anaconda3/lib/python3.8/site-packages (from jsonschema>=2.6->nbformat>=4.2.0->ipywidgets>=7.6.0->anywidget->ipyaladin) (0.31.1)\n",
      "Requirement already satisfied: pkgutil-resolve-name>=1.3.10 in /Users/brian.merino/opt/anaconda3/lib/python3.8/site-packages (from jsonschema>=2.6->nbformat>=4.2.0->ipywidgets>=7.6.0->anywidget->ipyaladin) (1.3.10)\n",
      "Requirement already satisfied: zipp>=3.1.0 in /Users/brian.merino/opt/anaconda3/lib/python3.8/site-packages (from importlib-resources>=1.4.0->jsonschema>=2.6->nbformat>=4.2.0->ipywidgets>=7.6.0->anywidget->ipyaladin) (3.18.1)\n",
      "Requirement already satisfied: platformdirs>=2.5 in /Users/brian.merino/.local/lib/python3.8/site-packages (from jupyter-core!=5.0.*,>=4.12->nbformat>=4.2.0->ipywidgets>=7.6.0->anywidget->ipyaladin) (4.2.2)\n",
      "Requirement already satisfied: ptyprocess>=0.5 in /Users/brian.merino/opt/anaconda3/lib/python3.8/site-packages (from pexpect>4.3->ipython>=4.0.0->ipywidgets>=7.6.0->anywidget->ipyaladin) (0.7.0)\n",
      "Requirement already satisfied: wcwidth in /Users/brian.merino/opt/anaconda3/lib/python3.8/site-packages (from prompt-toolkit!=3.0.0,!=3.0.1,<3.1.0,>=2.0.0->ipython>=4.0.0->ipywidgets>=7.6.0->anywidget->ipyaladin) (0.2.13)\n",
      "Requirement already satisfied: notebook>=4.4.1 in /Users/brian.merino/opt/anaconda3/lib/python3.8/site-packages (from widgetsnbextension~=3.5.0->ipywidgets>=7.6.0->anywidget->ipyaladin) (6.5.6)\n",
      "Requirement already satisfied: terminado>=0.8.3 in /Users/brian.merino/opt/anaconda3/lib/python3.8/site-packages (from notebook>=4.4.1->widgetsnbextension~=3.5.0->ipywidgets>=7.6.0->anywidget->ipyaladin) (0.9.4)\n",
      "Requirement already satisfied: nbconvert>=5 in /Users/brian.merino/.local/lib/python3.8/site-packages (from notebook>=4.4.1->widgetsnbextension~=3.5.0->ipywidgets>=7.6.0->anywidget->ipyaladin) (7.16.4)\n",
      "Requirement already satisfied: jinja2 in /Users/brian.merino/opt/anaconda3/lib/python3.8/site-packages (from notebook>=4.4.1->widgetsnbextension~=3.5.0->ipywidgets>=7.6.0->anywidget->ipyaladin) (3.1.3)\n",
      "Requirement already satisfied: argon2-cffi in /Users/brian.merino/opt/anaconda3/lib/python3.8/site-packages (from notebook>=4.4.1->widgetsnbextension~=3.5.0->ipywidgets>=7.6.0->anywidget->ipyaladin) (23.1.0)\n",
      "Requirement already satisfied: prometheus-client in /Users/brian.merino/opt/anaconda3/lib/python3.8/site-packages (from notebook>=4.4.1->widgetsnbextension~=3.5.0->ipywidgets>=7.6.0->anywidget->ipyaladin) (0.10.1)\n",
      "Requirement already satisfied: Send2Trash>=1.8.0 in /Users/brian.merino/opt/anaconda3/lib/python3.8/site-packages (from notebook>=4.4.1->widgetsnbextension~=3.5.0->ipywidgets>=7.6.0->anywidget->ipyaladin) (1.8.3)\n",
      "Requirement already satisfied: pyzmq<25,>=17 in /Users/brian.merino/opt/anaconda3/lib/python3.8/site-packages (from notebook>=4.4.1->widgetsnbextension~=3.5.0->ipywidgets>=7.6.0->anywidget->ipyaladin) (24.0.1)\n",
      "Requirement already satisfied: ipython-genutils in /Users/brian.merino/opt/anaconda3/lib/python3.8/site-packages (from notebook>=4.4.1->widgetsnbextension~=3.5.0->ipywidgets>=7.6.0->anywidget->ipyaladin) (0.2.0)\n",
      "Requirement already satisfied: nbclassic>=0.4.7 in /Users/brian.merino/opt/anaconda3/lib/python3.8/site-packages (from notebook>=4.4.1->widgetsnbextension~=3.5.0->ipywidgets>=7.6.0->anywidget->ipyaladin) (1.0.0)\n",
      "Requirement already satisfied: nest-asyncio>=1.5 in /Users/brian.merino/opt/anaconda3/lib/python3.8/site-packages (from notebook>=4.4.1->widgetsnbextension~=3.5.0->ipywidgets>=7.6.0->anywidget->ipyaladin) (1.6.0)\n",
      "Requirement already satisfied: python-dateutil>=2.8.2 in /Users/brian.merino/opt/anaconda3/lib/python3.8/site-packages (from jupyter-client->ipykernel>=4.5.1->ipywidgets>=7.6.0->anywidget->ipyaladin) (2.9.0.post0)\n",
      "Requirement already satisfied: entrypoints in /Users/brian.merino/opt/anaconda3/lib/python3.8/site-packages (from jupyter-client->ipykernel>=4.5.1->ipywidgets>=7.6.0->anywidget->ipyaladin) (0.3)\n"
     ]
    },
    {
     "name": "stdout",
     "output_type": "stream",
     "text": [
      "Requirement already satisfied: jupyter-server>=1.8 in /Users/brian.merino/opt/anaconda3/lib/python3.8/site-packages (from nbclassic>=0.4.7->notebook>=4.4.1->widgetsnbextension~=3.5.0->ipywidgets>=7.6.0->anywidget->ipyaladin) (2.14.0)\n",
      "Requirement already satisfied: notebook-shim>=0.2.3 in /Users/brian.merino/opt/anaconda3/lib/python3.8/site-packages (from nbclassic>=0.4.7->notebook>=4.4.1->widgetsnbextension~=3.5.0->ipywidgets>=7.6.0->anywidget->ipyaladin) (0.2.4)\n",
      "Requirement already satisfied: overrides>=5.0 in /Users/brian.merino/opt/anaconda3/lib/python3.8/site-packages (from jupyter-server>=1.8->nbclassic>=0.4.7->notebook>=4.4.1->widgetsnbextension~=3.5.0->ipywidgets>=7.6.0->anywidget->ipyaladin) (7.7.0)\n",
      "Requirement already satisfied: jupyter-events>=0.9.0 in /Users/brian.merino/opt/anaconda3/lib/python3.8/site-packages (from jupyter-server>=1.8->nbclassic>=0.4.7->notebook>=4.4.1->widgetsnbextension~=3.5.0->ipywidgets>=7.6.0->anywidget->ipyaladin) (0.10.0)\n",
      "Requirement already satisfied: jupyter-server-terminals>=0.4.4 in /Users/brian.merino/opt/anaconda3/lib/python3.8/site-packages (from jupyter-server>=1.8->nbclassic>=0.4.7->notebook>=4.4.1->widgetsnbextension~=3.5.0->ipywidgets>=7.6.0->anywidget->ipyaladin) (0.5.3)\n",
      "Requirement already satisfied: websocket-client>=1.7 in /Users/brian.merino/opt/anaconda3/lib/python3.8/site-packages (from jupyter-server>=1.8->nbclassic>=0.4.7->notebook>=4.4.1->widgetsnbextension~=3.5.0->ipywidgets>=7.6.0->anywidget->ipyaladin) (1.8.0)\n",
      "Requirement already satisfied: anyio>=3.1.0 in /Users/brian.merino/opt/anaconda3/lib/python3.8/site-packages (from jupyter-server>=1.8->nbclassic>=0.4.7->notebook>=4.4.1->widgetsnbextension~=3.5.0->ipywidgets>=7.6.0->anywidget->ipyaladin) (4.3.0)\n",
      "Requirement already satisfied: sniffio>=1.1 in /Users/brian.merino/opt/anaconda3/lib/python3.8/site-packages (from anyio>=3.1.0->jupyter-server>=1.8->nbclassic>=0.4.7->notebook>=4.4.1->widgetsnbextension~=3.5.0->ipywidgets>=7.6.0->anywidget->ipyaladin) (1.3.1)\n",
      "Requirement already satisfied: exceptiongroup>=1.0.2 in /Users/brian.merino/opt/anaconda3/lib/python3.8/site-packages (from anyio>=3.1.0->jupyter-server>=1.8->nbclassic>=0.4.7->notebook>=4.4.1->widgetsnbextension~=3.5.0->ipywidgets>=7.6.0->anywidget->ipyaladin) (1.2.1)\n",
      "Requirement already satisfied: idna>=2.8 in /Users/brian.merino/opt/anaconda3/lib/python3.8/site-packages (from anyio>=3.1.0->jupyter-server>=1.8->nbclassic>=0.4.7->notebook>=4.4.1->widgetsnbextension~=3.5.0->ipywidgets>=7.6.0->anywidget->ipyaladin) (3.7)\n",
      "Requirement already satisfied: argon2-cffi-bindings in /Users/brian.merino/opt/anaconda3/lib/python3.8/site-packages (from argon2-cffi->notebook>=4.4.1->widgetsnbextension~=3.5.0->ipywidgets>=7.6.0->anywidget->ipyaladin) (21.2.0)\n",
      "Requirement already satisfied: MarkupSafe>=2.0 in /Users/brian.merino/opt/anaconda3/lib/python3.8/site-packages (from jinja2->notebook>=4.4.1->widgetsnbextension~=3.5.0->ipywidgets>=7.6.0->anywidget->ipyaladin) (2.1.5)\n",
      "Requirement already satisfied: rfc3339-validator in /Users/brian.merino/opt/anaconda3/lib/python3.8/site-packages (from jupyter-events>=0.9.0->jupyter-server>=1.8->nbclassic>=0.4.7->notebook>=4.4.1->widgetsnbextension~=3.5.0->ipywidgets>=7.6.0->anywidget->ipyaladin) (0.1.4)\n",
      "Requirement already satisfied: python-json-logger>=2.0.4 in /Users/brian.merino/opt/anaconda3/lib/python3.8/site-packages (from jupyter-events>=0.9.0->jupyter-server>=1.8->nbclassic>=0.4.7->notebook>=4.4.1->widgetsnbextension~=3.5.0->ipywidgets>=7.6.0->anywidget->ipyaladin) (2.0.7)\n",
      "Requirement already satisfied: rfc3986-validator>=0.1.1 in /Users/brian.merino/opt/anaconda3/lib/python3.8/site-packages (from jupyter-events>=0.9.0->jupyter-server>=1.8->nbclassic>=0.4.7->notebook>=4.4.1->widgetsnbextension~=3.5.0->ipywidgets>=7.6.0->anywidget->ipyaladin) (0.1.1)\n",
      "Requirement already satisfied: uri-template in /Users/brian.merino/opt/anaconda3/lib/python3.8/site-packages (from jsonschema>=2.6->nbformat>=4.2.0->ipywidgets>=7.6.0->anywidget->ipyaladin) (1.3.0)\n",
      "Requirement already satisfied: jsonpointer>1.13 in /Users/brian.merino/opt/anaconda3/lib/python3.8/site-packages (from jsonschema>=2.6->nbformat>=4.2.0->ipywidgets>=7.6.0->anywidget->ipyaladin) (2.4)\n",
      "Requirement already satisfied: isoduration in /Users/brian.merino/opt/anaconda3/lib/python3.8/site-packages (from jsonschema>=2.6->nbformat>=4.2.0->ipywidgets>=7.6.0->anywidget->ipyaladin) (20.11.0)\n",
      "Requirement already satisfied: fqdn in /Users/brian.merino/opt/anaconda3/lib/python3.8/site-packages (from jsonschema>=2.6->nbformat>=4.2.0->ipywidgets>=7.6.0->anywidget->ipyaladin) (1.5.1)\n",
      "Requirement already satisfied: webcolors>=1.11 in /Users/brian.merino/opt/anaconda3/lib/python3.8/site-packages (from jsonschema>=2.6->nbformat>=4.2.0->ipywidgets>=7.6.0->anywidget->ipyaladin) (1.13)\n",
      "Requirement already satisfied: tinycss2 in /Users/brian.merino/.local/lib/python3.8/site-packages (from nbconvert>=5->notebook>=4.4.1->widgetsnbextension~=3.5.0->ipywidgets>=7.6.0->anywidget->ipyaladin) (1.3.0)\n",
      "Requirement already satisfied: importlib-metadata>=3.6 in /Users/brian.merino/opt/anaconda3/lib/python3.8/site-packages (from nbconvert>=5->notebook>=4.4.1->widgetsnbextension~=3.5.0->ipywidgets>=7.6.0->anywidget->ipyaladin) (6.11.0)\n",
      "Requirement already satisfied: bleach!=5.0.0 in /Users/brian.merino/opt/anaconda3/lib/python3.8/site-packages (from nbconvert>=5->notebook>=4.4.1->widgetsnbextension~=3.5.0->ipywidgets>=7.6.0->anywidget->ipyaladin) (3.3.0)\n",
      "Requirement already satisfied: defusedxml in /Users/brian.merino/opt/anaconda3/lib/python3.8/site-packages (from nbconvert>=5->notebook>=4.4.1->widgetsnbextension~=3.5.0->ipywidgets>=7.6.0->anywidget->ipyaladin) (0.7.1)\n",
      "Requirement already satisfied: nbclient>=0.5.0 in /Users/brian.merino/opt/anaconda3/lib/python3.8/site-packages (from nbconvert>=5->notebook>=4.4.1->widgetsnbextension~=3.5.0->ipywidgets>=7.6.0->anywidget->ipyaladin) (0.5.3)\n",
      "Requirement already satisfied: pandocfilters>=1.4.1 in /Users/brian.merino/opt/anaconda3/lib/python3.8/site-packages (from nbconvert>=5->notebook>=4.4.1->widgetsnbextension~=3.5.0->ipywidgets>=7.6.0->anywidget->ipyaladin) (1.4.3)\n",
      "Requirement already satisfied: jupyterlab-pygments in /Users/brian.merino/opt/anaconda3/lib/python3.8/site-packages (from nbconvert>=5->notebook>=4.4.1->widgetsnbextension~=3.5.0->ipywidgets>=7.6.0->anywidget->ipyaladin) (0.1.2)\n",
      "Requirement already satisfied: mistune<4,>=2.0.3 in /Users/brian.merino/.local/lib/python3.8/site-packages (from nbconvert>=5->notebook>=4.4.1->widgetsnbextension~=3.5.0->ipywidgets>=7.6.0->anywidget->ipyaladin) (3.0.2)\n",
      "Requirement already satisfied: beautifulsoup4 in /Users/brian.merino/opt/anaconda3/lib/python3.8/site-packages (from nbconvert>=5->notebook>=4.4.1->widgetsnbextension~=3.5.0->ipywidgets>=7.6.0->anywidget->ipyaladin) (4.9.3)\n",
      "Requirement already satisfied: webencodings in /Users/brian.merino/opt/anaconda3/lib/python3.8/site-packages (from bleach!=5.0.0->nbconvert>=5->notebook>=4.4.1->widgetsnbextension~=3.5.0->ipywidgets>=7.6.0->anywidget->ipyaladin) (0.5.1)\n",
      "Requirement already satisfied: six>=1.9.0 in /Users/brian.merino/opt/anaconda3/lib/python3.8/site-packages (from bleach!=5.0.0->nbconvert>=5->notebook>=4.4.1->widgetsnbextension~=3.5.0->ipywidgets>=7.6.0->anywidget->ipyaladin) (1.16.0)\n",
      "Requirement already satisfied: async-generator in /Users/brian.merino/opt/anaconda3/lib/python3.8/site-packages (from nbclient>=0.5.0->nbconvert>=5->notebook>=4.4.1->widgetsnbextension~=3.5.0->ipywidgets>=7.6.0->anywidget->ipyaladin) (1.10)\n",
      "Requirement already satisfied: cffi>=1.0.1 in /Users/brian.merino/opt/anaconda3/lib/python3.8/site-packages (from argon2-cffi-bindings->argon2-cffi->notebook>=4.4.1->widgetsnbextension~=3.5.0->ipywidgets>=7.6.0->anywidget->ipyaladin) (1.14.5)\n",
      "Requirement already satisfied: pycparser in /Users/brian.merino/opt/anaconda3/lib/python3.8/site-packages (from cffi>=1.0.1->argon2-cffi-bindings->argon2-cffi->notebook>=4.4.1->widgetsnbextension~=3.5.0->ipywidgets>=7.6.0->anywidget->ipyaladin) (2.22)\n",
      "Requirement already satisfied: soupsieve>1.2 in /Users/brian.merino/opt/anaconda3/lib/python3.8/site-packages (from beautifulsoup4->nbconvert>=5->notebook>=4.4.1->widgetsnbextension~=3.5.0->ipywidgets>=7.6.0->anywidget->ipyaladin) (2.2.1)\n",
      "Requirement already satisfied: arrow>=0.15.0 in /Users/brian.merino/opt/anaconda3/lib/python3.8/site-packages (from isoduration->jsonschema>=2.6->nbformat>=4.2.0->ipywidgets>=7.6.0->anywidget->ipyaladin) (1.3.0)\n"
     ]
    },
    {
     "name": "stdout",
     "output_type": "stream",
     "text": [
      "Requirement already satisfied: types-python-dateutil>=2.8.10 in /Users/brian.merino/opt/anaconda3/lib/python3.8/site-packages (from arrow>=0.15.0->isoduration->jsonschema>=2.6->nbformat>=4.2.0->ipywidgets>=7.6.0->anywidget->ipyaladin) (2.9.0.20240316)\r\n",
      "Requirement already satisfied: fonttools>=4.22.0 in /Users/brian.merino/opt/anaconda3/lib/python3.8/site-packages (from matplotlib->mocpy) (4.51.0)\r\n",
      "Requirement already satisfied: kiwisolver>=1.0.1 in /Users/brian.merino/opt/anaconda3/lib/python3.8/site-packages (from matplotlib->mocpy) (1.4.5)\r\n",
      "Requirement already satisfied: contourpy>=1.0.1 in /Users/brian.merino/opt/anaconda3/lib/python3.8/site-packages (from matplotlib->mocpy) (1.1.1)\r\n",
      "Requirement already satisfied: pyparsing>=2.3.1 in /Users/brian.merino/opt/anaconda3/lib/python3.8/site-packages (from matplotlib->mocpy) (3.1.2)\r\n",
      "Requirement already satisfied: cycler>=0.10 in /Users/brian.merino/opt/anaconda3/lib/python3.8/site-packages (from matplotlib->mocpy) (0.12.1)\r\n",
      "Requirement already satisfied: pillow>=6.2.0 in /Users/brian.merino/opt/anaconda3/lib/python3.8/site-packages (from matplotlib->mocpy) (10.3.0)\r\n"
     ]
    }
   ],
   "source": [
    "!pip install ipyaladin mocpy"
   ]
  },
  {
   "cell_type": "code",
   "execution_count": 4,
   "id": "9d8b1cb4",
   "metadata": {
    "execution": {
     "iopub.execute_input": "2024-07-18T16:57:27.537182Z",
     "iopub.status.busy": "2024-07-18T16:57:27.536791Z",
     "iopub.status.idle": "2024-07-18T16:57:34.176393Z",
     "shell.execute_reply": "2024-07-18T16:57:34.175903Z",
     "shell.execute_reply.started": "2024-07-18T16:57:27.537146Z"
    }
   },
   "outputs": [],
   "source": [
    "import astropy.units as u\n",
    "from astropy.visualization.wcsaxes.frame import EllipticalFrame\n",
    "import matplotlib.pyplot as plt\n",
    "#from astroquery.vizier import Vizier\n",
    "from astropy.wcs import WCS\n",
    "from mocpy import MOC\n",
    "from astropy.table import Table"
   ]
  },
  {
   "cell_type": "code",
   "execution_count": 3,
   "id": "f4f2aebc",
   "metadata": {
    "execution": {
     "iopub.execute_input": "2024-07-18T16:57:35.889360Z",
     "iopub.status.busy": "2024-07-18T16:57:35.889040Z",
     "iopub.status.idle": "2024-07-18T16:57:35.893824Z",
     "shell.execute_reply": "2024-07-18T16:57:35.893466Z",
     "shell.execute_reply.started": "2024-07-18T16:57:35.889341Z"
    }
   },
   "outputs": [
    {
     "data": {
      "text/plain": [
       "'/Users/brian.merino/Desktop/Aladin/notebooks-latest/04_HowTos/Aladin'"
      ]
     },
     "execution_count": 3,
     "metadata": {},
     "output_type": "execute_result"
    }
   ],
   "source": [
    "pwd"
   ]
  },
  {
   "cell_type": "markdown",
   "id": "589f0eda",
   "metadata": {},
   "source": [
    "# Display MOC in Aladin viewer"
   ]
  },
  {
   "cell_type": "code",
   "execution_count": 5,
   "id": "2b910c43",
   "metadata": {
    "execution": {
     "iopub.execute_input": "2024-07-18T16:58:34.250479Z",
     "iopub.status.busy": "2024-07-18T16:58:34.250174Z",
     "iopub.status.idle": "2024-07-18T16:58:35.580467Z",
     "shell.execute_reply": "2024-07-18T16:58:35.579689Z",
     "shell.execute_reply.started": "2024-07-18T16:58:34.250461Z"
    }
   },
   "outputs": [],
   "source": [
    "from ipyaladin import Aladin\n",
    "\n",
    "from mocpy import MOC\n",
    "import astropy.units as u"
   ]
  },
  {
   "cell_type": "code",
   "execution_count": 6,
   "id": "345ce829",
   "metadata": {
    "execution": {
     "iopub.execute_input": "2024-07-18T16:58:37.840394Z",
     "iopub.status.busy": "2024-07-18T16:58:37.840153Z",
     "iopub.status.idle": "2024-07-18T16:58:38.061207Z",
     "shell.execute_reply": "2024-07-18T16:58:38.060594Z",
     "shell.execute_reply.started": "2024-07-18T16:58:37.840379Z"
    }
   },
   "outputs": [
    {
     "data": {
      "application/vnd.jupyter.widget-view+json": {
       "model_id": "ff47e5d4190541d2a47db72af5433084",
       "version_major": 2,
       "version_minor": 0
      },
      "text/plain": [
       "Aladin(fov=2.0, init_options=['background_color', 'coo_frame', 'fov', 'full_screen', 'grid_color', 'grid_opaci…"
      ]
     },
     "metadata": {},
     "output_type": "display_data"
    }
   ],
   "source": [
    "aladin = Aladin(fov=2)\n",
    "aladin"
   ]
  },
  {
   "cell_type": "code",
   "execution_count": 11,
   "id": "6e225890",
   "metadata": {
    "execution": {
     "iopub.execute_input": "2024-07-18T16:58:43.867277Z",
     "iopub.status.busy": "2024-07-18T16:58:43.866951Z",
     "iopub.status.idle": "2024-07-18T16:58:53.665197Z",
     "shell.execute_reply": "2024-07-18T16:58:53.664453Z",
     "shell.execute_reply.started": "2024-07-18T16:58:43.867261Z"
    },
    "scrolled": true
   },
   "outputs": [
    {
     "ename": "AttributeError",
     "evalue": "'Aladin' object has no attribute 'catalogHiPS'",
     "output_type": "error",
     "traceback": [
      "\u001b[0;31m---------------------------------------------------------------------------\u001b[0m",
      "\u001b[0;31mAttributeError\u001b[0m                            Traceback (most recent call last)",
      "\u001b[0;32m<ipython-input-11-1f304627164e>\u001b[0m in \u001b[0;36m<module>\u001b[0;34m\u001b[0m\n\u001b[1;32m      3\u001b[0m \u001b[0;31m#aladin.catalogHiPS('http://0.0.0.0:8000/des_dr2_100000_random/', {onClick: 'showTable', color: 'red', name: 'HiPS Test 2'})\u001b[0m\u001b[0;34m\u001b[0m\u001b[0;34m\u001b[0m\u001b[0;34m\u001b[0m\u001b[0m\n\u001b[1;32m      4\u001b[0m \u001b[0;34m\u001b[0m\u001b[0m\n\u001b[0;32m----> 5\u001b[0;31m \u001b[0maladin\u001b[0m\u001b[0;34m.\u001b[0m\u001b[0mcatalogHiPS\u001b[0m\u001b[0;34m(\u001b[0m\u001b[0;34m'http://localhost:8891/des_dr2_100000_random/'\u001b[0m\u001b[0;34m,\u001b[0m \u001b[0;34m{\u001b[0m\u001b[0monClick\u001b[0m\u001b[0;34m:\u001b[0m \u001b[0;34m'showTable'\u001b[0m\u001b[0;34m,\u001b[0m \u001b[0mcolor\u001b[0m\u001b[0;34m:\u001b[0m \u001b[0;34m'red'\u001b[0m\u001b[0;34m,\u001b[0m \u001b[0mname\u001b[0m\u001b[0;34m:\u001b[0m \u001b[0;34m'HiPS Test 2'\u001b[0m\u001b[0;34m}\u001b[0m\u001b[0;34m)\u001b[0m\u001b[0;34m\u001b[0m\u001b[0;34m\u001b[0m\u001b[0m\n\u001b[0m",
      "\u001b[0;31mAttributeError\u001b[0m: 'Aladin' object has no attribute 'catalogHiPS'"
     ]
    }
   ],
   "source": [
    "#aladin.add_moc(m1, color='red', name='des_dr2', opacity=0.4)\n",
    "\n",
    "#aladin.catalogHiPS('http://0.0.0.0:8000/des_dr2_100000_random/', {onClick: 'showTable', color: 'red', name: 'HiPS Test 2'})\n",
    "\n",
    "aladin.catalogHiPS('http://localhost:8891/des_dr2_100000_random/', {onClick: 'showTable', color: 'red', name: 'HiPS Test 2'})"
   ]
  },
  {
   "cell_type": "code",
   "execution_count": 12,
   "id": "823ed1ab",
   "metadata": {
    "scrolled": false
   },
   "outputs": [
    {
     "data": {
      "text/plain": [
       "['_trait_values',\n",
       " '_trait_notifiers',\n",
       " '_trait_validators',\n",
       " '_cross_validation_lock',\n",
       " '_model_id',\n",
       " '__module__',\n",
       " '_esm',\n",
       " '_css',\n",
       " '_anywidget_id',\n",
       " '__doc__',\n",
       " '_anywidget_commands',\n",
       " '_trait_default_generators',\n",
       " '_all_trait_default_generators',\n",
       " '_traits',\n",
       " '_static_immutable_initial_values',\n",
       " '_descriptors',\n",
       " '_instance_inits',\n",
       " '__annotations__',\n",
       " 'height',\n",
       " 'target',\n",
       " 'fov',\n",
       " 'survey',\n",
       " 'coo_frame',\n",
       " 'projection',\n",
       " 'samp',\n",
       " 'background_color',\n",
       " 'show_zoom_control',\n",
       " 'show_layers_control',\n",
       " 'show_overlay_stack_control',\n",
       " 'show_fullscreen_control',\n",
       " 'show_simbad_pointer_control',\n",
       " 'show_settings_control',\n",
       " 'show_share_control',\n",
       " 'show_status_bar',\n",
       " 'show_frame',\n",
       " 'show_fov',\n",
       " 'show_coo_location',\n",
       " 'show_projection_control',\n",
       " 'show_context_menu',\n",
       " 'show_catalog',\n",
       " 'full_screen',\n",
       " 'show_reticle',\n",
       " 'reticle_color',\n",
       " 'reticle_size',\n",
       " 'show_coo_grid',\n",
       " 'show_coo_grid_control',\n",
       " 'grid_color',\n",
       " 'grid_opacity',\n",
       " 'grid_options',\n",
       " 'clicked_object',\n",
       " 'listener_callback',\n",
       " 'overlay_survey',\n",
       " 'overlay_survey_opacity',\n",
       " '_table',\n",
       " 'init_options',\n",
       " '_init_options',\n",
       " '__init__',\n",
       " '_handle_custom_message',\n",
       " 'add_catalog_from_URL',\n",
       " 'add_moc',\n",
       " 'add_moc_from_URL',\n",
       " 'add_moc_from_dict',\n",
       " 'add_table',\n",
       " 'add_overlay_from_stcs',\n",
       " 'get_JPEG_thumbnail',\n",
       " 'set_color_map',\n",
       " 'rectangular_selection',\n",
       " 'add_listener',\n",
       " '_model_name',\n",
       " '_model_module',\n",
       " '_model_module_version',\n",
       " '_view_name',\n",
       " '_view_module',\n",
       " '_view_module_version',\n",
       " '__init_subclass__',\n",
       " '_repr_mimebundle_',\n",
       " '_dom_classes',\n",
       " 'layout',\n",
       " 'add_class',\n",
       " 'remove_class',\n",
       " '_repr_keys',\n",
       " '_widget_construction_callback',\n",
       " 'widgets',\n",
       " 'widget_types',\n",
       " 'close_all',\n",
       " 'on_widget_constructed',\n",
       " '_call_widget_constructed',\n",
       " 'handle_comm_opened',\n",
       " 'get_manager_state',\n",
       " '_get_embed_state',\n",
       " 'get_view_spec',\n",
       " '_view_count',\n",
       " 'comm',\n",
       " 'keys',\n",
       " '_default_keys',\n",
       " '_property_lock',\n",
       " '_holding_sync',\n",
       " '_states_to_send',\n",
       " '_display_callbacks',\n",
       " '_msg_callbacks',\n",
       " '__del__',\n",
       " 'open',\n",
       " '_comm_changed',\n",
       " 'model_id',\n",
       " 'close',\n",
       " 'send_state',\n",
       " 'get_state',\n",
       " '_is_numpy',\n",
       " '_compare',\n",
       " 'set_state',\n",
       " 'send',\n",
       " 'on_msg',\n",
       " 'on_displayed',\n",
       " 'add_traits',\n",
       " 'notify_change',\n",
       " '__repr__',\n",
       " '_lock_property',\n",
       " 'hold_sync',\n",
       " '_should_send_property',\n",
       " '_handle_msg',\n",
       " '_handle_custom_msg',\n",
       " '_handle_displayed',\n",
       " '_trait_to_json',\n",
       " '_trait_from_json',\n",
       " '_ipython_display_',\n",
       " '_send',\n",
       " '_gen_repr_from_keys',\n",
       " 'log',\n",
       " '_log_default',\n",
       " 'setup_instance',\n",
       " '__getstate__',\n",
       " '__setstate__',\n",
       " 'cross_validation_lock',\n",
       " 'hold_trait_notifications',\n",
       " '_notify_trait',\n",
       " '_notify_observers',\n",
       " '_add_notifiers',\n",
       " '_remove_notifiers',\n",
       " 'on_trait_change',\n",
       " 'observe',\n",
       " 'unobserve',\n",
       " 'unobserve_all',\n",
       " '_register_validator',\n",
       " 'set_trait',\n",
       " 'class_trait_names',\n",
       " 'class_traits',\n",
       " 'class_own_traits',\n",
       " 'has_trait',\n",
       " 'trait_has_value',\n",
       " 'trait_values',\n",
       " '_get_trait_default_generator',\n",
       " 'trait_defaults',\n",
       " 'trait_names',\n",
       " 'traits',\n",
       " 'trait_metadata',\n",
       " 'class_own_trait_events',\n",
       " 'trait_events',\n",
       " '__new__',\n",
       " '__dict__',\n",
       " '__weakref__',\n",
       " '__hash__',\n",
       " '__str__',\n",
       " '__getattribute__',\n",
       " '__setattr__',\n",
       " '__delattr__',\n",
       " '__lt__',\n",
       " '__le__',\n",
       " '__eq__',\n",
       " '__ne__',\n",
       " '__gt__',\n",
       " '__ge__',\n",
       " '__reduce_ex__',\n",
       " '__reduce__',\n",
       " '__subclasshook__',\n",
       " '__format__',\n",
       " '__sizeof__',\n",
       " '__dir__',\n",
       " '__class__']"
      ]
     },
     "execution_count": 12,
     "metadata": {},
     "output_type": "execute_result"
    }
   ],
   "source": [
    "aladin.__dir__()"
   ]
  },
  {
   "cell_type": "code",
   "execution_count": 15,
   "id": "1f17c3da",
   "metadata": {},
   "outputs": [
    {
     "data": {
      "text/plain": [
       "'/Users/brian.merino/Desktop/Aladin/notebooks-latest/04_HowTos/Aladin'"
      ]
     },
     "execution_count": 15,
     "metadata": {},
     "output_type": "execute_result"
    }
   ],
   "source": [
    "pwd"
   ]
  },
  {
   "cell_type": "code",
   "execution_count": null,
   "id": "ded629aa",
   "metadata": {},
   "outputs": [],
   "source": []
  }
 ],
 "metadata": {
  "kernelspec": {
   "display_name": "Python 3",
   "language": "python",
   "name": "python3"
  },
  "language_info": {
   "codemirror_mode": {
    "name": "ipython",
    "version": 3
   },
   "file_extension": ".py",
   "mimetype": "text/x-python",
   "name": "python",
   "nbconvert_exporter": "python",
   "pygments_lexer": "ipython3",
   "version": "3.8.8"
  }
 },
 "nbformat": 4,
 "nbformat_minor": 5
}
