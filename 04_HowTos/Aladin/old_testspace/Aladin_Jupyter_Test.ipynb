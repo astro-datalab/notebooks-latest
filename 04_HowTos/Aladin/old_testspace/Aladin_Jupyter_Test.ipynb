{
 "cells": [
  {
   "cell_type": "markdown",
   "id": "994627d9",
   "metadata": {},
   "source": [
    "This notebook will be my first test at running Aladin Lite in a Jupyter Notebook. \n",
    "\n",
    "I will be following the instructions given [here](https://github.com/cds-astro/ipyaladin?tab=readme-ov-file#examples)."
   ]
  },
  {
   "cell_type": "code",
   "execution_count": 2,
   "id": "f2c1195f",
   "metadata": {},
   "outputs": [],
   "source": [
    "from ipyaladin import Aladin\n",
    "\n",
    "from mocpy import MOC\n",
    "import astropy.units as u"
   ]
  },
  {
   "cell_type": "code",
   "execution_count": 3,
   "id": "87d94e4b",
   "metadata": {},
   "outputs": [
    {
     "data": {
      "text/plain": [
       "'/Users/brian.merino/Desktop/Aladin'"
      ]
     },
     "execution_count": 3,
     "metadata": {},
     "output_type": "execute_result"
    }
   ],
   "source": [
    "pwd"
   ]
  },
  {
   "cell_type": "code",
   "execution_count": 4,
   "id": "30ea8249",
   "metadata": {
    "scrolled": false
   },
   "outputs": [
    {
     "data": {
      "application/vnd.jupyter.widget-view+json": {
       "model_id": "2ff255740caa48e0a5b25b7a4b82bd0f",
       "version_major": 2,
       "version_minor": 0
      },
      "text/plain": [
       "Aladin(fov=2.0, init_options=['background_color', 'coo_frame', 'fov', 'full_screen', 'grid_color', 'grid_opaci…"
      ]
     },
     "metadata": {},
     "output_type": "display_data"
    }
   ],
   "source": [
    "aladin = Aladin(fov=2)\n",
    "aladin"
   ]
  },
  {
   "cell_type": "code",
   "execution_count": 5,
   "id": "c89f2e82",
   "metadata": {},
   "outputs": [
    {
     "name": "stderr",
     "output_type": "stream",
     "text": [
      "<ipython-input-5-234407d1714b>:2: DeprecationWarning: add_moc_from_URL is replaced by add_moc that detects automaticallythat the MOC was given as an URL.\n",
      "  aladin.add_moc_from_URL(\"http://localhost:8923/notebooks/delve_dr2_pt_1_test_2.fits\")\n",
      "<ipython-input-5-234407d1714b>:3: DeprecationWarning: add_moc_from_URL is replaced by add_moc that detects automaticallythat the MOC was given as an URL.\n",
      "  aladin.add_moc_from_URL(\"http://localhost:8923/notebooks/smash_moc.fits\")\n",
      "<ipython-input-5-234407d1714b>:4: DeprecationWarning: add_moc_from_URL is replaced by add_moc that detects automaticallythat the MOC was given as an URL.\n",
      "  aladin.add_moc_from_URL(\"http://localhost:8923/notebooks/des_dr2_moc.fits\")\n"
     ]
    }
   ],
   "source": [
    "#aladin.add_moc_from_URL(\"http://localhost:8923/notebooks/delve_dr2_pt_1_test_2.fits\",moc_options={color:'red'})\n",
    "aladin.add_moc_from_URL(\"http://localhost:8923/notebooks/delve_dr2_pt_1_test_2.fits\")\n",
    "aladin.add_moc_from_URL(\"http://localhost:8923/notebooks/smash_moc.fits\")\n",
    "aladin.add_moc_from_URL(\"http://localhost:8923/notebooks/des_dr2_moc.fits\")\n",
    "\n",
    "\n",
    "#aladin.add_moc(\"./notebooks/delve_dr2_pt_1_test_2.fits\")\n",
    "#aladin.add_moc(\"./notebooks/smash_moc.fits\")"
   ]
  },
  {
   "cell_type": "code",
   "execution_count": null,
   "id": "1dc70688",
   "metadata": {},
   "outputs": [],
   "source": [
    "aladin.add_moc_from_URL?"
   ]
  },
  {
   "cell_type": "code",
   "execution_count": null,
   "id": "72dc25e2",
   "metadata": {},
   "outputs": [],
   "source": [
    "aladin.add_moc_from_dict?"
   ]
  },
  {
   "cell_type": "code",
   "execution_count": null,
   "id": "2e1e79e9",
   "metadata": {},
   "outputs": [],
   "source": [
    "# aladin.add_moc(\n",
    "#     \"http://0.0.0.0:8000/delve_dr2_pt_1_test_2.fits\",\n",
    "#     color=\"violet\",\n",
    "#     opacity=0.3,\n",
    "# )"
   ]
  },
  {
   "cell_type": "code",
   "execution_count": null,
   "id": "d9bffeb5",
   "metadata": {},
   "outputs": [],
   "source": [
    "print(dir(Aladin))"
   ]
  },
  {
   "cell_type": "code",
   "execution_count": null,
   "id": "131ab3a2",
   "metadata": {},
   "outputs": [],
   "source": [
    "aladin.add_moc_from_URL(-h)"
   ]
  },
  {
   "cell_type": "code",
   "execution_count": null,
   "id": "9844c5ba",
   "metadata": {},
   "outputs": [],
   "source": []
  }
 ],
 "metadata": {
  "kernelspec": {
   "display_name": "Python 3",
   "language": "python",
   "name": "python3"
  },
  "language_info": {
   "codemirror_mode": {
    "name": "ipython",
    "version": 3
   },
   "file_extension": ".py",
   "mimetype": "text/x-python",
   "name": "python",
   "nbconvert_exporter": "python",
   "pygments_lexer": "ipython3",
   "version": "3.8.8"
  }
 },
 "nbformat": 4,
 "nbformat_minor": 5
}
