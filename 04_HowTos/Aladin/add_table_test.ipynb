{
 "cells": [
  {
   "cell_type": "code",
   "execution_count": 1,
   "id": "d1cd7150",
   "metadata": {},
   "outputs": [
    {
     "name": "stdout",
     "output_type": "stream",
     "text": [
      "Requirement already satisfied: ipyaladin in /Users/brian.merino/opt/anaconda3/lib/python3.8/site-packages (0.3.0)\n",
      "Requirement already satisfied: mocpy in /Users/brian.merino/opt/anaconda3/lib/python3.8/site-packages (0.13.1)\n",
      "Requirement already satisfied: anywidget in /Users/brian.merino/opt/anaconda3/lib/python3.8/site-packages (from ipyaladin) (0.9.12)\n",
      "Requirement already satisfied: astropy<5.3 in /Users/brian.merino/opt/anaconda3/lib/python3.8/site-packages (from mocpy) (5.2.2)\n",
      "Requirement already satisfied: networkx>=2.5 in /Users/brian.merino/opt/anaconda3/lib/python3.8/site-packages (from mocpy) (2.5)\n",
      "Requirement already satisfied: matplotlib in /Users/brian.merino/opt/anaconda3/lib/python3.8/site-packages (from mocpy) (3.7.5)\n",
      "Requirement already satisfied: cdshealpix>=0.6.4 in /Users/brian.merino/opt/anaconda3/lib/python3.8/site-packages (from mocpy) (0.6.5)\n",
      "Requirement already satisfied: numpy>=1.20 in /Users/brian.merino/opt/anaconda3/lib/python3.8/site-packages (from astropy<5.3->mocpy) (1.24.4)\n",
      "Requirement already satisfied: packaging>=19.0 in /Users/brian.merino/opt/anaconda3/lib/python3.8/site-packages (from astropy<5.3->mocpy) (24.0)\n",
      "Requirement already satisfied: pyerfa>=2.0 in /Users/brian.merino/opt/anaconda3/lib/python3.8/site-packages (from astropy<5.3->mocpy) (2.0.0.3)\n",
      "Requirement already satisfied: PyYAML>=3.13 in /Users/brian.merino/opt/anaconda3/lib/python3.8/site-packages (from astropy<5.3->mocpy) (6.0.1)\n",
      "Requirement already satisfied: decorator>=4.3.0 in /Users/brian.merino/opt/anaconda3/lib/python3.8/site-packages (from networkx>=2.5->mocpy) (5.0.6)\n",
      "Requirement already satisfied: ipywidgets>=7.6.0 in /Users/brian.merino/opt/anaconda3/lib/python3.8/site-packages (from anywidget->ipyaladin) (7.6.3)\n",
      "Requirement already satisfied: typing-extensions>=4.2.0 in /Users/brian.merino/opt/anaconda3/lib/python3.8/site-packages (from anywidget->ipyaladin) (4.11.0)\n",
      "Requirement already satisfied: psygnal>=0.8.1 in /Users/brian.merino/opt/anaconda3/lib/python3.8/site-packages (from anywidget->ipyaladin) (0.11.1)\n",
      "Requirement already satisfied: ipykernel>=4.5.1 in /Users/brian.merino/opt/anaconda3/lib/python3.8/site-packages (from ipywidgets>=7.6.0->anywidget->ipyaladin) (5.3.4)\n",
      "Requirement already satisfied: ipython>=4.0.0 in /Users/brian.merino/opt/anaconda3/lib/python3.8/site-packages (from ipywidgets>=7.6.0->anywidget->ipyaladin) (7.22.0)\n",
      "Requirement already satisfied: traitlets>=4.3.1 in /Users/brian.merino/.local/lib/python3.8/site-packages (from ipywidgets>=7.6.0->anywidget->ipyaladin) (5.14.3)\n",
      "Requirement already satisfied: nbformat>=4.2.0 in /Users/brian.merino/.local/lib/python3.8/site-packages (from ipywidgets>=7.6.0->anywidget->ipyaladin) (5.10.4)\n",
      "Requirement already satisfied: jupyterlab-widgets>=1.0.0 in /Users/brian.merino/opt/anaconda3/lib/python3.8/site-packages (from ipywidgets>=7.6.0->anywidget->ipyaladin) (1.0.0)\n",
      "Requirement already satisfied: widgetsnbextension~=3.5.0 in /Users/brian.merino/opt/anaconda3/lib/python3.8/site-packages (from ipywidgets>=7.6.0->anywidget->ipyaladin) (3.5.1)\n",
      "Requirement already satisfied: tornado>=4.2 in /Users/brian.merino/opt/anaconda3/lib/python3.8/site-packages (from ipykernel>=4.5.1->ipywidgets>=7.6.0->anywidget->ipyaladin) (6.4)\n",
      "Requirement already satisfied: appnope in /Users/brian.merino/opt/anaconda3/lib/python3.8/site-packages (from ipykernel>=4.5.1->ipywidgets>=7.6.0->anywidget->ipyaladin) (0.1.2)\n",
      "Requirement already satisfied: jupyter-client in /Users/brian.merino/opt/anaconda3/lib/python3.8/site-packages (from ipykernel>=4.5.1->ipywidgets>=7.6.0->anywidget->ipyaladin) (7.4.9)\n",
      "Requirement already satisfied: setuptools>=18.5 in /Users/brian.merino/opt/anaconda3/lib/python3.8/site-packages (from ipython>=4.0.0->ipywidgets>=7.6.0->anywidget->ipyaladin) (69.5.1)\n",
      "Requirement already satisfied: pexpect>4.3 in /Users/brian.merino/opt/anaconda3/lib/python3.8/site-packages (from ipython>=4.0.0->ipywidgets>=7.6.0->anywidget->ipyaladin) (4.8.0)\n",
      "Requirement already satisfied: jedi>=0.16 in /Users/brian.merino/opt/anaconda3/lib/python3.8/site-packages (from ipython>=4.0.0->ipywidgets>=7.6.0->anywidget->ipyaladin) (0.17.2)\n",
      "Requirement already satisfied: pickleshare in /Users/brian.merino/opt/anaconda3/lib/python3.8/site-packages (from ipython>=4.0.0->ipywidgets>=7.6.0->anywidget->ipyaladin) (0.7.5)\n",
      "Requirement already satisfied: prompt-toolkit!=3.0.0,!=3.0.1,<3.1.0,>=2.0.0 in /Users/brian.merino/opt/anaconda3/lib/python3.8/site-packages (from ipython>=4.0.0->ipywidgets>=7.6.0->anywidget->ipyaladin) (3.0.43)\n",
      "Requirement already satisfied: pygments in /Users/brian.merino/opt/anaconda3/lib/python3.8/site-packages (from ipython>=4.0.0->ipywidgets>=7.6.0->anywidget->ipyaladin) (2.17.2)\n",
      "Requirement already satisfied: backcall in /Users/brian.merino/opt/anaconda3/lib/python3.8/site-packages (from ipython>=4.0.0->ipywidgets>=7.6.0->anywidget->ipyaladin) (0.2.0)\n",
      "Requirement already satisfied: parso<0.8.0,>=0.7.0 in /Users/brian.merino/opt/anaconda3/lib/python3.8/site-packages (from jedi>=0.16->ipython>=4.0.0->ipywidgets>=7.6.0->anywidget->ipyaladin) (0.7.0)\n",
      "Requirement already satisfied: jsonschema>=2.6 in /Users/brian.merino/opt/anaconda3/lib/python3.8/site-packages (from nbformat>=4.2.0->ipywidgets>=7.6.0->anywidget->ipyaladin) (4.22.0)\n",
      "Requirement already satisfied: fastjsonschema>=2.15 in /Users/brian.merino/.local/lib/python3.8/site-packages (from nbformat>=4.2.0->ipywidgets>=7.6.0->anywidget->ipyaladin) (2.19.1)\n",
      "Requirement already satisfied: jupyter-core!=5.0.*,>=4.12 in /Users/brian.merino/.local/lib/python3.8/site-packages (from nbformat>=4.2.0->ipywidgets>=7.6.0->anywidget->ipyaladin) (5.7.2)\n",
      "Requirement already satisfied: rpds-py>=0.7.1 in /Users/brian.merino/opt/anaconda3/lib/python3.8/site-packages (from jsonschema>=2.6->nbformat>=4.2.0->ipywidgets>=7.6.0->anywidget->ipyaladin) (0.18.0)\n",
      "Requirement already satisfied: referencing>=0.28.4 in /Users/brian.merino/opt/anaconda3/lib/python3.8/site-packages (from jsonschema>=2.6->nbformat>=4.2.0->ipywidgets>=7.6.0->anywidget->ipyaladin) (0.31.1)\n",
      "Requirement already satisfied: jsonschema-specifications>=2023.03.6 in /Users/brian.merino/opt/anaconda3/lib/python3.8/site-packages (from jsonschema>=2.6->nbformat>=4.2.0->ipywidgets>=7.6.0->anywidget->ipyaladin) (2023.12.1)\n",
      "Requirement already satisfied: pkgutil-resolve-name>=1.3.10 in /Users/brian.merino/opt/anaconda3/lib/python3.8/site-packages (from jsonschema>=2.6->nbformat>=4.2.0->ipywidgets>=7.6.0->anywidget->ipyaladin) (1.3.10)\n",
      "Requirement already satisfied: importlib-resources>=1.4.0 in /Users/brian.merino/opt/anaconda3/lib/python3.8/site-packages (from jsonschema>=2.6->nbformat>=4.2.0->ipywidgets>=7.6.0->anywidget->ipyaladin) (6.4.0)\n",
      "Requirement already satisfied: attrs>=22.2.0 in /Users/brian.merino/opt/anaconda3/lib/python3.8/site-packages (from jsonschema>=2.6->nbformat>=4.2.0->ipywidgets>=7.6.0->anywidget->ipyaladin) (23.2.0)\n",
      "Requirement already satisfied: zipp>=3.1.0 in /Users/brian.merino/opt/anaconda3/lib/python3.8/site-packages (from importlib-resources>=1.4.0->jsonschema>=2.6->nbformat>=4.2.0->ipywidgets>=7.6.0->anywidget->ipyaladin) (3.18.1)\n",
      "Requirement already satisfied: platformdirs>=2.5 in /Users/brian.merino/.local/lib/python3.8/site-packages (from jupyter-core!=5.0.*,>=4.12->nbformat>=4.2.0->ipywidgets>=7.6.0->anywidget->ipyaladin) (4.2.2)\n",
      "Requirement already satisfied: ptyprocess>=0.5 in /Users/brian.merino/opt/anaconda3/lib/python3.8/site-packages (from pexpect>4.3->ipython>=4.0.0->ipywidgets>=7.6.0->anywidget->ipyaladin) (0.7.0)\n",
      "Requirement already satisfied: wcwidth in /Users/brian.merino/opt/anaconda3/lib/python3.8/site-packages (from prompt-toolkit!=3.0.0,!=3.0.1,<3.1.0,>=2.0.0->ipython>=4.0.0->ipywidgets>=7.6.0->anywidget->ipyaladin) (0.2.13)\n",
      "Requirement already satisfied: notebook>=4.4.1 in /Users/brian.merino/opt/anaconda3/lib/python3.8/site-packages (from widgetsnbextension~=3.5.0->ipywidgets>=7.6.0->anywidget->ipyaladin) (6.5.6)\n",
      "Requirement already satisfied: pyzmq<25,>=17 in /Users/brian.merino/opt/anaconda3/lib/python3.8/site-packages (from notebook>=4.4.1->widgetsnbextension~=3.5.0->ipywidgets>=7.6.0->anywidget->ipyaladin) (24.0.1)\n",
      "Requirement already satisfied: argon2-cffi in /Users/brian.merino/opt/anaconda3/lib/python3.8/site-packages (from notebook>=4.4.1->widgetsnbextension~=3.5.0->ipywidgets>=7.6.0->anywidget->ipyaladin) (23.1.0)\n",
      "Requirement already satisfied: nbconvert>=5 in /Users/brian.merino/.local/lib/python3.8/site-packages (from notebook>=4.4.1->widgetsnbextension~=3.5.0->ipywidgets>=7.6.0->anywidget->ipyaladin) (7.16.4)\n",
      "Requirement already satisfied: nbclassic>=0.4.7 in /Users/brian.merino/opt/anaconda3/lib/python3.8/site-packages (from notebook>=4.4.1->widgetsnbextension~=3.5.0->ipywidgets>=7.6.0->anywidget->ipyaladin) (1.0.0)\n",
      "Requirement already satisfied: jinja2 in /Users/brian.merino/opt/anaconda3/lib/python3.8/site-packages (from notebook>=4.4.1->widgetsnbextension~=3.5.0->ipywidgets>=7.6.0->anywidget->ipyaladin) (3.1.3)\n",
      "Requirement already satisfied: nest-asyncio>=1.5 in /Users/brian.merino/opt/anaconda3/lib/python3.8/site-packages (from notebook>=4.4.1->widgetsnbextension~=3.5.0->ipywidgets>=7.6.0->anywidget->ipyaladin) (1.6.0)\n",
      "Requirement already satisfied: ipython-genutils in /Users/brian.merino/opt/anaconda3/lib/python3.8/site-packages (from notebook>=4.4.1->widgetsnbextension~=3.5.0->ipywidgets>=7.6.0->anywidget->ipyaladin) (0.2.0)\n",
      "Requirement already satisfied: terminado>=0.8.3 in /Users/brian.merino/opt/anaconda3/lib/python3.8/site-packages (from notebook>=4.4.1->widgetsnbextension~=3.5.0->ipywidgets>=7.6.0->anywidget->ipyaladin) (0.9.4)\n",
      "Requirement already satisfied: prometheus-client in /Users/brian.merino/opt/anaconda3/lib/python3.8/site-packages (from notebook>=4.4.1->widgetsnbextension~=3.5.0->ipywidgets>=7.6.0->anywidget->ipyaladin) (0.10.1)\n",
      "Requirement already satisfied: Send2Trash>=1.8.0 in /Users/brian.merino/opt/anaconda3/lib/python3.8/site-packages (from notebook>=4.4.1->widgetsnbextension~=3.5.0->ipywidgets>=7.6.0->anywidget->ipyaladin) (1.8.3)\n"
     ]
    },
    {
     "name": "stdout",
     "output_type": "stream",
     "text": [
      "Requirement already satisfied: entrypoints in /Users/brian.merino/opt/anaconda3/lib/python3.8/site-packages (from jupyter-client->ipykernel>=4.5.1->ipywidgets>=7.6.0->anywidget->ipyaladin) (0.3)\n",
      "Requirement already satisfied: python-dateutil>=2.8.2 in /Users/brian.merino/opt/anaconda3/lib/python3.8/site-packages (from jupyter-client->ipykernel>=4.5.1->ipywidgets>=7.6.0->anywidget->ipyaladin) (2.9.0.post0)\n",
      "Requirement already satisfied: notebook-shim>=0.2.3 in /Users/brian.merino/opt/anaconda3/lib/python3.8/site-packages (from nbclassic>=0.4.7->notebook>=4.4.1->widgetsnbextension~=3.5.0->ipywidgets>=7.6.0->anywidget->ipyaladin) (0.2.4)\n",
      "Requirement already satisfied: jupyter-server>=1.8 in /Users/brian.merino/opt/anaconda3/lib/python3.8/site-packages (from nbclassic>=0.4.7->notebook>=4.4.1->widgetsnbextension~=3.5.0->ipywidgets>=7.6.0->anywidget->ipyaladin) (2.14.0)\n",
      "Requirement already satisfied: anyio>=3.1.0 in /Users/brian.merino/opt/anaconda3/lib/python3.8/site-packages (from jupyter-server>=1.8->nbclassic>=0.4.7->notebook>=4.4.1->widgetsnbextension~=3.5.0->ipywidgets>=7.6.0->anywidget->ipyaladin) (4.3.0)\n",
      "Requirement already satisfied: jupyter-server-terminals>=0.4.4 in /Users/brian.merino/opt/anaconda3/lib/python3.8/site-packages (from jupyter-server>=1.8->nbclassic>=0.4.7->notebook>=4.4.1->widgetsnbextension~=3.5.0->ipywidgets>=7.6.0->anywidget->ipyaladin) (0.5.3)\n",
      "Requirement already satisfied: overrides>=5.0 in /Users/brian.merino/opt/anaconda3/lib/python3.8/site-packages (from jupyter-server>=1.8->nbclassic>=0.4.7->notebook>=4.4.1->widgetsnbextension~=3.5.0->ipywidgets>=7.6.0->anywidget->ipyaladin) (7.7.0)\n",
      "Requirement already satisfied: jupyter-events>=0.9.0 in /Users/brian.merino/opt/anaconda3/lib/python3.8/site-packages (from jupyter-server>=1.8->nbclassic>=0.4.7->notebook>=4.4.1->widgetsnbextension~=3.5.0->ipywidgets>=7.6.0->anywidget->ipyaladin) (0.10.0)\n",
      "Requirement already satisfied: websocket-client>=1.7 in /Users/brian.merino/opt/anaconda3/lib/python3.8/site-packages (from jupyter-server>=1.8->nbclassic>=0.4.7->notebook>=4.4.1->widgetsnbextension~=3.5.0->ipywidgets>=7.6.0->anywidget->ipyaladin) (1.8.0)\n",
      "Requirement already satisfied: sniffio>=1.1 in /Users/brian.merino/opt/anaconda3/lib/python3.8/site-packages (from anyio>=3.1.0->jupyter-server>=1.8->nbclassic>=0.4.7->notebook>=4.4.1->widgetsnbextension~=3.5.0->ipywidgets>=7.6.0->anywidget->ipyaladin) (1.3.1)\n",
      "Requirement already satisfied: exceptiongroup>=1.0.2 in /Users/brian.merino/opt/anaconda3/lib/python3.8/site-packages (from anyio>=3.1.0->jupyter-server>=1.8->nbclassic>=0.4.7->notebook>=4.4.1->widgetsnbextension~=3.5.0->ipywidgets>=7.6.0->anywidget->ipyaladin) (1.2.1)\n",
      "Requirement already satisfied: idna>=2.8 in /Users/brian.merino/opt/anaconda3/lib/python3.8/site-packages (from anyio>=3.1.0->jupyter-server>=1.8->nbclassic>=0.4.7->notebook>=4.4.1->widgetsnbextension~=3.5.0->ipywidgets>=7.6.0->anywidget->ipyaladin) (3.7)\n",
      "Requirement already satisfied: argon2-cffi-bindings in /Users/brian.merino/opt/anaconda3/lib/python3.8/site-packages (from argon2-cffi->notebook>=4.4.1->widgetsnbextension~=3.5.0->ipywidgets>=7.6.0->anywidget->ipyaladin) (21.2.0)\n",
      "Requirement already satisfied: MarkupSafe>=2.0 in /Users/brian.merino/opt/anaconda3/lib/python3.8/site-packages (from jinja2->notebook>=4.4.1->widgetsnbextension~=3.5.0->ipywidgets>=7.6.0->anywidget->ipyaladin) (2.1.5)\n",
      "Requirement already satisfied: python-json-logger>=2.0.4 in /Users/brian.merino/opt/anaconda3/lib/python3.8/site-packages (from jupyter-events>=0.9.0->jupyter-server>=1.8->nbclassic>=0.4.7->notebook>=4.4.1->widgetsnbextension~=3.5.0->ipywidgets>=7.6.0->anywidget->ipyaladin) (2.0.7)\n",
      "Requirement already satisfied: rfc3339-validator in /Users/brian.merino/opt/anaconda3/lib/python3.8/site-packages (from jupyter-events>=0.9.0->jupyter-server>=1.8->nbclassic>=0.4.7->notebook>=4.4.1->widgetsnbextension~=3.5.0->ipywidgets>=7.6.0->anywidget->ipyaladin) (0.1.4)\n",
      "Requirement already satisfied: rfc3986-validator>=0.1.1 in /Users/brian.merino/opt/anaconda3/lib/python3.8/site-packages (from jupyter-events>=0.9.0->jupyter-server>=1.8->nbclassic>=0.4.7->notebook>=4.4.1->widgetsnbextension~=3.5.0->ipywidgets>=7.6.0->anywidget->ipyaladin) (0.1.1)\n",
      "Requirement already satisfied: isoduration in /Users/brian.merino/opt/anaconda3/lib/python3.8/site-packages (from jsonschema>=2.6->nbformat>=4.2.0->ipywidgets>=7.6.0->anywidget->ipyaladin) (20.11.0)\n",
      "Requirement already satisfied: jsonpointer>1.13 in /Users/brian.merino/opt/anaconda3/lib/python3.8/site-packages (from jsonschema>=2.6->nbformat>=4.2.0->ipywidgets>=7.6.0->anywidget->ipyaladin) (2.4)\n",
      "Requirement already satisfied: fqdn in /Users/brian.merino/opt/anaconda3/lib/python3.8/site-packages (from jsonschema>=2.6->nbformat>=4.2.0->ipywidgets>=7.6.0->anywidget->ipyaladin) (1.5.1)\n",
      "Requirement already satisfied: uri-template in /Users/brian.merino/opt/anaconda3/lib/python3.8/site-packages (from jsonschema>=2.6->nbformat>=4.2.0->ipywidgets>=7.6.0->anywidget->ipyaladin) (1.3.0)\n",
      "Requirement already satisfied: webcolors>=1.11 in /Users/brian.merino/opt/anaconda3/lib/python3.8/site-packages (from jsonschema>=2.6->nbformat>=4.2.0->ipywidgets>=7.6.0->anywidget->ipyaladin) (1.13)\n",
      "Requirement already satisfied: nbclient>=0.5.0 in /Users/brian.merino/opt/anaconda3/lib/python3.8/site-packages (from nbconvert>=5->notebook>=4.4.1->widgetsnbextension~=3.5.0->ipywidgets>=7.6.0->anywidget->ipyaladin) (0.5.3)\n",
      "Requirement already satisfied: pandocfilters>=1.4.1 in /Users/brian.merino/opt/anaconda3/lib/python3.8/site-packages (from nbconvert>=5->notebook>=4.4.1->widgetsnbextension~=3.5.0->ipywidgets>=7.6.0->anywidget->ipyaladin) (1.4.3)\n",
      "Requirement already satisfied: jupyterlab-pygments in /Users/brian.merino/opt/anaconda3/lib/python3.8/site-packages (from nbconvert>=5->notebook>=4.4.1->widgetsnbextension~=3.5.0->ipywidgets>=7.6.0->anywidget->ipyaladin) (0.1.2)\n",
      "Requirement already satisfied: defusedxml in /Users/brian.merino/opt/anaconda3/lib/python3.8/site-packages (from nbconvert>=5->notebook>=4.4.1->widgetsnbextension~=3.5.0->ipywidgets>=7.6.0->anywidget->ipyaladin) (0.7.1)\n",
      "Requirement already satisfied: importlib-metadata>=3.6 in /Users/brian.merino/opt/anaconda3/lib/python3.8/site-packages (from nbconvert>=5->notebook>=4.4.1->widgetsnbextension~=3.5.0->ipywidgets>=7.6.0->anywidget->ipyaladin) (6.11.0)\n",
      "Requirement already satisfied: beautifulsoup4 in /Users/brian.merino/opt/anaconda3/lib/python3.8/site-packages (from nbconvert>=5->notebook>=4.4.1->widgetsnbextension~=3.5.0->ipywidgets>=7.6.0->anywidget->ipyaladin) (4.9.3)\n",
      "Requirement already satisfied: bleach!=5.0.0 in /Users/brian.merino/opt/anaconda3/lib/python3.8/site-packages (from nbconvert>=5->notebook>=4.4.1->widgetsnbextension~=3.5.0->ipywidgets>=7.6.0->anywidget->ipyaladin) (3.3.0)\n",
      "Requirement already satisfied: tinycss2 in /Users/brian.merino/.local/lib/python3.8/site-packages (from nbconvert>=5->notebook>=4.4.1->widgetsnbextension~=3.5.0->ipywidgets>=7.6.0->anywidget->ipyaladin) (1.3.0)\n",
      "Requirement already satisfied: mistune<4,>=2.0.3 in /Users/brian.merino/.local/lib/python3.8/site-packages (from nbconvert>=5->notebook>=4.4.1->widgetsnbextension~=3.5.0->ipywidgets>=7.6.0->anywidget->ipyaladin) (3.0.2)\n",
      "Requirement already satisfied: six>=1.9.0 in /Users/brian.merino/opt/anaconda3/lib/python3.8/site-packages (from bleach!=5.0.0->nbconvert>=5->notebook>=4.4.1->widgetsnbextension~=3.5.0->ipywidgets>=7.6.0->anywidget->ipyaladin) (1.16.0)\n",
      "Requirement already satisfied: webencodings in /Users/brian.merino/opt/anaconda3/lib/python3.8/site-packages (from bleach!=5.0.0->nbconvert>=5->notebook>=4.4.1->widgetsnbextension~=3.5.0->ipywidgets>=7.6.0->anywidget->ipyaladin) (0.5.1)\n",
      "Requirement already satisfied: async-generator in /Users/brian.merino/opt/anaconda3/lib/python3.8/site-packages (from nbclient>=0.5.0->nbconvert>=5->notebook>=4.4.1->widgetsnbextension~=3.5.0->ipywidgets>=7.6.0->anywidget->ipyaladin) (1.10)\n",
      "Requirement already satisfied: cffi>=1.0.1 in /Users/brian.merino/opt/anaconda3/lib/python3.8/site-packages (from argon2-cffi-bindings->argon2-cffi->notebook>=4.4.1->widgetsnbextension~=3.5.0->ipywidgets>=7.6.0->anywidget->ipyaladin) (1.14.5)\n",
      "Requirement already satisfied: pycparser in /Users/brian.merino/opt/anaconda3/lib/python3.8/site-packages (from cffi>=1.0.1->argon2-cffi-bindings->argon2-cffi->notebook>=4.4.1->widgetsnbextension~=3.5.0->ipywidgets>=7.6.0->anywidget->ipyaladin) (2.22)\n",
      "Requirement already satisfied: soupsieve>1.2 in /Users/brian.merino/opt/anaconda3/lib/python3.8/site-packages (from beautifulsoup4->nbconvert>=5->notebook>=4.4.1->widgetsnbextension~=3.5.0->ipywidgets>=7.6.0->anywidget->ipyaladin) (2.2.1)\n"
     ]
    },
    {
     "name": "stdout",
     "output_type": "stream",
     "text": [
      "Requirement already satisfied: arrow>=0.15.0 in /Users/brian.merino/opt/anaconda3/lib/python3.8/site-packages (from isoduration->jsonschema>=2.6->nbformat>=4.2.0->ipywidgets>=7.6.0->anywidget->ipyaladin) (1.3.0)\n",
      "Requirement already satisfied: types-python-dateutil>=2.8.10 in /Users/brian.merino/opt/anaconda3/lib/python3.8/site-packages (from arrow>=0.15.0->isoduration->jsonschema>=2.6->nbformat>=4.2.0->ipywidgets>=7.6.0->anywidget->ipyaladin) (2.9.0.20240316)\n",
      "Requirement already satisfied: pyparsing>=2.3.1 in /Users/brian.merino/opt/anaconda3/lib/python3.8/site-packages (from matplotlib->mocpy) (3.1.2)\n",
      "Requirement already satisfied: contourpy>=1.0.1 in /Users/brian.merino/opt/anaconda3/lib/python3.8/site-packages (from matplotlib->mocpy) (1.1.1)\n",
      "Requirement already satisfied: kiwisolver>=1.0.1 in /Users/brian.merino/opt/anaconda3/lib/python3.8/site-packages (from matplotlib->mocpy) (1.4.5)\n",
      "Requirement already satisfied: fonttools>=4.22.0 in /Users/brian.merino/opt/anaconda3/lib/python3.8/site-packages (from matplotlib->mocpy) (4.51.0)\n",
      "Requirement already satisfied: pillow>=6.2.0 in /Users/brian.merino/opt/anaconda3/lib/python3.8/site-packages (from matplotlib->mocpy) (10.3.0)\n",
      "Requirement already satisfied: cycler>=0.10 in /Users/brian.merino/opt/anaconda3/lib/python3.8/site-packages (from matplotlib->mocpy) (0.12.1)\n"
     ]
    }
   ],
   "source": [
    "!pip install ipyaladin mocpy"
   ]
  },
  {
   "cell_type": "code",
   "execution_count": 22,
   "id": "be9bdaac",
   "metadata": {},
   "outputs": [],
   "source": [
    "# Standard lib\n",
    "from getpass import getpass\n",
    "\n",
    "# Data Lab\n",
    "from dl import authClient as ac, queryClient as qc, storeClient as sc\n",
    "from dl.helpers.utils import convert\n",
    "\n",
    "import astropy.units as u\n",
    "from astropy.visualization.wcsaxes.frame import EllipticalFrame\n",
    "from astropy.wcs import WCS\n",
    "from astropy.table import Table\n",
    "\n",
    "import matplotlib.pyplot as plt\n",
    "import matplotlib.patches as mpatches\n",
    "\n",
    "from mocpy import MOC\n",
    "\n",
    "from ipyaladin import Aladin\n",
    "\n",
    "from astropy.table import QTable\n",
    "#from astropy.table import Table"
   ]
  },
  {
   "cell_type": "code",
   "execution_count": 3,
   "id": "ed4b4afc",
   "metadata": {},
   "outputs": [
    {
     "name": "stdout",
     "output_type": "stream",
     "text": [
      "des_dr2 catalog\n",
      "               ra        dec  mag_auto_g  random_id\n",
      "0      357.428715 -44.637259   23.489162  25.000000\n",
      "1        5.969949 -43.527294   24.286612  25.000000\n",
      "2       22.207492 -32.286238   25.298033  25.000000\n",
      "3       29.788967 -32.981351   21.148296  25.000000\n",
      "4       20.727107  -2.892649   25.397202  25.000000\n",
      "...           ...        ...         ...        ...\n",
      "24995   54.172207 -27.747459   24.843880  25.003592\n",
      "24996   84.988716 -43.217000   27.056932  25.003592\n",
      "24997   84.363729 -40.298618   26.280462  25.003592\n",
      "24998   88.931305 -36.130207   99.000000  25.003592\n",
      "24999   88.376329 -31.771497   23.679323  25.003592\n",
      "\n",
      "[25000 rows x 4 columns]\n"
     ]
    }
   ],
   "source": [
    "query = 'SELECT TOP 25000 ra, dec, mag_auto_g, random_id FROM des_dr2.main WHERE random_id BETWEEN 25.0 AND 25.01'\n",
    "#response = qc.query(sql = query, fmt = 'csv', out='vos://des_dr2.csv')\n",
    "df = qc.query(sql = query, fmt = 'pandas')\n",
    "print('des_dr2 catalog')\n",
    "print (df)"
   ]
  },
  {
   "cell_type": "code",
   "execution_count": 4,
   "id": "328b18f5",
   "metadata": {},
   "outputs": [
    {
     "data": {
      "application/vnd.jupyter.widget-view+json": {
       "model_id": "c2208fa2b8f04003b7882a5ebeb2a840",
       "version_major": 2,
       "version_minor": 0
      },
      "text/plain": [
       "Aladin(fov=2.0, init_options=['background_color', 'coo_frame', 'fov', 'full_screen', 'grid_color', 'grid_opaci…"
      ]
     },
     "metadata": {},
     "output_type": "display_data"
    }
   ],
   "source": [
    "aladin = Aladin(fov=2)\n",
    "aladin"
   ]
  },
  {
   "cell_type": "code",
   "execution_count": 58,
   "id": "87e98fc6",
   "metadata": {},
   "outputs": [],
   "source": [
    "#Provide MOC.from_longlat with ra and dec in degrees\n",
    "#max_norder:The depth of the smallest HEALPix cells contained in the MOC.\n",
    "ra1  = df['ra'].values\n",
    "dec1 = df['dec'].values\n",
    "mag1 = df['mag_auto_g'].values\n",
    "ran1 = df['random_id'].values\n",
    "\n",
    "des_dr2_moc = MOC.from_lonlat(\n",
    "    ra1.transpose() * u.deg,\n",
    "    dec1.transpose() * u.deg,\n",
    "    max_norder=5,\n",
    ")"
   ]
  },
  {
   "cell_type": "code",
   "execution_count": 56,
   "id": "b7f3eb6d",
   "metadata": {},
   "outputs": [],
   "source": [
    "#ran1 = str(ran1)\n",
    "ra2  = list(ra1)\n",
    "dec2 = list(dec1)\n",
    "ran2 = list(ran1)"
   ]
  },
  {
   "cell_type": "code",
   "execution_count": 66,
   "id": "62a5aa04",
   "metadata": {},
   "outputs": [
    {
     "data": {
      "text/plain": [
       "25000"
      ]
     },
     "execution_count": 66,
     "metadata": {},
     "output_type": "execute_result"
    }
   ],
   "source": [
    "len(ran1)"
   ]
  },
  {
   "cell_type": "code",
   "execution_count": 67,
   "id": "f5bdd011",
   "metadata": {},
   "outputs": [
    {
     "data": {
      "image/png": "[encoded data removed]",
      "text/plain": [
       "<Figure size 432x288 with 1 Axes>"
      ]
     },
     "metadata": {
      "needs_background": "light"
     },
     "output_type": "display_data"
    }
   ],
   "source": [
    "plt.hist(ran1,bins=20000)\n",
    "plt.show()"
   ]
  },
  {
   "cell_type": "code",
   "execution_count": 50,
   "id": "db7c49cc",
   "metadata": {},
   "outputs": [
    {
     "ename": "ValueError",
     "evalue": "Inconsistent data column lengths: {25000, 65}",
     "output_type": "error",
     "traceback": [
      "\u001b[0;31m---------------------------------------------------------------------------\u001b[0m",
      "\u001b[0;31mValueError\u001b[0m                                Traceback (most recent call last)",
      "\u001b[0;32m<ipython-input-50-72dd219fd55e>\u001b[0m in \u001b[0;36m<module>\u001b[0;34m\u001b[0m\n\u001b[1;32m      1\u001b[0m \u001b[0;31m#des_dr2\u001b[0m\u001b[0;34m\u001b[0m\u001b[0;34m\u001b[0m\u001b[0;34m\u001b[0m\u001b[0m\n\u001b[0;32m----> 2\u001b[0;31m new_table1 = QTable([ra2, dec2, ran2],\n\u001b[0m\u001b[1;32m      3\u001b[0m              \u001b[0mnames\u001b[0m\u001b[0;34m=\u001b[0m\u001b[0;34m(\u001b[0m\u001b[0;34m\"ra\"\u001b[0m\u001b[0;34m,\u001b[0m \u001b[0;34m\"dec\"\u001b[0m\u001b[0;34m,\u001b[0m \u001b[0;34m\"random_id\"\u001b[0m\u001b[0;34m)\u001b[0m\u001b[0;34m,\u001b[0m\u001b[0;34m\u001b[0m\u001b[0;34m\u001b[0m\u001b[0m\n\u001b[1;32m      4\u001b[0m              meta={\"name\":\"des_dr2_v3\"})\n",
      "\u001b[0;32m~/opt/anaconda3/lib/python3.8/site-packages/astropy/table/table.py\u001b[0m in \u001b[0;36m__init__\u001b[0;34m(self, data, masked, names, dtype, meta, copy, rows, copy_indices, units, descriptions, **kwargs)\u001b[0m\n\u001b[1;32m    873\u001b[0m \u001b[0;34m\u001b[0m\u001b[0m\n\u001b[1;32m    874\u001b[0m         \u001b[0;31m# Finally do the real initialization\u001b[0m\u001b[0;34m\u001b[0m\u001b[0;34m\u001b[0m\u001b[0;34m\u001b[0m\u001b[0m\n\u001b[0;32m--> 875\u001b[0;31m         \u001b[0minit_func\u001b[0m\u001b[0;34m(\u001b[0m\u001b[0mdata\u001b[0m\u001b[0;34m,\u001b[0m \u001b[0mnames\u001b[0m\u001b[0;34m,\u001b[0m \u001b[0mdtype\u001b[0m\u001b[0;34m,\u001b[0m \u001b[0mn_cols\u001b[0m\u001b[0;34m,\u001b[0m \u001b[0mcopy\u001b[0m\u001b[0;34m)\u001b[0m\u001b[0;34m\u001b[0m\u001b[0;34m\u001b[0m\u001b[0m\n\u001b[0m\u001b[1;32m    876\u001b[0m \u001b[0;34m\u001b[0m\u001b[0m\n\u001b[1;32m    877\u001b[0m         \u001b[0;31m# Set table meta.  If copy=True then deepcopy meta otherwise use the\u001b[0m\u001b[0;34m\u001b[0m\u001b[0;34m\u001b[0m\u001b[0;34m\u001b[0m\u001b[0m\n",
      "\u001b[0;32m~/opt/anaconda3/lib/python3.8/site-packages/astropy/table/table.py\u001b[0m in \u001b[0;36m_init_from_list\u001b[0;34m(self, data, names, dtype, n_cols, copy)\u001b[0m\n\u001b[1;32m   1242\u001b[0m             \u001b[0mcols\u001b[0m\u001b[0;34m.\u001b[0m\u001b[0mappend\u001b[0m\u001b[0;34m(\u001b[0m\u001b[0mcol\u001b[0m\u001b[0;34m)\u001b[0m\u001b[0;34m\u001b[0m\u001b[0;34m\u001b[0m\u001b[0m\n\u001b[1;32m   1243\u001b[0m \u001b[0;34m\u001b[0m\u001b[0m\n\u001b[0;32m-> 1244\u001b[0;31m         \u001b[0mself\u001b[0m\u001b[0;34m.\u001b[0m\u001b[0m_init_from_cols\u001b[0m\u001b[0;34m(\u001b[0m\u001b[0mcols\u001b[0m\u001b[0;34m)\u001b[0m\u001b[0;34m\u001b[0m\u001b[0;34m\u001b[0m\u001b[0m\n\u001b[0m\u001b[1;32m   1245\u001b[0m \u001b[0;34m\u001b[0m\u001b[0m\n\u001b[1;32m   1246\u001b[0m     def _convert_data_to_col(\n",
      "\u001b[0;32m~/opt/anaconda3/lib/python3.8/site-packages/astropy/table/table.py\u001b[0m in \u001b[0;36m_init_from_cols\u001b[0;34m(self, cols)\u001b[0m\n\u001b[1;32m   1469\u001b[0m         \u001b[0mlengths\u001b[0m \u001b[0;34m=\u001b[0m \u001b[0;34m{\u001b[0m\u001b[0mlen\u001b[0m\u001b[0;34m(\u001b[0m\u001b[0mcol\u001b[0m\u001b[0;34m)\u001b[0m \u001b[0;32mfor\u001b[0m \u001b[0mcol\u001b[0m \u001b[0;32min\u001b[0m \u001b[0mcols\u001b[0m\u001b[0;34m}\u001b[0m\u001b[0;34m\u001b[0m\u001b[0;34m\u001b[0m\u001b[0m\n\u001b[1;32m   1470\u001b[0m         \u001b[0;32mif\u001b[0m \u001b[0mlen\u001b[0m\u001b[0;34m(\u001b[0m\u001b[0mlengths\u001b[0m\u001b[0;34m)\u001b[0m \u001b[0;34m>\u001b[0m \u001b[0;36m1\u001b[0m\u001b[0;34m:\u001b[0m\u001b[0;34m\u001b[0m\u001b[0;34m\u001b[0m\u001b[0m\n\u001b[0;32m-> 1471\u001b[0;31m             \u001b[0;32mraise\u001b[0m \u001b[0mValueError\u001b[0m\u001b[0;34m(\u001b[0m\u001b[0;34mf\"Inconsistent data column lengths: {lengths}\"\u001b[0m\u001b[0;34m)\u001b[0m\u001b[0;34m\u001b[0m\u001b[0;34m\u001b[0m\u001b[0m\n\u001b[0m\u001b[1;32m   1472\u001b[0m \u001b[0;34m\u001b[0m\u001b[0m\n\u001b[1;32m   1473\u001b[0m         \u001b[0;31m# Make sure that all Column-based objects have correct class.  For\u001b[0m\u001b[0;34m\u001b[0m\u001b[0;34m\u001b[0m\u001b[0;34m\u001b[0m\u001b[0m\n",
      "\u001b[0;31mValueError\u001b[0m: Inconsistent data column lengths: {25000, 65}"
     ]
    }
   ],
   "source": [
    "#des_dr2\n",
    "new_table1 = QTable([ra2, dec2, ran2],\n",
    "             names=(\"ra\", \"dec\", \"random_id\"),\n",
    "             meta={\"name\":\"des_dr2_v3\"})"
   ]
  },
  {
   "cell_type": "code",
   "execution_count": null,
   "id": "2d593a6c",
   "metadata": {},
   "outputs": [],
   "source": [
    "t = QTable(\n",
    "    [ra, dec, name, parallax],\n",
    "    names=(\"ra\", \"dec\", \"name\", \"parallax\"),\n",
    "    meta={\"name\": \"my sample table\"},\n",
    ")"
   ]
  },
  {
   "cell_type": "code",
   "execution_count": 40,
   "id": "acce531f",
   "metadata": {},
   "outputs": [],
   "source": [
    "#aladin.add_table(new_table1,name='des_dr2_v2')\n",
    "aladin.add_table(new_table1)"
   ]
  },
  {
   "cell_type": "code",
   "execution_count": 33,
   "id": "61e0d0be",
   "metadata": {},
   "outputs": [
    {
     "data": {
      "text/plain": [
       "array([357.428715,   5.969949,  22.207492, ...,  84.363729,  88.931305,\n",
       "        88.376329])"
      ]
     },
     "execution_count": 33,
     "metadata": {},
     "output_type": "execute_result"
    }
   ],
   "source": [
    "#Aladin?\n",
    "ra1"
   ]
  },
  {
   "cell_type": "code",
   "execution_count": 42,
   "id": "a27536cd",
   "metadata": {},
   "outputs": [
    {
     "data": {
      "text/plain": [
       "357.428715"
      ]
     },
     "execution_count": 42,
     "metadata": {},
     "output_type": "execute_result"
    }
   ],
   "source": [
    "ra2[0]"
   ]
  },
  {
   "cell_type": "code",
   "execution_count": 44,
   "id": "4b98d471",
   "metadata": {},
   "outputs": [],
   "source": [
    "#des_dr2\n",
    "test_table = QTable([ra2[:3], dec2[:3], ['one','two','three']],\n",
    "             names=(\"ra\", \"dec\", \"name\"),\n",
    "             meta={\"name\":\"test\"})"
   ]
  },
  {
   "cell_type": "code",
   "execution_count": 46,
   "id": "1ba00ce1",
   "metadata": {},
   "outputs": [],
   "source": [
    "aladin.add_table(test_table,name='test_table')"
   ]
  },
  {
   "cell_type": "code",
   "execution_count": null,
   "id": "585705ca",
   "metadata": {},
   "outputs": [],
   "source": []
  }
 ],
 "metadata": {
  "kernelspec": {
   "display_name": "Python 3",
   "language": "python",
   "name": "python3"
  },
  "language_info": {
   "codemirror_mode": {
    "name": "ipython",
    "version": 3
   },
   "file_extension": ".py",
   "mimetype": "text/x-python",
   "name": "python",
   "nbconvert_exporter": "python",
   "pygments_lexer": "ipython3",
   "version": "3.8.8"
  }
 },
 "nbformat": 4,
 "nbformat_minor": 5
}
