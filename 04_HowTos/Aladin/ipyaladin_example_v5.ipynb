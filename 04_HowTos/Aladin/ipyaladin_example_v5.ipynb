{
 "cells": [
  {
   "cell_type": "markdown",
   "id": "4991aa6d-3159-45b4-bf5e-ecac3005b3d8",
   "metadata": {},
   "source": [
    "# This version of the notebook will include the new features introduced in ipyaladin v0.5.2.\n",
    "\n",
    "To Do:\n",
    "- [] Remove some data sets from this example\n",
    "- [] Add image cutouts from the DL image cutout tool\n",
    "- [] Import dataset from DL to overplot on Aladin"
   ]
  },
  {
   "cell_type": "code",
   "execution_count": 1,
   "id": "f03a30fa-d2e5-4382-899c-d8972bad4322",
   "metadata": {
    "execution": {
     "iopub.execute_input": "2025-02-05T18:05:14.211279Z",
     "iopub.status.busy": "2025-02-05T18:05:14.210806Z",
     "iopub.status.idle": "2025-02-05T18:05:14.220518Z",
     "shell.execute_reply": "2025-02-05T18:05:14.219709Z",
     "shell.execute_reply.started": "2025-02-05T18:05:14.211256Z"
    }
   },
   "outputs": [],
   "source": [
    "__author__ = 'Brian Merino <brian.merino@noirlab.edu>'\n",
    "__version__ = '2024' # yyyymmdd; version datestamp of this notebook\n",
    "__keywords__ = ['Aladin','smash','des','delve']"
   ]
  },
  {
   "cell_type": "markdown",
   "id": "52f7270b-7f06-420c-940c-78abf9c1babd",
   "metadata": {},
   "source": [
    "# Displaying MOCs and HiPs in Aladin Lite v3"
   ]
  },
  {
   "cell_type": "markdown",
   "id": "f23526e2-41cc-46c9-b03e-7ebffb32697a",
   "metadata": {},
   "source": [
    "## Table of contents\n",
    "* [Goals](#goals)\n",
    "* [Summary](#summary)\n",
    "* [Disclaimers and attribution](#disclaimer)\n",
    "* [Imports and setup](#imports)\n",
    "* [Create MOCs](#Create_MOCs)\n",
    "* [About the dataset](#About)\n",
    "* [Downloading data for reduction](#Downloading_Data)\n",
    "* [Set up the DRAGONS logger](#DRAGONS_logger)\n",
    "* [Create File Lists](#File_Lists)\n",
    "* [Create Master Dark](#Master_dark)\n",
    "* [Create Bad Pixel Mask](#BPM)\n",
    "* [Create Master Flat Field](#Master_Flat)\n",
    "* [Reduce Science Images](#Reduce_Science)\n",
    "* [Display stacked final image](#Display_Image)\n",
    "* [Clean-up (optional)](#Clean-up)\n",
    "\n",
    "<a class=\"anchor\" id=\"goals\"></a>\n",
    "# Goals\n",
    "Showcase how to create Multi-Order Coverage maps (MOCs) and Hierarchical Progressive Surveys (HiPS) and display them on the Aladin Lite viewer.\n",
    "\n",
    "The steps include downloading data from the Astro DataLab's data explorer, turning the data into MOCs and HiPs files, establish a local instance of the Aladin Lite viewer, and finally, display the files and explorer Aladin.\n",
    "\n",
    "\n",
    "<a class=\"anchor\" id=\"summary\"></a>\n",
    "# Summary\n",
    "Aladin Lite is an interactable sky atlas that runs in your browser. \n",
    "\n",
    "Aladin makes it possible to explore the sky and has built in functionality that makes it possible to overlay images onto the map and identify objects included in databases. \n",
    "\n",
    "HiPS catalogs make it possible to see the locations of objects on the sky while MOCs display the footprints of surveys. MOCs make it possible to visualize overlaps in various surveys.\n",
    "\n",
    "This notebook will demonstrate how to create and overlay several MOC files onto Aladin which would help identify overlapping datasets. It could also assist in preparing for a telescope proposal as you would be able to see whether or not any of the datasets hosted by the datalab contain the source of interest. \n",
    "\n",
    "In addition to MOCs, this notebook will also generate and display HiPs catlogs. While MOCs visualize survey footprints, HiPS will identify individual sources and provide information about each source when you place your curser over their points on Aladin. \n",
    "\n",
    "\n",
    "<a class=\"anchor\" id=\"disclaimer\"></a>\n",
    "# Disclaimer & attribution\n",
    "If you use this notebook for your published science, please acknowledge the following:\n",
    "\n",
    "* Data Lab concept paper: Fitzpatrick et al., <a href=\"http://dx.doi.org/10.1117/12.2057445\">\"The NOAO Data Laboratory: a conceptual overview\"</a>, SPIE, 9149, 2014\n",
    "\n",
    "* <a href=\"https://datalab.noirlab.edu/disclaimers.php\">Data Lab disclaimer</a>\n",
    "\n",
    "* DRAGONS publication: Labrie et al., <a href=\"https://ui.adsabs.harvard.edu/abs/2019ASPC..523..321L/abstract\">\"DRAGONS - Data Reduction for Astronomy from Gemini Observatory North and South\"</a>, ASPC, 523, 321L \n",
    "\n",
    "* <a href=\"https://zenodo.org/record/7776065#.ZDg5qOzMLUI\">DRAGONS open source software publication</a>"
   ]
  },
  {
   "cell_type": "markdown",
   "id": "cb539c88-6892-4c9b-b773-f447ea47ba54",
   "metadata": {},
   "source": [
    "<a class=\"anchor\" id=\"imports\"></a>\n",
    "# Imports and setup\n",
    "\n",
    "This is the setup that is required to use the query client. The first thing to do is import the relevant Python modules."
   ]
  },
  {
   "cell_type": "code",
   "execution_count": 2,
   "id": "43d3bc20-455a-4f0b-b1c2-23ab24c70f27",
   "metadata": {
    "execution": {
     "iopub.execute_input": "2025-02-05T18:05:14.222125Z",
     "iopub.status.busy": "2025-02-05T18:05:14.221782Z",
     "iopub.status.idle": "2025-02-05T18:05:16.118983Z",
     "shell.execute_reply": "2025-02-05T18:05:16.118154Z",
     "shell.execute_reply.started": "2025-02-05T18:05:14.222106Z"
    },
    "scrolled": true
   },
   "outputs": [
    {
     "name": "stdout",
     "output_type": "stream",
     "text": [
      "Defaulting to user installation because normal site-packages is not writeable\n",
      "Requirement already satisfied: ipyaladin in ./.local/lib/python3.10/site-packages (0.5.2)\n",
      "Requirement already satisfied: mocpy in ./.local/lib/python3.10/site-packages (0.17.1)\n",
      "Requirement already satisfied: anywidget in ./.local/lib/python3.10/site-packages (from ipyaladin) (0.9.13)\n",
      "Requirement already satisfied: astropy in /data0/sw/anaconda3/lib/python3.10/site-packages (from ipyaladin) (5.3.4)\n",
      "Requirement already satisfied: numpy in /data0/sw/anaconda3/lib/python3.10/site-packages (from mocpy) (1.26.1)\n",
      "Requirement already satisfied: matplotlib in /data0/sw/anaconda3/lib/python3.10/site-packages (from mocpy) (3.8.3)\n",
      "Requirement already satisfied: cdshealpix>=0.6.4 in ./.local/lib/python3.10/site-packages (from mocpy) (0.6.5)\n",
      "Requirement already satisfied: networkx>=2.5 in /data0/sw/anaconda3/lib/python3.10/site-packages (from mocpy) (3.2.1)\n",
      "Requirement already satisfied: ipywidgets>=7.6.0 in /data0/sw/anaconda3/lib/python3.10/site-packages (from anywidget->ipyaladin) (8.1.2)\n",
      "Requirement already satisfied: psygnal>=0.8.1 in ./.local/lib/python3.10/site-packages (from anywidget->ipyaladin) (0.11.1)\n",
      "Requirement already satisfied: typing-extensions>=4.2.0 in /data0/sw/anaconda3/lib/python3.10/site-packages (from anywidget->ipyaladin) (4.10.0)\n",
      "Requirement already satisfied: pyerfa>=2.0 in /data0/sw/anaconda3/lib/python3.10/site-packages (from astropy->ipyaladin) (2.0.1.1)\n",
      "Requirement already satisfied: PyYAML>=3.13 in /data0/sw/anaconda3/lib/python3.10/site-packages (from astropy->ipyaladin) (6.0.1)\n",
      "Requirement already satisfied: packaging>=19.0 in /data0/sw/anaconda3/lib/python3.10/site-packages (from astropy->ipyaladin) (24.0)\n",
      "Requirement already satisfied: contourpy>=1.0.1 in /data0/sw/anaconda3/lib/python3.10/site-packages (from matplotlib->mocpy) (1.2.0)\n",
      "Requirement already satisfied: cycler>=0.10 in /data0/sw/anaconda3/lib/python3.10/site-packages (from matplotlib->mocpy) (0.12.1)\n",
      "Requirement already satisfied: fonttools>=4.22.0 in /data0/sw/anaconda3/lib/python3.10/site-packages (from matplotlib->mocpy) (4.50.0)\n",
      "Requirement already satisfied: kiwisolver>=1.3.1 in /data0/sw/anaconda3/lib/python3.10/site-packages (from matplotlib->mocpy) (1.4.5)\n",
      "Requirement already satisfied: pillow>=8 in /data0/sw/anaconda3/lib/python3.10/site-packages (from matplotlib->mocpy) (10.3.0)\n",
      "Requirement already satisfied: pyparsing>=2.3.1 in /data0/sw/anaconda3/lib/python3.10/site-packages (from matplotlib->mocpy) (3.1.2)\n",
      "Requirement already satisfied: python-dateutil>=2.7 in /data0/sw/anaconda3/lib/python3.10/site-packages (from matplotlib->mocpy) (2.8.2)\n",
      "Requirement already satisfied: comm>=0.1.3 in /data0/sw/anaconda3/lib/python3.10/site-packages (from ipywidgets>=7.6.0->anywidget->ipyaladin) (0.2.2)\n",
      "Requirement already satisfied: ipython>=6.1.0 in /data0/sw/anaconda3/lib/python3.10/site-packages (from ipywidgets>=7.6.0->anywidget->ipyaladin) (8.21.0)\n",
      "Requirement already satisfied: traitlets>=4.3.1 in /data0/sw/anaconda3/lib/python3.10/site-packages (from ipywidgets>=7.6.0->anywidget->ipyaladin) (5.9.0)\n",
      "Requirement already satisfied: widgetsnbextension~=4.0.10 in /data0/sw/anaconda3/lib/python3.10/site-packages (from ipywidgets>=7.6.0->anywidget->ipyaladin) (4.0.10)\n",
      "Requirement already satisfied: jupyterlab-widgets~=3.0.10 in /data0/sw/anaconda3/lib/python3.10/site-packages (from ipywidgets>=7.6.0->anywidget->ipyaladin) (3.0.10)\n",
      "Requirement already satisfied: six>=1.5 in /data0/sw/anaconda3/lib/python3.10/site-packages (from python-dateutil>=2.7->matplotlib->mocpy) (1.16.0)\n",
      "Requirement already satisfied: decorator in /data0/sw/anaconda3/lib/python3.10/site-packages (from ipython>=6.1.0->ipywidgets>=7.6.0->anywidget->ipyaladin) (5.1.1)\n",
      "Requirement already satisfied: jedi>=0.16 in /data0/sw/anaconda3/lib/python3.10/site-packages (from ipython>=6.1.0->ipywidgets>=7.6.0->anywidget->ipyaladin) (0.19.1)\n",
      "Requirement already satisfied: matplotlib-inline in /data0/sw/anaconda3/lib/python3.10/site-packages (from ipython>=6.1.0->ipywidgets>=7.6.0->anywidget->ipyaladin) (0.1.6)\n",
      "Requirement already satisfied: prompt-toolkit<3.1.0,>=3.0.41 in /data0/sw/anaconda3/lib/python3.10/site-packages (from ipython>=6.1.0->ipywidgets>=7.6.0->anywidget->ipyaladin) (3.0.43)\n",
      "Requirement already satisfied: pygments>=2.4.0 in /data0/sw/anaconda3/lib/python3.10/site-packages (from ipython>=6.1.0->ipywidgets>=7.6.0->anywidget->ipyaladin) (2.17.2)\n",
      "Requirement already satisfied: stack-data in /data0/sw/anaconda3/lib/python3.10/site-packages (from ipython>=6.1.0->ipywidgets>=7.6.0->anywidget->ipyaladin) (0.6.3)\n",
      "Requirement already satisfied: exceptiongroup in /data0/sw/anaconda3/lib/python3.10/site-packages (from ipython>=6.1.0->ipywidgets>=7.6.0->anywidget->ipyaladin) (1.2.0)\n",
      "Requirement already satisfied: pexpect>4.3 in /data0/sw/anaconda3/lib/python3.10/site-packages (from ipython>=6.1.0->ipywidgets>=7.6.0->anywidget->ipyaladin) (4.9.0)\n",
      "Requirement already satisfied: parso<0.9.0,>=0.8.3 in /data0/sw/anaconda3/lib/python3.10/site-packages (from jedi>=0.16->ipython>=6.1.0->ipywidgets>=7.6.0->anywidget->ipyaladin) (0.8.3)\n",
      "Requirement already satisfied: ptyprocess>=0.5 in /data0/sw/anaconda3/lib/python3.10/site-packages (from pexpect>4.3->ipython>=6.1.0->ipywidgets>=7.6.0->anywidget->ipyaladin) (0.7.0)\n",
      "Requirement already satisfied: wcwidth in /data0/sw/anaconda3/lib/python3.10/site-packages (from prompt-toolkit<3.1.0,>=3.0.41->ipython>=6.1.0->ipywidgets>=7.6.0->anywidget->ipyaladin) (0.2.13)\n",
      "Requirement already satisfied: executing>=1.2.0 in /data0/sw/anaconda3/lib/python3.10/site-packages (from stack-data->ipython>=6.1.0->ipywidgets>=7.6.0->anywidget->ipyaladin) (2.0.1)\n",
      "Requirement already satisfied: asttokens>=2.1.0 in /data0/sw/anaconda3/lib/python3.10/site-packages (from stack-data->ipython>=6.1.0->ipywidgets>=7.6.0->anywidget->ipyaladin) (2.4.1)\n",
      "Requirement already satisfied: pure-eval in /data0/sw/anaconda3/lib/python3.10/site-packages (from stack-data->ipython>=6.1.0->ipywidgets>=7.6.0->anywidget->ipyaladin) (0.2.2)\n",
      "\n",
      "\u001b[1m[\u001b[0m\u001b[34;49mnotice\u001b[0m\u001b[1;39;49m]\u001b[0m\u001b[39;49m A new release of pip is available: \u001b[0m\u001b[31;49m24.2\u001b[0m\u001b[39;49m -> \u001b[0m\u001b[32;49m25.0\u001b[0m\n",
      "\u001b[1m[\u001b[0m\u001b[34;49mnotice\u001b[0m\u001b[1;39;49m]\u001b[0m\u001b[39;49m To update, run: \u001b[0m\u001b[32;49mpip install --upgrade pip\u001b[0m\n"
     ]
    }
   ],
   "source": [
    "!pip install ipyaladin mocpy"
   ]
  },
  {
   "cell_type": "code",
   "execution_count": 1,
   "id": "afcdbdd2-0bf4-4335-bbd0-85f684ffb0c9",
   "metadata": {
    "execution": {
     "iopub.execute_input": "2025-02-06T18:33:42.966104Z",
     "iopub.status.busy": "2025-02-06T18:33:42.965784Z",
     "iopub.status.idle": "2025-02-06T18:33:45.281679Z",
     "shell.execute_reply": "2025-02-06T18:33:45.280521Z",
     "shell.execute_reply.started": "2025-02-06T18:33:42.966076Z"
    }
   },
   "outputs": [],
   "source": [
    "# Standard lib\n",
    "from getpass import getpass\n",
    "\n",
    "# Data Lab\n",
    "from dl import authClient as ac, queryClient as qc, storeClient as sc\n",
    "from dl.helpers.utils import convert\n",
    "\n",
    "import astropy.units as u\n",
    "from astropy.visualization.wcsaxes.frame import EllipticalFrame\n",
    "from astropy.wcs import WCS\n",
    "from astropy.table import Table\n",
    "from astropy.table import QTable\n",
    "\n",
    "import matplotlib.pyplot as plt\n",
    "import matplotlib.patches as mpatches\n",
    "\n",
    "from mocpy import MOC\n",
    "\n",
    "from ipyaladin import Aladin"
   ]
  },
  {
   "cell_type": "code",
   "execution_count": 2,
   "id": "dc1266e4-eff5-4d19-a42a-25d53d8d6c1f",
   "metadata": {
    "execution": {
     "iopub.execute_input": "2025-02-06T18:33:45.284353Z",
     "iopub.status.busy": "2025-02-06T18:33:45.283454Z",
     "iopub.status.idle": "2025-02-06T18:33:45.500201Z",
     "shell.execute_reply": "2025-02-06T18:33:45.499117Z",
     "shell.execute_reply.started": "2025-02-06T18:33:45.284325Z"
    }
   },
   "outputs": [],
   "source": [
    "import warnings  \n",
    "from astropy.utils.exceptions import AstropyWarning\n",
    "warnings.simplefilter('ignore', category=AstropyWarning) # to quiet Astropy warnings\n",
    "\n",
    "import numpy as np\n",
    "from numpy.core.defchararray import startswith\n",
    "\n",
    "from pyvo.dal import sia\n",
    "from astropy.utils.data import download_file\n",
    "from astropy.io import fits\n",
    "from astropy.visualization import make_lupton_rgb\n",
    "\n",
    "%matplotlib inline"
   ]
  },
  {
   "cell_type": "code",
   "execution_count": 3,
   "id": "542f7b84-4711-4d33-8f2f-1eac7347c7b0",
   "metadata": {
    "execution": {
     "iopub.execute_input": "2025-02-06T18:33:47.485905Z",
     "iopub.status.busy": "2025-02-06T18:33:47.485561Z",
     "iopub.status.idle": "2025-02-06T18:33:47.490691Z",
     "shell.execute_reply": "2025-02-06T18:33:47.489912Z",
     "shell.execute_reply.started": "2025-02-06T18:33:47.485883Z"
    }
   },
   "outputs": [
    {
     "name": "stdout",
     "output_type": "stream",
     "text": [
      "version: 0.5.2 running Aladin Lite: 3.5.1-beta\n"
     ]
    }
   ],
   "source": [
    "#If this cell does not print out \n",
    "#'version: 0.5.2 running Aladin Lite: 3.5.1-beta' \n",
    "\n",
    "from ipyaladin import __version__, __aladin_lite_version__\n",
    "print(\"version:\", __version__, \"running Aladin Lite:\", __aladin_lite_version__)"
   ]
  },
  {
   "cell_type": "code",
   "execution_count": 4,
   "id": "5a3cf83f-56af-449c-b2e2-90191465ed03",
   "metadata": {
    "execution": {
     "iopub.execute_input": "2025-02-06T18:33:50.268647Z",
     "iopub.status.busy": "2025-02-06T18:33:50.267980Z",
     "iopub.status.idle": "2025-02-06T18:33:50.273900Z",
     "shell.execute_reply": "2025-02-06T18:33:50.273248Z",
     "shell.execute_reply.started": "2025-02-06T18:33:50.268613Z"
    }
   },
   "outputs": [],
   "source": [
    "from sidecar import Sidecar"
   ]
  },
  {
   "cell_type": "code",
   "execution_count": 5,
   "id": "5cecb0e5-66ea-43ac-9d02-a8d68963b1b1",
   "metadata": {
    "execution": {
     "iopub.execute_input": "2025-02-06T18:33:50.454055Z",
     "iopub.status.busy": "2025-02-06T18:33:50.453490Z",
     "iopub.status.idle": "2025-02-06T18:33:50.491553Z",
     "shell.execute_reply": "2025-02-06T18:33:50.490573Z",
     "shell.execute_reply.started": "2025-02-06T18:33:50.454024Z"
    }
   },
   "outputs": [],
   "source": [
    "aladin = Aladin()\n",
    "with Sidecar(title='aladin_output'):\n",
    "    display(aladin)"
   ]
  },
  {
   "cell_type": "code",
   "execution_count": 6,
   "id": "5ab4e058-1d04-432f-b4a2-399615cc3598",
   "metadata": {
    "execution": {
     "iopub.execute_input": "2025-02-06T18:33:50.747499Z",
     "iopub.status.busy": "2025-02-06T18:33:50.746863Z",
     "iopub.status.idle": "2025-02-06T18:33:50.765227Z",
     "shell.execute_reply": "2025-02-06T18:33:50.764578Z",
     "shell.execute_reply.started": "2025-02-06T18:33:50.747462Z"
    }
   },
   "outputs": [],
   "source": [
    "aladin.target = \"M1\""
   ]
  },
  {
   "cell_type": "code",
   "execution_count": 7,
   "id": "1faf7f42-d28d-469c-96b1-498f9eb92731",
   "metadata": {
    "execution": {
     "iopub.execute_input": "2025-02-06T18:33:51.017925Z",
     "iopub.status.busy": "2025-02-06T18:33:51.017372Z",
     "iopub.status.idle": "2025-02-06T18:33:51.021327Z",
     "shell.execute_reply": "2025-02-06T18:33:51.020499Z",
     "shell.execute_reply.started": "2025-02-06T18:33:51.017902Z"
    }
   },
   "outputs": [],
   "source": [
    "# # Images from the Sloan Digital Sky Survey DR9\n",
    "# DEF_ACCESS_URL = \"https://datalab.noirlab.edu/sia/sdss_dr9\"\n",
    "# svc_sdss_dr9 = sia.SIAService(DEF_ACCESS_URL)"
   ]
  },
  {
   "cell_type": "code",
   "execution_count": 8,
   "id": "2a4bb377-8673-451f-b6ba-025c6bef59c5",
   "metadata": {
    "execution": {
     "iopub.execute_input": "2025-02-06T18:33:51.301433Z",
     "iopub.status.busy": "2025-02-06T18:33:51.300895Z",
     "iopub.status.idle": "2025-02-06T18:33:51.304785Z",
     "shell.execute_reply": "2025-02-06T18:33:51.304180Z",
     "shell.execute_reply.started": "2025-02-06T18:33:51.301410Z"
    }
   },
   "outputs": [],
   "source": [
    "# DECam images from Legacy Surveys DR9\n",
    "DEF_ACCESS_URL = \"https://datalab.noirlab.edu/sia/ls_dr9\"\n",
    "svc_ls_dr9 = sia.SIAService(DEF_ACCESS_URL)"
   ]
  },
  {
   "cell_type": "code",
   "execution_count": 9,
   "id": "cdaf2172-a6db-4b03-b7fd-3b016fbf72be",
   "metadata": {
    "execution": {
     "iopub.execute_input": "2025-02-06T18:33:51.684200Z",
     "iopub.status.busy": "2025-02-06T18:33:51.683597Z",
     "iopub.status.idle": "2025-02-06T18:33:51.896451Z",
     "shell.execute_reply": "2025-02-06T18:33:51.895545Z",
     "shell.execute_reply.started": "2025-02-06T18:33:51.684163Z"
    }
   },
   "outputs": [],
   "source": [
    "ra = 159.815 # in degrees\n",
    "dec = -0.655 # in degrees\n",
    "fov = 15 # in degrees\n",
    "\n",
    "#imgTable = svc_sdss_dr9.search((ra,dec), (fov/np.cos(dec*np.pi/180), fov), verbosity=2).to_table()\n",
    "imgTable = svc_ls_dr9.search((ra,dec), (fov/np.cos(dec*np.pi/180), fov), verbosity=2).to_table()"
   ]
  },
  {
   "cell_type": "code",
   "execution_count": 10,
   "id": "928a066b-8642-4045-812b-ca90dc8e0f23",
   "metadata": {
    "execution": {
     "iopub.execute_input": "2025-02-06T18:33:52.672565Z",
     "iopub.status.busy": "2025-02-06T18:33:52.672078Z",
     "iopub.status.idle": "2025-02-06T18:33:52.744023Z",
     "shell.execute_reply": "2025-02-06T18:33:52.743165Z",
     "shell.execute_reply.started": "2025-02-06T18:33:52.672532Z"
    },
    "scrolled": true
   },
   "outputs": [
    {
     "data": {
      "text/html": [
       "<div><i>Table length=39</i>\n",
       "<table id=\"table140627288445072\" class=\"table-striped table-bordered table-condensed\">\n",
       "<thead><tr><th>assoc_id</th><th>access_url</th><th>access_format</th><th>access_estsize</th><th>dataproduct_type</th><th>dataproduct_subtype</th><th>calib_level</th><th>dataset_length</th><th>im_nsubarrays</th><th>im_naxes</th><th>im_naxis</th><th>im_pixtype</th><th>im_wcsaxes</th><th>im_scale</th><th>obs_title</th><th>obs_id</th><th>obs_creator_name</th><th>obs_collection</th><th>obs_creation_type</th><th>obs_creation_date</th><th>facility_name</th><th>instrument_name</th><th>obs_bandpass</th><th>obs_datasource</th><th>proposal_id</th><th>obs_publisher_did</th><th>obs_release_date</th><th>preview</th><th>target_name</th><th>target_class</th><th>s_ra</th><th>s_dec</th><th>s_fov</th><th>s_region</th><th>s_calib_status</th><th>s_resolution</th><th>em_min</th><th>em_max</th><th>em_resolution</th><th>em_res_power</th><th>t_min</th><th>t_max</th><th>t_exptime</th><th>t_resolution</th><th>o_ucd</th><th>o_unit</th><th>pol_states</th><th>object</th><th>airmass</th><th>project_code</th><th>magzero</th><th>prodtype</th><th>seeing</th><th>fwhm</th><th>fileset_id</th><th>exptime</th><th>photflag</th><th>proctype</th><th>date_obs</th><th>mjd_obs</th><th>elliptic</th></tr></thead>\n",
       "<thead><tr><th></th><th></th><th></th><th>bytes</th><th></th><th></th><th></th><th></th><th></th><th></th><th></th><th></th><th></th><th>deg</th><th></th><th></th><th></th><th></th><th></th><th></th><th></th><th></th><th></th><th></th><th></th><th></th><th></th><th></th><th></th><th></th><th>deg</th><th>deg</th><th>deg</th><th>deg</th><th></th><th>arcsec</th><th>m</th><th>m</th><th>m</th><th></th><th>d</th><th>d</th><th>s</th><th>s</th><th></th><th></th><th></th><th></th><th></th><th></th><th></th><th></th><th></th><th></th><th></th><th></th><th></th><th></th><th></th><th></th><th></th></tr></thead>\n",
       "<thead><tr><th>object</th><th>object</th><th>object</th><th>int32</th><th>object</th><th>object</th><th>int64</th><th>int64</th><th>int32</th><th>int32</th><th>object</th><th>object</th><th>object</th><th>object</th><th>object</th><th>object</th><th>object</th><th>object</th><th>object</th><th>object</th><th>str1</th><th>object</th><th>object</th><th>object</th><th>object</th><th>object</th><th>object</th><th>object</th><th>object</th><th>object</th><th>float64</th><th>float64</th><th>float64</th><th>object</th><th>object</th><th>float64</th><th>float64</th><th>float64</th><th>float64</th><th>float64</th><th>float64</th><th>float64</th><th>float64</th><th>float64</th><th>object</th><th>object</th><th>object</th><th>object</th><th>object</th><th>object</th><th>object</th><th>object</th><th>object</th><th>object</th><th>object</th><th>object</th><th>object</th><th>object</th><th>object</th><th>object</th><th>object</th></tr></thead>\n",
       "<tr><td>ls_dr9</td><td>https://datalab.noirlab.edu/svc/cutout?col=ls_dr9&amp;siaRef=legacysurvey-1598m007-blobmodel-g.fits.fz&amp;extn=1&amp;POS=159.815,-0.655&amp;SIZE=15.000980217040144,15.0</td><td>image/fits</td><td>50639</td><td></td><td></td><td>3</td><td>0</td><td>0</td><td>0</td><td>[]</td><td></td><td></td><td>[0.26193]</td><td></td><td>ls_dr9</td><td></td><td>DECaLS DR9</td><td>archival</td><td></td><td></td><td>DECam</td><td>g</td><td></td><td></td><td>ivo://datalab.noirlab/vo#ivoa_ls_dr9.siav1:ivo://datalab.noao/ls_dr9/legacysurvey-1598m007-blobmodel-g.fits.fz</td><td></td><td>https://datalab.noirlab.edu/svc/cutout?col=ls_dr9&amp;siaRef=legacysurvey-1598m007-blobmodel-g.fits.fz&amp;extn=1&amp;POS=159.815,-0.655&amp;SIZE=15.000980217040144,15.0&amp;preview=true</td><td></td><td></td><td>159.875</td><td>-0.749998</td><td>--</td><td></td><td></td><td>--</td><td>3960.0</td><td>5480.0</td><td>--</td><td>--</td><td>--</td><td>--</td><td>--</td><td>--</td><td></td><td></td><td></td><td></td><td>0</td><td>DECaLS DR9</td><td>22.5</td><td>blobmodel</td><td>0</td><td>0</td><td></td><td>0</td><td></td><td>Stack</td><td>2014-12-30T08:20:51.181</td><td></td><td>0</td></tr>\n",
       "<tr><td>ls_dr9</td><td>https://datalab.noirlab.edu/svc/cutout?col=ls_dr9&amp;siaRef=legacysurvey-1598m007-blobmodel-z.fits.fz&amp;extn=1&amp;POS=159.815,-0.655&amp;SIZE=15.000980217040144,15.0</td><td>image/fits</td><td>50639</td><td></td><td></td><td>3</td><td>0</td><td>0</td><td>0</td><td>[]</td><td></td><td></td><td>[0.26193]</td><td></td><td>ls_dr9</td><td></td><td>DECaLS DR9</td><td>archival</td><td></td><td></td><td>DECam</td><td>z</td><td></td><td></td><td>ivo://datalab.noirlab/vo#ivoa_ls_dr9.siav1:ivo://datalab.noao/ls_dr9/legacysurvey-1598m007-blobmodel-z.fits.fz</td><td></td><td>https://datalab.noirlab.edu/svc/cutout?col=ls_dr9&amp;siaRef=legacysurvey-1598m007-blobmodel-z.fits.fz&amp;extn=1&amp;POS=159.815,-0.655&amp;SIZE=15.000980217040144,15.0&amp;preview=true</td><td></td><td></td><td>159.875</td><td>-0.749998</td><td>--</td><td></td><td></td><td>--</td><td>8500.0</td><td>10020.0</td><td>--</td><td>--</td><td>--</td><td>--</td><td>--</td><td>--</td><td></td><td></td><td></td><td></td><td>0</td><td>DECaLS DR9</td><td>22.5</td><td>blobmodel</td><td>0</td><td>0</td><td></td><td>0</td><td></td><td>Stack</td><td>2014-12-30T08:25:48.461</td><td></td><td>0</td></tr>\n",
       "<tr><td>ls_dr9</td><td>https://datalab.noirlab.edu/svc/cutout?col=ls_dr9&amp;siaRef=legacysurvey-1598m007-chi2-g.fits.fz&amp;extn=1&amp;POS=159.815,-0.655&amp;SIZE=15.000980217040144,15.0</td><td>image/fits</td><td>11351</td><td></td><td></td><td>3</td><td>0</td><td>0</td><td>2</td><td>[3600 3600]</td><td></td><td></td><td>[0.26193]</td><td></td><td>ls_dr9</td><td></td><td>DECaLS DR9</td><td>archival</td><td></td><td></td><td>DECam</td><td>g DECam SDSS c0001 4720.0 1520.0</td><td></td><td></td><td>ivo://datalab.noirlab/vo#ivoa_ls_dr9.siav1:ivo://datalab.noao/ls_dr9/legacysurvey-1598m007-chi2-g.fits.fz</td><td></td><td>https://datalab.noirlab.edu/svc/cutout?col=ls_dr9&amp;siaRef=legacysurvey-1598m007-chi2-g.fits.fz&amp;extn=1&amp;POS=159.815,-0.655&amp;SIZE=15.000980217040144,15.0&amp;preview=true</td><td></td><td></td><td>159.875</td><td>-0.749998</td><td>--</td><td></td><td></td><td>--</td><td>0.0</td><td>0.0</td><td>--</td><td>--</td><td>--</td><td>--</td><td>--</td><td>--</td><td></td><td></td><td></td><td></td><td>0</td><td>DECaLS DR9</td><td>0</td><td>chi2</td><td>0</td><td>0</td><td></td><td>0</td><td></td><td>Stack</td><td></td><td></td><td>0</td></tr>\n",
       "<tr><td>ls_dr9</td><td>https://datalab.noirlab.edu/svc/cutout?col=ls_dr9&amp;siaRef=legacysurvey-1598m007-chi2-r.fits.fz&amp;extn=1&amp;POS=159.815,-0.655&amp;SIZE=15.000980217040144,15.0</td><td>image/fits</td><td>11334</td><td></td><td></td><td>3</td><td>0</td><td>0</td><td>2</td><td>[3600 3600]</td><td></td><td></td><td>[0.26193]</td><td></td><td>ls_dr9</td><td></td><td>DECaLS DR9</td><td>archival</td><td></td><td></td><td>DECam</td><td>r DECam SDSS c0002 6415.0 1480.0</td><td></td><td></td><td>ivo://datalab.noirlab/vo#ivoa_ls_dr9.siav1:ivo://datalab.noao/ls_dr9/legacysurvey-1598m007-chi2-r.fits.fz</td><td></td><td>https://datalab.noirlab.edu/svc/cutout?col=ls_dr9&amp;siaRef=legacysurvey-1598m007-chi2-r.fits.fz&amp;extn=1&amp;POS=159.815,-0.655&amp;SIZE=15.000980217040144,15.0&amp;preview=true</td><td></td><td></td><td>159.875</td><td>-0.749998</td><td>--</td><td></td><td></td><td>--</td><td>0.0</td><td>0.0</td><td>--</td><td>--</td><td>--</td><td>--</td><td>--</td><td>--</td><td></td><td></td><td></td><td></td><td>0</td><td>DECaLS DR9</td><td>0</td><td>chi2</td><td>0</td><td>0</td><td></td><td>0</td><td></td><td>Stack</td><td></td><td></td><td>0</td></tr>\n",
       "<tr><td>ls_dr9</td><td>https://datalab.noirlab.edu/svc/cutout?col=ls_dr9&amp;siaRef=legacysurvey-1598m007-chi2-z.fits.fz&amp;extn=1&amp;POS=159.815,-0.655&amp;SIZE=15.000980217040144,15.0</td><td>image/fits</td><td>11570</td><td></td><td></td><td>3</td><td>0</td><td>0</td><td>2</td><td>[3600 3600]</td><td></td><td></td><td>[0.26193]</td><td></td><td>ls_dr9</td><td></td><td>DECaLS DR9</td><td>archival</td><td></td><td></td><td>DECam</td><td>z DECam SDSS c0004 9260.0 1520.0</td><td></td><td></td><td>ivo://datalab.noirlab/vo#ivoa_ls_dr9.siav1:ivo://datalab.noao/ls_dr9/legacysurvey-1598m007-chi2-z.fits.fz</td><td></td><td>https://datalab.noirlab.edu/svc/cutout?col=ls_dr9&amp;siaRef=legacysurvey-1598m007-chi2-z.fits.fz&amp;extn=1&amp;POS=159.815,-0.655&amp;SIZE=15.000980217040144,15.0&amp;preview=true</td><td></td><td></td><td>159.875</td><td>-0.749998</td><td>--</td><td></td><td></td><td>--</td><td>0.0</td><td>0.0</td><td>--</td><td>--</td><td>--</td><td>--</td><td>--</td><td>--</td><td></td><td></td><td></td><td></td><td>0</td><td>DECaLS DR9</td><td>0</td><td>chi2</td><td>0</td><td>0</td><td></td><td>0</td><td></td><td>Stack</td><td></td><td></td><td>0</td></tr>\n",
       "<tr><td>ls_dr9</td><td>https://datalab.noirlab.edu/svc/cutout?col=ls_dr9&amp;siaRef=legacysurvey-1598m007-depth-g.fits.fz&amp;extn=1&amp;POS=159.815,-0.655&amp;SIZE=15.000980217040144,15.0</td><td>image/fits</td><td>503</td><td></td><td></td><td>3</td><td>0</td><td>0</td><td>2</td><td>[3600 3600]</td><td></td><td></td><td>[0.26193]</td><td></td><td>ls_dr9</td><td></td><td>DECaLS DR9</td><td>archival</td><td></td><td></td><td>DECam</td><td>g DECam SDSS c0001 4720.0 1520.0</td><td></td><td></td><td>ivo://datalab.noirlab/vo#ivoa_ls_dr9.siav1:ivo://datalab.noao/ls_dr9/legacysurvey-1598m007-depth-g.fits.fz</td><td></td><td>https://datalab.noirlab.edu/svc/cutout?col=ls_dr9&amp;siaRef=legacysurvey-1598m007-depth-g.fits.fz&amp;extn=1&amp;POS=159.815,-0.655&amp;SIZE=15.000980217040144,15.0&amp;preview=true</td><td></td><td></td><td>159.875</td><td>-0.749998</td><td>--</td><td></td><td></td><td>--</td><td>0.0</td><td>0.0</td><td>--</td><td>--</td><td>--</td><td>--</td><td>--</td><td>--</td><td></td><td></td><td></td><td></td><td>0</td><td>DECaLS DR9</td><td>0</td><td>psfdepth</td><td>0</td><td>0</td><td></td><td>0</td><td></td><td>Stack</td><td></td><td></td><td>0</td></tr>\n",
       "<tr><td>ls_dr9</td><td>https://datalab.noirlab.edu/svc/cutout?col=ls_dr9&amp;siaRef=legacysurvey-1598m007-depth-r.fits.fz&amp;extn=1&amp;POS=159.815,-0.655&amp;SIZE=15.000980217040144,15.0</td><td>image/fits</td><td>455</td><td></td><td></td><td>3</td><td>0</td><td>0</td><td>2</td><td>[3600 3600]</td><td></td><td></td><td>[0.26193]</td><td></td><td>ls_dr9</td><td></td><td>DECaLS DR9</td><td>archival</td><td></td><td></td><td>DECam</td><td>r DECam SDSS c0002 6415.0 1480.0</td><td></td><td></td><td>ivo://datalab.noirlab/vo#ivoa_ls_dr9.siav1:ivo://datalab.noao/ls_dr9/legacysurvey-1598m007-depth-r.fits.fz</td><td></td><td>https://datalab.noirlab.edu/svc/cutout?col=ls_dr9&amp;siaRef=legacysurvey-1598m007-depth-r.fits.fz&amp;extn=1&amp;POS=159.815,-0.655&amp;SIZE=15.000980217040144,15.0&amp;preview=true</td><td></td><td></td><td>159.875</td><td>-0.749998</td><td>--</td><td></td><td></td><td>--</td><td>0.0</td><td>0.0</td><td>--</td><td>--</td><td>--</td><td>--</td><td>--</td><td>--</td><td></td><td></td><td></td><td></td><td>0</td><td>DECaLS DR9</td><td>0</td><td>psfdepth</td><td>0</td><td>0</td><td></td><td>0</td><td></td><td>Stack</td><td></td><td></td><td>0</td></tr>\n",
       "<tr><td>ls_dr9</td><td>https://datalab.noirlab.edu/svc/cutout?col=ls_dr9&amp;siaRef=legacysurvey-1598m007-depth-z.fits.fz&amp;extn=1&amp;POS=159.815,-0.655&amp;SIZE=15.000980217040144,15.0</td><td>image/fits</td><td>582</td><td></td><td></td><td>3</td><td>0</td><td>0</td><td>2</td><td>[3600 3600]</td><td></td><td></td><td>[0.26193]</td><td></td><td>ls_dr9</td><td></td><td>DECaLS DR9</td><td>archival</td><td></td><td></td><td>DECam</td><td>z DECam SDSS c0004 9260.0 1520.0</td><td></td><td></td><td>ivo://datalab.noirlab/vo#ivoa_ls_dr9.siav1:ivo://datalab.noao/ls_dr9/legacysurvey-1598m007-depth-z.fits.fz</td><td></td><td>https://datalab.noirlab.edu/svc/cutout?col=ls_dr9&amp;siaRef=legacysurvey-1598m007-depth-z.fits.fz&amp;extn=1&amp;POS=159.815,-0.655&amp;SIZE=15.000980217040144,15.0&amp;preview=true</td><td></td><td></td><td>159.875</td><td>-0.749998</td><td>--</td><td></td><td></td><td>--</td><td>0.0</td><td>0.0</td><td>--</td><td>--</td><td>--</td><td>--</td><td>--</td><td>--</td><td></td><td></td><td></td><td></td><td>0</td><td>DECaLS DR9</td><td>0</td><td>psfdepth</td><td>0</td><td>0</td><td></td><td>0</td><td></td><td>Stack</td><td></td><td></td><td>0</td></tr>\n",
       "<tr><td>ls_dr9</td><td>https://datalab.noirlab.edu/svc/cutout?col=ls_dr9&amp;siaRef=legacysurvey-1598m007-galdepth-g.fits.fz&amp;extn=1&amp;POS=159.815,-0.655&amp;SIZE=15.000980217040144,15.0</td><td>image/fits</td><td>503</td><td></td><td></td><td>3</td><td>0</td><td>0</td><td>2</td><td>[3600 3600]</td><td></td><td></td><td>[0.26193]</td><td></td><td>ls_dr9</td><td></td><td>DECaLS DR9</td><td>archival</td><td></td><td></td><td>DECam</td><td>g DECam SDSS c0001 4720.0 1520.0</td><td></td><td></td><td>ivo://datalab.noirlab/vo#ivoa_ls_dr9.siav1:ivo://datalab.noao/ls_dr9/legacysurvey-1598m007-galdepth-g.fits.fz</td><td></td><td>https://datalab.noirlab.edu/svc/cutout?col=ls_dr9&amp;siaRef=legacysurvey-1598m007-galdepth-g.fits.fz&amp;extn=1&amp;POS=159.815,-0.655&amp;SIZE=15.000980217040144,15.0&amp;preview=true</td><td></td><td></td><td>159.875</td><td>-0.749998</td><td>--</td><td></td><td></td><td>--</td><td>0.0</td><td>0.0</td><td>--</td><td>--</td><td>--</td><td>--</td><td>--</td><td>--</td><td></td><td></td><td></td><td></td><td>0</td><td>DECaLS DR9</td><td>0</td><td>galdepth</td><td>0</td><td>0</td><td></td><td>0</td><td></td><td>Stack</td><td></td><td></td><td>0</td></tr>\n",
       "<tr><td>...</td><td>...</td><td>...</td><td>...</td><td>...</td><td>...</td><td>...</td><td>...</td><td>...</td><td>...</td><td>...</td><td>...</td><td>...</td><td>...</td><td>...</td><td>...</td><td>...</td><td>...</td><td>...</td><td>...</td><td>...</td><td>...</td><td>...</td><td>...</td><td>...</td><td>...</td><td>...</td><td>...</td><td>...</td><td>...</td><td>...</td><td>...</td><td>...</td><td>...</td><td>...</td><td>...</td><td>...</td><td>...</td><td>...</td><td>...</td><td>...</td><td>...</td><td>...</td><td>...</td><td>...</td><td>...</td><td>...</td><td>...</td><td>...</td><td>...</td><td>...</td><td>...</td><td>...</td><td>...</td><td>...</td><td>...</td><td>...</td><td>...</td><td>...</td><td>...</td><td>...</td></tr>\n",
       "<tr><td>ls_dr9</td><td>https://datalab.noirlab.edu/svc/cutout?col=ls_dr9&amp;siaRef=legacysurvey-1598m007-model-g.fits.fz&amp;extn=1&amp;POS=159.815,-0.655&amp;SIZE=15.000980217040144,15.0</td><td>image/fits</td><td>3054</td><td></td><td></td><td>3</td><td>0</td><td>0</td><td>2</td><td>[3600 3600]</td><td></td><td></td><td>[0.26193]</td><td></td><td>ls_dr9</td><td></td><td>DECaLS DR9</td><td>archival</td><td></td><td></td><td>DECam</td><td>g DECam SDSS c0001 4720.0 1520.0</td><td></td><td></td><td>ivo://datalab.noirlab/vo#ivoa_ls_dr9.siav1:ivo://datalab.noao/ls_dr9/legacysurvey-1598m007-model-g.fits.fz</td><td></td><td>https://datalab.noirlab.edu/svc/cutout?col=ls_dr9&amp;siaRef=legacysurvey-1598m007-model-g.fits.fz&amp;extn=1&amp;POS=159.815,-0.655&amp;SIZE=15.000980217040144,15.0&amp;preview=true</td><td></td><td></td><td>159.875</td><td>-0.749998</td><td>--</td><td></td><td></td><td>--</td><td>0.0</td><td>0.0</td><td>--</td><td>--</td><td>--</td><td>--</td><td>--</td><td>--</td><td></td><td></td><td></td><td></td><td>0</td><td>DECaLS DR9</td><td>0</td><td>model</td><td>0</td><td>0</td><td></td><td>0</td><td></td><td>Stack</td><td></td><td></td><td>0</td></tr>\n",
       "<tr><td>ls_dr9</td><td>https://datalab.noirlab.edu/svc/cutout?col=ls_dr9&amp;siaRef=legacysurvey-1598m007-model-r.fits.fz&amp;extn=1&amp;POS=159.815,-0.655&amp;SIZE=15.000980217040144,15.0</td><td>image/fits</td><td>3569</td><td></td><td></td><td>3</td><td>0</td><td>0</td><td>2</td><td>[3600 3600]</td><td></td><td></td><td>[0.26193]</td><td></td><td>ls_dr9</td><td></td><td>DECaLS DR9</td><td>archival</td><td></td><td></td><td>DECam</td><td>r DECam SDSS c0002 6415.0 1480.0</td><td></td><td></td><td>ivo://datalab.noirlab/vo#ivoa_ls_dr9.siav1:ivo://datalab.noao/ls_dr9/legacysurvey-1598m007-model-r.fits.fz</td><td></td><td>https://datalab.noirlab.edu/svc/cutout?col=ls_dr9&amp;siaRef=legacysurvey-1598m007-model-r.fits.fz&amp;extn=1&amp;POS=159.815,-0.655&amp;SIZE=15.000980217040144,15.0&amp;preview=true</td><td></td><td></td><td>159.875</td><td>-0.749998</td><td>--</td><td></td><td></td><td>--</td><td>0.0</td><td>0.0</td><td>--</td><td>--</td><td>--</td><td>--</td><td>--</td><td>--</td><td></td><td></td><td></td><td></td><td>0</td><td>DECaLS DR9</td><td>0</td><td>model</td><td>0</td><td>0</td><td></td><td>0</td><td></td><td>Stack</td><td></td><td></td><td>0</td></tr>\n",
       "<tr><td>ls_dr9</td><td>https://datalab.noirlab.edu/svc/cutout?col=ls_dr9&amp;siaRef=legacysurvey-1598m007-model-z.fits.fz&amp;extn=1&amp;POS=159.815,-0.655&amp;SIZE=15.000980217040144,15.0</td><td>image/fits</td><td>4173</td><td></td><td></td><td>3</td><td>0</td><td>0</td><td>2</td><td>[3600 3600]</td><td></td><td></td><td>[0.26193]</td><td></td><td>ls_dr9</td><td></td><td>DECaLS DR9</td><td>archival</td><td></td><td></td><td>DECam</td><td>z DECam SDSS c0004 9260.0 1520.0</td><td></td><td></td><td>ivo://datalab.noirlab/vo#ivoa_ls_dr9.siav1:ivo://datalab.noao/ls_dr9/legacysurvey-1598m007-model-z.fits.fz</td><td></td><td>https://datalab.noirlab.edu/svc/cutout?col=ls_dr9&amp;siaRef=legacysurvey-1598m007-model-z.fits.fz&amp;extn=1&amp;POS=159.815,-0.655&amp;SIZE=15.000980217040144,15.0&amp;preview=true</td><td></td><td></td><td>159.875</td><td>-0.749998</td><td>--</td><td></td><td></td><td>--</td><td>0.0</td><td>0.0</td><td>--</td><td>--</td><td>--</td><td>--</td><td>--</td><td>--</td><td></td><td></td><td></td><td></td><td>0</td><td>DECaLS DR9</td><td>0</td><td>model</td><td>0</td><td>0</td><td></td><td>0</td><td></td><td>Stack</td><td></td><td></td><td>0</td></tr>\n",
       "<tr><td>ls_dr9</td><td>https://datalab.noirlab.edu/svc/cutout?col=ls_dr9&amp;siaRef=legacysurvey-1598m007-nexp-g.fits.fz&amp;extn=1&amp;POS=159.815,-0.655&amp;SIZE=15.000980217040144,15.0</td><td>image/fits</td><td>165</td><td></td><td></td><td>3</td><td>0</td><td>0</td><td>2</td><td>[3600 3600]</td><td></td><td></td><td>[0.26193]</td><td></td><td>ls_dr9</td><td></td><td>DECaLS DR9</td><td>archival</td><td></td><td></td><td>DECam</td><td>g DECam SDSS c0001 4720.0 1520.0</td><td></td><td></td><td>ivo://datalab.noirlab/vo#ivoa_ls_dr9.siav1:ivo://datalab.noao/ls_dr9/legacysurvey-1598m007-nexp-g.fits.fz</td><td></td><td>https://datalab.noirlab.edu/svc/cutout?col=ls_dr9&amp;siaRef=legacysurvey-1598m007-nexp-g.fits.fz&amp;extn=1&amp;POS=159.815,-0.655&amp;SIZE=15.000980217040144,15.0&amp;preview=true</td><td></td><td></td><td>159.875</td><td>-0.749998</td><td>--</td><td></td><td></td><td>--</td><td>0.0</td><td>0.0</td><td>--</td><td>--</td><td>--</td><td>--</td><td>--</td><td>--</td><td></td><td></td><td></td><td></td><td>0</td><td>DECaLS DR9</td><td>0</td><td>expmap</td><td>0</td><td>0</td><td></td><td>0</td><td></td><td>Stack</td><td></td><td></td><td>0</td></tr>\n",
       "<tr><td>ls_dr9</td><td>https://datalab.noirlab.edu/svc/cutout?col=ls_dr9&amp;siaRef=legacysurvey-1598m007-nexp-r.fits.fz&amp;extn=1&amp;POS=159.815,-0.655&amp;SIZE=15.000980217040144,15.0</td><td>image/fits</td><td>140</td><td></td><td></td><td>3</td><td>0</td><td>0</td><td>2</td><td>[3600 3600]</td><td></td><td></td><td>[0.26193]</td><td></td><td>ls_dr9</td><td></td><td>DECaLS DR9</td><td>archival</td><td></td><td></td><td>DECam</td><td>r DECam SDSS c0002 6415.0 1480.0</td><td></td><td></td><td>ivo://datalab.noirlab/vo#ivoa_ls_dr9.siav1:ivo://datalab.noao/ls_dr9/legacysurvey-1598m007-nexp-r.fits.fz</td><td></td><td>https://datalab.noirlab.edu/svc/cutout?col=ls_dr9&amp;siaRef=legacysurvey-1598m007-nexp-r.fits.fz&amp;extn=1&amp;POS=159.815,-0.655&amp;SIZE=15.000980217040144,15.0&amp;preview=true</td><td></td><td></td><td>159.875</td><td>-0.749998</td><td>--</td><td></td><td></td><td>--</td><td>0.0</td><td>0.0</td><td>--</td><td>--</td><td>--</td><td>--</td><td>--</td><td>--</td><td></td><td></td><td></td><td></td><td>0</td><td>DECaLS DR9</td><td>0</td><td>expmap</td><td>0</td><td>0</td><td></td><td>0</td><td></td><td>Stack</td><td></td><td></td><td>0</td></tr>\n",
       "<tr><td>ls_dr9</td><td>https://datalab.noirlab.edu/svc/cutout?col=ls_dr9&amp;siaRef=legacysurvey-1598m007-nexp-z.fits.fz&amp;extn=1&amp;POS=159.815,-0.655&amp;SIZE=15.000980217040144,15.0</td><td>image/fits</td><td>208</td><td></td><td></td><td>3</td><td>0</td><td>0</td><td>2</td><td>[3600 3600]</td><td></td><td></td><td>[0.26193]</td><td></td><td>ls_dr9</td><td></td><td>DECaLS DR9</td><td>archival</td><td></td><td></td><td>DECam</td><td>z DECam SDSS c0004 9260.0 1520.0</td><td></td><td></td><td>ivo://datalab.noirlab/vo#ivoa_ls_dr9.siav1:ivo://datalab.noao/ls_dr9/legacysurvey-1598m007-nexp-z.fits.fz</td><td></td><td>https://datalab.noirlab.edu/svc/cutout?col=ls_dr9&amp;siaRef=legacysurvey-1598m007-nexp-z.fits.fz&amp;extn=1&amp;POS=159.815,-0.655&amp;SIZE=15.000980217040144,15.0&amp;preview=true</td><td></td><td></td><td>159.875</td><td>-0.749998</td><td>--</td><td></td><td></td><td>--</td><td>0.0</td><td>0.0</td><td>--</td><td>--</td><td>--</td><td>--</td><td>--</td><td>--</td><td></td><td></td><td></td><td></td><td>0</td><td>DECaLS DR9</td><td>0</td><td>expmap</td><td>0</td><td>0</td><td></td><td>0</td><td></td><td>Stack</td><td></td><td></td><td>0</td></tr>\n",
       "<tr><td>ls_dr9</td><td>https://datalab.noirlab.edu/svc/cutout?col=ls_dr9&amp;siaRef=legacysurvey-1598m007-psfsize-g.fits.fz&amp;extn=1&amp;POS=159.815,-0.655&amp;SIZE=15.000980217040144,15.0</td><td>image/fits</td><td>388</td><td></td><td></td><td>3</td><td>0</td><td>0</td><td>2</td><td>[3600 3600]</td><td></td><td></td><td>[0.26193]</td><td></td><td>ls_dr9</td><td></td><td>DECaLS DR9</td><td>archival</td><td></td><td></td><td>DECam</td><td>g DECam SDSS c0001 4720.0 1520.0</td><td></td><td></td><td>ivo://datalab.noirlab/vo#ivoa_ls_dr9.siav1:ivo://datalab.noao/ls_dr9/legacysurvey-1598m007-psfsize-g.fits.fz</td><td></td><td>https://datalab.noirlab.edu/svc/cutout?col=ls_dr9&amp;siaRef=legacysurvey-1598m007-psfsize-g.fits.fz&amp;extn=1&amp;POS=159.815,-0.655&amp;SIZE=15.000980217040144,15.0&amp;preview=true</td><td></td><td></td><td>159.875</td><td>-0.749998</td><td>--</td><td></td><td></td><td>--</td><td>0.0</td><td>0.0</td><td>--</td><td>--</td><td>--</td><td>--</td><td>--</td><td>--</td><td></td><td></td><td></td><td></td><td>0</td><td>DECaLS DR9</td><td>0</td><td>psfsize</td><td>0</td><td>0</td><td></td><td>0</td><td></td><td>Stack</td><td></td><td></td><td>0</td></tr>\n",
       "<tr><td>ls_dr9</td><td>https://datalab.noirlab.edu/svc/cutout?col=ls_dr9&amp;siaRef=legacysurvey-1598m007-psfsize-r.fits.fz&amp;extn=1&amp;POS=159.815,-0.655&amp;SIZE=15.000980217040144,15.0</td><td>image/fits</td><td>390</td><td></td><td></td><td>3</td><td>0</td><td>0</td><td>2</td><td>[3600 3600]</td><td></td><td></td><td>[0.26193]</td><td></td><td>ls_dr9</td><td></td><td>DECaLS DR9</td><td>archival</td><td></td><td></td><td>DECam</td><td>r DECam SDSS c0002 6415.0 1480.0</td><td></td><td></td><td>ivo://datalab.noirlab/vo#ivoa_ls_dr9.siav1:ivo://datalab.noao/ls_dr9/legacysurvey-1598m007-psfsize-r.fits.fz</td><td></td><td>https://datalab.noirlab.edu/svc/cutout?col=ls_dr9&amp;siaRef=legacysurvey-1598m007-psfsize-r.fits.fz&amp;extn=1&amp;POS=159.815,-0.655&amp;SIZE=15.000980217040144,15.0&amp;preview=true</td><td></td><td></td><td>159.875</td><td>-0.749998</td><td>--</td><td></td><td></td><td>--</td><td>0.0</td><td>0.0</td><td>--</td><td>--</td><td>--</td><td>--</td><td>--</td><td>--</td><td></td><td></td><td></td><td></td><td>0</td><td>DECaLS DR9</td><td>0</td><td>psfsize</td><td>0</td><td>0</td><td></td><td>0</td><td></td><td>Stack</td><td></td><td></td><td>0</td></tr>\n",
       "<tr><td>ls_dr9</td><td>https://datalab.noirlab.edu/svc/cutout?col=ls_dr9&amp;siaRef=legacysurvey-1598m007-psfsize-z.fits.fz&amp;extn=1&amp;POS=159.815,-0.655&amp;SIZE=15.000980217040144,15.0</td><td>image/fits</td><td>396</td><td></td><td></td><td>3</td><td>0</td><td>0</td><td>2</td><td>[3600 3600]</td><td></td><td></td><td>[0.26193]</td><td></td><td>ls_dr9</td><td></td><td>DECaLS DR9</td><td>archival</td><td></td><td></td><td>DECam</td><td>z DECam SDSS c0004 9260.0 1520.0</td><td></td><td></td><td>ivo://datalab.noirlab/vo#ivoa_ls_dr9.siav1:ivo://datalab.noao/ls_dr9/legacysurvey-1598m007-psfsize-z.fits.fz</td><td></td><td>https://datalab.noirlab.edu/svc/cutout?col=ls_dr9&amp;siaRef=legacysurvey-1598m007-psfsize-z.fits.fz&amp;extn=1&amp;POS=159.815,-0.655&amp;SIZE=15.000980217040144,15.0&amp;preview=true</td><td></td><td></td><td>159.875</td><td>-0.749998</td><td>--</td><td></td><td></td><td>--</td><td>0.0</td><td>0.0</td><td>--</td><td>--</td><td>--</td><td>--</td><td>--</td><td>--</td><td></td><td></td><td></td><td></td><td>0</td><td>DECaLS DR9</td><td>0</td><td>psfsize</td><td>0</td><td>0</td><td></td><td>0</td><td></td><td>Stack</td><td></td><td></td><td>0</td></tr>\n",
       "<tr><td>ls_dr9</td><td>https://datalab.noirlab.edu/svc/cutout?col=ls_dr9&amp;siaRef=legacysurvey-1598m007-blobmodel-r.fits.fz&amp;extn=1&amp;POS=159.815,-0.655&amp;SIZE=15.000980217040144,15.0</td><td>image/fits</td><td>50639</td><td></td><td></td><td>3</td><td>0</td><td>0</td><td>0</td><td>[]</td><td></td><td></td><td>[0.26193]</td><td></td><td>ls_dr9</td><td></td><td>DECaLS DR9</td><td>archival</td><td></td><td></td><td>DECam</td><td>r</td><td></td><td></td><td>ivo://datalab.noirlab/vo#ivoa_ls_dr9.siav1:ivo://datalab.noao/ls_dr9/legacysurvey-1598m007-blobmodel-r.fits.fz</td><td></td><td>https://datalab.noirlab.edu/svc/cutout?col=ls_dr9&amp;siaRef=legacysurvey-1598m007-blobmodel-r.fits.fz&amp;extn=1&amp;POS=159.815,-0.655&amp;SIZE=15.000980217040144,15.0&amp;preview=true</td><td></td><td></td><td>159.875</td><td>-0.749998</td><td>--</td><td></td><td></td><td>--</td><td>5675.0</td><td>7155.0</td><td>--</td><td>--</td><td>--</td><td>--</td><td>--</td><td>--</td><td></td><td></td><td></td><td></td><td>0</td><td>DECaLS DR9</td><td>22.5</td><td>blobmodel</td><td>0</td><td>0</td><td></td><td>0</td><td></td><td>Stack</td><td>2014-12-30T08:12:39.397</td><td></td><td>0</td></tr>\n",
       "</table></div>"
      ],
      "text/plain": [
       "<Table length=39>\n",
       "assoc_id ... elliptic\n",
       "         ...         \n",
       " object  ...  object \n",
       "-------- ... --------\n",
       "  ls_dr9 ...        0\n",
       "  ls_dr9 ...        0\n",
       "  ls_dr9 ...        0\n",
       "  ls_dr9 ...        0\n",
       "  ls_dr9 ...        0\n",
       "  ls_dr9 ...        0\n",
       "  ls_dr9 ...        0\n",
       "  ls_dr9 ...        0\n",
       "  ls_dr9 ...        0\n",
       "     ... ...      ...\n",
       "  ls_dr9 ...        0\n",
       "  ls_dr9 ...        0\n",
       "  ls_dr9 ...        0\n",
       "  ls_dr9 ...        0\n",
       "  ls_dr9 ...        0\n",
       "  ls_dr9 ...        0\n",
       "  ls_dr9 ...        0\n",
       "  ls_dr9 ...        0\n",
       "  ls_dr9 ...        0\n",
       "  ls_dr9 ...        0"
      ]
     },
     "execution_count": 10,
     "metadata": {},
     "output_type": "execute_result"
    }
   ],
   "source": [
    "imgTable"
   ]
  },
  {
   "cell_type": "code",
   "execution_count": 11,
   "id": "de905d61-11f5-446a-8923-3db851aacb32",
   "metadata": {
    "execution": {
     "iopub.execute_input": "2025-02-06T18:33:53.190612Z",
     "iopub.status.busy": "2025-02-06T18:33:53.189986Z",
     "iopub.status.idle": "2025-02-06T18:33:53.195632Z",
     "shell.execute_reply": "2025-02-06T18:33:53.194736Z",
     "shell.execute_reply.started": "2025-02-06T18:33:53.190578Z"
    }
   },
   "outputs": [],
   "source": [
    "sel = (imgTable['prodtype'] == 'image') "
   ]
  },
  {
   "cell_type": "code",
   "execution_count": 12,
   "id": "f31f335a-f717-4d94-9551-8574015c1438",
   "metadata": {
    "execution": {
     "iopub.execute_input": "2025-02-06T18:33:54.438730Z",
     "iopub.status.busy": "2025-02-06T18:33:54.438370Z",
     "iopub.status.idle": "2025-02-06T18:33:54.465798Z",
     "shell.execute_reply": "2025-02-06T18:33:54.465016Z",
     "shell.execute_reply.started": "2025-02-06T18:33:54.438709Z"
    }
   },
   "outputs": [
    {
     "data": {
      "text/html": [
       "<div><i>Table length=2</i>\n",
       "<table id=\"table140627288448144\" class=\"table-striped table-bordered table-condensed\">\n",
       "<thead><tr><th>assoc_id</th><th>access_url</th><th>access_format</th><th>access_estsize</th><th>dataproduct_type</th><th>dataproduct_subtype</th><th>calib_level</th><th>dataset_length</th><th>im_nsubarrays</th><th>im_naxes</th><th>im_naxis</th><th>im_pixtype</th><th>im_wcsaxes</th><th>im_scale</th><th>obs_title</th><th>obs_id</th><th>obs_creator_name</th><th>obs_collection</th><th>obs_creation_type</th><th>obs_creation_date</th><th>facility_name</th><th>instrument_name</th><th>obs_bandpass</th><th>obs_datasource</th><th>proposal_id</th><th>obs_publisher_did</th><th>obs_release_date</th><th>preview</th><th>target_name</th><th>target_class</th><th>s_ra</th><th>s_dec</th><th>s_fov</th><th>s_region</th><th>s_calib_status</th><th>s_resolution</th><th>em_min</th><th>em_max</th><th>em_resolution</th><th>em_res_power</th><th>t_min</th><th>t_max</th><th>t_exptime</th><th>t_resolution</th><th>o_ucd</th><th>o_unit</th><th>pol_states</th><th>object</th><th>airmass</th><th>project_code</th><th>magzero</th><th>prodtype</th><th>seeing</th><th>fwhm</th><th>fileset_id</th><th>exptime</th><th>photflag</th><th>proctype</th><th>date_obs</th><th>mjd_obs</th><th>elliptic</th></tr></thead>\n",
       "<thead><tr><th></th><th></th><th></th><th>bytes</th><th></th><th></th><th></th><th></th><th></th><th></th><th></th><th></th><th></th><th>deg</th><th></th><th></th><th></th><th></th><th></th><th></th><th></th><th></th><th></th><th></th><th></th><th></th><th></th><th></th><th></th><th></th><th>deg</th><th>deg</th><th>deg</th><th>deg</th><th></th><th>arcsec</th><th>m</th><th>m</th><th>m</th><th></th><th>d</th><th>d</th><th>s</th><th>s</th><th></th><th></th><th></th><th></th><th></th><th></th><th></th><th></th><th></th><th></th><th></th><th></th><th></th><th></th><th></th><th></th><th></th></tr></thead>\n",
       "<thead><tr><th>object</th><th>object</th><th>object</th><th>int32</th><th>object</th><th>object</th><th>int64</th><th>int64</th><th>int32</th><th>int32</th><th>object</th><th>object</th><th>object</th><th>object</th><th>object</th><th>object</th><th>object</th><th>object</th><th>object</th><th>object</th><th>str1</th><th>object</th><th>object</th><th>object</th><th>object</th><th>object</th><th>object</th><th>object</th><th>object</th><th>object</th><th>float64</th><th>float64</th><th>float64</th><th>object</th><th>object</th><th>float64</th><th>float64</th><th>float64</th><th>float64</th><th>float64</th><th>float64</th><th>float64</th><th>float64</th><th>float64</th><th>object</th><th>object</th><th>object</th><th>object</th><th>object</th><th>object</th><th>object</th><th>object</th><th>object</th><th>object</th><th>object</th><th>object</th><th>object</th><th>object</th><th>object</th><th>object</th><th>object</th></tr></thead>\n",
       "<tr><td>ls_dr9</td><td>https://datalab.noirlab.edu/svc/cutout?col=ls_dr9&amp;siaRef=legacysurvey-1598m007-image-g.fits.fz&amp;extn=1&amp;POS=159.815,-0.655&amp;SIZE=15.000980217040144,15.0</td><td>image/fits</td><td>11742</td><td></td><td></td><td>3</td><td>0</td><td>0</td><td>2</td><td>[3600 3600]</td><td></td><td></td><td>[0.26193]</td><td></td><td>ls_dr9</td><td></td><td>DECaLS DR9</td><td>archival</td><td></td><td></td><td>DECam</td><td>g DECam SDSS c0001 4720.0 1520.0</td><td></td><td></td><td>ivo://datalab.noirlab/vo#ivoa_ls_dr9.siav1:ivo://datalab.noao/ls_dr9/legacysurvey-1598m007-image-g.fits.fz</td><td></td><td>https://datalab.noirlab.edu/svc/cutout?col=ls_dr9&amp;siaRef=legacysurvey-1598m007-image-g.fits.fz&amp;extn=1&amp;POS=159.815,-0.655&amp;SIZE=15.000980217040144,15.0&amp;preview=true</td><td></td><td></td><td>159.875</td><td>-0.749998</td><td>--</td><td></td><td></td><td>--</td><td>0.0</td><td>0.0</td><td>--</td><td>--</td><td>--</td><td>--</td><td>--</td><td>--</td><td></td><td></td><td></td><td></td><td>0</td><td>DECaLS DR9</td><td>0</td><td>image</td><td>0</td><td>0</td><td></td><td>0</td><td></td><td>Stack</td><td></td><td></td><td>0</td></tr>\n",
       "<tr><td>ls_dr9</td><td>https://datalab.noirlab.edu/svc/cutout?col=ls_dr9&amp;siaRef=legacysurvey-1598m007-image-r.fits.fz&amp;extn=1&amp;POS=159.815,-0.655&amp;SIZE=15.000980217040144,15.0</td><td>image/fits</td><td>13536</td><td></td><td></td><td>3</td><td>0</td><td>0</td><td>2</td><td>[3600 3600]</td><td></td><td></td><td>[0.26193]</td><td></td><td>ls_dr9</td><td></td><td>DECaLS DR9</td><td>archival</td><td></td><td></td><td>DECam</td><td>r DECam SDSS c0002 6415.0 1480.0</td><td></td><td></td><td>ivo://datalab.noirlab/vo#ivoa_ls_dr9.siav1:ivo://datalab.noao/ls_dr9/legacysurvey-1598m007-image-r.fits.fz</td><td></td><td>https://datalab.noirlab.edu/svc/cutout?col=ls_dr9&amp;siaRef=legacysurvey-1598m007-image-r.fits.fz&amp;extn=1&amp;POS=159.815,-0.655&amp;SIZE=15.000980217040144,15.0&amp;preview=true</td><td></td><td></td><td>159.875</td><td>-0.749998</td><td>--</td><td></td><td></td><td>--</td><td>0.0</td><td>0.0</td><td>--</td><td>--</td><td>--</td><td>--</td><td>--</td><td>--</td><td></td><td></td><td></td><td></td><td>0</td><td>DECaLS DR9</td><td>0</td><td>image</td><td>0</td><td>0</td><td></td><td>0</td><td></td><td>Stack</td><td></td><td></td><td>0</td></tr>\n",
       "</table></div>"
      ],
      "text/plain": [
       "<Table length=2>\n",
       "assoc_id ... elliptic\n",
       "         ...         \n",
       " object  ...  object \n",
       "-------- ... --------\n",
       "  ls_dr9 ...        0\n",
       "  ls_dr9 ...        0"
      ]
     },
     "execution_count": 12,
     "metadata": {},
     "output_type": "execute_result"
    }
   ],
   "source": [
    "row = imgTable[sel]\n",
    "row"
   ]
  },
  {
   "cell_type": "code",
   "execution_count": 13,
   "id": "0b106192-dc8f-49e7-867a-67757db1796b",
   "metadata": {
    "execution": {
     "iopub.execute_input": "2025-02-06T18:33:54.796284Z",
     "iopub.status.busy": "2025-02-06T18:33:54.795462Z",
     "iopub.status.idle": "2025-02-06T18:33:54.830142Z",
     "shell.execute_reply": "2025-02-06T18:33:54.829381Z",
     "shell.execute_reply.started": "2025-02-06T18:33:54.796247Z"
    }
   },
   "outputs": [],
   "source": [
    "row = imgTable[sel][1]\n",
    "url = row['access_url'] # get the download URL\n",
    "filename = download_file(url,cache=True,show_progress=False,timeout=120)\n",
    "hdu = fits.open(filename)[0]\n",
    "image = hdu.data\n",
    "hdr = hdu.header\n",
    "wcs = WCS(hdr)"
   ]
  },
  {
   "cell_type": "code",
   "execution_count": 15,
   "id": "5e4c4521-5961-4c37-8b0c-36c35c9c2b5b",
   "metadata": {
    "execution": {
     "iopub.execute_input": "2025-02-06T18:35:27.720669Z",
     "iopub.status.busy": "2025-02-06T18:35:27.719932Z",
     "iopub.status.idle": "2025-02-06T18:35:28.249472Z",
     "shell.execute_reply": "2025-02-06T18:35:28.248645Z",
     "shell.execute_reply.started": "2025-02-06T18:35:27.720634Z"
    }
   },
   "outputs": [],
   "source": [
    "hdu.writeto('test_fits.fits',overwrite=True)"
   ]
  },
  {
   "cell_type": "code",
   "execution_count": 16,
   "id": "ca6af939-1361-44d5-9a4a-629207173add",
   "metadata": {
    "execution": {
     "iopub.execute_input": "2025-02-06T18:36:51.447709Z",
     "iopub.status.busy": "2025-02-06T18:36:51.446967Z",
     "iopub.status.idle": "2025-02-06T18:36:51.452656Z",
     "shell.execute_reply": "2025-02-06T18:36:51.451976Z",
     "shell.execute_reply.started": "2025-02-06T18:36:51.447673Z"
    }
   },
   "outputs": [
    {
     "data": {
      "text/plain": [
       "'https://datalab.noirlab.edu/svc/cutout?col=ls_dr9&siaRef=legacysurvey-1598m007-image-r.fits.fz&extn=1&POS=159.815,-0.655&SIZE=15.000980217040144,15.0'"
      ]
     },
     "execution_count": 16,
     "metadata": {},
     "output_type": "execute_result"
    }
   ],
   "source": [
    "url"
   ]
  },
  {
   "cell_type": "code",
   "execution_count": 17,
   "id": "761103ab-3fa0-4f1f-b754-cd25d4e5045d",
   "metadata": {
    "execution": {
     "iopub.execute_input": "2025-02-06T18:42:27.350450Z",
     "iopub.status.busy": "2025-02-06T18:42:27.349916Z",
     "iopub.status.idle": "2025-02-06T18:42:28.737053Z",
     "shell.execute_reply": "2025-02-06T18:42:28.731110Z",
     "shell.execute_reply.started": "2025-02-06T18:42:27.350420Z"
    }
   },
   "outputs": [
    {
     "name": "stdout",
     "output_type": "stream",
     "text": [
      "-0.039214235 88.21342 (3600, 3600)\n"
     ]
    },
    {
     "data": {
      "image/png": "[encoded data removed]",
      "text/plain": [
       "<Figure size 640x480 with 1 Axes>"
      ]
     },
     "metadata": {},
     "output_type": "display_data"
    }
   ],
   "source": [
    "print(image.min(),image.max(),image.shape)\n",
    "ax = plt.subplot(projection=wcs)\n",
    "#ax.imshow(image,cmap='gray',vmin=image.min(),vmax=image.min()+(image.max()-image.min())/100.)\n",
    "ax.imshow(image,cmap='gray',vmin=-0.05,vmax=0.05)\n",
    "plt.show()"
   ]
  },
  {
   "cell_type": "code",
   "execution_count": 18,
   "id": "31f37345-233b-478e-9a1d-48a8881c5f85",
   "metadata": {
    "execution": {
     "iopub.execute_input": "2025-02-06T18:42:28.738968Z",
     "iopub.status.busy": "2025-02-06T18:42:28.738717Z",
     "iopub.status.idle": "2025-02-06T18:42:28.790350Z",
     "shell.execute_reply": "2025-02-06T18:42:28.784769Z",
     "shell.execute_reply.started": "2025-02-06T18:42:28.738946Z"
    }
   },
   "outputs": [],
   "source": [
    "aladin = Aladin()\n",
    "with Sidecar(title=\"aladin_output\"):\n",
    "    display(aladin)"
   ]
  },
  {
   "cell_type": "code",
   "execution_count": 19,
   "id": "11d7dec9-bb15-4bd1-ac1c-b5334b97e62f",
   "metadata": {
    "execution": {
     "iopub.execute_input": "2025-02-06T18:42:28.794105Z",
     "iopub.status.busy": "2025-02-06T18:42:28.793875Z",
     "iopub.status.idle": "2025-02-06T18:42:28.955979Z",
     "shell.execute_reply": "2025-02-06T18:42:28.954700Z",
     "shell.execute_reply.started": "2025-02-06T18:42:28.794085Z"
    }
   },
   "outputs": [],
   "source": [
    "aladin.add_fits('test_fits.fits',name='test')"
   ]
  },
  {
   "cell_type": "code",
   "execution_count": null,
   "id": "03a09286-4382-4225-ab22-10665a67aaba",
   "metadata": {},
   "outputs": [],
   "source": []
  },
  {
   "cell_type": "code",
   "execution_count": null,
   "id": "24ea9fe8-e94e-4f6e-a706-abc288890f1b",
   "metadata": {},
   "outputs": [],
   "source": []
  },
  {
   "cell_type": "code",
   "execution_count": null,
   "id": "110c7cee-9249-4753-8c9f-c63ace49526e",
   "metadata": {},
   "outputs": [],
   "source": []
  },
  {
   "cell_type": "markdown",
   "id": "feaaa085-001b-4ac1-92a9-779668fe9153",
   "metadata": {},
   "source": [
    "# Accessing the data\n",
    "\n",
    "To create the MOC that we will ultimately overlay onto Aladin, we are going to use the mocpy library. \n",
    "\n",
    "The first thing we will need to do is obtain the data from the Astro Data Lab. For this example, we will be working with data from three different surveys; The **DE**Cam **L**ocal **V**olume **E**xploration Survey [**DELVE**](https://datalab.noirlab.edu/delve/index.php), The **S**urvey of the **MA**gellanic **S**tellar **H**istory [**SMASH**](https://datalab.noirlab.edu/smash/smash.php), and The **D**ark **E**negery **S**urvey [**DES**](https://datalab.noirlab.edu/des/index.php)."
   ]
  },
  {
   "cell_type": "markdown",
   "id": "0b2a3f2b-9667-4415-ad7b-af2884e9c02e",
   "metadata": {},
   "source": [
    "# Authentication\n",
    "Much of the functionality of Data Lab can be accessed without explicitly logging in (the service then uses an anonymous login). But some capacities, for instance saving the results of your queries to your virtual storage space, require a login (i.e. you will need a registered user account).\n",
    "\n",
    "If you need to log in to Data Lab, un-comment the cell below and execute it:"
   ]
  },
  {
   "cell_type": "code",
   "execution_count": null,
   "id": "60eb5831-9dec-4794-9bea-edff9a04a622",
   "metadata": {
    "execution": {
     "iopub.status.busy": "2025-02-05T18:05:19.777296Z",
     "iopub.status.idle": "2025-02-05T18:05:19.777564Z",
     "shell.execute_reply": "2025-02-05T18:05:19.777438Z",
     "shell.execute_reply.started": "2025-02-05T18:05:19.777426Z"
    }
   },
   "outputs": [],
   "source": [
    "#token = ac.login(input(\"Enter user name: (+ENTER) \"),getpass(\"Enter password: (+ENTER) \"))\n",
    "#print(token)\n",
    "ac.whoAmI()"
   ]
  },
  {
   "cell_type": "code",
   "execution_count": null,
   "id": "6458b0ee-e78a-49e3-967f-c4ab652038c7",
   "metadata": {
    "execution": {
     "iopub.status.busy": "2025-02-05T18:05:19.778683Z",
     "iopub.status.idle": "2025-02-05T18:05:19.778974Z",
     "shell.execute_reply": "2025-02-05T18:05:19.778829Z",
     "shell.execute_reply.started": "2025-02-05T18:05:19.778818Z"
    }
   },
   "outputs": [],
   "source": [
    "query = 'SELECT TOP 25000 ra, dec, mag_auto_g, random_id FROM des_dr2.main WHERE random_id BETWEEN 25.0 AND 25.01'\n",
    "#response = qc.query(sql = query, fmt = 'csv', out='vos://des_dr2.csv')\n",
    "df = qc.query(sql = query, fmt = 'pandas')\n",
    "\n",
    "#Lets add an additional column assigning a unique index to each data point.\n",
    "df['index'] = list(range(0,len(df)))\n",
    "\n",
    "df['survey'] = 'des_dr2'\n",
    "\n",
    "print('des_dr2 catalog')\n",
    "print (df)"
   ]
  },
  {
   "cell_type": "code",
   "execution_count": null,
   "id": "45f8709f-d2e1-4efd-b7a2-8919a6a686ff",
   "metadata": {
    "execution": {
     "iopub.status.busy": "2025-02-05T18:05:19.779906Z",
     "iopub.status.idle": "2025-02-05T18:05:19.780181Z",
     "shell.execute_reply": "2025-02-05T18:05:19.780045Z",
     "shell.execute_reply.started": "2025-02-05T18:05:19.780034Z"
    }
   },
   "outputs": [],
   "source": [
    "query2 = 'SELECT TOP 25000 ra, dec, mag_auto_g, random_id FROM delve_dr2.objects WHERE random_id BETWEEN 25.0 AND 25.01'\n",
    "#response2 = qc.query(sql = query2, fmt = 'csv', out='vos://delve_dr2.csv')\n",
    "df2 = qc.query(sql = query2, fmt = 'pandas')\n",
    "\n",
    "#Lets add an additional column assigning a unique index to each data point.\n",
    "df2['index'] = list(range(0,len(df2)))\n",
    "\n",
    "df2['survey'] = 'delve_dr2'\n",
    "\n",
    "print('delve_dr2 catalog')\n",
    "print (df2)"
   ]
  },
  {
   "cell_type": "code",
   "execution_count": null,
   "id": "194466ec-6343-4b99-84fc-2cb8d0ba6a44",
   "metadata": {
    "execution": {
     "iopub.status.busy": "2025-02-05T18:05:19.780976Z",
     "iopub.status.idle": "2025-02-05T18:05:19.781257Z",
     "shell.execute_reply": "2025-02-05T18:05:19.781113Z",
     "shell.execute_reply.started": "2025-02-05T18:05:19.781102Z"
    }
   },
   "outputs": [],
   "source": [
    "query3 = 'SELECT TOP 25000 ra, dec, gmag, random_id FROM smash_dr2.object WHERE random_id BETWEEN 25.0 AND 25.01'\n",
    "#response3 = qc.query(sql = query3, fmt = 'csv', out='vos://smash_dr2.csv')\n",
    "df3 = qc.query(sql = query3, fmt = 'pandas')\n",
    "\n",
    "#Lets add an additional column assigning a unique index to each data point.\n",
    "df3['index'] = list(range(0,len(df3)))\n",
    "\n",
    "df3['survey'] = 'smash_dr2'\n",
    "\n",
    "print('smash_dr2')\n",
    "print (df3)"
   ]
  },
  {
   "cell_type": "code",
   "execution_count": null,
   "id": "32b007b6-ed34-4b7a-a483-9a706e031ec2",
   "metadata": {
    "execution": {
     "iopub.status.busy": "2025-02-05T18:05:19.781913Z",
     "iopub.status.idle": "2025-02-05T18:05:19.782328Z",
     "shell.execute_reply": "2025-02-05T18:05:19.782057Z",
     "shell.execute_reply.started": "2025-02-05T18:05:19.782039Z"
    }
   },
   "outputs": [],
   "source": [
    "query4 = 'SELECT TOP 25000 ra, dec, f378_petro, random_id FROM splus_dr2.main WHERE random_id BETWEEN 25.0 AND 25.1'\n",
    "#response3 = qc.query(sql = query3, fmt = 'csv', out='vos://smash_dr2.csv')\n",
    "df4 = qc.query(sql = query4, fmt = 'pandas')\n",
    "\n",
    "#Lets add an additional column assigning a unique index to each data point.\n",
    "df4['index'] = list(range(0,len(df4)))\n",
    "\n",
    "df4['survey'] = 'splus_dr2'\n",
    "\n",
    "print('splus_dr2')\n",
    "print (df4)"
   ]
  },
  {
   "cell_type": "code",
   "execution_count": null,
   "id": "2c717402-56ac-402b-91c9-11c9c67305bd",
   "metadata": {
    "execution": {
     "iopub.status.busy": "2025-02-05T18:05:19.783194Z",
     "iopub.status.idle": "2025-02-05T18:05:19.783467Z",
     "shell.execute_reply": "2025-02-05T18:05:19.783339Z",
     "shell.execute_reply.started": "2025-02-05T18:05:19.783328Z"
    }
   },
   "outputs": [],
   "source": [
    "query5 = 'SELECT TOP 25000 ra, dec, mean_r, random_id FROM decaps_dr2.object WHERE random_id BETWEEN 25.0 AND 25.1'\n",
    "df5 = qc.query(sql = query5, fmt = 'pandas')\n",
    "\n",
    "#Lets add an additional column assigning a unique index to each data point.\n",
    "df5['index'] = list(range(0,len(df5)))\n",
    "\n",
    "df5['survey'] = 'decaps_dr2'\n",
    "\n",
    "print('decaps_dr2')\n",
    "print (df5)"
   ]
  },
  {
   "cell_type": "markdown",
   "id": "6844f3a9-d83e-4362-94f8-d6825fba45df",
   "metadata": {},
   "source": [
    "# Now that all three datasets have been downloaded, we can now create Multi-Order Coverage maps (MOCs) for each of them using the mocpy library. "
   ]
  },
  {
   "cell_type": "code",
   "execution_count": null,
   "id": "760bc11b",
   "metadata": {
    "execution": {
     "iopub.status.busy": "2025-02-05T18:05:19.784265Z",
     "iopub.status.idle": "2025-02-05T18:05:19.784547Z",
     "shell.execute_reply": "2025-02-05T18:05:19.784415Z",
     "shell.execute_reply.started": "2025-02-05T18:05:19.784399Z"
    }
   },
   "outputs": [],
   "source": [
    "def prepare(columns, dataframe, max_norder):\n",
    "    '''\n",
    "    This function will perform 2 tasks:\n",
    "    (1) Read in columns of a dataframe and output a dictionary that is compatible with Aladin Lite\n",
    "\n",
    "    (2) Use the ra and dec info from the dictionary to create a MOC.\n",
    "    '''\n",
    "    #Define a dictionary\n",
    "    col_dict = {}\n",
    "    \n",
    "    #Read each item in provided list and extract the values from the dataframe. Assign values to dictionary.\n",
    "    for c in columns:\n",
    "        col_dict[c] = dataframe[c].values\n",
    "        \n",
    "    #Now we are going to establish our MOC  \n",
    "    #Provide MOC.from_longlat() with ra and dec in degrees\n",
    "    #max_norder:The depth of the smallest HEALPix cells contained in the MOC. Min = 1 | Max = 10\n",
    "    moc = MOC.from_lonlat(\n",
    "              col_dict['ra'].transpose() * u.deg,\n",
    "              col_dict['dec'].transpose() * u.deg,\n",
    "              max_norder=max_norder)\n",
    "\n",
    "    return col_dict, moc"
   ]
  },
  {
   "cell_type": "code",
   "execution_count": null,
   "id": "71b378cd",
   "metadata": {
    "execution": {
     "iopub.status.busy": "2025-02-05T18:05:19.785311Z",
     "iopub.status.idle": "2025-02-05T18:05:19.785563Z",
     "shell.execute_reply": "2025-02-05T18:05:19.785444Z",
     "shell.execute_reply.started": "2025-02-05T18:05:19.785434Z"
    },
    "scrolled": true
   },
   "outputs": [],
   "source": [
    "des_list = ['ra','dec','index','mag_auto_g','survey']\n",
    "des_dict, des_dr2_moc = prepare(des_list, df, max_norder=5)"
   ]
  },
  {
   "cell_type": "code",
   "execution_count": null,
   "id": "6824a7b5-c83f-4fec-a819-57f1c9e57e78",
   "metadata": {
    "execution": {
     "iopub.status.busy": "2025-02-05T18:05:19.786094Z",
     "iopub.status.idle": "2025-02-05T18:05:19.786353Z",
     "shell.execute_reply": "2025-02-05T18:05:19.786237Z",
     "shell.execute_reply.started": "2025-02-05T18:05:19.786219Z"
    }
   },
   "outputs": [],
   "source": [
    "delve_list = ['ra','dec','index','mag_auto_g','survey']\n",
    "delve_dict, delve_dr2_moc = prepare(delve_list, df2, max_norder=5)"
   ]
  },
  {
   "cell_type": "code",
   "execution_count": null,
   "id": "032d61cc-688e-4bfa-a22f-d88a97d9b813",
   "metadata": {
    "execution": {
     "iopub.status.busy": "2025-02-05T18:05:19.787152Z",
     "iopub.status.idle": "2025-02-05T18:05:19.787419Z",
     "shell.execute_reply": "2025-02-05T18:05:19.787294Z",
     "shell.execute_reply.started": "2025-02-05T18:05:19.787284Z"
    }
   },
   "outputs": [],
   "source": [
    "smash_list = ['ra','dec','index','gmag','survey']\n",
    "smash_dict, smash_dr2_moc = prepare(smash_list, df3, max_norder=5)"
   ]
  },
  {
   "cell_type": "code",
   "execution_count": null,
   "id": "18be4103-3ff8-450f-b98d-541ec2fe8294",
   "metadata": {
    "execution": {
     "iopub.status.busy": "2025-02-05T18:05:19.788223Z",
     "iopub.status.idle": "2025-02-05T18:05:19.788494Z",
     "shell.execute_reply": "2025-02-05T18:05:19.788366Z",
     "shell.execute_reply.started": "2025-02-05T18:05:19.788356Z"
    }
   },
   "outputs": [],
   "source": [
    "splus_list = ['ra','dec','index','f378_petro','survey']\n",
    "splus_dict, splus_dr2_moc = prepare(splus_list, df4, max_norder=5)"
   ]
  },
  {
   "cell_type": "code",
   "execution_count": null,
   "id": "eb7241f4-35ab-45ac-8a5c-95f0e5c5f8f7",
   "metadata": {
    "execution": {
     "iopub.status.busy": "2025-02-05T18:05:19.789484Z",
     "iopub.status.idle": "2025-02-05T18:05:19.789751Z",
     "shell.execute_reply": "2025-02-05T18:05:19.789626Z",
     "shell.execute_reply.started": "2025-02-05T18:05:19.789615Z"
    }
   },
   "outputs": [],
   "source": [
    "decaps_list = ['ra','dec','index','mean_r','survey']\n",
    "decaps_dict, decaps_dr2_moc = prepare(decaps_list, df5, max_norder=5)"
   ]
  },
  {
   "cell_type": "code",
   "execution_count": null,
   "id": "eb896a70-8ac2-477e-84a9-3dd058b14752",
   "metadata": {
    "execution": {
     "iopub.status.busy": "2025-02-05T18:05:19.790470Z",
     "iopub.status.idle": "2025-02-05T18:05:19.790719Z",
     "shell.execute_reply": "2025-02-05T18:05:19.790602Z",
     "shell.execute_reply.started": "2025-02-05T18:05:19.790592Z"
    }
   },
   "outputs": [],
   "source": [
    "def plot(moc, color, legend, title=\"\"):\n",
    "    fig = plt.figure(figsize=(15, 10))\n",
    "\n",
    "    for c,m in enumerate(moc):\n",
    "        wcs = WCS(naxis=2)\n",
    "        wcs.wcs.ctype = [\"GLON-AIT\", \"GLAT-AIT\"] #Hammer-Aitoff projection\n",
    "        wcs.wcs.crval = [300.0, 0.0]             #Specify the value of the reference pixel\n",
    "        wcs.wcs.cdelt = [-0.675, 0.675]\n",
    "        wcs.wcs.crpix = [240.5, 120.5]\n",
    "    \n",
    "        if c == 0:\n",
    "            ax = fig.add_subplot(1, 1, 1, projection=wcs, frame_class=EllipticalFrame)\n",
    "            patches = []\n",
    "    \n",
    "        m.fill(\n",
    "            ax=ax,\n",
    "            wcs=wcs,\n",
    "            edgecolor=color[c],\n",
    "            facecolor=color[c],\n",
    "            linewidth=1.0,\n",
    "            fill=True,\n",
    "            alpha=0.5,\n",
    "        )\n",
    "        m.border(ax=ax, wcs=wcs, color=\"black\", alpha=1)\n",
    "    \n",
    "        plt.xlabel(\"ra\")\n",
    "        plt.ylabel(\"dec\")\n",
    "        if title:\n",
    "            plt.title(title)\n",
    "        plt.grid(color=\"black\", linestyle=\"dotted\")\n",
    "        \n",
    "        patches.append(mpatches.Patch(color=color[c], label=legend[c]))\n",
    "        plt.legend(handles=patches)\n",
    "        \n",
    "    plt.show()\n",
    "    plt.close()"
   ]
  },
  {
   "cell_type": "code",
   "execution_count": null,
   "id": "7b9da9b5-2059-4bf0-ac26-c156e48dd1d4",
   "metadata": {
    "execution": {
     "iopub.status.busy": "2025-02-05T18:05:19.791606Z",
     "iopub.status.idle": "2025-02-05T18:05:19.791869Z",
     "shell.execute_reply": "2025-02-05T18:05:19.791743Z",
     "shell.execute_reply.started": "2025-02-05T18:05:19.791732Z"
    }
   },
   "outputs": [],
   "source": [
    "moc = [des_dr2_moc, smash_dr2_moc, splus_dr2_moc, decaps_dr2_moc]\n",
    "legend = ['des_dr2_moc', 'smash_dr2_moc', 'splus_dr2_moc', 'decaps_dr2_moc']\n",
    "colors = ['cyan', 'red', 'blue', 'yellow', 'purple']\n",
    "plot(moc,title='',color=colors,legend=legend)"
   ]
  },
  {
   "cell_type": "markdown",
   "id": "21fb323a-2783-48c9-858d-c971348b4af8",
   "metadata": {},
   "source": [
    "# Now that we have seen the footprint for each of the three surveys, lets see what they look like in Aladin."
   ]
  },
  {
   "cell_type": "code",
   "execution_count": null,
   "id": "7ce89408-d9e2-4d69-a25c-e6e55d97173e",
   "metadata": {
    "execution": {
     "iopub.status.busy": "2025-02-05T18:05:19.792619Z",
     "iopub.status.idle": "2025-02-05T18:05:19.792860Z",
     "shell.execute_reply": "2025-02-05T18:05:19.792747Z",
     "shell.execute_reply.started": "2025-02-05T18:05:19.792737Z"
    }
   },
   "outputs": [],
   "source": [
    "aladin = Aladin(fov=2)\n",
    "aladin"
   ]
  },
  {
   "cell_type": "markdown",
   "id": "28556da1-69bc-4d3f-bc9c-a29cb739f360",
   "metadata": {
    "execution": {
     "iopub.execute_input": "2024-08-14T18:58:40.501409Z",
     "iopub.status.busy": "2024-08-14T18:58:40.501123Z",
     "iopub.status.idle": "2024-08-14T18:58:40.503838Z",
     "shell.execute_reply": "2024-08-14T18:58:40.503475Z",
     "shell.execute_reply.started": "2024-08-14T18:58:40.501395Z"
    }
   },
   "source": [
    "# With Aladin initialized within the notebook, we will now need to add the mocs to it. Note, you do not need to call aladin after it has been initialized. Using add_moc will update the cell that is displaying Aladin. "
   ]
  },
  {
   "cell_type": "code",
   "execution_count": null,
   "id": "b3508786-cdbe-4ef0-9650-90805f89b78c",
   "metadata": {
    "execution": {
     "iopub.status.busy": "2025-02-05T18:05:19.793891Z",
     "iopub.status.idle": "2025-02-05T18:05:19.794165Z",
     "shell.execute_reply": "2025-02-05T18:05:19.794030Z",
     "shell.execute_reply.started": "2025-02-05T18:05:19.794019Z"
    }
   },
   "outputs": [],
   "source": [
    "aladin.add_moc(des_dr2_moc, color='red',   name='des_dr2_moc', opacity=0.4)\n",
    "aladin.add_moc(smash_dr2_moc, color='blue',  name='smash_dr2_moc', opacity=0.4)\n",
    "aladin.add_moc(splus_dr2_moc, color='green', name='splus_dr2_moc', opacity=0.4)\n",
    "aladin.add_moc(decaps_dr2_moc, color='yellow', name='decaps_dr2_moc', opacity=0.4)"
   ]
  },
  {
   "cell_type": "markdown",
   "id": "f9ea8c59-5071-4c5b-89af-143a7e3db317",
   "metadata": {},
   "source": [
    "# Now lets plot the individual sources onto Aladin. Currently, Aladin Lite only works reliably with QTables. So we are going to reformat our pandas dataframes into something the Aladin viewer will accept. "
   ]
  },
  {
   "cell_type": "code",
   "execution_count": null,
   "id": "86418d10-ba28-418a-8703-15860d3be3cb",
   "metadata": {
    "execution": {
     "iopub.status.busy": "2025-02-05T18:05:19.795010Z",
     "iopub.status.idle": "2025-02-05T18:05:19.795291Z",
     "shell.execute_reply": "2025-02-05T18:05:19.795155Z",
     "shell.execute_reply.started": "2025-02-05T18:05:19.795143Z"
    }
   },
   "outputs": [],
   "source": [
    "#des_dr2\n",
    "des_table    = QTable([des_dict['ra'],des_dict['dec'],des_dict['index'],\\\n",
    "                      des_dict['mag_auto_g'],des_dict['survey']],\\\n",
    "                      names=[\"ra\",\"dec\",\"index\",\"mag_auto_g\",\"survey\"])\n",
    "\n",
    "#smash_dr2\n",
    "smash_table  = QTable([smash_dict['ra'],smash_dict['dec'],smash_dict['index'],\\\n",
    "                      smash_dict['gmag'],smash_dict['survey']],\\\n",
    "                      names=[\"ra\",\"dec\",\"index\",\"gmag\",\"survey\"])\n",
    "\n",
    "#splus_dr2\n",
    "splus_table  = QTable([splus_dict['ra'],splus_dict['dec'],splus_dict['index'],\\\n",
    "                      splus_dict['f378_petro'],splus_dict['survey']],\\\n",
    "                      names=[\"ra\",\"dec\",\"index\",\"f378_petro\",\"survey\"])\n",
    "\n",
    "#decaps_dr2\n",
    "decaps_table = QTable([decaps_dict['ra'],decaps_dict['dec'],decaps_dict['index'],\\\n",
    "                      decaps_dict['mean_r'],decaps_dict['survey']],\\\n",
    "                      names=[\"ra\",\"dec\",\"index\",\"mean_r\",\"survey\"])"
   ]
  },
  {
   "cell_type": "markdown",
   "id": "2190423c-122d-4c16-97a1-76e6157b15e3",
   "metadata": {},
   "source": [
    "### Now we can add our newly reformatted datatables to the Aladin viewer. "
   ]
  },
  {
   "cell_type": "code",
   "execution_count": null,
   "id": "8170a7f3-9a8c-488e-ad07-9292de8bf66b",
   "metadata": {
    "execution": {
     "iopub.status.busy": "2025-02-05T18:05:19.796317Z",
     "iopub.status.idle": "2025-02-05T18:05:19.796602Z",
     "shell.execute_reply": "2025-02-05T18:05:19.796460Z",
     "shell.execute_reply.started": "2025-02-05T18:05:19.796449Z"
    }
   },
   "outputs": [],
   "source": [
    "aladin.add_table(des_table,name='des_dr2')\n",
    "aladin.add_table(smash_table,name='smash_dr2')\n",
    "aladin.add_table(splus_table,name='splus_dr2')\n",
    "aladin.add_table(decaps_table,name='decaps_dr2')"
   ]
  },
  {
   "cell_type": "markdown",
   "id": "1f116bed-78af-4174-b878-22011c46be95",
   "metadata": {},
   "source": [
    "### By now, your Aladin viewer maybe hard to read since there are many MOCs and individual data points plotted ontop of each other. You can remove some of these objects by clicking the 'Overlays menu' in your Aladin viewer. A dropdown menu will appear displaying the names of all the MOCs and data tables currently being displayed. From there, you can hover your mouse over any item and either click on the 'eye' icon to hide the object, or the 'trash' icon to fully remove it from the viewer. \n",
    "\n",
    "![Pointing out the location of the hide and remove icons in Aladin Lite.](Remove_layer.png \"Remove layer.\")"
   ]
  },
  {
   "cell_type": "code",
   "execution_count": null,
   "id": "102adeb1-0407-450a-9907-e4576c990de1",
   "metadata": {},
   "outputs": [],
   "source": []
  },
  {
   "cell_type": "code",
   "execution_count": null,
   "id": "b0349f64",
   "metadata": {},
   "outputs": [],
   "source": []
  }
 ],
 "metadata": {
  "kernelspec": {
   "display_name": "Python 3 (DL,Py3.10.13)",
   "language": "python",
   "name": "python3"
  },
  "language_info": {
   "codemirror_mode": {
    "name": "ipython",
    "version": 3
   },
   "file_extension": ".py",
   "mimetype": "text/x-python",
   "name": "python",
   "nbconvert_exporter": "python",
   "pygments_lexer": "ipython3",
   "version": "3.10.13"
  }
 },
 "nbformat": 4,
 "nbformat_minor": 5
}
