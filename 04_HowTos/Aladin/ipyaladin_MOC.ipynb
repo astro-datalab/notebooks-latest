{
 "cells": [
  {
   "cell_type": "code",
   "execution_count": null,
   "id": "f03a30fa-d2e5-4382-899c-d8972bad4322",
   "metadata": {},
   "outputs": [],
   "source": [
    "__author__ = 'Brian Merino <brian.merino@noirlab.edu>'\n",
    "__version__ = '08252025' # yyyymmdd; version datestamp of this notebook\n",
    "__keywords__ = ['AladinLite','smash','des','delve','ipyaladin']"
   ]
  },
  {
   "cell_type": "markdown",
   "id": "52f7270b-7f06-420c-940c-78abf9c1babd",
   "metadata": {},
   "source": [
    "# Generating MOCs with Aladin Lite v3"
   ]
  },
  {
   "cell_type": "markdown",
   "id": "f23526e2-41cc-46c9-b03e-7ebffb32697a",
   "metadata": {},
   "source": [
    "## Table of contents\n",
    "* [Goals](#goals)\n",
    "* [Summary](#summary)\n",
    "* [Disclaimers and attribution](#disclaimer)\n",
    "* [Imports and setup](#imports)\n",
    "* [Start Aladin viewer](#Aladin)\n",
    "* [Accessing the data](#Data)\n",
    "* [Querying the Data Lab database](#Query)\n",
    "* [Prepare MOCs](#prepare)\n",
    "* [Plot the MOCs](#Plot)\n",
    "* [Add MOCs to Aladin](#AladinMOCs)\n",
    "* [Add individual sources to Aladin](#source)\n",
    "\n",
    "<a class=\"anchor\" id=\"goals\"></a>\n",
    "# Goals\n",
    "Showcase how to query the Data Lab via the query client service and use the data to create Multi-Order Coverage maps (MOCs) that will then be displayed with the Aladin Lite viewer.\n",
    "\n",
    "<a class=\"anchor\" id=\"summary\"></a>\n",
    "# Summary\n",
    "<a href=\"https://aladin.cds.unistra.fr/AladinLite/\">Aladin Lite</a> is an interactive sky atlas that runs in your browser. Aladin can be used to explore the sky and has built-in functionality that makes it possible to overlay images onto the viewer and identify objects included in databases. <a href=\"https://github.com/cds-astro/ipyaladin\">ipyaladin</a> was created to allow Jupyter Notebooks to utilize Aladin Lite's functionality. This notebook will demonstrate how to use ipyaladin to create and overlay MOCs onto Aladin, which would help identify overlapping datasets. \n",
    "\n",
    "Visualizing surveys like this can help identify whether a source of interest has already been observed by a survey in the Data Lab, which could be helpful in preparing a telescope proposal. \n",
    "\n",
    "\n",
    "<a class=\"anchor\" id=\"disclaimer\"></a>\n",
    "# Disclaimer & attribution\n",
    "## Disclaimers\n",
    "Note that using the Astro Data Lab constitutes your agreement with our minimal <a href=\"https://datalab.noirlab.edu/about/disclaimers\">Disclaimers</a>.\n",
    "\n",
    "## Acknowledgments\n",
    "If you use Astro Data Lab in your published research, please include the text in your paper's Acknowledgments section:\n",
    "\n",
    "This research uses services or data provided by the Astro Data Lab, which is part of the Community Science and Data Center (CSDC) Program of NSF NOIRLab. NOIRLab is operated by the Association of Universities for Research in Astronomy (AURA), Inc. under a cooperative agreement with the U.S. National Science Foundation.\n",
    "\n",
    "If you use SPARCL jointly with the Astro Data Lab platform (via JupyterLab, command-line, or web interface) in your published research, please include this text below in your paper's Acknowledgments section:\n",
    "\n",
    "This research uses services or data provided by the SPectra Analysis and Retrievable Catalog Lab (SPARCL) and the Astro Data Lab, which are both part of the Community Science and Data Center (CSDC) Program of NSF NOIRLab. NOIRLab is operated by the Association of Universities for Research in Astronomy (AURA), Inc. under a cooperative agreement with the U.S. National Science Foundation.\n",
    "\n",
    "In either case please cite the following papers:\n",
    "\n",
    "Data Lab concept paper: Fitzpatrick et al., \"The NOAO Data Laboratory: a conceptual overview\", SPIE, 9149, 2014, https://doi.org/10.1117/12.2057445\n",
    "\n",
    "Astro Data Lab overview: Nikutta et al., \"Data Lab - A Community Science Platform\", Astronomy and Computing, 33, 2020, https://doi.org/10.1016/j.ascom.2020.100411\n",
    "\n",
    "If you are referring to the Data Lab JupyterLab / Jupyter Notebooks, cite:\n",
    "\n",
    "Juneau et al., \"Jupyter-Enabled Astrophysical Analysis Using Data-Proximate Computing Platforms\", CiSE, 23, 15, 2021, https://doi.org/10.1109/MCSE.2021.3057097\n",
    "If publishing in a AAS journal, also add the keyword: \\facility{Astro Data Lab}\n",
    "\n",
    "And if you are using SPARCL, please also add \\software{SPARCL} and cite:\n",
    "\n",
    "Juneau et al., \"SPARCL: SPectra Analysis and Retrievable Catalog Lab\", Conference Proceedings for ADASS XXXIII, 2024 https://doi.org/10.48550/arXiv.2401.05576\n",
    "The NOIRLab Library maintains lists of proper acknowledgments to use when publishing papers using the Lab's facilities, data, or services."
   ]
  },
  {
   "cell_type": "markdown",
   "id": "cb539c88-6892-4c9b-b773-f447ea47ba54",
   "metadata": {},
   "source": [
    "<a class=\"anchor\" id=\"imports\"></a>\n",
    "# Imports and setup"
   ]
  },
  {
   "cell_type": "code",
   "execution_count": null,
   "id": "afcdbdd2-0bf4-4335-bbd0-85f684ffb0c9",
   "metadata": {},
   "outputs": [],
   "source": [
    "# Standard library\n",
    "from getpass import getpass\n",
    "\n",
    "# Third-party libraries\n",
    "import matplotlib.pyplot as plt\n",
    "import matplotlib.patches as mpatches\n",
    "\n",
    "import astropy.units as u\n",
    "from astropy.visualization.wcsaxes.frame import EllipticalFrame\n",
    "from astropy.wcs import WCS\n",
    "from astropy.table import QTable\n",
    "from astropy.coordinates import SkyCoord\n",
    "\n",
    "from mocpy import MOC\n",
    "from ipyaladin import Aladin\n",
    "from sidecar import Sidecar\n",
    "\n",
    "# Data Lab\n",
    "from dl import authClient as ac, queryClient as qc\n",
    "\n",
    "%matplotlib inline"
   ]
  },
  {
   "cell_type": "markdown",
   "id": "54d94d8a-a81b-4538-8186-64559477a26b",
   "metadata": {},
   "source": [
    "<a class=\"anchor\" id=\"Aladin\"></a>\n",
    "# Start Aladin Viewer\n",
    "\n",
    "Let's start by opening an Aladin Lite viewer using SideCar. Running the following cell will open a new window to the right of where the notebook's cells are shown. \n",
    "\n",
    "Note: You do not need to use Sidecar to establish an Aladin Lite viewer session. If you were to just run the first line of the cell block, Aladin Lite would be opened below the code block. You could still interact with the viewer and utilize all of Aladin Lite's tools, but the session would remain below this code block, meaning you would need to scroll back up to this cell everytime you wanted to visit the viewer. "
   ]
  },
  {
   "cell_type": "code",
   "execution_count": null,
   "id": "880fa9a6-9db5-44ee-962d-90e44a5be2b4",
   "metadata": {},
   "outputs": [],
   "source": [
    "aladin = Aladin(full_screen=True)\n",
    "with Sidecar(title=\"aladin_output\",anchor='split-right'):\n",
    "    display(aladin)"
   ]
  },
  {
   "cell_type": "markdown",
   "id": "e1c8f0bb-fa92-4bdc-8d35-07be304d784d",
   "metadata": {},
   "source": [
    "Next, let's adjust the field of view and center the Aladin viewer such that all three surveys are visible. "
   ]
  },
  {
   "cell_type": "code",
   "execution_count": null,
   "id": "2ed3e876-43f5-490c-9a71-5ffb8f8c7da4",
   "metadata": {},
   "outputs": [],
   "source": [
    "aladin.target = SkyCoord(\"12h04m22.76s\", \"-59d53m20.8s\", frame=\"icrs\")\n",
    "\n",
    "aladin.fov = 180"
   ]
  },
  {
   "cell_type": "markdown",
   "id": "feaaa085-001b-4ac1-92a9-779668fe9153",
   "metadata": {},
   "source": [
    "<a class=\"anchor\" id=\"Data\"></a>\n",
    "# Accessing the data\n",
    "\n",
    "To create the MOCs that will be overlayed onto Aladin, we will use the <a href=\"https://cds-astro.github.io/mocpy/index.html\">mocpy library</a>. But first, we need some data. For this tutorial, we will take advantage of some of the many data sets that are hosted by the Astro Data Lab. Specifically, we will be working with data from three surveys: The Survey of the MAgellanic Stellar History [(**SMASH**)](https://datalab.noirlab.edu/smash/smash.php), The Dark Energy Survey [(**DES**)](https://datalab.noirlab.edu/des/index.php), and The DECam Plane Survey [(**DECaPS DR2**)](https://datalab.noirlab.edu/decaps/index.php).\n",
    "\n",
    "### Authentication\n",
    "\n",
    "Much of the functionality of Data Lab can be accessed without explicitly logging in (the service then uses an anonymous login). However, some capacities, such as saving the results of your queries to your virtual storage space, require a login (i.e., you will need a registered user account).\n",
    "\n",
    "If you need to log in to Data Lab, un-comment the first line of code in the cell below and execute it:"
   ]
  },
  {
   "cell_type": "code",
   "execution_count": null,
   "id": "60eb5831-9dec-4794-9bea-edff9a04a622",
   "metadata": {},
   "outputs": [],
   "source": [
    "#token = ac.login(input(\"Enter user name: (+ENTER) \"),getpass(\"Enter password: (+ENTER) \"))\n",
    "#print(token)\n",
    "ac.whoAmI()"
   ]
  },
  {
   "cell_type": "markdown",
   "id": "d94486a2",
   "metadata": {},
   "source": [
    "<a class=\"anchor\" id=\"Query\"></a>\n",
    "# Querying the Astro Data Lab \n",
    "\n",
    "To access the data we will use to create the MOCs, we must draft some [ADQL](https://datalab.noirlab.edu/img/ADQL-20081030.pdf) queries like the following:\n",
    "\n",
    "SELECT TOP 25000 ra, dec, gmag, random_id FROM smash_dr2.object WHERE random_id BETWEEN 25.0 AND 25.01\n",
    "\n",
    "After running the query for SMASH, we will need to repeat the process for the DECaPS and DES surveys. If you find yourself getting stuck with SQL/ADQL, you can visit the following link to learn about common [SQL Gotchas](https://datalab.noirlab.edu/docs/manual/UsingAstroDataLab/SQLGotchas/index.html?highlight=sql)."
   ]
  },
  {
   "cell_type": "code",
   "execution_count": null,
   "id": "6458b0ee-e78a-49e3-967f-c4ab652038c7",
   "metadata": {},
   "outputs": [],
   "source": [
    "query = 'SELECT TOP 25000 ra, dec, mag_auto_g, random_id FROM des_dr2.main WHERE random_id BETWEEN 25.0 AND 25.01'\n",
    "des = qc.query(sql = query, fmt = 'pandas')\n",
    "\n",
    "# Let's add a column to the surveys\n",
    "# Attach the survey name to each row\n",
    "des['survey'] = 'des_dr2'\n",
    "\n",
    "print('des_dr2 catalog')\n",
    "print (des)"
   ]
  },
  {
   "cell_type": "code",
   "execution_count": null,
   "id": "194466ec-6343-4b99-84fc-2cb8d0ba6a44",
   "metadata": {},
   "outputs": [],
   "source": [
    "query2 = 'SELECT TOP 25000 ra, dec, gmag, random_id FROM smash_dr2.object WHERE random_id BETWEEN 25.0 AND 25.01'\n",
    "smash = qc.query(sql = query2, fmt = 'pandas')\n",
    "\n",
    "smash['survey'] = 'smash_dr2'\n",
    "\n",
    "print('smash_dr2')\n",
    "print (smash)"
   ]
  },
  {
   "cell_type": "code",
   "execution_count": null,
   "id": "2c717402-56ac-402b-91c9-11c9c67305bd",
   "metadata": {},
   "outputs": [],
   "source": [
    "query3 = 'SELECT TOP 25000 ra, dec, mean_r, random_id FROM decaps_dr2.object WHERE random_id BETWEEN 25.0 AND 25.1'\n",
    "decaps = qc.query(sql = query3, fmt = 'pandas')\n",
    "\n",
    "decaps['survey'] = 'decaps_dr2'\n",
    "\n",
    "print('decaps_dr2')\n",
    "print (decaps)"
   ]
  },
  {
   "cell_type": "markdown",
   "id": "6844f3a9-d83e-4362-94f8-d6825fba45df",
   "metadata": {},
   "source": [
    "<a class=\"anchor\" id=\"prepare\"></a>\n",
    "# Prepare MOCs\n",
    "\n",
    "Now that all three datasets have been downloaded, we can now create Multi-Order Coverage maps (MOCs) for each of them using the mocpy library. "
   ]
  },
  {
   "cell_type": "code",
   "execution_count": null,
   "id": "2bcc9f0f-29ab-4eea-b110-d1e9d8971b45",
   "metadata": {},
   "outputs": [],
   "source": [
    "def prepare_mocs(dataframe, max_norder):\n",
    "    '''\n",
    "    This function will perform two tasks:\n",
    "    (1) Read in columns of a dataframe and output a dictionary that is compatible with Aladin Lite\n",
    "\n",
    "    (2) Use the ra and dec info from the dictionary to create a MOC.\n",
    "    '''\n",
    "    # Define a dictionary\n",
    "    col_dict = {}\n",
    "    \n",
    "    # Read in all of the column names and then add them to the dictionary.\n",
    "    for c in dataframe.columns:\n",
    "        col_dict[c] = dataframe[c].values\n",
    "        \n",
    "    # Now we are going to establish our MOC.  \n",
    "    # Provide MOC.from_longlat() with ra and dec in degrees\n",
    "    # max_norder:The depth of the smallest HEALPix cells contained in the MOC. Min = 1 | Max = 10\n",
    "    moc = MOC.from_lonlat(\n",
    "              col_dict['ra'].transpose() * u.deg,\n",
    "              col_dict['dec'].transpose() * u.deg,\n",
    "              max_norder=max_norder)\n",
    "\n",
    "    return col_dict, moc"
   ]
  },
  {
   "cell_type": "markdown",
   "id": "c41a8598-9615-45b6-abc0-18131070c569",
   "metadata": {},
   "source": [
    "Before calling the prepare() function, we will need to create a list for each survey that contains the column names that we want to pass to Aladin. "
   ]
  },
  {
   "cell_type": "code",
   "execution_count": null,
   "id": "008611c0-2e83-4eed-b1a0-2608e40158bd",
   "metadata": {},
   "outputs": [],
   "source": [
    "des_dict, des_dr2_moc = prepare_mocs(des, max_norder=5)\n",
    "\n",
    "smash_dict, smash_dr2_moc = prepare_mocs(smash, max_norder=5)\n",
    "\n",
    "decaps_dict, decaps_dr2_moc = prepare_mocs(decaps, max_norder=5)"
   ]
  },
  {
   "cell_type": "markdown",
   "id": "65507dd7-ea04-4c11-b323-a0584a122bcd",
   "metadata": {},
   "source": [
    "<a class=\"anchor\" id=\"Plot\"></a>\n",
    "# Plot the MOCs\n",
    "\n",
    "Before displaying the MOCs on Aladin, lets see what they look like using Matplotlib."
   ]
  },
  {
   "cell_type": "code",
   "execution_count": null,
   "id": "eb896a70-8ac2-477e-84a9-3dd058b14752",
   "metadata": {},
   "outputs": [],
   "source": [
    "def plot_mocs(moc, color, legend, title=\"\"):\n",
    "    fig = plt.figure(figsize=(15, 10))\n",
    "\n",
    "    for c,m in enumerate(moc):\n",
    "        wcs = WCS(naxis=2)\n",
    "        wcs.wcs.ctype = [\"GLON-AIT\", \"GLAT-AIT\"] #Hammer-Aitoff projection\n",
    "        wcs.wcs.crval = [300.0, 0.0]             #Specify the value of the reference pixel\n",
    "        wcs.wcs.cdelt = [-0.675, 0.675]\n",
    "        wcs.wcs.crpix = [240.5, 120.5]\n",
    "    \n",
    "        if c == 0:\n",
    "            ax = fig.add_subplot(1, 1, 1, projection=wcs, frame_class=EllipticalFrame)\n",
    "            patches = []\n",
    "    \n",
    "        m.fill(\n",
    "            ax=ax,\n",
    "            wcs=wcs,\n",
    "            edgecolor=color[c],\n",
    "            facecolor=color[c],\n",
    "            linewidth=1.0,\n",
    "            fill=True,\n",
    "            alpha=0.5,\n",
    "        )\n",
    "        m.border(ax=ax, wcs=wcs, color=\"black\", alpha=1)\n",
    "    \n",
    "        plt.xlabel(\"ra\")\n",
    "        plt.ylabel(\"dec\")\n",
    "        \n",
    "        if title:\n",
    "            plt.title(title)\n",
    "        plt.grid(color=\"black\", linestyle=\"dotted\")\n",
    "        \n",
    "        patches.append(mpatches.Patch(color=color[c], label=legend[c]))\n",
    "        plt.legend(handles=patches)\n",
    "        \n",
    "    plt.show()\n",
    "    plt.close()"
   ]
  },
  {
   "cell_type": "code",
   "execution_count": null,
   "id": "7b9da9b5-2059-4bf0-ac26-c156e48dd1d4",
   "metadata": {},
   "outputs": [],
   "source": [
    "moc = [des_dr2_moc, smash_dr2_moc, decaps_dr2_moc]\n",
    "legend = ['des_dr2_moc', 'smash_dr2_moc', 'decaps_dr2_moc']\n",
    "colors = ['cyan', 'red', 'blue']\n",
    "plot_mocs(moc,title='',color=colors,legend=legend)"
   ]
  },
  {
   "cell_type": "markdown",
   "id": "28556da1-69bc-4d3f-bc9c-a29cb739f360",
   "metadata": {
    "execution": {
     "iopub.execute_input": "2024-08-14T18:58:40.501409Z",
     "iopub.status.busy": "2024-08-14T18:58:40.501123Z",
     "iopub.status.idle": "2024-08-14T18:58:40.503838Z",
     "shell.execute_reply": "2024-08-14T18:58:40.503475Z",
     "shell.execute_reply.started": "2024-08-14T18:58:40.501395Z"
    }
   },
   "source": [
    "<a class=\"anchor\" id=\"AladinMOCs\"></a>\n",
    "# Add the MOC to Aladin\n",
    "\n",
    "Now that we have seen the survey coverage using Matplotlib, let's use ipyaladin's add_moc() function to overlay the MOCs onto Aladin."
   ]
  },
  {
   "cell_type": "code",
   "execution_count": null,
   "id": "b3508786-cdbe-4ef0-9650-90805f89b78c",
   "metadata": {},
   "outputs": [],
   "source": [
    "aladin.add_moc(des_dr2_moc, color='cyan',   name='des_dr2_moc', opacity=0.4)\n",
    "aladin.add_moc(smash_dr2_moc, color='red',  name='smash_dr2_moc', opacity=0.4)\n",
    "aladin.add_moc(decaps_dr2_moc, color='blue', name='decaps_dr2_moc', opacity=0.4)"
   ]
  },
  {
   "cell_type": "markdown",
   "id": "f30c8ee8-ba95-48bd-9487-a7bbdea46efb",
   "metadata": {},
   "source": [
    "By now, all three MOCs are displayed on the Aladin viewer. Take the time to zoom in and pan around to view the areas where the different surveys overlap. "
   ]
  },
  {
   "cell_type": "markdown",
   "id": "f9ea8c59-5071-4c5b-89af-143a7e3db317",
   "metadata": {},
   "source": [
    "<a class=\"anchor\" id=\"source\"></a>\n",
    "# Display individual sources on Aladin\n",
    "\n",
    "Now, let's plot the individual sources onto Aladin. Currently, Aladin Lite only works reliably with QTables, so we are going to reformat our pandas data frames into something the Aladin viewer will accept. "
   ]
  },
  {
   "cell_type": "code",
   "execution_count": null,
   "id": "86418d10-ba28-418a-8703-15860d3be3cb",
   "metadata": {},
   "outputs": [],
   "source": [
    "#des_dr2\n",
    "des_table    = QTable([des_dict['ra'],des_dict['dec'],des.index,\\\n",
    "                      des_dict['mag_auto_g'],des_dict['survey']],\\\n",
    "                      names=[\"ra\",\"dec\",\"index\",\"mag_auto_g\",\"survey\"])\n",
    "\n",
    "#smash_dr2\n",
    "smash_table  = QTable([smash_dict['ra'],smash_dict['dec'],smash.index,\\\n",
    "                      smash_dict['gmag'],smash_dict['survey']],\\\n",
    "                      names=[\"ra\",\"dec\",\"index\",\"gmag\",\"survey\"])\n",
    "\n",
    "#decaps_dr2\n",
    "decaps_table = QTable([decaps_dict['ra'],decaps_dict['dec'],decaps.index,\\\n",
    "                      decaps_dict['mean_r'],decaps_dict['survey']],\\\n",
    "                      names=[\"ra\",\"dec\",\"index\",\"mean_r\",\"survey\"])"
   ]
  },
  {
   "cell_type": "markdown",
   "id": "2190423c-122d-4c16-97a1-76e6157b15e3",
   "metadata": {},
   "source": [
    "With our datasets reformatted, we can add now display on the Aladin viewer using the add_table() function.  "
   ]
  },
  {
   "cell_type": "code",
   "execution_count": null,
   "id": "8170a7f3-9a8c-488e-ad07-9292de8bf66b",
   "metadata": {},
   "outputs": [],
   "source": [
    "aladin.add_table(des_table,name='des_dr2',color='cyan')\n",
    "aladin.add_table(smash_table,name='smash_dr2',color='red')\n",
    "aladin.add_table(decaps_table,name='decaps_dr2',color='blue')"
   ]
  },
  {
   "cell_type": "markdown",
   "id": "1f116bed-78af-4174-b878-22011c46be95",
   "metadata": {},
   "source": [
    "By now, your Aladin viewer maybe hard to read since there are many MOCs and individual data points plotted ontop of each other. You can remove some of these objects by clicking the 'Overlays menu' in your Aladin viewer. A dropdown menu will appear displaying the names of all the MOCs and data tables currently being displayed. From there, you can hover your mouse over any item and either click on the 'eye' icon to hide the object, or the 'trash' icon to fully remove it from the viewer. \n",
    "\n",
    "![Pointing out the location of the hide and remove icons in Aladin Lite.](Remove_layer.png \"Remove layer.\")"
   ]
  },
  {
   "cell_type": "code",
   "execution_count": null,
   "id": "997319fd-c8d1-4996-8c39-b74f469d78e9",
   "metadata": {},
   "outputs": [],
   "source": []
  }
 ],
 "metadata": {
  "kernelspec": {
   "display_name": "Python 3 (DL,Py3.10.13)",
   "language": "python",
   "name": "python3"
  },
  "language_info": {
   "codemirror_mode": {
    "name": "ipython",
    "version": 3
   },
   "file_extension": ".py",
   "mimetype": "text/x-python",
   "name": "python",
   "nbconvert_exporter": "python",
   "pygments_lexer": "ipython3",
   "version": "3.10.13"
  }
 },
 "nbformat": 4,
 "nbformat_minor": 5
}
