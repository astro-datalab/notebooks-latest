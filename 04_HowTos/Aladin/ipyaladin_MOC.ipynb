{
 "cells": [
  {
   "cell_type": "code",
   "execution_count": null,
   "id": "f03a30fa-d2e5-4382-899c-d8972bad4322",
   "metadata": {},
   "outputs": [],
   "source": [
    "__author__ = 'Brian Merino <brian.merino@noirlab.edu>'\n",
    "__version__ = '04/16/2025' # yyyymmdd; version datestamp of this notebook\n",
    "__keywords__ = ['Aladin','smash','des','delve']"
   ]
  },
  {
   "cell_type": "markdown",
   "id": "52f7270b-7f06-420c-940c-78abf9c1babd",
   "metadata": {},
   "source": [
    "# Generating MOCs with Aladin Lite v3"
   ]
  },
  {
   "cell_type": "markdown",
   "id": "f23526e2-41cc-46c9-b03e-7ebffb32697a",
   "metadata": {},
   "source": [
    "## Table of contents\n",
    "* [Goals](#goals)\n",
    "* [Summary](#summary)\n",
    "* [Disclaimers and attribution](#disclaimer)\n",
    "* [Imports and setup](#imports)\n",
    "* [Start Aladin viewer](#Aladin)\n",
    "* [Accessing the data](#Data)\n",
    "* [Querying the Data Lab database](#Query)\n",
    "* [Prepare MOCs](#prepare)\n",
    "* [Plot the MOCs](#Plot)\n",
    "* [Add MOCs to Aladin](#AladinMOCs)\n",
    "* [Add individual sources to Aladin](#source)\n",
    "\n",
    "<a class=\"anchor\" id=\"goals\"></a>\n",
    "# Goals\n",
    "Showcase how to query the Data Lab via the query client service and use the data to create Multi-Order Coverage maps (MOCs) that will then be displayed with the Aladin Lite viewer.\n",
    "\n",
    "<a class=\"anchor\" id=\"summary\"></a>\n",
    "# Summary\n",
    "Aladin Lite is an interactive sky atlas that runs in your browser. Aladin can be used to explore the sky and has built-in functionality that makes it possible to overlay images onto the viewer and identify objects included in databases. This notebook will demonstrate how to create and overlay several MOCs onto Aladin, which would help identify overlapping datasets. \n",
    "\n",
    "The MOCs generated in this notebook will be used to display the survey footprints, making it possible to visualize any overlaps. \n",
    "\n",
    "Visualizing surveys like this could help identify whether a source of interest has already been observed by a survey in the Data Lab, which could be helpful in preparing a telescope proposal. \n",
    "\n",
    "\n",
    "\n",
    "<a class=\"anchor\" id=\"disclaimer\"></a>\n",
    "# Disclaimer & attribution\n",
    "If you use this notebook for your published science, please acknowledge the following:\n",
    "\n",
    "* Data Lab concept paper: Fitzpatrick et al., <a href=\"http://dx.doi.org/10.1117/12.2057445\">\"The NOAO Data Laboratory: a conceptual overview\"</a>, SPIE, 9149, 2014\n",
    "\n",
    "* <a href=\"https://datalab.noirlab.edu/disclaimers.php\">Data Lab disclaimer</a>"
   ]
  },
  {
   "cell_type": "markdown",
   "id": "cb539c88-6892-4c9b-b773-f447ea47ba54",
   "metadata": {},
   "source": [
    "<a class=\"anchor\" id=\"imports\"></a>\n",
    "# Imports and setup\n",
    "\n",
    "This is the setup that is required to use the query client. The first thing to do is import the relevant Python modules."
   ]
  },
  {
   "cell_type": "code",
   "execution_count": null,
   "id": "afcdbdd2-0bf4-4335-bbd0-85f684ffb0c9",
   "metadata": {},
   "outputs": [],
   "source": [
    "#plotting\n",
    "import matplotlib.pyplot as plt\n",
    "import matplotlib.patches as mpatches\n",
    "\n",
    "# Standard lib\n",
    "from getpass import getpass\n",
    "\n",
    "# Data Lab\n",
    "from dl import authClient as ac, queryClient as qc\n",
    "\n",
    "#astropy\n",
    "import astropy.units as u\n",
    "from astropy.visualization.wcsaxes.frame import EllipticalFrame\n",
    "from astropy.wcs import WCS\n",
    "from astropy.table import QTable\n",
    "\n",
    "#ipyaladin \n",
    "from mocpy import MOC\n",
    "from ipyaladin import Aladin\n",
    "from sidecar import Sidecar\n",
    "\n",
    "%matplotlib inline"
   ]
  },
  {
   "cell_type": "markdown",
   "id": "54d94d8a-a81b-4538-8186-64559477a26b",
   "metadata": {},
   "source": [
    "<a class=\"anchor\" id=\"Aladin\"></a>\n",
    "# Start Aladin Viewer\n",
    "\n",
    "Let's start by opening an Aladin Lite viewer using SideCar. Running the following cell will open a new window to the right of where the notebook's cells are shown. \n",
    "\n",
    "Note: You do not need to use Sidecar to establish an Aladin Lite viewer session. If you were to just run the first line of the cell block, Aladin Lite would be opened below the code block. You could still interact with the viewer and utilize all of Aladin Lite's tools, but the session would remain below this code block, meaning you would need to scroll back up to this cell everytime you wanted to visit the viewer. "
   ]
  },
  {
   "cell_type": "code",
   "execution_count": null,
   "id": "5cecb0e5-66ea-43ac-9d02-a8d68963b1b1",
   "metadata": {},
   "outputs": [],
   "source": [
    "aladin = Aladin()\n",
    "with Sidecar(title='aladin_output'):\n",
    "    display(aladin)"
   ]
  },
  {
   "cell_type": "markdown",
   "id": "feaaa085-001b-4ac1-92a9-779668fe9153",
   "metadata": {},
   "source": [
    "<a class=\"anchor\" id=\"Data\"></a>\n",
    "# Accessing the data\n",
    "\n",
    "To create the MOCs that will be overlayed onto Aladin, we will use the mocpy library. But first, we need some data. For this tutorial, we will take advantage of some of the many data sets that are hosted by the Astro Data Lab. Specifically, we will be working with data from three surveys: The **S**urvey of the **MA**gellanic **S**tellar **H**istory [(**SMASH**)](https://datalab.noirlab.edu/smash/smash.php), The **D**ark **E**negery **S**urvey [(**DES**)](https://datalab.noirlab.edu/des/index.php), and The **DEC**am **P**lane **S**urvey [(**DECaPS DR2**)](https://datalab.noirlab.edu/decaps/index.php).\n",
    "\n",
    "### Authentication\n",
    "\n",
    "Much of the functionality of Data Lab can be accessed without explicitly logging in (the service then uses an anonymous login). However, some capacities, such as saving the results of your queries to your virtual storage space, require a login (i.e., you will need a registered user account).\n",
    "\n",
    "If you need to log in to Data Lab, un-comment the first line of code in the cell below and execute it:"
   ]
  },
  {
   "cell_type": "code",
   "execution_count": null,
   "id": "60eb5831-9dec-4794-9bea-edff9a04a622",
   "metadata": {},
   "outputs": [],
   "source": [
    "#token = ac.login(input(\"Enter user name: (+ENTER) \"),getpass(\"Enter password: (+ENTER) \"))\n",
    "#print(token)\n",
    "ac.whoAmI()"
   ]
  },
  {
   "cell_type": "markdown",
   "id": "ebde264b-d4fc-4b05-8a90-c2ff4e769cde",
   "metadata": {},
   "source": [
    "<a class=\"anchor\" id=\"Query\"></a>\n",
    "# Querying the Astro Data Lab \n",
    "\n",
    "To access the data we will use to create the MOCs, we must draft some [ADQL](https://datalab.noirlab.edu/img/ADQL-20081030.pdf) queries. Like SQL, the general format of an ADQL query uses at least three commands: SELECT, FROM, and WHERE. SELECT identifies which columns you want to extract data from, FROM identifies which table you want to pull the columns from, and WHERE allows you to put constraints on your search (such as only select rows WHERE the magnitude is less than 20.0). \n",
    "\n",
    "We are essentially using the Astro Data Lab's [Web query interface](https://datalab.noirlab.edu/query.php) ([click here to view the web query interface user manual](https://datalab.noirlab.edu/docs/manual/UsingAstroDataLab/WebPortal/DataExplorer/WebQuery/WebQuery.html?highlight=query%20interface)) tool to obtain the data. One power feature of this tool is that you can go through the tap schema for every table hosted by the Data Lab. This is an important tool to become familiar with because most of the surveys that the Data Lab hosts contain multiple data releases, each of which can contain multiple tables. For instance, the SMASH survey has two data releases. We are interested in the second data release, but this release contains 11 tables. We are interested in the object table, so our FROM command should look like this: FROM smash_dr2.object.\n",
    "\n",
    "Now that we know which table we are interested in, we must identify which columns to pull data from. Clicking on smash_dr2.object in the tap schema will open a new tab in the Query Interface tool, Column Information. Here, you will find all the columns in the table followed by a brief description and their data types. For this tutorial, we will be interested in the columns corresponding to the coordinates (ra and dec), g band magnitudes (mag_auto_g), and random_id. So our SELECT command should look like: SELECT ra, dec, mag_auto_g, random_id. \n",
    "\n",
    "Before continuing, it is important to note that although columns like ra and dec will appear in most tables, their names can change depending on the table you are working with. For the SMASH table we are working with here, they are listed as ra and dec, but if we were using the euclid_ero.fornax_vis table, we would need to call alpha_j2000 and delta_j2000\n",
    "\n",
    "All the tables hosted by the Data Lab greatly vary in size, but most are very large. So, we will need to modify our SELECT command so it doesn't select every row of the table. We will use the TOP command to do this, which only returns the top x  values from a specified column (where x is a specific integer value). So our SELECT command can be rewritten as: SELECT TOP 25000 ra, dec, mag_auto_g, random_id.\n",
    "\n",
    "Finally, we need to establish our search constraints using WHERE. To create the MOC for this table, we could select every row in the table and identify the boundaries of the table, but the smash_dr2.object table has 360,201,921 rows which would not only take a long time to download, but a table of this size would crash the Jupyter Notebook and Aladin Lite. To avoid this, we are going to utilize the random_id column. As the name implies, this column contains a unique random ID for each row whose values are floats in the range 0.0 and 100.0. Because the table is so large, we only need to establish a small window, say between 25.0 and 25.01. To use the WHERE command, we need to provide a column that the constraint will be applied to (random_id) and a constraint. In this case, our constraint is to only select rows whose random_id values are BETWEEN 25.0 and 25.01. So our WHERE command will look like: WHERE random_id BETWEEN 25.0 AND 25.01.\n",
    "\n",
    "Putting all of this together leaves us with the following query:\n",
    "\n",
    "SELECT TOP 25000 ra, dec, gmag, random_id FROM smash_dr2.object WHERE random_id BETWEEN 25.0 AND 25.01\n",
    "\n",
    "Now that we have an ADQL query prepared for SMASH, we will need to repeat the process to query the DECaPS and DES surveys. If you find yourself getting stuck with SQL/ADQL, you can visit the following link to learn about common [SQL Gotchas](https://datalab.noirlab.edu/docs/manual/UsingAstroDataLab/SQLGotchas/index.html?highlight=sql)."
   ]
  },
  {
   "cell_type": "code",
   "execution_count": null,
   "id": "6458b0ee-e78a-49e3-967f-c4ab652038c7",
   "metadata": {},
   "outputs": [],
   "source": [
    "query = 'SELECT TOP 25000 ra, dec, mag_auto_g, random_id FROM des_dr2.main WHERE random_id BETWEEN 25.0 AND 25.01'\n",
    "des = qc.query(sql = query, fmt = 'pandas')\n",
    "\n",
    "# Let's add two additional columns to the surveys\n",
    "# The first assigns a unique index to each data point.\n",
    "# The second attaches the survey name to each row\n",
    "des['index'] = list(range(0,len(des)))\n",
    "des['survey'] = 'des_dr2'\n",
    "\n",
    "print('des_dr2 catalog')\n",
    "print (des)"
   ]
  },
  {
   "cell_type": "code",
   "execution_count": null,
   "id": "194466ec-6343-4b99-84fc-2cb8d0ba6a44",
   "metadata": {},
   "outputs": [],
   "source": [
    "query2 = 'SELECT TOP 25000 ra, dec, gmag, random_id FROM smash_dr2.object WHERE random_id BETWEEN 25.0 AND 25.01'\n",
    "smash = qc.query(sql = query2, fmt = 'pandas')\n",
    "\n",
    "smash['index'] = list(range(0,len(smash)))\n",
    "smash['survey'] = 'smash_dr2'\n",
    "\n",
    "print('smash_dr2')\n",
    "print (smash)"
   ]
  },
  {
   "cell_type": "code",
   "execution_count": null,
   "id": "2c717402-56ac-402b-91c9-11c9c67305bd",
   "metadata": {},
   "outputs": [],
   "source": [
    "query3 = 'SELECT TOP 25000 ra, dec, mean_r, random_id FROM decaps_dr2.object WHERE random_id BETWEEN 25.0 AND 25.1'\n",
    "decaps = qc.query(sql = query3, fmt = 'pandas')\n",
    "\n",
    "decaps['index'] = list(range(0,len(decaps)))\n",
    "decaps['survey'] = 'decaps_dr2'\n",
    "\n",
    "print('decaps_dr2')\n",
    "print (decaps)"
   ]
  },
  {
   "cell_type": "markdown",
   "id": "6844f3a9-d83e-4362-94f8-d6825fba45df",
   "metadata": {},
   "source": [
    "<a class=\"anchor\" id=\"prepare\"></a>\n",
    "# Prepare MOCs\n",
    "\n",
    "Now that all three datasets have been downloaded, we can now create Multi-Order Coverage maps (MOCs) for each of them using the mocpy library. "
   ]
  },
  {
   "cell_type": "code",
   "execution_count": null,
   "id": "760bc11b",
   "metadata": {},
   "outputs": [],
   "source": [
    "def prepare(columns, dataframe, max_norder):\n",
    "    '''\n",
    "    This function will perform two tasks:\n",
    "    (1) Read in columns of a dataframe and output a dictionary that is compatible with Aladin Lite\n",
    "\n",
    "    (2) Use the ra and dec info from the dictionary to create a MOC.\n",
    "    '''\n",
    "    # Define a dictionary\n",
    "    col_dict = {}\n",
    "    \n",
    "    # Read each item in the provided list and extract the values from the dataframe. Assign values to the dictionary.\n",
    "    for c in columns:\n",
    "        col_dict[c] = dataframe[c].values\n",
    "        \n",
    "    # Now we are going to establish our MOC.  \n",
    "    # Provide MOC.from_longlat() with ra and dec in degrees\n",
    "    # max_norder:The depth of the smallest HEALPix cells contained in the MOC. Min = 1 | Max = 10\n",
    "    moc = MOC.from_lonlat(\n",
    "              col_dict['ra'].transpose() * u.deg,\n",
    "              col_dict['dec'].transpose() * u.deg,\n",
    "              max_norder=max_norder)\n",
    "\n",
    "    return col_dict, moc"
   ]
  },
  {
   "cell_type": "markdown",
   "id": "c41a8598-9615-45b6-abc0-18131070c569",
   "metadata": {},
   "source": [
    "Before calling the prepare() function, we will need to create a list for each survey that contains the column names that we want to pass to Aladin. "
   ]
  },
  {
   "cell_type": "code",
   "execution_count": null,
   "id": "71b378cd",
   "metadata": {
    "scrolled": true
   },
   "outputs": [],
   "source": [
    "des_list = ['ra','dec','index','mag_auto_g','survey']\n",
    "des_dict, des_dr2_moc = prepare(des_list, des, max_norder=5)\n",
    "\n",
    "smash_list = ['ra','dec','index','gmag','survey']\n",
    "smash_dict, smash_dr2_moc = prepare(smash_list, smash, max_norder=5)\n",
    "\n",
    "decaps_list = ['ra','dec','index','mean_r','survey']\n",
    "decaps_dict, decaps_dr2_moc = prepare(decaps_list, decaps, max_norder=5)"
   ]
  },
  {
   "cell_type": "markdown",
   "id": "65507dd7-ea04-4c11-b323-a0584a122bcd",
   "metadata": {},
   "source": [
    "<a class=\"anchor\" id=\"Plot\"></a>\n",
    "# Plot the MOCs\n",
    "\n",
    "Before displaying the MOCs on Aladin, lets see what they look like using Matplotlib."
   ]
  },
  {
   "cell_type": "code",
   "execution_count": null,
   "id": "eb896a70-8ac2-477e-84a9-3dd058b14752",
   "metadata": {},
   "outputs": [],
   "source": [
    "def plot(moc, color, legend, title=\"\"):\n",
    "    fig = plt.figure(figsize=(15, 10))\n",
    "\n",
    "    for c,m in enumerate(moc):\n",
    "        wcs = WCS(naxis=2)\n",
    "        wcs.wcs.ctype = [\"GLON-AIT\", \"GLAT-AIT\"] #Hammer-Aitoff projection\n",
    "        wcs.wcs.crval = [300.0, 0.0]             #Specify the value of the reference pixel\n",
    "        wcs.wcs.cdelt = [-0.675, 0.675]\n",
    "        wcs.wcs.crpix = [240.5, 120.5]\n",
    "    \n",
    "        if c == 0:\n",
    "            ax = fig.add_subplot(1, 1, 1, projection=wcs, frame_class=EllipticalFrame)\n",
    "            patches = []\n",
    "    \n",
    "        m.fill(\n",
    "            ax=ax,\n",
    "            wcs=wcs,\n",
    "            edgecolor=color[c],\n",
    "            facecolor=color[c],\n",
    "            linewidth=1.0,\n",
    "            fill=True,\n",
    "            alpha=0.5,\n",
    "        )\n",
    "        m.border(ax=ax, wcs=wcs, color=\"black\", alpha=1)\n",
    "    \n",
    "        plt.xlabel(\"ra\")\n",
    "        plt.ylabel(\"dec\")\n",
    "        \n",
    "        if title:\n",
    "            plt.title(title)\n",
    "        plt.grid(color=\"black\", linestyle=\"dotted\")\n",
    "        \n",
    "        patches.append(mpatches.Patch(color=color[c], label=legend[c]))\n",
    "        plt.legend(handles=patches)\n",
    "        \n",
    "    plt.show()\n",
    "    plt.close()"
   ]
  },
  {
   "cell_type": "code",
   "execution_count": null,
   "id": "7b9da9b5-2059-4bf0-ac26-c156e48dd1d4",
   "metadata": {},
   "outputs": [],
   "source": [
    "moc = [des_dr2_moc, smash_dr2_moc, decaps_dr2_moc]\n",
    "legend = ['des_dr2_moc', 'smash_dr2_moc', 'decaps_dr2_moc']\n",
    "colors = ['cyan', 'red', 'blue', 'yellow', 'purple']\n",
    "plot(moc,title='',color=colors,legend=legend)"
   ]
  },
  {
   "cell_type": "markdown",
   "id": "28556da1-69bc-4d3f-bc9c-a29cb739f360",
   "metadata": {
    "execution": {
     "iopub.execute_input": "2024-08-14T18:58:40.501409Z",
     "iopub.status.busy": "2024-08-14T18:58:40.501123Z",
     "iopub.status.idle": "2024-08-14T18:58:40.503838Z",
     "shell.execute_reply": "2024-08-14T18:58:40.503475Z",
     "shell.execute_reply.started": "2024-08-14T18:58:40.501395Z"
    }
   },
   "source": [
    "<a class=\"anchor\" id=\"AladinMOCs\"></a>\n",
    "# Add the MOC to Aladin\n",
    "\n",
    "Now that we have seen the survey coverage using Matplotlib, let's use ipyaladin's add_moc() function to overlay the MOCs onto Aladin."
   ]
  },
  {
   "cell_type": "code",
   "execution_count": null,
   "id": "b3508786-cdbe-4ef0-9650-90805f89b78c",
   "metadata": {},
   "outputs": [],
   "source": [
    "aladin.add_moc(des_dr2_moc, color='red',   name='des_dr2_moc', opacity=0.4)\n",
    "aladin.add_moc(smash_dr2_moc, color='blue',  name='smash_dr2_moc', opacity=0.4)\n",
    "aladin.add_moc(decaps_dr2_moc, color='yellow', name='decaps_dr2_moc', opacity=0.4)"
   ]
  },
  {
   "cell_type": "markdown",
   "id": "f9ea8c59-5071-4c5b-89af-143a7e3db317",
   "metadata": {},
   "source": [
    "<a class=\"anchor\" id=\"source\"></a>\n",
    "# Display individual sources on Aladin\n",
    "\n",
    "Now, let's plot the individual sources onto Aladin. Currently, Aladin Lite only works reliably with QTables, so we are going to reformat our pandas data frames into something the Aladin viewer will accept. "
   ]
  },
  {
   "cell_type": "code",
   "execution_count": null,
   "id": "86418d10-ba28-418a-8703-15860d3be3cb",
   "metadata": {},
   "outputs": [],
   "source": [
    "#des_dr2\n",
    "des_table    = QTable([des_dict['ra'],des_dict['dec'],des_dict['index'],\\\n",
    "                      des_dict['mag_auto_g'],des_dict['survey']],\\\n",
    "                      names=[\"ra\",\"dec\",\"index\",\"mag_auto_g\",\"survey\"])\n",
    "\n",
    "#smash_dr2\n",
    "smash_table  = QTable([smash_dict['ra'],smash_dict['dec'],smash_dict['index'],\\\n",
    "                      smash_dict['gmag'],smash_dict['survey']],\\\n",
    "                      names=[\"ra\",\"dec\",\"index\",\"gmag\",\"survey\"])\n",
    "\n",
    "#decaps_dr2\n",
    "decaps_table = QTable([decaps_dict['ra'],decaps_dict['dec'],decaps_dict['index'],\\\n",
    "                      decaps_dict['mean_r'],decaps_dict['survey']],\\\n",
    "                      names=[\"ra\",\"dec\",\"index\",\"mean_r\",\"survey\"])"
   ]
  },
  {
   "cell_type": "markdown",
   "id": "2190423c-122d-4c16-97a1-76e6157b15e3",
   "metadata": {},
   "source": [
    "With our datasets reformatted, we can add now display on the Aladin viewer using the add_table() function.  "
   ]
  },
  {
   "cell_type": "code",
   "execution_count": null,
   "id": "8170a7f3-9a8c-488e-ad07-9292de8bf66b",
   "metadata": {},
   "outputs": [],
   "source": [
    "aladin.add_table(des_table,name='des_dr2')\n",
    "aladin.add_table(smash_table,name='smash_dr2')\n",
    "aladin.add_table(decaps_table,name='decaps_dr2')"
   ]
  },
  {
   "cell_type": "markdown",
   "id": "1f116bed-78af-4174-b878-22011c46be95",
   "metadata": {},
   "source": [
    "By now, your Aladin viewer maybe hard to read since there are many MOCs and individual data points plotted ontop of each other. You can remove some of these objects by clicking the 'Overlays menu' in your Aladin viewer. A dropdown menu will appear displaying the names of all the MOCs and data tables currently being displayed. From there, you can hover your mouse over any item and either click on the 'eye' icon to hide the object, or the 'trash' icon to fully remove it from the viewer. \n",
    "\n",
    "![Pointing out the location of the hide and remove icons in Aladin Lite.](Remove_layer.png \"Remove layer.\")"
   ]
  }
 ],
 "metadata": {
  "kernelspec": {
   "display_name": "Python 3 (DL,Py3.10.13)",
   "language": "python",
   "name": "python3"
  },
  "language_info": {
   "codemirror_mode": {
    "name": "ipython",
    "version": 3
   },
   "file_extension": ".py",
   "mimetype": "text/x-python",
   "name": "python",
   "nbconvert_exporter": "python",
   "pygments_lexer": "ipython3",
   "version": "3.10.13"
  }
 },
 "nbformat": 4,
 "nbformat_minor": 5
}
