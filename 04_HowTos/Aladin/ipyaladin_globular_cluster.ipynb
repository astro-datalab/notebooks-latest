{
 "cells": [
  {
   "cell_type": "code",
   "execution_count": null,
   "id": "fb82713e-e6a9-4149-b44a-fff0d8b8597f",
   "metadata": {},
   "outputs": [],
   "source": [
    "__author__ = 'Brian Merino <brian.merino@noirlab.edu>'\n",
    "__version__ = '08252025' # yyyymmdd; version datestamp of this notebook\n",
    "__keywords__ = ['AladinLite','des','skymapper','globular clusters','ipyaladin']"
   ]
  },
  {
   "cell_type": "markdown",
   "id": "044b1b6e-d568-4bd4-8983-e59b2ee60ecb",
   "metadata": {},
   "source": [
    "# Displaying images and catalogs with Aladin Lite v3"
   ]
  },
  {
   "cell_type": "markdown",
   "id": "ed48d0f1-69bb-4d32-81d1-568b5164fdb9",
   "metadata": {},
   "source": [
    "## Table of contents\n",
    "* [Goals](#goals)\n",
    "* [Summary](#summary)\n",
    "* [Disclaimers and attribution](#disclaimer)\n",
    "* [Imports and setup](#imports)\n",
    "* [Start Aladin viewer](#Aladin)\n",
    "* [Accessing the data](#Data)\n",
    "* [Simple Image Access (SIA) Service Tool](#SIA)\n",
    "* [Query the des_dr2 imaging data](#des_dr2)\n",
    "* [Querying the Data Lab database](#Query)\n",
    "* [Overlay table](#overlay_table)\n",
    "\n",
    "<a class=\"anchor\" id=\"goals\"></a>\n",
    "# Goals\n",
    "Demonstrate how to display image and catalog data with the AladinLite Viewer in a notebook (using ipyaladin). The image and catalog data will be obtained through Data Lab's data services.\n",
    "\n",
    "<a class=\"anchor\" id=\"summary\"></a>\n",
    "# Summary\n",
    "<a href=\"https://aladin.cds.unistra.fr/AladinLite/\">Aladin Lite</a> is an interactive sky atlas that runs in your browser. Aladin can be used to explore the sky and has built-in functionality that makes it possible to overlay images onto the viewer and identify objects included in databases. <a href=\"https://github.com/cds-astro/ipyaladin\">ipyaladin</a> was created to allow Jupyter Notebooks to utilize Aladin Lite's functionality. This notebook will demonstrate how to use ipyaladin to overlay fits files and survey data onto Aladin.\n",
    "\n",
    "Visualizing surveys like this could help identify whether a source of interest has already been observed by a survey in the Data Lab, which could be helpful in preparing a telescope proposal. \n",
    "\n",
    "\n",
    "<a class=\"anchor\" id=\"disclaimer\"></a>\n",
    "# Disclaimer & attribution\n",
    "## Disclaimers\n",
    "Note that using the Astro Data Lab constitutes your agreement with our minimal <a href=\"https://datalab.noirlab.edu/about/disclaimers\">Disclaimers</a>.\n",
    "\n",
    "## Acknowledgments\n",
    "If you use Astro Data Lab in your published research, please include the text in your paper's Acknowledgments section:\n",
    "\n",
    "This research uses services or data provided by the Astro Data Lab, which is part of the Community Science and Data Center (CSDC) Program of NSF NOIRLab. NOIRLab is operated by the Association of Universities for Research in Astronomy (AURA), Inc. under a cooperative agreement with the U.S. National Science Foundation.\n",
    "\n",
    "If you use SPARCL jointly with the Astro Data Lab platform (via JupyterLab, command-line, or web interface) in your published research, please include this text below in your paper's Acknowledgments section:\n",
    "\n",
    "This research uses services or data provided by the SPectra Analysis and Retrievable Catalog Lab (SPARCL) and the Astro Data Lab, which are both part of the Community Science and Data Center (CSDC) Program of NSF NOIRLab. NOIRLab is operated by the Association of Universities for Research in Astronomy (AURA), Inc. under a cooperative agreement with the U.S. National Science Foundation.\n",
    "\n",
    "In either case please cite the following papers:\n",
    "\n",
    "Data Lab concept paper: Fitzpatrick et al., \"The NOAO Data Laboratory: a conceptual overview\", SPIE, 9149, 2014, https://doi.org/10.1117/12.2057445\n",
    "\n",
    "Astro Data Lab overview: Nikutta et al., \"Data Lab - A Community Science Platform\", Astronomy and Computing, 33, 2020, https://doi.org/10.1016/j.ascom.2020.100411\n",
    "\n",
    "If you are referring to the Data Lab JupyterLab / Jupyter Notebooks, cite:\n",
    "\n",
    "Juneau et al., \"Jupyter-Enabled Astrophysical Analysis Using Data-Proximate Computing Platforms\", CiSE, 23, 15, 2021, https://doi.org/10.1109/MCSE.2021.3057097\n",
    "If publishing in a AAS journal, also add the keyword: \\facility{Astro Data Lab}\n",
    "\n",
    "And if you are using SPARCL, please also add \\software{SPARCL} and cite:\n",
    "\n",
    "Juneau et al., \"SPARCL: SPectra Analysis and Retrievable Catalog Lab\", Conference Proceedings for ADASS XXXIII, 2024 https://doi.org/10.48550/arXiv.2401.05576\n",
    "The NOIRLab Library maintains lists of proper acknowledgments to use when publishing papers using the Lab's facilities, data, or services."
   ]
  },
  {
   "cell_type": "markdown",
   "id": "4725d34b-36d7-4388-ad4a-66474771cc71",
   "metadata": {},
   "source": [
    "<a class=\"anchor\" id=\"imports\"></a>\n",
    "# Imports and setup"
   ]
  },
  {
   "cell_type": "code",
   "execution_count": null,
   "id": "a2ad5721-1380-4b06-8587-d28511e1988c",
   "metadata": {},
   "outputs": [],
   "source": [
    "# Standard library\n",
    "from getpass import getpass\n",
    "import time\n",
    "\n",
    "# Third-party libraries\n",
    "import numpy as np\n",
    "import matplotlib.pyplot as plt\n",
    "\n",
    "import astropy.units as u\n",
    "from astropy.wcs import WCS\n",
    "from astropy.table import Table\n",
    "from astropy.utils.data import download_file\n",
    "from astropy.io import fits\n",
    "from astropy.coordinates import SkyCoord\n",
    "from astropy.visualization import make_lupton_rgb, simple_norm\n",
    "from pyvo.dal import sia\n",
    "from ipyaladin import Aladin\n",
    "from sidecar import Sidecar\n",
    "\n",
    "# Data Lab\n",
    "from dl import authClient as ac, queryClient as qc  \n",
    "\n",
    "%matplotlib inline"
   ]
  },
  {
   "cell_type": "markdown",
   "id": "7e05dd60-07f4-4785-a94a-3f30e11ab118",
   "metadata": {},
   "source": [
    "<a class=\"anchor\" id=\"Aladin\"></a>\n",
    "# Start Aladin Viewer\n",
    "\n",
    "Let's start by opening an Aladin Lite viewer using SideCar. Running the following cell will open a new window to the right of where the notebook's cells are shown. \n",
    "\n",
    "Note: You do not need to use Sidecar to establish an Aladin Lite viewer session. If you were to just run the first line of the cell block, Aladin Lite would be opened below the code block. You could still interact with the viewer and utilize all of Aladin Lite's tools, but the session would remain below this code block, meaning you would need to scroll back up to this cell everytime you wanted to visit the viewer. "
   ]
  },
  {
   "cell_type": "code",
   "execution_count": null,
   "id": "a4b0742f-4b85-407f-9892-e67109a7a71a",
   "metadata": {},
   "outputs": [],
   "source": [
    "aladin = Aladin(full_screen=True)\n",
    "with Sidecar(title=\"aladin_output\",anchor='split-right'):\n",
    "    display(aladin)\n",
    "\n",
    "# If you would prefer the Aladin viewer to be displayed somewhere other than the right side,\n",
    "# feel free to uncomment the following code to display Aladin at the bottom of the screen. \n",
    "#with Sidecar(title=\"aladin_output\",anchor='split-bottom'):\n",
    "#    display(aladin)\n",
    "\n",
    "# The following line will make the notebook wait three seconds before continuing. \n",
    "# This will allow the notebook time to bring up the Aladin Viewer before executing\n",
    "# the following commands. \n",
    "time.sleep(3)"
   ]
  },
  {
   "cell_type": "markdown",
   "id": "3be3cfe3-f50a-43b0-b972-b350b0093531",
   "metadata": {},
   "source": [
    "Now that Aladin is running, let's center it on our target, the globular cluster NGC 1851. "
   ]
  },
  {
   "cell_type": "code",
   "execution_count": null,
   "id": "6a6601db-91b3-45a5-bbe5-329173acbaf5",
   "metadata": {},
   "outputs": [],
   "source": [
    "#Center Aladin on NGC 1851\n",
    "ra = 78.525 # in degrees\n",
    "dec = -40.049 # in degrees\n",
    "target_coord = SkyCoord(ra*u.deg,dec*u.deg)\n",
    "aladin.target = target_coord"
   ]
  },
  {
   "cell_type": "markdown",
   "id": "9f8bc8df-c2a0-481e-a965-8b028e4ef8cd",
   "metadata": {},
   "source": [
    "Next, let's adjust the field of view (fov) so we zoom in on the target. "
   ]
  },
  {
   "cell_type": "code",
   "execution_count": null,
   "id": "32c57ce7-1000-4715-babb-aca6867dee69",
   "metadata": {},
   "outputs": [],
   "source": [
    "aladin.fov = 0.2  # set field of view to 0.5 degrees"
   ]
  },
  {
   "cell_type": "markdown",
   "id": "d0ae01a4-9d11-43d5-bb28-836ae54949b2",
   "metadata": {},
   "source": [
    "After running the previous cell, the Aladin viewer is ready to go. However, feel free to adjust the viewer to your liking. By interacting directly with the viewer, you can click on the '+' or '-' buttons located at the bottom left of the viewer to zoom in or out. Additionally, you can click and drag anywhere on the viewer's screen to adjust the center. You can also change the stretch of the image by right-clicking on the viewer and dragging your mouse around to adjust the brightness. "
   ]
  },
  {
   "cell_type": "markdown",
   "id": "746c6242-a8cf-4c62-891f-e5d6967d4c66",
   "metadata": {},
   "source": [
    "<a class=\"anchor\" id=\"Data\"></a>\n",
    "# Accessing the data\n",
    "\n",
    "In this notebook, we are going to access two different datasets. First, we will use the Simple Image Access (SIA) service tool to access imaging data from The **D**ark **E**negery **S**urvey [(**DES**)](https://datalab.noirlab.edu/des/index.php), then we will use the query client to access the [**SkyMapper**](https://datalab.noirlab.edu/data/skymapper) fourth data release to identify sources near our target. \n",
    "\n",
    "Note: If you want to know where to find the URL used here, check out this [Astro Data Lab user manual page](https://datalab.noirlab.edu/docs/manual/UsingAstroDataLab/DataAccessInterfaces/SimpleImageAccessSIA/SimpleImageAccessSIA.html?highlight=sia) for the list of image collection URLs and other helpful information on using the SIA tool. \n",
    "\n",
    "### Authentication\n",
    "\n",
    "Much of the functionality of Data Lab can be accessed without explicitly logging in (the service then uses an anonymous login). However, some capacities, such as saving the results of your queries to your virtual storage space, require a login (i.e., you will need a registered user account).\n",
    "\n",
    "If you need to log in to Data Lab, un-comment the first line of code in the cell below and execute it:"
   ]
  },
  {
   "cell_type": "code",
   "execution_count": null,
   "id": "be60cbf3-a6ce-4669-826c-dfb593ffaec5",
   "metadata": {},
   "outputs": [],
   "source": [
    "#token = ac.login(input(\"Enter user name: (+ENTER) \"),getpass(\"Enter password: (+ENTER) \"))\n",
    "ac.whoAmI()"
   ]
  },
  {
   "cell_type": "markdown",
   "id": "1ac54292-4c35-4c87-98fb-d0c69b283bbf",
   "metadata": {},
   "source": [
    "<a class=\"anchor\" id=\"SIA\"></a>\n",
    "# SIA service tool\n",
    "\n",
    "To access the SIA service tool, we need to establish the URL that points to the collection that holds the images we are interested in. For this example, we will access data from the des_dr2 image collection. "
   ]
  },
  {
   "cell_type": "code",
   "execution_count": null,
   "id": "bb1985ec-530f-4cf0-9079-ba62ce6b4faa",
   "metadata": {},
   "outputs": [],
   "source": [
    "DEF_ACCESS_URL = \"https://datalab.noirlab.edu/sia/des_dr2\"\n",
    "svc_des_dr2 = sia.SIAService(DEF_ACCESS_URL)"
   ]
  },
  {
   "cell_type": "markdown",
   "id": "3e2a276c-8710-4fa1-8bdc-59982b98a9e5",
   "metadata": {},
   "source": [
    "<a class=\"anchor\" id=\"des_dr2\"></a>\n",
    "# Query the des_dr2 imaging data\n",
    "\n",
    "Since we are working with data for the globular cluster NGC 1851 (RA = 78.525 degrees and Dec = -40.049 degrees), we will search for corresponding images in the des_dr2 image collection around these coordinates. Since the field of view (fov) parameter expects values in degrees, we do not need to use a large value.  "
   ]
  },
  {
   "cell_type": "code",
   "execution_count": null,
   "id": "153c6b3f-159c-4c63-b2b9-05928f380947",
   "metadata": {},
   "outputs": [],
   "source": [
    "fov = .2 # in degrees\n",
    "imgTable_des_dr2 = svc_des_dr2.search((ra,dec), (fov/np.cos(dec*np.pi/180), fov), verbosity=2).to_table()\n",
    "print(f\"There are {len(imgTable_des_dr2)} matches. \")"
   ]
  },
  {
   "cell_type": "markdown",
   "id": "37d4bdf9-8c57-4210-b1cc-5ceaa8275ce6",
   "metadata": {},
   "source": [
    "Preview the table"
   ]
  },
  {
   "cell_type": "code",
   "execution_count": null,
   "id": "5a38a4bc-913e-4ac1-bc6f-5b2f24bebe92",
   "metadata": {
    "scrolled": true
   },
   "outputs": [],
   "source": [
    "imgTable_des_dr2"
   ]
  },
  {
   "cell_type": "markdown",
   "id": "9231ccb9-bbeb-4b99-a4e5-6aa6aa489e33",
   "metadata": {},
   "source": [
    "Now that we have a table of images, we will select three different bands to create a false-color RGB image. For this example, we will choose images taken with the Y, Z, and I filters. The reddest filter, Y, will be used for our red image; the bluest, I, for our blue image; and the Z filter, which falls between both, for our green image. Multiple images are taken with each filter. Here, we will select the first image for each filter as it appears in the table.\n",
    "\n",
    "Feel free to change the row used to select the image to see how the RGB image changes. \n",
    "\n",
    "To access the images, we can use their access URLs to download them directly into our notebook."
   ]
  },
  {
   "cell_type": "code",
   "execution_count": null,
   "id": "98cebf5d-67df-4686-991a-c87523516b73",
   "metadata": {},
   "outputs": [],
   "source": [
    "def download_image(url):\n",
    "    filename = download_file(url, cache=True, show_progress=False, timeout=120)\n",
    "    hdu      = fits.open(filename)[0]\n",
    "    image    = hdu.data\n",
    "    hdr      = hdu.header\n",
    "    wcs      = WCS(hdr)\n",
    "\n",
    "    return image,wcs"
   ]
  },
  {
   "cell_type": "code",
   "execution_count": null,
   "id": "9378d818-b5a2-4642-a058-72f15842c426",
   "metadata": {},
   "outputs": [],
   "source": [
    "# Image 1 - Y band\n",
    "row_1 = imgTable_des_dr2[0]\n",
    "url_1 = row_1['access_url']\n",
    "image_1,wcs_1 = download_image(url_1)\n",
    "\n",
    "# Image 2 - Z band\n",
    "row_2 = imgTable_des_dr2[27]\n",
    "url_2 = row_2['access_url']\n",
    "image_2,wcs_2 = download_image(url_2)\n",
    "\n",
    "# Image 3 - I band\n",
    "row_3 = imgTable_des_dr2[15]\n",
    "url_3 = row_3['access_url']\n",
    "image_3,wcs_3 = download_image(url_3)"
   ]
  },
  {
   "cell_type": "markdown",
   "id": "526d2b51-51b5-4537-b5a7-a0b6faa0a416",
   "metadata": {},
   "source": [
    "With all three images opened lets plot them using matplotlib to get an idea of what they look like. "
   ]
  },
  {
   "cell_type": "code",
   "execution_count": null,
   "id": "0eba7f16-21ae-42a2-afe6-3905c3c3f1d9",
   "metadata": {},
   "outputs": [],
   "source": [
    "fig = plt.figure(figsize=(14, 10))\n",
    "\n",
    "# Subplot 1\n",
    "ax1 = fig.add_subplot(1, 3, 1, projection=wcs_1)\n",
    "ax1.set_title('Image 1 - y band')\n",
    "im1 = ax1.imshow(image_1, origin='lower', cmap='Greys_r', vmin=image_1.min(), vmax=image_1.min()+(image_1.max()-image_1.min())/100.)\n",
    "\n",
    "# Subplot 2\n",
    "ax2 = fig.add_subplot(1, 3, 2, projection=wcs_2)\n",
    "ax2.set_title('Image 2 - z band')\n",
    "im2 = ax2.imshow(image_2, origin='lower', cmap='Greys_r', vmin=image_2.min(), vmax=image_2.min()+(image_2.max()-image_2.min())/70.)\n",
    "\n",
    "# Subplot 3\n",
    "ax3 = fig.add_subplot(1, 3, 3, projection=wcs_3)\n",
    "ax3.set_title('Image 3 - i band')\n",
    "im3 = ax3.imshow(image_3, origin='lower', cmap='Greys_r', vmin=image_3.min(), vmax=np.abs(image_3.min())+(image_3.max()-np.abs(image_3.min()))/25.)\n",
    "\n",
    "plt.tight_layout()\n",
    "plt.show()"
   ]
  },
  {
   "cell_type": "markdown",
   "id": "1b02f196-800e-4c0d-8ddc-915ade0a43ab",
   "metadata": {},
   "source": [
    "Here we can see how NGC 1851 looks in the y, z, and i bands. The redest band, the y band, shows the older stellar population. The bluer bands, specifically the z and i bands, show more stars, with the z band displaying the most stars. This tells us that the majority of stars in this cluster peak between 850 and 950 nm. "
   ]
  },
  {
   "cell_type": "markdown",
   "id": "769cc837-04d2-4cd8-8cb1-c467ec205848",
   "metadata": {},
   "source": [
    "<a class=\"anchor\" id=\"overlay_image\"></a>\n",
    "# Overlay images on Aladin\n",
    "\n",
    "After plotting all three images, we can verify that they are of the same source, but they are not identical. \n",
    "\n",
    "Now, we can use the add_fits() function to overlay the images onto Aladin. By default, Aladin sets the opacity of each image to 1.0, which means only the last image added will be visible. To remedy this, we will manually vary the opacities so that the second and third images are slightly transparent so that all three images can be seen.\n",
    "\n",
    "Note: after adding the images to Aladin, the fov will change automatically. If you wish to adjust the fov, use the aladin.fov() command that we used earlier in this notebook. "
   ]
  },
  {
   "cell_type": "code",
   "execution_count": null,
   "id": "0044c355-a63c-4d20-8c83-ff1a61bbc8fa",
   "metadata": {},
   "outputs": [],
   "source": [
    "#Add Image_1 to Aladin\n",
    "aladin.add_fits(url_1,name='Y band',opacity=1.0,colormap='red')\n",
    "\n",
    "#Add image_2 to Aladin\n",
    "aladin.add_fits(url_2,name='Z band',opacity=0.5,colormap='green')\n",
    "\n",
    "#Add image_2 to Aladin\n",
    "aladin.add_fits(url_3,name='I band',opacity=0.25,colormap='blue')"
   ]
  },
  {
   "cell_type": "markdown",
   "id": "0122e908-6dc7-4b64-9c11-da5d6ddeddc7",
   "metadata": {
    "execution": {
     "iopub.execute_input": "2025-04-29T23:31:23.060901Z",
     "iopub.status.busy": "2025-04-29T23:31:23.060728Z",
     "iopub.status.idle": "2025-04-29T23:31:23.065599Z",
     "shell.execute_reply": "2025-04-29T23:31:23.065007Z",
     "shell.execute_reply.started": "2025-04-29T23:31:23.060886Z"
    }
   },
   "source": [
    "<a class=\"anchor\" id=\"query\"></a>\n",
    "# Query Data Lab\n",
    "\n",
    "Now that we know how to work with images, let's query the data lab to get data for individual stars in and around our target. We will use the SkyMapper data release 4 table for this notebook because our target falls within the survey's footprint. We only need the ra_img, dec_img, and object_id columns for this example. \n",
    "\n",
    "Since we already know the coordinates of our target, we can perform a cone search centered around the globular cluster. Note that we set the FOV to be 0.2 degrees when working with images because we wanted to find any images around our target, so we cast a wide net. For this query, we will need to narrow our FOV because SkyMapper DR4 contains data for **many** sources near our target. Using the same FOV as the image search would return 44,470 sources! Many of which have nothing to do with our target. If we narrow our FOV by just a factor of 3, the radius of the cone search becomes about twice as large as the diameter of the globular cluster. This query will still return a lot of sources, but this time, most of them are closer to our target. "
   ]
  },
  {
   "cell_type": "code",
   "execution_count": null,
   "id": "5df64aad-6288-42a9-bc20-3e48d9fa9702",
   "metadata": {},
   "outputs": [],
   "source": [
    "sql = '''SELECT ra_img, decl_img, mag_psf, object_id\n",
    "            FROM skymapper_dr4.photometry\n",
    "            WHERE Q3C_RADIAL_QUERY(ra_img,decl_img,{0},{1},{2})\n",
    "'''.format(ra, dec, fov/6)\n",
    "df = qc.query(sql=sql, fmt='pandas')\n",
    "df"
   ]
  },
  {
   "cell_type": "markdown",
   "id": "2169a519-8bd3-4c9d-ad20-8fd10add3d04",
   "metadata": {},
   "source": [
    "The SkyMapper survey contains tens of thousands of data points. If we were to overlay the data points as they are, the image would be obscured by a blanket of circular regions, completely blocking our view of the globular cluster. To resolve this, we will apply a magnitude cutoff to reduce the number of regions we will overlay onto Aladin. \n",
    "\n",
    "Let's establish a magnitude cutoff so that only sources with magnitudes less than 16 are displayed. "
   ]
  },
  {
   "cell_type": "code",
   "execution_count": null,
   "id": "e92b30cd-0d11-48a2-a146-2682bbfa9881",
   "metadata": {},
   "outputs": [],
   "source": [
    "mag_filt = df['mag_psf'] < 16\n",
    "len(df[mag_filt])"
   ]
  },
  {
   "cell_type": "markdown",
   "id": "d3c0f1ce-873f-4b02-9dd1-e08ccdeacdba",
   "metadata": {},
   "source": [
    "Let's see what the individual points look like when plotted over our first image. "
   ]
  },
  {
   "cell_type": "code",
   "execution_count": null,
   "id": "84ec5400-c0e8-458c-b40d-2d4bee023edf",
   "metadata": {},
   "outputs": [],
   "source": [
    "fig = plt.figure(figsize=(10,8))\n",
    "ax = fig.add_subplot(1, 1, 1, projection=wcs_1)\n",
    "ax.imshow(image_1, cmap='gray', vmin=image_1.min(), vmax=image_1.min()+(image_1.max()-image_1.min())/100.)\n",
    "ax.scatter(df['ra_img'][mag_filt], df['decl_img'][mag_filt], transform=ax.get_transform('icrs'),\n",
    "           edgecolor='green', facecolor='none', linewidths=1, label='SkyMapper')\n",
    "\n",
    "circle  = plt.Circle((825,1375), 490, color='red', fill=False, label='FOV - %s\"'%(round(fov/6,2)))\n",
    "ax.add_patch(circle)\n",
    "\n",
    "plt.legend()\n",
    "plt.show()"
   ]
  },
  {
   "cell_type": "markdown",
   "id": "ab7d8f45-6bc1-45b0-9aef-34afb6f24d40",
   "metadata": {},
   "source": [
    "# Rewrite this section\n",
    "\n",
    "With the data points overplotted onto our image, you can see that many of the stars on the outskirs of the cluster appear in the center of the green circles, but there are few green circles in the center of the cluster where most of the stars are. "
   ]
  },
  {
   "cell_type": "markdown",
   "id": "d2e821e8-45f7-4d76-9fb2-8ca9aec282cb",
   "metadata": {
    "scrolled": true
   },
   "source": [
    "<a class=\"anchor\" id=\"overlay_table\"></a>\n",
    "# Overlay Table\n",
    "\n",
    "Now, we are just about ready to overlay the data from this table on Aladin. But before we can overlay our table, we must first convert it from a \n",
    "pandas data frame to a table. \n",
    "\n",
    "Finally, we can use Aladin's built-in add_table() function to add the points to our Aladin viewer. "
   ]
  },
  {
   "cell_type": "code",
   "execution_count": null,
   "id": "aed5d068-7eaf-48d1-af75-193cfd3fc598",
   "metadata": {},
   "outputs": [],
   "source": [
    "t = Table.from_pandas(df[mag_filt])\n",
    "\n",
    "aladin.add_table(\n",
    "    t,\n",
    "    shape='circle',\n",
    "    source_size=15,\n",
    "    color='lightblue')"
   ]
  }
 ],
 "metadata": {
  "kernelspec": {
   "display_name": "Python 3 (DL,Py3.10.13)",
   "language": "python",
   "name": "python3"
  },
  "language_info": {
   "codemirror_mode": {
    "name": "ipython",
    "version": 3
   },
   "file_extension": ".py",
   "mimetype": "text/x-python",
   "name": "python",
   "nbconvert_exporter": "python",
   "pygments_lexer": "ipython3",
   "version": "3.10.13"
  }
 },
 "nbformat": 4,
 "nbformat_minor": 5
}
