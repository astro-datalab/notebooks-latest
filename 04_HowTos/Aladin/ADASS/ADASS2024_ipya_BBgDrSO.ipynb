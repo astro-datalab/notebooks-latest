{
 "cells": [
  {
   "cell_type": "markdown",
   "id": "ed0ba77f-7b51-4827-91b1-96ae40e724aa",
   "metadata": {},
   "source": [
    "# ADASS 2024 Demonstration\n",
    "Manon Marchand$^1$\n",
    "\n",
    "1. Strasbourg Astronomical Data Centre (CDS)\n",
    "\n",
    "This notebook follows the presentation given during ADASS 2024 conference in Malta, on November 14.\n",
    "You can run it by installing the packages described in the file `requirements.txt`:\n",
    "\n",
    "`pip install -r requirements.txt`\n",
    "\n",
    "---\n",
    "\n",
    "Let's import `ipyaladin` (the star of the show) and `sidecar` (to pop ipyaladin on the side of the notebook rather than in between cells):\n"
   ]
  },
  {
   "cell_type": "code",
   "execution_count": 10,
   "id": "d2113c50-1bc6-47be-882b-17218cf17b54",
   "metadata": {},
   "outputs": [],
   "source": [
    "from ipyaladin import Aladin\n",
    "from sidecar import Sidecar"
   ]
  },
  {
   "cell_type": "markdown",
   "id": "7c6522b2-9214-41ab-8153-28f7b9bafaf1",
   "metadata": {},
   "source": [
    "## 1. Instantiation on the side of the notebook\n",
    "\n",
    "This will only work in JupyterLab. For other notebooks platforms, reach their documentation to see how/wether this can be done."
   ]
  },
  {
   "cell_type": "code",
   "execution_count": 11,
   "id": "78ffa525-940a-4ecb-b298-1b82e46899d1",
   "metadata": {},
   "outputs": [],
   "source": [
    "aladin = Aladin()\n",
    "with Sidecar(title=\"aladin_output\"):\n",
    "    display(aladin)"
   ]
  },
  {
   "cell_type": "markdown",
   "id": "e8e14fe3-19fe-4a36-977d-a8883256610c",
   "metadata": {},
   "source": [
    "Now that the widget is opened on the side, we can resize the window as needed.\n",
    "The view can be zoomed in and out, or panned. This is a fully functionnal [Aladin Lite](https://github.com/cds-astro/aladin-lite) instance!\n",
    "\n",
    "## 2. Communication between python and ipyaladin\n",
    "\n",
    "The added benefit here is that it is connected to the python kernel. We can send information from `ipyaladin` to Python and *vice-versa*."
   ]
  },
  {
   "cell_type": "code",
   "execution_count": 22,
   "id": "8bec13cd-eb84-4b2e-9b44-bb138bb1c323",
   "metadata": {},
   "outputs": [],
   "source": [
    "aladin.target = \"M1\""
   ]
  },
  {
   "cell_type": "markdown",
   "id": "89bf8f80-b2fa-4a36-a29f-98a4aa57c864",
   "metadata": {},
   "source": [
    "We sent the string \"M1\" and the center of the view centered on the Crab Nebulae. If you cannot see it, try zooming in and out.\n",
    "\n",
    "But `ipyaladin` can also receive some `astropy`-specific objects... and this is the whole subject of this demonstration!\n",
    "\n",
    "## 3. Astropy SkyCoords and Angle\n",
    "\n",
    "Let's start by sending a `astropy.coordinates.SkyCoord` object instead of a string:"
   ]
  },
  {
   "cell_type": "code",
   "execution_count": 13,
   "id": "06ac3695-0c71-47df-9664-76d97837a149",
   "metadata": {},
   "outputs": [],
   "source": [
    "from astropy.coordinates import SkyCoord"
   ]
  },
  {
   "cell_type": "code",
   "execution_count": 14,
   "id": "1a4745dc-11da-4a8b-aeb5-ff0e1832a4b3",
   "metadata": {},
   "outputs": [],
   "source": [
    "coo_perseus = SkyCoord.from_name(\"Perseus Cluster\")"
   ]
  },
  {
   "cell_type": "code",
   "execution_count": 15,
   "id": "6189be93-28fd-4cf3-b9a1-ce58bfdb7aff",
   "metadata": {},
   "outputs": [],
   "source": [
    "aladin.target = coo_perseus"
   ]
  },
  {
   "cell_type": "markdown",
   "id": "c69489ac-4385-4980-929f-ac3d541ab3d6",
   "metadata": {},
   "source": [
    "And voilà, we are centered on the Perseus Cluster. Let's also change the field of view with an `astropy.coordinates.Angle` object:"
   ]
  },
  {
   "cell_type": "code",
   "execution_count": 16,
   "id": "4f67ef4c-caa5-4e16-92e7-c6b013c24adf",
   "metadata": {},
   "outputs": [],
   "source": [
    "import astropy.units as u\n",
    "from astropy.coordinates import Angle"
   ]
  },
  {
   "cell_type": "code",
   "execution_count": 23,
   "id": "d901d1fe-567c-4e5d-9200-6ef6863a06a5",
   "metadata": {},
   "outputs": [],
   "source": [
    "aladin.fov = Angle(25 * u.arcmin)"
   ]
  },
  {
   "cell_type": "markdown",
   "id": "327da4a1-b113-43f6-bfb6-52a9f38ebc06",
   "metadata": {},
   "source": [
    "The other way around works too. We can zoom in and out until we think we have a rough estimate of the size of the galaxy cluster, and retrieve this value:"
   ]
  },
  {
   "cell_type": "code",
   "execution_count": 24,
   "id": "abddadd3-752a-42a4-ab62-53a742245ced",
   "metadata": {},
   "outputs": [
    {
     "data": {
      "text/latex": [
       "$0^\\circ25{}^\\prime00{}^{\\prime\\prime}$"
      ],
      "text/plain": [
       "<Angle 0.41666667 deg>"
      ]
     },
     "execution_count": 24,
     "metadata": {},
     "output_type": "execute_result"
    }
   ],
   "source": [
    "estimated_dimension = aladin.fov\n",
    "estimated_dimension"
   ]
  },
  {
   "cell_type": "markdown",
   "id": "6bd962ca-08ff-4040-bb71-041db4631199",
   "metadata": {},
   "source": [
    "## 4. Drawing astropy-regions\n",
    "\n",
    "Let's plot the estimation of the cluster dimension thanks to an `astropy-region`:"
   ]
  },
  {
   "cell_type": "code",
   "execution_count": 19,
   "id": "e8226219-4c35-41a8-9808-b961facfa00a",
   "metadata": {},
   "outputs": [],
   "source": [
    "from regions import CircleSkyRegion"
   ]
  },
  {
   "cell_type": "code",
   "execution_count": 20,
   "id": "31752087-a291-4576-aac8-f697e21b858b",
   "metadata": {},
   "outputs": [],
   "source": [
    "aladin.add_graphic_overlay_from_region(\n",
    "    CircleSkyRegion(coo_perseus, estimated_dimension),\n",
    "    color=\"salmon\", line_dash=[5], \n",
    "    name=\"cluster_dimension\"\n",
    ")"
   ]
  },
  {
   "cell_type": "markdown",
   "id": "bac58d65-303f-4bc4-944d-2c33ce0dc01c",
   "metadata": {},
   "source": [
    "## 5. Adding FITS files to the view\n",
    "\n",
    "FITS files can either be dragged-and-dropped into the ipyaladin view (like with any Aladin Lite instance), or added programmatically with `add_fits`:"
   ]
  },
  {
   "cell_type": "code",
   "execution_count": 25,
   "id": "730b4ae0-9214-45b3-8cd3-716cc13c9766",
   "metadata": {},
   "outputs": [],
   "source": [
    "aladin.add_fits(\"chandra_fQoZFZw.fits\", name=\"chandra\")"
   ]
  },
  {
   "cell_type": "markdown",
   "id": "0f896ba7-6840-4feb-88ce-22cb84639ee5",
   "metadata": {},
   "source": [
    "## 6. Working with MOCs\n",
    "\n",
    "### 6.1 Drawing MOCs on the view\n",
    "\n",
    "MOCs can be interactively drawn on ipyaladin with the menu `stack` > `+ Overlays` (click on the `+`) > `MOC` >  `From selection`... and then chose your type of selection.\n",
    "Here, for example, we can draw an appriximated contour for the shockwave visible in the `chandra.fits` image.\n",
    "\n",
    "### 6.2 Sending MOCs from python to the widget\n",
    "\n",
    "The widget can also display MOCs:"
   ]
  },
  {
   "cell_type": "code",
   "execution_count": 35,
   "id": "604148de-42ad-44b2-8bd1-2b0e3a203e32",
   "metadata": {},
   "outputs": [
    {
     "name": "stdout",
     "output_type": "stream",
     "text": [
      "version: 0.17.1\n"
     ]
    }
   ],
   "source": [
    "from mocpy import MOC\n",
    "from mocpy import __version__\n",
    "print(\"version:\", __version__)"
   ]
  },
  {
   "cell_type": "markdown",
   "id": "64b1fb73-e4d7-421b-b0aa-8c3e2ce8e369",
   "metadata": {},
   "source": [
    "Let's get the MOC describing the coverage on a VizieR catalog."
   ]
  },
  {
   "cell_type": "code",
   "execution_count": 27,
   "id": "c0e2bf60-91c2-4115-b953-29e8149cdb8b",
   "metadata": {},
   "outputs": [],
   "source": [
    "gaia_galcan_coverage = MOC.from_vizier_table(\n",
    "    \"I/356/galcand\"\n",
    ")"
   ]
  },
  {
   "cell_type": "markdown",
   "id": "38cf406f-461e-47db-a538-68c13a4e3735",
   "metadata": {},
   "source": [
    "The result is a `mocpy.MOC` object. We can add it the the widget."
   ]
  },
  {
   "cell_type": "code",
   "execution_count": 28,
   "id": "209d3f40-e5d7-41aa-a3fc-9e6186474e11",
   "metadata": {},
   "outputs": [],
   "source": [
    "aladin.add_moc(gaia_galcan_coverage, \n",
    "               color=\"seagreen\",\n",
    "               name=\"gaia_galcan\")"
   ]
  },
  {
   "cell_type": "markdown",
   "id": "bf685af7-ed3e-4e73-8c98-be4cec040f1d",
   "metadata": {},
   "source": [
    "This method also accepts MOCs as ASCII, JSON, URL, or FITS files.\n",
    "\n",
    "## 7. Changing the survey\n",
    "\n",
    "### 7.1 With the graphic interface\n",
    "\n",
    "More surveys can be found with the graphic interface of Aladin Lite. To do so, go in `stack` > `+ Surveys` (click on the `+`) > `Browse HiPS`.\n",
    "Some filters can be added to restric the results by cecking the box next to `Filter`.\n",
    "\n",
    "We can for example find that ASKAP offers data in the area by selecting the filters `Inside View` and `Regime` = `Radio`.\n",
    "\n",
    "### 7.2 With astroquery.MOCServer"
   ]
  },
  {
   "cell_type": "code",
   "execution_count": 29,
   "id": "c21a72e3-02cb-41db-95a6-308cbc439a35",
   "metadata": {},
   "outputs": [],
   "source": [
    "from astroquery.mocserver import MOCServer"
   ]
  },
  {
   "cell_type": "markdown",
   "id": "8e5a7bbf-7003-47f4-b5c0-82080910c169",
   "metadata": {},
   "source": [
    "Let's look for datasets with the word `Euclid` in their description:"
   ]
  },
  {
   "cell_type": "code",
   "execution_count": 30,
   "id": "60445846-004a-4aac-8718-4f80b96d03c9",
   "metadata": {},
   "outputs": [
    {
     "name": "stderr",
     "output_type": "stream",
     "text": [
      "WARNING: AstropyDeprecationWarning: 'find_datasets' is replaced by 'query_region' which has a new parameter 'criteria' that accepts the expressions that 'meta_data' was accepting. [warnings]\n"
     ]
    },
    {
     "data": {
      "text/html": [
       "<div><i>Table length=6</i>\n",
       "<table id=\"table4677386096\" class=\"table-striped table-bordered table-condensed\">\n",
       "<thead><tr><th>ID</th><th>obs_title</th><th>obs_description</th><th>obs_regime</th><th>dataproduct_type</th></tr></thead>\n",
       "<thead><tr><th>str28</th><th>str52</th><th>str568</th><th>str8</th><th>str5</th></tr></thead>\n",
       "<tr><td>CDS/P/Euclid/ERO/FirstImages</td><td>Euclid Early Release Observations (ERO) First Images</td><td>This HiPS is made of the five first images in the frame of Euclid ERO (Early Release Observations). Color composition made from VIS (0.53-0.92um wide-band), and near-infrared Y and H bands. Astrometry was added by CDS using astrometry.net software.</td><td>Optical</td><td>image</td></tr>\n",
       "<tr><td>CDS/P/Euclid/ERO/NISP.H</td><td>Euclid ERO NISP.H</td><td>The ERO programme is an initiative of ESA and the Euclid Science Team: it includes one day of observations, taken before the start of the nominal survey, to showcase the capabilities of the ESA Euclid mission.Seventeen targets, from galaxy clusters, nearby galaxies, globular clusters, to star-forming regions, have been observed and analyzed. Details on selected ERO projects are available at https://www.cosmos.esa.int/web/euclid/ero-public-release</td><td>Infrared</td><td>image</td></tr>\n",
       "<tr><td>CDS/P/Euclid/ERO/NISP.J</td><td>Euclid ERO NISP.J</td><td>The ERO programme is an initiative of ESA and the Euclid Science Team: it includes one day of observations, taken before the start of the nominal survey, to showcase the capabilities of the ESA Euclid mission.Seventeen targets, from galaxy clusters, nearby galaxies, globular clusters, to star-forming regions, have been observed and analyzed. Details on selected ERO projects are available at https://www.cosmos.esa.int/web/euclid/ero-public-release</td><td>Infrared</td><td>image</td></tr>\n",
       "<tr><td>CDS/P/Euclid/ERO/NISP.Y</td><td>Euclid ERO NISP.Y</td><td>The ERO programme is an initiative of ESA and the Euclid Science Team: it includes one day of observations, taken before the start of the nominal survey, to showcase the capabilities of the ESA Euclid mission.Seventeen targets, from galaxy clusters, nearby galaxies, globular clusters, to star-forming regions, have been observed and analyzed. Details on selected ERO projects are available at https://www.cosmos.esa.int/web/euclid/ero-public-release</td><td>Infrared</td><td>image</td></tr>\n",
       "<tr><td>CDS/P/Euclid/ERO/VIS</td><td>Euclid ERO VIS</td><td>The ERO programme is an initiative of ESA and the Euclid Science Team: it includes one day of observations, taken before the start of the nominal survey, to showcase the capabilities of the ESA Euclid mission.Seventeen targets, from galaxy clusters, nearby galaxies, globular clusters, to star-forming regions, have been observed and analyzed. Details on selected ERO projects are available at https://www.cosmos.esa.int/web/euclid/ero-public-release</td><td>Optical</td><td>image</td></tr>\n",
       "<tr><td>CDS/P/Euclid/ERO/color</td><td>Euclid ERO color (filters H, Y, VIS)</td><td>The ERO programme is an initiative of ESA and the Euclid Science Team: it includes one day of observations, taken before the start of the nominal survey, to showcase the capabilities of the ESA Euclid mission.Seventeen targets, from galaxy clusters, nearby galaxies, globular clusters, to star-forming regions, have been observed and analyzed. Details on selected ERO projects are available at https://www.cosmos.esa.int/web/euclid/ero-public-release . This HiPS has been built by CDS from HiPS CDS/P/Euclid/ERO/NISP.H, CDS/P/Euclid/ERO/NISP.Y and CDS/P/Euclid/ERO/VIS</td><td>Infrared</td><td>image</td></tr>\n",
       "</table></div>"
      ],
      "text/plain": [
       "<Table length=6>\n",
       "             ID              ... dataproduct_type\n",
       "           str28             ...       str5      \n",
       "---------------------------- ... ----------------\n",
       "CDS/P/Euclid/ERO/FirstImages ...            image\n",
       "     CDS/P/Euclid/ERO/NISP.H ...            image\n",
       "     CDS/P/Euclid/ERO/NISP.J ...            image\n",
       "     CDS/P/Euclid/ERO/NISP.Y ...            image\n",
       "        CDS/P/Euclid/ERO/VIS ...            image\n",
       "      CDS/P/Euclid/ERO/color ...            image"
      ]
     },
     "execution_count": 30,
     "metadata": {},
     "output_type": "execute_result"
    }
   ],
   "source": [
    "MOCServer.find_datasets(meta_data=\"*Euclid*\")"
   ]
  },
  {
   "cell_type": "code",
   "execution_count": 31,
   "id": "5ec8e650-7ca2-4f4c-b458-cb37c69ea3ea",
   "metadata": {},
   "outputs": [],
   "source": [
    "aladin.survey = \"CDS/P/Euclid/ERO/VIS\""
   ]
  },
  {
   "cell_type": "markdown",
   "id": "d5a19ea0-229c-45ec-aa17-ffc3ff7f6296",
   "metadata": {},
   "source": [
    "The view changed from the default survey to the Euclid one.\n",
    "\n",
    "## 8. Getting a FITS of the current view\n",
    "\n",
    "This uses the [Hips2FITS](https://alasky.cds.unistra.fr/hips-image-services/hips2fits) image cutout service."
   ]
  },
  {
   "cell_type": "code",
   "execution_count": 36,
   "id": "ae8da8e4-4cd0-4f5e-b12d-22845b68b05d",
   "metadata": {},
   "outputs": [
    {
     "ename": "WidgetReducedError",
     "evalue": "Jupyter reduces the size of the widget when it is out of the view. This leads to wrong WCS. Either scroll up to the widget, and query the WCS from there, or use the right click menu 'Create New View for Cell Output' to keep the widget in the screen.",
     "output_type": "error",
     "traceback": [
      "\u001b[0;31m---------------------------------------------------------------------------\u001b[0m",
      "\u001b[0;31mWidgetReducedError\u001b[0m                        Traceback (most recent call last)",
      "Cell \u001b[0;32mIn[36], line 1\u001b[0m\n\u001b[0;32m----> 1\u001b[0m euclid_cutout \u001b[38;5;241m=\u001b[39m \u001b[43maladin\u001b[49m\u001b[38;5;241;43m.\u001b[39;49m\u001b[43mget_view_as_fits\u001b[49m\u001b[43m(\u001b[49m\u001b[43m)\u001b[49m[\u001b[38;5;241m0\u001b[39m]\n",
      "File \u001b[0;32m~/opt/anaconda3/envs/aladin_adass/lib/python3.10/site-packages/ipyaladin/widget.py:119\u001b[0m, in \u001b[0;36mwidget_should_be_loaded.<locals>.wrapper\u001b[0;34m(self, *args, **kwargs)\u001b[0m\n\u001b[1;32m    117\u001b[0m     \u001b[38;5;66;03m# set ready to True to avoid waiting twice\u001b[39;00m\n\u001b[1;32m    118\u001b[0m     \u001b[38;5;28mself\u001b[39m\u001b[38;5;241m.\u001b[39m_is_loaded \u001b[38;5;241m=\u001b[39m \u001b[38;5;28;01mTrue\u001b[39;00m\n\u001b[0;32m--> 119\u001b[0m \u001b[38;5;28;01mreturn\u001b[39;00m \u001b[43mfunction\u001b[49m\u001b[43m(\u001b[49m\u001b[38;5;28;43mself\u001b[39;49m\u001b[43m,\u001b[49m\u001b[43m \u001b[49m\u001b[38;5;241;43m*\u001b[39;49m\u001b[43margs\u001b[49m\u001b[43m,\u001b[49m\u001b[43m \u001b[49m\u001b[38;5;241;43m*\u001b[39;49m\u001b[38;5;241;43m*\u001b[39;49m\u001b[43mkwargs\u001b[49m\u001b[43m)\u001b[49m\n",
      "File \u001b[0;32m~/opt/anaconda3/envs/aladin_adass/lib/python3.10/site-packages/ipyaladin/widget.py:552\u001b[0m, in \u001b[0;36mAladin.get_view_as_fits\u001b[0;34m(self)\u001b[0m\n\u001b[1;32m    545\u001b[0m     \u001b[38;5;28;01mraise\u001b[39;00m \u001b[38;5;167;01mValueError\u001b[39;00m(\n\u001b[1;32m    546\u001b[0m         \u001b[38;5;124m\"\u001b[39m\u001b[38;5;124mTo use \u001b[39m\u001b[38;5;124m'\u001b[39m\u001b[38;5;124mget_view_as_fits\u001b[39m\u001b[38;5;124m'\u001b[39m\u001b[38;5;124m, you need astroquery. \u001b[39m\u001b[38;5;124m\"\u001b[39m\n\u001b[1;32m    547\u001b[0m         \u001b[38;5;124m\"\u001b[39m\u001b[38;5;124mInstall it with \u001b[39m\u001b[38;5;124m'\u001b[39m\u001b[38;5;124mpip install astroquery -U --pre\u001b[39m\u001b[38;5;124m'\u001b[39m\u001b[38;5;124m.\u001b[39m\u001b[38;5;124m\"\u001b[39m\n\u001b[1;32m    548\u001b[0m     ) \u001b[38;5;28;01mfrom\u001b[39;00m \u001b[38;5;21;01mimp\u001b[39;00m\n\u001b[1;32m    549\u001b[0m \u001b[38;5;28;01mtry\u001b[39;00m:\n\u001b[1;32m    550\u001b[0m     fits \u001b[38;5;241m=\u001b[39m hips2fits\u001b[38;5;241m.\u001b[39mquery_with_wcs(\n\u001b[1;32m    551\u001b[0m         hips\u001b[38;5;241m=\u001b[39m\u001b[38;5;28mself\u001b[39m\u001b[38;5;241m.\u001b[39m_base_layer_last_view,\n\u001b[0;32m--> 552\u001b[0m         wcs\u001b[38;5;241m=\u001b[39m\u001b[38;5;28;43mself\u001b[39;49m\u001b[38;5;241;43m.\u001b[39;49m\u001b[43mwcs\u001b[49m,\n\u001b[1;32m    553\u001b[0m     )\n\u001b[1;32m    554\u001b[0m \u001b[38;5;66;03m# there is a JSONDecodeError when NAXIS=[1,1]. This happens when the widget is\u001b[39;00m\n\u001b[1;32m    555\u001b[0m \u001b[38;5;66;03m# reduced. See more explanation in the wcs property.\u001b[39;00m\n\u001b[1;32m    556\u001b[0m \u001b[38;5;28;01mexcept\u001b[39;00m JSONDecodeError \u001b[38;5;28;01mas\u001b[39;00m e:\n",
      "File \u001b[0;32m~/opt/anaconda3/envs/aladin_adass/lib/python3.10/site-packages/ipyaladin/widget.py:301\u001b[0m, in \u001b[0;36mAladin.wcs\u001b[0;34m(self)\u001b[0m\n\u001b[1;32m    290\u001b[0m \u001b[38;5;250m\u001b[39m\u001b[38;5;124;03m\"\"\"The world coordinate system corresponding to the current view of ipyaladin.\u001b[39;00m\n\u001b[1;32m    291\u001b[0m \n\u001b[1;32m    292\u001b[0m \u001b[38;5;124;03mReturns\u001b[39;00m\n\u001b[0;32m   (...)\u001b[0m\n\u001b[1;32m    296\u001b[0m \n\u001b[1;32m    297\u001b[0m \u001b[38;5;124;03m\"\"\"\u001b[39;00m\n\u001b[1;32m    298\u001b[0m \u001b[38;5;28;01mif\u001b[39;00m \u001b[38;5;28mself\u001b[39m\u001b[38;5;241m.\u001b[39m_is_reduced:\n\u001b[1;32m    299\u001b[0m     \u001b[38;5;66;03m# this is the bug that https://github.com/jupyterlab/jupyterlab/issues/16630\u001b[39;00m\n\u001b[1;32m    300\u001b[0m     \u001b[38;5;66;03m# will solve.\u001b[39;00m\n\u001b[0;32m--> 301\u001b[0m     \u001b[38;5;28;01mraise\u001b[39;00m WidgetReducedError(\n\u001b[1;32m    302\u001b[0m         \u001b[38;5;124m\"\u001b[39m\u001b[38;5;124mJupyter reduces the size of the widget when it is out of the view. \u001b[39m\u001b[38;5;124m\"\u001b[39m\n\u001b[1;32m    303\u001b[0m         \u001b[38;5;124m\"\u001b[39m\u001b[38;5;124mThis leads to wrong WCS. Either scroll up to the widget, and query \u001b[39m\u001b[38;5;124m\"\u001b[39m\n\u001b[1;32m    304\u001b[0m         \u001b[38;5;124m\"\u001b[39m\u001b[38;5;124mthe WCS from there, or use the right click menu \u001b[39m\u001b[38;5;124m'\u001b[39m\u001b[38;5;124mCreate New View for \u001b[39m\u001b[38;5;124m\"\u001b[39m\n\u001b[1;32m    305\u001b[0m         \u001b[38;5;124m\"\u001b[39m\u001b[38;5;124mCell Output\u001b[39m\u001b[38;5;124m'\u001b[39m\u001b[38;5;124m to keep the widget in the screen.\u001b[39m\u001b[38;5;124m\"\u001b[39m\n\u001b[1;32m    306\u001b[0m     )\n\u001b[1;32m    307\u001b[0m \u001b[38;5;28;01mif\u001b[39;00m \u001b[38;5;28mself\u001b[39m\u001b[38;5;241m.\u001b[39m_wcs \u001b[38;5;241m==\u001b[39m {}:\n\u001b[1;32m    308\u001b[0m     \u001b[38;5;28;01mraise\u001b[39;00m WidgetNotReadyError(\n\u001b[1;32m    309\u001b[0m         \u001b[38;5;124m\"\u001b[39m\u001b[38;5;124mThe WCS is not available. There are two reasons for that: either the \u001b[39m\u001b[38;5;124m\"\u001b[39m\n\u001b[1;32m    310\u001b[0m         \u001b[38;5;124m\"\u001b[39m\u001b[38;5;124mwidget was not ready, in this case, try running the cell again. Or \u001b[39m\u001b[38;5;124m\"\u001b[39m\n\u001b[0;32m   (...)\u001b[0m\n\u001b[1;32m    314\u001b[0m         \u001b[38;5;124m\"\u001b[39m\u001b[38;5;124mtarget, projection, or fov).\u001b[39m\u001b[38;5;124m\"\u001b[39m\n\u001b[1;32m    315\u001b[0m     )\n",
      "\u001b[0;31mWidgetReducedError\u001b[0m: Jupyter reduces the size of the widget when it is out of the view. This leads to wrong WCS. Either scroll up to the widget, and query the WCS from there, or use the right click menu 'Create New View for Cell Output' to keep the widget in the screen."
     ]
    }
   ],
   "source": [
    "euclid_cutout = aladin.get_view_as_fits()[0]"
   ]
  },
  {
   "cell_type": "code",
   "execution_count": 37,
   "id": "77e8d9f0-cb42-4a99-96d2-f28d5bb07129",
   "metadata": {},
   "outputs": [],
   "source": [
    "import matplotlib.pyplot as plt\n",
    "import numpy as np"
   ]
  },
  {
   "cell_type": "code",
   "execution_count": 38,
   "id": "f3a73ca4-1c00-42a5-a497-93e5dd4ca613",
   "metadata": {},
   "outputs": [
    {
     "ename": "TypeError",
     "evalue": "Invalid shape (3, 400, 346) for image data",
     "output_type": "error",
     "traceback": [
      "\u001b[0;31m---------------------------------------------------------------------------\u001b[0m",
      "\u001b[0;31mTypeError\u001b[0m                                 Traceback (most recent call last)",
      "Cell \u001b[0;32mIn[38], line 1\u001b[0m\n\u001b[0;32m----> 1\u001b[0m \u001b[43mplt\u001b[49m\u001b[38;5;241;43m.\u001b[39;49m\u001b[43mimshow\u001b[49m\u001b[43m(\u001b[49m\u001b[43mnp\u001b[49m\u001b[38;5;241;43m.\u001b[39;49m\u001b[43mflipud\u001b[49m\u001b[43m(\u001b[49m\u001b[43meuclid_cutout\u001b[49m\u001b[38;5;241;43m.\u001b[39;49m\u001b[43mdata\u001b[49m\u001b[38;5;241;43m.\u001b[39;49m\u001b[43mastype\u001b[49m\u001b[43m(\u001b[49m\u001b[38;5;124;43m\"\u001b[39;49m\u001b[38;5;124;43mshort\u001b[39;49m\u001b[38;5;124;43m\"\u001b[39;49m\u001b[43m)\u001b[49m\u001b[43m)\u001b[49m\u001b[43m,\u001b[49m\n\u001b[1;32m      2\u001b[0m \u001b[43m           \u001b[49m\u001b[43mcmap\u001b[49m\u001b[38;5;241;43m=\u001b[39;49m\u001b[38;5;124;43m\"\u001b[39;49m\u001b[38;5;124;43mGreys_r\u001b[39;49m\u001b[38;5;124;43m\"\u001b[39;49m\u001b[43m,\u001b[49m\u001b[43m \u001b[49m\u001b[43mnorm\u001b[49m\u001b[38;5;241;43m=\u001b[39;49m\u001b[38;5;124;43m\"\u001b[39;49m\u001b[38;5;124;43masinh\u001b[39;49m\u001b[38;5;124;43m\"\u001b[39;49m\u001b[43m,\u001b[49m\u001b[43m \u001b[49m\u001b[43mvmin\u001b[49m\u001b[38;5;241;43m=\u001b[39;49m\u001b[38;5;241;43m10\u001b[39;49m\u001b[43m,\u001b[49m\u001b[43m \u001b[49m\u001b[43mvmax\u001b[49m\u001b[38;5;241;43m=\u001b[39;49m\u001b[38;5;241;43m50\u001b[39;49m\u001b[43m)\u001b[49m\n",
      "File \u001b[0;32m~/opt/anaconda3/envs/aladin_adass/lib/python3.10/site-packages/matplotlib/pyplot.py:3592\u001b[0m, in \u001b[0;36mimshow\u001b[0;34m(X, cmap, norm, aspect, interpolation, alpha, vmin, vmax, colorizer, origin, extent, interpolation_stage, filternorm, filterrad, resample, url, data, **kwargs)\u001b[0m\n\u001b[1;32m   3570\u001b[0m \u001b[38;5;129m@_copy_docstring_and_deprecators\u001b[39m(Axes\u001b[38;5;241m.\u001b[39mimshow)\n\u001b[1;32m   3571\u001b[0m \u001b[38;5;28;01mdef\u001b[39;00m \u001b[38;5;21mimshow\u001b[39m(\n\u001b[1;32m   3572\u001b[0m     X: ArrayLike \u001b[38;5;241m|\u001b[39m PIL\u001b[38;5;241m.\u001b[39mImage\u001b[38;5;241m.\u001b[39mImage,\n\u001b[0;32m   (...)\u001b[0m\n\u001b[1;32m   3590\u001b[0m     \u001b[38;5;241m*\u001b[39m\u001b[38;5;241m*\u001b[39mkwargs,\n\u001b[1;32m   3591\u001b[0m ) \u001b[38;5;241m-\u001b[39m\u001b[38;5;241m>\u001b[39m AxesImage:\n\u001b[0;32m-> 3592\u001b[0m     __ret \u001b[38;5;241m=\u001b[39m \u001b[43mgca\u001b[49m\u001b[43m(\u001b[49m\u001b[43m)\u001b[49m\u001b[38;5;241;43m.\u001b[39;49m\u001b[43mimshow\u001b[49m\u001b[43m(\u001b[49m\n\u001b[1;32m   3593\u001b[0m \u001b[43m        \u001b[49m\u001b[43mX\u001b[49m\u001b[43m,\u001b[49m\n\u001b[1;32m   3594\u001b[0m \u001b[43m        \u001b[49m\u001b[43mcmap\u001b[49m\u001b[38;5;241;43m=\u001b[39;49m\u001b[43mcmap\u001b[49m\u001b[43m,\u001b[49m\n\u001b[1;32m   3595\u001b[0m \u001b[43m        \u001b[49m\u001b[43mnorm\u001b[49m\u001b[38;5;241;43m=\u001b[39;49m\u001b[43mnorm\u001b[49m\u001b[43m,\u001b[49m\n\u001b[1;32m   3596\u001b[0m \u001b[43m        \u001b[49m\u001b[43maspect\u001b[49m\u001b[38;5;241;43m=\u001b[39;49m\u001b[43maspect\u001b[49m\u001b[43m,\u001b[49m\n\u001b[1;32m   3597\u001b[0m \u001b[43m        \u001b[49m\u001b[43minterpolation\u001b[49m\u001b[38;5;241;43m=\u001b[39;49m\u001b[43minterpolation\u001b[49m\u001b[43m,\u001b[49m\n\u001b[1;32m   3598\u001b[0m \u001b[43m        \u001b[49m\u001b[43malpha\u001b[49m\u001b[38;5;241;43m=\u001b[39;49m\u001b[43malpha\u001b[49m\u001b[43m,\u001b[49m\n\u001b[1;32m   3599\u001b[0m \u001b[43m        \u001b[49m\u001b[43mvmin\u001b[49m\u001b[38;5;241;43m=\u001b[39;49m\u001b[43mvmin\u001b[49m\u001b[43m,\u001b[49m\n\u001b[1;32m   3600\u001b[0m \u001b[43m        \u001b[49m\u001b[43mvmax\u001b[49m\u001b[38;5;241;43m=\u001b[39;49m\u001b[43mvmax\u001b[49m\u001b[43m,\u001b[49m\n\u001b[1;32m   3601\u001b[0m \u001b[43m        \u001b[49m\u001b[43mcolorizer\u001b[49m\u001b[38;5;241;43m=\u001b[39;49m\u001b[43mcolorizer\u001b[49m\u001b[43m,\u001b[49m\n\u001b[1;32m   3602\u001b[0m \u001b[43m        \u001b[49m\u001b[43morigin\u001b[49m\u001b[38;5;241;43m=\u001b[39;49m\u001b[43morigin\u001b[49m\u001b[43m,\u001b[49m\n\u001b[1;32m   3603\u001b[0m \u001b[43m        \u001b[49m\u001b[43mextent\u001b[49m\u001b[38;5;241;43m=\u001b[39;49m\u001b[43mextent\u001b[49m\u001b[43m,\u001b[49m\n\u001b[1;32m   3604\u001b[0m \u001b[43m        \u001b[49m\u001b[43minterpolation_stage\u001b[49m\u001b[38;5;241;43m=\u001b[39;49m\u001b[43minterpolation_stage\u001b[49m\u001b[43m,\u001b[49m\n\u001b[1;32m   3605\u001b[0m \u001b[43m        \u001b[49m\u001b[43mfilternorm\u001b[49m\u001b[38;5;241;43m=\u001b[39;49m\u001b[43mfilternorm\u001b[49m\u001b[43m,\u001b[49m\n\u001b[1;32m   3606\u001b[0m \u001b[43m        \u001b[49m\u001b[43mfilterrad\u001b[49m\u001b[38;5;241;43m=\u001b[39;49m\u001b[43mfilterrad\u001b[49m\u001b[43m,\u001b[49m\n\u001b[1;32m   3607\u001b[0m \u001b[43m        \u001b[49m\u001b[43mresample\u001b[49m\u001b[38;5;241;43m=\u001b[39;49m\u001b[43mresample\u001b[49m\u001b[43m,\u001b[49m\n\u001b[1;32m   3608\u001b[0m \u001b[43m        \u001b[49m\u001b[43murl\u001b[49m\u001b[38;5;241;43m=\u001b[39;49m\u001b[43murl\u001b[49m\u001b[43m,\u001b[49m\n\u001b[1;32m   3609\u001b[0m \u001b[43m        \u001b[49m\u001b[38;5;241;43m*\u001b[39;49m\u001b[38;5;241;43m*\u001b[39;49m\u001b[43m(\u001b[49m\u001b[43m{\u001b[49m\u001b[38;5;124;43m\"\u001b[39;49m\u001b[38;5;124;43mdata\u001b[39;49m\u001b[38;5;124;43m\"\u001b[39;49m\u001b[43m:\u001b[49m\u001b[43m \u001b[49m\u001b[43mdata\u001b[49m\u001b[43m}\u001b[49m\u001b[43m \u001b[49m\u001b[38;5;28;43;01mif\u001b[39;49;00m\u001b[43m \u001b[49m\u001b[43mdata\u001b[49m\u001b[43m \u001b[49m\u001b[38;5;129;43;01mis\u001b[39;49;00m\u001b[43m \u001b[49m\u001b[38;5;129;43;01mnot\u001b[39;49;00m\u001b[43m \u001b[49m\u001b[38;5;28;43;01mNone\u001b[39;49;00m\u001b[43m \u001b[49m\u001b[38;5;28;43;01melse\u001b[39;49;00m\u001b[43m \u001b[49m\u001b[43m{\u001b[49m\u001b[43m}\u001b[49m\u001b[43m)\u001b[49m\u001b[43m,\u001b[49m\n\u001b[1;32m   3610\u001b[0m \u001b[43m        \u001b[49m\u001b[38;5;241;43m*\u001b[39;49m\u001b[38;5;241;43m*\u001b[39;49m\u001b[43mkwargs\u001b[49m\u001b[43m,\u001b[49m\n\u001b[1;32m   3611\u001b[0m \u001b[43m    \u001b[49m\u001b[43m)\u001b[49m\n\u001b[1;32m   3612\u001b[0m     sci(__ret)\n\u001b[1;32m   3613\u001b[0m     \u001b[38;5;28;01mreturn\u001b[39;00m __ret\n",
      "File \u001b[0;32m~/opt/anaconda3/envs/aladin_adass/lib/python3.10/site-packages/matplotlib/__init__.py:1521\u001b[0m, in \u001b[0;36m_preprocess_data.<locals>.inner\u001b[0;34m(ax, data, *args, **kwargs)\u001b[0m\n\u001b[1;32m   1518\u001b[0m \u001b[38;5;129m@functools\u001b[39m\u001b[38;5;241m.\u001b[39mwraps(func)\n\u001b[1;32m   1519\u001b[0m \u001b[38;5;28;01mdef\u001b[39;00m \u001b[38;5;21minner\u001b[39m(ax, \u001b[38;5;241m*\u001b[39margs, data\u001b[38;5;241m=\u001b[39m\u001b[38;5;28;01mNone\u001b[39;00m, \u001b[38;5;241m*\u001b[39m\u001b[38;5;241m*\u001b[39mkwargs):\n\u001b[1;32m   1520\u001b[0m     \u001b[38;5;28;01mif\u001b[39;00m data \u001b[38;5;129;01mis\u001b[39;00m \u001b[38;5;28;01mNone\u001b[39;00m:\n\u001b[0;32m-> 1521\u001b[0m         \u001b[38;5;28;01mreturn\u001b[39;00m \u001b[43mfunc\u001b[49m\u001b[43m(\u001b[49m\n\u001b[1;32m   1522\u001b[0m \u001b[43m            \u001b[49m\u001b[43max\u001b[49m\u001b[43m,\u001b[49m\n\u001b[1;32m   1523\u001b[0m \u001b[43m            \u001b[49m\u001b[38;5;241;43m*\u001b[39;49m\u001b[38;5;28;43mmap\u001b[39;49m\u001b[43m(\u001b[49m\u001b[43mcbook\u001b[49m\u001b[38;5;241;43m.\u001b[39;49m\u001b[43msanitize_sequence\u001b[49m\u001b[43m,\u001b[49m\u001b[43m \u001b[49m\u001b[43margs\u001b[49m\u001b[43m)\u001b[49m\u001b[43m,\u001b[49m\n\u001b[1;32m   1524\u001b[0m \u001b[43m            \u001b[49m\u001b[38;5;241;43m*\u001b[39;49m\u001b[38;5;241;43m*\u001b[39;49m\u001b[43m{\u001b[49m\u001b[43mk\u001b[49m\u001b[43m:\u001b[49m\u001b[43m \u001b[49m\u001b[43mcbook\u001b[49m\u001b[38;5;241;43m.\u001b[39;49m\u001b[43msanitize_sequence\u001b[49m\u001b[43m(\u001b[49m\u001b[43mv\u001b[49m\u001b[43m)\u001b[49m\u001b[43m \u001b[49m\u001b[38;5;28;43;01mfor\u001b[39;49;00m\u001b[43m \u001b[49m\u001b[43mk\u001b[49m\u001b[43m,\u001b[49m\u001b[43m \u001b[49m\u001b[43mv\u001b[49m\u001b[43m \u001b[49m\u001b[38;5;129;43;01min\u001b[39;49;00m\u001b[43m \u001b[49m\u001b[43mkwargs\u001b[49m\u001b[38;5;241;43m.\u001b[39;49m\u001b[43mitems\u001b[49m\u001b[43m(\u001b[49m\u001b[43m)\u001b[49m\u001b[43m}\u001b[49m\u001b[43m)\u001b[49m\n\u001b[1;32m   1526\u001b[0m     bound \u001b[38;5;241m=\u001b[39m new_sig\u001b[38;5;241m.\u001b[39mbind(ax, \u001b[38;5;241m*\u001b[39margs, \u001b[38;5;241m*\u001b[39m\u001b[38;5;241m*\u001b[39mkwargs)\n\u001b[1;32m   1527\u001b[0m     auto_label \u001b[38;5;241m=\u001b[39m (bound\u001b[38;5;241m.\u001b[39marguments\u001b[38;5;241m.\u001b[39mget(label_namer)\n\u001b[1;32m   1528\u001b[0m                   \u001b[38;5;129;01mor\u001b[39;00m bound\u001b[38;5;241m.\u001b[39mkwargs\u001b[38;5;241m.\u001b[39mget(label_namer))\n",
      "File \u001b[0;32m~/opt/anaconda3/envs/aladin_adass/lib/python3.10/site-packages/matplotlib/axes/_axes.py:5945\u001b[0m, in \u001b[0;36mAxes.imshow\u001b[0;34m(self, X, cmap, norm, aspect, interpolation, alpha, vmin, vmax, colorizer, origin, extent, interpolation_stage, filternorm, filterrad, resample, url, **kwargs)\u001b[0m\n\u001b[1;32m   5942\u001b[0m \u001b[38;5;28;01mif\u001b[39;00m aspect \u001b[38;5;129;01mis\u001b[39;00m \u001b[38;5;129;01mnot\u001b[39;00m \u001b[38;5;28;01mNone\u001b[39;00m:\n\u001b[1;32m   5943\u001b[0m     \u001b[38;5;28mself\u001b[39m\u001b[38;5;241m.\u001b[39mset_aspect(aspect)\n\u001b[0;32m-> 5945\u001b[0m \u001b[43mim\u001b[49m\u001b[38;5;241;43m.\u001b[39;49m\u001b[43mset_data\u001b[49m\u001b[43m(\u001b[49m\u001b[43mX\u001b[49m\u001b[43m)\u001b[49m\n\u001b[1;32m   5946\u001b[0m im\u001b[38;5;241m.\u001b[39mset_alpha(alpha)\n\u001b[1;32m   5947\u001b[0m \u001b[38;5;28;01mif\u001b[39;00m im\u001b[38;5;241m.\u001b[39mget_clip_path() \u001b[38;5;129;01mis\u001b[39;00m \u001b[38;5;28;01mNone\u001b[39;00m:\n\u001b[1;32m   5948\u001b[0m     \u001b[38;5;66;03m# image does not already have clipping set, clip to Axes patch\u001b[39;00m\n",
      "File \u001b[0;32m~/opt/anaconda3/envs/aladin_adass/lib/python3.10/site-packages/matplotlib/image.py:675\u001b[0m, in \u001b[0;36m_ImageBase.set_data\u001b[0;34m(self, A)\u001b[0m\n\u001b[1;32m    673\u001b[0m \u001b[38;5;28;01mif\u001b[39;00m \u001b[38;5;28misinstance\u001b[39m(A, PIL\u001b[38;5;241m.\u001b[39mImage\u001b[38;5;241m.\u001b[39mImage):\n\u001b[1;32m    674\u001b[0m     A \u001b[38;5;241m=\u001b[39m pil_to_array(A)  \u001b[38;5;66;03m# Needed e.g. to apply png palette.\u001b[39;00m\n\u001b[0;32m--> 675\u001b[0m \u001b[38;5;28mself\u001b[39m\u001b[38;5;241m.\u001b[39m_A \u001b[38;5;241m=\u001b[39m \u001b[38;5;28;43mself\u001b[39;49m\u001b[38;5;241;43m.\u001b[39;49m\u001b[43m_normalize_image_array\u001b[49m\u001b[43m(\u001b[49m\u001b[43mA\u001b[49m\u001b[43m)\u001b[49m\n\u001b[1;32m    676\u001b[0m \u001b[38;5;28mself\u001b[39m\u001b[38;5;241m.\u001b[39m_imcache \u001b[38;5;241m=\u001b[39m \u001b[38;5;28;01mNone\u001b[39;00m\n\u001b[1;32m    677\u001b[0m \u001b[38;5;28mself\u001b[39m\u001b[38;5;241m.\u001b[39mstale \u001b[38;5;241m=\u001b[39m \u001b[38;5;28;01mTrue\u001b[39;00m\n",
      "File \u001b[0;32m~/opt/anaconda3/envs/aladin_adass/lib/python3.10/site-packages/matplotlib/image.py:643\u001b[0m, in \u001b[0;36m_ImageBase._normalize_image_array\u001b[0;34m(A)\u001b[0m\n\u001b[1;32m    641\u001b[0m     A \u001b[38;5;241m=\u001b[39m A\u001b[38;5;241m.\u001b[39msqueeze(\u001b[38;5;241m-\u001b[39m\u001b[38;5;241m1\u001b[39m)  \u001b[38;5;66;03m# If just (M, N, 1), assume scalar and apply colormap.\u001b[39;00m\n\u001b[1;32m    642\u001b[0m \u001b[38;5;28;01mif\u001b[39;00m \u001b[38;5;129;01mnot\u001b[39;00m (A\u001b[38;5;241m.\u001b[39mndim \u001b[38;5;241m==\u001b[39m \u001b[38;5;241m2\u001b[39m \u001b[38;5;129;01mor\u001b[39;00m A\u001b[38;5;241m.\u001b[39mndim \u001b[38;5;241m==\u001b[39m \u001b[38;5;241m3\u001b[39m \u001b[38;5;129;01mand\u001b[39;00m A\u001b[38;5;241m.\u001b[39mshape[\u001b[38;5;241m-\u001b[39m\u001b[38;5;241m1\u001b[39m] \u001b[38;5;129;01min\u001b[39;00m [\u001b[38;5;241m3\u001b[39m, \u001b[38;5;241m4\u001b[39m]):\n\u001b[0;32m--> 643\u001b[0m     \u001b[38;5;28;01mraise\u001b[39;00m \u001b[38;5;167;01mTypeError\u001b[39;00m(\u001b[38;5;124mf\u001b[39m\u001b[38;5;124m\"\u001b[39m\u001b[38;5;124mInvalid shape \u001b[39m\u001b[38;5;132;01m{\u001b[39;00mA\u001b[38;5;241m.\u001b[39mshape\u001b[38;5;132;01m}\u001b[39;00m\u001b[38;5;124m for image data\u001b[39m\u001b[38;5;124m\"\u001b[39m)\n\u001b[1;32m    644\u001b[0m \u001b[38;5;28;01mif\u001b[39;00m A\u001b[38;5;241m.\u001b[39mndim \u001b[38;5;241m==\u001b[39m \u001b[38;5;241m3\u001b[39m:\n\u001b[1;32m    645\u001b[0m     \u001b[38;5;66;03m# If the input data has values outside the valid range (after\u001b[39;00m\n\u001b[1;32m    646\u001b[0m     \u001b[38;5;66;03m# normalisation), we issue a warning and then clip X to the bounds\u001b[39;00m\n\u001b[1;32m    647\u001b[0m     \u001b[38;5;66;03m# - otherwise casting wraps extreme values, hiding outliers and\u001b[39;00m\n\u001b[1;32m    648\u001b[0m     \u001b[38;5;66;03m# making reliable interpretation impossible.\u001b[39;00m\n\u001b[1;32m    649\u001b[0m     high \u001b[38;5;241m=\u001b[39m \u001b[38;5;241m255\u001b[39m \u001b[38;5;28;01mif\u001b[39;00m np\u001b[38;5;241m.\u001b[39missubdtype(A\u001b[38;5;241m.\u001b[39mdtype, np\u001b[38;5;241m.\u001b[39minteger) \u001b[38;5;28;01melse\u001b[39;00m \u001b[38;5;241m1\u001b[39m\n",
      "\u001b[0;31mTypeError\u001b[0m: Invalid shape (3, 400, 346) for image data"
     ]
    },
    {
     "data": {
      "image/png": "[encoded data removed]",
      "text/plain": [
       "<Figure size 640x480 with 1 Axes>"
      ]
     },
     "metadata": {},
     "output_type": "display_data"
    }
   ],
   "source": [
    "plt.imshow(np.flipud(euclid_cutout.data.astype(\"short\")),\n",
    "           cmap=\"Greys_r\", norm=\"asinh\", vmin=10, vmax=50)"
   ]
  },
  {
   "cell_type": "markdown",
   "id": "cdb0bba1-7558-4b73-8873-c8e3ed46401a",
   "metadata": {},
   "source": [
    "The WCS of the current view can also be read at all times:"
   ]
  },
  {
   "cell_type": "code",
   "execution_count": null,
   "id": "c6de9ae7-02c7-46c7-9890-2725fb6a2259",
   "metadata": {},
   "outputs": [],
   "source": [
    "aladin.wcs"
   ]
  },
  {
   "cell_type": "markdown",
   "id": "c74de05e-19c6-43f7-9947-a6fa3830a562",
   "metadata": {},
   "source": [
    "## 9. Working with catalogs\n",
    "\n",
    "### 9.1 Adding catalogs to the widget"
   ]
  },
  {
   "cell_type": "code",
   "execution_count": 39,
   "id": "abc2e444-0578-48bb-868d-9fd2a49415db",
   "metadata": {},
   "outputs": [],
   "source": [
    "from astroquery.vizier import Vizier"
   ]
  },
  {
   "cell_type": "code",
   "execution_count": 40,
   "id": "21a1749b-d7c0-4e85-95c5-f0e6d6424e74",
   "metadata": {},
   "outputs": [
    {
     "name": "stderr",
     "output_type": "stream",
     "text": [
      "/Users/brian.merino/opt/anaconda3/envs/aladin_adass/lib/python3.10/site-packages/numpy/lib/_function_base_impl.py:2605: RuntimeWarning: invalid value encountered in do_format (vectorized)\n",
      "  outputs = ufunc(*inputs)\n"
     ]
    },
    {
     "data": {
      "text/html": [
       "<div><i>Table length=150</i>\n",
       "<table id=\"table4677730160\" class=\"table-striped table-bordered table-condensed\">\n",
       "<thead><tr><th>Source</th><th>SolID</th><th>Class</th><th>PGal</th><th>PQSO</th><th>z</th><th>RA_ICRS</th><th>DE_ICRS</th><th>_RA.icrs</th><th>_DE.icrs</th></tr></thead>\n",
       "<thead><tr><th></th><th></th><th></th><th></th><th></th><th></th><th>deg</th><th>deg</th><th>deg</th><th>deg</th></tr></thead>\n",
       "<thead><tr><th>int64</th><th>int64</th><th>str15</th><th>float64</th><th>float64</th><th>float64</th><th>float64</th><th>float64</th><th>float64</th><th>float64</th></tr></thead>\n",
       "<tr><td>236394626313346176</td><td>1636148068921376768</td><td>GALAXY</td><td>0.002640629</td><td>0</td><td>--</td><td>50.12782551084</td><td>41.16993123243</td><td>50.12782551084</td><td>41.16993123243</td></tr>\n",
       "<tr><td>236401807498779648</td><td>1636148068921376768</td><td>GALAXY</td><td>1</td><td>0</td><td>--</td><td>50.28692933846</td><td>41.25302537633</td><td>50.28692933846</td><td>41.25302537633</td></tr>\n",
       "<tr><td>236423007456210304</td><td>1636148068921376768</td><td></td><td>1</td><td>0</td><td>--</td><td>50.40754703507</td><td>41.35780385800</td><td>50.40754703507</td><td>41.35780385800</td></tr>\n",
       "<tr><td>236423385414348544</td><td>1636148068921376768</td><td></td><td>1</td><td>1.81969e-12</td><td>0.0708228</td><td>50.41654170777</td><td>41.36056332082</td><td>50.41654170777</td><td>41.36056332082</td></tr>\n",
       "<tr><td>236426134193543424</td><td>1636148068921376768</td><td>GALAXY</td><td>0.001810538</td><td>1.700015e-05</td><td>--</td><td>50.32452257791</td><td>41.36637127976</td><td>50.32452257791</td><td>41.36637127976</td></tr>\n",
       "<tr><td>236426443431188608</td><td>1636148068921376768</td><td></td><td>1</td><td>0</td><td>--</td><td>50.40191364558</td><td>41.39281214848</td><td>50.40191364558</td><td>41.39281214848</td></tr>\n",
       "<tr><td>236427783459825152</td><td>1636148068921376768</td><td></td><td>1</td><td>0</td><td>0.0708228</td><td>50.33681897585</td><td>41.46004173339</td><td>50.33681897585</td><td>41.46004173339</td></tr>\n",
       "<tr><td>236429054770110848</td><td>1636148068921376768</td><td></td><td>1</td><td>1.694126e-12</td><td>0.0798532</td><td>50.48951994825</td><td>41.55218778391</td><td>50.48951994825</td><td>41.55218778391</td></tr>\n",
       "<tr><td>236429394072664320</td><td>1636148068921376768</td><td></td><td>1</td><td>9.20357e-10</td><td>0.0780125</td><td>50.39377885144</td><td>41.50610229401</td><td>50.39377885144</td><td>41.50610229401</td></tr>\n",
       "<tr><td>...</td><td>...</td><td>...</td><td>...</td><td>...</td><td>...</td><td>...</td><td>...</td><td>...</td><td>...</td></tr>\n",
       "<tr><td>239471850122584960</td><td>1636148068921376768</td><td></td><td>1</td><td>0</td><td>0.0498095</td><td>49.57498082085</td><td>41.67530746554</td><td>49.57498082085</td><td>41.67530746554</td></tr>\n",
       "<tr><td>239473155791688832</td><td>1636148068921376768</td><td></td><td>1</td><td>0</td><td>0.0690093</td><td>49.56854852346</td><td>41.73489844189</td><td>49.56854852346</td><td>41.73489844189</td></tr>\n",
       "<tr><td>239473430670470528</td><td>1636148068921376768</td><td></td><td>1</td><td>0</td><td>0.0700702</td><td>49.53505934995</td><td>41.75437716416</td><td>49.53505934995</td><td>41.75437716416</td></tr>\n",
       "<tr><td>239473705548384640</td><td>1636148068921376768</td><td>GALAXY</td><td>1</td><td>0</td><td>--</td><td>49.74150050250</td><td>41.63504885408</td><td>49.74150050250</td><td>41.63504885408</td></tr>\n",
       "<tr><td>239474152224091264</td><td>1636148068921376768</td><td></td><td>1</td><td>0</td><td>0.0639346</td><td>49.74278637139</td><td>41.70237031310</td><td>49.74278637139</td><td>41.70237031310</td></tr>\n",
       "<tr><td>239478447189701120</td><td>1636148068921376768</td><td>GALAXY</td><td>1</td><td>0</td><td>0.0779494</td><td>49.66508155777</td><td>41.77195952588</td><td>49.66508155777</td><td>41.77195952588</td></tr>\n",
       "<tr><td>239478717771431168</td><td>1636148068921376768</td><td>GALAXY</td><td>0.03964497</td><td>0</td><td>--</td><td>49.72690239326</td><td>41.80303256415</td><td>49.72690239326</td><td>41.80303256415</td></tr>\n",
       "<tr><td>239480508776551936</td><td>1636148068921376768</td><td></td><td>1</td><td>8.090321e-12</td><td>--</td><td>49.72463975494</td><td>41.83965591548</td><td>49.72463975494</td><td>41.83965591548</td></tr>\n",
       "<tr><td>239485319139360512</td><td>1636148068921376768</td><td></td><td>1</td><td>0</td><td>--</td><td>49.55459255166</td><td>41.80250836503</td><td>49.55459255166</td><td>41.80250836503</td></tr>\n",
       "</table></div>"
      ],
      "text/plain": [
       "<Table length=150>\n",
       "      Source              SolID        ...     _RA.icrs        _DE.icrs   \n",
       "                                       ...       deg             deg      \n",
       "      int64               int64        ...     float64         float64    \n",
       "------------------ ------------------- ... --------------- ---------------\n",
       "236394626313346176 1636148068921376768 ...  50.12782551084  41.16993123243\n",
       "236401807498779648 1636148068921376768 ...  50.28692933846  41.25302537633\n",
       "236423007456210304 1636148068921376768 ...  50.40754703507  41.35780385800\n",
       "236423385414348544 1636148068921376768 ...  50.41654170777  41.36056332082\n",
       "236426134193543424 1636148068921376768 ...  50.32452257791  41.36637127976\n",
       "236426443431188608 1636148068921376768 ...  50.40191364558  41.39281214848\n",
       "236427783459825152 1636148068921376768 ...  50.33681897585  41.46004173339\n",
       "236429054770110848 1636148068921376768 ...  50.48951994825  41.55218778391\n",
       "236429394072664320 1636148068921376768 ...  50.39377885144  41.50610229401\n",
       "               ...                 ... ...             ...             ...\n",
       "239471850122584960 1636148068921376768 ...  49.57498082085  41.67530746554\n",
       "239473155791688832 1636148068921376768 ...  49.56854852346  41.73489844189\n",
       "239473430670470528 1636148068921376768 ...  49.53505934995  41.75437716416\n",
       "239473705548384640 1636148068921376768 ...  49.74150050250  41.63504885408\n",
       "239474152224091264 1636148068921376768 ...  49.74278637139  41.70237031310\n",
       "239478447189701120 1636148068921376768 ...  49.66508155777  41.77195952588\n",
       "239478717771431168 1636148068921376768 ...  49.72690239326  41.80303256415\n",
       "239480508776551936 1636148068921376768 ...  49.72463975494  41.83965591548\n",
       "239485319139360512 1636148068921376768 ...  49.55459255166  41.80250836503"
      ]
     },
     "execution_count": 40,
     "metadata": {},
     "output_type": "execute_result"
    }
   ],
   "source": [
    "extra_galactic = Vizier(catalog=\"I/356/galcand\", \n",
    "                        row_limit=-1).query_region(\n",
    "    coo_perseus,\n",
    "    radius=estimated_dimension\n",
    ")[0]\n",
    "extra_galactic"
   ]
  },
  {
   "cell_type": "code",
   "execution_count": 41,
   "id": "4afd6523-4f9d-49ac-b11a-f5222dfd67f7",
   "metadata": {},
   "outputs": [],
   "source": [
    "aladin.add_table(\n",
    "    extra_galactic[extra_galactic[\"Class\"] \n",
    "    == \"GALAXY\"], \n",
    "    shape=\"circle\",\n",
    "    source_size=15, \n",
    "    color=\"lightblue\",             \n",
    "    name=\"galaxies\")"
   ]
  },
  {
   "cell_type": "code",
   "execution_count": 42,
   "id": "303e9c9a-f790-4dd6-90ac-89f0b013be26",
   "metadata": {},
   "outputs": [],
   "source": [
    "aladin.add_table(\n",
    "    extra_galactic[extra_galactic[\"Class\"] \n",
    "    != \"GALAXY\"], \n",
    "    shape=\"circle\",\n",
    "    source_size=15, \n",
    "    color=\"pink\",             \n",
    "    name=\"galaxies\")"
   ]
  },
  {
   "cell_type": "markdown",
   "id": "31966ce0-01f8-49b5-9f10-84cd73890101",
   "metadata": {},
   "source": [
    "### 9.2 Making a sub-selection\n",
    "\n",
    "To get a sub-selection of these two tables, right click on the widget, and chose `Select Sources` in the context menu that appears.\n",
    "The last selection is stored as a list of `astropy.Table` in the attribute `aladin.selected_objects`.\n",
    "\n",
    "If you've selected sources from the two tables, you can recover them with:"
   ]
  },
  {
   "cell_type": "code",
   "execution_count": 43,
   "id": "d003f81f-cee0-4f8b-8062-ef03044d8746",
   "metadata": {},
   "outputs": [
    {
     "ename": "IndexError",
     "evalue": "list index out of range",
     "output_type": "error",
     "traceback": [
      "\u001b[0;31m---------------------------------------------------------------------------\u001b[0m",
      "\u001b[0;31mIndexError\u001b[0m                                Traceback (most recent call last)",
      "Cell \u001b[0;32mIn[43], line 1\u001b[0m\n\u001b[0;32m----> 1\u001b[0m \u001b[43maladin\u001b[49m\u001b[38;5;241;43m.\u001b[39;49m\u001b[43mselected_objects\u001b[49m\u001b[43m[\u001b[49m\u001b[38;5;241;43m0\u001b[39;49m\u001b[43m]\u001b[49m\n",
      "\u001b[0;31mIndexError\u001b[0m: list index out of range"
     ]
    }
   ],
   "source": [
    "aladin.selected_objects[0]"
   ]
  },
  {
   "cell_type": "code",
   "execution_count": 44,
   "id": "9fcce0ec-d432-4212-86d3-c407d0ae7011",
   "metadata": {},
   "outputs": [
    {
     "ename": "IndexError",
     "evalue": "list index out of range",
     "output_type": "error",
     "traceback": [
      "\u001b[0;31m---------------------------------------------------------------------------\u001b[0m",
      "\u001b[0;31mIndexError\u001b[0m                                Traceback (most recent call last)",
      "Cell \u001b[0;32mIn[44], line 1\u001b[0m\n\u001b[0;32m----> 1\u001b[0m \u001b[43maladin\u001b[49m\u001b[38;5;241;43m.\u001b[39;49m\u001b[43mselected_objects\u001b[49m\u001b[43m[\u001b[49m\u001b[38;5;241;43m1\u001b[39;49m\u001b[43m]\u001b[49m\n",
      "\u001b[0;31mIndexError\u001b[0m: list index out of range"
     ]
    }
   ],
   "source": [
    "aladin.selected_objects[1]"
   ]
  },
  {
   "cell_type": "markdown",
   "id": "b0664d8f-c961-46aa-a71b-82c05f3e6853",
   "metadata": {},
   "source": [
    "## Conclusion\n",
    "\n",
    "This was a brief presentation of the features of `ipyaladin` that makes it compatible with the astropy ecosystem. Namely, we've seen that the following objects/libraries are currently supported:\n",
    "\n",
    "- astropy.coordinates.SkyCoord\n",
    "- astropy.coordinates.Angle\n",
    "- astropy-regions (astropy affiliated)\n",
    "- astropy.io.fits\n",
    "- mocpy.MOC (astropy affiliated)\n",
    "- astropy.Table\n",
    "\n",
    "If you need other objects, don't hesitate to open an issue in `ipyaladin`'s repository https://github.com/cds-astro/ipyaladin\n",
    "\n",
    "### Useful links\n",
    "\n",
    "- [ipyaladin's documentation](https://cds-astro.github.io/ipyaladin/)\n",
    "- [CDS's reporitory of tutorials](https://github.com/cds-astro/tutorials) (they showcase ipyaladin too)"
   ]
  }
 ],
 "metadata": {
  "kernelspec": {
   "display_name": "Python 3 (ipykernel)",
   "language": "python",
   "name": "python3"
  },
  "language_info": {
   "codemirror_mode": {
    "name": "ipython",
    "version": 3
   },
   "file_extension": ".py",
   "mimetype": "text/x-python",
   "name": "python",
   "nbconvert_exporter": "python",
   "pygments_lexer": "ipython3",
   "version": "3.10.16"
  }
 },
 "nbformat": 4,
 "nbformat_minor": 5
}
