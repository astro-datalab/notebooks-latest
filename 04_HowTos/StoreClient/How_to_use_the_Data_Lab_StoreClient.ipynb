{
 "cells": [
  {
   "cell_type": "code",
   "execution_count": 1,
   "metadata": {},
   "outputs": [],
   "source": [
    "__author__ = 'Mike Fitzpatrick <mike.fitzpatrick@noirlab.edu>, Robert Nikutta <robert.nikutta@noirlab.edu>'\n",
<<<<<<< HEAD
    "__version__ = '20240603'\n",
=======
    "__version__ = '20240604'\n",
>>>>>>> 10486aa (NB Disclaimer and Acks update - DH batch (no output clearing))
    "__datasets__ = []\n",
    "__keywords__ = []"
   ]
  },
  {
   "cell_type": "markdown",
   "metadata": {},
   "source": [
    "## How to use the Data Lab *Store Client* Service\n",
    "\n",
    "This notebook documents how to use the Data Lab virtual storage system via the store client service. This can be done either from a Python script (e.g. within this notebook) or from the command line using the <i>datalab</i> command.\n",
    "\n",
    "# Disclaimer & attribution\n",
    "\n",
    "Disclaimers\n",
    "-----------\n",
    "Note that using the Astro Data Lab constitutes your agreement with our minimal [Disclaimers](https://datalab.noirlab.edu/disclaimers.php).\n",
    "\n",
    "Acknowledgments\n",
    "---------------\n",
    "If you use **Astro Data Lab** in your published research, please include the text in your paper's Acknowledgments section:\n",
    "\n",
    "_This research uses services or data provided by the Astro Data Lab, which is part of the Community Science and Data Center (CSDC) Program of NSF NOIRLab. NOIRLab is operated by the Association of Universities for Research in Astronomy (AURA), Inc. under a cooperative agreement with the U.S. National Science Foundation._\n",
    "\n",
    "If you use **SPARCL jointly with the Astro Data Lab platform** (via JupyterLab, command-line, or web interface) in your published research, please include this text below in your paper's Acknowledgments section:\n",
    "\n",
    "_This research uses services or data provided by the SPectra Analysis and Retrievable Catalog Lab (SPARCL) and the Astro Data Lab, which are both part of the Community Science and Data Center (CSDC) Program of NSF NOIRLab. NOIRLab is operated by the Association of Universities for Research in Astronomy (AURA), Inc. under a cooperative agreement with the U.S. National Science Foundation._\n",
    "\n",
    "In either case **please cite the following papers**:\n",
    "\n",
    "* Data Lab concept paper: Fitzpatrick et al., \"The NOAO Data Laboratory: a conceptual overview\", SPIE, 9149, 2014, https://doi.org/10.1117/12.2057445\n",
    "\n",
    "* Astro Data Lab overview: Nikutta et al., \"Data Lab - A Community Science Platform\", Astronomy and Computing, 33, 2020, https://doi.org/10.1016/j.ascom.2020.100411\n",
    "\n",
    "If you are referring to the Data Lab JupyterLab / Jupyter Notebooks, cite:\n",
    "\n",
    "* Juneau et al., \"Jupyter-Enabled Astrophysical Analysis Using Data-Proximate Computing Platforms\", CiSE, 23, 15, 2021, https://doi.org/10.1109/MCSE.2021.3057097\n",
    "\n",
    "If publishing in a AAS journal, also add the keyword: `\\facility{Astro Data Lab}`\n",
    "\n",
    "And if you are using SPARCL, please also add `\\software{SPARCL}` and cite:\n",
    "\n",
    "* Juneau et al., \"SPARCL: SPectra Analysis and Retrievable Catalog Lab\", Conference Proceedings for ADASS XXXIII, 2024\n",
    "https://doi.org/10.48550/arXiv.2401.05576\n",
    "\n",
    "The NOIRLab Library maintains [lists of proper acknowledgments](https://noirlab.edu/science/about/scientific-acknowledgments) to use when publishing papers using the Lab's facilities, data, or services.\n",
    "\n",
<<<<<<< HEAD
=======

>>>>>>> 10486aa (NB Disclaimer and Acks update - DH batch (no output clearing))
    "### The storage manager service interface\n",
    "\n",
    "The store client service simplifies access to the Data Lab virtual storage system. This section describes the store client service interface in case we want to write our own code against that rather than using one of the provided tools. The store client service accepts an HTTP GET call to the appropriate endpoint for the particular operation:\n",
    "\n",
    "| Endpoint | Description | Req'd Parameters |\n",
    "|----------|-------------|------------|\n",
    "| /get | Retrieve a file | name |\n",
    "| /put | Upload a file | name |\n",
    "| /load | Load a file to vospace | name, endpoint |\n",
    "| /cp | Copy a file/directory | from, to |\n",
    "| /ln | Link a file/directory | from, to |\n",
    "| /lock | Lock a node from write updates | name |\n",
    "| /ls | Get a file/directory listing | name |\n",
    "| /access | Determine file accessability | name |\n",
    "| /stat | File status info | name,verbose |\n",
    "| /mkdir | Create a directory | name |\n",
    "| /mv | Move/rename a file/directory | from, to |\n",
    "| /rm | Delete a file | name |\n",
    "| /rmdir | Delete a directory | name |\n",
    "| /tag | Annotate a file/directory | name, tag |\n",
    "\n",
    "For example, a call to <i>http://datalab.noirlab.edu/storage/get?name=vos://mag.csv</i> will retrieve the file '_mag.csv_' from the root directory of the user's virtual storage.  Likewise, a python call using the _storeClient_ interface such as \"_storeClient.get('vos://mag.csv')_\" would get the same file.\n",
    "\n",
    "#### Virtual storage identifiers\n",
    "\n",
    "Files in the virtual storage are usually identified via the prefix \"_vos://_\". This shorthand identifier is resolved to a user's home directory of the storage space in the service.  As a convenience, the prefix may optionally be omitted when the parameter refers to a node in the virtual storage. Navigation above a user's home directory is not supported, however, subdirectories within the space may be created and used as needed.\n",
    "\n",
    "#### Authentication\n",
    "The storage manager service requires a DataLab security token. This needs to be passed as the value of the header keyword \"X-DL-AuthToken\" in any HTTP GET call to the service. If the token is not supplied anonymous access is assumed but provides access only to public storage spaces."
   ]
  },
  {
   "cell_type": "markdown",
   "metadata": {},
   "source": [
    "### From Python code\n",
    "\n",
    "The store client service can be called from Python code using the <i>datalab</i> module. This provides methods to access the various functions in the <i>storeClient</i> subpackage. \n",
    "\n",
    "#### Initialization\n",
    "This is the setup that is required to use the store client. The first thing to do is import the relevant Python modules and also retrieve our DataLab security token."
   ]
  },
  {
   "cell_type": "code",
   "execution_count": 2,
   "metadata": {},
   "outputs": [],
   "source": [
    "# Standard notebook imports\n",
    "from getpass import getpass\n",
    "from dl import authClient, storeClient"
   ]
  },
  {
   "cell_type": "markdown",
   "metadata": {},
   "source": [
    "Comment out and run the cell below if you need to login to Data Lab:"
   ]
  },
  {
   "cell_type": "code",
   "execution_count": 3,
   "metadata": {},
   "outputs": [],
   "source": [
    "## Get the authentication token for the user\n",
    "#token = authClient.login(input(\"Enter user name: (+ENTER) \"),getpass(\"Enter password: (+ENTER) \"))\n",
    "#if not authClient.isValidToken(token):\n",
    "#    raise Exception('Token is not valid. Please check your usename/password and execute this cell again.')"
   ]
  },
  {
   "cell_type": "markdown",
   "metadata": {},
   "source": [
    "#### Listing a file/directory\n",
    "\n",
    "We can see all the files that are in a specific directory or get a full listing for a specific file.  In this case, we'll list the default virtual storage directory to use as a basis for changes we'll make below."
   ]
  },
  {
   "cell_type": "code",
   "execution_count": 4,
   "metadata": {},
   "outputs": [
    {
     "name": "stdout",
     "output_type": "stream",
     "text": [
      "cutout.fits,public,results,tmp\n"
     ]
    }
   ],
   "source": [
    "listing = storeClient.ls (name = 'vos://')\n",
    "print (listing)"
   ]
  },
  {
   "cell_type": "markdown",
   "metadata": {},
   "source": [
    "The *public* directory shown here is visible to all Data Lab users and provides a means of sharing data without having to setup special access.  Similarly, the *tmp* directory is read-protected and provides a convenient temporary directory to be used in a workflow."
   ]
  },
  {
   "cell_type": "markdown",
   "metadata": {},
   "source": [
    "#### File Existence and Info\n",
    "\n",
    "Aside from simply listing files, it's possible to test whether a named file already exists or to determine more information about it."
   ]
  },
  {
   "cell_type": "code",
   "execution_count": 5,
   "metadata": {},
   "outputs": [
    {
     "name": "stdout",
     "output_type": "stream",
     "text": [
      "User \"public\" directory exists\n",
      "User \"public\" directory is not group/world writable\n",
      "User \"tmp\" directory exists\n",
      "User \"tmp\" directory is not group/world writable\n"
     ]
    }
   ],
   "source": [
    "# A simple file existence test:\n",
    "if storeClient.access ('vos://public'):\n",
    "    print ('User \"public\" directory exists')\n",
    "if storeClient.access ('vos://public', mode='w'):\n",
    "    print ('User \"public\" directory is group/world writable')\n",
    "else:\n",
    "    print ('User \"public\" directory is not group/world writable')\n",
    "    \n",
    "if storeClient.access ('vos://tmp'):\n",
    "    print ('User \"tmp\" directory exists')        \n",
    "if storeClient.access ('vos://tmp', mode='w'):\n",
    "    print ('User \"tmp\" directory is group/world writable')\n",
    "else:\n",
    "    print ('User \"tmp\" directory is not group/world writable')"
   ]
  },
  {
   "cell_type": "markdown",
   "metadata": {},
   "source": [
    "#### Uploading a file\n",
    "\n",
    "Now we want to upload a new data file from our local disk to the virtual storage:"
   ]
  },
  {
   "cell_type": "code",
   "execution_count": 6,
   "metadata": {},
   "outputs": [
    {
     "name": "stdout",
     "output_type": "stream",
     "text": [
      "(1 / 1) ./newmags.csv -> vos://newmags.csv\n",
      "cutout.fits,newmags.csv,public,results,tmp\n"
     ]
    }
   ],
   "source": [
    "storeClient.put (to = 'vos://newmags.csv', fr = './newmags.csv')\n",
    "print(storeClient.ls (name='vos://'))"
   ]
  },
  {
   "cell_type": "markdown",
   "metadata": {},
   "source": [
    "#### Downloading a file\n",
    "\n",
    "Let's say we want to download a file from our virtual storage space, in this case a query result that we saved to it in the \"How to use the Data Lab query manager service\" notebook:"
   ]
  },
  {
   "cell_type": "code",
   "execution_count": 7,
   "metadata": {},
   "outputs": [
    {
     "name": "stdout",
     "output_type": "stream",
     "text": [
      "(1/1) [====================] [   142B] newmags.csv\n"
     ]
    },
    {
     "data": {
      "text/plain": [
       "['OK']"
      ]
     },
     "execution_count": 7,
     "metadata": {},
     "output_type": "execute_result"
    }
   ],
   "source": [
    "storeClient.get (fr = 'vos://newmags.csv', to = './mymags.csv')"
   ]
  },
  {
   "cell_type": "markdown",
   "metadata": {},
   "source": [
    "It is also possible to get the contents of a remote file directly into your notebook by specifying the location as an empty string:"
   ]
  },
  {
   "cell_type": "code",
   "execution_count": 8,
   "metadata": {},
   "outputs": [
    {
     "name": "stdout",
     "output_type": "stream",
     "text": [
      "id,g,r,i\n",
      "001,22.3,12.4,21.5\n",
      "002,22.3,12.4,21.5\n",
      "003,22.3,12.4,21.5\n",
      "004,22.3,12.4,21.5\n",
      "005,22.3,12.4,21.5\n",
      "006,22.3,12.4,21.5\n",
      "007,22.3,12.4,21.5\n",
      "\n"
     ]
    }
   ],
   "source": [
    "data = storeClient.get (fr = 'vos://newmags.csv', to = '')\n",
    "print (data)"
   ]
  },
  {
   "cell_type": "markdown",
   "metadata": {},
   "source": [
    "#### Loading a file from a remote URL\n",
    "\n",
    "It is possible to load a file directly to virtual storage from a remote URL )e.g. an \"accessURL\" for an image cutout, a remote data file, etc) using the \"storeClient.load()\" method:"
   ]
  },
  {
   "cell_type": "code",
   "execution_count": 9,
   "metadata": {},
   "outputs": [
    {
     "data": {
      "text/plain": [
       "'OK'"
      ]
     },
     "execution_count": 9,
     "metadata": {},
     "output_type": "execute_result"
    }
   ],
   "source": [
    "url = \"http://datalab.noirlab.edu/svc/cutout?col=&siaRef=c4d_161005_022804_ooi_g_v1.fits.fz&extn=31&POS=335.0,0.0&SIZE=0.1\"\n",
    "storeClient.load('vos://cutout.fits',url)"
   ]
  },
  {
   "cell_type": "markdown",
   "metadata": {},
   "source": [
    "#### Creating a directory\n",
    "\n",
    "We can create a directory on the remote storage to be used for saving data later:"
   ]
  },
  {
   "cell_type": "code",
   "execution_count": 10,
   "metadata": {},
   "outputs": [
    {
     "data": {
      "text/plain": [
       "'A Node already exists with the requested URI.'"
      ]
     },
     "execution_count": 10,
     "metadata": {},
     "output_type": "execute_result"
    }
   ],
   "source": [
    "storeClient.mkdir ('vos://results')"
   ]
  },
  {
   "cell_type": "markdown",
   "metadata": {},
   "source": [
    "#### Copying a file/directory\n",
    "\n",
    "We want to put a copy of the file in a remote work directory:"
   ]
  },
  {
   "cell_type": "code",
   "execution_count": 11,
   "metadata": {},
   "outputs": [
    {
     "name": "stdout",
     "output_type": "stream",
     "text": [
      "Before: \n",
      "After: newmags.csv\n"
     ]
    }
   ],
   "source": [
    "storeClient.mkdir ('vos://temp')\n",
    "print (\"Before: \" + storeClient.ls (name='vos://temp/'))\n",
    "storeClient.cp (fr = 'vos://newmags.csv', to = 'vos://temp/newmags.csv',verbose=True)\n",
    "print (\"After: \" + storeClient.ls (name='vos://temp/'))"
   ]
  },
  {
   "cell_type": "code",
   "execution_count": 12,
   "metadata": {},
   "outputs": [
    {
     "name": "stdout",
     "output_type": "stream",
     "text": [
      "-rw-rw-r-x  demo01  2963520  22 Nov 2021 14:22  cutout.fits\n",
      "-rw-rw-r-x  demo01     142  30 Nov 2021 14:58  newmags.csv\n",
      "drwxrwxr-x  demo01       0  14 Jul 2020 10:01  public/\n",
      "drwxrwxr-x  demo01       0  22 Nov 2021 14:22  results/\n",
      "drwxrwxr-x  demo01       0  30 Nov 2021 14:58  temp/\n",
      "drwxrwx---  demo01       0  14 Jul 2020 10:01  tmp/\n",
      "\n"
     ]
    }
   ],
   "source": [
    "print(storeClient.ls('vos://',format='long'))"
   ]
  },
  {
   "cell_type": "markdown",
   "metadata": {},
   "source": [
    "Notice that in the *ls()* call we append the directory name with a trailing '/' to list the contents of the directory rather than the directory itself."
   ]
  },
  {
   "cell_type": "markdown",
   "metadata": {},
   "source": [
    "#### Linking to a file/directory\n",
    "\n",
    "**WARNING**: Linking is currently **not** working in the Data Lab storage manager. This notebook will be updated when the problem has been resolved.\n",
    "\n",
    "Sometimes we want to create a link to a file or directory.  In this case, the link named by the *'fr'* parameter is created and points to the file/container named by the *'target'* parameter."
   ]
  },
  {
   "cell_type": "code",
   "execution_count": 13,
   "metadata": {},
   "outputs": [
    {
     "name": "stdout",
     "output_type": "stream",
     "text": [
      "Root dir: cutout.fits,newmags.csv,public,results,temp,tmp\n",
      "Temp dir: newmags.csv\n"
     ]
    }
   ],
   "source": [
    "storeClient.ln ('vos://mags.csv', 'vos://temp/newmags.csv')\n",
    "print (\"Root dir: \" + storeClient.ls (name='vos://'))\n",
    "print (\"Temp dir: \" + storeClient.ls (name='vos://temp/'))"
   ]
  },
  {
   "cell_type": "markdown",
   "metadata": {},
   "source": [
    "#### Moving/renaming a file/directory\n",
    "\n",
    "We can move a file or directory:"
   ]
  },
  {
   "cell_type": "code",
   "execution_count": 14,
   "metadata": {},
   "outputs": [
    {
     "name": "stdout",
     "output_type": "stream",
     "text": [
      "Results dir: newmags.csv\n"
     ]
    }
   ],
   "source": [
    "storeClient.mv(fr = 'vos://temp/newmags.csv', to = 'vos://results')\n",
    "print (\"Results dir: \" + storeClient.ls (name='vos://results/'))"
   ]
  },
  {
   "cell_type": "markdown",
   "metadata": {},
   "source": [
    "#### Deleting a file\n",
    "\n",
    "We can delete a file:"
   ]
  },
  {
   "cell_type": "code",
   "execution_count": 15,
   "metadata": {},
   "outputs": [
    {
     "name": "stdout",
     "output_type": "stream",
     "text": [
      "Before: cutout.fits,newmags.csv,public,results,temp,tmp\n",
      "After: cutout.fits,newmags.csv,public,results,temp,tmp\n"
     ]
    }
   ],
   "source": [
    "print (\"Before: \" + storeClient.ls (name='vos://'))\n",
    "storeClient.rm (name = 'vos://mags.csv')\n",
    "print (\"After: \" + storeClient.ls (name='vos://'))"
   ]
  },
  {
   "cell_type": "markdown",
   "metadata": {},
   "source": [
    "#### Deleting a directory\n",
    "\n",
    "We can also delete a directory, doing so also deletes the contents of that directory:"
   ]
  },
  {
   "cell_type": "code",
   "execution_count": 16,
   "metadata": {},
   "outputs": [
    {
     "data": {
      "text/plain": [
       "'OK'"
      ]
     },
     "execution_count": 16,
     "metadata": {},
     "output_type": "execute_result"
    }
   ],
   "source": [
    "storeClient.rmdir(name = 'vos://temp')"
   ]
  },
  {
   "cell_type": "markdown",
   "metadata": {},
   "source": [
    "#### Tagging a file/directory\n",
    "\n",
    "**Warning**: Tagging is currently **not** working in the Data Lab storage manager. This notebook will be updated when the problem has been resolved.\n",
    "\n",
    "We can tag any file or directory with arbitrary metadata:"
   ]
  },
  {
   "cell_type": "code",
   "execution_count": 17,
   "metadata": {},
   "outputs": [
    {
     "data": {
      "text/plain": [
       "'<!DOCTYPE HTML PUBLIC \"-//W3C//DTD HTML 3.2 Final//EN\">\\n<title>500 Internal Server Error</title>\\n<h1>Internal Server Error</h1>\\n<p>The server encountered an internal error and was unable to complete your request.  Either the server is overloaded or there is an error in the application.</p>\\n'"
      ]
     },
     "execution_count": 17,
     "metadata": {},
     "output_type": "execute_result"
    }
   ],
   "source": [
    "storeClient.tag('vos://results', 'The results from my analysis')"
   ]
  },
  {
   "cell_type": "markdown",
   "metadata": {},
   "source": [
    "#### Cleanup the demo directory of remaining files"
   ]
  },
  {
   "cell_type": "code",
   "execution_count": 18,
   "metadata": {},
   "outputs": [
    {
     "data": {
      "text/plain": [
       "'cutout.fits,public,results,tmp'"
      ]
     },
     "execution_count": 18,
     "metadata": {},
     "output_type": "execute_result"
    }
   ],
   "source": [
    "storeClient.rm (name = 'vos://newmags.csv')\n",
    "storeClient.rm (name = 'vos://results')\n",
    "storeClient.ls (name = 'vos://')"
   ]
  },
  {
   "cell_type": "markdown",
   "metadata": {},
   "source": [
    "### Using the datalab command\n",
    "\n",
    "The <i>datalab</i> command provides an alternate command line way to work with the query manager through the <i>query</i> subcommands, which is especially useful if you want to interact with the query manager from your local computer. Please have the `datalab` command line utility installed first (for install instructions see https://github.com/astro-datalab/datalab )."
   ]
  },
  {
   "cell_type": "markdown",
   "metadata": {},
   "source": [
    "The cells below are commented out. Copy and paste any of them (without the comment sign) and run locally."
   ]
  },
  {
   "cell_type": "markdown",
   "metadata": {},
   "source": [
    "#### Log in once"
   ]
  },
  {
   "cell_type": "code",
   "execution_count": 19,
   "metadata": {},
   "outputs": [],
   "source": [
    "#!datalab login"
   ]
  },
  {
   "cell_type": "markdown",
   "metadata": {},
   "source": [
    "and enter the credentials as prompted."
   ]
  },
  {
   "cell_type": "markdown",
   "metadata": {},
   "source": [
    "#### Downloading a file\n",
    "\n",
    "Let's say we want to download a file from our virtual storage space:"
   ]
  },
  {
   "cell_type": "code",
   "execution_count": 20,
   "metadata": {},
   "outputs": [],
   "source": [
    "#!datalab get fr=\"vos://mags.csv\" to=\"./mags.csv\""
   ]
  },
  {
   "cell_type": "markdown",
   "metadata": {},
   "source": [
    "#### Uploading a file\n",
    "\n",
    "Now we want to upload a new data file from our local disk:"
   ]
  },
  {
   "cell_type": "code",
   "execution_count": 21,
   "metadata": {},
   "outputs": [],
   "source": [
    "#!datalab put fr=\"./newmags.csv\" to=\"vos://newmags.csv\""
   ]
  },
  {
   "cell_type": "markdown",
   "metadata": {},
   "source": [
    "#### Copying a file/directory\n",
    "\n",
    "We want to put a copy of the file in a remote work directory:"
   ]
  },
  {
   "cell_type": "code",
   "execution_count": 22,
   "metadata": {},
   "outputs": [],
   "source": [
    "#!datalab cp fr=\"vos://newmags.csv\" to=\"vos://temp/newmags.csv\""
   ]
  },
  {
   "cell_type": "markdown",
   "metadata": {},
   "source": [
    "#### Linking to a file/directory\n",
    "\n",
    "Sometimes we want to create a link to a file or directory:"
   ]
  },
  {
   "cell_type": "code",
   "execution_count": 23,
   "metadata": {},
   "outputs": [],
   "source": [
    "#!datalab ln fr=\"vos://temp/mags.csv\" to=\"vos://mags.csv\""
   ]
  },
  {
   "cell_type": "markdown",
   "metadata": {},
   "source": [
    "#### Listing a file/directory\n",
    "\n",
    "We can see all the files that are in a specific directory or get a full listing for a specific file:"
   ]
  },
  {
   "cell_type": "code",
   "execution_count": 24,
   "metadata": {},
   "outputs": [],
   "source": [
    "#!datalab ls name=\"vos://temp\""
   ]
  },
  {
   "cell_type": "markdown",
   "metadata": {},
   "source": [
    "#### Creating a directory\n",
    "\n",
    "We can create a directory:"
   ]
  },
  {
   "cell_type": "code",
   "execution_count": 25,
   "metadata": {},
   "outputs": [],
   "source": [
    "#!datalab mkdir name=\"vos://results\""
   ]
  },
  {
   "cell_type": "markdown",
   "metadata": {},
   "source": [
    "#### Moving/renaming a file/directory\n",
    "\n",
    "We can move a file or directory:"
   ]
  },
  {
   "cell_type": "code",
   "execution_count": 26,
   "metadata": {},
   "outputs": [],
   "source": [
    "#!datalab mv fr=\"vos://temp/newmags.csv\" to=\"vos://results\""
   ]
  },
  {
   "cell_type": "markdown",
   "metadata": {},
   "source": [
    "#### Deleting a file\n",
    "\n",
    "We can delete a file:"
   ]
  },
  {
   "cell_type": "code",
   "execution_count": 27,
   "metadata": {},
   "outputs": [],
   "source": [
    "#!datalab rm name=\"vos://temp/mags.csv\""
   ]
  },
  {
   "cell_type": "markdown",
   "metadata": {},
   "source": [
    "#### Deleting a directory\n",
    "\n",
    "We can also delete a directory:"
   ]
  },
  {
   "cell_type": "code",
   "execution_count": 28,
   "metadata": {},
   "outputs": [],
   "source": [
    "#!datalab rmdir name=\"vos://temp\""
   ]
  },
  {
   "cell_type": "markdown",
   "metadata": {},
   "source": [
    "#### Tagging a file/directory\n",
    "\n",
    "We can tag any file or directory with arbitrary metadata:"
   ]
  },
  {
   "cell_type": "code",
   "execution_count": 29,
   "metadata": {},
   "outputs": [],
   "source": [
    "#!datalab tag name=\"vos://results\" tag=\"The results from my analysis\""
   ]
  }
 ],
 "metadata": {
  "anaconda-cloud": {},
  "kernelspec": {
   "display_name": "Python 3 (ipykernel)",
   "language": "python",
   "name": "python3"
  },
  "language_info": {
   "codemirror_mode": {
    "name": "ipython",
    "version": 3
   },
   "file_extension": ".py",
   "mimetype": "text/x-python",
   "name": "python",
   "nbconvert_exporter": "python",
   "pygments_lexer": "ipython3",
   "version": "3.9.6"
  }
 },
 "nbformat": 4,
 "nbformat_minor": 4
}
