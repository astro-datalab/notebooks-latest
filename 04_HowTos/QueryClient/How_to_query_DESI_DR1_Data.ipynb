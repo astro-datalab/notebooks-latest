{
 "cells": [
  {
   "cell_type": "code",
   "execution_count": null,
   "metadata": {},
   "outputs": [],
   "source": [
    "__nbid__ = '0073'\n",
    "__author__ = 'Benjamin Weaver <benjamin.weaver@noirlab.edu>, Alice Jacques <alice.jacques@noirlab.edu>, Astro Data Lab Team <datalab@noirlab.edu>'\n",
    "__version__ = '20250317' # yyyymmdd\n",
    "__datasets__ = ['desi_dr1']\n",
    "__keywords__ = ['query', 'DESI']"
   ]
  },
  {
   "cell_type": "markdown",
   "metadata": {},
   "source": [
    "# How to Query DESI DR1 Data\n",
    "\n",
    "## Table of Contents\n",
    "\n",
    "* [Goals](#Goals)\n",
    "* [Summary](#Summary)\n",
    "* [Disclaimer and Attribution](#Disclaimer-and-Attribution)\n",
    "* [Initial Setup](#Initial-Setup)\n",
    "* [Contents of the Database](#Contents-of-the-Database)\n",
    "* [Authentication](#Authentication)\n",
    "* [Simple Queries](#Simple-Queries)\n",
    "* [Joining Tables](#Joining-Tables)\n",
    "* [Matching Redshift Tables to Targeting Data](#Matching-Redshift-Tables-to-Targeting-Data)\n",
    "* [Survey Progress](#Survey-Progress)\n",
    "* [Using q3c](#Using-q3c)\n",
    "* [Resources and References](#Resources-and-References)\n",
    "\n",
    "## Goals\n",
    "\n",
    "Demonstrate a variety of queries using the `desi_dr1` data set.\n",
    "\n",
    "## Summary\n",
    "\n",
    "This notebook will cover the basics of using the DESI spectroscopic production database, `desi_dr1`, which is loaded from the outputs of the DESI pipeline. This notebook is intended to cover as much of the detail of DESI's [introductory notebook tutorial](https://github.com/desihub/tutorials/blob/main/database/spectroscopic-production-database.ipynb) as possible, although rewritten for the Data Lab environment. For more details, including detailed table descriptions see DESI's [database access page](https://data.desi.lbl.gov/doc/access/database/).\n",
    "\n",
    "## Disclaimer & attribution\n",
    "\n",
    "### Disclaimers\n",
    "\n",
    "Note that using the Astro Data Lab constitutes your agreement with our minimal [Disclaimers](https://datalab.noirlab.edu/disclaimers.php).\n",
    "\n",
    "### Acknowledgments\n",
    "\n",
    "If you use **Astro Data Lab** in your published research, please include the text in your paper's Acknowledgments section:\n",
    "\n",
    "_This research uses services or data provided by the Astro Data Lab, which is part of the Community Science and Data Center (CSDC) Program of NSF NOIRLab. NOIRLab is operated by the Association of Universities for Research in Astronomy (AURA), Inc. under a cooperative agreement with the U.S. National Science Foundation._\n",
    "\n",
    "If you use **SPARCL jointly with the Astro Data Lab platform** (via JupyterLab, command-line, or web interface) in your published research, please include this text below in your paper's Acknowledgments section:\n",
    "\n",
    "_This research uses services or data provided by the SPectra Analysis and Retrievable Catalog Lab (SPARCL) and the Astro Data Lab, which are both part of the Community Science and Data Center (CSDC) Program of NSF NOIRLab. NOIRLab is operated by the Association of Universities for Research in Astronomy (AURA), Inc. under a cooperative agreement with the U.S. National Science Foundation._\n",
    "\n",
    "In either case **please cite the following papers**:\n",
    "\n",
    "* Data Lab concept paper: Fitzpatrick et al., \"The NOAO Data Laboratory: a conceptual overview\", SPIE, 9149, 2014, https://doi.org/10.1117/12.2057445\n",
    "\n",
    "* Astro Data Lab overview: Nikutta et al., \"Data Lab - A Community Science Platform\", Astronomy and Computing, 33, 2020, https://doi.org/10.1016/j.ascom.2020.100411\n",
    "\n",
    "If you are referring to the Data Lab JupyterLab / Jupyter Notebooks, cite:\n",
    "\n",
    "* Juneau et al., \"Jupyter-Enabled Astrophysical Analysis Using Data-Proximate Computing Platforms\", CiSE, 23, 15, 2021, https://doi.org/10.1109/MCSE.2021.3057097\n",
    "\n",
    "If publishing in a AAS journal, also add the keyword: `\\facility{Astro Data Lab}`\n",
    "\n",
    "And if you are using SPARCL, please also add `\\software{SPARCL}` and cite:\n",
    "\n",
    "* Juneau et al., \"SPARCL: SPectra Analysis and Retrievable Catalog Lab\", Conference Proceedings for ADASS XXXIII, 2024\n",
    "https://doi.org/10.48550/arXiv.2401.05576\n",
    "\n",
    "The NOIRLab Library maintains [lists of proper acknowledgments](https://noirlab.edu/science/about/scientific-acknowledgments) to use when publishing papers using the Lab's facilities, data, or services.\n",
    "\n",
    "For this notebook specifically, please acknowledge:\n",
    "\n",
    "* DESI Data citation and acknowledgments: https://data.desi.lbl.gov/doc/acknowledgments/\n",
    "\n",
    "## Initial Setup\n",
    "\n",
    "This just imports everything we need and sets up paths and environment variables so we can find things."
   ]
  },
  {
   "cell_type": "code",
   "execution_count": null,
   "metadata": {
    "execution": {
     "iopub.execute_input": "2025-03-05T23:41:20.279487Z",
     "iopub.status.busy": "2025-03-05T23:41:20.279106Z",
     "iopub.status.idle": "2025-03-05T23:41:21.532244Z",
     "shell.execute_reply": "2025-03-05T23:41:21.531595Z",
     "shell.execute_reply.started": "2025-03-05T23:41:20.279466Z"
    }
   },
   "outputs": [],
   "source": [
    "import pandas as pd\n",
    "import numpy as np\n",
    "import matplotlib.pyplot as plt\n",
    "from matplotlib.font_manager import fontManager, FontProperties\n",
    "from dl import queryClient as qc, authClient as ac\n",
    "\n",
    "# DESI software\n",
    "from desitarget import __version__ as desitarget_version\n",
    "from desitarget.targetmask import desi_mask\n",
    "\n",
    "print(f\"desitarget=={desitarget_version}\")"
   ]
  },
  {
   "cell_type": "markdown",
   "metadata": {},
   "source": [
    "## Contents of the Database\n",
    "\n",
    "### Schema\n",
    "\n",
    "All tables are grouped into the `desi_dr1` database schema.\n",
    "\n",
    "### Important notes\n",
    "\n",
    "* This database does not contain any sky spectra. Both deliberately-targeted (`targetid & 2**59 != 0`) and negative targetid (`targetid < 0`) sky spectra are excluded.\n",
    "* Only quantities derived from *cumulative* tile-based spectra are included at the present time.\n",
    "\n",
    "### The tables\n",
    "\n",
    "* `photometry`. This contains the pure photometric data. Usually this is derived from the LS DR9 Tractor data, but not every *targeted* object has Tractor photometry.\n",
    "  - Loaded from `tractorphot` files in the [lsdr9-photometry VAC](https://data.desi.lbl.gov/doc/releases/dr1/vac/lsdr9-photometry/): `/global/cfs/cdirs/desi/public/dr1/vac/dr1/lsdr9-photometry/iron/v1.1/potential-targets/tractorphot/tractorphot-potential-*-iron.fits`, https://data.desi.lbl.gov/public/dr1/vac/dr1/lsdr9-photometry/iron/v1.1/potential-targets/tractorphot/\n",
    "  - Primary key: `targetid`.\n",
    "  - [Column descriptions](https://data.desi.lbl.gov/doc/access/database/#photometry).\n",
    "* `target`. This contains the targeting bits and other data generated by `desitarget`.\n",
    "  - Loaded from `targetphot` file in the [lsdr9-photometry VAC](https://data.desi.lbl.gov/doc/releases/dr1/vac/lsdr9-photometry/): `/global/cfs/cdirs/desi/public/dr1/vac/dr1/lsdr9-photometry/iron/v1.1/potential-targets/targetphot-potential-*-iron.fits`, https://data.desi.lbl.gov/public/dr1/vac/dr1/lsdr9-photometry/iron/v1.1/potential-targets/\n",
    "  - Unique identifier: (`targetid`, `survey`, `tileid`).\n",
    "  - Primary key: `id`, a unique, arbitrary integer composed from (`targetid`, `survey`, `tileid`).\n",
    "  - [Column descriptions](https://data.desi.lbl.gov/doc/access/database/#target).\n",
    "* `tile`. This contains information about observations grouped by tile.\n",
    "  - Loaded from top-level `tiles-iron.fits`, https://data.desi.lbl.gov/public/dr1/spectro/redux/iron/tiles-iron.fits\n",
    "  - Primary key: `tileid`.\n",
    "  - [Column descriptions](https://data.desi.lbl.gov/doc/access/database/#tile).\n",
    "* `exposure`. This contains information about individual exposures.\n",
    "  - Loaded from top-level `exposures-iron.fits` https://data.desi.lbl.gov/public/dr1/spectro/redux/iron/exposures-iron.fits, `EXPOSURES` HDU.\n",
    "  - Primary key: `expid`.\n",
    "  - [Column descriptions](https://data.desi.lbl.gov/doc/access/database/#exposure).\n",
    "* `frame`. This contains information about individual exposures, but broken down by camera.  There will usually, but not always, be 30 frames per exposure.\n",
    "  - Loaded from top-level `exposures-iron.fits`, https://data.desi.lbl.gov/public/dr1/spectro/redux/iron/exposures-iron.fits, `FRAMES` HDU.\n",
    "  - Unique identifier: (`expid`, `camera`).\n",
    "  - Primary key: `frameid`, composed from `expid` and a mapping of `camera` to an arbitrary integer.\n",
    "  - [Column descriptions](https://data.desi.lbl.gov/doc/access/database/#frame).\n",
    "* `fiberassign`. This contains information about fiber positions.\n",
    "  - Loaded from fiberassign files in the [tiles product](https://data.desi.lbl.gov/public/dr1/target/fiberassign/tiles/tags/1.1/).  All fiberassign files corresponding to tiles in the `tile` table are loaded.\n",
    "  - Unique identifier: (`tileid`, `targetid`, `location`).\n",
    "  - Primary key: `id`, a unique, arbitrary integer composed from (`tileid`, `targetid`, `location`).\n",
    "  - [Column descriptions](https://data.desi.lbl.gov/doc/access/database/#fiberassign).\n",
    "* `potential`. This contains a list of `targetid`s that *could* have been targeted on a given tile.\n",
    "  - Loaded from the `POTENTIAL_ASSIGNMENTS` HDU in the same fiberassign files mentioned above.\n",
    "  - Unique identifier: (`tileid`, `targetid`, `location`).\n",
    "  - Primary key: `id`, a unique, arbitrary integer composed from (`tileid`, `targetid`, `location`).\n",
    "  - [Column descriptions](https://data.desi.lbl.gov/doc/access/database/#potential).\n",
    "* `zpix`. This contains the pipeline redshifts grouped by HEALPixel.\n",
    "  - Loaded from the `ZCATALOG` HDU in the `zall-pix` summary file: `/global/cfs/cdirs/desi/public/dr1/spectro/redux/iron/zcatalog/v1/zall-pix-iron.fits`, https://https://data.desi.lbl.gov/public/dr1/spectro/redux/iron/zcatalog/v1/zall-pix-iron.fits .\n",
    "  - Unique identifier: (`targetid`, `survey`, `program`).\n",
    "  - Primary key: `id`, a unique, arbitrary integer composed from (`targetid`, `survey`, `program`).\n",
    "  - [Column descriptions](https://data.desi.lbl.gov/doc/access/database/#zpix).\n",
    "* `ztile`. This contains the pipeline redshifts grouped by tile in a variety of ways.\n",
    "  - Loaded from the `ZCATALOG` HDU in the `zall-tilecumulative` summary file: `/global/cfs/cdirs/desi/public/dr1/spectro/redux/iron/zcatalog/v1/zall-tilecumulative-iron.fits`, https://https://data.desi.lbl.gov/public/dr1/spectro/redux/iron/zcatalog/v1/zall-tilecumulative-iron.fits .\n",
    "  - Unique identifier: (`targetid`, `spgrp`, `spgrpval`, `tileid`).\n",
    "  - Primary key: `id`, a unique, arbitrary integer composed from (`targetid`, `spgrp`, `spgrpval`, `tileid`).\n",
    "  - [Column descriptions](https://data.desi.lbl.gov/doc/access/database/#ztile).\n",
    "\n",
    "### Foreign key relationships\n",
    "\n",
    "* `desi_dr1.target.targetid` -> `desi_dr1.photometry.targetid`.\n",
    "* `desi_dr1.target.tileid` -> `desi_dr1.tile.tileid`.\n",
    "* `desi_dr1.exposure.tileid` -> `desi_dr1.tile.tileid`.\n",
    "* `desi_dr1.frame.expid` -> `desi_dr1.exposure.expid`.\n",
    "* `desi_dr1.fiberassign.targetid` -> `desi_dr1.photometry.targetid`.\n",
    "* `desi_dr1.fiberassign.tileid` -> `desi_dr1.tile.tileid`.\n",
    "* `desi_dr1.potential.targetid` -> `desi_dr1.photometry.targetid`.\n",
    "* `desi_dr1.potential.tileid` -> `desi_dr1.tile.tileid`.\n",
    "* `desi_dr1.zpix.targetid` -> `desi_dr1.photometry.targetid`.\n",
    "* `desi_dr1.ztile.targetphotid` -> `desi_dr1.target.id`.\n",
    "* `desi_dr1.ztile.targetid` -> `desi_dr1.photometry.targetid`.\n",
    "* `desi_dr1.ztile.tileid` -> `desi_dr1.tile.tileid`."
   ]
  },
  {
   "cell_type": "markdown",
   "metadata": {},
   "source": [
    "## Authentication\n",
    "\n",
    "Much of the functionality of Data Lab can be accessed without explicitly logging in (the service then uses an anonymous login). But some capacities, for instance saving the results of your queries to your virtual storage space, require a login (i.e. you will need a registered user account).\n",
    "\n",
    "If you need to log in to Data Lab, un-comment the cell below and execute it:"
   ]
  },
  {
   "cell_type": "code",
   "execution_count": null,
   "metadata": {
    "execution": {
     "iopub.execute_input": "2025-03-06T00:22:12.833643Z",
     "iopub.status.busy": "2025-03-06T00:22:12.833375Z",
     "iopub.status.idle": "2025-03-06T00:22:12.869860Z",
     "shell.execute_reply": "2025-03-06T00:22:12.869466Z",
     "shell.execute_reply.started": "2025-03-06T00:22:12.833630Z"
    }
   },
   "outputs": [],
   "source": [
    "#token = ac.login(input(\"Enter user name: (+ENTER) \"),getpass(\"Enter password: (+ENTER) \"))\n",
    "ac.whoAmI()"
   ]
  },
  {
   "cell_type": "markdown",
   "metadata": {},
   "source": [
    "## Simple Queries\n",
    "\n",
    "In most of the examples below, we include the equivalent raw SQL command that corresponds to the query."
   ]
  },
  {
   "cell_type": "markdown",
   "metadata": {},
   "source": [
    "### Exposures, Nights, Tiles\n",
    "\n",
    "Here are some simple queries that demonstrate simple connections between nights, exposures and tiles.\n",
    "\n",
    "#### How many tiles are there?\n",
    "\n",
    "```SQL\n",
    "SELECT COUNT(tileid) FROM desi_dr1.tile;\n",
    "```"
   ]
  },
  {
   "cell_type": "code",
   "execution_count": null,
   "metadata": {
    "execution": {
     "iopub.execute_input": "2025-03-06T00:22:58.417472Z",
     "iopub.status.busy": "2025-03-06T00:22:58.417213Z",
     "iopub.status.idle": "2025-03-06T00:22:58.507305Z",
     "shell.execute_reply": "2025-03-06T00:22:58.506888Z",
     "shell.execute_reply.started": "2025-03-06T00:22:58.417458Z"
    }
   },
   "outputs": [],
   "source": [
    "response = qc.query(sql='SELECT COUNT(tileid) FROM desi_dr1.tile;', fmt='pandas', timeout=600)\n",
    "response"
   ]
  },
  {
   "cell_type": "markdown",
   "metadata": {},
   "source": [
    "#### On which nights were a particular tile observed?\n",
    "\n",
    "```SQL\n",
    "SELECT night, expid FROM desi_dr1.exposure WHERE tileid = 100;\n",
    "```"
   ]
  },
  {
   "cell_type": "code",
   "execution_count": null,
   "metadata": {
    "execution": {
     "iopub.execute_input": "2025-03-06T00:23:22.335531Z",
     "iopub.status.busy": "2025-03-06T00:23:22.335280Z",
     "iopub.status.idle": "2025-03-06T00:23:22.427382Z",
     "shell.execute_reply": "2025-03-06T00:23:22.426964Z",
     "shell.execute_reply.started": "2025-03-06T00:23:22.335516Z"
    }
   },
   "outputs": [],
   "source": [
    "response = qc.query(sql='SELECT night, expid FROM desi_dr1.exposure WHERE tileid = 100;', fmt='pandas', timeout=600)\n",
    "response"
   ]
  },
  {
   "cell_type": "markdown",
   "metadata": {},
   "source": [
    "#### Which tiles were observed on a night?\n",
    "\n",
    "```SQL\n",
    "SELECT tileid, survey, program FROM desi_dr1.exposure WHERE night = 20210115;\n",
    "```"
   ]
  },
  {
   "cell_type": "code",
   "execution_count": null,
   "metadata": {
    "execution": {
     "iopub.execute_input": "2025-03-06T00:23:41.453338Z",
     "iopub.status.busy": "2025-03-06T00:23:41.452905Z",
     "iopub.status.idle": "2025-03-06T00:23:41.538423Z",
     "shell.execute_reply": "2025-03-06T00:23:41.537556Z",
     "shell.execute_reply.started": "2025-03-06T00:23:41.453323Z"
    }
   },
   "outputs": [],
   "source": [
    "response = qc.query(sql='SELECT tileid, survey, program FROM desi_dr1.exposure WHERE night = 20210115;', fmt='pandas', timeout=600)\n",
    "response"
   ]
  },
  {
   "cell_type": "markdown",
   "metadata": {},
   "source": [
    "### Select ELG Targets\n",
    "\n",
    "Here's a simple demonstration of finding specific targets using the target bitmask values. In this case `desi_mask.ELG == 2**1`.\n",
    "\n",
    "```SQL\n",
    "SELECT * from desi_dr1.target WHERE (desi_target & 2) != 0;\n",
    "```"
   ]
  },
  {
   "cell_type": "code",
   "execution_count": null,
   "metadata": {
    "execution": {
     "iopub.execute_input": "2025-03-06T00:24:33.816208Z",
     "iopub.status.busy": "2025-03-06T00:24:33.815814Z",
     "iopub.status.idle": "2025-03-06T00:24:33.913618Z",
     "shell.execute_reply": "2025-03-06T00:24:33.913076Z",
     "shell.execute_reply.started": "2025-03-06T00:24:33.816189Z"
    }
   },
   "outputs": [],
   "source": [
    "q = f\"SELECT * FROM desi_dr1.target WHERE (desi_target & {desi_mask.ELG:d}) != 0 LIMIT 10;\"\n",
    "response = qc.query(sql=q, fmt='pandas', timeout=600)\n",
    "response"
   ]
  },
  {
   "cell_type": "markdown",
   "metadata": {},
   "source": [
    "#### Exercise\n",
    "\n",
    "* How many objects in the `zpix` table have `spectype` 'GALAXY'?"
   ]
  },
  {
   "cell_type": "markdown",
   "metadata": {},
   "source": [
    "### Redshift and Classification\n",
    "\n",
    "Simple query filtering on string values. There are a lot of stars, so this query has a `LIMIT 20`.\n",
    "\n",
    "```SQL\n",
    "SELECT spectype, subtype, z FROM desi_dr1.zpix WHERE spectype = 'STAR' AND subtype != '' LIMIT 20;\n",
    "```"
   ]
  },
  {
   "cell_type": "code",
   "execution_count": null,
   "metadata": {
    "execution": {
     "iopub.execute_input": "2025-03-06T00:24:53.491579Z",
     "iopub.status.busy": "2025-03-06T00:24:53.491349Z",
     "iopub.status.idle": "2025-03-06T00:24:53.581317Z",
     "shell.execute_reply": "2025-03-06T00:24:53.580827Z",
     "shell.execute_reply.started": "2025-03-06T00:24:53.491565Z"
    }
   },
   "outputs": [],
   "source": [
    "response = qc.query(sql=\"SELECT spectype, subtype, z FROM desi_dr1.zpix WHERE spectype = 'STAR' AND subtype != '' LIMIT 20;\", fmt='pandas', timeout=600)\n",
    "response"
   ]
  },
  {
   "cell_type": "markdown",
   "metadata": {},
   "source": [
    "## Joining Tables\n",
    "\n",
    "### A Simple Join\n",
    "\n",
    "Let's look at the nights and exposures on which a particular `TARGETID` was observed.\n",
    "\n",
    "```SQL\n",
    "SELECT f.tileid, e.expid, e.night FROM desi_dr1.fiberassign AS f JOIN desi_dr1.exposure AS e ON f.tileid = e.tileid WHERE f.targetid = 933811403620352;\n",
    "```"
   ]
  },
  {
   "cell_type": "code",
   "execution_count": null,
   "metadata": {
    "execution": {
     "iopub.execute_input": "2025-03-06T00:25:25.003331Z",
     "iopub.status.busy": "2025-03-06T00:25:25.003077Z",
     "iopub.status.idle": "2025-03-06T00:25:25.095212Z",
     "shell.execute_reply": "2025-03-06T00:25:25.094791Z",
     "shell.execute_reply.started": "2025-03-06T00:25:25.003317Z"
    }
   },
   "outputs": [],
   "source": [
    "q = \"\"\"SELECT f.tileid, e.expid, e.night\n",
    "FROM desi_dr1.fiberassign AS f\n",
    "JOIN desi_dr1.exposure AS e ON f.tileid = e.tileid\n",
    "WHERE f.targetid = 933811403620352;\"\"\"\n",
    "response = qc.query(sql=q, fmt='pandas', timeout=600)\n",
    "response"
   ]
  },
  {
   "cell_type": "markdown",
   "metadata": {},
   "source": [
    "### Another Simple Join\n",
    "\n",
    "In this case, we'll look at photometric flux and measured redshift. We'll `ORDER`(`BY`) the results and `LIMIT` the query to keep the numbers manageable.\n",
    "\n",
    "```SQL\n",
    "SELECT p.*, z.* FROM desi_dr1.photometry AS p JOIN desi_dr1.zpix AS z ON p.targetid = z.targetid ORDER BY z.z, p.flux_g LIMIT 50;\n",
    "```"
   ]
  },
  {
   "cell_type": "code",
   "execution_count": null,
   "metadata": {
    "execution": {
     "iopub.execute_input": "2025-03-06T00:25:57.209163Z",
     "iopub.status.busy": "2025-03-06T00:25:57.208915Z",
     "iopub.status.idle": "2025-03-06T00:25:57.347234Z",
     "shell.execute_reply": "2025-03-06T00:25:57.346748Z",
     "shell.execute_reply.started": "2025-03-06T00:25:57.209149Z"
    }
   },
   "outputs": [],
   "source": [
    "q = \"\"\"SELECT p.*, z.*\n",
    "FROM desi_dr1.photometry AS p\n",
    "JOIN desi_dr1.zpix AS z ON p.targetid = z.targetid\n",
    "ORDER BY z.z, p.flux_g LIMIT 50;\"\"\"\n",
    "response = qc.query(sql=q, fmt='pandas', timeout=600)\n",
    "response"
   ]
  },
  {
   "cell_type": "code",
   "execution_count": null,
   "metadata": {
    "execution": {
     "iopub.execute_input": "2025-03-06T00:26:04.084888Z",
     "iopub.status.busy": "2025-03-06T00:26:04.084609Z",
     "iopub.status.idle": "2025-03-06T00:26:04.216292Z",
     "shell.execute_reply": "2025-03-06T00:26:04.215784Z",
     "shell.execute_reply.started": "2025-03-06T00:26:04.084874Z"
    },
    "tags": []
   },
   "outputs": [],
   "source": [
    "# Avoid warnings about invalid values in np.log10().\n",
    "w = (response.flux_g.values > 0) & (response.flux_r.values > 0)\n",
    "g_minus_r = np.log10(response.flux_r.values[w]/response.flux_g.values[w])\n",
    "r_minus_z = np.log10(response.flux_z.values[w]/response.flux_r.values[w])\n",
    "redshift = np.array(response.z.values[w])\n",
    "fig, axes = plt.subplots(1, 1, figsize=(5, 5), dpi=100)\n",
    "p = axes.plot(g_minus_r, r_minus_z, 'k.')\n",
    "foo = axes.set_xlim([-0.2, 1.0])\n",
    "foo = axes.set_ylim([-0.2, 1.0])\n",
    "foo = axes.set_aspect('equal')\n",
    "foo = axes.set_xlabel('$g - r$')\n",
    "foo = axes.set_ylabel('$r - z$')"
   ]
  },
  {
   "cell_type": "markdown",
   "metadata": {},
   "source": [
    "#### Exercise\n",
    "\n",
    "* Create a color-color plot for objects targeted as QSOs, and spectroscopically confirmed as such."
   ]
  },
  {
   "cell_type": "markdown",
   "metadata": {},
   "source": [
    "### A More Complicated Join\n",
    "\n",
    "Let's look at objects that appear on more than one tile. For each of those tiles, how many exposures where there?\n",
    "\n",
    "In this example, we're using a subquery that itself is a multi-table join.\n",
    "\n",
    "```SQL\n",
    "SELECT t.nexp, f.tileid, q1.targetid, q1.n_assign FROM desi_dr1.fiberassign AS f\n",
    "    JOIN (SELECT ff.targetid, COUNT(*) AS n_assign FROM desi_dr1.fiberassign AS ff GROUP BY ff.targetid) AS q1 ON f.targetid = q1.targetid\n",
    "    JOIN desi_dr1.tile AS t ON f.tileid = t.tileid LIMIT 100;\n",
    "```"
   ]
  },
  {
   "cell_type": "code",
   "execution_count": null,
   "metadata": {
    "execution": {
     "iopub.execute_input": "2025-03-06T00:26:35.407566Z",
     "iopub.status.busy": "2025-03-06T00:26:35.407277Z",
     "iopub.status.idle": "2025-03-06T00:26:46.686046Z",
     "shell.execute_reply": "2025-03-06T00:26:46.685497Z",
     "shell.execute_reply.started": "2025-03-06T00:26:35.407552Z"
    }
   },
   "outputs": [],
   "source": [
    "q = \"\"\"SELECT t.nexp, f.tileid, q1.targetid, q1.n_assign\n",
    "FROM desi_dr1.fiberassign AS f\n",
    "JOIN (SELECT ff.targetid, COUNT(*) AS n_assign FROM desi_dr1.fiberassign AS ff GROUP BY ff.targetid) AS q1 ON f.targetid = q1.targetid\n",
    "JOIN desi_dr1.tile AS t ON f.tileid = t.tileid LIMIT 100;\n",
    "\"\"\"\n",
    "response = qc.query(sql=q, fmt='pandas', timeout=600)\n",
    "response"
   ]
  },
  {
   "cell_type": "markdown",
   "metadata": {},
   "source": [
    "Now let's see what the redshift table thinks are the number of exposures for these objects.\n",
    "\n",
    "```SQL\n",
    "SELECT z.* FROM desi_dr1.zpix AS z WHERE z.targetid IN (6432023904256, 6448025174016[, ...]);\n",
    "```"
   ]
  },
  {
   "cell_type": "code",
   "execution_count": null,
   "metadata": {
    "execution": {
     "iopub.execute_input": "2025-03-06T00:27:28.676947Z",
     "iopub.status.busy": "2025-03-06T00:27:28.676440Z",
     "iopub.status.idle": "2025-03-06T00:27:28.784284Z",
     "shell.execute_reply": "2025-03-06T00:27:28.783477Z",
     "shell.execute_reply.started": "2025-03-06T00:27:28.676932Z"
    }
   },
   "outputs": [],
   "source": [
    "q3 = \"\"\"SELECT z.* FROM desi_dr1.zpix AS z\n",
    "WHERE z.targetid IN ({0});\n",
    "\"\"\".format(', '.join(map(str, response.targetid.values.tolist())))\n",
    "response3 = qc.query(sql=q3, fmt='pandas', timeout=600)\n",
    "response3"
   ]
  },
  {
   "cell_type": "markdown",
   "metadata": {
    "tags": []
   },
   "source": [
    "#### Exercise\n",
    "\n",
    "* What is the distribution of number of exposures?"
   ]
  },
  {
   "cell_type": "markdown",
   "metadata": {},
   "source": [
    "## Matching Redshift Tables to Targeting Data\n",
    "\n",
    "Matching redshift results back to targeting is an important task for many DESI science projects. Below we briefly describe the fundamentals of this matching using the database.\n",
    "\n",
    "### Tile-based\n",
    "\n",
    "The `ztile` table contains a foreign key pointing to the primary key of the `target` table. This means that for any row of `ztile`, there is a pre-matched entry in the `target` table, and it can be accessed with a simple join, such as:\n",
    "```SQL\n",
    "SELECT z.targetid, z.spgrp, z.spgrpval, z.tileid, z.z, z.zwarn, z.spectype,\n",
    "    t.sv1_desi_target, t.sv1_bgs_target, t.sv1_mws_target, t.sv1_scnd_target,\n",
    "    p.ra, p.dec\n",
    "FROM desi_dr1.ztile AS z\n",
    "JOIN desi_dr1.target AS t ON z.targetphotid = t.id\n",
    "JOIN desi_dr1.photometry AS p ON z.targetid = p.targetid\n",
    "LIMIT 50;\n",
    "```\n",
    "Note the `z.targetphotid = t.id`. This query also demonstrates a JOIN with the `photometry` table, where `targetid` is unique."
   ]
  },
  {
   "cell_type": "code",
   "execution_count": null,
   "metadata": {
    "execution": {
     "iopub.execute_input": "2025-03-06T00:28:10.814326Z",
     "iopub.status.busy": "2025-03-06T00:28:10.813922Z",
     "iopub.status.idle": "2025-03-06T00:28:10.917639Z",
     "shell.execute_reply": "2025-03-06T00:28:10.917017Z",
     "shell.execute_reply.started": "2025-03-06T00:28:10.814307Z"
    }
   },
   "outputs": [],
   "source": [
    "q = \"\"\"SELECT z.targetid, z.spgrp, z.spgrpval, z.tileid, z.z, z.zwarn, z.spectype,\n",
    "    t.sv1_desi_target, t.sv1_bgs_target, t.sv1_mws_target, t.sv1_scnd_target,\n",
    "    p.ra, p.dec\n",
    "FROM desi_dr1.ztile AS z\n",
    "JOIN desi_dr1.target AS t ON z.targetphotid = t.id\n",
    "JOIN desi_dr1.photometry AS p ON z.targetid = p.targetid\n",
    "LIMIT 50;\"\"\"\n",
    "response = qc.query(sql=q, fmt='pandas', timeout=600)\n",
    "response"
   ]
  },
  {
   "cell_type": "markdown",
   "metadata": {},
   "source": [
    "### HEALPixel-based\n",
    "\n",
    "The redshift results from HEALPixel-based coadds in the `zpix` table may be made up of several tiles, so it is not as simple to match these with targeting data. In the majority of cases, the targeting information is the same for a `targetid` across multiple tiles, as long as the tiles are part of the same survey (*e.g.* `sv1`). However it is not *always* the case, so we have instead collected the best values of the targeting information and placed those values directly in the `zpix` table. Here is the analogous query to the query above:\n",
    "```SQL\n",
    "SELECT z.targetid, z.survey, z.program, z.healpix, z.z, z.zwarn, z.spectype,\n",
    "    z.sv1_desi_target, z.sv1_bgs_target, z.sv1_mws_target, z.sv1_scnd_target,\n",
    "    p.ra, p.dec\n",
    "FROM desi_dr1.zpix AS z\n",
    "JOIN desi_dr1.photometry AS p ON z.targetid = p.targetid\n",
    "LIMIT 50;\n",
    "```\n",
    "If you wish to explore this issue in more detail, there is an [example notebook](https://github.com/desihub/specprod-db/blob/main/doc/nb/finding-edge-cases.ipynb) (*note*: this example notebook is intended for use at [NERSC](https://www.nersc.gov))."
   ]
  },
  {
   "cell_type": "code",
   "execution_count": null,
   "metadata": {
    "execution": {
     "iopub.execute_input": "2025-03-06T00:29:10.684351Z",
     "iopub.status.busy": "2025-03-06T00:29:10.683765Z",
     "iopub.status.idle": "2025-03-06T00:29:10.808924Z",
     "shell.execute_reply": "2025-03-06T00:29:10.808257Z",
     "shell.execute_reply.started": "2025-03-06T00:29:10.684331Z"
    }
   },
   "outputs": [],
   "source": [
    "q = \"\"\"SELECT z.targetid, z.survey, z.program, z.healpix, z.z, z.zwarn, z.spectype,\n",
    "    z.sv1_desi_target, z.sv1_bgs_target, z.sv1_mws_target, z.sv1_scnd_target,\n",
    "    p.ra, p.dec\n",
    "FROM desi_dr1.zpix AS z\n",
    "JOIN desi_dr1.photometry AS p ON z.targetid = p.targetid\n",
    "LIMIT 50;\"\"\"\n",
    "response = qc.query(sql=q, fmt='pandas', timeout=600)\n",
    "response"
   ]
  },
  {
   "cell_type": "markdown",
   "metadata": {},
   "source": [
    "## Survey Progress\n",
    "\n",
    "Let's see which nights have data, and count the number of exposures per night.\n",
    "\n",
    "```SQL\n",
    "SELECT e.night, COUNT(e.expid) AS n_exp FROM desi_dr1.exposure AS e GROUP BY e.night ORDER BY e.night;\n",
    "```"
   ]
  },
  {
   "cell_type": "code",
   "execution_count": null,
   "metadata": {
    "execution": {
     "iopub.execute_input": "2025-03-06T00:29:33.969953Z",
     "iopub.status.busy": "2025-03-06T00:29:33.969699Z",
     "iopub.status.idle": "2025-03-06T00:29:34.062050Z",
     "shell.execute_reply": "2025-03-06T00:29:34.061637Z",
     "shell.execute_reply.started": "2025-03-06T00:29:33.969940Z"
    }
   },
   "outputs": [],
   "source": [
    "q = \"SELECT e.night, COUNT(e.expid) AS n_exp FROM desi_dr1.exposure AS e GROUP BY e.night ORDER BY e.night;\"\n",
    "night_exposures = qc.query(sql=q, fmt='pandas', timeout=600)\n",
    "night_exposures"
   ]
  },
  {
   "cell_type": "markdown",
   "metadata": {},
   "source": [
    "Observation timestamp for a given night.  Note how we have both MJD and a corresponding `datetime.datetime` object in the database.\n",
    "\n",
    "```SQL\n",
    "SELECT e.expid, e.mjd, e.date_obs FROM desi_dr1.exposure AS e WHERE e.night = 20210428 ORDER BY e.expid;\n",
    "```"
   ]
  },
  {
   "cell_type": "code",
   "execution_count": null,
   "metadata": {
    "execution": {
     "iopub.execute_input": "2025-03-06T00:29:56.763633Z",
     "iopub.status.busy": "2025-03-06T00:29:56.763397Z",
     "iopub.status.idle": "2025-03-06T00:29:56.859416Z",
     "shell.execute_reply": "2025-03-06T00:29:56.859058Z",
     "shell.execute_reply.started": "2025-03-06T00:29:56.763619Z"
    }
   },
   "outputs": [],
   "source": [
    "q = \"SELECT e.expid, e.mjd, e.date_obs FROM desi_dr1.exposure AS e WHERE e.night = 20210428 ORDER BY e.expid;\"\n",
    "response = qc.query(sql=q, fmt='pandas', timeout=600)\n",
    "response"
   ]
  },
  {
   "cell_type": "markdown",
   "metadata": {},
   "source": [
    "So, for a given target in the `target` table, when was the observation completed?  In other words, if a target has multiple observations, we want the date of the *last* observation.  First, how many targets are there?\n",
    "\n",
    "```SQL\n",
    "SELECT COUNT(*) AS n_targets FROM desi_dr1.target;\n",
    "```"
   ]
  },
  {
   "cell_type": "code",
   "execution_count": null,
   "metadata": {
    "execution": {
     "iopub.execute_input": "2025-03-06T00:30:17.883616Z",
     "iopub.status.busy": "2025-03-06T00:30:17.883369Z",
     "iopub.status.idle": "2025-03-06T00:30:20.746185Z",
     "shell.execute_reply": "2025-03-06T00:30:20.745773Z",
     "shell.execute_reply.started": "2025-03-06T00:30:17.883603Z"
    }
   },
   "outputs": [],
   "source": [
    "q = \"SELECT COUNT(*) AS n_targets FROM desi_dr1.target;\"\n",
    "N_targets = qc.query(sql=q, fmt='pandas', timeout=600)\n",
    "N_targets"
   ]
  },
  {
   "cell_type": "markdown",
   "metadata": {},
   "source": [
    "Now we look for targets that have observations and find the MJD of the observation.\n",
    "\n",
    "```SQL\n",
    "SELECT f.targetid, e.expid, e.mjd FROM desi_dr1.fiberassign AS f\n",
    "    JOIN (SELECT tt.targetid FROM desi_dr1.target AS tt JOIN desi_dr1.fiberassign AS ff ON tt.targetid = ff.targetid\n",
    "              JOIN desi_dr1.exposure AS ee ON ff.tileid = ee.tileid GROUP BY tt.targetid) AS q1 ON f.targetid = q1.targetid\n",
    "    JOIN desi_dr1.exposure AS e ON f.tileid = e.tileid ORDER BY q1.targetid, e.expid;\n",
    "```\n",
    "\n",
    "*WARNING*: This query will take several minutes, please be patient."
   ]
  },
  {
   "cell_type": "code",
   "execution_count": null,
   "metadata": {
    "execution": {
     "iopub.execute_input": "2025-03-06T00:31:55.658621Z",
     "iopub.status.busy": "2025-03-06T00:31:55.658276Z",
     "iopub.status.idle": "2025-03-06T00:36:18.038746Z",
     "shell.execute_reply": "2025-03-06T00:36:18.037833Z",
     "shell.execute_reply.started": "2025-03-06T00:31:55.658607Z"
    }
   },
   "outputs": [],
   "source": [
    "# Find all targetids that have observations.\n",
    "#\n",
    "q1 = \"\"\"SELECT tt.targetid FROM desi_dr1.target AS tt JOIN desi_dr1.fiberassign AS ff ON tt.targetid = ff.targetid\n",
    "    JOIN desi_dr1.exposure AS ee ON ff.tileid = ee.tileid GROUP BY tt.targetid\"\"\"\n",
    "#\n",
    "# Find the exposure times for the targetids that have been observed\n",
    "#\n",
    "q2 = f\"\"\"SELECT f.targetid, e.expid, e.mjd FROM desi_dr1.fiberassign AS f\n",
    "    JOIN ({q1}) AS q1 ON f.targetid = q1.targetid\n",
    "    JOIN desi_dr1.exposure AS e ON f.tileid = e.tileid ORDER BY q1.targetid, e.expid;\"\"\"\n",
    "response = qc.query(sql=q2, fmt='pandas', timeout=600)\n",
    "targetid = response.targetid.values\n",
    "expid = response.expid.values\n",
    "mjd = response.mjd.values\n",
    "#\n",
    "# Use the counts to give the *last* observation.\n",
    "#\n",
    "unique_targetid, i, j, c = np.unique(targetid, return_index=True, return_inverse=True, return_counts=True)\n",
    "unique_expid = expid[i + (c-1)]\n",
    "unique_mjd = mjd[i + (c-1)]"
   ]
  },
  {
   "cell_type": "markdown",
   "metadata": {},
   "source": [
    "Now we have the targets and the date of last observation.  But it's sorted by `targetid`."
   ]
  },
  {
   "cell_type": "code",
   "execution_count": null,
   "metadata": {
    "execution": {
     "iopub.execute_input": "2025-03-06T00:37:09.305661Z",
     "iopub.status.busy": "2025-03-06T00:37:09.305264Z",
     "iopub.status.idle": "2025-03-06T00:37:10.601412Z",
     "shell.execute_reply": "2025-03-06T00:37:10.600719Z",
     "shell.execute_reply.started": "2025-03-06T00:37:09.305645Z"
    }
   },
   "outputs": [],
   "source": [
    "ii = unique_expid.argsort()\n",
    "unique_targetid, i3, j3, c3 = np.unique(unique_expid[ii], return_index=True, return_inverse=True, return_counts=True)\n",
    "N_completed = np.cumsum(c3)"
   ]
  },
  {
   "cell_type": "markdown",
   "metadata": {},
   "source": [
    "Now we plot the fraction completed versus time.  In addition, we show the number of exposures per night."
   ]
  },
  {
   "cell_type": "code",
   "execution_count": null,
   "metadata": {
    "execution": {
     "iopub.execute_input": "2025-03-06T00:37:12.735311Z",
     "iopub.status.busy": "2025-03-06T00:37:12.735046Z",
     "iopub.status.idle": "2025-03-06T00:37:13.372639Z",
     "shell.execute_reply": "2025-03-06T00:37:13.372111Z",
     "shell.execute_reply.started": "2025-03-06T00:37:12.735298Z"
    }
   },
   "outputs": [],
   "source": [
    "min_mjd = 10*(int(mjd.min())//10)\n",
    "fig, axes = plt.subplots(1, 2, figsize=(16, 8), dpi=100)\n",
    "p1 = axes[0].plot(unique_mjd[ii][i3] - min_mjd, N_completed/N_targets.n_targets.values[0], 'k-')\n",
    "foo = axes[0].set_xlabel(f'MJD - {min_mjd:d}')\n",
    "foo = axes[0].set_ylabel('Fraction completed')\n",
    "foo = axes[0].grid(True)\n",
    "foo = axes[1].bar(pd.to_datetime(night_exposures['night'],format=\"%Y%m%d\"), night_exposures['n_exp'], color='black', width=1)\n",
    "foo = axes[1].set_xlabel('Date')\n",
    "foo = axes[1].set_ylabel('Number of Exposures')"
   ]
  },
  {
   "cell_type": "markdown",
   "metadata": {},
   "source": [
    "### Exercise\n",
    "\n",
    "* Break down the progress by target class, target bit, etc."
   ]
  },
  {
   "cell_type": "markdown",
   "metadata": {},
   "source": [
    "## Using q3c\n",
    "\n",
    "[q3c](https://github.com/segasai/q3c) ([Koposov & Bartunov 2006](https://ui.adsabs.harvard.edu/abs/2006ASPC..351..735K/abstract)) is a popular library that provides spatial indexing and searching in astronomical databases. Here we'll demonstrate how to access this functionality. This is a radial (\"cone\") search on an arbitrary point in the DESI footprint:\n",
    "\n",
    "```SQL\n",
    "SELECT p.*, z.*, q3c_dist(p.ra, p.dec, 180.0, 0.0) AS radial_distance\n",
    "    FROM desi_dr1.photometry AS p JOIN desi_dr1.zpix AS z ON p.targetid = z.targetid\n",
    "    WHERE q3c_radial_query(p.ra, p.dec, 180.0, 0.0, 1.0/60.0); -- 1 arcmin\n",
    "```"
   ]
  },
  {
   "cell_type": "code",
   "execution_count": null,
   "metadata": {
    "execution": {
     "iopub.execute_input": "2025-03-06T00:38:00.080998Z",
     "iopub.status.busy": "2025-03-06T00:38:00.080740Z",
     "iopub.status.idle": "2025-03-06T00:38:00.206016Z",
     "shell.execute_reply": "2025-03-06T00:38:00.205540Z",
     "shell.execute_reply.started": "2025-03-06T00:38:00.080984Z"
    }
   },
   "outputs": [],
   "source": [
    "q = \"\"\"SELECT p.*, z.*, q3c_dist(p.ra, p.dec, 180.0, 0.0) AS radial_distance\n",
    "    FROM desi_dr1.photometry AS p JOIN desi_dr1.zpix AS z ON p.targetid = z.targetid\n",
    "    WHERE q3c_radial_query(p.ra, p.dec, 180.0, 0.0, 1.0/60.0);\"\"\"\n",
    "response = qc.query(sql=q, fmt='pandas', timeout=600)\n",
    "response"
   ]
  },
  {
   "cell_type": "markdown",
   "metadata": {},
   "source": [
    "### Exercise\n",
    "\n",
    "* What spectra are near your favorite object?"
   ]
  },
  {
   "cell_type": "markdown",
   "metadata": {},
   "source": [
    "## Resources and References\n",
    "\n",
    "* [DESI Database Notebook](https://github.com/desihub/tutorials/blob/main/database/spectroscopic-production-database.ipynb) (*note*: requires access to [NERSC](https://www.nersc.gov)).\n",
    "* [DESI Database Documentation](https://data.desi.lbl.gov/doc/access/database/).\n",
    "* [DESI Early Data Release Paper](https://arxiv.org/abs/2306.06308)."
   ]
  }
 ],
 "metadata": {
  "kernelspec": {
   "display_name": "DESI 23.1 (DL,Py3.10.13)",
   "language": "python",
   "name": "desi_23.1"
  },
  "language_info": {
   "codemirror_mode": {
    "name": "ipython",
    "version": 3
   },
   "file_extension": ".py",
   "mimetype": "text/x-python",
   "name": "python",
   "nbconvert_exporter": "python",
   "pygments_lexer": "ipython3",
   "version": "3.10.13"
  }
 },
 "nbformat": 4,
 "nbformat_minor": 4
}
