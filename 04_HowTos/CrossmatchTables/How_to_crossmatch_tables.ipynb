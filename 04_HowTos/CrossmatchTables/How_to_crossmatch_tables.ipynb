{
 "cells": [
  {
   "cell_type": "code",
   "execution_count": 1,
   "metadata": {
    "execution": {
     "iopub.execute_input": "2023-08-21T20:56:05.878590Z",
     "iopub.status.busy": "2023-08-21T20:56:05.878070Z",
     "iopub.status.idle": "2023-08-21T20:56:05.885409Z",
     "shell.execute_reply": "2023-08-21T20:56:05.884054Z",
     "shell.execute_reply.started": "2023-08-21T20:56:05.878533Z"
    }
   },
   "outputs": [],
   "source": [
    "__author__ = 'Knut Olsen <knut.olsen@noirlab.edu>, Mike Fitzpatrick <mike.fitzpatrick@noirlab.edu>, Adam Scott <adam.scott@noirlab.edu>'\n",
    "__version__ = '20240607' # yyyymmdd\n",
    "__datasets__ = ['usno.a2', 'gaia_dr3']\n",
    "__keywords__ = ['crossmatch', 'mydb', 'query', 'tutorial', 'vospace']"
   ]
  },
  {
   "cell_type": "markdown",
   "metadata": {},
   "source": [
    "# How to do an efficient crossmatch of a user table with a table in Data Lab\n",
    "*Knut Olsen, Mike Fitzpatrick, and Adam Scott*"
   ]
  },
  {
   "cell_type": "markdown",
   "metadata": {},
   "source": [
    "# Table of Contents\n",
    "* [Goals](#goals)\n",
    "* [Summary](#summary)\n",
    "* [Disclaimer & attribution](#attribution)\n",
    "* [Standard Imports and Data Lab Login](#login)\n",
    "* [MyDB, your personal database storage](#mydb)\n",
    "* [Importing a user table](#import)\n",
    "* [Run the crossmatch](#crossmatch)\n",
    "* [Cleanup](#cleanup)\n"
   ]
  },
  {
   "cell_type": "markdown",
   "metadata": {},
   "source": [
    "<a class=\"anchor\" id=\"goals\"></a>\n",
    "# Goals\n",
    "In this notebook, we demonstrate how to do an efficient crossmatch of a user-provided table of data against a table hosted by Data Lab."
   ]
  },
  {
   "cell_type": "markdown",
   "metadata": {},
   "source": [
    "<a class=\"anchor\" id=\"summary\"></a>\n",
    "# Summary\n",
    "The basic steps are:\n",
    "* [Make sure that you are logged in as a registered user](#login)\n",
    "* [Upload your table into myDB, your personal database storage area](#import)\n",
    "* [Create and run a query to do the crossmatch using the q3c_join() function](#crossmatch)"
   ]
  },
  {
   "cell_type": "markdown",
   "metadata": {},
   "source": [
    "<a class=\"anchor\" id=\"attribution\"></a>\n",
    "# Disclaimer & attribution\n",
    "\n",
    "Disclaimers\n",
    "-----------\n",
    "Note that using the Astro Data Lab constitutes your agreement with our minimal [Disclaimers](https://datalab.noirlab.edu/disclaimers.php).\n",
    "\n",
    "Acknowledgments\n",
    "---------------\n",
    "If you use **Astro Data Lab** in your published research, please include the text in your paper's Acknowledgments section:\n",
    "\n",
    "_This research uses services or data provided by the Astro Data Lab, which is part of the Community Science and Data Center (CSDC) Program of NSF NOIRLab. NOIRLab is operated by the Association of Universities for Research in Astronomy (AURA), Inc. under a cooperative agreement with the U.S. National Science Foundation._\n",
    "\n",
    "If you use **SPARCL jointly with the Astro Data Lab platform** (via JupyterLab, command-line, or web interface) in your published research, please include this text below in your paper's Acknowledgments section:\n",
    "\n",
    "_This research uses services or data provided by the SPectra Analysis and Retrievable Catalog Lab (SPARCL) and the Astro Data Lab, which are both part of the Community Science and Data Center (CSDC) Program of NSF NOIRLab. NOIRLab is operated by the Association of Universities for Research in Astronomy (AURA), Inc. under a cooperative agreement with the U.S. National Science Foundation._\n",
    "\n",
    "In either case **please cite the following papers**:\n",
    "\n",
    "* Data Lab concept paper: Fitzpatrick et al., \"The NOAO Data Laboratory: a conceptual overview\", SPIE, 9149, 2014, https://doi.org/10.1117/12.2057445\n",
    "\n",
    "* Astro Data Lab overview: Nikutta et al., \"Data Lab - A Community Science Platform\", Astronomy and Computing, 33, 2020, https://doi.org/10.1016/j.ascom.2020.100411\n",
    "\n",
    "If you are referring to the Data Lab JupyterLab / Jupyter Notebooks, cite:\n",
    "\n",
    "* Juneau et al., \"Jupyter-Enabled Astrophysical Analysis Using Data-Proximate Computing Platforms\", CiSE, 23, 15, 2021, https://doi.org/10.1109/MCSE.2021.3057097\n",
    "\n",
    "If publishing in a AAS journal, also add the keyword: `\\facility{Astro Data Lab}`\n",
    "\n",
    "And if you are using SPARCL, please also add `\\software{SPARCL}` and cite:\n",
    "\n",
    "* Juneau et al., \"SPARCL: SPectra Analysis and Retrievable Catalog Lab\", Conference Proceedings for ADASS XXXIII, 2024\n",
    "https://doi.org/10.48550/arXiv.2401.05576\n",
    "\n",
    "The NOIRLab Library maintains [lists of proper acknowledgments](https://noirlab.edu/science/about/scientific-acknowledgments) to use when publishing papers using the Lab's facilities, data, or services."
   ]
  },
  {
   "cell_type": "markdown",
   "metadata": {},
   "source": [
    "<a class=\"anchor\" id=\"login\"></a>\n",
    "# Standard Imports and Data Lab Login"
   ]
  },
  {
   "cell_type": "code",
   "execution_count": 2,
   "metadata": {
    "execution": {
     "iopub.execute_input": "2023-08-21T20:56:05.887828Z",
     "iopub.status.busy": "2023-08-21T20:56:05.887379Z",
     "iopub.status.idle": "2023-08-21T20:56:07.500864Z",
     "shell.execute_reply": "2023-08-21T20:56:07.499015Z",
     "shell.execute_reply.started": "2023-08-21T20:56:05.887782Z"
    }
   },
   "outputs": [],
   "source": [
    "from dl import authClient as ac\n",
    "from dl import storeClient as sc\n",
    "from dl import queryClient as qc\n",
    "from dl.helpers.utils import convert        # to use Pandas\n",
    "import os\n",
    "from getpass import getpass\n",
    "\n",
    "do_cleanup = True                          # Remove any files/tables created by this notebook"
   ]
  },
  {
   "cell_type": "markdown",
   "metadata": {},
   "source": [
    "# Authentication\n",
    "Much of the functionality of Data Lab can be accessed without explicitly logging in (the service then uses an anonymous login). But some capacities, for instance saving the results of your queries to your virtual storage space, require a login (i.e. you will need a registered user account).\n",
    "\n",
    "If you need to log in to Data Lab (you will in order to run this notebook), un-comment the cell below and execute it:"
   ]
  },
  {
   "cell_type": "code",
   "execution_count": 3,
   "metadata": {
    "execution": {
     "iopub.execute_input": "2023-08-21T20:56:07.504250Z",
     "iopub.status.busy": "2023-08-21T20:56:07.503880Z",
     "iopub.status.idle": "2023-08-21T20:56:07.516301Z",
     "shell.execute_reply": "2023-08-21T20:56:07.515230Z",
     "shell.execute_reply.started": "2023-08-21T20:56:07.504213Z"
    }
   },
   "outputs": [
    {
     "data": {
      "text/plain": [
       "'demo00'"
      ]
     },
     "execution_count": 3,
     "metadata": {},
     "output_type": "execute_result"
    }
   ],
   "source": [
    "#token = ac.login(input(\"Enter user name: (+ENTER) \"),getpass(\"Enter password: (+ENTER) \"))\n",
    "ac.whoAmI()"
   ]
  },
  {
   "cell_type": "markdown",
   "metadata": {},
   "source": [
    "<a class=\"anchor\" id=\"mydb\"></a>\n",
    "# MyDB, your personal database storage"
   ]
  },
  {
   "cell_type": "markdown",
   "metadata": {},
   "source": [
    "### Get list of MyDB tables\n",
    "Let's start by getting a list of existing tables in MyDB. The way to list tables in your MyDB is with the *mydb_list()* method:\n",
    "\n",
    "        result = queryClient.mydb_list ([token], <table_name>)\n",
    "where\n",
    "\n",
    "        token         login token (optional)\n",
    "        table_name    name of the MyDB table to list (optional)\n",
    "        \n",
    "If no arguments are given, a list of all tables in the user MyDB is returned, one tablename per row.  If a table name is provided, the method returns a CSV string on column name and datatype, one column name per row."
   ]
  },
  {
   "cell_type": "code",
   "execution_count": 4,
   "metadata": {
    "execution": {
     "iopub.execute_input": "2023-08-21T20:56:07.518423Z",
     "iopub.status.busy": "2023-08-21T20:56:07.518091Z",
     "iopub.status.idle": "2023-08-21T20:56:07.686943Z",
     "shell.execute_reply": "2023-08-21T20:56:07.685461Z",
     "shell.execute_reply.started": "2023-08-21T20:56:07.518390Z"
    }
   },
   "outputs": [
    {
     "name": "stdout",
     "output_type": "stream",
     "text": [
      "Listing mydb tables:\n",
      "aaa\n",
      "aab\n",
      "basic_result\n",
      "bgsfaint_dlnotebook\n",
      "cmtestoutput\n",
      "cmxmatchtest\n",
      "desi_tile\n",
      "df_xmatch\n",
      "fastspec_everest_z_lt_0p6\n",
      "fiberassign\n",
      "gaia_rc\n",
      "gaia_sample\n",
      "gaia_sample_xmatch\n",
      "gals\n",
      "lowmassagn_dlnotebook\n",
      "secondary_dark_subset\n",
      "sv1targets_bright_secondary\n",
      "sv1targets_dark_secondary\n",
      "tbl_stat\n",
      "testcm\n",
      "testingx\n",
      "testresult2\n",
      "testx2\n",
      "testxmatchqueryout\n",
      "tile\n",
      "twomass_gaia1\n",
      "twomass_pt1\n",
      "twomasspsc\n",
      "usno_objects\n",
      "xmatchasyncout\n",
      "xmatchasyncout2\n",
      "\n"
     ]
    }
   ],
   "source": [
    "print(\"Listing mydb tables:\\n\" + qc.mydb_list())"
   ]
  },
  {
   "cell_type": "markdown",
   "metadata": {},
   "source": [
    "### Query database with output to mydb\n",
    "The most basic way to create a table in mydb is to issue a query against a table in the Data Lab database with output to mydb:"
   ]
  },
  {
   "cell_type": "code",
   "execution_count": 5,
   "metadata": {
    "execution": {
     "iopub.execute_input": "2023-08-21T20:56:07.689411Z",
     "iopub.status.busy": "2023-08-21T20:56:07.688934Z",
     "iopub.status.idle": "2023-08-21T20:56:07.846081Z",
     "shell.execute_reply": "2023-08-21T20:56:07.844508Z",
     "shell.execute_reply.started": "2023-08-21T20:56:07.689361Z"
    }
   },
   "outputs": [
    {
     "name": "stdout",
     "output_type": "stream",
     "text": [
      "Error: Table name already exists. It can be dropped with queryClient.mydb_drop() or add drop=True to your current request\n",
      "Listing mydb tables:\n",
      "aaa\n",
      "aab\n",
      "basic_result\n",
      "bgsfaint_dlnotebook\n",
      "cmtestoutput\n",
      "cmxmatchtest\n",
      "desi_tile\n",
      "df_xmatch\n",
      "fastspec_everest_z_lt_0p6\n",
      "fiberassign\n",
      "gaia_rc\n",
      "gaia_sample\n",
      "gaia_sample_xmatch\n",
      "gals\n",
      "lowmassagn_dlnotebook\n",
      "secondary_dark_subset\n",
      "sv1targets_bright_secondary\n",
      "sv1targets_dark_secondary\n",
      "tbl_stat\n",
      "testcm\n",
      "testingx\n",
      "testresult2\n",
      "testx2\n",
      "testxmatchqueryout\n",
      "tile\n",
      "twomass_gaia1\n",
      "twomass_pt1\n",
      "twomasspsc\n",
      "usno_objects\n",
      "xmatchasyncout\n",
      "xmatchasyncout2\n",
      "\n"
     ]
    }
   ],
   "source": [
    "query = 'select top 15 id,raj2000,dej2000 from usno.a2'\n",
    "try:\n",
    "    qc.query(adql=query, fmt='csv', out='mydb://usno_objects')\n",
    "except Exception as e:\n",
    "    print(e.message)\n",
    "\n",
    "print(\"Listing mydb tables:\\n\" + qc.mydb_list())"
   ]
  },
  {
   "cell_type": "markdown",
   "metadata": {},
   "source": [
    "<a class=\"anchor\" id=\"import\"></a>\n",
    "# Importing a user table\n",
    "But often a user will have an existing table that they wish to import into mydb.  The sections below show how to do this with a variety of examples."
   ]
  },
  {
   "cell_type": "markdown",
   "metadata": {},
   "source": [
    "### Generate some sample data\n",
    "First, we'll create a table of data and store it locally as well put in VOSpace.  If you have a table on your local machine, you can use the Jupyter notebook's Upload feature to copy the table into Data Lab."
   ]
  },
  {
   "cell_type": "code",
   "execution_count": 6,
   "metadata": {
    "execution": {
     "iopub.execute_input": "2023-08-21T20:56:07.848550Z",
     "iopub.status.busy": "2023-08-21T20:56:07.848035Z",
     "iopub.status.idle": "2023-08-21T20:56:09.346712Z",
     "shell.execute_reply": "2023-08-21T20:56:09.345056Z",
     "shell.execute_reply.started": "2023-08-21T20:56:07.848496Z"
    }
   },
   "outputs": [
    {
     "name": "stdout",
     "output_type": "stream",
     "text": [
      "(1 / 1) objects.csv -> vos://objects.csv\n",
      "-rw-rw-r-x  demo00     528  21 Aug 2023 13:56  objects.csv\n",
      "\n"
     ]
    }
   ],
   "source": [
    "data = qc.query ('select id,raj2000 as ra,dej2000 as dec from usno.a2 limit 15')  # CSV String\n",
    "with open ('objects.csv','w') as fd:                                               # file of CSV data\n",
    "    fd.write (data)   \n",
    "df = convert(data)                                                                 # Pandas DataFrame\n",
    "tsv = data.replace(',','\\t')                                                       # Tab-separated\n",
    "asv = data.replace(',',' ')                                                        # ASCII-separated\n",
    "bsv = data.replace(',','|')                                                        # Bar-separated\n",
    "\n",
    "if sc.access ('vos://objects.csv'):\n",
    "    sc.rm ('vos://objects.csv')\n",
    "if sc.access ('vos://objects.vot'):\n",
    "    sc.rm ('vos://objects.vot')\n",
    "sc.put ('objects.csv', 'vos://objects.csv')                                        # Put a copy in VOSpace\n",
    "print(sc.ls ('objects.*', format='long', verbose=True))"
   ]
  },
  {
   "cell_type": "markdown",
   "metadata": {},
   "source": [
    "We could also have output the result of the query above directly to VOSpace."
   ]
  },
  {
   "cell_type": "code",
   "execution_count": 7,
   "metadata": {
    "execution": {
     "iopub.execute_input": "2023-08-21T20:56:09.349303Z",
     "iopub.status.busy": "2023-08-21T20:56:09.348783Z",
     "iopub.status.idle": "2023-08-21T20:56:11.146425Z",
     "shell.execute_reply": "2023-08-21T20:56:11.144709Z",
     "shell.execute_reply.started": "2023-08-21T20:56:09.349247Z"
    }
   },
   "outputs": [
    {
     "name": "stdout",
     "output_type": "stream",
     "text": [
      "-rw-rw-r-x  demo00     528  21 Aug 2023 13:56  objects.csv\n",
      "-rw-rw-r-x  demo00    2026  21 Aug 2023 13:56  objects.vot\n",
      "\n"
     ]
    }
   ],
   "source": [
    "query = 'select top 15 id,raj2000,dej2000 from usno.a2'\n",
    "qc.query(adql=query, fmt='votable', out='vos://objects.vot') # FIXME - query save to existing file fails\n",
    "print(sc.ls ('objects.*', format='long', verbose=True))"
   ]
  },
  {
   "cell_type": "markdown",
   "metadata": {},
   "source": [
    "<a class=\"anchor\" id=\"import\"></a>\n",
    "### Import a Table Directly to MyDB\n",
    "The simplest way to import a table to your MyDB is with the *mydb_import()* method:\n",
    "\n",
    "        result = queryClient.mydb_import ([token], <table_name>, <data> [, schema=<schema_def>])\n",
    "where\n",
    "\n",
    "        token         login token (optional)\n",
    "        table_name    name of the MyDB table to create\n",
    "        data          filename of CSV data, a CSV string, or a Pandas DataFrame object\n",
    "        schema_def    [Optional, default=\"\"] The schema definition is stored in a text file or string. \n",
    "                      This is a CSV-formatted file that contains column name, (Postgres) data \n",
    "                      type, one row per column.\n",
    "        drop          [Optional, default=True] Drop any existing table before loading the new one."
   ]
  },
  {
   "cell_type": "markdown",
   "metadata": {},
   "source": [
    "#### Example 1: Import a (local) CSV file to a MyDB table called 'objects1'"
   ]
  },
  {
   "cell_type": "code",
   "execution_count": 8,
   "metadata": {
    "execution": {
     "iopub.execute_input": "2023-08-21T20:56:11.149027Z",
     "iopub.status.busy": "2023-08-21T20:56:11.148472Z",
     "iopub.status.idle": "2023-08-21T20:56:11.339920Z",
     "shell.execute_reply": "2023-08-21T20:56:11.338456Z",
     "shell.execute_reply.started": "2023-08-21T20:56:11.148969Z"
    }
   },
   "outputs": [
    {
     "name": "stdout",
     "output_type": "stream",
     "text": [
      "Local file result: OK\n"
     ]
    }
   ],
   "source": [
    "print ('Local file result: '   + qc.mydb_import ('objects1', 'objects.csv'))"
   ]
  },
  {
   "cell_type": "markdown",
   "metadata": {},
   "source": [
    "#### Example 2: Import a CSV file from your Virtual Storage to a MyDB table called 'objects2'"
   ]
  },
  {
   "cell_type": "code",
   "execution_count": 9,
   "metadata": {
    "execution": {
     "iopub.execute_input": "2023-08-21T20:56:11.347026Z",
     "iopub.status.busy": "2023-08-21T20:56:11.346324Z",
     "iopub.status.idle": "2023-08-21T20:56:12.536997Z",
     "shell.execute_reply": "2023-08-21T20:56:12.534983Z",
     "shell.execute_reply.started": "2023-08-21T20:56:11.346970Z"
    }
   },
   "outputs": [
    {
     "name": "stdout",
     "output_type": "stream",
     "text": [
      "15 row(s) imported to mydb_1018.\"objects2\"\n",
      "\n",
      "VOS file result: OK\n"
     ]
    }
   ],
   "source": [
    "print ('VOS file result: '   + qc.mydb_import ('objects2', 'vos://objects.csv', verbose=True))"
   ]
  },
  {
   "cell_type": "markdown",
   "metadata": {},
   "source": [
    "#### Example 3:  Import directly from a string containing CSV (or other delimited) data"
   ]
  },
  {
   "cell_type": "code",
   "execution_count": 10,
   "metadata": {
    "execution": {
     "iopub.execute_input": "2023-08-21T20:56:12.541120Z",
     "iopub.status.busy": "2023-08-21T20:56:12.540623Z",
     "iopub.status.idle": "2023-08-21T20:56:12.720485Z",
     "shell.execute_reply": "2023-08-21T20:56:12.718903Z",
     "shell.execute_reply.started": "2023-08-21T20:56:12.541068Z"
    }
   },
   "outputs": [
    {
     "name": "stdout",
     "output_type": "stream",
     "text": [
      "String (CSV) result: OK\n"
     ]
    }
   ],
   "source": [
    "print ('String (CSV) result: ' + qc.mydb_import ('objects3', data))\n",
    "#print ('String (TSV) result: ' + qc.mydb_import ('objects3', data, delimiter='\\t'))\n",
    "#print ('String (ASV) result: ' + qc.mydb_import ('objects3', data, delimiter=' '))\n",
    "#print ('String (BSV) result: ' + qc.mydb_import ('objects3', data, delimiter='|'))"
   ]
  },
  {
   "cell_type": "markdown",
   "metadata": {},
   "source": [
    "#### Example 4: Import a Pandas DataFrame directly to a MyDB table"
   ]
  },
  {
   "cell_type": "code",
   "execution_count": 11,
   "metadata": {
    "execution": {
     "iopub.execute_input": "2023-08-21T20:56:12.723058Z",
     "iopub.status.busy": "2023-08-21T20:56:12.722524Z",
     "iopub.status.idle": "2023-08-21T20:56:12.934119Z",
     "shell.execute_reply": "2023-08-21T20:56:12.932752Z",
     "shell.execute_reply.started": "2023-08-21T20:56:12.723004Z"
    }
   },
   "outputs": [
    {
     "name": "stdout",
     "output_type": "stream",
     "text": [
      "Pandas result: OK\n"
     ]
    }
   ],
   "source": [
    "print ('Pandas result: ' + qc.mydb_import ('objects4', df))"
   ]
  },
  {
   "cell_type": "markdown",
   "metadata": {},
   "source": [
    "#### Example 5:  Import CSV data, then append to the table"
   ]
  },
  {
   "cell_type": "code",
   "execution_count": 12,
   "metadata": {
    "execution": {
     "iopub.execute_input": "2023-08-21T20:56:12.936371Z",
     "iopub.status.busy": "2023-08-21T20:56:12.935919Z",
     "iopub.status.idle": "2023-08-21T20:56:13.882685Z",
     "shell.execute_reply": "2023-08-21T20:56:13.881299Z",
     "shell.execute_reply.started": "2023-08-21T20:56:12.936324Z"
    }
   },
   "outputs": [
    {
     "name": "stdout",
     "output_type": "stream",
     "text": [
      "15 row(s) imported to mydb_1018.\"objects5\"\n",
      "\n",
      "Num rows in objects5: count\n",
      "15\n",
      "\n",
      "15 row(s) imported to mydb_1018.\"objects5\"\n",
      "\n",
      "Num rows in objects5: count\n",
      "15\n",
      "\n"
     ]
    }
   ],
   "source": [
    "res = qc.mydb_import ('objects5', data, verbose=True)             # Drop existing table by default\n",
    "print ('Num rows in objects5: ' + qc.query('select count(*) from mydb://objects5',fmt='csv'))\n",
    "\n",
    "res = qc.mydb_import ('objects5', data, verbose=True, drop=False) # Disable 'drop' to append\n",
    "print ('Num rows in objects5: ' + qc.query('select count(*) from mydb://objects5',fmt='csv'))"
   ]
  },
  {
   "cell_type": "markdown",
   "metadata": {},
   "source": [
    "#### Example 6:  Import a VOTable stored in Virtual Storage"
   ]
  },
  {
   "cell_type": "code",
   "execution_count": 13,
   "metadata": {
    "execution": {
     "iopub.execute_input": "2023-08-21T20:56:13.885408Z",
     "iopub.status.busy": "2023-08-21T20:56:13.884926Z",
     "iopub.status.idle": "2023-08-21T20:56:18.495818Z",
     "shell.execute_reply": "2023-08-21T20:56:18.493730Z",
     "shell.execute_reply.started": "2023-08-21T20:56:13.885357Z"
    }
   },
   "outputs": [
    {
     "name": "stdout",
     "output_type": "stream",
     "text": [
      "(1 / 1) ps1.vot -> vos://ps1.vot\n",
      "http://gsss.stsci.edu/webservices/vo/ConeSearch.aspx?CAT=PS1V3OBJECTS&RA=0.0&DEC=0.0&SR=0.05\n"
     ]
    }
   ],
   "source": [
    "# Generate a VOTable by calling the PanSTARRS Cone Search service.\n",
    "ps1_base_url = 'http://gsss.stsci.edu/webservices/vo/ConeSearch.aspx?CAT=PS1V3OBJECTS&'\n",
    "ps1_url = ps1_base_url + ('RA={0}&DEC={1}&SR={2}'.format(0.0,0.0,0.05))\n",
    "os.system ('wget -q -O ps1.vot \"' + ps1_url + '\"')\n",
    "\n",
    "# Put a copy in virtual storage.\n",
    "sc.put('ps1.vot',to='vos://ps1.vot')\n",
    "\n",
    "print (ps1_url)"
   ]
  },
  {
   "cell_type": "markdown",
   "metadata": {},
   "source": [
    "Now load the MyDB table directly from the VOTable on local disk, in VOSpace, and directly from the URL:"
   ]
  },
  {
   "cell_type": "code",
   "execution_count": 14,
   "metadata": {
    "execution": {
     "iopub.execute_input": "2023-08-21T20:56:18.499876Z",
     "iopub.status.busy": "2023-08-21T20:56:18.499056Z",
     "iopub.status.idle": "2023-08-21T20:56:19.299230Z",
     "shell.execute_reply": "2023-08-21T20:56:19.297525Z",
     "shell.execute_reply.started": "2023-08-21T20:56:18.499781Z"
    }
   },
   "outputs": [
    {
     "name": "stdout",
     "output_type": "stream",
     "text": [
      "253 row(s) imported to mydb_1018.\"objects6a\"\n",
      "\n",
      "import res: OK\n",
      "Num rows in objects6a: count\n",
      "253\n",
      "\n"
     ]
    }
   ],
   "source": [
    "res = qc.mydb_import ('objects6a', 'ps1.vot', verbose=True)             # Load from local VOTable\n",
    "print ('import res: ' + res)\n",
    "print ('Num rows in objects6a: ' + qc.query('select count(*) from mydb://objects6a',fmt='csv'))"
   ]
  },
  {
   "cell_type": "code",
   "execution_count": 15,
   "metadata": {
    "execution": {
     "iopub.execute_input": "2023-08-21T20:56:19.302332Z",
     "iopub.status.busy": "2023-08-21T20:56:19.301796Z",
     "iopub.status.idle": "2023-08-21T20:56:21.048438Z",
     "shell.execute_reply": "2023-08-21T20:56:21.046819Z",
     "shell.execute_reply.started": "2023-08-21T20:56:19.302277Z"
    }
   },
   "outputs": [
    {
     "name": "stdout",
     "output_type": "stream",
     "text": [
      "253 row(s) imported to mydb_1018.\"objects6b\"\n",
      "\n",
      "Num rows in objects6b: count\n",
      "253\n",
      "\n"
     ]
    }
   ],
   "source": [
    "res = qc.mydb_import ('objects6b', 'vos://ps1.vot', verbose=True)       # Load from virtual storage VOTable\n",
    "print ('Num rows in objects6b: ' + qc.query('select count(*) from mydb://objects6b',fmt='csv'))"
   ]
  },
  {
   "cell_type": "code",
   "execution_count": 16,
   "metadata": {
    "execution": {
     "iopub.execute_input": "2023-08-21T20:56:21.050906Z",
     "iopub.status.busy": "2023-08-21T20:56:21.050391Z",
     "iopub.status.idle": "2023-08-21T20:56:22.817719Z",
     "shell.execute_reply": "2023-08-21T20:56:22.815946Z",
     "shell.execute_reply.started": "2023-08-21T20:56:21.050853Z"
    }
   },
   "outputs": [
    {
     "name": "stdout",
     "output_type": "stream",
     "text": [
      "253 row(s) imported to mydb_1018.\"objects6c\"\n",
      "\n",
      "Num rows in objects6c: count\n",
      "253\n",
      "\n"
     ]
    }
   ],
   "source": [
    "res = qc.mydb_import ('objects6c', ps1_url, verbose=True)               # Load from service URL directly\n",
    "print ('Num rows in objects6c: ' + qc.query('select count(*) from mydb://objects6c',fmt='csv'))"
   ]
  },
  {
   "cell_type": "markdown",
   "metadata": {},
   "source": [
    "Note that for each of the tables created, the column names and data types were determined automatically.  We can check whether these are correct by listing the columns using *mydb_list()*."
   ]
  },
  {
   "cell_type": "code",
   "execution_count": 17,
   "metadata": {
    "execution": {
     "iopub.execute_input": "2023-08-21T20:56:22.820331Z",
     "iopub.status.busy": "2023-08-21T20:56:22.819820Z",
     "iopub.status.idle": "2023-08-21T20:56:22.972892Z",
     "shell.execute_reply": "2023-08-21T20:56:22.971285Z",
     "shell.execute_reply.started": "2023-08-21T20:56:22.820279Z"
    }
   },
   "outputs": [
    {
     "name": "stdout",
     "output_type": "stream",
     "text": [
      "id\n",
      "ra\n",
      "dec\n",
      "\n",
      "objname\n",
      "objid\n",
      "ndetections\n",
      "nstackdetections\n",
      "ng\n",
      "nr\n",
      "ni\n",
      "nz\n",
      "ny\n",
      "objinfoflag\n",
      "qualityflag\n",
      "ramean\n",
      "decmean\n",
      "rameanerr\n",
      "decmeanerr\n",
      "gflags\n",
      "rflags\n",
      "iflags\n",
      "zflags\n",
      "yflags\n",
      "gqfperfect\n",
      "rqfperfect\n",
      "iqfperfect\n",
      "zqfperfect\n",
      "yqfperfect\n",
      "gmeanpsfmag\n",
      "gmeanpsfmagerr\n",
      "gmeanpsfmagnpt\n",
      "gmeanpsfmagmin\n",
      "gmeanpsfmagmax\n",
      "gmeanpsfmagstd\n",
      "rmeanpsfmag\n",
      "rmeanpsfmagerr\n",
      "rmeanpsfmagnpt\n",
      "rmeanpsfmagmin\n",
      "rmeanpsfmagmax\n",
      "rmeanpsfmagstd\n",
      "imeanpsfmag\n",
      "imeanpsfmagerr\n",
      "imeanpsfmagnpt\n",
      "imeanpsfmagmin\n",
      "imeanpsfmagmax\n",
      "imeanpsfmagstd\n",
      "zmeanpsfmag\n",
      "zmeanpsfmagerr\n",
      "zmeanpsfmagnpt\n",
      "zmeanpsfmagmin\n",
      "zmeanpsfmagmax\n",
      "zmeanpsfmagstd\n",
      "ymeanpsfmag\n",
      "ymeanpsfmagerr\n",
      "ymeanpsfmagnpt\n",
      "ymeanpsfmagmin\n",
      "ymeanpsfmagmax\n",
      "ymeanpsfmagstd\n",
      "gmeanapmag\n",
      "gmeanapmagerr\n",
      "gmeanapmagnpt\n",
      "gmeanapmagstd\n",
      "rmeanapmag\n",
      "rmeanapmagerr\n",
      "rmeanapmagnpt\n",
      "rmeanapmagstd\n",
      "imeanapmag\n",
      "imeanapmagerr\n",
      "imeanapmagnpt\n",
      "imeanapmagstd\n",
      "zmeanapmag\n",
      "zmeanapmagerr\n",
      "zmeanapmagnpt\n",
      "zmeanapmagstd\n",
      "ymeanapmag\n",
      "ymeanapmagerr\n",
      "ymeanapmagnpt\n",
      "ymeanapmagstd\n",
      "gmeankronmag\n",
      "gmeankronmagerr\n",
      "gmeankronmagnpt\n",
      "gmeankronmagstd\n",
      "rmeankronmag\n",
      "rmeankronmagerr\n",
      "rmeankronmagnpt\n",
      "rmeankronmagstd\n",
      "imeankronmag\n",
      "imeankronmagerr\n",
      "imeankronmagnpt\n",
      "imeankronmagstd\n",
      "zmeankronmag\n",
      "zmeankronmagerr\n",
      "zmeankronmagnpt\n",
      "zmeankronmagstd\n",
      "ymeankronmag\n",
      "ymeankronmagerr\n",
      "ymeankronmagnpt\n",
      "ymeankronmagstd\n",
      "mag\n",
      "ra\n",
      "dec\n",
      "htmid\n",
      "distance\n",
      "\n"
     ]
    }
   ],
   "source": [
    "print (qc.mydb_list('objects4'))              # Use of the 'mydb://' prefix is optional\n",
    "print (qc.mydb_list('mydb://objects6a'))"
   ]
  },
  {
   "cell_type": "markdown",
   "metadata": {},
   "source": [
    "***\n",
    "## Piecewise Loading of MyDB Tables\n",
    "\n",
    "Importing data to MyDB requires two basic steps:  1) Creating the table in the database, and 2) loading the data.  The *mydb_import()* method combines these steps as a convenience but provides additional functionality to automatically convert data formats and derive the table schema.  If you should need to override these steps for some reason, each step can be done individually.\n",
    "\n",
    "### Create the MyDB table\n",
    "Creating an empty MyDB table is done with the *mydb_create()* method:\n",
    "\n",
    "    result = queryClient.mydb_create ([token], <table_name>, <schema_def>)\n",
    "where\n",
    "\n",
    "    token         login token (optional)\n",
    "    table_name    name of the MyDB table to create\n",
    "    schema_def    filename containing a schema definition, or a string containing the schema definition\n",
    "    drop          [Optional, default=True] Drop any existing table before loading the new one.\n",
    "    \n",
    "The *mydb_create()* step needs a table name (needs to not duplicate an existing myDB table) and a schema definition.  The schema definition is stored in a text file, in this case in the user notebook directory. The schema definition file is a CSV-formatted file that contains column name and (Postgres) data type, one row per column. The token here is optional."
   ]
  },
  {
   "cell_type": "code",
   "execution_count": 18,
   "metadata": {
    "execution": {
     "iopub.execute_input": "2023-08-21T20:56:22.975356Z",
     "iopub.status.busy": "2023-08-21T20:56:22.974843Z",
     "iopub.status.idle": "2023-08-21T20:56:22.982271Z",
     "shell.execute_reply": "2023-08-21T20:56:22.980978Z",
     "shell.execute_reply.started": "2023-08-21T20:56:22.975302Z"
    }
   },
   "outputs": [],
   "source": [
    "# Create a simple (id,ra,dec) schema of a text string and two double values\n",
    "schema_str = 'id,text\\nra,double precision\\ndec,double precision\\n'\n",
    "with open ('schema.txt','w') as fd:\n",
    "    fd.write (schema_str)"
   ]
  },
  {
   "cell_type": "code",
   "execution_count": 19,
   "metadata": {
    "execution": {
     "iopub.execute_input": "2023-08-21T20:56:22.984552Z",
     "iopub.status.busy": "2023-08-21T20:56:22.984082Z",
     "iopub.status.idle": "2023-08-21T20:56:23.080968Z",
     "shell.execute_reply": "2023-08-21T20:56:23.079353Z",
     "shell.execute_reply.started": "2023-08-21T20:56:22.984503Z"
    }
   },
   "outputs": [
    {
     "name": "stdout",
     "output_type": "stream",
     "text": [
      "Creating table 'test'...  OK\n"
     ]
    }
   ],
   "source": [
    "# Example 1:  Create a table from a schema definition file, drop existing table\n",
    "print(\"Creating table 'test'... \",qc.mydb_create('test1','schema.txt',drop=True))"
   ]
  },
  {
   "cell_type": "code",
   "execution_count": 20,
   "metadata": {
    "execution": {
     "iopub.execute_input": "2023-08-21T20:56:23.083391Z",
     "iopub.status.busy": "2023-08-21T20:56:23.082872Z",
     "iopub.status.idle": "2023-08-21T20:56:23.179963Z",
     "shell.execute_reply": "2023-08-21T20:56:23.178346Z",
     "shell.execute_reply.started": "2023-08-21T20:56:23.083337Z"
    }
   },
   "outputs": [
    {
     "name": "stdout",
     "output_type": "stream",
     "text": [
      "Creating table 'test'...  OK\n"
     ]
    }
   ],
   "source": [
    "# Example 2:  Create a table from a schema definition str\n",
    "print(\"Creating table 'test'... \",qc.mydb_create('test2', schema_str, drop=True))"
   ]
  },
  {
   "cell_type": "code",
   "execution_count": 21,
   "metadata": {
    "execution": {
     "iopub.execute_input": "2023-08-21T20:56:23.182229Z",
     "iopub.status.busy": "2023-08-21T20:56:23.181743Z",
     "iopub.status.idle": "2023-08-21T20:56:23.334366Z",
     "shell.execute_reply": "2023-08-21T20:56:23.332753Z",
     "shell.execute_reply.started": "2023-08-21T20:56:23.182179Z"
    }
   },
   "outputs": [
    {
     "name": "stdout",
     "output_type": "stream",
     "text": [
      "table1 structure:\n",
      "id\n",
      "ra\n",
      "dec\n",
      "\n",
      "table2 structure:\n",
      "id\n",
      "ra\n",
      "dec\n",
      "\n"
     ]
    }
   ],
   "source": [
    "print(\"table1 structure:\\n\" + qc.mydb_list('test1'))\n",
    "print(\"table2 structure:\\n\" + qc.mydb_list('test2'))"
   ]
  },
  {
   "cell_type": "markdown",
   "metadata": {},
   "source": [
    "### Insert data \n",
    "Loading a MyDB table with data is done with the *mydb_insert()* method:\n",
    "\n",
    "    result = queryClient.mydb_insert ([token], <table_name>, <data>)\n",
    "where\n",
    "\n",
    "    token         login token (optional)\n",
    "    table_name    name of the MyDB table to load\n",
    "    data          filename of CSV data or a CSV string\n",
    "    csv_header    [Optional, default=True] CSV data contains a header row of column names\n",
    "    \n",
    "Insert the data from a file/string in user's notebook space to the newly created table in myDB. "
   ]
  },
  {
   "cell_type": "code",
   "execution_count": 22,
   "metadata": {
    "execution": {
     "iopub.execute_input": "2023-08-21T20:56:23.336643Z",
     "iopub.status.busy": "2023-08-21T20:56:23.336135Z",
     "iopub.status.idle": "2023-08-21T20:56:23.635958Z",
     "shell.execute_reply": "2023-08-21T20:56:23.634258Z",
     "shell.execute_reply.started": "2023-08-21T20:56:23.336578Z"
    }
   },
   "outputs": [
    {
     "name": "stdout",
     "output_type": "stream",
     "text": [
      "Loading from file:   OK\n",
      "Loading from string: OK\n"
     ]
    }
   ],
   "source": [
    "# Example 1:  Load from a CSV file\n",
    "print('Loading from file:   ' + qc.mydb_insert('test1', 'objects.csv'))\n",
    "\n",
    "# Example 2: Load from a CSV string\n",
    "print('Loading from string: ' + qc.mydb_insert('test2', data))"
   ]
  },
  {
   "cell_type": "markdown",
   "metadata": {},
   "source": [
    "### Retrieve data from myDB table to verify\n",
    "You can use queryClient to query tables in mydb, exactly as you would for Data Lab database tables."
   ]
  },
  {
   "cell_type": "code",
   "execution_count": 23,
   "metadata": {
    "execution": {
     "iopub.execute_input": "2023-08-21T20:56:23.638403Z",
     "iopub.status.busy": "2023-08-21T20:56:23.637882Z",
     "iopub.status.idle": "2023-08-21T20:56:23.839399Z",
     "shell.execute_reply": "2023-08-21T20:56:23.837765Z",
     "shell.execute_reply.started": "2023-08-21T20:56:23.638348Z"
    }
   },
   "outputs": [
    {
     "name": "stdout",
     "output_type": "stream",
     "text": [
      "Running query: 'select * from mydb://test1'\n"
     ]
    },
    {
     "data": {
      "text/html": [
       "<div>\n",
       "<style scoped>\n",
       "    .dataframe tbody tr th:only-of-type {\n",
       "        vertical-align: middle;\n",
       "    }\n",
       "\n",
       "    .dataframe tbody tr th {\n",
       "        vertical-align: top;\n",
       "    }\n",
       "\n",
       "    .dataframe thead th {\n",
       "        text-align: right;\n",
       "    }\n",
       "</style>\n",
       "<table border=\"1\" class=\"dataframe\">\n",
       "  <thead>\n",
       "    <tr style=\"text-align: right;\">\n",
       "      <th></th>\n",
       "      <th>id</th>\n",
       "      <th>ra</th>\n",
       "      <th>dec</th>\n",
       "    </tr>\n",
       "  </thead>\n",
       "  <tbody>\n",
       "    <tr>\n",
       "      <th>0</th>\n",
       "      <td>1200-16738677</td>\n",
       "      <td>314.998300</td>\n",
       "      <td>35.267575</td>\n",
       "    </tr>\n",
       "    <tr>\n",
       "      <th>1</th>\n",
       "      <td>1200-16737889</td>\n",
       "      <td>314.994803</td>\n",
       "      <td>35.267942</td>\n",
       "    </tr>\n",
       "    <tr>\n",
       "      <th>2</th>\n",
       "      <td>1200-16740156</td>\n",
       "      <td>315.005123</td>\n",
       "      <td>35.270559</td>\n",
       "    </tr>\n",
       "    <tr>\n",
       "      <th>3</th>\n",
       "      <td>1200-16737180</td>\n",
       "      <td>314.991714</td>\n",
       "      <td>35.269028</td>\n",
       "    </tr>\n",
       "    <tr>\n",
       "      <th>4</th>\n",
       "      <td>1200-16736554</td>\n",
       "      <td>314.988739</td>\n",
       "      <td>35.270420</td>\n",
       "    </tr>\n",
       "    <tr>\n",
       "      <th>5</th>\n",
       "      <td>1200-16737350</td>\n",
       "      <td>314.992450</td>\n",
       "      <td>35.271870</td>\n",
       "    </tr>\n",
       "    <tr>\n",
       "      <th>6</th>\n",
       "      <td>1200-16739707</td>\n",
       "      <td>315.003048</td>\n",
       "      <td>35.273520</td>\n",
       "    </tr>\n",
       "    <tr>\n",
       "      <th>7</th>\n",
       "      <td>1200-16742178</td>\n",
       "      <td>315.014253</td>\n",
       "      <td>35.272075</td>\n",
       "    </tr>\n",
       "    <tr>\n",
       "      <th>8</th>\n",
       "      <td>1200-16742894</td>\n",
       "      <td>315.017528</td>\n",
       "      <td>35.274592</td>\n",
       "    </tr>\n",
       "    <tr>\n",
       "      <th>9</th>\n",
       "      <td>1200-16743776</td>\n",
       "      <td>315.021645</td>\n",
       "      <td>35.275409</td>\n",
       "    </tr>\n",
       "    <tr>\n",
       "      <th>10</th>\n",
       "      <td>1200-16743453</td>\n",
       "      <td>315.020131</td>\n",
       "      <td>35.276256</td>\n",
       "    </tr>\n",
       "    <tr>\n",
       "      <th>11</th>\n",
       "      <td>1200-16740549</td>\n",
       "      <td>315.006939</td>\n",
       "      <td>35.274864</td>\n",
       "    </tr>\n",
       "    <tr>\n",
       "      <th>12</th>\n",
       "      <td>1200-16740499</td>\n",
       "      <td>315.006750</td>\n",
       "      <td>35.279698</td>\n",
       "    </tr>\n",
       "    <tr>\n",
       "      <th>13</th>\n",
       "      <td>1200-16742673</td>\n",
       "      <td>315.016534</td>\n",
       "      <td>35.280123</td>\n",
       "    </tr>\n",
       "    <tr>\n",
       "      <th>14</th>\n",
       "      <td>1200-16735740</td>\n",
       "      <td>314.985175</td>\n",
       "      <td>35.276403</td>\n",
       "    </tr>\n",
       "  </tbody>\n",
       "</table>\n",
       "</div>"
      ],
      "text/plain": [
       "               id          ra        dec\n",
       "0   1200-16738677  314.998300  35.267575\n",
       "1   1200-16737889  314.994803  35.267942\n",
       "2   1200-16740156  315.005123  35.270559\n",
       "3   1200-16737180  314.991714  35.269028\n",
       "4   1200-16736554  314.988739  35.270420\n",
       "5   1200-16737350  314.992450  35.271870\n",
       "6   1200-16739707  315.003048  35.273520\n",
       "7   1200-16742178  315.014253  35.272075\n",
       "8   1200-16742894  315.017528  35.274592\n",
       "9   1200-16743776  315.021645  35.275409\n",
       "10  1200-16743453  315.020131  35.276256\n",
       "11  1200-16740549  315.006939  35.274864\n",
       "12  1200-16740499  315.006750  35.279698\n",
       "13  1200-16742673  315.016534  35.280123\n",
       "14  1200-16735740  314.985175  35.276403"
      ]
     },
     "execution_count": 23,
     "metadata": {},
     "output_type": "execute_result"
    }
   ],
   "source": [
    "print(\"Running query: 'select * from mydb://test1'\")\n",
    "df1=convert(qc.query(sql=\"select * from mydb://test1\"))\n",
    "df1"
   ]
  },
  {
   "cell_type": "markdown",
   "metadata": {},
   "source": [
    "<a class=\"anchor\" id=\"crossmatch\"></a>\n",
    "# Run the crossmatch\n",
    "We now construct a query to run the crossmatch in the database using *q3c_join()*, which identifies all matching objects within a specified radius. (See https://github.com/segasai/q3c for details on using Q3C functions.)  The format is \n",
    "\n",
    "        q3c_join (ra_user, dec_user, ra_DLtable, dec_DLtable, radius) \n",
    "where it's important that the small user catalog appear FIRST in the query, and the large table from Data Lab database SECOND. The radius is specified in DEGREES.  The user table is referred to using a *mydb://* prefix on the table name. In this example, we parse the result into a Pandas dataframe with the DL helpers module *convert()*.  In the query, we retrieve just the user ID and the object designation from Gaia DR3 along with the separating distance by using the *q3c_dist()* function (and convert the return value in degrees to arcsec).\n",
    "\n",
    "If you find your q3c_join query runs a long time, check:\n",
    "* That the ra, dec of the SMALL catalog appears FIRST in the query\n",
    "* That the radius is in DEGREES, not e.g. arcseconds\n",
    "\n",
    "(Note that in this notebook, we use a radius of 0.01 degrees or ~36 arcseconds.  It's usually best to start with a smaller radius, especially if you expect a lot of matches.)"
   ]
  },
  {
   "cell_type": "code",
   "execution_count": 24,
   "metadata": {
    "execution": {
     "iopub.execute_input": "2023-08-21T20:56:23.841672Z",
     "iopub.status.busy": "2023-08-21T20:56:23.841227Z",
     "iopub.status.idle": "2023-08-21T20:56:24.055432Z",
     "shell.execute_reply": "2023-08-21T20:56:24.053811Z",
     "shell.execute_reply.started": "2023-08-21T20:56:23.841626Z"
    }
   },
   "outputs": [],
   "source": [
    "# xmatch query of mydb://objects6a (our small PS1 table) against gaia_dr3.gaia_source within 0.01 degrees, return all matches\n",
    "sql = '''SELECT  o.objid, g.designation,\n",
    "                (q3c_dist(o.ramean,o.decmean,g.ra,g.dec)*3600.0) as dist_arcsec\n",
    "         FROM mydb://objects6a AS o, \n",
    "              gaia_dr3.gaia_source AS g \n",
    "         WHERE q3c_join(o.ramean, o.decmean, g.ra, g.dec, 0.01)'''\n",
    "df2 = convert(qc.query(sql=sql))"
   ]
  },
  {
   "cell_type": "code",
   "execution_count": 25,
   "metadata": {
    "execution": {
     "iopub.execute_input": "2023-08-21T20:56:24.057803Z",
     "iopub.status.busy": "2023-08-21T20:56:24.057292Z",
     "iopub.status.idle": "2023-08-21T20:56:24.074883Z",
     "shell.execute_reply": "2023-08-21T20:56:24.073475Z",
     "shell.execute_reply.started": "2023-08-21T20:56:24.057751Z"
    }
   },
   "outputs": [
    {
     "name": "stdout",
     "output_type": "stream",
     "text": [
      "nrows x ncols: (210, 3)\n"
     ]
    },
    {
     "data": {
      "text/html": [
       "<div>\n",
       "<style scoped>\n",
       "    .dataframe tbody tr th:only-of-type {\n",
       "        vertical-align: middle;\n",
       "    }\n",
       "\n",
       "    .dataframe tbody tr th {\n",
       "        vertical-align: top;\n",
       "    }\n",
       "\n",
       "    .dataframe thead th {\n",
       "        text-align: right;\n",
       "    }\n",
       "</style>\n",
       "<table border=\"1\" class=\"dataframe\">\n",
       "  <thead>\n",
       "    <tr style=\"text-align: right;\">\n",
       "      <th></th>\n",
       "      <th>objid</th>\n",
       "      <th>designation</th>\n",
       "      <th>dist_arcsec</th>\n",
       "    </tr>\n",
       "  </thead>\n",
       "  <tbody>\n",
       "    <tr>\n",
       "      <th>0</th>\n",
       "      <td>108000000004132800</td>\n",
       "      <td>Gaia DR3 2546034966433885568</td>\n",
       "      <td>33.644098</td>\n",
       "    </tr>\n",
       "    <tr>\n",
       "      <th>1</th>\n",
       "      <td>107990000018985382</td>\n",
       "      <td>Gaia DR3 2546034966433885568</td>\n",
       "      <td>29.641774</td>\n",
       "    </tr>\n",
       "    <tr>\n",
       "      <th>2</th>\n",
       "      <td>107990000054816431</td>\n",
       "      <td>Gaia DR3 2546034966433885568</td>\n",
       "      <td>16.739560</td>\n",
       "    </tr>\n",
       "    <tr>\n",
       "      <th>3</th>\n",
       "      <td>107990000094369406</td>\n",
       "      <td>Gaia DR3 2546034966433885568</td>\n",
       "      <td>0.024728</td>\n",
       "    </tr>\n",
       "    <tr>\n",
       "      <th>4</th>\n",
       "      <td>108013599948120838</td>\n",
       "      <td>Gaia DR3 2738188646457069696</td>\n",
       "      <td>22.856130</td>\n",
       "    </tr>\n",
       "    <tr>\n",
       "      <th>5</th>\n",
       "      <td>108000000093455743</td>\n",
       "      <td>Gaia DR3 2546034966433885568</td>\n",
       "      <td>19.168215</td>\n",
       "    </tr>\n",
       "    <tr>\n",
       "      <th>6</th>\n",
       "      <td>108000000105384460</td>\n",
       "      <td>Gaia DR3 2546034966433885568</td>\n",
       "      <td>15.916200</td>\n",
       "    </tr>\n",
       "    <tr>\n",
       "      <th>7</th>\n",
       "      <td>108003599898938079</td>\n",
       "      <td>Gaia DR3 2642111838657303808</td>\n",
       "      <td>35.941535</td>\n",
       "    </tr>\n",
       "    <tr>\n",
       "      <th>8</th>\n",
       "      <td>108003599898938079</td>\n",
       "      <td>Gaia DR3 2738188646457069696</td>\n",
       "      <td>21.190770</td>\n",
       "    </tr>\n",
       "    <tr>\n",
       "      <th>9</th>\n",
       "      <td>108003599869045137</td>\n",
       "      <td>Gaia DR3 2642111735577925376</td>\n",
       "      <td>34.998654</td>\n",
       "    </tr>\n",
       "  </tbody>\n",
       "</table>\n",
       "</div>"
      ],
      "text/plain": [
       "                objid                   designation  dist_arcsec\n",
       "0  108000000004132800  Gaia DR3 2546034966433885568    33.644098\n",
       "1  107990000018985382  Gaia DR3 2546034966433885568    29.641774\n",
       "2  107990000054816431  Gaia DR3 2546034966433885568    16.739560\n",
       "3  107990000094369406  Gaia DR3 2546034966433885568     0.024728\n",
       "4  108013599948120838  Gaia DR3 2738188646457069696    22.856130\n",
       "5  108000000093455743  Gaia DR3 2546034966433885568    19.168215\n",
       "6  108000000105384460  Gaia DR3 2546034966433885568    15.916200\n",
       "7  108003599898938079  Gaia DR3 2642111838657303808    35.941535\n",
       "8  108003599898938079  Gaia DR3 2738188646457069696    21.190770\n",
       "9  108003599869045137  Gaia DR3 2642111735577925376    34.998654"
      ]
     },
     "execution_count": 25,
     "metadata": {},
     "output_type": "execute_result"
    }
   ],
   "source": [
    "print ('nrows x ncols: ' + str(df2.shape))\n",
    "df2[0:10] # first 10 rows, note multiple matches"
   ]
  },
  {
   "cell_type": "markdown",
   "metadata": {},
   "source": [
    "Note again that this query returns *__all__* matches within the radius for each object in list.  The crossmatch query can be written to other result tables such as only the nearest neighbor, only those objects in the user table that have matches, non-matches (i.e. objects with no match the find catalog dropouts), or it can be used to pre-filter either table (e.g. only match 'red' objects with a stellar profile).  The Q3C documentation (see https://github.com/segasai/q3c) contains additional example queries you can try."
   ]
  },
  {
   "cell_type": "markdown",
   "metadata": {},
   "source": [
    "__Want to do just a nearest neighbor search?__  This example adapted from the Q3C documentation picks just the nearest neighbor, returning null if none are found:"
   ]
  },
  {
   "cell_type": "code",
   "execution_count": 26,
   "metadata": {
    "execution": {
     "iopub.execute_input": "2023-08-21T20:56:24.077028Z",
     "iopub.status.busy": "2023-08-21T20:56:24.076560Z",
     "iopub.status.idle": "2023-08-21T20:56:24.294119Z",
     "shell.execute_reply": "2023-08-21T20:56:24.292540Z",
     "shell.execute_reply.started": "2023-08-21T20:56:24.076983Z"
    }
   },
   "outputs": [],
   "source": [
    "sql = '''SELECT  o.objid, gg.designation, (q3c_dist(o.ramean,o.decmean,gg.ra,gg.dec)*3600.0) as dist_arcsec \n",
    "         FROM mydb://objects6a AS o\n",
    "         LEFT JOIN LATERAL (\n",
    "               SELECT g.* \n",
    "                    FROM \n",
    "                        gaia_dr3.gaia_source AS g\n",
    "                    WHERE\n",
    "                        q3c_join(o.ramean, o.decmean, g.ra, g.dec, 0.01)\n",
    "                    ORDER BY\n",
    "                        q3c_dist(o.ramean,o.decmean,g.ra,g.dec)\n",
    "                    ASC LIMIT 1\n",
    "               ) as gg ON true'''\n",
    "\n",
    "df3 = convert(qc.query(sql=sql))"
   ]
  },
  {
   "cell_type": "code",
   "execution_count": 27,
   "metadata": {
    "execution": {
     "iopub.execute_input": "2023-08-21T20:56:24.301368Z",
     "iopub.status.busy": "2023-08-21T20:56:24.300883Z",
     "iopub.status.idle": "2023-08-21T20:56:24.317589Z",
     "shell.execute_reply": "2023-08-21T20:56:24.316288Z",
     "shell.execute_reply.started": "2023-08-21T20:56:24.301318Z"
    }
   },
   "outputs": [
    {
     "name": "stdout",
     "output_type": "stream",
     "text": [
      "nrows x ncols: (253, 3)\n"
     ]
    },
    {
     "data": {
      "text/html": [
       "<div>\n",
       "<style scoped>\n",
       "    .dataframe tbody tr th:only-of-type {\n",
       "        vertical-align: middle;\n",
       "    }\n",
       "\n",
       "    .dataframe tbody tr th {\n",
       "        vertical-align: top;\n",
       "    }\n",
       "\n",
       "    .dataframe thead th {\n",
       "        text-align: right;\n",
       "    }\n",
       "</style>\n",
       "<table border=\"1\" class=\"dataframe\">\n",
       "  <thead>\n",
       "    <tr style=\"text-align: right;\">\n",
       "      <th></th>\n",
       "      <th>objid</th>\n",
       "      <th>designation</th>\n",
       "      <th>dist_arcsec</th>\n",
       "    </tr>\n",
       "  </thead>\n",
       "  <tbody>\n",
       "    <tr>\n",
       "      <th>0</th>\n",
       "      <td>108000000004132800</td>\n",
       "      <td>Gaia DR3 2546034966433885568</td>\n",
       "      <td>33.644098</td>\n",
       "    </tr>\n",
       "    <tr>\n",
       "      <th>1</th>\n",
       "      <td>108003599979874881</td>\n",
       "      <td>NaN</td>\n",
       "      <td>NaN</td>\n",
       "    </tr>\n",
       "    <tr>\n",
       "      <th>2</th>\n",
       "      <td>107990000018985382</td>\n",
       "      <td>Gaia DR3 2546034966433885568</td>\n",
       "      <td>29.641774</td>\n",
       "    </tr>\n",
       "    <tr>\n",
       "      <th>3</th>\n",
       "      <td>107990000054816431</td>\n",
       "      <td>Gaia DR3 2546034966433885568</td>\n",
       "      <td>16.739560</td>\n",
       "    </tr>\n",
       "    <tr>\n",
       "      <th>4</th>\n",
       "      <td>107990000094369406</td>\n",
       "      <td>Gaia DR3 2546034966433885568</td>\n",
       "      <td>0.024728</td>\n",
       "    </tr>\n",
       "    <tr>\n",
       "      <th>5</th>\n",
       "      <td>107983599973919166</td>\n",
       "      <td>NaN</td>\n",
       "      <td>NaN</td>\n",
       "    </tr>\n",
       "    <tr>\n",
       "      <th>6</th>\n",
       "      <td>108013599996822453</td>\n",
       "      <td>NaN</td>\n",
       "      <td>NaN</td>\n",
       "    </tr>\n",
       "    <tr>\n",
       "      <th>7</th>\n",
       "      <td>108013599948120838</td>\n",
       "      <td>Gaia DR3 2738188646457069696</td>\n",
       "      <td>22.856130</td>\n",
       "    </tr>\n",
       "    <tr>\n",
       "      <th>8</th>\n",
       "      <td>108000000093455743</td>\n",
       "      <td>Gaia DR3 2546034966433885568</td>\n",
       "      <td>19.168215</td>\n",
       "    </tr>\n",
       "    <tr>\n",
       "      <th>9</th>\n",
       "      <td>108000000105384460</td>\n",
       "      <td>Gaia DR3 2546034966433885568</td>\n",
       "      <td>15.916200</td>\n",
       "    </tr>\n",
       "  </tbody>\n",
       "</table>\n",
       "</div>"
      ],
      "text/plain": [
       "                objid                   designation  dist_arcsec\n",
       "0  108000000004132800  Gaia DR3 2546034966433885568    33.644098\n",
       "1  108003599979874881                           NaN          NaN\n",
       "2  107990000018985382  Gaia DR3 2546034966433885568    29.641774\n",
       "3  107990000054816431  Gaia DR3 2546034966433885568    16.739560\n",
       "4  107990000094369406  Gaia DR3 2546034966433885568     0.024728\n",
       "5  107983599973919166                           NaN          NaN\n",
       "6  108013599996822453                           NaN          NaN\n",
       "7  108013599948120838  Gaia DR3 2738188646457069696    22.856130\n",
       "8  108000000093455743  Gaia DR3 2546034966433885568    19.168215\n",
       "9  108000000105384460  Gaia DR3 2546034966433885568    15.916200"
      ]
     },
     "execution_count": 27,
     "metadata": {},
     "output_type": "execute_result"
    }
   ],
   "source": [
    "print ('nrows x ncols: ' + str(df3.shape))\n",
    "df3[0:10] # first 10 rows"
   ]
  },
  {
   "cell_type": "markdown",
   "metadata": {},
   "source": [
    "__Don't want the non-matching rows?__  Just replace the LEFT JOIN above with an INNER JOIN:"
   ]
  },
  {
   "cell_type": "code",
   "execution_count": 28,
   "metadata": {
    "execution": {
     "iopub.execute_input": "2023-08-21T20:56:24.319943Z",
     "iopub.status.busy": "2023-08-21T20:56:24.319519Z",
     "iopub.status.idle": "2023-08-21T20:56:24.534142Z",
     "shell.execute_reply": "2023-08-21T20:56:24.532532Z",
     "shell.execute_reply.started": "2023-08-21T20:56:24.319901Z"
    }
   },
   "outputs": [],
   "source": [
    "sql = '''SELECT  o.objid, gg.designation, (q3c_dist(o.ramean,o.decmean,gg.ra,gg.dec)*3600.0) as dist_arcsec \n",
    "         FROM mydb://objects6a AS o\n",
    "         INNER JOIN LATERAL (\n",
    "               SELECT g.* \n",
    "                    FROM \n",
    "                        gaia_dr3.gaia_source AS g\n",
    "                    WHERE\n",
    "                        q3c_join(o.ramean, o.decmean, g.ra, g.dec, 0.01)\n",
    "                    ORDER BY\n",
    "                        q3c_dist(o.ramean,o.decmean,g.ra,g.dec)\n",
    "                    ASC LIMIT 1\n",
    "               ) as gg ON true'''\n",
    "\n",
    "df4 = convert(qc.query(sql=sql))"
   ]
  },
  {
   "cell_type": "code",
   "execution_count": 29,
   "metadata": {
    "execution": {
     "iopub.execute_input": "2023-08-21T20:56:24.536978Z",
     "iopub.status.busy": "2023-08-21T20:56:24.536351Z",
     "iopub.status.idle": "2023-08-21T20:56:24.555770Z",
     "shell.execute_reply": "2023-08-21T20:56:24.554469Z",
     "shell.execute_reply.started": "2023-08-21T20:56:24.536912Z"
    }
   },
   "outputs": [
    {
     "name": "stdout",
     "output_type": "stream",
     "text": [
      "nrows x ncols: (132, 3)\n"
     ]
    },
    {
     "data": {
      "text/html": [
       "<div>\n",
       "<style scoped>\n",
       "    .dataframe tbody tr th:only-of-type {\n",
       "        vertical-align: middle;\n",
       "    }\n",
       "\n",
       "    .dataframe tbody tr th {\n",
       "        vertical-align: top;\n",
       "    }\n",
       "\n",
       "    .dataframe thead th {\n",
       "        text-align: right;\n",
       "    }\n",
       "</style>\n",
       "<table border=\"1\" class=\"dataframe\">\n",
       "  <thead>\n",
       "    <tr style=\"text-align: right;\">\n",
       "      <th></th>\n",
       "      <th>objid</th>\n",
       "      <th>designation</th>\n",
       "      <th>dist_arcsec</th>\n",
       "    </tr>\n",
       "  </thead>\n",
       "  <tbody>\n",
       "    <tr>\n",
       "      <th>0</th>\n",
       "      <td>108000000004132800</td>\n",
       "      <td>Gaia DR3 2546034966433885568</td>\n",
       "      <td>33.644098</td>\n",
       "    </tr>\n",
       "    <tr>\n",
       "      <th>1</th>\n",
       "      <td>107990000018985382</td>\n",
       "      <td>Gaia DR3 2546034966433885568</td>\n",
       "      <td>29.641774</td>\n",
       "    </tr>\n",
       "    <tr>\n",
       "      <th>2</th>\n",
       "      <td>107990000054816431</td>\n",
       "      <td>Gaia DR3 2546034966433885568</td>\n",
       "      <td>16.739560</td>\n",
       "    </tr>\n",
       "    <tr>\n",
       "      <th>3</th>\n",
       "      <td>107990000094369406</td>\n",
       "      <td>Gaia DR3 2546034966433885568</td>\n",
       "      <td>0.024728</td>\n",
       "    </tr>\n",
       "    <tr>\n",
       "      <th>4</th>\n",
       "      <td>108013599948120838</td>\n",
       "      <td>Gaia DR3 2738188646457069696</td>\n",
       "      <td>22.856130</td>\n",
       "    </tr>\n",
       "    <tr>\n",
       "      <th>5</th>\n",
       "      <td>108000000093455743</td>\n",
       "      <td>Gaia DR3 2546034966433885568</td>\n",
       "      <td>19.168215</td>\n",
       "    </tr>\n",
       "    <tr>\n",
       "      <th>6</th>\n",
       "      <td>108000000105384460</td>\n",
       "      <td>Gaia DR3 2546034966433885568</td>\n",
       "      <td>15.916200</td>\n",
       "    </tr>\n",
       "    <tr>\n",
       "      <th>7</th>\n",
       "      <td>108003599898938079</td>\n",
       "      <td>Gaia DR3 2738188646457069696</td>\n",
       "      <td>21.190770</td>\n",
       "    </tr>\n",
       "    <tr>\n",
       "      <th>8</th>\n",
       "      <td>108003599869045137</td>\n",
       "      <td>Gaia DR3 2642111838657303808</td>\n",
       "      <td>28.265715</td>\n",
       "    </tr>\n",
       "    <tr>\n",
       "      <th>9</th>\n",
       "      <td>107990000145388611</td>\n",
       "      <td>Gaia DR3 2546034966433885568</td>\n",
       "      <td>18.547336</td>\n",
       "    </tr>\n",
       "  </tbody>\n",
       "</table>\n",
       "</div>"
      ],
      "text/plain": [
       "                objid                   designation  dist_arcsec\n",
       "0  108000000004132800  Gaia DR3 2546034966433885568    33.644098\n",
       "1  107990000018985382  Gaia DR3 2546034966433885568    29.641774\n",
       "2  107990000054816431  Gaia DR3 2546034966433885568    16.739560\n",
       "3  107990000094369406  Gaia DR3 2546034966433885568     0.024728\n",
       "4  108013599948120838  Gaia DR3 2738188646457069696    22.856130\n",
       "5  108000000093455743  Gaia DR3 2546034966433885568    19.168215\n",
       "6  108000000105384460  Gaia DR3 2546034966433885568    15.916200\n",
       "7  108003599898938079  Gaia DR3 2738188646457069696    21.190770\n",
       "8  108003599869045137  Gaia DR3 2642111838657303808    28.265715\n",
       "9  107990000145388611  Gaia DR3 2546034966433885568    18.547336"
      ]
     },
     "execution_count": 29,
     "metadata": {},
     "output_type": "execute_result"
    }
   ],
   "source": [
    "print ('nrows x ncols: ' + str(df4.shape))\n",
    "df4[0:10] # first 10 rows"
   ]
  },
  {
   "cell_type": "markdown",
   "metadata": {},
   "source": [
    "<a class=\"anchor\" id=\"cleanup\"></a>\n",
    "# Cleanup\n",
    "If the myDB table was meant to be temporary, it can be dropped with *mydb_drop()*.  Here, we'll drop only the tables created in this notebook:"
   ]
  },
  {
   "cell_type": "code",
   "execution_count": 30,
   "metadata": {
    "execution": {
     "iopub.execute_input": "2023-08-21T20:56:24.558240Z",
     "iopub.status.busy": "2023-08-21T20:56:24.557734Z",
     "iopub.status.idle": "2023-08-21T20:56:25.936809Z",
     "shell.execute_reply": "2023-08-21T20:56:25.935181Z",
     "shell.execute_reply.started": "2023-08-21T20:56:24.558186Z"
    }
   },
   "outputs": [
    {
     "name": "stdout",
     "output_type": "stream",
     "text": [
      "Dropping table 'test1' ... \tOK\n",
      "Dropping table 'test2' ... \tOK\n",
      "Dropping table 'objects1' ... \tOK\n",
      "Dropping table 'objects2' ... \tOK\n",
      "Dropping table 'objects3' ... \tOK\n",
      "Dropping table 'objects4' ... \tOK\n",
      "Dropping table 'objects5' ... \tOK\n",
      "Dropping table 'objects6a' ... \tOK\n",
      "Dropping table 'objects6b' ... \tOK\n",
      "Dropping table 'objects6c' ... \tOK\n",
      "Listing mydb tables:\n",
      "aaa\n",
      "aab\n",
      "basic_result\n",
      "bgsfaint_dlnotebook\n",
      "cmtestoutput\n",
      "cmxmatchtest\n",
      "desi_tile\n",
      "df_xmatch\n",
      "fastspec_everest_z_lt_0p6\n",
      "fiberassign\n",
      "gaia_rc\n",
      "gaia_sample\n",
      "gaia_sample_xmatch\n",
      "gals\n",
      "lowmassagn_dlnotebook\n",
      "secondary_dark_subset\n",
      "sv1targets_bright_secondary\n",
      "sv1targets_dark_secondary\n",
      "tbl_stat\n",
      "testcm\n",
      "testingx\n",
      "testresult2\n",
      "testx2\n",
      "testxmatchqueryout\n",
      "tile\n",
      "twomass_gaia1\n",
      "twomass_pt1\n",
      "twomasspsc\n",
      "usno_objects\n",
      "xmatchasyncout\n",
      "xmatchasyncout2\n",
      "\n",
      "removing objects.csv\n",
      "removing objects.vot\n"
     ]
    }
   ],
   "source": [
    "# Drop any tables or temp files we created.\n",
    "if do_cleanup:\n",
    "    for table in ['test1','test2','objects1','objects2','objects3','objects4','objects5','objects6a','objects6b','objects6c']:\n",
    "        print(\"Dropping table '\" + table + \"' ... \\t\" + qc.mydb_drop(table))\n",
    "    print(\"Listing mydb tables:\\n\" + qc.mydb_list())\n",
    "    \n",
    "    for f in ['objects.csv','schema.txt']:\n",
    "        if os.path.exists(f):\n",
    "            os.remove (f)\n",
    "    if sc.access ('vos://objects.csv'):\n",
    "        print ('removing objects.csv')\n",
    "        sc.rm ('vos://objects.csv')\n",
    "    if sc.access ('vos://objects.vot'):\n",
    "        print ('removing objects.vot')\n",
    "        sc.rm ('vos://objects.vot')"
   ]
  },
  {
   "cell_type": "markdown",
   "metadata": {},
   "source": [
    "If instead you want to drop __all__ tables in your MyDB, you can do this by processing the list, e.g."
   ]
  },
  {
   "cell_type": "code",
   "execution_count": 31,
   "metadata": {
    "execution": {
     "iopub.execute_input": "2023-08-21T20:56:25.939232Z",
     "iopub.status.busy": "2023-08-21T20:56:25.938720Z",
     "iopub.status.idle": "2023-08-21T20:56:25.947640Z",
     "shell.execute_reply": "2023-08-21T20:56:25.946109Z",
     "shell.execute_reply.started": "2023-08-21T20:56:25.939177Z"
    }
   },
   "outputs": [],
   "source": [
    "if False:      # CAUTION! Change this to 'if True' to remove all tables\n",
    "    print(\"Initial listing of mydb tables:\\n\" + qc.mydb_list())\n",
    "    table_list = qc.list().split('\\n')    # convert string return to array\n",
    "    for table in table_list:\n",
    "        print(\"Dropping table '\" + table + \"' ... \\t\" + qc.mydb_drop(table))\n",
    "    print(\"\\nFinal listing of mydb tables:\\n\" + qc.mydb_list())\n",
    "    print(\"\\nFinal list of VOSpace:\\n\" + sc.ls(format='long'))"
   ]
  }
 ],
 "metadata": {
  "kernelspec": {
   "display_name": "Python 3",
   "language": "python",
   "name": "python3"
  },
  "language_info": {
   "codemirror_mode": {
    "name": "ipython",
    "version": 3
   },
   "file_extension": ".py",
   "mimetype": "text/x-python",
   "name": "python",
   "nbconvert_exporter": "python",
   "pygments_lexer": "ipython3",
   "version": "3.8.8"
  }
 },
 "nbformat": 4,
 "nbformat_minor": 4
}
