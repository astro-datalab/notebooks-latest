{
 "cells": [
  {
   "cell_type": "code",
   "execution_count": 1,
   "metadata": {
    "execution": {
     "iopub.execute_input": "2024-10-02T14:42:18.606392Z",
     "iopub.status.busy": "2024-10-02T14:42:18.605830Z",
     "iopub.status.idle": "2024-10-02T14:42:18.614102Z",
     "shell.execute_reply": "2024-10-02T14:42:18.613724Z",
     "shell.execute_reply.started": "2024-10-02T14:42:18.606367Z"
    }
   },
   "outputs": [],
   "source": [
    "__author__ = 'Mike Fitzpatrick <mike.fitzpatrick@noirlab.edu>, Glenn Eychaner, Robert Nikutta <robert.nikutta@noirlab.edu>'\n",
    "__version__ = '20241002'\n",
    "__datasets__ = ['sdss_dr16']"
   ]
  },
  {
   "cell_type": "markdown",
   "metadata": {},
   "source": [
    "# How to Use the Data Lab Public File Services\n",
    "\n",
    "_Mike Fitzpatrick, Glenn Eychaner, Robert Nikutta_\n",
    "\n",
    "# Table of Contents\n",
    "\n",
    "* [Notebook Summary](#summary)\n",
    "* [Disclaimer & Attribution](#disclaimer)\n",
    "* [Imports & Setup](#imports)\n",
    "* [Listing another user's 'public/' folder in their vospace](#listing-public)\n",
    "* [An example using the SDSS DR16 public file service](#example-file-service)\n",
    "* [List all available public file spaces](#list-file-services)\n",
    "\n",
    "<a class=\"anchor\" id=\"summary\"></a>\n",
    "# Notebook Summary\n",
    "\n",
    "Files in the virtual storage are usually identified via the prefix `vos://`. This shorthand identifier is resolved to a user's home directory of the storage space in the service.  \n",
    "\n",
    "If the `vos://` prefix is instead the name of another user (e.g. `demo00://`, and the remainder of the path grants public or group read/write access, then the other user's spaces will be accessed. Most user spaces have a `/public` directory to facilitate file sharing (e.g. `demo00://public/foo.fits` will access the `foo.fits` file from user `demo00`). Users can make any file (or directory) public by moving it to (or creating a link in) their `/public` directory.\n",
    "\n",
    "_Public file services_ are specially created areas where all files are world-readable, and are used for serving files from Data Lab datasets.\n",
    "\n",
    "<a class=\"anchor\" id=\"disclaimer\"></a>\n",
    "# Disclaimer & attribution\n",
    "\n",
    "Disclaimers\n",
    "-----------\n",
    "Note that using the Astro Data Lab constitutes your agreement with our minimal [Disclaimers](https://datalab.noirlab.edu/disclaimers.php).\n",
    "\n",
    "Acknowledgments\n",
    "---------------\n",
    "If you use **Astro Data Lab** in your published research, please include the text in your paper's Acknowledgments section:\n",
    "\n",
    "_This research uses services or data provided by the Astro Data Lab, which is part of the Community Science and Data Center (CSDC) Program of NSF NOIRLab. NOIRLab is operated by the Association of Universities for Research in Astronomy (AURA), Inc. under a cooperative agreement with the U.S. National Science Foundation._\n",
    "\n",
    "If you use **SPARCL jointly with the Astro Data Lab platform** (via JupyterLab, command-line, or web interface) in your published research, please include this text below in your paper's Acknowledgments section:\n",
    "\n",
    "_This research uses services or data provided by the SPectra Analysis and Retrievable Catalog Lab (SPARCL) and the Astro Data Lab, which are both part of the Community Science and Data Center (CSDC) Program of NSF NOIRLab. NOIRLab is operated by the Association of Universities for Research in Astronomy (AURA), Inc. under a cooperative agreement with the U.S. National Science Foundation._\n",
    "\n",
    "In either case **please cite the following papers**:\n",
    "\n",
    "* Data Lab concept paper: Fitzpatrick et al., \"The NOAO Data Laboratory: a conceptual overview\", SPIE, 9149, 2014, https://doi.org/10.1117/12.2057445\n",
    "\n",
    "* Astro Data Lab overview: Nikutta et al., \"Data Lab - A Community Science Platform\", Astronomy and Computing, 33, 2020, https://doi.org/10.1016/j.ascom.2020.100411\n",
    "\n",
    "If you are referring to the Data Lab JupyterLab / Jupyter Notebooks, cite:\n",
    "\n",
    "* Juneau et al., \"Jupyter-Enabled Astrophysical Analysis Using Data-Proximate Computing Platforms\", CiSE, 23, 15, 2021, https://doi.org/10.1109/MCSE.2021.3057097\n",
    "\n",
    "If publishing in a AAS journal, also add the keyword: `\\facility{Astro Data Lab}`\n",
    "\n",
    "And if you are using SPARCL, please also add `\\software{SPARCL}` and cite:\n",
    "\n",
    "* Juneau et al., \"SPARCL: SPectra Analysis and Retrievable Catalog Lab\", Conference Proceedings for ADASS XXXIII, 2024\n",
    "https://doi.org/10.48550/arXiv.2401.05576\n",
    "\n",
    "The NOIRLab Library maintains [lists of proper acknowledgments](https://noirlab.edu/science/about/scientific-acknowledgments) to use when publishing papers using the Lab's facilities, data, or services."
   ]
  },
  {
   "cell_type": "markdown",
   "metadata": {},
   "source": [
    "<a class=\"anchor\" id=\"imports\"></a>\n",
    "# Imports and setup"
   ]
  },
  {
   "cell_type": "code",
   "execution_count": 2,
   "metadata": {
    "execution": {
     "iopub.execute_input": "2024-10-02T14:42:18.615113Z",
     "iopub.status.busy": "2024-10-02T14:42:18.614922Z",
     "iopub.status.idle": "2024-10-02T14:42:19.096885Z",
     "shell.execute_reply": "2024-10-02T14:42:19.095837Z",
     "shell.execute_reply.started": "2024-10-02T14:42:18.615098Z"
    }
   },
   "outputs": [],
   "source": [
    "# 3rd Party Imports\n",
    "import numpy as np\n",
    "from matplotlib import pyplot as plt\n",
    "from astropy.io import fits\n",
    "\n",
    "# Standard DL imports, note we only need storeClient\n",
    "from dl import storeClient as sc\n",
    "\n",
    "# Make matplotlib plot inline\n",
    "%matplotlib inline"
   ]
  },
  {
   "cell_type": "markdown",
   "metadata": {},
   "source": [
    "<a class=\"anchor\" id=\"listing-public\"></a>\n",
    "# Listing another user's 'public/' folder in their vospace\n",
    "The user in our example is 'demo00'"
   ]
  },
  {
   "cell_type": "code",
   "execution_count": 3,
   "metadata": {
    "execution": {
     "iopub.execute_input": "2024-10-02T14:42:19.098592Z",
     "iopub.status.busy": "2024-10-02T14:42:19.098353Z",
     "iopub.status.idle": "2024-10-02T14:42:19.187558Z",
     "shell.execute_reply": "2024-10-02T14:42:19.186843Z",
     "shell.execute_reply.started": "2024-10-02T14:42:19.098574Z"
    }
   },
   "outputs": [
    {
     "name": "stdout",
     "output_type": "stream",
     "text": [
      "test2.csv       test3.csv       test6.csv        \n",
      "\n"
     ]
    }
   ],
   "source": [
    "print(sc.ls('demo00://public',format='short'))"
   ]
  },
  {
   "cell_type": "markdown",
   "metadata": {},
   "source": [
    "<a class=\"anchor\" id=\"example-file-service\"></a>\n",
    "# An example using the **SDSS DR16** public file service.\n",
    "A 'file service' is a _public_ vospace, readable by all users.\n",
    "\n",
    "## Set base directory and plate number"
   ]
  },
  {
   "cell_type": "code",
   "execution_count": 4,
   "metadata": {
    "execution": {
     "iopub.execute_input": "2024-10-02T14:42:19.188772Z",
     "iopub.status.busy": "2024-10-02T14:42:19.188611Z",
     "iopub.status.idle": "2024-10-02T14:42:19.507132Z",
     "shell.execute_reply": "2024-10-02T14:42:19.506415Z",
     "shell.execute_reply.started": "2024-10-02T14:42:19.188759Z"
    }
   },
   "outputs": [
    {
     "name": "stdout",
     "output_type": "stream",
     "text": [
      "apo,apogee,eboss,env,lco,manga,marvels,public,sdss,tmp\n",
      "calib,elg,lss,lya,photo,photoObj,qso,resolve,spectro,spiders,sweeps,target\n",
      "data,firefly,lensing,redux\n",
      "images,platelist-mjdsort.html,platelist-mjdsort.txt,platelist.fits,platelist.html,platelist.txt,platequality-mjdsort.html,platequality-mjdsort.txt,platequality.html,platequality.txt,v5_13_0\n"
     ]
    }
   ],
   "source": [
    "# Set the base directory and plate number\n",
    "# These can be found by explring the SDSS DR16 space using 'sc.ls()'\n",
    "print(sc.ls('sdss_dr16://'))\n",
    "print(sc.ls('sdss_dr16://eboss'))\n",
    "print(sc.ls('sdss_dr16://eboss/spectro'))\n",
    "print(sc.ls('sdss_dr16://eboss/spectro/redux'))\n",
    "\n",
    "base = 'sdss_dr16://eboss/spectro/redux/v5_13_0/'\n",
    "plate = '3615'"
   ]
  },
  {
   "cell_type": "markdown",
   "metadata": {},
   "source": [
    "## List all available FITS plate files in the plate directory"
   ]
  },
  {
   "cell_type": "code",
   "execution_count": 5,
   "metadata": {
    "execution": {
     "iopub.execute_input": "2024-10-02T14:42:19.508790Z",
     "iopub.status.busy": "2024-10-02T14:42:19.508629Z",
     "iopub.status.idle": "2024-10-02T14:42:19.779760Z",
     "shell.execute_reply": "2024-10-02T14:42:19.779037Z",
     "shell.execute_reply.started": "2024-10-02T14:42:19.508777Z"
    }
   },
   "outputs": [
    {
     "name": "stdout",
     "output_type": "stream",
     "text": [
      "spPlate-3615-55089.fits  spPlate-3615-55099.fits  spPlate-3615-55145.fits\n",
      "spPlate-3615-55153.fits  spPlate-3615-55179.fits  spPlate-3615-55208.fits\n",
      "spPlate-3615-55445.fits  spPlate-3615-55856.fits  spPlate-3615-56219.fits\n",
      "spPlate-3615-56544.fits                            \n",
      "\n"
     ]
    }
   ],
   "source": [
    "# Construct the vospace path to the plate directory\n",
    "spPlate = base + plate + '/spPlate-' + plate\n",
    "print(sc.ls(spPlate + '*.fits',format='short'))"
   ]
  },
  {
   "cell_type": "markdown",
   "metadata": {},
   "source": [
    "## Pick a modified Julian date and fiber"
   ]
  },
  {
   "cell_type": "code",
   "execution_count": 6,
   "metadata": {
    "execution": {
     "iopub.execute_input": "2024-10-02T14:42:19.780945Z",
     "iopub.status.busy": "2024-10-02T14:42:19.780791Z",
     "iopub.status.idle": "2024-10-02T14:42:19.863857Z",
     "shell.execute_reply": "2024-10-02T14:42:19.863166Z",
     "shell.execute_reply.started": "2024-10-02T14:42:19.780933Z"
    }
   },
   "outputs": [
    {
     "name": "stdout",
     "output_type": "stream",
     "text": [
      "File: sdss_dr16://eboss/spectro/redux/v5_13_0/3615/spPlate-3615-56544.fits\n",
      "spPlate-3615-56544.fits\n"
     ]
    }
   ],
   "source": [
    "mjd = '56544'\n",
    "fiber = 39\n",
    "\n",
    "# Construct the vospace path to the plate file and verify\n",
    "spfile = spPlate + '-' + mjd + '.fits'\n",
    "print('File:',spfile)\n",
    "print(sc.ls(spfile))"
   ]
  },
  {
   "cell_type": "markdown",
   "metadata": {},
   "source": [
    "## Now read the spectrum from the file and construct the wavelength array"
   ]
  },
  {
   "cell_type": "code",
   "execution_count": 7,
   "metadata": {
    "execution": {
     "iopub.execute_input": "2024-10-02T14:42:19.864895Z",
     "iopub.status.busy": "2024-10-02T14:42:19.864749Z",
     "iopub.status.idle": "2024-10-02T14:42:27.703701Z",
     "shell.execute_reply": "2024-10-02T14:42:27.703122Z",
     "shell.execute_reply.started": "2024-10-02T14:42:19.864884Z"
    }
   },
   "outputs": [
    {
     "name": "stdout",
     "output_type": "stream",
     "text": [
      "Number of elements in the flux, ivar, wavelength arrays: 4646 4646 4646\n"
     ]
    }
   ],
   "source": [
    "try:\n",
    "    with fits.open(sc.get(spfile, mode='fileobj')) as hdulist:\n",
    "        hdr = hdulist[0].header\n",
    "        flux = hdulist[0].data[fiber-1, :]\n",
    "        ivar = hdulist[1].data[fiber-1, :]\n",
    "        sky = hdulist[6].data[fiber-1, :]\n",
    "except Exception as e:\n",
    "    raise ValueError(\"Could not find spPlate file for plate={0:s}, mjd={1:s}!\".format(plate, mjd))\n",
    "\n",
    "loglam = hdr['COEFF0'] + hdr['COEFF1']*np.arange(hdr['NAXIS1'], dtype=flux.dtype)\n",
    "wavelength = 10.0**loglam\n",
    "print(\"Number of elements in the flux, ivar, wavelength arrays: {} {} {}\".format(len(flux),len(ivar),len(wavelength)))"
   ]
  },
  {
   "cell_type": "markdown",
   "metadata": {},
   "source": [
    "## Make a plot of the spectrum"
   ]
  },
  {
   "cell_type": "code",
   "execution_count": 8,
   "metadata": {
    "execution": {
     "iopub.execute_input": "2024-10-02T14:42:27.704635Z",
     "iopub.status.busy": "2024-10-02T14:42:27.704469Z",
     "iopub.status.idle": "2024-10-02T14:42:27.820430Z",
     "shell.execute_reply": "2024-10-02T14:42:27.819990Z",
     "shell.execute_reply.started": "2024-10-02T14:42:27.704622Z"
    }
   },
   "outputs": [
    {
     "data": {
      "image/png": "[encoded data removed]",
      "text/plain": [
       "<Figure size 640x480 with 1 Axes>"
      ]
     },
     "metadata": {},
     "output_type": "display_data"
    }
   ],
   "source": [
    "plt.plot(wavelength, flux * (ivar > 0), 'k', lw=0.2)\n",
    "plt.xlabel('Angstroms')\n",
    "plt.ylabel('Flux');"
   ]
  },
  {
   "cell_type": "markdown",
   "metadata": {},
   "source": [
    "<a class=\"anchor\" id=\"list-file-services\"></a>\n",
    "## List all available public file spaces\n",
    "\n",
    "The `sc.services()` function allows a user to list all the available file services."
   ]
  },
  {
   "cell_type": "code",
   "execution_count": 9,
   "metadata": {
    "execution": {
     "iopub.execute_input": "2024-10-02T14:42:27.821104Z",
     "iopub.status.busy": "2024-10-02T14:42:27.820964Z",
     "iopub.status.idle": "2024-10-02T14:42:28.084354Z",
     "shell.execute_reply": "2024-10-02T14:42:28.083960Z",
     "shell.execute_reply.started": "2024-10-02T14:42:27.821092Z"
    }
   },
   "outputs": [
    {
     "name": "stdout",
     "output_type": "stream",
     "text": [
      "\n",
      "                    name   svc   description\n",
      "                --------   ----  --------\n",
      "                  ls_dr5   vos   DECam Legacy Survey DR5\n",
      "                  ls_dr4   vos   DECam Legacy Survey DR4\n",
      "                 chandra   vos   ChaMPlane: Measuring the Faint X-ray Bin ...\n",
      "             cosmic_dawn   vos   Cosmic DAWN survey\n",
      "               deeprange   vos   Deeprange Survey\n",
      "           deep_ecliptic   vos   Deep Ecliptic Survey\n",
      "                 des_dr2   vos   Dark Energy Survey DR2\n",
      "                desi_ets   vos   DESI Early Target Selection\n",
      "                     dls   vos   Deep Lens Survey\n",
      "                  flamex   vos   FLAMINGOS Extragalactic Survey\n",
      "                     fls   vos   First Look Survey\n",
      "                    fsvs   vos   Faint Sky Variability Survey\n",
      "               gnirs_dqs   vos   Gemini Near-IR Spectroscopic-Distant Qua ...\n",
      "               ir_bootes   vos   Infrared Bootes Imaging Survey\n",
      "                     lgs   vos   Local Group Survey\n",
      "             gogreen_dr1   vos   GOGREEN DR1 Survey\n",
      "                     lmc   vos   SuperMACHO Survey\n",
      "                  ls_dr1   vos   DECam Legacy Survey DR1\n",
      "                  ls_dr2   vos   DECam Legacy Survey DR2\n",
      "                  ls_dr3   vos   DECam Legacy Survey DR3\n",
      "                  ls_dr6   vos   DECam Legacy Survey DR6\n",
      "                  ls_dr7   vos   DECam Legacy Survey DR7\n",
      "                  ls_dr8   vos   DECam Legacy Survey DR8\n",
      "                  ls_dr9   vos   DECam Legacy Survey DR9\n",
      "                ls_dr9sv   vos   DECam Legacy Survey DR9sv\n",
      "             m31_newfirm   vos   M31 NEWFIRM Survey\n",
      "                   ndwfs   vos   NOAO Deep-Wide Survey\n",
      "                     nfp   vos   NOAO Fundamental Plane Survey\n",
      "                    nmbs   vos   NEWFIRM Medium Band Survey\n",
      "                  nmbs_2   vos   NEWFIRM Medium Band Survey II\n",
      "                     nsc   vos   NOAO Source Catalog\n",
      "                sdss_dr8   vos   SDSS DR8\n",
      "                sdss_dr9   vos   SDSS DR9\n",
      "               sdss_dr10   vos   SDSS DR10\n",
      "               sdss_dr11   vos   SDSS DR11\n",
      "               sdss_dr12   vos   SDSS DR12\n",
      "               sdss_dr13   vos   SDSS DR13\n",
      "               sdss_dr14   vos   SDSS DR14\n",
      "               sdss_dr15   vos   SDSS DR15\n",
      "               sdss_dr16   vos   SDSS DR16\n",
      "               sdss_dr17   vos   SDSS DR17\n",
      "                   singg   vos   Survey for Ionization in Neutral-Gas Gal ...\n",
      "               smash_dr1   vos   SMASH DR1\n",
      "               smash_dr2   vos   SMASH DR2\n",
      "                     sze   vos   SZE+Optical Studies of the Cosmic Accele ...\n",
      "               w_project   vos   The w Project\n",
      "                 zbootes   vos   z-band Photometry of the NOAO Deep-Wide  ...\n",
      "\n"
     ]
    }
   ],
   "source": [
    "print(sc.services())"
   ]
  }
 ],
 "metadata": {
  "kernelspec": {
   "display_name": "Python 3",
   "language": "python",
   "name": "python3"
  },
  "language_info": {
   "codemirror_mode": {
    "name": "ipython",
    "version": 3
   },
   "file_extension": ".py",
   "mimetype": "text/x-python",
   "name": "python",
   "nbconvert_exporter": "python",
   "pygments_lexer": "ipython3",
   "version": "3.10.13"
  }
 },
 "nbformat": 4,
 "nbformat_minor": 4
}
