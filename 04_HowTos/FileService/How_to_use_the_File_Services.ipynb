{
 "cells": [
  {
   "cell_type": "code",
   "execution_count": null,
   "metadata": {},
   "outputs": [],
   "source": [
    "__author__ = 'Mike Fitzpatrick <fitz@noao.edu>, Glenn Eychaner <geychaner@noao.edu>, Robert Nikutta <nikutta@noao.edu>, Alice Jacques <alice.jacques@noao.edu>'\n",
    "__version__ = '20200901' # yyyymmdd\n",
    "__datasets__ = ['sdss_dr14']\n",
    "__keywords__ = ['vospace','fits']"
   ]
  },
  {
   "cell_type": "markdown",
   "metadata": {},
   "source": [
    "# How to Use the Data Lab Public File Services\n",
    "\n",
    "*Revised:  Sept 01, 2020*"
   ]
  },
  {
   "cell_type": "markdown",
   "metadata": {},
   "source": [
    "### Table of contents\n",
    "* [Summary](#summary)\n",
    "* [Disclaimer & Attribution](#attribution)\n",
    "* [Imports & setup](#import)\n",
    "* [Listing another user's public file space](#listspace)\n",
    "* [Listing all available public file spaces](#listall)\n",
    "* [Example: using the **SDSS DR14** public file service](#exsdss)"
   ]
  },
  {
   "cell_type": "markdown",
   "metadata": {},
   "source": [
    "<a class=\"anchor\" id=\"summary\"></a>\n",
    "# Summary\n",
    "\n",
    "Files in the virtual storage VOSpace are usually identified via the prefix \"*vos://*\". This shorthand identifier is resolved to a user's home directory of the storage space in the service.  \n",
    "\n",
    "If the \"*vos://*\" prefix is instead the name of another user (e.g. \"*geychaner://*\"), and the remainder of the path grants public or group read/write access, then the other user's spaces will be accessed. Most user spaces have a \"*/public*\" directory to facilitate file sharing (e.g. '*geychaner://public/foo.fits*' will access the '*foo.fits*' file from user '*geychaner*'). Users can make any file (or directory) public by moving it to (or creating a link in) their \"/public\" directory.\n",
    "\n",
    "**Public file services** are specially created areas where all files are world-readable, and are used for serving files from Data Lab datasets."
   ]
  },
  {
   "cell_type": "markdown",
   "metadata": {},
   "source": [
    "<a class=\"anchor\" id=\"attribution\"></a>\n",
    "# Disclaimer & Attribution\n",
    "\n",
    "If you use this notebook for your published science, please acknowledge the following:\n",
    "\n",
    "* Data Lab concept paper: Fitzpatrick et al., \"The NOAO Data Laboratory: a conceptual overview\", SPIE, 9149, 2014, http://dx.doi.org/10.1117/12.2057445\n",
    "\n",
    "* Data Lab disclaimer: http://datalab.noao.edu/disclaimers.php"
   ]
  },
  {
   "cell_type": "markdown",
   "metadata": {},
   "source": [
    "<a class=\"anchor\" id=\"import\"></a>\n",
    "# Imports & setup"
   ]
  },
  {
   "cell_type": "code",
   "execution_count": null,
   "metadata": {},
   "outputs": [],
   "source": [
    "# Make matplotlib plot inline\n",
    "%matplotlib inline\n",
    "\n",
    "# Standard DL imports, note we only need storeClient\n",
    "from dl import storeClient as sc\n",
    "\n",
    "# 3rd Party Imports\n",
    "import io\n",
    "import numpy as np\n",
    "from matplotlib import pyplot as p\n",
    "from astropy.io import fits"
   ]
  },
  {
   "cell_type": "markdown",
   "metadata": {},
   "source": [
    "<a class=\"anchor\" id=\"listspace\"></a>\n",
    "# Listing another user's public file space\n",
    "We can view the contents of another user's public file space if we know their username."
   ]
  },
  {
   "cell_type": "code",
   "execution_count": null,
   "metadata": {},
   "outputs": [],
   "source": [
    "print(sc.ls ('demo00://public',format='short'))"
   ]
  },
  {
   "cell_type": "markdown",
   "metadata": {},
   "source": [
    "<a class=\"anchor\" id=\"listall\"></a>\n",
    "# Listing all available public file spaces\n",
    "\n",
    "A 'file service' is a **public** vospace, readable by all users. The *sc.services()* function allows a user to list all the available file services."
   ]
  },
  {
   "cell_type": "code",
   "execution_count": null,
   "metadata": {},
   "outputs": [],
   "source": [
    "print(sc.services())"
   ]
  },
  {
   "cell_type": "markdown",
   "metadata": {},
   "source": [
    "<a class=\"anchor\" id=\"exsdss\"></a>\n",
    "\n",
    "# An example using the **SDSS DR14** public file service.\n",
    "\n",
    "We can explore the contents of a particular public file space using the *sc.ls* function:  "
   ]
  },
  {
   "cell_type": "code",
   "execution_count": null,
   "metadata": {},
   "outputs": [],
   "source": [
    "print(sc.ls('sdss_dr14://'))"
   ]
  },
  {
   "cell_type": "markdown",
   "metadata": {},
   "source": [
    "We can delve deeper into a particular file by specifying the file name when we call the *sc.ls* function:"
   ]
  },
  {
   "cell_type": "code",
   "execution_count": null,
   "metadata": {},
   "outputs": [],
   "source": [
    "print(sc.ls ('sdss_dr14://eboss'))"
   ]
  },
  {
   "cell_type": "code",
   "execution_count": null,
   "metadata": {},
   "outputs": [],
   "source": [
    "print(sc.ls ('sdss_dr14://eboss/spectro/'))"
   ]
  },
  {
   "cell_type": "code",
   "execution_count": null,
   "metadata": {},
   "outputs": [],
   "source": [
    "print(sc.ls ('sdss_dr14://eboss/spectro/redux'))"
   ]
  },
  {
   "cell_type": "markdown",
   "metadata": {},
   "source": [
    "### Set base directory and plate number\n",
    "We can set the base directory and plate number of the object we want to look at:"
   ]
  },
  {
   "cell_type": "code",
   "execution_count": null,
   "metadata": {},
   "outputs": [],
   "source": [
    "base = 'sdss_dr14://eboss/spectro/redux/v5_10_0/'\n",
    "plate = '3615'"
   ]
  },
  {
   "cell_type": "markdown",
   "metadata": {},
   "source": [
    "### List all available FITS plate files in the plate directory\n",
    "We can construct the VOSpace path to the plate directory:"
   ]
  },
  {
   "cell_type": "code",
   "execution_count": null,
   "metadata": {},
   "outputs": [],
   "source": [
    "spPlate = base + plate + '/spPlate-' + plate\n",
    "print(sc.ls (spPlate + '*.fits', format='short'))"
   ]
  },
  {
   "cell_type": "markdown",
   "metadata": {},
   "source": [
    "### Pick a modified Julian date (mjd) and fiber\n",
    "With the mjd, we can construct the VOSpace path to the plate file. We then verify the path construction."
   ]
  },
  {
   "cell_type": "code",
   "execution_count": null,
   "metadata": {},
   "outputs": [],
   "source": [
    "mjd = '56544'\n",
    "fiber = 39\n",
    "\n",
    "spfile = spPlate + '-' + mjd + '.fits'\n",
    "print ('File: ' + spfile)\n",
    "print (sc.ls (spfile))"
   ]
  },
  {
   "cell_type": "markdown",
   "metadata": {},
   "source": [
    "### Now read the spectrum from the file and construct the wavelength array\n",
    "From this file we will also retrieve its header, flux, and inverse variance. "
   ]
  },
  {
   "cell_type": "code",
   "execution_count": null,
   "metadata": {},
   "outputs": [],
   "source": [
    "try:\n",
    "    with fits.open(sc.get(spfile, mode='fileobj')) as hdulist:\n",
    "        hdr = hdulist[0].header\n",
    "        flux = hdulist[0].data[fiber-1, :]\n",
    "        ivar = hdulist[1].data[fiber-1, :]\n",
    "except Exception as e:\n",
    "    raise ValueError(\"Could not find spPlate file for plate={0:s}, mjd={1:s}!\".format(plate, mjd))\n",
    "\n",
    "loglam = hdr['COEFF0'] + hdr['COEFF1']*np.arange(hdr['NAXIS1'], dtype=flux.dtype)\n",
    "wavelength = 10.0**loglam\n",
    "print(\"Length of wavelength array =\", len(wavelength))\n",
    "print(\"Length of flux array =\", len(flux))\n",
    "print(\"Length of ivar array =\", len(ivar))"
   ]
  },
  {
   "cell_type": "markdown",
   "metadata": {},
   "source": [
    "### Make a plot of the spectrum\n",
    "Here we plot the wavelength and ivar-corrected flux."
   ]
  },
  {
   "cell_type": "code",
   "execution_count": null,
   "metadata": {
    "scrolled": false
   },
   "outputs": [],
   "source": [
    "fig = p.figure(dpi=100)\n",
    "p.plot(wavelength, flux* (ivar > 0), 'k')\n",
    "p.xlabel('Wavelength [$\\mathrm{\\AA}$]')\n",
    "p.ylabel('Flux')"
   ]
  }
 ],
 "metadata": {
  "kernelspec": {
   "display_name": "Python 3",
   "language": "python",
   "name": "python3"
  },
  "language_info": {
   "codemirror_mode": {
    "name": "ipython",
    "version": 3
   },
   "file_extension": ".py",
   "mimetype": "text/x-python",
   "name": "python",
   "nbconvert_exporter": "python",
   "pygments_lexer": "ipython3",
   "version": "3.7.4"
  }
 },
 "nbformat": 4,
 "nbformat_minor": 2
}
