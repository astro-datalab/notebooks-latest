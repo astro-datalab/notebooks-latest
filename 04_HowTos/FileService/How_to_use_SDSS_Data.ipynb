{
 "cells": [
  {
   "cell_type": "code",
   "execution_count": null,
   "metadata": {},
   "outputs": [],
   "source": [
    "__author__ = 'Benjamin Alan Weaver <baweaver@lbl.gov>'\n",
    "__version__ = '20200901'\n",
    "__datasets__ = ['sdss_dr14']\n",
    "__keywords__ = ['extragalactic','spectroscopic redshift','plot:color-color','plot:histogram','galaxies']"
   ]
  },
  {
   "cell_type": "markdown",
   "metadata": {},
   "source": [
    "# How to use SDSS Data in NOIRLab Astro Data Lab\n",
    "\n",
    "*Benjamin Alan Weaver & NOIRLab Astro Data Lab Team*\n",
    "\n",
    "### Table of Contents\n",
    "\n",
    "* [Goals & Notebook Summary](#Goals)\n",
    "* [Disclaimer & Attribution](#Disclaimer-&-Attribution)\n",
    "* [Imports & Setup](#Imports-&-Setup)\n",
    "* [BOSS Galaxies (photometry)](#BOSS-Galaxies-in-the-SDSS-Photometric-Catalog)\n",
    "* [BOSS Galaxies (spectroscopy)](#BOSS-Galaxies-in-the-SDSS-Spectroscopic-Catalog)\n",
    "* [Plotting SDSS Spectra](#Plotting-SDSS-Spectra)\n",
    "* [Display SDSS Images](#Display-SDSS-Images)\n",
    "* [Resources & References](#Resources-&-References)\n",
    "\n",
    "## Goals\n",
    "\n",
    "Work with SDSS tables in the Data Lab database.\n",
    "\n",
    "## Notebook Summary\n",
    "\n",
    "We're bringing the SDSS-III/IV (DR8-DR14) data archive to NOIRLab, and some of the data are already available in Data Lab.  This notebook demonstrates some queries and plots of SDSS data.\n",
    "\n",
    "The SDSS website is [www.sdss.org](https://www.sdss.org).\n",
    "\n",
    "The examples below are primarily focused on target selection and spectroscopy for the [BOSS survey](https://www.sdss.org/surveys/boss/).  This notebook makes extensive use of the target selection algorithms described by [Reid et al. (2016)](http://adsabs.harvard.edu/abs/2016MNRAS.455.1553R).\n",
    "\n",
    "## Disclaimer & Attribution\n",
    "\n",
    "If you use this notebook for your published science, please acknowledge the following:\n",
    "\n",
    "* Data Lab concept paper: Fitzpatrick *et al.*, \"The NOAO Data Laboratory: a conceptual overview\", SPIE, 9149, 2014, http://dx.doi.org/10.1117/12.2057445\n",
    "* Data Lab disclaimer: http://datalab.noao.edu/disclaimers.php"
   ]
  },
  {
   "cell_type": "markdown",
   "metadata": {},
   "source": [
    "## Imports & Setup\n",
    "\n",
    "### Imports"
   ]
  },
  {
   "cell_type": "code",
   "execution_count": null,
   "metadata": {},
   "outputs": [],
   "source": [
    "# Standard library imports\n",
    "from getpass import getpass\n",
    "from io import BytesIO\n",
    "from bz2 import BZ2File\n",
    "#from time import sleep\n",
    "\n",
    "# Import and configure matplotlib, etc.\n",
    "%matplotlib inline\n",
    "import matplotlib\n",
    "import matplotlib.pyplot as plt\n",
    "from astropy.visualization import astropy_mpl_style\n",
    "import numpy as np\n",
    "from astropy.io import fits\n",
    "from astropy.io.votable import parse_single_table\n",
    "from IPython.core.display import display, HTML\n",
    "\n",
    "# Data Lab components\n",
    "from dl import authClient as ac, queryClient as qc, storeClient as sc"
   ]
  },
  {
   "cell_type": "markdown",
   "metadata": {},
   "source": [
    "# Authentication\n",
    "Much of the functionality of Data Lab can be accessed without explicitly logging in (the service then uses an anonymous login). But some capacities, for instance saving the results of your queries to your virtual storage space, require a login (i.e. you will need a registered user account).\n",
    "\n",
    "If you need to log in to Data Lab, issue this command, and respond according to the instructions:"
   ]
  },
  {
   "cell_type": "code",
   "execution_count": null,
   "metadata": {},
   "outputs": [],
   "source": [
    "#ac.login(input(\"Enter user name: (+ENTER) \"),getpass(\"Enter password: (+ENTER) \"))\n",
    "ac.whoAmI()"
   ]
  },
  {
   "cell_type": "markdown",
   "metadata": {},
   "source": [
    "### Matplotlib Configuration\n",
    "\n",
    "This is separate because some imports may interfere with these settings."
   ]
  },
  {
   "cell_type": "code",
   "execution_count": null,
   "metadata": {},
   "outputs": [],
   "source": [
    "plt.style.use(astropy_mpl_style)\n",
    "matplotlib.rcParams['figure.figsize'] = (10.0, 10.0)\n",
    "matplotlib.rcParams['axes.grid'] = True"
   ]
  },
  {
   "cell_type": "markdown",
   "metadata": {},
   "source": [
    "### SDSS-specific global variables\n",
    "\n",
    "Set the data release and the corresponding database schema."
   ]
  },
  {
   "cell_type": "code",
   "execution_count": null,
   "metadata": {},
   "outputs": [],
   "source": [
    "release = 14  # DR14\n",
    "schema = 'sdss_dr{:d}'.format(release)\n",
    "schema"
   ]
  },
  {
   "cell_type": "markdown",
   "metadata": {},
   "source": [
    "### Functions for working with SDSS data\n",
    "\n",
    "This will help compute some quantities not included in the database."
   ]
  },
  {
   "cell_type": "code",
   "execution_count": null,
   "metadata": {},
   "outputs": [],
   "source": [
    "def auxilliary_colors(data):\n",
    "    \"\"\"Compute some artificial color quantities useful for target selection.\n",
    "\n",
    "    Parameters\n",
    "    ----------\n",
    "    data : :class:`numpy.ndarray`\n",
    "        Array containing MODEL magnitudes.\n",
    "\n",
    "    Returns\n",
    "    -------\n",
    "    :class:`numpy.ndarray`\n",
    "        Array containing auxilliary colors.\n",
    "    \"\"\"\n",
    "    dt = data['modelmag_r'].dtype\n",
    "    aux = np.zeros(data.shape, dtype=[(str('c_par'), dt), (str('c_perp'), dt), (str('d_perp'), dt)])\n",
    "    aux['c_par'] = (0.7 * (data['modelmag_g'] - data['modelmag_r']) +\n",
    "                    1.2 * (data['modelmag_r'] - data['modelmag_i'] - 0.18))\n",
    "    aux['c_perp'] = ((data['modelmag_r'] - data['modelmag_i']) - \n",
    "                     (data['modelmag_g'] - data['modelmag_r'])/4.0 - 0.18)\n",
    "    aux['d_perp'] = ((data['modelmag_r'] - data['modelmag_i']) -\n",
    "                     (data['modelmag_g'] - data['modelmag_r'])/8.0)\n",
    "    return aux"
   ]
  },
  {
   "cell_type": "markdown",
   "metadata": {},
   "source": [
    "## BOSS Galaxies in the SDSS Photometric Catalog\n",
    "\n",
    "Currently, NOIRLab Astro Data Lab has loaded a subset of the full SDSS photometric catalog containing objects that have spectra in DR14.  All columns that would normally be found in the [PhotoObjAll table](http://skyserver.sdss.org/dr15/en/help/browser/browser.aspx#&&history=description+PhotoObjAll+U) are loaded.\n",
    "\n",
    "There are several types of flux measurements reported by SDSS.  See the [SDSS Magnitudes page](http://www.sdss.org/dr14/algorithms/magnitudes/) for further details.\n",
    "We're going to select several measurements of flux, and choose objects marked as `SURVEY_PRIMARY` in the [RESOLVE_STATUS bitmask](http://www.sdss.org/dr14/algorithms/bitmasks/#RESOLVE_STATUS) (see the [resolve](http://www.sdss.org/dr14/algorithms/resolve/) documentation for further details.\n",
    "\n",
    "Below we construct a query designed to retrieve the values needed to re-create targeting cuts.\n",
    "\n",
    "Note that bitwise operations that are normally part of the SQL standard are forbidden by [ADQL](http://www.ivoa.net/documents/latest/ADQL.html) (even though the `&` operator is part of the ADQL standard)."
   ]
  },
  {
   "cell_type": "code",
   "execution_count": null,
   "metadata": {},
   "outputs": [],
   "source": [
    "# Create a list of magnitudes to select. This is a lot easier than typing each one.\n",
    "select_magnitudes = ', \\n'.join([', '.join(['{0}mag_{1}'.format(magtype, b)\n",
    "                                          for b in 'ugriz'])\n",
    "                               for magtype in ('model', 'cmodel', 'psf', 'fiber2')])\n",
    "\n",
    "# Put the query together.\n",
    "q = (\"SELECT rerun, run, camcol, field, objid, ra, dec, devrad_i, \\n\" +\n",
    "     select_magnitudes + \"\\n\" +\n",
    "     \"FROM {0}.photoplate WHERE (resolvestatus & 256) != 0 LIMIT 100000\".format(schema))\n",
    "print(q)"
   ]
  },
  {
   "cell_type": "markdown",
   "metadata": {},
   "source": [
    "Now submit the query."
   ]
  },
  {
   "cell_type": "code",
   "execution_count": null,
   "metadata": {},
   "outputs": [],
   "source": [
    "%%time\n",
    "try:\n",
    "    vot = qc.query(sql=q, fmt='votable', async_=False, timeout=300)\n",
    "except Exception as e:\n",
    "    print(e.message)\n",
    "else:\n",
    "    result = parse_single_table(BytesIO(vot.encode('utf-8'))).array\n",
    "    rdev_i = result['devrad_i']/0.396  # convert back to pixels\n",
    "    auxcolor = auxilliary_colors(result)"
   ]
  },
  {
   "cell_type": "markdown",
   "metadata": {},
   "source": [
    "Compute the cuts."
   ]
  },
  {
   "cell_type": "code",
   "execution_count": null,
   "metadata": {},
   "outputs": [],
   "source": [
    "cmmr = result['cmodelmag_r']\n",
    "cmmi = result['cmodelmag_i']\n",
    "cpar = auxcolor['c_par']\n",
    "cperp = auxcolor['c_perp']\n",
    "dperp = auxcolor['d_perp']\n",
    "pmr = result['psfmag_r']\n",
    "pmi = result['psfmag_i']\n",
    "pmz = result['psfmag_z']\n",
    "mmg = result['modelmag_g']\n",
    "mmr = result['modelmag_r']\n",
    "mmi = result['modelmag_i']\n",
    "mmz = result['modelmag_z']\n",
    "f2mi = result['fiber2mag_i']\n",
    "\n",
    "\n",
    "LOWZ = ((cmmr < (13.5 + cpar/0.3)) & \n",
    "        (np.abs(cperp) < 0.2) &\n",
    "        (cmmr > 16.0) & (cmmr < 19.6) &\n",
    "        ((pmr - cmmr) > 0.3))\n",
    "\n",
    "CMASS = ((cmmi < (19.86 + 1.6*(dperp - 0.8))) &\n",
    "         (cmmi > 17.5) & (cmmi < 19.9) &\n",
    "         (dperp > 0.55) &\n",
    "         ((pmi - mmi) > (0.2 + 0.2*(20.0 - mmi))) &\n",
    "         ((pmz - mmz) > (9.125 - 0.46*mmz)) &\n",
    "         ((mmr - mmi) < 2) &\n",
    "         (f2mi < 21.5) & \n",
    "         (rdev_i < 20))"
   ]
  },
  {
   "cell_type": "markdown",
   "metadata": {},
   "source": [
    "How many did we get?  These numbers will vary because the `LIMIT 100000` clause in the query effectively returns a random subsample."
   ]
  },
  {
   "cell_type": "code",
   "execution_count": null,
   "metadata": {},
   "outputs": [],
   "source": [
    "print(LOWZ.sum())\n",
    "print(CMASS.sum())"
   ]
  },
  {
   "cell_type": "markdown",
   "metadata": {},
   "source": [
    "Plot color *versus* magnitude.  You can adjust the plot limits where noted below."
   ]
  },
  {
   "cell_type": "code",
   "execution_count": null,
   "metadata": {},
   "outputs": [],
   "source": [
    "fig = plt.figure(dpi=100)\n",
    "ax = fig.add_subplot(111)\n",
    "p1 = ax.plot(mmg - mmr,\n",
    "             mmr,\n",
    "             label='model', linestyle='none',\n",
    "             marker=',', markeredgecolor='k', markerfacecolor='k')\n",
    "p2 = ax.plot(mmg[LOWZ] - mmr[LOWZ],\n",
    "             mmr[LOWZ],\n",
    "             label='LOWZ', linestyle='none',\n",
    "             marker='s', markeredgecolor='g', markerfacecolor='none')\n",
    "p3 = ax.plot(mmg[CMASS] - mmr[CMASS],\n",
    "             mmr[CMASS],\n",
    "             label='CMASS', linestyle='none',\n",
    "             marker='o', markeredgecolor='r', markerfacecolor='none')\n",
    "foo = ax.set_xlim([-2, 6])  # Adjust x axis here. \n",
    "foo = ax.set_ylim([24, 15])  # Adjust y axis here.\n",
    "foo = ax.set_xlabel('g - r')\n",
    "foo = ax.set_ylabel('r')\n",
    "foo = ax.set_title('Color-Magnitude of SDSS (DR{0:d}) Galaxies'.format(release))\n",
    "l = ax.legend(numpoints=1)"
   ]
  },
  {
   "cell_type": "markdown",
   "metadata": {},
   "source": [
    "Plot a color-color diagram.  The default plot limits should give a square plot."
   ]
  },
  {
   "cell_type": "code",
   "execution_count": null,
   "metadata": {},
   "outputs": [],
   "source": [
    "fig = plt.figure(dpi=100)\n",
    "ax = fig.add_subplot(111)\n",
    "p1 = ax.plot(mmg - mmr,\n",
    "             mmr - mmi,\n",
    "             label='model', linestyle='none',\n",
    "             marker=',', markeredgecolor='k', markerfacecolor='k')\n",
    "p2 = ax.plot(mmg[LOWZ] - mmr[LOWZ], \n",
    "             mmr[LOWZ] - mmi[LOWZ],\n",
    "             label='LOWZ', linestyle='none',\n",
    "             marker='s', markeredgecolor='g', markerfacecolor='none')\n",
    "p3 = ax.plot(mmg[CMASS] - mmr[CMASS], \n",
    "             mmr[CMASS] - mmi[CMASS],\n",
    "             label='CMASS', linestyle='none',\n",
    "             marker='o', markeredgecolor='r', markerfacecolor='none')\n",
    "foo = ax.set_xlim([-1, 4])  # Adjust x axis here. \n",
    "foo = ax.set_ylim([-1, 4])  # Adjust y axis here. \n",
    "foo = ax.set_xlabel('g - r')\n",
    "foo = ax.set_ylabel('r - i')\n",
    "foo = ax.set_title('Colors of SDSS (DR{:d}) Galaxies'.format(release))\n",
    "l = ax.legend(numpoints=1)"
   ]
  },
  {
   "cell_type": "markdown",
   "metadata": {},
   "source": [
    "## BOSS Galaxies in the SDSS Spectroscopic Catalog\n",
    "\n",
    "### Number of Objects\n",
    "\n",
    "How many objects are in the specObj table?"
   ]
  },
  {
   "cell_type": "code",
   "execution_count": null,
   "metadata": {},
   "outputs": [],
   "source": [
    "%%time\n",
    "q = \"SELECT COUNT(*) AS nrows FROM {0}.specobj\".format(schema)\n",
    "result = qc.query(adql=q, fmt='csv')\n",
    "print(result)"
   ]
  },
  {
   "cell_type": "markdown",
   "metadata": {},
   "source": [
    "### Select LOWZ and CMASS spectra.\n",
    "\n",
    "The [BOSS_TARGET1 bitmask](http://www.sdss.org/dr13/algorithms/bitmasks/#BOSS_TARGET1) makes this very easy.  SDSS [uses bitmasks extensively](http://www.sdss.org/dr13/algorithms/bitmasks/)!"
   ]
  },
  {
   "cell_type": "code",
   "execution_count": null,
   "metadata": {},
   "outputs": [],
   "source": [
    "%%time\n",
    "q = \"SELECT boss_target1 FROM {0}.specobj WHERE boss_target1 != 0 LIMIT 100000\".format(schema)\n",
    "try:\n",
    "    vot = qc.query(sql=q, fmt='votable')\n",
    "except Exception as e:\n",
    "    print(e.message)\n",
    "else:\n",
    "    result = parse_single_table(BytesIO(vot.encode('utf-8'))).array\n",
    "    boss_target1 = result['boss_target1']\n",
    "    print(boss_target1)"
   ]
  },
  {
   "cell_type": "markdown",
   "metadata": {},
   "source": [
    "How many of each type of target did we get?  The link to `BOSS_TARGET1` above gives the meaning of each value.  In many cases the individuals are bitwise-AND-ed together, since an object in the sky could be targeted for several reasons."
   ]
  },
  {
   "cell_type": "code",
   "execution_count": null,
   "metadata": {},
   "outputs": [],
   "source": [
    "for mask in (1, 5, 6, 9, 14, 15, 33, 41, 133, 134, 135, 140, 141, 142):\n",
    "    print(mask, (boss_target1 == mask).sum())"
   ]
  },
  {
   "cell_type": "markdown",
   "metadata": {},
   "source": [
    "Select LOWZ galaxies and print how many we found."
   ]
  },
  {
   "cell_type": "code",
   "execution_count": null,
   "metadata": {},
   "outputs": [],
   "source": [
    "%%time\n",
    "q_lowz = (\"SELECT specobjid, fluxobjid, bestobjid, plate, mjd, fiberid, z_noqso FROM {0}.specobj \" + \n",
    "          \"WHERE (boss_target1 & {1:d}) != 0 AND scienceprimary = 1 AND \" +\n",
    "          \"zwarning_noqso = 0 AND class_noqso = 'GALAXY' LIMIT 100000\").format(schema, 1)\n",
    "try:\n",
    "    vot = qc.query(sql=q_lowz, fmt='votable')\n",
    "except Exception as e:\n",
    "    print(e.message)\n",
    "else:\n",
    "    result = parse_single_table(BytesIO(vot.encode('utf-8'))).array\n",
    "    plate_lowz = result['plate']\n",
    "    mjd_lowz = result['mjd']\n",
    "    fiber_lowz = result['fiberid']\n",
    "    redshift_lowz = result['z_noqso']\n",
    "    print(len(redshift_lowz))"
   ]
  },
  {
   "cell_type": "markdown",
   "metadata": {},
   "source": [
    "Select CMASS galaxies and print how many we found."
   ]
  },
  {
   "cell_type": "code",
   "execution_count": null,
   "metadata": {},
   "outputs": [],
   "source": [
    "%%time\n",
    "q_cmass = (\"SELECT specobjid, fluxobjid, bestobjid, plate, mjd, fiberid, z_noqso FROM {0}.specobj \" + \n",
    "           \"WHERE (boss_target1 & {1:d}) != 0 AND scienceprimary = 1 AND \" +\n",
    "           \"zwarning_noqso = 0 AND class_noqso = 'GALAXY' LIMIT 100000\").format(schema, 2)\n",
    "try:\n",
    "    vot = qc.query(sql=q_cmass, fmt='votable')\n",
    "except Exception as e:\n",
    "    print(e.message)\n",
    "else:\n",
    "    result = parse_single_table(BytesIO(vot.encode('utf-8'))).array\n",
    "    plate_cmass = result['plate']\n",
    "    mjd_cmass = result['mjd']\n",
    "    fiber_cmass = result['fiberid']\n",
    "    redshift_cmass = result['z_noqso']\n",
    "    print(len(redshift_cmass))"
   ]
  },
  {
   "cell_type": "markdown",
   "metadata": {},
   "source": [
    "### Redshift Distribution\n",
    "\n",
    "Here's the redshift distribution of LOWZ and CMASS galaxies.  Note that the number of bins for CMASS is chosen so the bin *sizes* are approximately the same as the LOWZ sample (when the entire data set can be queried)."
   ]
  },
  {
   "cell_type": "code",
   "execution_count": null,
   "metadata": {},
   "outputs": [],
   "source": [
    "fig = plt.figure(dpi=100)\n",
    "ax = fig.add_subplot(111)\n",
    "n_lowz, bins_lowz, patches_lowz = ax.hist(redshift_lowz, 50, facecolor='green', alpha=0.5, label='LOWZ')\n",
    "n_cmass, bins_cmass, patches_cmass = ax.hist(redshift_cmass, 100, facecolor='red', alpha=0.5, label='CMASS')\n",
    "foo = ax.set_yscale('log')\n",
    "foo = ax.set_xlabel(\"redshift\")\n",
    "foo = ax.set_ylabel(\"N\")\n",
    "foo = ax.set_title(\"BOSS redshifts\")\n",
    "foo = ax.legend()"
   ]
  },
  {
   "cell_type": "markdown",
   "metadata": {},
   "source": [
    "### What's that? Some CMASS Galaxies have negative redshift?\n",
    "\n",
    "Let's actually take a look at these spectra.  The \"SkyServer\" link will show a simple spectrum along with an image of the targeted object.  The \"SAS\" link will show an interactive view of the spectrum with options to download the spectrum itself."
   ]
  },
  {
   "cell_type": "code",
   "execution_count": null,
   "metadata": {},
   "outputs": [],
   "source": [
    "rerun = 'v5_10_0'\n",
    "negative_z = (redshift_cmass >= bins_cmass[0]) & (redshift_cmass < bins_cmass[1])\n",
    "display(HTML('<ul>'))\n",
    "for p, m, f in zip(plate_cmass[negative_z], mjd_cmass[negative_z], fiber_cmass[negative_z]):\n",
    "    display(HTML(('<li>' +\n",
    "                  '<a href=\"https://skyserver.sdss.org/dr{0:d}/en/tools/explore/summary.aspx?plate={2}&mjd={3}&fiber={4}\">SkyServer: {2}, {3}, {4}</a></li>'.format(release, rerun, p, m, f) +\n",
    "                  '<a href=\"https://dr{0:d}.sdss.org/optical/spectrum/view?run2d={1}&plateid={2}&mjd={3}&fiberid={4}\">SAS: {2}, {3}, {4}</a>'.format(release, rerun, p, m, f) +\n",
    "                  '</li>')))\n",
    "display(HTML('</ul>'))"
   ]
  },
  {
   "cell_type": "markdown",
   "metadata": {},
   "source": [
    "After looking at a few of these, you may notice (from the \"SkyServer\" link) that a number of them are point-like, red objects that are close to a brighter object.  A plausible hypothesis is that CMASS color selection doesn't work so great when a nearby, brighter object might be contaminating the photometry, thus making it harder to distinguish LRGs from M stars."
   ]
  },
  {
   "cell_type": "markdown",
   "metadata": {},
   "source": [
    "## Plotting SDSS Spectra\n",
    "\n",
    "In addition to databases that contain the SDSS catalog data, NOIRLab Astro Data Lab will also contain the images and spectra themselves.  In fact, some spectroscopic data is already in the NOIRLab archive, so we can plot it directly from a Data Lab notebook!\n",
    "\n",
    "First, we need some helper functions."
   ]
  },
  {
   "cell_type": "code",
   "execution_count": null,
   "metadata": {},
   "outputs": [],
   "source": [
    "def extract_spectrum(plate, mjd, fiber, run2d='v5_10_0', release=14, sas='sdss_dr14://'):\n",
    "    \"\"\"Extract a spectrum from a spPlate file.\n",
    "    \n",
    "    Parameters\n",
    "    ----------\n",
    "    plate : :class:`int`\n",
    "        Plate of observation.\n",
    "    mjd : :class:`int`\n",
    "        MJD of observation.\n",
    "    fiber : :class:`int`\n",
    "        Fiber number.\n",
    "    run2d : :class:`str`, optional\n",
    "        Reduction id.\n",
    "    release : :class:`int`, optional\n",
    "        Data release number.\n",
    "    sas : :class:`str`, optional\n",
    "        Root path to SDSS data.\n",
    "    \n",
    "    Returns\n",
    "    -------\n",
    "    :func:`tuple`\n",
    "        A tuple containing wavelength, flux, inverse variance of flux, and sky spectrum.\n",
    "    \"\"\"\n",
    "    vopath = \"{0}sdss/spectro/redux/{1}/{2:04d}/spPlate-{2:04d}-{3:05d}.fits\".format(sas, run2d, plate, mjd)\n",
    "    with fits.open(sc.get(vopath, mode='fileobj')) as hdulist:\n",
    "        hdr = hdulist[0].header\n",
    "        flux = hdulist[0].data[fiber-1, :]\n",
    "        ivar = hdulist[1].data[fiber-1, :]\n",
    "        sky = hdulist[6].data[fiber-1, :]\n",
    "    loglam = hdr['COEFF0'] + hdr['COEFF1']*np.arange(hdr['NAXIS1'], dtype=flux.dtype)\n",
    "    wavelength = 10.0**loglam\n",
    "    return wavelength, flux, ivar, sky\n",
    "\n",
    "\n",
    "def plot_spectrum(plate, mjd, fiber, showsky=False, **kwargs):\n",
    "    \"\"\"Simple SDSS/BOSS spectrum plot.\n",
    "    \n",
    "    Parameters\n",
    "    ----------\n",
    "    plate : :class:`int`\n",
    "        Plate of observation.\n",
    "    mjd : :class:`int`\n",
    "        MJD of observation.\n",
    "    fiber : :class:`int`\n",
    "        Fiber number.\n",
    "    showsky : :class:`bool`, optional\n",
    "        If ``True``, plot the sky spectrum\n",
    "    \"\"\"\n",
    "    wavelength, flux, ivar, sky = extract_spectrum(plate, mjd, fiber, **kwargs)\n",
    "    fig = plt.figure(dpi=100)\n",
    "    ax = fig.add_subplot(111)\n",
    "    p0 = ax.plot(wavelength, flux, 'k-', linewidth=1, label='OBJECT')\n",
    "    if showsky:\n",
    "        p1 = ax.plot(wavelength, sky, 'm-', linewidth=1, label='SKY')\n",
    "    foo = ax.set_title(\"plate-mjd-fiber: {0:04d}-{1:05d}-{2:04d}\".format(plate, mjd, fiber))\n",
    "    foo = ax.set_xlabel(\"Wavelength [Å]\")\n",
    "    foo = ax.set_ylabel(r\"Flux [$10^{-17} \\; \\mathrm{erg} \\; \\mathrm{cm}^{-2} \\; \\mathrm{s}^{-1} \\; \\mathrm{\\AA}^{-1}$]\")\n",
    "    l = ax.legend()"
   ]
  },
  {
   "cell_type": "markdown",
   "metadata": {},
   "source": [
    "First, some spectra that, like the previous list, were targeted as distant galaxies but have very low redshift.  You can get a better view of these spectra from the links above, but this demonstrates the fun fact that many BOSS spectra are *fainter* than the sky!"
   ]
  },
  {
   "cell_type": "code",
   "execution_count": null,
   "metadata": {},
   "outputs": [],
   "source": [
    "plot_spectrum(4202, 55445, 3, showsky=True)"
   ]
  },
  {
   "cell_type": "markdown",
   "metadata": {},
   "source": [
    "Here's another of the same type.  If you look in the 6000 - 8000 Å range, you can see some features that resemble certain M stars."
   ]
  },
  {
   "cell_type": "code",
   "execution_count": null,
   "metadata": {},
   "outputs": [],
   "source": [
    "plot_spectrum(4203, 55447, 651)"
   ]
  },
  {
   "cell_type": "markdown",
   "metadata": {},
   "source": [
    "Here's a \"classic\" LRG at redshift 0.67 (which was actually targeted as LOWZ!)."
   ]
  },
  {
   "cell_type": "code",
   "execution_count": null,
   "metadata": {},
   "outputs": [],
   "source": [
    "plot_spectrum(4055, 55359, 408)"
   ]
  },
  {
   "cell_type": "markdown",
   "metadata": {},
   "source": [
    "## Display SDSS Images\n",
    "\n",
    "Here we will gain some practice plotting corrected frame images in Data Lab.  The original image is [here](https://dr12.sdss.org/fields/runCamcolField?field=13&camcol=1&run=6122).  \"Corrected frames\" are images that have been both sky-subtracted and calibrated such that individual pixels have physical flux units.  In the case of SDSS images the units are [nanomaggies](https://www.sdss.org/dr15/help/glossary/#nanomaggie).  The SDSS corrected frames are described [here](https://data.sdss.org/datamodel/files/BOSS_PHOTOOBJ/frames/RERUN/RUN/CAMCOL/frame.html).\n",
    "\n",
    "First, some utility functions for extracting the images."
   ]
  },
  {
   "cell_type": "code",
   "execution_count": null,
   "metadata": {},
   "outputs": [],
   "source": [
    "def asinh_image(image, band='r'):\n",
    "    \"\"\"Convert an image in nanomaggies into asinh magnitudes.\n",
    "    \n",
    "    Parameters\n",
    "    ----------\n",
    "    image : :class:`numpy.ndarray`\n",
    "        Image data, read from *e.g.* a SDSS-III corrected frame file.\n",
    "    band : :class:`str`, optional\n",
    "        Filter band, default *r*.\n",
    "    \n",
    "    Returns\n",
    "    -------\n",
    "    :class:`numpy.ndarray`\n",
    "        Image data converted to asinh magnitudes.\n",
    "    \"\"\"\n",
    "    C = -2.5/np.log(10.0)\n",
    "    b = dict(u=1.4e-10, g=0.9e-10, r=1.2e-10, i=1.8e-10, z=7.4e-10)\n",
    "    mag = C*(np.arcsinh((image*1.0e-9)/(2.0*b[band])) + np.log(b[band]))\n",
    "    return mag\n",
    "\n",
    "# Reading the files is an expensive operation, so cache the results.\n",
    "extract_frame_cache = dict()\n",
    "\n",
    "\n",
    "def extract_frame(run, camcol, field, band, sas='sdss_dr14://'):\n",
    "    \"\"\"Obtain image data from a SDSS corrected frame, which may be at a remote location.\n",
    "\n",
    "    Parameters\n",
    "    ----------\n",
    "    run : :class:`int`\n",
    "        Run number.\n",
    "    camcol : :class:`int`\n",
    "        Column number.\n",
    "    field : :class:`int`\n",
    "        Field number\n",
    "    band : :class:`str`\n",
    "        Filter band.\n",
    "    sas : :class:`str`, optional\n",
    "        Root path to SDSS data.\n",
    "    \n",
    "    Returns\n",
    "    -------\n",
    "    :class:`numpy.ndarray`\n",
    "        Image data.\n",
    "    \"\"\"\n",
    "    fm = '{0}eboss/photoObj/frames/301/{1:d}/{2:d}/frame-{3}-{1:06d}-{2:d}-{4:04d}.fits.bz2'.format(sas, run, camcol, band, field)\n",
    "    if fm not in extract_frame_cache:\n",
    "        with BZ2File(BytesIO(sc.get(fm, mode='binary'))) as cf:\n",
    "            with fits.open(cf) as hdulist:\n",
    "                extract_frame_cache[fm] = hdulist[0].data\n",
    "    return extract_frame_cache[fm]\n",
    "\n",
    "\n",
    "def display_frame(run, camcol, field, band, asinh=False, invert=False, **kwargs):\n",
    "    \"\"\"Display a SDSS corrected frame.\n",
    "    \n",
    "    Parameters\n",
    "    ----------\n",
    "    run : :class:`int`\n",
    "        Run number.\n",
    "    camcol : :class:`int`\n",
    "        Column number.\n",
    "    field : :class:`int`\n",
    "        Field number.\n",
    "    band : :class:`str`\n",
    "        Filter band.\n",
    "    asinh : :class:`bool`, optional\n",
    "        If ``True``, pixel values will be converted to asinh magnitudes.\n",
    "    invert : :class:`bool`, optional\n",
    "        If ``True`` display an inverted grayscale image.\n",
    "    sas : :class:`str`, optional\n",
    "        Root path to SDSS data.\n",
    "\n",
    "    Returns\n",
    "    -------\n",
    "    :func:`tuple`\n",
    "         Handles to the figure, image and colorbar.\n",
    "    \"\"\"\n",
    "    color_map = 'gray_r'\n",
    "    if invert:\n",
    "        color_map = 'gray'\n",
    "    image = extract_frame(run, camcol, field, band, **kwargs)\n",
    "    clim=(0.0, 1.0)\n",
    "    if asinh:\n",
    "        image = asinh_image(image, band=band)\n",
    "        clim=(26, 18)\n",
    "    fig = plt.figure(dpi=100)\n",
    "    im = plt.imshow(image, cmap=color_map, clim=clim, origin='lower')\n",
    "    foo = im.axes.set_title('frame-{0}-{1:06d}-{2:d}-{3:04d}.fits'.format(band, run, camcol, field))\n",
    "    cb = plt.colorbar()\n",
    "    return fig, im, cb"
   ]
  },
  {
   "cell_type": "markdown",
   "metadata": {},
   "source": [
    "Start with *r* band, with no special display options, except we invert the grayscale so the sky is dark."
   ]
  },
  {
   "cell_type": "code",
   "execution_count": null,
   "metadata": {},
   "outputs": [],
   "source": [
    "fig, im, cb = display_frame(6122, 1, 13, 'r', invert=True)"
   ]
  },
  {
   "cell_type": "markdown",
   "metadata": {},
   "source": [
    "Display a histogram of the pixels.  We demonstrate the histogram to justify the grayscale limits in the function above.  In this case, the vast majority of pixels are in the range `[0, 1]`."
   ]
  },
  {
   "cell_type": "code",
   "execution_count": null,
   "metadata": {},
   "outputs": [],
   "source": [
    "image = im.get_array().data\n",
    "fig = plt.figure(dpi=100)\n",
    "ax = fig.add_subplot(111)\n",
    "n, bins, patches = ax.hist(image.flatten(), bins=1000, facecolor='k', edgecolor='k')\n",
    "foo = ax.set_xscale('log')\n",
    "foo = ax.set_yscale('log')\n",
    "foo = ax.set_xlabel('Pixel Flux [nanomaggies]')\n",
    "foo = ax.set_ylabel('N')\n",
    "foo = ax.set_title('frame-r-006122-1-0013.fits')"
   ]
  },
  {
   "cell_type": "markdown",
   "metadata": {},
   "source": [
    "Now, display an image with the pixels converted to magnitude units.  We don't need to invert this image because larger magnitude is darker."
   ]
  },
  {
   "cell_type": "code",
   "execution_count": null,
   "metadata": {},
   "outputs": [],
   "source": [
    "fig, im, cb = display_frame(6122, 1, 13, 'r', asinh=True)"
   ]
  },
  {
   "cell_type": "markdown",
   "metadata": {},
   "source": [
    "Similarly histogram the pixels."
   ]
  },
  {
   "cell_type": "code",
   "execution_count": null,
   "metadata": {},
   "outputs": [],
   "source": [
    "mag_image = im.get_array().data\n",
    "fig = plt.figure(dpi=100)\n",
    "ax = fig.add_subplot(111)\n",
    "n, bins, patches = ax.hist(mag_image.flatten(), bins=1000, facecolor='k', edgecolor='k')\n",
    "foo = ax.set_yscale('log')\n",
    "foo = ax.set_xlabel('Pixel Magnitude [asinh magnitude]')\n",
    "foo = ax.set_ylabel('N')\n",
    "foo = ax.set_title('frame-r-006122-1-0013.fits')"
   ]
  },
  {
   "cell_type": "markdown",
   "metadata": {},
   "source": [
    "Invert the magnitude image."
   ]
  },
  {
   "cell_type": "code",
   "execution_count": null,
   "metadata": {},
   "outputs": [],
   "source": [
    "fig, im, cb = display_frame(6122, 1, 13, 'r', asinh=True, invert=True)"
   ]
  },
  {
   "cell_type": "markdown",
   "metadata": {},
   "source": [
    "And take a look at the other colors."
   ]
  },
  {
   "cell_type": "code",
   "execution_count": null,
   "metadata": {},
   "outputs": [],
   "source": [
    "foo = display_frame(6122, 1, 13, 'u', asinh=True)"
   ]
  },
  {
   "cell_type": "code",
   "execution_count": null,
   "metadata": {},
   "outputs": [],
   "source": [
    "foo = display_frame(6122, 1, 13, 'g', asinh=True)"
   ]
  },
  {
   "cell_type": "code",
   "execution_count": null,
   "metadata": {},
   "outputs": [],
   "source": [
    "foo = display_frame(6122, 1, 13, 'g', asinh=True, invert=True)"
   ]
  },
  {
   "cell_type": "code",
   "execution_count": null,
   "metadata": {},
   "outputs": [],
   "source": [
    "foo = display_frame(6122, 1, 13, 'i', asinh=True)"
   ]
  },
  {
   "cell_type": "code",
   "execution_count": null,
   "metadata": {},
   "outputs": [],
   "source": [
    "foo = display_frame(6122, 1, 13, 'z', asinh=True)"
   ]
  },
  {
   "cell_type": "markdown",
   "metadata": {},
   "source": [
    "## Resources & References\n",
    "\n",
    "* BOSS: [Kyle S. Dawson, *et al.*, \"The Baryon Oscillation Spectroscopic Survey of SDSS-III,\" *Astron. J.* **145** (2013) 10.](http://adsabs.harvard.edu/abs/2013AJ....145...10D)\n",
    "* eBOSS: [Kyle S. Dawson, *et al.*, \"The SDSS-IV extended Baryon Oscillation Spectroscopic Survey: Overview and Early Data,\" *Astron. J.* **151** (2016) 44.](http://adsabs.harvard.edu/abs/2016AJ....151...44D)\n",
    "* SDSS-IV: [Michael R. Blanton, *et al.*, \"Sloan Digital Sky Survey IV: Mapping the Milky Way, Nearby Galaxies and the Distant Universe,\" *Astron. J.* **154** (2017) 28.](http://adsabs.harvard.edu/abs/2017AJ....154...28B)\n",
    "* DR13: [Franco D. Albareti, *et al.*, \"The 13th Data Release of the Sloan Digital Sky Survey: First Spectroscopic Data from the SDSS-IV Survey Mapping Nearby Galaxies at Apache Point Observatory,\" *Astrophys. J. Supp.* **233** (2017) 25.](http://adsabs.harvard.edu/abs/2017ApJS..233...25A)\n",
    "* DR14: [Bela Abolfathi, *et al.*, \"The Fourteenth Data Release of the Sloan Digital Sky Survey: First Spectroscopic Data from the extended Baryon Oscillation Spectroscopic Survey and from the Second Phase of the Apache Point Observatory Galactic Evolution Experiment,\" *Astrophys. J. Supp.* **235** (2018) 42.](http://adsabs.harvard.edu/abs/2018ApJS..235...42A)"
   ]
  }
 ],
 "metadata": {
  "anaconda-cloud": {},
  "kernelspec": {
   "display_name": "Python 3",
   "language": "python",
   "name": "python3"
  },
  "language_info": {
   "codemirror_mode": {
    "name": "ipython",
    "version": 3
   },
   "file_extension": ".py",
   "mimetype": "text/x-python",
   "name": "python",
   "nbconvert_exporter": "python",
   "pygments_lexer": "ipython3",
   "version": "3.7.4"
  }
 },
 "nbformat": 4,
 "nbformat_minor": 4
}
