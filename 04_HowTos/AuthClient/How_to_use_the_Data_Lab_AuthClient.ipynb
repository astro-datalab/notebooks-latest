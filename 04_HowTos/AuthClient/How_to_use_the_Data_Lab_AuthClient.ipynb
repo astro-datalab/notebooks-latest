{
 "cells": [
  {
   "cell_type": "code",
   "execution_count": 1,
   "metadata": {},
   "outputs": [],
   "source": [
    "__author__ = 'Mike Fitzpatrick <mike.fitzpatrick@noirlab.edu>, Robert Nikutta <robert.nikutta@noirlab.edu>'\n",
    "__version__ = '20240603' #yyyymmdd\n",
    "__datasets__ = []\n",
    "__keywords__ = []"
   ]
  },
  {
   "cell_type": "markdown",
   "metadata": {},
   "source": [
    "# How to use the Data Lab *Auth Client* Service\n",
    "*Mike Fitzpatrick, Robert Nikutta, and the Astro Data Lab Team*"
   ]
  },
  {
   "cell_type": "markdown",
   "metadata": {},
   "source": [
    "# Goals\n",
    "To demonstrate the use of the Data Lab ``authClient`` API (login, logout, token validity checks, etc.)"
   ]
  },
  {
   "cell_type": "markdown",
   "metadata": {},
   "source": [
    "# Summary\n",
    "This notebook documents how to use the Data Lab authorization system via the *Auth Client* service. This can be done either from a Python script or from the command line using the <i>datalab</i> command.\n",
    "\n",
    "While most Data Lab services may be accessed anonymously, others require a valid user account in order to take advantage of resources such as <i>Virtual Storage</i> or <i>Compute Services</i>.  User accounts may be created on the main Data Lab website and are not discussed here.\n",
    "\n",
    "Assuming an account has been created, the <i><b>authClient</b></i> interface can be used to authenticate yourself to the Data Lab to obtain an identity token used to access the resources allocated to the account.  This is typically the first step in any notebook or application, the returned token is then passed to every other interface method that requires authenticated access to a resource or service.\n",
    "\n",
    "A complete summary of the *AuthClient* interface is given below."
   ]
  },
  {
   "cell_type": "markdown",
   "metadata": {},
   "source": [
    "# Disclaimer & attribution\n",
    "\n",
    "Disclaimers\n",
    "-----------\n",
    "Note that using the Astro Data Lab constitutes your agreement with our minimal [Disclaimers](https://datalab.noirlab.edu/disclaimers.php).\n",
    "\n",
    "Acknowledgments\n",
    "---------------\n",
    "If you use **Astro Data Lab** in your published research, please include the text in your paper's Acknowledgments section:\n",
    "\n",
    "_This research uses services or data provided by the Astro Data Lab, which is part of the Community Science and Data Center (CSDC) Program of NSF NOIRLab. NOIRLab is operated by the Association of Universities for Research in Astronomy (AURA), Inc. under a cooperative agreement with the U.S. National Science Foundation._\n",
    "\n",
    "If you use **SPARCL jointly with the Astro Data Lab platform** (via JupyterLab, command-line, or web interface) in your published research, please include this text below in your paper's Acknowledgments section:\n",
    "\n",
    "_This research uses services or data provided by the SPectra Analysis and Retrievable Catalog Lab (SPARCL) and the Astro Data Lab, which are both part of the Community Science and Data Center (CSDC) Program of NSF NOIRLab. NOIRLab is operated by the Association of Universities for Research in Astronomy (AURA), Inc. under a cooperative agreement with the U.S. National Science Foundation._\n",
    "\n",
    "In either case **please cite the following papers**:\n",
    "\n",
    "* Data Lab concept paper: Fitzpatrick et al., \"The NOAO Data Laboratory: a conceptual overview\", SPIE, 9149, 2014, https://doi.org/10.1117/12.2057445\n",
    "\n",
    "* Astro Data Lab overview: Nikutta et al., \"Data Lab - A Community Science Platform\", Astronomy and Computing, 33, 2020, https://doi.org/10.1016/j.ascom.2020.100411\n",
    "\n",
    "If you are referring to the Data Lab JupyterLab / Jupyter Notebooks, cite:\n",
    "\n",
    "* Juneau et al., \"Jupyter-Enabled Astrophysical Analysis Using Data-Proximate Computing Platforms\", CiSE, 23, 15, 2021, https://doi.org/10.1109/MCSE.2021.3057097\n",
    "\n",
    "If publishing in a AAS journal, also add the keyword: `\\facility{Astro Data Lab}`\n",
    "\n",
    "And if you are using SPARCL, please also add `\\software{SPARCL}` and cite:\n",
    "\n",
    "* Juneau et al., \"SPARCL: SPectra Analysis and Retrievable Catalog Lab\", Conference Proceedings for ADASS XXXIII, 2024\n",
    "https://doi.org/10.48550/arXiv.2401.05576\n",
    "\n",
    "The NOIRLab Library maintains [lists of proper acknowledgments](https://noirlab.edu/science/about/scientific-acknowledgments) to use when publishing papers using the Lab's facilities, data, or services."
   ]
  },
  {
   "cell_type": "markdown",
   "metadata": {},
   "source": [
    "# Imports\n",
    "\n",
    "Most notebooks will begin by importing whatever packages are required. In this case we'll want to import the ``authClient`` interface from the ``dl`` (i.e. Data Lab) package."
   ]
  },
  {
   "cell_type": "code",
   "execution_count": 2,
   "metadata": {},
   "outputs": [],
   "source": [
    "from getpass import getpass\n",
    "from dl import authClient as ac, queryClient as qc"
   ]
  },
  {
   "cell_type": "markdown",
   "metadata": {},
   "source": [
    "The next step is to call the ``login()`` method with your account name and password to obtain an identity token:"
   ]
  },
  {
   "cell_type": "code",
   "execution_count": 3,
   "metadata": {},
   "outputs": [
    {
     "name": "stdin",
     "output_type": "stream",
     "text": [
      "Enter user name: (+ENTER)  demo00\n",
      "Enter password: (+ENTER)  ·······\n"
     ]
    },
    {
     "name": "stdout",
     "output_type": "stream",
     "text": [
      "Login token:   demo00.1018.1018.$1$LXsNrBh.$kSlN0QCwdRipDVVmczno60\n"
     ]
    }
   ],
   "source": [
    "# Login using your user name and password, validate the returned\n",
    "# token or else print the returned error message.\n",
    "token = ac.login(input(\"Enter user name: (+ENTER) \"),getpass(\"Enter password: (+ENTER) \"))\n",
    "ac.whoAmI()\n",
    "if not ac.isValidToken(token):\n",
    "    print('Error: invalid login for user %s (%s)' % (username,token))\n",
    "else:\n",
    "    print(\"Login token:   %s\" % token)"
   ]
  },
  {
   "cell_type": "markdown",
   "metadata": {},
   "source": [
    "The `login()` method will return either a valid token or an error message.  By calling the `isValidToken()` method it is possible to trap any login errors in the task.  The use of the ``getpass()`` function means passwords do not need to be exposed and notebooks can be shared more freely."
   ]
  },
  {
   "cell_type": "markdown",
   "metadata": {},
   "source": [
    "<font color='red'><h4>Security Note</h4></font>\n",
    "\n",
    "<font color='green'>\n",
    "Once you have logged in successfully, an identity token is saved on the server running the application (the Jupyter notebook server in this case) and will be offered for subsequent logins when no password is provided.  This means that notebooks may be shared to use a valid account without sharing the password in the notebook.  You can use the `logout()` method (see below) to remove this token from the server manually, but as an added precaution, tokens will not be used on public notebook servers, and the password will <b>always</b> be required when attempting to login as some user other than the logged-in user on authenticated notebook servers.\n",
    "</font>"
   ]
  },
  {
   "cell_type": "code",
   "execution_count": 4,
   "metadata": {},
   "outputs": [
    {
     "name": "stdout",
     "output_type": "stream",
     "text": [
      "New login token: anonymous.0.0.anon_access\n",
      "Is new token valid?  True\n"
     ]
    }
   ],
   "source": [
    "# An example of using the stored token to login to the Data Lab\n",
    "tok2 = ac.login('anonymous')\n",
    "print('New login token: %s' % tok2)\n",
    "print('Is new token valid?  %s' % ac.isValidToken(tok2))"
   ]
  },
  {
   "cell_type": "markdown",
   "metadata": {},
   "source": [
    "#### Additional Interface Methods\n",
    "\n",
    "Users can check whether specific account information is correct:"
   ]
  },
  {
   "cell_type": "code",
   "execution_count": 5,
   "metadata": {},
   "outputs": [
    {
     "name": "stdout",
     "output_type": "stream",
     "text": [
      "Is \"demo00\" a valid user?  True\n",
      "Is \"foobar\" the current password?  False\n",
      "Do we have a valid login token?  True\n"
     ]
    }
   ],
   "source": [
    "print('Is \"demo00\" a valid user?  %s' % ac.isValidUser('demo00'))\n",
    "print('Is \"foobar\" the current password?  %s' % ac.isValidPassword('demo00','foobar'))\n",
    "print('Do we have a valid login token?  %s' % ac.isValidToken(token))"
   ]
  },
  {
   "cell_type": "markdown",
   "metadata": {},
   "source": [
    "Users can also check on their login status using either the account name or the current token:"
   ]
  },
  {
   "cell_type": "code",
   "execution_count": 6,
   "metadata": {},
   "outputs": [
    {
     "name": "stdout",
     "output_type": "stream",
     "text": [
      "Is user \"dldemo\" currently logged-in?  True\n",
      "Is my token currently logged-in:  True\n",
      "Is user \"Scooby\" currently logged-in?  False\n"
     ]
    }
   ],
   "source": [
    "print('Is user \"dldemo\" currently logged-in?  %s' % ac.isUserLoggedIn ('demo00'))\n",
    "print('Is my token currently logged-in:  %s' % ac.isTokenLoggedIn (token))\n",
    "print('Is user \"Scooby\" currently logged-in?  %s' % ac.isUserLoggedIn ('Scooby'))"
   ]
  },
  {
   "cell_type": "markdown",
   "metadata": {},
   "source": [
    "#### Logging <i>Out</i> of the Data Lab\n",
    "\n",
    "The `logout()` method is used to log the user out of the Data Lab and remove the identity token from the server.  Strictly speaking, it is not required that an application log out once it is complete, subsequent logins will return the same identity token the next time you log in so long as it is still valid (e.g. you haven't logged out elsewhere)"
   ]
  },
  {
   "cell_type": "code",
   "execution_count": 7,
   "metadata": {},
   "outputs": [
    {
     "name": "stdout",
     "output_type": "stream",
     "text": [
      "Is token logged in:  True\n",
      "Log out result = \"OK\"\n",
      "Is token logged in following logout():  False\n"
     ]
    }
   ],
   "source": [
    "# Log out the current user and remove the identity token.\n",
    "print ('Is token logged in: ', ac.isTokenLoggedIn(token))\n",
    "res = ac.logout(token)\n",
    "print('Log out result = \"%s\"'% res)\n",
    "print('Is token logged in following logout(): ', ac.isTokenLoggedIn(token))"
   ]
  },
  {
   "cell_type": "markdown",
   "metadata": {},
   "source": [
    "### Example:  Anonymous Data Query\n",
    "\n",
    "All public data services may be accessed anonymously, when queried in this way data will always be returned immediately to the client.  When saving results to a Data Lab resource such as virtual storage, however, a valid user login token is required."
   ]
  },
  {
   "cell_type": "code",
   "execution_count": 8,
   "metadata": {},
   "outputs": [
    {
     "name": "stdout",
     "output_type": "stream",
     "text": [
      "id,raj2000,dej2000,htm9,nest256,ring256,bmag,rmag,epoch,raj2000_,dej2000_,actflag,mflag\n",
      "1200-16738677,314.9983,35.267575,3407871,212220,167296,16.7,15.1,1951.517,20:59:59.592,+35:16:03.27, , \n",
      "1200-16737889,314.994803,35.267942,3407871,212220,167296,17.2,16.3,1951.517,20:59:58.753,+35:16:04.59, , \n",
      "1200-16740156,315.005123,35.270559,3407871,212220,167296,19.7,18.8,1951.517,21:00:01.230,+35:16:14.01, , \n",
      "\n"
     ]
    }
   ],
   "source": [
    "#anon_token = ac.login('anonymous')\n",
    "#print(anon_token)\n",
    "query = \"select * from usno.a2 limit 3\"\n",
    "#response = qc.query(anon_token, adql=query, fmt='csv', output='foo.csv')\n",
    "response = qc.query(sql=query)\n",
    "print(response)"
   ]
  },
  {
   "cell_type": "markdown",
   "metadata": {},
   "source": [
    "### Example:  Saving Results to Virtual Storage\n",
    "\n",
    "Details of using the Virtual Storage system are described elsewhere, but in general the term *Virtual Storage* is used to refer to either a user's private database (their *MyDB*), or a remote file storage service that resides close to the data services.  *Virtual Storage* is used to allow workflows to be created that minimize the transfer of data.  \n",
    "\n",
    "#### Saving to the remote file storage\n",
    "\n",
    "Saving results to a file can be done by specifying the 'out' parameter in the form:\n",
    "\n",
    "`vos://<filename>`\n",
    "\n",
    "The `<filename>` must be unique for each query or else an error will be issued and the results will not be saved.  Therefore, good coding style would trap potential errors and handle it accordingly, e.g."
   ]
  },
  {
   "cell_type": "code",
   "execution_count": 9,
   "metadata": {},
   "outputs": [
    {
     "name": "stdout",
     "output_type": "stream",
     "text": [
      "OK\n"
     ]
    }
   ],
   "source": [
    "query = \"select * from usno.b1 limit 20\"\n",
    "try:\n",
    "    response = qc.query(token, adql=query, fmt='csv', out='vos://mags.csv')\n",
    "except Exception as e:\n",
    "    # Handle any errors in the query.  By running this cell multiple times with the same\n",
    "    # output file, or by using a bogus SQL statement, you can view various error messages.\n",
    "    print(e)\n",
    "else:\n",
    "    if response is not None: \n",
    "        print(response)           # print the response\n",
    "    else:\n",
    "        print(\"OK\")"
   ]
  },
  {
   "cell_type": "markdown",
   "metadata": {},
   "source": [
    "#### Saving to the user's remote database\n",
    "\n",
    "Similarly, results may be saved to a user's MyDB database by specifying a table name of the form:\n",
    "\n",
    "`mydb://<tablename>`\n",
    "\n",
    "As with filenames, the `<tablename>` must be unique."
   ]
  },
  {
   "cell_type": "code",
   "execution_count": 10,
   "metadata": {},
   "outputs": [
    {
     "name": "stdout",
     "output_type": "stream",
     "text": [
      "OK\n"
     ]
    }
   ],
   "source": [
    "# Drop the test table if it already exists\n",
    "qc.mydb_drop('usno_test',token=token)\n",
    "\n",
    "query = \"select * from usno.b1 limit 1000\"\n",
    "try:\n",
    "    response = qc.query (token, adql=query, fmt='csv', out='mydb://test1')\n",
    "except Exception as e:\n",
    "    # Handle any errors in the query.  By running this cell multiple times with the same\n",
    "    # output file, or by using a bogus SQL statement, you can view various error messages.\n",
    "    print(e)\n",
    "else:\n",
    "    if response is not None: \n",
    "        print(response)           # print the response\n",
    "    else:\n",
    "        print(\"OK\")"
   ]
  },
  {
   "cell_type": "markdown",
   "metadata": {},
   "source": [
    "***\n",
    "\n",
    "### Auth Client API Summary\n",
    "\n",
    "A summary of the complete *AuthClient* API is shown below:\n",
    "\n",
    "```\n",
    "LOGIN METHODS:\n",
    "--------------\n",
    "             token = login  (user, password=None, debug=False, verbose=False)\n",
    "               res =logout  (token)\n",
    "\n",
    "VALIDATION METHODS:\n",
    "-------------------\n",
    "            bval = isAlive  (svc_url=DEF_SERVICE_URL)\n",
    "       bval = isValidToken  (token)\n",
    "        bval = isValidUser  (user)\n",
    "    bval = isValidPassword  (user, password)\n",
    "\n",
    "ACCESS METHODS:\n",
    "---------------\n",
    "          bval = hasAccess  (user, resource)\n",
    "     bval = isUserLoggedIn  (user)\n",
    "    bval = isTokenLoggedIn  (token)\n",
    "\n",
    "ACCOUNT ADMIN METHODS:\n",
    "----------------------\n",
    " new_token = passwordReset  (token, username, password)\n",
    "\n",
    "         url = set_service  (svc_url)\n",
    "               get_service  ()\n",
    "\n",
    "               set_profile  (profile)\n",
    "profile_name = get_profile  ()\n",
    " prof_list = list_profiles  (token)\n",
    "\n",
    "To instantiate a Client object:\n",
    "\n",
    "    authClient = getClient  ()\n",
    "```"
   ]
  }
 ],
 "metadata": {
  "anaconda-cloud": {},
  "kernelspec": {
   "display_name": "Python 3",
   "language": "python",
   "name": "python3"
  },
  "language_info": {
   "codemirror_mode": {
    "name": "ipython",
    "version": 3
   },
   "file_extension": ".py",
   "mimetype": "text/x-python",
   "name": "python",
   "nbconvert_exporter": "python",
   "pygments_lexer": "ipython3",
   "version": "3.8.8"
  }
 },
 "nbformat": 4,
 "nbformat_minor": 4
}
