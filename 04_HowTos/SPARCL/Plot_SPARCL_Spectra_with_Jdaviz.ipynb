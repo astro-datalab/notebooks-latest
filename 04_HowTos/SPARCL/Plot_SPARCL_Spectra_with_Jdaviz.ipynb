{
 "cells": [
  {
   "cell_type": "code",
   "execution_count": 1,
   "id": "0d6d67d9-3c55-455a-bfae-0a7f9ec27a02",
   "metadata": {
    "execution": {
     "iopub.execute_input": "2023-10-10T19:54:13.318003Z",
     "iopub.status.busy": "2023-10-10T19:54:13.317572Z",
     "iopub.status.idle": "2023-10-10T19:54:13.333880Z",
     "shell.execute_reply": "2023-10-10T19:54:13.332480Z",
     "shell.execute_reply.started": "2023-10-10T19:54:13.317955Z"
    }
   },
   "outputs": [],
   "source": [
    "__author__ = 'Camilla Pacifici, Brett Morris, Benjamin Weaver <benjamin.weaver@noirlab.edu>, Alice Jacques <alice.jacques@noirlab.edu>'\n",
    "__version__ = '20231010' # yyyymmdd\n",
    "__datasets__ = ['desi_edr']  \n",
    "__keywords__ = ['sparcl', 'jdaviz', 'specutils', 'spectroscopy', 'desi spectra', 'tutorial']"
   ]
  },
  {
   "cell_type": "markdown",
   "id": "e1cc9c08",
   "metadata": {},
   "source": [
    "# SPARCL + Jdaviz"
   ]
  },
  {
   "cell_type": "markdown",
   "id": "30a657a1-dfac-49ea-9122-ff7d069eaa87",
   "metadata": {},
   "source": [
    "### Table of contents\n",
    "* [Goals](#goals)\n",
    "* [Introduction](#intro)\n",
    "* [Disclaimer & attribution](#disclaimer)\n",
    "* [Imports and setup](#imports)\n",
    "* [Search for spectra in SPARCL](#searchsparcl)\n",
    "* [Retrieve spectra from SPARCL and prepare plot data](#retrievesparcl)\n",
    "* [Plot spectra using Jdaviz](#plotjdaviz)"
   ]
  },
  {
   "cell_type": "markdown",
   "id": "f3d113f9-0f79-4221-b843-84b07555be08",
   "metadata": {},
   "source": [
    "<a class=\"anchor\" id=\"goals\"></a>\n",
    "## Goals\n",
    "\n",
    "* Search for and obtain spectra from DESI EDR using the [NOIRLab SPARCL service](https://astrosparcl.datalab.noirlab.edu)\n",
    "* Plot spectra using the [Jdaviz](https://jdaviz.readthedocs.io/en/latest/index.html) data analysis visualization tool"
   ]
  },
  {
   "cell_type": "markdown",
   "id": "934ba639-42a1-4649-a64b-25f8d33c9ad0",
   "metadata": {},
   "source": [
    "<a class=\"anchor\" id=\"intro\"></a>\n",
    "## Introduction\n",
    "\n",
    "This notebook demonstrates how to find and retrieve spectroscopic data for certain objects from the DESI EDR data set using [SPARCL](https://astrosparcl.datalab.noirlab.edu) (SPectra Analysis and Retrievable Catalog Lab) and display an interactive plot of an object's spectrum using [Jdaviz](https://jdaviz.readthedocs.io/en/latest/index.html).\n",
    "\n",
    "This notebook is based on [an example](https://github.com/camipacifici/jdaviz/blob/concept-sparcl/notebooks/concepts/specviz_sparcl.ipynb) originally developed by [Camilla Pacifici](https://github.com/camipacifici). Additional assistance was provided by\n",
    "[Brett Morris](https://github.com/bmorris3). \n",
    "\n",
    "Packages:\n",
    "\n",
    "* [SPARCL](https://astrosparcl.datalab.noirlab.edu)\n",
    "* [Jdaviz](https://jdaviz.readthedocs.io/en/latest/index.html)\n",
    "* [jupyterlab-sidecar](https://github.com/jupyter-widgets/jupyterlab-sidecar)"
   ]
  },
  {
   "cell_type": "markdown",
   "id": "dc702b65-1e98-4b1f-9bc7-c5f2324eda40",
   "metadata": {},
   "source": [
    "<a class=\"anchor\" id=\"disclaimer\"></a>\n",
    "## Disclaimer & attribution\n",
    "If you use this notebook for your published science, please acknowledge the following:\n",
    "\n",
    "* Data Lab concept paper: Fitzpatrick et al., \"The NOAO Data Laboratory: a conceptual overview\", SPIE, 9149, 2014, http://dx.doi.org/10.1117/12.2057445\n",
    "\n",
    "* Data Lab disclaimer: https://datalab.noirlab.edu/disclaimers.php\n",
    "\n",
    "* SPARCL: https://astrosparcl.datalab.noirlab.edu/sparc/acknowledgments/\n",
    "\n",
    "* Jdaviz: https://jdaviz.readthedocs.io/en/latest/index_citation.html"
   ]
  },
  {
   "cell_type": "markdown",
   "id": "c4afe333-71b1-47a2-a0ca-2715a22ba771",
   "metadata": {},
   "source": [
    "<a class=\"anchor\" id=\"imports\"></a>\n",
    "## Imports and setup"
   ]
  },
  {
   "cell_type": "code",
   "execution_count": 1,
   "id": "1b12bf2e",
   "metadata": {
    "execution": {
     "iopub.execute_input": "2023-10-18T23:12:55.491893Z",
     "iopub.status.busy": "2023-10-18T23:12:55.491041Z",
     "iopub.status.idle": "2023-10-18T23:12:55.705079Z",
     "shell.execute_reply": "2023-10-18T23:12:55.703677Z",
     "shell.execute_reply.started": "2023-10-18T23:12:55.491818Z"
    },
    "tags": []
   },
   "outputs": [
    {
     "ename": "ModuleNotFoundError",
     "evalue": "No module named 'jdaviz'",
     "output_type": "error",
     "traceback": [
      "\u001b[0;31m---------------------------------------------------------------------------\u001b[0m",
      "\u001b[0;31mModuleNotFoundError\u001b[0m                       Traceback (most recent call last)",
      "\u001b[0;32m<ipython-input-1-325541a4fbb9>\u001b[0m in \u001b[0;36m<module>\u001b[0;34m\u001b[0m\n\u001b[1;32m      2\u001b[0m \u001b[0;32mfrom\u001b[0m \u001b[0msparcl\u001b[0m\u001b[0;34m.\u001b[0m\u001b[0mclient\u001b[0m \u001b[0;32mimport\u001b[0m \u001b[0mSparclClient\u001b[0m\u001b[0;34m\u001b[0m\u001b[0;34m\u001b[0m\u001b[0m\n\u001b[1;32m      3\u001b[0m \u001b[0;31m# Jdaviz import\u001b[0m\u001b[0;34m\u001b[0m\u001b[0;34m\u001b[0m\u001b[0;34m\u001b[0m\u001b[0m\n\u001b[0;32m----> 4\u001b[0;31m \u001b[0;32mfrom\u001b[0m \u001b[0mjdaviz\u001b[0m \u001b[0;32mimport\u001b[0m \u001b[0mSpecviz\u001b[0m\u001b[0;34m\u001b[0m\u001b[0;34m\u001b[0m\u001b[0m\n\u001b[0m\u001b[1;32m      5\u001b[0m \u001b[0;31m# Jupyter\u001b[0m\u001b[0;34m\u001b[0m\u001b[0;34m\u001b[0m\u001b[0;34m\u001b[0m\u001b[0m\n\u001b[1;32m      6\u001b[0m \u001b[0;32mimport\u001b[0m \u001b[0mipywidgets\u001b[0m \u001b[0;32mas\u001b[0m \u001b[0mwidgets\u001b[0m\u001b[0;34m\u001b[0m\u001b[0;34m\u001b[0m\u001b[0m\n",
      "\u001b[0;31mModuleNotFoundError\u001b[0m: No module named 'jdaviz'"
     ]
    }
   ],
   "source": [
    "# SPARCL import\n",
    "from sparcl.client import SparclClient\n",
    "# Jdaviz import\n",
    "from jdaviz import Specviz\n",
    "# Jupyter\n",
    "import ipywidgets as widgets\n",
    "from IPython.display import display\n",
    "# Specutils import\n",
    "from specutils import Spectrum1D\n",
    "# Astropy import\n",
    "import astropy.units as u\n",
    "from astropy.nddata import InverseVariance, StdDevUncertainty"
   ]
  },
  {
   "cell_type": "markdown",
   "id": "5580d04f",
   "metadata": {},
   "source": [
    "## Set up the SPARCL client"
   ]
  },
  {
   "cell_type": "code",
   "execution_count": 3,
   "id": "482c5e93",
   "metadata": {
    "execution": {
     "iopub.execute_input": "2023-10-10T19:54:18.273667Z",
     "iopub.status.busy": "2023-10-10T19:54:18.273320Z",
     "iopub.status.idle": "2023-10-10T19:54:18.418561Z",
     "shell.execute_reply": "2023-10-10T19:54:18.417244Z",
     "shell.execute_reply.started": "2023-10-10T19:54:18.273644Z"
    },
    "tags": []
   },
   "outputs": [
    {
     "data": {
      "text/plain": [
       "(sparclclient:1.2.0, api:9.0, https://astrosparcl.datalab.noirlab.edu/sparc, verbose=False, connect_timeout=1.1, read_timeout=5400.0)"
      ]
     },
     "execution_count": 3,
     "metadata": {},
     "output_type": "execute_result"
    }
   ],
   "source": [
    "client = SparclClient()\n",
    "client"
   ]
  },
  {
   "cell_type": "markdown",
   "id": "0de20865-2ad4-4235-9a26-653f05510f30",
   "metadata": {},
   "source": [
    "#### View the full list of fields for the DESI EDR data set that can be obtained from SPARCL"
   ]
  },
  {
   "cell_type": "code",
   "execution_count": 4,
   "id": "9e288542-73aa-45cf-9f69-668bd3208d70",
   "metadata": {
    "execution": {
     "iopub.execute_input": "2023-10-10T19:54:18.420680Z",
     "iopub.status.busy": "2023-10-10T19:54:18.420212Z",
     "iopub.status.idle": "2023-10-10T19:54:18.427555Z",
     "shell.execute_reply": "2023-10-10T19:54:18.426376Z",
     "shell.execute_reply.started": "2023-10-10T19:54:18.420628Z"
    },
    "tags": []
   },
   "outputs": [
    {
     "name": "stdout",
     "output_type": "stream",
     "text": [
      "['bgs_target', 'chi2', 'cmx_target', 'coadd_fiberstatus', 'coadd_numexp', 'coadd_numnight', 'coadd_numtile', 'coeff', 'data_release', 'datasetgroup', 'dateobs', 'dateobs_center', 'dec', 'deltachi2', 'desi_target', 'exptime', 'fa_target', 'fa_type', 'firstnight', 'flux', 'healpix', 'instrument', 'ivar', 'lastnight', 'mask', 'mean_delta_x', 'mean_delta_y', 'mean_fiber_dec', 'mean_fiber_ra', 'mean_mjd', 'mean_psf_to_fiber_specflux', 'model', 'mws_target', 'ncoeff', 'npixels', 'numobs_init', 'objtype', 'obsconditions', 'plate_dec', 'plate_ra', 'pmdec', 'pmra', 'priority_init', 'program', 'ra', 'redshift', 'redshift_err', 'redshift_warning', 'ref_epoch', 'rms_delta_x', 'rms_delta_y', 'scnd_target', 'site', 'sparcl_id', 'specid', 'specprimary', 'spectype', 'spgrpval', 'std_fiber_dec', 'std_fiber_ra', 'subpriority', 'subtype', 'survey', 'sv1_bgs_target', 'sv1_desi_target', 'sv1_mws_target', 'sv1_scnd_target', 'sv2_bgs_target', 'sv2_desi_target', 'sv2_mws_target', 'sv2_scnd_target', 'sv3_bgs_target', 'sv3_desi_target', 'sv3_mws_target', 'sv3_scnd_target', 'sv_nspec', 'sv_primary', 'target_dec', 'target_ra', 'targetid', 'telescope', 'tsnr2_bgs', 'tsnr2_elg', 'tsnr2_gpbbackup', 'tsnr2_gpbbright', 'tsnr2_gpbdark', 'tsnr2_lrg', 'tsnr2_lya', 'tsnr2_qso', 'wave_sigma', 'wavelength', 'wavemax', 'wavemin', 'zcat_nspec']\n"
     ]
    }
   ],
   "source": [
    "desi_fields = client.get_all_fields(dataset_list=['DESI-EDR'])\n",
    "print(desi_fields)"
   ]
  },
  {
   "cell_type": "markdown",
   "id": "8f2b74af-e9ea-4845-bb6d-38ae1425067a",
   "metadata": {},
   "source": [
    "<a class=\"anchor\" id=\"searchsparcl\"></a>\n",
    "## Search for spectra in SPARCL\n",
    "Using the `client.find()` method, we obtain the following fields from the DESI EDR data set using SPARCL:  \n",
    "- `sparcl_id` : Universally Unique Identifier for spectrum in SPARCL\n",
    "- `ra` : Right Ascension in degrees\n",
    "- `dec` : Declination in degrees\n",
    "- `spectype` : Spectral type of the object (STAR, GALAXY, or QSO)\n",
    "- `subtype` : Spectral subtype\n",
    "- `specid` : Dataset-specific spectrum identifier (may not be unique)\n",
    "- `redshift` : Measured redshift\n",
    "- `redshift_err` : Uncertainty on the measured redshift\n",
    "\n",
    "And apply the following constraints:\n",
    "- `2.0 < redshift < 5.0`\n",
    "- `redshift_warning = 0` (Redshift warning bitmask measured by Redrock)\n",
    "- `specprimary = 1` (Boolean flag (True/False) for the primary coadded spectrum for a given target object)\n",
    "- `spectype = QSO`\n",
    "- `data_release = DESI EDR`"
   ]
  },
  {
   "cell_type": "code",
   "execution_count": 5,
   "id": "9b7d99c6",
   "metadata": {
    "execution": {
     "iopub.execute_input": "2023-10-10T19:54:18.429468Z",
     "iopub.status.busy": "2023-10-10T19:54:18.429028Z",
     "iopub.status.idle": "2023-10-10T19:54:18.440707Z",
     "shell.execute_reply": "2023-10-10T19:54:18.439530Z",
     "shell.execute_reply.started": "2023-10-10T19:54:18.429426Z"
    },
    "tags": []
   },
   "outputs": [],
   "source": [
    "outfields = ['sparcl_id', 'ra', 'dec', 'spectype', 'subtype', 'specid',\n",
    "             'redshift', 'redshift_err',]\n",
    "constraints = {'redshift': [2.0, 5.0],\n",
    "               'redshift_warning': [0],\n",
    "               'specprimary': [1],\n",
    "               'spectype': ['QSO'],\n",
    "               'data_release': ['DESI-EDR'],\n",
    "               }"
   ]
  },
  {
   "cell_type": "code",
   "execution_count": 6,
   "id": "9ae27a9b",
   "metadata": {
    "execution": {
     "iopub.execute_input": "2023-10-10T19:54:18.442678Z",
     "iopub.status.busy": "2023-10-10T19:54:18.442104Z",
     "iopub.status.idle": "2023-10-10T19:54:18.640493Z",
     "shell.execute_reply": "2023-10-10T19:54:18.639128Z",
     "shell.execute_reply.started": "2023-10-10T19:54:18.442636Z"
    },
    "tags": []
   },
   "outputs": [],
   "source": [
    "found = client.find(outfields=outfields,\n",
    "                    constraints=constraints,\n",
    "                    limit=50)"
   ]
  },
  {
   "cell_type": "markdown",
   "id": "c1613e7e-5186-4eb6-954c-df21ca19518c",
   "metadata": {},
   "source": [
    "Create `DESIID` from the RA and Dec of each record:"
   ]
  },
  {
   "cell_type": "code",
   "execution_count": 7,
   "id": "91008745-9ff5-485c-92cb-7554628a0f60",
   "metadata": {
    "execution": {
     "iopub.execute_input": "2023-10-10T19:54:18.644574Z",
     "iopub.status.busy": "2023-10-10T19:54:18.644087Z",
     "iopub.status.idle": "2023-10-10T19:54:18.652927Z",
     "shell.execute_reply": "2023-10-10T19:54:18.651479Z",
     "shell.execute_reply.started": "2023-10-10T19:54:18.644526Z"
    },
    "tags": []
   },
   "outputs": [],
   "source": [
    "for record in found.records:\n",
    "    if record['_dr'] == 'DESI-EDR':\n",
    "        record['DESIID'] = f\"DESI J{record['ra']:08.4f}{record['dec']:+08.4f}\"\n",
    "metadata = sorted(found.records, key=lambda x: x['DESIID'])\n",
    "ids = [m['sparcl_id'] for m in metadata]"
   ]
  },
  {
   "cell_type": "markdown",
   "id": "c3123870-6933-43a5-b79f-184b8f58ff41",
   "metadata": {},
   "source": [
    "<a class=\"anchor\" id=\"retrievesparcl\"></a>\n",
    "## Retrieve spectra from SPARCL and prepare plot data\n",
    "Here we define a function that:\n",
    "1. Uses the `client.retrieve()` method from SPARCL to retrieve spectra for the list of IDs from DESI EDR.\n",
    "2. Creates a Spectrum1D object from the retrieved data.\n",
    "3. Loads the spectrum, metadata, and model."
   ]
  },
  {
   "cell_type": "code",
   "execution_count": 8,
   "id": "1d036ac5-7310-43a1-8346-f0eff7c0010d",
   "metadata": {
    "execution": {
     "iopub.execute_input": "2023-10-10T19:54:18.655100Z",
     "iopub.status.busy": "2023-10-10T19:54:18.654655Z",
     "iopub.status.idle": "2023-10-10T19:54:18.674994Z",
     "shell.execute_reply": "2023-10-10T19:54:18.673680Z",
     "shell.execute_reply.started": "2023-10-10T19:54:18.655057Z"
    },
    "tags": []
   },
   "outputs": [],
   "source": [
    "def on_selected(b):\n",
    "    key = entries[b['new']][0]\n",
    "    result = client.retrieve(uuid_list=[ids[b['new']]],\n",
    "                             include=['specid',\n",
    "                                      'survey',\n",
    "                                      'ra',\n",
    "                                      'dec',\n",
    "                                      'redshift',\n",
    "                                      'redshift_err',\n",
    "                                      'flux',\n",
    "                                      'ivar',\n",
    "                                      'wavelength',\n",
    "                                      'mask',\n",
    "                                      'model'])\n",
    "    if key not in spectra:\n",
    "        spectra[key] = (Spectrum1D(spectral_axis=result.records[0]['wavelength']*u.AA,\n",
    "                                   flux=result.records[0]['flux']*specunit,\n",
    "                                   uncertainty=InverseVariance(result.records[0]['ivar']*(specunit**-2)).represent_as(StdDevUncertainty),\n",
    "                                   mask=result.records[0]['mask'],\n",
    "                                   redshift=result.records[0]['redshift']),\n",
    "                        Spectrum1D(spectral_axis=result.records[0]['wavelength']*u.AA,\n",
    "                                   flux=result.records[0]['model']*specunit))\n",
    "    if 'old' in b:\n",
    "        #\n",
    "        # Remove the previous spectrum.\n",
    "        #\n",
    "        data0 = specviz.app.data_collection[0]\n",
    "        data1 = specviz.app.data_collection[1]\n",
    "        specviz.app.data_collection.remove(data0)\n",
    "        specviz.app.data_collection.remove(data1)\n",
    "    #\n",
    "    # Load the spectrum.\n",
    "    #\n",
    "    specviz.load_data(spectra[key][0], data_label=key + ' Data')\n",
    "    opt = specviz.plugins['Plot Options']\n",
    "    opt.layer = key + ' Data'\n",
    "    opt.line_color.value = '#000000'  # Black\n",
    "    opt.line_as_steps = True\n",
    "    opt.uncertainty_visible = True\n",
    "    #\n",
    "    # Add metadata.\n",
    "    #\n",
    "    meta0 = specviz.app.data_collection[0].meta\n",
    "    meta0['RA'] = result.records[0]['ra']\n",
    "    meta0['Dec'] = result.records[0]['dec']\n",
    "    meta0['redshift'] = result.records[0]['redshift']\n",
    "    meta0['redshift uncertainty'] = result.records[0]['redshift_err']\n",
    "    #\n",
    "    # Load the model.\n",
    "    #\n",
    "    specviz.load_data(spectra[key][1], data_label=key + ' Model')\n",
    "    opt = specviz.plugins['Plot Options']\n",
    "    opt.layer = key + ' Model'\n",
    "    opt.line_color.value = '#FF0000'  # Red\n",
    "    opt.line_as_steps = True\n",
    "    #\n",
    "    # This is a workaround for a bug where metadata is not initially displayed.\n",
    "    #\n",
    "    m = specviz.plugins['Metadata']\n",
    "    m.dataset = key + ' Model'\n",
    "    m.dataset = key + ' Data'"
   ]
  },
  {
   "cell_type": "markdown",
   "id": "0d15e2bc-5962-462d-9810-efd7780f8ad0",
   "metadata": {},
   "source": [
    "<a class=\"anchor\" id=\"plotjdaviz\"></a>\n",
    "## Plot spectra using Jdaviz\n",
    "Run the cell below to open the interactive plot in a new panel on the right. Information on the Toolbar options can be found in the [Jdaviz User Guide](https://jdaviz.readthedocs.io/en/latest/specviz/displaying.html).\n",
    "\n",
    "This cell will also display a drop-down menu that controls the spectrum that will be displayed in the interactive plot."
   ]
  },
  {
   "cell_type": "code",
   "execution_count": null,
   "id": "9c02f15b-d900-4b75-beb9-59934ae01cc1",
   "metadata": {
    "tags": []
   },
   "outputs": [],
   "source": [
    "specunit = u.Unit('10-17 erg cm-2 s-1 AA-1')\n",
    "spectra = dict()  # This will cache the retrieved spectra.\n",
    "entries = [(m['DESIID'], i) for i, m in enumerate(metadata)]\n",
    "select = widgets.Dropdown(options=entries, value=0, description='Spectrum:',)\n",
    "output = widgets.Output()\n",
    "specviz = Specviz()\n",
    "\n",
    "#\n",
    "# Trigger the download if this is the very first spectrum.\n",
    "#\n",
    "on_selected({'new': 0})\n",
    "#\n",
    "# Connect the function action to the dropdown menu.\n",
    "#\n",
    "select.observe(on_selected, names='value')\n",
    "#\n",
    "# Open the display in a separate tab.\n",
    "#\n",
    "specviz.show('sidecar:split-right')\n",
    "#\n",
    "# Display the drop-down menu.\n",
    "#\n",
    "display(select, output)"
   ]
  }
 ],
 "metadata": {
  "kernelspec": {
   "display_name": "Python 3",
   "language": "python",
   "name": "python3"
  },
  "language_info": {
   "codemirror_mode": {
    "name": "ipython",
    "version": 3
   },
   "file_extension": ".py",
   "mimetype": "text/x-python",
   "name": "python",
   "nbconvert_exporter": "python",
   "pygments_lexer": "ipython3",
   "version": "3.8.8"
  }
 },
 "nbformat": 4,
 "nbformat_minor": 5
}
