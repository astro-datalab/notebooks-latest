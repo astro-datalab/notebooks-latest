{
 "cells": [
  {
   "cell_type": "markdown",
   "id": "e1cc9c08",
   "metadata": {},
   "source": [
    "# SPARCL + Jdaviz\n",
    "\n",
    "This notebook is based on [an example](https://github.com/camipacifici/jdaviz/blob/concept-sparcl/notebooks/concepts/specviz_sparcl.ipynb) originally developed by [Camilla Pacifici](https://github.com/camipacifici).\n",
    "\n",
    "Packages:\n",
    "\n",
    "* [SPARCL](https://astrosparcl.datalab.noirlab.edu)\n",
    "* [Jdaviz](https://jdaviz.readthedocs.io/en/latest/index.html)\n",
    "\n",
    "Installation tips:\n",
    "\n",
    "* `pip install sparclclient`\n",
    "* `pip install jdaviz`"
   ]
  },
  {
   "cell_type": "code",
   "execution_count": null,
   "id": "1b12bf2e",
   "metadata": {},
   "outputs": [],
   "source": [
    "# SPARCL import\n",
    "from sparcl.client import SparclClient\n",
    "# Jdaviz import\n",
    "from jdaviz import Specviz\n",
    "# Jupyter\n",
    "import ipywidgets as widgets\n",
    "from IPython.display import display\n",
    "# Specutils import\n",
    "from specutils import Spectrum1D, SpectrumList\n",
    "# Astropy import\n",
    "import astropy.units as u\n",
    "from astropy.nddata import InverseVariance, StdDevUncertainty"
   ]
  },
  {
   "cell_type": "markdown",
   "id": "5580d04f",
   "metadata": {},
   "source": [
    "## Set up the SPARCL client"
   ]
  },
  {
   "cell_type": "code",
   "execution_count": null,
   "id": "482c5e93",
   "metadata": {},
   "outputs": [],
   "source": [
    "client = SparclClient()\n",
    "client.all_datasets"
   ]
  },
  {
   "cell_type": "code",
   "execution_count": null,
   "id": "1c310bd4",
   "metadata": {},
   "outputs": [],
   "source": [
    "# client.get_all_fields(dataset_list=['SDSS-DR16'])"
   ]
  },
  {
   "cell_type": "code",
   "execution_count": null,
   "id": "9e288542-73aa-45cf-9f69-668bd3208d70",
   "metadata": {},
   "outputs": [],
   "source": [
    "# client.get_all_fields(dataset_list=['DESI-EDR'])"
   ]
  },
  {
   "cell_type": "markdown",
   "id": "04a75db2",
   "metadata": {},
   "source": [
    "## Run a search"
   ]
  },
  {
   "cell_type": "code",
   "execution_count": null,
   "id": "9b7d99c6",
   "metadata": {},
   "outputs": [],
   "source": [
    "out = ['sparcl_id', 'ra', 'dec', 'spectype', 'subtype', 'specid', 'redshift', 'redshift_err',]\n",
    "cons = {'redshift': [2.0, 5.0],\n",
    "        'redshift_warning': [0],\n",
    "        'specprimary': [1],\n",
    "        'spectype': ['QSO'],\n",
    "        'data_release': ['DESI-EDR'],\n",
    "        }"
   ]
  },
  {
   "cell_type": "code",
   "execution_count": null,
   "id": "9ae27a9b",
   "metadata": {},
   "outputs": [],
   "source": [
    "found = client.find(outfields=out,\n",
    "                    constraints=cons,\n",
    "                    limit=50)"
   ]
  },
  {
   "cell_type": "code",
   "execution_count": null,
   "id": "91008745-9ff5-485c-92cb-7554628a0f60",
   "metadata": {},
   "outputs": [],
   "source": [
    "for record in found.records:\n",
    "    if record['_dr'] == 'DESI-EDR':\n",
    "        record['DESIID'] = f\"DESI J{record['ra']:08.4f}{record['dec']:+08.4f}\"\n",
    "metadata = sorted(found.records, key=lambda x: x['DESIID'])\n",
    "ids = [m['sparcl_id'] for m in metadata]"
   ]
  },
  {
   "cell_type": "markdown",
   "id": "34470890",
   "metadata": {},
   "source": [
    "## Retrieve the records"
   ]
  },
  {
   "cell_type": "code",
   "execution_count": null,
   "id": "1d036ac5-7310-43a1-8346-f0eff7c0010d",
   "metadata": {},
   "outputs": [],
   "source": [
    "specunit = u.Unit('10-17 erg cm-2 s-1 AA-1')\n",
    "spectra = dict()\n",
    "entries = [(m['DESIID'], i) for i, m in enumerate(metadata)]\n",
    "select = widgets.Dropdown(options=entries, value=0, description='Spectrum:',)\n",
    "output = widgets.Output()\n",
    "specviz = Specviz()\n",
    "\n",
    "def on_selected(b):\n",
    "    key = entries[b['new']][0]\n",
    "    result = client.retrieve(uuid_list=[ids[b['new']]],\n",
    "                             include=['specid',\n",
    "                                      'survey',\n",
    "                                      'ra',\n",
    "                                      'dec',\n",
    "                                      'redshift',\n",
    "                                      'redshift_err',\n",
    "                                      'flux', \n",
    "                                      'ivar', \n",
    "                                      'wavelength', \n",
    "                                      'mask', \n",
    "                                      'model'])\n",
    "    if key not in spectra:\n",
    "        spectra[key] = (Spectrum1D(spectral_axis=result.records[0]['wavelength']*u.AA,\n",
    "                                   flux=result.records[0]['flux']*specunit,\n",
    "                                   uncertainty=InverseVariance(result.records[0]['ivar']*(specunit**-2)).represent_as(StdDevUncertainty),\n",
    "                                   mask=result.records[0]['mask'],\n",
    "                                   redshift=result.records[0]['redshift']),\n",
    "                        Spectrum1D(spectral_axis=result.records[0]['wavelength']*u.AA,\n",
    "                                   flux=result.records[0]['model']*specunit))\n",
    "    if 'old' in b:\n",
    "        data0 = specviz.app.data_collection[0]\n",
    "        data1 = specviz.app.data_collection[1]\n",
    "        specviz.app.data_collection.remove(data0)\n",
    "        specviz.app.data_collection.remove(data1)\n",
    "    specviz.load_data(spectra[key][0], data_label=key + ' Data')\n",
    "    opt = specviz.plugins['Plot Options']\n",
    "    opt.layer = key + ' Data'\n",
    "    opt.line_color.value = '#000000'\n",
    "    opt.line_as_steps = True\n",
    "    opt.uncertainty_visible = True\n",
    "    meta0 = specviz.app.data_collection[0].meta\n",
    "    meta0['RA'] = result.records[0]['ra']\n",
    "    meta0['Dec'] = result.records[0]['dec']\n",
    "    meta0['redshift'] = result.records[0]['redshift']\n",
    "    meta0['redshift uncertainty'] = result.records[0]['redshift_err']\n",
    "    # meta0.append(('RA', result.records[0]['ra'], '[J2000.0 deg]'))\n",
    "    # meta0.metadata.append(('Dec', result.records[0]['dec'], '[J2000.0 deg]'))\n",
    "    # meta0.metadata.append(('redshift', result.records[0]['redshift'], 'baz'))\n",
    "    # meta0.metadata.append(('redshift uncertainty', result.records[0]['redshift_err'], 'foo'))\n",
    "    specviz.load_data(spectra[key][1], data_label=key + ' Model')\n",
    "    opt = specviz.plugins['Plot Options']\n",
    "    opt.layer = key + ' Model'\n",
    "    opt.line_color.value = '#FF0000'\n",
    "    opt.line_as_steps = True\n",
    "    m = specviz.plugins['Metadata']\n",
    "    m.dataset = key + ' Model'\n",
    "    m.dataset = key + ' Data'\n",
    "    # with output:\n",
    "    #     print(spectra)\n",
    "\n",
    "on_selected({'new': 0})\n",
    "select.observe(on_selected, names='value')\n",
    "specviz.show('sidecar:split-right')\n",
    "display(select, output)"
   ]
  },
  {
   "cell_type": "markdown",
   "id": "b740d0d4",
   "metadata": {},
   "source": [
    "# Notes\n",
    "We will probably want calls to the API to do some basic stuff like:\n",
    "- change plot options\n",
    "- smooth the spectrum\n",
    "- plot some lines\n",
    "- load the redshift\n",
    "- do some line analysis too maybe?"
   ]
  },
  {
   "cell_type": "code",
   "execution_count": null,
   "id": "3b20d893-39ba-4189-bf16-bef149c9244e",
   "metadata": {},
   "outputs": [],
   "source": []
  }
 ],
 "metadata": {
  "kernelspec": {
   "display_name": "Python 3 (ipykernel)",
   "language": "python",
   "name": "python3"
  },
  "language_info": {
   "codemirror_mode": {
    "name": "ipython",
    "version": 3
   },
   "file_extension": ".py",
   "mimetype": "text/x-python",
   "name": "python",
   "nbconvert_exporter": "python",
   "pygments_lexer": "ipython3",
   "version": "3.10.10"
  }
 },
 "nbformat": 4,
 "nbformat_minor": 5
}
