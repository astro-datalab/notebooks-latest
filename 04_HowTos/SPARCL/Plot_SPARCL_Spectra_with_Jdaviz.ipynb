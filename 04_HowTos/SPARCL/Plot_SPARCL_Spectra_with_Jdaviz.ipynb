{
 "cells": [
  {
   "cell_type": "code",
   "execution_count": null,
   "id": "0d6d67d9-3c55-455a-bfae-0a7f9ec27a02",
   "metadata": {},
   "outputs": [],
   "source": [
    "__nbid__ = '0052'\n",
    "__author__ = 'Camilla Pacifici, Brett Morris, Benjamin Weaver <benjamin.weaver@noirlab.edu>, Alice Jacques <alice.jacques@noirlab.edu>'\n",
    "__version__ = '20250317' # yyyymmdd\n",
    "__datasets__ = ['desi_dr1']\n",
    "__keywords__ = ['sparcl', 'jdaviz', 'specutils', 'spectroscopy', 'desi spectra', 'tutorial']"
   ]
  },
  {
   "cell_type": "markdown",
   "id": "e1cc9c08",
   "metadata": {},
   "source": [
    "# SPARCL + Jdaviz"
   ]
  },
  {
   "cell_type": "markdown",
   "id": "30a657a1-dfac-49ea-9122-ff7d069eaa87",
   "metadata": {},
   "source": [
    "### Table of contents\n",
    "* [Goals](#goals)\n",
    "* [Introduction](#intro)\n",
    "* [Disclaimer & attribution](#disclaimer)\n",
    "* [Imports and setup](#imports)\n",
    "* [Search for spectra in SPARCL](#searchsparcl)\n",
    "* [Retrieve spectra from SPARCL and prepare plot data](#retrievesparcl)\n",
    "* [Plot spectra using Jdaviz](#plotjdaviz)"
   ]
  },
  {
   "cell_type": "markdown",
   "id": "f3d113f9-0f79-4221-b843-84b07555be08",
   "metadata": {},
   "source": [
    "<a class=\"anchor\" id=\"goals\"></a>\n",
    "## Goals\n",
    "\n",
    "* Search for and obtain spectra from DESI DR1 using the [NOIRLab SPARCL service](https://astrosparcl.datalab.noirlab.edu)\n",
    "* Plot spectra using the [Jdaviz](https://jdaviz.readthedocs.io/en/latest/index.html) data analysis visualization tool"
   ]
  },
  {
   "cell_type": "markdown",
   "id": "934ba639-42a1-4649-a64b-25f8d33c9ad0",
   "metadata": {},
   "source": [
    "<a class=\"anchor\" id=\"intro\"></a>\n",
    "## Introduction\n",
    "\n",
    "This notebook demonstrates how to find and retrieve spectroscopic data for certain objects from the DESI DR1 data set using [SPARCL](https://astrosparcl.datalab.noirlab.edu) (SPectra Analysis and Retrievable Catalog Lab) and display an interactive plot of an object's spectrum using [Jdaviz](https://jdaviz.readthedocs.io/en/latest/index.html).\n",
    "\n",
    "This notebook is based on [an example](https://github.com/camipacifici/jdaviz/blob/concept-sparcl/notebooks/concepts/specviz_sparcl.ipynb) originally developed by [Camilla Pacifici](https://github.com/camipacifici). Additional assistance was provided by\n",
    "[Brett Morris](https://github.com/bmorris3). \n",
    "\n",
    "Packages:\n",
    "\n",
    "* [SPARCL](https://astrosparcl.datalab.noirlab.edu)\n",
    "* [Jdaviz](https://jdaviz.readthedocs.io/en/latest/index.html)\n",
    "* [jupyterlab-sidecar](https://github.com/jupyter-widgets/jupyterlab-sidecar)"
   ]
  },
  {
   "cell_type": "markdown",
   "id": "dc702b65-1e98-4b1f-9bc7-c5f2324eda40",
   "metadata": {},
   "source": [
    "<a class=\"anchor\" id=\"attribution\"></a>\n",
    "# Disclaimer & attribution\n",
    "\n",
    "Disclaimers\n",
    "-----------\n",
    "Note that using the Astro Data Lab constitutes your agreement with our minimal [Disclaimers](https://datalab.noirlab.edu/disclaimers.php).\n",
    "\n",
    "Acknowledgments\n",
    "---------------\n",
    "If you use **Astro Data Lab** in your published research, please include the text in your paper's Acknowledgments section:\n",
    "\n",
    "_This research uses services or data provided by the Astro Data Lab, which is part of the Community Science and Data Center (CSDC) Program of NSF NOIRLab. NOIRLab is operated by the Association of Universities for Research in Astronomy (AURA), Inc. under a cooperative agreement with the U.S. National Science Foundation._\n",
    "\n",
    "If you use **SPARCL jointly with the Astro Data Lab platform** (via JupyterLab, command-line, or web interface) in your published research, please include this text below in your paper's Acknowledgments section:\n",
    "\n",
    "_This research uses services or data provided by the SPectra Analysis and Retrievable Catalog Lab (SPARCL) and the Astro Data Lab, which are both part of the Community Science and Data Center (CSDC) Program of NSF NOIRLab. NOIRLab is operated by the Association of Universities for Research in Astronomy (AURA), Inc. under a cooperative agreement with the U.S. National Science Foundation._\n",
    "\n",
    "In either case **please cite the following papers**:\n",
    "\n",
    "* Data Lab concept paper: Fitzpatrick et al., \"The NOAO Data Laboratory: a conceptual overview\", SPIE, 9149, 2014, https://doi.org/10.1117/12.2057445\n",
    "\n",
    "* Astro Data Lab overview: Nikutta et al., \"Data Lab - A Community Science Platform\", Astronomy and Computing, 33, 2020, https://doi.org/10.1016/j.ascom.2020.100411\n",
    "\n",
    "If you are referring to the Data Lab JupyterLab / Jupyter Notebooks, cite:\n",
    "\n",
    "* Juneau et al., \"Jupyter-Enabled Astrophysical Analysis Using Data-Proximate Computing Platforms\", CiSE, 23, 15, 2021, https://doi.org/10.1109/MCSE.2021.3057097\n",
    "\n",
    "If publishing in a AAS journal, also add the keyword: `\\facility{Astro Data Lab}`\n",
    "\n",
    "And if you are using SPARCL, please also add `\\software{SPARCL}` and cite:\n",
    "\n",
    "* Juneau et al., \"SPARCL: SPectra Analysis and Retrievable Catalog Lab\", Conference Proceedings for ADASS XXXIII, 2024\n",
    "https://doi.org/10.48550/arXiv.2401.05576\n",
    "\n",
    "The NOIRLab Library maintains [lists of proper acknowledgments](https://noirlab.edu/science/about/scientific-acknowledgments) to use when publishing papers using the Lab's facilities, data, or services.\n",
    "\n",
    "For this notebook specifically, please acknowledge:\n",
    "\n",
    "* Jdaviz: https://jdaviz.readthedocs.io/en/latest/index_citation.html"
   ]
  },
  {
   "cell_type": "markdown",
   "id": "c4afe333-71b1-47a2-a0ca-2715a22ba771",
   "metadata": {},
   "source": [
    "<a class=\"anchor\" id=\"imports\"></a>\n",
    "## Imports and setup"
   ]
  },
  {
   "cell_type": "code",
   "execution_count": null,
   "id": "1b12bf2e",
   "metadata": {
    "tags": []
   },
   "outputs": [],
   "source": [
    "# Handle warnings below\n",
    "import warnings\n",
    "# Numpy import\n",
    "import numpy as np\n",
    "# SPARCL import\n",
    "from sparcl.client import SparclClient\n",
    "# Jdaviz import\n",
    "from jdaviz import Specviz\n",
    "# Jupyter\n",
    "import ipywidgets as widgets\n",
    "from IPython.display import display\n",
    "# Specutils import\n",
    "from specutils import Spectrum1D\n",
    "# Astropy import\n",
    "import astropy.units as u\n",
    "from astropy.nddata import InverseVariance, StdDevUncertainty\n",
    "# Jdaviz can emit warnings about Angstrom which we will ignore.\n",
    "warnings.filterwarnings('ignore', category=u.UnitsWarning, message=r'.*VOUnit standard.*')"
   ]
  },
  {
   "cell_type": "markdown",
   "id": "5580d04f",
   "metadata": {},
   "source": [
    "## Set up the SPARCL client"
   ]
  },
  {
   "cell_type": "code",
   "execution_count": null,
   "id": "482c5e93",
   "metadata": {
    "tags": []
   },
   "outputs": [],
   "source": [
    "client = SparclClient()\n",
    "client"
   ]
  },
  {
   "cell_type": "markdown",
   "id": "0de20865-2ad4-4235-9a26-653f05510f30",
   "metadata": {},
   "source": [
    "#### View the full list of fields for the DESI DR1 data set that can be obtained from SPARCL"
   ]
  },
  {
   "cell_type": "code",
   "execution_count": null,
   "id": "9e288542-73aa-45cf-9f69-668bd3208d70",
   "metadata": {
    "tags": []
   },
   "outputs": [],
   "source": [
    "desi_fields = client.get_all_fields(dataset_list=['DESI-DR1'])\n",
    "print(desi_fields)"
   ]
  },
  {
   "cell_type": "markdown",
   "id": "8f2b74af-e9ea-4845-bb6d-38ae1425067a",
   "metadata": {},
   "source": [
    "<a class=\"anchor\" id=\"searchsparcl\"></a>\n",
    "## Search for spectra in SPARCL\n",
    "Using the `client.find()` method, we obtain the following fields from the DESI DR1 data set using SPARCL:  \n",
    "- `sparcl_id` : Universally Unique Identifier for spectrum in SPARCL\n",
    "- `ra` : Right Ascension in degrees\n",
    "- `dec` : Declination in degrees\n",
    "- `spectype` : Spectral type of the object (STAR, GALAXY, or QSO)\n",
    "- `subtype` : Spectral subtype\n",
    "- `specid` : Dataset-specific spectrum identifier (may not be unique)\n",
    "- `redshift` : Measured redshift\n",
    "- `redshift_err` : Uncertainty on the measured redshift\n",
    "\n",
    "And apply the following constraints:\n",
    "- `2.0 < redshift < 5.0`\n",
    "- `redshift_warning = 0` (Redshift warning bitmask measured by Redrock)\n",
    "- `specprimary = 1` (Boolean flag (True/False) for the primary coadded spectrum for a given target object)\n",
    "- `spectype = QSO`\n",
    "- `data_release = DESI DR1`"
   ]
  },
  {
   "cell_type": "code",
   "execution_count": null,
   "id": "9b7d99c6",
   "metadata": {
    "tags": []
   },
   "outputs": [],
   "source": [
    "outfields = ['sparcl_id', 'ra', 'dec', 'spectype', 'subtype', 'specid',\n",
    "             'redshift', 'redshift_err',]\n",
    "constraints = {'redshift': [2.0, 5.0],\n",
    "               'redshift_warning': [0],\n",
    "               'specprimary': [1],\n",
    "               'spectype': ['QSO'],\n",
    "               'data_release': ['DESI-DR1'],\n",
    "               }"
   ]
  },
  {
   "cell_type": "code",
   "execution_count": null,
   "id": "9ae27a9b",
   "metadata": {
    "tags": []
   },
   "outputs": [],
   "source": [
    "found = client.find(outfields=outfields,\n",
    "                    constraints=constraints,\n",
    "                    limit=50)"
   ]
  },
  {
   "cell_type": "markdown",
   "id": "c1613e7e-5186-4eb6-954c-df21ca19518c",
   "metadata": {},
   "source": [
    "### DESINAME\n",
    "\n",
    "The function below is copied from [`desiutil.names`](https://github.com/desihub/desiutil/blob/main/py/desiutil/names.py). `DESINAME` is a convenient RA, Dec-based label that is consistent with IAU and NED standards.\n",
    "\n",
    "Although as of DESI DR1, `DESINAME` is available from the SPARCL database, it is not a `CORE` field, so `client.find()` will not return it. However, we need a label for these spectra to pass to `Specviz`, *before* the spectra are retrieved. So we will compute `DESINAME` as a work-around."
   ]
  },
  {
   "cell_type": "code",
   "execution_count": null,
   "id": "6e31ef55-3e14-45ab-9c9e-5a2da06f403b",
   "metadata": {},
   "outputs": [],
   "source": [
    "def radec_to_desiname(target_ra, target_dec):\n",
    "    \"\"\"Convert the right ascension and declination of a DESI target\n",
    "    into the corresponding \"DESINAME\" for reference in publications.\n",
    "    Length of target_ra and target_dec must be the same if providing an\n",
    "    array or list. Note that these names are not unique for roughly\n",
    "    one percent of DESI targets, so also including TARGETID in\n",
    "    publications is highly recommended for uniqueness.\n",
    "\n",
    "    Parameters\n",
    "    ----------\n",
    "    target_ra: array of :class:`float64`\n",
    "        Right ascension in degrees of target object(s). Can be float, double,\n",
    "         or array/list of floats or doubles\n",
    "    target_dec: array of :class:`float64`\n",
    "        Declination in degrees of target object(s). Can be float, double,\n",
    "         or array/list of floats or doubles\n",
    "\n",
    "    Returns\n",
    "    -------\n",
    "    array of :class:`str`\n",
    "        The DESI names referring to the input target RA and DEC's. Array is\n",
    "        the same length as the input arrays.\n",
    "\n",
    "    \"\"\"\n",
    "    # Convert to numpy array in case inputs are scalars or lists\n",
    "    target_ra, target_dec = np.atleast_1d(target_ra), np.atleast_1d(target_dec)\n",
    "\n",
    "    # Number of decimal places in final naming convention\n",
    "    precision = 4\n",
    "\n",
    "    # Truncate decimals to the given precision\n",
    "    ratrunc = np.trunc((10 ** precision) * target_ra).astype(int).astype(str)\n",
    "    dectrunc = np.trunc((10 ** precision) * target_dec).astype(int).astype(str)\n",
    "\n",
    "    # Loop over input values and create DESINAME as: DESI JXXX.XXXX+/-YY.YYYY\n",
    "    # Here J refers to J2000, which isn't strictly correct but is the closest\n",
    "    #   IAU compliant term\n",
    "    desinames = []\n",
    "    for ra, dec in zip(ratrunc, dectrunc):\n",
    "        desiname = 'DESI J' + ra[:-precision].zfill(3) + '.' + ra[-precision:]\n",
    "        # Positive numbers need an explicit \"+\" while negative numbers\n",
    "        #   already have a \"-\".\n",
    "        # zfill works properly with '-' but counts it in number of characters\n",
    "        #   so need one more\n",
    "        if dec.startswith('-'):\n",
    "            desiname += dec[:-precision].zfill(3) + '.' + dec[-precision:]\n",
    "        else:\n",
    "            desiname += '+' + dec[:-precision].zfill(2) + '.' + dec[-precision:]\n",
    "        desinames.append(desiname)\n",
    "\n",
    "    return np.array(desinames)"
   ]
  },
  {
   "cell_type": "markdown",
   "id": "2d41d0fa-2eba-4298-88b7-42247521da03",
   "metadata": {},
   "source": [
    "Create `DESINAME` from the RA and Dec of each record:"
   ]
  },
  {
   "cell_type": "code",
   "execution_count": null,
   "id": "91008745-9ff5-485c-92cb-7554628a0f60",
   "metadata": {
    "tags": []
   },
   "outputs": [],
   "source": [
    "for record in found.records:\n",
    "    if record['_dr'] == 'DESI-DR1':\n",
    "        record['DESINAME'] = radec_to_desiname(record['ra'], record['dec']).tolist()[0]\n",
    "metadata = sorted(found.records, key=lambda x: x['DESINAME'])\n",
    "ids = [m['sparcl_id'] for m in metadata]"
   ]
  },
  {
   "cell_type": "markdown",
   "id": "c3123870-6933-43a5-b79f-184b8f58ff41",
   "metadata": {},
   "source": [
    "<a class=\"anchor\" id=\"retrievesparcl\"></a>\n",
    "## Retrieve spectra from SPARCL and prepare plot data\n",
    "Here we define a function that:\n",
    "1. Uses the `client.retrieve()` method from SPARCL to retrieve spectra for the list of IDs from DESI DR1.\n",
    "2. Creates a `specutils.Spectrum1D` object from the retrieved data.\n",
    "3. Loads the spectrum, metadata, and model.\n",
    "4. Caches the converted `Spectrum1D` object."
   ]
  },
  {
   "cell_type": "code",
   "execution_count": null,
   "id": "1d036ac5-7310-43a1-8346-f0eff7c0010d",
   "metadata": {
    "tags": []
   },
   "outputs": [],
   "source": [
    "def on_selected(b):\n",
    "    \"\"\"Callback function to enable switching between different DESI spectra.\n",
    "\n",
    "    Parameters\n",
    "    ----------\n",
    "    b : object\n",
    "        A callback object supplied by Specviz.\n",
    "    \"\"\"\n",
    "    specunit = u.Unit('10-17 erg cm-2 s-1 AA-1')\n",
    "    key = entries[b['new']][0]\n",
    "    result = client.retrieve(uuid_list=[ids[b['new']]],\n",
    "                             include=['specid',\n",
    "                                      'survey',\n",
    "                                      'ra',\n",
    "                                      'dec',\n",
    "                                      'redshift',\n",
    "                                      'redshift_err',\n",
    "                                      'flux',\n",
    "                                      'ivar',\n",
    "                                      'wavelength',\n",
    "                                      'mask',\n",
    "                                      'model'])\n",
    "    if key not in spectra:\n",
    "        #\n",
    "        # Note how the data and the model are prepared as two separate objects.\n",
    "        #\n",
    "        spectra[key] = (Spectrum1D(spectral_axis=result.records[0]['wavelength']*u.AA,\n",
    "                                   flux=result.records[0]['flux']*specunit,\n",
    "                                   uncertainty=InverseVariance(result.records[0]['ivar']*(specunit**-2)).represent_as(StdDevUncertainty),\n",
    "                                   mask=result.records[0]['mask'],\n",
    "                                   redshift=result.records[0]['redshift']),\n",
    "                        Spectrum1D(spectral_axis=result.records[0]['wavelength']*u.AA,\n",
    "                                   flux=result.records[0]['model']*specunit))\n",
    "    if 'old' in b:\n",
    "        #\n",
    "        # Remove the previous spectrum.\n",
    "        #\n",
    "        data0 = specviz.app.data_collection[0]\n",
    "        data1 = specviz.app.data_collection[1]\n",
    "        specviz.app.data_collection.remove(data0)\n",
    "        specviz.app.data_collection.remove(data1)\n",
    "    #\n",
    "    # Load the spectrum.\n",
    "    #\n",
    "    specviz.load_data(spectra[key][0], data_label=key + ' Data')\n",
    "    opt = specviz.plugins['Plot Options']\n",
    "    opt.layer = key + ' Data'\n",
    "    opt.line_color.value = '#000000'  # Black\n",
    "    opt.line_as_steps = True\n",
    "    opt.uncertainty_visible = True\n",
    "    #\n",
    "    # Add metadata.\n",
    "    #\n",
    "    meta0 = specviz.app.data_collection[0].meta\n",
    "    meta0['RA'] = result.records[0]['ra']\n",
    "    meta0['Dec'] = result.records[0]['dec']\n",
    "    meta0['redshift'] = result.records[0]['redshift']\n",
    "    meta0['redshift uncertainty'] = result.records[0]['redshift_err']\n",
    "    #\n",
    "    # Load the model.\n",
    "    #\n",
    "    specviz.load_data(spectra[key][1], data_label=key + ' Model')\n",
    "    opt = specviz.plugins['Plot Options']\n",
    "    opt.layer = key + ' Model'\n",
    "    opt.line_color.value = '#FF0000'  # Red\n",
    "    opt.line_as_steps = True\n",
    "    #\n",
    "    # This is a workaround for a bug where metadata is not initially displayed.\n",
    "    #\n",
    "    m = specviz.plugins['Metadata']\n",
    "    m.dataset = key + ' Model'\n",
    "    m.dataset = key + ' Data'"
   ]
  },
  {
   "cell_type": "markdown",
   "id": "0d15e2bc-5962-462d-9810-efd7780f8ad0",
   "metadata": {},
   "source": [
    "<a class=\"anchor\" id=\"plotjdaviz\"></a>\n",
    "## Plot spectra using Jdaviz\n",
    "Run the cell below to open the interactive plot in a new panel on the right. Information on the Toolbar options can be found in the [Jdaviz User Guide](https://jdaviz.readthedocs.io/en/latest/specviz/displaying.html).\n",
    "\n",
    "This cell will also display a drop-down menu that controls the spectrum that will be displayed in the interactive plot."
   ]
  },
  {
   "cell_type": "code",
   "execution_count": null,
   "id": "e6867ab3-b29c-46f1-94b8-7b5665c8bed5",
   "metadata": {},
   "outputs": [],
   "source": [
    "#\n",
    "# Set up Specviz and the drop-down menu.\n",
    "#\n",
    "spectra = dict()  # This will cache the retrieved spectra.\n",
    "entries = [(m['DESINAME'], i) for i, m in enumerate(metadata)]\n",
    "select = widgets.Dropdown(options=entries, value=0, description='Spectrum:',)\n",
    "output = widgets.Output()\n",
    "specviz = Specviz()\n",
    "#\n",
    "# Trigger the download if this is the very first spectrum.\n",
    "#\n",
    "on_selected({'new': 0})\n",
    "#\n",
    "# Connect the function action to the dropdown menu.\n",
    "#\n",
    "select.observe(on_selected, names='value')\n",
    "#\n",
    "# Open the display in a separate tab.\n",
    "#\n",
    "specviz.show('sidecar:split-bottom')\n",
    "#\n",
    "# Display the drop-down menu.\n",
    "#\n",
    "display(select, output)"
   ]
  },
  {
   "cell_type": "code",
   "execution_count": null,
   "id": "0acd5ab5-c0a6-4582-8287-db7ce1f25b0e",
   "metadata": {},
   "outputs": [],
   "source": []
  }
 ],
 "metadata": {
  "kernelspec": {
   "display_name": "Python 3",
   "language": "python",
   "name": "python3"
  },
  "language_info": {
   "codemirror_mode": {
    "name": "ipython",
    "version": 3
   },
   "file_extension": ".py",
   "mimetype": "text/x-python",
   "name": "python",
   "nbconvert_exporter": "python",
   "pygments_lexer": "ipython3",
   "version": "3.10.13"
  }
 },
 "nbformat": 4,
 "nbformat_minor": 5
}
