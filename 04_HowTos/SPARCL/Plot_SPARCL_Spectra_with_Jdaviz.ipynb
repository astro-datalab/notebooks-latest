{
 "cells": [
  {
   "cell_type": "markdown",
   "id": "e1cc9c08",
   "metadata": {},
   "source": [
    "# SPARCL + Jdaviz\n",
    "\n",
    "## Introduction\n",
    "\n",
    "This notebook is based on [an example](https://github.com/camipacifici/jdaviz/blob/concept-sparcl/notebooks/concepts/specviz_sparcl.ipynb) originally developed by [Camilla Pacifici](https://github.com/camipacifici). Additional assistance was provided by\n",
    "[Brett Morris](https://github.com/bmorris3).\n",
    "\n",
    "Packages:\n",
    "\n",
    "* [SPARCL](https://astrosparcl.datalab.noirlab.edu)\n",
    "* [Jdaviz](https://jdaviz.readthedocs.io/en/latest/index.html)\n",
    "* [jupyterlab-sidecar](https://github.com/jupyter-widgets/jupyterlab-sidecar)\n",
    "\n",
    "Installation tips:\n",
    "\n",
    "* `pip install sparclclient`\n",
    "* `pip install jdaviz`"
   ]
  },
  {
   "cell_type": "code",
   "execution_count": 1,
   "id": "1b12bf2e",
   "metadata": {},
   "outputs": [],
   "source": [
    "# SPARCL import\n",
    "from sparcl.client import SparclClient\n",
    "# Jdaviz import\n",
    "from jdaviz import Specviz\n",
    "# Jupyter\n",
    "import ipywidgets as widgets\n",
    "from IPython.display import display\n",
    "# Specutils import\n",
    "from specutils import Spectrum1D\n",
    "# Astropy import\n",
    "import astropy.units as u\n",
    "from astropy.nddata import InverseVariance, StdDevUncertainty\n"
   ]
  },
  {
   "cell_type": "markdown",
   "id": "5580d04f",
   "metadata": {},
   "source": [
    "## Set up the SPARCL client"
   ]
  },
  {
   "cell_type": "code",
   "execution_count": 2,
   "id": "482c5e93",
   "metadata": {},
   "outputs": [
    {
     "data": {
      "text/plain": [
       "{'BOSS-DR16', 'DESI-EDR', 'SDSS-DR16'}"
      ]
     },
     "execution_count": 2,
     "metadata": {},
     "output_type": "execute_result"
    }
   ],
   "source": [
    "client = SparclClient()\n",
    "client.all_datasets\n"
   ]
  },
  {
   "cell_type": "code",
   "execution_count": null,
   "id": "1c310bd4",
   "metadata": {},
   "outputs": [],
   "source": [
    "# client.get_all_fields(dataset_list=['SDSS-DR16'])\n"
   ]
  },
  {
   "cell_type": "code",
   "execution_count": null,
   "id": "9e288542-73aa-45cf-9f69-668bd3208d70",
   "metadata": {},
   "outputs": [],
   "source": [
    "# client.get_all_fields(dataset_list=['DESI-EDR'])\n"
   ]
  },
  {
   "cell_type": "markdown",
   "id": "04a75db2",
   "metadata": {},
   "source": [
    "## Run a search"
   ]
  },
  {
   "cell_type": "code",
   "execution_count": 3,
   "id": "9b7d99c6",
   "metadata": {},
   "outputs": [],
   "source": [
    "outfields = ['sparcl_id', 'ra', 'dec', 'spectype', 'subtype', 'specid',\n",
    "             'redshift', 'redshift_err',]\n",
    "constraints = {'redshift': [2.0, 5.0],\n",
    "               'redshift_warning': [0],\n",
    "               'specprimary': [1],\n",
    "               'spectype': ['QSO'],\n",
    "               'data_release': ['DESI-EDR'],\n",
    "               }\n"
   ]
  },
  {
   "cell_type": "code",
   "execution_count": 4,
   "id": "9ae27a9b",
   "metadata": {},
   "outputs": [],
   "source": [
    "found = client.find(outfields=outfields,\n",
    "                    constraints=constraints,\n",
    "                    limit=50)\n"
   ]
  },
  {
   "cell_type": "code",
   "execution_count": 5,
   "id": "91008745-9ff5-485c-92cb-7554628a0f60",
   "metadata": {},
   "outputs": [],
   "source": [
    "for record in found.records:\n",
    "    if record['_dr'] == 'DESI-EDR':\n",
    "        record['DESIID'] = f\"DESI J{record['ra']:08.4f}{record['dec']:+08.4f}\"\n",
    "metadata = sorted(found.records, key=lambda x: x['DESIID'])\n",
    "ids = [m['sparcl_id'] for m in metadata]\n"
   ]
  },
  {
   "cell_type": "markdown",
   "id": "34470890",
   "metadata": {},
   "source": [
    "## Retrieve the records"
   ]
  },
  {
   "cell_type": "code",
   "execution_count": 7,
   "id": "1d036ac5-7310-43a1-8346-f0eff7c0010d",
   "metadata": {},
   "outputs": [
    {
     "name": "stderr",
     "output_type": "stream",
     "text": [
      "WARNING: UnitsWarning: The unit 'Angstrom' has been deprecated in the VOUnit standard. Suggested: 0.1nm. [astropy.units.format.utils]\n",
      "WARNING:astropy:UnitsWarning: The unit 'Angstrom' has been deprecated in the VOUnit standard. Suggested: 0.1nm.\n",
      "WARNING: UnitsWarning: The unit 'Angstrom' has been deprecated in the VOUnit standard. Suggested: 0.1nm. [astropy.units.format.utils]\n",
      "WARNING:astropy:UnitsWarning: The unit 'Angstrom' has been deprecated in the VOUnit standard. Suggested: 0.1nm.\n",
      "WARNING: UnitsWarning: The unit 'Angstrom' has been deprecated in the VOUnit standard. Suggested: 0.1nm. [astropy.units.format.utils]\n",
      "WARNING:astropy:UnitsWarning: The unit 'Angstrom' has been deprecated in the VOUnit standard. Suggested: 0.1nm.\n"
     ]
    },
    {
     "data": {
      "application/vnd.jupyter.widget-view+json": {
       "model_id": "72dcdcf7904e4f6ea1dc32ba235e7649",
       "version_major": 2,
       "version_minor": 0
      },
      "text/plain": [
       "Dropdown(description='Spectrum:', options=(('DESI J115.5757+17.6172', 0), ('DESI J127.5210+30.9286', 1), ('DES…"
      ]
     },
     "metadata": {},
     "output_type": "display_data"
    },
    {
     "data": {
      "application/vnd.jupyter.widget-view+json": {
       "model_id": "296d218825e34106a554d2750ecef375",
       "version_major": 2,
       "version_minor": 0
      },
      "text/plain": [
       "Output()"
      ]
     },
     "metadata": {},
     "output_type": "display_data"
    }
   ],
   "source": [
    "specunit = u.Unit('10-17 erg cm-2 s-1 AA-1')\n",
    "spectra = dict()  # This will cache the retrieved spectra.\n",
    "entries = [(m['DESIID'], i) for i, m in enumerate(metadata)]\n",
    "select = widgets.Dropdown(options=entries, value=0, description='Spectrum:',)\n",
    "output = widgets.Output()\n",
    "specviz = Specviz()\n",
    "\n",
    "def on_selected(b):\n",
    "    key = entries[b['new']][0]\n",
    "    result = client.retrieve(uuid_list=[ids[b['new']]],\n",
    "                             include=['specid',\n",
    "                                      'survey',\n",
    "                                      'ra',\n",
    "                                      'dec',\n",
    "                                      'redshift',\n",
    "                                      'redshift_err',\n",
    "                                      'flux',\n",
    "                                      'ivar',\n",
    "                                      'wavelength',\n",
    "                                      'mask',\n",
    "                                      'model'])\n",
    "    if key not in spectra:\n",
    "        spectra[key] = (Spectrum1D(spectral_axis=result.records[0]['wavelength']*u.AA,\n",
    "                                   flux=result.records[0]['flux']*specunit,\n",
    "                                   uncertainty=InverseVariance(result.records[0]['ivar']*(specunit**-2)).represent_as(StdDevUncertainty),\n",
    "                                   mask=result.records[0]['mask'],\n",
    "                                   redshift=result.records[0]['redshift']),\n",
    "                        Spectrum1D(spectral_axis=result.records[0]['wavelength']*u.AA,\n",
    "                                   flux=result.records[0]['model']*specunit))\n",
    "    if 'old' in b:\n",
    "        #\n",
    "        # Remove the previous spectrum.\n",
    "        #\n",
    "        data0 = specviz.app.data_collection[0]\n",
    "        data1 = specviz.app.data_collection[1]\n",
    "        specviz.app.data_collection.remove(data0)\n",
    "        specviz.app.data_collection.remove(data1)\n",
    "    #\n",
    "    # Load the spectrum.\n",
    "    #\n",
    "    specviz.load_data(spectra[key][0], data_label=key + ' Data')\n",
    "    opt = specviz.plugins['Plot Options']\n",
    "    opt.layer = key + ' Data'\n",
    "    opt.line_color.value = '#000000'  # Black\n",
    "    opt.line_as_steps = True\n",
    "    opt.uncertainty_visible = True\n",
    "    #\n",
    "    # Add metadata.\n",
    "    #\n",
    "    meta0 = specviz.app.data_collection[0].meta\n",
    "    meta0['RA'] = result.records[0]['ra']\n",
    "    meta0['Dec'] = result.records[0]['dec']\n",
    "    meta0['redshift'] = result.records[0]['redshift']\n",
    "    meta0['redshift uncertainty'] = result.records[0]['redshift_err']\n",
    "    #\n",
    "    # Load the model.\n",
    "    #\n",
    "    specviz.load_data(spectra[key][1], data_label=key + ' Model')\n",
    "    opt = specviz.plugins['Plot Options']\n",
    "    opt.layer = key + ' Model'\n",
    "    opt.line_color.value = '#FF0000'  # Red\n",
    "    opt.line_as_steps = True\n",
    "    #\n",
    "    # This is a workaround for a bug where metadata is not initially displayed.\n",
    "    #\n",
    "    m = specviz.plugins['Metadata']\n",
    "    m.dataset = key + ' Model'\n",
    "    m.dataset = key + ' Data'\n",
    "    # with output:\n",
    "    #     print(spectra)\n",
    "\n",
    "#\n",
    "# Trigger the download if this is the very first spectrum.\n",
    "#\n",
    "on_selected({'new': 0})\n",
    "#\n",
    "# Connect the function action to the dropdown menu.\n",
    "#\n",
    "select.observe(on_selected, names='value')\n",
    "#\n",
    "# Open the display in a separate tab.\n",
    "#\n",
    "specviz.show('sidecar:split-right')\n",
    "#\n",
    "# Display the drop-down menu.\n",
    "#\n",
    "display(select, output)\n"
   ]
  },
  {
   "cell_type": "code",
   "execution_count": null,
   "id": "3b20d893-39ba-4189-bf16-bef149c9244e",
   "metadata": {},
   "outputs": [],
   "source": []
  }
 ],
 "metadata": {
  "kernelspec": {
   "display_name": "Python 3 (ipykernel)",
   "language": "python",
   "name": "python3"
  },
  "language_info": {
   "codemirror_mode": {
    "name": "ipython",
    "version": 3
   },
   "file_extension": ".py",
   "mimetype": "text/x-python",
   "name": "python",
   "nbconvert_exporter": "python",
   "pygments_lexer": "ipython3",
   "version": "3.10.10"
  }
 },
 "nbformat": 4,
 "nbformat_minor": 5
}
