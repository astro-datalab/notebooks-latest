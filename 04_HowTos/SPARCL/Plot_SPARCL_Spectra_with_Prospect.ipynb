{
 "cells": [
  {
   "cell_type": "code",
   "execution_count": null,
   "metadata": {},
   "outputs": [],
   "source": [
    "__author__ = 'Eric Armengaud, Benjamin Weaver <benjamin.weaver@noirlab.edu>, Alice Jacques <alice.jacques@noirlab.edu>'\n",
    "__version__ = '20240124' # yyyymmdd\n",
    "__datasets__ = ['sdss_dr16', 'boss_dr16', 'desi_edr']\n",
    "__keywords__ = ['sparcl', 'spectroscopy', 'sdss spectra', 'desi spectra', 'tutorial', 'prospect', 'specutils']"
   ]
  },
  {
   "cell_type": "markdown",
   "metadata": {},
   "source": [
    "# Obtain and plot spectra data using SPARCL, prospect, and specutils\n",
    "\n",
    "*Credit*: [Eric Armengaud](https://github.com/armengau), Saclay - CEA, is the primary author of prospect. See also the [prospect contributors](https://github.com/desihub/prospect/graphs/contributors). [Benjamin Weaver](https://github.com/weaverba137) and [Alice Jacques](https://github.com/jacquesalice) contributed to the development of this notebook."
   ]
  },
  {
   "cell_type": "markdown",
   "metadata": {},
   "source": [
    "### Table of contents\n",
    "* [Goals](#goals)\n",
    "* [Disclaimer & attribution](#disclaimer)\n",
    "* [Imports and setup](#imports)\n",
    "* Find, retrieve, and plot spectra from:\n",
    "    * [DESI](#desi)\n",
    "    * [SDSS](#sdss)\n",
    "    * [(e)BOSS](#boss)"
   ]
  },
  {
   "cell_type": "markdown",
   "metadata": {},
   "source": [
    "<a class=\"anchor\" id=\"goals\"></a>\n",
    "## Goals\n",
    "*Project*: Obtain DESI EDR, SDSS DR16, and (e)BOSS DR16 spectra using the [NOIRLab SPARCL spectrum service](https://astrosparcl.datalab.noirlab.edu), convert data to [specutils objects](https://specutils.readthedocs.io/en/stable/) as needed, and use [prospect](https://desi-prospect.readthedocs.io/en/latest/) to display the data.\n",
    "\n",
    "*Takeaway*: At no point in this notebook will any data files be opened.\n",
    "\n",
    "*Takeaway*: prospect allows multiple, independent spectra visualizations to coexist within the same notebook.\n",
    "\n",
    "This notebook is an adaptation of the [Prospect + specutils + SPARCL](https://github.com/desihub/prospect/blob/main/doc/nb/Prospect_spectrum_service.ipynb) notebook."
   ]
  },
  {
   "cell_type": "markdown",
   "metadata": {},
   "source": [
    "<a class=\"anchor\" id=\"disclaimer\"></a>\n",
    "## Disclaimer & attribution\n",
    "If you use this notebook for your published science, please acknowledge the following:\n",
    "\n",
    "* Data Lab concept paper: Fitzpatrick et al., \"The NOAO Data Laboratory: a conceptual overview\", SPIE, 9149, 2014, http://dx.doi.org/10.1117/12.2057445\n",
    "\n",
    "* Data Lab disclaimer: https://datalab.noirlab.edu/disclaimers.php\n",
    "\n",
    "* SPARCL: https://astrosparcl.datalab.noirlab.edu/sparc/acknowledgments/\n",
    "\n",
    "* prospect: [Eric Armengaud](https://github.com/armengau), Saclay - CEA, the primary author of prospect. See also the [prospect contributors](https://github.com/desihub/prospect/graphs/contributors)."
   ]
  },
  {
   "cell_type": "markdown",
   "metadata": {},
   "source": [
    "<a class=\"anchor\" id=\"imports\"></a>\n",
    "## Imports and setup\n",
    "\n",
    "Note that we are not relying heavily on the DESI software stack (`DESI 23.1`), although some imports will be embedded within `prospect`."
   ]
  },
  {
   "cell_type": "code",
   "execution_count": null,
   "metadata": {
    "tags": []
   },
   "outputs": [],
   "source": [
    "from numba import NumbaDeprecationWarning\n",
    "import warnings\n",
    "warnings.filterwarnings(\"ignore\", category=NumbaDeprecationWarning, message=r'.*numba\\.jit.*')\n",
    "import numpy as np\n",
    "import astropy.units as u\n",
    "from astropy.nddata import InverseVariance\n",
    "from specutils import __version__ as specutils_version, Spectrum1D\n",
    "from bokeh import __version__ as bokeh_version\n",
    "from prospect import __version__ as prospect_version\n",
    "from prospect.viewer import plotspectra\n",
    "from prospect.specutils import Spectra\n",
    "from sparcl import __version__ as sparcl_version\n",
    "from sparcl.client import SparclClient\n",
    "from dl import __version__ as dl_version, queryClient as qc\n",
    "print(f\"astro-datalab=={dl_version}\")\n",
    "print(f\"specutils=={specutils_version}\")\n",
    "print(f\"bokeh=={bokeh_version}\")\n",
    "print(f\"prospect=={prospect_version}\")\n",
    "print(f\"sparcl=={sparcl_version}\")"
   ]
  },
  {
   "cell_type": "markdown",
   "metadata": {},
   "source": [
    "### Start SPARCL Client"
   ]
  },
  {
   "cell_type": "code",
   "execution_count": null,
   "metadata": {
    "tags": []
   },
   "outputs": [],
   "source": [
    "client = SparclClient()\n",
    "client"
   ]
  },
  {
   "cell_type": "markdown",
   "metadata": {},
   "source": [
    "### Set up Data Lab database interface\n",
    "\n",
    "All data should be visible in the 'default' profile"
   ]
  },
  {
   "cell_type": "code",
   "execution_count": null,
   "metadata": {
    "tags": []
   },
   "outputs": [],
   "source": [
    "qc.get_profile()"
   ]
  },
  {
   "cell_type": "markdown",
   "metadata": {},
   "source": [
    "<a class=\"anchor\" id=\"desi\"></a>\n",
    "## DESI"
   ]
  },
  {
   "cell_type": "markdown",
   "metadata": {},
   "source": [
    "### Find DESI spectra\n",
    "\n",
    "SPARCL provides access to DESI spectra that have been coadded by HEALPixel.  This corresponds to entries in the `desi_edr.zpix` table at Astro Data Lab (see column information [here](https://datalab.noirlab.edu/query.php?name=desi_edr.zpix))."
   ]
  },
  {
   "cell_type": "code",
   "execution_count": null,
   "metadata": {},
   "outputs": [],
   "source": [
    "q = \"\"\"\n",
    "SELECT z.targetid, z.chi2, z.z, z.zerr, z.zwarn, z.spectype, z.subtype,\n",
    "       z.coadd_numexp, z.coadd_exptime, z.healpix, z.deltachi2\n",
    "FROM desi_edr.zpix AS z\n",
    "WHERE z.zcat_primary\n",
    "    AND z.survey = 'sv3'\n",
    "    AND z.program = 'dark'\n",
    "    AND z.spectype = 'GALAXY'\n",
    "    AND z.z BETWEEN 0.5 AND 0.9\n",
    "    AND z.zwarn = 0\n",
    "ORDER BY z.targetid\n",
    "LIMIT 50\n",
    "\"\"\"\n",
    "desi_ids = qc.query(sql=q, fmt='table')\n",
    "desi_ids"
   ]
  },
  {
   "cell_type": "markdown",
   "metadata": {},
   "source": [
    "**QA**: Do we really have 50 unique spectra?"
   ]
  },
  {
   "cell_type": "code",
   "execution_count": null,
   "metadata": {},
   "outputs": [],
   "source": [
    "assert (np.unique(desi_ids['targetid']) == desi_ids['targetid']).all()"
   ]
  },
  {
   "cell_type": "markdown",
   "metadata": {},
   "source": [
    "### Retrieve DESI spectra\n",
    "\n",
    "With the set of `targetid` obtained above, we can directly retrieve DESI spectra."
   ]
  },
  {
   "cell_type": "code",
   "execution_count": null,
   "metadata": {
    "tags": []
   },
   "outputs": [],
   "source": [
    "include = client.get_all_fields(dataset_list=['DESI-EDR'])\n",
    "desi_spectra = client.retrieve_by_specid(specid_list=desi_ids['targetid'].value.tolist(),\n",
    "                                         include=include,\n",
    "                                         dataset_list=['DESI-EDR'])\n",
    "desi_spectra.info"
   ]
  },
  {
   "cell_type": "markdown",
   "metadata": {},
   "source": [
    "**QA**: Did we really find all of the expected spectra?"
   ]
  },
  {
   "cell_type": "code",
   "execution_count": null,
   "metadata": {},
   "outputs": [],
   "source": [
    "targetids_sorted = sorted(desi_spectra.records, key=lambda x: x.targetid)\n",
    "assert (np.array([r.targetid for r in targetids_sorted]) == desi_ids['targetid']).all()\n",
    "assert all([r.survey == 'sv3' for r in desi_spectra.records])\n",
    "assert all([r.program == 'dark' for r in desi_spectra.records])"
   ]
  },
  {
   "cell_type": "markdown",
   "metadata": {},
   "source": [
    "**QA**: Do all spectra records have the same wavelength solution?"
   ]
  },
  {
   "cell_type": "code",
   "execution_count": null,
   "metadata": {},
   "outputs": [],
   "source": [
    "assert all([(r.wavelength == desi_spectra.records[0].wavelength).all() for r in desi_spectra.records])"
   ]
  },
  {
   "cell_type": "markdown",
   "metadata": {},
   "source": [
    "**QA**: Are any of the spectra fully masked?"
   ]
  },
  {
   "cell_type": "code",
   "execution_count": null,
   "metadata": {
    "tags": []
   },
   "outputs": [],
   "source": [
    "desi_fully_masked = np.zeros((len(desi_spectra.records), ), dtype=bool)\n",
    "\n",
    "for k in range(len(desi_spectra.records)):\n",
    "    assert np.isfinite(desi_spectra.records[k].flux).all()\n",
    "    assert np.isfinite(desi_spectra.records[k].ivar).all()\n",
    "    if (desi_spectra.records[k].mask > 0).all():\n",
    "        print(f\"WARNING: Spectrum record {k:d} is fully masked!\")\n",
    "        desi_fully_masked[k] = True"
   ]
  },
  {
   "cell_type": "markdown",
   "metadata": {},
   "source": [
    "#### View the contents of the first retrieved record"
   ]
  },
  {
   "cell_type": "code",
   "execution_count": null,
   "metadata": {},
   "outputs": [],
   "source": [
    "desi_spectra.records[0]"
   ]
  },
  {
   "cell_type": "markdown",
   "metadata": {},
   "source": [
    "### Organize metadata\n",
    "\n",
    "Prospect needs several inputs:\n",
    "\n",
    "1. An object containing spectra.  In this case we'll use [`prospect.specutils.Spectra`](https://desi-prospect.readthedocs.io/en/latest/api.html#prospect.specutils.Spectra), which inherits from [`SpectrumList`](https://specutils.readthedocs.io/en/stable/api/specutils.SpectrumList.html#specutils.SpectrumList), and is really just a [`Spectrum1D`](https://specutils.readthedocs.io/en/stable/api/specutils.Spectrum1D.html#specutils.Spectrum1D) object underneath.\n",
    "   * The object contains the usual flux, wavelength, uncertainty.\n",
    "   * In addtion a \"fibermap\" table is needed. This should be an Astropy `Table` with the expected columns.\n",
    "2. A redshift catalog. This should be an Astropy `Table` with the expected columns.\n",
    "3. A model spectrum.  The model is actually provided by SPARCL, but we need to input it separately.\n",
    "\n",
    "#### Spectrum object\n",
    "\n",
    "First we assemble the components of the spectrum object"
   ]
  },
  {
   "cell_type": "code",
   "execution_count": null,
   "metadata": {},
   "outputs": [],
   "source": [
    "flux = np.zeros((len(desi_spectra.records), desi_spectra.records[0].flux.shape[0]),\n",
    "                dtype=desi_spectra.records[0].flux.dtype)\n",
    "uncertainty = np.zeros((len(desi_spectra.records), desi_spectra.records[0].ivar.shape[0]),\n",
    "                       dtype=desi_spectra.records[0].ivar.dtype)\n",
    "mask = np.zeros((len(desi_spectra.records), desi_spectra.records[0].mask.shape[0]),\n",
    "                dtype=desi_spectra.records[0].mask.dtype)\n",
    "\n",
    "meta = {'sparcl_id': list(), 'data_release': list()}\n",
    "sparcl_id = list()\n",
    "data_release = list()\n",
    "\n",
    "for k in range(len(desi_spectra.records)):\n",
    "    flux[k, :] = desi_spectra.records[k].flux\n",
    "    uncertainty[k, :] = desi_spectra.records[k].ivar\n",
    "    mask[k, :] = desi_spectra.records[k].mask\n",
    "    meta['sparcl_id'].append(desi_spectra.records[k].sparcl_id)\n",
    "    meta['data_release'].append(desi_spectra.records[k].data_release)"
   ]
  },
  {
   "cell_type": "markdown",
   "metadata": {},
   "source": [
    "And the \"fibermap\" table. We'll start with photometric quantities."
   ]
  },
  {
   "cell_type": "code",
   "execution_count": null,
   "metadata": {},
   "outputs": [],
   "source": [
    "columns = ('targetid', 'ra', 'dec', 'ref_epoch', 'pmra', 'pmdec', 'ebv',\n",
    "           'flux_g', 'flux_r', 'flux_z', 'flux_w1', 'flux_w2')\n",
    "q = \"\"\"\n",
    "SELECT {0}\n",
    "FROM desi_edr.photometry\n",
    "WHERE targetid IN ({1})\n",
    "ORDER BY targetid\n",
    "\"\"\".format(', '.join(columns), ', '.join([str(t) for t in desi_ids['targetid'].value.tolist()]))\n",
    "\n",
    "fibermap = qc.query(sql=q, fmt='table')"
   ]
  },
  {
   "cell_type": "code",
   "execution_count": null,
   "metadata": {},
   "outputs": [],
   "source": [
    "for col in fibermap.colnames:\n",
    "    if col == 'ra' or col == 'dec':\n",
    "        fibermap.rename_column(col, 'TARGET_' + col.upper())\n",
    "    else:\n",
    "        fibermap.rename_column(col, col.upper())"
   ]
  },
  {
   "cell_type": "markdown",
   "metadata": {},
   "source": [
    "**QA**: Did we find photometry for every `targetid`?"
   ]
  },
  {
   "cell_type": "code",
   "execution_count": null,
   "metadata": {},
   "outputs": [],
   "source": [
    "assert (fibermap['TARGETID'] == desi_ids['targetid']).all()"
   ]
  },
  {
   "cell_type": "markdown",
   "metadata": {},
   "source": [
    "Next we add targeting bitmasks."
   ]
  },
  {
   "cell_type": "code",
   "execution_count": null,
   "metadata": {},
   "outputs": [],
   "source": [
    "columns = ('targetid', 'sv3_desi_target', 'sv3_bgs_target', 'sv3_mws_target', 'sv3_scnd_target')\n",
    "q = \"\"\"\n",
    "SELECT DISTINCT {0}\n",
    "FROM desi_edr.target\n",
    "WHERE targetid IN ({1})\n",
    "ORDER BY targetid\n",
    "\"\"\".format(', '.join(columns), ', '.join([str(t) for t in fibermap['TARGETID'].value.tolist()]))\n",
    "\n",
    "targeting = qc.query(sql=q, fmt='table')"
   ]
  },
  {
   "cell_type": "code",
   "execution_count": null,
   "metadata": {},
   "outputs": [],
   "source": [
    "for col in targeting.colnames:\n",
    "    targeting.rename_column(col, col.upper())"
   ]
  },
  {
   "cell_type": "markdown",
   "metadata": {},
   "source": [
    "**QA**: Did we find targeting for every `targetid`?"
   ]
  },
  {
   "cell_type": "code",
   "execution_count": null,
   "metadata": {},
   "outputs": [],
   "source": [
    "assert (targeting['TARGETID'] == fibermap['TARGETID']).all()"
   ]
  },
  {
   "cell_type": "markdown",
   "metadata": {},
   "source": [
    "Add columns into `fibermap`."
   ]
  },
  {
   "cell_type": "code",
   "execution_count": null,
   "metadata": {},
   "outputs": [],
   "source": [
    "for col in ('SV3_DESI_TARGET', 'SV3_BGS_TARGET', 'SV3_MWS_TARGET', 'SV3_SCND_TARGET'):\n",
    "    fibermap.add_column(targeting[col])\n",
    "fibermap"
   ]
  },
  {
   "cell_type": "markdown",
   "metadata": {},
   "source": [
    "Finally assemble the object."
   ]
  },
  {
   "cell_type": "code",
   "execution_count": null,
   "metadata": {},
   "outputs": [],
   "source": [
    "desi_prospect = Spectra(bands=['coadd'],\n",
    "                        wave={'coadd': desi_spectra.records[0].wavelength},\n",
    "                        flux={'coadd': flux[~desi_fully_masked, :]},\n",
    "                        ivar={'coadd': uncertainty[~desi_fully_masked, :]},\n",
    "                        mask={'coadd': mask[~desi_fully_masked, :]},\n",
    "                        fibermap=fibermap[~desi_fully_masked],\n",
    "                        meta={'coadd': meta})"
   ]
  },
  {
   "cell_type": "markdown",
   "metadata": {},
   "source": [
    "#### Redshift catalog\n",
    "\n",
    "We can re-use the initial query above; it was deliberately constructed."
   ]
  },
  {
   "cell_type": "code",
   "execution_count": null,
   "metadata": {},
   "outputs": [],
   "source": [
    "desi_zcatalog = desi_ids.copy()\n",
    "for col in desi_zcatalog.colnames:\n",
    "    if col == 'healpix':\n",
    "        desi_zcatalog.rename_column(col, 'HPXPIXEL')\n",
    "    else:\n",
    "        desi_zcatalog.rename_column(col, col.upper())\n",
    "desi_zcatalog"
   ]
  },
  {
   "cell_type": "markdown",
   "metadata": {},
   "source": [
    "#### Model spectra\n",
    "\n",
    "Prospect expects a model in the form of a tuple containing wavelength and flux. Since SPARCL provides the model, this is easy.  There are other ways to specify the model, but these require more access to the DESI software stack *and* data *files*."
   ]
  },
  {
   "cell_type": "code",
   "execution_count": null,
   "metadata": {},
   "outputs": [],
   "source": [
    "model_flux = np.zeros((len(desi_spectra.records), desi_spectra.records[0].model.shape[0]),\n",
    "                      dtype=desi_spectra.records[0].model.dtype)\n",
    "\n",
    "for k in range(len(desi_spectra.records)):\n",
    "        model_flux[k, :] = desi_spectra.records[k].model\n",
    "\n",
    "desi_model = (desi_spectra.records[0].wavelength, model_flux[~desi_fully_masked, :])"
   ]
  },
  {
   "cell_type": "markdown",
   "metadata": {},
   "source": [
    "### Start prospect\n",
    "\n",
    "With everything assembled, the interface to prospect is just a single call."
   ]
  },
  {
   "cell_type": "code",
   "execution_count": null,
   "metadata": {
    "tags": []
   },
   "outputs": [],
   "source": [
    "plotspectra(desi_prospect,\n",
    "            zcatalog=desi_zcatalog[~desi_fully_masked],\n",
    "            redrock_cat=None,\n",
    "            notebook=True,\n",
    "            with_thumb_tab=False,\n",
    "            with_vi_widgets=False,\n",
    "            with_coaddcam=False,\n",
    "            mask_type='SV3_DESI_TARGET',\n",
    "            model_from_zcat=False,\n",
    "            model=desi_model)"
   ]
  },
  {
   "cell_type": "markdown",
   "metadata": {},
   "source": [
    "<a class=\"anchor\" id=\"sdss\"></a>\n",
    "## SDSS"
   ]
  },
  {
   "cell_type": "markdown",
   "metadata": {},
   "source": [
    "### Find SDSS spectra"
   ]
  },
  {
   "cell_type": "code",
   "execution_count": null,
   "metadata": {
    "tags": []
   },
   "outputs": [],
   "source": [
    "q = \"\"\"\n",
    "SELECT z.specobjid, z.bestobjid, z.z, z.zerr, z.zwarning, z.class, z.subclass,\n",
    "       z.rchi2diff, z.primtarget, z.sectarget\n",
    "FROM sdss_dr16.specobj AS z\n",
    "WHERE z.bestobjid > 0\n",
    "    AND z.run2d = '26'\n",
    "    AND z.plate = 2955\n",
    "    AND z.mjd = 54562\n",
    "    AND z.class = 'GALAXY'\n",
    "    AND z.zwarning = 0\n",
    "ORDER BY z.specobjid\n",
    "LIMIT 50\n",
    "\"\"\"\n",
    "sdss_ids = qc.query(sql=q, fmt='table')\n",
    "sdss_ids"
   ]
  },
  {
   "cell_type": "markdown",
   "metadata": {},
   "source": [
    "**QA**: Do we really have 50 unique spectra?"
   ]
  },
  {
   "cell_type": "code",
   "execution_count": null,
   "metadata": {
    "tags": []
   },
   "outputs": [],
   "source": [
    "assert (np.unique(sdss_ids['specobjid']) == sdss_ids['specobjid']).all()"
   ]
  },
  {
   "cell_type": "markdown",
   "metadata": {},
   "source": [
    "### Retrieve SDSS spectra\n",
    "\n",
    "With the set of `specobjid` obtained above, we can directly retrieve SDSS spectra."
   ]
  },
  {
   "cell_type": "code",
   "execution_count": null,
   "metadata": {
    "tags": []
   },
   "outputs": [],
   "source": [
    "include = client.get_all_fields(dataset_list=['SDSS-DR16'])\n",
    "sdss_spectra = client.retrieve_by_specid(specid_list=sdss_ids['specobjid'].value.tolist(),\n",
    "                                         include=include,\n",
    "                                         dataset_list=['SDSS-DR16'])\n",
    "sdss_spectra.info"
   ]
  },
  {
   "cell_type": "markdown",
   "metadata": {},
   "source": [
    "**QA**: Did we really find all of the expected spectra? Note that we have to assume `specid == specobjid`."
   ]
  },
  {
   "cell_type": "code",
   "execution_count": null,
   "metadata": {
    "tags": []
   },
   "outputs": [],
   "source": [
    "sdss_specids_sorted = sorted(sdss_spectra.records, key=lambda x: x.specid)\n",
    "assert (np.array([r.specid for r in sdss_specids_sorted]) == sdss_ids['specobjid']).all()\n",
    "assert all([r.plate == 2955 for r in sdss_spectra.records])\n",
    "assert all([r.mjd == 54562 for r in sdss_spectra.records])"
   ]
  },
  {
   "cell_type": "markdown",
   "metadata": {},
   "source": [
    "**QA**: Do all spectra records have the same wavelength solution?"
   ]
  },
  {
   "cell_type": "code",
   "execution_count": null,
   "metadata": {
    "tags": []
   },
   "outputs": [],
   "source": [
    "assert all([(r.wavelength == sdss_spectra.records[0].wavelength).all() for r in sdss_spectra.records])"
   ]
  },
  {
   "cell_type": "markdown",
   "metadata": {},
   "source": [
    "**QA**: Are any of the spectra fully masked?"
   ]
  },
  {
   "cell_type": "code",
   "execution_count": null,
   "metadata": {
    "tags": []
   },
   "outputs": [],
   "source": [
    "sdss_fully_masked = np.zeros((len(sdss_spectra.records), ), dtype=bool)\n",
    "\n",
    "for k in range(len(sdss_spectra.records)):\n",
    "    assert np.isfinite(sdss_spectra.records[k].flux).all()\n",
    "    assert np.isfinite(sdss_spectra.records[k].ivar).all()\n",
    "    if (sdss_spectra.records[k].mask > 0).all():\n",
    "        print(f\"WARNING: Spectrum record {k:d} is fully masked!\")\n",
    "        sdss_fully_masked[k] = True"
   ]
  },
  {
   "cell_type": "markdown",
   "metadata": {},
   "source": [
    "**Note** that one of the spectra has a non-zero mask for every pixel. This will cause problems with some versions of Prospect, so for the demonstration below, we will not attempt to plot that spectrum. Future versions of Prospect will handle this more gracefully."
   ]
  },
  {
   "cell_type": "markdown",
   "metadata": {},
   "source": [
    "#### View the contents of the first retrieved record"
   ]
  },
  {
   "cell_type": "code",
   "execution_count": null,
   "metadata": {
    "tags": []
   },
   "outputs": [],
   "source": [
    "sdss_spectra.records[0]"
   ]
  },
  {
   "cell_type": "markdown",
   "metadata": {},
   "source": [
    "### Organize metadata\n",
    "\n",
    "Prospect needs several inputs:\n",
    "\n",
    "1. An object containing spectra.  In this case we'll use a [`Spectrum1D`](https://specutils.readthedocs.io/en/stable/api/specutils.Spectrum1D.html#specutils.Spectrum1D) object.\n",
    "   * The object contains the usual flux, wavelength, uncertainty.\n",
    "   * In addtion a \"plugmap\" table is needed. This should be an Astropy `Table` with the expected columns.\n",
    "2. A redshift catalog. This should be an Astropy `Table` with the expected columns.\n",
    "3. A model spectrum.  The model is actually provided by SPARCL, but we need to input it separately.\n",
    "\n",
    "#### Spectrum object\n",
    "\n",
    "First we assemble the components of the spectrum object"
   ]
  },
  {
   "cell_type": "code",
   "execution_count": null,
   "metadata": {
    "tags": []
   },
   "outputs": [],
   "source": [
    "flux = np.zeros((len(sdss_spectra.records), sdss_spectra.records[0].flux.shape[0]),\n",
    "                dtype=sdss_spectra.records[0].flux.dtype)\n",
    "uncertainty = np.zeros((len(sdss_spectra.records), sdss_spectra.records[0].ivar.shape[0]),\n",
    "                       dtype=sdss_spectra.records[0].ivar.dtype)\n",
    "mask = np.zeros((len(sdss_spectra.records), sdss_spectra.records[0].mask.shape[0]),\n",
    "                dtype=sdss_spectra.records[0].mask.dtype)\n",
    "\n",
    "meta = {'sparcl_id': list(), 'data_release': list()}\n",
    "sparcl_id = list()\n",
    "data_release = list()\n",
    "\n",
    "for k in range(len(sdss_spectra.records)):\n",
    "    flux[k, :] = sdss_spectra.records[k].flux\n",
    "    uncertainty[k, :] = sdss_spectra.records[k].ivar\n",
    "    mask[k, :] = sdss_spectra.records[k].mask\n",
    "    meta['sparcl_id'].append(sdss_spectra.records[k].sparcl_id)\n",
    "    meta['data_release'].append(sdss_spectra.records[k].data_release)"
   ]
  },
  {
   "cell_type": "markdown",
   "metadata": {},
   "source": [
    "And the \"plugmap\" table. We'll start with photometric quantities."
   ]
  },
  {
   "cell_type": "code",
   "execution_count": null,
   "metadata": {
    "tags": []
   },
   "outputs": [],
   "source": [
    "columns = ('objid', 'ra', 'dec', 'u', 'g', 'r', 'i', 'z')\n",
    "q = \"\"\"\n",
    "SELECT {0}\n",
    "FROM sdss_dr16.photoplate\n",
    "WHERE objid IN ({1})\n",
    "ORDER BY objid\n",
    "\"\"\".format(', '.join(columns), ', '.join([str(t) for t in sdss_ids['bestobjid'].value.tolist()]))\n",
    "\n",
    "plugmap = qc.query(sql=q, fmt='table')"
   ]
  },
  {
   "cell_type": "code",
   "execution_count": null,
   "metadata": {
    "tags": []
   },
   "outputs": [],
   "source": [
    "for col in plugmap.colnames:\n",
    "    plugmap.rename_column(col, col.upper())\n",
    "mag = np.zeros((len(plugmap), 5), dtype=plugmap['G'].value.dtype)\n",
    "for k, band in enumerate('UGRIZ'):\n",
    "    mag[:, k] = plugmap[band].value\n",
    "plugmap.add_column(mag, name='MAG')\n",
    "plugmap.add_column(sdss_ids['primtarget'], name='PRIMTARGET')\n",
    "plugmap.add_column(sdss_ids['sectarget'], name='SECTARGET')\n",
    "meta['plugmap'] = plugmap[~sdss_fully_masked]"
   ]
  },
  {
   "cell_type": "markdown",
   "metadata": {},
   "source": [
    "**QA**: Did we find photometry for every `bestobjid`?"
   ]
  },
  {
   "cell_type": "code",
   "execution_count": null,
   "metadata": {
    "tags": []
   },
   "outputs": [],
   "source": [
    "assert (plugmap['OBJID'] == sorted(sdss_ids['bestobjid'])).all()"
   ]
  },
  {
   "cell_type": "markdown",
   "metadata": {},
   "source": [
    "Finally assemble the object."
   ]
  },
  {
   "cell_type": "code",
   "execution_count": null,
   "metadata": {
    "tags": []
   },
   "outputs": [],
   "source": [
    "sdss_prospect = Spectrum1D(flux=flux[~sdss_fully_masked, :] * u.Unit('1e-17 erg / (Angstrom cm2 s)'),\n",
    "                           spectral_axis=sdss_spectra.records[0].wavelength * u.Unit('Angstrom'),\n",
    "                           uncertainty=InverseVariance(uncertainty[~sdss_fully_masked, :]),\n",
    "                           mask=mask[~sdss_fully_masked, :] != 0,\n",
    "                           meta=meta)"
   ]
  },
  {
   "cell_type": "markdown",
   "metadata": {},
   "source": [
    "#### Redshift catalog\n",
    "\n",
    "We can re-use the initial query above; it was deliberately constructed."
   ]
  },
  {
   "cell_type": "code",
   "execution_count": null,
   "metadata": {
    "tags": []
   },
   "outputs": [],
   "source": [
    "sdss_zcatalog = sdss_ids.copy()\n",
    "for col in sdss_zcatalog.colnames:\n",
    "    if col == 'zerr':\n",
    "        sdss_zcatalog.rename_column(col, 'Z_ERR')\n",
    "    else:\n",
    "        sdss_zcatalog.rename_column(col, col.upper())\n",
    "sdss_zcatalog"
   ]
  },
  {
   "cell_type": "markdown",
   "metadata": {},
   "source": [
    "#### Model spectra\n",
    "\n",
    "Prospect expects a model in the form of a tuple containing wavelength and flux. Since SPARCL provides the model, this is easy.  There are other ways to specify the model, but these require more access to the SDSS *files*."
   ]
  },
  {
   "cell_type": "code",
   "execution_count": null,
   "metadata": {
    "tags": []
   },
   "outputs": [],
   "source": [
    "model_flux = np.zeros((len(sdss_spectra.records), sdss_spectra.records[0].model.shape[0]),\n",
    "                      dtype=sdss_spectra.records[0].model.dtype)\n",
    "\n",
    "for k in range(len(sdss_spectra.records)):\n",
    "        model_flux[k, :] = sdss_spectra.records[k].model\n",
    "\n",
    "sdss_model = (sdss_spectra.records[0].wavelength, model_flux[~sdss_fully_masked, :])"
   ]
  },
  {
   "cell_type": "markdown",
   "metadata": {},
   "source": [
    "### Start prospect\n",
    "\n",
    "With everything assembled, the interface to prospect is just a single call."
   ]
  },
  {
   "cell_type": "code",
   "execution_count": null,
   "metadata": {
    "tags": []
   },
   "outputs": [],
   "source": [
    "plotspectra(sdss_prospect,\n",
    "            zcatalog=sdss_zcatalog[~sdss_fully_masked],\n",
    "            redrock_cat=None,\n",
    "            notebook=True,\n",
    "            with_thumb_tab=False,\n",
    "            with_vi_widgets=False,\n",
    "            with_coaddcam=False,\n",
    "            mask_type='PRIMTARGET',\n",
    "            model_from_zcat=False,\n",
    "            model=sdss_model)"
   ]
  },
  {
   "cell_type": "markdown",
   "metadata": {},
   "source": [
    "<a class=\"anchor\" id=\"boss\"></a>\n",
    "## (e)BOSS"
   ]
  },
  {
   "cell_type": "markdown",
   "metadata": {},
   "source": [
    "### Find (e)BOSS spectra"
   ]
  },
  {
   "cell_type": "code",
   "execution_count": null,
   "metadata": {
    "tags": []
   },
   "outputs": [],
   "source": [
    "q = \"\"\"\n",
    "SELECT z.specobjid, z.bestobjid, z.z, z.zerr, z.zwarning, z.class, z.subclass,\n",
    "       z.rchi2diff, z.boss_target1, z.eboss_target0, z.eboss_target1,\n",
    "       z.eboss_target2\n",
    "FROM sdss_dr16.specobj AS z\n",
    "WHERE z.bestobjid > 0\n",
    "    AND z.run2d = 'v5_13_0'\n",
    "    AND z.plate = 9599\n",
    "    AND z.mjd = 58131\n",
    "    AND z.class = 'GALAXY'\n",
    "    AND z.zwarning = 0\n",
    "ORDER BY z.specobjid\n",
    "LIMIT 50\n",
    "\"\"\"\n",
    "boss_ids = qc.query(sql=q, fmt='table')\n",
    "boss_ids"
   ]
  },
  {
   "cell_type": "markdown",
   "metadata": {},
   "source": [
    "**QA**: Do we really have 50 unique spectra?"
   ]
  },
  {
   "cell_type": "code",
   "execution_count": null,
   "metadata": {},
   "outputs": [],
   "source": [
    "assert (np.unique(boss_ids['specobjid']) == boss_ids['specobjid']).all()"
   ]
  },
  {
   "cell_type": "markdown",
   "metadata": {},
   "source": [
    "### Retrieve (e)BOSS spectra\n",
    "\n",
    "With the set of `specobjid` obtained above, we can directly retrieve (e)BOSS spectra."
   ]
  },
  {
   "cell_type": "code",
   "execution_count": null,
   "metadata": {
    "tags": []
   },
   "outputs": [],
   "source": [
    "include = client.get_all_fields(dataset_list=['BOSS-DR16'])\n",
    "boss_spectra = client.retrieve_by_specid(specid_list=boss_ids['specobjid'].value.tolist(),\n",
    "                                         include=include,\n",
    "                                         dataset_list=['BOSS-DR16'])\n",
    "boss_spectra.info"
   ]
  },
  {
   "cell_type": "markdown",
   "metadata": {
    "tags": []
   },
   "source": [
    "**QA**: Did we really find all of the expected spectra?"
   ]
  },
  {
   "cell_type": "code",
   "execution_count": null,
   "metadata": {
    "tags": []
   },
   "outputs": [],
   "source": [
    "boss_specids_sorted = sorted(boss_spectra.records, key=lambda x: x.specid)\n",
    "assert (np.array([r.specid for r in boss_specids_sorted]) == boss_ids['specobjid']).all()\n",
    "assert all([r.plate == 9599 for r in boss_spectra.records])\n",
    "assert all([r.mjd == 58131 for r in boss_spectra.records])"
   ]
  },
  {
   "cell_type": "markdown",
   "metadata": {},
   "source": [
    "**QA**: Do all spectra records have the same wavelength solution?"
   ]
  },
  {
   "cell_type": "code",
   "execution_count": null,
   "metadata": {
    "tags": []
   },
   "outputs": [],
   "source": [
    "assert all([(r.wavelength == boss_spectra.records[0].wavelength).all() for r in boss_spectra.records])"
   ]
  },
  {
   "cell_type": "markdown",
   "metadata": {},
   "source": [
    "**QA**: Are any of the spectra fully masked?"
   ]
  },
  {
   "cell_type": "code",
   "execution_count": null,
   "metadata": {
    "tags": []
   },
   "outputs": [],
   "source": [
    "boss_fully_masked = np.zeros((len(boss_spectra.records), ), dtype=bool)\n",
    "\n",
    "for k in range(len(boss_spectra.records)):\n",
    "    assert np.isfinite(boss_spectra.records[k].flux).all()\n",
    "    assert np.isfinite(boss_spectra.records[k].ivar).all()\n",
    "    if (boss_spectra.records[k].mask > 0).all():\n",
    "        print(f\"WARNING: Spectrum record {k:d} is fully masked!\")\n",
    "        boss_fully_masked[k] = True"
   ]
  },
  {
   "cell_type": "markdown",
   "metadata": {},
   "source": [
    "#### View the contents of the first retrieved record"
   ]
  },
  {
   "cell_type": "code",
   "execution_count": null,
   "metadata": {
    "tags": []
   },
   "outputs": [],
   "source": [
    "boss_spectra.records[0]"
   ]
  },
  {
   "cell_type": "markdown",
   "metadata": {},
   "source": [
    "### Organize metadata\n",
    "\n",
    "Prospect needs several inputs:\n",
    "\n",
    "1. An object containing spectra.  In this case we'll use a [`Spectrum1D`](https://specutils.readthedocs.io/en/stable/api/specutils.Spectrum1D.html#specutils.Spectrum1D) object.\n",
    "   * The object contains the usual flux, wavelength, uncertainty.\n",
    "   * In addtion a \"plugmap\" table is needed. This should be an Astropy `Table` with the expected columns.\n",
    "2. A redshift catalog. This should be an Astropy `Table` with the expected columns.\n",
    "3. A model spectrum.  The model is actually provided by SPARCL, but we need to input it separately.\n",
    "\n",
    "#### Spectrum object\n",
    "\n",
    "First we assemble the components of the spectrum object"
   ]
  },
  {
   "cell_type": "code",
   "execution_count": null,
   "metadata": {
    "tags": []
   },
   "outputs": [],
   "source": [
    "flux = np.zeros((len(boss_spectra.records), boss_spectra.records[0].flux.shape[0]),\n",
    "                dtype=boss_spectra.records[0].flux.dtype)\n",
    "uncertainty = np.zeros((len(boss_spectra.records), boss_spectra.records[0].ivar.shape[0]),\n",
    "                       dtype=boss_spectra.records[0].ivar.dtype)\n",
    "mask = np.zeros((len(boss_spectra.records), boss_spectra.records[0].mask.shape[0]),\n",
    "                dtype=boss_spectra.records[0].mask.dtype)\n",
    "\n",
    "meta = {'sparcl_id': list(), 'data_release': list()}\n",
    "sparcl_id = list()\n",
    "data_release = list()\n",
    "\n",
    "for k in range(len(boss_spectra.records)):\n",
    "    flux[k, :] = boss_spectra.records[k].flux\n",
    "    uncertainty[k, :] = boss_spectra.records[k].ivar\n",
    "    mask[k, :] = boss_spectra.records[k].mask\n",
    "    meta['sparcl_id'].append(boss_spectra.records[k].sparcl_id)\n",
    "    meta['data_release'].append(boss_spectra.records[k].data_release)"
   ]
  },
  {
   "cell_type": "markdown",
   "metadata": {
    "tags": []
   },
   "source": [
    "And the \"plugmap\" table. We'll start with photometric quantities."
   ]
  },
  {
   "cell_type": "code",
   "execution_count": null,
   "metadata": {
    "tags": []
   },
   "outputs": [],
   "source": [
    "columns = ('objid', 'ra', 'dec', 'u', 'g', 'r', 'i', 'z')\n",
    "q = \"\"\"\n",
    "SELECT {0}\n",
    "FROM sdss_dr16.photoplate\n",
    "WHERE objid IN ({1})\n",
    "ORDER BY objid\n",
    "\"\"\".format(', '.join(columns), ', '.join([str(t) for t in boss_ids['bestobjid'].value.tolist()]))\n",
    "\n",
    "plugmap = qc.query(sql=q, fmt='table')"
   ]
  },
  {
   "cell_type": "code",
   "execution_count": null,
   "metadata": {},
   "outputs": [],
   "source": [
    "for col in plugmap.colnames:\n",
    "    plugmap.rename_column(col, col.upper())\n",
    "mag = np.zeros((len(plugmap), 5), dtype=plugmap['G'].value.dtype)\n",
    "for k, band in enumerate('UGRIZ'):\n",
    "    mag[:, k] = plugmap[band].value\n",
    "plugmap.add_column(mag, name='MAG')\n",
    "plugmap.add_column(boss_ids['boss_target1'], name='BOSS_TARGET1')\n",
    "plugmap.add_column(boss_ids['eboss_target0'], name='EBOSS_TARGET0')\n",
    "plugmap.add_column(boss_ids['eboss_target1'], name='EBOSS_TARGET1')\n",
    "plugmap.add_column(boss_ids['eboss_target2'], name='EBOSS_TARGET2')\n",
    "meta['plugmap'] = plugmap[~boss_fully_masked]"
   ]
  },
  {
   "cell_type": "markdown",
   "metadata": {
    "tags": []
   },
   "source": [
    "**QA**: Did we find photometry for every `bestobjid`?"
   ]
  },
  {
   "cell_type": "code",
   "execution_count": null,
   "metadata": {
    "tags": []
   },
   "outputs": [],
   "source": [
    "assert (plugmap['OBJID'] == sorted(boss_ids['bestobjid'])).all()"
   ]
  },
  {
   "cell_type": "markdown",
   "metadata": {
    "tags": []
   },
   "source": [
    "Finally assemble the object."
   ]
  },
  {
   "cell_type": "code",
   "execution_count": null,
   "metadata": {
    "tags": []
   },
   "outputs": [],
   "source": [
    "boss_prospect = Spectrum1D(flux=flux[~boss_fully_masked, :] * u.Unit('1e-17 erg / (Angstrom cm2 s)'),\n",
    "                           spectral_axis=boss_spectra.records[0].wavelength * u.Unit('Angstrom'),\n",
    "                           uncertainty=InverseVariance(uncertainty[~boss_fully_masked, :]),\n",
    "                           mask=mask[~boss_fully_masked, :] != 0,\n",
    "                           meta=meta)"
   ]
  },
  {
   "cell_type": "markdown",
   "metadata": {
    "tags": []
   },
   "source": [
    "#### Redshift catalog\n",
    "\n",
    "We can re-use the initial query above; it was deliberately constructed."
   ]
  },
  {
   "cell_type": "code",
   "execution_count": null,
   "metadata": {
    "tags": []
   },
   "outputs": [],
   "source": [
    "boss_zcatalog = boss_ids.copy()\n",
    "for col in boss_zcatalog.colnames:\n",
    "    if col == 'zerr':\n",
    "        boss_zcatalog.rename_column(col, 'Z_ERR')\n",
    "    else:\n",
    "        boss_zcatalog.rename_column(col, col.upper())\n",
    "boss_zcatalog"
   ]
  },
  {
   "cell_type": "markdown",
   "metadata": {},
   "source": [
    "#### Model spectra\n",
    "\n",
    "Prospect expects a model in the form of a tuple containing wavelength and flux. Since SPARCL provides the model, this is easy.  There are other ways to specify the model, but these require more access to the (e)BOSS *files*."
   ]
  },
  {
   "cell_type": "code",
   "execution_count": null,
   "metadata": {
    "tags": []
   },
   "outputs": [],
   "source": [
    "model_flux = np.zeros((len(boss_spectra.records), boss_spectra.records[0].model.shape[0]),\n",
    "                      dtype=boss_spectra.records[0].model.dtype)\n",
    "\n",
    "for k in range(len(boss_spectra.records)):\n",
    "        model_flux[k, :] = boss_spectra.records[k].model\n",
    "\n",
    "boss_model = (boss_spectra.records[0].wavelength, model_flux[~boss_fully_masked, :])"
   ]
  },
  {
   "cell_type": "markdown",
   "metadata": {},
   "source": [
    "### Start prospect\n",
    "\n",
    "With everything assembled, the interface to prospect is just a single call."
   ]
  },
  {
   "cell_type": "code",
   "execution_count": null,
   "metadata": {
    "tags": []
   },
   "outputs": [],
   "source": [
    "plotspectra(boss_prospect,\n",
    "            zcatalog=boss_zcatalog[~boss_fully_masked],\n",
    "            redrock_cat=None,\n",
    "            notebook=True,\n",
    "            with_thumb_tab=False,\n",
    "            with_vi_widgets=False,\n",
    "            with_coaddcam=False,\n",
    "            mask_type='EBOSS_TARGET1',\n",
    "            model_from_zcat=False,\n",
    "            model=boss_model)"
   ]
  },
  {
   "cell_type": "code",
   "execution_count": null,
   "metadata": {},
   "outputs": [],
   "source": []
  }
 ],
 "metadata": {
  "kernelspec": {
   "display_name": "DESI 23.1",
   "language": "python",
   "name": "desi_23.1"
  },
  "language_info": {
   "codemirror_mode": {
    "name": "ipython",
    "version": 3
   },
   "file_extension": ".py",
   "mimetype": "text/x-python",
   "name": "python",
   "nbconvert_exporter": "python",
   "pygments_lexer": "ipython3",
   "version": "3.8.8"
  }
 },
 "nbformat": 4,
 "nbformat_minor": 4
}
