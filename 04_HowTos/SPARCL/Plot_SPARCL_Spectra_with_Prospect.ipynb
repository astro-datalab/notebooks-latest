{
 "cells": [
  {
   "cell_type": "code",
   "execution_count": null,
   "metadata": {},
   "outputs": [],
   "source": [
    "__nbid__ = '0053'\n",
    "__author__ = 'Eric Armengaud, Benjamin Weaver <benjamin.weaver@noirlab.edu>, Alice Jacques <alice.jacques@noirlab.edu>'\n",
    "__version__ = '20250317' # yyyymmdd\n",
    "__datasets__ = ['sdss_dr16', 'boss_dr16', 'desi_dr1']\n",
    "__keywords__ = ['sparcl', 'spectroscopy', 'sdss spectra', 'desi spectra', 'tutorial', 'prospect', 'specutils']"
   ]
  },
  {
   "cell_type": "markdown",
   "metadata": {},
   "source": [
    "# Obtain and plot spectra data using SPARCL, prospect, and specutils\n",
    "\n",
    "*Credit*: [Eric Armengaud](https://github.com/armengau), Saclay - CEA, is the primary author of prospect. See also the [prospect contributors](https://github.com/desihub/prospect/graphs/contributors). [Benjamin Weaver](https://github.com/weaverba137) and [Alice Jacques](https://github.com/jacquesalice) contributed to the development of this notebook."
   ]
  },
  {
   "cell_type": "markdown",
   "metadata": {},
   "source": [
    "### Table of contents\n",
    "* [Goals](#goals)\n",
    "* [Disclaimer & attribution](#disclaimer)\n",
    "* [Imports and setup](#imports)\n",
    "* Find, retrieve, and plot spectra from:\n",
    "    * [DESI](#desi)\n",
    "    * [SDSS](#sdss)\n",
    "    * [(e)BOSS](#boss)"
   ]
  },
  {
   "cell_type": "markdown",
   "metadata": {},
   "source": [
    "<a class=\"anchor\" id=\"goals\"></a>\n",
    "## Goals\n",
    "*Project*: Obtain DESI DR1, SDSS DR16, and (e)BOSS DR16 spectra using the [NOIRLab SPARCL spectrum service](https://astrosparcl.datalab.noirlab.edu), convert data to [specutils objects](https://specutils.readthedocs.io/en/stable/) as needed, and use [prospect](https://desi-prospect.readthedocs.io/en/latest/) to display the data.\n",
    "\n",
    "*Takeaway*: At no point in this notebook will any data files be opened.\n",
    "\n",
    "*Takeaway*: prospect allows multiple, independent spectra visualizations to coexist within the same notebook.\n",
    "\n",
    "This notebook is an adaptation of the [Prospect + specutils + SPARCL](https://github.com/desihub/prospect/blob/main/doc/nb/Prospect_spectrum_service.ipynb) notebook."
   ]
  },
  {
   "cell_type": "markdown",
   "metadata": {},
   "source": [
    "<a class=\"anchor\" id=\"attribution\"></a>\n",
    "## Disclaimer & attribution\n",
    "\n",
    "### Disclaimers\n",
    "\n",
    "Note that using the Astro Data Lab constitutes your agreement with our minimal [Disclaimers](https://datalab.noirlab.edu/disclaimers.php).\n",
    "\n",
    "### Acknowledgments\n",
    "\n",
    "If you use **Astro Data Lab** in your published research, please include the text in your paper's Acknowledgments section:\n",
    "\n",
    "_This research uses services or data provided by the Astro Data Lab, which is part of the Community Science and Data Center (CSDC) Program of NSF NOIRLab. NOIRLab is operated by the Association of Universities for Research in Astronomy (AURA), Inc. under a cooperative agreement with the U.S. National Science Foundation._\n",
    "\n",
    "If you use **SPARCL jointly with the Astro Data Lab platform** (via JupyterLab, command-line, or web interface) in your published research, please include this text below in your paper's Acknowledgments section:\n",
    "\n",
    "_This research uses services or data provided by the SPectra Analysis and Retrievable Catalog Lab (SPARCL) and the Astro Data Lab, which are both part of the Community Science and Data Center (CSDC) Program of NSF NOIRLab. NOIRLab is operated by the Association of Universities for Research in Astronomy (AURA), Inc. under a cooperative agreement with the U.S. National Science Foundation._\n",
    "\n",
    "In either case **please cite the following papers**:\n",
    "\n",
    "* Data Lab concept paper: Fitzpatrick et al., \"The NOAO Data Laboratory: a conceptual overview\", SPIE, 9149, 2014, https://doi.org/10.1117/12.2057445\n",
    "\n",
    "* Astro Data Lab overview: Nikutta et al., \"Data Lab - A Community Science Platform\", Astronomy and Computing, 33, 2020, https://doi.org/10.1016/j.ascom.2020.100411\n",
    "\n",
    "If you are referring to the Data Lab JupyterLab / Jupyter Notebooks, cite:\n",
    "\n",
    "* Juneau et al., \"Jupyter-Enabled Astrophysical Analysis Using Data-Proximate Computing Platforms\", CiSE, 23, 15, 2021, https://doi.org/10.1109/MCSE.2021.3057097\n",
    "\n",
    "If publishing in a AAS journal, also add the keyword: `\\facility{Astro Data Lab}`\n",
    "\n",
    "And if you are using SPARCL, please also add `\\software{SPARCL}` and cite:\n",
    "\n",
    "* Juneau et al., \"SPARCL: SPectra Analysis and Retrievable Catalog Lab\", Conference Proceedings for ADASS XXXIII, 2024\n",
    "https://doi.org/10.48550/arXiv.2401.05576\n",
    "\n",
    "The NOIRLab Library maintains [lists of proper acknowledgments](https://noirlab.edu/science/about/scientific-acknowledgments) to use when publishing papers using the Lab's facilities, data, or services.\n",
    "\n",
    "For this notebook specifically, please acknowledge:\n",
    "\n",
    "* prospect: [Eric Armengaud](https://github.com/armengau), Saclay - CEA, the primary author of prospect. See also the [prospect contributors](https://github.com/desihub/prospect/graphs/contributors)."
   ]
  },
  {
   "cell_type": "markdown",
   "metadata": {},
   "source": [
    "<a class=\"anchor\" id=\"imports\"></a>\n",
    "## Imports and setup\n",
    "\n",
    "Note that we are not relying heavily on the DESI software stack (`DESI 23.1`), although some imports will be embedded within `prospect`."
   ]
  },
  {
   "cell_type": "code",
   "execution_count": 1,
   "metadata": {
    "execution": {
     "iopub.execute_input": "2025-09-30T22:35:06.124755Z",
     "iopub.status.busy": "2025-09-30T22:35:06.124490Z",
     "iopub.status.idle": "2025-09-30T22:35:08.309821Z",
     "shell.execute_reply": "2025-09-30T22:35:08.309347Z",
     "shell.execute_reply.started": "2025-09-30T22:35:06.124732Z"
    },
    "tags": []
   },
   "outputs": [
    {
     "name": "stdout",
     "output_type": "stream",
     "text": [
      "astro-datalab==2.24.0\n",
      "specutils==1.13.0\n",
      "bokeh==2.4.3\n",
      "prospect==1.3.3\n",
      "redrock==0.20.4\n",
      "sparcl==1.2.6\n"
     ]
    }
   ],
   "source": [
    "from numba import NumbaDeprecationWarning\n",
    "import warnings\n",
    "warnings.filterwarnings(\"ignore\", category=NumbaDeprecationWarning, message=r'.*numba\\.jit.*')\n",
    "import numpy as np\n",
    "import matplotlib.pyplot as plt\n",
    "import astropy.units as u\n",
    "from astropy.nddata import InverseVariance\n",
    "from specutils import __version__ as specutils_version, Spectrum1D\n",
    "from bokeh import __version__ as bokeh_version\n",
    "from prospect import __version__ as prospect_version\n",
    "from prospect.viewer import plotspectra\n",
    "from prospect.specutils import Spectra\n",
    "from redrock import __version__ as redrock_version\n",
    "from redrock.templates import get_template_dir, load_templates\n",
    "from sparcl import __version__ as sparcl_version\n",
    "from sparcl.client import SparclClient\n",
    "from dl import __version__ as dl_version, queryClient as qc, authClient as ac\n",
    "print(f\"astro-datalab=={dl_version}\")\n",
    "print(f\"specutils=={specutils_version}\")\n",
    "print(f\"bokeh=={bokeh_version}\")\n",
    "print(f\"prospect=={prospect_version}\")\n",
    "print(f\"redrock=={redrock_version}\")\n",
    "print(f\"sparcl=={sparcl_version}\")"
   ]
  },
  {
   "cell_type": "markdown",
   "metadata": {},
   "source": [
    "### Authentication\n",
    "\n",
    "Much of the functionality of Data Lab can be accessed without explicitly logging in (the service then uses an anonymous login). But some capacities, for instance saving the results of your queries to your virtual storage space, require a login (*i.e.* you will need a registered user account).\n",
    "\n",
    "If you need to log in to Data Lab, un-comment the cell below and execute it:"
   ]
  },
  {
   "cell_type": "code",
   "execution_count": null,
   "metadata": {},
   "outputs": [],
   "source": [
    "# from getpass import getpass\n",
    "# token = ac.login(input(\"Enter user name: (+ENTER) \"), getpass(\"Enter password: (+ENTER) \"))\n",
    "# ac.whoAmI()"
   ]
  },
  {
   "cell_type": "markdown",
   "metadata": {},
   "source": [
    "### Start SPARCL Client"
   ]
  },
  {
   "cell_type": "code",
   "execution_count": 2,
   "metadata": {
    "execution": {
     "iopub.execute_input": "2025-09-30T22:35:21.871586Z",
     "iopub.status.busy": "2025-09-30T22:35:21.871185Z",
     "iopub.status.idle": "2025-09-30T22:35:22.110984Z",
     "shell.execute_reply": "2025-09-30T22:35:22.110395Z",
     "shell.execute_reply.started": "2025-09-30T22:35:21.871571Z"
    },
    "tags": []
   },
   "outputs": [
    {
     "name": "stdout",
     "output_type": "stream",
     "text": [
      "announcement=Data set deprecation warning: SDSS/BOSS DR16 will be replaced with SDSS/BOSS DR17 starting on or after November 1, 2025\n"
     ]
    },
    {
     "data": {
      "text/plain": [
       "(sparclclient:1.2.6, api:12.0, https://astrosparcl.datalab.noirlab.edu/sparc, client_hash=1b417076afad341a5aac4d264308ce7981cd50ab, verbose=False, connect_timeout=1.1, read_timeout=5400.0, announcement=True)"
      ]
     },
     "execution_count": 2,
     "metadata": {},
     "output_type": "execute_result"
    }
   ],
   "source": [
    "client = SparclClient()\n",
    "client"
   ]
  },
  {
   "cell_type": "markdown",
   "metadata": {},
   "source": [
    "### Set up Data Lab database interface\n",
    "\n",
    "All data should be visible in the 'default' profile"
   ]
  },
  {
   "cell_type": "code",
   "execution_count": 3,
   "metadata": {
    "execution": {
     "iopub.execute_input": "2025-09-30T22:35:25.909957Z",
     "iopub.status.busy": "2025-09-30T22:35:25.909393Z",
     "iopub.status.idle": "2025-09-30T22:35:25.914297Z",
     "shell.execute_reply": "2025-09-30T22:35:25.913845Z",
     "shell.execute_reply.started": "2025-09-30T22:35:25.909933Z"
    },
    "tags": []
   },
   "outputs": [
    {
     "data": {
      "text/plain": [
       "'default'"
      ]
     },
     "execution_count": 3,
     "metadata": {},
     "output_type": "execute_result"
    }
   ],
   "source": [
    "qc.get_profile()"
   ]
  },
  {
   "cell_type": "markdown",
   "metadata": {},
   "source": [
    "<a class=\"anchor\" id=\"desi\"></a>\n",
    "## DESI DR1"
   ]
  },
  {
   "cell_type": "markdown",
   "metadata": {},
   "source": [
    "### Find DESI spectra\n",
    "\n",
    "SPARCL provides access to DESI spectra that have been coadded by HEALPixel.  This corresponds to entries in the `desi_dr1.zpix` table at Astro Data Lab (see column information [here](https://datalab.noirlab.edu/query.php?name=desi_dr1.zpix))."
   ]
  },
  {
   "cell_type": "code",
   "execution_count": null,
   "metadata": {},
   "outputs": [],
   "source": [
    "q = \"\"\"\n",
    "SELECT z.targetid, z.chi2, z.z, z.zerr, z.zwarn, z.spectype, z.subtype,\n",
    "       z.coadd_numexp, z.coadd_exptime, z.healpix, z.deltachi2\n",
    "FROM desi_dr1.zpix AS z\n",
    "WHERE z.zcat_primary\n",
    "    AND z.survey = 'main'\n",
    "    AND z.program = 'dark'\n",
    "    AND z.spectype = 'GALAXY'\n",
    "    AND z.z BETWEEN 0.5 AND 0.9\n",
    "    AND z.zwarn = 0\n",
    "ORDER BY z.targetid\n",
    "LIMIT 50\n",
    "\"\"\"\n",
    "desi_ids = qc.query(sql=q, fmt='table')\n",
    "desi_ids"
   ]
  },
  {
   "cell_type": "markdown",
   "metadata": {},
   "source": [
    "**QA**: Do we really have 50 unique spectra?"
   ]
  },
  {
   "cell_type": "code",
   "execution_count": null,
   "metadata": {},
   "outputs": [],
   "source": [
    "assert (np.unique(desi_ids['targetid']) == desi_ids['targetid']).all()"
   ]
  },
  {
   "cell_type": "markdown",
   "metadata": {},
   "source": [
    "### Retrieve DESI spectra\n",
    "\n",
    "With the set of `targetid` obtained above, we can directly retrieve DESI spectra."
   ]
  },
  {
   "cell_type": "code",
   "execution_count": null,
   "metadata": {
    "tags": []
   },
   "outputs": [],
   "source": [
    "include = client.get_all_fields(dataset_list=['DESI-DR1'])\n",
    "desi_spectra = client.retrieve_by_specid(specid_list=desi_ids['targetid'].value.tolist(),\n",
    "                                         include=include,\n",
    "                                         dataset_list=['DESI-DR1'])\n",
    "desi_spectra.info"
   ]
  },
  {
   "cell_type": "markdown",
   "metadata": {},
   "source": [
    "**QA**: Did we really find all of the expected spectra?"
   ]
  },
  {
   "cell_type": "code",
   "execution_count": null,
   "metadata": {},
   "outputs": [],
   "source": [
    "targetids_sorted = sorted(desi_spectra.records, key=lambda x: x.targetid)\n",
    "assert (np.array([r.targetid for r in targetids_sorted]) == desi_ids['targetid']).all()\n",
    "assert all([r.survey == 'main' for r in desi_spectra.records])\n",
    "assert all([r.program == 'dark' for r in desi_spectra.records])"
   ]
  },
  {
   "cell_type": "markdown",
   "metadata": {},
   "source": [
    "**QA**: Do all spectra records have the same wavelength solution?"
   ]
  },
  {
   "cell_type": "code",
   "execution_count": null,
   "metadata": {},
   "outputs": [],
   "source": [
    "assert all([(r.wavelength == desi_spectra.records[0].wavelength).all() for r in desi_spectra.records])"
   ]
  },
  {
   "cell_type": "markdown",
   "metadata": {},
   "source": [
    "**QA**: Are any of the spectra fully masked?"
   ]
  },
  {
   "cell_type": "code",
   "execution_count": null,
   "metadata": {
    "tags": []
   },
   "outputs": [],
   "source": [
    "desi_fully_masked = np.zeros((len(desi_spectra.records), ), dtype=bool)\n",
    "\n",
    "for k in range(len(desi_spectra.records)):\n",
    "    assert np.isfinite(desi_spectra.records[k].flux).all()\n",
    "    assert np.isfinite(desi_spectra.records[k].ivar).all()\n",
    "    if (desi_spectra.records[k].mask > 0).all():\n",
    "        print(f\"WARNING: Spectrum record {k:d} is fully masked!\")\n",
    "        desi_fully_masked[k] = True"
   ]
  },
  {
   "cell_type": "markdown",
   "metadata": {},
   "source": [
    "#### View the contents of the first retrieved record"
   ]
  },
  {
   "cell_type": "code",
   "execution_count": null,
   "metadata": {},
   "outputs": [],
   "source": [
    "desi_spectra.records[0]"
   ]
  },
  {
   "cell_type": "markdown",
   "metadata": {},
   "source": [
    "### Organize metadata\n",
    "\n",
    "Prospect needs several inputs:\n",
    "\n",
    "1. An object containing spectra.  In this case we'll use [`prospect.specutils.Spectra`](https://desi-prospect.readthedocs.io/en/latest/api.html#prospect.specutils.Spectra), which inherits from [`SpectrumList`](https://specutils.readthedocs.io/en/stable/api/specutils.SpectrumList.html#specutils.SpectrumList), and is really just a [`Spectrum1D`](https://specutils.readthedocs.io/en/stable/api/specutils.Spectrum1D.html#specutils.Spectrum1D) object underneath.\n",
    "   * The object contains the usual flux, wavelength, uncertainty.\n",
    "   * In addtion a \"fibermap\" table is needed. This should be an Astropy `Table` with the expected columns.\n",
    "2. A redshift catalog. This should be an Astropy `Table` with the expected columns.\n",
    "3. A model spectrum.  The model is actually provided by SPARCL, but we need to input it separately.\n",
    "\n",
    "#### Spectrum object\n",
    "\n",
    "First we assemble the components of the spectrum object"
   ]
  },
  {
   "cell_type": "code",
   "execution_count": null,
   "metadata": {},
   "outputs": [],
   "source": [
    "flux = np.zeros((len(desi_spectra.records), desi_spectra.records[0].flux.shape[0]),\n",
    "                dtype=desi_spectra.records[0].flux.dtype)\n",
    "uncertainty = np.zeros((len(desi_spectra.records), desi_spectra.records[0].ivar.shape[0]),\n",
    "                       dtype=desi_spectra.records[0].ivar.dtype)\n",
    "mask = np.zeros((len(desi_spectra.records), desi_spectra.records[0].mask.shape[0]),\n",
    "                dtype=desi_spectra.records[0].mask.dtype)\n",
    "\n",
    "meta = {'sparcl_id': list(), 'data_release': list()}\n",
    "sparcl_id = list()\n",
    "data_release = list()\n",
    "\n",
    "for k in range(len(desi_spectra.records)):\n",
    "    flux[k, :] = desi_spectra.records[k].flux\n",
    "    uncertainty[k, :] = desi_spectra.records[k].ivar\n",
    "    mask[k, :] = desi_spectra.records[k].mask\n",
    "    meta['sparcl_id'].append(desi_spectra.records[k].sparcl_id)\n",
    "    meta['data_release'].append(desi_spectra.records[k].data_release)"
   ]
  },
  {
   "cell_type": "markdown",
   "metadata": {},
   "source": [
    "And the \"fibermap\" table. We'll start with photometric quantities."
   ]
  },
  {
   "cell_type": "code",
   "execution_count": null,
   "metadata": {},
   "outputs": [],
   "source": [
    "columns = ('targetid', 'ra', 'dec', 'ref_epoch', 'pmra', 'pmdec', 'ebv',\n",
    "           'flux_g', 'flux_r', 'flux_z', 'flux_w1', 'flux_w2')\n",
    "q = \"\"\"\n",
    "SELECT {0}\n",
    "FROM desi_dr1.photometry\n",
    "WHERE targetid IN ({1})\n",
    "ORDER BY targetid\n",
    "\"\"\".format(', '.join(columns), ', '.join([str(t) for t in desi_ids['targetid'].value.tolist()]))\n",
    "\n",
    "fibermap = qc.query(sql=q, fmt='table')"
   ]
  },
  {
   "cell_type": "code",
   "execution_count": null,
   "metadata": {},
   "outputs": [],
   "source": [
    "for col in fibermap.colnames:\n",
    "    if col == 'ra' or col == 'dec':\n",
    "        fibermap.rename_column(col, 'TARGET_' + col.upper())\n",
    "    else:\n",
    "        fibermap.rename_column(col, col.upper())"
   ]
  },
  {
   "cell_type": "markdown",
   "metadata": {},
   "source": [
    "**QA**: Did we find photometry for every `targetid`?"
   ]
  },
  {
   "cell_type": "code",
   "execution_count": null,
   "metadata": {},
   "outputs": [],
   "source": [
    "assert (fibermap['TARGETID'] == desi_ids['targetid']).all()"
   ]
  },
  {
   "cell_type": "markdown",
   "metadata": {},
   "source": [
    "Next we add targeting bitmasks."
   ]
  },
  {
   "cell_type": "code",
   "execution_count": null,
   "metadata": {},
   "outputs": [],
   "source": [
    "columns = ('targetid', 'desi_target', 'bgs_target', 'mws_target', 'scnd_target')\n",
    "q = \"\"\"\n",
    "SELECT DISTINCT {0}\n",
    "FROM desi_dr1.target\n",
    "WHERE targetid IN ({1})\n",
    "ORDER BY targetid\n",
    "\"\"\".format(', '.join(columns), ', '.join([str(t) for t in fibermap['TARGETID'].value.tolist()]))\n",
    "\n",
    "targeting = qc.query(sql=q, fmt='table')"
   ]
  },
  {
   "cell_type": "code",
   "execution_count": null,
   "metadata": {},
   "outputs": [],
   "source": [
    "for col in targeting.colnames:\n",
    "    targeting.rename_column(col, col.upper())"
   ]
  },
  {
   "cell_type": "markdown",
   "metadata": {},
   "source": [
    "**QA**: Did we find targeting for every `targetid`?"
   ]
  },
  {
   "cell_type": "code",
   "execution_count": null,
   "metadata": {},
   "outputs": [],
   "source": [
    "assert (targeting['TARGETID'] == fibermap['TARGETID']).all()"
   ]
  },
  {
   "cell_type": "markdown",
   "metadata": {},
   "source": [
    "Add columns into `fibermap`."
   ]
  },
  {
   "cell_type": "code",
   "execution_count": null,
   "metadata": {},
   "outputs": [],
   "source": [
    "for col in ('DESI_TARGET', 'BGS_TARGET', 'MWS_TARGET', 'SCND_TARGET'):\n",
    "    fibermap.add_column(targeting[col])\n",
    "fibermap"
   ]
  },
  {
   "cell_type": "markdown",
   "metadata": {},
   "source": [
    "Finally assemble the object."
   ]
  },
  {
   "cell_type": "code",
   "execution_count": null,
   "metadata": {},
   "outputs": [],
   "source": [
    "desi_prospect = Spectra(bands=['coadd'],\n",
    "                        wave={'coadd': desi_spectra.records[0].wavelength},\n",
    "                        flux={'coadd': flux[~desi_fully_masked, :]},\n",
    "                        ivar={'coadd': uncertainty[~desi_fully_masked, :]},\n",
    "                        mask={'coadd': mask[~desi_fully_masked, :]},\n",
    "                        fibermap=fibermap[~desi_fully_masked],\n",
    "                        meta={'coadd': meta})"
   ]
  },
  {
   "cell_type": "markdown",
   "metadata": {},
   "source": [
    "#### Redshift catalog\n",
    "\n",
    "We can re-use the initial query above; it was deliberately constructed."
   ]
  },
  {
   "cell_type": "code",
   "execution_count": null,
   "metadata": {},
   "outputs": [],
   "source": [
    "desi_zcatalog = desi_ids.copy()\n",
    "for col in desi_zcatalog.colnames:\n",
    "    if col == 'healpix':\n",
    "        desi_zcatalog.rename_column(col, 'HPXPIXEL')\n",
    "    else:\n",
    "        desi_zcatalog.rename_column(col, col.upper())\n",
    "desi_zcatalog"
   ]
  },
  {
   "cell_type": "markdown",
   "metadata": {},
   "source": [
    "#### Model spectra\n",
    "\n",
    "Prospect expects a model in the form of a tuple containing wavelength and flux. Since SPARCL provides the model, this is easy.  There are other ways to specify the model, but these require more access to the DESI software stack *and* data *files*."
   ]
  },
  {
   "cell_type": "code",
   "execution_count": null,
   "metadata": {},
   "outputs": [],
   "source": [
    "model_flux = np.zeros((len(desi_spectra.records), desi_spectra.records[0].model.shape[0]),\n",
    "                      dtype=desi_spectra.records[0].model.dtype)\n",
    "\n",
    "for k in range(len(desi_spectra.records)):\n",
    "        model_flux[k, :] = desi_spectra.records[k].model\n",
    "\n",
    "desi_model = (desi_spectra.records[0].wavelength, model_flux[~desi_fully_masked, :])"
   ]
  },
  {
   "cell_type": "markdown",
   "metadata": {},
   "source": [
    "### Start prospect\n",
    "\n",
    "With everything assembled, the interface to prospect is just a single call.  Note that we're setting `with_vi_widgets=True` in order to fully describe the prospect display. Other visualization examples below will have `with_vi_widgets=False`.\n",
    "\n",
    "Further details about the prospect display:\n",
    "\n",
    "* The large window displays a spectrum with best fit model overlaid.\n",
    "* Scanning the mouse over that plot shows a full-resolution zoom of that portion of the spectrum to the right, which is particularly useful for scanning narrow emission lines.\n",
    "* Try the various tools at the top for panning, zooming, selecting. When the wheel zoom tool is selected (default), using the scroll wheel will zoom in and out. Point the mouse over the x or y axis before scrolling to zoom on just that axis.\n",
    "* Click on one of the legend entries to the lower right to turn that item on or off.\n",
    "* The example below includes visual inspection (VI) tools, in a shaded box to the lower left. This allows individuals to rate spectra on questions such as \"is the redshift accurate?\", or \"is the object really a galaxy as opposed to a star?\". Guidelines on using the VI tools are just below the tools themselves.\n",
    "* Immediately above the VI tools are arrows and a slider for displaying other spectra.\n",
    "* To the right of the VI tools are metadata about the spectrum, interspersed with tools for smoothing the spectrum, manually changing the redshift of the best-fit model, and toggling the display of emission and absorption line markers.\n"
   ]
  },
  {
   "cell_type": "code",
   "execution_count": null,
   "metadata": {
    "tags": []
   },
   "outputs": [],
   "source": [
    "plotspectra(desi_prospect,\n",
    "            zcatalog=desi_zcatalog[~desi_fully_masked],\n",
    "            redrock_cat=None,\n",
    "            notebook=True,\n",
    "            with_thumb_tab=False,\n",
    "            with_vi_widgets=True,\n",
    "            with_coaddcam=False,\n",
    "            mask_type='DESI_TARGET',\n",
    "            model_from_zcat=False,\n",
    "            model=desi_model)"
   ]
  },
  {
   "cell_type": "markdown",
   "metadata": {},
   "source": [
    "### Model spectra in DESI DR1\n",
    "\n",
    "We can reconstruct the official DESI models using software from `redrock`. See https://github.com/desihub/tutorials/blob/main/02_digging_deeper/RedrockOutputs.ipynb for a in-depth tutorial.\n",
    "\n",
    "Goal: compare a SPARCL model spectrum to one computed from the files."
   ]
  },
  {
   "cell_type": "code",
   "execution_count": 4,
   "metadata": {
    "execution": {
     "iopub.execute_input": "2025-09-30T22:35:34.135175Z",
     "iopub.status.busy": "2025-09-30T22:35:34.134904Z",
     "iopub.status.idle": "2025-09-30T22:35:34.173724Z",
     "shell.execute_reply": "2025-09-30T22:35:34.173143Z",
     "shell.execute_reply.started": "2025-09-30T22:35:34.135158Z"
    }
   },
   "outputs": [
    {
     "name": "stdout",
     "output_type": "stream",
     "text": [
      "DEBUG: Reading templates from /data0/sw/desi/code/redrock-templates/0.9.1/templates-iron.txt\n",
      "Reading templates from ['/data0/sw/desi/code/redrock-templates/0.9.1/rrtemplate-GALAXY-None-v2.6.fits', '/data0/sw/desi/code/redrock-templates/0.9.1/rrtemplate-QSO-LOZ-v1.0.fits', '/data0/sw/desi/code/redrock-templates/0.9.1/rrtemplate-QSO-HIZ-v1.0.fits', '/data0/sw/desi/code/redrock-templates/0.9.1/rrtemplate-STAR-A-v0.1.fits', '/data0/sw/desi/code/redrock-templates/0.9.1/rrtemplate-STAR-B-v0.1.fits', '/data0/sw/desi/code/redrock-templates/0.9.1/rrtemplate-STAR-CV-v0.1.fits', '/data0/sw/desi/code/redrock-templates/0.9.1/rrtemplate-STAR-F-v0.1.fits', '/data0/sw/desi/code/redrock-templates/0.9.1/rrtemplate-STAR-G-v0.1.fits', '/data0/sw/desi/code/redrock-templates/0.9.1/rrtemplate-STAR-K-v0.1.fits', '/data0/sw/desi/code/redrock-templates/0.9.1/rrtemplate-STAR-M-v0.1.fits', '/data0/sw/desi/code/redrock-templates/0.9.1/rrtemplate-STAR-WD-v0.1.fits']\n",
      "INFO: rrtemplate-GALAXY-None-v2.6.fits GALAXY  PCA IGM=Calura12 z=-0.005-1.6997\n",
      "INFO: rrtemplate-QSO-LOZ-v1.0.fits QSO LOZ PCA IGM=Calura12 z=0.05-1.5983\n",
      "INFO: rrtemplate-QSO-HIZ-v1.0.fits QSO HIZ PCA IGM=Calura12 z=1.4-6.993\n",
      "INFO: rrtemplate-STAR-A-v0.1.fits STAR A PCA IGM=None z=-0.002-0.002\n",
      "INFO: rrtemplate-STAR-B-v0.1.fits STAR B PCA IGM=None z=-0.002-0.002\n",
      "INFO: rrtemplate-STAR-CV-v0.1.fits STAR CV PCA IGM=None z=-0.002-0.002\n",
      "INFO: rrtemplate-STAR-F-v0.1.fits STAR F PCA IGM=None z=-0.002-0.002\n",
      "INFO: rrtemplate-STAR-G-v0.1.fits STAR G PCA IGM=None z=-0.002-0.002\n",
      "INFO: rrtemplate-STAR-K-v0.1.fits STAR K PCA IGM=None z=-0.002-0.002\n",
      "INFO: rrtemplate-STAR-M-v0.1.fits STAR M PCA IGM=None z=-0.002-0.002\n",
      "INFO: rrtemplate-STAR-WD-v0.1.fits STAR WD PCA IGM=None z=-0.002-0.002\n"
     ]
    }
   ],
   "source": [
    "specprod = 'iron'\n",
    "template_dir = get_template_dir()\n",
    "templates = load_templates(f'{template_dir}/templates-{specprod}.txt', asdict=True)"
   ]
  },
  {
   "cell_type": "code",
   "execution_count": 5,
   "metadata": {
    "execution": {
     "iopub.execute_input": "2025-09-30T22:35:37.824017Z",
     "iopub.status.busy": "2025-09-30T22:35:37.823767Z",
     "iopub.status.idle": "2025-09-30T22:35:38.497416Z",
     "shell.execute_reply": "2025-09-30T22:35:38.496879Z",
     "shell.execute_reply.started": "2025-09-30T22:35:37.824003Z"
    }
   },
   "outputs": [
    {
     "data": {
      "text/html": [
       "<div><i>Table length=50</i>\n",
       "<table id=\"table140326585801728\" class=\"table-striped table-bordered table-condensed\">\n",
       "<thead><tr><th>targetid</th><th>chi2</th><th>z</th><th>zerr</th><th>zwarn</th><th>spectype</th><th>subtype</th><th>coadd_numexp</th><th>coadd_exptime</th><th>healpix</th><th>deltachi2</th><th>ncoeff</th><th>coeff_0</th><th>coeff_1</th><th>coeff_2</th><th>coeff_3</th><th>coeff_4</th><th>coeff_5</th><th>coeff_6</th><th>coeff_7</th><th>coeff_8</th><th>coeff_9</th></tr></thead>\n",
       "<thead><tr><th>int64</th><th>float64</th><th>float64</th><th>float64</th><th>int64</th><th>str3</th><th>str3</th><th>int64</th><th>float64</th><th>int64</th><th>float64</th><th>int64</th><th>float64</th><th>float64</th><th>float64</th><th>float64</th><th>float64</th><th>float64</th><th>float64</th><th>float64</th><th>float64</th><th>float64</th></tr></thead>\n",
       "<tr><td>2323666519982080</td><td>7940.44324403163</td><td>1.01858912554479</td><td>0.0005063431152249177</td><td>0</td><td>QSO</td><td>LOZ</td><td>1</td><td>1087.1151</td><td>26067</td><td>263.9076617443934</td><td>4</td><td>19.43941781349745</td><td>-16.61439746769267</td><td>2.166874217322313</td><td>4.958581839977779</td><td>-1.149094388206208</td><td>-4.469097447426047</td><td>-4.320447354717902</td><td>-0.3131788907718353</td><td>-0.5735422694190713</td><td>-2.327583124509623</td></tr>\n",
       "<tr><td>2349812305362945</td><td>7904.530110930558</td><td>1.428871114389519</td><td>0.001150548076305831</td><td>0</td><td>QSO</td><td>HIZ</td><td>1</td><td>1749.8749</td><td>26813</td><td>21.90338864410296</td><td>4</td><td>1.395904654654402</td><td>66.40191558681236</td><td>-38.74440080624854</td><td>-50.43115795156348</td><td>0.0</td><td>0.0</td><td>0.0</td><td>0.0</td><td>0.0</td><td>0.0</td></tr>\n",
       "<tr><td>2349962843127809</td><td>8635.192454956472</td><td>2.833832652189469</td><td>0.000787515623923885</td><td>0</td><td>QSO</td><td>HIZ</td><td>1</td><td>1175.7552</td><td>21852</td><td>16.67661287914962</td><td>4</td><td>53.34878604539794</td><td>-15.12130552928309</td><td>0.321608775534416</td><td>4.657362579353327</td><td>-4.369252661896165</td><td>3.41284888672234</td><td>-4.162595962988963</td><td>-0.2831958845999471</td><td>2.071819281316361</td><td>1.185146378292177</td></tr>\n",
       "<tr><td>2349999224520705</td><td>11107.3944093287</td><td>1.524485739940397</td><td>0.0001282299208045598</td><td>0</td><td>QSO</td><td>HIZ</td><td>1</td><td>1285.0128</td><td>27318</td><td>22539.26074827835</td><td>4</td><td>110.157814871416</td><td>134.8700753515332</td><td>-5.816426232806619</td><td>-3.206773900714877</td><td>-1.597153264912541</td><td>0.3992473699668679</td><td>-11.82576750942852</td><td>0.7270466658037333</td><td>0.2287770668579363</td><td>1.507272652918802</td></tr>\n",
       "<tr><td>2350185329983489</td><td>10369.18323923438</td><td>1.861417932983785</td><td>0.001406628761394388</td><td>0</td><td>QSO</td><td>HIZ</td><td>1</td><td>1069.5826</td><td>4288</td><td>55.95963030238636</td><td>4</td><td>432.7174754821776</td><td>563.8085555993114</td><td>-26.55446424825705</td><td>-28.57239345076846</td><td>-9.340440171697384</td><td>4.644128198830096</td><td>-43.493136350488</td><td>-3.903415160486673</td><td>3.290782523385507</td><td>14.80912674876778</td></tr>\n",
       "<tr><td>2350685018390529</td><td>8486.966315353755</td><td>2.132376427764571</td><td>0.001238852860456504</td><td>0</td><td>QSO</td><td>HIZ</td><td>1</td><td>889.6046</td><td>28600</td><td>9.61880219867453</td><td>4</td><td>156.6561873321162</td><td>171.9528096587344</td><td>-0.792440297594081</td><td>-11.08606824472313</td><td>-1.962372140361984</td><td>2.559896064095925</td><td>-16.8777014674124</td><td>-1.035967052757459</td><td>2.236214781499254</td><td>3.786750518225884</td></tr>\n",
       "<tr><td>2350878254170113</td><td>7971.186212293804</td><td>2.662135190201133</td><td>0.0003921920503777109</td><td>0</td><td>QSO</td><td>HIZ</td><td>1</td><td>717.5726</td><td>11264</td><td>994.4368758872151</td><td>4</td><td>32.56822232982475</td><td>-3.316620449072647</td><td>-1.915126337714796</td><td>6.114992309229021</td><td>-0.884054597800032</td><td>1.750251438215934</td><td>0.2147067471020393</td><td>-1.671229084596729</td><td>-0.2210153328874035</td><td>0.1896809464012085</td></tr>\n",
       "<tr><td>2350956255641601</td><td>7843.851342425682</td><td>2.107049123693277</td><td>0.000870387409345741</td><td>0</td><td>QSO</td><td>HIZ</td><td>1</td><td>674.3753</td><td>9998</td><td>80.6522164652124</td><td>4</td><td>108.9333748217597</td><td>8.833846689102955</td><td>26.67379447012398</td><td>-34.74761146779419</td><td>-3.326830802898762</td><td>2.87329998084741</td><td>-31.56459163218499</td><td>-1.135074074110073</td><td>-4.403806896842771</td><td>6.211761113197442</td></tr>\n",
       "<tr><td>2714854863405058</td><td>8451.528263874352</td><td>3.040190525921278</td><td>0.0004255423218305651</td><td>0</td><td>QSO</td><td>HIZ</td><td>1</td><td>1038.7355</td><td>22655</td><td>1676.725554339588</td><td>4</td><td>-12.46091504371983</td><td>75.63523046593858</td><td>-33.1987615900606</td><td>40.39072969373645</td><td>-3.017206300290469</td><td>0.9209511373793515</td><td>-13.92195246671406</td><td>0.7105316648495303</td><td>-2.647637043061137</td><td>-5.903711239973012</td></tr>\n",
       "<tr><td>2714905190858754</td><td>10007.08078455925</td><td>2.546966674051071</td><td>0.0001486096511775051</td><td>0</td><td>QSO</td><td>HIZ</td><td>2</td><td>2426.701</td><td>25839</td><td>3942.825059443712</td><td>4</td><td>9.183884003949283</td><td>-19.72942903023858</td><td>87.2941454339136</td><td>31.68917873646834</td><td>-77.84534065536319</td><td>39.11459855674215</td><td>4.278726051264302</td><td>40.41311887598035</td><td>-13.03290261935195</td><td>1.7928372735622</td></tr>\n",
       "<tr><td>...</td><td>...</td><td>...</td><td>...</td><td>...</td><td>...</td><td>...</td><td>...</td><td>...</td><td>...</td><td>...</td><td>...</td><td>...</td><td>...</td><td>...</td><td>...</td><td>...</td><td>...</td><td>...</td><td>...</td><td>...</td><td>...</td></tr>\n",
       "<tr><td>39627328396987837</td><td>10476.02312889695</td><td>2.853016178669867</td><td>0.0002116562182036094</td><td>0</td><td>QSO</td><td>HIZ</td><td>1</td><td>1153.1862</td><td>16727</td><td>3999.292015891522</td><td>4</td><td>259.4477248048178</td><td>451.2215200580912</td><td>-83.19464068535787</td><td>93.99146171002769</td><td>-12.60928235735518</td><td>12.33217611827101</td><td>-44.63313992317987</td><td>-8.733668906153072</td><td>6.269979345567005</td><td>-5.910882452937408</td></tr>\n",
       "<tr><td>39627328396987898</td><td>8002.43049569428</td><td>2.559241566219839</td><td>0.001134083278586262</td><td>0</td><td>QSO</td><td>HIZ</td><td>1</td><td>1153.1862</td><td>16727</td><td>193.4624789124355</td><td>4</td><td>107.3611376370482</td><td>63.28655727924629</td><td>9.263056933955992</td><td>-7.290789937928102</td><td>1.691415026001428</td><td>1.158550992960758</td><td>-1.323296952671225</td><td>-0.8395479638640096</td><td>1.265807636792072</td><td>0.9005005091563575</td></tr>\n",
       "<tr><td>39627328396988601</td><td>7886.367139684968</td><td>2.321222014575174</td><td>0.001046298498215161</td><td>0</td><td>QSO</td><td>HIZ</td><td>1</td><td>1153.1862</td><td>16727</td><td>86.24249195191078</td><td>4</td><td>72.14429763586048</td><td>76.95557024169479</td><td>0.6194787265826631</td><td>-8.086982121609864</td><td>-0.2907758244314191</td><td>0.04073776186624709</td><td>-2.465323496542684</td><td>0.4371022045358283</td><td>-0.2142147400539776</td><td>6.112823794942249</td></tr>\n",
       "<tr><td>39627328396991055</td><td>8341.584280027542</td><td>2.020498189604327</td><td>0.001309504926959985</td><td>0</td><td>QSO</td><td>HIZ</td><td>1</td><td>1153.1862</td><td>16725</td><td>512.6930080347229</td><td>4</td><td>0.4831736534727905</td><td>22.52199987512049</td><td>-3.828565124541534</td><td>-3.868337713627865</td><td>0.0</td><td>0.0</td><td>0.0</td><td>0.0</td><td>0.0</td><td>0.0</td></tr>\n",
       "<tr><td>39627328396991505</td><td>8459.638289138675</td><td>2.571490994871561</td><td>0.0006206575388442347</td><td>0</td><td>QSO</td><td>HIZ</td><td>1</td><td>1153.1862</td><td>16727</td><td>733.6153258308768</td><td>4</td><td>24.66748485970145</td><td>-29.02071970487997</td><td>-258.0778388558381</td><td>-80.8741990032528</td><td>233.8841916350237</td><td>4.119000240729412</td><td>-0.432151263923423</td><td>22.26214067618421</td><td>-10.45446443620493</td><td>-4.01114924900662</td></tr>\n",
       "<tr><td>39627328396992403</td><td>8030.720874045976</td><td>1.545901944010058</td><td>0.0008158387419356913</td><td>0</td><td>QSO</td><td>HIZ</td><td>1</td><td>1153.1862</td><td>16725</td><td>556.2031839494593</td><td>4</td><td>0.5841234615585538</td><td>97.80304029989158</td><td>-37.39531516762418</td><td>8.571804153882022</td><td>0.0</td><td>0.0</td><td>0.0</td><td>0.0</td><td>0.0</td><td>0.0</td></tr>\n",
       "<tr><td>39627328396993358</td><td>16155.40947796404</td><td>2.227851101113708</td><td>0.0002000912066087652</td><td>0</td><td>QSO</td><td>HIZ</td><td>1</td><td>1153.1862</td><td>16725</td><td>2310.180620089173</td><td>4</td><td>113.9879413932612</td><td>60.75735213172169</td><td>-216.2138241578222</td><td>-87.74949795908279</td><td>198.0685070171307</td><td>-27.15302542466815</td><td>-9.46602307144937</td><td>-15.33281977654245</td><td>2.722204740242574</td><td>2.330864558151174</td></tr>\n",
       "<tr><td>39627328401184757</td><td>9072.039247870445</td><td>3.315507958928124</td><td>0.0006571768570690757</td><td>0</td><td>QSO</td><td>HIZ</td><td>1</td><td>1153.1862</td><td>16725</td><td>29.83289017155766</td><td>4</td><td>170.1082830270983</td><td>164.8852221518789</td><td>9.773136166038967</td><td>-31.92998839186353</td><td>-1.520068738219442</td><td>2.968944628706717</td><td>6.251120995265587</td><td>0.05158251324823863</td><td>-1.069409199759971</td><td>0.9895487889886859</td></tr>\n",
       "<tr><td>39627328405374193</td><td>7575.505654172273</td><td>1.39278702387977</td><td>0.001067533005240419</td><td>0</td><td>QSO</td><td>LOZ</td><td>1</td><td>1153.1862</td><td>16725</td><td>35.08776061714161</td><td>4</td><td>-10.21798073900236</td><td>24.85086091617443</td><td>239.1856728743279</td><td>109.9291422726126</td><td>-212.9738900616076</td><td>120.6227888436217</td><td>7.359618160315508</td><td>122.6750555612201</td><td>-28.39437460363042</td><td>0.6160744646628873</td></tr>\n",
       "<tr><td>39627328405374235</td><td>7989.898274373256</td><td>1.80265217870633</td><td>0.007204334552969146</td><td>0</td><td>QSO</td><td>HIZ</td><td>1</td><td>1153.1862</td><td>16725</td><td>144.2295816438345</td><td>4</td><td>-0.8971170474921226</td><td>34.08899934324627</td><td>128.6493602057213</td><td>70.67814384437264</td><td>-137.5297561513439</td><td>1.49017049157135</td><td>-3.496346217357031</td><td>-9.468787046519498</td><td>4.073933711187827</td><td>-1.320176018447541</td></tr>\n",
       "</table></div>"
      ],
      "text/plain": [
       "<Table length=50>\n",
       "     targetid            chi2       ...       coeff_8            coeff_9      \n",
       "      int64            float64      ...       float64            float64      \n",
       "----------------- ----------------- ... ------------------- ------------------\n",
       " 2323666519982080  7940.44324403163 ... -0.5735422694190713 -2.327583124509623\n",
       " 2349812305362945 7904.530110930558 ...                 0.0                0.0\n",
       " 2349962843127809 8635.192454956472 ...   2.071819281316361  1.185146378292177\n",
       " 2349999224520705  11107.3944093287 ...  0.2287770668579363  1.507272652918802\n",
       " 2350185329983489 10369.18323923438 ...   3.290782523385507  14.80912674876778\n",
       " 2350685018390529 8486.966315353755 ...   2.236214781499254  3.786750518225884\n",
       " 2350878254170113 7971.186212293804 ... -0.2210153328874035 0.1896809464012085\n",
       " 2350956255641601 7843.851342425682 ...  -4.403806896842771  6.211761113197442\n",
       " 2714854863405058 8451.528263874352 ...  -2.647637043061137 -5.903711239973012\n",
       " 2714905190858754 10007.08078455925 ...  -13.03290261935195    1.7928372735622\n",
       "              ...               ... ...                 ...                ...\n",
       "39627328396987837 10476.02312889695 ...   6.269979345567005 -5.910882452937408\n",
       "39627328396987898  8002.43049569428 ...   1.265807636792072 0.9005005091563575\n",
       "39627328396988601 7886.367139684968 ... -0.2142147400539776  6.112823794942249\n",
       "39627328396991055 8341.584280027542 ...                 0.0                0.0\n",
       "39627328396991505 8459.638289138675 ...  -10.45446443620493  -4.01114924900662\n",
       "39627328396992403 8030.720874045976 ...                 0.0                0.0\n",
       "39627328396993358 16155.40947796404 ...   2.722204740242574  2.330864558151174\n",
       "39627328401184757 9072.039247870445 ...  -1.069409199759971 0.9895487889886859\n",
       "39627328405374193 7575.505654172273 ...  -28.39437460363042 0.6160744646628873\n",
       "39627328405374235 7989.898274373256 ...   4.073933711187827 -1.320176018447541"
      ]
     },
     "execution_count": 5,
     "metadata": {},
     "output_type": "execute_result"
    }
   ],
   "source": [
    "q = \"\"\"\n",
    "SELECT z.targetid, z.chi2, z.z, z.zerr, z.zwarn, z.spectype, z.subtype,\n",
    "       z.coadd_numexp, z.coadd_exptime, z.healpix, z.deltachi2,\n",
    "       z.ncoeff, z.coeff_0, z.coeff_1, z.coeff_2, z.coeff_3, z.coeff_4,\n",
    "       z.coeff_5, z.coeff_6, z.coeff_7, z.coeff_8, z.coeff_9\n",
    "FROM desi_dr1.zpix AS z\n",
    "WHERE z.zcat_primary\n",
    "    AND z.survey = 'main'\n",
    "    AND z.program = 'dark'\n",
    "    AND z.spectype = 'QSO'\n",
    "    AND z.z BETWEEN 1.0 AND 4.0\n",
    "    AND z.zwarn = 0\n",
    "ORDER BY z.targetid\n",
    "LIMIT 50\n",
    "\"\"\"\n",
    "desi_qso_ids = qc.query(sql=q, fmt='table')\n",
    "desi_qso_ids"
   ]
  },
  {
   "cell_type": "code",
   "execution_count": 7,
   "metadata": {
    "execution": {
     "iopub.execute_input": "2025-09-30T22:36:04.535774Z",
     "iopub.status.busy": "2025-09-30T22:36:04.535526Z",
     "iopub.status.idle": "2025-09-30T22:36:04.539886Z",
     "shell.execute_reply": "2025-09-30T22:36:04.539391Z",
     "shell.execute_reply.started": "2025-09-30T22:36:04.535759Z"
    }
   },
   "outputs": [],
   "source": [
    "max_coeff = desi_qso_ids['ncoeff'].max()\n",
    "coeff = np.zeros((len(desi_qso_ids), max_coeff), dtype=desi_qso_ids['coeff_0'].dtype)\n",
    "for k in range(max_coeff):\n",
    "    coeff[:, k] = desi_qso_ids[f'coeff_{k:d}'].data\n",
    "# coeff"
   ]
  },
  {
   "cell_type": "code",
   "execution_count": 9,
   "metadata": {
    "execution": {
     "iopub.execute_input": "2025-09-30T22:36:29.702124Z",
     "iopub.status.busy": "2025-09-30T22:36:29.701890Z",
     "iopub.status.idle": "2025-09-30T22:36:31.833243Z",
     "shell.execute_reply": "2025-09-30T22:36:31.832720Z",
     "shell.execute_reply.started": "2025-09-30T22:36:29.702110Z"
    }
   },
   "outputs": [
    {
     "data": {
      "text/plain": [
       "{'status': {'success': True,\n",
       "  'info': [\"Successfully found 50 records in dr_list=['DESI-DR1']\"],\n",
       "  'warnings': []}}"
      ]
     },
     "execution_count": 9,
     "metadata": {},
     "output_type": "execute_result"
    }
   ],
   "source": [
    "include = client.get_all_fields(dataset_list=['DESI-DR1'])\n",
    "desi_qso_spectra = client.retrieve_by_specid(specid_list=desi_qso_ids['targetid'].value.tolist(),\n",
    "                                             include=include,\n",
    "                                             dataset_list=['DESI-DR1'])\n",
    "desi_qso_spectra.info"
   ]
  },
  {
   "cell_type": "code",
   "execution_count": 10,
   "metadata": {
    "execution": {
     "iopub.execute_input": "2025-09-30T22:36:36.089220Z",
     "iopub.status.busy": "2025-09-30T22:36:36.088985Z",
     "iopub.status.idle": "2025-09-30T22:36:36.093100Z",
     "shell.execute_reply": "2025-09-30T22:36:36.092625Z",
     "shell.execute_reply.started": "2025-09-30T22:36:36.089205Z"
    }
   },
   "outputs": [],
   "source": [
    "desi_qso_spectra_sorted = sorted(desi_qso_spectra.records, key=lambda x: x.targetid)\n",
    "assert (np.array([r.targetid for r in desi_qso_spectra_sorted]) == desi_qso_ids['targetid']).all()"
   ]
  },
  {
   "cell_type": "code",
   "execution_count": 11,
   "metadata": {
    "execution": {
     "iopub.execute_input": "2025-09-30T22:36:37.326225Z",
     "iopub.status.busy": "2025-09-30T22:36:37.325979Z",
     "iopub.status.idle": "2025-09-30T22:36:37.332945Z",
     "shell.execute_reply": "2025-09-30T22:36:37.332493Z",
     "shell.execute_reply.started": "2025-09-30T22:36:37.326211Z"
    }
   },
   "outputs": [],
   "source": [
    "qso_flux = np.zeros((len(desi_qso_spectra_sorted), desi_qso_spectra_sorted[0].flux.shape[0]),\n",
    "                    dtype=desi_qso_spectra_sorted[0].flux.dtype)\n",
    "qso_model_flux = np.zeros((len(desi_qso_spectra_sorted), desi_qso_spectra_sorted[0].flux.shape[0]),\n",
    "                          dtype=desi_qso_spectra_sorted[0].model.dtype)\n",
    "qso_wavelength = desi_qso_spectra_sorted[0].wavelength\n",
    "for k in range(len(desi_qso_spectra_sorted)):\n",
    "    qso_flux[k, :] = desi_qso_spectra_sorted[k].flux\n",
    "    qso_model_flux[k, :] = desi_qso_spectra_sorted[k].model        "
   ]
  },
  {
   "cell_type": "code",
   "execution_count": 13,
   "metadata": {
    "execution": {
     "iopub.execute_input": "2025-09-30T22:37:02.733352Z",
     "iopub.status.busy": "2025-09-30T22:37:02.733118Z",
     "iopub.status.idle": "2025-09-30T22:37:02.743940Z",
     "shell.execute_reply": "2025-09-30T22:37:02.743429Z",
     "shell.execute_reply.started": "2025-09-30T22:37:02.733338Z"
    }
   },
   "outputs": [],
   "source": [
    "assert (desi_qso_ids['spectype'] == 'QSO').all()\n",
    "assert ((desi_qso_ids['subtype'] == 'HIZ') | (desi_qso_ids['subtype'] == 'LOZ')).all()\n",
    "qso_loz = templates[('QSO', 'LOZ')]\n",
    "qso_hiz = templates[('QSO', 'HIZ')]\n",
    "tmpl_model_flux = np.zeros((len(desi_qso_ids), len(qso_wavelength)), dtype=qso_model_flux.dtype)\n",
    "for i, row in enumerate(desi_qso_ids):\n",
    "    # print(row)\n",
    "    # print(coeff[i, :])\n",
    "    if row['subtype'] == 'LOZ':\n",
    "        tmpl_model_flux[i, :] = qso_loz.eval(coeff[i, :], qso_wavelength, row['z'])\n",
    "    else:\n",
    "        tmpl_model_flux[i, :] = qso_hiz.eval(coeff[i, :], qso_wavelength, row['z'])"
   ]
  },
  {
   "cell_type": "code",
   "execution_count": 19,
   "metadata": {
    "execution": {
     "iopub.execute_input": "2025-09-30T22:38:13.543113Z",
     "iopub.status.busy": "2025-09-30T22:38:13.542880Z",
     "iopub.status.idle": "2025-09-30T22:38:13.760963Z",
     "shell.execute_reply": "2025-09-30T22:38:13.760426Z",
     "shell.execute_reply.started": "2025-09-30T22:38:13.543099Z"
    }
   },
   "outputs": [
    {
     "data": {
      "image/png": "[encoded data removed]",
      "text/plain": [
       "<Figure size 1600x900 with 1 Axes>"
      ]
     },
     "metadata": {},
     "output_type": "display_data"
    }
   ],
   "source": [
    "fig = plt.figure(figsize=(16, 9), dpi=100)\n",
    "ax = fig.add_subplot(111)\n",
    "spectrum_index = 0  # Step through spectra here.\n",
    "pl0 = ax.plot(qso_wavelength, qso_flux[spectrum_index, :], 'k-', lw=0.5, label='SPARCL flux')\n",
    "pl1 = ax.plot(qso_wavelength, qso_model_flux[spectrum_index, :], 'r-', label='SPARCL model')\n",
    "pl2 = ax.plot(qso_wavelength, tmpl_model_flux[spectrum_index, :], 'b-', label='Redrock model')\n",
    "txt = ax.set_xlabel('Wavelength [Å]')\n",
    "txt = ax.set_ylabel(r'Flux [$10^{-17} \\mathrm{erg} \\mathrm{s}^{-1} \\mathrm{cm}^{-2} \\mathrm{\\AA}^{-1}$]')\n",
    "txt = ax.set_title(f\"TARGETID={desi_qso_ids[spectrum_index]['targetid']:d}; Z={desi_qso_ids[spectrum_index]['z']:.3f}; SPECTYPE={desi_qso_ids[spectrum_index]['spectype']}; SUBTYPE={desi_qso_ids[spectrum_index]['subtype']}\")\n",
    "l = ax.legend()"
   ]
  },
  {
   "cell_type": "markdown",
   "metadata": {},
   "source": [
    "<a class=\"anchor\" id=\"sdss\"></a>\n",
    "## SDSS"
   ]
  },
  {
   "cell_type": "markdown",
   "metadata": {},
   "source": [
    "### Find SDSS spectra"
   ]
  },
  {
   "cell_type": "code",
   "execution_count": null,
   "metadata": {
    "tags": []
   },
   "outputs": [],
   "source": [
    "q = \"\"\"\n",
    "SELECT z.specobjid, z.bestobjid, z.z, z.zerr, z.zwarning, z.class, z.subclass,\n",
    "       z.rchi2diff, z.primtarget, z.sectarget\n",
    "FROM sdss_dr16.specobj AS z\n",
    "WHERE z.bestobjid > 0\n",
    "    AND z.run2d = '26'\n",
    "    AND z.plate = 2955\n",
    "    AND z.mjd = 54562\n",
    "    AND z.class = 'GALAXY'\n",
    "    AND z.zwarning = 0\n",
    "ORDER BY z.specobjid\n",
    "LIMIT 50\n",
    "\"\"\"\n",
    "sdss_ids = qc.query(sql=q, fmt='table')\n",
    "sdss_ids"
   ]
  },
  {
   "cell_type": "markdown",
   "metadata": {},
   "source": [
    "**QA**: Do we really have 50 unique spectra?"
   ]
  },
  {
   "cell_type": "code",
   "execution_count": null,
   "metadata": {
    "tags": []
   },
   "outputs": [],
   "source": [
    "assert (np.unique(sdss_ids['specobjid']) == sdss_ids['specobjid']).all()"
   ]
  },
  {
   "cell_type": "markdown",
   "metadata": {},
   "source": [
    "### Retrieve SDSS spectra\n",
    "\n",
    "With the set of `specobjid` obtained above, we can directly retrieve SDSS spectra."
   ]
  },
  {
   "cell_type": "code",
   "execution_count": null,
   "metadata": {
    "tags": []
   },
   "outputs": [],
   "source": [
    "include = client.get_all_fields(dataset_list=['SDSS-DR16'])\n",
    "sdss_spectra = client.retrieve_by_specid(specid_list=sdss_ids['specobjid'].value.tolist(),\n",
    "                                         include=include,\n",
    "                                         dataset_list=['SDSS-DR16'])\n",
    "sdss_spectra.info"
   ]
  },
  {
   "cell_type": "markdown",
   "metadata": {},
   "source": [
    "**QA**: Did we really find all of the expected spectra? Note that we have to assume `specid == specobjid`."
   ]
  },
  {
   "cell_type": "code",
   "execution_count": null,
   "metadata": {
    "tags": []
   },
   "outputs": [],
   "source": [
    "sdss_specids_sorted = sorted(sdss_spectra.records, key=lambda x: x.specid)\n",
    "assert (np.array([r.specid for r in sdss_specids_sorted]) == sdss_ids['specobjid']).all()\n",
    "assert all([r.plate == 2955 for r in sdss_spectra.records])\n",
    "assert all([r.mjd == 54562 for r in sdss_spectra.records])"
   ]
  },
  {
   "cell_type": "markdown",
   "metadata": {},
   "source": [
    "**QA**: Do all spectra records have the same wavelength solution?"
   ]
  },
  {
   "cell_type": "code",
   "execution_count": null,
   "metadata": {
    "tags": []
   },
   "outputs": [],
   "source": [
    "assert all([(r.wavelength == sdss_spectra.records[0].wavelength).all() for r in sdss_spectra.records])"
   ]
  },
  {
   "cell_type": "markdown",
   "metadata": {},
   "source": [
    "**QA**: Are any of the spectra fully masked?"
   ]
  },
  {
   "cell_type": "code",
   "execution_count": null,
   "metadata": {
    "tags": []
   },
   "outputs": [],
   "source": [
    "sdss_fully_masked = np.zeros((len(sdss_spectra.records), ), dtype=bool)\n",
    "\n",
    "for k in range(len(sdss_spectra.records)):\n",
    "    assert np.isfinite(sdss_spectra.records[k].flux).all()\n",
    "    assert np.isfinite(sdss_spectra.records[k].ivar).all()\n",
    "    if (sdss_spectra.records[k].mask > 0).all():\n",
    "        print(f\"WARNING: Spectrum record {k:d} is fully masked!\")\n",
    "        sdss_fully_masked[k] = True"
   ]
  },
  {
   "cell_type": "markdown",
   "metadata": {},
   "source": [
    "**Note** that one of the spectra has a non-zero mask for every pixel. This will cause problems with some versions of Prospect, so for the demonstration below, we will not attempt to plot that spectrum. Future versions of Prospect will handle this more gracefully."
   ]
  },
  {
   "cell_type": "markdown",
   "metadata": {},
   "source": [
    "#### View the contents of the first retrieved record"
   ]
  },
  {
   "cell_type": "code",
   "execution_count": null,
   "metadata": {
    "tags": []
   },
   "outputs": [],
   "source": [
    "sdss_spectra.records[0]"
   ]
  },
  {
   "cell_type": "markdown",
   "metadata": {},
   "source": [
    "### Organize metadata\n",
    "\n",
    "Prospect needs several inputs:\n",
    "\n",
    "1. An object containing spectra.  In this case we'll use a [`Spectrum1D`](https://specutils.readthedocs.io/en/stable/api/specutils.Spectrum1D.html#specutils.Spectrum1D) object.\n",
    "   * The object contains the usual flux, wavelength, uncertainty.\n",
    "   * In addtion a \"plugmap\" table is needed. This should be an Astropy `Table` with the expected columns.\n",
    "2. A redshift catalog. This should be an Astropy `Table` with the expected columns.\n",
    "3. A model spectrum.  The model is actually provided by SPARCL, but we need to input it separately.\n",
    "\n",
    "#### Spectrum object\n",
    "\n",
    "First we assemble the components of the spectrum object"
   ]
  },
  {
   "cell_type": "code",
   "execution_count": null,
   "metadata": {
    "tags": []
   },
   "outputs": [],
   "source": [
    "flux = np.zeros((len(sdss_spectra.records), sdss_spectra.records[0].flux.shape[0]),\n",
    "                dtype=sdss_spectra.records[0].flux.dtype)\n",
    "uncertainty = np.zeros((len(sdss_spectra.records), sdss_spectra.records[0].ivar.shape[0]),\n",
    "                       dtype=sdss_spectra.records[0].ivar.dtype)\n",
    "mask = np.zeros((len(sdss_spectra.records), sdss_spectra.records[0].mask.shape[0]),\n",
    "                dtype=sdss_spectra.records[0].mask.dtype)\n",
    "\n",
    "meta = {'sparcl_id': list(), 'data_release': list()}\n",
    "sparcl_id = list()\n",
    "data_release = list()\n",
    "\n",
    "for k in range(len(sdss_spectra.records)):\n",
    "    flux[k, :] = sdss_spectra.records[k].flux\n",
    "    uncertainty[k, :] = sdss_spectra.records[k].ivar\n",
    "    mask[k, :] = sdss_spectra.records[k].mask\n",
    "    meta['sparcl_id'].append(sdss_spectra.records[k].sparcl_id)\n",
    "    meta['data_release'].append(sdss_spectra.records[k].data_release)"
   ]
  },
  {
   "cell_type": "markdown",
   "metadata": {},
   "source": [
    "And the \"plugmap\" table. We'll start with photometric quantities."
   ]
  },
  {
   "cell_type": "code",
   "execution_count": null,
   "metadata": {
    "tags": []
   },
   "outputs": [],
   "source": [
    "columns = ('objid', 'ra', 'dec', 'u', 'g', 'r', 'i', 'z')\n",
    "q = \"\"\"\n",
    "SELECT {0}\n",
    "FROM sdss_dr16.photoplate\n",
    "WHERE objid IN ({1})\n",
    "ORDER BY objid\n",
    "\"\"\".format(', '.join(columns), ', '.join([str(t) for t in sdss_ids['bestobjid'].value.tolist()]))\n",
    "\n",
    "plugmap = qc.query(sql=q, fmt='table')"
   ]
  },
  {
   "cell_type": "code",
   "execution_count": null,
   "metadata": {
    "tags": []
   },
   "outputs": [],
   "source": [
    "for col in plugmap.colnames:\n",
    "    plugmap.rename_column(col, col.upper())\n",
    "mag = np.zeros((len(plugmap), 5), dtype=plugmap['G'].value.dtype)\n",
    "for k, band in enumerate('UGRIZ'):\n",
    "    mag[:, k] = plugmap[band].value\n",
    "plugmap.add_column(mag, name='MAG')\n",
    "plugmap.add_column(sdss_ids['primtarget'], name='PRIMTARGET')\n",
    "plugmap.add_column(sdss_ids['sectarget'], name='SECTARGET')\n",
    "meta['plugmap'] = plugmap[~sdss_fully_masked]"
   ]
  },
  {
   "cell_type": "markdown",
   "metadata": {},
   "source": [
    "**QA**: Did we find photometry for every `bestobjid`?"
   ]
  },
  {
   "cell_type": "code",
   "execution_count": null,
   "metadata": {
    "tags": []
   },
   "outputs": [],
   "source": [
    "assert (plugmap['OBJID'] == sorted(sdss_ids['bestobjid'])).all()"
   ]
  },
  {
   "cell_type": "markdown",
   "metadata": {},
   "source": [
    "Finally assemble the object."
   ]
  },
  {
   "cell_type": "code",
   "execution_count": null,
   "metadata": {
    "tags": []
   },
   "outputs": [],
   "source": [
    "sdss_prospect = Spectrum1D(flux=flux[~sdss_fully_masked, :] * u.Unit('1e-17 erg / (Angstrom cm2 s)'),\n",
    "                           spectral_axis=sdss_spectra.records[0].wavelength * u.Unit('Angstrom'),\n",
    "                           uncertainty=InverseVariance(uncertainty[~sdss_fully_masked, :]),\n",
    "                           mask=mask[~sdss_fully_masked, :] != 0,\n",
    "                           meta=meta)"
   ]
  },
  {
   "cell_type": "markdown",
   "metadata": {},
   "source": [
    "#### Redshift catalog\n",
    "\n",
    "We can re-use the initial query above; it was deliberately constructed."
   ]
  },
  {
   "cell_type": "code",
   "execution_count": null,
   "metadata": {
    "tags": []
   },
   "outputs": [],
   "source": [
    "sdss_zcatalog = sdss_ids.copy()\n",
    "for col in sdss_zcatalog.colnames:\n",
    "    if col == 'zerr':\n",
    "        sdss_zcatalog.rename_column(col, 'Z_ERR')\n",
    "    else:\n",
    "        sdss_zcatalog.rename_column(col, col.upper())\n",
    "sdss_zcatalog"
   ]
  },
  {
   "cell_type": "markdown",
   "metadata": {},
   "source": [
    "#### Model spectra\n",
    "\n",
    "Prospect expects a model in the form of a tuple containing wavelength and flux. Since SPARCL provides the model, this is easy.  There are other ways to specify the model, but these require more access to the SDSS *files*."
   ]
  },
  {
   "cell_type": "code",
   "execution_count": null,
   "metadata": {
    "tags": []
   },
   "outputs": [],
   "source": [
    "model_flux = np.zeros((len(sdss_spectra.records), sdss_spectra.records[0].model.shape[0]),\n",
    "                      dtype=sdss_spectra.records[0].model.dtype)\n",
    "\n",
    "for k in range(len(sdss_spectra.records)):\n",
    "        model_flux[k, :] = sdss_spectra.records[k].model\n",
    "\n",
    "sdss_model = (sdss_spectra.records[0].wavelength, model_flux[~sdss_fully_masked, :])"
   ]
  },
  {
   "cell_type": "markdown",
   "metadata": {},
   "source": [
    "### Start prospect\n",
    "\n",
    "With everything assembled, the interface to prospect is just a single call."
   ]
  },
  {
   "cell_type": "code",
   "execution_count": null,
   "metadata": {
    "tags": []
   },
   "outputs": [],
   "source": [
    "plotspectra(sdss_prospect,\n",
    "            zcatalog=sdss_zcatalog[~sdss_fully_masked],\n",
    "            redrock_cat=None,\n",
    "            notebook=True,\n",
    "            with_thumb_tab=False,\n",
    "            with_vi_widgets=False,\n",
    "            with_coaddcam=False,\n",
    "            mask_type='PRIMTARGET',\n",
    "            model_from_zcat=False,\n",
    "            model=sdss_model)"
   ]
  },
  {
   "cell_type": "markdown",
   "metadata": {},
   "source": [
    "<a class=\"anchor\" id=\"boss\"></a>\n",
    "## (e)BOSS"
   ]
  },
  {
   "cell_type": "markdown",
   "metadata": {},
   "source": [
    "### Find (e)BOSS spectra"
   ]
  },
  {
   "cell_type": "code",
   "execution_count": null,
   "metadata": {
    "tags": []
   },
   "outputs": [],
   "source": [
    "q = \"\"\"\n",
    "SELECT z.specobjid, z.bestobjid, z.z, z.zerr, z.zwarning, z.class, z.subclass,\n",
    "       z.rchi2diff, z.boss_target1, z.eboss_target0, z.eboss_target1,\n",
    "       z.eboss_target2\n",
    "FROM sdss_dr16.specobj AS z\n",
    "WHERE z.bestobjid > 0\n",
    "    AND z.run2d = 'v5_13_0'\n",
    "    AND z.plate = 9599\n",
    "    AND z.mjd = 58131\n",
    "    AND z.class = 'GALAXY'\n",
    "    AND z.zwarning = 0\n",
    "ORDER BY z.specobjid\n",
    "LIMIT 50\n",
    "\"\"\"\n",
    "boss_ids = qc.query(sql=q, fmt='table')\n",
    "boss_ids"
   ]
  },
  {
   "cell_type": "markdown",
   "metadata": {},
   "source": [
    "**QA**: Do we really have 50 unique spectra?"
   ]
  },
  {
   "cell_type": "code",
   "execution_count": null,
   "metadata": {},
   "outputs": [],
   "source": [
    "assert (np.unique(boss_ids['specobjid']) == boss_ids['specobjid']).all()"
   ]
  },
  {
   "cell_type": "markdown",
   "metadata": {},
   "source": [
    "### Retrieve (e)BOSS spectra\n",
    "\n",
    "With the set of `specobjid` obtained above, we can directly retrieve (e)BOSS spectra."
   ]
  },
  {
   "cell_type": "code",
   "execution_count": null,
   "metadata": {
    "tags": []
   },
   "outputs": [],
   "source": [
    "include = client.get_all_fields(dataset_list=['BOSS-DR16'])\n",
    "boss_spectra = client.retrieve_by_specid(specid_list=boss_ids['specobjid'].value.tolist(),\n",
    "                                         include=include,\n",
    "                                         dataset_list=['BOSS-DR16'])\n",
    "boss_spectra.info"
   ]
  },
  {
   "cell_type": "markdown",
   "metadata": {
    "tags": []
   },
   "source": [
    "**QA**: Did we really find all of the expected spectra?"
   ]
  },
  {
   "cell_type": "code",
   "execution_count": null,
   "metadata": {
    "tags": []
   },
   "outputs": [],
   "source": [
    "boss_specids_sorted = sorted(boss_spectra.records, key=lambda x: x.specid)\n",
    "assert (np.array([r.specid for r in boss_specids_sorted]) == boss_ids['specobjid']).all()\n",
    "assert all([r.plate == 9599 for r in boss_spectra.records])\n",
    "assert all([r.mjd == 58131 for r in boss_spectra.records])"
   ]
  },
  {
   "cell_type": "markdown",
   "metadata": {},
   "source": [
    "**QA**: Do all spectra records have the same wavelength solution?"
   ]
  },
  {
   "cell_type": "code",
   "execution_count": null,
   "metadata": {
    "tags": []
   },
   "outputs": [],
   "source": [
    "assert all([(r.wavelength == boss_spectra.records[0].wavelength).all() for r in boss_spectra.records])"
   ]
  },
  {
   "cell_type": "markdown",
   "metadata": {},
   "source": [
    "**QA**: Are any of the spectra fully masked?"
   ]
  },
  {
   "cell_type": "code",
   "execution_count": null,
   "metadata": {
    "tags": []
   },
   "outputs": [],
   "source": [
    "boss_fully_masked = np.zeros((len(boss_spectra.records), ), dtype=bool)\n",
    "\n",
    "for k in range(len(boss_spectra.records)):\n",
    "    assert np.isfinite(boss_spectra.records[k].flux).all()\n",
    "    assert np.isfinite(boss_spectra.records[k].ivar).all()\n",
    "    if (boss_spectra.records[k].mask > 0).all():\n",
    "        print(f\"WARNING: Spectrum record {k:d} is fully masked!\")\n",
    "        boss_fully_masked[k] = True"
   ]
  },
  {
   "cell_type": "markdown",
   "metadata": {},
   "source": [
    "#### View the contents of the first retrieved record"
   ]
  },
  {
   "cell_type": "code",
   "execution_count": null,
   "metadata": {
    "tags": []
   },
   "outputs": [],
   "source": [
    "boss_spectra.records[0]"
   ]
  },
  {
   "cell_type": "markdown",
   "metadata": {},
   "source": [
    "### Organize metadata\n",
    "\n",
    "Prospect needs several inputs:\n",
    "\n",
    "1. An object containing spectra.  In this case we'll use a [`Spectrum1D`](https://specutils.readthedocs.io/en/stable/api/specutils.Spectrum1D.html#specutils.Spectrum1D) object.\n",
    "   * The object contains the usual flux, wavelength, uncertainty.\n",
    "   * In addtion a \"plugmap\" table is needed. This should be an Astropy `Table` with the expected columns.\n",
    "2. A redshift catalog. This should be an Astropy `Table` with the expected columns.\n",
    "3. A model spectrum.  The model is actually provided by SPARCL, but we need to input it separately.\n",
    "\n",
    "#### Spectrum object\n",
    "\n",
    "First we assemble the components of the spectrum object"
   ]
  },
  {
   "cell_type": "code",
   "execution_count": null,
   "metadata": {
    "tags": []
   },
   "outputs": [],
   "source": [
    "flux = np.zeros((len(boss_spectra.records), boss_spectra.records[0].flux.shape[0]),\n",
    "                dtype=boss_spectra.records[0].flux.dtype)\n",
    "uncertainty = np.zeros((len(boss_spectra.records), boss_spectra.records[0].ivar.shape[0]),\n",
    "                       dtype=boss_spectra.records[0].ivar.dtype)\n",
    "mask = np.zeros((len(boss_spectra.records), boss_spectra.records[0].mask.shape[0]),\n",
    "                dtype=boss_spectra.records[0].mask.dtype)\n",
    "\n",
    "meta = {'sparcl_id': list(), 'data_release': list()}\n",
    "sparcl_id = list()\n",
    "data_release = list()\n",
    "\n",
    "for k in range(len(boss_spectra.records)):\n",
    "    flux[k, :] = boss_spectra.records[k].flux\n",
    "    uncertainty[k, :] = boss_spectra.records[k].ivar\n",
    "    mask[k, :] = boss_spectra.records[k].mask\n",
    "    meta['sparcl_id'].append(boss_spectra.records[k].sparcl_id)\n",
    "    meta['data_release'].append(boss_spectra.records[k].data_release)"
   ]
  },
  {
   "cell_type": "markdown",
   "metadata": {
    "tags": []
   },
   "source": [
    "And the \"plugmap\" table. We'll start with photometric quantities."
   ]
  },
  {
   "cell_type": "code",
   "execution_count": null,
   "metadata": {
    "tags": []
   },
   "outputs": [],
   "source": [
    "columns = ('objid', 'ra', 'dec', 'u', 'g', 'r', 'i', 'z')\n",
    "q = \"\"\"\n",
    "SELECT {0}\n",
    "FROM sdss_dr16.photoplate\n",
    "WHERE objid IN ({1})\n",
    "ORDER BY objid\n",
    "\"\"\".format(', '.join(columns), ', '.join([str(t) for t in boss_ids['bestobjid'].value.tolist()]))\n",
    "\n",
    "plugmap = qc.query(sql=q, fmt='table')"
   ]
  },
  {
   "cell_type": "code",
   "execution_count": null,
   "metadata": {},
   "outputs": [],
   "source": [
    "for col in plugmap.colnames:\n",
    "    plugmap.rename_column(col, col.upper())\n",
    "mag = np.zeros((len(plugmap), 5), dtype=plugmap['G'].value.dtype)\n",
    "for k, band in enumerate('UGRIZ'):\n",
    "    mag[:, k] = plugmap[band].value\n",
    "plugmap.add_column(mag, name='MAG')\n",
    "plugmap.add_column(boss_ids['boss_target1'], name='BOSS_TARGET1')\n",
    "plugmap.add_column(boss_ids['eboss_target0'], name='EBOSS_TARGET0')\n",
    "plugmap.add_column(boss_ids['eboss_target1'], name='EBOSS_TARGET1')\n",
    "plugmap.add_column(boss_ids['eboss_target2'], name='EBOSS_TARGET2')\n",
    "meta['plugmap'] = plugmap[~boss_fully_masked]"
   ]
  },
  {
   "cell_type": "markdown",
   "metadata": {
    "tags": []
   },
   "source": [
    "**QA**: Did we find photometry for every `bestobjid`?"
   ]
  },
  {
   "cell_type": "code",
   "execution_count": null,
   "metadata": {
    "tags": []
   },
   "outputs": [],
   "source": [
    "assert (plugmap['OBJID'] == sorted(boss_ids['bestobjid'])).all()"
   ]
  },
  {
   "cell_type": "markdown",
   "metadata": {
    "tags": []
   },
   "source": [
    "Finally assemble the object."
   ]
  },
  {
   "cell_type": "code",
   "execution_count": null,
   "metadata": {
    "tags": []
   },
   "outputs": [],
   "source": [
    "boss_prospect = Spectrum1D(flux=flux[~boss_fully_masked, :] * u.Unit('1e-17 erg / (Angstrom cm2 s)'),\n",
    "                           spectral_axis=boss_spectra.records[0].wavelength * u.Unit('Angstrom'),\n",
    "                           uncertainty=InverseVariance(uncertainty[~boss_fully_masked, :]),\n",
    "                           mask=mask[~boss_fully_masked, :] != 0,\n",
    "                           meta=meta)"
   ]
  },
  {
   "cell_type": "markdown",
   "metadata": {
    "tags": []
   },
   "source": [
    "#### Redshift catalog\n",
    "\n",
    "We can re-use the initial query above; it was deliberately constructed."
   ]
  },
  {
   "cell_type": "code",
   "execution_count": null,
   "metadata": {
    "tags": []
   },
   "outputs": [],
   "source": [
    "boss_zcatalog = boss_ids.copy()\n",
    "for col in boss_zcatalog.colnames:\n",
    "    if col == 'zerr':\n",
    "        boss_zcatalog.rename_column(col, 'Z_ERR')\n",
    "    else:\n",
    "        boss_zcatalog.rename_column(col, col.upper())\n",
    "boss_zcatalog"
   ]
  },
  {
   "cell_type": "markdown",
   "metadata": {},
   "source": [
    "#### Model spectra\n",
    "\n",
    "Prospect expects a model in the form of a tuple containing wavelength and flux. Since SPARCL provides the model, this is easy.  There are other ways to specify the model, but these require more access to the (e)BOSS *files*."
   ]
  },
  {
   "cell_type": "code",
   "execution_count": null,
   "metadata": {
    "tags": []
   },
   "outputs": [],
   "source": [
    "model_flux = np.zeros((len(boss_spectra.records), boss_spectra.records[0].model.shape[0]),\n",
    "                      dtype=boss_spectra.records[0].model.dtype)\n",
    "\n",
    "for k in range(len(boss_spectra.records)):\n",
    "        model_flux[k, :] = boss_spectra.records[k].model\n",
    "\n",
    "boss_model = (boss_spectra.records[0].wavelength, model_flux[~boss_fully_masked, :])"
   ]
  },
  {
   "cell_type": "markdown",
   "metadata": {},
   "source": [
    "### Start prospect\n",
    "\n",
    "With everything assembled, the interface to prospect is just a single call."
   ]
  },
  {
   "cell_type": "code",
   "execution_count": null,
   "metadata": {
    "tags": []
   },
   "outputs": [],
   "source": [
    "plotspectra(boss_prospect,\n",
    "            zcatalog=boss_zcatalog[~boss_fully_masked],\n",
    "            redrock_cat=None,\n",
    "            notebook=True,\n",
    "            with_thumb_tab=False,\n",
    "            with_vi_widgets=False,\n",
    "            with_coaddcam=False,\n",
    "            mask_type='EBOSS_TARGET1',\n",
    "            model_from_zcat=False,\n",
    "            model=boss_model)"
   ]
  },
  {
   "cell_type": "code",
   "execution_count": null,
   "metadata": {},
   "outputs": [],
   "source": []
  }
 ],
 "metadata": {
  "kernelspec": {
   "display_name": "DESI 25.3 (DL,Py3.10.13)",
   "language": "python",
   "name": "desi_25.3"
  },
  "language_info": {
   "codemirror_mode": {
    "name": "ipython",
    "version": 3
   },
   "file_extension": ".py",
   "mimetype": "text/x-python",
   "name": "python",
   "nbconvert_exporter": "python",
   "pygments_lexer": "ipython3",
   "version": "3.10.13"
  }
 },
 "nbformat": 4,
 "nbformat_minor": 4
}
