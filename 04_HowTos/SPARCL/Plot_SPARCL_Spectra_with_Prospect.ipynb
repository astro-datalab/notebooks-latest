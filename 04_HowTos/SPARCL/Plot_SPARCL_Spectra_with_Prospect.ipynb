{
 "cells": [
  {
   "cell_type": "code",
   "execution_count": null,
   "metadata": {},
   "outputs": [],
   "source": [
    "__nbid__ = '0053'\n",
    "__author__ = 'Eric Armengaud, Benjamin Weaver <benjamin.weaver@noirlab.edu>, Alice Jacques <alice.jacques@noirlab.edu>'\n",
    "__version__ = '20250317' # yyyymmdd\n",
    "__datasets__ = ['sdss_dr16', 'boss_dr16', 'desi_dr1']\n",
    "__keywords__ = ['sparcl', 'spectroscopy', 'sdss spectra', 'desi spectra', 'tutorial', 'prospect', 'specutils']"
   ]
  },
  {
   "cell_type": "markdown",
   "metadata": {},
   "source": [
    "# Obtain and plot spectra data using SPARCL, prospect, and specutils\n",
    "\n",
    "*Credit*: [Eric Armengaud](https://github.com/armengau), Saclay - CEA, is the primary author of prospect. See also the [prospect contributors](https://github.com/desihub/prospect/graphs/contributors). [Benjamin Weaver](https://github.com/weaverba137) and [Alice Jacques](https://github.com/jacquesalice) contributed to the development of this notebook."
   ]
  },
  {
   "cell_type": "markdown",
   "metadata": {},
   "source": [
    "### Table of contents\n",
    "* [Goals](#goals)\n",
    "* [Disclaimer & attribution](#disclaimer)\n",
    "* [Imports and setup](#imports)\n",
    "* Find, retrieve, and plot spectra from:\n",
    "    * [DESI](#desi)\n",
    "    * [SDSS](#sdss)\n",
    "    * [(e)BOSS](#boss)"
   ]
  },
  {
   "cell_type": "markdown",
   "metadata": {},
   "source": [
    "<a class=\"anchor\" id=\"goals\"></a>\n",
    "## Goals\n",
    "*Project*: Obtain DESI DR1, SDSS DR16, and (e)BOSS DR16 spectra using the [NOIRLab SPARCL spectrum service](https://astrosparcl.datalab.noirlab.edu), convert data to [specutils objects](https://specutils.readthedocs.io/en/stable/) as needed, and use [prospect](https://desi-prospect.readthedocs.io/en/latest/) to display the data.\n",
    "\n",
    "*Takeaway*: At no point in this notebook will any data files be opened.\n",
    "\n",
    "*Takeaway*: prospect allows multiple, independent spectra visualizations to coexist within the same notebook.\n",
    "\n",
    "This notebook is an adaptation of the [Prospect + specutils + SPARCL](https://github.com/desihub/prospect/blob/main/doc/nb/Prospect_spectrum_service.ipynb) notebook."
   ]
  },
  {
   "cell_type": "markdown",
   "metadata": {},
   "source": [
    "<a class=\"anchor\" id=\"attribution\"></a>\n",
    "## Disclaimer & attribution\n",
    "\n",
    "### Disclaimers\n",
    "\n",
    "Note that using the Astro Data Lab constitutes your agreement with our minimal [Disclaimers](https://datalab.noirlab.edu/disclaimers.php).\n",
    "\n",
    "### Acknowledgments\n",
    "\n",
    "If you use **Astro Data Lab** in your published research, please include the text in your paper's Acknowledgments section:\n",
    "\n",
    "_This research uses services or data provided by the Astro Data Lab, which is part of the Community Science and Data Center (CSDC) Program of NSF NOIRLab. NOIRLab is operated by the Association of Universities for Research in Astronomy (AURA), Inc. under a cooperative agreement with the U.S. National Science Foundation._\n",
    "\n",
    "If you use **SPARCL jointly with the Astro Data Lab platform** (via JupyterLab, command-line, or web interface) in your published research, please include this text below in your paper's Acknowledgments section:\n",
    "\n",
    "_This research uses services or data provided by the SPectra Analysis and Retrievable Catalog Lab (SPARCL) and the Astro Data Lab, which are both part of the Community Science and Data Center (CSDC) Program of NSF NOIRLab. NOIRLab is operated by the Association of Universities for Research in Astronomy (AURA), Inc. under a cooperative agreement with the U.S. National Science Foundation._\n",
    "\n",
    "In either case **please cite the following papers**:\n",
    "\n",
    "* Data Lab concept paper: Fitzpatrick et al., \"The NOAO Data Laboratory: a conceptual overview\", SPIE, 9149, 2014, https://doi.org/10.1117/12.2057445\n",
    "\n",
    "* Astro Data Lab overview: Nikutta et al., \"Data Lab - A Community Science Platform\", Astronomy and Computing, 33, 2020, https://doi.org/10.1016/j.ascom.2020.100411\n",
    "\n",
    "If you are referring to the Data Lab JupyterLab / Jupyter Notebooks, cite:\n",
    "\n",
    "* Juneau et al., \"Jupyter-Enabled Astrophysical Analysis Using Data-Proximate Computing Platforms\", CiSE, 23, 15, 2021, https://doi.org/10.1109/MCSE.2021.3057097\n",
    "\n",
    "If publishing in a AAS journal, also add the keyword: `\\facility{Astro Data Lab}`\n",
    "\n",
    "And if you are using SPARCL, please also add `\\software{SPARCL}` and cite:\n",
    "\n",
    "* Juneau et al., \"SPARCL: SPectra Analysis and Retrievable Catalog Lab\", Conference Proceedings for ADASS XXXIII, 2024\n",
    "https://doi.org/10.48550/arXiv.2401.05576\n",
    "\n",
    "The NOIRLab Library maintains [lists of proper acknowledgments](https://noirlab.edu/science/about/scientific-acknowledgments) to use when publishing papers using the Lab's facilities, data, or services.\n",
    "\n",
    "For this notebook specifically, please acknowledge:\n",
    "\n",
    "* prospect: [Eric Armengaud](https://github.com/armengau), Saclay - CEA, the primary author of prospect. See also the [prospect contributors](https://github.com/desihub/prospect/graphs/contributors)."
   ]
  },
  {
   "cell_type": "markdown",
   "metadata": {},
   "source": [
    "<a class=\"anchor\" id=\"imports\"></a>\n",
    "## Imports and setup\n",
    "\n",
    "Note that we only lightly using the DESI software stack (`DESI 25.3`), although some imports will be embedded within `prospect`."
   ]
  },
  {
   "cell_type": "code",
   "execution_count": null,
   "metadata": {
    "tags": []
   },
   "outputs": [],
   "source": [
    "import os\n",
    "from numba import NumbaDeprecationWarning\n",
    "import warnings\n",
    "warnings.filterwarnings(\"ignore\", category=NumbaDeprecationWarning, message=r'.*numba\\.jit.*')\n",
    "import numpy as np\n",
    "import matplotlib.pyplot as plt\n",
    "import astropy.units as u\n",
    "from astropy.nddata import InverseVariance\n",
    "from astropy.io import fits\n",
    "f from astropy.table import Table\n",
    "from specutils import __version__ as specutils_version, Spectrum1D\n",
    "from bokeh import __version__ as bokeh_version\n",
    "from prospect import __version__ as prospect_version\n",
    "from prospect.viewer import plotspectra\n",
    "from prospect.specutils import Spectra\n",
    "from desispec import __version__ as desispec_version\n",
    "from desispec.io import findfile\n",
    "from redrock import __version__ as redrock_version\n",
    "from redrock.templates import get_template_dir, load_templates\n",
    "from sparcl import __version__ as sparcl_version\n",
    "from sparcl.client import SparclClient\n",
    "from dl import __version__ as dl_version, queryClient as qc, authClient as ac, storeClient as sc\n",
    "print(f\"astro-datalab=={dl_version}\")\n",
    "print(f\"specutils=={specutils_version}\")\n",
    "print(f\"bokeh=={bokeh_version}\")\n",
    "print(f\"prospect=={prospect_version}\")\n",
    "print(f\"desispec=={desispec_version}\")\n",
    "print(f\"redrock=={redrock_version}\")\n",
    "print(f\"sparcl=={sparcl_version}\")"
   ]
  },
  {
   "cell_type": "markdown",
   "metadata": {},
   "source": [
    "### Authentication\n",
    "\n",
    "Much of the functionality of Data Lab can be accessed without explicitly logging in (the service then uses an anonymous login). But some capacities, for instance saving the results of your queries to your virtual storage space, require a login (*i.e.* you will need a registered user account).\n",
    "\n",
    "If you need to log in to Data Lab, un-comment the cell below and execute it:"
   ]
  },
  {
   "cell_type": "code",
   "execution_count": null,
   "metadata": {},
   "outputs": [],
   "source": [
    "# from getpass import getpass\n",
    "# token = ac.login(input(\"Enter user name: (+ENTER) \"), getpass(\"Enter password: (+ENTER) \"))\n",
    "# ac.whoAmI()"
   ]
  },
  {
   "cell_type": "markdown",
   "metadata": {},
   "source": [
    "### Start SPARCL Client"
   ]
  },
  {
   "cell_type": "code",
   "execution_count": null,
   "metadata": {
    "tags": []
   },
   "outputs": [],
   "source": [
    "client = SparclClient()\n",
    "client"
   ]
  },
  {
   "cell_type": "markdown",
   "metadata": {},
   "source": [
    "### Set up Data Lab database interface\n",
    "\n",
    "All data should be visible in the 'default' profile"
   ]
  },
  {
   "cell_type": "code",
   "execution_count": null,
   "metadata": {
    "tags": []
   },
   "outputs": [],
   "source": [
    "qc.get_profile()"
   ]
  },
  {
   "cell_type": "markdown",
   "metadata": {},
   "source": [
    "<a class=\"anchor\" id=\"desi\"></a>\n",
    "## DESI DR1"
   ]
  },
  {
   "cell_type": "markdown",
   "metadata": {},
   "source": [
    "### Find DESI spectra\n",
    "\n",
    "SPARCL provides access to DESI spectra that have been coadded by HEALPixel.  This corresponds to entries in the `desi_dr1.zpix` table at Astro Data Lab (see column information [here](https://datalab.noirlab.edu/query.php?name=desi_dr1.zpix))."
   ]
  },
  {
   "cell_type": "code",
   "execution_count": null,
   "metadata": {},
   "outputs": [],
   "source": [
    "q = \"\"\"\n",
    "SELECT z.targetid, z.chi2, z.z, z.zerr, z.zwarn, z.spectype, z.subtype,\n",
    "       z.coadd_numexp, z.coadd_exptime, z.healpix, z.deltachi2\n",
    "FROM desi_dr1.zpix AS z\n",
    "WHERE z.zcat_primary\n",
    "    AND z.survey = 'main'\n",
    "    AND z.program = 'dark'\n",
    "    AND z.spectype = 'GALAXY'\n",
    "    AND z.z BETWEEN 0.5 AND 0.9\n",
    "    AND z.zwarn = 0\n",
    "ORDER BY z.targetid\n",
    "LIMIT 50\n",
    "\"\"\"\n",
    "desi_ids = qc.query(sql=q, fmt='table')\n",
    "desi_ids"
   ]
  },
  {
   "cell_type": "markdown",
   "metadata": {},
   "source": [
    "**QA**: Do we really have 50 unique spectra?"
   ]
  },
  {
   "cell_type": "code",
   "execution_count": null,
   "metadata": {},
   "outputs": [],
   "source": [
    "assert (np.unique(desi_ids['targetid']) == desi_ids['targetid']).all()"
   ]
  },
  {
   "cell_type": "markdown",
   "metadata": {},
   "source": [
    "### Retrieve DESI spectra\n",
    "\n",
    "With the set of `targetid` obtained above, we can directly retrieve DESI spectra."
   ]
  },
  {
   "cell_type": "code",
   "execution_count": null,
   "metadata": {
    "tags": []
   },
   "outputs": [],
   "source": [
    "include = client.get_all_fields(dataset_list=['DESI-DR1'])\n",
    "desi_spectra = client.retrieve_by_specid(specid_list=desi_ids['targetid'].value.tolist(),\n",
    "                                         include=include,\n",
    "                                         dataset_list=['DESI-DR1'])\n",
    "desi_spectra.info"
   ]
  },
  {
   "cell_type": "markdown",
   "metadata": {},
   "source": [
    "**QA**: Did we really find all of the expected spectra?\n",
    "\n",
    "Side effect: this also sorts the returned records to match the order of the inputs."
   ]
  },
  {
   "cell_type": "code",
   "execution_count": null,
   "metadata": {},
   "outputs": [],
   "source": [
    "desi_records = sorted(desi_spectra.records, key=lambda x: x.targetid)\n",
    "assert (np.array([r.targetid for r in desi_records]) == desi_ids['targetid']).all()\n",
    "assert all([r.survey == 'main' for r in desi_records])\n",
    "assert all([r.program == 'dark' for r in desi_records])"
   ]
  },
  {
   "cell_type": "markdown",
   "metadata": {},
   "source": [
    "**QA**: Do all spectra records have the same wavelength solution?"
   ]
  },
  {
   "cell_type": "code",
   "execution_count": null,
   "metadata": {},
   "outputs": [],
   "source": [
    "assert all([(r.wavelength == desi_records[0].wavelength).all() for r in desi_records])"
   ]
  },
  {
   "cell_type": "markdown",
   "metadata": {},
   "source": [
    "**QA**: Are any of the spectra fully masked?"
   ]
  },
  {
   "cell_type": "code",
   "execution_count": null,
   "metadata": {
    "tags": []
   },
   "outputs": [],
   "source": [
    "desi_fully_masked = np.zeros((len(desi_records), ), dtype=bool)\n",
    "\n",
    "for k in range(len(desi_records)):\n",
    "    assert np.isfinite(desi_records[k].flux).all()\n",
    "    assert np.isfinite(desi_records[k].ivar).all()\n",
    "    if (desi_records[k].mask > 0).all():\n",
    "        print(f\"WARNING: Spectrum record {k:d} is fully masked!\")\n",
    "        desi_fully_masked[k] = True"
   ]
  },
  {
   "cell_type": "markdown",
   "metadata": {},
   "source": [
    "#### View the contents of the first retrieved record"
   ]
  },
  {
   "cell_type": "code",
   "execution_count": null,
   "metadata": {},
   "outputs": [],
   "source": [
    "desi_records[0]"
   ]
  },
  {
   "cell_type": "markdown",
   "metadata": {},
   "source": [
    "### Organize metadata\n",
    "\n",
    "Prospect needs several inputs:\n",
    "\n",
    "1. An object containing spectra.  In this case we'll use [`prospect.specutils.Spectra`](https://desi-prospect.readthedocs.io/en/latest/api.html#prospect.specutils.Spectra), which inherits from [`SpectrumList`](https://specutils.readthedocs.io/en/stable/api/specutils.SpectrumList.html#specutils.SpectrumList), and is really just a [`Spectrum1D`](https://specutils.readthedocs.io/en/stable/api/specutils.Spectrum1D.html#specutils.Spectrum1D) object underneath.\n",
    "   * The object contains the usual flux, wavelength, uncertainty.\n",
    "   * In addtion a \"fibermap\" table is needed. This should be an Astropy `Table` with the expected columns.\n",
    "2. A redshift catalog. This should be an Astropy `Table` with the expected columns.\n",
    "3. A model spectrum.  The model is actually provided by SPARCL, but we need to input it separately.\n",
    "\n",
    "#### Spectrum object\n",
    "\n",
    "First we assemble the components of the spectrum object"
   ]
  },
  {
   "cell_type": "code",
   "execution_count": null,
   "metadata": {},
   "outputs": [],
   "source": [
    "flux = np.zeros((len(desi_records), desi_records[0].flux.shape[0]),\n",
    "                dtype=desi_records[0].flux.dtype)\n",
    "uncertainty = np.zeros((len(desi_records), desi_records[0].ivar.shape[0]),\n",
    "                       dtype=desi_records[0].ivar.dtype)\n",
    "mask = np.zeros((len(desi_records), desi_records[0].mask.shape[0]),\n",
    "                dtype=desi_records[0].mask.dtype)\n",
    "\n",
    "meta = {'sparcl_id': list(), 'data_release': list()}\n",
    "sparcl_id = list()\n",
    "data_release = list()\n",
    "\n",
    "for k in range(len(desi_records)):\n",
    "    flux[k, :] = desi_records[k].flux\n",
    "    uncertainty[k, :] = desi_records[k].ivar\n",
    "    mask[k, :] = desi_records[k].mask\n",
    "    meta['sparcl_id'].append(desi_records[k].sparcl_id)\n",
    "    meta['data_release'].append(desi_records[k].data_release)"
   ]
  },
  {
   "cell_type": "markdown",
   "metadata": {},
   "source": [
    "And the \"fibermap\" table. We'll start with photometric quantities."
   ]
  },
  {
   "cell_type": "code",
   "execution_count": null,
   "metadata": {},
   "outputs": [],
   "source": [
    "columns = ('targetid', 'ra', 'dec', 'ref_epoch', 'pmra', 'pmdec', 'ebv',\n",
    "           'flux_g', 'flux_r', 'flux_z', 'flux_w1', 'flux_w2')\n",
    "q = \"\"\"\n",
    "SELECT {0}\n",
    "FROM desi_dr1.photometry\n",
    "WHERE targetid IN ({1})\n",
    "ORDER BY targetid\n",
    "\"\"\".format(', '.join(columns), ', '.join([str(t) for t in desi_ids['targetid'].value.tolist()]))\n",
    "\n",
    "fibermap = qc.query(sql=q, fmt='table')"
   ]
  },
  {
   "cell_type": "code",
   "execution_count": null,
   "metadata": {},
   "outputs": [],
   "source": [
    "for col in fibermap.colnames:\n",
    "    if col == 'ra' or col == 'dec':\n",
    "        fibermap.rename_column(col, 'TARGET_' + col.upper())\n",
    "    else:\n",
    "        fibermap.rename_column(col, col.upper())"
   ]
  },
  {
   "cell_type": "markdown",
   "metadata": {},
   "source": [
    "**QA**: Did we find photometry for every `targetid`?"
   ]
  },
  {
   "cell_type": "code",
   "execution_count": null,
   "metadata": {},
   "outputs": [],
   "source": [
    "assert (fibermap['TARGETID'] == desi_ids['targetid']).all()"
   ]
  },
  {
   "cell_type": "markdown",
   "metadata": {},
   "source": [
    "Next we add targeting bitmasks."
   ]
  },
  {
   "cell_type": "code",
   "execution_count": null,
   "metadata": {},
   "outputs": [],
   "source": [
    "columns = ('targetid', 'desi_target', 'bgs_target', 'mws_target', 'scnd_target')\n",
    "q = \"\"\"\n",
    "SELECT DISTINCT {0}\n",
    "FROM desi_dr1.target\n",
    "WHERE targetid IN ({1})\n",
    "ORDER BY targetid\n",
    "\"\"\".format(', '.join(columns), ', '.join([str(t) for t in fibermap['TARGETID'].value.tolist()]))\n",
    "\n",
    "targeting = qc.query(sql=q, fmt='table')"
   ]
  },
  {
   "cell_type": "code",
   "execution_count": null,
   "metadata": {},
   "outputs": [],
   "source": [
    "for col in targeting.colnames:\n",
    "    targeting.rename_column(col, col.upper())"
   ]
  },
  {
   "cell_type": "markdown",
   "metadata": {},
   "source": [
    "**QA**: Did we find targeting for every `targetid`?"
   ]
  },
  {
   "cell_type": "code",
   "execution_count": null,
   "metadata": {},
   "outputs": [],
   "source": [
    "assert (targeting['TARGETID'] == fibermap['TARGETID']).all()"
   ]
  },
  {
   "cell_type": "markdown",
   "metadata": {},
   "source": [
    "**QA**: Does the order of fibermap match the SPARCL records?"
   ]
  },
  {
   "cell_type": "code",
   "execution_count": null,
   "metadata": {},
   "outputs": [],
   "source": [
    "assert (np.array([r.targetid for r in desi_records]) == fibermap['TARGETID']).all()"
   ]
  },
  {
   "cell_type": "markdown",
   "metadata": {},
   "source": [
    "Add columns into `fibermap`."
   ]
  },
  {
   "cell_type": "code",
   "execution_count": null,
   "metadata": {},
   "outputs": [],
   "source": [
    "for col in ('DESI_TARGET', 'BGS_TARGET', 'MWS_TARGET', 'SCND_TARGET'):\n",
    "    fibermap.add_column(targeting[col])\n",
    "fibermap"
   ]
  },
  {
   "cell_type": "markdown",
   "metadata": {},
   "source": [
    "Finally assemble the object."
   ]
  },
  {
   "cell_type": "code",
   "execution_count": null,
   "metadata": {},
   "outputs": [],
   "source": [
    "desi_prospect = Spectra(bands=['coadd'],\n",
    "                        wave={'coadd': desi_records[0].wavelength},\n",
    "                        flux={'coadd': flux[~desi_fully_masked, :]},\n",
    "                        ivar={'coadd': uncertainty[~desi_fully_masked, :]},\n",
    "                        mask={'coadd': mask[~desi_fully_masked, :]},\n",
    "                        fibermap=fibermap[~desi_fully_masked],\n",
    "                        meta={'coadd': meta})"
   ]
  },
  {
   "cell_type": "markdown",
   "metadata": {},
   "source": [
    "#### Redshift catalog\n",
    "\n",
    "We can re-use the initial query above; it was deliberately constructed."
   ]
  },
  {
   "cell_type": "code",
   "execution_count": null,
   "metadata": {},
   "outputs": [],
   "source": [
    "desi_zcatalog = desi_ids.copy()\n",
    "for col in desi_zcatalog.colnames:\n",
    "    if col == 'healpix':\n",
    "        desi_zcatalog.rename_column(col, 'HPXPIXEL')\n",
    "    else:\n",
    "        desi_zcatalog.rename_column(col, col.upper())\n",
    "desi_zcatalog"
   ]
  },
  {
   "cell_type": "markdown",
   "metadata": {},
   "source": [
    "#### Model spectra\n",
    "\n",
    "Prospect expects a model in the form of a tuple containing wavelength and flux. Since SPARCL provides the model, this is easy.  There are other ways to specify the model, but these require more access to the DESI software stack *and* data *files*."
   ]
  },
  {
   "cell_type": "code",
   "execution_count": null,
   "metadata": {},
   "outputs": [],
   "source": [
    "model_flux = np.zeros((len(desi_records), desi_records[0].model.shape[0]),\n",
    "                      dtype=desi_records[0].model.dtype)\n",
    "\n",
    "for k in range(len(desi_records)):\n",
    "        model_flux[k, :] = desi_records[k].model\n",
    "\n",
    "desi_model = (desi_records[0].wavelength, model_flux[~desi_fully_masked, :])"
   ]
  },
  {
   "cell_type": "markdown",
   "metadata": {},
   "source": [
    "### Start prospect\n",
    "\n",
    "With everything assembled, the interface to prospect is just a single call.  Note that we're setting `with_vi_widgets=True` in order to fully describe the prospect display. Other visualization examples below will have `with_vi_widgets=False`.\n",
    "\n",
    "Further details about the prospect display:\n",
    "\n",
    "* The large window displays a spectrum with best fit model overlaid.\n",
    "* Scanning the mouse over that plot shows a full-resolution zoom of that portion of the spectrum to the right, which is particularly useful for scanning narrow emission lines.\n",
    "* Try the various tools at the top for panning, zooming, selecting. When the wheel zoom tool is selected (default), using the scroll wheel will zoom in and out. Point the mouse over the x or y axis before scrolling to zoom on just that axis.\n",
    "* Click on one of the legend entries to the lower right to turn that item on or off.\n",
    "* The example below includes visual inspection (VI) tools, in a shaded box to the lower left. This allows individuals to rate spectra on questions such as \"is the redshift accurate?\", or \"is the object really a galaxy as opposed to a star?\". Guidelines on using the VI tools are just below the tools themselves.\n",
    "* Immediately above the VI tools are arrows and a slider for displaying other spectra.\n",
    "* To the right of the VI tools are metadata about the spectrum, interspersed with tools for smoothing the spectrum, manually changing the redshift of the best-fit model, and toggling the display of emission and absorption line markers.\n"
   ]
  },
  {
   "cell_type": "code",
   "execution_count": null,
   "metadata": {
    "tags": []
   },
   "outputs": [],
   "source": [
    "plotspectra(desi_prospect,\n",
    "            zcatalog=desi_zcatalog[~desi_fully_masked],\n",
    "            redrock_cat=None,\n",
    "            notebook=True,\n",
    "            with_thumb_tab=False,\n",
    "            with_vi_widgets=True,\n",
    "            with_coaddcam=False,\n",
    "            mask_type='DESI_TARGET',\n",
    "            model_from_zcat=False,\n",
    "            model=desi_model)"
   ]
  },
  {
   "cell_type": "markdown",
   "metadata": {},
   "source": [
    "### Aside: Model spectra in DESI DR1\n",
    "\n",
    "The models displayed along with the spectra in Prospect are assembled from a set of templates. [Redrock](https://github.com/desihub/redrock) performs a best-fit and the resulting model is a linear combination of some of the templates, depending on the final type of the object (galaxy, QSO, etc.). In some cases it can be useful to reconstruct the models using software from redrock.In this section we'll take a look at how to perform this reconstruction.\n",
    "\n",
    "Some of the code below is adapted from an [in-depth tutorial](https://github.com/desihub/tutorials/blob/main/02_digging_deeper/RedrockOutputs.ipynb) on redrock."
   ]
  },
  {
   "cell_type": "markdown",
   "metadata": {},
   "source": [
    "#### Load redrock templates\n",
    "\n",
    "This cell simply identifies the location of the template files."
   ]
  },
  {
   "cell_type": "code",
   "execution_count": null,
   "metadata": {},
   "outputs": [],
   "source": [
    "specprod = 'iron'\n",
    "template_dir = get_template_dir()\n",
    "templates = load_templates(f'{template_dir}/templates-{specprod}.txt', asdict=True)"
   ]
  },
  {
   "cell_type": "markdown",
   "metadata": {},
   "source": [
    "#### Find a set of QSOs\n",
    "\n",
    "There are two different sets of QSO templates, `LOZ` and `HIZ`, corresponding to different subtypes for `QSO` spectypes. This query will return a set of spectra with both `LOZ` and `HIZ` subtypes."
   ]
  },
  {
   "cell_type": "code",
   "execution_count": null,
   "metadata": {},
   "outputs": [],
   "source": [
    "q = \"\"\"\n",
    "SELECT z.targetid, z.chi2, z.z, z.zerr, z.zwarn, z.spectype, z.subtype,\n",
    "       z.coadd_numexp, z.coadd_exptime, z.healpix, z.deltachi2\n",
    "FROM desi_dr1.zpix AS z\n",
    "WHERE z.zcat_primary\n",
    "    AND z.survey = 'main'\n",
    "    AND z.program = 'dark'\n",
    "    AND z.spectype = 'QSO'\n",
    "    AND z.healpix = 26067\n",
    "    AND z.z BETWEEN 1.0 AND 4.0\n",
    "    AND z.zwarn = 0\n",
    "ORDER BY z.targetid\n",
    "LIMIT 50\n",
    "\"\"\"\n",
    "desi_qso_ids = qc.query(sql=q, fmt='table')\n",
    "desi_qso_ids"
   ]
  },
  {
   "cell_type": "markdown",
   "metadata": {},
   "source": [
    "#### Fetch the redrock file to get the model coefficients\n",
    "\n",
    "This will also store the file locally so that it should only need to be downloaded once."
   ]
  },
  {
   "cell_type": "code",
   "execution_count": null,
   "metadata": {},
   "outputs": [],
   "source": [
    "overwrite = False\n",
    "redrock_path = findfile('redrock', survey='main', faprogram='dark', healpix=26067)\n",
    "redrock_file = os.path.basename(redrock_path)\n",
    "if overwrite:\n",
    "    sc.rm(f\"vos://{redrock_file}\")\n",
    "if sc.access(f\"vos://{redrock_file}\"):\n",
    "    print(f\"INFO: {redrock_file} has already been downloaded.\")\n",
    "else:\n",
    "    specprod_root = os.path.join(os.environ['DESI_SPECTRO_REDUX'], os.environ['SPECPROD'])\n",
    "    redrock_url = redrock_path.replace(specprod_root, f'https://data.desi.lbl.gov/public/dr1/spectro/redux/{specprod}')\n",
    "    result = sc.load(f\"vos://{redrock_file}\", redrock_url)"
   ]
  },
  {
   "cell_type": "markdown",
   "metadata": {},
   "source": [
    "#### Append the model coefficients to the table of QSOs."
   ]
  },
  {
   "cell_type": "code",
   "execution_count": null,
   "metadata": {},
   "outputs": [],
   "source": [
    "with fits.open(sc.get(f\"vos://{redrock_file}\", mode='fileobj'), mode='readonly') as hdulist:\n",
    "    redrock_table = hdulist['REDSHIFTS'].data\n",
    "i = redrock_table['TARGETID'].argsort()\n",
    "redrock_table = redrock_table[i]"
   ]
  },
  {
   "cell_type": "code",
   "execution_count": null,
   "metadata": {},
   "outputs": [],
   "source": [
    "w = np.isin(redrock_table['TARGETID'], desi_qso_ids['targetid'])\n",
    "assert w.sum() == 50\n",
    "assert (redrock_table['TARGETID'][w] == desi_qso_ids['targetid']).all()\n",
    "desi_qso_ids['coeff'] = redrock_table['COEFF'][w, :]\n",
    "desi_qso_ids"
   ]
  },
  {
   "cell_type": "markdown",
   "metadata": {},
   "source": [
    "#### Retrieve the spectra and models from SPARCL"
   ]
  },
  {
   "cell_type": "code",
   "execution_count": null,
   "metadata": {},
   "outputs": [],
   "source": [
    "include = client.get_all_fields(dataset_list=['DESI-DR1'])\n",
    "desi_qso_spectra = client.retrieve_by_specid(specid_list=desi_qso_ids['targetid'].value.tolist(),\n",
    "                                             include=include,\n",
    "                                             dataset_list=['DESI-DR1'])\n",
    "desi_qso_spectra.info"
   ]
  },
  {
   "cell_type": "markdown",
   "metadata": {},
   "source": [
    "Verify that we retrieved all the expected spectra, and sort the results to match the order of the inputs."
   ]
  },
  {
   "cell_type": "code",
   "execution_count": null,
   "metadata": {},
   "outputs": [],
   "source": [
    "desi_qso_records = sorted([r for r in desi_qso_spectra.records if r.survey == 'main' and r.program == 'dark'], key=lambda x: x.targetid)\n",
    "assert (np.array([r.targetid for r in desi_qso_records]) == desi_qso_ids['targetid']).all()"
   ]
  },
  {
   "cell_type": "code",
   "execution_count": null,
   "metadata": {},
   "outputs": [],
   "source": [
    "qso_flux = np.zeros((len(desi_qso_records), desi_qso_records[0].flux.shape[0]),\n",
    "                    dtype=desi_qso_records[0].flux.dtype)\n",
    "qso_model_flux = np.zeros((len(desi_qso_records), desi_qso_records[0].flux.shape[0]),\n",
    "                          dtype=desi_qso_records[0].model.dtype)\n",
    "qso_wavelength = desi_qso_records[0].wavelength\n",
    "for k in range(len(desi_qso_records)):\n",
    "    qso_flux[k, :] = desi_qso_records[k].flux\n",
    "    qso_model_flux[k, :] = desi_qso_records[k].model        "
   ]
  },
  {
   "cell_type": "markdown",
   "metadata": {},
   "source": [
    "#### Combine coefficients and templates to get the redrock models"
   ]
  },
  {
   "cell_type": "code",
   "execution_count": null,
   "metadata": {},
   "outputs": [],
   "source": [
    "assert (desi_qso_ids['spectype'] == 'QSO').all()\n",
    "assert ((desi_qso_ids['subtype'] == 'HIZ') | (desi_qso_ids['subtype'] == 'LOZ')).all()\n",
    "qso_loz = templates[('QSO', 'LOZ')]\n",
    "qso_hiz = templates[('QSO', 'HIZ')]\n",
    "tmpl_model_flux = np.zeros((len(desi_qso_ids), len(qso_wavelength)), dtype=qso_model_flux.dtype)\n",
    "for i, row in enumerate(desi_qso_ids):\n",
    "    if row['subtype'] == 'LOZ':\n",
    "        tmpl_model_flux[i, :] = qso_loz.eval(row['coeff'], qso_wavelength, row['z'])\n",
    "    else:\n",
    "        tmpl_model_flux[i, :] = qso_hiz.eval(row['coeff'], qso_wavelength, row['z'])"
   ]
  },
  {
   "cell_type": "markdown",
   "metadata": {},
   "source": [
    "#### Comparison plot"
   ]
  },
  {
   "cell_type": "code",
   "execution_count": null,
   "metadata": {},
   "outputs": [],
   "source": [
    "fig = plt.figure(figsize=(16, 9), dpi=100)\n",
    "ax = fig.add_subplot(111)\n",
    "spectrum_index = 5  # Step through spectra here.\n",
    "pl0 = ax.plot(qso_wavelength, qso_flux[spectrum_index, :], 'k-', lw=0.5, label='SPARCL flux')\n",
    "pl1 = ax.plot(qso_wavelength, qso_model_flux[spectrum_index, :], 'r-', label='SPARCL model')\n",
    "pl2 = ax.plot(qso_wavelength, tmpl_model_flux[spectrum_index, :], 'b-', label='Redrock model')\n",
    "txt = ax.set_xlabel('Wavelength [Å]')\n",
    "txt = ax.set_ylabel(r'Flux [$10^{-17} \\mathrm{erg} \\, \\mathrm{cm}^{-2} \\mathrm{s}^{-1} \\mathrm{\\AA}^{-1}$]')\n",
    "txt = ax.set_title(f\"TARGETID={desi_qso_ids[spectrum_index]['targetid']:d}; Z={desi_qso_ids[spectrum_index]['z']:.3f}; SPECTYPE={desi_qso_ids[spectrum_index]['spectype']}; SUBTYPE={desi_qso_ids[spectrum_index]['subtype']}\")\n",
    "l = ax.legend()"
   ]
  },
  {
   "cell_type": "markdown",
   "metadata": {},
   "source": [
    "<a class=\"anchor\" id=\"sdss\"></a>\n",
    "## SDSS"
   ]
  },
  {
   "cell_type": "markdown",
   "metadata": {},
   "source": [
    "### Find SDSS spectra"
   ]
  },
  {
   "cell_type": "code",
   "execution_count": null,
   "metadata": {
    "tags": []
   },
   "outputs": [],
   "source": [
    "q = \"\"\"\n",
    "SELECT z.specobjid, z.bestobjid, z.z, z.zerr, z.zwarning, z.class, z.subclass,\n",
    "       z.rchi2diff, z.primtarget, z.sectarget\n",
    "FROM sdss_dr16.specobj AS z\n",
    "WHERE z.bestobjid > 0\n",
    "    AND z.run2d = '26'\n",
    "    AND z.plate = 2955\n",
    "    AND z.mjd = 54562\n",
    "    AND z.class = 'GALAXY'\n",
    "    AND z.zwarning = 0\n",
    "ORDER BY z.specobjid\n",
    "LIMIT 50\n",
    "\"\"\"\n",
    "sdss_ids = qc.query(sql=q, fmt='table')\n",
    "sdss_ids"
   ]
  },
  {
   "cell_type": "markdown",
   "metadata": {},
   "source": [
    "**QA**: Do we really have 50 unique spectra?"
   ]
  },
  {
   "cell_type": "code",
   "execution_count": null,
   "metadata": {
    "tags": []
   },
   "outputs": [],
   "source": [
    "assert (np.unique(sdss_ids['specobjid']) == sdss_ids['specobjid']).all()"
   ]
  },
  {
   "cell_type": "markdown",
   "metadata": {},
   "source": [
    "### Retrieve SDSS spectra\n",
    "\n",
    "With the set of `specobjid` obtained above, we can directly retrieve SDSS spectra."
   ]
  },
  {
   "cell_type": "code",
   "execution_count": null,
   "metadata": {
    "tags": []
   },
   "outputs": [],
   "source": [
    "include = client.get_all_fields(dataset_list=['SDSS-DR16'])\n",
    "sdss_spectra = client.retrieve_by_specid(specid_list=sdss_ids['specobjid'].value.tolist(),\n",
    "                                         include=include,\n",
    "                                         dataset_list=['SDSS-DR16'])\n",
    "sdss_spectra.info"
   ]
  },
  {
   "cell_type": "markdown",
   "metadata": {},
   "source": [
    "**QA**: Did we really find all of the expected spectra? Note that we have to assume `specid == specobjid`.\n",
    "\n",
    "Side effect: this also sorts the returned records to match the order of the inputs."
   ]
  },
  {
   "cell_type": "code",
   "execution_count": null,
   "metadata": {
    "tags": []
   },
   "outputs": [],
   "source": [
    "sdss_records = sorted(sdss_spectra.records, key=lambda x: x.specid)\n",
    "assert (np.array([r.specid for r in sdss_records]) == sdss_ids['specobjid']).all()\n",
    "assert all([r.plate == 2955 for r in sdss_records])\n",
    "assert all([r.mjd == 54562 for r in sdss_records])"
   ]
  },
  {
   "cell_type": "markdown",
   "metadata": {},
   "source": [
    "**QA**: Do all spectra records have the same wavelength solution?"
   ]
  },
  {
   "cell_type": "code",
   "execution_count": null,
   "metadata": {
    "tags": []
   },
   "outputs": [],
   "source": [
    "assert all([(r.wavelength == sdss_records[0].wavelength).all() for r in sdss_records])"
   ]
  },
  {
   "cell_type": "markdown",
   "metadata": {},
   "source": [
    "**QA**: Are any of the spectra fully masked?"
   ]
  },
  {
   "cell_type": "code",
   "execution_count": null,
   "metadata": {
    "tags": []
   },
   "outputs": [],
   "source": [
    "sdss_fully_masked = np.zeros((len(sdss_records), ), dtype=bool)\n",
    "\n",
    "for k in range(len(sdss_records)):\n",
    "    assert np.isfinite(sdss_records[k].flux).all()\n",
    "    assert np.isfinite(sdss_records[k].ivar).all()\n",
    "    if (sdss_records[k].mask > 0).all():\n",
    "        print(f\"WARNING: Spectrum record {k:d} is fully masked!\")\n",
    "        sdss_fully_masked[k] = True"
   ]
  },
  {
   "cell_type": "markdown",
   "metadata": {},
   "source": [
    "**Note** that one of the spectra has a non-zero mask for every pixel. This will cause problems with some versions of Prospect, so for the demonstration below, we will not attempt to plot that spectrum. Future versions of Prospect will handle this more gracefully."
   ]
  },
  {
   "cell_type": "markdown",
   "metadata": {},
   "source": [
    "#### View the contents of the first retrieved record"
   ]
  },
  {
   "cell_type": "code",
   "execution_count": null,
   "metadata": {
    "tags": []
   },
   "outputs": [],
   "source": [
    "sdss_records[0]"
   ]
  },
  {
   "cell_type": "markdown",
   "metadata": {},
   "source": [
    "### Organize metadata\n",
    "\n",
    "Prospect needs several inputs:\n",
    "\n",
    "1. An object containing spectra.  In this case we'll use a [`Spectrum1D`](https://specutils.readthedocs.io/en/stable/api/specutils.Spectrum1D.html#specutils.Spectrum1D) object.\n",
    "   * The object contains the usual flux, wavelength, uncertainty.\n",
    "   * In addtion a \"plugmap\" table is needed. This should be an Astropy `Table` with the expected columns.\n",
    "2. A redshift catalog. This should be an Astropy `Table` with the expected columns.\n",
    "3. A model spectrum.  The model is actually provided by SPARCL, but we need to input it separately.\n",
    "\n",
    "#### Spectrum object\n",
    "\n",
    "First we assemble the components of the spectrum object"
   ]
  },
  {
   "cell_type": "code",
   "execution_count": null,
   "metadata": {
    "tags": []
   },
   "outputs": [],
   "source": [
    "flux = np.zeros((len(sdss_records), sdss_records[0].flux.shape[0]),\n",
    "                dtype=sdss_records[0].flux.dtype)\n",
    "uncertainty = np.zeros((len(sdss_records), sdss_records[0].ivar.shape[0]),\n",
    "                       dtype=sdss_records[0].ivar.dtype)\n",
    "mask = np.zeros((len(sdss_records), sdss_records[0].mask.shape[0]),\n",
    "                dtype=sdss_records[0].mask.dtype)\n",
    "\n",
    "meta = {'sparcl_id': list(), 'data_release': list()}\n",
    "sparcl_id = list()\n",
    "data_release = list()\n",
    "\n",
    "for k in range(len(sdss_records)):\n",
    "    flux[k, :] = sdss_records[k].flux\n",
    "    uncertainty[k, :] = sdss_records[k].ivar\n",
    "    mask[k, :] = sdss_records[k].mask\n",
    "    meta['sparcl_id'].append(sdss_records[k].sparcl_id)\n",
    "    meta['data_release'].append(sdss_records[k].data_release)"
   ]
  },
  {
   "cell_type": "markdown",
   "metadata": {},
   "source": [
    "And the \"plugmap\" table. We'll start with photometric quantities."
   ]
  },
  {
   "cell_type": "code",
   "execution_count": null,
   "metadata": {
    "tags": []
   },
   "outputs": [],
   "source": [
    "columns = ('z.specobjid', 'p.objid', 'p.ra', 'p.dec', 'p.u', 'p.g', 'p.r', 'p.i', 'p.z')\n",
    "q = \"\"\"\n",
    "SELECT {0}\n",
    "FROM sdss_dr16.specobj AS z\n",
    "JOIN sdss_dr16.photoplate AS p\n",
    "ON z.bestobjid = p.objid\n",
    "WHERE p.objid IN ({1})\n",
    "ORDER BY z.specobjid\n",
    "\"\"\".format(', '.join(columns), ', '.join([str(t) for t in sdss_ids['bestobjid'].value.tolist()]))\n",
    "\n",
    "plugmap = qc.query(sql=q, fmt='table')"
   ]
  },
  {
   "cell_type": "code",
   "execution_count": null,
   "metadata": {
    "tags": []
   },
   "outputs": [],
   "source": [
    "for col in plugmap.colnames:\n",
    "    plugmap.rename_column(col, col.upper())\n",
    "mag = np.zeros((len(plugmap), 5), dtype=plugmap['G'].value.dtype)\n",
    "for k, band in enumerate('UGRIZ'):\n",
    "    mag[:, k] = plugmap[band].value\n",
    "plugmap.add_column(mag, name='MAG')\n",
    "plugmap.add_column(sdss_ids['primtarget'], name='PRIMTARGET')\n",
    "plugmap.add_column(sdss_ids['sectarget'], name='SECTARGET')\n",
    "meta['plugmap'] = plugmap[~sdss_fully_masked]"
   ]
  },
  {
   "cell_type": "markdown",
   "metadata": {},
   "source": [
    "**QA**: Did we find photometry for every `bestobjid`?"
   ]
  },
  {
   "cell_type": "code",
   "execution_count": null,
   "metadata": {
    "tags": []
   },
   "outputs": [],
   "source": [
    "assert (plugmap['OBJID'] == sdss_ids['bestobjid']).all()"
   ]
  },
  {
   "cell_type": "markdown",
   "metadata": {},
   "source": [
    "Finally assemble the object."
   ]
  },
  {
   "cell_type": "code",
   "execution_count": null,
   "metadata": {
    "tags": []
   },
   "outputs": [],
   "source": [
    "sdss_prospect = Spectrum1D(flux=flux[~sdss_fully_masked, :] * u.Unit('1e-17 erg / (Angstrom cm2 s)'),\n",
    "                           spectral_axis=sdss_records[0].wavelength * u.Unit('Angstrom'),\n",
    "                           uncertainty=InverseVariance(uncertainty[~sdss_fully_masked, :]),\n",
    "                           mask=mask[~sdss_fully_masked, :] != 0,\n",
    "                           meta=meta)"
   ]
  },
  {
   "cell_type": "markdown",
   "metadata": {},
   "source": [
    "#### Redshift catalog\n",
    "\n",
    "We can re-use the initial query above; it was deliberately constructed."
   ]
  },
  {
   "cell_type": "code",
   "execution_count": null,
   "metadata": {
    "tags": []
   },
   "outputs": [],
   "source": [
    "sdss_zcatalog = sdss_ids.copy()\n",
    "for col in sdss_zcatalog.colnames:\n",
    "    if col == 'zerr':\n",
    "        sdss_zcatalog.rename_column(col, 'Z_ERR')\n",
    "    else:\n",
    "        sdss_zcatalog.rename_column(col, col.upper())\n",
    "sdss_zcatalog"
   ]
  },
  {
   "cell_type": "markdown",
   "metadata": {},
   "source": [
    "#### Model spectra\n",
    "\n",
    "Prospect expects a model in the form of a tuple containing wavelength and flux. Since SPARCL provides the model, this is easy.  There are other ways to specify the model, but these require more access to the SDSS *files*."
   ]
  },
  {
   "cell_type": "code",
   "execution_count": null,
   "metadata": {
    "tags": []
   },
   "outputs": [],
   "source": [
    "model_flux = np.zeros((len(sdss_records), sdss_records[0].model.shape[0]),\n",
    "                      dtype=sdss_records[0].model.dtype)\n",
    "\n",
    "for k in range(len(sdss_records)):\n",
    "        model_flux[k, :] = sdss_records[k].model\n",
    "\n",
    "sdss_model = (sdss_records[0].wavelength, model_flux[~sdss_fully_masked, :])"
   ]
  },
  {
   "cell_type": "markdown",
   "metadata": {},
   "source": [
    "### Start prospect\n",
    "\n",
    "With everything assembled, the interface to prospect is just a single call."
   ]
  },
  {
   "cell_type": "code",
   "execution_count": null,
   "metadata": {
    "tags": []
   },
   "outputs": [],
   "source": [
    "plotspectra(sdss_prospect,\n",
    "            zcatalog=sdss_zcatalog[~sdss_fully_masked],\n",
    "            redrock_cat=None,\n",
    "            notebook=True,\n",
    "            with_thumb_tab=False,\n",
    "            with_vi_widgets=False,\n",
    "            with_coaddcam=False,\n",
    "            mask_type='PRIMTARGET',\n",
    "            model_from_zcat=False,\n",
    "            model=sdss_model)"
   ]
  },
  {
   "cell_type": "markdown",
   "metadata": {},
   "source": [
    "<a class=\"anchor\" id=\"boss\"></a>\n",
    "## (e)BOSS"
   ]
  },
  {
   "cell_type": "markdown",
   "metadata": {},
   "source": [
    "### Find (e)BOSS spectra"
   ]
  },
  {
   "cell_type": "code",
   "execution_count": null,
   "metadata": {
    "tags": []
   },
   "outputs": [],
   "source": [
    "q = \"\"\"\n",
    "SELECT z.specobjid, z.bestobjid, z.z, z.zerr, z.zwarning, z.class, z.subclass,\n",
    "       z.rchi2diff, z.boss_target1, z.eboss_target0, z.eboss_target1,\n",
    "       z.eboss_target2\n",
    "FROM sdss_dr16.specobj AS z\n",
    "WHERE z.bestobjid > 0\n",
    "    AND z.run2d = 'v5_13_0'\n",
    "    AND z.plate = 9599\n",
    "    AND z.mjd = 58131\n",
    "    AND z.class = 'GALAXY'\n",
    "    AND z.zwarning = 0\n",
    "ORDER BY z.specobjid\n",
    "LIMIT 50\n",
    "\"\"\"\n",
    "boss_ids = qc.query(sql=q, fmt='table')\n",
    "boss_ids"
   ]
  },
  {
   "cell_type": "markdown",
   "metadata": {},
   "source": [
    "**QA**: Do we really have 50 unique spectra?"
   ]
  },
  {
   "cell_type": "code",
   "execution_count": null,
   "metadata": {},
   "outputs": [],
   "source": [
    "assert (np.unique(boss_ids['specobjid']) == boss_ids['specobjid']).all()"
   ]
  },
  {
   "cell_type": "markdown",
   "metadata": {},
   "source": [
    "### Retrieve (e)BOSS spectra\n",
    "\n",
    "With the set of `specobjid` obtained above, we can directly retrieve (e)BOSS spectra."
   ]
  },
  {
   "cell_type": "code",
   "execution_count": null,
   "metadata": {
    "tags": []
   },
   "outputs": [],
   "source": [
    "include = client.get_all_fields(dataset_list=['BOSS-DR16'])\n",
    "boss_spectra = client.retrieve_by_specid(specid_list=boss_ids['specobjid'].value.tolist(),\n",
    "                                         include=include,\n",
    "                                         dataset_list=['BOSS-DR16'])\n",
    "boss_spectra.info"
   ]
  },
  {
   "cell_type": "markdown",
   "metadata": {
    "tags": []
   },
   "source": [
    "**QA**: Did we really find all of the expected spectra?\n",
    "\n",
    "Side effect: this also sorts the returned records to match the order of the inputs."
   ]
  },
  {
   "cell_type": "code",
   "execution_count": null,
   "metadata": {
    "tags": []
   },
   "outputs": [],
   "source": [
    "boss_records = sorted(boss_spectra.records, key=lambda x: x.specid)\n",
    "assert (np.array([r.specid for r in boss_records]) == boss_ids['specobjid']).all()\n",
    "assert all([r.plate == 9599 for r in boss_records])\n",
    "assert all([r.mjd == 58131 for r in boss_records])"
   ]
  },
  {
   "cell_type": "markdown",
   "metadata": {},
   "source": [
    "**QA**: Do all spectra records have the same wavelength solution?"
   ]
  },
  {
   "cell_type": "code",
   "execution_count": null,
   "metadata": {
    "tags": []
   },
   "outputs": [],
   "source": [
    "assert all([(r.wavelength == boss_records[0].wavelength).all() for r in boss_records])"
   ]
  },
  {
   "cell_type": "markdown",
   "metadata": {},
   "source": [
    "**QA**: Are any of the spectra fully masked?"
   ]
  },
  {
   "cell_type": "code",
   "execution_count": null,
   "metadata": {
    "tags": []
   },
   "outputs": [],
   "source": [
    "boss_fully_masked = np.zeros((len(boss_records), ), dtype=bool)\n",
    "\n",
    "for k in range(len(boss_records)):\n",
    "    assert np.isfinite(boss_records[k].flux).all()\n",
    "    assert np.isfinite(boss_records[k].ivar).all()\n",
    "    if (boss_records[k].mask > 0).all():\n",
    "        print(f\"WARNING: Spectrum record {k:d} is fully masked!\")\n",
    "        boss_fully_masked[k] = True"
   ]
  },
  {
   "cell_type": "markdown",
   "metadata": {},
   "source": [
    "#### View the contents of the first retrieved record"
   ]
  },
  {
   "cell_type": "code",
   "execution_count": null,
   "metadata": {
    "tags": []
   },
   "outputs": [],
   "source": [
    "boss_records[0]"
   ]
  },
  {
   "cell_type": "markdown",
   "metadata": {},
   "source": [
    "### Organize metadata\n",
    "\n",
    "Prospect needs several inputs:\n",
    "\n",
    "1. An object containing spectra.  In this case we'll use a [`Spectrum1D`](https://specutils.readthedocs.io/en/stable/api/specutils.Spectrum1D.html#specutils.Spectrum1D) object.\n",
    "   * The object contains the usual flux, wavelength, uncertainty.\n",
    "   * In addtion a \"plugmap\" table is needed. This should be an Astropy `Table` with the expected columns.\n",
    "2. A redshift catalog. This should be an Astropy `Table` with the expected columns.\n",
    "3. A model spectrum.  The model is actually provided by SPARCL, but we need to input it separately.\n",
    "\n",
    "#### Spectrum object\n",
    "\n",
    "First we assemble the components of the spectrum object"
   ]
  },
  {
   "cell_type": "code",
   "execution_count": null,
   "metadata": {
    "tags": []
   },
   "outputs": [],
   "source": [
    "flux = np.zeros((len(boss_records), boss_records[0].flux.shape[0]),\n",
    "                dtype=boss_records[0].flux.dtype)\n",
    "uncertainty = np.zeros((len(boss_records), boss_records[0].ivar.shape[0]),\n",
    "                       dtype=boss_records[0].ivar.dtype)\n",
    "mask = np.zeros((len(boss_records), boss_records[0].mask.shape[0]),\n",
    "                dtype=boss_records[0].mask.dtype)\n",
    "\n",
    "meta = {'sparcl_id': list(), 'data_release': list()}\n",
    "sparcl_id = list()\n",
    "data_release = list()\n",
    "\n",
    "for k in range(len(boss_records)):\n",
    "    flux[k, :] = boss_records[k].flux\n",
    "    uncertainty[k, :] = boss_records[k].ivar\n",
    "    mask[k, :] = boss_records[k].mask\n",
    "    meta['sparcl_id'].append(boss_records[k].sparcl_id)\n",
    "    meta['data_release'].append(boss_records[k].data_release)"
   ]
  },
  {
   "cell_type": "markdown",
   "metadata": {
    "tags": []
   },
   "source": [
    "And the \"plugmap\" table. We'll start with photometric quantities."
   ]
  },
  {
   "cell_type": "code",
   "execution_count": null,
   "metadata": {
    "tags": []
   },
   "outputs": [],
   "source": [
    "columns = ('z.specobjid', 'p.objid', 'p.ra', 'p.dec', 'p.u', 'p.g', 'p.r', 'p.i', 'p.z')\n",
    "q = \"\"\"\n",
    "SELECT {0}\n",
    "FROM sdss_dr16.specobj AS z\n",
    "JOIN sdss_dr16.photoplate AS p\n",
    "ON z.bestobjid = p.objid\n",
    "WHERE p.objid IN ({1})\n",
    "ORDER BY z.specobjid\n",
    "\"\"\".format(', '.join(columns), ', '.join([str(t) for t in boss_ids['bestobjid'].value.tolist()]))\n",
    "\n",
    "plugmap = qc.query(sql=q, fmt='table')"
   ]
  },
  {
   "cell_type": "code",
   "execution_count": null,
   "metadata": {},
   "outputs": [],
   "source": [
    "for col in plugmap.colnames:\n",
    "    plugmap.rename_column(col, col.upper())\n",
    "mag = np.zeros((len(plugmap), 5), dtype=plugmap['G'].value.dtype)\n",
    "for k, band in enumerate('UGRIZ'):\n",
    "    mag[:, k] = plugmap[band].value\n",
    "plugmap.add_column(mag, name='MAG')\n",
    "plugmap.add_column(boss_ids['boss_target1'], name='BOSS_TARGET1')\n",
    "plugmap.add_column(boss_ids['eboss_target0'], name='EBOSS_TARGET0')\n",
    "plugmap.add_column(boss_ids['eboss_target1'], name='EBOSS_TARGET1')\n",
    "plugmap.add_column(boss_ids['eboss_target2'], name='EBOSS_TARGET2')\n",
    "meta['plugmap'] = plugmap[~boss_fully_masked]"
   ]
  },
  {
   "cell_type": "markdown",
   "metadata": {
    "tags": []
   },
   "source": [
    "**QA**: Did we find photometry for every `bestobjid`?"
   ]
  },
  {
   "cell_type": "code",
   "execution_count": null,
   "metadata": {
    "tags": []
   },
   "outputs": [],
   "source": [
    "assert (plugmap['OBJID'] == boss_ids['bestobjid']).all()"
   ]
  },
  {
   "cell_type": "markdown",
   "metadata": {
    "tags": []
   },
   "source": [
    "Finally assemble the object."
   ]
  },
  {
   "cell_type": "code",
   "execution_count": null,
   "metadata": {
    "tags": []
   },
   "outputs": [],
   "source": [
    "boss_prospect = Spectrum1D(flux=flux[~boss_fully_masked, :] * u.Unit('1e-17 erg / (Angstrom cm2 s)'),\n",
    "                           spectral_axis=boss_records[0].wavelength * u.Unit('Angstrom'),\n",
    "                           uncertainty=InverseVariance(uncertainty[~boss_fully_masked, :]),\n",
    "                           mask=mask[~boss_fully_masked, :] != 0,\n",
    "                           meta=meta)"
   ]
  },
  {
   "cell_type": "markdown",
   "metadata": {
    "tags": []
   },
   "source": [
    "#### Redshift catalog\n",
    "\n",
    "We can re-use the initial query above; it was deliberately constructed."
   ]
  },
  {
   "cell_type": "code",
   "execution_count": null,
   "metadata": {
    "tags": []
   },
   "outputs": [],
   "source": [
    "boss_zcatalog = boss_ids.copy()\n",
    "for col in boss_zcatalog.colnames:\n",
    "    if col == 'zerr':\n",
    "        boss_zcatalog.rename_column(col, 'Z_ERR')\n",
    "    else:\n",
    "        boss_zcatalog.rename_column(col, col.upper())\n",
    "boss_zcatalog"
   ]
  },
  {
   "cell_type": "markdown",
   "metadata": {},
   "source": [
    "#### Model spectra\n",
    "\n",
    "Prospect expects a model in the form of a tuple containing wavelength and flux. Since SPARCL provides the model, this is easy.  There are other ways to specify the model, but these require more access to the (e)BOSS *files*."
   ]
  },
  {
   "cell_type": "code",
   "execution_count": null,
   "metadata": {
    "tags": []
   },
   "outputs": [],
   "source": [
    "model_flux = np.zeros((len(boss_records), boss_records[0].model.shape[0]),\n",
    "                      dtype=boss_records[0].model.dtype)\n",
    "\n",
    "for k in range(len(boss_records)):\n",
    "        model_flux[k, :] = boss_records[k].model\n",
    "\n",
    "boss_model = (boss_records[0].wavelength, model_flux[~boss_fully_masked, :])"
   ]
  },
  {
   "cell_type": "markdown",
   "metadata": {},
   "source": [
    "### Start prospect\n",
    "\n",
    "With everything assembled, the interface to prospect is just a single call."
   ]
  },
  {
   "cell_type": "code",
   "execution_count": null,
   "metadata": {
    "tags": []
   },
   "outputs": [],
   "source": [
    "plotspectra(boss_prospect,\n",
    "            zcatalog=boss_zcatalog[~boss_fully_masked],\n",
    "            redrock_cat=None,\n",
    "            notebook=True,\n",
    "            with_thumb_tab=False,\n",
    "            with_vi_widgets=False,\n",
    "            with_coaddcam=False,\n",
    "            mask_type='EBOSS_TARGET1',\n",
    "            model_from_zcat=False,\n",
    "            model=boss_model)"
   ]
  },
  {
   "cell_type": "code",
   "execution_count": null,
   "metadata": {},
   "outputs": [],
   "source": []
  }
 ],
 "metadata": {
  "kernelspec": {
   "display_name": "DESI 25.3 (DL,Py3.10.13)",
   "language": "python",
   "name": "desi_25.3"
  },
  "language_info": {
   "codemirror_mode": {
    "name": "ipython",
    "version": 3
   },
   "file_extension": ".py",
   "mimetype": "text/x-python",
   "name": "python",
   "nbconvert_exporter": "python",
   "pygments_lexer": "ipython3",
   "version": "3.10.13"
  }
 },
 "nbformat": 4,
 "nbformat_minor": 4
}
