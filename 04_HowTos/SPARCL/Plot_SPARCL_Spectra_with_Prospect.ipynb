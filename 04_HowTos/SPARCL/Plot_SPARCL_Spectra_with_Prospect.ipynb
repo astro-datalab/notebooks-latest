{
 "cells": [
  {
   "cell_type": "code",
   "execution_count": null,
   "metadata": {},
   "outputs": [],
   "source": [
    "__nbid__ = '0053'\n",
    "__author__ = 'Eric Armengaud, Benjamin Weaver <benjamin.weaver@noirlab.edu>, Alice Jacques <alice.jacques@noirlab.edu>'\n",
    "__version__ = '20250317' # yyyymmdd\n",
    "__datasets__ = ['sdss_dr16', 'boss_dr16', 'desi_dr1']\n",
    "__keywords__ = ['sparcl', 'spectroscopy', 'sdss spectra', 'desi spectra', 'tutorial', 'prospect', 'specutils']"
   ]
  },
  {
   "cell_type": "markdown",
   "metadata": {},
   "source": [
    "# Obtain and plot spectra data using SPARCL, prospect, and specutils\n",
    "\n",
    "*Credit*: [Eric Armengaud](https://github.com/armengau), Saclay - CEA, is the primary author of prospect. See also the [prospect contributors](https://github.com/desihub/prospect/graphs/contributors). [Benjamin Weaver](https://github.com/weaverba137) and [Alice Jacques](https://github.com/jacquesalice) contributed to the development of this notebook."
   ]
  },
  {
   "cell_type": "markdown",
   "metadata": {},
   "source": [
    "### Table of contents\n",
    "* [Goals](#goals)\n",
    "* [Disclaimer & attribution](#disclaimer)\n",
    "* [Imports and setup](#imports)\n",
    "* Find, retrieve, and plot spectra from:\n",
    "    * [DESI](#desi)\n",
    "    * [SDSS](#sdss)\n",
    "    * [(e)BOSS](#boss)"
   ]
  },
  {
   "cell_type": "markdown",
   "metadata": {},
   "source": [
    "<a class=\"anchor\" id=\"goals\"></a>\n",
    "## Goals\n",
    "*Project*: Obtain DESI DR1, SDSS DR16, and (e)BOSS DR16 spectra using the [NOIRLab SPARCL spectrum service](https://astrosparcl.datalab.noirlab.edu), convert data to [specutils objects](https://specutils.readthedocs.io/en/stable/) as needed, and use [prospect](https://desi-prospect.readthedocs.io/en/latest/) to display the data.\n",
    "\n",
    "*Takeaway*: At no point in this notebook will any data files be opened.\n",
    "\n",
    "*Takeaway*: prospect allows multiple, independent spectra visualizations to coexist within the same notebook.\n",
    "\n",
    "This notebook is an adaptation of the [Prospect + specutils + SPARCL](https://github.com/desihub/prospect/blob/main/doc/nb/Prospect_spectrum_service.ipynb) notebook."
   ]
  },
  {
   "cell_type": "markdown",
   "metadata": {},
   "source": [
    "<a class=\"anchor\" id=\"attribution\"></a>\n",
    "## Disclaimer & attribution\n",
    "\n",
    "### Disclaimers\n",
    "\n",
    "Note that using the Astro Data Lab constitutes your agreement with our minimal [Disclaimers](https://datalab.noirlab.edu/disclaimers.php).\n",
    "\n",
    "### Acknowledgments\n",
    "\n",
    "If you use **Astro Data Lab** in your published research, please include the text in your paper's Acknowledgments section:\n",
    "\n",
    "_This research uses services or data provided by the Astro Data Lab, which is part of the Community Science and Data Center (CSDC) Program of NSF NOIRLab. NOIRLab is operated by the Association of Universities for Research in Astronomy (AURA), Inc. under a cooperative agreement with the U.S. National Science Foundation._\n",
    "\n",
    "If you use **SPARCL jointly with the Astro Data Lab platform** (via JupyterLab, command-line, or web interface) in your published research, please include this text below in your paper's Acknowledgments section:\n",
    "\n",
    "_This research uses services or data provided by the SPectra Analysis and Retrievable Catalog Lab (SPARCL) and the Astro Data Lab, which are both part of the Community Science and Data Center (CSDC) Program of NSF NOIRLab. NOIRLab is operated by the Association of Universities for Research in Astronomy (AURA), Inc. under a cooperative agreement with the U.S. National Science Foundation._\n",
    "\n",
    "In either case **please cite the following papers**:\n",
    "\n",
    "* Data Lab concept paper: Fitzpatrick et al., \"The NOAO Data Laboratory: a conceptual overview\", SPIE, 9149, 2014, https://doi.org/10.1117/12.2057445\n",
    "\n",
    "* Astro Data Lab overview: Nikutta et al., \"Data Lab - A Community Science Platform\", Astronomy and Computing, 33, 2020, https://doi.org/10.1016/j.ascom.2020.100411\n",
    "\n",
    "If you are referring to the Data Lab JupyterLab / Jupyter Notebooks, cite:\n",
    "\n",
    "* Juneau et al., \"Jupyter-Enabled Astrophysical Analysis Using Data-Proximate Computing Platforms\", CiSE, 23, 15, 2021, https://doi.org/10.1109/MCSE.2021.3057097\n",
    "\n",
    "If publishing in a AAS journal, also add the keyword: `\\facility{Astro Data Lab}`\n",
    "\n",
    "And if you are using SPARCL, please also add `\\software{SPARCL}` and cite:\n",
    "\n",
    "* Juneau et al., \"SPARCL: SPectra Analysis and Retrievable Catalog Lab\", Conference Proceedings for ADASS XXXIII, 2024\n",
    "https://doi.org/10.48550/arXiv.2401.05576\n",
    "\n",
    "The NOIRLab Library maintains [lists of proper acknowledgments](https://noirlab.edu/science/about/scientific-acknowledgments) to use when publishing papers using the Lab's facilities, data, or services.\n",
    "\n",
    "For this notebook specifically, please acknowledge:\n",
    "\n",
    "* prospect: [Eric Armengaud](https://github.com/armengau), Saclay - CEA, the primary author of prospect. See also the [prospect contributors](https://github.com/desihub/prospect/graphs/contributors)."
   ]
  },
  {
   "cell_type": "markdown",
   "metadata": {},
   "source": [
    "<a class=\"anchor\" id=\"imports\"></a>\n",
    "## Imports and setup\n",
    "\n",
    "Note that we are not relying heavily on the DESI software stack (`DESI 23.1`), although some imports will be embedded within `prospect`."
   ]
  },
  {
   "cell_type": "code",
   "execution_count": 1,
   "metadata": {
    "execution": {
     "iopub.execute_input": "2025-09-30T23:56:43.361683Z",
     "iopub.status.busy": "2025-09-30T23:56:43.361299Z",
     "iopub.status.idle": "2025-09-30T23:56:45.734982Z",
     "shell.execute_reply": "2025-09-30T23:56:45.734513Z",
     "shell.execute_reply.started": "2025-09-30T23:56:43.361662Z"
    },
    "tags": []
   },
   "outputs": [
    {
     "name": "stdout",
     "output_type": "stream",
     "text": [
      "astro-datalab==2.24.0\n",
      "specutils==1.13.0\n",
      "bokeh==2.4.3\n",
      "prospect==1.3.3\n",
      "redrock==0.20.4\n",
      "sparcl==1.2.6\n"
     ]
    }
   ],
   "source": [
    "from numba import NumbaDeprecationWarning\n",
    "import warnings\n",
    "warnings.filterwarnings(\"ignore\", category=NumbaDeprecationWarning, message=r'.*numba\\.jit.*')\n",
    "import numpy as np\n",
    "import matplotlib.pyplot as plt\n",
    "import astropy.units as u\n",
    "from astropy.nddata import InverseVariance\n",
    "from specutils import __version__ as specutils_version, Spectrum1D\n",
    "from bokeh import __version__ as bokeh_version\n",
    "from prospect import __version__ as prospect_version\n",
    "from prospect.viewer import plotspectra\n",
    "from prospect.specutils import Spectra\n",
    "from redrock import __version__ as redrock_version\n",
    "from redrock.templates import get_template_dir, load_templates\n",
    "from sparcl import __version__ as sparcl_version\n",
    "from sparcl.client import SparclClient\n",
    "from dl import __version__ as dl_version, queryClient as qc, authClient as ac\n",
    "print(f\"astro-datalab=={dl_version}\")\n",
    "print(f\"specutils=={specutils_version}\")\n",
    "print(f\"bokeh=={bokeh_version}\")\n",
    "print(f\"prospect=={prospect_version}\")\n",
    "print(f\"redrock=={redrock_version}\")\n",
    "print(f\"sparcl=={sparcl_version}\")"
   ]
  },
  {
   "cell_type": "markdown",
   "metadata": {},
   "source": [
    "### Authentication\n",
    "\n",
    "Much of the functionality of Data Lab can be accessed without explicitly logging in (the service then uses an anonymous login). But some capacities, for instance saving the results of your queries to your virtual storage space, require a login (*i.e.* you will need a registered user account).\n",
    "\n",
    "If you need to log in to Data Lab, un-comment the cell below and execute it:"
   ]
  },
  {
   "cell_type": "code",
   "execution_count": 2,
   "metadata": {
    "execution": {
     "iopub.execute_input": "2025-09-30T23:56:45.736189Z",
     "iopub.status.busy": "2025-09-30T23:56:45.735890Z",
     "iopub.status.idle": "2025-09-30T23:56:45.738678Z",
     "shell.execute_reply": "2025-09-30T23:56:45.738352Z",
     "shell.execute_reply.started": "2025-09-30T23:56:45.736174Z"
    }
   },
   "outputs": [],
   "source": [
    "# from getpass import getpass\n",
    "# token = ac.login(input(\"Enter user name: (+ENTER) \"), getpass(\"Enter password: (+ENTER) \"))\n",
    "# ac.whoAmI()"
   ]
  },
  {
   "cell_type": "markdown",
   "metadata": {},
   "source": [
    "### Start SPARCL Client"
   ]
  },
  {
   "cell_type": "code",
   "execution_count": 3,
   "metadata": {
    "execution": {
     "iopub.execute_input": "2025-09-30T23:56:47.398304Z",
     "iopub.status.busy": "2025-09-30T23:56:47.397944Z",
     "iopub.status.idle": "2025-09-30T23:56:47.661465Z",
     "shell.execute_reply": "2025-09-30T23:56:47.660886Z",
     "shell.execute_reply.started": "2025-09-30T23:56:47.398288Z"
    },
    "tags": []
   },
   "outputs": [
    {
     "name": "stdout",
     "output_type": "stream",
     "text": [
      "announcement=Data set deprecation warning: SDSS/BOSS DR16 will be replaced with SDSS/BOSS DR17 starting on or after November 1, 2025\n"
     ]
    },
    {
     "data": {
      "text/plain": [
       "(sparclclient:1.2.6, api:12.0, https://astrosparcl.datalab.noirlab.edu/sparc, client_hash=9c2809d8cf5c0c90ba88e7fb207e61b4926a2ba7, verbose=False, connect_timeout=1.1, read_timeout=5400.0, announcement=True)"
      ]
     },
     "execution_count": 3,
     "metadata": {},
     "output_type": "execute_result"
    }
   ],
   "source": [
    "client = SparclClient()\n",
    "client"
   ]
  },
  {
   "cell_type": "markdown",
   "metadata": {},
   "source": [
    "### Set up Data Lab database interface\n",
    "\n",
    "All data should be visible in the 'default' profile"
   ]
  },
  {
   "cell_type": "code",
   "execution_count": 4,
   "metadata": {
    "execution": {
     "iopub.execute_input": "2025-09-30T23:56:48.850756Z",
     "iopub.status.busy": "2025-09-30T23:56:48.850515Z",
     "iopub.status.idle": "2025-09-30T23:56:48.854396Z",
     "shell.execute_reply": "2025-09-30T23:56:48.853910Z",
     "shell.execute_reply.started": "2025-09-30T23:56:48.850729Z"
    },
    "tags": []
   },
   "outputs": [
    {
     "data": {
      "text/plain": [
       "'default'"
      ]
     },
     "execution_count": 4,
     "metadata": {},
     "output_type": "execute_result"
    }
   ],
   "source": [
    "qc.get_profile()"
   ]
  },
  {
   "cell_type": "markdown",
   "metadata": {},
   "source": [
    "<a class=\"anchor\" id=\"desi\"></a>\n",
    "## DESI DR1"
   ]
  },
  {
   "cell_type": "markdown",
   "metadata": {},
   "source": [
    "### Find DESI spectra\n",
    "\n",
    "SPARCL provides access to DESI spectra that have been coadded by HEALPixel.  This corresponds to entries in the `desi_dr1.zpix` table at Astro Data Lab (see column information [here](https://datalab.noirlab.edu/query.php?name=desi_dr1.zpix))."
   ]
  },
  {
   "cell_type": "code",
   "execution_count": null,
   "metadata": {},
   "outputs": [],
   "source": [
    "q = \"\"\"\n",
    "SELECT z.targetid, z.chi2, z.z, z.zerr, z.zwarn, z.spectype, z.subtype,\n",
    "       z.coadd_numexp, z.coadd_exptime, z.healpix, z.deltachi2\n",
    "FROM desi_dr1.zpix AS z\n",
    "WHERE z.zcat_primary\n",
    "    AND z.survey = 'main'\n",
    "    AND z.program = 'dark'\n",
    "    AND z.spectype = 'GALAXY'\n",
    "    AND z.z BETWEEN 0.5 AND 0.9\n",
    "    AND z.zwarn = 0\n",
    "ORDER BY z.targetid\n",
    "LIMIT 50\n",
    "\"\"\"\n",
    "desi_ids = qc.query(sql=q, fmt='table')\n",
    "desi_ids"
   ]
  },
  {
   "cell_type": "markdown",
   "metadata": {},
   "source": [
    "**QA**: Do we really have 50 unique spectra?"
   ]
  },
  {
   "cell_type": "code",
   "execution_count": null,
   "metadata": {},
   "outputs": [],
   "source": [
    "assert (np.unique(desi_ids['targetid']) == desi_ids['targetid']).all()"
   ]
  },
  {
   "cell_type": "markdown",
   "metadata": {},
   "source": [
    "### Retrieve DESI spectra\n",
    "\n",
    "With the set of `targetid` obtained above, we can directly retrieve DESI spectra."
   ]
  },
  {
   "cell_type": "code",
   "execution_count": null,
   "metadata": {
    "tags": []
   },
   "outputs": [],
   "source": [
    "include = client.get_all_fields(dataset_list=['DESI-DR1'])\n",
    "desi_spectra = client.retrieve_by_specid(specid_list=desi_ids['targetid'].value.tolist(),\n",
    "                                         include=include,\n",
    "                                         dataset_list=['DESI-DR1'])\n",
    "desi_spectra.info"
   ]
  },
  {
   "cell_type": "markdown",
   "metadata": {},
   "source": [
    "**QA**: Did we really find all of the expected spectra?\n",
    "\n",
    "Side effect: this also sorts the returned records to match the order of the inputs."
   ]
  },
  {
   "cell_type": "code",
   "execution_count": null,
   "metadata": {},
   "outputs": [],
   "source": [
    "desi_records = sorted(desi_spectra.records, key=lambda x: x.targetid)\n",
    "assert (np.array([r.targetid for r in desi_records]) == desi_ids['targetid']).all()\n",
    "assert all([r.survey == 'main' for r in desi_records])\n",
    "assert all([r.program == 'dark' for r in desi_records])"
   ]
  },
  {
   "cell_type": "markdown",
   "metadata": {},
   "source": [
    "**QA**: Do all spectra records have the same wavelength solution?"
   ]
  },
  {
   "cell_type": "code",
   "execution_count": null,
   "metadata": {},
   "outputs": [],
   "source": [
    "assert all([(r.wavelength == desi_records[0].wavelength).all() for r in desi_records])"
   ]
  },
  {
   "cell_type": "markdown",
   "metadata": {},
   "source": [
    "**QA**: Are any of the spectra fully masked?"
   ]
  },
  {
   "cell_type": "code",
   "execution_count": null,
   "metadata": {
    "tags": []
   },
   "outputs": [],
   "source": [
    "desi_fully_masked = np.zeros((len(desi_records), ), dtype=bool)\n",
    "\n",
    "for k in range(len(desi_records)):\n",
    "    assert np.isfinite(desi_records[k].flux).all()\n",
    "    assert np.isfinite(desi_records[k].ivar).all()\n",
    "    if (desi_records[k].mask > 0).all():\n",
    "        print(f\"WARNING: Spectrum record {k:d} is fully masked!\")\n",
    "        desi_fully_masked[k] = True"
   ]
  },
  {
   "cell_type": "markdown",
   "metadata": {},
   "source": [
    "#### View the contents of the first retrieved record"
   ]
  },
  {
   "cell_type": "code",
   "execution_count": null,
   "metadata": {},
   "outputs": [],
   "source": [
    "desi_records[0]"
   ]
  },
  {
   "cell_type": "markdown",
   "metadata": {},
   "source": [
    "### Organize metadata\n",
    "\n",
    "Prospect needs several inputs:\n",
    "\n",
    "1. An object containing spectra.  In this case we'll use [`prospect.specutils.Spectra`](https://desi-prospect.readthedocs.io/en/latest/api.html#prospect.specutils.Spectra), which inherits from [`SpectrumList`](https://specutils.readthedocs.io/en/stable/api/specutils.SpectrumList.html#specutils.SpectrumList), and is really just a [`Spectrum1D`](https://specutils.readthedocs.io/en/stable/api/specutils.Spectrum1D.html#specutils.Spectrum1D) object underneath.\n",
    "   * The object contains the usual flux, wavelength, uncertainty.\n",
    "   * In addtion a \"fibermap\" table is needed. This should be an Astropy `Table` with the expected columns.\n",
    "2. A redshift catalog. This should be an Astropy `Table` with the expected columns.\n",
    "3. A model spectrum.  The model is actually provided by SPARCL, but we need to input it separately.\n",
    "\n",
    "#### Spectrum object\n",
    "\n",
    "First we assemble the components of the spectrum object"
   ]
  },
  {
   "cell_type": "code",
   "execution_count": null,
   "metadata": {},
   "outputs": [],
   "source": [
    "flux = np.zeros((len(desi_records), desi_records[0].flux.shape[0]),\n",
    "                dtype=desi_records[0].flux.dtype)\n",
    "uncertainty = np.zeros((len(desi_records), desi_records[0].ivar.shape[0]),\n",
    "                       dtype=desi_records[0].ivar.dtype)\n",
    "mask = np.zeros((len(desi_records), desi_records[0].mask.shape[0]),\n",
    "                dtype=desi_records[0].mask.dtype)\n",
    "\n",
    "meta = {'sparcl_id': list(), 'data_release': list()}\n",
    "sparcl_id = list()\n",
    "data_release = list()\n",
    "\n",
    "for k in range(len(desi_records)):\n",
    "    flux[k, :] = desi_records[k].flux\n",
    "    uncertainty[k, :] = desi_records[k].ivar\n",
    "    mask[k, :] = desi_records[k].mask\n",
    "    meta['sparcl_id'].append(desi_records[k].sparcl_id)\n",
    "    meta['data_release'].append(desi_records[k].data_release)"
   ]
  },
  {
   "cell_type": "markdown",
   "metadata": {},
   "source": [
    "And the \"fibermap\" table. We'll start with photometric quantities."
   ]
  },
  {
   "cell_type": "code",
   "execution_count": null,
   "metadata": {},
   "outputs": [],
   "source": [
    "columns = ('targetid', 'ra', 'dec', 'ref_epoch', 'pmra', 'pmdec', 'ebv',\n",
    "           'flux_g', 'flux_r', 'flux_z', 'flux_w1', 'flux_w2')\n",
    "q = \"\"\"\n",
    "SELECT {0}\n",
    "FROM desi_dr1.photometry\n",
    "WHERE targetid IN ({1})\n",
    "ORDER BY targetid\n",
    "\"\"\".format(', '.join(columns), ', '.join([str(t) for t in desi_ids['targetid'].value.tolist()]))\n",
    "\n",
    "fibermap = qc.query(sql=q, fmt='table')"
   ]
  },
  {
   "cell_type": "code",
   "execution_count": null,
   "metadata": {},
   "outputs": [],
   "source": [
    "for col in fibermap.colnames:\n",
    "    if col == 'ra' or col == 'dec':\n",
    "        fibermap.rename_column(col, 'TARGET_' + col.upper())\n",
    "    else:\n",
    "        fibermap.rename_column(col, col.upper())"
   ]
  },
  {
   "cell_type": "markdown",
   "metadata": {},
   "source": [
    "**QA**: Did we find photometry for every `targetid`?"
   ]
  },
  {
   "cell_type": "code",
   "execution_count": null,
   "metadata": {},
   "outputs": [],
   "source": [
    "assert (fibermap['TARGETID'] == desi_ids['targetid']).all()"
   ]
  },
  {
   "cell_type": "markdown",
   "metadata": {},
   "source": [
    "Next we add targeting bitmasks."
   ]
  },
  {
   "cell_type": "code",
   "execution_count": null,
   "metadata": {},
   "outputs": [],
   "source": [
    "columns = ('targetid', 'desi_target', 'bgs_target', 'mws_target', 'scnd_target')\n",
    "q = \"\"\"\n",
    "SELECT DISTINCT {0}\n",
    "FROM desi_dr1.target\n",
    "WHERE targetid IN ({1})\n",
    "ORDER BY targetid\n",
    "\"\"\".format(', '.join(columns), ', '.join([str(t) for t in fibermap['TARGETID'].value.tolist()]))\n",
    "\n",
    "targeting = qc.query(sql=q, fmt='table')"
   ]
  },
  {
   "cell_type": "code",
   "execution_count": null,
   "metadata": {},
   "outputs": [],
   "source": [
    "for col in targeting.colnames:\n",
    "    targeting.rename_column(col, col.upper())"
   ]
  },
  {
   "cell_type": "markdown",
   "metadata": {},
   "source": [
    "**QA**: Did we find targeting for every `targetid`?"
   ]
  },
  {
   "cell_type": "code",
   "execution_count": null,
   "metadata": {},
   "outputs": [],
   "source": [
    "assert (targeting['TARGETID'] == fibermap['TARGETID']).all()"
   ]
  },
  {
   "cell_type": "markdown",
   "metadata": {},
   "source": [
    "**QA**: Does the order of fibermap match the SPARCL records?"
   ]
  },
  {
   "cell_type": "code",
   "execution_count": null,
   "metadata": {},
   "outputs": [],
   "source": [
    "assert (np.array([r.targetid for r in desi_records]) == fibermap['TARGETID']).all()"
   ]
  },
  {
   "cell_type": "markdown",
   "metadata": {},
   "source": [
    "Add columns into `fibermap`."
   ]
  },
  {
   "cell_type": "code",
   "execution_count": null,
   "metadata": {},
   "outputs": [],
   "source": [
    "for col in ('DESI_TARGET', 'BGS_TARGET', 'MWS_TARGET', 'SCND_TARGET'):\n",
    "    fibermap.add_column(targeting[col])\n",
    "fibermap"
   ]
  },
  {
   "cell_type": "markdown",
   "metadata": {},
   "source": [
    "Finally assemble the object."
   ]
  },
  {
   "cell_type": "code",
   "execution_count": null,
   "metadata": {},
   "outputs": [],
   "source": [
    "desi_prospect = Spectra(bands=['coadd'],\n",
    "                        wave={'coadd': desi_records[0].wavelength},\n",
    "                        flux={'coadd': flux[~desi_fully_masked, :]},\n",
    "                        ivar={'coadd': uncertainty[~desi_fully_masked, :]},\n",
    "                        mask={'coadd': mask[~desi_fully_masked, :]},\n",
    "                        fibermap=fibermap[~desi_fully_masked],\n",
    "                        meta={'coadd': meta})"
   ]
  },
  {
   "cell_type": "markdown",
   "metadata": {},
   "source": [
    "#### Redshift catalog\n",
    "\n",
    "We can re-use the initial query above; it was deliberately constructed."
   ]
  },
  {
   "cell_type": "code",
   "execution_count": null,
   "metadata": {},
   "outputs": [],
   "source": [
    "desi_zcatalog = desi_ids.copy()\n",
    "for col in desi_zcatalog.colnames:\n",
    "    if col == 'healpix':\n",
    "        desi_zcatalog.rename_column(col, 'HPXPIXEL')\n",
    "    else:\n",
    "        desi_zcatalog.rename_column(col, col.upper())\n",
    "desi_zcatalog"
   ]
  },
  {
   "cell_type": "markdown",
   "metadata": {},
   "source": [
    "#### Model spectra\n",
    "\n",
    "Prospect expects a model in the form of a tuple containing wavelength and flux. Since SPARCL provides the model, this is easy.  There are other ways to specify the model, but these require more access to the DESI software stack *and* data *files*."
   ]
  },
  {
   "cell_type": "code",
   "execution_count": null,
   "metadata": {},
   "outputs": [],
   "source": [
    "model_flux = np.zeros((len(desi_records), desi_records[0].model.shape[0]),\n",
    "                      dtype=desi_records[0].model.dtype)\n",
    "\n",
    "for k in range(len(desi_records)):\n",
    "        model_flux[k, :] = desi_records[k].model\n",
    "\n",
    "desi_model = (desi_records[0].wavelength, model_flux[~desi_fully_masked, :])"
   ]
  },
  {
   "cell_type": "markdown",
   "metadata": {},
   "source": [
    "### Start prospect\n",
    "\n",
    "With everything assembled, the interface to prospect is just a single call.  Note that we're setting `with_vi_widgets=True` in order to fully describe the prospect display. Other visualization examples below will have `with_vi_widgets=False`.\n",
    "\n",
    "Further details about the prospect display:\n",
    "\n",
    "* The large window displays a spectrum with best fit model overlaid.\n",
    "* Scanning the mouse over that plot shows a full-resolution zoom of that portion of the spectrum to the right, which is particularly useful for scanning narrow emission lines.\n",
    "* Try the various tools at the top for panning, zooming, selecting. When the wheel zoom tool is selected (default), using the scroll wheel will zoom in and out. Point the mouse over the x or y axis before scrolling to zoom on just that axis.\n",
    "* Click on one of the legend entries to the lower right to turn that item on or off.\n",
    "* The example below includes visual inspection (VI) tools, in a shaded box to the lower left. This allows individuals to rate spectra on questions such as \"is the redshift accurate?\", or \"is the object really a galaxy as opposed to a star?\". Guidelines on using the VI tools are just below the tools themselves.\n",
    "* Immediately above the VI tools are arrows and a slider for displaying other spectra.\n",
    "* To the right of the VI tools are metadata about the spectrum, interspersed with tools for smoothing the spectrum, manually changing the redshift of the best-fit model, and toggling the display of emission and absorption line markers.\n"
   ]
  },
  {
   "cell_type": "code",
   "execution_count": null,
   "metadata": {
    "tags": []
   },
   "outputs": [],
   "source": [
    "plotspectra(desi_prospect,\n",
    "            zcatalog=desi_zcatalog[~desi_fully_masked],\n",
    "            redrock_cat=None,\n",
    "            notebook=True,\n",
    "            with_thumb_tab=False,\n",
    "            with_vi_widgets=True,\n",
    "            with_coaddcam=False,\n",
    "            mask_type='DESI_TARGET',\n",
    "            model_from_zcat=False,\n",
    "            model=desi_model)"
   ]
  },
  {
   "cell_type": "markdown",
   "metadata": {},
   "source": [
    "### Model spectra in DESI DR1\n",
    "\n",
    "We can reconstruct the official DESI models using software from [redrock](https://github.com/desihub/redrock). See https://github.com/desihub/tutorials/blob/main/02_digging_deeper/RedrockOutputs.ipynb for a in-depth tutorial.\n",
    "\n",
    "Goal: compare a SPARCL model spectrum to one computed from the files."
   ]
  },
  {
   "cell_type": "markdown",
   "metadata": {},
   "source": [
    "#### Load DR1 templates"
   ]
  },
  {
   "cell_type": "code",
   "execution_count": 5,
   "metadata": {
    "execution": {
     "iopub.execute_input": "2025-09-30T23:57:01.551395Z",
     "iopub.status.busy": "2025-09-30T23:57:01.551170Z",
     "iopub.status.idle": "2025-09-30T23:57:01.587519Z",
     "shell.execute_reply": "2025-09-30T23:57:01.586970Z",
     "shell.execute_reply.started": "2025-09-30T23:57:01.551381Z"
    }
   },
   "outputs": [
    {
     "name": "stdout",
     "output_type": "stream",
     "text": [
      "DEBUG: Reading templates from /data0/sw/desi/code/redrock-templates/0.9.1/templates-iron.txt\n",
      "Reading templates from ['/data0/sw/desi/code/redrock-templates/0.9.1/rrtemplate-GALAXY-None-v2.6.fits', '/data0/sw/desi/code/redrock-templates/0.9.1/rrtemplate-QSO-LOZ-v1.0.fits', '/data0/sw/desi/code/redrock-templates/0.9.1/rrtemplate-QSO-HIZ-v1.0.fits', '/data0/sw/desi/code/redrock-templates/0.9.1/rrtemplate-STAR-A-v0.1.fits', '/data0/sw/desi/code/redrock-templates/0.9.1/rrtemplate-STAR-B-v0.1.fits', '/data0/sw/desi/code/redrock-templates/0.9.1/rrtemplate-STAR-CV-v0.1.fits', '/data0/sw/desi/code/redrock-templates/0.9.1/rrtemplate-STAR-F-v0.1.fits', '/data0/sw/desi/code/redrock-templates/0.9.1/rrtemplate-STAR-G-v0.1.fits', '/data0/sw/desi/code/redrock-templates/0.9.1/rrtemplate-STAR-K-v0.1.fits', '/data0/sw/desi/code/redrock-templates/0.9.1/rrtemplate-STAR-M-v0.1.fits', '/data0/sw/desi/code/redrock-templates/0.9.1/rrtemplate-STAR-WD-v0.1.fits']\n",
      "INFO: rrtemplate-GALAXY-None-v2.6.fits GALAXY  PCA IGM=Calura12 z=-0.005-1.6997\n",
      "INFO: rrtemplate-QSO-LOZ-v1.0.fits QSO LOZ PCA IGM=Calura12 z=0.05-1.5983\n",
      "INFO: rrtemplate-QSO-HIZ-v1.0.fits QSO HIZ PCA IGM=Calura12 z=1.4-6.993\n",
      "INFO: rrtemplate-STAR-A-v0.1.fits STAR A PCA IGM=None z=-0.002-0.002\n",
      "INFO: rrtemplate-STAR-B-v0.1.fits STAR B PCA IGM=None z=-0.002-0.002\n",
      "INFO: rrtemplate-STAR-CV-v0.1.fits STAR CV PCA IGM=None z=-0.002-0.002\n",
      "INFO: rrtemplate-STAR-F-v0.1.fits STAR F PCA IGM=None z=-0.002-0.002\n",
      "INFO: rrtemplate-STAR-G-v0.1.fits STAR G PCA IGM=None z=-0.002-0.002\n",
      "INFO: rrtemplate-STAR-K-v0.1.fits STAR K PCA IGM=None z=-0.002-0.002\n",
      "INFO: rrtemplate-STAR-M-v0.1.fits STAR M PCA IGM=None z=-0.002-0.002\n",
      "INFO: rrtemplate-STAR-WD-v0.1.fits STAR WD PCA IGM=None z=-0.002-0.002\n"
     ]
    }
   ],
   "source": [
    "specprod = 'iron'\n",
    "template_dir = get_template_dir()\n",
    "templates = load_templates(f'{template_dir}/templates-{specprod}.txt', asdict=True)"
   ]
  },
  {
   "cell_type": "markdown",
   "metadata": {},
   "source": [
    "#### Find a set of QSOs\n",
    "\n",
    "There are two different sets of QSO templates, `LOZ` and `HIZ`, corresponding to different subtypes for `QSO` spectypes. This query will return a set of spectra with both `LOZ` and `HIZ` subtypes."
   ]
  },
  {
   "cell_type": "code",
   "execution_count": null,
   "metadata": {},
   "outputs": [],
   "source": [
    "q = \"\"\"\n",
    "SELECT z.targetid, z.chi2, z.z, z.zerr, z.zwarn, z.spectype, z.subtype,\n",
    "       z.coadd_numexp, z.coadd_exptime, z.healpix, z.deltachi2,\n",
    "       z.ncoeff, z.coeff_0, z.coeff_1, z.coeff_2, z.coeff_3, z.coeff_4,\n",
    "       z.coeff_5, z.coeff_6, z.coeff_7, z.coeff_8, z.coeff_9\n",
    "FROM desi_dr1.zpix AS z\n",
    "WHERE z.zcat_primary\n",
    "    AND z.survey = 'main'\n",
    "    AND z.program = 'dark'\n",
    "    AND z.spectype = 'QSO'\n",
    "    AND z.z BETWEEN 1.0 AND 4.0\n",
    "    AND z.zwarn = 0\n",
    "ORDER BY z.targetid\n",
    "LIMIT 50\n",
    "\"\"\"\n"
   ]
  },
  {
   "cell_type": "code",
   "execution_count": 21,
   "metadata": {
    "execution": {
     "iopub.execute_input": "2025-10-01T00:08:26.172553Z",
     "iopub.status.busy": "2025-10-01T00:08:26.172323Z",
     "iopub.status.idle": "2025-10-01T00:08:26.175130Z",
     "shell.execute_reply": "2025-10-01T00:08:26.174689Z",
     "shell.execute_reply.started": "2025-10-01T00:08:26.172539Z"
    }
   },
   "outputs": [],
   "source": [
    "q = \"\"\"\n",
    "SELECT z.targetid, z.chi2, z.z, z.zerr, z.zwarn, z.spectype, z.subtype,\n",
    "       z.coadd_numexp, z.coadd_exptime, z.healpix, z.deltachi2,\n",
    "       z.ncoeff, z.coeff_0, z.coeff_1, z.coeff_2, z.coeff_3, z.coeff_4,\n",
    "       z.coeff_5, z.coeff_6, z.coeff_7, z.coeff_8, z.coeff_9\n",
    "FROM desi_dr1.zpix AS z\n",
    "WHERE z.zcat_primary\n",
    "    AND z.survey = 'main'\n",
    "    AND z.program = 'dark'\n",
    "    AND z.spectype = 'GALAXY'\n",
    "    AND z.z BETWEEN 0.5 AND 0.9\n",
    "    AND z.zwarn = 0\n",
    "ORDER BY z.targetid\n",
    "LIMIT 50\n",
    "\"\"\"\n"
   ]
  },
  {
   "cell_type": "code",
   "execution_count": 22,
   "metadata": {
    "execution": {
     "iopub.execute_input": "2025-10-01T00:08:26.919168Z",
     "iopub.status.busy": "2025-10-01T00:08:26.918949Z",
     "iopub.status.idle": "2025-10-01T00:08:27.006151Z",
     "shell.execute_reply": "2025-10-01T00:08:27.005751Z",
     "shell.execute_reply.started": "2025-10-01T00:08:26.919154Z"
    }
   },
   "outputs": [
    {
     "data": {
      "text/html": [
       "<div><i>Table length=50</i>\n",
       "<table id=\"table140291035765232\" class=\"table-striped table-bordered table-condensed\">\n",
       "<thead><tr><th>targetid</th><th>chi2</th><th>z</th><th>zerr</th><th>zwarn</th><th>spectype</th><th>subtype</th><th>coadd_numexp</th><th>coadd_exptime</th><th>healpix</th><th>deltachi2</th><th>ncoeff</th><th>coeff_0</th><th>coeff_1</th><th>coeff_2</th><th>coeff_3</th><th>coeff_4</th><th>coeff_5</th><th>coeff_6</th><th>coeff_7</th><th>coeff_8</th><th>coeff_9</th></tr></thead>\n",
       "<thead><tr><th>int64</th><th>float64</th><th>float64</th><th>float64</th><th>int64</th><th>str6</th><th>int64</th><th>int64</th><th>float64</th><th>int64</th><th>float64</th><th>int64</th><th>float64</th><th>float64</th><th>float64</th><th>float64</th><th>float64</th><th>float64</th><th>float64</th><th>float64</th><th>float64</th><th>float64</th></tr></thead>\n",
       "<tr><td>2204871004520448</td><td>7502.786605030298</td><td>0.8806668589719826</td><td>9.349553024613176e-05</td><td>0</td><td>GALAXY</td><td>--</td><td>1</td><td>1046.75</td><td>25978</td><td>9.219138950109482</td><td>10</td><td>1.098698056156196</td><td>44.25722355708083</td><td>-1.151029649951285</td><td>10.26593431013441</td><td>0.0</td><td>0.0</td><td>0.0</td><td>0.0</td><td>0.0</td><td>0.0</td></tr>\n",
       "<tr><td>2209099441766401</td><td>8006.957153789699</td><td>0.5376416668826327</td><td>8.224065899198639e-05</td><td>0</td><td>GALAXY</td><td>--</td><td>1</td><td>1260.4886</td><td>25557</td><td>23.28271762281656</td><td>10</td><td>31.26894258497333</td><td>-12.98628961582737</td><td>1.065099943244334</td><td>13.6369149794925</td><td>0.3097505221826301</td><td>-3.150165613576458</td><td>-3.882342433750344</td><td>4.20893748521098</td><td>-0.3677328764207575</td><td>-2.826179295683271</td></tr>\n",
       "<tr><td>2253218688008192</td><td>8434.394513607025</td><td>0.7807731132992886</td><td>9.001776300184597e-05</td><td>0</td><td>GALAXY</td><td>--</td><td>1</td><td>949.2782</td><td>27650</td><td>80.38463451713324</td><td>10</td><td>0.3563463045356275</td><td>17.3847327380159</td><td>2.487453572488868</td><td>-5.077508457685314</td><td>0.0</td><td>0.0</td><td>0.0</td><td>0.0</td><td>0.0</td><td>0.0</td></tr>\n",
       "<tr><td>2253239848271873</td><td>8068.217628836632</td><td>0.8138682719950381</td><td>9.584803411923739e-05</td><td>0</td><td>GALAXY</td><td>--</td><td>2</td><td>2201.3787</td><td>19462</td><td>11.19063480198383</td><td>10</td><td>71.16006797130082</td><td>-45.63776434323334</td><td>-260.4378989671721</td><td>-118.3543011283282</td><td>221.6836747964141</td><td>-85.05629617990108</td><td>-11.80712772188747</td><td>-97.09586407019344</td><td>18.00502833126158</td><td>2.314039001214395</td></tr>\n",
       "<tr><td>2253330273271809</td><td>8256.472001791</td><td>0.6026842080317678</td><td>2.811214761433289e-05</td><td>0</td><td>GALAXY</td><td>--</td><td>1</td><td>1320.7625</td><td>19505</td><td>54.08813303161878</td><td>10</td><td>68.58581704059822</td><td>-63.77227140754194</td><td>-325.7134617382558</td><td>-140.6585828063363</td><td>306.9917244963104</td><td>-131.5865339958247</td><td>-13.572441853062</td><td>-133.4388910040853</td><td>35.00849525129802</td><td>-3.348652788419436</td></tr>\n",
       "<tr><td>2253938946473984</td><td>7914.019844397902</td><td>0.6929688143203399</td><td>6.916722607803487e-05</td><td>0</td><td>GALAXY</td><td>--</td><td>1</td><td>824.6894</td><td>9161</td><td>11.24665383994579</td><td>10</td><td>-448.7807938231027</td><td>612.9185191405513</td><td>-341.9824708997333</td><td>291.8559216368241</td><td>0.9094677855861807</td><td>-33.7576279642128</td><td>-157.299875202538</td><td>-14.61077830869137</td><td>25.59366810619733</td><td>-16.50880919980512</td></tr>\n",
       "<tr><td>2315501380304901</td><td>8566.17580628395</td><td>0.7495491546701545</td><td>1.825370572872369e-05</td><td>0</td><td>GALAXY</td><td>--</td><td>1</td><td>1023.1347</td><td>9160</td><td>157.1781300567091</td><td>10</td><td>222.506177810897</td><td>789.5975534219858</td><td>-152.5421898328919</td><td>142.7051708870783</td><td>-15.41658467516</td><td>3.288397981811491</td><td>-111.192972711384</td><td>3.231458033588942</td><td>3.031770032869014</td><td>-14.41236097827043</td></tr>\n",
       "<tr><td>2323576464080897</td><td>10608.37604570389</td><td>0.6669901455530606</td><td>3.139990965279613e-05</td><td>0</td><td>GALAXY</td><td>--</td><td>2</td><td>2315.1829</td><td>31319</td><td>28.90390665084124</td><td>10</td><td>-124.4761678774265</td><td>136.8936726382584</td><td>1111.393345396289</td><td>494.0609901746434</td><td>-1035.541669235163</td><td>251.8555054542483</td><td>23.05744881603701</td><td>217.5278847034933</td><td>-43.86324913211317</td><td>-9.621694553682786</td></tr>\n",
       "<tr><td>2349509577277441</td><td>8195.99036064744</td><td>0.6498143137995088</td><td>5.352659428856206e-05</td><td>0</td><td>GALAXY</td><td>--</td><td>2</td><td>2919.674</td><td>36254</td><td>30.97397623211145</td><td>10</td><td>110.0298695731969</td><td>-100.94942830484</td><td>49.77048849703118</td><td>-41.79972320259744</td><td>4.696818039787892</td><td>-8.758914860673709</td><td>15.52664233071824</td><td>-4.69078469226383</td><td>2.632566609965119</td><td>5.852677189363837</td></tr>\n",
       "<tr><td>2349509761826816</td><td>8478.736439570785</td><td>0.8820070608865096</td><td>9.368813688864787e-05</td><td>0</td><td>GALAXY</td><td>--</td><td>2</td><td>2245.1704</td><td>36188</td><td>130.2464992851019</td><td>10</td><td>-5.083454521796894</td><td>-70.30250148664193</td><td>1.093298148349263</td><td>-1.691146258601314</td><td>-1.461039786123507</td><td>-17.3416447060522</td><td>25.1213356425828</td><td>-0.06275955088734349</td><td>3.412736359048476</td><td>-7.93884379357088</td></tr>\n",
       "<tr><td>...</td><td>...</td><td>...</td><td>...</td><td>...</td><td>...</td><td>...</td><td>...</td><td>...</td><td>...</td><td>...</td><td>...</td><td>...</td><td>...</td><td>...</td><td>...</td><td>...</td><td>...</td><td>...</td><td>...</td><td>...</td><td>...</td></tr>\n",
       "<tr><td>2349804344573952</td><td>7783.598225384951</td><td>0.5971152109671497</td><td>9.467301428688893e-05</td><td>0</td><td>GALAXY</td><td>--</td><td>1</td><td>1171.4036</td><td>17682</td><td>131.8656653612852</td><td>10</td><td>16192.23259636344</td><td>1562.425251130624</td><td>-2219.536883361534</td><td>430.0617423145618</td><td>460.9505137576429</td><td>0.0</td><td>0.0</td><td>0.0</td><td>0.0</td><td>0.0</td></tr>\n",
       "<tr><td>2349804344573953</td><td>8384.117335557938</td><td>0.7734874911207676</td><td>5.094545938524808e-05</td><td>0</td><td>GALAXY</td><td>--</td><td>2</td><td>2935.748</td><td>17682</td><td>191.5378779172897</td><td>10</td><td>207.2591714614684</td><td>311.2251516644832</td><td>-18.36082876745542</td><td>-15.31680810923719</td><td>-8.901424559860853</td><td>9.392171064831238</td><td>-50.4523938408397</td><td>-0.2647465262926589</td><td>2.635438606967344</td><td>10.44380550748178</td></tr>\n",
       "<tr><td>2349804403294209</td><td>8085.365272082388</td><td>0.6009882470468554</td><td>0.0001366930623599175</td><td>0</td><td>GALAXY</td><td>--</td><td>1</td><td>1129.9557</td><td>36799</td><td>9.397019170224667</td><td>10</td><td>1.48142542506216</td><td>57.04093190795025</td><td>-55.90648323923622</td><td>77.84512997637009</td><td>0.0</td><td>0.0</td><td>0.0</td><td>0.0</td><td>0.0</td><td>0.0</td></tr>\n",
       "<tr><td>2349807154757633</td><td>7759.752056121826</td><td>0.8914747499370891</td><td>9.489360515236133e-06</td><td>0</td><td>GALAXY</td><td>--</td><td>1</td><td>1032.7631</td><td>25810</td><td>1990.393577575684</td><td>10</td><td>11.11829964861496</td><td>-19.83946949825469</td><td>11.08630356933931</td><td>-9.6534326695352</td><td>-0.880246393525596</td><td>0.9687464374850302</td><td>6.451074317022373</td><td>0.3054190490521975</td><td>-2.264550127870024</td><td>0.7866816428543582</td></tr>\n",
       "<tr><td>2349810006884353</td><td>7813.356772936881</td><td>0.5897161345295494</td><td>8.995718391886062e-05</td><td>0</td><td>GALAXY</td><td>--</td><td>1</td><td>1453.8173</td><td>17937</td><td>11.0996535718441</td><td>10</td><td>135.7525762332306</td><td>-45.08319196892229</td><td>-80.03156635468983</td><td>-37.62267433863497</td><td>91.43734143898374</td><td>-15.09165689909776</td><td>6.929457297679204</td><td>-6.36887327118183</td><td>7.101054340936597</td><td>-1.159452606272472</td></tr>\n",
       "<tr><td>2349810040438785</td><td>7739.014853719622</td><td>0.526467324140909</td><td>0.0001221272443611522</td><td>0</td><td>GALAXY</td><td>--</td><td>1</td><td>1121.3942</td><td>17599</td><td>12.56454463675618</td><td>10</td><td>2.070090734545857</td><td>91.56333295883898</td><td>-18.90240152401562</td><td>13.20165019986343</td><td>0.0</td><td>0.0</td><td>0.0</td><td>0.0</td><td>0.0</td><td>0.0</td></tr>\n",
       "<tr><td>2349810086576128</td><td>9086.101851679385</td><td>0.5865114083692732</td><td>0.0001223150017235855</td><td>0</td><td>GALAXY</td><td>--</td><td>2</td><td>2988.0767</td><td>17635</td><td>523.5175925977528</td><td>10</td><td>18.7528701636898</td><td>156.5781564051959</td><td>635.3716254313834</td><td>274.6697037404216</td><td>-586.1736585592331</td><td>148.6144025355027</td><td>17.77858762571612</td><td>125.7921943037101</td><td>-33.85155480977934</td><td>2.134109412841824</td></tr>\n",
       "<tr><td>2349810359205889</td><td>7593.425254285336</td><td>0.7735598685660158</td><td>8.465901340157139e-05</td><td>0</td><td>GALAXY</td><td>--</td><td>1</td><td>1171.4036</td><td>17683</td><td>73.9402380771935</td><td>10</td><td>-19.82621854061627</td><td>24.05961743282425</td><td>-14.71453050113679</td><td>3.942825542483184</td><td>-0.08705379207413383</td><td>-5.01467474996968</td><td>2.650718202736812</td><td>-3.695602349330659</td><td>6.908861227937553</td><td>1.236019168543986</td></tr>\n",
       "<tr><td>2349812292780033</td><td>9227.264025635086</td><td>0.7168970122818812</td><td>0.0002657236839550565</td><td>0</td><td>GALAXY</td><td>--</td><td>3</td><td>4244.771</td><td>26815</td><td>28.39506733883172</td><td>10</td><td>850.7959502628128</td><td>399.1788913193538</td><td>-94.87041905432615</td><td>111.5165109418372</td><td>10.48324317847369</td><td>0.0</td><td>0.0</td><td>0.0</td><td>0.0</td><td>0.0</td></tr>\n",
       "<tr><td>2349816101208064</td><td>7941.910046570003</td><td>0.7993679938346777</td><td>0.0001038058256018967</td><td>0</td><td>GALAXY</td><td>--</td><td>1</td><td>1117.1798</td><td>17635</td><td>103.0777635909617</td><td>10</td><td>153.6632281017538</td><td>15.28436176037122</td><td>-458.7102832638123</td><td>-205.6110734766627</td><td>426.0107096993236</td><td>-120.7685017156501</td><td>-9.020218141488863</td><td>-109.6365023836158</td><td>24.7760514433222</td><td>2.679764501022711</td></tr>\n",
       "</table></div>"
      ],
      "text/plain": [
       "<Table length=50>\n",
       "    targetid            chi2       ...       coeff_8            coeff_9      \n",
       "     int64            float64      ...       float64            float64      \n",
       "---------------- ----------------- ... ------------------- ------------------\n",
       "2204871004520448 7502.786605030298 ...                 0.0                0.0\n",
       "2209099441766401 8006.957153789699 ... -0.3677328764207575 -2.826179295683271\n",
       "2253218688008192 8434.394513607025 ...                 0.0                0.0\n",
       "2253239848271873 8068.217628836632 ...   18.00502833126158  2.314039001214395\n",
       "2253330273271809    8256.472001791 ...   35.00849525129802 -3.348652788419436\n",
       "2253938946473984 7914.019844397902 ...   25.59366810619733 -16.50880919980512\n",
       "2315501380304901  8566.17580628395 ...   3.031770032869014 -14.41236097827043\n",
       "2323576464080897 10608.37604570389 ...  -43.86324913211317 -9.621694553682786\n",
       "2349509577277441  8195.99036064744 ...   2.632566609965119  5.852677189363837\n",
       "2349509761826816 8478.736439570785 ...   3.412736359048476  -7.93884379357088\n",
       "             ...               ... ...                 ...                ...\n",
       "2349804344573952 7783.598225384951 ...                 0.0                0.0\n",
       "2349804344573953 8384.117335557938 ...   2.635438606967344  10.44380550748178\n",
       "2349804403294209 8085.365272082388 ...                 0.0                0.0\n",
       "2349807154757633 7759.752056121826 ...  -2.264550127870024 0.7866816428543582\n",
       "2349810006884353 7813.356772936881 ...   7.101054340936597 -1.159452606272472\n",
       "2349810040438785 7739.014853719622 ...                 0.0                0.0\n",
       "2349810086576128 9086.101851679385 ...  -33.85155480977934  2.134109412841824\n",
       "2349810359205889 7593.425254285336 ...   6.908861227937553  1.236019168543986\n",
       "2349812292780033 9227.264025635086 ...                 0.0                0.0\n",
       "2349816101208064 7941.910046570003 ...    24.7760514433222  2.679764501022711"
      ]
     },
     "execution_count": 22,
     "metadata": {},
     "output_type": "execute_result"
    }
   ],
   "source": [
    "desi_qso_ids = qc.query(sql=q, fmt='table')\n",
    "desi_qso_ids"
   ]
  },
  {
   "cell_type": "markdown",
   "metadata": {},
   "source": [
    "#### Convert the coefficients into an array"
   ]
  },
  {
   "cell_type": "code",
   "execution_count": 23,
   "metadata": {
    "execution": {
     "iopub.execute_input": "2025-10-01T00:08:28.443537Z",
     "iopub.status.busy": "2025-10-01T00:08:28.443264Z",
     "iopub.status.idle": "2025-10-01T00:08:28.446525Z",
     "shell.execute_reply": "2025-10-01T00:08:28.446106Z",
     "shell.execute_reply.started": "2025-10-01T00:08:28.443523Z"
    }
   },
   "outputs": [],
   "source": [
    "max_coeff = desi_qso_ids['ncoeff'].max()\n",
    "coeff = np.zeros((len(desi_qso_ids), max_coeff), dtype=desi_qso_ids['coeff_0'].dtype)\n",
    "for k in range(max_coeff):\n",
    "    coeff[:, k] = desi_qso_ids[f'coeff_{k:d}'].data\n",
    "# coeff"
   ]
  },
  {
   "cell_type": "markdown",
   "metadata": {},
   "source": [
    "#### Retrieve the spectra and models from SPARCL"
   ]
  },
  {
   "cell_type": "code",
   "execution_count": 24,
   "metadata": {
    "execution": {
     "iopub.execute_input": "2025-10-01T00:08:29.627590Z",
     "iopub.status.busy": "2025-10-01T00:08:29.627153Z",
     "iopub.status.idle": "2025-10-01T00:08:31.626010Z",
     "shell.execute_reply": "2025-10-01T00:08:31.625626Z",
     "shell.execute_reply.started": "2025-10-01T00:08:29.627576Z"
    }
   },
   "outputs": [
    {
     "data": {
      "text/plain": [
       "{'status': {'success': True,\n",
       "  'info': [\"Successfully found 50 records in dr_list=['DESI-DR1']\"],\n",
       "  'warnings': []}}"
      ]
     },
     "execution_count": 24,
     "metadata": {},
     "output_type": "execute_result"
    }
   ],
   "source": [
    "include = client.get_all_fields(dataset_list=['DESI-DR1'])\n",
    "desi_qso_spectra = client.retrieve_by_specid(specid_list=desi_qso_ids['targetid'].value.tolist(),\n",
    "                                             include=include,\n",
    "                                             dataset_list=['DESI-DR1'])\n",
    "desi_qso_spectra.info"
   ]
  },
  {
   "cell_type": "markdown",
   "metadata": {},
   "source": [
    "Verify that we retrieved all the expected spectra, and sort the results to match the order of the inputs."
   ]
  },
  {
   "cell_type": "code",
   "execution_count": 25,
   "metadata": {
    "execution": {
     "iopub.execute_input": "2025-10-01T00:08:33.382536Z",
     "iopub.status.busy": "2025-10-01T00:08:33.382302Z",
     "iopub.status.idle": "2025-10-01T00:08:33.385397Z",
     "shell.execute_reply": "2025-10-01T00:08:33.385032Z",
     "shell.execute_reply.started": "2025-10-01T00:08:33.382520Z"
    }
   },
   "outputs": [],
   "source": [
    "desi_qso_records = sorted(desi_qso_spectra.records, key=lambda x: x.targetid)\n",
    "assert (np.array([r.targetid for r in desi_qso_records]) == desi_qso_ids['targetid']).all()"
   ]
  },
  {
   "cell_type": "code",
   "execution_count": 26,
   "metadata": {
    "execution": {
     "iopub.execute_input": "2025-10-01T00:08:34.327502Z",
     "iopub.status.busy": "2025-10-01T00:08:34.327273Z",
     "iopub.status.idle": "2025-10-01T00:08:34.331490Z",
     "shell.execute_reply": "2025-10-01T00:08:34.331140Z",
     "shell.execute_reply.started": "2025-10-01T00:08:34.327487Z"
    }
   },
   "outputs": [],
   "source": [
    "qso_flux = np.zeros((len(desi_qso_records), desi_qso_records[0].flux.shape[0]),\n",
    "                    dtype=desi_qso_records[0].flux.dtype)\n",
    "qso_model_flux = np.zeros((len(desi_qso_records), desi_qso_records[0].flux.shape[0]),\n",
    "                          dtype=desi_qso_records[0].model.dtype)\n",
    "qso_wavelength = desi_qso_records[0].wavelength\n",
    "for k in range(len(desi_qso_records)):\n",
    "    qso_flux[k, :] = desi_qso_records[k].flux\n",
    "    qso_model_flux[k, :] = desi_qso_records[k].model        "
   ]
  },
  {
   "cell_type": "markdown",
   "metadata": {},
   "source": [
    "#### Combine coefficients and templates to get the redrock models"
   ]
  },
  {
   "cell_type": "code",
   "execution_count": 28,
   "metadata": {
    "execution": {
     "iopub.execute_input": "2025-10-01T00:08:58.890839Z",
     "iopub.status.busy": "2025-10-01T00:08:58.890589Z",
     "iopub.status.idle": "2025-10-01T00:08:58.916905Z",
     "shell.execute_reply": "2025-10-01T00:08:58.916446Z",
     "shell.execute_reply.started": "2025-10-01T00:08:58.890825Z"
    }
   },
   "outputs": [],
   "source": [
    "# assert (desi_qso_ids['spectype'] == 'QSO').all()\n",
    "# assert ((desi_qso_ids['subtype'] == 'HIZ') | (desi_qso_ids['subtype'] == 'LOZ')).all()\n",
    "assert (desi_qso_ids['spectype'] == 'GALAXY').all()\n",
    "# assert (desi_qso_ids['subtype'] == '').all()\n",
    "qso_loz = templates[('QSO', 'LOZ')]\n",
    "qso_hiz = templates[('QSO', 'HIZ')]\n",
    "galaxy = templates[('GALAXY', '')]\n",
    "tmpl_model_flux = np.zeros((len(desi_qso_ids), len(qso_wavelength)), dtype=qso_model_flux.dtype)\n",
    "for i, row in enumerate(desi_qso_ids):\n",
    "    # print(row)\n",
    "    # print(coeff[i, :])\n",
    "    if row['subtype'] == 'LOZ':\n",
    "        tmpl_model_flux[i, :] = qso_loz.eval(coeff[i, :], qso_wavelength, row['z'])\n",
    "    elif row['subtype'] == 'HIZ':\n",
    "        tmpl_model_flux[i, :] = qso_hiz.eval(coeff[i, :], qso_wavelength, row['z'])\n",
    "    else:\n",
    "        tmpl_model_flux[i, :] = galaxy.eval(coeff[i, :], qso_wavelength, row['z'])"
   ]
  },
  {
   "cell_type": "markdown",
   "metadata": {},
   "source": [
    "#### Comparison plot"
   ]
  },
  {
   "cell_type": "code",
   "execution_count": 39,
   "metadata": {
    "execution": {
     "iopub.execute_input": "2025-10-01T00:13:16.848512Z",
     "iopub.status.busy": "2025-10-01T00:13:16.848238Z",
     "iopub.status.idle": "2025-10-01T00:13:17.056445Z",
     "shell.execute_reply": "2025-10-01T00:13:17.055948Z",
     "shell.execute_reply.started": "2025-10-01T00:13:16.848496Z"
    }
   },
   "outputs": [
    {
     "data": {
      "image/png": "[encoded data removed]",
      "text/plain": [
       "<Figure size 1600x900 with 1 Axes>"
      ]
     },
     "metadata": {},
     "output_type": "display_data"
    }
   ],
   "source": [
    "fig = plt.figure(figsize=(16, 9), dpi=100)\n",
    "ax = fig.add_subplot(111)\n",
    "spectrum_index = 6  # Step through spectra here.\n",
    "pl0 = ax.plot(qso_wavelength, qso_flux[spectrum_index, :], 'k-', lw=0.5, label='SPARCL flux')\n",
    "pl1 = ax.plot(qso_wavelength, qso_model_flux[spectrum_index, :], 'r-', label='SPARCL model')\n",
    "pl2 = ax.plot(qso_wavelength, tmpl_model_flux[spectrum_index, :], 'b-', label='Redrock model')\n",
    "txt = ax.set_xlabel('Wavelength [Å]')\n",
    "txt = ax.set_ylabel(r'Flux [$10^{-17} \\mathrm{erg} \\, \\mathrm{cm}^{-2} \\mathrm{s}^{-1} \\mathrm{\\AA}^{-1}$]')\n",
    "txt = ax.set_title(f\"TARGETID={desi_qso_ids[spectrum_index]['targetid']:d}; Z={desi_qso_ids[spectrum_index]['z']:.3f}; SPECTYPE={desi_qso_ids[spectrum_index]['spectype']}; SUBTYPE={desi_qso_ids[spectrum_index]['subtype']}\")\n",
    "l = ax.legend()"
   ]
  },
  {
   "cell_type": "markdown",
   "metadata": {},
   "source": [
    "<a class=\"anchor\" id=\"sdss\"></a>\n",
    "## SDSS"
   ]
  },
  {
   "cell_type": "markdown",
   "metadata": {},
   "source": [
    "### Find SDSS spectra"
   ]
  },
  {
   "cell_type": "code",
   "execution_count": null,
   "metadata": {
    "tags": []
   },
   "outputs": [],
   "source": [
    "q = \"\"\"\n",
    "SELECT z.specobjid, z.bestobjid, z.z, z.zerr, z.zwarning, z.class, z.subclass,\n",
    "       z.rchi2diff, z.primtarget, z.sectarget\n",
    "FROM sdss_dr16.specobj AS z\n",
    "WHERE z.bestobjid > 0\n",
    "    AND z.run2d = '26'\n",
    "    AND z.plate = 2955\n",
    "    AND z.mjd = 54562\n",
    "    AND z.class = 'GALAXY'\n",
    "    AND z.zwarning = 0\n",
    "ORDER BY z.specobjid\n",
    "LIMIT 50\n",
    "\"\"\"\n",
    "sdss_ids = qc.query(sql=q, fmt='table')\n",
    "sdss_ids"
   ]
  },
  {
   "cell_type": "markdown",
   "metadata": {},
   "source": [
    "**QA**: Do we really have 50 unique spectra?"
   ]
  },
  {
   "cell_type": "code",
   "execution_count": null,
   "metadata": {
    "tags": []
   },
   "outputs": [],
   "source": [
    "assert (np.unique(sdss_ids['specobjid']) == sdss_ids['specobjid']).all()"
   ]
  },
  {
   "cell_type": "markdown",
   "metadata": {},
   "source": [
    "### Retrieve SDSS spectra\n",
    "\n",
    "With the set of `specobjid` obtained above, we can directly retrieve SDSS spectra."
   ]
  },
  {
   "cell_type": "code",
   "execution_count": null,
   "metadata": {
    "tags": []
   },
   "outputs": [],
   "source": [
    "include = client.get_all_fields(dataset_list=['SDSS-DR16'])\n",
    "sdss_spectra = client.retrieve_by_specid(specid_list=sdss_ids['specobjid'].value.tolist(),\n",
    "                                         include=include,\n",
    "                                         dataset_list=['SDSS-DR16'])\n",
    "sdss_spectra.info"
   ]
  },
  {
   "cell_type": "markdown",
   "metadata": {},
   "source": [
    "**QA**: Did we really find all of the expected spectra? Note that we have to assume `specid == specobjid`.\n",
    "\n",
    "Side effect: this also sorts the returned records to match the order of the inputs."
   ]
  },
  {
   "cell_type": "code",
   "execution_count": null,
   "metadata": {
    "tags": []
   },
   "outputs": [],
   "source": [
    "sdss_records = sorted(sdss_spectra.records, key=lambda x: x.specid)\n",
    "assert (np.array([r.specid for r in sdss_records]) == sdss_ids['specobjid']).all()\n",
    "assert all([r.plate == 2955 for r in sdss_records])\n",
    "assert all([r.mjd == 54562 for r in sdss_records])"
   ]
  },
  {
   "cell_type": "markdown",
   "metadata": {},
   "source": [
    "**QA**: Do all spectra records have the same wavelength solution?"
   ]
  },
  {
   "cell_type": "code",
   "execution_count": null,
   "metadata": {
    "tags": []
   },
   "outputs": [],
   "source": [
    "assert all([(r.wavelength == sdss_records[0].wavelength).all() for r in sdss_records])"
   ]
  },
  {
   "cell_type": "markdown",
   "metadata": {},
   "source": [
    "**QA**: Are any of the spectra fully masked?"
   ]
  },
  {
   "cell_type": "code",
   "execution_count": null,
   "metadata": {
    "tags": []
   },
   "outputs": [],
   "source": [
    "sdss_fully_masked = np.zeros((len(sdss_records), ), dtype=bool)\n",
    "\n",
    "for k in range(len(sdss_records)):\n",
    "    assert np.isfinite(sdss_records[k].flux).all()\n",
    "    assert np.isfinite(sdss_records[k].ivar).all()\n",
    "    if (sdss_records[k].mask > 0).all():\n",
    "        print(f\"WARNING: Spectrum record {k:d} is fully masked!\")\n",
    "        sdss_fully_masked[k] = True"
   ]
  },
  {
   "cell_type": "markdown",
   "metadata": {},
   "source": [
    "**Note** that one of the spectra has a non-zero mask for every pixel. This will cause problems with some versions of Prospect, so for the demonstration below, we will not attempt to plot that spectrum. Future versions of Prospect will handle this more gracefully."
   ]
  },
  {
   "cell_type": "markdown",
   "metadata": {},
   "source": [
    "#### View the contents of the first retrieved record"
   ]
  },
  {
   "cell_type": "code",
   "execution_count": null,
   "metadata": {
    "tags": []
   },
   "outputs": [],
   "source": [
    "sdss_records[0]"
   ]
  },
  {
   "cell_type": "markdown",
   "metadata": {},
   "source": [
    "### Organize metadata\n",
    "\n",
    "Prospect needs several inputs:\n",
    "\n",
    "1. An object containing spectra.  In this case we'll use a [`Spectrum1D`](https://specutils.readthedocs.io/en/stable/api/specutils.Spectrum1D.html#specutils.Spectrum1D) object.\n",
    "   * The object contains the usual flux, wavelength, uncertainty.\n",
    "   * In addtion a \"plugmap\" table is needed. This should be an Astropy `Table` with the expected columns.\n",
    "2. A redshift catalog. This should be an Astropy `Table` with the expected columns.\n",
    "3. A model spectrum.  The model is actually provided by SPARCL, but we need to input it separately.\n",
    "\n",
    "#### Spectrum object\n",
    "\n",
    "First we assemble the components of the spectrum object"
   ]
  },
  {
   "cell_type": "code",
   "execution_count": null,
   "metadata": {
    "tags": []
   },
   "outputs": [],
   "source": [
    "flux = np.zeros((len(sdss_records), sdss_records[0].flux.shape[0]),\n",
    "                dtype=sdss_records[0].flux.dtype)\n",
    "uncertainty = np.zeros((len(sdss_records), sdss_records[0].ivar.shape[0]),\n",
    "                       dtype=sdss_records[0].ivar.dtype)\n",
    "mask = np.zeros((len(sdss_records), sdss_records[0].mask.shape[0]),\n",
    "                dtype=sdss_records[0].mask.dtype)\n",
    "\n",
    "meta = {'sparcl_id': list(), 'data_release': list()}\n",
    "sparcl_id = list()\n",
    "data_release = list()\n",
    "\n",
    "for k in range(len(sdss_records)):\n",
    "    flux[k, :] = sdss_records[k].flux\n",
    "    uncertainty[k, :] = sdss_records[k].ivar\n",
    "    mask[k, :] = sdss_records[k].mask\n",
    "    meta['sparcl_id'].append(sdss_records[k].sparcl_id)\n",
    "    meta['data_release'].append(sdss_records[k].data_release)"
   ]
  },
  {
   "cell_type": "markdown",
   "metadata": {},
   "source": [
    "And the \"plugmap\" table. We'll start with photometric quantities."
   ]
  },
  {
   "cell_type": "code",
   "execution_count": null,
   "metadata": {
    "tags": []
   },
   "outputs": [],
   "source": [
    "columns = ('z.specobjid', 'p.objid', 'p.ra', 'p.dec', 'p.u', 'p.g', 'p.r', 'p.i', 'p.z')\n",
    "q = \"\"\"\n",
    "SELECT {0}\n",
    "FROM sdss_dr16.specobj AS z\n",
    "JOIN sdss_dr16.photoplate AS p\n",
    "ON z.bestobjid = p.objid\n",
    "WHERE p.objid IN ({1})\n",
    "ORDER BY z.specobjid\n",
    "\"\"\".format(', '.join(columns), ', '.join([str(t) for t in sdss_ids['bestobjid'].value.tolist()]))\n",
    "\n",
    "plugmap = qc.query(sql=q, fmt='table')"
   ]
  },
  {
   "cell_type": "code",
   "execution_count": null,
   "metadata": {
    "tags": []
   },
   "outputs": [],
   "source": [
    "for col in plugmap.colnames:\n",
    "    plugmap.rename_column(col, col.upper())\n",
    "mag = np.zeros((len(plugmap), 5), dtype=plugmap['G'].value.dtype)\n",
    "for k, band in enumerate('UGRIZ'):\n",
    "    mag[:, k] = plugmap[band].value\n",
    "plugmap.add_column(mag, name='MAG')\n",
    "plugmap.add_column(sdss_ids['primtarget'], name='PRIMTARGET')\n",
    "plugmap.add_column(sdss_ids['sectarget'], name='SECTARGET')\n",
    "meta['plugmap'] = plugmap[~sdss_fully_masked]"
   ]
  },
  {
   "cell_type": "markdown",
   "metadata": {},
   "source": [
    "**QA**: Did we find photometry for every `bestobjid`?"
   ]
  },
  {
   "cell_type": "code",
   "execution_count": null,
   "metadata": {
    "tags": []
   },
   "outputs": [],
   "source": [
    "assert (plugmap['OBJID'] == sdss_ids['bestobjid']).all()"
   ]
  },
  {
   "cell_type": "markdown",
   "metadata": {},
   "source": [
    "Finally assemble the object."
   ]
  },
  {
   "cell_type": "code",
   "execution_count": null,
   "metadata": {
    "tags": []
   },
   "outputs": [],
   "source": [
    "sdss_prospect = Spectrum1D(flux=flux[~sdss_fully_masked, :] * u.Unit('1e-17 erg / (Angstrom cm2 s)'),\n",
    "                           spectral_axis=sdss_records[0].wavelength * u.Unit('Angstrom'),\n",
    "                           uncertainty=InverseVariance(uncertainty[~sdss_fully_masked, :]),\n",
    "                           mask=mask[~sdss_fully_masked, :] != 0,\n",
    "                           meta=meta)"
   ]
  },
  {
   "cell_type": "markdown",
   "metadata": {},
   "source": [
    "#### Redshift catalog\n",
    "\n",
    "We can re-use the initial query above; it was deliberately constructed."
   ]
  },
  {
   "cell_type": "code",
   "execution_count": null,
   "metadata": {
    "tags": []
   },
   "outputs": [],
   "source": [
    "sdss_zcatalog = sdss_ids.copy()\n",
    "for col in sdss_zcatalog.colnames:\n",
    "    if col == 'zerr':\n",
    "        sdss_zcatalog.rename_column(col, 'Z_ERR')\n",
    "    else:\n",
    "        sdss_zcatalog.rename_column(col, col.upper())\n",
    "sdss_zcatalog"
   ]
  },
  {
   "cell_type": "markdown",
   "metadata": {},
   "source": [
    "#### Model spectra\n",
    "\n",
    "Prospect expects a model in the form of a tuple containing wavelength and flux. Since SPARCL provides the model, this is easy.  There are other ways to specify the model, but these require more access to the SDSS *files*."
   ]
  },
  {
   "cell_type": "code",
   "execution_count": null,
   "metadata": {
    "tags": []
   },
   "outputs": [],
   "source": [
    "model_flux = np.zeros((len(sdss_records), sdss_records[0].model.shape[0]),\n",
    "                      dtype=sdss_records[0].model.dtype)\n",
    "\n",
    "for k in range(len(sdss_records)):\n",
    "        model_flux[k, :] = sdss_records[k].model\n",
    "\n",
    "sdss_model = (sdss_records[0].wavelength, model_flux[~sdss_fully_masked, :])"
   ]
  },
  {
   "cell_type": "markdown",
   "metadata": {},
   "source": [
    "### Start prospect\n",
    "\n",
    "With everything assembled, the interface to prospect is just a single call."
   ]
  },
  {
   "cell_type": "code",
   "execution_count": null,
   "metadata": {
    "tags": []
   },
   "outputs": [],
   "source": [
    "plotspectra(sdss_prospect,\n",
    "            zcatalog=sdss_zcatalog[~sdss_fully_masked],\n",
    "            redrock_cat=None,\n",
    "            notebook=True,\n",
    "            with_thumb_tab=False,\n",
    "            with_vi_widgets=False,\n",
    "            with_coaddcam=False,\n",
    "            mask_type='PRIMTARGET',\n",
    "            model_from_zcat=False,\n",
    "            model=sdss_model)"
   ]
  },
  {
   "cell_type": "markdown",
   "metadata": {},
   "source": [
    "<a class=\"anchor\" id=\"boss\"></a>\n",
    "## (e)BOSS"
   ]
  },
  {
   "cell_type": "markdown",
   "metadata": {},
   "source": [
    "### Find (e)BOSS spectra"
   ]
  },
  {
   "cell_type": "code",
   "execution_count": null,
   "metadata": {
    "tags": []
   },
   "outputs": [],
   "source": [
    "q = \"\"\"\n",
    "SELECT z.specobjid, z.bestobjid, z.z, z.zerr, z.zwarning, z.class, z.subclass,\n",
    "       z.rchi2diff, z.boss_target1, z.eboss_target0, z.eboss_target1,\n",
    "       z.eboss_target2\n",
    "FROM sdss_dr16.specobj AS z\n",
    "WHERE z.bestobjid > 0\n",
    "    AND z.run2d = 'v5_13_0'\n",
    "    AND z.plate = 9599\n",
    "    AND z.mjd = 58131\n",
    "    AND z.class = 'GALAXY'\n",
    "    AND z.zwarning = 0\n",
    "ORDER BY z.specobjid\n",
    "LIMIT 50\n",
    "\"\"\"\n",
    "boss_ids = qc.query(sql=q, fmt='table')\n",
    "boss_ids"
   ]
  },
  {
   "cell_type": "markdown",
   "metadata": {},
   "source": [
    "**QA**: Do we really have 50 unique spectra?"
   ]
  },
  {
   "cell_type": "code",
   "execution_count": null,
   "metadata": {},
   "outputs": [],
   "source": [
    "assert (np.unique(boss_ids['specobjid']) == boss_ids['specobjid']).all()"
   ]
  },
  {
   "cell_type": "markdown",
   "metadata": {},
   "source": [
    "### Retrieve (e)BOSS spectra\n",
    "\n",
    "With the set of `specobjid` obtained above, we can directly retrieve (e)BOSS spectra."
   ]
  },
  {
   "cell_type": "code",
   "execution_count": null,
   "metadata": {
    "tags": []
   },
   "outputs": [],
   "source": [
    "include = client.get_all_fields(dataset_list=['BOSS-DR16'])\n",
    "boss_spectra = client.retrieve_by_specid(specid_list=boss_ids['specobjid'].value.tolist(),\n",
    "                                         include=include,\n",
    "                                         dataset_list=['BOSS-DR16'])\n",
    "boss_spectra.info"
   ]
  },
  {
   "cell_type": "markdown",
   "metadata": {
    "tags": []
   },
   "source": [
    "**QA**: Did we really find all of the expected spectra?\n",
    "\n",
    "Side effect: this also sorts the returned records to match the order of the inputs."
   ]
  },
  {
   "cell_type": "code",
   "execution_count": null,
   "metadata": {
    "tags": []
   },
   "outputs": [],
   "source": [
    "boss_records = sorted(boss_spectra.records, key=lambda x: x.specid)\n",
    "assert (np.array([r.specid for r in boss_records]) == boss_ids['specobjid']).all()\n",
    "assert all([r.plate == 9599 for r in boss_records])\n",
    "assert all([r.mjd == 58131 for r in boss_records])"
   ]
  },
  {
   "cell_type": "markdown",
   "metadata": {},
   "source": [
    "**QA**: Do all spectra records have the same wavelength solution?"
   ]
  },
  {
   "cell_type": "code",
   "execution_count": null,
   "metadata": {
    "tags": []
   },
   "outputs": [],
   "source": [
    "assert all([(r.wavelength == boss_records[0].wavelength).all() for r in boss_records])"
   ]
  },
  {
   "cell_type": "markdown",
   "metadata": {},
   "source": [
    "**QA**: Are any of the spectra fully masked?"
   ]
  },
  {
   "cell_type": "code",
   "execution_count": null,
   "metadata": {
    "tags": []
   },
   "outputs": [],
   "source": [
    "boss_fully_masked = np.zeros((len(boss_records), ), dtype=bool)\n",
    "\n",
    "for k in range(len(boss_records)):\n",
    "    assert np.isfinite(boss_records[k].flux).all()\n",
    "    assert np.isfinite(boss_records[k].ivar).all()\n",
    "    if (boss_records[k].mask > 0).all():\n",
    "        print(f\"WARNING: Spectrum record {k:d} is fully masked!\")\n",
    "        boss_fully_masked[k] = True"
   ]
  },
  {
   "cell_type": "markdown",
   "metadata": {},
   "source": [
    "#### View the contents of the first retrieved record"
   ]
  },
  {
   "cell_type": "code",
   "execution_count": null,
   "metadata": {
    "tags": []
   },
   "outputs": [],
   "source": [
    "boss_records[0]"
   ]
  },
  {
   "cell_type": "markdown",
   "metadata": {},
   "source": [
    "### Organize metadata\n",
    "\n",
    "Prospect needs several inputs:\n",
    "\n",
    "1. An object containing spectra.  In this case we'll use a [`Spectrum1D`](https://specutils.readthedocs.io/en/stable/api/specutils.Spectrum1D.html#specutils.Spectrum1D) object.\n",
    "   * The object contains the usual flux, wavelength, uncertainty.\n",
    "   * In addtion a \"plugmap\" table is needed. This should be an Astropy `Table` with the expected columns.\n",
    "2. A redshift catalog. This should be an Astropy `Table` with the expected columns.\n",
    "3. A model spectrum.  The model is actually provided by SPARCL, but we need to input it separately.\n",
    "\n",
    "#### Spectrum object\n",
    "\n",
    "First we assemble the components of the spectrum object"
   ]
  },
  {
   "cell_type": "code",
   "execution_count": null,
   "metadata": {
    "tags": []
   },
   "outputs": [],
   "source": [
    "flux = np.zeros((len(boss_records), boss_records[0].flux.shape[0]),\n",
    "                dtype=boss_records[0].flux.dtype)\n",
    "uncertainty = np.zeros((len(boss_records), boss_records[0].ivar.shape[0]),\n",
    "                       dtype=boss_records[0].ivar.dtype)\n",
    "mask = np.zeros((len(boss_records), boss_records[0].mask.shape[0]),\n",
    "                dtype=boss_records[0].mask.dtype)\n",
    "\n",
    "meta = {'sparcl_id': list(), 'data_release': list()}\n",
    "sparcl_id = list()\n",
    "data_release = list()\n",
    "\n",
    "for k in range(len(boss_records)):\n",
    "    flux[k, :] = boss_records[k].flux\n",
    "    uncertainty[k, :] = boss_records[k].ivar\n",
    "    mask[k, :] = boss_records[k].mask\n",
    "    meta['sparcl_id'].append(boss_records[k].sparcl_id)\n",
    "    meta['data_release'].append(boss_records[k].data_release)"
   ]
  },
  {
   "cell_type": "markdown",
   "metadata": {
    "tags": []
   },
   "source": [
    "And the \"plugmap\" table. We'll start with photometric quantities."
   ]
  },
  {
   "cell_type": "code",
   "execution_count": null,
   "metadata": {
    "tags": []
   },
   "outputs": [],
   "source": [
    "columns = ('z.specobjid', 'p.objid', 'p.ra', 'p.dec', 'p.u', 'p.g', 'p.r', 'p.i', 'p.z')\n",
    "q = \"\"\"\n",
    "SELECT {0}\n",
    "FROM sdss_dr16.specobj AS z\n",
    "JOIN sdss_dr16.photoplate AS p\n",
    "ON z.bestobjid = p.objid\n",
    "WHERE p.objid IN ({1})\n",
    "ORDER BY z.specobjid\n",
    "\"\"\".format(', '.join(columns), ', '.join([str(t) for t in boss_ids['bestobjid'].value.tolist()]))\n",
    "\n",
    "plugmap = qc.query(sql=q, fmt='table')"
   ]
  },
  {
   "cell_type": "code",
   "execution_count": null,
   "metadata": {},
   "outputs": [],
   "source": [
    "for col in plugmap.colnames:\n",
    "    plugmap.rename_column(col, col.upper())\n",
    "mag = np.zeros((len(plugmap), 5), dtype=plugmap['G'].value.dtype)\n",
    "for k, band in enumerate('UGRIZ'):\n",
    "    mag[:, k] = plugmap[band].value\n",
    "plugmap.add_column(mag, name='MAG')\n",
    "plugmap.add_column(boss_ids['boss_target1'], name='BOSS_TARGET1')\n",
    "plugmap.add_column(boss_ids['eboss_target0'], name='EBOSS_TARGET0')\n",
    "plugmap.add_column(boss_ids['eboss_target1'], name='EBOSS_TARGET1')\n",
    "plugmap.add_column(boss_ids['eboss_target2'], name='EBOSS_TARGET2')\n",
    "meta['plugmap'] = plugmap[~boss_fully_masked]"
   ]
  },
  {
   "cell_type": "markdown",
   "metadata": {
    "tags": []
   },
   "source": [
    "**QA**: Did we find photometry for every `bestobjid`?"
   ]
  },
  {
   "cell_type": "code",
   "execution_count": null,
   "metadata": {
    "tags": []
   },
   "outputs": [],
   "source": [
    "assert (plugmap['OBJID'] == boss_ids['bestobjid']).all()"
   ]
  },
  {
   "cell_type": "markdown",
   "metadata": {
    "tags": []
   },
   "source": [
    "Finally assemble the object."
   ]
  },
  {
   "cell_type": "code",
   "execution_count": null,
   "metadata": {
    "tags": []
   },
   "outputs": [],
   "source": [
    "boss_prospect = Spectrum1D(flux=flux[~boss_fully_masked, :] * u.Unit('1e-17 erg / (Angstrom cm2 s)'),\n",
    "                           spectral_axis=boss_records[0].wavelength * u.Unit('Angstrom'),\n",
    "                           uncertainty=InverseVariance(uncertainty[~boss_fully_masked, :]),\n",
    "                           mask=mask[~boss_fully_masked, :] != 0,\n",
    "                           meta=meta)"
   ]
  },
  {
   "cell_type": "markdown",
   "metadata": {
    "tags": []
   },
   "source": [
    "#### Redshift catalog\n",
    "\n",
    "We can re-use the initial query above; it was deliberately constructed."
   ]
  },
  {
   "cell_type": "code",
   "execution_count": null,
   "metadata": {
    "tags": []
   },
   "outputs": [],
   "source": [
    "boss_zcatalog = boss_ids.copy()\n",
    "for col in boss_zcatalog.colnames:\n",
    "    if col == 'zerr':\n",
    "        boss_zcatalog.rename_column(col, 'Z_ERR')\n",
    "    else:\n",
    "        boss_zcatalog.rename_column(col, col.upper())\n",
    "boss_zcatalog"
   ]
  },
  {
   "cell_type": "markdown",
   "metadata": {},
   "source": [
    "#### Model spectra\n",
    "\n",
    "Prospect expects a model in the form of a tuple containing wavelength and flux. Since SPARCL provides the model, this is easy.  There are other ways to specify the model, but these require more access to the (e)BOSS *files*."
   ]
  },
  {
   "cell_type": "code",
   "execution_count": null,
   "metadata": {
    "tags": []
   },
   "outputs": [],
   "source": [
    "model_flux = np.zeros((len(boss_records), boss_records[0].model.shape[0]),\n",
    "                      dtype=boss_records[0].model.dtype)\n",
    "\n",
    "for k in range(len(boss_records)):\n",
    "        model_flux[k, :] = boss_records[k].model\n",
    "\n",
    "boss_model = (boss_records[0].wavelength, model_flux[~boss_fully_masked, :])"
   ]
  },
  {
   "cell_type": "markdown",
   "metadata": {},
   "source": [
    "### Start prospect\n",
    "\n",
    "With everything assembled, the interface to prospect is just a single call."
   ]
  },
  {
   "cell_type": "code",
   "execution_count": null,
   "metadata": {
    "tags": []
   },
   "outputs": [],
   "source": [
    "plotspectra(boss_prospect,\n",
    "            zcatalog=boss_zcatalog[~boss_fully_masked],\n",
    "            redrock_cat=None,\n",
    "            notebook=True,\n",
    "            with_thumb_tab=False,\n",
    "            with_vi_widgets=False,\n",
    "            with_coaddcam=False,\n",
    "            mask_type='EBOSS_TARGET1',\n",
    "            model_from_zcat=False,\n",
    "            model=boss_model)"
   ]
  },
  {
   "cell_type": "code",
   "execution_count": null,
   "metadata": {},
   "outputs": [],
   "source": []
  }
 ],
 "metadata": {
  "kernelspec": {
   "display_name": "DESI 25.3 (DL,Py3.10.13)",
   "language": "python",
   "name": "desi_25.3"
  },
  "language_info": {
   "codemirror_mode": {
    "name": "ipython",
    "version": 3
   },
   "file_extension": ".py",
   "mimetype": "text/x-python",
   "name": "python",
   "nbconvert_exporter": "python",
   "pygments_lexer": "ipython3",
   "version": "3.10.13"
  }
 },
 "nbformat": 4,
 "nbformat_minor": 4
}
