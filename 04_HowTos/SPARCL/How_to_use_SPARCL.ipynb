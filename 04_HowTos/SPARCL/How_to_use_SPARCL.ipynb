{
 "cells": [
  {
   "cell_type": "code",
   "execution_count": 1,
   "id": "b20ea4e7",
   "metadata": {},
   "outputs": [],
   "source": [
    "__author__ = 'Alice Jacques <alice.jacques@noirlab.edu>, Steve Pothier <steve.pothier@noirlab.edu>, Adam Bolton <adam.bolton@noirlab.edu>'\n",
    "__version__ = '20230612' # yyyymmdd; \n",
    "__datasets__ = ['sdss_dr16','boss_dr16','desi_edr']  \n",
    "__keywords__ = ['spectroscopy', 'HowTo', 'sdss spectra', 'desi spectra', 'tutorial']"
   ]
  },
  {
   "cell_type": "markdown",
   "id": "b4162486",
   "metadata": {},
   "source": [
    "# How to use SPARCL\n",
    "SPectra Analysis and Retrievable Catalog Lab (SPARCL)"
   ]
  },
  {
   "cell_type": "markdown",
   "id": "45030923",
   "metadata": {},
   "source": [
    "### Table of contents\n",
    "* [Goals & Summary](#goalssummary)\n",
    "* [If necessary, install the most recent version of the SPARCL Client](#install)\n",
    "* [Imports and setup](#imports)\n",
    "* [Authentication](#authentication)\n",
    "* [Data sets available in SPARCL](#datasets)\n",
    "* [Get default field names](#defaultfieldnames)\n",
    "* [Get all field names](#allfieldnames)\n",
    "* [Data discovery I: using SPARCL's <tt>client.find()</tt> method](#datadiscoveryI)\n",
    "* [Data discovery II: using Data Lab's <tt>sparcl.main</tt> table](#datadiscoveryII)\n",
    "* [Retrieve records by <tt>sparcl_id</tt> using <tt>client.retrieve()</tt>](#retrieve)\n",
    "* [Retrieve records by <tt>specid</tt> using <tt>client.retrieve_by_specid()</tt>](#retrieve_specid)\n",
    "* [Reorder spectrum records](#reorder)\n",
    "* [Access fields in records](#access)\n",
    "* [Convert retrieved output to Pandas DataFrame or Spectrum1D object](#convert)\n",
    "* [Plot spectra](#plot)\n",
    "* [Use <tt>client.missing()</tt> to find missing IDs in the SPARCL database](#missing)"
   ]
  },
  {
   "cell_type": "markdown",
   "id": "acda2d5d",
   "metadata": {},
   "source": [
    "<a class=\"anchor\" id=\"goalssummary\"></a>\n",
    "## Goals & Summary \n",
    "\n",
    "SPARCL (SPectra Analysis and Retrievable Catalog Lab) is an online service for discovery and retrieval of one-dimensional optical-infrared spectra. SPARCL is designed to work for large survey datasets containing many millions of spectra, and to provide access to multiple different data sets through common methods. For more information, see the [SPARCL User Guide](https://astrosparcl.datalab.noirlab.edu/static/SPARCLUserManual.pdf).\n",
    "\n",
    "This notebook provides a basic introduction to using the SPARCL client (or sparclclient) to find and retrieve spectroscopic data within a Python notebook context. The sparclclient connects to the SPARCL server at [NSF's NOIRLab](https://noirlab.edu/public/) and provides access to the contents of the SPARCL database.\n",
    "\n",
    "To see the current data sets and number of spectra available in the SPARCL database, please visit the [SPARCL summary page](https://astrosparcl.datalab.noirlab.edu/sparc/).\n",
    "\n",
    "To get the latest sparclclient documentation, visit the [sparclclient readthedocs site](https://sparclclient.readthedocs.io/en/latest/).\n",
    "\n",
    "Feedback on SPARCL (questions, comments, science use cases, feature requests, bug reports, confusing error messages, etc.) can be submitted to datalab-spectro@noirlab.edu. For bug reports and confusing error messages, it's helpful if you include: a log of *what you did*, *the result you got*, and *the result you expected*."
   ]
  },
  {
   "cell_type": "markdown",
   "id": "6c39b96f",
   "metadata": {},
   "source": [
    "<a class=\"anchor\" id=\"install\"></a>\n",
    "### If necessary, install the most recent version of the SPARCL Client:\n",
    "If you are using the Astro Data Lab Jupyter notebook server, you do not need to run this cell.\n",
    "### NOTE: After installing the most recent version, please restart your kernel."
   ]
  },
  {
   "cell_type": "code",
   "execution_count": 2,
   "id": "4cb3b11f",
   "metadata": {
    "tags": []
   },
   "outputs": [],
   "source": [
    "## Run the following to install the most recent version\n",
    "!pip install --upgrade sparclclient"
   ]
  },
  {
   "cell_type": "markdown",
   "id": "25a609e2",
   "metadata": {},
   "source": [
    "<a class=\"anchor\" id=\"imports\"></a>\n",
    "## Imports and setup"
   ]
  },
  {
   "cell_type": "code",
   "execution_count": 35,
   "id": "5d913a9b",
   "metadata": {
    "tags": []
   },
   "outputs": [],
   "source": [
    "# SPARCL imports\n",
    "from sparcl.client import SparclClient\n",
    "\n",
    "# 3rd party imports\n",
    "from time import time\n",
    "import numpy as np\n",
    "import astropy.units as u\n",
    "from specutils import Spectrum1D\n",
    "from astropy.nddata import InverseVariance\n",
    "from astropy.convolution import convolve, Gaussian1DKernel\n",
    "%matplotlib inline\n",
    "import matplotlib.pyplot as plt\n",
    "import pandas as pd\n",
    "\n",
    "# Data Lab imports\n",
    "from dl import queryClient as qc\n",
    "from dl import authClient as ac\n",
    "from getpass import getpass\n",
    "\n",
    "# plots default setup\n",
    "plt.rcParams['font.size'] = 14\n",
    "plt.rcParams['figure.figsize'] = (14,8)"
   ]
  },
  {
   "cell_type": "markdown",
   "id": "bcff154c",
   "metadata": {},
   "source": [
    "<a class=\"anchor\" id=\"authentication\"></a>\n",
    "# Authentication\n",
    "Much of the functionality of Data Lab can be accessed without explicitly logging in (the service then uses an anonymous login). But some capacities, for instance saving the results of your queries to your virtual storage space, require a login (i.e. you will need a registered user account).\n",
    "\n",
    "If you need to log in to Data Lab, un-comment the cell below and execute it:"
   ]
  },
  {
   "cell_type": "code",
   "execution_count": 4,
   "id": "50a1081b",
   "metadata": {
    "tags": []
   },
   "outputs": [],
   "source": [
    "#ac.login(input(\"Enter user name: (+ENTER) \"),getpass(\"Enter password: (+ENTER) \"))\n",
    "#ac.whoAmI()"
   ]
  },
  {
   "cell_type": "markdown",
   "id": "5647c893",
   "metadata": {},
   "source": [
    "#### We now create a SPARCL client and print out version information:"
   ]
  },
  {
   "cell_type": "code",
   "execution_count": 5,
   "id": "ed2bfd68-6a5a-486f-84ee-c9f1f7d1db38",
   "metadata": {
    "tags": []
   },
   "outputs": [
    {
     "data": {
      "text/plain": [
       "(sparclclient:1.2.0, api:9.0, https://astrosparcl.datalab.noirlab.edu/sparc, verbose=False, connect_timeout=1.1, read_timeout=5400.0)"
      ]
     },
     "execution_count": 5,
     "metadata": {},
     "output_type": "execute_result"
    }
   ],
   "source": [
    "client = SparclClient()\n",
    "client"
   ]
  },
  {
   "cell_type": "code",
   "execution_count": 6,
   "id": "c9e7e1ce",
   "metadata": {
    "tags": []
   },
   "outputs": [
    {
     "name": "stdout",
     "output_type": "stream",
     "text": [
      "Help on SparclClient in module sparcl.client object:\n",
      "\n",
      "class SparclClient(builtins.object)\n",
      " |  SparclClient(*, url='https://astrosparcl.datalab.noirlab.edu', verbose=False, connect_timeout=1.1, read_timeout=5400)\n",
      " |  \n",
      " |  Provides interface to SPARCL Server.\n",
      " |  When using this to report a bug, set verbose to True. Also print\n",
      " |  your instance of this.  The results will include important info\n",
      " |  about the Client and Server that is usefule to Developers.\n",
      " |  \n",
      " |  Args:\n",
      " |      url (:obj:`str`, optional): Base URL of SPARC Server. Defaults\n",
      " |          to 'https://astrosparcl.datalab.noirlab.edu'.\n",
      " |  \n",
      " |      verbose (:obj:`bool`, optional): Default verbosity is set to\n",
      " |          False for all client methods.\n",
      " |  \n",
      " |      connect_timeout (:obj:`float`, optional): Number of seconds to\n",
      " |          wait to establish connection with server. Defaults to\n",
      " |          1.1.\n",
      " |  \n",
      " |      read_timeout (:obj:`float`, optional): Number of seconds to\n",
      " |          wait for server to send a response. Generally time to\n",
      " |          wait for first byte. Defaults to 5400.\n",
      " |  \n",
      " |  Example:\n",
      " |      >>> client = SparclClient()\n",
      " |  \n",
      " |  Raises:\n",
      " |      Exception: Object creation compares the version from the\n",
      " |          Server against the one expected by the Client. Throws an\n",
      " |          error if the Client is a major version or more behind.\n",
      " |  \n",
      " |  Methods defined here:\n",
      " |  \n",
      " |  __init__(self, *, url='https://astrosparcl.datalab.noirlab.edu', verbose=False, connect_timeout=1.1, read_timeout=5400)\n",
      " |      Create client instance.\n",
      " |  \n",
      " |  __repr__(self)\n",
      " |      Return repr(self).\n",
      " |  \n",
      " |  find(self, outfields=None, *, constraints={}, limit=500, sort=None, verbose=None)\n",
      " |      Find records in the SPARC database.\n",
      " |      \n",
      " |      Args:\n",
      " |          outfields (:obj:`list`, optional): List of fields to return.\n",
      " |              Only CORE fields may be passed to this parameter.\n",
      " |              Defaults to None, which will return only the sparcl_id\n",
      " |              and _dr fields.\n",
      " |      \n",
      " |          constraints (:obj:`dict`, optional): Key-Value pairs of\n",
      " |              constraints to place on the record selection. The Key\n",
      " |              part of the Key-Value pair is the field name and the\n",
      " |              Value part of the Key-Value pair is a list of values.\n",
      " |              Defaults to no constraints. This will return all records in the\n",
      " |              database subject to restrictions imposed by the ``limit``\n",
      " |              parameter.\n",
      " |      \n",
      " |          limit (:obj:`int`, optional): Maximum number of records to\n",
      " |              return. Defaults to 500.\n",
      " |      \n",
      " |          sort (:obj:`list`, optional): Comma separated list of fields\n",
      " |              to sort by. Defaults to None. (no sorting)\n",
      " |      \n",
      " |          verbose (:obj:`bool`, optional): Set to True for in-depth return\n",
      " |              statement. Defaults to False.\n",
      " |      \n",
      " |      Returns:\n",
      " |          :class:`~sparcl.Results.Found`: Contains header and records.\n",
      " |      \n",
      " |      Example:\n",
      " |          >>> client = SparclClient()\n",
      " |          >>> outs = ['id', 'ra', 'dec']\n",
      " |          >>> cons = {'spectype': ['GALAXY'], 'redshift': [0.5, 0.9]}\n",
      " |          >>> found = client.find(outfields=outs, constraints=cons)\n",
      " |          >>> sorted(list(found.records[0].keys()))\n",
      " |          ['_dr', 'dec', 'id', 'ra']\n",
      " |  \n",
      " |  get_all_fields(self, *, dataset_list=None)\n",
      " |      Get fields tagged as 'all' that are in DATASET_LIST.\n",
      " |      These are the fields used for the ALL value of the include parameter\n",
      " |      of client.retrieve().\n",
      " |      \n",
      " |      Args:\n",
      " |          dataset_list (:obj:`list`, optional): List of data sets from\n",
      " |              which to get all fields. Defaults to None, which\n",
      " |              will return the intersection of all fields in all\n",
      " |              data sets hosted on the SPARC database.\n",
      " |      \n",
      " |      Returns:\n",
      " |          List of fields tagged as 'all' from DATASET_LIST.\n",
      " |      \n",
      " |      Example:\n",
      " |          >>> client = SparclClient()\n",
      " |          >>> client.get_all_fields()\n",
      " |          ['data_release', 'datasetgroup', 'dateobs', 'dateobs_center', 'dec', 'exptime', 'fiberid', 'flux', 'id', 'instrument', 'ivar', 'mask', 'mjd', 'model', 'plate', 'ra', 'redshift', 'redshift_err', 'redshift_warning', 'run1d', 'run2d', 'site', 'sky', 'specid', 'specobjid', 'specprimary', 'spectype', 'targetid', 'telescope', 'wave_sigma', 'wavelength', 'wavemax', 'wavemin']\n",
      " |  \n",
      " |  get_available_fields(self, *, dataset_list=None)\n",
      " |      Get subset of fields that are in all (or selected) DATASET_LIST.\n",
      " |      This may be a bigger list than will be used with the ALL keyword to\n",
      " |      client.retreive().\n",
      " |      \n",
      " |      Args:\n",
      " |          dataset_list (:obj:`list`, optional): List of data sets from\n",
      " |              which to get available fields. Defaults to None, which\n",
      " |              will return the intersection of all available fields in\n",
      " |              all data sets hosted on the SPARC database.\n",
      " |      \n",
      " |      Returns:\n",
      " |          Set of fields available from data sets in DATASET_LIST.\n",
      " |      \n",
      " |      Example:\n",
      " |          >>> client = SparclClient()\n",
      " |          >>> sorted(client.get_available_fields())\n",
      " |          ['data_release', 'datasetgroup', 'dateobs', 'dateobs_center', 'dec', 'dirpath', 'exptime', 'extra_files', 'fiberid', 'filename', 'filesize', 'flux', 'id', 'instrument', 'ivar', 'mask', 'mjd', 'model', 'plate', 'ra', 'redshift', 'redshift_err', 'redshift_warning', 'run1d', 'run2d', 'site', 'sky', 'specid', 'specobjid', 'specprimary', 'spectype', 'targetid', 'telescope', 'updated', 'wave_sigma', 'wavelength', 'wavemax', 'wavemin']\n",
      " |  \n",
      " |  get_default_fields(self, *, dataset_list=None)\n",
      " |      Get fields tagged as 'default' that are in DATASET_LIST.\n",
      " |      These are the fields used for the DEFAULT value of the include\n",
      " |      parameter of client.retrieve().\n",
      " |      \n",
      " |      Args:\n",
      " |          dataset_list (:obj:`list`, optional): List of data sets from\n",
      " |              which to get the default fields. Defaults to None, which\n",
      " |              will return the intersection of default fields in all\n",
      " |              data sets hosted on the SPARC database.\n",
      " |      \n",
      " |      Returns:\n",
      " |          List of fields tagged as 'default' from DATASET_LIST.\n",
      " |      \n",
      " |      Example:\n",
      " |          >>> client = SparclClient()\n",
      " |          >>> client.get_default_fields()\n",
      " |          ['flux', 'id', 'wavelength']\n",
      " |  \n",
      " |  missing(self, uuid_list, *, dataset_list=None, countOnly=False, verbose=False)\n",
      " |      Return the subset of sparcl_ids in the given uuid_list that are\n",
      " |      NOT stored in the SPARC database.\n",
      " |      \n",
      " |      Args:\n",
      " |          uuid_list (:obj:`list`): List of sparcl_ids.\n",
      " |      \n",
      " |          dataset_list (:obj:`list`, optional): List of data sets from\n",
      " |              which to find missing sparcl_ids. Defaults to None, meaning\n",
      " |              all data sets hosted on the SPARC database.\n",
      " |      \n",
      " |          countOnly (:obj:`bool`, optional): Set to True to return only\n",
      " |              a count of the missing sparcl_ids from the uuid_list.\n",
      " |              Defaults to False.\n",
      " |      \n",
      " |          verbose (:obj:`bool`, optional): Set to True for in-depth return\n",
      " |              statement. Defaults to False.\n",
      " |      \n",
      " |      Returns:\n",
      " |          A list of the subset of sparcl_ids in the given uuid_list that\n",
      " |          are NOT stored in the SPARC database.\n",
      " |      \n",
      " |      Example:\n",
      " |          >>> client = SparclClient()\n",
      " |          >>> ids = ['ddbb57ee-8e90-4a0d-823b-0f5d97028076',]\n",
      " |          >>> client.missing(ids)\n",
      " |          ['ddbb57ee-8e90-4a0d-823b-0f5d97028076']\n",
      " |  \n",
      " |  missing_specids(self, specid_list, *, dataset_list=None, countOnly=False, verbose=False)\n",
      " |      Return the subset of specids in the given specid_list that are\n",
      " |      NOT stored in the SPARC database.\n",
      " |      \n",
      " |      Args:\n",
      " |          specid_list (:obj:`list`): List of specids.\n",
      " |      \n",
      " |          dataset_list (:obj:`list`, optional): List of data sets from\n",
      " |              which to find missing specids. Defaults to None, meaning\n",
      " |              all data sets hosted on the SPARC database.\n",
      " |      \n",
      " |          countOnly (:obj:`bool`, optional): Set to True to return only\n",
      " |              a count of the missing specids from the specid_list.\n",
      " |              Defaults to False.\n",
      " |      \n",
      " |          verbose (:obj:`bool`, optional): Set to True for in-depth return\n",
      " |              statement. Defaults to False.\n",
      " |      \n",
      " |      Returns:\n",
      " |          A list of the subset of specids in the given specid_list that\n",
      " |          are NOT stored in the SPARC database.\n",
      " |      \n",
      " |      Example:\n",
      " |          >>> client = SparclClient(url=_PAT)\n",
      " |          >>> specids = ['7972592460248666112', '3663710814482833408']\n",
      " |          >>> client.missing_specids(specids + ['bad_id'])\n",
      " |          ['bad_id']\n",
      " |  \n",
      " |  retrieve(self, uuid_list, *, svc='spectras', format='pkl', include='DEFAULT', dataset_list=None, limit=500, chunk=500, verbose=None)\n",
      " |      Retrieve spectra records from the SPARC database by list of\n",
      " |      sparcl_ids.\n",
      " |      \n",
      " |      Args:\n",
      " |          uuid_list (:obj:`list`): List of sparcl_ids.\n",
      " |      \n",
      " |          svc (:obj:`str`, optional): Defaults to 'spectras'.\n",
      " |      \n",
      " |          format (:obj:`str`, optional): Defaults to 'pkl'.\n",
      " |      \n",
      " |          include (:obj:`list`, optional): List of field names to include\n",
      " |              in each record. Defaults to 'DEFAULT', which will return\n",
      " |              the fields tagged as 'default'.\n",
      " |      \n",
      " |          dataset_list (:obj:`list`, optional): List of data sets from\n",
      " |              which to retrieve spectra data. Defaults to None, meaning all\n",
      " |              data sets hosted on the SPARC database.\n",
      " |      \n",
      " |          limit (:obj:`int`, optional): Maximum number of records to\n",
      " |              return. Defaults to 500.\n",
      " |      \n",
      " |          chunk (:obj:`int`, optional): Size of chunks to break list into.\n",
      " |              Defaults to 500.\n",
      " |      \n",
      " |          verbose (:obj:`bool`, optional): Set to True for in-depth return\n",
      " |              statement. Defaults to False.\n",
      " |      \n",
      " |      Returns:\n",
      " |          :class:`~sparcl.Results.Retrieved`: Contains header and records.\n",
      " |      \n",
      " |      Example:\n",
      " |          >>> client = SparclClient()\n",
      " |          >>> ids = ['000017b6-56a2-4f87-8828-3a3409ba1083',]\n",
      " |          >>> inc = ['id', 'flux', 'wavelength', 'model']\n",
      " |          >>> ret = client.retrieve(uuid_list=ids, include=inc)\n",
      " |          >>> type(ret.records[0].wavelength)\n",
      " |          <class 'numpy.ndarray'>\n",
      " |  \n",
      " |  retrieve_by_specid(self, specid_list, *, svc='spectras', format='pkl', include='DEFAULT', dataset_list=None, limit=500, verbose=False)\n",
      " |      Retrieve spectra records from the SPARC database by list of specids.\n",
      " |      \n",
      " |      Args:\n",
      " |          specid_list (:obj:`list`): List of specids.\n",
      " |      \n",
      " |          include (:obj:`list`, optional): List of field names to include\n",
      " |              in each record. Defaults to 'DEFAULT', which will return\n",
      " |              the fields tagged as 'default'.\n",
      " |      \n",
      " |          dataset_list (:obj:`list`, optional): List of data sets from\n",
      " |              which to retrieve spectra data. Defaults to None, meaning all\n",
      " |              data sets hosted on the SPARC database.\n",
      " |      \n",
      " |          verbose (:obj:`bool`, optional): Set to True for in-depth return\n",
      " |              statement. Defaults to False.\n",
      " |      \n",
      " |      Returns:\n",
      " |          :class:`~sparcl.Results.Retrieved`: Contains header and records.\n",
      " |      \n",
      " |      Example:\n",
      " |          >>> client = SparclClient()\n",
      " |          >>> sids = [5840097619402313728, -8985592895187431424]\n",
      " |          >>> inc = ['specid', 'flux', 'wavelength', 'model']\n",
      " |          >>> ret = client.retrieve_by_specid(specid_list=sids, include=inc)\n",
      " |          >>> len(ret.records[0].wavelength)\n",
      " |          4617\n",
      " |  \n",
      " |  ----------------------------------------------------------------------\n",
      " |  Readonly properties defined here:\n",
      " |  \n",
      " |  all_datasets\n",
      " |  \n",
      " |  version\n",
      " |      Return version of Server Rest API used by this client.\n",
      " |      If the Rest API changes such that the Major version increases,\n",
      " |      a new version of this module will likely need to be used.\n",
      " |      \n",
      " |      Returns:\n",
      " |          API version (:obj:`float`).\n",
      " |      \n",
      " |      Example:\n",
      " |          >>> client = SparclClient()\n",
      " |          >>> client.version\n",
      " |          8.0\n",
      " |  \n",
      " |  ----------------------------------------------------------------------\n",
      " |  Data descriptors defined here:\n",
      " |  \n",
      " |  __dict__\n",
      " |      dictionary for instance variables (if defined)\n",
      " |  \n",
      " |  __weakref__\n",
      " |      list of weak references to the object (if defined)\n",
      " |  \n",
      " |  ----------------------------------------------------------------------\n",
      " |  Data and other attributes defined here:\n",
      " |  \n",
      " |  KNOWN_GOOD_API_VERSION = 9.0\n",
      "\n"
     ]
    }
   ],
   "source": [
    "help(SparclClient())"
   ]
  },
  {
   "cell_type": "markdown",
   "id": "f9d8d4cf",
   "metadata": {},
   "source": [
    "<a class=\"anchor\" id=\"datasets\"></a>\n",
    "## Data sets available in SPARCL\n",
    "List all currently available data sets from the server/url associated with client"
   ]
  },
  {
   "cell_type": "code",
   "execution_count": 7,
   "id": "da920ad2",
   "metadata": {
    "tags": []
   },
   "outputs": [
    {
     "data": {
      "text/plain": [
       "{'BOSS-DR16', 'DESI-EDR', 'SDSS-DR16'}"
      ]
     },
     "execution_count": 7,
     "metadata": {},
     "output_type": "execute_result"
    }
   ],
   "source": [
    "client.all_datasets"
   ]
  },
  {
   "cell_type": "markdown",
   "id": "27e427e6",
   "metadata": {},
   "source": [
    "<a class=\"anchor\" id=\"defaultfieldnames\"></a>\n",
    "## Get default field names\n",
    "Gets fields tagged as 'default' that are common to all data sets in the `dataset_list` passed to the function. If `dataset_list` is None (the default), the function returns the intersection of 'default' fields across all datasets currently available in the SPARC database."
   ]
  },
  {
   "cell_type": "code",
   "execution_count": 8,
   "id": "53de9d86",
   "metadata": {
    "tags": []
   },
   "outputs": [
    {
     "data": {
      "text/plain": [
       "\u001b[0;31mSignature:\u001b[0m \u001b[0mclient\u001b[0m\u001b[0;34m.\u001b[0m\u001b[0mget_default_fields\u001b[0m\u001b[0;34m(\u001b[0m\u001b[0;34m*\u001b[0m\u001b[0;34m,\u001b[0m \u001b[0mdataset_list\u001b[0m\u001b[0;34m=\u001b[0m\u001b[0;32mNone\u001b[0m\u001b[0;34m)\u001b[0m\u001b[0;34m\u001b[0m\u001b[0;34m\u001b[0m\u001b[0m\n",
       "\u001b[0;31mDocstring:\u001b[0m\n",
       "Get fields tagged as 'default' that are in DATASET_LIST.\n",
       "These are the fields used for the DEFAULT value of the include\n",
       "parameter of client.retrieve().\n",
       "\n",
       "Args:\n",
       "    dataset_list (:obj:`list`, optional): List of data sets from\n",
       "        which to get the default fields. Defaults to None, which\n",
       "        will return the intersection of default fields in all\n",
       "        data sets hosted on the SPARC database.\n",
       "\n",
       "Returns:\n",
       "    List of fields tagged as 'default' from DATASET_LIST.\n",
       "\n",
       "Example:\n",
       "    >>> client = SparclClient()\n",
       "    >>> client.get_default_fields()\n",
       "    ['flux', 'id', 'wavelength']\n",
       "\u001b[0;31mFile:\u001b[0m      /home/jail/dlusers/ajacques/.local/lib/python3.8/site-packages/sparcl/client.py\n",
       "\u001b[0;31mType:\u001b[0m      method\n"
      ]
     },
     "metadata": {},
     "output_type": "display_data"
    }
   ],
   "source": [
    "client.get_default_fields?"
   ]
  },
  {
   "cell_type": "code",
   "execution_count": 9,
   "id": "59d6be11",
   "metadata": {
    "tags": []
   },
   "outputs": [
    {
     "data": {
      "text/plain": [
       "['dec', 'flux', 'ra', 'sparcl_id', 'specid', 'wavelength']"
      ]
     },
     "execution_count": 9,
     "metadata": {},
     "output_type": "execute_result"
    }
   ],
   "source": [
    "client.get_default_fields()"
   ]
  },
  {
   "cell_type": "markdown",
   "id": "5121cc55",
   "metadata": {},
   "source": [
    "<a class=\"anchor\" id=\"allfieldnames\"></a>\n",
    "## Get all field names\n",
    "Gets fields tagged as 'all' that are common to all data sets in the `dataset_list` passed to the function. If `dataset_list` is None (the default), the function returns the intersection of 'all' fields across all datasets currently available in the SPARC database."
   ]
  },
  {
   "cell_type": "code",
   "execution_count": 10,
   "id": "e1724445",
   "metadata": {
    "tags": []
   },
   "outputs": [
    {
     "data": {
      "text/plain": [
       "\u001b[0;31mSignature:\u001b[0m \u001b[0mclient\u001b[0m\u001b[0;34m.\u001b[0m\u001b[0mget_all_fields\u001b[0m\u001b[0;34m(\u001b[0m\u001b[0;34m*\u001b[0m\u001b[0;34m,\u001b[0m \u001b[0mdataset_list\u001b[0m\u001b[0;34m=\u001b[0m\u001b[0;32mNone\u001b[0m\u001b[0;34m)\u001b[0m\u001b[0;34m\u001b[0m\u001b[0;34m\u001b[0m\u001b[0m\n",
       "\u001b[0;31mDocstring:\u001b[0m\n",
       "Get fields tagged as 'all' that are in DATASET_LIST.\n",
       "These are the fields used for the ALL value of the include parameter\n",
       "of client.retrieve().\n",
       "\n",
       "Args:\n",
       "    dataset_list (:obj:`list`, optional): List of data sets from\n",
       "        which to get all fields. Defaults to None, which\n",
       "        will return the intersection of all fields in all\n",
       "        data sets hosted on the SPARC database.\n",
       "\n",
       "Returns:\n",
       "    List of fields tagged as 'all' from DATASET_LIST.\n",
       "\n",
       "Example:\n",
       "    >>> client = SparclClient()\n",
       "    >>> client.get_all_fields()\n",
       "    ['data_release', 'datasetgroup', 'dateobs', 'dateobs_center', 'dec', 'exptime', 'fiberid', 'flux', 'id', 'instrument', 'ivar', 'mask', 'mjd', 'model', 'plate', 'ra', 'redshift', 'redshift_err', 'redshift_warning', 'run1d', 'run2d', 'site', 'sky', 'specid', 'specobjid', 'specprimary', 'spectype', 'targetid', 'telescope', 'wave_sigma', 'wavelength', 'wavemax', 'wavemin']\n",
       "\u001b[0;31mFile:\u001b[0m      /home/jail/dlusers/ajacques/.local/lib/python3.8/site-packages/sparcl/client.py\n",
       "\u001b[0;31mType:\u001b[0m      method\n"
      ]
     },
     "metadata": {},
     "output_type": "display_data"
    }
   ],
   "source": [
    "client.get_all_fields?"
   ]
  },
  {
   "cell_type": "code",
   "execution_count": 11,
   "id": "3ec96b73",
   "metadata": {
    "tags": []
   },
   "outputs": [
    {
     "name": "stdout",
     "output_type": "stream",
     "text": [
      "['data_release', 'datasetgroup', 'dateobs', 'dateobs_center', 'dec', 'exptime', 'flux', 'instrument', 'ivar', 'mask', 'model', 'ra', 'redshift', 'redshift_err', 'redshift_warning', 'site', 'sparcl_id', 'specid', 'specprimary', 'spectype', 'survey', 'targetid', 'telescope', 'wave_sigma', 'wavelength', 'wavemax', 'wavemin']\n"
     ]
    }
   ],
   "source": [
    "print(sorted(client.get_all_fields()))"
   ]
  },
  {
   "cell_type": "code",
   "execution_count": 12,
   "id": "3ebd397b",
   "metadata": {
    "tags": []
   },
   "outputs": [
    {
     "name": "stdout",
     "output_type": "stream",
     "text": [
      "['ancillary_target1', 'ancillary_target2', 'anyandmask', 'anyormask', 'bluefiber', 'boss_specobj_id', 'boss_target1', 'boss_target2', 'calibflux', 'calibflux_ivar', 'chi68p', 'chunk', 'class_noqso', 'class_person', 'comments_person', 'cx', 'cy', 'cz', 'data_release', 'datasetgroup', 'dateobs', 'dateobs_center', 'dec', 'deredsn2', 'designid', 'dof', 'eboss_target0', 'eboss_target1', 'eboss_target2', 'eboss_target_id', 'elodie_bv', 'elodie_dof', 'elodie_feh', 'elodie_filename', 'elodie_logg', 'elodie_object', 'elodie_rchi2', 'elodie_sptype', 'elodie_teff', 'elodie_z', 'elodie_z_err', 'elodie_z_modelerr', 'exptime', 'fiberid', 'firstrelease', 'flux', 'fluxobjid', 'fracnsighi', 'fracnsiglo', 'fracnsigma', 'instrument', 'ivar', 'lambda_eff', 'legacy_target1', 'legacy_target2', 'marvels_target1', 'marvels_target2', 'mask', 'mjd', 'model', 'npoly', 'nspecobs', 'nturnoff', 'objid', 'plate', 'plateid', 'platequality', 'platerun', 'platesn2', 'primtarget', 'programname', 'ra', 'rchi2', 'rchi2diff', 'rchi2diff_noqso', 'redshift', 'redshift_err', 'redshift_warning', 'run1d', 'run2d', 'sectarget', 'segue1_target1', 'segue1_target2', 'segue2_target1', 'segue2_target2', 'site', 'sky', 'sn_median', 'sn_median_all', 'snturnoff', 'sourcetype', 'sparcl_id', 'spec1_g', 'spec1_i', 'spec1_r', 'spec2_g', 'spec2_i', 'spec2_r', 'specboss', 'special_target1', 'special_target2', 'specid', 'speclegacy', 'specprimary', 'specsdss', 'specsegue', 'specsegue1', 'specsegue2', 'spectroflux', 'spectroflux_ivar', 'spectrographid', 'spectroskyflux', 'spectrosynflux', 'spectrosynflux_ivar', 'spectype', 'subclass', 'subclass_noqso', 'survey', 'targetid', 'targetobjid', 'targettype', 'tcolumn', 'telescope', 'tfile', 'theta', 'thing_id', 'thing_id_targeting', 'tile', 'vdisp', 'vdisp_err', 'vdispchi2', 'vdispdof', 'vdispnpix', 'vdispz', 'vdispz_err', 'wave_sigma', 'wavelength', 'wavemax', 'wavemin', 'wcoverage', 'xfocal', 'yfocal', 'z_conf_person', 'z_err_noqso', 'z_noqso', 'z_person', 'zoffset', 'zwarning_noqso']\n"
     ]
    }
   ],
   "source": [
    "print(sorted(client.get_all_fields(dataset_list=['SDSS-DR16', 'BOSS-DR16'])))"
   ]
  },
  {
   "cell_type": "code",
   "execution_count": 13,
   "id": "2d9164d2",
   "metadata": {
    "tags": []
   },
   "outputs": [
    {
     "name": "stdout",
     "output_type": "stream",
     "text": [
      "['bgs_target', 'chi2', 'cmx_target', 'coadd_fiberstatus', 'coadd_numexp', 'coadd_numnight', 'coadd_numtile', 'coeff', 'data_release', 'datasetgroup', 'dateobs', 'dateobs_center', 'dec', 'deltachi2', 'desi_target', 'exptime', 'fa_target', 'fa_type', 'firstnight', 'flux', 'healpix', 'instrument', 'ivar', 'lastnight', 'mask', 'mean_delta_x', 'mean_delta_y', 'mean_fiber_dec', 'mean_fiber_ra', 'mean_mjd', 'mean_psf_to_fiber_specflux', 'model', 'mws_target', 'ncoeff', 'npixels', 'numobs_init', 'objtype', 'obsconditions', 'plate_dec', 'plate_ra', 'pmdec', 'pmra', 'priority_init', 'program', 'ra', 'redshift', 'redshift_err', 'redshift_warning', 'ref_epoch', 'rms_delta_x', 'rms_delta_y', 'scnd_target', 'site', 'sparcl_id', 'specid', 'specprimary', 'spectype', 'spgrpval', 'std_fiber_dec', 'std_fiber_ra', 'subpriority', 'subtype', 'survey', 'sv1_bgs_target', 'sv1_desi_target', 'sv1_mws_target', 'sv1_scnd_target', 'sv2_bgs_target', 'sv2_desi_target', 'sv2_mws_target', 'sv2_scnd_target', 'sv3_bgs_target', 'sv3_desi_target', 'sv3_mws_target', 'sv3_scnd_target', 'sv_nspec', 'sv_primary', 'target_dec', 'target_ra', 'targetid', 'telescope', 'tsnr2_bgs', 'tsnr2_elg', 'tsnr2_gpbbackup', 'tsnr2_gpbbright', 'tsnr2_gpbdark', 'tsnr2_lrg', 'tsnr2_lya', 'tsnr2_qso', 'wave_sigma', 'wavelength', 'wavemax', 'wavemin', 'zcat_nspec']\n"
     ]
    }
   ],
   "source": [
    "print(sorted(client.get_all_fields(dataset_list=['DESI-EDR'])))"
   ]
  },
  {
   "cell_type": "markdown",
   "id": "bd9cc611",
   "metadata": {},
   "source": [
    "<a class=\"anchor\" id=\"datadiscoveryI\"></a>\n",
    "## Data discovery I: using SPARCL's `client.find()` method\n",
    "The first way you can discover your data is by using SPARCL's `client.find()` method, which allows you to find records in the SPARCL database based on certain parameters passed to the function. Only Core fields may be in the `outfields` and `constraints` parameters. The descriptions for all fields, including Core fields, is located [here](https://astrosparcl.datalab.noirlab.edu/sparc/sfc/). The SPARCL Core fields constraint types are:\n",
    "\n",
    "\n",
    "| Field name       | Constraint type | Example |\n",
    "|:----------------|:---------------|:-------|\n",
    "| data_release     | List of allowed values<br>from [SPARCL Categoricals](https://astrosparcl.datalab.noirlab.edu/sparc/cats/) | ['DESI-EDR', 'BOSS-DR16', 'SDSS-DR16']\n",
    "| datasetgroup     | List of allowed values<br>from [SPARCL Categoricals](https://astrosparcl.datalab.noirlab.edu/sparc/cats/) | ['DESI', 'SDSS_BOSS']\n",
    "| dateobs_center   | Range of values | ['2013-03-14T10:16:17Z',<br>'2014-05-24T12:10:00Z']\n",
    "| dec              | Range of values | [2.03, 7.76]\n",
    "| exptime          | Range of values | [3603.46, 3810.12]\n",
    "| instrument       | List of allowed values<br>from [SPARCL Categoricals](https://astrosparcl.datalab.noirlab.edu/sparc/cats/) | ['SDSS', 'BOSS', 'DESI']\n",
    "| ra               | Range of values (may not<br>\"wrap\" around RA=0) | [44.53, 47.96]\n",
    "| redshift         | Range of values | [0.5, 0.9]\n",
    "| redshift_err     | Range of values | [0.000225, 0.000516]\n",
    "| redshift_warning | List of values  | [0, 3, 5]\n",
    "| sparcl_id               | List of values (but not<br>intended for data discovery) | ['00001658-460c-4da1-987d-e493d8c9b89b',<br>'000017b6-56a2-4f87-8828-3a3409ba1083']\n",
    "| site             | List of allowed values<br>from [SPARCL Categoricals](https://astrosparcl.datalab.noirlab.edu/sparc/cats/) |  ['apo', 'kpno']\n",
    "| specid           | List of values | [6988698046080241664, 6971782884823945216]\n",
    "| spectype         | List of allowed values<br>from [SPARCL Categoricals](https://astrosparcl.datalab.noirlab.edu/sparc/cats/) | ['GALAXY', 'STAR', 'QSO']\n",
    "| specprimary      | List of values (but typically<br>would only include 1 if<br>being used for data<br>discovery constraints) | [1]\n",
    "| targetid         | List of values | [1237679502171374316, 1237678619584692841]\n",
    "| telescope        | List of allowed values<br>from [SPARCL Categoricals](https://astrosparcl.datalab.noirlab.edu/sparc/cats/) | ['sloan25m', 'kp4m']\n",
    "| wavemin          | Range of values | [3607, 3608]\n",
    "| wavemax          | Range of values | [10363, 10364]"
   ]
  },
  {
   "cell_type": "code",
   "execution_count": 14,
   "id": "fe2e2df8",
   "metadata": {
    "tags": []
   },
   "outputs": [
    {
     "data": {
      "text/plain": [
       "\u001b[0;31mSignature:\u001b[0m\n",
       "\u001b[0mclient\u001b[0m\u001b[0;34m.\u001b[0m\u001b[0mfind\u001b[0m\u001b[0;34m(\u001b[0m\u001b[0;34m\u001b[0m\n",
       "\u001b[0;34m\u001b[0m    \u001b[0moutfields\u001b[0m\u001b[0;34m=\u001b[0m\u001b[0;32mNone\u001b[0m\u001b[0;34m,\u001b[0m\u001b[0;34m\u001b[0m\n",
       "\u001b[0;34m\u001b[0m    \u001b[0;34m*\u001b[0m\u001b[0;34m,\u001b[0m\u001b[0;34m\u001b[0m\n",
       "\u001b[0;34m\u001b[0m    \u001b[0mconstraints\u001b[0m\u001b[0;34m=\u001b[0m\u001b[0;34m{\u001b[0m\u001b[0;34m}\u001b[0m\u001b[0;34m,\u001b[0m\u001b[0;34m\u001b[0m\n",
       "\u001b[0;34m\u001b[0m    \u001b[0mlimit\u001b[0m\u001b[0;34m=\u001b[0m\u001b[0;36m500\u001b[0m\u001b[0;34m,\u001b[0m\u001b[0;34m\u001b[0m\n",
       "\u001b[0;34m\u001b[0m    \u001b[0msort\u001b[0m\u001b[0;34m=\u001b[0m\u001b[0;32mNone\u001b[0m\u001b[0;34m,\u001b[0m\u001b[0;34m\u001b[0m\n",
       "\u001b[0;34m\u001b[0m    \u001b[0mverbose\u001b[0m\u001b[0;34m=\u001b[0m\u001b[0;32mNone\u001b[0m\u001b[0;34m,\u001b[0m\u001b[0;34m\u001b[0m\n",
       "\u001b[0;34m\u001b[0m\u001b[0;34m)\u001b[0m\u001b[0;34m\u001b[0m\u001b[0;34m\u001b[0m\u001b[0m\n",
       "\u001b[0;31mDocstring:\u001b[0m\n",
       "Find records in the SPARC database.\n",
       "\n",
       "Args:\n",
       "    outfields (:obj:`list`, optional): List of fields to return.\n",
       "        Only CORE fields may be passed to this parameter.\n",
       "        Defaults to None, which will return only the sparcl_id\n",
       "        and _dr fields.\n",
       "\n",
       "    constraints (:obj:`dict`, optional): Key-Value pairs of\n",
       "        constraints to place on the record selection. The Key\n",
       "        part of the Key-Value pair is the field name and the\n",
       "        Value part of the Key-Value pair is a list of values.\n",
       "        Defaults to no constraints. This will return all records in the\n",
       "        database subject to restrictions imposed by the ``limit``\n",
       "        parameter.\n",
       "\n",
       "    limit (:obj:`int`, optional): Maximum number of records to\n",
       "        return. Defaults to 500.\n",
       "\n",
       "    sort (:obj:`list`, optional): Comma separated list of fields\n",
       "        to sort by. Defaults to None. (no sorting)\n",
       "\n",
       "    verbose (:obj:`bool`, optional): Set to True for in-depth return\n",
       "        statement. Defaults to False.\n",
       "\n",
       "Returns:\n",
       "    :class:`~sparcl.Results.Found`: Contains header and records.\n",
       "\n",
       "Example:\n",
       "    >>> client = SparclClient()\n",
       "    >>> outs = ['id', 'ra', 'dec']\n",
       "    >>> cons = {'spectype': ['GALAXY'], 'redshift': [0.5, 0.9]}\n",
       "    >>> found = client.find(outfields=outs, constraints=cons)\n",
       "    >>> sorted(list(found.records[0].keys()))\n",
       "    ['_dr', 'dec', 'id', 'ra']\n",
       "\u001b[0;31mFile:\u001b[0m      /home/jail/dlusers/ajacques/.local/lib/python3.8/site-packages/sparcl/client.py\n",
       "\u001b[0;31mType:\u001b[0m      method\n"
      ]
     },
     "metadata": {},
     "output_type": "display_data"
    }
   ],
   "source": [
    "client.find?"
   ]
  },
  {
   "cell_type": "markdown",
   "id": "2ecf1aa4",
   "metadata": {},
   "source": [
    "#### Define the fields we want returned (`outfields`) and the constraints (`constraints`):"
   ]
  },
  {
   "cell_type": "code",
   "execution_count": 15,
   "id": "f1a3fd21",
   "metadata": {
    "tags": []
   },
   "outputs": [],
   "source": [
    "out = ['sparcl_id', 'ra', 'dec', 'redshift', 'spectype', 'data_release', 'redshift_err']\n",
    "cons = {'spectype': ['GALAXY'],\n",
    "        'redshift': [0.5, 0.9]}"
   ]
  },
  {
   "cell_type": "markdown",
   "id": "c423b17d",
   "metadata": {},
   "source": [
    "#### Execute the `client.find()` method with our parameters:\n",
    "The `limit` argument here is being used for demonstration purposes only, and simply returns only the first 20 results here."
   ]
  },
  {
   "cell_type": "code",
   "execution_count": 16,
   "id": "c55933c2",
   "metadata": {
    "tags": []
   },
   "outputs": [
    {
     "data": {
      "text/plain": [
       "['00000f0b-07db-4234-892a-6e347db79c89, BOSS-DR16, 345.803810, 0.781320, 0.000203',\n",
       " '000028ab-9342-4884-9e25-941e98c97671, BOSS-DR16, 187.385010, 0.646126, 0.000220',\n",
       " '00004014-212e-43e6-9eb2-205e3be21759, BOSS-DR16, 119.189000, 0.553376, 0.000470',\n",
       " '0000403e-51da-43b0-a0e9-e806ea31ca9e, BOSS-DR16, 355.400840, 0.596648, 0.000362',\n",
       " '00004bb4-984e-4bf0-865c-29b135947b58, SDSS-DR16, 45.353743, 0.801205, 13.405861',\n",
       " '00005d85-beff-4b47-8360-420a554f6ae3, DESI-EDR, 225.936179, 0.818668, 0.000066',\n",
       " '000068f6-0491-418f-996b-6c6b838743a1, BOSS-DR16, 143.604520, 0.551550, 0.000152',\n",
       " '000097ff-817b-4490-83fc-5ba0e93569ec, BOSS-DR16, 114.816060, 0.605486, 0.000194',\n",
       " '00009fca-b03c-430c-8cd7-399314525ade, DESI-EDR, 218.161502, 0.843644, 0.000046',\n",
       " '0000a764-e886-43d7-896e-49652e31d812, BOSS-DR16, 126.480260, 0.649327, 0.000167',\n",
       " '0000ace8-a353-45b1-8f32-287069a27fa8, BOSS-DR16, 140.983180, 0.593962, 0.000173',\n",
       " '0000c61b-4b11-48d5-bd74-ed04d69a12bb, DESI-EDR, 270.676519, 0.695427, 0.000095',\n",
       " '0000c91c-2559-4273-98d6-01a095d6c24c, BOSS-DR16, 319.445140, 0.874038, 0.000283',\n",
       " '0000d4d8-629d-492e-ab18-870acab5a479, BOSS-DR16, 36.402419, 0.852906, 0.000044',\n",
       " '0000ef66-bcd4-4556-abfe-ddada2de1af1, BOSS-DR16, 359.991030, 0.776554, 0.000265',\n",
       " '0000f113-24f2-4f4c-b955-bfc9688fcbea, BOSS-DR16, 186.951350, 0.540572, 0.000173',\n",
       " '0000fabc-0e15-4d76-b44c-4f152f31de09, DESI-EDR, 240.679790, 0.825772, 0.000164',\n",
       " '0000fbac-3cc0-4b54-bbe0-f9dbd9a67d1c, BOSS-DR16, 201.866740, 0.561171, 0.052953',\n",
       " '0000fc09-daa3-44a4-9840-0721aacd4464, BOSS-DR16, 342.654480, 0.784539, 0.000531',\n",
       " '00010af9-95c6-49b2-827f-f45ad6d546fb, BOSS-DR16, 251.973560, 0.598801, 0.000312']"
      ]
     },
     "execution_count": 16,
     "metadata": {},
     "output_type": "execute_result"
    }
   ],
   "source": [
    "found_I = client.find(outfields=out, constraints=cons, limit=20)\n",
    "[\"%s, %s, %f, %f, %f\" % (f.sparcl_id, f.data_release, f.ra, f.redshift, f.redshift_err)\n",
    " for f in found_I.records]"
   ]
  },
  {
   "cell_type": "markdown",
   "id": "b8118bcc",
   "metadata": {},
   "source": [
    "<a class=\"anchor\" id=\"datadiscoveryII\"></a>\n",
    "## Data discovery II: using Data Lab's `sparcl.main` table\n",
    "The second way you can discover your data is by querying the `sparcl.main` table hosted at Astro Data Lab. This table contains the following columns:\n"
   ]
  },
  {
   "cell_type": "code",
   "execution_count": 17,
   "id": "95acdae6",
   "metadata": {
    "tags": []
   },
   "outputs": [
    {
     "name": "stdout",
     "output_type": "stream",
     "text": [
      "\n",
      "Schema: sparcl\n",
      " Table: main\n",
      "\n",
      "     Column Name   Description\n",
      "     -----------   -----------\n",
      "            elon   Ecliptic longitude\n",
      "            elat   Ecliptic latitude\n",
      "            glon   Galactic longitude\n",
      "            glat   Galactic latitude\n",
      "        redshift   Observed redshift, or radial velocity in units of redshift\n",
      "              ra   Right Ascension in degrees\n",
      "             dec   Declination in degrees\n",
      "         wavemin   Minimum value of wavelength coverage\n",
      "         wavemax   Maximum value of wavelength coverage\n",
      "    redshift_err   Uncertainty on the observed redshift, or radial velocity i\n",
      "                   n units of redshift\n",
      "        targetid   Dataset-specific photometric target identifier\n",
      "          specid   Dataset-specific spectrum identifier (may not be unique)\n",
      "         exptime   Exposure time in seconds\n",
      "       random_id   Random ID in the range 0 to 100 (decimal)\n",
      "            htm9   HTM Level-9 index\n",
      "         ring256   Healpix ID with nside 256, ring schema\n",
      "        nest4096   Healpix ID with nside 4096, nested schema\n",
      "redshift_warning   Bitmask with warning on redshift result\n",
      "     specprimary   Whether an entry is the primary spectrum for a given targe\n",
      "                   t object\n",
      "    datasetgroup   Human-readable common name for a coherent set of spectra t\n",
      "                   hat go together\n",
      "        spectype   Spectral type of the object (STAR, GALAXY, QSO)\n",
      "      instrument   Instrument used for observation\n",
      "       sparcl_id   Universally Unique Identifier for spectrum in SPARCL\n",
      "       telescope   Telescope used for the observation\n",
      "            site   Site of observations\n",
      "    data_release   Data release of a given record\n",
      "  dateobs_center   Central value of the dateobs range\n",
      "\n"
     ]
    }
   ],
   "source": [
    "print(qc.schema('sparcl.main'))"
   ]
  },
  {
   "cell_type": "markdown",
   "id": "45ce3dc4",
   "metadata": {},
   "source": [
    "#### Query this table for a few rows of data:"
   ]
  },
  {
   "cell_type": "code",
   "execution_count": 18,
   "id": "9f4dba5b",
   "metadata": {
    "tags": []
   },
   "outputs": [
    {
     "data": {
      "text/html": [
       "<div>\n",
       "<style scoped>\n",
       "    .dataframe tbody tr th:only-of-type {\n",
       "        vertical-align: middle;\n",
       "    }\n",
       "\n",
       "    .dataframe tbody tr th {\n",
       "        vertical-align: top;\n",
       "    }\n",
       "\n",
       "    .dataframe thead th {\n",
       "        text-align: right;\n",
       "    }\n",
       "</style>\n",
       "<table border=\"1\" class=\"dataframe\">\n",
       "  <thead>\n",
       "    <tr style=\"text-align: right;\">\n",
       "      <th></th>\n",
       "      <th>sparcl_id</th>\n",
       "      <th>specid</th>\n",
       "      <th>ra</th>\n",
       "      <th>dec</th>\n",
       "      <th>redshift</th>\n",
       "      <th>spectype</th>\n",
       "      <th>data_release</th>\n",
       "      <th>redshift_err</th>\n",
       "    </tr>\n",
       "  </thead>\n",
       "  <tbody>\n",
       "    <tr>\n",
       "      <th>0</th>\n",
       "      <td>3b29f567-1055-4b39-b663-b706d092018b</td>\n",
       "      <td>39633362113006792</td>\n",
       "      <td>186.544201</td>\n",
       "      <td>58.079354</td>\n",
       "      <td>0.756834</td>\n",
       "      <td>GALAXY</td>\n",
       "      <td>DESI-EDR</td>\n",
       "      <td>0.000254</td>\n",
       "    </tr>\n",
       "    <tr>\n",
       "      <th>1</th>\n",
       "      <td>243dadcf-45f0-4a51-a14d-26e87e7f3d44</td>\n",
       "      <td>7212677912033775616</td>\n",
       "      <td>175.449270</td>\n",
       "      <td>29.187199</td>\n",
       "      <td>0.601224</td>\n",
       "      <td>GALAXY</td>\n",
       "      <td>BOSS-DR16</td>\n",
       "      <td>0.000190</td>\n",
       "    </tr>\n",
       "    <tr>\n",
       "      <th>2</th>\n",
       "      <td>0ead266b-9035-45b2-9e2b-65602d3dbcbb</td>\n",
       "      <td>39633336225762466</td>\n",
       "      <td>244.510711</td>\n",
       "      <td>55.947145</td>\n",
       "      <td>0.897370</td>\n",
       "      <td>GALAXY</td>\n",
       "      <td>DESI-EDR</td>\n",
       "      <td>0.000051</td>\n",
       "    </tr>\n",
       "    <tr>\n",
       "      <th>3</th>\n",
       "      <td>ca44ef96-3c85-44f7-ad57-8f492ee9f9dc</td>\n",
       "      <td>4359676944125808640</td>\n",
       "      <td>226.906400</td>\n",
       "      <td>27.700115</td>\n",
       "      <td>0.586425</td>\n",
       "      <td>GALAXY</td>\n",
       "      <td>BOSS-DR16</td>\n",
       "      <td>0.000127</td>\n",
       "    </tr>\n",
       "    <tr>\n",
       "      <th>4</th>\n",
       "      <td>bad626dc-9594-439b-9cb0-4293e2feff01</td>\n",
       "      <td>7339773213826895872</td>\n",
       "      <td>354.241130</td>\n",
       "      <td>23.119121</td>\n",
       "      <td>0.561832</td>\n",
       "      <td>GALAXY</td>\n",
       "      <td>BOSS-DR16</td>\n",
       "      <td>0.000139</td>\n",
       "    </tr>\n",
       "    <tr>\n",
       "      <th>5</th>\n",
       "      <td>91c16121-081a-48be-8087-1d8ba9a1f195</td>\n",
       "      <td>-5932244695398461440</td>\n",
       "      <td>130.339720</td>\n",
       "      <td>23.332932</td>\n",
       "      <td>0.760394</td>\n",
       "      <td>GALAXY</td>\n",
       "      <td>BOSS-DR16</td>\n",
       "      <td>0.000327</td>\n",
       "    </tr>\n",
       "    <tr>\n",
       "      <th>6</th>\n",
       "      <td>be682545-2449-44ff-95fb-79e4652bb122</td>\n",
       "      <td>8236037370425921536</td>\n",
       "      <td>140.886370</td>\n",
       "      <td>45.331110</td>\n",
       "      <td>0.742898</td>\n",
       "      <td>GALAXY</td>\n",
       "      <td>BOSS-DR16</td>\n",
       "      <td>0.000313</td>\n",
       "    </tr>\n",
       "    <tr>\n",
       "      <th>7</th>\n",
       "      <td>558bf4a9-c1e1-4d9f-911d-0b1f080b2a9d</td>\n",
       "      <td>4588221155694104576</td>\n",
       "      <td>248.987600</td>\n",
       "      <td>12.182613</td>\n",
       "      <td>0.564688</td>\n",
       "      <td>GALAXY</td>\n",
       "      <td>BOSS-DR16</td>\n",
       "      <td>0.000143</td>\n",
       "    </tr>\n",
       "    <tr>\n",
       "      <th>8</th>\n",
       "      <td>f4d7a6ba-7c3f-4cfe-a973-940cd833a2ec</td>\n",
       "      <td>39627806514089017</td>\n",
       "      <td>218.649434</td>\n",
       "      <td>0.804283</td>\n",
       "      <td>0.501564</td>\n",
       "      <td>GALAXY</td>\n",
       "      <td>DESI-EDR</td>\n",
       "      <td>0.000084</td>\n",
       "    </tr>\n",
       "    <tr>\n",
       "      <th>9</th>\n",
       "      <td>598bdad2-65d3-4db5-a32a-0f3f33b47afb</td>\n",
       "      <td>4534117491673419776</td>\n",
       "      <td>215.099070</td>\n",
       "      <td>1.640142</td>\n",
       "      <td>0.582006</td>\n",
       "      <td>GALAXY</td>\n",
       "      <td>BOSS-DR16</td>\n",
       "      <td>0.000148</td>\n",
       "    </tr>\n",
       "    <tr>\n",
       "      <th>10</th>\n",
       "      <td>945f2f07-4e1b-40da-8ef7-9309ceba9198</td>\n",
       "      <td>4610814472810156032</td>\n",
       "      <td>329.640650</td>\n",
       "      <td>10.382330</td>\n",
       "      <td>0.577963</td>\n",
       "      <td>GALAXY</td>\n",
       "      <td>BOSS-DR16</td>\n",
       "      <td>0.000211</td>\n",
       "    </tr>\n",
       "    <tr>\n",
       "      <th>11</th>\n",
       "      <td>b31af1c7-7cc5-40bf-b1f8-10dbbce3ecda</td>\n",
       "      <td>-7823704593781207040</td>\n",
       "      <td>17.836232</td>\n",
       "      <td>4.892705</td>\n",
       "      <td>0.655352</td>\n",
       "      <td>GALAXY</td>\n",
       "      <td>BOSS-DR16</td>\n",
       "      <td>0.000205</td>\n",
       "    </tr>\n",
       "    <tr>\n",
       "      <th>12</th>\n",
       "      <td>b7d10649-0c50-41d9-ba55-b871bf238803</td>\n",
       "      <td>4797602257016475648</td>\n",
       "      <td>38.838872</td>\n",
       "      <td>2.253736</td>\n",
       "      <td>0.592667</td>\n",
       "      <td>GALAXY</td>\n",
       "      <td>BOSS-DR16</td>\n",
       "      <td>0.000226</td>\n",
       "    </tr>\n",
       "    <tr>\n",
       "      <th>13</th>\n",
       "      <td>c4347e53-5b13-4160-8b96-81bbb570d879</td>\n",
       "      <td>-6172176276500754432</td>\n",
       "      <td>258.091030</td>\n",
       "      <td>34.339787</td>\n",
       "      <td>0.802843</td>\n",
       "      <td>GALAXY</td>\n",
       "      <td>BOSS-DR16</td>\n",
       "      <td>0.000304</td>\n",
       "    </tr>\n",
       "    <tr>\n",
       "      <th>14</th>\n",
       "      <td>5086720c-6bf8-473b-91d0-a7edad967f38</td>\n",
       "      <td>-6009901554346995712</td>\n",
       "      <td>8.343883</td>\n",
       "      <td>7.971399</td>\n",
       "      <td>0.598524</td>\n",
       "      <td>GALAXY</td>\n",
       "      <td>BOSS-DR16</td>\n",
       "      <td>0.000239</td>\n",
       "    </tr>\n",
       "    <tr>\n",
       "      <th>15</th>\n",
       "      <td>4444f85d-6ea2-4251-8c77-76af349e1687</td>\n",
       "      <td>5285152928134615040</td>\n",
       "      <td>148.524450</td>\n",
       "      <td>45.922814</td>\n",
       "      <td>0.629961</td>\n",
       "      <td>GALAXY</td>\n",
       "      <td>BOSS-DR16</td>\n",
       "      <td>0.000219</td>\n",
       "    </tr>\n",
       "    <tr>\n",
       "      <th>16</th>\n",
       "      <td>35b951ae-ff0c-4f12-8d02-f2ad5d0e4b3b</td>\n",
       "      <td>-7828249150317375488</td>\n",
       "      <td>13.962220</td>\n",
       "      <td>3.562061</td>\n",
       "      <td>0.660534</td>\n",
       "      <td>GALAXY</td>\n",
       "      <td>BOSS-DR16</td>\n",
       "      <td>0.000171</td>\n",
       "    </tr>\n",
       "    <tr>\n",
       "      <th>17</th>\n",
       "      <td>8806b33c-6fe5-4c0b-b947-595c6278b1cb</td>\n",
       "      <td>39633112627417205</td>\n",
       "      <td>112.906459</td>\n",
       "      <td>41.999050</td>\n",
       "      <td>0.706524</td>\n",
       "      <td>GALAXY</td>\n",
       "      <td>DESI-EDR</td>\n",
       "      <td>0.000055</td>\n",
       "    </tr>\n",
       "    <tr>\n",
       "      <th>18</th>\n",
       "      <td>3352ccba-ed4b-465a-a989-5be2f4c2b887</td>\n",
       "      <td>39627752092991638</td>\n",
       "      <td>214.756322</td>\n",
       "      <td>-1.387538</td>\n",
       "      <td>0.530711</td>\n",
       "      <td>GALAXY</td>\n",
       "      <td>DESI-EDR</td>\n",
       "      <td>0.000117</td>\n",
       "    </tr>\n",
       "    <tr>\n",
       "      <th>19</th>\n",
       "      <td>4c6f1054-9f31-4ec6-9c2b-c43090443a0c</td>\n",
       "      <td>39633145301042813</td>\n",
       "      <td>242.222440</td>\n",
       "      <td>43.727073</td>\n",
       "      <td>0.867532</td>\n",
       "      <td>GALAXY</td>\n",
       "      <td>DESI-EDR</td>\n",
       "      <td>0.000118</td>\n",
       "    </tr>\n",
       "  </tbody>\n",
       "</table>\n",
       "</div>"
      ],
      "text/plain": [
       "                               sparcl_id               specid          ra  \\\n",
       "0   3b29f567-1055-4b39-b663-b706d092018b    39633362113006792  186.544201   \n",
       "1   243dadcf-45f0-4a51-a14d-26e87e7f3d44  7212677912033775616  175.449270   \n",
       "2   0ead266b-9035-45b2-9e2b-65602d3dbcbb    39633336225762466  244.510711   \n",
       "3   ca44ef96-3c85-44f7-ad57-8f492ee9f9dc  4359676944125808640  226.906400   \n",
       "4   bad626dc-9594-439b-9cb0-4293e2feff01  7339773213826895872  354.241130   \n",
       "5   91c16121-081a-48be-8087-1d8ba9a1f195 -5932244695398461440  130.339720   \n",
       "6   be682545-2449-44ff-95fb-79e4652bb122  8236037370425921536  140.886370   \n",
       "7   558bf4a9-c1e1-4d9f-911d-0b1f080b2a9d  4588221155694104576  248.987600   \n",
       "8   f4d7a6ba-7c3f-4cfe-a973-940cd833a2ec    39627806514089017  218.649434   \n",
       "9   598bdad2-65d3-4db5-a32a-0f3f33b47afb  4534117491673419776  215.099070   \n",
       "10  945f2f07-4e1b-40da-8ef7-9309ceba9198  4610814472810156032  329.640650   \n",
       "11  b31af1c7-7cc5-40bf-b1f8-10dbbce3ecda -7823704593781207040   17.836232   \n",
       "12  b7d10649-0c50-41d9-ba55-b871bf238803  4797602257016475648   38.838872   \n",
       "13  c4347e53-5b13-4160-8b96-81bbb570d879 -6172176276500754432  258.091030   \n",
       "14  5086720c-6bf8-473b-91d0-a7edad967f38 -6009901554346995712    8.343883   \n",
       "15  4444f85d-6ea2-4251-8c77-76af349e1687  5285152928134615040  148.524450   \n",
       "16  35b951ae-ff0c-4f12-8d02-f2ad5d0e4b3b -7828249150317375488   13.962220   \n",
       "17  8806b33c-6fe5-4c0b-b947-595c6278b1cb    39633112627417205  112.906459   \n",
       "18  3352ccba-ed4b-465a-a989-5be2f4c2b887    39627752092991638  214.756322   \n",
       "19  4c6f1054-9f31-4ec6-9c2b-c43090443a0c    39633145301042813  242.222440   \n",
       "\n",
       "          dec  redshift spectype data_release  redshift_err  \n",
       "0   58.079354  0.756834   GALAXY     DESI-EDR      0.000254  \n",
       "1   29.187199  0.601224   GALAXY    BOSS-DR16      0.000190  \n",
       "2   55.947145  0.897370   GALAXY     DESI-EDR      0.000051  \n",
       "3   27.700115  0.586425   GALAXY    BOSS-DR16      0.000127  \n",
       "4   23.119121  0.561832   GALAXY    BOSS-DR16      0.000139  \n",
       "5   23.332932  0.760394   GALAXY    BOSS-DR16      0.000327  \n",
       "6   45.331110  0.742898   GALAXY    BOSS-DR16      0.000313  \n",
       "7   12.182613  0.564688   GALAXY    BOSS-DR16      0.000143  \n",
       "8    0.804283  0.501564   GALAXY     DESI-EDR      0.000084  \n",
       "9    1.640142  0.582006   GALAXY    BOSS-DR16      0.000148  \n",
       "10  10.382330  0.577963   GALAXY    BOSS-DR16      0.000211  \n",
       "11   4.892705  0.655352   GALAXY    BOSS-DR16      0.000205  \n",
       "12   2.253736  0.592667   GALAXY    BOSS-DR16      0.000226  \n",
       "13  34.339787  0.802843   GALAXY    BOSS-DR16      0.000304  \n",
       "14   7.971399  0.598524   GALAXY    BOSS-DR16      0.000239  \n",
       "15  45.922814  0.629961   GALAXY    BOSS-DR16      0.000219  \n",
       "16   3.562061  0.660534   GALAXY    BOSS-DR16      0.000171  \n",
       "17  41.999050  0.706524   GALAXY     DESI-EDR      0.000055  \n",
       "18  -1.387538  0.530711   GALAXY     DESI-EDR      0.000117  \n",
       "19  43.727073  0.867532   GALAXY     DESI-EDR      0.000118  "
      ]
     },
     "execution_count": 18,
     "metadata": {},
     "output_type": "execute_result"
    }
   ],
   "source": [
    "q = \"\"\"SELECT \n",
    "            sparcl_id, specid, ra, dec, redshift, spectype, data_release, redshift_err\n",
    "        FROM \n",
    "            sparcl.main\n",
    "        WHERE \n",
    "            spectype='GALAXY'\n",
    "            AND redshift>=0.5 AND redshift<=0.9\n",
    "            AND random_id BETWEEN 15.1 AND 15.4\n",
    "        LIMIT 20\n",
    "    \"\"\"\n",
    "found_II = qc.query(sql=q, fmt='pandas')  # output as Pandas DataFrame\n",
    "found_II"
   ]
  },
  {
   "cell_type": "markdown",
   "id": "7cd77794-e1e5-4005-8cdf-97072a5e0e0b",
   "metadata": {
    "tags": []
   },
   "source": [
    "<a class=\"anchor\" id=\"retrieve\"></a>\n",
    "## Retrieve records by `sparcl_id` using `client.retrieve()`\n",
    "In order to retrieve spectra records from SPARCL by `sparcl_id`, pass the following to the `client.retrieve()` method:\n",
    "\n",
    "`uuid_list` : List of SPARCL IDs.  \n",
    "`dataset_list` : List of data sets to search for the SPARCL IDs in (default: None, which will search all available data sets).  \n",
    "`include` : List of field names to include in each record (default: 'DEFAULT').  \n",
    "`limit` : Maximum number of records to return (default: 500). Max allowed is 24,000.\n",
    "\n",
    "\n",
    "**NOTE: A reasonable amount of records to request retrieval of is about 10,000. Exceeding this value may cause the retrieval to timeout or fail.**"
   ]
  },
  {
   "cell_type": "code",
   "execution_count": 19,
   "id": "0c271a02",
   "metadata": {
    "tags": []
   },
   "outputs": [
    {
     "data": {
      "text/plain": [
       "\u001b[0;31mSignature:\u001b[0m\n",
       "\u001b[0mclient\u001b[0m\u001b[0;34m.\u001b[0m\u001b[0mretrieve\u001b[0m\u001b[0;34m(\u001b[0m\u001b[0;34m\u001b[0m\n",
       "\u001b[0;34m\u001b[0m    \u001b[0muuid_list\u001b[0m\u001b[0;34m,\u001b[0m\u001b[0;34m\u001b[0m\n",
       "\u001b[0;34m\u001b[0m    \u001b[0;34m*\u001b[0m\u001b[0;34m,\u001b[0m\u001b[0;34m\u001b[0m\n",
       "\u001b[0;34m\u001b[0m    \u001b[0msvc\u001b[0m\u001b[0;34m=\u001b[0m\u001b[0;34m'spectras'\u001b[0m\u001b[0;34m,\u001b[0m\u001b[0;34m\u001b[0m\n",
       "\u001b[0;34m\u001b[0m    \u001b[0mformat\u001b[0m\u001b[0;34m=\u001b[0m\u001b[0;34m'pkl'\u001b[0m\u001b[0;34m,\u001b[0m\u001b[0;34m\u001b[0m\n",
       "\u001b[0;34m\u001b[0m    \u001b[0minclude\u001b[0m\u001b[0;34m=\u001b[0m\u001b[0;34m'DEFAULT'\u001b[0m\u001b[0;34m,\u001b[0m\u001b[0;34m\u001b[0m\n",
       "\u001b[0;34m\u001b[0m    \u001b[0mdataset_list\u001b[0m\u001b[0;34m=\u001b[0m\u001b[0;32mNone\u001b[0m\u001b[0;34m,\u001b[0m\u001b[0;34m\u001b[0m\n",
       "\u001b[0;34m\u001b[0m    \u001b[0mlimit\u001b[0m\u001b[0;34m=\u001b[0m\u001b[0;36m500\u001b[0m\u001b[0;34m,\u001b[0m\u001b[0;34m\u001b[0m\n",
       "\u001b[0;34m\u001b[0m    \u001b[0mchunk\u001b[0m\u001b[0;34m=\u001b[0m\u001b[0;36m500\u001b[0m\u001b[0;34m,\u001b[0m\u001b[0;34m\u001b[0m\n",
       "\u001b[0;34m\u001b[0m    \u001b[0mverbose\u001b[0m\u001b[0;34m=\u001b[0m\u001b[0;32mNone\u001b[0m\u001b[0;34m,\u001b[0m\u001b[0;34m\u001b[0m\n",
       "\u001b[0;34m\u001b[0m\u001b[0;34m)\u001b[0m\u001b[0;34m\u001b[0m\u001b[0;34m\u001b[0m\u001b[0m\n",
       "\u001b[0;31mDocstring:\u001b[0m\n",
       "Retrieve spectra records from the SPARC database by list of\n",
       "sparcl_ids.\n",
       "\n",
       "Args:\n",
       "    uuid_list (:obj:`list`): List of sparcl_ids.\n",
       "\n",
       "    svc (:obj:`str`, optional): Defaults to 'spectras'.\n",
       "\n",
       "    format (:obj:`str`, optional): Defaults to 'pkl'.\n",
       "\n",
       "    include (:obj:`list`, optional): List of field names to include\n",
       "        in each record. Defaults to 'DEFAULT', which will return\n",
       "        the fields tagged as 'default'.\n",
       "\n",
       "    dataset_list (:obj:`list`, optional): List of data sets from\n",
       "        which to retrieve spectra data. Defaults to None, meaning all\n",
       "        data sets hosted on the SPARC database.\n",
       "\n",
       "    limit (:obj:`int`, optional): Maximum number of records to\n",
       "        return. Defaults to 500.\n",
       "\n",
       "    chunk (:obj:`int`, optional): Size of chunks to break list into.\n",
       "        Defaults to 500.\n",
       "\n",
       "    verbose (:obj:`bool`, optional): Set to True for in-depth return\n",
       "        statement. Defaults to False.\n",
       "\n",
       "Returns:\n",
       "    :class:`~sparcl.Results.Retrieved`: Contains header and records.\n",
       "\n",
       "Example:\n",
       "    >>> client = SparclClient()\n",
       "    >>> ids = ['000017b6-56a2-4f87-8828-3a3409ba1083',]\n",
       "    >>> inc = ['id', 'flux', 'wavelength', 'model']\n",
       "    >>> ret = client.retrieve(uuid_list=ids, include=inc)\n",
       "    >>> type(ret.records[0].wavelength)\n",
       "    <class 'numpy.ndarray'>\n",
       "\u001b[0;31mFile:\u001b[0m      /home/jail/dlusers/ajacques/.local/lib/python3.8/site-packages/sparcl/client.py\n",
       "\u001b[0;31mType:\u001b[0m      method\n"
      ]
     },
     "metadata": {},
     "output_type": "display_data"
    }
   ],
   "source": [
    "client.retrieve?"
   ]
  },
  {
   "cell_type": "markdown",
   "id": "40036a51",
   "metadata": {},
   "source": [
    "#### Use the sparcl_ids from the output of using `client.find()` to retrieve records from SPARCL:\n",
    "Note that `ids` in `found_I.ids` is a property name of the Found class. It is a list of records from all records, not a field name of a record."
   ]
  },
  {
   "cell_type": "code",
   "execution_count": 20,
   "id": "c93923fb",
   "metadata": {
    "tags": []
   },
   "outputs": [],
   "source": [
    "# Define the fields to include in the retrieve function\n",
    "inc = ['sparcl_id', 'specid', 'data_release', 'redshift', 'flux',\n",
    "       'wavelength', 'model', 'ivar', 'mask', 'spectype', 'ra', 'dec']"
   ]
  },
  {
   "cell_type": "code",
   "execution_count": 21,
   "id": "1b86047a",
   "metadata": {
    "tags": []
   },
   "outputs": [
    {
     "name": "stdout",
     "output_type": "stream",
     "text": [
      "CPU times: user 38.4 ms, sys: 21.5 ms, total: 59.9 ms\n",
      "Wall time: 742 ms\n"
     ]
    },
    {
     "data": {
      "text/plain": [
       "{'status': {'success': True,\n",
       "  'info': [\"Successfully found 20 records in dr_list=['SDSS-DR16', 'BOSS-DR16', 'DESI-EDR']\"],\n",
       "  'warnings': []}}"
      ]
     },
     "execution_count": 21,
     "metadata": {},
     "output_type": "execute_result"
    }
   ],
   "source": [
    "%%time\n",
    "ids_I = found_I.ids\n",
    "results_I = client.retrieve(uuid_list=ids_I, include=inc)\n",
    "results_I.info"
   ]
  },
  {
   "cell_type": "markdown",
   "id": "316c6f45",
   "metadata": {},
   "source": [
    "<a class=\"anchor\" id=\"retrieve_specid\"></a>\n",
    "## Retrieve records by `specid` using `client.retrieve_by_specid()`\n",
    "In order to retrieve spectra records from SPARCL by `specid`, pass the following to the `client.retrieve_by_specid()` method:\n",
    "\n",
    "`specid_list` : List of specIDs.  \n",
    "`dataset_list` : List of data sets to search for the specIDs in (default: None, which will search all available data sets).  \n",
    "`include` : List of field names to include in each record (default: 'DEFAULT').  \n",
    "`limit` : Maximum number of records to return (default: 500). Max allowed is 24,000.\n",
    "\n",
    "\n",
    "**NOTE: A reasonable amount of records to request retrieval of is about 10,000. Exceeding this value may cause the retrieval to timeout or fail.**"
   ]
  },
  {
   "cell_type": "code",
   "execution_count": 22,
   "id": "743a19b8",
   "metadata": {
    "tags": []
   },
   "outputs": [
    {
     "data": {
      "text/plain": [
       "\u001b[0;31mSignature:\u001b[0m\n",
       "\u001b[0mclient\u001b[0m\u001b[0;34m.\u001b[0m\u001b[0mretrieve_by_specid\u001b[0m\u001b[0;34m(\u001b[0m\u001b[0;34m\u001b[0m\n",
       "\u001b[0;34m\u001b[0m    \u001b[0mspecid_list\u001b[0m\u001b[0;34m,\u001b[0m\u001b[0;34m\u001b[0m\n",
       "\u001b[0;34m\u001b[0m    \u001b[0;34m*\u001b[0m\u001b[0;34m,\u001b[0m\u001b[0;34m\u001b[0m\n",
       "\u001b[0;34m\u001b[0m    \u001b[0msvc\u001b[0m\u001b[0;34m=\u001b[0m\u001b[0;34m'spectras'\u001b[0m\u001b[0;34m,\u001b[0m\u001b[0;34m\u001b[0m\n",
       "\u001b[0;34m\u001b[0m    \u001b[0mformat\u001b[0m\u001b[0;34m=\u001b[0m\u001b[0;34m'pkl'\u001b[0m\u001b[0;34m,\u001b[0m\u001b[0;34m\u001b[0m\n",
       "\u001b[0;34m\u001b[0m    \u001b[0minclude\u001b[0m\u001b[0;34m=\u001b[0m\u001b[0;34m'DEFAULT'\u001b[0m\u001b[0;34m,\u001b[0m\u001b[0;34m\u001b[0m\n",
       "\u001b[0;34m\u001b[0m    \u001b[0mdataset_list\u001b[0m\u001b[0;34m=\u001b[0m\u001b[0;32mNone\u001b[0m\u001b[0;34m,\u001b[0m\u001b[0;34m\u001b[0m\n",
       "\u001b[0;34m\u001b[0m    \u001b[0mlimit\u001b[0m\u001b[0;34m=\u001b[0m\u001b[0;36m500\u001b[0m\u001b[0;34m,\u001b[0m\u001b[0;34m\u001b[0m\n",
       "\u001b[0;34m\u001b[0m    \u001b[0mverbose\u001b[0m\u001b[0;34m=\u001b[0m\u001b[0;32mFalse\u001b[0m\u001b[0;34m,\u001b[0m\u001b[0;34m\u001b[0m\n",
       "\u001b[0;34m\u001b[0m\u001b[0;34m)\u001b[0m\u001b[0;34m\u001b[0m\u001b[0;34m\u001b[0m\u001b[0m\n",
       "\u001b[0;31mDocstring:\u001b[0m\n",
       "Retrieve spectra records from the SPARC database by list of specids.\n",
       "\n",
       "Args:\n",
       "    specid_list (:obj:`list`): List of specids.\n",
       "\n",
       "    include (:obj:`list`, optional): List of field names to include\n",
       "        in each record. Defaults to 'DEFAULT', which will return\n",
       "        the fields tagged as 'default'.\n",
       "\n",
       "    dataset_list (:obj:`list`, optional): List of data sets from\n",
       "        which to retrieve spectra data. Defaults to None, meaning all\n",
       "        data sets hosted on the SPARC database.\n",
       "\n",
       "    verbose (:obj:`bool`, optional): Set to True for in-depth return\n",
       "        statement. Defaults to False.\n",
       "\n",
       "Returns:\n",
       "    :class:`~sparcl.Results.Retrieved`: Contains header and records.\n",
       "\n",
       "Example:\n",
       "    >>> client = SparclClient()\n",
       "    >>> sids = [5840097619402313728, -8985592895187431424]\n",
       "    >>> inc = ['specid', 'flux', 'wavelength', 'model']\n",
       "    >>> ret = client.retrieve_by_specid(specid_list=sids, include=inc)\n",
       "    >>> len(ret.records[0].wavelength)\n",
       "    4617\n",
       "\u001b[0;31mFile:\u001b[0m      /home/jail/dlusers/ajacques/.local/lib/python3.8/site-packages/sparcl/client.py\n",
       "\u001b[0;31mType:\u001b[0m      method\n"
      ]
     },
     "metadata": {},
     "output_type": "display_data"
    }
   ],
   "source": [
    "client.retrieve_by_specid?"
   ]
  },
  {
   "cell_type": "markdown",
   "id": "3f73a2d7",
   "metadata": {},
   "source": [
    "#### Use the specIDs from the `sparcl.main` table to retrieve records from SPARCL:\n",
    "We first need to convert the Pandas Series of specIDs into an int list to work with SPARCL. Then we can pass the int list to the `client.retrieve_by_specid()` method."
   ]
  },
  {
   "cell_type": "code",
   "execution_count": 23,
   "id": "aa1cb379-a8b4-40ce-a8c1-e9cddffb8540",
   "metadata": {
    "tags": []
   },
   "outputs": [],
   "source": [
    "specids = [int(s) for s in found_II.specid]"
   ]
  },
  {
   "cell_type": "code",
   "execution_count": 24,
   "id": "b751a29e",
   "metadata": {
    "tags": []
   },
   "outputs": [
    {
     "name": "stdout",
     "output_type": "stream",
     "text": [
      "CPU times: user 57.7 ms, sys: 26.8 ms, total: 84.5 ms\n",
      "Wall time: 834 ms\n"
     ]
    },
    {
     "data": {
      "text/plain": [
       "{'status': {'success': True,\n",
       "  'info': [\"Successfully found 21 records in dr_list=['SDSS-DR16', 'BOSS-DR16', 'DESI-EDR']\"],\n",
       "  'warnings': []}}"
      ]
     },
     "execution_count": 24,
     "metadata": {},
     "output_type": "execute_result"
    }
   ],
   "source": [
    "%%time\n",
    "results_II = client.retrieve_by_specid(specid_list=specids, include=inc)\n",
    "results_II.info"
   ]
  },
  {
   "cell_type": "markdown",
   "id": "96da932f",
   "metadata": {},
   "source": [
    "<a class=\"anchor\" id=\"reorder\"></a>\n",
    "## Reorder spectrum records\n",
    "The ordering of the results of `client.retrieve()` is not necessarily sorted to match the order of the IDs in the argument passed to the method. The `reorder()` method will reorder the retrieved results to be in the same order as the original list of IDs passed to `client.retrieve()`.\n",
    "\n",
    "##### Reorder SPARCL IDs:"
   ]
  },
  {
   "cell_type": "code",
   "execution_count": 25,
   "id": "0b59b31a",
   "metadata": {
    "tags": []
   },
   "outputs": [
    {
     "name": "stdout",
     "output_type": "stream",
     "text": [
      "Order of SPARCL IDs originally:\n",
      "['243dadcf-45f0-4a51-a14d-26e87e7f3d44', '0ead266b-9035-45b2-9e2b-65602d3dbcbb', 'ca44ef96-3c85-44f7-ad57-8f492ee9f9dc']\n",
      "\n",
      "Order of SPARCL IDs after passing to retrieve():\n",
      "['0ead266b-9035-45b2-9e2b-65602d3dbcbb', '243dadcf-45f0-4a51-a14d-26e87e7f3d44', 'ca44ef96-3c85-44f7-ad57-8f492ee9f9dc']\n",
      "\n",
      "Use reorder() to obtain original order of SPARCL IDs:\n",
      "['243dadcf-45f0-4a51-a14d-26e87e7f3d44', '0ead266b-9035-45b2-9e2b-65602d3dbcbb', 'ca44ef96-3c85-44f7-ad57-8f492ee9f9dc']\n"
     ]
    }
   ],
   "source": [
    "ids_II = list(found_II.sparcl_id[1:4])\n",
    "print(f\"Order of SPARCL IDs originally:\\n{ids_II}\\n\")\n",
    "\n",
    "res = client.retrieve(uuid_list=ids_II)\n",
    "res_ids = [f.sparcl_id for f in res.records]\n",
    "print(f\"Order of SPARCL IDs after passing to retrieve():\\n{res_ids}\\n\")\n",
    "\n",
    "res_reordered = res.reorder(ids_II)\n",
    "res_reordered_ids = [f.sparcl_id for f in res_reordered.records]\n",
    "print(f\"Use reorder() to obtain original order of SPARCL IDs:\\n{res_reordered_ids}\")"
   ]
  },
  {
   "cell_type": "markdown",
   "id": "3332ef24",
   "metadata": {},
   "source": [
    "<a class=\"anchor\" id=\"access\"></a>\n",
    "## Access fields in records\n",
    "You can access the fields from records by using dot notation and dictionary indexing."
   ]
  },
  {
   "cell_type": "markdown",
   "id": "81856081",
   "metadata": {},
   "source": [
    "#### Accessing a record from our example using `client.find()` and `client.retrieve()`:"
   ]
  },
  {
   "cell_type": "code",
   "execution_count": 26,
   "id": "869c4f66",
   "metadata": {
    "tags": []
   },
   "outputs": [],
   "source": [
    "records_I = results_I.records[0]\n",
    "\n",
    "id_I = records_I.sparcl_id\n",
    "data_release_I = records_I.data_release\n",
    "redshift_I = records_I.redshift\n",
    "flux_I = records_I.flux\n",
    "wavelength_I = records_I.wavelength\n",
    "model_I = records_I.model\n",
    "ivar_I = records_I.ivar\n",
    "mask_I = records_I.mask\n",
    "spectype_I = records_I.spectype"
   ]
  },
  {
   "cell_type": "markdown",
   "id": "020f7d50",
   "metadata": {},
   "source": [
    "<a class=\"anchor\" id=\"convert\"></a>\n",
    "## Convert retrieved output to Pandas DataFrame or Spectrum1D object"
   ]
  },
  {
   "cell_type": "markdown",
   "id": "3cbb5458",
   "metadata": {},
   "source": [
    "#### Pandas DataFrame:"
   ]
  },
  {
   "cell_type": "code",
   "execution_count": 27,
   "id": "0e7e06ea",
   "metadata": {
    "tags": []
   },
   "outputs": [
    {
     "data": {
      "text/html": [
       "<div>\n",
       "<style scoped>\n",
       "    .dataframe tbody tr th:only-of-type {\n",
       "        vertical-align: middle;\n",
       "    }\n",
       "\n",
       "    .dataframe tbody tr th {\n",
       "        vertical-align: top;\n",
       "    }\n",
       "\n",
       "    .dataframe thead th {\n",
       "        text-align: right;\n",
       "    }\n",
       "</style>\n",
       "<table border=\"1\" class=\"dataframe\">\n",
       "  <thead>\n",
       "    <tr style=\"text-align: right;\">\n",
       "      <th></th>\n",
       "      <th>sparcl_id</th>\n",
       "      <th>redshift</th>\n",
       "      <th>wavelength</th>\n",
       "      <th>flux</th>\n",
       "    </tr>\n",
       "  </thead>\n",
       "  <tbody>\n",
       "    <tr>\n",
       "      <th>0</th>\n",
       "      <td>00000f0b-07db-4234-892a-6e347db79c89</td>\n",
       "      <td>0.781320</td>\n",
       "      <td>[3586.740857699508, 3587.566830392618, 3588.39...</td>\n",
       "      <td>[-1.517918348312378, -1.5180038213729858, -2.7...</td>\n",
       "    </tr>\n",
       "    <tr>\n",
       "      <th>1</th>\n",
       "      <td>000028ab-9342-4884-9e25-941e98c97671</td>\n",
       "      <td>0.646126</td>\n",
       "      <td>[3561.2298094276216, 3562.049907308449, 3562.8...</td>\n",
       "      <td>[4.353212833404541, 4.35308313369751, 4.352952...</td>\n",
       "    </tr>\n",
       "    <tr>\n",
       "      <th>2</th>\n",
       "      <td>00004014-212e-43e6-9eb2-205e3be21759</td>\n",
       "      <td>0.553376</td>\n",
       "      <td>[3553.0392081527184, 3553.8574198607607, 3554....</td>\n",
       "      <td>[-1.017610788345337, -3.1228065490722656, 1.55...</td>\n",
       "    </tr>\n",
       "    <tr>\n",
       "      <th>3</th>\n",
       "      <td>0000403e-51da-43b0-a0e9-e806ea31ca9e</td>\n",
       "      <td>0.596648</td>\n",
       "      <td>[3556.3131856898544, 3557.1321513458824, 3557....</td>\n",
       "      <td>[5.707805156707764, 5.706698894500732, -4.5310...</td>\n",
       "    </tr>\n",
       "    <tr>\n",
       "      <th>4</th>\n",
       "      <td>00004bb4-984e-4bf0-865c-29b135947b58</td>\n",
       "      <td>0.801205</td>\n",
       "      <td>[3802.769482436101, 3803.6452032855573, 3804.5...</td>\n",
       "      <td>[7.452372074127197, 3.6984288692474365, -3.759...</td>\n",
       "    </tr>\n",
       "    <tr>\n",
       "      <th>5</th>\n",
       "      <td>00005d85-beff-4b47-8360-420a554f6ae3</td>\n",
       "      <td>0.818668</td>\n",
       "      <td>[3600.0, 3600.8, 3601.6000000000004, 3602.4000...</td>\n",
       "      <td>[-0.11019330471754074, 1.2258179187774658, 1.1...</td>\n",
       "    </tr>\n",
       "    <tr>\n",
       "      <th>6</th>\n",
       "      <td>000068f6-0491-418f-996b-6c6b838743a1</td>\n",
       "      <td>0.551550</td>\n",
       "      <td>[3556.3131856898544, 3557.1321513458824, 3557....</td>\n",
       "      <td>[-5.349592685699463, -5.349621295928955, -2.31...</td>\n",
       "    </tr>\n",
       "    <tr>\n",
       "      <th>7</th>\n",
       "      <td>000097ff-817b-4490-83fc-5ba0e93569ec</td>\n",
       "      <td>0.605486</td>\n",
       "      <td>[3551.4033498288213, 3552.2211848231955, 3553....</td>\n",
       "      <td>[4.9940361976623535, 4.993040084838867, 4.9920...</td>\n",
       "    </tr>\n",
       "    <tr>\n",
       "      <th>8</th>\n",
       "      <td>00009fca-b03c-430c-8cd7-399314525ade</td>\n",
       "      <td>0.843644</td>\n",
       "      <td>[3600.0, 3600.8, 3601.6000000000004, 3602.4000...</td>\n",
       "      <td>[1.9059596061706543, -2.6823689937591553, 0.92...</td>\n",
       "    </tr>\n",
       "    <tr>\n",
       "      <th>9</th>\n",
       "      <td>0000a764-e886-43d7-896e-49652e31d812</td>\n",
       "      <td>0.649327</td>\n",
       "      <td>[3550.5857031262385, 3551.403349828825, 3552.2...</td>\n",
       "      <td>[-0.21948744356632233, -0.2194642573595047, -0...</td>\n",
       "    </tr>\n",
       "    <tr>\n",
       "      <th>10</th>\n",
       "      <td>0000ace8-a353-45b1-8f32-287069a27fa8</td>\n",
       "      <td>0.593962</td>\n",
       "      <td>[3566.1532304264047, 3566.9744620973393, 3567....</td>\n",
       "      <td>[3.732398509979248, 3.7320077419281006, 3.7316...</td>\n",
       "    </tr>\n",
       "    <tr>\n",
       "      <th>11</th>\n",
       "      <td>0000c61b-4b11-48d5-bd74-ed04d69a12bb</td>\n",
       "      <td>0.695427</td>\n",
       "      <td>[3600.0, 3600.8, 3601.6000000000004, 3602.4000...</td>\n",
       "      <td>[-3.5056962966918945, -3.667029857635498, -0.3...</td>\n",
       "    </tr>\n",
       "    <tr>\n",
       "      <th>12</th>\n",
       "      <td>0000c91c-2559-4273-98d6-01a095d6c24c</td>\n",
       "      <td>0.874038</td>\n",
       "      <td>[3593.3539675538973, 3594.181463147148, 3595.0...</td>\n",
       "      <td>[3.081477642059326, -0.21482646465301514, -2.4...</td>\n",
       "    </tr>\n",
       "    <tr>\n",
       "      <th>13</th>\n",
       "      <td>0000d4d8-629d-492e-ab18-870acab5a479</td>\n",
       "      <td>0.852906</td>\n",
       "      <td>[3592.5266624766173, 3593.353967553901, 3594.1...</td>\n",
       "      <td>[30.78807830810547, 30.791194915771484, 30.794...</td>\n",
       "    </tr>\n",
       "    <tr>\n",
       "      <th>14</th>\n",
       "      <td>0000ef66-bcd4-4556-abfe-ddada2de1af1</td>\n",
       "      <td>0.776554</td>\n",
       "      <td>[3555.4944085859292, 3556.3131856898544, 3557....</td>\n",
       "      <td>[1.9509671926498413, 1.9507670402526855, 1.634...</td>\n",
       "    </tr>\n",
       "    <tr>\n",
       "      <th>15</th>\n",
       "      <td>0000f113-24f2-4f4c-b955-bfc9688fcbea</td>\n",
       "      <td>0.540572</td>\n",
       "      <td>[3579.3156556503877, 3580.1399184306892, 3580....</td>\n",
       "      <td>[1.1755067110061646, 1.175543189048767, 3.6710...</td>\n",
       "    </tr>\n",
       "    <tr>\n",
       "      <th>16</th>\n",
       "      <td>0000fabc-0e15-4d76-b44c-4f152f31de09</td>\n",
       "      <td>0.825772</td>\n",
       "      <td>[3600.0, 3600.8, 3601.6000000000004, 3602.4000...</td>\n",
       "      <td>[-2.2210803031921387, 0.17465251684188843, -2....</td>\n",
       "    </tr>\n",
       "    <tr>\n",
       "      <th>17</th>\n",
       "      <td>0000fbac-3cc0-4b54-bbe0-f9dbd9a67d1c</td>\n",
       "      <td>0.561171</td>\n",
       "      <td>[3584.2640804371426, 3585.0894827655493, 3585....</td>\n",
       "      <td>[-6.210873603820801, -2.060920000076294, 12.70...</td>\n",
       "    </tr>\n",
       "    <tr>\n",
       "      <th>18</th>\n",
       "      <td>0000fc09-daa3-44a4-9840-0721aacd4464</td>\n",
       "      <td>0.784539</td>\n",
       "      <td>[3585.0894827655493, 3585.9150751717484, 3586....</td>\n",
       "      <td>[-5.895139217376709, -5.896045207977295, -1.17...</td>\n",
       "    </tr>\n",
       "    <tr>\n",
       "      <th>19</th>\n",
       "      <td>00010af9-95c6-49b2-827f-f45ad6d546fb</td>\n",
       "      <td>0.598801</td>\n",
       "      <td>[3557.132151345879, 3557.9513055974294, 3558.7...</td>\n",
       "      <td>[0.14124783873558044, 0.14122021198272705, 0.1...</td>\n",
       "    </tr>\n",
       "  </tbody>\n",
       "</table>\n",
       "</div>"
      ],
      "text/plain": [
       "                               sparcl_id  redshift  \\\n",
       "0   00000f0b-07db-4234-892a-6e347db79c89  0.781320   \n",
       "1   000028ab-9342-4884-9e25-941e98c97671  0.646126   \n",
       "2   00004014-212e-43e6-9eb2-205e3be21759  0.553376   \n",
       "3   0000403e-51da-43b0-a0e9-e806ea31ca9e  0.596648   \n",
       "4   00004bb4-984e-4bf0-865c-29b135947b58  0.801205   \n",
       "5   00005d85-beff-4b47-8360-420a554f6ae3  0.818668   \n",
       "6   000068f6-0491-418f-996b-6c6b838743a1  0.551550   \n",
       "7   000097ff-817b-4490-83fc-5ba0e93569ec  0.605486   \n",
       "8   00009fca-b03c-430c-8cd7-399314525ade  0.843644   \n",
       "9   0000a764-e886-43d7-896e-49652e31d812  0.649327   \n",
       "10  0000ace8-a353-45b1-8f32-287069a27fa8  0.593962   \n",
       "11  0000c61b-4b11-48d5-bd74-ed04d69a12bb  0.695427   \n",
       "12  0000c91c-2559-4273-98d6-01a095d6c24c  0.874038   \n",
       "13  0000d4d8-629d-492e-ab18-870acab5a479  0.852906   \n",
       "14  0000ef66-bcd4-4556-abfe-ddada2de1af1  0.776554   \n",
       "15  0000f113-24f2-4f4c-b955-bfc9688fcbea  0.540572   \n",
       "16  0000fabc-0e15-4d76-b44c-4f152f31de09  0.825772   \n",
       "17  0000fbac-3cc0-4b54-bbe0-f9dbd9a67d1c  0.561171   \n",
       "18  0000fc09-daa3-44a4-9840-0721aacd4464  0.784539   \n",
       "19  00010af9-95c6-49b2-827f-f45ad6d546fb  0.598801   \n",
       "\n",
       "                                           wavelength  \\\n",
       "0   [3586.740857699508, 3587.566830392618, 3588.39...   \n",
       "1   [3561.2298094276216, 3562.049907308449, 3562.8...   \n",
       "2   [3553.0392081527184, 3553.8574198607607, 3554....   \n",
       "3   [3556.3131856898544, 3557.1321513458824, 3557....   \n",
       "4   [3802.769482436101, 3803.6452032855573, 3804.5...   \n",
       "5   [3600.0, 3600.8, 3601.6000000000004, 3602.4000...   \n",
       "6   [3556.3131856898544, 3557.1321513458824, 3557....   \n",
       "7   [3551.4033498288213, 3552.2211848231955, 3553....   \n",
       "8   [3600.0, 3600.8, 3601.6000000000004, 3602.4000...   \n",
       "9   [3550.5857031262385, 3551.403349828825, 3552.2...   \n",
       "10  [3566.1532304264047, 3566.9744620973393, 3567....   \n",
       "11  [3600.0, 3600.8, 3601.6000000000004, 3602.4000...   \n",
       "12  [3593.3539675538973, 3594.181463147148, 3595.0...   \n",
       "13  [3592.5266624766173, 3593.353967553901, 3594.1...   \n",
       "14  [3555.4944085859292, 3556.3131856898544, 3557....   \n",
       "15  [3579.3156556503877, 3580.1399184306892, 3580....   \n",
       "16  [3600.0, 3600.8, 3601.6000000000004, 3602.4000...   \n",
       "17  [3584.2640804371426, 3585.0894827655493, 3585....   \n",
       "18  [3585.0894827655493, 3585.9150751717484, 3586....   \n",
       "19  [3557.132151345879, 3557.9513055974294, 3558.7...   \n",
       "\n",
       "                                                 flux  \n",
       "0   [-1.517918348312378, -1.5180038213729858, -2.7...  \n",
       "1   [4.353212833404541, 4.35308313369751, 4.352952...  \n",
       "2   [-1.017610788345337, -3.1228065490722656, 1.55...  \n",
       "3   [5.707805156707764, 5.706698894500732, -4.5310...  \n",
       "4   [7.452372074127197, 3.6984288692474365, -3.759...  \n",
       "5   [-0.11019330471754074, 1.2258179187774658, 1.1...  \n",
       "6   [-5.349592685699463, -5.349621295928955, -2.31...  \n",
       "7   [4.9940361976623535, 4.993040084838867, 4.9920...  \n",
       "8   [1.9059596061706543, -2.6823689937591553, 0.92...  \n",
       "9   [-0.21948744356632233, -0.2194642573595047, -0...  \n",
       "10  [3.732398509979248, 3.7320077419281006, 3.7316...  \n",
       "11  [-3.5056962966918945, -3.667029857635498, -0.3...  \n",
       "12  [3.081477642059326, -0.21482646465301514, -2.4...  \n",
       "13  [30.78807830810547, 30.791194915771484, 30.794...  \n",
       "14  [1.9509671926498413, 1.9507670402526855, 1.634...  \n",
       "15  [1.1755067110061646, 1.175543189048767, 3.6710...  \n",
       "16  [-2.2210803031921387, 0.17465251684188843, -2....  \n",
       "17  [-6.210873603820801, -2.060920000076294, 12.70...  \n",
       "18  [-5.895139217376709, -5.896045207977295, -1.17...  \n",
       "19  [0.14124783873558044, 0.14122021198272705, 0.1...  "
      ]
     },
     "execution_count": 27,
     "metadata": {},
     "output_type": "execute_result"
    }
   ],
   "source": [
    "df = pd.DataFrame([[r.sparcl_id, r.redshift, r.wavelength, r.flux,]\n",
    "                    for r in results_I.records],\n",
    "                  columns=['sparcl_id', 'redshift', 'wavelength', 'flux'])\n",
    "df"
   ]
  },
  {
   "cell_type": "markdown",
   "id": "de3baaf9",
   "metadata": {},
   "source": [
    "#### Spectrum1D:\n",
    "When applicable, the units for each field are documented on the [Fields tab of the astrosparcl website](https://astrosparcl.datalab.noirlab.edu/sparc/sfc/)"
   ]
  },
  {
   "cell_type": "code",
   "execution_count": 28,
   "id": "1fc03e7e",
   "metadata": {
    "tags": []
   },
   "outputs": [
    {
     "data": {
      "text/plain": [
       "<Spectrum1D(flux=<Quantity [-1.51791835e-17, -1.51800382e-17, -2.75167203e-17, ...,\n",
       "            1.48065495e-17,  1.48066998e-17,  1.48068511e-17] erg / (Angstrom cm2 s)>, spectral_axis=<SpectralAxis \n",
       "   (observer to target:\n",
       "      radial_velocity=156113.96193294795 km / s\n",
       "      redshift=0.7813200950622556)\n",
       "  [ 3586.7408577 ,  3587.56683039,  3588.39299329, ..., 10368.11964061,\n",
       "   10370.50726326, 10372.89543574] Angstrom>, uncertainty=InverseVariance([0.        , 0.16850874, 0.        , ..., 0.        ,\n",
       "                 0.        , 0.        ]))>"
      ]
     },
     "execution_count": 28,
     "metadata": {},
     "output_type": "execute_result"
    }
   ],
   "source": [
    "specs = [Spectrum1D(spectral_axis = r.wavelength*u.AA,\n",
    "                    flux = np.array(r.flux)* 10**-17 * u.Unit('erg cm-2 s-1 AA-1'),\n",
    "                    uncertainty = InverseVariance(np.array(r.ivar)),\n",
    "                    redshift = r.redshift,\n",
    "                    mask = r.mask)\n",
    "        for r in results_I.records]\n",
    "specs[0]"
   ]
  },
  {
   "cell_type": "code",
   "execution_count": 29,
   "id": "ee58cd93",
   "metadata": {
    "tags": []
   },
   "outputs": [
    {
     "data": {
      "image/png": "[encoded data removed]",
      "text/plain": [
       "<Figure size 1008x576 with 1 Axes>"
      ]
     },
     "metadata": {
      "needs_background": "light"
     },
     "output_type": "display_data"
    }
   ],
   "source": [
    "# Plot a couple\n",
    "f, ax = plt.subplots()  \n",
    "ax.step(specs[0].spectral_axis, specs[0].flux) \n",
    "ax.step(specs[1].spectral_axis, specs[1].flux)\n",
    "plt.show()"
   ]
  },
  {
   "cell_type": "markdown",
   "id": "ce3ebae5",
   "metadata": {},
   "source": [
    "<a class=\"anchor\" id=\"plot\"></a>\n",
    "## Plot spectra"
   ]
  },
  {
   "cell_type": "code",
   "execution_count": 30,
   "id": "35e2607b",
   "metadata": {
    "tags": []
   },
   "outputs": [],
   "source": [
    "def plot_spec(index, results):\n",
    "    \"\"\"\n",
    "    Pass an index value and the output from using client.retrieve()\n",
    "    to plot the spectrum at the specified index.\n",
    "    \"\"\"\n",
    "    \n",
    "    record = results.records[index]\n",
    "\n",
    "    sparcl_id = record.sparcl_id\n",
    "    data_release = record.data_release\n",
    "    flux = record.flux\n",
    "    wavelength = record.wavelength\n",
    "    model = record.model\n",
    "    spectype = record.spectype\n",
    "    redshift = record.redshift\n",
    "    ra = record.ra\n",
    "    dec = record.dec\n",
    "\n",
    "    plt.title(f\"Data Set = {data_release}\\n\"\n",
    "              f\"Type = {spectype}\\n\"\n",
    "              f\"ID = {sparcl_id}\\n\"\n",
    "              f\"Redshift = {redshift}\\n\"\n",
    "              f\"RA = {ra}\\n\"\n",
    "              f\"Dec = {dec}\", loc='left')\n",
    "    plt.xlabel('$\\lambda\\ [\\AA]$')\n",
    "    plt.ylabel('$f_{\\lambda}$ $(10^{-17}$ $erg$ $s^{-1}$ $cm^{-2}$ $\\AA^{-1})$')\n",
    "    \n",
    "    # Plot unsmoothed spectrum in grey\n",
    "    plt.plot(wavelength, flux, color='k', alpha=0.2, label='Unsmoothed spectrum')\n",
    "    \n",
    "    # Overplot spectrum smoothed using a 1-D Gaussian Kernel in black\n",
    "    plt.plot(wavelength, convolve(flux, Gaussian1DKernel(5)), color='k', label='Smoothed spectrum')\n",
    "    \n",
    "    # Overplot the model spectrum in red\n",
    "    plt.plot(wavelength, model, color='r', label='Model spectrum')\n",
    "    \n",
    "    plt.legend()\n",
    "    plt.show()"
   ]
  },
  {
   "cell_type": "code",
   "execution_count": 31,
   "id": "a2545c6e",
   "metadata": {
    "tags": []
   },
   "outputs": [
    {
     "data": {
      "image/png": "[encoded data removed]",
      "text/plain": [
       "<Figure size 1008x576 with 1 Axes>"
      ]
     },
     "metadata": {
      "needs_background": "light"
     },
     "output_type": "display_data"
    }
   ],
   "source": [
    "plot_spec(index=5, results=results_I)"
   ]
  },
  {
   "cell_type": "markdown",
   "id": "49cbc02a",
   "metadata": {},
   "source": [
    "<a class=\"anchor\" id=\"missing\"></a>\n",
    "## Use `client.missing()` to find missing SPARCL IDs in the SPARCL database"
   ]
  },
  {
   "cell_type": "code",
   "execution_count": 32,
   "id": "c404a563",
   "metadata": {},
   "outputs": [
    {
     "data": {
      "text/plain": [
       "\u001b[0;31mSignature:\u001b[0m\n",
       "\u001b[0mclient\u001b[0m\u001b[0;34m.\u001b[0m\u001b[0mmissing\u001b[0m\u001b[0;34m(\u001b[0m\u001b[0;34m\u001b[0m\n",
       "\u001b[0;34m\u001b[0m    \u001b[0muuid_list\u001b[0m\u001b[0;34m,\u001b[0m\u001b[0;34m\u001b[0m\n",
       "\u001b[0;34m\u001b[0m    \u001b[0;34m*\u001b[0m\u001b[0;34m,\u001b[0m\u001b[0;34m\u001b[0m\n",
       "\u001b[0;34m\u001b[0m    \u001b[0mdataset_list\u001b[0m\u001b[0;34m=\u001b[0m\u001b[0;32mNone\u001b[0m\u001b[0;34m,\u001b[0m\u001b[0;34m\u001b[0m\n",
       "\u001b[0;34m\u001b[0m    \u001b[0mcountOnly\u001b[0m\u001b[0;34m=\u001b[0m\u001b[0;32mFalse\u001b[0m\u001b[0;34m,\u001b[0m\u001b[0;34m\u001b[0m\n",
       "\u001b[0;34m\u001b[0m    \u001b[0mverbose\u001b[0m\u001b[0;34m=\u001b[0m\u001b[0;32mFalse\u001b[0m\u001b[0;34m,\u001b[0m\u001b[0;34m\u001b[0m\n",
       "\u001b[0;34m\u001b[0m\u001b[0;34m)\u001b[0m\u001b[0;34m\u001b[0m\u001b[0;34m\u001b[0m\u001b[0m\n",
       "\u001b[0;31mDocstring:\u001b[0m\n",
       "Return the subset of sparcl_ids in the given uuid_list that are\n",
       "NOT stored in the SPARC database.\n",
       "\n",
       "Args:\n",
       "    uuid_list (:obj:`list`): List of sparcl_ids.\n",
       "\n",
       "    dataset_list (:obj:`list`, optional): List of data sets from\n",
       "        which to find missing sparcl_ids. Defaults to None, meaning\n",
       "        all data sets hosted on the SPARC database.\n",
       "\n",
       "    countOnly (:obj:`bool`, optional): Set to True to return only\n",
       "        a count of the missing sparcl_ids from the uuid_list.\n",
       "        Defaults to False.\n",
       "\n",
       "    verbose (:obj:`bool`, optional): Set to True for in-depth return\n",
       "        statement. Defaults to False.\n",
       "\n",
       "Returns:\n",
       "    A list of the subset of sparcl_ids in the given uuid_list that\n",
       "    are NOT stored in the SPARC database.\n",
       "\n",
       "Example:\n",
       "    >>> client = SparclClient()\n",
       "    >>> ids = ['ddbb57ee-8e90-4a0d-823b-0f5d97028076',]\n",
       "    >>> client.missing(ids)\n",
       "    ['ddbb57ee-8e90-4a0d-823b-0f5d97028076']\n",
       "\u001b[0;31mFile:\u001b[0m      /home/jail/dlusers/ajacques/.local/lib/python3.8/site-packages/sparcl/client.py\n",
       "\u001b[0;31mType:\u001b[0m      method\n"
      ]
     },
     "metadata": {},
     "output_type": "display_data"
    }
   ],
   "source": [
    "client.missing?"
   ]
  },
  {
   "cell_type": "markdown",
   "id": "efc74105",
   "metadata": {},
   "source": [
    "#### When you try to retrieve records from the SPARCL database with IDs that do not exist in the SPARCL database, a warning message will appear:"
   ]
  },
  {
   "cell_type": "code",
   "execution_count": 33,
   "id": "e1c06d56",
   "metadata": {
    "tags": []
   },
   "outputs": [
    {
     "name": "stderr",
     "output_type": "stream",
     "text": [
      "<ipython-input-33-a24f49320160>:7: UserWarning: Some UUIDs were not found. 3 out of the 5 requested uuids have no records available in the SPARC database associated with DataSets ['SDSS-DR16', 'BOSS-DR16', 'DESI-EDR'].Use \"client.missing()\" to get a list of the 3 unavailable uuids.\n",
      "  res_test = client.retrieve(uuid_list=ids_test)\n"
     ]
    }
   ],
   "source": [
    "ids_test = ['000025da-914b-4b67-b9a9-97cc811b0459',\n",
    "            '0000fabc-0e15-4d76-b44c-4f152f31de09',\n",
    "            '00001c20-b7ff-4367-af08-26432cd7e01d',\n",
    "            '0000403e-51da-43b0-a0e9-e806ea31ca9e',\n",
    "            'ddbb57ee-8e90-4a0d-823b-0f5d97028076']\n",
    "\n",
    "res_test = client.retrieve(uuid_list=ids_test)"
   ]
  },
  {
   "cell_type": "markdown",
   "id": "7e5b6f5c",
   "metadata": {},
   "source": [
    "#### In order to figure out which of the IDs from your list do not exist in the SPARCL database, use the `client.missing()` method:"
   ]
  },
  {
   "cell_type": "code",
   "execution_count": 34,
   "id": "dd63d6b8",
   "metadata": {
    "tags": []
   },
   "outputs": [
    {
     "data": {
      "text/plain": [
       "['ddbb57ee-8e90-4a0d-823b-0f5d97028076',\n",
       " '00001c20-b7ff-4367-af08-26432cd7e01d',\n",
       " '000025da-914b-4b67-b9a9-97cc811b0459']"
      ]
     },
     "execution_count": 34,
     "metadata": {},
     "output_type": "execute_result"
    }
   ],
   "source": [
    "client.missing(uuid_list=ids_test)"
   ]
  }
 ],
 "metadata": {
  "kernelspec": {
   "display_name": "Python 3",
   "language": "python",
   "name": "python3"
  },
  "language_info": {
   "codemirror_mode": {
    "name": "ipython",
    "version": 3
   },
   "file_extension": ".py",
   "mimetype": "text/x-python",
   "name": "python",
   "nbconvert_exporter": "python",
   "pygments_lexer": "ipython3",
   "version": "3.8.8"
  }
 },
 "nbformat": 4,
 "nbformat_minor": 5
}
