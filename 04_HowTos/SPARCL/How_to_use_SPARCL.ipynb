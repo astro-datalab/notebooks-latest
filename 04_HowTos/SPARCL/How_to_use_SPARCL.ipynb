{
 "cells": [
  {
   "cell_type": "code",
   "execution_count": null,
   "id": "b20ea4e7",
   "metadata": {},
   "outputs": [],
   "source": [
    "__nbid__ = '0051'\n",
    "__author__ = 'Alice Jacques <alice.jacques@noirlab.edu>, Steve Pothier <steve.pothier@noirlab.edu>, Adam Bolton <adam.bolton@noirlab.edu>'\n",
    "__version__ = '20250314' # yyyymmdd\n",
    "__datasets__ = ['boss_dr16', 'desi_dr1', 'desi_edr', 'sdss_dr16']  \n",
    "__keywords__ = ['sparcl', 'spectroscopy', 'HowTo', 'sdss spectra', 'desi spectra', 'tutorial']"
   ]
  },
  {
   "cell_type": "markdown",
   "id": "b4162486",
   "metadata": {},
   "source": [
    "# How to use SPARCL\n",
    "SPectra Analysis and Retrievable Catalog Lab (SPARCL)"
   ]
  },
  {
   "cell_type": "markdown",
   "id": "45030923",
   "metadata": {},
   "source": [
    "### Table of contents\n",
    "* [Goals & Summary](#goalssummary)\n",
    "* [Disclaimer & attribution](#disclaimer)\n",
    "* [If necessary, install the most recent version of the SPARCL Client](#install)\n",
    "* [Imports and setup](#imports)\n",
    "* [Authentication for Data Lab](#authentication)\n",
    "* [Authentication for SPARCL](#auth_sparcl)\n",
    "* [Data sets available in SPARCL](#datasets)\n",
    "* [Get default field names](#defaultfieldnames)\n",
    "* [Get all field names](#allfieldnames)\n",
    "* [Data discovery I: using SPARCL's <tt>client.find()</tt> method](#datadiscoveryI)\n",
    "* [Data discovery II: using Data Lab's <tt>sparcl.main</tt> table](#datadiscoveryII)\n",
    "* [Retrieve records by <tt>sparcl_id</tt> using <tt>client.retrieve()</tt>](#retrieve)\n",
    "* [Retrieve records by <tt>specid</tt> using <tt>client.retrieve_by_specid()</tt>](#retrieve_specid)\n",
    "* [Reorder spectrum records](#reorder)\n",
    "* [Access fields in records](#access)\n",
    "* [Convert retrieved output to Pandas DataFrame or Spectrum1D object](#convert)\n",
    "* [Plot spectra](#plot)\n",
    "* [Use <tt>client.missing()</tt> to find missing IDs in the SPARCL database](#missing)"
   ]
  },
  {
   "cell_type": "markdown",
   "id": "acda2d5d",
   "metadata": {},
   "source": [
    "<a class=\"anchor\" id=\"goalssummary\"></a>\n",
    "## Goals & Summary \n",
    "\n",
    "SPARCL (SPectra Analysis and Retrievable Catalog Lab) is an online service for discovery and retrieval of one-dimensional optical-infrared spectra. SPARCL is designed to work for large survey datasets containing many millions of spectra, and to provide access to multiple different data sets through common methods. For more information, see the [SPARCL User Guide](https://astrosparcl.datalab.noirlab.edu/static/SPARCLUserManual.pdf).\n",
    "\n",
    "This notebook provides a basic introduction to using the SPARCL client (or sparclclient) to find and retrieve spectroscopic data within a Python notebook context. The sparclclient connects to the SPARCL server at [NSF NOIRLab](https://noirlab.edu/public/) and provides access to the contents of the SPARCL database.\n",
    "\n",
    "To see the current data sets and number of spectra available in the SPARCL database, please visit the [SPARCL summary page](https://astrosparcl.datalab.noirlab.edu/sparc/).\n",
    "\n",
    "To get the latest sparclclient documentation, visit the [sparclclient readthedocs site](https://sparclclient.readthedocs.io/en/latest/).\n",
    "\n",
    "Feedback on SPARCL (questions, comments, science use cases, feature requests, bug reports, confusing error messages, etc.) can be submitted to datalab-spectro@noirlab.edu. For bug reports and confusing error messages, it's helpful if you include: a log of *what you did*, *the result you got*, and *the result you expected*.\n",
    "\n",
    "See our science use-case notebooks that use SPARCL:\n",
    "- [Introduction to DESI First Data Release (DR1) at the Astro Data Lab](https://github.com/astro-datalab/notebooks-latest/blob/master/03_ScienceExamples/DESI/01_Intro_to_DESI_DR1.ipynb)\n",
    "- [Comparing SDSS and DESI spectra using SPARCL](https://github.com/astro-datalab/notebooks-latest/blob/master/03_ScienceExamples/DESI/02_DESI_SDSS_Comparison.ipynb)\n",
    "- [Stacking SDSS Spectra of Galaxies Selected from the BPT Diagram](https://github.com/astro-datalab/notebooks-latest/blob/master/03_ScienceExamples/EmLineGalaxies/01_EmLineGalaxies_SpectraStack.ipynb)\n",
    "- [Multi-wavelength Image Cutouts and SDSS Spectra of Active Galaxies with Extreme Emission-Line Ratios](https://github.com/astro-datalab/notebooks-latest/blob/master/03_ScienceExamples/EmLineGalaxies/02_EmLineGalaxies_Outliers.ipynb)\n",
    "\n",
    "And our other How-To notebooks that use SPARCL:\n",
    "- [Obtain spectra with SPARCL and plot them with Jdaviz](https://github.com/astro-datalab/notebooks-latest/blob/master/04_HowTos/SPARCL/Plot_SPARCL_Spectra_with_Jdaviz.ipynb)\n",
    "- [Obtain spectra with SPARCL and plot them with prospect](https://github.com/astro-datalab/notebooks-latest/blob/master/04_HowTos/SPARCL/Plot_SPARCL_Spectra_with_Prospect.ipynb)"
   ]
  },
  {
   "cell_type": "markdown",
   "id": "c12173d5-9849-4113-808a-c920d912e244",
   "metadata": {},
   "source": [
    "<a class=\"anchor\" id=\"attribution\"></a>\n",
    "# Disclaimer & attribution\n",
    "\n",
    "Disclaimers\n",
    "-----------\n",
    "Note that using the Astro Data Lab constitutes your agreement with our minimal [Disclaimers](https://datalab.noirlab.edu/disclaimers.php).\n",
    "\n",
    "Acknowledgments\n",
    "---------------\n",
    "If you use **Astro Data Lab** in your published research, please include the text in your paper's Acknowledgments section:\n",
    "\n",
    "_This research uses services or data provided by the Astro Data Lab, which is part of the Community Science and Data Center (CSDC) Program of NSF NOIRLab. NOIRLab is operated by the Association of Universities for Research in Astronomy (AURA), Inc. under a cooperative agreement with the U.S. National Science Foundation._\n",
    "\n",
    "If you use **SPARCL jointly with the Astro Data Lab platform** (via JupyterLab, command-line, or web interface) in your published research, please include this text below in your paper's Acknowledgments section:\n",
    "\n",
    "_This research uses services or data provided by the SPectra Analysis and Retrievable Catalog Lab (SPARCL) and the Astro Data Lab, which are both part of the Community Science and Data Center (CSDC) Program of NSF NOIRLab. NOIRLab is operated by the Association of Universities for Research in Astronomy (AURA), Inc. under a cooperative agreement with the U.S. National Science Foundation._\n",
    "\n",
    "In either case **please cite the following papers**:\n",
    "\n",
    "* Data Lab concept paper: Fitzpatrick et al., \"The NOAO Data Laboratory: a conceptual overview\", SPIE, 9149, 2014, https://doi.org/10.1117/12.2057445\n",
    "\n",
    "* Astro Data Lab overview: Nikutta et al., \"Data Lab - A Community Science Platform\", Astronomy and Computing, 33, 2020, https://doi.org/10.1016/j.ascom.2020.100411\n",
    "\n",
    "If you are referring to the Data Lab JupyterLab / Jupyter Notebooks, cite:\n",
    "\n",
    "* Juneau et al., \"Jupyter-Enabled Astrophysical Analysis Using Data-Proximate Computing Platforms\", CiSE, 23, 15, 2021, https://doi.org/10.1109/MCSE.2021.3057097\n",
    "\n",
    "If publishing in a AAS journal, also add the keywords: `\\facility{Astro Data Lab}` and `\\software{SPARCL (Juneau et al. 2024)}`\n",
    "\n",
    "And if you are using SPARCL, please also add the keyword `\\software{SPARCL (Juneau et al. 2024)}` and cite:\n",
    "\n",
    "* Juneau et al., \"SPARCL: SPectra Analysis and Retrievable Catalog Lab\", Conference Proceedings for ADASS XXXIII, 2024\n",
    "https://doi.org/10.48550/arXiv.2401.05576\n",
    "\n",
    "The NOIRLab Library maintains [lists of proper acknowledgments](https://noirlab.edu/science/about/scientific-acknowledgments) to use when publishing papers using the Lab's facilities, data, or services."
   ]
  },
  {
   "cell_type": "markdown",
   "id": "6c39b96f",
   "metadata": {},
   "source": [
    "<a class=\"anchor\" id=\"install\"></a>\n",
    "### If necessary, install the most recent version of the SPARCL Client:\n",
    "If you are using the Astro Data Lab Jupyter notebook server, you do not need to run this cell.\n",
    "### NOTE: After installing the most recent version, please restart your kernel."
   ]
  },
  {
   "cell_type": "code",
   "execution_count": null,
   "id": "4cb3b11f",
   "metadata": {
    "tags": []
   },
   "outputs": [],
   "source": [
    "## Uncomment the following only if SPARCL client is not already installed\n",
    "#!pip install --upgrade sparclclient"
   ]
  },
  {
   "cell_type": "markdown",
   "id": "25a609e2",
   "metadata": {},
   "source": [
    "<a class=\"anchor\" id=\"imports\"></a>\n",
    "## Imports and setup"
   ]
  },
  {
   "cell_type": "code",
   "execution_count": null,
   "id": "5d913a9b",
   "metadata": {
    "tags": []
   },
   "outputs": [],
   "source": [
    "# SPARCL imports\n",
    "from sparcl.client import SparclClient\n",
    "\n",
    "# 3rd party imports\n",
    "import numpy as np\n",
    "import astropy.units as u\n",
    "from specutils import Spectrum1D\n",
    "from astropy.nddata import InverseVariance\n",
    "from astropy.convolution import convolve, Gaussian1DKernel\n",
    "%matplotlib inline\n",
    "import matplotlib.pyplot as plt\n",
    "import pandas as pd\n",
    "\n",
    "# Data Lab imports\n",
    "from dl import queryClient as qc\n",
    "from dl import authClient as ac\n",
    "from getpass import getpass\n",
    "\n",
    "# plots default setup\n",
    "plt.rcParams['font.size'] = 14\n",
    "plt.rcParams['figure.figsize'] = (14,8)"
   ]
  },
  {
   "cell_type": "markdown",
   "id": "bcff154c",
   "metadata": {},
   "source": [
    "<a class=\"anchor\" id=\"authentication\"></a>\n",
    "# Authentication\n",
    "Much of the functionality of Data Lab can be accessed without explicitly logging in (the service then uses an anonymous login). But some capacities, for instance saving the results of your queries to your virtual storage space, require a login (i.e. you will need a registered user account).\n",
    "\n",
    "If you need to log in to Data Lab, un-comment the cell below and execute it:"
   ]
  },
  {
   "cell_type": "code",
   "execution_count": null,
   "id": "50a1081b",
   "metadata": {
    "tags": []
   },
   "outputs": [],
   "source": [
    "#token = ac.login(input(\"Enter user name: (+ENTER) \"),getpass(\"Enter password: (+ENTER) \"))\n",
    "ac.whoAmI()"
   ]
  },
  {
   "cell_type": "markdown",
   "id": "5647c893",
   "metadata": {},
   "source": [
    "#### We now create a SPARCL client instance:"
   ]
  },
  {
   "cell_type": "code",
   "execution_count": null,
   "id": "ed2bfd68-6a5a-486f-84ee-c9f1f7d1db38",
   "metadata": {
    "tags": []
   },
   "outputs": [],
   "source": [
    "client = SparclClient()\n",
    "client"
   ]
  },
  {
   "cell_type": "markdown",
   "id": "43e8678f-21a6-4246-8061-358c19f8ff5a",
   "metadata": {},
   "source": [
    "<a class=\"anchor\" id=\"auth_sparcl\"></a>\n",
    "# Authentication for SPARCL\n",
    "All public SPARCL data sets can be accessed without explicitly logging in. However, some data sets are private and can only be accessed by authorized users. If you are an authorized user and wish to login to SPARCL, un-comment the cell below and enter your NOIRLab CSDC SSO user name and password. If you need to create an account, sign-up at https://sso.csdc.noirlab.edu/account/signup/. If you encounter an issue, email datalab-spectro@noirlab.edu with your First Name, Last Name, and Email Address (the same one you used to create your NOIRLab CSDC SSO account).\n",
    "\n",
    "To logout of SPARCL after a session, use:\n",
    "```\n",
    "client.logout()\n",
    "```\n",
    "\n",
    "For assistance with SPARCL authentication/authorization please contact us at datalab-spectro@noirlab.edu"
   ]
  },
  {
   "cell_type": "code",
   "execution_count": null,
   "id": "c33c4445-7ea4-42fb-9c0c-549dcf8180dc",
   "metadata": {},
   "outputs": [],
   "source": [
    "#client.login(input(\"Enter SSO user name: (+ENTER) \"),getpass(\"Enter password: (+ENTER) \"))"
   ]
  },
  {
   "cell_type": "markdown",
   "id": "a4e92c80-c8bb-434a-acb5-9973634ba2f2",
   "metadata": {},
   "source": [
    "#### View which data sets you have access to:\n",
    "**Note:** if you are not logged in or if your SSO user name is not in the authorized list of SPARCL users, you will only see public data sets"
   ]
  },
  {
   "cell_type": "code",
   "execution_count": null,
   "id": "944b18e6-3d8b-4239-9514-89103da393fa",
   "metadata": {},
   "outputs": [],
   "source": [
    "client.authorized"
   ]
  },
  {
   "cell_type": "markdown",
   "id": "f9d8d4cf",
   "metadata": {},
   "source": [
    "<a class=\"anchor\" id=\"datasets\"></a>\n",
    "## Data sets available in SPARCL\n",
    "List all currently available data sets from the server/url associated with client"
   ]
  },
  {
   "cell_type": "code",
   "execution_count": null,
   "id": "da920ad2",
   "metadata": {
    "tags": []
   },
   "outputs": [],
   "source": [
    "client.all_datasets"
   ]
  },
  {
   "cell_type": "markdown",
   "id": "27e427e6",
   "metadata": {},
   "source": [
    "<a class=\"anchor\" id=\"defaultfieldnames\"></a>\n",
    "## Get default field names\n",
    "Gets fields tagged as 'default' that are common to all data sets in the `dataset_list` passed to the function. If `dataset_list` is None (the default), the function returns the intersection of 'default' fields across all datasets currently available in the SPARC database."
   ]
  },
  {
   "cell_type": "code",
   "execution_count": null,
   "id": "53de9d86",
   "metadata": {
    "tags": []
   },
   "outputs": [],
   "source": [
    "client.get_default_fields?"
   ]
  },
  {
   "cell_type": "code",
   "execution_count": null,
   "id": "59d6be11",
   "metadata": {
    "tags": []
   },
   "outputs": [],
   "source": [
    "client.get_default_fields()"
   ]
  },
  {
   "cell_type": "markdown",
   "id": "5121cc55",
   "metadata": {},
   "source": [
    "<a class=\"anchor\" id=\"allfieldnames\"></a>\n",
    "## Get all field names\n",
    "Gets fields tagged as 'all' that are common to all data sets in the `dataset_list` passed to the function. If `dataset_list` is None (the default), the function returns the intersection of 'all' fields across all datasets currently available in the SPARC database."
   ]
  },
  {
   "cell_type": "code",
   "execution_count": null,
   "id": "e1724445",
   "metadata": {
    "tags": []
   },
   "outputs": [],
   "source": [
    "client.get_all_fields?"
   ]
  },
  {
   "cell_type": "code",
   "execution_count": null,
   "id": "3ec96b73",
   "metadata": {
    "tags": []
   },
   "outputs": [],
   "source": [
    "print(sorted(client.get_all_fields()))"
   ]
  },
  {
   "cell_type": "code",
   "execution_count": null,
   "id": "3ebd397b",
   "metadata": {
    "tags": []
   },
   "outputs": [],
   "source": [
    "print(sorted(client.get_all_fields(dataset_list=['SDSS-DR16', 'BOSS-DR16'])))"
   ]
  },
  {
   "cell_type": "code",
   "execution_count": null,
   "id": "2d9164d2",
   "metadata": {
    "tags": []
   },
   "outputs": [],
   "source": [
    "print(sorted(client.get_all_fields(dataset_list=['DESI-DR1'])))"
   ]
  },
  {
   "cell_type": "markdown",
   "id": "bd9cc611",
   "metadata": {},
   "source": [
    "<a class=\"anchor\" id=\"datadiscoveryI\"></a>\n",
    "## Data discovery I: using SPARCL's `client.find()` method\n",
    "The first way you can discover your data is by using SPARCL's `client.find()` method, which allows you to find records in the SPARCL database based on certain parameters passed to the function. Only Core fields may be in the `outfields` and `constraints` parameters. The descriptions for all fields, including Core fields, is located [here](https://astrosparcl.datalab.noirlab.edu/sparc/sfc/). The SPARCL Core fields constraint types are:\n",
    "\n",
    "\n",
    "| Field name       | Constraint type | Example |\n",
    "|:----------------|:---------------|:-------|\n",
    "| data_release     | List of allowed values<br>from [SPARCL Categoricals](https://astrosparcl.datalab.noirlab.edu/sparc/cats/) | ['DESI-EDR', 'BOSS-DR16', 'SDSS-DR16']\n",
    "| datasetgroup     | List of allowed values<br>from [SPARCL Categoricals](https://astrosparcl.datalab.noirlab.edu/sparc/cats/) | ['DESI', 'SDSS_BOSS']\n",
    "| dateobs_center   | Range of values | ['2013-03-14T10:16:17Z',<br>'2014-05-24T12:10:00Z']\n",
    "| dec              | Range of values | [2.03, 7.76]\n",
    "| exptime          | Range of values | [3603.46, 3810.12]\n",
    "| instrument       | List of allowed values<br>from [SPARCL Categoricals](https://astrosparcl.datalab.noirlab.edu/sparc/cats/) | ['SDSS', 'BOSS', 'DESI']\n",
    "| ra               | Range of values (may not<br>\"wrap\" around RA=0) | [44.53, 47.96]\n",
    "| redshift         | Range of values | [0.5, 0.9]\n",
    "| redshift_err     | Range of values | [0.000225, 0.000516]\n",
    "| redshift_warning | List of values  | [0, 3, 5]\n",
    "| sparcl_id               | List of values (but not<br>intended for data discovery) | ['00001658-460c-4da1-987d-e493d8c9b89b',<br>'000017b6-56a2-4f87-8828-3a3409ba1083']\n",
    "| site             | List of allowed values<br>from [SPARCL Categoricals](https://astrosparcl.datalab.noirlab.edu/sparc/cats/) |  ['apo', 'kpno']\n",
    "| specid           | List of values | [6988698046080241664, 6971782884823945216]\n",
    "| spectype         | List of allowed values<br>from [SPARCL Categoricals](https://astrosparcl.datalab.noirlab.edu/sparc/cats/) | ['GALAXY', 'STAR', 'QSO']\n",
    "| specprimary      | List of values (but typically<br>would only include 1 if<br>being used for data<br>discovery constraints) | [1]\n",
    "| targetid         | List of values | [1237679502171374316, 1237678619584692841]\n",
    "| telescope        | List of allowed values<br>from [SPARCL Categoricals](https://astrosparcl.datalab.noirlab.edu/sparc/cats/) | ['sloan25m', 'kp4m']\n",
    "| wavemin          | Range of values | [3607, 3608]\n",
    "| wavemax          | Range of values | [10363, 10364]"
   ]
  },
  {
   "cell_type": "code",
   "execution_count": null,
   "id": "fe2e2df8",
   "metadata": {
    "tags": []
   },
   "outputs": [],
   "source": [
    "client.find?"
   ]
  },
  {
   "cell_type": "markdown",
   "id": "2ecf1aa4",
   "metadata": {},
   "source": [
    "#### Define the fields we want returned (`outfields`) and the constraints (`constraints`):"
   ]
  },
  {
   "cell_type": "code",
   "execution_count": null,
   "id": "f1a3fd21",
   "metadata": {
    "tags": []
   },
   "outputs": [],
   "source": [
    "out = ['sparcl_id', 'ra', 'dec', 'redshift', 'spectype', 'data_release', 'redshift_err']\n",
    "cons = {'spectype': ['GALAXY'],\n",
    "        'redshift': [0.5, 0.9],\n",
    "        'data_release': ['DESI-DR1', 'SDSS-DR16', 'BOSS-DR16']}"
   ]
  },
  {
   "cell_type": "markdown",
   "id": "c423b17d",
   "metadata": {},
   "source": [
    "#### Execute the `client.find()` method with our parameters:\n",
    "The `limit` argument here is being used for demonstration purposes only, and simply returns only the first 20 results here."
   ]
  },
  {
   "cell_type": "code",
   "execution_count": null,
   "id": "c55933c2",
   "metadata": {
    "tags": []
   },
   "outputs": [],
   "source": [
    "found_I = client.find(outfields=out, constraints=cons, limit=20)\n",
    "[\"%s, %s, %f, %f, %f\" % (f.sparcl_id, f.data_release, f.ra, f.redshift, f.redshift_err)\n",
    " for f in found_I.records]"
   ]
  },
  {
   "cell_type": "markdown",
   "id": "b8118bcc",
   "metadata": {},
   "source": [
    "<a class=\"anchor\" id=\"datadiscoveryII\"></a>\n",
    "## Data discovery II: using Data Lab's `sparcl.main` table\n",
    "The second way you can discover your data is by querying the `sparcl.main` table hosted at Astro Data Lab. This table contains the following columns:\n"
   ]
  },
  {
   "cell_type": "code",
   "execution_count": null,
   "id": "95acdae6",
   "metadata": {
    "tags": []
   },
   "outputs": [],
   "source": [
    "print(qc.schema('sparcl.main'))"
   ]
  },
  {
   "cell_type": "markdown",
   "id": "45ce3dc4",
   "metadata": {},
   "source": [
    "#### Query this table for a few rows of data:"
   ]
  },
  {
   "cell_type": "code",
   "execution_count": null,
   "id": "9f4dba5b",
   "metadata": {
    "tags": []
   },
   "outputs": [],
   "source": [
    "q = \"\"\"SELECT \n",
    "            sparcl_id, specid, ra, dec, redshift, spectype, data_release, redshift_err\n",
    "        FROM \n",
    "            sparcl.main\n",
    "        WHERE \n",
    "            spectype='GALAXY'\n",
    "            AND redshift>=0.5 AND redshift<=0.9\n",
    "            AND random_id BETWEEN 15.1 AND 15.4\n",
    "        LIMIT 20\n",
    "    \"\"\"\n",
    "found_II = qc.query(sql=q, fmt='pandas')  # output as Pandas DataFrame\n",
    "found_II"
   ]
  },
  {
   "cell_type": "markdown",
   "id": "7cd77794-e1e5-4005-8cdf-97072a5e0e0b",
   "metadata": {
    "tags": []
   },
   "source": [
    "<a class=\"anchor\" id=\"retrieve\"></a>\n",
    "## Retrieve records by `sparcl_id` using `client.retrieve()`\n",
    "In order to retrieve spectra records from SPARCL by `sparcl_id`, pass the following to the `client.retrieve()` method:\n",
    "\n",
    "`uuid_list` : List of SPARCL IDs.  \n",
    "`dataset_list` : List of data sets to search for the SPARCL IDs in (default: None, which will search all available data sets).  \n",
    "`include` : List of field names to include in each record (default: 'DEFAULT').  \n",
    "`limit` : Maximum number of records to return (default: 500). Max allowed is 24,000.\n",
    "\n",
    "\n",
    "**NOTE: A reasonable amount of records to request retrieval of is about 10,000. Exceeding this value may cause the retrieval to timeout or fail.**"
   ]
  },
  {
   "cell_type": "code",
   "execution_count": null,
   "id": "0c271a02",
   "metadata": {
    "tags": []
   },
   "outputs": [],
   "source": [
    "client.retrieve?"
   ]
  },
  {
   "cell_type": "markdown",
   "id": "40036a51",
   "metadata": {},
   "source": [
    "#### Use the sparcl_ids from the output of using `client.find()` to retrieve records from SPARCL:\n",
    "Note that `ids` in `found_I.ids` is a property name of the Found class. It is a list of records from all records, not a field name of a record."
   ]
  },
  {
   "cell_type": "code",
   "execution_count": null,
   "id": "c93923fb",
   "metadata": {
    "tags": []
   },
   "outputs": [],
   "source": [
    "# Define the fields to include in the retrieve function\n",
    "inc = ['sparcl_id', 'specid', 'data_release', 'redshift', 'flux',\n",
    "       'wavelength', 'model', 'ivar', 'mask', 'spectype', 'ra', 'dec']"
   ]
  },
  {
   "cell_type": "code",
   "execution_count": null,
   "id": "1b86047a",
   "metadata": {
    "tags": []
   },
   "outputs": [],
   "source": [
    "ids_I = found_I.ids\n",
    "results_I = client.retrieve(uuid_list=ids_I, include=inc)\n",
    "results_I.info"
   ]
  },
  {
   "cell_type": "markdown",
   "id": "316c6f45",
   "metadata": {},
   "source": [
    "<a class=\"anchor\" id=\"retrieve_specid\"></a>\n",
    "## Retrieve records by `specid` using `client.retrieve_by_specid()`\n",
    "In order to retrieve spectra records from SPARCL by `specid`, pass the following to the `client.retrieve_by_specid()` method:\n",
    "\n",
    "`specid_list` : List of specIDs.  \n",
    "`dataset_list` : List of data sets to search for the specIDs in (default: None, which will search all available data sets).  \n",
    "`include` : List of field names to include in each record (default: 'DEFAULT').  \n",
    "`limit` : Maximum number of records to return (default: 500). Max allowed is 24,000.\n",
    "\n",
    "\n",
    "**NOTE: A reasonable amount of records to request retrieval of is about 10,000. Exceeding this value may cause the retrieval to timeout or fail.**"
   ]
  },
  {
   "cell_type": "code",
   "execution_count": null,
   "id": "743a19b8",
   "metadata": {
    "tags": []
   },
   "outputs": [],
   "source": [
    "client.retrieve_by_specid?"
   ]
  },
  {
   "cell_type": "markdown",
   "id": "3f73a2d7",
   "metadata": {},
   "source": [
    "#### Use the specIDs from the `sparcl.main` table to retrieve records from SPARCL:\n",
    "We first need to convert the Pandas Series of specIDs into an int list to work with SPARCL. Then we can pass the int list to the `client.retrieve_by_specid()` method."
   ]
  },
  {
   "cell_type": "code",
   "execution_count": null,
   "id": "aa1cb379-a8b4-40ce-a8c1-e9cddffb8540",
   "metadata": {
    "tags": []
   },
   "outputs": [],
   "source": [
    "specids = [int(s) for s in found_II.specid]"
   ]
  },
  {
   "cell_type": "code",
   "execution_count": null,
   "id": "b751a29e",
   "metadata": {
    "tags": []
   },
   "outputs": [],
   "source": [
    "results_II = client.retrieve_by_specid(specid_list=specids, include=inc)\n",
    "results_II.info"
   ]
  },
  {
   "cell_type": "markdown",
   "id": "96da932f",
   "metadata": {},
   "source": [
    "<a class=\"anchor\" id=\"reorder\"></a>\n",
    "## Reorder spectrum records\n",
    "The ordering of the results of `client.retrieve()` is not necessarily sorted to match the order of the IDs in the argument passed to the method. The `reorder()` method will reorder the retrieved results to be in the same order as the original list of IDs passed to `client.retrieve()`.\n",
    "\n",
    "##### Reorder SPARCL IDs:"
   ]
  },
  {
   "cell_type": "code",
   "execution_count": null,
   "id": "0b59b31a",
   "metadata": {
    "tags": []
   },
   "outputs": [],
   "source": [
    "ids_II = list(found_II.sparcl_id[1:4])\n",
    "print(f\"Order of SPARCL IDs originally:\\n{ids_II}\\n\")\n",
    "\n",
    "res = client.retrieve(uuid_list=ids_II)\n",
    "res_ids = [f.sparcl_id for f in res.records]\n",
    "print(f\"Order of SPARCL IDs after passing to retrieve():\\n{res_ids}\\n\")\n",
    "\n",
    "res_reordered = res.reorder(ids_II)\n",
    "res_reordered_ids = [f.sparcl_id for f in res_reordered.records]\n",
    "print(f\"Use reorder() to obtain original order of SPARCL IDs:\\n{res_reordered_ids}\")"
   ]
  },
  {
   "cell_type": "markdown",
   "id": "3332ef24",
   "metadata": {},
   "source": [
    "<a class=\"anchor\" id=\"access\"></a>\n",
    "## Access fields in records\n",
    "You can access the fields from records by using dot notation and dictionary indexing."
   ]
  },
  {
   "cell_type": "markdown",
   "id": "81856081",
   "metadata": {},
   "source": [
    "#### Accessing a record from our example using `client.find()` and `client.retrieve()`:"
   ]
  },
  {
   "cell_type": "code",
   "execution_count": null,
   "id": "869c4f66",
   "metadata": {
    "tags": []
   },
   "outputs": [],
   "source": [
    "records_I = results_I.records[0]\n",
    "\n",
    "id_I = records_I.sparcl_id\n",
    "data_release_I = records_I.data_release\n",
    "redshift_I = records_I.redshift\n",
    "flux_I = records_I.flux\n",
    "wavelength_I = records_I.wavelength\n",
    "model_I = records_I.model\n",
    "ivar_I = records_I.ivar\n",
    "mask_I = records_I.mask\n",
    "spectype_I = records_I.spectype"
   ]
  },
  {
   "cell_type": "markdown",
   "id": "020f7d50",
   "metadata": {},
   "source": [
    "<a class=\"anchor\" id=\"convert\"></a>\n",
    "## Convert retrieved output to Pandas DataFrame or Spectrum1D object"
   ]
  },
  {
   "cell_type": "markdown",
   "id": "3cbb5458",
   "metadata": {},
   "source": [
    "#### Pandas DataFrame:"
   ]
  },
  {
   "cell_type": "code",
   "execution_count": null,
   "id": "0e7e06ea",
   "metadata": {
    "tags": []
   },
   "outputs": [],
   "source": [
    "df = pd.DataFrame([[r.sparcl_id, r.redshift, r.wavelength, r.flux,]\n",
    "                    for r in results_I.records],\n",
    "                  columns=['sparcl_id', 'redshift', 'wavelength', 'flux'])\n",
    "df"
   ]
  },
  {
   "cell_type": "markdown",
   "id": "de3baaf9",
   "metadata": {},
   "source": [
    "#### Spectrum1D:\n",
    "When applicable, the units for each field are documented on the [Fields tab of the astrosparcl website](https://astrosparcl.datalab.noirlab.edu/sparc/sfc/)"
   ]
  },
  {
   "cell_type": "code",
   "execution_count": null,
   "id": "1fc03e7e",
   "metadata": {
    "tags": []
   },
   "outputs": [],
   "source": [
    "specs = [Spectrum1D(spectral_axis = r.wavelength*u.AA,\n",
    "                    flux = np.array(r.flux)* 10**-17 * u.Unit('erg cm-2 s-1 AA-1'),\n",
    "                    uncertainty = InverseVariance(np.array(r.ivar)),\n",
    "                    redshift = r.redshift,\n",
    "                    mask = r.mask)\n",
    "        for r in results_I.records]\n",
    "specs[0]"
   ]
  },
  {
   "cell_type": "code",
   "execution_count": null,
   "id": "ee58cd93",
   "metadata": {
    "tags": []
   },
   "outputs": [],
   "source": [
    "# Plot a couple\n",
    "f, ax = plt.subplots()  \n",
    "ax.step(specs[0].spectral_axis, specs[0].flux) \n",
    "ax.step(specs[1].spectral_axis, specs[1].flux)\n",
    "plt.show()"
   ]
  },
  {
   "cell_type": "markdown",
   "id": "ce3ebae5",
   "metadata": {},
   "source": [
    "<a class=\"anchor\" id=\"plot\"></a>\n",
    "## Plot spectra"
   ]
  },
  {
   "cell_type": "code",
   "execution_count": null,
   "id": "35e2607b",
   "metadata": {
    "tags": []
   },
   "outputs": [],
   "source": [
    "def plot_spec(index, results):\n",
    "    \"\"\"\n",
    "    Pass an index value and the output from using client.retrieve()\n",
    "    to plot the spectrum at the specified index.\n",
    "    \"\"\"\n",
    "    \n",
    "    record = results.records[index]\n",
    "\n",
    "    sparcl_id = record.sparcl_id\n",
    "    data_release = record.data_release\n",
    "    flux = record.flux\n",
    "    wavelength = record.wavelength\n",
    "    model = record.model\n",
    "    spectype = record.spectype\n",
    "    redshift = record.redshift\n",
    "    ra = record.ra\n",
    "    dec = record.dec\n",
    "\n",
    "    plt.title(f\"Data Set = {data_release}\\n\"\n",
    "              f\"Type = {spectype}\\n\"\n",
    "              f\"ID = {sparcl_id}\\n\"\n",
    "              f\"Redshift = {redshift}\\n\"\n",
    "              f\"RA = {ra}\\n\"\n",
    "              f\"Dec = {dec}\", loc='left')\n",
    "    plt.xlabel('$\\lambda\\ [\\AA]$')\n",
    "    plt.ylabel('$f_{\\lambda}$ $(10^{-17}$ $erg$ $s^{-1}$ $cm^{-2}$ $\\AA^{-1})$')\n",
    "    \n",
    "    # Plot unsmoothed spectrum in grey\n",
    "    plt.plot(wavelength, flux, color='k', alpha=0.2, label='Unsmoothed spectrum')\n",
    "    \n",
    "    # Overplot spectrum smoothed using a 1-D Gaussian Kernel in black\n",
    "    plt.plot(wavelength, convolve(flux, Gaussian1DKernel(5)), color='k', label='Smoothed spectrum')\n",
    "    \n",
    "    # Overplot the model spectrum in red\n",
    "    plt.plot(wavelength, model, color='r', label='Model spectrum')\n",
    "    \n",
    "    plt.legend()\n",
    "    plt.show()"
   ]
  },
  {
   "cell_type": "code",
   "execution_count": null,
   "id": "a2545c6e",
   "metadata": {
    "tags": []
   },
   "outputs": [],
   "source": [
    "plot_spec(index=5, results=results_I)"
   ]
  },
  {
   "cell_type": "markdown",
   "id": "49cbc02a",
   "metadata": {},
   "source": [
    "<a class=\"anchor\" id=\"missing\"></a>\n",
    "## Use `client.missing()` to find missing SPARCL IDs in the SPARCL database"
   ]
  },
  {
   "cell_type": "code",
   "execution_count": null,
   "id": "c404a563",
   "metadata": {},
   "outputs": [],
   "source": [
    "client.missing?"
   ]
  },
  {
   "cell_type": "markdown",
   "id": "efc74105",
   "metadata": {},
   "source": [
    "#### When you try to retrieve records from the SPARCL database with IDs that do not exist in the SPARCL database, a warning message will appear:"
   ]
  },
  {
   "cell_type": "code",
   "execution_count": null,
   "id": "e1c06d56",
   "metadata": {
    "tags": []
   },
   "outputs": [],
   "source": [
    "ids_test = ['000025da-914b-4b67-b9a9-97cc811b0459',\n",
    "            '0000fabc-0e15-4d76-b44c-4f152f31de09',\n",
    "            '00001c20-b7ff-4367-af08-26432cd7e01d',\n",
    "            '0000403e-51da-43b0-a0e9-e806ea31ca9e',\n",
    "            'ddbb57ee-8e90-4a0d-823b-0f5d97028076']\n",
    "\n",
    "res_test = client.retrieve(uuid_list=ids_test)"
   ]
  },
  {
   "cell_type": "markdown",
   "id": "7e5b6f5c",
   "metadata": {},
   "source": [
    "#### In order to figure out which of the IDs from your list do not exist in the SPARCL database, use the `client.missing()` method:"
   ]
  },
  {
   "cell_type": "code",
   "execution_count": null,
   "id": "dd63d6b8",
   "metadata": {
    "tags": []
   },
   "outputs": [],
   "source": [
    "client.missing(uuid_list=ids_test)"
   ]
  }
 ],
 "metadata": {
  "kernelspec": {
   "display_name": "Python 3 (ipykernel)",
   "language": "python",
   "name": "python3"
  },
  "language_info": {
   "codemirror_mode": {
    "name": "ipython",
    "version": 3
   },
   "file_extension": ".py",
   "mimetype": "text/x-python",
   "name": "python",
   "nbconvert_exporter": "python",
   "pygments_lexer": "ipython3",
   "version": "3.10.15"
  }
 },
 "nbformat": 4,
 "nbformat_minor": 5
}
