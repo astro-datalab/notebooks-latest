{
 "cells": [
  {
   "cell_type": "code",
   "execution_count": 1,
   "id": "b20ea4e7",
   "metadata": {
    "execution": {
     "iopub.execute_input": "2024-08-29T19:37:14.801065Z",
     "iopub.status.busy": "2024-08-29T19:37:14.800817Z",
     "iopub.status.idle": "2024-08-29T19:37:14.806819Z",
     "shell.execute_reply": "2024-08-29T19:37:14.806400Z",
     "shell.execute_reply.started": "2024-08-29T19:37:14.801051Z"
    }
   },
   "outputs": [],
   "source": [
    "__nbid__ = '0051'\n",
    "__author__ = 'Alice Jacques <alice.jacques@noirlab.edu>, Steve Pothier <steve.pothier@noirlab.edu>, Adam Bolton <adam.bolton@noirlab.edu>'\n",
    "__version__ = '20240829' # yyyymmdd\n",
    "__datasets__ = ['sdss_dr16', 'boss_dr16', 'desi_edr']  \n",
    "__keywords__ = ['sparcl', 'spectroscopy', 'HowTo', 'sdss spectra', 'desi spectra', 'tutorial']"
   ]
  },
  {
   "cell_type": "markdown",
   "id": "b4162486",
   "metadata": {},
   "source": [
    "# How to use SPARCL\n",
    "SPectra Analysis and Retrievable Catalog Lab (SPARCL)"
   ]
  },
  {
   "cell_type": "markdown",
   "id": "45030923",
   "metadata": {},
   "source": [
    "### Table of contents\n",
    "* [Goals & Summary](#goalssummary)\n",
    "* [Disclaimer & attribution](#disclaimer)\n",
    "* [If necessary, install the most recent version of the SPARCL Client](#install)\n",
    "* [Imports and setup](#imports)\n",
    "* [Authentication for Data Lab](#authentication)\n",
    "* [Authentication for SPARCL](#auth_sparcl)\n",
    "* [Data sets available in SPARCL](#datasets)\n",
    "* [Get default field names](#defaultfieldnames)\n",
    "* [Get all field names](#allfieldnames)\n",
    "* [Data discovery I: using SPARCL's <tt>client.find()</tt> method](#datadiscoveryI)\n",
    "* [Data discovery II: using Data Lab's <tt>sparcl.main</tt> table](#datadiscoveryII)\n",
    "* [Retrieve records by <tt>sparcl_id</tt> using <tt>client.retrieve()</tt>](#retrieve)\n",
    "* [Retrieve records by <tt>specid</tt> using <tt>client.retrieve_by_specid()</tt>](#retrieve_specid)\n",
    "* [Reorder spectrum records](#reorder)\n",
    "* [Access fields in records](#access)\n",
    "* [Convert retrieved output to Pandas DataFrame or Spectrum1D object](#convert)\n",
    "* [Plot spectra](#plot)\n",
    "* [Use <tt>client.missing()</tt> to find missing IDs in the SPARCL database](#missing)"
   ]
  },
  {
   "cell_type": "markdown",
   "id": "acda2d5d",
   "metadata": {},
   "source": [
    "<a class=\"anchor\" id=\"goalssummary\"></a>\n",
    "## Goals & Summary \n",
    "\n",
    "SPARCL (SPectra Analysis and Retrievable Catalog Lab) is an online service for discovery and retrieval of one-dimensional optical-infrared spectra. SPARCL is designed to work for large survey datasets containing many millions of spectra, and to provide access to multiple different data sets through common methods. For more information, see the [SPARCL User Guide](https://astrosparcl.datalab.noirlab.edu/static/SPARCLUserManual.pdf).\n",
    "\n",
    "This notebook provides a basic introduction to using the SPARCL client (or sparclclient) to find and retrieve spectroscopic data within a Python notebook context. The sparclclient connects to the SPARCL server at [NSF's NOIRLab](https://noirlab.edu/public/) and provides access to the contents of the SPARCL database.\n",
    "\n",
    "To see the current data sets and number of spectra available in the SPARCL database, please visit the [SPARCL summary page](https://astrosparcl.datalab.noirlab.edu/sparc/).\n",
    "\n",
    "To get the latest sparclclient documentation, visit the [sparclclient readthedocs site](https://sparclclient.readthedocs.io/en/latest/).\n",
    "\n",
    "Feedback on SPARCL (questions, comments, science use cases, feature requests, bug reports, confusing error messages, etc.) can be submitted to datalab-spectro@noirlab.edu. For bug reports and confusing error messages, it's helpful if you include: a log of *what you did*, *the result you got*, and *the result you expected*.\n",
    "\n",
    "See our science use-case notebooks that use SPARCL:\n",
    "- [Introduction to DESI Early Data Release (EDR) at the Astro Data Lab](https://github.com/astro-datalab/notebooks-latest/blob/master/03_ScienceExamples/DESI/01_Intro_to_DESI_EDR.ipynb)\n",
    "- [Comparing SDSS and DESI spectra using SPARCL](https://github.com/astro-datalab/notebooks-latest/blob/master/03_ScienceExamples/DESI/02_DESI_EDR_SDSS_Comparison.ipynb)\n",
    "- [Stacking SDSS Spectra of Galaxies Selected from the BPT Diagram](https://github.com/astro-datalab/notebooks-latest/blob/master/03_ScienceExamples/EmLineGalaxies/01_EmLineGalaxies_SpectraStack.ipynb)\n",
    "- [Multi-wavelength Image Cutouts and SDSS Spectra of Active Galaxies with Extreme Emission-Line Ratios](https://github.com/astro-datalab/notebooks-latest/blob/master/03_ScienceExamples/EmLineGalaxies/02_EmLineGalaxies_Outliers.ipynb)"
   ]
  },
  {
   "cell_type": "markdown",
   "id": "c12173d5-9849-4113-808a-c920d912e244",
   "metadata": {},
   "source": [
    "<a class=\"anchor\" id=\"attribution\"></a>\n",
    "# Disclaimer & attribution\n",
    "\n",
    "Disclaimers\n",
    "-----------\n",
    "Note that using the Astro Data Lab constitutes your agreement with our minimal [Disclaimers](https://datalab.noirlab.edu/disclaimers.php).\n",
    "\n",
    "Acknowledgments\n",
    "---------------\n",
    "If you use **Astro Data Lab** in your published research, please include the text in your paper's Acknowledgments section:\n",
    "\n",
    "_This research uses services or data provided by the Astro Data Lab, which is part of the Community Science and Data Center (CSDC) Program of NSF NOIRLab. NOIRLab is operated by the Association of Universities for Research in Astronomy (AURA), Inc. under a cooperative agreement with the U.S. National Science Foundation._\n",
    "\n",
    "If you use **SPARCL jointly with the Astro Data Lab platform** (via JupyterLab, command-line, or web interface) in your published research, please include this text below in your paper's Acknowledgments section:\n",
    "\n",
    "_This research uses services or data provided by the SPectra Analysis and Retrievable Catalog Lab (SPARCL) and the Astro Data Lab, which are both part of the Community Science and Data Center (CSDC) Program of NSF NOIRLab. NOIRLab is operated by the Association of Universities for Research in Astronomy (AURA), Inc. under a cooperative agreement with the U.S. National Science Foundation._\n",
    "\n",
    "In either case **please cite the following papers**:\n",
    "\n",
    "* Data Lab concept paper: Fitzpatrick et al., \"The NOAO Data Laboratory: a conceptual overview\", SPIE, 9149, 2014, https://doi.org/10.1117/12.2057445\n",
    "\n",
    "* Astro Data Lab overview: Nikutta et al., \"Data Lab - A Community Science Platform\", Astronomy and Computing, 33, 2020, https://doi.org/10.1016/j.ascom.2020.100411\n",
    "\n",
    "If you are referring to the Data Lab JupyterLab / Jupyter Notebooks, cite:\n",
    "\n",
    "* Juneau et al., \"Jupyter-Enabled Astrophysical Analysis Using Data-Proximate Computing Platforms\", CiSE, 23, 15, 2021, https://doi.org/10.1109/MCSE.2021.3057097\n",
    "\n",
    "If publishing in a AAS journal, also add the keyword: `\\facility{Astro Data Lab}`\n",
    "\n",
    "And if you are using SPARCL, please also add `\\software{SPARCL}` and cite:\n",
    "\n",
    "* Juneau et al., \"SPARCL: SPectra Analysis and Retrievable Catalog Lab\", Conference Proceedings for ADASS XXXIII, 2024\n",
    "https://doi.org/10.48550/arXiv.2401.05576\n",
    "\n",
    "The NOIRLab Library maintains [lists of proper acknowledgments](https://noirlab.edu/science/about/scientific-acknowledgments) to use when publishing papers using the Lab's facilities, data, or services."
   ]
  },
  {
   "cell_type": "markdown",
   "id": "6c39b96f",
   "metadata": {},
   "source": [
    "<a class=\"anchor\" id=\"install\"></a>\n",
    "### If necessary, install the most recent version of the SPARCL Client:\n",
    "If you are using the Astro Data Lab Jupyter notebook server, you do not need to run this cell.\n",
    "### NOTE: After installing the most recent version, please restart your kernel."
   ]
  },
  {
   "cell_type": "code",
   "execution_count": 2,
   "id": "4cb3b11f",
   "metadata": {
    "execution": {
     "iopub.execute_input": "2024-08-29T19:37:14.807483Z",
     "iopub.status.busy": "2024-08-29T19:37:14.807359Z",
     "iopub.status.idle": "2024-08-29T19:37:14.848685Z",
     "shell.execute_reply": "2024-08-29T19:37:14.848253Z",
     "shell.execute_reply.started": "2024-08-29T19:37:14.807473Z"
    },
    "tags": []
   },
   "outputs": [],
   "source": [
    "## Uncomment the following only if SPARCL client is not already installed\n",
    "#!pip install sparclclient"
   ]
  },
  {
   "cell_type": "markdown",
   "id": "25a609e2",
   "metadata": {},
   "source": [
    "<a class=\"anchor\" id=\"imports\"></a>\n",
    "## Imports and setup"
   ]
  },
  {
   "cell_type": "code",
   "execution_count": 3,
   "id": "5d913a9b",
   "metadata": {
    "execution": {
     "iopub.execute_input": "2024-08-29T19:37:14.849868Z",
     "iopub.status.busy": "2024-08-29T19:37:14.849738Z",
     "iopub.status.idle": "2024-08-29T19:37:16.606517Z",
     "shell.execute_reply": "2024-08-29T19:37:16.605974Z",
     "shell.execute_reply.started": "2024-08-29T19:37:14.849857Z"
    },
    "tags": []
   },
   "outputs": [],
   "source": [
    "# SPARCL imports\n",
    "from sparcl.client import SparclClient\n",
    "\n",
    "# 3rd party imports\n",
    "import numpy as np\n",
    "import astropy.units as u\n",
    "from specutils import Spectrum1D\n",
    "from astropy.nddata import InverseVariance\n",
    "from astropy.convolution import convolve, Gaussian1DKernel\n",
    "%matplotlib inline\n",
    "import matplotlib.pyplot as plt\n",
    "import pandas as pd\n",
    "\n",
    "# Data Lab imports\n",
    "from dl import queryClient as qc\n",
    "from dl import authClient as ac\n",
    "from getpass import getpass\n",
    "\n",
    "# plots default setup\n",
    "plt.rcParams['font.size'] = 14\n",
    "plt.rcParams['figure.figsize'] = (14,8)"
   ]
  },
  {
   "cell_type": "markdown",
   "id": "bcff154c",
   "metadata": {},
   "source": [
    "<a class=\"anchor\" id=\"authentication\"></a>\n",
    "# Authentication\n",
    "Much of the functionality of Data Lab can be accessed without explicitly logging in (the service then uses an anonymous login). But some capacities, for instance saving the results of your queries to your virtual storage space, require a login (i.e. you will need a registered user account).\n",
    "\n",
    "If you need to log in to Data Lab, un-comment the cell below and execute it:"
   ]
  },
  {
   "cell_type": "code",
   "execution_count": 4,
   "id": "50a1081b",
   "metadata": {
    "execution": {
     "iopub.execute_input": "2024-08-29T19:37:16.607962Z",
     "iopub.status.busy": "2024-08-29T19:37:16.607224Z",
     "iopub.status.idle": "2024-08-29T19:37:16.612218Z",
     "shell.execute_reply": "2024-08-29T19:37:16.611869Z",
     "shell.execute_reply.started": "2024-08-29T19:37:16.607945Z"
    },
    "tags": []
   },
   "outputs": [
    {
     "data": {
      "text/plain": [
       "'ajacques'"
      ]
     },
     "execution_count": 4,
     "metadata": {},
     "output_type": "execute_result"
    }
   ],
   "source": [
    "#token = ac.login(input(\"Enter user name: (+ENTER) \"),getpass(\"Enter password: (+ENTER) \"))\n",
    "ac.whoAmI()"
   ]
  },
  {
   "cell_type": "markdown",
   "id": "5647c893",
   "metadata": {},
   "source": [
    "#### We now create a SPARCL client instance:"
   ]
  },
  {
   "cell_type": "code",
   "execution_count": 5,
   "id": "ed2bfd68-6a5a-486f-84ee-c9f1f7d1db38",
   "metadata": {
    "execution": {
     "iopub.execute_input": "2024-08-29T19:37:16.612872Z",
     "iopub.status.busy": "2024-08-29T19:37:16.612736Z",
     "iopub.status.idle": "2024-08-29T19:37:16.915705Z",
     "shell.execute_reply": "2024-08-29T19:37:16.915117Z",
     "shell.execute_reply.started": "2024-08-29T19:37:16.612860Z"
    },
    "tags": []
   },
   "outputs": [
    {
     "data": {
      "text/plain": [
       "(sparclclient:1.2.2, api:12.0, https://astrosparcl.datalab.noirlab.edu/sparc, client_hash=, verbose=False, connect_timeout=1.1, read_timeout=5400.0)"
      ]
     },
     "execution_count": 5,
     "metadata": {},
     "output_type": "execute_result"
    }
   ],
   "source": [
    "client = SparclClient()\n",
    "client"
   ]
  },
  {
   "cell_type": "markdown",
   "id": "43e8678f-21a6-4246-8061-358c19f8ff5a",
   "metadata": {},
   "source": [
    "<a class=\"anchor\" id=\"auth_sparcl\"></a>\n",
    "# Authentication for SPARCL\n",
    "All public SPARCL data sets can be accessed without explicitly logging in. However, some data sets are private and can only be accessed by authorized users. If you are an authorized user and wish to login to SPARCL, un-comment the cell below and enter your SSO user name and password.\n",
    "\n",
    "To logout of SPARCL after a session, use:\n",
    "```\n",
    "client.logout()\n",
    "```\n",
    "\n",
    "For assistance with SPARCL authentication/authorization please contact us at datalab-spectro@noirlab.edu"
   ]
  },
  {
   "cell_type": "code",
   "execution_count": 6,
   "id": "c33c4445-7ea4-42fb-9c0c-549dcf8180dc",
   "metadata": {
    "execution": {
     "iopub.execute_input": "2024-08-29T19:37:16.916686Z",
     "iopub.status.busy": "2024-08-29T19:37:16.916525Z",
     "iopub.status.idle": "2024-08-29T19:37:16.919258Z",
     "shell.execute_reply": "2024-08-29T19:37:16.918783Z",
     "shell.execute_reply.started": "2024-08-29T19:37:16.916674Z"
    }
   },
   "outputs": [],
   "source": [
    "#client.login(input(\"Enter SSO user name: (+ENTER) \"),getpass(\"Enter password: (+ENTER) \"))"
   ]
  },
  {
   "cell_type": "markdown",
   "id": "a4e92c80-c8bb-434a-acb5-9973634ba2f2",
   "metadata": {},
   "source": [
    "#### View which data sets you have access to:"
   ]
  },
  {
   "cell_type": "code",
   "execution_count": 7,
   "id": "944b18e6-3d8b-4239-9514-89103da393fa",
   "metadata": {
    "execution": {
     "iopub.execute_input": "2024-08-29T19:37:16.920059Z",
     "iopub.status.busy": "2024-08-29T19:37:16.919929Z",
     "iopub.status.idle": "2024-08-29T19:37:16.994903Z",
     "shell.execute_reply": "2024-08-29T19:37:16.994427Z",
     "shell.execute_reply.started": "2024-08-29T19:37:16.920048Z"
    }
   },
   "outputs": [
    {
     "data": {
      "text/plain": [
       "{'Loggedin_As': 'Anonymous',\n",
       " 'Authorized_Datasets': {'BOSS-DR16', 'DESI-EDR', 'SDSS-DR16'}}"
      ]
     },
     "execution_count": 7,
     "metadata": {},
     "output_type": "execute_result"
    }
   ],
   "source": [
    "client.authorized"
   ]
  },
  {
   "cell_type": "markdown",
   "id": "f9d8d4cf",
   "metadata": {},
   "source": [
    "<a class=\"anchor\" id=\"datasets\"></a>\n",
    "## Data sets available in SPARCL\n",
    "List all currently available data sets from the server/url associated with client"
   ]
  },
  {
   "cell_type": "code",
   "execution_count": 8,
   "id": "da920ad2",
   "metadata": {
    "execution": {
     "iopub.execute_input": "2024-08-29T19:37:16.996838Z",
     "iopub.status.busy": "2024-08-29T19:37:16.996701Z",
     "iopub.status.idle": "2024-08-29T19:37:17.000050Z",
     "shell.execute_reply": "2024-08-29T19:37:16.999588Z",
     "shell.execute_reply.started": "2024-08-29T19:37:16.996826Z"
    },
    "tags": []
   },
   "outputs": [
    {
     "data": {
      "text/plain": [
       "{'BOSS-DR16', 'DESI-EDR', 'SDSS-DR16', 'SDSS-DR17-test'}"
      ]
     },
     "execution_count": 8,
     "metadata": {},
     "output_type": "execute_result"
    }
   ],
   "source": [
    "client.all_datasets"
   ]
  },
  {
   "cell_type": "markdown",
   "id": "27e427e6",
   "metadata": {},
   "source": [
    "<a class=\"anchor\" id=\"defaultfieldnames\"></a>\n",
    "## Get default field names\n",
    "Gets fields tagged as 'default' that are common to all data sets in the `dataset_list` passed to the function. If `dataset_list` is None (the default), the function returns the intersection of 'default' fields across all datasets currently available in the SPARC database."
   ]
  },
  {
   "cell_type": "code",
   "execution_count": 9,
   "id": "53de9d86",
   "metadata": {
    "execution": {
     "iopub.execute_input": "2024-08-29T19:37:17.000805Z",
     "iopub.status.busy": "2024-08-29T19:37:17.000668Z",
     "iopub.status.idle": "2024-08-29T19:37:17.059850Z",
     "shell.execute_reply": "2024-08-29T19:37:17.059262Z",
     "shell.execute_reply.started": "2024-08-29T19:37:17.000795Z"
    },
    "tags": []
   },
   "outputs": [
    {
     "data": {
      "text/plain": [
       "\u001b[0;31mSignature:\u001b[0m \u001b[0mclient\u001b[0m\u001b[0;34m.\u001b[0m\u001b[0mget_default_fields\u001b[0m\u001b[0;34m(\u001b[0m\u001b[0;34m*\u001b[0m\u001b[0;34m,\u001b[0m \u001b[0mdataset_list\u001b[0m\u001b[0;34m=\u001b[0m\u001b[0;32mNone\u001b[0m\u001b[0;34m)\u001b[0m\u001b[0;34m\u001b[0m\u001b[0;34m\u001b[0m\u001b[0m\n",
       "\u001b[0;31mDocstring:\u001b[0m\n",
       "Get fields tagged as 'default' that are in DATASET_LIST.\n",
       "These are the fields used for the DEFAULT value of the include\n",
       "parameter of client.retrieve().\n",
       "\n",
       "Args:\n",
       "    dataset_list (:obj:`list`, optional): List of data sets from\n",
       "        which to get the default fields. Defaults to None, which\n",
       "        will return the intersection of default fields in all\n",
       "        data sets hosted on the SPARCL database.\n",
       "\n",
       "Returns:\n",
       "    List of fields tagged as 'default' from DATASET_LIST.\n",
       "\n",
       "Example:\n",
       "    >>> client = SparclClient()\n",
       "    >>> client.get_default_fields()\n",
       "    ['dec', 'flux', 'ra', 'sparcl_id', 'specid', 'wavelength']\n",
       "\u001b[0;31mFile:\u001b[0m      /data0/sw/anaconda3/lib/python3.10/site-packages/sparcl/client.py\n",
       "\u001b[0;31mType:\u001b[0m      method"
      ]
     },
     "metadata": {},
     "output_type": "display_data"
    }
   ],
   "source": [
    "client.get_default_fields?"
   ]
  },
  {
   "cell_type": "code",
   "execution_count": 10,
   "id": "59d6be11",
   "metadata": {
    "execution": {
     "iopub.execute_input": "2024-08-29T19:37:17.060770Z",
     "iopub.status.busy": "2024-08-29T19:37:17.060614Z",
     "iopub.status.idle": "2024-08-29T19:37:17.080712Z",
     "shell.execute_reply": "2024-08-29T19:37:17.080245Z",
     "shell.execute_reply.started": "2024-08-29T19:37:17.060758Z"
    },
    "tags": []
   },
   "outputs": [
    {
     "data": {
      "text/plain": [
       "['dec', 'flux', 'ra', 'sparcl_id', 'specid', 'wavelength']"
      ]
     },
     "execution_count": 10,
     "metadata": {},
     "output_type": "execute_result"
    }
   ],
   "source": [
    "client.get_default_fields()"
   ]
  },
  {
   "cell_type": "markdown",
   "id": "5121cc55",
   "metadata": {},
   "source": [
    "<a class=\"anchor\" id=\"allfieldnames\"></a>\n",
    "## Get all field names\n",
    "Gets fields tagged as 'all' that are common to all data sets in the `dataset_list` passed to the function. If `dataset_list` is None (the default), the function returns the intersection of 'all' fields across all datasets currently available in the SPARC database."
   ]
  },
  {
   "cell_type": "code",
   "execution_count": 11,
   "id": "e1724445",
   "metadata": {
    "execution": {
     "iopub.execute_input": "2024-08-29T19:37:17.081369Z",
     "iopub.status.busy": "2024-08-29T19:37:17.081244Z",
     "iopub.status.idle": "2024-08-29T19:37:17.134123Z",
     "shell.execute_reply": "2024-08-29T19:37:17.133595Z",
     "shell.execute_reply.started": "2024-08-29T19:37:17.081359Z"
    },
    "tags": []
   },
   "outputs": [
    {
     "data": {
      "text/plain": [
       "\u001b[0;31mSignature:\u001b[0m \u001b[0mclient\u001b[0m\u001b[0;34m.\u001b[0m\u001b[0mget_all_fields\u001b[0m\u001b[0;34m(\u001b[0m\u001b[0;34m*\u001b[0m\u001b[0;34m,\u001b[0m \u001b[0mdataset_list\u001b[0m\u001b[0;34m=\u001b[0m\u001b[0;32mNone\u001b[0m\u001b[0;34m)\u001b[0m\u001b[0;34m\u001b[0m\u001b[0;34m\u001b[0m\u001b[0m\n",
       "\u001b[0;31mDocstring:\u001b[0m\n",
       "Get fields tagged as 'all' that are in DATASET_LIST.\n",
       "These are the fields used for the ALL value of the include parameter\n",
       "of client.retrieve().\n",
       "\n",
       "Args:\n",
       "    dataset_list (:obj:`list`, optional): List of data sets from\n",
       "        which to get all fields. Defaults to None, which\n",
       "        will return the intersection of all fields in all\n",
       "        data sets hosted on the SPARCL database.\n",
       "\n",
       "Returns:\n",
       "    List of fields tagged as 'all' from DATASET_LIST.\n",
       "\n",
       "Example:\n",
       "    >>> client = SparclClient()\n",
       "    >>> client.get_all_fields()\n",
       "    ['data_release', 'datasetgroup', 'dateobs', 'dateobs_center', 'dec', 'exptime', 'flux', 'instrument', 'ivar', 'mask', 'model', 'ra', 'redshift', 'redshift_err', 'redshift_warning', 'site', 'sparcl_id', 'specid', 'specprimary', 'spectype', 'survey', 'targetid', 'telescope', 'wave_sigma', 'wavelength', 'wavemax', 'wavemin']\n",
       "\u001b[0;31mFile:\u001b[0m      /data0/sw/anaconda3/lib/python3.10/site-packages/sparcl/client.py\n",
       "\u001b[0;31mType:\u001b[0m      method"
      ]
     },
     "metadata": {},
     "output_type": "display_data"
    }
   ],
   "source": [
    "client.get_all_fields?"
   ]
  },
  {
   "cell_type": "code",
   "execution_count": 12,
   "id": "3ec96b73",
   "metadata": {
    "execution": {
     "iopub.execute_input": "2024-08-29T19:37:17.134938Z",
     "iopub.status.busy": "2024-08-29T19:37:17.134768Z",
     "iopub.status.idle": "2024-08-29T19:37:17.180295Z",
     "shell.execute_reply": "2024-08-29T19:37:17.179796Z",
     "shell.execute_reply.started": "2024-08-29T19:37:17.134926Z"
    },
    "tags": []
   },
   "outputs": [
    {
     "name": "stdout",
     "output_type": "stream",
     "text": [
      "['data_release', 'datasetgroup', 'dateobs', 'dateobs_center', 'dec', 'exptime', 'flux', 'instrument', 'ivar', 'mask', 'model', 'ra', 'redshift', 'redshift_err', 'redshift_warning', 'site', 'sparcl_id', 'specid', 'specprimary', 'spectype', 'survey', 'targetid', 'telescope', 'wave_sigma', 'wavelength', 'wavemax', 'wavemin']\n"
     ]
    }
   ],
   "source": [
    "print(sorted(client.get_all_fields()))"
   ]
  },
  {
   "cell_type": "code",
   "execution_count": 13,
   "id": "3ebd397b",
   "metadata": {
    "execution": {
     "iopub.execute_input": "2024-08-29T19:37:17.181088Z",
     "iopub.status.busy": "2024-08-29T19:37:17.180949Z",
     "iopub.status.idle": "2024-08-29T19:37:17.238448Z",
     "shell.execute_reply": "2024-08-29T19:37:17.237908Z",
     "shell.execute_reply.started": "2024-08-29T19:37:17.181077Z"
    },
    "tags": []
   },
   "outputs": [
    {
     "name": "stdout",
     "output_type": "stream",
     "text": [
      "['ancillary_target1', 'ancillary_target2', 'anyandmask', 'anyormask', 'bluefiber', 'boss_specobj_id', 'boss_target1', 'boss_target2', 'calibflux', 'calibflux_ivar', 'chi68p', 'chunk', 'class_noqso', 'class_person', 'comments_person', 'cx', 'cy', 'cz', 'data_release', 'datasetgroup', 'dateobs', 'dateobs_center', 'dec', 'deredsn2', 'designid', 'dof', 'eboss_target0', 'eboss_target1', 'eboss_target2', 'eboss_target_id', 'elodie_bv', 'elodie_dof', 'elodie_feh', 'elodie_filename', 'elodie_logg', 'elodie_object', 'elodie_rchi2', 'elodie_sptype', 'elodie_teff', 'elodie_z', 'elodie_z_err', 'elodie_z_modelerr', 'exptime', 'fiberid', 'firstrelease', 'flux', 'fluxobjid', 'fracnsighi', 'fracnsiglo', 'fracnsigma', 'instrument', 'ivar', 'lambda_eff', 'legacy_target1', 'legacy_target2', 'marvels_target1', 'marvels_target2', 'mask', 'mjd', 'model', 'npoly', 'nspecobs', 'nturnoff', 'objid', 'plate', 'plateid', 'platequality', 'platerun', 'platesn2', 'primtarget', 'programname', 'ra', 'rchi2', 'rchi2diff', 'rchi2diff_noqso', 'redshift', 'redshift_err', 'redshift_warning', 'run1d', 'run2d', 'sectarget', 'segue1_target1', 'segue1_target2', 'segue2_target1', 'segue2_target2', 'site', 'sky', 'sn_median', 'sn_median_all', 'snturnoff', 'sourcetype', 'sparcl_id', 'spec1_g', 'spec1_i', 'spec1_r', 'spec2_g', 'spec2_i', 'spec2_r', 'specboss', 'special_target1', 'special_target2', 'specid', 'speclegacy', 'specprimary', 'specsdss', 'specsegue', 'specsegue1', 'specsegue2', 'spectroflux', 'spectroflux_ivar', 'spectrographid', 'spectroskyflux', 'spectrosynflux', 'spectrosynflux_ivar', 'spectype', 'subclass', 'subclass_noqso', 'survey', 'targetid', 'targetobjid', 'targettype', 'tcolumn', 'telescope', 'tfile', 'theta', 'thing_id', 'thing_id_targeting', 'tile', 'vdisp', 'vdisp_err', 'vdispchi2', 'vdispdof', 'vdispnpix', 'vdispz', 'vdispz_err', 'wave_sigma', 'wavelength', 'wavemax', 'wavemin', 'wcoverage', 'xfocal', 'yfocal', 'z_conf_person', 'z_err_noqso', 'z_noqso', 'z_person', 'zoffset', 'zwarning_noqso']\n"
     ]
    }
   ],
   "source": [
    "print(sorted(client.get_all_fields(dataset_list=['SDSS-DR16', 'BOSS-DR16'])))"
   ]
  },
  {
   "cell_type": "code",
   "execution_count": 14,
   "id": "2d9164d2",
   "metadata": {
    "execution": {
     "iopub.execute_input": "2024-08-29T19:37:17.239166Z",
     "iopub.status.busy": "2024-08-29T19:37:17.239029Z",
     "iopub.status.idle": "2024-08-29T19:37:17.271824Z",
     "shell.execute_reply": "2024-08-29T19:37:17.271317Z",
     "shell.execute_reply.started": "2024-08-29T19:37:17.239155Z"
    },
    "tags": []
   },
   "outputs": [
    {
     "name": "stdout",
     "output_type": "stream",
     "text": [
      "['bgs_target', 'chi2', 'cmx_target', 'coadd_fiberstatus', 'coadd_numexp', 'coadd_numnight', 'coadd_numtile', 'coeff', 'data_release', 'datasetgroup', 'dateobs', 'dateobs_center', 'dec', 'deltachi2', 'desi_target', 'exptime', 'fa_target', 'fa_type', 'firstnight', 'flux', 'healpix', 'instrument', 'ivar', 'lastnight', 'mask', 'mean_delta_x', 'mean_delta_y', 'mean_fiber_dec', 'mean_fiber_ra', 'mean_mjd', 'mean_psf_to_fiber_specflux', 'model', 'mws_target', 'ncoeff', 'npixels', 'numobs_init', 'objtype', 'obsconditions', 'plate_dec', 'plate_ra', 'pmdec', 'pmra', 'priority_init', 'program', 'ra', 'redshift', 'redshift_err', 'redshift_warning', 'ref_epoch', 'rms_delta_x', 'rms_delta_y', 'scnd_target', 'site', 'sparcl_id', 'specid', 'specprimary', 'spectype', 'spgrpval', 'std_fiber_dec', 'std_fiber_ra', 'subpriority', 'subtype', 'survey', 'sv1_bgs_target', 'sv1_desi_target', 'sv1_mws_target', 'sv1_scnd_target', 'sv2_bgs_target', 'sv2_desi_target', 'sv2_mws_target', 'sv2_scnd_target', 'sv3_bgs_target', 'sv3_desi_target', 'sv3_mws_target', 'sv3_scnd_target', 'sv_nspec', 'sv_primary', 'targetid', 'telescope', 'tsnr2_bgs', 'tsnr2_elg', 'tsnr2_gpbbackup', 'tsnr2_gpbbright', 'tsnr2_gpbdark', 'tsnr2_lrg', 'tsnr2_lya', 'tsnr2_qso', 'wave_sigma', 'wavelength', 'wavemax', 'wavemin', 'zcat_nspec']\n"
     ]
    }
   ],
   "source": [
    "print(sorted(client.get_all_fields(dataset_list=['DESI-EDR'])))"
   ]
  },
  {
   "cell_type": "markdown",
   "id": "bd9cc611",
   "metadata": {},
   "source": [
    "<a class=\"anchor\" id=\"datadiscoveryI\"></a>\n",
    "## Data discovery I: using SPARCL's `client.find()` method\n",
    "The first way you can discover your data is by using SPARCL's `client.find()` method, which allows you to find records in the SPARCL database based on certain parameters passed to the function. Only Core fields may be in the `outfields` and `constraints` parameters. The descriptions for all fields, including Core fields, is located [here](https://astrosparcl.datalab.noirlab.edu/sparc/sfc/). The SPARCL Core fields constraint types are:\n",
    "\n",
    "\n",
    "| Field name       | Constraint type | Example |\n",
    "|:----------------|:---------------|:-------|\n",
    "| data_release     | List of allowed values<br>from [SPARCL Categoricals](https://astrosparcl.datalab.noirlab.edu/sparc/cats/) | ['DESI-EDR', 'BOSS-DR16', 'SDSS-DR16']\n",
    "| datasetgroup     | List of allowed values<br>from [SPARCL Categoricals](https://astrosparcl.datalab.noirlab.edu/sparc/cats/) | ['DESI', 'SDSS_BOSS']\n",
    "| dateobs_center   | Range of values | ['2013-03-14T10:16:17Z',<br>'2014-05-24T12:10:00Z']\n",
    "| dec              | Range of values | [2.03, 7.76]\n",
    "| exptime          | Range of values | [3603.46, 3810.12]\n",
    "| instrument       | List of allowed values<br>from [SPARCL Categoricals](https://astrosparcl.datalab.noirlab.edu/sparc/cats/) | ['SDSS', 'BOSS', 'DESI']\n",
    "| ra               | Range of values (may not<br>\"wrap\" around RA=0) | [44.53, 47.96]\n",
    "| redshift         | Range of values | [0.5, 0.9]\n",
    "| redshift_err     | Range of values | [0.000225, 0.000516]\n",
    "| redshift_warning | List of values  | [0, 3, 5]\n",
    "| sparcl_id               | List of values (but not<br>intended for data discovery) | ['00001658-460c-4da1-987d-e493d8c9b89b',<br>'000017b6-56a2-4f87-8828-3a3409ba1083']\n",
    "| site             | List of allowed values<br>from [SPARCL Categoricals](https://astrosparcl.datalab.noirlab.edu/sparc/cats/) |  ['apo', 'kpno']\n",
    "| specid           | List of values | [6988698046080241664, 6971782884823945216]\n",
    "| spectype         | List of allowed values<br>from [SPARCL Categoricals](https://astrosparcl.datalab.noirlab.edu/sparc/cats/) | ['GALAXY', 'STAR', 'QSO']\n",
    "| specprimary      | List of values (but typically<br>would only include 1 if<br>being used for data<br>discovery constraints) | [1]\n",
    "| targetid         | List of values | [1237679502171374316, 1237678619584692841]\n",
    "| telescope        | List of allowed values<br>from [SPARCL Categoricals](https://astrosparcl.datalab.noirlab.edu/sparc/cats/) | ['sloan25m', 'kp4m']\n",
    "| wavemin          | Range of values | [3607, 3608]\n",
    "| wavemax          | Range of values | [10363, 10364]"
   ]
  },
  {
   "cell_type": "code",
   "execution_count": 15,
   "id": "fe2e2df8",
   "metadata": {
    "execution": {
     "iopub.execute_input": "2024-08-29T19:37:17.272600Z",
     "iopub.status.busy": "2024-08-29T19:37:17.272452Z",
     "iopub.status.idle": "2024-08-29T19:37:17.317785Z",
     "shell.execute_reply": "2024-08-29T19:37:17.317304Z",
     "shell.execute_reply.started": "2024-08-29T19:37:17.272589Z"
    },
    "tags": []
   },
   "outputs": [
    {
     "data": {
      "text/plain": [
       "\u001b[0;31mSignature:\u001b[0m\n",
       "\u001b[0mclient\u001b[0m\u001b[0;34m.\u001b[0m\u001b[0mfind\u001b[0m\u001b[0;34m(\u001b[0m\u001b[0;34m\u001b[0m\n",
       "\u001b[0;34m\u001b[0m    \u001b[0moutfields\u001b[0m\u001b[0;34m=\u001b[0m\u001b[0;32mNone\u001b[0m\u001b[0;34m,\u001b[0m\u001b[0;34m\u001b[0m\n",
       "\u001b[0;34m\u001b[0m    \u001b[0;34m*\u001b[0m\u001b[0;34m,\u001b[0m\u001b[0;34m\u001b[0m\n",
       "\u001b[0;34m\u001b[0m    \u001b[0mconstraints\u001b[0m\u001b[0;34m=\u001b[0m\u001b[0;34m{\u001b[0m\u001b[0;34m}\u001b[0m\u001b[0;34m,\u001b[0m\u001b[0;34m\u001b[0m\n",
       "\u001b[0;34m\u001b[0m    \u001b[0mlimit\u001b[0m\u001b[0;34m=\u001b[0m\u001b[0;36m500\u001b[0m\u001b[0;34m,\u001b[0m\u001b[0;34m\u001b[0m\n",
       "\u001b[0;34m\u001b[0m    \u001b[0msort\u001b[0m\u001b[0;34m=\u001b[0m\u001b[0;32mNone\u001b[0m\u001b[0;34m,\u001b[0m\u001b[0;34m\u001b[0m\n",
       "\u001b[0;34m\u001b[0m    \u001b[0mverbose\u001b[0m\u001b[0;34m=\u001b[0m\u001b[0;32mNone\u001b[0m\u001b[0;34m,\u001b[0m\u001b[0;34m\u001b[0m\n",
       "\u001b[0;34m\u001b[0m\u001b[0;34m)\u001b[0m\u001b[0;34m\u001b[0m\u001b[0;34m\u001b[0m\u001b[0m\n",
       "\u001b[0;31mDocstring:\u001b[0m\n",
       "Find records in the SPARCL database.\n",
       "\n",
       "Args:\n",
       "    outfields (:obj:`list`, optional): List of fields to return.\n",
       "        Only CORE fields may be passed to this parameter.\n",
       "        Defaults to None, which will return only the sparcl_id\n",
       "        and _dr fields.\n",
       "\n",
       "    constraints (:obj:`dict`, optional): Key-Value pairs of\n",
       "        constraints to place on the record selection. The Key\n",
       "        part of the Key-Value pair is the field name and the\n",
       "        Value part of the Key-Value pair is a list of values.\n",
       "        Defaults to no constraints. This will return all records in the\n",
       "        database subject to restrictions imposed by the ``limit``\n",
       "        parameter.\n",
       "\n",
       "    limit (:obj:`int`, optional): Maximum number of records to\n",
       "        return. Defaults to 500.\n",
       "\n",
       "    sort (:obj:`list`, optional): Comma separated list of fields\n",
       "        to sort by. Defaults to None. (no sorting)\n",
       "\n",
       "    verbose (:obj:`bool`, optional): Set to True for in-depth return\n",
       "        statement. Defaults to False.\n",
       "\n",
       "Returns:\n",
       "    :class:`~sparcl.Results.Found`: Contains header and records.\n",
       "\n",
       "Example:\n",
       "    >>> client = SparclClient()\n",
       "    >>> outs = ['sparcl_id', 'ra', 'dec']\n",
       "    >>> cons = {'spectype': ['GALAXY'], 'redshift': [0.5, 0.9]}\n",
       "    >>> found = client.find(outfields=outs, constraints=cons)\n",
       "    >>> sorted(list(found.records[0].keys()))\n",
       "    ['_dr', 'dec', 'ra', 'sparcl_id']\n",
       "\u001b[0;31mFile:\u001b[0m      /data0/sw/anaconda3/lib/python3.10/site-packages/sparcl/client.py\n",
       "\u001b[0;31mType:\u001b[0m      method"
      ]
     },
     "metadata": {},
     "output_type": "display_data"
    }
   ],
   "source": [
    "client.find?"
   ]
  },
  {
   "cell_type": "markdown",
   "id": "2ecf1aa4",
   "metadata": {},
   "source": [
    "#### Define the fields we want returned (`outfields`) and the constraints (`constraints`):"
   ]
  },
  {
   "cell_type": "code",
   "execution_count": 16,
   "id": "f1a3fd21",
   "metadata": {
    "execution": {
     "iopub.execute_input": "2024-08-29T19:37:17.318537Z",
     "iopub.status.busy": "2024-08-29T19:37:17.318399Z",
     "iopub.status.idle": "2024-08-29T19:37:17.363120Z",
     "shell.execute_reply": "2024-08-29T19:37:17.362768Z",
     "shell.execute_reply.started": "2024-08-29T19:37:17.318526Z"
    },
    "tags": []
   },
   "outputs": [],
   "source": [
    "out = ['sparcl_id', 'ra', 'dec', 'redshift', 'spectype', 'data_release', 'redshift_err']\n",
    "cons = {'spectype': ['GALAXY'],\n",
    "        'redshift': [0.5, 0.9]}"
   ]
  },
  {
   "cell_type": "markdown",
   "id": "c423b17d",
   "metadata": {},
   "source": [
    "#### Execute the `client.find()` method with our parameters:\n",
    "The `limit` argument here is being used for demonstration purposes only, and simply returns only the first 20 results here."
   ]
  },
  {
   "cell_type": "code",
   "execution_count": 17,
   "id": "c55933c2",
   "metadata": {
    "execution": {
     "iopub.execute_input": "2024-08-29T19:37:17.363753Z",
     "iopub.status.busy": "2024-08-29T19:37:17.363624Z",
     "iopub.status.idle": "2024-08-29T19:37:17.479074Z",
     "shell.execute_reply": "2024-08-29T19:37:17.478762Z",
     "shell.execute_reply.started": "2024-08-29T19:37:17.363740Z"
    },
    "tags": []
   },
   "outputs": [
    {
     "data": {
      "text/plain": [
       "['00000c19-9c85-11ee-bf5c-525400ad1336, DESI-EDR, 176.814829, 0.594318, 0.000061',\n",
       " '00000f02-a2dc-11ee-ac91-525400ad1336, BOSS-DR16, 230.697100, 0.522124, 0.000107',\n",
       " '00001b3a-a41b-11ee-8210-525400ad1336, BOSS-DR16, 9.635124, 0.542893, 0.000181',\n",
       " '00001cbb-9c7e-11ee-8b67-525400ad1336, DESI-EDR, 251.669195, 0.790116, 0.000046',\n",
       " '0000321e-a4a9-11ee-bde8-525400ad1336, BOSS-DR16, 228.064370, 0.631113, 0.000165',\n",
       " '000041af-a296-11ee-9b05-525400ad1336, BOSS-DR16, 203.071870, 0.572525, 0.000165',\n",
       " '00004954-a46e-11ee-b0bd-525400ad1336, BOSS-DR16, 143.997260, 0.833832, 0.000309',\n",
       " '00004a95-9d0d-11ee-8bf1-525400ad1336, DESI-EDR, 218.983858, 0.831348, 0.000092',\n",
       " '00004bbf-a42c-11ee-9dd6-525400ad1336, BOSS-DR16, 6.668670, 0.754319, 0.000283',\n",
       " '00005931-a340-11ee-8fab-525400ad1336, BOSS-DR16, 102.062250, 0.677861, 0.408586',\n",
       " '00006e76-a4b2-11ee-a3df-525400ad1336, BOSS-DR16, 250.566970, 0.694172, 0.000191',\n",
       " '00008e21-a1ad-11ee-8e57-525400ad1336, BOSS-DR16, 333.787720, 0.568273, 0.000129',\n",
       " '0000920c-a40a-11ee-9e59-525400ad1336, BOSS-DR16, 40.835157, 0.682240, 0.000279',\n",
       " '000093ef-9e66-11ee-8b5b-525400ad1336, BOSS-DR16, 157.353360, 0.859480, 0.000064',\n",
       " '0000a486-a1dd-11ee-b9a1-525400ad1336, BOSS-DR16, 245.705360, 0.530106, 0.000146',\n",
       " '0000af3a-9c76-11ee-bec7-525400ad1336, DESI-EDR, 251.608575, 0.625994, 0.000057',\n",
       " '0000b0bb-a2b0-11ee-892f-525400ad1336, BOSS-DR16, 155.201430, 0.580323, 0.000197',\n",
       " '0000b8c4-a2c9-11ee-8a72-525400ad1336, BOSS-DR16, 202.609980, 0.619319, 0.000165',\n",
       " '0000d281-a14b-11ee-b6b8-525400ad1336, BOSS-DR16, 216.383320, 0.533600, 0.000151',\n",
       " '0000d45b-9b1f-11ee-afc7-525400ad1336, DESI-EDR, 234.809864, 0.871094, 0.000021']"
      ]
     },
     "execution_count": 17,
     "metadata": {},
     "output_type": "execute_result"
    }
   ],
   "source": [
    "found_I = client.find(outfields=out, constraints=cons, limit=20)\n",
    "[\"%s, %s, %f, %f, %f\" % (f.sparcl_id, f.data_release, f.ra, f.redshift, f.redshift_err)\n",
    " for f in found_I.records]"
   ]
  },
  {
   "cell_type": "markdown",
   "id": "b8118bcc",
   "metadata": {},
   "source": [
    "<a class=\"anchor\" id=\"datadiscoveryII\"></a>\n",
    "## Data discovery II: using Data Lab's `sparcl.main` table\n",
    "The second way you can discover your data is by querying the `sparcl.main` table hosted at Astro Data Lab. This table contains the following columns:\n"
   ]
  },
  {
   "cell_type": "code",
   "execution_count": 18,
   "id": "95acdae6",
   "metadata": {
    "execution": {
     "iopub.execute_input": "2024-08-29T19:37:17.479667Z",
     "iopub.status.busy": "2024-08-29T19:37:17.479534Z",
     "iopub.status.idle": "2024-08-29T19:37:17.585292Z",
     "shell.execute_reply": "2024-08-29T19:37:17.584915Z",
     "shell.execute_reply.started": "2024-08-29T19:37:17.479657Z"
    },
    "tags": []
   },
   "outputs": [
    {
     "name": "stdout",
     "output_type": "stream",
     "text": [
      "\n",
      "Schema: sparcl\n",
      " Table: main\n",
      "\n",
      "     Column Name   Description\n",
      "     -----------   -----------\n",
      "            elon   Ecliptic longitude\n",
      "            elat   Ecliptic latitude\n",
      "            glon   Galactic longitude\n",
      "            glat   Galactic latitude\n",
      "        redshift   Observed redshift, or radial velocity in units of redshift\n",
      "              ra   Right Ascension in degrees\n",
      "             dec   Declination in degrees\n",
      "         wavemin   Minimum value of wavelength coverage\n",
      "         wavemax   Maximum value of wavelength coverage\n",
      "    redshift_err   Uncertainty on the observed redshift, or radial velocity i\n",
      "                   n units of redshift\n",
      "        targetid   Dataset-specific photometric target identifier\n",
      "          specid   Dataset-specific spectrum identifier (may not be unique)\n",
      "         exptime   Exposure time in seconds\n",
      "       random_id   Random ID in the range 0 to 100 (decimal)\n",
      "            htm9   HTM Level-9 index\n",
      "         ring256   Healpix ID with nside 256, ring schema\n",
      "        nest4096   Healpix ID with nside 4096, nested schema\n",
      "redshift_warning   Bitmask with warning on redshift result\n",
      "     specprimary   Whether an entry is the primary spectrum for a given targe\n",
      "                   t object\n",
      "    datasetgroup   Human-readable common name for a coherent set of spectra t\n",
      "                   hat go together\n",
      "        spectype   Spectral type of the object (STAR, GALAXY, QSO)\n",
      "      instrument   Instrument used for observation\n",
      "       sparcl_id   Universally Unique Identifier for spectrum in SPARCL\n",
      "       telescope   Telescope used for the observation\n",
      "            site   Site of observations\n",
      "    data_release   Data release of a given record\n",
      "  dateobs_center   Central value of the dateobs range\n",
      "         dateobs   Range of observational dates for a given spectrum (single \n",
      "                   value for a single date)\n",
      "\n"
     ]
    }
   ],
   "source": [
    "print(qc.schema('sparcl.main'))"
   ]
  },
  {
   "cell_type": "markdown",
   "id": "45ce3dc4",
   "metadata": {},
   "source": [
    "#### Query this table for a few rows of data:"
   ]
  },
  {
   "cell_type": "code",
   "execution_count": 19,
   "id": "9f4dba5b",
   "metadata": {
    "execution": {
     "iopub.execute_input": "2024-08-29T19:37:17.585834Z",
     "iopub.status.busy": "2024-08-29T19:37:17.585711Z",
     "iopub.status.idle": "2024-08-29T19:37:17.816702Z",
     "shell.execute_reply": "2024-08-29T19:37:17.816354Z",
     "shell.execute_reply.started": "2024-08-29T19:37:17.585824Z"
    },
    "tags": []
   },
   "outputs": [
    {
     "data": {
      "text/html": [
       "<div>\n",
       "<style scoped>\n",
       "    .dataframe tbody tr th:only-of-type {\n",
       "        vertical-align: middle;\n",
       "    }\n",
       "\n",
       "    .dataframe tbody tr th {\n",
       "        vertical-align: top;\n",
       "    }\n",
       "\n",
       "    .dataframe thead th {\n",
       "        text-align: right;\n",
       "    }\n",
       "</style>\n",
       "<table border=\"1\" class=\"dataframe\">\n",
       "  <thead>\n",
       "    <tr style=\"text-align: right;\">\n",
       "      <th></th>\n",
       "      <th>sparcl_id</th>\n",
       "      <th>specid</th>\n",
       "      <th>ra</th>\n",
       "      <th>dec</th>\n",
       "      <th>redshift</th>\n",
       "      <th>spectype</th>\n",
       "      <th>data_release</th>\n",
       "      <th>redshift_err</th>\n",
       "    </tr>\n",
       "  </thead>\n",
       "  <tbody>\n",
       "    <tr>\n",
       "      <th>0</th>\n",
       "      <td>9a5016c0-a1db-11ee-b15c-525400ad1336</td>\n",
       "      <td>6802933904984788992</td>\n",
       "      <td>238.053390</td>\n",
       "      <td>43.941233</td>\n",
       "      <td>0.615950</td>\n",
       "      <td>GALAXY</td>\n",
       "      <td>BOSS-DR16</td>\n",
       "      <td>0.000154</td>\n",
       "    </tr>\n",
       "    <tr>\n",
       "      <th>1</th>\n",
       "      <td>414c359e-9d07-11ee-9b9b-525400ad1336</td>\n",
       "      <td>39633149608592885</td>\n",
       "      <td>237.243397</td>\n",
       "      <td>44.080806</td>\n",
       "      <td>0.618849</td>\n",
       "      <td>GALAXY</td>\n",
       "      <td>DESI-EDR</td>\n",
       "      <td>0.000064</td>\n",
       "    </tr>\n",
       "    <tr>\n",
       "      <th>2</th>\n",
       "      <td>c1156072-a1cb-11ee-953a-525400ad1336</td>\n",
       "      <td>6767971084522508288</td>\n",
       "      <td>211.972990</td>\n",
       "      <td>28.694906</td>\n",
       "      <td>0.548824</td>\n",
       "      <td>GALAXY</td>\n",
       "      <td>BOSS-DR16</td>\n",
       "      <td>0.000149</td>\n",
       "    </tr>\n",
       "    <tr>\n",
       "      <th>3</th>\n",
       "      <td>911ab2b7-9f3e-11ee-a597-525400ad1336</td>\n",
       "      <td>1426690603265058816</td>\n",
       "      <td>128.166450</td>\n",
       "      <td>28.023924</td>\n",
       "      <td>0.633630</td>\n",
       "      <td>GALAXY</td>\n",
       "      <td>SDSS-DR16</td>\n",
       "      <td>0.315646</td>\n",
       "    </tr>\n",
       "    <tr>\n",
       "      <th>4</th>\n",
       "      <td>53478e46-9b67-11ee-b77b-525400ad1336</td>\n",
       "      <td>39627769637766794</td>\n",
       "      <td>180.563917</td>\n",
       "      <td>-0.716587</td>\n",
       "      <td>0.863014</td>\n",
       "      <td>GALAXY</td>\n",
       "      <td>DESI-EDR</td>\n",
       "      <td>0.000049</td>\n",
       "    </tr>\n",
       "    <tr>\n",
       "      <th>5</th>\n",
       "      <td>a7a49bf4-9f60-11ee-ab7b-525400ad1336</td>\n",
       "      <td>4536428664930455552</td>\n",
       "      <td>217.293440</td>\n",
       "      <td>-1.445119</td>\n",
       "      <td>0.535872</td>\n",
       "      <td>GALAXY</td>\n",
       "      <td>BOSS-DR16</td>\n",
       "      <td>0.000204</td>\n",
       "    </tr>\n",
       "    <tr>\n",
       "      <th>6</th>\n",
       "      <td>1f3410af-a0f5-11ee-a5bf-525400ad1336</td>\n",
       "      <td>5862600223436853248</td>\n",
       "      <td>242.419380</td>\n",
       "      <td>7.977997</td>\n",
       "      <td>0.524114</td>\n",
       "      <td>GALAXY</td>\n",
       "      <td>BOSS-DR16</td>\n",
       "      <td>0.000151</td>\n",
       "    </tr>\n",
       "    <tr>\n",
       "      <th>7</th>\n",
       "      <td>976845d0-a3d8-11ee-9ae7-525400ad1336</td>\n",
       "      <td>8633450365726248960</td>\n",
       "      <td>353.990980</td>\n",
       "      <td>23.535728</td>\n",
       "      <td>0.653509</td>\n",
       "      <td>GALAXY</td>\n",
       "      <td>BOSS-DR16</td>\n",
       "      <td>0.000196</td>\n",
       "    </tr>\n",
       "    <tr>\n",
       "      <th>8</th>\n",
       "      <td>0699dae7-a508-11ee-bfb9-525400ad1336</td>\n",
       "      <td>-8071304449020899328</td>\n",
       "      <td>346.124650</td>\n",
       "      <td>-0.927300</td>\n",
       "      <td>0.654820</td>\n",
       "      <td>GALAXY</td>\n",
       "      <td>BOSS-DR16</td>\n",
       "      <td>0.000182</td>\n",
       "    </tr>\n",
       "    <tr>\n",
       "      <th>9</th>\n",
       "      <td>1ff6f4e6-a560-11ee-bfda-525400ad1336</td>\n",
       "      <td>-7692018839834046464</td>\n",
       "      <td>143.933660</td>\n",
       "      <td>18.334093</td>\n",
       "      <td>0.785994</td>\n",
       "      <td>GALAXY</td>\n",
       "      <td>BOSS-DR16</td>\n",
       "      <td>0.000080</td>\n",
       "    </tr>\n",
       "    <tr>\n",
       "      <th>10</th>\n",
       "      <td>cacfb6c2-9fca-11ee-9c39-525400ad1336</td>\n",
       "      <td>4911301385507852288</td>\n",
       "      <td>344.297430</td>\n",
       "      <td>-2.604723</td>\n",
       "      <td>0.566902</td>\n",
       "      <td>GALAXY</td>\n",
       "      <td>BOSS-DR16</td>\n",
       "      <td>0.000245</td>\n",
       "    </tr>\n",
       "    <tr>\n",
       "      <th>11</th>\n",
       "      <td>3944b361-a29a-11ee-80c7-525400ad1336</td>\n",
       "      <td>7471599706856247296</td>\n",
       "      <td>186.331270</td>\n",
       "      <td>44.257821</td>\n",
       "      <td>0.614164</td>\n",
       "      <td>GALAXY</td>\n",
       "      <td>BOSS-DR16</td>\n",
       "      <td>0.000132</td>\n",
       "    </tr>\n",
       "    <tr>\n",
       "      <th>12</th>\n",
       "      <td>5552bd48-9b66-11ee-82d6-525400ad1336</td>\n",
       "      <td>39633285986387037</td>\n",
       "      <td>177.668864</td>\n",
       "      <td>52.529184</td>\n",
       "      <td>0.688995</td>\n",
       "      <td>GALAXY</td>\n",
       "      <td>DESI-EDR</td>\n",
       "      <td>0.000081</td>\n",
       "    </tr>\n",
       "    <tr>\n",
       "      <th>13</th>\n",
       "      <td>9673af20-a31a-11ee-9be2-525400ad1336</td>\n",
       "      <td>8001969487737016320</td>\n",
       "      <td>174.226020</td>\n",
       "      <td>61.472635</td>\n",
       "      <td>0.505193</td>\n",
       "      <td>GALAXY</td>\n",
       "      <td>BOSS-DR16</td>\n",
       "      <td>0.000056</td>\n",
       "    </tr>\n",
       "    <tr>\n",
       "      <th>14</th>\n",
       "      <td>c6c14db9-9e52-11ee-b3e4-525400ad1336</td>\n",
       "      <td>-6882417905396068352</td>\n",
       "      <td>158.575220</td>\n",
       "      <td>33.747348</td>\n",
       "      <td>0.709140</td>\n",
       "      <td>GALAXY</td>\n",
       "      <td>BOSS-DR16</td>\n",
       "      <td>0.000151</td>\n",
       "    </tr>\n",
       "    <tr>\n",
       "      <th>15</th>\n",
       "      <td>3bf03614-9e8f-11ee-8611-525400ad1336</td>\n",
       "      <td>-6158471691026280448</td>\n",
       "      <td>248.887370</td>\n",
       "      <td>33.071720</td>\n",
       "      <td>0.892999</td>\n",
       "      <td>GALAXY</td>\n",
       "      <td>BOSS-DR16</td>\n",
       "      <td>0.000112</td>\n",
       "    </tr>\n",
       "    <tr>\n",
       "      <th>16</th>\n",
       "      <td>6bdd212c-a04d-11ee-8e4d-525400ad1336</td>\n",
       "      <td>5299835806479044608</td>\n",
       "      <td>201.163590</td>\n",
       "      <td>40.816210</td>\n",
       "      <td>0.507812</td>\n",
       "      <td>GALAXY</td>\n",
       "      <td>BOSS-DR16</td>\n",
       "      <td>0.000099</td>\n",
       "    </tr>\n",
       "    <tr>\n",
       "      <th>17</th>\n",
       "      <td>67d8f85f-a4fe-11ee-8915-525400ad1336</td>\n",
       "      <td>-8111943498295128064</td>\n",
       "      <td>358.573430</td>\n",
       "      <td>2.079838</td>\n",
       "      <td>0.669183</td>\n",
       "      <td>GALAXY</td>\n",
       "      <td>BOSS-DR16</td>\n",
       "      <td>0.000209</td>\n",
       "    </tr>\n",
       "    <tr>\n",
       "      <th>18</th>\n",
       "      <td>35242386-a3fd-11ee-b362-525400ad1336</td>\n",
       "      <td>8717889569062932480</td>\n",
       "      <td>6.020312</td>\n",
       "      <td>34.411377</td>\n",
       "      <td>0.541011</td>\n",
       "      <td>GALAXY</td>\n",
       "      <td>BOSS-DR16</td>\n",
       "      <td>0.000335</td>\n",
       "    </tr>\n",
       "    <tr>\n",
       "      <th>19</th>\n",
       "      <td>291837e0-9f27-11ee-b62a-525400ad1336</td>\n",
       "      <td>4330408768305385472</td>\n",
       "      <td>184.548990</td>\n",
       "      <td>0.780102</td>\n",
       "      <td>0.570419</td>\n",
       "      <td>GALAXY</td>\n",
       "      <td>BOSS-DR16</td>\n",
       "      <td>0.000150</td>\n",
       "    </tr>\n",
       "  </tbody>\n",
       "</table>\n",
       "</div>"
      ],
      "text/plain": [
       "                               sparcl_id               specid          ra  \\\n",
       "0   9a5016c0-a1db-11ee-b15c-525400ad1336  6802933904984788992  238.053390   \n",
       "1   414c359e-9d07-11ee-9b9b-525400ad1336    39633149608592885  237.243397   \n",
       "2   c1156072-a1cb-11ee-953a-525400ad1336  6767971084522508288  211.972990   \n",
       "3   911ab2b7-9f3e-11ee-a597-525400ad1336  1426690603265058816  128.166450   \n",
       "4   53478e46-9b67-11ee-b77b-525400ad1336    39627769637766794  180.563917   \n",
       "5   a7a49bf4-9f60-11ee-ab7b-525400ad1336  4536428664930455552  217.293440   \n",
       "6   1f3410af-a0f5-11ee-a5bf-525400ad1336  5862600223436853248  242.419380   \n",
       "7   976845d0-a3d8-11ee-9ae7-525400ad1336  8633450365726248960  353.990980   \n",
       "8   0699dae7-a508-11ee-bfb9-525400ad1336 -8071304449020899328  346.124650   \n",
       "9   1ff6f4e6-a560-11ee-bfda-525400ad1336 -7692018839834046464  143.933660   \n",
       "10  cacfb6c2-9fca-11ee-9c39-525400ad1336  4911301385507852288  344.297430   \n",
       "11  3944b361-a29a-11ee-80c7-525400ad1336  7471599706856247296  186.331270   \n",
       "12  5552bd48-9b66-11ee-82d6-525400ad1336    39633285986387037  177.668864   \n",
       "13  9673af20-a31a-11ee-9be2-525400ad1336  8001969487737016320  174.226020   \n",
       "14  c6c14db9-9e52-11ee-b3e4-525400ad1336 -6882417905396068352  158.575220   \n",
       "15  3bf03614-9e8f-11ee-8611-525400ad1336 -6158471691026280448  248.887370   \n",
       "16  6bdd212c-a04d-11ee-8e4d-525400ad1336  5299835806479044608  201.163590   \n",
       "17  67d8f85f-a4fe-11ee-8915-525400ad1336 -8111943498295128064  358.573430   \n",
       "18  35242386-a3fd-11ee-b362-525400ad1336  8717889569062932480    6.020312   \n",
       "19  291837e0-9f27-11ee-b62a-525400ad1336  4330408768305385472  184.548990   \n",
       "\n",
       "          dec  redshift spectype data_release  redshift_err  \n",
       "0   43.941233  0.615950   GALAXY    BOSS-DR16      0.000154  \n",
       "1   44.080806  0.618849   GALAXY     DESI-EDR      0.000064  \n",
       "2   28.694906  0.548824   GALAXY    BOSS-DR16      0.000149  \n",
       "3   28.023924  0.633630   GALAXY    SDSS-DR16      0.315646  \n",
       "4   -0.716587  0.863014   GALAXY     DESI-EDR      0.000049  \n",
       "5   -1.445119  0.535872   GALAXY    BOSS-DR16      0.000204  \n",
       "6    7.977997  0.524114   GALAXY    BOSS-DR16      0.000151  \n",
       "7   23.535728  0.653509   GALAXY    BOSS-DR16      0.000196  \n",
       "8   -0.927300  0.654820   GALAXY    BOSS-DR16      0.000182  \n",
       "9   18.334093  0.785994   GALAXY    BOSS-DR16      0.000080  \n",
       "10  -2.604723  0.566902   GALAXY    BOSS-DR16      0.000245  \n",
       "11  44.257821  0.614164   GALAXY    BOSS-DR16      0.000132  \n",
       "12  52.529184  0.688995   GALAXY     DESI-EDR      0.000081  \n",
       "13  61.472635  0.505193   GALAXY    BOSS-DR16      0.000056  \n",
       "14  33.747348  0.709140   GALAXY    BOSS-DR16      0.000151  \n",
       "15  33.071720  0.892999   GALAXY    BOSS-DR16      0.000112  \n",
       "16  40.816210  0.507812   GALAXY    BOSS-DR16      0.000099  \n",
       "17   2.079838  0.669183   GALAXY    BOSS-DR16      0.000209  \n",
       "18  34.411377  0.541011   GALAXY    BOSS-DR16      0.000335  \n",
       "19   0.780102  0.570419   GALAXY    BOSS-DR16      0.000150  "
      ]
     },
     "execution_count": 19,
     "metadata": {},
     "output_type": "execute_result"
    }
   ],
   "source": [
    "q = \"\"\"SELECT \n",
    "            sparcl_id, specid, ra, dec, redshift, spectype, data_release, redshift_err\n",
    "        FROM \n",
    "            sparcl.main\n",
    "        WHERE \n",
    "            spectype='GALAXY'\n",
    "            AND redshift>=0.5 AND redshift<=0.9\n",
    "            AND random_id BETWEEN 15.1 AND 15.4\n",
    "        LIMIT 20\n",
    "    \"\"\"\n",
    "found_II = qc.query(sql=q, fmt='pandas')  # output as Pandas DataFrame\n",
    "found_II"
   ]
  },
  {
   "cell_type": "markdown",
   "id": "7cd77794-e1e5-4005-8cdf-97072a5e0e0b",
   "metadata": {
    "tags": []
   },
   "source": [
    "<a class=\"anchor\" id=\"retrieve\"></a>\n",
    "## Retrieve records by `sparcl_id` using `client.retrieve()`\n",
    "In order to retrieve spectra records from SPARCL by `sparcl_id`, pass the following to the `client.retrieve()` method:\n",
    "\n",
    "`uuid_list` : List of SPARCL IDs.  \n",
    "`dataset_list` : List of data sets to search for the SPARCL IDs in (default: None, which will search all available data sets).  \n",
    "`include` : List of field names to include in each record (default: 'DEFAULT').  \n",
    "`limit` : Maximum number of records to return (default: 500). Max allowed is 24,000.\n",
    "\n",
    "\n",
    "**NOTE: A reasonable amount of records to request retrieval of is about 10,000. Exceeding this value may cause the retrieval to timeout or fail.**"
   ]
  },
  {
   "cell_type": "code",
   "execution_count": 20,
   "id": "0c271a02",
   "metadata": {
    "execution": {
     "iopub.execute_input": "2024-08-29T19:37:17.817295Z",
     "iopub.status.busy": "2024-08-29T19:37:17.817173Z",
     "iopub.status.idle": "2024-08-29T19:37:17.824590Z",
     "shell.execute_reply": "2024-08-29T19:37:17.824024Z",
     "shell.execute_reply.started": "2024-08-29T19:37:17.817285Z"
    },
    "tags": []
   },
   "outputs": [
    {
     "data": {
      "text/plain": [
       "\u001b[0;31mSignature:\u001b[0m\n",
       "\u001b[0mclient\u001b[0m\u001b[0;34m.\u001b[0m\u001b[0mretrieve\u001b[0m\u001b[0;34m(\u001b[0m\u001b[0;34m\u001b[0m\n",
       "\u001b[0;34m\u001b[0m    \u001b[0muuid_list\u001b[0m\u001b[0;34m,\u001b[0m\u001b[0;34m\u001b[0m\n",
       "\u001b[0;34m\u001b[0m    \u001b[0;34m*\u001b[0m\u001b[0;34m,\u001b[0m\u001b[0;34m\u001b[0m\n",
       "\u001b[0;34m\u001b[0m    \u001b[0minclude\u001b[0m\u001b[0;34m=\u001b[0m\u001b[0;34m'DEFAULT'\u001b[0m\u001b[0;34m,\u001b[0m\u001b[0;34m\u001b[0m\n",
       "\u001b[0;34m\u001b[0m    \u001b[0mdataset_list\u001b[0m\u001b[0;34m=\u001b[0m\u001b[0;32mNone\u001b[0m\u001b[0;34m,\u001b[0m\u001b[0;34m\u001b[0m\n",
       "\u001b[0;34m\u001b[0m    \u001b[0mlimit\u001b[0m\u001b[0;34m=\u001b[0m\u001b[0;36m500\u001b[0m\u001b[0;34m,\u001b[0m\u001b[0;34m\u001b[0m\n",
       "\u001b[0;34m\u001b[0m    \u001b[0mverbose\u001b[0m\u001b[0;34m=\u001b[0m\u001b[0;32mNone\u001b[0m\u001b[0;34m,\u001b[0m\u001b[0;34m\u001b[0m\n",
       "\u001b[0;34m\u001b[0m\u001b[0;34m)\u001b[0m\u001b[0;34m\u001b[0m\u001b[0;34m\u001b[0m\u001b[0m\n",
       "\u001b[0;31mDocstring:\u001b[0m\n",
       "Retrieve spectra records from the SPARCL database by list of\n",
       "sparcl_ids.\n",
       "\n",
       "Args:\n",
       "    uuid_list (:obj:`list`): List of sparcl_ids.\n",
       "\n",
       "    include (:obj:`list`, optional): List of field names to include\n",
       "        in each record. Defaults to 'DEFAULT', which will return\n",
       "        the fields tagged as 'default'.\n",
       "\n",
       "    dataset_list (:obj:`list`, optional): List of data sets from\n",
       "        which to retrieve spectra data. Defaults to None, meaning all\n",
       "        data sets hosted on the SPARCL database.\n",
       "\n",
       "    limit (:obj:`int`, optional): Maximum number of records to\n",
       "        return. Defaults to 500. Maximum allowed is 24,000.\n",
       "\n",
       "    verbose (:obj:`bool`, optional): Set to True for in-depth return\n",
       "        statement. Defaults to False.\n",
       "\n",
       "Returns:\n",
       "    :class:`~sparcl.Results.Retrieved`: Contains header and records.\n",
       "\n",
       "Example:\n",
       "    >>> client = SparclClient()\n",
       "    >>> ids = client.find(limit=1).ids\n",
       "    >>> inc = ['sparcl_id', 'flux', 'wavelength', 'model']\n",
       "    >>> ret = client.retrieve(uuid_list=ids, include=inc)\n",
       "    >>> type(ret.records[0].wavelength)\n",
       "    <class 'numpy.ndarray'>\n",
       "\u001b[0;31mFile:\u001b[0m      /data0/sw/anaconda3/lib/python3.10/site-packages/sparcl/client.py\n",
       "\u001b[0;31mType:\u001b[0m      method"
      ]
     },
     "metadata": {},
     "output_type": "display_data"
    }
   ],
   "source": [
    "client.retrieve?"
   ]
  },
  {
   "cell_type": "markdown",
   "id": "40036a51",
   "metadata": {},
   "source": [
    "#### Use the sparcl_ids from the output of using `client.find()` to retrieve records from SPARCL:\n",
    "Note that `ids` in `found_I.ids` is a property name of the Found class. It is a list of records from all records, not a field name of a record."
   ]
  },
  {
   "cell_type": "code",
   "execution_count": 21,
   "id": "c93923fb",
   "metadata": {
    "execution": {
     "iopub.execute_input": "2024-08-29T19:37:17.825532Z",
     "iopub.status.busy": "2024-08-29T19:37:17.825297Z",
     "iopub.status.idle": "2024-08-29T19:37:17.848884Z",
     "shell.execute_reply": "2024-08-29T19:37:17.848411Z",
     "shell.execute_reply.started": "2024-08-29T19:37:17.825519Z"
    },
    "tags": []
   },
   "outputs": [],
   "source": [
    "# Define the fields to include in the retrieve function\n",
    "inc = ['sparcl_id', 'specid', 'data_release', 'redshift', 'flux',\n",
    "       'wavelength', 'model', 'ivar', 'mask', 'spectype', 'ra', 'dec']"
   ]
  },
  {
   "cell_type": "code",
   "execution_count": 22,
   "id": "1b86047a",
   "metadata": {
    "execution": {
     "iopub.execute_input": "2024-08-29T19:37:17.849637Z",
     "iopub.status.busy": "2024-08-29T19:37:17.849502Z",
     "iopub.status.idle": "2024-08-29T19:37:18.628542Z",
     "shell.execute_reply": "2024-08-29T19:37:18.627953Z",
     "shell.execute_reply.started": "2024-08-29T19:37:17.849627Z"
    },
    "tags": []
   },
   "outputs": [
    {
     "data": {
      "text/plain": [
       "{'status': {'success': True,\n",
       "  'info': [\"Successfully found 20 records in dr_list={'DESI-EDR', 'BOSS-DR16', 'SDSS-DR16'}\"],\n",
       "  'warnings': []}}"
      ]
     },
     "execution_count": 22,
     "metadata": {},
     "output_type": "execute_result"
    }
   ],
   "source": [
    "ids_I = found_I.ids\n",
    "results_I = client.retrieve(uuid_list=ids_I, include=inc)\n",
    "results_I.info"
   ]
  },
  {
   "cell_type": "markdown",
   "id": "316c6f45",
   "metadata": {},
   "source": [
    "<a class=\"anchor\" id=\"retrieve_specid\"></a>\n",
    "## Retrieve records by `specid` using `client.retrieve_by_specid()`\n",
    "In order to retrieve spectra records from SPARCL by `specid`, pass the following to the `client.retrieve_by_specid()` method:\n",
    "\n",
    "`specid_list` : List of specIDs.  \n",
    "`dataset_list` : List of data sets to search for the specIDs in (default: None, which will search all available data sets).  \n",
    "`include` : List of field names to include in each record (default: 'DEFAULT').  \n",
    "`limit` : Maximum number of records to return (default: 500). Max allowed is 24,000.\n",
    "\n",
    "\n",
    "**NOTE: A reasonable amount of records to request retrieval of is about 10,000. Exceeding this value may cause the retrieval to timeout or fail.**"
   ]
  },
  {
   "cell_type": "code",
   "execution_count": 23,
   "id": "743a19b8",
   "metadata": {
    "execution": {
     "iopub.execute_input": "2024-08-29T19:37:18.631062Z",
     "iopub.status.busy": "2024-08-29T19:37:18.630903Z",
     "iopub.status.idle": "2024-08-29T19:37:18.638026Z",
     "shell.execute_reply": "2024-08-29T19:37:18.637605Z",
     "shell.execute_reply.started": "2024-08-29T19:37:18.631050Z"
    },
    "tags": []
   },
   "outputs": [
    {
     "data": {
      "text/plain": [
       "\u001b[0;31mSignature:\u001b[0m\n",
       "\u001b[0mclient\u001b[0m\u001b[0;34m.\u001b[0m\u001b[0mretrieve_by_specid\u001b[0m\u001b[0;34m(\u001b[0m\u001b[0;34m\u001b[0m\n",
       "\u001b[0;34m\u001b[0m    \u001b[0mspecid_list\u001b[0m\u001b[0;34m,\u001b[0m\u001b[0;34m\u001b[0m\n",
       "\u001b[0;34m\u001b[0m    \u001b[0;34m*\u001b[0m\u001b[0;34m,\u001b[0m\u001b[0;34m\u001b[0m\n",
       "\u001b[0;34m\u001b[0m    \u001b[0msvc\u001b[0m\u001b[0;34m=\u001b[0m\u001b[0;34m'spectras'\u001b[0m\u001b[0;34m,\u001b[0m\u001b[0;34m\u001b[0m\n",
       "\u001b[0;34m\u001b[0m    \u001b[0mformat\u001b[0m\u001b[0;34m=\u001b[0m\u001b[0;34m'pkl'\u001b[0m\u001b[0;34m,\u001b[0m\u001b[0;34m\u001b[0m\n",
       "\u001b[0;34m\u001b[0m    \u001b[0minclude\u001b[0m\u001b[0;34m=\u001b[0m\u001b[0;34m'DEFAULT'\u001b[0m\u001b[0;34m,\u001b[0m\u001b[0;34m\u001b[0m\n",
       "\u001b[0;34m\u001b[0m    \u001b[0mdataset_list\u001b[0m\u001b[0;34m=\u001b[0m\u001b[0;32mNone\u001b[0m\u001b[0;34m,\u001b[0m\u001b[0;34m\u001b[0m\n",
       "\u001b[0;34m\u001b[0m    \u001b[0mlimit\u001b[0m\u001b[0;34m=\u001b[0m\u001b[0;36m500\u001b[0m\u001b[0;34m,\u001b[0m\u001b[0;34m\u001b[0m\n",
       "\u001b[0;34m\u001b[0m    \u001b[0mverbose\u001b[0m\u001b[0;34m=\u001b[0m\u001b[0;32mFalse\u001b[0m\u001b[0;34m,\u001b[0m\u001b[0;34m\u001b[0m\n",
       "\u001b[0;34m\u001b[0m\u001b[0;34m)\u001b[0m\u001b[0;34m\u001b[0m\u001b[0;34m\u001b[0m\u001b[0m\n",
       "\u001b[0;31mDocstring:\u001b[0m\n",
       "Retrieve spectra records from the SPARCL database by list of\n",
       "specids.\n",
       "\n",
       "Args:\n",
       "    specid_list (:obj:`list`): List of specids.\n",
       "\n",
       "    include (:obj:`list`, optional): List of field names to include\n",
       "        in each record. Defaults to 'DEFAULT', which will return\n",
       "        the fields tagged as 'default'.\n",
       "\n",
       "    dataset_list (:obj:`list`, optional): List of data sets from\n",
       "        which to retrieve spectra data. Defaults to None, meaning all\n",
       "        data sets hosted on the SPARCL database.\n",
       "\n",
       "    limit (:obj:`int`, optional): Maximum number of records to\n",
       "        return. Defaults to 500. Maximum allowed is 24,000.\n",
       "\n",
       "    verbose (:obj:`bool`, optional): Set to True for in-depth return\n",
       "        statement. Defaults to False.\n",
       "\n",
       "Returns:\n",
       "    :class:`~sparcl.Results.Retrieved`: Contains header and records.\n",
       "\n",
       "Example:\n",
       "    >>> client = SparclClient()\n",
       "    >>> sids = [5840097619402313728, -8985592895187431424]\n",
       "    >>> inc = ['specid', 'flux', 'wavelength', 'model']\n",
       "    >>> ret = client.retrieve_by_specid(specid_list=sids, include=inc)\n",
       "    >>> len(ret.records[0].wavelength)\n",
       "    4617\n",
       "\u001b[0;31mFile:\u001b[0m      /data0/sw/anaconda3/lib/python3.10/site-packages/sparcl/client.py\n",
       "\u001b[0;31mType:\u001b[0m      method"
      ]
     },
     "metadata": {},
     "output_type": "display_data"
    }
   ],
   "source": [
    "client.retrieve_by_specid?"
   ]
  },
  {
   "cell_type": "markdown",
   "id": "3f73a2d7",
   "metadata": {},
   "source": [
    "#### Use the specIDs from the `sparcl.main` table to retrieve records from SPARCL:\n",
    "We first need to convert the Pandas Series of specIDs into an int list to work with SPARCL. Then we can pass the int list to the `client.retrieve_by_specid()` method."
   ]
  },
  {
   "cell_type": "code",
   "execution_count": 24,
   "id": "aa1cb379-a8b4-40ce-a8c1-e9cddffb8540",
   "metadata": {
    "execution": {
     "iopub.execute_input": "2024-08-29T19:37:18.638695Z",
     "iopub.status.busy": "2024-08-29T19:37:18.638556Z",
     "iopub.status.idle": "2024-08-29T19:37:18.687144Z",
     "shell.execute_reply": "2024-08-29T19:37:18.686761Z",
     "shell.execute_reply.started": "2024-08-29T19:37:18.638683Z"
    },
    "tags": []
   },
   "outputs": [],
   "source": [
    "specids = [int(s) for s in found_II.specid]"
   ]
  },
  {
   "cell_type": "code",
   "execution_count": 25,
   "id": "b751a29e",
   "metadata": {
    "execution": {
     "iopub.execute_input": "2024-08-29T19:37:18.687740Z",
     "iopub.status.busy": "2024-08-29T19:37:18.687618Z",
     "iopub.status.idle": "2024-08-29T19:37:19.325117Z",
     "shell.execute_reply": "2024-08-29T19:37:19.324662Z",
     "shell.execute_reply.started": "2024-08-29T19:37:18.687730Z"
    },
    "tags": []
   },
   "outputs": [
    {
     "data": {
      "text/plain": [
       "{'status': {'success': True,\n",
       "  'info': [\"Successfully found 20 records in dr_list={'DESI-EDR', 'BOSS-DR16', 'SDSS-DR16'}\"],\n",
       "  'warnings': []}}"
      ]
     },
     "execution_count": 25,
     "metadata": {},
     "output_type": "execute_result"
    }
   ],
   "source": [
    "results_II = client.retrieve_by_specid(specid_list=specids, include=inc)\n",
    "results_II.info"
   ]
  },
  {
   "cell_type": "markdown",
   "id": "96da932f",
   "metadata": {},
   "source": [
    "<a class=\"anchor\" id=\"reorder\"></a>\n",
    "## Reorder spectrum records\n",
    "The ordering of the results of `client.retrieve()` is not necessarily sorted to match the order of the IDs in the argument passed to the method. The `reorder()` method will reorder the retrieved results to be in the same order as the original list of IDs passed to `client.retrieve()`.\n",
    "\n",
    "##### Reorder SPARCL IDs:"
   ]
  },
  {
   "cell_type": "code",
   "execution_count": 26,
   "id": "0b59b31a",
   "metadata": {
    "execution": {
     "iopub.execute_input": "2024-08-29T19:37:19.325842Z",
     "iopub.status.busy": "2024-08-29T19:37:19.325702Z",
     "iopub.status.idle": "2024-08-29T19:37:19.461641Z",
     "shell.execute_reply": "2024-08-29T19:37:19.461189Z",
     "shell.execute_reply.started": "2024-08-29T19:37:19.325831Z"
    },
    "tags": []
   },
   "outputs": [
    {
     "name": "stdout",
     "output_type": "stream",
     "text": [
      "Order of SPARCL IDs originally:\n",
      "['414c359e-9d07-11ee-9b9b-525400ad1336', 'c1156072-a1cb-11ee-953a-525400ad1336', '911ab2b7-9f3e-11ee-a597-525400ad1336']\n",
      "\n",
      "Order of SPARCL IDs after passing to retrieve():\n",
      "['414c359e-9d07-11ee-9b9b-525400ad1336', '911ab2b7-9f3e-11ee-a597-525400ad1336', 'c1156072-a1cb-11ee-953a-525400ad1336']\n",
      "\n",
      "Use reorder() to obtain original order of SPARCL IDs:\n",
      "['414c359e-9d07-11ee-9b9b-525400ad1336', 'c1156072-a1cb-11ee-953a-525400ad1336', '911ab2b7-9f3e-11ee-a597-525400ad1336']\n"
     ]
    }
   ],
   "source": [
    "ids_II = list(found_II.sparcl_id[1:4])\n",
    "print(f\"Order of SPARCL IDs originally:\\n{ids_II}\\n\")\n",
    "\n",
    "res = client.retrieve(uuid_list=ids_II)\n",
    "res_ids = [f.sparcl_id for f in res.records]\n",
    "print(f\"Order of SPARCL IDs after passing to retrieve():\\n{res_ids}\\n\")\n",
    "\n",
    "res_reordered = res.reorder(ids_II)\n",
    "res_reordered_ids = [f.sparcl_id for f in res_reordered.records]\n",
    "print(f\"Use reorder() to obtain original order of SPARCL IDs:\\n{res_reordered_ids}\")"
   ]
  },
  {
   "cell_type": "markdown",
   "id": "3332ef24",
   "metadata": {},
   "source": [
    "<a class=\"anchor\" id=\"access\"></a>\n",
    "## Access fields in records\n",
    "You can access the fields from records by using dot notation and dictionary indexing."
   ]
  },
  {
   "cell_type": "markdown",
   "id": "81856081",
   "metadata": {},
   "source": [
    "#### Accessing a record from our example using `client.find()` and `client.retrieve()`:"
   ]
  },
  {
   "cell_type": "code",
   "execution_count": 27,
   "id": "869c4f66",
   "metadata": {
    "execution": {
     "iopub.execute_input": "2024-08-29T19:37:19.462400Z",
     "iopub.status.busy": "2024-08-29T19:37:19.462240Z",
     "iopub.status.idle": "2024-08-29T19:37:19.465196Z",
     "shell.execute_reply": "2024-08-29T19:37:19.464856Z",
     "shell.execute_reply.started": "2024-08-29T19:37:19.462387Z"
    },
    "tags": []
   },
   "outputs": [],
   "source": [
    "records_I = results_I.records[0]\n",
    "\n",
    "id_I = records_I.sparcl_id\n",
    "data_release_I = records_I.data_release\n",
    "redshift_I = records_I.redshift\n",
    "flux_I = records_I.flux\n",
    "wavelength_I = records_I.wavelength\n",
    "model_I = records_I.model\n",
    "ivar_I = records_I.ivar\n",
    "mask_I = records_I.mask\n",
    "spectype_I = records_I.spectype"
   ]
  },
  {
   "cell_type": "markdown",
   "id": "020f7d50",
   "metadata": {},
   "source": [
    "<a class=\"anchor\" id=\"convert\"></a>\n",
    "## Convert retrieved output to Pandas DataFrame or Spectrum1D object"
   ]
  },
  {
   "cell_type": "markdown",
   "id": "3cbb5458",
   "metadata": {},
   "source": [
    "#### Pandas DataFrame:"
   ]
  },
  {
   "cell_type": "code",
   "execution_count": 28,
   "id": "0e7e06ea",
   "metadata": {
    "execution": {
     "iopub.execute_input": "2024-08-29T19:37:19.465830Z",
     "iopub.status.busy": "2024-08-29T19:37:19.465703Z",
     "iopub.status.idle": "2024-08-29T19:37:19.506282Z",
     "shell.execute_reply": "2024-08-29T19:37:19.505903Z",
     "shell.execute_reply.started": "2024-08-29T19:37:19.465820Z"
    },
    "tags": []
   },
   "outputs": [
    {
     "data": {
      "text/html": [
       "<div>\n",
       "<style scoped>\n",
       "    .dataframe tbody tr th:only-of-type {\n",
       "        vertical-align: middle;\n",
       "    }\n",
       "\n",
       "    .dataframe tbody tr th {\n",
       "        vertical-align: top;\n",
       "    }\n",
       "\n",
       "    .dataframe thead th {\n",
       "        text-align: right;\n",
       "    }\n",
       "</style>\n",
       "<table border=\"1\" class=\"dataframe\">\n",
       "  <thead>\n",
       "    <tr style=\"text-align: right;\">\n",
       "      <th></th>\n",
       "      <th>sparcl_id</th>\n",
       "      <th>redshift</th>\n",
       "      <th>wavelength</th>\n",
       "      <th>flux</th>\n",
       "    </tr>\n",
       "  </thead>\n",
       "  <tbody>\n",
       "    <tr>\n",
       "      <th>0</th>\n",
       "      <td>00000c19-9c85-11ee-bf5c-525400ad1336</td>\n",
       "      <td>0.594318</td>\n",
       "      <td>[3600.0, 3600.8, 3601.6000000000004, 3602.4000...</td>\n",
       "      <td>[4.658731460571289, 3.5160093307495117, 1.9316...</td>\n",
       "    </tr>\n",
       "    <tr>\n",
       "      <th>1</th>\n",
       "      <td>00000f02-a2dc-11ee-ac91-525400ad1336</td>\n",
       "      <td>0.522124</td>\n",
       "      <td>[3568.617492834813, 3569.439291988468, 3570.26...</td>\n",
       "      <td>[7.6649274826049805, 7.667514324188232, 7.6701...</td>\n",
       "    </tr>\n",
       "    <tr>\n",
       "      <th>2</th>\n",
       "      <td>00001b3a-a41b-11ee-8210-525400ad1336</td>\n",
       "      <td>0.542893</td>\n",
       "      <td>[3570.2612803901543, 3571.0834580834608, 3571....</td>\n",
       "      <td>[4.828716278076172, 4.829677581787109, 4.83063...</td>\n",
       "    </tr>\n",
       "    <tr>\n",
       "      <th>3</th>\n",
       "      <td>00001cbb-9c7e-11ee-8b67-525400ad1336</td>\n",
       "      <td>0.790116</td>\n",
       "      <td>[3600.0, 3600.8, 3601.6000000000004, 3602.4000...</td>\n",
       "      <td>[4.414716720581055, 1.5143095254898071, 1.3886...</td>\n",
       "    </tr>\n",
       "    <tr>\n",
       "      <th>4</th>\n",
       "      <td>0000321e-a4a9-11ee-bde8-525400ad1336</td>\n",
       "      <td>0.631113</td>\n",
       "      <td>[3592.5266624766173, 3593.353967553901, 3594.1...</td>\n",
       "      <td>[-2.767551898956299, -2.7674343585968018, -2.7...</td>\n",
       "    </tr>\n",
       "    <tr>\n",
       "      <th>5</th>\n",
       "      <td>000041af-a296-11ee-9b05-525400ad1336</td>\n",
       "      <td>0.572525</td>\n",
       "      <td>[3562.049907308445, 3562.8701940455303, 3563.6...</td>\n",
       "      <td>[6.18538236618042, 6.185926914215088, 6.186471...</td>\n",
       "    </tr>\n",
       "    <tr>\n",
       "      <th>6</th>\n",
       "      <td>00004954-a46e-11ee-b0bd-525400ad1336</td>\n",
       "      <td>0.833832</td>\n",
       "      <td>[3569.4392919884644, 3570.2612803901543, 3571....</td>\n",
       "      <td>[-1.1925723552703857, -1.1927012205123901, -1....</td>\n",
       "    </tr>\n",
       "    <tr>\n",
       "      <th>7</th>\n",
       "      <td>00004a95-9d0d-11ee-8bf1-525400ad1336</td>\n",
       "      <td>0.831348</td>\n",
       "      <td>[3600.0, 3600.8, 3601.6000000000004, 3602.4000...</td>\n",
       "      <td>[2.1275572776794434, -1.5423610210418701, 2.38...</td>\n",
       "    </tr>\n",
       "    <tr>\n",
       "      <th>8</th>\n",
       "      <td>00004bbf-a42c-11ee-9dd6-525400ad1336</td>\n",
       "      <td>0.754319</td>\n",
       "      <td>[3567.795882885623, 3568.617492834813, 3569.43...</td>\n",
       "      <td>[0.38861986994743347, 3.381983995437622, 0.267...</td>\n",
       "    </tr>\n",
       "    <tr>\n",
       "      <th>9</th>\n",
       "      <td>00005931-a340-11ee-8fab-525400ad1336</td>\n",
       "      <td>0.677861</td>\n",
       "      <td>[3791.4034418330666, 3792.276545253626, 3793.1...</td>\n",
       "      <td>[-0.8654358386993408, -0.8654358386993408, -0....</td>\n",
       "    </tr>\n",
       "    <tr>\n",
       "      <th>10</th>\n",
       "      <td>00006e76-a4b2-11ee-a3df-525400ad1336</td>\n",
       "      <td>0.694172</td>\n",
       "      <td>[3587.566830392618, 3588.392993294867, 3589.21...</td>\n",
       "      <td>[-1.914870262145996, -1.9146013259887695, -1.9...</td>\n",
       "    </tr>\n",
       "    <tr>\n",
       "      <th>11</th>\n",
       "      <td>00008e21-a1ad-11ee-8e57-525400ad1336</td>\n",
       "      <td>0.568273</td>\n",
       "      <td>[3584.2640804371426, 3585.0894827655493, 3585....</td>\n",
       "      <td>[-0.8480641841888428, 0.9721508026123047, -1.4...</td>\n",
       "    </tr>\n",
       "    <tr>\n",
       "      <th>12</th>\n",
       "      <td>0000920c-a40a-11ee-9e59-525400ad1336</td>\n",
       "      <td>0.682240</td>\n",
       "      <td>[3571.9058251119704, 3572.7283815192923, 3573....</td>\n",
       "      <td>[3.6436429023742676, 3.6437201499938965, 3.643...</td>\n",
       "    </tr>\n",
       "    <tr>\n",
       "      <th>13</th>\n",
       "      <td>000093ef-9e66-11ee-8b5b-525400ad1336</td>\n",
       "      <td>0.859480</td>\n",
       "      <td>[3583.43886814277, 3584.2640804371463, 3585.08...</td>\n",
       "      <td>[-2.2581210136413574, 4.059389114379883, -4.48...</td>\n",
       "    </tr>\n",
       "    <tr>\n",
       "      <th>14</th>\n",
       "      <td>0000a486-a1dd-11ee-b9a1-525400ad1336</td>\n",
       "      <td>0.530106</td>\n",
       "      <td>[3581.789013481115, 3582.6138458386763, 3583.4...</td>\n",
       "      <td>[-2.0286598205566406, -2.0284993648529053, -2....</td>\n",
       "    </tr>\n",
       "    <tr>\n",
       "      <th>15</th>\n",
       "      <td>0000af3a-9c76-11ee-bec7-525400ad1336</td>\n",
       "      <td>0.625994</td>\n",
       "      <td>[3600.0, 3600.8, 3601.6000000000004, 3602.4000...</td>\n",
       "      <td>[0.48305296897888184, 6.715146064758301, -6.40...</td>\n",
       "    </tr>\n",
       "    <tr>\n",
       "      <th>16</th>\n",
       "      <td>0000b0bb-a2b0-11ee-892f-525400ad1336</td>\n",
       "      <td>0.580323</td>\n",
       "      <td>[3563.6906696823603, 3564.5113342624427, 3565....</td>\n",
       "      <td>[6.914778232574463, 7.095730781555176, 0.41984...</td>\n",
       "    </tr>\n",
       "    <tr>\n",
       "      <th>17</th>\n",
       "      <td>0000b8c4-a2c9-11ee-8a72-525400ad1336</td>\n",
       "      <td>0.619319</td>\n",
       "      <td>[3566.9744620973356, 3567.795882885623, 3568.6...</td>\n",
       "      <td>[2.697164535522461, 2.697510242462158, 2.69785...</td>\n",
       "    </tr>\n",
       "    <tr>\n",
       "      <th>18</th>\n",
       "      <td>0000d281-a14b-11ee-b6b8-525400ad1336</td>\n",
       "      <td>0.533600</td>\n",
       "      <td>[3562.049907308445, 3562.8701940455303, 3563.6...</td>\n",
       "      <td>[-5.767019748687744, -7.26045560836792, 9.3124...</td>\n",
       "    </tr>\n",
       "    <tr>\n",
       "      <th>19</th>\n",
       "      <td>0000d45b-9b1f-11ee-afc7-525400ad1336</td>\n",
       "      <td>0.871094</td>\n",
       "      <td>[3600.0, 3600.8, 3601.6000000000004, 3602.4000...</td>\n",
       "      <td>[-2.3349931240081787, 4.351064205169678, 1.869...</td>\n",
       "    </tr>\n",
       "  </tbody>\n",
       "</table>\n",
       "</div>"
      ],
      "text/plain": [
       "                               sparcl_id  redshift  \\\n",
       "0   00000c19-9c85-11ee-bf5c-525400ad1336  0.594318   \n",
       "1   00000f02-a2dc-11ee-ac91-525400ad1336  0.522124   \n",
       "2   00001b3a-a41b-11ee-8210-525400ad1336  0.542893   \n",
       "3   00001cbb-9c7e-11ee-8b67-525400ad1336  0.790116   \n",
       "4   0000321e-a4a9-11ee-bde8-525400ad1336  0.631113   \n",
       "5   000041af-a296-11ee-9b05-525400ad1336  0.572525   \n",
       "6   00004954-a46e-11ee-b0bd-525400ad1336  0.833832   \n",
       "7   00004a95-9d0d-11ee-8bf1-525400ad1336  0.831348   \n",
       "8   00004bbf-a42c-11ee-9dd6-525400ad1336  0.754319   \n",
       "9   00005931-a340-11ee-8fab-525400ad1336  0.677861   \n",
       "10  00006e76-a4b2-11ee-a3df-525400ad1336  0.694172   \n",
       "11  00008e21-a1ad-11ee-8e57-525400ad1336  0.568273   \n",
       "12  0000920c-a40a-11ee-9e59-525400ad1336  0.682240   \n",
       "13  000093ef-9e66-11ee-8b5b-525400ad1336  0.859480   \n",
       "14  0000a486-a1dd-11ee-b9a1-525400ad1336  0.530106   \n",
       "15  0000af3a-9c76-11ee-bec7-525400ad1336  0.625994   \n",
       "16  0000b0bb-a2b0-11ee-892f-525400ad1336  0.580323   \n",
       "17  0000b8c4-a2c9-11ee-8a72-525400ad1336  0.619319   \n",
       "18  0000d281-a14b-11ee-b6b8-525400ad1336  0.533600   \n",
       "19  0000d45b-9b1f-11ee-afc7-525400ad1336  0.871094   \n",
       "\n",
       "                                           wavelength  \\\n",
       "0   [3600.0, 3600.8, 3601.6000000000004, 3602.4000...   \n",
       "1   [3568.617492834813, 3569.439291988468, 3570.26...   \n",
       "2   [3570.2612803901543, 3571.0834580834608, 3571....   \n",
       "3   [3600.0, 3600.8, 3601.6000000000004, 3602.4000...   \n",
       "4   [3592.5266624766173, 3593.353967553901, 3594.1...   \n",
       "5   [3562.049907308445, 3562.8701940455303, 3563.6...   \n",
       "6   [3569.4392919884644, 3570.2612803901543, 3571....   \n",
       "7   [3600.0, 3600.8, 3601.6000000000004, 3602.4000...   \n",
       "8   [3567.795882885623, 3568.617492834813, 3569.43...   \n",
       "9   [3791.4034418330666, 3792.276545253626, 3793.1...   \n",
       "10  [3587.566830392618, 3588.392993294867, 3589.21...   \n",
       "11  [3584.2640804371426, 3585.0894827655493, 3585....   \n",
       "12  [3571.9058251119704, 3572.7283815192923, 3573....   \n",
       "13  [3583.43886814277, 3584.2640804371463, 3585.08...   \n",
       "14  [3581.789013481115, 3582.6138458386763, 3583.4...   \n",
       "15  [3600.0, 3600.8, 3601.6000000000004, 3602.4000...   \n",
       "16  [3563.6906696823603, 3564.5113342624427, 3565....   \n",
       "17  [3566.9744620973356, 3567.795882885623, 3568.6...   \n",
       "18  [3562.049907308445, 3562.8701940455303, 3563.6...   \n",
       "19  [3600.0, 3600.8, 3601.6000000000004, 3602.4000...   \n",
       "\n",
       "                                                 flux  \n",
       "0   [4.658731460571289, 3.5160093307495117, 1.9316...  \n",
       "1   [7.6649274826049805, 7.667514324188232, 7.6701...  \n",
       "2   [4.828716278076172, 4.829677581787109, 4.83063...  \n",
       "3   [4.414716720581055, 1.5143095254898071, 1.3886...  \n",
       "4   [-2.767551898956299, -2.7674343585968018, -2.7...  \n",
       "5   [6.18538236618042, 6.185926914215088, 6.186471...  \n",
       "6   [-1.1925723552703857, -1.1927012205123901, -1....  \n",
       "7   [2.1275572776794434, -1.5423610210418701, 2.38...  \n",
       "8   [0.38861986994743347, 3.381983995437622, 0.267...  \n",
       "9   [-0.8654358386993408, -0.8654358386993408, -0....  \n",
       "10  [-1.914870262145996, -1.9146013259887695, -1.9...  \n",
       "11  [-0.8480641841888428, 0.9721508026123047, -1.4...  \n",
       "12  [3.6436429023742676, 3.6437201499938965, 3.643...  \n",
       "13  [-2.2581210136413574, 4.059389114379883, -4.48...  \n",
       "14  [-2.0286598205566406, -2.0284993648529053, -2....  \n",
       "15  [0.48305296897888184, 6.715146064758301, -6.40...  \n",
       "16  [6.914778232574463, 7.095730781555176, 0.41984...  \n",
       "17  [2.697164535522461, 2.697510242462158, 2.69785...  \n",
       "18  [-5.767019748687744, -7.26045560836792, 9.3124...  \n",
       "19  [-2.3349931240081787, 4.351064205169678, 1.869...  "
      ]
     },
     "execution_count": 28,
     "metadata": {},
     "output_type": "execute_result"
    }
   ],
   "source": [
    "df = pd.DataFrame([[r.sparcl_id, r.redshift, r.wavelength, r.flux,]\n",
    "                    for r in results_I.records],\n",
    "                  columns=['sparcl_id', 'redshift', 'wavelength', 'flux'])\n",
    "df"
   ]
  },
  {
   "cell_type": "markdown",
   "id": "de3baaf9",
   "metadata": {},
   "source": [
    "#### Spectrum1D:\n",
    "When applicable, the units for each field are documented on the [Fields tab of the astrosparcl website](https://astrosparcl.datalab.noirlab.edu/sparc/sfc/)"
   ]
  },
  {
   "cell_type": "code",
   "execution_count": 29,
   "id": "1fc03e7e",
   "metadata": {
    "execution": {
     "iopub.execute_input": "2024-08-29T19:37:19.506847Z",
     "iopub.status.busy": "2024-08-29T19:37:19.506725Z",
     "iopub.status.idle": "2024-08-29T19:37:19.584400Z",
     "shell.execute_reply": "2024-08-29T19:37:19.584012Z",
     "shell.execute_reply.started": "2024-08-29T19:37:19.506837Z"
    },
    "tags": []
   },
   "outputs": [
    {
     "data": {
      "text/plain": [
       "<Spectrum1D(flux=[4.658731460571289e-17 ... 4.4325074553489685e-18] erg / (Angstrom s cm2) (shape=(7781,), mean=0.00000 erg / (Angstrom s cm2)); spectral_axis=<SpectralAxis \n",
       "   (observer to target:\n",
       "      radial_velocity=130506.60402496679 km / s\n",
       "      redshift=0.5943176916313619)\n",
       "  [3600.  3600.8 3601.6 ... 9822.4 9823.2 9824. ] Angstrom> (length=7781); uncertainty=InverseVariance)>"
      ]
     },
     "execution_count": 29,
     "metadata": {},
     "output_type": "execute_result"
    }
   ],
   "source": [
    "specs = [Spectrum1D(spectral_axis = r.wavelength*u.AA,\n",
    "                    flux = np.array(r.flux)* 10**-17 * u.Unit('erg cm-2 s-1 AA-1'),\n",
    "                    uncertainty = InverseVariance(np.array(r.ivar)),\n",
    "                    redshift = r.redshift,\n",
    "                    mask = r.mask)\n",
    "        for r in results_I.records]\n",
    "specs[0]"
   ]
  },
  {
   "cell_type": "code",
   "execution_count": 30,
   "id": "ee58cd93",
   "metadata": {
    "execution": {
     "iopub.execute_input": "2024-08-29T19:37:19.584998Z",
     "iopub.status.busy": "2024-08-29T19:37:19.584874Z",
     "iopub.status.idle": "2024-08-29T19:37:19.772904Z",
     "shell.execute_reply": "2024-08-29T19:37:19.772396Z",
     "shell.execute_reply.started": "2024-08-29T19:37:19.584988Z"
    },
    "tags": []
   },
   "outputs": [
    {
     "data": {
      "image/png": "[encoded data removed]",
      "text/plain": [
       "<Figure size 1400x800 with 1 Axes>"
      ]
     },
     "metadata": {},
     "output_type": "display_data"
    }
   ],
   "source": [
    "# Plot a couple\n",
    "f, ax = plt.subplots()  \n",
    "ax.step(specs[0].spectral_axis, specs[0].flux) \n",
    "ax.step(specs[1].spectral_axis, specs[1].flux)\n",
    "plt.show()"
   ]
  },
  {
   "cell_type": "markdown",
   "id": "ce3ebae5",
   "metadata": {},
   "source": [
    "<a class=\"anchor\" id=\"plot\"></a>\n",
    "## Plot spectra"
   ]
  },
  {
   "cell_type": "code",
   "execution_count": 31,
   "id": "35e2607b",
   "metadata": {
    "execution": {
     "iopub.execute_input": "2024-08-29T19:37:19.773590Z",
     "iopub.status.busy": "2024-08-29T19:37:19.773451Z",
     "iopub.status.idle": "2024-08-29T19:37:19.777966Z",
     "shell.execute_reply": "2024-08-29T19:37:19.777600Z",
     "shell.execute_reply.started": "2024-08-29T19:37:19.773572Z"
    },
    "tags": []
   },
   "outputs": [],
   "source": [
    "def plot_spec(index, results):\n",
    "    \"\"\"\n",
    "    Pass an index value and the output from using client.retrieve()\n",
    "    to plot the spectrum at the specified index.\n",
    "    \"\"\"\n",
    "    \n",
    "    record = results.records[index]\n",
    "\n",
    "    sparcl_id = record.sparcl_id\n",
    "    data_release = record.data_release\n",
    "    flux = record.flux\n",
    "    wavelength = record.wavelength\n",
    "    model = record.model\n",
    "    spectype = record.spectype\n",
    "    redshift = record.redshift\n",
    "    ra = record.ra\n",
    "    dec = record.dec\n",
    "\n",
    "    plt.title(f\"Data Set = {data_release}\\n\"\n",
    "              f\"Type = {spectype}\\n\"\n",
    "              f\"ID = {sparcl_id}\\n\"\n",
    "              f\"Redshift = {redshift}\\n\"\n",
    "              f\"RA = {ra}\\n\"\n",
    "              f\"Dec = {dec}\", loc='left')\n",
    "    plt.xlabel('$\\lambda\\ [\\AA]$')\n",
    "    plt.ylabel('$f_{\\lambda}$ $(10^{-17}$ $erg$ $s^{-1}$ $cm^{-2}$ $\\AA^{-1})$')\n",
    "    \n",
    "    # Plot unsmoothed spectrum in grey\n",
    "    plt.plot(wavelength, flux, color='k', alpha=0.2, label='Unsmoothed spectrum')\n",
    "    \n",
    "    # Overplot spectrum smoothed using a 1-D Gaussian Kernel in black\n",
    "    plt.plot(wavelength, convolve(flux, Gaussian1DKernel(5)), color='k', label='Smoothed spectrum')\n",
    "    \n",
    "    # Overplot the model spectrum in red\n",
    "    plt.plot(wavelength, model, color='r', label='Model spectrum')\n",
    "    \n",
    "    plt.legend()\n",
    "    plt.show()"
   ]
  },
  {
   "cell_type": "code",
   "execution_count": 32,
   "id": "a2545c6e",
   "metadata": {
    "execution": {
     "iopub.execute_input": "2024-08-29T19:37:19.778741Z",
     "iopub.status.busy": "2024-08-29T19:37:19.778609Z",
     "iopub.status.idle": "2024-08-29T19:37:20.008825Z",
     "shell.execute_reply": "2024-08-29T19:37:20.008318Z",
     "shell.execute_reply.started": "2024-08-29T19:37:19.778730Z"
    },
    "tags": []
   },
   "outputs": [
    {
     "data": {
      "image/png": "[encoded data removed]",
      "text/plain": [
       "<Figure size 1400x800 with 1 Axes>"
      ]
     },
     "metadata": {},
     "output_type": "display_data"
    }
   ],
   "source": [
    "plot_spec(index=5, results=results_I)"
   ]
  },
  {
   "cell_type": "markdown",
   "id": "49cbc02a",
   "metadata": {},
   "source": [
    "<a class=\"anchor\" id=\"missing\"></a>\n",
    "## Use `client.missing()` to find missing SPARCL IDs in the SPARCL database"
   ]
  },
  {
   "cell_type": "code",
   "execution_count": 33,
   "id": "c404a563",
   "metadata": {
    "execution": {
     "iopub.execute_input": "2024-08-29T19:37:20.009547Z",
     "iopub.status.busy": "2024-08-29T19:37:20.009407Z",
     "iopub.status.idle": "2024-08-29T19:37:20.017243Z",
     "shell.execute_reply": "2024-08-29T19:37:20.016690Z",
     "shell.execute_reply.started": "2024-08-29T19:37:20.009535Z"
    }
   },
   "outputs": [
    {
     "data": {
      "text/plain": [
       "\u001b[0;31mSignature:\u001b[0m\n",
       "\u001b[0mclient\u001b[0m\u001b[0;34m.\u001b[0m\u001b[0mmissing\u001b[0m\u001b[0;34m(\u001b[0m\u001b[0;34m\u001b[0m\n",
       "\u001b[0;34m\u001b[0m    \u001b[0muuid_list\u001b[0m\u001b[0;34m,\u001b[0m\u001b[0;34m\u001b[0m\n",
       "\u001b[0;34m\u001b[0m    \u001b[0;34m*\u001b[0m\u001b[0;34m,\u001b[0m\u001b[0;34m\u001b[0m\n",
       "\u001b[0;34m\u001b[0m    \u001b[0mdataset_list\u001b[0m\u001b[0;34m=\u001b[0m\u001b[0;32mNone\u001b[0m\u001b[0;34m,\u001b[0m\u001b[0;34m\u001b[0m\n",
       "\u001b[0;34m\u001b[0m    \u001b[0mcountOnly\u001b[0m\u001b[0;34m=\u001b[0m\u001b[0;32mFalse\u001b[0m\u001b[0;34m,\u001b[0m\u001b[0;34m\u001b[0m\n",
       "\u001b[0;34m\u001b[0m    \u001b[0mverbose\u001b[0m\u001b[0;34m=\u001b[0m\u001b[0;32mFalse\u001b[0m\u001b[0;34m,\u001b[0m\u001b[0;34m\u001b[0m\n",
       "\u001b[0;34m\u001b[0m\u001b[0;34m)\u001b[0m\u001b[0;34m\u001b[0m\u001b[0;34m\u001b[0m\u001b[0m\n",
       "\u001b[0;31mDocstring:\u001b[0m\n",
       "Return the subset of sparcl_ids in the given uuid_list that are\n",
       "NOT stored in the SPARCL database.\n",
       "\n",
       "Args:\n",
       "    uuid_list (:obj:`list`): List of sparcl_ids.\n",
       "\n",
       "    dataset_list (:obj:`list`, optional): List of data sets from\n",
       "        which to find missing sparcl_ids. Defaults to None, meaning\n",
       "        all data sets hosted on the SPARCL database.\n",
       "\n",
       "    countOnly (:obj:`bool`, optional): Set to True to return only\n",
       "        a count of the missing sparcl_ids from the uuid_list.\n",
       "        Defaults to False.\n",
       "\n",
       "    verbose (:obj:`bool`, optional): Set to True for in-depth return\n",
       "        statement. Defaults to False.\n",
       "\n",
       "Returns:\n",
       "    A list of the subset of sparcl_ids in the given uuid_list that\n",
       "    are NOT stored in the SPARCL database.\n",
       "\n",
       "Example:\n",
       "    >>> client = SparclClient()\n",
       "    >>> ids = ['ddbb57ee-8e90-4a0d-823b-0f5d97028076',]\n",
       "    >>> client.missing(ids)\n",
       "    ['ddbb57ee-8e90-4a0d-823b-0f5d97028076']\n",
       "\u001b[0;31mFile:\u001b[0m      /data0/sw/anaconda3/lib/python3.10/site-packages/sparcl/client.py\n",
       "\u001b[0;31mType:\u001b[0m      method"
      ]
     },
     "metadata": {},
     "output_type": "display_data"
    }
   ],
   "source": [
    "client.missing?"
   ]
  },
  {
   "cell_type": "markdown",
   "id": "efc74105",
   "metadata": {},
   "source": [
    "#### When you try to retrieve records from the SPARCL database with IDs that do not exist in the SPARCL database, a warning message will appear:"
   ]
  },
  {
   "cell_type": "code",
   "execution_count": 34,
   "id": "e1c06d56",
   "metadata": {
    "execution": {
     "iopub.execute_input": "2024-08-29T19:37:20.018271Z",
     "iopub.status.busy": "2024-08-29T19:37:20.017905Z",
     "iopub.status.idle": "2024-08-29T19:37:20.127142Z",
     "shell.execute_reply": "2024-08-29T19:37:20.126568Z",
     "shell.execute_reply.started": "2024-08-29T19:37:20.018257Z"
    },
    "tags": []
   },
   "outputs": [
    {
     "name": "stderr",
     "output_type": "stream",
     "text": [
      "/tmp/ipykernel_2004647/2568251338.py:7: UserWarning: Some UUIDs were not found. 5 out of the 5 requested uuids have no records available in the SPARCL database associated with DataSets {'DESI-EDR', 'BOSS-DR16', 'SDSS-DR16'}.Use \"client.missing()\" to get a list of the 5 unavailable uuids.\n",
      "  res_test = client.retrieve(uuid_list=ids_test)\n"
     ]
    }
   ],
   "source": [
    "ids_test = ['000025da-914b-4b67-b9a9-97cc811b0459',\n",
    "            '0000fabc-0e15-4d76-b44c-4f152f31de09',\n",
    "            '00001c20-b7ff-4367-af08-26432cd7e01d',\n",
    "            '0000403e-51da-43b0-a0e9-e806ea31ca9e',\n",
    "            'ddbb57ee-8e90-4a0d-823b-0f5d97028076']\n",
    "\n",
    "res_test = client.retrieve(uuid_list=ids_test)"
   ]
  },
  {
   "cell_type": "markdown",
   "id": "7e5b6f5c",
   "metadata": {},
   "source": [
    "#### In order to figure out which of the IDs from your list do not exist in the SPARCL database, use the `client.missing()` method:"
   ]
  },
  {
   "cell_type": "code",
   "execution_count": 35,
   "id": "dd63d6b8",
   "metadata": {
    "execution": {
     "iopub.execute_input": "2024-08-29T19:37:20.128199Z",
     "iopub.status.busy": "2024-08-29T19:37:20.128051Z",
     "iopub.status.idle": "2024-08-29T19:38:07.335820Z",
     "shell.execute_reply": "2024-08-29T19:38:07.335219Z",
     "shell.execute_reply.started": "2024-08-29T19:37:20.128187Z"
    },
    "tags": []
   },
   "outputs": [
    {
     "data": {
      "text/plain": [
       "['0000fabc-0e15-4d76-b44c-4f152f31de09',\n",
       " '0000403e-51da-43b0-a0e9-e806ea31ca9e',\n",
       " '00001c20-b7ff-4367-af08-26432cd7e01d',\n",
       " 'ddbb57ee-8e90-4a0d-823b-0f5d97028076',\n",
       " '000025da-914b-4b67-b9a9-97cc811b0459']"
      ]
     },
     "execution_count": 35,
     "metadata": {},
     "output_type": "execute_result"
    }
   ],
   "source": [
    "client.missing(uuid_list=ids_test)"
   ]
  }
 ],
 "metadata": {
  "kernelspec": {
   "display_name": "Python 3",
   "language": "python",
   "name": "python3"
  },
  "language_info": {
   "codemirror_mode": {
    "name": "ipython",
    "version": 3
   },
   "file_extension": ".py",
   "mimetype": "text/x-python",
   "name": "python",
   "nbconvert_exporter": "python",
   "pygments_lexer": "ipython3",
   "version": "3.10.13"
  }
 },
 "nbformat": 4,
 "nbformat_minor": 5
}
