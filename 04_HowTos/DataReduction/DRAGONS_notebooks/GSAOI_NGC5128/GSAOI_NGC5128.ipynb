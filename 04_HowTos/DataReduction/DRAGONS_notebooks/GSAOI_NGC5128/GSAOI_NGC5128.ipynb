{
 "cells": [
  {
   "cell_type": "code",
   "execution_count": null,
   "metadata": {},
   "outputs": [],
   "source": [
    "__author__ = 'Vinicius Placco <vinicius.placco@noirlab.edu>'\n",
    "__version__ = '20240131' # yyyymmdd; version datestamp of this notebook\n",
    "#__datasets__ = ['allwise','smash']\n",
    "__keywords__ = ['gsaoi','gemini','galaxy','dragons']"
   ]
  },
  {
   "cell_type": "markdown",
   "metadata": {},
   "source": [
    "# Gemini GSAOI reduction using DRAGONS Python API\n",
    "***\n",
    "## Public archival data from gsaoiimg_tutorial - GS-2017A-Q-29 (NGC5128)\n",
    "#### adapted from https://dragons.readthedocs.io/projects/gsaoiimg-drtutorial/en/v3.1.0/index.html\n",
    "#### don't forget to `conda install -n dragons nb_conda_kernels ipykernel` to run this notebook on the DRAGONS env\n",
    "***"
   ]
  },
  {
   "cell_type": "markdown",
   "metadata": {},
   "source": [
    "## Table of contents\n",
    "* [Goals](#goals)\n",
    "* [Summary](#summary)\n",
    "* [Disclaimers and attribution](#disclaimer)\n",
    "* [Imports and setup](#imports)\n",
    "* [About the dataset](#About)\n",
    "* [Downloading data for reduction](#Downloading_Data)\n",
    "* [Set up the DRAGONS logger](#DRAGONS_logger)\n",
    "* [Create Master Flat Field](#Master_Flat)\n",
    "* [Create File Lists](#File_Lists)\n",
    "* [Standard Star](#Standard_Star)\n",
    "* [Reduce Science Images](#Reduce_Science)\n",
    "* [Display stacked final image](#Display_Image)\n",
    "* [Clean-up (optional)](#Clean-up)\n",
    "\n",
    "\n",
    "<a class=\"anchor\" id=\"goals\"></a>\n",
    "# Goals\n",
    "Showcase how to perform GSAOI imaging data reduction using the Gemini DRAGONS package on the Data Lab science platform. Uses a custom DRAGONS kernel `\"DRAGONS (Py3.7)\"`. The steps include downloading data from the Gemini archive, setting up a DRAGONS calibration service, processing of flats, darks, bad pixel mask, and science frames, and finally the creation of a single combined stacked image.\n",
    "\n",
    "<a class=\"anchor\" id=\"summary\"></a>\n",
    "# Summary\n",
    "DRAGONS is a Python-based astronomical data reduction platform written by the Gemini Science User Support Department. It currently can be used to reduce imaging data from Gemini instruments GMOS, NIRI, Flamingos 2, GSAOI, and GNIRS, and spectroscopic data in GMOS longslit mode. Linked here is a general list of guides, manuals, and tutorials about the use of DRAGONS:\n",
    "https://dragons.readthedocs.io/en/v3.1.0/\n",
    "\n",
    "The DRAGONS kernel has been made available in the Data Lab environment, which should allow users to access the routines without being dependent on installing the software in their local machines. \n",
    "\n",
    "In this notebook, we present an example of a DRAGONS Jupyter notebook that works in the Data Lab environment to fully reduce example Gemini South NIRI Kshort-band imaging data.\n",
    "This is a version of the DRAGONS Jupyter notebook tutorial presented here: \n",
    "https://dragons.readthedocs.io/projects/gsaoiimg-drtutorial/en/v3.1.0/ex1_gsaoiim_offsetsky_api.html\n",
    "\n",
    "This notebook will not present all of the details of the many options available to adjust or optimize the DRAGONS GSAOI data reduction process, rather will just show one example of a standard reduction of a GSAOI imaging dataset. \n",
    "More extensive explanations can be found in the general DRAGONS GNIRS data reduction tutorial from Gemini linked here:\n",
    "https://dragons.readthedocs.io/projects/gsaoiimg-drtutorial/en/v3.1.0/index.html\n",
    "\n",
    "The data used in this notebook example is GSAOI KshortH-band imaging from the Gemini archive of the giant elliptical galaxy NGC 5128 from the Gemini South program \"Stellar Population GeMology: Long Period Variables at High Metallicity in the Nearest Elliptical Galaxy\", PI: John Blakeslee, program ID GS-2017A-Q-29. More program information is given here: https://archive.gemini.edu/programinfo/GS-2017A-Q-29.\n",
    "\n",
    "<a class=\"anchor\" id=\"disclaimer\"></a>\n",
    "# Disclaimer & attribution\n",
    "If you use this notebook for your published science, please acknowledge the following:\n",
    "\n",
    "* Data Lab concept paper: Fitzpatrick et al., \"The NOAO Data Laboratory: a conceptual overview\", SPIE, 9149, 2014, http://dx.doi.org/10.1117/12.2057445\n",
    "\n",
    "* Data Lab disclaimer: https://datalab.noirlab.edu/disclaimers.php\n",
    "\n",
    "* DRAGONS publication: Labrie et al., \"DRAGONS - Data Reduction for Astronomy from Gemini Observatory North and South\", ASPC, 523, 321L, https://ui.adsabs.harvard.edu/abs/2019ASPC..523..321L/abstract\n",
    "\n",
    "* DRAGONS open source software publication: https://zenodo.org/record/7776065#.ZDg5qOzMLUI\n"
   ]
  },
  {
   "cell_type": "markdown",
   "metadata": {},
   "source": [
    "**Importing Python Libraries** (you'll probably have to install the `wget`, `disco_stu`, and `ipympl` libraries)"
   ]
  },
  {
   "cell_type": "code",
   "execution_count": null,
   "metadata": {
    "scrolled": true
   },
   "outputs": [],
   "source": [
    "from __future__ import print_function\n",
    "\n",
    "import glob\n",
    "import wget\n",
    "\n",
    "#DRAGONS\n",
    "from recipe_system import cal_service\n",
    "from recipe_system.reduction.coreReduce import Reduce\n",
    "from gempy.adlibrary import dataselect\n",
    "from gempy.utils import logutils\n",
    "\n",
    "from astropy.io import fits\n",
    "import numpy as np\n",
    "import matplotlib.pyplot as plt\n",
    "import matplotlib.colors as colors\n",
    "import matplotlib.cbook as cbook\n",
    "from matplotlib.colors import LogNorm\n",
    "from matplotlib.colors import Normalize\n",
    "from matplotlib.colors import PowerNorm\n",
    "\n",
    "from collections import namedtuple\n",
    "\n",
    "#%matplotlib widget\n",
    "%matplotlib inline"
   ]
  },
  {
   "cell_type": "markdown",
   "metadata": {},
   "source": [
    "<a class=\"anchor\" id=\"About\"></a>\n",
    "# About the dataset\n",
    "\n",
    "| Observation Type | File name(s) | Purpose and Exposure (seconds) |\n",
    "| :--- | :--- | :---: |\n",
    "| Science | S20170505S0095-110 | Kshort-band, on target, 60 s |\n",
    "| Flats | S20170505S0030-044 | Lamp on, Kshort, for science |\n",
    "| Flats | S20170505S0060-074 | Lamp off, Kshort, for science |\n",
    "| Science darks | S20170504S0114-117 | Kshort, standard star, 30 s |\n",
    "\n",
    "Note that for GSAOI, the dark current is low enough that there is no need to correct for it."
   ]
  },
  {
   "cell_type": "markdown",
   "metadata": {},
   "source": [
    "<a class=\"anchor\" id=\"Downloading_Data\"></a>\n",
    "# Downloading the data (direct link to .tar file hosted at Gemini - 960 Megabytes)"
   ]
  },
  {
   "cell_type": "code",
   "execution_count": null,
   "metadata": {},
   "outputs": [],
   "source": [
    "#wget.download(\"http://www.gemini.edu/sciops/data/software/datapkgs/gsaoiimg_tutorial_datapkg-v1.tar\")"
   ]
  },
  {
   "cell_type": "markdown",
   "metadata": {},
   "source": [
    "**Downloading the data** (individual files - direct link to the Gemini Archive - 3.0 Gigabytes)"
   ]
  },
  {
   "cell_type": "code",
   "execution_count": null,
   "metadata": {},
   "outputs": [],
   "source": [
    "# # uncomment the lines and run the cell\n",
    "\n",
    "## Science \n",
    "#\n",
    "#wget.download(\"http://archive.gemini.edu/file/S20170505S0095.fits\")\n",
    "#wget.download(\"http://archive.gemini.edu/file/S20170505S0096.fits\")\n",
    "#wget.download(\"http://archive.gemini.edu/file/S20170505S0097.fits\")\n",
    "#wget.download(\"http://archive.gemini.edu/file/S20170505S0098.fits\")\n",
    "#wget.download(\"http://archive.gemini.edu/file/S20170505S0099.fits\")\n",
    "#wget.download(\"http://archive.gemini.edu/file/S20170505S0100.fits\")\n",
    "#wget.download(\"http://archive.gemini.edu/file/S20170505S0101.fits\")\n",
    "#wget.download(\"http://archive.gemini.edu/file/S20170505S0102.fits\")\n",
    "#wget.download(\"http://archive.gemini.edu/file/S20170505S0103.fits\")\n",
    "#wget.download(\"http://archive.gemini.edu/file/S20170505S0104.fits\")\n",
    "#wget.download(\"http://archive.gemini.edu/file/S20170505S0105.fits\")\n",
    "#wget.download(\"http://archive.gemini.edu/file/S20170505S0106.fits\")\n",
    "#wget.download(\"http://archive.gemini.edu/file/S20170505S0107.fits\")\n",
    "#wget.download(\"http://archive.gemini.edu/file/S20170505S0108.fits\")\n",
    "#wget.download(\"http://archive.gemini.edu/file/S20170505S0109.fits\")\n",
    "#wget.download(\"http://archive.gemini.edu/file/S20170505S0110.fits\")\n",
    "#\n",
    "## Flats \n",
    "#\n",
    "#wget.download(\"http://archive.gemini.edu/file/S20170505S0030.fits\")\n",
    "#wget.download(\"http://archive.gemini.edu/file/S20170505S0031.fits\")\n",
    "#wget.download(\"http://archive.gemini.edu/file/S20170505S0032.fits\")\n",
    "#wget.download(\"http://archive.gemini.edu/file/S20170505S0033.fits\")\n",
    "#wget.download(\"http://archive.gemini.edu/file/S20170505S0034.fits\")\n",
    "#wget.download(\"http://archive.gemini.edu/file/S20170505S0035.fits\")\n",
    "#wget.download(\"http://archive.gemini.edu/file/S20170505S0036.fits\")\n",
    "#wget.download(\"http://archive.gemini.edu/file/S20170505S0037.fits\")\n",
    "#wget.download(\"http://archive.gemini.edu/file/S20170505S0038.fits\")\n",
    "#wget.download(\"http://archive.gemini.edu/file/S20170505S0039.fits\")\n",
    "#wget.download(\"http://archive.gemini.edu/file/S20170505S0040.fits\")\n",
    "#wget.download(\"http://archive.gemini.edu/file/S20170505S0041.fits\")\n",
    "#wget.download(\"http://archive.gemini.edu/file/S20170505S0042.fits\")\n",
    "#wget.download(\"http://archive.gemini.edu/file/S20170505S0043.fits\")\n",
    "#wget.download(\"http://archive.gemini.edu/file/S20170505S0044.fits\")\n",
    "#wget.download(\"http://archive.gemini.edu/file/S20170505S0060.fits\")\n",
    "#wget.download(\"http://archive.gemini.edu/file/S20170505S0061.fits\")\n",
    "#wget.download(\"http://archive.gemini.edu/file/S20170505S0062.fits\")\n",
    "#wget.download(\"http://archive.gemini.edu/file/S20170505S0063.fits\")\n",
    "#wget.download(\"http://archive.gemini.edu/file/S20170505S0064.fits\")\n",
    "#wget.download(\"http://archive.gemini.edu/file/S20170505S0065.fits\")\n",
    "#wget.download(\"http://archive.gemini.edu/file/S20170505S0066.fits\")\n",
    "#wget.download(\"http://archive.gemini.edu/file/S20170505S0067.fits\")\n",
    "#wget.download(\"http://archive.gemini.edu/file/S20170505S0068.fits\")\n",
    "#wget.download(\"http://archive.gemini.edu/file/S20170505S0069.fits\")\n",
    "#wget.download(\"http://archive.gemini.edu/file/S20170505S0070.fits\")\n",
    "#wget.download(\"http://archive.gemini.edu/file/S20170505S0071.fits\")\n",
    "#wget.download(\"http://archive.gemini.edu/file/S20170505S0072.fits\")\n",
    "#wget.download(\"http://archive.gemini.edu/file/S20170505S0073.fits\")\n",
    "#wget.download(\"http://archive.gemini.edu/file/S20170505S0074.fits\")\n",
    "#\n",
    "## Standard star\n",
    "#\n",
    "#wget.download(\"http://archive.gemini.edu/file/S20170504S0114.fits\")\n",
    "#wget.download(\"http://archive.gemini.edu/file/S20170504S0115.fits\")\n",
    "#wget.download(\"http://archive.gemini.edu/file/S20170504S0116.fits\")\n",
    "#wget.download(\"http://archive.gemini.edu/file/S20170504S0117.fits\")"
   ]
  },
  {
   "cell_type": "markdown",
   "metadata": {},
   "source": [
    "**Create and move data to raw/ directory** (uncomment first)"
   ]
  },
  {
   "cell_type": "code",
   "execution_count": null,
   "metadata": {},
   "outputs": [],
   "source": [
    "#!mkdir raw/\n",
    "#!mv S2017*.fits raw/"
   ]
  },
  {
   "cell_type": "code",
   "execution_count": null,
   "metadata": {},
   "outputs": [],
   "source": [
    "# Check header of one raw science image\n",
    "#\n",
    "tmp = fits.open(\"raw/S20170505S0095.fits\")\n",
    "tmp[0].header"
   ]
  },
  {
   "cell_type": "markdown",
   "metadata": {},
   "source": [
    "<a class=\"anchor\" id=\"DRAGONS_logger\"></a>\n",
    "# Setting up the DRAGONS logger\n",
    "\n",
    "DRAGONS comes with a local calibration manager that uses the same calibration association rules as the Gemini Observatory Archive. This allows reduce to make requests to a local light-weight database for matching processed calibrations when needed to reduce a dataset.\n",
    "\n",
    "This simply tells the system where to put the calibration database, the database that will keep track of the processed calibrations we are going to send to it."
   ]
  },
  {
   "cell_type": "code",
   "execution_count": null,
   "metadata": {},
   "outputs": [],
   "source": [
    "logutils.config(file_name='gsaoi_data_reduction.log')"
   ]
  },
  {
   "cell_type": "markdown",
   "metadata": {},
   "source": [
    "**Create a list of all the FITS files in the directory**"
   ]
  },
  {
   "cell_type": "code",
   "execution_count": null,
   "metadata": {},
   "outputs": [],
   "source": [
    "all_files = glob.glob('raw/S2017*[0-9].fits')\n",
    "all_files.sort()\n",
    "#all_files"
   ]
  },
  {
   "cell_type": "markdown",
   "metadata": {},
   "source": [
    "<a class=\"anchor\" id=\"File_Lists\"></a>\n",
    "# Create file lists\n",
    "\n",
    "The first step is to create input file lists. The tool “dataselect” helps with that. It uses Astrodata tags and “descriptors” to select the files and send the filenames to a text file that can then be fed to “reduce”. (See the Astrodata User Manual for information about Astrodata.)"
   ]
  },
  {
   "cell_type": "code",
   "execution_count": null,
   "metadata": {},
   "outputs": [],
   "source": [
    "list_of_flats_Ks = dataselect.select_data(\n",
    "     all_files,['FLAT'],[],\n",
    "     dataselect.expr_parser('filter_name==\"Kshort\"'))\n",
    "\n",
    "list_of_std_stars = dataselect.select_data(\n",
    "    all_files,[],[],\n",
    "    dataselect.expr_parser('observation_class==\"partnerCal\"'))\n",
    "\n",
    "list_of_science_images = dataselect.select_data(\n",
    "    all_files,[],[],\n",
    "    dataselect.expr_parser('(observation_class==\"science\" and exposure_time==60.)'))"
   ]
  },
  {
   "cell_type": "markdown",
   "metadata": {},
   "source": [
    "<a class=\"anchor\" id=\"Master_Flat\"></a>\n",
    "# Create Master Flat Field\n",
    "\n",
    "The GSAOI Kshort master flat is created from a series of lamp-on and lamp-off dome exposures. They should all have the same exposure time. Each flavor is stacked (averaged), then the lamp-off stack is subtracted from the lamp-on stack and the result normalized."
   ]
  },
  {
   "cell_type": "code",
   "execution_count": null,
   "metadata": {
    "tags": []
   },
   "outputs": [],
   "source": [
    "reduce_flats = Reduce()\n",
    "reduce_flats.files.extend(list_of_flats_Ks)\n",
    "reduce_flats.runr()"
   ]
  },
  {
   "cell_type": "markdown",
   "metadata": {},
   "source": [
    "<a class=\"anchor\" id=\"Standard_Star\"></a>\n",
    "# Reduce Standard Star\n",
    "\n",
    "The standard star is reduced essentially the same way as the science target (next section). The processed flat field that we added earlier to the local calibration database will be fetched automatically. Also, in this case the standard star was obtained using ROIs (Regions-of-Interest) which do not match the flat field. The software will recognize that the flat field is still valid and will crop it to match the ROIs."
   ]
  },
  {
   "cell_type": "code",
   "execution_count": null,
   "metadata": {},
   "outputs": [],
   "source": [
    "reduce_std = Reduce()\n",
    "reduce_std.files.extend(list_of_std_stars)\n",
    "reduce_std.runr()"
   ]
  },
  {
   "cell_type": "markdown",
   "metadata": {},
   "source": [
    "<a class=\"anchor\" id=\"Reduce_Science\"></a>\n",
    "# Reduce Science Images\n",
    "\n",
    "This is an observation of a galaxy with offset to sky. We need to turn off the additive offsetting of the sky because the target fills the field of view and does not represent a reasonable sky background. If the offsetting is not turned off in this particular case, it results in an over-subtraction of the sky frame.\n",
    "\n",
    "**Note**:\n",
    "Unlike the other near-IR instruments, the additive offset_sky parameter is used by default to adjust the sky frame background for GSAOI instead of the multiplicative scale_sky parameter. It was found to work better when the sky background per pixel is very low, which is common due to the short exposure time needed to avoid saturating stars and the small pixel scale. The reader is encourage to experiment with scale_sky if offset_sky does not seem to lead to an optimal sky subtraction.\n",
    "\n",
    "(Remember that when the source is extended, both parameters normally need to be turned off.)\n",
    "\n",
    "The sky frame comes from off-target sky observations. We feed the pipeline all the on-target and off-target frames. The software will split the on-target and the off-target appropriately using information in the headers.\n",
    "\n",
    "This command will generate flat corrected and sky subtracted files but will not stack them. You can find which file is which by its suffix (_flatCorrected or _skyCorrected). The on-target files are the ones that have been sky subtracted (_skyCorrected). There should be nine of them."
   ]
  },
  {
   "cell_type": "code",
   "execution_count": null,
   "metadata": {
    "scrolled": true
   },
   "outputs": [],
   "source": [
    "reduce_target = Reduce()\n",
    "reduce_target.files.extend(list_of_science_images)\n",
    "reduce_target.uparms.append(('skyCorrect:offset_sky', False))\n",
    "reduce_target.runr()"
   ]
  },
  {
   "cell_type": "markdown",
   "metadata": {},
   "source": [
    "<a class=\"anchor\" id=\"Display_Image\"></a>\n",
    "# Display the Stacked Image\n",
    "\n",
    "The output stack units are in electrons (header keyword BUNIT=electrons). The output stack is stored in a multi-extension FITS (MEF) file. The science signal is in the “SCI” extension, the variance is in the “VAR” extension, and the data quality plane (mask) is in the “DQ” extension."
   ]
  },
  {
   "cell_type": "code",
   "execution_count": null,
   "metadata": {
    "scrolled": true
   },
   "outputs": [],
   "source": [
    "image_file = 'S20170505S0095_image.fits'\n",
    "hdu_list = fits.open(image_file)\n",
    "hdu_list.info()"
   ]
  },
  {
   "cell_type": "code",
   "execution_count": null,
   "metadata": {},
   "outputs": [],
   "source": [
    "image_data = fits.getdata(image_file, ext=1)\n",
    "print(image_data.shape)"
   ]
  },
  {
   "cell_type": "code",
   "execution_count": null,
   "metadata": {},
   "outputs": [],
   "source": [
    "plt.figure(figsize = (15,15))\n",
    "plt.imshow(image_data,cmap='bone',norm=Normalize(vmin=1, vmax=1000),origin='lower')\n",
    "plt.show()"
   ]
  },
  {
   "cell_type": "markdown",
   "metadata": {},
   "source": [
    "<a class=\"anchor\" id=\"Clean-up\"></a>\n",
    "# Optional: remove duplicate calibrations and remove raw data (uncomment lines before running)"
   ]
  },
  {
   "cell_type": "code",
   "execution_count": null,
   "metadata": {},
   "outputs": [],
   "source": [
    "#!rm -rf *_flatCorrected.fits *_skySubtracted*.fits\n",
    "#!rm -rf raw/"
   ]
  }
 ],
 "metadata": {
  "kernelspec": {
   "display_name": "Python [conda env:dragons_emergency] *",
   "language": "python",
   "name": "conda-env-dragons_emergency-py"
  },
  "language_info": {
   "codemirror_mode": {
    "name": "ipython",
    "version": 3
   },
   "file_extension": ".py",
   "mimetype": "text/x-python",
   "name": "python",
   "nbconvert_exporter": "python",
   "pygments_lexer": "ipython3",
   "version": "3.10.13"
  }
 },
 "nbformat": 4,
 "nbformat_minor": 4
}
