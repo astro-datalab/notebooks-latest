{
 "cells": [
  {
   "cell_type": "code",
   "execution_count": null,
   "metadata": {},
   "outputs": [],
   "source": [
    "__author__ = 'Vinicius Placco <vinicius.placco@noirlab.edu>'\n",
    "__version__ = '20240129' # yyyymmdd; version datestamp of this notebook\n",
    "#__datasets__ = ['allwise','smash']\n",
    "__keywords__ = ['niri','gemini','supernova','dragons']"
   ]
  },
  {
   "cell_type": "markdown",
   "metadata": {},
   "source": [
    "# Gemini NIRI reduction using DRAGONS Python API\n",
    "***\n",
    "## Public archival data from niriimg_tutorial - GN-2015B-Q-31 (SN2014J)\n",
    "#### adapted from https://dragons.readthedocs.io/projects/niriimg-drtutorial/en/v3.1.0/index.html\n",
    "#### don't forget to `conda install -n dragons nb_conda_kernels ipykernel` to run this notebook on the DRAGONS env \n",
    "***"
   ]
  },
  {
   "cell_type": "markdown",
   "metadata": {},
   "source": [
    "## Table of contents\n",
    "* [Goals](#goals)\n",
    "* [Summary](#summary)\n",
    "* [Disclaimers and attribution](#disclaimer)\n",
    "* [Imports and setup](#imports)\n",
    "* [About the dataset](#About)\n",
    "* [Downloading data for reduction](#Downloading_Data)\n",
    "* [Set up the DRAGONS logger](#DRAGONS_logger)\n",
    "* [Create File Lists](#File_Lists)\n",
    "* [Create Master Dark](#Master_dark)\n",
    "* [Bad Pixel Mask](#BPM)\n",
    "* [Create Master Flat Field](#Master_Flat)\n",
    "* [Standard Star](#Standard_Star)\n",
    "* [Reduce Science Images](#Reduce_Science)\n",
    "* [Display stacked final image](#Display_Image)\n",
    "* [Clean-up (optional)](#Clean-up)\n",
    "\n",
    "<a class=\"anchor\" id=\"goals\"></a>\n",
    "# Goals\n",
    "Showcase how to perform NIRI imaging data reduction using the Gemini DRAGONS package on the Data Lab science platform. Uses a custom DRAGONS kernel `\"DRAGONS (Py3.7)\"`. The steps include downloading data from the Gemini archive, setting up a DRAGONS calibration service, processing of flats, darks, bad pixel mask, and science frames, and finally the creation of a single combined stacked image.\n",
    "\n",
    "<a class=\"anchor\" id=\"summary\"></a>\n",
    "# Summary\n",
    "DRAGONS is a Python-based astronomical data reduction platform written by the Gemini Science User Support Department. It currently can be used to reduce imaging data from Gemini instruments GMOS, NIRI, Flamingos 2, GSAOI, and GNIRS, and spectroscopic data in GMOS longslit mode. Linked here is a general list of guides, manuals, and tutorials about the use of DRAGONS:\n",
    "https://dragons.readthedocs.io/en/v3.1.0/\n",
    "\n",
    "The DRAGONS kernel has been made available in the Data Lab environment, which should allow users to access the routines without being dependent on installing the software in their local machines. \n",
    "\n",
    "In this notebook, we present an example of a DRAGONS Jupyter notebook that works in the Data Lab environment to fully reduce example Gemini North NIRI H-band imaging data.\n",
    "This is a version of the DRAGONS Jupyter notebook tutorial presented here: \n",
    "https://dragons.readthedocs.io/projects/niriimg-drtutorial/en/v3.1.0/ex1_niriim_extended_api.html\n",
    "\n",
    "This notebook will not present all of the details of the many options available to adjust or optimize the DRAGONS NIRI data reduction process, rather will just show one example of a standard reduction of a GNIRS imaging dataset. \n",
    "More extensive explanations can be found in the general DRAGONS GNIRS data reduction tutorial from Gemini linked here:\n",
    "https://dragons.readthedocs.io/projects/niriimg-drtutorial/en/v3.1.0/index.html\n",
    "\n",
    "The data used in this notebook example is NIRI H-band imaging from the Gemini archive of the Supernova SN2014J from the Gemini North program \"SN2014J at very late phases\", PI: Marten van Kerkwijk, program ID GN-2015B-Q-31. More program information is given here: https://archive.gemini.edu/programinfo/GN-2015B-Q-31.\n",
    "\n",
    "<a class=\"anchor\" id=\"disclaimer\"></a>\n",
    "# Disclaimer & attribution\n",
    "If you use this notebook for your published science, please acknowledge the following:\n",
    "\n",
    "* Data Lab concept paper: Fitzpatrick et al., \"The NOAO Data Laboratory: a conceptual overview\", SPIE, 9149, 2014, http://dx.doi.org/10.1117/12.2057445\n",
    "\n",
    "* Data Lab disclaimer: https://datalab.noirlab.edu/disclaimers.php\n",
    "\n",
    "* DRAGONS publication: Labrie et al., \"DRAGONS - Data Reduction for Astronomy from Gemini Observatory North and South\", ASPC, 523, 321L, https://ui.adsabs.harvard.edu/abs/2019ASPC..523..321L/abstract\n",
    "\n",
    "* DRAGONS open source software publication: https://zenodo.org/record/7776065#.ZDg5qOzMLUI\n"
   ]
  },
  {
   "cell_type": "markdown",
   "metadata": {},
   "source": [
    "<a class=\"anchor\" id=\"imports\"></a>\n",
    "# Importing Python Libraries** (you'll probably have to install the `wget` and `ipympl` libraries)"
   ]
  },
  {
   "cell_type": "code",
   "execution_count": null,
   "metadata": {},
   "outputs": [],
   "source": [
    "from __future__ import print_function\n",
    "\n",
    "import glob\n",
    "import wget\n",
    "\n",
    "from gempy.adlibrary import dataselect\n",
    "from recipe_system import cal_service\n",
    "from recipe_system.reduction.coreReduce import Reduce\n",
    "from gempy.utils import logutils\n",
    "\n",
    "from astropy.io import fits\n",
    "import numpy as np\n",
    "import matplotlib.pyplot as plt\n",
    "import matplotlib.colors as colors\n",
    "import matplotlib.cbook as cbook\n",
    "from matplotlib.colors import LogNorm\n",
    "from matplotlib.colors import Normalize\n",
    "from matplotlib.colors import PowerNorm\n",
    "\n",
    "from collections import namedtuple\n",
    "\n",
    "#%matplotlib widget\n",
    "%matplotlib inline"
   ]
  },
  {
   "cell_type": "markdown",
   "metadata": {},
   "source": [
    "<a class=\"anchor\" id=\"About\"></a>\n",
    "# About the dataset\n",
    "\n",
    "This is a NIRI imaging observation of an extended source, a galaxy showing as a dense field of stars. The observation sequence uses an offset to a nearby blank portion of the sky to monitor the sky levels since there are no area in the science observation that is not “contaminated” by the galaxy.\n",
    "\n",
    "The calibrations we use for this example include:\n",
    "\n",
    "Darks for the science and sky offset frames.\n",
    "Flats, as a sequence of lamps-on and lamps-off exposures.\n",
    "Short darks to use with the flats to create a bad pixel mask.\n",
    "A set of standard star observations.\n",
    "\n",
    "| Observation Type | File name(s) | Purpose and Exposure (seconds) |\n",
    "| :--- | :--- | :---: |\n",
    "| Science | N20160102S0270-274 | on-target |\n",
    "| Science | N20160102S0275-279 | on-sky |\n",
    "| Science Darks | N20160102S0423-432 | 20 sec, like science |\n",
    "| Flats | N20160102S0373-382  | Lamp on |\n",
    "| Flats | N20160102S0363-372 | Lamp off |\n",
    "| Short Darks | N20160103S0463-472 |  |\n",
    "| Standard Star | N20160102S0295-299 |  |"
   ]
  },
  {
   "cell_type": "markdown",
   "metadata": {},
   "source": [
    "<a class=\"anchor\" id=\"Downloading_Data\"></a>\n",
    "# Downloading the data (direct link to .tar file hosted at Gemini - 48 Megabytes)"
   ]
  },
  {
   "cell_type": "code",
   "execution_count": null,
   "metadata": {},
   "outputs": [],
   "source": [
    "# uncomment the line and run the cell\n",
    "#\n",
    "#wget.download(\"http://www.gemini.edu/sciops/data/software/datapkgs/niriimg_tutorial_datapkg-v1.tar\")"
   ]
  },
  {
   "cell_type": "markdown",
   "metadata": {},
   "source": [
    "**Downloading the data** (individual files - direct link to the Gemini Archive - 221 Megabytes)"
   ]
  },
  {
   "cell_type": "code",
   "execution_count": null,
   "metadata": {},
   "outputs": [],
   "source": [
    "## uncomment the lines and run the cell\n",
    "#\n",
    "## Science \n",
    "#\n",
    "#wget.download(\"http://archive.gemini.edu/file/N20160102S0270.fits\")\n",
    "#wget.download(\"http://archive.gemini.edu/file/N20160102S0271.fits\")\n",
    "#wget.download(\"http://archive.gemini.edu/file/N20160102S0272.fits\")\n",
    "#wget.download(\"http://archive.gemini.edu/file/N20160102S0273.fits\")\n",
    "#wget.download(\"http://archive.gemini.edu/file/N20160102S0274.fits\")\n",
    "#wget.download(\"http://archive.gemini.edu/file/N20160102S0275.fits\")\n",
    "#wget.download(\"http://archive.gemini.edu/file/N20160102S0276.fits\")\n",
    "#wget.download(\"http://archive.gemini.edu/file/N20160102S0277.fits\")\n",
    "#wget.download(\"http://archive.gemini.edu/file/N20160102S0278.fits\")\n",
    "#wget.download(\"http://archive.gemini.edu/file/N20160102S0279.fits\")\n",
    "#\n",
    "## Science darks\n",
    "#\n",
    "#wget.download(\"http://archive.gemini.edu/file/N20160102S0423.fits\")\n",
    "#wget.download(\"http://archive.gemini.edu/file/N20160102S0424.fits\")\n",
    "#wget.download(\"http://archive.gemini.edu/file/N20160102S0425.fits\")\n",
    "#wget.download(\"http://archive.gemini.edu/file/N20160102S0426.fits\")\n",
    "#wget.download(\"http://archive.gemini.edu/file/N20160102S0427.fits\")\n",
    "#wget.download(\"http://archive.gemini.edu/file/N20160102S0428.fits\")\n",
    "#wget.download(\"http://archive.gemini.edu/file/N20160102S0429.fits\")\n",
    "#wget.download(\"http://archive.gemini.edu/file/N20160102S0430.fits\")\n",
    "#wget.download(\"http://archive.gemini.edu/file/N20160102S0431.fits\")\n",
    "#wget.download(\"http://archive.gemini.edu/file/N20160102S0432.fits\")\n",
    "#\n",
    "## Flats \n",
    "#\n",
    "#wget.download(\"http://archive.gemini.edu/file/N20160102S0363.fits\")\n",
    "#wget.download(\"http://archive.gemini.edu/file/N20160102S0364.fits\")\n",
    "#wget.download(\"http://archive.gemini.edu/file/N20160102S0365.fits\")\n",
    "#wget.download(\"http://archive.gemini.edu/file/N20160102S0366.fits\")\n",
    "#wget.download(\"http://archive.gemini.edu/file/N20160102S0367.fits\")\n",
    "#wget.download(\"http://archive.gemini.edu/file/N20160102S0368.fits\")\n",
    "#wget.download(\"http://archive.gemini.edu/file/N20160102S0369.fits\")\n",
    "#wget.download(\"http://archive.gemini.edu/file/N20160102S0370.fits\")\n",
    "#wget.download(\"http://archive.gemini.edu/file/N20160102S0371.fits\")\n",
    "#wget.download(\"http://archive.gemini.edu/file/N20160102S0372.fits\")\n",
    "#wget.download(\"http://archive.gemini.edu/file/N20160102S0373.fits\")\n",
    "#wget.download(\"http://archive.gemini.edu/file/N20160102S0374.fits\")\n",
    "#wget.download(\"http://archive.gemini.edu/file/N20160102S0375.fits\")\n",
    "#wget.download(\"http://archive.gemini.edu/file/N20160102S0376.fits\")\n",
    "#wget.download(\"http://archive.gemini.edu/file/N20160102S0377.fits\")\n",
    "#wget.download(\"http://archive.gemini.edu/file/N20160102S0378.fits\")\n",
    "#wget.download(\"http://archive.gemini.edu/file/N20160102S0379.fits\")\n",
    "#wget.download(\"http://archive.gemini.edu/file/N20160102S0380.fits\")\n",
    "#wget.download(\"http://archive.gemini.edu/file/N20160102S0381.fits\")\n",
    "#wget.download(\"http://archive.gemini.edu/file/N20160102S0382.fits\")\n",
    "#\n",
    "## Short darks\n",
    "#\n",
    "#wget.download(\"http://archive.gemini.edu/file/N20160103S0463.fits\")\n",
    "#wget.download(\"http://archive.gemini.edu/file/N20160103S0464.fits\")\n",
    "#wget.download(\"http://archive.gemini.edu/file/N20160103S0465.fits\")\n",
    "#wget.download(\"http://archive.gemini.edu/file/N20160103S0466.fits\")\n",
    "#wget.download(\"http://archive.gemini.edu/file/N20160103S0467.fits\")\n",
    "#wget.download(\"http://archive.gemini.edu/file/N20160103S0468.fits\")\n",
    "#wget.download(\"http://archive.gemini.edu/file/N20160103S0469.fits\")\n",
    "#wget.download(\"http://archive.gemini.edu/file/N20160103S0470.fits\")\n",
    "#wget.download(\"http://archive.gemini.edu/file/N20160103S0471.fits\")\n",
    "#wget.download(\"http://archive.gemini.edu/file/N20160103S0472.fits\")\n",
    "#\n",
    "## Standard star\n",
    "#\n",
    "#wget.download(\"http://archive.gemini.edu/file/N20160102S0295.fits\")\n",
    "#wget.download(\"http://archive.gemini.edu/file/N20160102S0296.fits\")\n",
    "#wget.download(\"http://archive.gemini.edu/file/N20160102S0297.fits\")\n",
    "#wget.download(\"http://archive.gemini.edu/file/N20160102S0298.fits\")\n",
    "#wget.download(\"http://archive.gemini.edu/file/N20160102S0299.fits\")"
   ]
  },
  {
   "cell_type": "markdown",
   "metadata": {},
   "source": [
    "**Create and move data to raw/ directory** (uncomment first)"
   ]
  },
  {
   "cell_type": "code",
   "execution_count": null,
   "metadata": {},
   "outputs": [],
   "source": [
    "!mkdir raw/\n",
    "!mv N2016*.fits raw/"
   ]
  },
  {
   "cell_type": "code",
   "execution_count": null,
   "metadata": {},
   "outputs": [],
   "source": [
    "# Check header of one raw science image\n",
    "#\n",
    "tmp = fits.open(\"raw/N20160102S0270.fits\")\n",
    "tmp[0].header"
   ]
  },
  {
   "cell_type": "markdown",
   "metadata": {},
   "source": [
    "<a class=\"anchor\" id=\"DRAGONS_logger\"></a>\n",
    "# Setting up the DRAGONS logger\n",
    "\n",
    "DRAGONS comes with a local calibration manager that uses the same calibration association rules as the Gemini Observatory Archive. This allows reduce to make requests to a local light-weight database for matching processed calibrations when needed to reduce a dataset.\n",
    "\n",
    "This simply tells the system where to put the calibration database, the database that will keep track of the processed calibrations we are going to send to it."
   ]
  },
  {
   "cell_type": "code",
   "execution_count": null,
   "metadata": {},
   "outputs": [],
   "source": [
    "logutils.config(file_name='niri_data_reduction.log')"
   ]
  },
  {
   "cell_type": "markdown",
   "metadata": {},
   "source": [
    "**Create a list of all the FITS files in the directory**"
   ]
  },
  {
   "cell_type": "code",
   "execution_count": null,
   "metadata": {},
   "outputs": [],
   "source": [
    "all_files = glob.glob('raw/N2016*[0-9].fits')\n",
    "all_files.sort()\n",
    "#all_files"
   ]
  },
  {
   "cell_type": "markdown",
   "metadata": {},
   "source": [
    "<a class=\"anchor\" id=\"File_Lists\"></a>\n",
    "# Create file lists\n",
    "\n",
    "This data set contains science and calibration frames. For some programs, it could have different observed targets and different exposure times depending on how you like to organize your raw data.\n",
    "\n",
    "The DRAGONS data reduction pipeline does not organize the data for you. You have to do it. DRAGONS provides tools to help you with that.\n",
    "\n",
    "The first step is to create input file lists. The tool “dataselect” helps with that. It uses Astrodata tags and “descriptors” to select the files and send the filenames to a text file that can then be fed to “reduce”. (See the Astrodata User Manual for information about Astrodata.)\n",
    "\n",
    "**Two lists for the darks**\n",
    "\n",
    "We have two sets of darks; one set for the science frames, the 20-second darks, and another for making the BPM, the 1-second darks. We will create two lists.\n",
    "\n",
    "If you did not know the exposure times for the darks, you could have use a combination of “dataselect” to select all the darks (tag DARK) and feed that list to “showd” to show descriptor values, in this case exposure_time. (See the descriptors page for a complete list.)\n",
    "\n",
    "**A list for the flats**\n",
    "\n",
    "The flats are a sequence of lamp-on and lamp-off exposures. We just send all of them to one list.\n",
    "\n",
    "**A list for the standard star**\n",
    "\n",
    "The standard stars at Gemini are normally taken as partner calibration.\n",
    "\n",
    "**A list for the science observations**\n",
    "\n",
    "The science frames are all the IMAGE non-FLAT frames that are also not the standard. Since flats are tagged FLAT and IMAGE, we need to exclude the FLAT tag.\n",
    "\n",
    "\n",
    "You can see the observation_class of all the data using “showd”. Here we will print the object name too."
   ]
  },
  {
   "cell_type": "code",
   "execution_count": null,
   "metadata": {},
   "outputs": [],
   "source": [
    "darks1s = dataselect.select_data(\n",
    "    all_files, ['DARK'], [],\n",
    "    dataselect.expr_parser('exposure_time==1'))\n",
    "\n",
    "darks20s = dataselect.select_data(\n",
    "    all_files, ['DARK'], [],\n",
    "    dataselect.expr_parser('exposure_time==20'))\n",
    "\n",
    "flats = dataselect.select_data(all_files, ['FLAT'])\n",
    "\n",
    "stdstar = dataselect.select_data(\n",
    "    all_files, [], [],\n",
    "    dataselect.expr_parser('object==\"FS 17\"'))\n",
    "\n",
    "target = dataselect.select_data(\n",
    "    all_files, ['IMAGE'], ['FLAT'],\n",
    "    dataselect.expr_parser('object!=\"FS 17\"'))"
   ]
  },
  {
   "cell_type": "markdown",
   "metadata": {},
   "source": [
    "<a class=\"anchor\" id=\"Master_dark\"></a>\n",
    "# Create Master Dark\n",
    "\n",
    "We first create the master dark for the science target, then add it to the calibration database. The name of the output master dark, N20160102S0423_dark.fits, is written to the screen at the end of the process."
   ]
  },
  {
   "cell_type": "code",
   "execution_count": null,
   "metadata": {},
   "outputs": [],
   "source": [
    "reduce_darks = Reduce()\n",
    "reduce_darks.files.extend(darks20s)\n",
    "reduce_darks.runr()"
   ]
  },
  {
   "cell_type": "markdown",
   "metadata": {},
   "source": [
    "<a class=\"anchor\" id=\"BPM\"></a>\n",
    "# Bad Pixel Mask\n",
    "\n",
    "The DRAGONS Gemini data reduction package, geminidr, comes with a static NIRI bad pixel mask (BPM) that gets automatically added to all the NIRI data as they gets processed. The user can also create a supplemental, fresher BPM from the flats and recent short darks. That new BPM is later fed to “reduce” as a user BPM to be combined with the static BPM. Using both the static and a fresh BPM from recent data lead to a better representation of the bad pixels. It is an optional but recommended step.\n",
    "\n",
    "The flats and the short darks are the inputs.\n",
    "\n",
    "The flats must be passed first to the input list to ensure that the recipe library associated with NIRI flats is selected. We will not use the default recipe but rather the special recipe from that library called makeProcessedBPM.\n",
    "\n",
    "The BPM produced is named N20160102S0373_bpm.fits."
   ]
  },
  {
   "cell_type": "code",
   "execution_count": null,
   "metadata": {},
   "outputs": [],
   "source": [
    "reduce_bpm = Reduce()\n",
    "reduce_bpm.files.extend(flats)\n",
    "reduce_bpm.files.extend(darks1s)\n",
    "reduce_bpm.recipename = 'makeProcessedBPM'\n",
    "reduce_bpm.runr()\n",
    "\n",
    "bpm = reduce_bpm.output_filenames[0]"
   ]
  },
  {
   "cell_type": "markdown",
   "metadata": {},
   "source": [
    "<a class=\"anchor\" id=\"Master_Flat\"></a>\n",
    "# Master Flat Field\n",
    "\n",
    "A NIRI master flat is created from a series of lamp-on and lamp-off exposures. Each flavor is stacked, then the lamp-off stack is subtracted from the lamp-on stack."
   ]
  },
  {
   "cell_type": "code",
   "execution_count": null,
   "metadata": {},
   "outputs": [],
   "source": [
    "reduce_flats = Reduce()\n",
    "reduce_flats.files.extend(flats)\n",
    "reduce_flats.uparms = [('addDQ:user_bpm', bpm)]\n",
    "reduce_flats.runr()"
   ]
  },
  {
   "cell_type": "markdown",
   "metadata": {},
   "source": [
    "<a class=\"anchor\" id=\"Standard_Star\"></a>\n",
    "# Standard Star\n",
    "\n",
    "The standard star is reduced more or less the same way as the science target (next section) except that darks frames are not obtained for standard star observations. Therefore the dark correction needs to be turned off.\n",
    "\n",
    "The processed flat field that we added earlier to the local calibration database will be fetched automatically. The user BPM (optional, but recommended) needs to be specified by the user."
   ]
  },
  {
   "cell_type": "code",
   "execution_count": null,
   "metadata": {},
   "outputs": [],
   "source": [
    "reduce_std = Reduce()\n",
    "reduce_std.files.extend(stdstar)\n",
    "reduce_std.uparms = [('addDQ:user_bpm', bpm)]\n",
    "reduce_std.uparms.append(('darkCorrect:do_cal', 'skip'))\n",
    "reduce_std.runr()"
   ]
  },
  {
   "cell_type": "markdown",
   "metadata": {},
   "source": [
    "<a class=\"anchor\" id=\"Reduce_Science\"></a>\n",
    "# Reduce Science Images\n",
    "\n",
    "The science target is an extended source. We need to turn off the scaling of the sky because the target fills the field of view and does not represent a reasonable sky background. If scaling is not turned off in this particular case, it results in an over-subtraction of the sky frame.\n",
    "\n",
    "The sky frame comes from off-target sky observations. We feed the pipeline all the on-target and off-target frames. The software will split the on-target and the off-target appropriately.\n",
    "\n",
    "The master dark and the master flat will be retrieved automatically from the local calibration database. Again, the user BPM needs to be specified on the command line.\n",
    "\n",
    "The output stack units are in electrons (header keyword BUNIT=electrons). The output stack is stored in a multi-extension FITS (MEF) file. The science signal is in the “SCI” extension, the variance is in the “VAR” extension, and the data quality plane (mask) is in the “DQ” extension."
   ]
  },
  {
   "cell_type": "code",
   "execution_count": null,
   "metadata": {},
   "outputs": [],
   "source": [
    "reduce_target = Reduce()\n",
    "reduce_target.files.extend(target)\n",
    "reduce_target.uparms = [('addDQ:user_bpm', bpm)]\n",
    "reduce_target.uparms.append(('skyCorrect:scale_sky', False))\n",
    "reduce_target.runr()"
   ]
  },
  {
   "cell_type": "markdown",
   "metadata": {},
   "source": [
    "<a class=\"anchor\" id=\"Display_Image\"></a>\n",
    "# Display the Stacked Image"
   ]
  },
  {
   "cell_type": "code",
   "execution_count": null,
   "metadata": {
    "scrolled": true
   },
   "outputs": [],
   "source": [
    "image_file = \"N20160102S0271_image.fits\"\n",
    "hdu_list = fits.open(image_file)\n",
    "hdu_list.info()"
   ]
  },
  {
   "cell_type": "code",
   "execution_count": null,
   "metadata": {},
   "outputs": [],
   "source": [
    "image_data = fits.getdata(image_file, ext=1)\n",
    "print(image_data.shape)"
   ]
  },
  {
   "cell_type": "code",
   "execution_count": null,
   "metadata": {},
   "outputs": [],
   "source": [
    "plt.figure(figsize = (15,15))\n",
    "plt.imshow(image_data,cmap='bone',norm=Normalize(vmin=1, vmax=50000))\n",
    "plt.show()"
   ]
  },
  {
   "cell_type": "markdown",
   "metadata": {},
   "source": [
    "<a class=\"anchor\" id=\"Clean-up\"></a>\n",
    "# Optional: remove raw data (uncomment lines before running)"
   ]
  },
  {
   "cell_type": "code",
   "execution_count": null,
   "metadata": {},
   "outputs": [],
   "source": [
    "#!rm -rf raw/"
   ]
  }
 ],
 "metadata": {
  "kernelspec": {
   "display_name": "Python [conda env:dragons_emergency] *",
   "language": "python",
   "name": "conda-env-dragons_emergency-py"
  },
  "language_info": {
   "codemirror_mode": {
    "name": "ipython",
    "version": 3
   },
   "file_extension": ".py",
   "mimetype": "text/x-python",
   "name": "python",
   "nbconvert_exporter": "python",
   "pygments_lexer": "ipython3",
   "version": "3.10.13"
  }
 },
 "nbformat": 4,
 "nbformat_minor": 4
}
