{
 "cells": [
  {
   "cell_type": "code",
   "execution_count": null,
   "metadata": {},
   "outputs": [],
   "source": [
    "__author__ = 'Susan Ridgway <susan.ridgway@noirlab.edu>, Vinicius Placco <vinicius.placco@noirlab.edu>'\n",
    "__version__ = '20240118' # yyyymmdd; version datestamp of this notebook\n",
    "#__datasets__ = ['allwise','smash']\n",
    "__keywords__ = ['gmos','gemini','galaxy','dragons']"
   ]
  },
  {
   "cell_type": "markdown",
   "metadata": {},
   "source": [
    "# Gemini GMOS photometry data reduction using DRAGONS Python API\n",
    "\n",
    "## Public archival data from program GN-2017A-SV-151\n",
    "#### adapted from https://dragons.readthedocs.io/projects/gmosimg-drtutorial/en/v3.0.3/03_api_reduction.html\n",
    "#### don't forget to `conda install -n dragons nb_conda_kernels ipykernel` to run this notebook on the DRAGONS env"
   ]
  },
  {
   "cell_type": "markdown",
   "metadata": {},
   "source": [
    "## Table of contents\n",
    "* [Goals](#goals)\n",
    "* [Summary](#summary)\n",
    "* [Disclaimers and attribution](#disclaimer)\n",
    "* [Imports and setup](#imports)\n",
    "* [About the dataset](#About)\n",
    "* [Downloading data for reduction](#Downloading_Data)\n",
    "* [Set up the DRAGONS logger](#DRAGONS_logger)\n",
    "* [Create File Lists](#File_Lists)\n",
    "* [Create Master Bias](#Master_Bias)\n",
    "* [Create Master Flat Field](#Master_Flat)\n",
    "* [Create Master Fringe Frame](#Master_Fringe)\n",
    "* [Reduce Science Images](#Reduce_Science)\n",
    "* [Display stacked final image](#Display_Image)\n",
    "* [Clean-up (optional)](#Clean-up)\n",
    "\n",
    "<a class=\"anchor\" id=\"goals\"></a>\n",
    "# Goals\n",
    "Showcase how to perform GMOS imaging data reduction using the Gemini DRAGONS package on the Data Lab science platform. Uses a custom DRAGONS kernel `\"DRAGONS (Py3.7)\"`. The steps include downloading data from the Gemini archive, setting up a DRAGONS calibration service, processing of flats, bias, and science frames, and finally the creation of a single combined stacked image.\n",
    "\n",
    "<a class=\"anchor\" id=\"summary\"></a>\n",
    "# Summary\n",
    "DRAGONS is a Python-based astronomical data reduction platform written by the Gemini Science User Support Department. It currently can be used to reduce imaging data from Gemini instruments GMOS, NIRI, Flamingos 2, GSAOI, and GNIRS, and spectroscopic data in GMOS longslit mode. Linked here is a general list of guides, manuals and tutorials about the use of DRAGONS:\n",
    "https://dragons.readthedocs.io/en/v3.1.0/\n",
    "\n",
    "The DRAGONS kernel has been made available in the Data Lab environment, which should allow users to access the routines without being dependent on installing the software in their local machines. \n",
    "\n",
    "In this notebook, we present an example of a DRAGONS Jupyter notebook that works in the Data Lab environment to fully reduce example Gemini South GMOS G-band imaging data.\n",
    "This is a version of the DRAGONS Jupyter notebook tutorial presented here: \n",
    "https://gitlab.com/nsf-noirlab/csdc/usngo/DRAGONS_tutorials/-/blob/main/GMOS_IM_FIELD.ipynb\n",
    "\n",
    "This notebook will not present all of the details of the many options available to adjust or optimize the DRAGONS GMOS data reduction process, rather will just show one example of a standard reduction of a GMOS imaging dataset. \n",
    "More extensive explanations can be found in the general DRAGONS GMOS data reduction tutorial from Gemini linked here:\n",
    "https://dragons.readthedocs.io/projects/gmosimg-drtutorial/en/v3.1.0/\n",
    "\n",
    "The data used in this notebook example is GMOS G band imaging from the Gemini archive of the galaxy NGC 5018 from the Gemini South program \"The Evolutionary History of NGC 5018\", PI: L. Sesto, program ID GS-2018A-Q-207. More program information is given here: https://archive.gemini.edu/programinfo/GS-2018A-Q-207.\n",
    "The final reduced science image combines 5 science frames of 460 seconds each, that were dithered between each exposure.\n",
    "\n",
    "\n",
    "<a class=\"anchor\" id=\"disclaimer\"></a>\n",
    "# Disclaimer & attribution\n",
    "If you use this notebook for your published science, please acknowledge the following:\n",
    "\n",
    "* Data Lab concept paper: Fitzpatrick et al., \"The NOAO Data Laboratory: a conceptual overview\", SPIE, 9149, 2014, http://dx.doi.org/10.1117/12.2057445\n",
    "\n",
    "* Data Lab disclaimer: https://datalab.noirlab.edu/disclaimers.php\n",
    "\n",
    "* DRAGONS publication: Labrie et al., \"DRAGONS - Data Reduction for Astronomy from Gemini Observatory North and South\", ASPC, 523, 321L, https://ui.adsabs.harvard.edu/abs/2019ASPC..523..321L/abstract\n",
    "\n",
    "* DRAGONS open source software publication: https://zenodo.org/record/7776065#.ZDg5qOzMLUI"
   ]
  },
  {
   "cell_type": "markdown",
   "metadata": {},
   "source": [
    "<a class=\"anchor\" id=\"imports\"></a>\n",
    "# Importing Python Libraries** (you'll probably have to install the `wget` and `ipympl` libraries)"
   ]
  },
  {
   "cell_type": "code",
   "execution_count": null,
   "metadata": {
    "scrolled": true
   },
   "outputs": [],
   "source": [
    "from __future__ import print_function\n",
    "\n",
    "import glob\n",
    "import wget\n",
    "\n",
    "from gempy.adlibrary import dataselect\n",
    "from recipe_system import cal_service\n",
    "from recipe_system.reduction.coreReduce import Reduce\n",
    "from gempy.utils import logutils\n",
    "\n",
    "from astropy.io import fits\n",
    "import numpy as np\n",
    "import matplotlib.pyplot as plt\n",
    "import matplotlib.colors as colors\n",
    "import matplotlib.cbook as cbook\n",
    "from matplotlib.colors import LogNorm\n",
    "from matplotlib.colors import PowerNorm\n",
    "\n",
    "#%matplotlib widget\n",
    "%matplotlib inline"
   ]
  },
  {
   "cell_type": "markdown",
   "metadata": {},
   "source": [
    "<a class=\"anchor\" id=\"About\"></a>\n",
    "# About the dataset\n",
    "\n",
    "The data used for this tutorial is a dithered sequence on a starry field.\n",
    "\n",
    "The table below contains a summary of the dataset downloaded in the previous section:\n",
    "\n",
    "\n",
    "| Observation Type | File name(s) | Purpose and Exposure (seconds) |\n",
    "| :--- | :--- | :---: |\n",
    "| Science | S20180419S0098-102 | 460 s, g-band |\n",
    "| Twilight Flats | S20180419S0207-211 | g-band |\n",
    "| Bias | S20180423S0050-054 | 0 s, r-band |"
   ]
  },
  {
   "cell_type": "markdown",
   "metadata": {},
   "source": [
    "<a class=\"anchor\" id=\"Downloading_Data\"></a>\n",
    "# Downloading the data"
   ]
  },
  {
   "cell_type": "code",
   "execution_count": null,
   "metadata": {},
   "outputs": [],
   "source": [
    "# # uncomment the lines and run the cell\n",
    "\n",
    "# # Science data from GS2018A-Q-207\n",
    "#wget.download(\"http://archive.gemini.edu/file/S20180419S0098.fits\")\n",
    "#wget.download(\"http://archive.gemini.edu/file/S20180419S0099.fits\")\n",
    "#wget.download(\"http://archive.gemini.edu/file/S20180419S0100.fits\")\n",
    "#wget.download(\"http://archive.gemini.edu/file/S20180419S0101.fits\")\n",
    "#wget.download(\"http://archive.gemini.edu/file/S20180419S0102.fits\")\n",
    "# # Twilight flats \n",
    "#wget.download(\"http://archive.gemini.edu/file/S20180419S0207.fits\")\n",
    "#wget.download(\"http://archive.gemini.edu/file/S20180419S0208.fits\")\n",
    "#wget.download(\"http://archive.gemini.edu/file/S20180419S0209.fits\")\n",
    "#wget.download(\"http://archive.gemini.edu/file/S20180419S0210.fits\")\n",
    "#wget.download(\"http://archive.gemini.edu/file/S20180419S0211.fits\")\n",
    "# # Biases \n",
    "#wget.download(\"http://archive.gemini.edu/file/S20180423S0050.fits\")\n",
    "#wget.download(\"http://archive.gemini.edu/file/S20180423S0051.fits\")\n",
    "#wget.download(\"http://archive.gemini.edu/file/S20180423S0052.fits\")\n",
    "#wget.download(\"http://archive.gemini.edu/file/S20180423S0053.fits\")\n",
    "#wget.download(\"http://archive.gemini.edu/file/S20180423S0054.fits\")"
   ]
  },
  {
   "cell_type": "markdown",
   "metadata": {},
   "source": [
    "# Create and move data to raw/ directory (uncomment first)"
   ]
  },
  {
   "cell_type": "code",
   "execution_count": null,
   "metadata": {},
   "outputs": [],
   "source": [
    "#!mkdir raw/\n",
    "#!mv S2018*.fits raw/"
   ]
  },
  {
   "cell_type": "markdown",
   "metadata": {},
   "source": [
    "<a class=\"anchor\" id=\"DRAGONS_logger\"></a>\n",
    "# Setting up the DRAGONS logger\n",
    "\n",
    "DRAGONS comes with a local calibration manager that uses the same calibration association rules as the Gemini Observatory Archive. This allows reduce to make requests to a local light-weight database for matching processed calibrations when needed to reduce a dataset.\n",
    "\n",
    "This simply tells the system where to put the calibration database, the database that will keep track of the processed calibrations we are going to send to it."
   ]
  },
  {
   "cell_type": "code",
   "execution_count": null,
   "metadata": {},
   "outputs": [],
   "source": [
    "logutils.config(file_name='gmos_data_reduction.log')"
   ]
  },
  {
   "cell_type": "code",
   "execution_count": null,
   "metadata": {},
   "outputs": [],
   "source": [
    "all_files = glob.glob('raw/S2018*[0-9].fits')\n",
    "all_files.sort()\n",
    "#all_files"
   ]
  },
  {
   "cell_type": "markdown",
   "metadata": {},
   "source": [
    "<a class=\"anchor\" id=\"File_Lists\"></a>\n",
    "# Create file lists\n",
    "\n",
    "The first step is to create input file lists. The tool “dataselect” helps with that. It uses Astrodata tags and “descriptors” to select the files and send the filenames to a text file that can then be fed to “reduce”. (See the Astrodata User Manual for information about Astrodata.)"
   ]
  },
  {
   "cell_type": "code",
   "execution_count": null,
   "metadata": {},
   "outputs": [],
   "source": [
    "list_biases  = dataselect.select_data(all_files,['BIAS'],[])\n",
    "list_flats   = dataselect.select_data(all_files,['FLAT'],[],\n",
    "                                      dataselect.expr_parser('filter_name==\"g\"'))\n",
    "list_science = dataselect.select_data(all_files,[],['CAL'],\n",
    "                                      dataselect.expr_parser('(observation_class==\"science\" and filter_name==\"g\")'))"
   ]
  },
  {
   "cell_type": "markdown",
   "metadata": {},
   "source": [
    "<a class=\"anchor\" id=\"Master_Bias\"></a>\n",
    "# Create a Master Bias\n",
    "We start the data reduction by creating a master bias for the science data. It can be created and added to the calibration database using the commands below:"
   ]
  },
  {
   "cell_type": "code",
   "execution_count": null,
   "metadata": {},
   "outputs": [],
   "source": [
    "reduce_bias = Reduce()\n",
    "reduce_bias.files.extend(list_biases)\n",
    "reduce_bias.runr()"
   ]
  },
  {
   "cell_type": "markdown",
   "metadata": {},
   "source": [
    "<a class=\"anchor\" id=\"Master_Flat\"></a>\n",
    "# Create a Master Flat Field\n",
    "\n",
    "Twilight flats images are used to produce an imaging master flat and the result is added to the calibration database."
   ]
  },
  {
   "cell_type": "code",
   "execution_count": null,
   "metadata": {},
   "outputs": [],
   "source": [
    "reduce_flats = Reduce()\n",
    "reduce_flats.files.extend(list_flats)\n",
    "reduce_flats.runr()"
   ]
  },
  {
   "cell_type": "markdown",
   "metadata": {},
   "source": [
    "<a class=\"anchor\" id=\"Master_Fringe\"></a>\n",
    "# Create Master Fringe Frame\n",
    "\n",
    "The dataset used in this tutorial does not require a Master Fringe Frame, but the following cell demonstrates how to create one for completeness. "
   ]
  },
  {
   "cell_type": "code",
   "execution_count": null,
   "metadata": {},
   "outputs": [],
   "source": [
    "reduce_fringe = Reduce()\n",
    "reduce_fringe.files.extend(list_science)\n",
    "reduce_fringe.recipename = 'makeProcessedFringe'\n",
    "reduce_fringe.runr()"
   ]
  },
  {
   "cell_type": "markdown",
   "metadata": {},
   "source": [
    "<a class=\"anchor\" id=\"Reduce_Science\"></a>\n",
    "# Reduce Science Images\n",
    "\n",
    "Once we have our calibration files processed and added to the database, we can run reduce on our science data.\n",
    "\n",
    "This command will generate bias and flat corrected files and will stack them. If a fringe frames is needed this command will apply the correction. The stacked image will have the _stack suffix.\n",
    "\n",
    "The output stack units are in electrons (header keyword BUNIT=electrons). The output stack is stored in a multi-extension FITS (MEF) file. The science signal is in the “SCI” extension, the variance is in the “VAR” extension, and the data quality plane (mask) is in the “DQ” extension.\n"
   ]
  },
  {
   "cell_type": "code",
   "execution_count": null,
   "metadata": {},
   "outputs": [],
   "source": [
    "reduce_science = Reduce()\n",
    "reduce_science.files.extend(list_science)\n",
    "reduce_science.runr()"
   ]
  },
  {
   "cell_type": "markdown",
   "metadata": {},
   "source": [
    "<a class=\"anchor\" id=\"Display_Image\"></a>\n",
    "# Display the Stacked Image"
   ]
  },
  {
   "cell_type": "code",
   "execution_count": null,
   "metadata": {
    "scrolled": true
   },
   "outputs": [],
   "source": [
    "image_file = \"S20180419S0098_image.fits\"\n",
    "hdu_list = fits.open(image_file)\n",
    "hdu_list.info()"
   ]
  },
  {
   "cell_type": "code",
   "execution_count": null,
   "metadata": {},
   "outputs": [],
   "source": [
    "image_data = fits.getdata(image_file, ext=1)\n",
    "print(image_data.shape)"
   ]
  },
  {
   "cell_type": "code",
   "execution_count": null,
   "metadata": {},
   "outputs": [],
   "source": [
    "plt.figure(figsize = (15,15))\n",
    "plt.imshow(image_data,cmap='gray',norm=LogNorm(vmin=3000, vmax=60000),origin='lower')\n",
    "plt.xlim(900,2500)\n",
    "plt.ylim(1600,600)\n",
    "plt.show()"
   ]
  },
  {
   "cell_type": "markdown",
   "metadata": {},
   "source": [
    "<a class=\"anchor\" id=\"Clean-up\"></a>\n",
    "# Optional: remove duplicate calibrations and remove raw data (uncomment lines before running)"
   ]
  },
  {
   "cell_type": "code",
   "execution_count": null,
   "metadata": {},
   "outputs": [],
   "source": [
    "#!rm -rf *_bias.fits *_flat.fits\n",
    "#!rm -rf raw/"
   ]
  }
 ],
 "metadata": {
  "kernelspec": {
   "display_name": "Python [conda env:dragons_emergency] *",
   "language": "python",
   "name": "conda-env-dragons_emergency-py"
  },
  "language_info": {
   "codemirror_mode": {
    "name": "ipython",
    "version": 3
   },
   "file_extension": ".py",
   "mimetype": "text/x-python",
   "name": "python",
   "nbconvert_exporter": "python",
   "pygments_lexer": "ipython3",
   "version": "3.10.13"
  }
 },
 "nbformat": 4,
 "nbformat_minor": 4
}
