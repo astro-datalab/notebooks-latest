{
 "cells": [
  {
   "cell_type": "code",
   "execution_count": 1,
   "metadata": {},
   "outputs": [],
   "source": [
    "__author__ = 'Vinicius Placco <vinicius.placco@noirlab.edu>'\n",
    "__version__ = '20240124' # yyyymmdd; version datestamp of this notebook\n",
    "#__datasets__ = ['allwise','smash']\n",
    "__keywords__ = ['flamingos-2','gemini','browndwarf','dwarf','dragons']"
   ]
  },
  {
   "cell_type": "markdown",
   "metadata": {
    "tags": []
   },
   "source": [
    "# Gemini Flamingos-2 reduction using DRAGONS Python API\n",
    "***\n",
    "## Public archival data from f2img_tutorial - GS-2013B-Q-15 (WISE J041358.14-475039.3)\n",
    "#### adapted from https://dragons.readthedocs.io/projects/f2img-drtutorial/en/v3.1.0/01_introduction.html\n",
    "#### don't forget to `conda install -n dragons nb_conda_kernels ipykernel` to run this notebook on the DRAGONS env \n",
    "***"
   ]
  },
  {
   "cell_type": "markdown",
   "metadata": {},
   "source": [
    "## Table of contents\n",
    "* [Goals](#goals)\n",
    "* [Summary](#summary)\n",
    "* [Disclaimers and attribution](#disclaimer)\n",
    "* [Imports and setup](#imports)\n",
    "* [About the dataset](#About)\n",
    "* [Downloading data for reduction](#Downloading_Data)\n",
    "* [Set up the DRAGONS logger](#DRAGONS_logger)\n",
    "* [Create File Lists](#File_Lists)\n",
    "* [Create Master Dark](#Master_dark)\n",
    "* [Create Bad Pixel Mask](#BPM)\n",
    "* [Create Master Flat Field](#Master_Flat)\n",
    "* [Reduce Science Images](#Reduce_Science)\n",
    "* [Display stacked final image](#Display_Image)\n",
    "* [Clean-up (optional)](#Clean-up)\n",
    "\n",
    "<a class=\"anchor\" id=\"goals\"></a>\n",
    "# Goals\n",
    "Showcase how to perform Flamingos-2 imaging data reduction using the Gemini DRAGONS package on the Data Lab science platform. Uses a custom DRAGONS kernel `\"DRAGONS (Py3.7)\"`. The steps include downloading data from the Gemini archive, setting up a DRAGONS calibration service, processing of flats, darks, bad pixel mask, and science frames, and finally the creation of a single combined stacked image.\n",
    "\n",
    "<a class=\"anchor\" id=\"summary\"></a>\n",
    "# Summary\n",
    "DRAGONS is a Python-based astronomical data reduction platform written by the Gemini Science User Support Department. It currently can be used to reduce imaging data from Gemini instruments GMOS, NIRI, Flamingos 2, GSAOI, and GNIRS, and spectroscopic data in GMOS longslit mode. Linked here is a general list of guides, manuals, and tutorials about the use of DRAGONS:\n",
    "https://dragons.readthedocs.io/en/v3.1.0/\n",
    "\n",
    "The DRAGONS kernel has been made available in the Data Lab environment, which should allow users to access the routines without being dependent on installing the software in their local machines. \n",
    "\n",
    "In this notebook, we present an example of a DRAGONS Jupyter notebook that works in the Data Lab environment to fully reduce example Gemini South Flamingos-2 Y-band imaging data.\n",
    "This is a version of the DRAGONS Jupyter notebook tutorial presented here: \n",
    "https://dragons.readthedocs.io/projects/f2img-drtutorial/en/v3.1.0/01_introduction.html\n",
    "\n",
    "This notebook will not present all of the details of the many options available to adjust or optimize the DRAGONS Flamingos-2 data reduction process, rather will just show one example of a standard reduction of a Flamingos-2 imaging dataset. \n",
    "More extensive explanations can be found in the general DRAGONS GMOS data reduction tutorial from Gemini linked here:\n",
    "https://dragons.readthedocs.io/projects/f2img-drtutorial/en/v3.1.0/index.html\n",
    "\n",
    "The data used in this notebook example is Flamingos-2 Y band imaging from the Gemini archive of the brown dwarf W0413-4750 from the Gemini South program \"A Study of the 450K Transition from T to Y Dwarf, and of the 350K Y Dwarfs\", PI: S. Leggett, program ID GS-2013B-Q-15. More program information is given here: https://archive.gemini.edu/programinfo/GS-2013B-Q-15.\n",
    "\n",
    "<a class=\"anchor\" id=\"disclaimer\"></a>\n",
    "# Disclaimer & attribution\n",
    "If you use this notebook for your published science, please acknowledge the following:\n",
    "\n",
    "* Data Lab concept paper: Fitzpatrick et al., \"The NOAO Data Laboratory: a conceptual overview\", SPIE, 9149, 2014, http://dx.doi.org/10.1117/12.2057445\n",
    "\n",
    "* Data Lab disclaimer: https://datalab.noirlab.edu/disclaimers.php\n",
    "\n",
    "* DRAGONS publication: Labrie et al., \"DRAGONS - Data Reduction for Astronomy from Gemini Observatory North and South\", ASPC, 523, 321L, https://ui.adsabs.harvard.edu/abs/2019ASPC..523..321L/abstract\n",
    "\n",
    "* DRAGONS open source software publication: https://zenodo.org/record/7776065#.ZDg5qOzMLUI\n"
   ]
  },
  {
   "cell_type": "markdown",
   "metadata": {},
   "source": [
    "<a class=\"anchor\" id=\"imports\"></a>\n",
    "# Importing Python Libraries** (you'll probably have to install the `wget` and `ipympl` libraries)"
   ]
  },
  {
   "cell_type": "code",
   "execution_count": null,
   "metadata": {},
   "outputs": [],
   "source": [
    "from __future__ import print_function\n",
    "\n",
    "import glob\n",
    "import wget\n",
    "\n",
    "from gempy.adlibrary import dataselect\n",
    "from recipe_system import cal_service\n",
    "from recipe_system.reduction.coreReduce import Reduce\n",
    "from gempy.utils import logutils\n",
    "\n",
    "from astropy.io import fits\n",
    "import numpy as np\n",
    "import matplotlib.pyplot as plt\n",
    "import matplotlib.colors as colors\n",
    "import matplotlib.cbook as cbook\n",
    "from matplotlib.colors import LogNorm\n",
    "from matplotlib.colors import Normalize\n",
    "from matplotlib.colors import PowerNorm\n",
    "\n",
    "from collections import namedtuple\n",
    "\n",
    "#%matplotlib widget\n",
    "%matplotlib inline"
   ]
  },
  {
   "cell_type": "markdown",
   "metadata": {},
   "source": [
    "<a class=\"anchor\" id=\"About\"></a>\n",
    "# About the dataset\n",
    "This data comes from an Flamingos-2 observation program that observced a star and a distant galaxy field with dither on target for sky subtraction. \n",
    "\n",
    "The calibrations we use in this example include:\n",
    "\n",
    "- Darks for the science frames.\n",
    "- Flats, as a sequence of lamps-on and lamps-off exposures.\n",
    "- Short darks to use with the flats to create a bad pixel mask.\n",
    "\n",
    "| Observation Type | File name(s) | Purpose and Exposure (seconds) |\n",
    "| :--- | :--- | :---: |\n",
    "| Science | S20131121S0075-083 | Y-band, 120 s |\n",
    "| Darks | S20131121S0369-375 | 2 s, short darks for BPM |\n",
    "| Darks | S20131120S0115-120 <br> S20131121S0010 <br> S20131122S0012 <br> S20131122S0438-439| 120 s, for science data <br><br><br><br>|\n",
    "| Flats | S20131129S0320-323 | 20 s, Lamp On, Y-band |\n",
    "| Flats | S20131126S1111-116 | 20 s, Lamp Off, Y-band |"
   ]
  },
  {
   "cell_type": "markdown",
   "metadata": {},
   "source": [
    "<a class=\"anchor\" id=\"Downloading_Data\"></a>\n",
    "# Downloading the data (direct link to .tar file hosted at Gemini - 125 Megabytes)"
   ]
  },
  {
   "cell_type": "code",
   "execution_count": null,
   "metadata": {},
   "outputs": [],
   "source": [
    "# uncomment the line and run the cell\n",
    "#\n",
    "#wget.download(\"http://www.gemini.edu/sciops/data/software/datapkgs/f2img_tutorial_datapkg-v1.tar\")"
   ]
  },
  {
   "cell_type": "markdown",
   "metadata": {},
   "source": [
    "**Downloading the data** (individual files - direct link to the Gemini Archive - 577 Megabytes)"
   ]
  },
  {
   "cell_type": "code",
   "execution_count": null,
   "metadata": {
    "tags": []
   },
   "outputs": [],
   "source": [
    "# # uncomment the lines and run the cell\n",
    "\n",
    "# # Science \n",
    "\n",
    "#wget.download(\"http://archive.gemini.edu/file/S20131121S0075.fits\")\n",
    "#wget.download(\"http://archive.gemini.edu/file/S20131121S0076.fits\")\n",
    "#wget.download(\"http://archive.gemini.edu/file/S20131121S0077.fits\")\n",
    "#wget.download(\"http://archive.gemini.edu/file/S20131121S0078.fits\")\n",
    "#wget.download(\"http://archive.gemini.edu/file/S20131121S0079.fits\")\n",
    "#wget.download(\"http://archive.gemini.edu/file/S20131121S0080.fits\")\n",
    "#wget.download(\"http://archive.gemini.edu/file/S20131121S0081.fits\")\n",
    "#wget.download(\"http://archive.gemini.edu/file/S20131121S0082.fits\")\n",
    "#wget.download(\"http://archive.gemini.edu/file/S20131121S0083.fits\")\n",
    "\n",
    "# # Darks (2 s, short darks for BPM)\n",
    "\n",
    "#wget.download(\"http://archive.gemini.edu/file/S20131121S0369.fits\")\n",
    "#wget.download(\"http://archive.gemini.edu/file/S20131121S0370.fits\")\n",
    "#wget.download(\"http://archive.gemini.edu/file/S20131121S0371.fits\")\n",
    "#wget.download(\"http://archive.gemini.edu/file/S20131121S0372.fits\")\n",
    "#wget.download(\"http://archive.gemini.edu/file/S20131121S0373.fits\")\n",
    "#wget.download(\"http://archive.gemini.edu/file/S20131121S0374.fits\")\n",
    "#wget.download(\"http://archive.gemini.edu/file/S20131121S0375.fits\")\n",
    "\n",
    "# # Darks (120 s, for science data)\n",
    "\n",
    "#wget.download(\"http://archive.gemini.edu/file/S20131120S0115.fits\")\n",
    "#wget.download(\"http://archive.gemini.edu/file/S20131120S0116.fits\")\n",
    "#wget.download(\"http://archive.gemini.edu/file/S20131120S0117.fits\")\n",
    "#wget.download(\"http://archive.gemini.edu/file/S20131120S0118.fits\")\n",
    "#wget.download(\"http://archive.gemini.edu/file/S20131120S0119.fits\")\n",
    "#wget.download(\"http://archive.gemini.edu/file/S20131120S0120.fits\")\n",
    "#wget.download(\"http://archive.gemini.edu/file/S20131121S0010.fits\")\n",
    "#wget.download(\"http://archive.gemini.edu/file/S20131122S0012.fits\")\n",
    "#wget.download(\"http://archive.gemini.edu/file/S20131122S0438.fits\")\n",
    "#wget.download(\"http://archive.gemini.edu/file/S20131122S0439.fits\")\n",
    "\n",
    "# # Flats (20 s, Lamp On, Y-band)\n",
    "\n",
    "#wget.download(\"http://archive.gemini.edu/file/S20131129S0320.fits\")\n",
    "#wget.download(\"http://archive.gemini.edu/file/S20131129S0321.fits\")\n",
    "#wget.download(\"http://archive.gemini.edu/file/S20131129S0322.fits\")\n",
    "#wget.download(\"http://archive.gemini.edu/file/S20131129S0323.fits\")\n",
    "\n",
    "# # Flats (20 s, Lamp Off, Y-band)\n",
    "\n",
    "#wget.download(\"http://archive.gemini.edu/file/S20131126S1111.fits\")\n",
    "#wget.download(\"http://archive.gemini.edu/file/S20131126S1112.fits\")\n",
    "#wget.download(\"http://archive.gemini.edu/file/S20131126S1113.fits\")\n",
    "#wget.download(\"http://archive.gemini.edu/file/S20131126S1114.fits\")\n",
    "#wget.download(\"http://archive.gemini.edu/file/S20131126S1115.fits\")\n",
    "#wget.download(\"http://archive.gemini.edu/file/S20131126S1116.fits\")"
   ]
  },
  {
   "cell_type": "markdown",
   "metadata": {},
   "source": [
    "# Create and move data to raw/ directory (uncomment first)"
   ]
  },
  {
   "cell_type": "code",
   "execution_count": null,
   "metadata": {},
   "outputs": [],
   "source": [
    "#!mkdir raw/\n",
    "#!mv S2013*.fits raw/"
   ]
  },
  {
   "cell_type": "code",
   "execution_count": null,
   "metadata": {
    "tags": []
   },
   "outputs": [],
   "source": [
    "# Check header of one raw science image\n",
    "#\n",
    "tmp = fits.open(\"raw/S20131121S0075.fits\")\n",
    "tmp[0].header"
   ]
  },
  {
   "cell_type": "markdown",
   "metadata": {},
   "source": [
    "<a class=\"anchor\" id=\"DRAGONS_logger\"></a>\n",
    "# Setting up the DRAGONS logger\n",
    "\n",
    "DRAGONS comes with a local calibration manager that uses the same calibration association rules as the Gemini Observatory Archive. This allows reduce to make requests to a local light-weight database for matching processed calibrations when needed to reduce a dataset.\n",
    "\n",
    "This simply tells the system where to put the calibration database, the database that will keep track of the processed calibrations we are going to send to it."
   ]
  },
  {
   "cell_type": "code",
   "execution_count": null,
   "metadata": {},
   "outputs": [],
   "source": [
    "logutils.config(file_name='f2_data_reduction.log')"
   ]
  },
  {
   "cell_type": "markdown",
   "metadata": {},
   "source": [
    "**Create a list of all the FITS files in the directory**"
   ]
  },
  {
   "cell_type": "code",
   "execution_count": null,
   "metadata": {},
   "outputs": [],
   "source": [
    "all_files = glob.glob('raw/S2013*[0-9].fits')\n",
    "all_files.sort()\n",
    "#all_files"
   ]
  },
  {
   "cell_type": "markdown",
   "metadata": {},
   "source": [
    "<a class=\"anchor\" id=\"File_Lists\"></a>\n",
    "# Create file lists\n",
    "\n",
    "This data set contains science and calibration frames. For some programs, it could have different observed targets and different exposure times depending on how you like to organize your raw data.\n",
    "\n",
    "The DRAGONS data reduction pipeline does not organize the data for you. You have to do it. DRAGONS provides tools to help you with that.\n",
    "\n",
    "The first step is to create lists that will be used in the data reduction process. For that, we use dataselect. Please, refer to the dataselect documentation for details regarding its usage."
   ]
  },
  {
   "cell_type": "code",
   "execution_count": null,
   "metadata": {},
   "outputs": [],
   "source": [
    "dark_files_120s = dataselect.select_data(\n",
    "    all_files,['F2', 'DARK', 'RAW'],[],\n",
    "    dataselect.expr_parser('exposure_time==120'))\n",
    "\n",
    "dark_files_2s = dataselect.select_data(\n",
    "    all_files,['F2', 'DARK', 'RAW'],[],\n",
    "    dataselect.expr_parser('exposure_time==2'))\n",
    "\n",
    "list_of_flats_Y = dataselect.select_data(\n",
    "     all_files,['FLAT'],[],\n",
    "     dataselect.expr_parser('filter_name==\"Y\"'))\n",
    "\n",
    "list_of_science_images = dataselect.select_data(\n",
    "    all_files,['F2'],[],\n",
    "    dataselect.expr_parser('(observation_class==\"science\" and filter_name==\"Y\")'))"
   ]
  },
  {
   "cell_type": "markdown",
   "metadata": {},
   "source": [
    "<a class=\"anchor\" id=\"Master_dark\"></a>\n",
    "# Create Master Dark "
   ]
  },
  {
   "cell_type": "code",
   "execution_count": null,
   "metadata": {},
   "outputs": [],
   "source": [
    "reduce_darks = Reduce()\n",
    "reduce_darks.files.extend(dark_files_120s)\n",
    "reduce_darks.runr()"
   ]
  },
  {
   "cell_type": "markdown",
   "metadata": {},
   "source": [
    "<a class=\"anchor\" id=\"BPM\"></a>\n",
    "# Create a Bad Pixel Mask\n",
    "\n",
    "The Bad Pixel Mask (BPM) can be built using a set of flat images with the lamps on and off and a set of short exposure dark files. Here, our shortest dark files have 2 second exposure time. Again, we use the reduce command to produce the BPMs.\n",
    "\n",
    "It is important to note that the recipe library association is done based on the nature of the first file in the input list. Since the recipe to make the BPM is located in the recipe library for flats, the first item in the list must be a flat.\n",
    "\n",
    "For Flamingos-2, the filter wheel’s location is such that the choice of filter does not interfere with the results. Here we have Y-band flats, so we will use Y-band flats."
   ]
  },
  {
   "cell_type": "code",
   "execution_count": null,
   "metadata": {},
   "outputs": [],
   "source": [
    "reduce_bpm = Reduce()\n",
    "reduce_bpm.files.extend(list_of_flats_Y)\n",
    "reduce_bpm.files.extend(dark_files_2s)\n",
    "reduce_bpm.recipename = 'makeProcessedBPM'\n",
    "reduce_bpm.runr()\n",
    "\n",
    "bpm_filename = reduce_bpm.output_filenames[0]"
   ]
  },
  {
   "cell_type": "markdown",
   "metadata": {},
   "source": [
    "<a class=\"anchor\" id=\"Master_Flat\"></a>\n",
    "# Create a Master Flat Field\n",
    "\n",
    "The F2 Y-band master flat is created from a series of lamp-on and lamp-off exposures. They should all have the same exposure time. Each flavor is stacked (averaged), then the lamp-off stack is subtracted from the lamp-on stack and the result normalized."
   ]
  },
  {
   "cell_type": "code",
   "execution_count": null,
   "metadata": {},
   "outputs": [],
   "source": [
    "reduce_flats = Reduce()\n",
    "reduce_flats.files.extend(list_of_flats_Y)\n",
    "reduce_flats.uparms = [('addDQ:user_bpm', bpm_filename)]\n",
    "reduce_flats.runr()"
   ]
  },
  {
   "cell_type": "markdown",
   "metadata": {},
   "source": [
    "<a class=\"anchor\" id=\"Reduce_Science\"></a>\n",
    "# Reduce the Science Images\n",
    "This command retrieves the master dark and the master flat, and applies them to the science data. For sky subtraction, the software analyses the sequence to establish whether this is a dither-on-target or an offset-to-sky sequence and then proceeds accordingly. Finally, the sky-subtracted frames are aligned and stacked together. Sources in the frames are used for the alignment.\n",
    "\n",
    "The final product file will have a _stack.fits suffix.\n",
    "\n",
    "The output stack units are in electrons (header keyword BUNIT=electrons). The output stack is stored in a multi-extension FITS (MEF) file. The science signal is in the “SCI” extension, the variance is in the “VAR” extension, and the data quality plane (mask) is in the “DQ” extension."
   ]
  },
  {
   "cell_type": "code",
   "execution_count": null,
   "metadata": {
    "scrolled": true
   },
   "outputs": [],
   "source": [
    "reduce_target = Reduce()\n",
    "reduce_target.files.extend(list_of_science_images)\n",
    "reduce_target.uparms = [('addDQ:user_bpm', bpm_filename)]\n",
    "reduce_target.runr()"
   ]
  },
  {
   "cell_type": "markdown",
   "metadata": {},
   "source": [
    "<a class=\"anchor\" id=\"Display_Image\"></a>\n",
    "# Display the Stacked Image"
   ]
  },
  {
   "cell_type": "code",
   "execution_count": null,
   "metadata": {
    "scrolled": true
   },
   "outputs": [],
   "source": [
    "image_file = \"S20131121S0075_stack.fits\"\n",
    "hdu_list = fits.open(image_file)\n",
    "hdu_list.info()"
   ]
  },
  {
   "cell_type": "code",
   "execution_count": null,
   "metadata": {},
   "outputs": [],
   "source": [
    "image_data = fits.getdata(image_file, ext=1)\n",
    "print(image_data.shape)"
   ]
  },
  {
   "cell_type": "code",
   "execution_count": null,
   "metadata": {},
   "outputs": [],
   "source": [
    "plt.figure(figsize = (15,15))\n",
    "plt.imshow(image_data,cmap='bone',norm=Normalize(vmin=1, vmax=1000),origin='lower')\n",
    "plt.show()"
   ]
  },
  {
   "cell_type": "markdown",
   "metadata": {},
   "source": [
    "<a class=\"anchor\" id=\"Clean-up\"></a>\n",
    "# Optional: remove duplicate calibrations and remove raw data (uncomment lines before running)"
   ]
  },
  {
   "cell_type": "code",
   "execution_count": null,
   "metadata": {},
   "outputs": [],
   "source": [
    "#!rm -rf raw/"
   ]
  }
 ],
 "metadata": {
  "kernelspec": {
   "display_name": "Python 3 (ipykernel)",
   "language": "python",
   "name": "python3"
  },
  "language_info": {
   "codemirror_mode": {
    "name": "ipython",
    "version": 3
   },
   "file_extension": ".py",
   "mimetype": "text/x-python",
   "name": "python",
   "nbconvert_exporter": "python",
   "pygments_lexer": "ipython3",
   "version": "3.10.13"
  }
 },
 "nbformat": 4,
 "nbformat_minor": 4
}
