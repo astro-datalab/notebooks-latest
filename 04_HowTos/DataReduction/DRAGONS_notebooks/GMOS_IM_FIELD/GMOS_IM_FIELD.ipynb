{
 "cells": [
  {
   "cell_type": "code",
   "execution_count": null,
   "metadata": {},
   "outputs": [],
   "source": [
    "__author__ = 'Vinicius Placco <vinicius.placco@noirlab.edu>'\n",
    "__version__ = '20240118' # yyyymmdd; version datestamp of this notebook\n",
    "#__datasets__ = ['allwise','smash']\n",
    "__keywords__ = ['gmos','gemini','stars','dragons']"
   ]
  },
  {
   "cell_type": "markdown",
   "metadata": {},
   "source": [
    "## Gemini GMOS Photometry reduction using DRAGONS Python API\n",
    "#### adapted from https://dragons.readthedocs.io/projects/gmosimg-drtutorial/en/v3.1.0/ex1_gmosim_starfield_api.html\n",
    "#### don't forget to run `conda install nb_conda_kernels ipykernel` to run this notebook on the DRAGONS env"
   ]
  },
  {
   "cell_type": "markdown",
   "metadata": {},
   "source": [
    "## Table of contents\n",
    "* [Goals](#goals)\n",
    "* [Summary](#summary)\n",
    "* [Disclaimers and attribution](#disclaimer)\n",
    "* [Imports and setup](#imports)\n",
    "* [About the dataset](#About)\n",
    "* [Downloading data for reduction](#Downloading_Data)\n",
    "* [Set up the DRAGONS logger](#DRAGONS_logger)\n",
    "* [Create File Lists](#File_Lists)\n",
    "* [Create Master Bias](#Master_Bias)\n",
    "* [Create Master Flat Field](#Master_Flat)\n",
    "* [Reduce Science Images](#Reduce_Science)\n",
    "* [Display stacked final image](#Display_Image)\n",
    "* [Clean-up (optional)](#Clean-up)\n",
    "\n",
    "<a class=\"anchor\" id=\"goals\"></a>\n",
    "# Goals\n",
    "Showcase how to perform GMOS imaging data reduction using the Gemini DRAGONS package on the Data Lab science platform. Uses a custom DRAGONS kernel `\"DRAGONS (Py3.7)\"`. The steps include downloading data from the Gemini archive, setting up a DRAGONS calibration service, processing of bias, flats, fringe, and science frames, and finally the creation of a single combined stacked image.\n",
    "\n",
    "<a class=\"anchor\" id=\"summary\"></a>\n",
    "# Summary\n",
    "DRAGONS is a Python-based astronomical data reduction platform written by the Gemini Science User Support Department. It currently can be used to reduce imaging data from Gemini instruments GMOS, NIRI, Flamingos 2, GSAOI, and GNIRS, and spectroscopic data in GMOS longslit mode. Linked here is a general list of guides, manuals and tutorials about the use of DRAGONS:\n",
    "https://dragons.readthedocs.io/en/v3.1.0/\n",
    "\n",
    "The DRAGONS kernel has been made available in the Data Lab environment, which should allow users to access the routines without being dependent on installing the software in their local machines. \n",
    "\n",
    "In this notebook, we present an example of a DRAGONS Jupyter notebook that works in the Data Lab environment to fully reduce example Gemini North GMOS I-band imaging data.\n",
    "This is a version of the DRAGONS Jupyter notebook tutorial presented here: \n",
    "https://gitlab.com/nsf-noirlab/csdc/usngo/DRAGONS_tutorials/-/blob/main/GMOS_IM_FIELD.ipynb\n",
    "\n",
    "This notebook will not present all of the details of the many options available to adjust or optimize the DRAGONS GMOS data reduction process, rather will just show one example of a standard reduction of a GMOS imaging dataset. \n",
    "More extensive explanations can be found in the general DRAGONS GMOS data reduction tutorial from Gemini linked here:\n",
    "https://dragons.readthedocs.io/projects/gmosimg-drtutorial/en/v3.1.0/\n",
    "\n",
    "The data used in this notebook example is GMOS I band imaging from the Gemini archive of a starry field from the Gemini North Hamamatsu CCD commissioning (Program: GN-2017A-SV-151).\n",
    "\n",
    "\n",
    "<a class=\"anchor\" id=\"disclaimer\"></a>\n",
    "# Disclaimer & attribution\n",
    "If you use this notebook for your published science, please acknowledge the following:\n",
    "\n",
    "* Data Lab concept paper: Fitzpatrick et al., \"The NOAO Data Laboratory: a conceptual overview\", SPIE, 9149, 2014, http://dx.doi.org/10.1117/12.2057445\n",
    "\n",
    "* Data Lab disclaimer: https://datalab.noirlab.edu/disclaimers.php\n",
    "\n",
    "* DRAGONS publication: Labrie et al., \"DRAGONS - Data Reduction for Astronomy from Gemini Observatory North and South\", ASPC, 523, 321L, https://ui.adsabs.harvard.edu/abs/2019ASPC..523..321L/abstract\n",
    "\n",
    "* DRAGONS open source software publication: https://zenodo.org/record/7776065#.ZDg5qOzMLUI\n"
   ]
  },
  {
   "cell_type": "markdown",
   "metadata": {},
   "source": [
    "<a class=\"anchor\" id=\"imports\"></a>\n",
    "# Importing Python Libraries** (you'll probably have to install the `wget` and `ipympl` libraries)"
   ]
  },
  {
   "cell_type": "code",
   "execution_count": null,
   "metadata": {},
   "outputs": [],
   "source": [
    "from __future__ import print_function\n",
    "\n",
    "import glob\n",
    "import wget\n",
    "\n",
    "from gempy.adlibrary import dataselect\n",
    "from recipe_system import cal_service\n",
    "from recipe_system.reduction.coreReduce import Reduce\n",
    "from gempy.utils import logutils\n",
    "\n",
    "from astropy.io import fits\n",
    "import numpy as np\n",
    "import matplotlib.pyplot as plt\n",
    "import matplotlib.colors as colors\n",
    "import matplotlib.cbook as cbook\n",
    "from matplotlib.colors import LogNorm\n",
    "\n",
    "%matplotlib inline"
   ]
  },
  {
   "cell_type": "markdown",
   "metadata": {},
   "source": [
    "<a class=\"anchor\" id=\"About\"></a>\n",
    "# About the dataset\n",
    "\n",
    "The data used for this tutorial is a dithered sequence on a starry field.\n",
    "\n",
    "The table below contains a summary of the dataset downloaded in the previous section:\n",
    "\n",
    "\n",
    "| Observation Type | File name(s) | Purpose and Exposure (seconds) |\n",
    "| :--- | :--- | :---: |\n",
    "| Science | N20170614S0201-205 | 10 s, i-band |\n",
    "| Bias | N20170613S0180-184 |  |\n",
    "| Bias | N20170615S0534-538 |  |\n",
    "| Twilight Flats | N20170702S0178-182 | 40 to 16 s, i-band |"
   ]
  },
  {
   "cell_type": "markdown",
   "metadata": {},
   "source": [
    "<a class=\"anchor\" id=\"Downloading_Data\"></a>\n",
    "# Downloading the data"
   ]
  },
  {
   "cell_type": "code",
   "execution_count": null,
   "metadata": {},
   "outputs": [],
   "source": [
    "## uncomment the lines and run the cell\n",
    "\n",
    "#wget.download(\"http://archive.gemini.edu/file/N20170613S0180.fits\")\n",
    "#wget.download(\"http://archive.gemini.edu/file/N20170613S0181.fits\")\n",
    "#wget.download(\"http://archive.gemini.edu/file/N20170613S0182.fits\")\n",
    "#wget.download(\"http://archive.gemini.edu/file/N20170613S0183.fits\")\n",
    "#wget.download(\"http://archive.gemini.edu/file/N20170613S0184.fits\")\n",
    "#wget.download(\"http://archive.gemini.edu/file/N20170614S0201.fits\")\n",
    "#wget.download(\"http://archive.gemini.edu/file/N20170614S0202.fits\")\n",
    "#wget.download(\"http://archive.gemini.edu/file/N20170614S0203.fits\")\n",
    "#wget.download(\"http://archive.gemini.edu/file/N20170614S0204.fits\")\n",
    "#wget.download(\"http://archive.gemini.edu/file/N20170614S0205.fits\")\n",
    "#wget.download(\"http://archive.gemini.edu/file/N20170615S0534.fits\")\n",
    "#wget.download(\"http://archive.gemini.edu/file/N20170615S0535.fits\")\n",
    "#wget.download(\"http://archive.gemini.edu/file/N20170615S0536.fits\")\n",
    "#wget.download(\"http://archive.gemini.edu/file/N20170615S0537.fits\")\n",
    "#wget.download(\"http://archive.gemini.edu/file/N20170615S0538.fits\")\n",
    "#wget.download(\"http://archive.gemini.edu/file/N20170702S0178.fits\")\n",
    "#wget.download(\"http://archive.gemini.edu/file/N20170702S0179.fits\")\n",
    "#wget.download(\"http://archive.gemini.edu/file/N20170702S0180.fits\")\n",
    "#wget.download(\"http://archive.gemini.edu/file/N20170702S0181.fits\")\n",
    "#wget.download(\"http://archive.gemini.edu/file/N20170702S0182.fits\")"
   ]
  },
  {
   "cell_type": "markdown",
   "metadata": {},
   "source": [
    "# Create and move data to raw/ directory (uncomment first)"
   ]
  },
  {
   "cell_type": "code",
   "execution_count": null,
   "metadata": {},
   "outputs": [],
   "source": [
    "#!mkdir raw/\n",
    "#!mv N*.fits raw/"
   ]
  },
  {
   "cell_type": "markdown",
   "metadata": {},
   "source": [
    "<a class=\"anchor\" id=\"DRAGONS_logger\"></a>\n",
    "# Setting up the DRAGONS logger\n",
    "\n",
    "DRAGONS comes with a local calibration manager that uses the same calibration association rules as the Gemini Observatory Archive. This allows reduce to make requests to a local light-weight database for matching processed calibrations when needed to reduce a dataset.\n",
    "\n",
    "This simply tells the system where to put the calibration database, the database that will keep track of the processed calibrations we are going to send to it."
   ]
  },
  {
   "cell_type": "code",
   "execution_count": null,
   "metadata": {},
   "outputs": [],
   "source": [
    "logutils.config(file_name='gmos_data_reduction.log')"
   ]
  },
  {
   "cell_type": "code",
   "execution_count": null,
   "metadata": {},
   "outputs": [],
   "source": [
    "all_files = glob.glob('raw/*.fits')\n",
    "all_files.sort()"
   ]
  },
  {
   "cell_type": "markdown",
   "metadata": {},
   "source": [
    "<a class=\"anchor\" id=\"File_Lists\"></a>\n",
    "# Create file lists\n",
    "\n",
    "This data set contains science and calibration frames. For some programs, it could have different observed targets and different exposure times depending on how you like to organize your raw data.\n",
    "\n",
    "The DRAGONS data reduction pipeline does not organize the data for you. You have to do it. DRAGONS provides tools to help you with that.\n",
    "\n",
    "The first step is to create lists that will be used in the data reduction process. For that, we use dataselect. Please, refer to the dataselect documentation for details regarding its usage."
   ]
  },
  {
   "cell_type": "markdown",
   "metadata": {},
   "source": [
    "**List of Biases**"
   ]
  },
  {
   "cell_type": "code",
   "execution_count": null,
   "metadata": {},
   "outputs": [],
   "source": [
    "list_of_biases = dataselect.select_data(\n",
    "    all_files,\n",
    "    ['BIAS'],\n",
    "    []\n",
    ")"
   ]
  },
  {
   "cell_type": "markdown",
   "metadata": {},
   "source": [
    "**List of Flats**\n",
    "\n",
    "If your dataset has flats obtained with more than one filter, you can add the --expr 'filter_name==\"i\"' expression to get only the flats obtained within the i-band. For example:"
   ]
  },
  {
   "cell_type": "code",
   "execution_count": null,
   "metadata": {},
   "outputs": [],
   "source": [
    "list_of_flats = dataselect.select_data(\n",
    "     all_files,\n",
    "     ['FLAT'],\n",
    "     [],\n",
    "     dataselect.expr_parser('filter_name==\"i\"')\n",
    ")"
   ]
  },
  {
   "cell_type": "markdown",
   "metadata": {},
   "source": [
    "**List of Science Data**"
   ]
  },
  {
   "cell_type": "code",
   "execution_count": null,
   "metadata": {},
   "outputs": [],
   "source": [
    "list_of_science = dataselect.select_data(\n",
    "    all_files,\n",
    "    [],\n",
    "    ['CAL'],\n",
    "    dataselect.expr_parser('(observation_class==\"science\" and filter_name==\"i\")')\n",
    ")"
   ]
  },
  {
   "cell_type": "markdown",
   "metadata": {},
   "source": [
    "<a class=\"anchor\" id=\"Master_Bias\"></a>\n",
    "# Create a Master Bias\n",
    "We start the data reduction by creating a master bias for the science data. It can be created and added to the calibration database using the commands below:"
   ]
  },
  {
   "cell_type": "code",
   "execution_count": null,
   "metadata": {
    "scrolled": true
   },
   "outputs": [],
   "source": [
    "reduce_bias = Reduce()\n",
    "reduce_bias.files.extend(list_of_biases)\n",
    "reduce_bias.runr()"
   ]
  },
  {
   "cell_type": "markdown",
   "metadata": {},
   "source": [
    "<a class=\"anchor\" id=\"Master_Flat\"></a>\n",
    "# Create a Master Flat Field\n",
    "\n",
    "Twilight flats images are used to produce an imaging master flat and the result is added to the calibration database."
   ]
  },
  {
   "cell_type": "code",
   "execution_count": null,
   "metadata": {},
   "outputs": [],
   "source": [
    "reduce_flats = Reduce()\n",
    "reduce_flats.files.extend(list_of_flats)\n",
    "reduce_flats.runr()"
   ]
  },
  {
   "cell_type": "markdown",
   "metadata": {},
   "source": [
    "<a class=\"anchor\" id=\"Reduce_Science\"></a>\n",
    "# Reduce Science Images\n",
    "\n",
    "Once we have our calibration files processed and added to the database, we can run reduce on our science data.\n",
    "\n",
    "This command will generate bias and flat corrected files and will stack them. If a fringe frames is needed this command will apply the correction. The stacked image will have the _stack suffix.\n",
    "\n",
    "The output stack units are in electrons (header keyword BUNIT=electrons). The output stack is stored in a multi-extension FITS (MEF) file. The science signal is in the “SCI” extension, the variance is in the “VAR” extension, and the data quality plane (mask) is in the “DQ” extension."
   ]
  },
  {
   "cell_type": "code",
   "execution_count": null,
   "metadata": {},
   "outputs": [],
   "source": [
    "reduce_science = Reduce()\n",
    "reduce_science.files.extend(list_of_science)\n",
    "reduce_science.runr()"
   ]
  },
  {
   "cell_type": "markdown",
   "metadata": {},
   "source": [
    "<a class=\"anchor\" id=\"Display_Image\"></a>\n",
    "# Display the Stacked Image"
   ]
  },
  {
   "cell_type": "code",
   "execution_count": null,
   "metadata": {},
   "outputs": [],
   "source": [
    "image_file = \"N20170614S0201_image.fits\"\n",
    "hdu_list = fits.open(image_file)\n",
    "hdu_list.info()"
   ]
  },
  {
   "cell_type": "code",
   "execution_count": null,
   "metadata": {},
   "outputs": [],
   "source": [
    "image_data = fits.getdata(image_file, ext=1)\n",
    "print(image_data.shape)"
   ]
  },
  {
   "cell_type": "code",
   "execution_count": null,
   "metadata": {},
   "outputs": [],
   "source": [
    "plt.figure(figsize = (10,10))\n",
    "plt.imshow(image_data,cmap='gray',norm=LogNorm(vmin=0.01, vmax=1000000),origin='lower')\n",
    "plt.show()"
   ]
  },
  {
   "cell_type": "markdown",
   "metadata": {},
   "source": [
    "<a class=\"anchor\" id=\"Clean-up\"></a>\n",
    "# Optional: remove duplicate calibrations and remove raw data (uncomment lines before running)"
   ]
  },
  {
   "cell_type": "code",
   "execution_count": null,
   "metadata": {},
   "outputs": [],
   "source": [
    "#!rm -rf *_bias.fits *_flat.fits\n",
    "#!rm -rf raw/"
   ]
  }
 ],
 "metadata": {
  "kernelspec": {
   "display_name": "Python [conda env:dragons_emergency] *",
   "language": "python",
   "name": "conda-env-dragons_emergency-py"
  },
  "language_info": {
   "codemirror_mode": {
    "name": "ipython",
    "version": 3
   },
   "file_extension": ".py",
   "mimetype": "text/x-python",
   "name": "python",
   "nbconvert_exporter": "python",
   "pygments_lexer": "ipython3",
   "version": "3.10.13"
  }
 },
 "nbformat": 4,
 "nbformat_minor": 4
}
