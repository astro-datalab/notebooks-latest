{
 "cells": [
  {
   "cell_type": "code",
   "execution_count": null,
   "metadata": {},
   "outputs": [],
   "source": [
    "__author__ = 'Brian Merino <brian.merino@noirlab.edu>, Susan Ridgway <susan.ridgway@noirlab.edu>, Vinicius Placco <vinicius.placco@noirlab.edu>'\n",
    "__version__ = '20240118' # yyyymmdd; version datestamp of this notebook\n",
    "__keywords__ = ['gmos','gemini','galaxy','dragons']"
   ]
  },
  {
   "cell_type": "markdown",
   "metadata": {},
   "source": [
    "# Gemini GMOS photometry data reduction using DRAGONS Python API\n",
    "\n",
    "## Public archival data from program GN-2017A-SV-151\n",
    "#### adapted from https://dragons.readthedocs.io/projects/gmosimg-drtutorial/en/v3.0.3/03_api_reduction.html"
   ]
  },
  {
   "cell_type": "markdown",
   "metadata": {},
   "source": [
    "## Table of contents\n",
    "* [Goals](#goals)\n",
    "* [Summary](#summary)\n",
    "* [Disclaimers and attribution](#disclaimer)\n",
    "* [Imports and setup](#imports)\n",
    "* [About the dataset](#About)\n",
    "* [Downloading data for reduction](#Downloading_Data)\n",
    "* [Set up the DRAGONS logger](#DRAGONS_logger)\n",
    "* [Create File Lists](#File_Lists)\n",
    "* [Create Master Bias](#Master_Bias)\n",
    "* [Create Master Flat Field](#Master_Flat)\n",
    "* [Create Master Fringe Frame](#Master_Fringe)\n",
    "* [Reduce Science Images](#Reduce_Science)\n",
    "* [Display stacked final image](#Display_Image)\n",
    "* [Clean-up (optional)](#Clean-up)\n",
    "\n",
    "<a class=\"anchor\" id=\"goals\"></a>\n",
    "# Goals\n",
    "Showcase how to reduce GMOS imaging data using the Gemini DRAGONS package on the Data Lab science platform, using a custom DRAGONS kernel `“DRAGONS (Py3.7)”`. The steps include downloading data from the Gemini archive, setting up a DRAGONS calibration service, processing flats, bias, and science frames, and creating a single combined stacked image.\n",
    "\n",
    "<a class=\"anchor\" id=\"summary\"></a>\n",
    "# Summary\n",
    "DRAGONS is a Python-based astronomical data reduction platform written by the Gemini Science User Support Department. It can currently be used to reduce imaging data from Gemini instruments GMOS, NIRI, Flamingos 2, GSAOI, and GNIRS, as well as spectroscopic data in GMOS longslit mode. Linked <a href=\"https://dragons.readthedocs.io/en/v3.1.0/\">here</a> is a general list of guides, manuals, and tutorials about the use of DRAGONS.\n",
    "\n",
    "\n",
    "The DRAGONS kernel has been made available in the Data Lab environment, allowing users to access the routines without being dependent on installing the software on their local machines. \n",
    "\n",
    "In this notebook, we present an example of a DRAGONS Jupyter notebook that works in the Data Lab environment to reduce example Gemini South GMOS G-band imaging data fully.\n",
    "This is a version of the DRAGONS Jupyter notebook tutorial presented <a href=\"https://gitlab.com/nsf-noirlab/csdc/usngo/DRAGONS_tutorials/-/blob/main/GMOS_IM_NGC5018.ipynb\">here</a>. \n",
    "\n",
    "This notebook will not present all the details of the many options available to adjust or optimize the DRAGONS GMOS data reduction process; instead, it will just show one example of a standard reduction of a GMOS imaging dataset. \n",
    "More extensive explanations can be found in the general DRAGONS GMOS data reduction tutorial from Gemini, linked <a href=\"https://dragons.readthedocs.io/projects/gmosimg-drtutorial/en/v3.1.0/\">here</a>. \n",
    "\n",
    "The data used in this notebook example is GMOS G band imaging from the Gemini archive of the galaxy NGC 5018 from the Gemini South program “The Evolutionary History of NGC 5018”, PI: L. Sesto, program ID GS-2018A-Q-207. More program information is given <a href=\"https://archive.gemini.edu/programinfo/GS-2018A-Q-207\">here</a>. \n",
    "The final reduced science image combines five science frames of 460 seconds each that were dithered between each exposure.\n",
    "\n",
    "\n",
    "<a class=\"anchor\" id=\"disclaimer\"></a>\n",
    "# Disclaimer & attribution\n",
    "If you use this notebook for your published science, please acknowledge the following:\n",
    "\n",
    "* Data Lab concept paper: Fitzpatrick et al., <a href=\"http://dx.doi.org/10.1117/12.2057445\">“The NOAO Data Laboratory: a conceptual overview”</a>, SPIE, 9149, 2014\n",
    "\n",
    "* <a href=\"https://datalab.noirlab.edu/disclaimers.php\">Data Lab disclaimer</a>\n",
    "\n",
    "* DRAGONS publication: Labrie et al., <a href=\"https://ui.adsabs.harvard.edu/abs/2019ASPC..523..321L/abstract\">“DRAGONS - Data Reduction for Astronomy from Gemini Observatory North and South”</a>, ASPC, 523, 321L \n",
    "\n",
    "* <a href=\"https://zenodo.org/record/7776065#.ZDg5qOzMLUI\">DRAGONS open source software publication</a>"
   ]
  },
  {
   "cell_type": "markdown",
   "metadata": {},
   "source": [
    "<a class=\"anchor\" id=\"imports\"></a>\n",
    "# Importing Python libraries"
   ]
  },
  {
   "cell_type": "code",
   "execution_count": null,
   "metadata": {
    "scrolled": true
   },
   "outputs": [],
   "source": [
    "from __future__ import print_function\n",
    "\n",
    "import glob\n",
    "\n",
    "from gempy.adlibrary import dataselect\n",
    "from recipe_system import cal_service\n",
    "from recipe_system.reduction.coreReduce import Reduce\n",
    "from gempy.utils import logutils\n",
    "\n",
    "from astropy.io import fits\n",
    "from astropy.wcs import WCS\n",
    "import matplotlib.pyplot as plt\n",
    "from matplotlib.colors import LogNorm"
   ]
  },
  {
   "cell_type": "markdown",
   "metadata": {},
   "source": [
    "<a class=\"anchor\" id=\"About\"></a>\n",
    "# About the dataset\n",
    "\n",
    "The data used for this tutorial is a dithered sequence on a starry field.\n",
    "\n",
    "The table below contains a summary of the dataset downloaded in the previous section:\n",
    "\n",
    "\n",
    "| Observation Type | File name(s) | Purpose and Exposure (seconds) |\n",
    "| :--- | :--- | :---: |\n",
    "| Science | S20180419S0098-102 | 460 s, g-band |\n",
    "| Twilight Flats | S20180419S0207-211 | g-band |\n",
    "| Bias | S20180423S0050-054 | 0 s, r-band |"
   ]
  },
  {
   "cell_type": "markdown",
   "metadata": {},
   "source": [
    "<a class=\"anchor\" id=\"Downloading_Data\"></a>\n",
    "# Downloading the data\n",
    "\n",
    "Downloading G-band images from the Gemini archive to the current working directory. This step only needs to be executed once.\n",
    "\n",
    "If you run this notebook for the first time and need to download the dataset, set the variable “download=True”. The notebook will not redownload the dataset if it is set to False. This will become particularly useful if you run the notebooks more than once. "
   ]
  },
  {
   "cell_type": "code",
   "execution_count": null,
   "metadata": {},
   "outputs": [],
   "source": [
    "%%bash \n",
    "\n",
    "# create file that lists FITS files to be downloaded\n",
    "echo \"\\\n",
    "http://archive.gemini.edu/file/S20180419S0098.fits\n",
    "http://archive.gemini.edu/file/S20180419S0099.fits\n",
    "http://archive.gemini.edu/file/S20180419S0100.fits\n",
    "http://archive.gemini.edu/file/S20180419S0101.fits\n",
    "http://archive.gemini.edu/file/S20180419S0102.fits\n",
    "http://archive.gemini.edu/file/S20180419S0207.fits\n",
    "http://archive.gemini.edu/file/S20180419S0208.fits\n",
    "http://archive.gemini.edu/file/S20180419S0209.fits\n",
    "http://archive.gemini.edu/file/S20180419S0210.fits\n",
    "http://archive.gemini.edu/file/S20180419S0211.fits\n",
    "http://archive.gemini.edu/file/S20180423S0050.fits\n",
    "http://archive.gemini.edu/file/S20180423S0051.fits\n",
    "http://archive.gemini.edu/file/S20180423S0052.fits\n",
    "http://archive.gemini.edu/file/S20180423S0053.fits\n",
    "http://archive.gemini.edu/file/S20180423S0054.fits\\\n",
    "\" > gmos_im.list"
   ]
  },
  {
   "cell_type": "code",
   "execution_count": null,
   "metadata": {},
   "outputs": [],
   "source": [
    "%%bash\n",
    "\n",
    "download=\"True\"\n",
    "\n",
    "if [ $download == \"True\" ]; then\n",
    "    wget --no-check-certificate -N -q -i gmos_im.list\n",
    "\n",
    "else\n",
    "    echo \"Skipping download. To download the data set used in this notebook, set download=True.\"\n",
    "fi"
   ]
  },
  {
   "cell_type": "markdown",
   "metadata": {},
   "source": [
    "<a class=\"anchor\" id=\"DRAGONS_logger\"></a>\n",
    "# Setting up the DRAGONS logger\n",
    "\n",
    "DRAGONS comes with a local calibration manager that uses the same calibration association rules as the Gemini Observatory Archive. This allows reduce to make requests to a local light-weight database for matching processed calibrations when needed to reduce a dataset.\n",
    "\n",
    "This tells the system where to put the calibration database. This database will keep track of the processed calibrations we are going to send to it."
   ]
  },
  {
   "cell_type": "code",
   "execution_count": null,
   "metadata": {},
   "outputs": [],
   "source": [
    "logutils.config(file_name='gmos_data_reduction.log')\n",
    "caldb = cal_service.set_local_database()\n",
    "caldb.init(\"w\")"
   ]
  },
  {
   "cell_type": "code",
   "execution_count": null,
   "metadata": {},
   "outputs": [],
   "source": [
    "all_files = glob.glob('S2018*[0-9].fits')\n",
    "all_files.sort()"
   ]
  },
  {
   "cell_type": "markdown",
   "metadata": {},
   "source": [
    "<a class=\"anchor\" id=\"File_Lists\"></a>\n",
    "# Create file lists\n",
    "\n",
    "The first step is to create input file lists. The tool “dataselect” helps with that. It uses Astrodata tags and “descriptors” to select the files and send the filenames to a text file that can then be fed to “reduce”. (See the [Astrodata User Manual](https://dragons.readthedocs.io/_/downloads/astrodata-user-manual/en/v2.1.0/pdf/) for information about Astrodata.)"
   ]
  },
  {
   "cell_type": "code",
   "execution_count": null,
   "metadata": {},
   "outputs": [],
   "source": [
    "list_biases  = dataselect.select_data(all_files,['BIAS'],[])\n",
    "list_flats   = dataselect.select_data(all_files,['FLAT'],[],\n",
    "                                      dataselect.expr_parser('filter_name==\"g\"'))\n",
    "list_science = dataselect.select_data(all_files,[],['CAL'],\n",
    "                                      dataselect.expr_parser('(observation_class==\"science\" and filter_name==\"g\")'))"
   ]
  },
  {
   "cell_type": "markdown",
   "metadata": {},
   "source": [
    "<a class=\"anchor\" id=\"Master_Bias\"></a>\n",
    "# Create a master bias\n",
    "We start the data reduction by creating a master bias for the science data. It can be created and added to the calibration database using the commands below:"
   ]
  },
  {
   "cell_type": "code",
   "execution_count": null,
   "metadata": {},
   "outputs": [],
   "source": [
    "reduce_bias = Reduce()\n",
    "reduce_bias.files.extend(list_biases)\n",
    "reduce_bias.runr()"
   ]
  },
  {
   "cell_type": "markdown",
   "metadata": {},
   "source": [
    "<a class=\"anchor\" id=\"Master_Flat\"></a>\n",
    "# Create a master flat field\n",
    "\n",
    "Twilight flat images are used to produce an imaging master flat and the result is added to the calibration database."
   ]
  },
  {
   "cell_type": "code",
   "execution_count": null,
   "metadata": {},
   "outputs": [],
   "source": [
    "reduce_flats = Reduce()\n",
    "reduce_flats.files.extend(list_flats)\n",
    "reduce_flats.runr()"
   ]
  },
  {
   "cell_type": "markdown",
   "metadata": {},
   "source": [
    "<a class=\"anchor\" id=\"Master_Fringe\"></a>\n",
    "# Create master fringe frame\n",
    "\n",
    "The dataset used in this tutorial does not require a Master Fringe Frame. However, the following cell demonstrates how to create one for completeness. "
   ]
  },
  {
   "cell_type": "code",
   "execution_count": null,
   "metadata": {},
   "outputs": [],
   "source": [
    "reduce_fringe = Reduce()\n",
    "reduce_fringe.files.extend(list_science)\n",
    "reduce_fringe.recipename = 'makeProcessedFringe'\n",
    "reduce_fringe.runr()"
   ]
  },
  {
   "cell_type": "markdown",
   "metadata": {},
   "source": [
    "<a class=\"anchor\" id=\"Reduce_Science\"></a>\n",
    "# Reduce science images\n",
    "\n",
    "Once our calibration files are processed and added to the database, we can run reduce on our science data.\n",
    "\n",
    "This command will generate bias and flat-corrected files and will stack them. If a fringe frame is needed, this command will apply the correction. The stacked image will have the _stack suffix.\n",
    "\n",
    "The output stack units are in electrons (header keyword BUNIT=electrons). The output stack is stored in a multi-extension FITS (MEF) file. The science signal is in the “SCI” extension, the variance is in the “VAR” extension, and the data quality plane (mask) is in the “DQ” extension."
   ]
  },
  {
   "cell_type": "code",
   "execution_count": null,
   "metadata": {},
   "outputs": [],
   "source": [
    "reduce_science = Reduce()\n",
    "reduce_science.files.extend(list_science)\n",
    "reduce_science.runr()"
   ]
  },
  {
   "cell_type": "markdown",
   "metadata": {},
   "source": [
    "<a class=\"anchor\" id=\"Display_Image\"></a>\n",
    "# Display the stacked image"
   ]
  },
  {
   "cell_type": "code",
   "execution_count": null,
   "metadata": {
    "scrolled": true
   },
   "outputs": [],
   "source": [
    "image_file = \"S20180419S0098_image.fits\"\n",
    "hdu_list = fits.open(image_file)\n",
    "wcs = WCS(hdu_list[1].header)\n",
    "hdu_list.info()"
   ]
  },
  {
   "cell_type": "code",
   "execution_count": null,
   "metadata": {},
   "outputs": [],
   "source": [
    "image_data = fits.getdata(image_file, ext=1)\n",
    "print(image_data.shape)"
   ]
  },
  {
   "cell_type": "code",
   "execution_count": null,
   "metadata": {},
   "outputs": [],
   "source": [
    "plt.figure(figsize = (15,15))\n",
    "plt.subplot(projection=wcs)\n",
    "plt.imshow(image_data,cmap='gray',norm=LogNorm(vmin=3000, vmax=60000),origin='lower')\n",
    "plt.xlabel('Right Ascension [hh:mm:ss]',fontsize=14,fontweight='bold')\n",
    "plt.ylabel('Declination [degree]',fontsize=14,fontweight='bold')\n",
    "plt.xlim(900,2500)\n",
    "plt.ylim(1600,600)\n",
    "plt.show()"
   ]
  },
  {
   "cell_type": "markdown",
   "metadata": {},
   "source": [
    "<a class=\"anchor\" id=\"Clean-up\"></a>\n",
    "# Optional: remove duplicate calibrations and remove raw data (uncomment lines before running)"
   ]
  },
  {
   "cell_type": "code",
   "execution_count": null,
   "metadata": {},
   "outputs": [],
   "source": [
    "#%%bash\n",
    "\n",
    "#cp S20180419S0098_image.fits final.fits\n",
    "#rm -r calibrations\n",
    "#rm gmos_im.list gmos_data_reduction.log S2018*\n",
    "#mv final.fits S20180419S0098_image.fits"
   ]
  },
  {
   "cell_type": "code",
   "execution_count": null,
   "metadata": {},
   "outputs": [],
   "source": []
  }
 ],
 "metadata": {
  "kernelspec": {
   "display_name": "Python 3 (ipykernel)",
   "language": "python",
   "name": "python3"
  },
  "language_info": {
   "codemirror_mode": {
    "name": "ipython",
    "version": 3
   },
   "file_extension": ".py",
   "mimetype": "text/x-python",
   "name": "python",
   "nbconvert_exporter": "python",
   "pygments_lexer": "ipython3",
   "version": "3.10.14"
  }
 },
 "nbformat": 4,
 "nbformat_minor": 4
}
