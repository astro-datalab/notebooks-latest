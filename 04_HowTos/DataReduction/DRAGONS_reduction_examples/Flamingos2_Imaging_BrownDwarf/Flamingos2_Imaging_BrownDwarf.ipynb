{
 "cells": [
  {
   "cell_type": "code",
   "execution_count": null,
   "metadata": {},
   "outputs": [],
   "source": [
    "__author__ = 'Brian Merino <brian.merino@noirlab.edu>, Vinicius Placco <vinicius.placco@noirlab.edu>'\n",
    "__version__ = '20240606' # yyyymmdd; version datestamp of this notebook\n",
    "__keywords__ = ['flamingos-2','gemini','browndwarf','dwarf','dragons']"
   ]
  },
  {
   "cell_type": "markdown",
   "metadata": {
    "tags": []
   },
   "source": [
    "# Gemini Flamingos-2 Brown Dwarf reduction using DRAGONS Python API\n",
    "***\n",
    "## Public archival data from f2img_tutorial - GS-2013B-Q-15 (WISE J041358.14-475039.3)\n",
    "#### adapted from https://dragons.readthedocs.io/projects/f2img-drtutorial/en/v3.1.0/01_introduction.html\n",
    "***"
   ]
  },
  {
   "cell_type": "markdown",
   "metadata": {},
   "source": [
    "## Table of contents\n",
    "* [Goals](#goals)\n",
    "* [Summary](#summary)\n",
    "* [Disclaimers and attribution](#disclaimer)\n",
    "* [Imports and setup](#imports)\n",
    "* [About the dataset](#About)\n",
    "* [Downloading data for reduction](#Downloading_Data)\n",
    "* [Set up the DRAGONS logger](#DRAGONS_logger)\n",
    "* [Create File Lists](#File_Lists)\n",
    "* [Create Master Dark](#Master_dark)\n",
    "* [Create Bad Pixel Mask](#BPM)\n",
    "* [Create Master Flat Field](#Master_Flat)\n",
    "* [Reduce Science Images](#Reduce_Science)\n",
    "* [Display stacked final image](#Display_Image)\n",
    "* [Clean-up (optional)](#Clean-up)\n",
    "\n",
    "<a class=\"anchor\" id=\"goals\"></a>\n",
    "# Goals\n",
    "Showcase how to reduce Flamingos-2 imaging data using the Gemini DRAGONS package on the Data Lab science platform using a custom DRAGONS kernel `\"DRAGONS (Py3.7)\"`. The steps include downloading data from the Gemini archive, setting up a DRAGONS calibration service, processing flats, darks, a bad pixel mask, and science frames, and creating a single combined stacked image.\n",
    "\n",
    "<a class=\"anchor\" id=\"summary\"></a>\n",
    "# Summary\n",
    "DRAGONS is a Python-based astronomical data reduction platform written by the Gemini Science User Support Department. It can currently be used to reduce imaging data from Gemini instruments GMOS, NIRI, Flamingos 2, GSAOI, and GNIRS, as well as spectroscopic data in GMOS longslit mode. Linked <a href=\"https://dragons.readthedocs.io/en/v3.1.0/\">here</a> is a general list of guides, manuals, and tutorials about the use of DRAGONS.\n",
    "\n",
    "The DRAGONS kernel has been made available in the Data Lab environment, allowing users to access the routines without being dependent on installing the software on their local machines. \n",
    "\n",
    "In this notebook, we present an example of a DRAGONS Jupyter notebook that works in the Data Lab environment to reduce example Gemini South Flamingos-2 Y-band imaging data fully. This notebook will not present all of the details of the many options available to adjust or optimize the DRAGONS Flamingos-2 data reduction process; rather, it will just show one example of a standard reduction of a Flamingos-2 imaging dataset. \n",
    "\n",
    "The data used in this notebook example is Flamingos-2 Y band imaging from the Gemini archive of the brown dwarf W0413-4750 from the Gemini South program \"<a href=\"https://archive.gemini.edu/programinfo/GS-2013B-Q-15\">A Study of the 450K Transition from T to Y Dwarf, and of the 350K Y Dwarfs</a>\", PI: S. Leggett, program ID GS-2013B-Q-15.\n",
    "\n",
    "<a class=\"anchor\" id=\"disclaimer\"></a>\n",
    "# Disclaimer & attribution\n",
    "If you use this notebook for your published science, please acknowledge the following:\n",
    "\n",
    "* Data Lab concept paper: Fitzpatrick et al., <a href=\"http://dx.doi.org/10.1117/12.2057445\">\"The NOAO Data Laboratory: a conceptual overview\"</a>, SPIE, 9149, 2014\n",
    "\n",
    "* <a href=\"https://datalab.noirlab.edu/disclaimers.php\">Data Lab disclaimer</a>\n",
    "\n",
    "* DRAGONS publication: Labrie et al., <a href=\"https://ui.adsabs.harvard.edu/abs/2019ASPC..523..321L/abstract\">\"DRAGONS - Data Reduction for Astronomy from Gemini Observatory North and South\"</a>, ASPC, 523, 321L \n",
    "\n",
    "* <a href=\"https://zenodo.org/record/7776065#.ZDg5qOzMLUI\">DRAGONS open source software publication</a>"
   ]
  },
  {
   "cell_type": "markdown",
   "metadata": {},
   "source": [
    "<a class=\"anchor\" id=\"imports\"></a>\n",
    "# Importing Python libraries"
   ]
  },
  {
   "cell_type": "code",
   "execution_count": null,
   "metadata": {},
   "outputs": [],
   "source": [
    "import warnings\n",
    "import glob\n",
    "\n",
    "from gempy.adlibrary import dataselect\n",
    "from gempy.utils import logutils\n",
    "\n",
    "from recipe_system import cal_service\n",
    "from recipe_system.reduction.coreReduce import Reduce\n",
    "\n",
    "from astropy.io import fits\n",
    "from astropy.wcs import WCS\n",
    "from astropy.utils.exceptions import AstropyWarning\n",
    "\n",
    "import matplotlib.pyplot as plt\n",
    "from matplotlib.colors import Normalize\n",
    "\n",
    "warnings.simplefilter('ignore', category=AstropyWarning)"
   ]
  },
  {
   "cell_type": "markdown",
   "metadata": {},
   "source": [
    "<a class=\"anchor\" id=\"About\"></a>\n",
    "# About the dataset\n",
    "This data comes from a Flamingos-2 program that observed a star and a distant galaxy field with dither on target for sky subtraction. \n",
    "\n",
    "The calibrations we use in this example include:\n",
    "\n",
    "- Darks for the science frames.\n",
    "- Flats, as a sequence of lamp-on and lamp-off exposures.\n",
    "- Short darks to use with the flats to create a bad pixel mask.\n",
    "\n",
    "| Observation Type | File name(s) | Purpose and Exposure (seconds) |\n",
    "| :--- | :--- | :---: |\n",
    "| Science | S20131121S0075-083 | Y-band, 120 s |\n",
    "| Darks | S20131121S0369-375 | 2 s, short darks for BPM |\n",
    "| Darks | S20131120S0115-120 <br> S20131121S0010 <br> S20131122S0012 <br> S20131122S0438-439| 120 s, for science data <br><br><br><br>|\n",
    "| Flats | S20131129S0320-323 | 20 s, Lamp On, Y-band |\n",
    "| Flats | S20131126S1111-116 | 20 s, Lamp Off, Y-band |"
   ]
  },
  {
   "cell_type": "markdown",
   "metadata": {},
   "source": [
    "<a class=\"anchor\" id=\"Downloading_Data\"></a>\n",
    "# Downloading the data\n",
    "\n",
    "Downloading Y-band images from the Gemini archive to the current working directory. This step only needs to be executed once.\n",
    "\n",
    "If you run this notebook for the first time and need to download the dataset, set the variable \"download=True\". The notebook will not redownload the dataset if it is set to False. This will become particularly useful if you run the notebooks more than once. "
   ]
  },
  {
   "cell_type": "code",
   "execution_count": null,
   "metadata": {},
   "outputs": [],
   "source": [
    "%%bash \n",
    "\n",
    "# create file that lists FITS files to be downloaded\n",
    "echo \"\\\n",
    "http://archive.gemini.edu/file/S20131121S0075.fits\n",
    "http://archive.gemini.edu/file/S20131121S0076.fits\n",
    "http://archive.gemini.edu/file/S20131121S0077.fits\n",
    "http://archive.gemini.edu/file/S20131121S0078.fits\n",
    "http://archive.gemini.edu/file/S20131121S0079.fits\n",
    "http://archive.gemini.edu/file/S20131121S0080.fits\n",
    "http://archive.gemini.edu/file/S20131121S0081.fits\n",
    "http://archive.gemini.edu/file/S20131121S0082.fits\n",
    "http://archive.gemini.edu/file/S20131121S0083.fits\n",
    "http://archive.gemini.edu/file/S20131121S0369.fits\n",
    "http://archive.gemini.edu/file/S20131121S0370.fits\n",
    "http://archive.gemini.edu/file/S20131121S0371.fits\n",
    "http://archive.gemini.edu/file/S20131121S0372.fits\n",
    "http://archive.gemini.edu/file/S20131121S0373.fits\n",
    "http://archive.gemini.edu/file/S20131121S0374.fits\n",
    "http://archive.gemini.edu/file/S20131121S0375.fits\n",
    "http://archive.gemini.edu/file/S20131120S0115.fits\n",
    "http://archive.gemini.edu/file/S20131120S0116.fits\n",
    "http://archive.gemini.edu/file/S20131120S0117.fits\n",
    "http://archive.gemini.edu/file/S20131120S0118.fits\n",
    "http://archive.gemini.edu/file/S20131120S0119.fits\n",
    "http://archive.gemini.edu/file/S20131120S0120.fits\n",
    "http://archive.gemini.edu/file/S20131121S0010.fits\n",
    "http://archive.gemini.edu/file/S20131122S0012.fits\n",
    "http://archive.gemini.edu/file/S20131122S0438.fits\n",
    "http://archive.gemini.edu/file/S20131122S0439.fits\n",
    "http://archive.gemini.edu/file/S20131129S0320.fits\n",
    "http://archive.gemini.edu/file/S20131129S0321.fits\n",
    "http://archive.gemini.edu/file/S20131129S0322.fits\n",
    "http://archive.gemini.edu/file/S20131129S0323.fits\n",
    "http://archive.gemini.edu/file/S20131126S1111.fits\n",
    "http://archive.gemini.edu/file/S20131126S1112.fits\n",
    "http://archive.gemini.edu/file/S20131126S1113.fits\n",
    "http://archive.gemini.edu/file/S20131126S1114.fits\n",
    "http://archive.gemini.edu/file/S20131126S1115.fits\n",
    "http://archive.gemini.edu/file/S20131126S1116.fits\\\n",
    "\" > f2.list"
   ]
  },
  {
   "cell_type": "code",
   "execution_count": null,
   "metadata": {},
   "outputs": [],
   "source": [
    "%%bash\n",
    "\n",
    "download=\"True\"\n",
    "\n",
    "if [ $download == \"True\" ]; then\n",
    "    wget --no-check-certificate -N -q -i f2.list\n",
    "\n",
    "else\n",
    "    echo \"Skipping download. To download the data set used in this notebook, set download=True.\"\n",
    "fi"
   ]
  },
  {
   "cell_type": "markdown",
   "metadata": {},
   "source": [
    "**Create a list of all the FITS files in the directory**"
   ]
  },
  {
   "cell_type": "code",
   "execution_count": null,
   "metadata": {},
   "outputs": [],
   "source": [
    "all_files = glob.glob('S2013*[0-9].fits')\n",
    "all_files.sort()"
   ]
  },
  {
   "cell_type": "code",
   "execution_count": null,
   "metadata": {
    "tags": []
   },
   "outputs": [],
   "source": [
    "# # Check header of one raw science image\n",
    "# tmp = fits.open(\"S20131121S0075.fits\")\n",
    "# tmp[0].header"
   ]
  },
  {
   "cell_type": "markdown",
   "metadata": {},
   "source": [
    "<a class=\"anchor\" id=\"DRAGONS_logger\"></a>\n",
    "# Setting up the DRAGONS logger\n",
    "\n",
    "DRAGONS comes with a local calibration manager that uses the same calibration association rules as the Gemini Observatory Archive. This allows reduce to make requests to a local light-weight database for matching processed calibrations when needed to reduce a dataset.\n",
    "\n",
    "This tells the system where to put the calibration database. This database will keep track of the processed calibrations we will send to it."
   ]
  },
  {
   "cell_type": "code",
   "execution_count": null,
   "metadata": {},
   "outputs": [],
   "source": [
    "logutils.config(file_name='f2_data_reduction.log')\n",
    "caldb = cal_service.set_local_database()\n",
    "caldb.init(\"w\")"
   ]
  },
  {
   "cell_type": "markdown",
   "metadata": {},
   "source": [
    "<a class=\"anchor\" id=\"File_Lists\"></a>\n",
    "# Create file lists\n",
    "\n",
    "This data set contains science and calibration frames. For some programs, it could have different observed targets and exposure times depending on how you organize your raw data.\n",
    "\n",
    "The DRAGONS data reduction pipeline does not organize the data for you. You have to do it. DRAGONS provides tools to help you with that.\n",
    "\n",
    "The first step is to create lists that will be used in the data reduction process. For that, we use dataselect. Please refer to the [dataselect](https://dragons.readthedocs.io/projects/recipe-system-users-manual/en/stable/supptools/dataselect.html?highlight=dataselect) documentation for details regarding its usage."
   ]
  },
  {
   "cell_type": "code",
   "execution_count": null,
   "metadata": {},
   "outputs": [],
   "source": [
    "dark_files_120s = dataselect.select_data(\n",
    "    all_files,['F2', 'DARK', 'RAW'],[],\n",
    "    dataselect.expr_parser('exposure_time==120'))\n",
    "\n",
    "dark_files_2s = dataselect.select_data(\n",
    "    all_files,['F2', 'DARK', 'RAW'],[],\n",
    "    dataselect.expr_parser('exposure_time==2'))\n",
    "\n",
    "list_of_flats_Y = dataselect.select_data(\n",
    "     all_files,['FLAT'],[],\n",
    "     dataselect.expr_parser('filter_name==\"Y\"'))\n",
    "\n",
    "list_of_science_images = dataselect.select_data(\n",
    "    all_files,['F2'],[],\n",
    "    dataselect.expr_parser('(observation_class==\"science\" and filter_name==\"Y\")'))"
   ]
  },
  {
   "cell_type": "markdown",
   "metadata": {},
   "source": [
    "<a class=\"anchor\" id=\"Master_dark\"></a>\n",
    "# Create master dark \n",
    "\n",
    "The final master dark will have the same name as the first file, S20131120S0115.fits, with the modified suffix S20131120S0115_dark.fits."
   ]
  },
  {
   "cell_type": "code",
   "execution_count": null,
   "metadata": {},
   "outputs": [],
   "source": [
    "reduce_darks = Reduce()\n",
    "reduce_darks.files.extend(dark_files_120s)\n",
    "reduce_darks.runr()"
   ]
  },
  {
   "cell_type": "markdown",
   "metadata": {},
   "source": [
    "<a class=\"anchor\" id=\"BPM\"></a>\n",
    "# Create a bad pixel mask\n",
    "\n",
    "The Bad Pixel Mask (BPM) can be built using flat images with the lamps on and off and a set of short-exposure dark files. Here, our shortest dark files have a 2-second exposure time. Again, we use the reduce command to produce the BPMs.\n",
    "\n",
    "It is important to note that the recipe library association is based on the nature of the first file in the input list. Since the recipe to make the BPM is located in the recipe library for flats, the first item on the list must be a flat.\n",
    "\n",
    "For Flamingos-2, the filter wheel’s location is such that the filter choice does not interfere with the results. Here, we will use Y-band flats.\n",
    "\n",
    "The BPM will have the name of the first flat file with the suffix _bpm.fits."
   ]
  },
  {
   "cell_type": "code",
   "execution_count": null,
   "metadata": {},
   "outputs": [],
   "source": [
    "reduce_bpm = Reduce()\n",
    "reduce_bpm.files.extend(list_of_flats_Y)\n",
    "reduce_bpm.files.extend(dark_files_2s)\n",
    "reduce_bpm.recipename = 'makeProcessedBPM'\n",
    "reduce_bpm.runr()\n",
    "\n",
    "bpm_filename = reduce_bpm.output_filenames[0]"
   ]
  },
  {
   "cell_type": "markdown",
   "metadata": {},
   "source": [
    "<a class=\"anchor\" id=\"Master_Flat\"></a>\n",
    "# Create a master flat field\n",
    "\n",
    "The F2 Y-band master flat is created from a series of lamp-on and lamp-off exposures. They should all have the same exposure time. Each flavor is stacked (averaged), then the lamp-off stack is subtracted from the lamp-on stack, and the result is normalized.\n",
    "\n",
    "The master flat will have the name of the first flat file with the suffix _flat.fits."
   ]
  },
  {
   "cell_type": "code",
   "execution_count": null,
   "metadata": {},
   "outputs": [],
   "source": [
    "reduce_flats = Reduce()\n",
    "reduce_flats.files.extend(list_of_flats_Y)\n",
    "reduce_flats.uparms = [('addDQ:user_bpm', bpm_filename)]\n",
    "reduce_flats.runr()"
   ]
  },
  {
   "cell_type": "markdown",
   "metadata": {},
   "source": [
    "<a class=\"anchor\" id=\"Reduce_Science\"></a>\n",
    "# Reduce the science images\n",
    "This command retrieves the master dark and flat and applies them to the science data. For sky subtraction, the software analyses the sequence to establish whether this is a dither-on-target or an offset-to-sky sequence and proceeds accordingly. Finally, the sky-subtracted frames are aligned and stacked together. Sources in the frames are used for the alignment.\n",
    "\n",
    "The final product file will have a _stack.fits suffix.\n",
    "\n",
    "The output stack units are in electrons (header keyword BUNIT=electrons). The output stack is stored in a multi-extension FITS (MEF) file. The science signal is in the \"SCI\" extension, the variance is in the \"VAR\" extension, and the data quality plane (mask) is in the \"DQ\" extension.\n",
    "\n",
    "Multiple files will be created by running this cell. Two new files will be created for each science frame. Both files will contain the name of the file, with the first containing the suffix _flatCorrected.fits and the second _skyCorrected.fits. In addition to these files, the final stacked image will share the name of the first science file with the suffix _stack.fits."
   ]
  },
  {
   "cell_type": "code",
   "execution_count": null,
   "metadata": {
    "scrolled": true
   },
   "outputs": [],
   "source": [
    "reduce_target = Reduce()\n",
    "reduce_target.files.extend(list_of_science_images)\n",
    "reduce_target.uparms = [('addDQ:user_bpm', bpm_filename)]\n",
    "reduce_target.runr()"
   ]
  },
  {
   "cell_type": "markdown",
   "metadata": {},
   "source": [
    "<a class=\"anchor\" id=\"Display_Image\"></a>\n",
    "# Display the stacked image"
   ]
  },
  {
   "cell_type": "code",
   "execution_count": null,
   "metadata": {
    "scrolled": true
   },
   "outputs": [],
   "source": [
    "image_file = \"S20131121S0075_stack.fits\"\n",
    "hdu_list = fits.open(image_file)\n",
    "wcs = WCS(hdu_list[1].header)\n",
    "hdu_list.info()"
   ]
  },
  {
   "cell_type": "code",
   "execution_count": null,
   "metadata": {},
   "outputs": [],
   "source": [
    "data = hdu_list[1].data"
   ]
  },
  {
   "cell_type": "code",
   "execution_count": null,
   "metadata": {},
   "outputs": [],
   "source": [
    "image_data = fits.getdata(image_file, ext=1)\n",
    "print(image_data.shape)"
   ]
  },
  {
   "cell_type": "code",
   "execution_count": null,
   "metadata": {},
   "outputs": [],
   "source": [
    "fig = plt.figure(figsize = (10,10))\n",
    "plt.subplot(projection=wcs)\n",
    "plt.imshow(image_data,cmap='bone',norm=Normalize(vmin=1, vmax=1000),origin='lower')\n",
    "\n",
    "#These two lines will identify the brown dwarf in the stacked image.\n",
    "plt.scatter(1149,1126,marker='o',facecolors='none',s=200,edgecolors='red')\n",
    "plt.text(1095,1146,'W0413-4750',c='red')\n",
    "\n",
    "#If you would like to see the full FOV, comment out the following two lines. \n",
    "plt.xlim(750,1600)\n",
    "plt.ylim(750,1500)\n",
    "\n",
    "ax = plt.gca()\n",
    "ax.coords['ra'].set_ticklabel_position('l')\n",
    "ax.coords['dec'].set_ticklabel_position('b')\n",
    "\n",
    "ax.coords['ra'].set_axislabel('RA')\n",
    "ax.coords['dec'].set_axislabel('DEC')\n",
    "\n",
    "plt.xlabel('Right Ascension [hh:mm:ss]',fontsize=14,fontweight='bold')\n",
    "plt.ylabel('Declination [degree]',fontsize=14,fontweight='bold')\n",
    "plt.show()"
   ]
  },
  {
   "cell_type": "markdown",
   "metadata": {},
   "source": [
    "<a class=\"anchor\" id=\"Clean-up\"></a>\n",
    "# Optional: remove duplicate calibrations and remove raw data (uncomment lines before running)"
   ]
  },
  {
   "cell_type": "code",
   "execution_count": null,
   "metadata": {},
   "outputs": [],
   "source": [
    "# %%bash\n",
    "\n",
    "# cp S20131121S0075_stack.fits final.fits\n",
    "# rm -r calibrations\n",
    "# rm f2.list f2_data_reduction.log S2013*\n",
    "# mv final.fits S20131121S0075_stack.fits"
   ]
  },
  {
   "cell_type": "code",
   "execution_count": null,
   "metadata": {},
   "outputs": [],
   "source": []
  }
 ],
 "metadata": {
  "kernelspec": {
   "display_name": "DRAGONS (Py3.7)",
   "language": "python",
   "name": "dragons"
  }, 
  "language_info": {
   "codemirror_mode": {
    "name": "ipython",
    "version": 3
   },
   "file_extension": ".py",
   "mimetype": "text/x-python",
   "name": "python",
   "nbconvert_exporter": "python",
   "pygments_lexer": "ipython3",
   "version": "3.10.14"
  }
 },
 "nbformat": 4,
 "nbformat_minor": 4
}
