{
 "cells": [
  {
   "cell_type": "code",
   "execution_count": null,
   "metadata": {},
   "outputs": [],
   "source": [
    "__nbid__ = '0042'\n",
    "__author__ = 'Brian Merino <brian.merino@noirlab.edu>, Vinicius Placco <vinicius.placco@noirlab.edu>'\n",
    "__version__ = '20241209' # yyyymmdd; version datestamp of this notebook\n",
    "__keywords__ = ['gnirs','gemini','GRB','dragons']"
   ]
  },
  {
   "cell_type": "markdown",
   "metadata": {
    "tags": []
   },
   "source": [
    "# Gemini GNIRS gamma ray burst reduction using DRAGONS Python API\n",
    "***\n",
    "## Public archival data from gnirsimg_tutorial - GN-2011B-Q-34 (GRB120116A)\n",
    "#### adapted from https://dragons.readthedocs.io/projects/gnirsimg-drtutorial/en/v3.2.1/ex1_gnirsim_twostars_api.html\n",
    "***"
   ]
  },
  {
   "cell_type": "markdown",
   "metadata": {},
   "source": [
    "## Table of contents\n",
    "* [Goals](#goals)\n",
    "* [Summary](#summary)\n",
    "* [Disclaimers and attribution](#disclaimer)\n",
    "* [Imports and setup](#imports)\n",
    "* [Prepare the working directory](#Prepare)\n",
    "* [About the dataset](#About)\n",
    "* [Downloading data for reduction](#Downloading_Data)\n",
    "* [Set up the DRAGONS logger](#DRAGONS_logger)\n",
    "* [Create File Lists](#File_Lists)\n",
    "* [Create Master Dark](#Master_dark)\n",
    "* [Create Master Flat Field](#Master_Flat)\n",
    "* [Reduce Science Images](#Reduce_Science)\n",
    "* [Display stacked final image](#Display_Image)\n",
    "* [Clean-up (optional)](#Clean-up)\n",
    "\n",
    "<a class=\"anchor\" id=\"goals\"></a>\n",
    "# Goals\n",
    "Showcase how to perform GNIRS keyhole imaging data reduction using the Gemini DRAGONS package on the Data Lab science platform. Uses a custom DRAGONS kernel `\"DRAGONS (Py3.7)\"`. The steps include downloading data from the Gemini archive, setting up a DRAGONS calibration service, processing of flats, darks, and science frames, and finally the creation of a single combined stacked image.\n",
    "\n",
    "<a class=\"anchor\" id=\"summary\"></a>\n",
    "# Summary\n",
    "DRAGONS is a Python-based astronomical data reduction platform written by the Gemini Science User Support Department. It can currently be used to reduce imaging data from Gemini instruments GMOS, NIRI, Flamingos 2, GSAOI, and GNIRS, as well as spectroscopic data taken with GHOST and GMOS in longslit mode. Linked <a href=\"https://dragons.readthedocs.io/en/v3.2.1/\">here</a> is a general list of guides, manuals, and tutorials about the use of DRAGONS.\n",
    "\n",
    "The DRAGONS kernel has been made available in the Data Lab environment, allowing users to access the routines without being dependent on installing the software on their local machines. \n",
    "\n",
    "In this notebook, we present an example of a DRAGONS Jupyter notebook that works in the Data Lab environment to reduce example Gemini North GNIRS J-band imaging data fully. This notebook will not present all of the details of the many options available to adjust or optimize the DRAGONS GNIRS data reduction process; rather, it will just show one example of a standard reduction of a GNIRS imaging dataset. \n",
    "\n",
    "The data used in this notebook example is GNIRS J-band keyhole imaging from the Gemini archive of the gamma-ray burst GRB120116A from the Gemini North program \"<a href=\"https://archive.gemini.edu/programinfo/GN-2011B-Q-34\">Investigating gamma-ray bursts and their use as cosmological probes</a>\", PI: Nial Tanvir, program ID GN-2011B-Q-34.\n",
    "\n",
    "<a class=\"anchor\" id=\"disclaimer\"></a>\n",
    "# Disclaimer & attribution\n",
    "\n",
    "Disclaimers\n",
    "-----------\n",
    "Note that using the Astro Data Lab constitutes your agreement with our minimal [Disclaimers](https://datalab.noirlab.edu/disclaimers.php).\n",
    "\n",
    "Acknowledgments\n",
    "---------------\n",
    "If you use **Astro Data Lab** in your published research, please include the text in your paper's Acknowledgments section:\n",
    "\n",
    "_This research uses services or data provided by the Astro Data Lab, which is part of the Community Science and Data Center (CSDC) Program of NSF NOIRLab. NOIRLab is operated by the Association of Universities for Research in Astronomy (AURA), Inc. under a cooperative agreement with the U.S. National Science Foundation._\n",
    "\n",
    "If you use **SPARCL jointly with the Astro Data Lab platform** (via JupyterLab, command-line, or web interface) in your published research, please include this text below in your paper's Acknowledgments section:\n",
    "\n",
    "_This research uses services or data provided by the SPectra Analysis and Retrievable Catalog Lab (SPARCL) and the Astro Data Lab, which are both part of the Community Science and Data Center (CSDC) Program of NSF NOIRLab. NOIRLab is operated by the Association of Universities for Research in Astronomy (AURA), Inc. under a cooperative agreement with the U.S. National Science Foundation._\n",
    "\n",
    "In either case **please cite the following papers**:\n",
    "\n",
    "* Data Lab concept paper: Fitzpatrick et al., \"The NOAO Data Laboratory: a conceptual overview\", SPIE, 9149, 2014, https://doi.org/10.1117/12.2057445\n",
    "\n",
    "* Astro Data Lab overview: Nikutta et al., \"Data Lab - A Community Science Platform\", Astronomy and Computing, 33, 2020, https://doi.org/10.1016/j.ascom.2020.100411\n",
    "\n",
    "If you are referring to the Data Lab JupyterLab / Jupyter Notebooks, cite:\n",
    "\n",
    "* Juneau et al., \"Jupyter-Enabled Astrophysical Analysis Using Data-Proximate Computing Platforms\", CiSE, 23, 15, 2021, https://doi.org/10.1109/MCSE.2021.3057097\n",
    "\n",
    "If publishing in a AAS journal, also add the keyword: `\\facility{Astro Data Lab}`\n",
    "\n",
    "And if you are using SPARCL, please also add `\\software{SPARCL}` and cite:\n",
    "\n",
    "* Juneau et al., \"SPARCL: SPectra Analysis and Retrievable Catalog Lab\", Conference Proceedings for ADASS XXXIII, 2024\n",
    "https://doi.org/10.48550/arXiv.2401.05576\n",
    "\n",
    "The NOIRLab Library maintains [lists of proper acknowledgments](https://noirlab.edu/science/about/scientific-acknowledgments) to use when publishing papers using the Lab's facilities, data, or services.\n",
    "\n",
    "For this notebook specifically, please acknowledge:\n",
    "* DRAGONS publication: Labrie et al., <a href=\"https://ui.adsabs.harvard.edu/abs/2019ASPC..523..321L/abstract\">\"DRAGONS - Data Reduction for Astronomy from Gemini Observatory North and South\"</a>, ASPC, 523, 321L \n",
    "\n",
    "* <a href=\"https://zenodo.org/record/7776065#.ZDg5qOzMLUI\">DRAGONS open source software publication</a>"
   ]
  },
  {
   "cell_type": "markdown",
   "metadata": {},
   "source": [
    "<a class=\"anchor\" id=\"imports\"></a>\n",
    "# Importing Python libraries"
   ]
  },
  {
   "cell_type": "code",
   "execution_count": null,
   "metadata": {},
   "outputs": [],
   "source": [
    "import glob\n",
    "import os \n",
    "import shutil\n",
    "\n",
    "from recipe_system import cal_service\n",
    "from recipe_system.reduction.coreReduce import Reduce\n",
    "from recipe_system.utils.reduce_utils import normalize_ucals\n",
    "\n",
    "from gempy.adlibrary import dataselect\n",
    "from gempy.utils import logutils\n",
    "\n",
    "from astropy.io import fits\n",
    "from astropy.wcs import WCS\n",
    "\n",
    "import matplotlib.pyplot as plt\n",
    "from matplotlib.colors import Normalize"
   ]
  },
  {
   "cell_type": "markdown",
   "metadata": {},
   "source": [
    "<a class=\"anchor\" id=\"Prepare\"></a>\n",
    "# Prepare the working directory\n",
    "\n",
    "If you have any intermediate files that were created from running this code in the past, you will need to remove them from your working directory. The cell below defines a clean-up function that will remove all the fits files from your working directory. This function will be called again at the end of the tutorial, leaving you with only the final product. By default, this function will delete all files in the working directory. If there are files that have been previously reduced that you would like to keep, set `save_reduced=1` when calling the function."
   ]
  },
  {
   "cell_type": "code",
   "execution_count": null,
   "metadata": {},
   "outputs": [],
   "source": [
    "def clean_up(save_reduced=0):\n",
    "    #Does the calibrations directory already exist?\n",
    "    caldb_Exist = os.path.exists('./calibrations') \n",
    "    \n",
    "    if caldb_Exist:\n",
    "        shutil.rmtree('./calibrations', ignore_errors=True)\n",
    "\n",
    "    #Remove existing log and list files.\n",
    "    work_dir_path = os.getcwd()\n",
    "    work_dir = os.listdir(work_dir_path)\n",
    "\n",
    "    for item in work_dir:\n",
    "        if item.endswith(\".log\") or item.endswith(\".list\"):\n",
    "            os.remove(os.path.join(work_dir_path, item))\n",
    "    \n",
    "    #Next, we will remove all the existing fits files, except for the previously reduced files, depending on what you set save_reduced to.\n",
    "    if save_reduced:\n",
    "        all_files_0 = glob.glob('*.fits')\n",
    "        save = dataselect.select_data(all_files_0, [], ['PROCESSED'])\n",
    "        \n",
    "        for s in save:\n",
    "            os.remove(os.path.join(work_dir_path,s))\n",
    "\n",
    "    else:\n",
    "        all_files_0 = glob.glob('*.fits')\n",
    "        for a in all_files_0:\n",
    "            os.remove(os.path.join(work_dir_path,a))"
   ]
  },
  {
   "cell_type": "code",
   "execution_count": null,
   "metadata": {},
   "outputs": [],
   "source": [
    "clean_up(save_reduced=0)"
   ]
  },
  {
   "cell_type": "markdown",
   "metadata": {},
   "source": [
    "<a class=\"anchor\" id=\"About\"></a>\n",
    "# About the dataset\n",
    "\n",
    "This is a GNIRS acquisition keyhole imaging observation of a point source. The observation sequence uses dither-on-target. Dithered observations nearby in time will be used for sky subtraction of each frame.\n",
    "\n",
    "The calibrations we use for this example include:\n",
    "\n",
    "- Darks for the science frames\n",
    "- Flats, as a sequence of lamps-on and lamps-off exposures\n",
    "\n",
    "| Observation Type | File name(s) | Purpose and Exposure (seconds) |\n",
    "| :--- | :--- | :---: |\n",
    "| Science | N20120117S0014-33 | J-band, on-target |\n",
    "| Science darks | N20120102S0538-547 | 60 s, like Science |\n",
    "| Flats | N20120117S0034-41 | lamps-on |\n",
    "| Flats | N20120117S0042-49 | lamps-off |\n",
    "\n",
    "A note about finding the darks in the GOA: GNIRS is not an imager and imaging through the keyhole is done only in extreme circumstances, so the archive does not have calibration association rules for the darks. One needs to search for the darks manually. Here is the search that was done to find the darks for this observation sequence:\n",
    "\n",
    "- Set a date range around the dates of the science observations. In this case, we used \"20120101-20120131\".\n",
    "- Set Instrument to GNIRS.\n",
    "- Set Obs. Type to DARK.\n",
    "- Set the exposure time to 60 seconds.\n",
    "- On the result table, select the darks with a \"Pass\" setting in the \"QA\" column."
   ]
  },
  {
   "cell_type": "markdown",
   "metadata": {},
   "source": [
    "<a class=\"anchor\" id=\"Downloading_Data\"></a>\n",
    "# Downloading the data\n",
    "\n",
    "Downloading J-band images from the Gemini archive to the current working directory. This step only needs to be executed once.\n",
    "\n",
    "If you run this notebook for the first time and need to download the dataset, set the variable \"download=True\". The notebook will not redownload the dataset if it is set to False. This will become particularly useful if you run the notebooks more than once. "
   ]
  },
  {
   "cell_type": "code",
   "execution_count": null,
   "metadata": {},
   "outputs": [],
   "source": [
    "%%bash \n",
    "\n",
    "# create file that lists FITS files to be downloaded\n",
    "echo \"\\\n",
    "http://archive.gemini.edu/file/N20120117S0014.fits\n",
    "http://archive.gemini.edu/file/N20120117S0015.fits\n",
    "http://archive.gemini.edu/file/N20120117S0016.fits\n",
    "http://archive.gemini.edu/file/N20120117S0017.fits\n",
    "http://archive.gemini.edu/file/N20120117S0018.fits\n",
    "http://archive.gemini.edu/file/N20120117S0019.fits\n",
    "http://archive.gemini.edu/file/N20120117S0020.fits\n",
    "http://archive.gemini.edu/file/N20120117S0021.fits\n",
    "http://archive.gemini.edu/file/N20120117S0022.fits\n",
    "http://archive.gemini.edu/file/N20120117S0023.fits\n",
    "http://archive.gemini.edu/file/N20120117S0024.fits\n",
    "http://archive.gemini.edu/file/N20120117S0025.fits\n",
    "http://archive.gemini.edu/file/N20120117S0026.fits\n",
    "http://archive.gemini.edu/file/N20120117S0027.fits\n",
    "http://archive.gemini.edu/file/N20120117S0028.fits\n",
    "http://archive.gemini.edu/file/N20120117S0029.fits\n",
    "http://archive.gemini.edu/file/N20120117S0030.fits\n",
    "http://archive.gemini.edu/file/N20120117S0031.fits\n",
    "http://archive.gemini.edu/file/N20120117S0032.fits\n",
    "http://archive.gemini.edu/file/N20120117S0033.fits\n",
    "http://archive.gemini.edu/file/N20120102S0538.fits\n",
    "http://archive.gemini.edu/file/N20120102S0539.fits\n",
    "http://archive.gemini.edu/file/N20120102S0540.fits\n",
    "http://archive.gemini.edu/file/N20120102S0541.fits\n",
    "http://archive.gemini.edu/file/N20120102S0542.fits\n",
    "http://archive.gemini.edu/file/N20120102S0543.fits\n",
    "http://archive.gemini.edu/file/N20120102S0544.fits\n",
    "http://archive.gemini.edu/file/N20120102S0545.fits\n",
    "http://archive.gemini.edu/file/N20120102S0546.fits\n",
    "http://archive.gemini.edu/file/N20120102S0547.fits\n",
    "http://archive.gemini.edu/file/N20120117S0034.fits\n",
    "http://archive.gemini.edu/file/N20120117S0035.fits\n",
    "http://archive.gemini.edu/file/N20120117S0036.fits\n",
    "http://archive.gemini.edu/file/N20120117S0037.fits\n",
    "http://archive.gemini.edu/file/N20120117S0038.fits\n",
    "http://archive.gemini.edu/file/N20120117S0039.fits\n",
    "http://archive.gemini.edu/file/N20120117S0040.fits\n",
    "http://archive.gemini.edu/file/N20120117S0041.fits\n",
    "http://archive.gemini.edu/file/N20120117S0042.fits\n",
    "http://archive.gemini.edu/file/N20120117S0043.fits\n",
    "http://archive.gemini.edu/file/N20120117S0044.fits\n",
    "http://archive.gemini.edu/file/N20120117S0045.fits\n",
    "http://archive.gemini.edu/file/N20120117S0046.fits\n",
    "http://archive.gemini.edu/file/N20120117S0047.fits\n",
    "http://archive.gemini.edu/file/N20120117S0048.fits\n",
    "http://archive.gemini.edu/file/N20120117S0049.fits\\\n",
    "\" > gnirs.list"
   ]
  },
  {
   "cell_type": "code",
   "execution_count": null,
   "metadata": {},
   "outputs": [],
   "source": [
    "%%bash\n",
    "\n",
    "download=\"True\"\n",
    "\n",
    "if [ $download == \"True\" ]; then\n",
    "    wget --no-check-certificate -N -q -i gnirs.list\n",
    "\n",
    "else\n",
    "    echo \"Skipping download. To download the data set used in this notebook, set download=True.\"\n",
    "fi"
   ]
  },
  {
   "cell_type": "markdown",
   "metadata": {},
   "source": [
    "<a class=\"anchor\" id=\"DRAGONS_logger\"></a>\n",
    "# Setting up the DRAGONS logger\n",
    "\n",
    "DRAGONS comes with a local calibration manager that uses the same calibration association rules as the Gemini Observatory Archive. This allows reduce to make requests to a local light-weight database for matching processed calibrations when needed to reduce a dataset.\n",
    "\n",
    "This tells the system where to put the calibration database. This database will keep track of the processed calibrations we will send to it."
   ]
  },
  {
   "cell_type": "code",
   "execution_count": null,
   "metadata": {},
   "outputs": [],
   "source": [
    "logutils.config(file_name='gnirs_data_reduction.log')\n",
    "caldb = cal_service.set_local_database()\n",
    "caldb.init(\"w\")"
   ]
  },
  {
   "cell_type": "markdown",
   "metadata": {},
   "source": [
    "**Create a list of all the FITS files in the directory**"
   ]
  },
  {
   "cell_type": "code",
   "execution_count": null,
   "metadata": {},
   "outputs": [],
   "source": [
    "all_files = glob.glob('N2012*[0-9].fits')\n",
    "all_files.sort()"
   ]
  },
  {
   "cell_type": "markdown",
   "metadata": {},
   "source": [
    "<a class=\"anchor\" id=\"File_Lists\"></a>\n",
    "# Create file lists\n",
    "\n",
    "This data set contains science and calibration frames. Some programs could have different observed targets and exposure times depending on how you organize your raw data.\n",
    "\n",
    "The DRAGONS data reduction pipeline does not organize the data for you. You have to do it. DRAGONS provides tools to help you with that.\n",
    "\n",
    "The first step is to create lists that will be used in the data reduction process. For that, we use dataselect. Please refer to the [dataselect](https://dragons.readthedocs.io/projects/recipe-system-users-manual/en/stable/supptools/dataselect.html?highlight=dataselect) documentation for details regarding its usage."
   ]
  },
  {
   "cell_type": "code",
   "execution_count": null,
   "metadata": {},
   "outputs": [],
   "source": [
    "darks60 = dataselect.select_data(\n",
    "    all_files,\n",
    "    ['DARK'],\n",
    "    [],\n",
    "    dataselect.expr_parser('exposure_time==60')\n",
    ")\n",
    "\n",
    "flats = dataselect.select_data(all_files, ['FLAT'])\n",
    "\n",
    "target = dataselect.select_data(\n",
    "    all_files,\n",
    "    [],\n",
    "    [],\n",
    "    dataselect.expr_parser('object==\"GRB120116A\"')\n",
    ")"
   ]
  },
  {
   "cell_type": "markdown",
   "metadata": {},
   "source": [
    "<a class=\"anchor\" id=\"Master_dark\"></a>\n",
    "# Create master dark\n",
    "\n",
    "We first create the master dark for the science target. The name of the output master dark, N20120102S0538_dark.fits, is written to the screen at the end of the process."
   ]
  },
  {
   "cell_type": "code",
   "execution_count": null,
   "metadata": {
    "scrolled": true
   },
   "outputs": [],
   "source": [
    "reduce_darks = Reduce()\n",
    "reduce_darks.files.extend(darks60)\n",
    "reduce_darks.runr()"
   ]
  },
  {
   "cell_type": "markdown",
   "metadata": {},
   "source": [
    "<a class=\"anchor\" id=\"Master_Flat\"></a>\n",
    "# Create master flat field\n",
    "\n",
    "A GNIRS master flat is created from a series of lamp-on and lamp-off exposures. Each flavor is stacked, and then the lamp-off stack is subtracted from the lamp-on stack.\n",
    "\n",
    "The master flat will be saved with the suffix _flat.fits."
   ]
  },
  {
   "cell_type": "code",
   "execution_count": null,
   "metadata": {
    "scrolled": true
   },
   "outputs": [],
   "source": [
    "reduce_flats = Reduce()\n",
    "reduce_flats.files.extend(flats)\n",
    "reduce_flats.runr()"
   ]
  },
  {
   "cell_type": "markdown",
   "metadata": {},
   "source": [
    "<a class=\"anchor\" id=\"Reduce_Science\"></a>\n",
    "# Reduce science images\n",
    "\n",
    "The science target is a point source. The sequence dithers on-target, moving the source across the thin keyhole aperture. The sky frames for each science image will be the adjacent dithered frames obtained within a certain time limit. The default for GNIRS keyhole images is \"within 600 seconds\".\n",
    "\n",
    "Both the master dark and the master flat are in our local calibration database. The calibration manager would retrieve any other Gemini facility instrument automatically. However, GNIRS is not an imager, and the keyhole is typically used only for acquisition, so there are no calibration association rules between GNIRS keyhole images and darks. \n",
    "\n",
    "The output stack units are in electrons (header keyword BUNIT=electrons). The output stack is stored in a multi-extension FITS (MEF) file. The science signal is in the \"SCI\" extension, the variance is in the \"VAR\" extension, and the data quality plane (mask) is in the \"DQ\" extension.\n",
    "\n",
    "The final reduced science image and the stacked image will have the same name as the first science file with the suffixes _image.fits and _stack.fits respectively. \n",
    "\n",
    "NOTE: After running this cell, you may receive a WARNING about too few correlated objects. This will not affect the final product, so you can ignore it. "
   ]
  },
  {
   "cell_type": "code",
   "execution_count": null,
   "metadata": {},
   "outputs": [],
   "source": [
    "reduce_target = Reduce()\n",
    "reduce_target.files.extend(target)\n",
    "reduce_target.uparms = [('darkCorrect:dark', 'N20120102S0538_dark.fits')]\n",
    "reduce_target.runr()"
   ]
  },
  {
   "cell_type": "markdown",
   "metadata": {},
   "source": [
    "<a class=\"anchor\" id=\"Display_Image\"></a>\n",
    "# Display the stacked image"
   ]
  },
  {
   "cell_type": "code",
   "execution_count": null,
   "metadata": {
    "scrolled": true
   },
   "outputs": [],
   "source": [
    "image_file = \"N20120117S0014_image.fits\"\n",
    "hdu_list = fits.open(image_file)\n",
    "wcs = WCS(hdu_list[1].header)\n",
    "hdu_list.info()"
   ]
  },
  {
   "cell_type": "code",
   "execution_count": null,
   "metadata": {},
   "outputs": [],
   "source": [
    "image_data = fits.getdata(image_file, ext=1)\n",
    "print(image_data.shape)"
   ]
  },
  {
   "cell_type": "code",
   "execution_count": null,
   "metadata": {},
   "outputs": [],
   "source": [
    "plt.figure(figsize = (10,10))\n",
    "plt.subplot(projection=wcs)\n",
    "plt.imshow(image_data,cmap='bone',norm=Normalize(vmin=1, vmax=500),origin='lower')\n",
    "plt.xlabel('Right Ascension [hh:mm:ss]',fontsize=14,fontweight='bold')\n",
    "plt.ylabel('Declination [degree]',fontsize=14,fontweight='bold')\n",
    "plt.show()"
   ]
  },
  {
   "cell_type": "markdown",
   "metadata": {},
   "source": [
    "<a class=\"anchor\" id=\"Clean-up\"></a>\n",
    "# Optional: remove raw data (uncomment lines before running)"
   ]
  },
  {
   "cell_type": "code",
   "execution_count": null,
   "metadata": {},
   "outputs": [],
   "source": [
    "#clean_up(save_reduced=1)"
   ]
  },
  {
   "cell_type": "code",
   "execution_count": null,
   "metadata": {},
   "outputs": [],
   "source": []
  }
 ],
 "metadata": {
  "kernelspec": {
   "display_name": "DRAGONS-3.2.2 (DL,Py3.10.14)",
   "language": "python",
   "name": "dragons-3.2.2"
  },
  "language_info": {
   "codemirror_mode": {
    "name": "ipython",
    "version": 3
   },
   "file_extension": ".py",
   "mimetype": "text/x-python",
   "name": "python",
   "nbconvert_exporter": "python",
   "pygments_lexer": "ipython3",
   "version": "3.10.14"
  }
 },
 "nbformat": 4,
 "nbformat_minor": 4
}
