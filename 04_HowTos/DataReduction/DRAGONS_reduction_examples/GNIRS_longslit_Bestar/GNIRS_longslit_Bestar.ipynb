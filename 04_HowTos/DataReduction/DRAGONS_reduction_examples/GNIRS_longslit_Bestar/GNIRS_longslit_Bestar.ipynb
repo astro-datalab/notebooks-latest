{
 "cells": [
  {
   "cell_type": "code",
   "execution_count": null,
   "id": "7e5a7d5c-fc2d-4704-90fe-fc459d7c794d",
   "metadata": {},
   "outputs": [],
   "source": [
    "__nbid__ = '0075'\n",
    "__author__ = 'Brian Merino <brian.merino@noirlab.edu>'\n",
    "__version__ = '20250722' # yyyymmdd; version datestamp of this notebook\n",
    "__keywords__ = ['gnirs','gemini','star','dragons']"
   ]
  },
  {
   "cell_type": "markdown",
   "id": "b96f9a3a-62a2-4679-8661-8126dabf935b",
   "metadata": {},
   "source": [
    "# Gemini L-band Longslit Point Source reduction using DRAGONS Python API\n",
    "***\n",
    "## Public archival data from GN-2017B-Q-81 (HD41335)\n",
    "#### adapted from https://gnirsls-drtutorial.readthedocs.io/en/v4.0.0/ex3_gnirsls_Lband10mm_api.html\n",
    "***"
   ]
  },
  {
   "cell_type": "markdown",
   "id": "8c21d809-db87-4b2e-8263-4867a8fe2efd",
   "metadata": {},
   "source": [
    "## Table of contents\n",
    "* [Goals](#goals)\n",
    "* [Summary](#summary)\n",
    "* [Disclaimers and attribution](#disclaimer)\n",
    "* [Imports and setup](#imports)\n",
    "* [Prepare the working directory](#Prepare)\n",
    "* [About the dataset](#About)\n",
    "* [Downloading data for reduction](#Downloading_Data)\n",
    "* [Set up the DRAGONS logger](#DRAGONS_logger)\n",
    "* [Bad Pixel Mask](#BPM)\n",
    "* [Create Master Flat Field](#Master_Flat)\n",
    "* [Processed Arc - Wavelength Solution](#Arc)\n",
    "* [Telluric Standard](#Telluric)\n",
    "* [Science Observations](#Science)\n",
    "* [Display 1D Spectrum](#Display)\n",
    "\n",
    "\n",
    "<a class=\"anchor\" id=\"goals\"></a>\n",
    "# Goals\n",
    "Showcase how to reduce GNIRS L-band Longslit point source data using the Gemini DRAGONS package on the Data Lab science platform using a custom DRAGONS kernel `\"DRAGONS-4.0.0 (DL,Py3.12)\"`. The steps include downloading data from the Gemini archive, setting up a DRAGONS calibration service, processing flats, darks, a bad pixel mask, and science frames, and displaying the reduced 1D spectrum. \n",
    "\n",
    "<a class=\"anchor\" id=\"summary\"></a>\n",
    "# Summary\n",
    "DRAGONS is a Python-based astronomical data reduction platform written by the Gemini Science User Support Department. It can currently be used to reduce imaging data from Gemini instruments GMOS, NIRI, Flamingos 2, GSAOI, and GNIRS, as well as spectroscopic data taken with GNIRS, GHOST, and GMOS in longslit mode. Linked <a href=\"https://gnirsls-drtutorial.readthedocs.io/en/v4.0.0/index.html\">here</a> is a general list of guides, manuals, and tutorials about the use of DRAGONS.\n",
    "\n",
    "The DRAGONS kernel has been made available in the Data Lab environment, allowing users to access the routines without being dependent on installing the software on their local machines. \n",
    "\n",
    "In this notebook, we present an example of a DRAGONS Jupyter notebook that works in the Data Lab environment to reduce example Gemini North GNIRS L-band data. This notebook will not present all the details of the many options available to adjust or optimize the DRAGONS GNIRS data reduction process, including the interactive features; rather, it will just show one example of a standard reduction. \n",
    "\n",
    "The data used in this notebook example is GNIRS L-band Longslit Point Source spectroscopy from the Gemini archive of the Be-star HD41335 from the Gemini North program  \"<a href=\"https://archive.gemini.edu/programinfo/GN-2017B-Q-81\">Structure and physical properties of circumestellar envelopes of Be stars</a>\", PI: Yanina Cochetti, program ID GN-2017B-Q-81. \n",
    "\n",
    "<a class=\"anchor\" id=\"disclaimer\"></a>\n",
    "# Disclaimer & attribution\n",
    "## Disclaimers\n",
    "Note that using the Astro Data Lab constitutes your agreement with our minimal <a href=\"https://datalab.noirlab.edu/about/disclaimers\">Disclaimers</a>.\n",
    "\n",
    "## Acknowledgments\n",
    "If you use Astro Data Lab in your published research, please include the text in your paper's Acknowledgments section:\n",
    "\n",
    "This research uses services or data provided by the Astro Data Lab, which is part of the Community Science and Data Center (CSDC) Program of NSF NOIRLab. NOIRLab is operated by the Association of Universities for Research in Astronomy (AURA), Inc. under a cooperative agreement with the U.S. National Science Foundation.\n",
    "\n",
    "If you use SPARCL jointly with the Astro Data Lab platform (via JupyterLab, command-line, or web interface) in your published research, please include this text below in your paper's Acknowledgments section:\n",
    "\n",
    "This research uses services or data provided by the SPectra Analysis and Retrievable Catalog Lab (SPARCL) and the Astro Data Lab, which are both part of the Community Science and Data Center (CSDC) Program of NSF NOIRLab. NOIRLab is operated by the Association of Universities for Research in Astronomy (AURA), Inc. under a cooperative agreement with the U.S. National Science Foundation.\n",
    "\n",
    "In either case please cite the following papers:\n",
    "\n",
    "Data Lab concept paper: Fitzpatrick et al., \"The NOAO Data Laboratory: a conceptual overview\", SPIE, 9149, 2014, https://doi.org/10.1117/12.2057445\n",
    "\n",
    "Astro Data Lab overview: Nikutta et al., \"Data Lab - A Community Science Platform\", Astronomy and Computing, 33, 2020, https://doi.org/10.1016/j.ascom.2020.100411\n",
    "\n",
    "If you are referring to the Data Lab JupyterLab / Jupyter Notebooks, cite:\n",
    "\n",
    "Juneau et al., \"Jupyter-Enabled Astrophysical Analysis Using Data-Proximate Computing Platforms\", CiSE, 23, 15, 2021, https://doi.org/10.1109/MCSE.2021.3057097\n",
    "If publishing in a AAS journal, also add the keyword: \\facility{Astro Data Lab}\n",
    "\n",
    "And if you are using SPARCL, please also add \\software{SPARCL} and cite:\n",
    "\n",
    "Juneau et al., \"SPARCL: SPectra Analysis and Retrievable Catalog Lab\", Conference Proceedings for ADASS XXXIII, 2024 https://doi.org/10.48550/arXiv.2401.05576\n",
    "The NOIRLab Library maintains lists of proper acknowledgments to use when publishing papers using the Lab's facilities, data, or services."
   ]
  },
  {
   "cell_type": "markdown",
   "id": "17e8e318-48e9-4f35-bffb-1285495a056f",
   "metadata": {},
   "source": [
    "<a class=\"anchor\" id=\"imports\"></a>\n",
    "# Importing python libraries"
   ]
  },
  {
   "cell_type": "code",
   "execution_count": null,
   "id": "50fc1033-c414-4fee-90f4-73186a8688f8",
   "metadata": {},
   "outputs": [],
   "source": [
    "import warnings\n",
    "import glob\n",
    "import os\n",
    "import numpy as np\n",
    "import astrodata\n",
    "import shutil\n",
    "import matplotlib.pyplot as plt\n",
    "\n",
    "import gemini_instruments\n",
    "from gempy.adlibrary import plotting\n",
    "from gempy.utils import logutils\n",
    "from gempy.adlibrary import dataselect\n",
    "\n",
    "from recipe_system import cal_service\n",
    "from recipe_system.reduction.coreReduce import Reduce\n",
    "\n",
    "from astropy.utils.exceptions import AstropyWarning\n",
    "warnings.simplefilter('ignore', category=AstropyWarning)\n",
    "warnings.filterwarnings(\"ignore\")"
   ]
  },
  {
   "cell_type": "markdown",
   "id": "a9ed30f5-e6ad-4c33-a55d-9c4f95b7906f",
   "metadata": {
    "execution": {
     "iopub.execute_input": "2025-07-11T20:38:45.243533Z",
     "iopub.status.busy": "2025-07-11T20:38:45.243306Z",
     "iopub.status.idle": "2025-07-11T20:38:45.247018Z",
     "shell.execute_reply": "2025-07-11T20:38:45.246592Z",
     "shell.execute_reply.started": "2025-07-11T20:38:45.243518Z"
    }
   },
   "source": [
    "<a class=\"anchor\" id=\"Prepare\"></a>\n",
    "# Prepare the working directory\n",
    "\n",
    "If you have any intermediate files that were created from running this code in the past, you will need to remove them from your working directory. The cell below defines a clean-up function that will remove all the fits files from your working directory. This function will be called again at the end of the tutorial, leaving you with only the final product. By default, this function will delete all files in the working directory. If there are files that have been previously reduced that you would like to keep, set `save_reduced=1` when calling the function."
   ]
  },
  {
   "cell_type": "code",
   "execution_count": null,
   "id": "0f0f6eed-bebf-4764-8453-b6d1afe2c376",
   "metadata": {},
   "outputs": [],
   "source": [
    "def check_and_delete(path):\n",
    "    #Check to see if path already exists.\n",
    "    if os.path.exists(path):\n",
    "        #If path leads to a directory.\n",
    "        if os.path.isdir(path):\n",
    "            #Remove directory\n",
    "            shutil.rmtree(path)\n",
    "            \n",
    "        #If path leads to a file.\n",
    "        elif os.path.isfile(path):\n",
    "            #Remove file\n",
    "            os.remove(path)"
   ]
  },
  {
   "cell_type": "code",
   "execution_count": null,
   "id": "b0a5a660-419f-4143-a16d-f817623cb0b7",
   "metadata": {
    "scrolled": true
   },
   "outputs": [],
   "source": [
    "check_and_delete('raw')\n",
    "os.mkdir('raw')"
   ]
  },
  {
   "cell_type": "markdown",
   "id": "95c5b403-12db-45e1-8e9b-28233c0b5cfd",
   "metadata": {},
   "source": [
    "<a class=\"anchor\" id=\"About\"></a>\n",
    "# About the dataset\n",
    "\n",
    "The data is a GNIRS L-band longslit observation of HD41335. The observation program utilized a 10 l/mm grating with the long-red camera and a 0.1 arcsec slit, centered at 3.7 μm.\n",
    "\n",
    "The calibrations we use for this example are:\n",
    "- BPM. The bad pixel masks are now found in the Gemini Science Archive instead of being packaged with the software. They are associated like the other calibrations. (The date in the name is the “valid from” date.)\n",
    "- Flats taken in the same configuration as the science. They were obtained at night right after the science observations.\n",
    "- Arcs. No arcs are obtained for L-band data. The wavelength calibration is done using the sky lines in the science observation.\n",
    "- A telluric standard observation taken in the same configuration as the science and obtained at night, in this case, just before the science observation sequence, and at a similar airmass.\n",
    "\n",
    "| Observation Type | File name(s) |\n",
    "| :--- | :--- |\n",
    "| Science | N20180114S0121-124 |\n",
    "| Science Flats | N20180114S0125-132 |\n",
    "| Telluric | N20180114S0113-116 |\n",
    "| BPM | bpm_20121101_gnirs_gnirsn_11_full_1amp.fits |"
   ]
  },
  {
   "cell_type": "markdown",
   "id": "aab471cb-5f69-4c10-94ee-98605c857239",
   "metadata": {},
   "source": [
    "<a class=\"anchor\" id=\"Downloading_Data\"></a>\n",
    "# Downloading the data\n",
    "\n",
    "Downloading longslit data from the Gemini archive to the raw/ directory. This step only needs to be executed once.\n",
    "\n",
    "If you run this notebook for the first time and need to download the dataset, set the variable \"download=True\". The notebook will not redownload the dataset if it is set to False. This will become particularly useful if you run the notebooks more than once. "
   ]
  },
  {
   "cell_type": "code",
   "execution_count": null,
   "id": "6a1bd5db-fd87-4c50-9af5-443595a94f61",
   "metadata": {},
   "outputs": [],
   "source": [
    "%%bash \n",
    "\n",
    "# Create a list of FITS files to be downloaded.\n",
    "echo \"\\\n",
    "https://archive.gemini.edu/file/N20180114S0121.fits\n",
    "https://archive.gemini.edu/file/N20180114S0122.fits\n",
    "https://archive.gemini.edu/file/N20180114S0123.fits\n",
    "https://archive.gemini.edu/file/N20180114S0124.fits\n",
    "https://archive.gemini.edu/file/N20180114S0125.fits\n",
    "https://archive.gemini.edu/file/N20180114S0126.fits\n",
    "https://archive.gemini.edu/file/N20180114S0127.fits\n",
    "https://archive.gemini.edu/file/N20180114S0128.fits\n",
    "https://archive.gemini.edu/file/N20180114S0129.fits\n",
    "https://archive.gemini.edu/file/N20180114S0130.fits\n",
    "https://archive.gemini.edu/file/N20180114S0131.fits\n",
    "https://archive.gemini.edu/file/N20180114S0132.fits\n",
    "https://archive.gemini.edu/file/N20180114S0113.fits\n",
    "https://archive.gemini.edu/file/N20180114S0114.fits\n",
    "https://archive.gemini.edu/file/N20180114S0115.fits\n",
    "https://archive.gemini.edu/file/N20180114S0116.fits\n",
    "https://archive.gemini.edu/file/bpm_20121101_gnirs_gnirsn_11_full_1amp.fits\n",
    "\" > gnirs_Lband.list"
   ]
  },
  {
   "cell_type": "code",
   "execution_count": null,
   "id": "db280f7d-4b9b-42b3-9999-4f98630c0044",
   "metadata": {},
   "outputs": [],
   "source": [
    "%%bash\n",
    "\n",
    "download=\"True\"\n",
    "\n",
    "if [ $download == \"True\" ]; then\n",
    "    wget --no-check-certificate -N -q -P './raw' -i gnirs_Lband.list\n",
    "\n",
    "else\n",
    "    echo \"Skipping download. To download the data set used in this notebook, set download=True.\"\n",
    "fi"
   ]
  },
  {
   "cell_type": "markdown",
   "id": "402238e0-92ed-488b-a15d-4a561b6589ea",
   "metadata": {},
   "source": [
    "<a class=\"anchor\" id=\"DRAGONS_logger\"></a>\n",
    "# Setting up the DRAGONS logger\n",
    "\n",
    "DRAGONS comes with a local calibration manager that uses the same calibration association rules as the Gemini Observatory Archive. This allows reduce to make requests to a local light-weight database for matching processed calibrations when needed to reduce a dataset.\n",
    "\n",
    "This tells the system where to put the calibration database. This database will keep track of the processed calibrations we will send to it."
   ]
  },
  {
   "cell_type": "code",
   "execution_count": null,
   "id": "224b51d0-4cb6-4739-8625-140029f588b4",
   "metadata": {},
   "outputs": [],
   "source": [
    "logutils.config(file_name='gnirs_ex3_tutorial.log')\n",
    "\n",
    "caldb = cal_service.set_local_database()\n",
    "caldb.init(\"w\")"
   ]
  },
  {
   "cell_type": "markdown",
   "id": "0ab77604-595a-4a06-ac92-ee886b3d6a35",
   "metadata": {},
   "source": [
    "Create a list of all the FITS files in the directory"
   ]
  },
  {
   "cell_type": "code",
   "execution_count": null,
   "id": "49eb7dd4-13c6-4fa6-bba4-2abc240ad3de",
   "metadata": {},
   "outputs": [],
   "source": [
    "all_files = glob.glob('raw/*.fits')\n",
    "\n",
    "print(all_files)"
   ]
  },
  {
   "cell_type": "markdown",
   "id": "93be1080-20b5-4069-b249-7791647c9b1d",
   "metadata": {},
   "source": [
    "## **A list for the flats**\n",
    "\n",
    "The flats will need to be stacked together, so use the dataselect to identify the flat files that are compatible with each other."
   ]
  },
  {
   "cell_type": "code",
   "execution_count": null,
   "id": "12504a99-25e5-47d3-b59e-20edb2f369b0",
   "metadata": {},
   "outputs": [],
   "source": [
    "flats = dataselect.select_data(all_files, ['FLAT'])"
   ]
  },
  {
   "cell_type": "markdown",
   "id": "0b49f556-8bfd-4d4d-b8a3-625ec16efea5",
   "metadata": {},
   "source": [
    "## **A list for the tellurics**\n",
    "\n",
    "Currently, DRAGONS does not have a way to differentiate telluric stars from the rest of the data. This is because GNIRS headers do not contain tags that specifically identify tellurics. In most instances, specifying the \"observation_class\" descriptor and rejecting files with the \"CAL\" tag are sufficient to distinguish between tellurics and science observations. "
   ]
  },
  {
   "cell_type": "code",
   "execution_count": null,
   "id": "cb390548-199d-4547-9b10-102cbd578dbb",
   "metadata": {},
   "outputs": [],
   "source": [
    "tellurics = dataselect.select_data(\n",
    "    all_files,\n",
    "    [],\n",
    "    ['CAL'],\n",
    "    dataselect.expr_parser('observation_class==\"partnerCal\"')\n",
    ")"
   ]
  },
  {
   "cell_type": "markdown",
   "id": "83c0cf60-1434-433c-94a5-73b08d48928a",
   "metadata": {},
   "source": [
    "## **A list for the science**\n",
    "\n",
    "To create a list for the science observations, we will have dataselect pick files with the observation class 'science'. Note: In this example, all the science observations are of a single target. If the observation program had multiple targets, they would need to be split up into their own lists. "
   ]
  },
  {
   "cell_type": "code",
   "execution_count": null,
   "id": "6b7a8f88-2eac-4bde-b8e9-b4177a439830",
   "metadata": {},
   "outputs": [],
   "source": [
    "scitarget = dataselect.select_data(\n",
    "    all_files,\n",
    "    [],\n",
    "    ['CAL'],\n",
    "    dataselect.expr_parser('observation_class==\"science\" and object==\"HD41335\"')\n",
    ")"
   ]
  },
  {
   "cell_type": "markdown",
   "id": "b3283c11-23f7-448b-8f1b-7f86c4af2bdc",
   "metadata": {},
   "source": [
    "<a class=\"anchor\" id=\"BPM\"></a>\n",
    "## **Bad pixel mask**\n",
    "\n",
    "Starting with DRAGONS v3.1, the static bad pixel masks (BPMs) are now handled as calibrations. They are downloadable from the archive instead of being packaged with the software. They are automatically associated like any other calibrations. This means that the user now must download the BPMs along with the other calibrations and add the BPMs to the local calibration manager."
   ]
  },
  {
   "cell_type": "code",
   "execution_count": null,
   "id": "8416e0a3-0313-4ee8-88c1-1841601c40d6",
   "metadata": {},
   "outputs": [],
   "source": [
    "for bpm in dataselect.select_data(all_files, ['BPM']):\n",
    "    caldb.add_cal(bpm)"
   ]
  },
  {
   "cell_type": "markdown",
   "id": "57d81a2d-35a6-4513-9bd0-2574e72e8556",
   "metadata": {},
   "source": [
    "<a class=\"anchor\" id=\"Master_Flat\"></a>\n",
    "# Create master flat field\n",
    "\n",
    "GNIRS longslit flat fields are normally obtained at night along with the observation sequence to match the telescope and instrument flexure. The GNIRS longslit flatfield requires only lamp-on flats. Subtracting darks only increases the noise.\n",
    "\n",
    "The flats will be stacked."
   ]
  },
  {
   "cell_type": "code",
   "execution_count": null,
   "id": "5c1be93d-ae9a-4657-b61a-bb75f07ccd07",
   "metadata": {
    "scrolled": true
   },
   "outputs": [],
   "source": [
    "reduce_flats = Reduce()\n",
    "reduce_flats.files.extend(flats)\n",
    "reduce_flats.runr()"
   ]
  },
  {
   "cell_type": "markdown",
   "id": "1c4c2ef8-e39b-45a2-82e8-c5f97d976289",
   "metadata": {},
   "source": [
    "<a class=\"anchor\" id=\"Arc\"></a>\n",
    "# Processed arc - wavelength solution\n",
    "The wavelength solution for L-band data is derived from the wavelengths of strong peaks in the emission spectrum of the sky. The quality of the wavelength solution depends on the width and strength of the telluric features."
   ]
  },
  {
   "cell_type": "code",
   "execution_count": null,
   "id": "b7ffc122-3d1c-48cf-a29a-aabe90c3ddd1",
   "metadata": {
    "scrolled": true
   },
   "outputs": [],
   "source": [
    "reduce_sky = Reduce()\n",
    "reduce_sky.files.extend(scitarget)\n",
    "reduce_sky.recipename = 'makeWavecalFromSkyEmission'\n",
    "reduce_sky.uparms = dict([('interactive', False)])\n",
    "reduce_sky.runr()"
   ]
  },
  {
   "cell_type": "markdown",
   "id": "44ace4de-3aeb-4eb4-9cbd-d12127a91f5a",
   "metadata": {},
   "source": [
    "<a class=\"anchor\" id=\"Telluric\"></a>\n",
    "# Telluric Standard\n",
    "\n",
    "The telluric standard observed before the science observation is “hip 28910”. The spectral type of the star is A0V.\n",
    "\n",
    "To properly calculate and fit a telluric model to the star, we need to know its effective temperature. To properly scale the sensitivity function (to use the star as a spectrophotometric standard), we need to know the star’s magnitude. Those are inputs to the fitTelluric primitive.\n",
    "\n",
    "The default effective temperature of 9650 K is typical of an A0V star, which is the most common spectral type used as a telluric standard. Different sources give values between 9500 K and 9750 K and, for example, Eric Mamajek’s list “A Modern Mean Dwarf Stellar Color and Effective Temperature Sequence” (https://www.pas.rochester.edu/~emamajek/EEM_dwarf_UBVIJHK_colors_Teff.txt) quotes the effective temperature of an A0V star as 9700 K. The precise value has only a small effect on the derived sensitivity and even less effect on the telluric correction, so the temperature from any reliable source can be used. Using Simbad, we find that the star has a magnitude of K=4.523, which is the closest waveband to our observation.\n",
    "\n",
    "Note that the data are recognized by Astrodata as normal GNIRS longslit science spectra. To calculate the telluric correction, we need to specify the telluric recipe (reduceTelluric), otherwise the default science reduction will be run."
   ]
  },
  {
   "cell_type": "code",
   "execution_count": null,
   "id": "27c0d87d-32aa-4584-8ab3-ca68f32164af",
   "metadata": {
    "scrolled": true
   },
   "outputs": [],
   "source": [
    "reduce_telluric = Reduce()\n",
    "reduce_telluric.files.extend(tellurics)\n",
    "reduce_telluric.recipename = 'reduceTelluric'\n",
    "reduce_telluric.uparms = dict([\n",
    "            ('fitTelluric:bbtemp', 9700),\n",
    "            ('fitTelluric:magnitude', 'K=4.523'),\n",
    "            ('fitTelluric:interactive', False),\n",
    "            ])\n",
    "reduce_telluric.runr()"
   ]
  },
  {
   "cell_type": "markdown",
   "id": "6382f2c4-a040-4259-a2ca-3c2cdf2fe0fa",
   "metadata": {},
   "source": [
    "<a class=\"anchor\" id=\"Science\"></a>\n",
    "# Science Observations\n",
    "\n",
    "The science target, HD41335, is a Be-star. The observation sequence is one ABBA dither pattern. DRAGONS will flatfield, wavelength calibrate, subtract the sky, stack the aligned spectra, extract the source, remove telluric features and flux calibrate.\n",
    "\n",
    "With all the calibrations in the local calibration manager, you only need to run the following cell to reduce the science observations and extract the 1-D spectrum."
   ]
  },
  {
   "cell_type": "code",
   "execution_count": null,
   "id": "8686bcd0-1b60-4d58-b42d-0e831984c8bc",
   "metadata": {
    "scrolled": true
   },
   "outputs": [],
   "source": [
    "reduce_science = Reduce()\n",
    "reduce_science.files.extend(scitarget)\n",
    "reduce_science.runr()"
   ]
  },
  {
   "cell_type": "markdown",
   "id": "a095014f-5cc6-4481-a8fa-e64394a204d5",
   "metadata": {},
   "source": [
    "<a class=\"anchor\" id=\"Display\"></a>\n",
    "# Display 1D Spectrum\n",
    "\n",
    "Finally, you can use astrodata to display the reduced spectrum."
   ]
  },
  {
   "cell_type": "code",
   "execution_count": null,
   "id": "b77c93d6-e264-4906-9845-68a66b1e5364",
   "metadata": {},
   "outputs": [],
   "source": [
    "ad = astrodata.open(reduce_science.output_filenames[0])\n",
    "plotting.dgsplot_matplotlib(ad, 1)"
   ]
  }
 ],
 "metadata": {
  "kernelspec": {
   "display_name": "DRAGONS-4.0.0 (DL,Py3.12)",
   "language": "python",
   "name": "dragons-4.0.0"
  },
  "language_info": {
   "codemirror_mode": {
    "name": "ipython",
    "version": 3
   },
   "file_extension": ".py",
   "mimetype": "text/x-python",
   "name": "python",
   "nbconvert_exporter": "python",
   "pygments_lexer": "ipython3",
   "version": "3.12.10"
  }
 },
 "nbformat": 4,
 "nbformat_minor": 5
}
