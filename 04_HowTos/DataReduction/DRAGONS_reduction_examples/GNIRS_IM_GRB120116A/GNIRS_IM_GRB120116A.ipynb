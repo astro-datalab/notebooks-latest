{
 "cells": [
  {
   "cell_type": "code",
   "execution_count": null,
   "metadata": {},
   "outputs": [],
   "source": [
    "__author__ = 'Brian Merino <brian.merino@noirlab.edu>, Vinicius Placco <vinicius.placco@noirlab.edu>'\n",
    "__version__ = '20240125' # yyyymmdd; version datestamp of this notebook\n",
    "__keywords__ = ['gnirs','gemini','GRB','dragons']"
   ]
  },
  {
   "cell_type": "markdown",
   "metadata": {
    "tags": []
   },
   "source": [
    "# Gemini GNIRS reduction using DRAGONS Python API\n",
    "***\n",
    "## Public archival data from gnirsimg_tutorial - GN-2011B-Q-34 (GRB120116A)\n",
    "#### adapted from https://dragons.readthedocs.io/projects/gnirsimg-drtutorial/en/v3.1.0/01_overview.html\n",
    "***"
   ]
  },
  {
   "cell_type": "markdown",
   "metadata": {},
   "source": [
    "## Table of contents\n",
    "* [Goals](#goals)\n",
    "* [Summary](#summary)\n",
    "* [Disclaimers and attribution](#disclaimer)\n",
    "* [Imports and setup](#imports)\n",
    "* [About the dataset](#About)\n",
    "* [Downloading data for reduction](#Downloading_Data)\n",
    "* [Set up the DRAGONS logger](#DRAGONS_logger)\n",
    "* [Create File Lists](#File_Lists)\n",
    "* [Create Master Dark](#Master_dark)\n",
    "* [Create Master Flat Field](#Master_Flat)\n",
    "* [Reduce Science Images](#Reduce_Science)\n",
    "* [Display stacked final image](#Display_Image)\n",
    "* [Clean-up (optional)](#Clean-up)\n",
    "\n",
    "<a class=\"anchor\" id=\"goals\"></a>\n",
    "# Goals\n",
    "Showcase how to perform GNIRS keyhole imaging data reduction using the Gemini DRAGONS package on the Data Lab science platform. Uses a custom DRAGONS kernel `\"DRAGONS (Py3.7)\"`. The steps include downloading data from the Gemini archive, setting up a DRAGONS calibration service, processing of flats, darks, and science frames, and finally the creation of a single combined stacked image.\n",
    "\n",
    "<a class=\"anchor\" id=\"summary\"></a>\n",
    "# Summary\n",
    "DRAGONS is a Python-based astronomical data reduction platform written by the Gemini Science User Support Department. It can currently be used to reduce imaging data from Gemini instruments GMOS, NIRI, Flamingos 2, GSAOI, and GNIRS, as well as spectroscopic data in GMOS longslit mode. Linked here is a general list of guides, manuals, and tutorials about the use of DRAGONS:\n",
    "https://dragons.readthedocs.io/en/v3.1.0/\n",
    "\n",
    "The DRAGONS kernel has been made available in the Data Lab environment, allowing users to access the routines without being dependent on installing the software on their local machines. \n",
    "\n",
    "In this notebook, we present an example of a DRAGONS Jupyter notebook that works in the Data Lab environment to reduce example Gemini North GNIRS J-band imaging data fully.\n",
    "This is a version of the DRAGONS Jupyter notebook tutorial presented here: \n",
    "https://dragons.readthedocs.io/projects/gnirsimg-drtutorial/en/v3.1.0/ex1_gnirsim_twostars_api.html\n",
    "\n",
    "This notebook will not present all of the details of the many options available to adjust or optimize the DRAGONS GNIRS data reduction process; rather, it will just show one example of a standard reduction of a GNIRS imaging dataset. \n",
    "More extensive explanations can be found in the general DRAGONS GNIRS data reduction tutorial from Gemini, linked here:\n",
    "https://dragons.readthedocs.io/projects/gnirsimg-drtutorial/en/v3.1.0/index.html\n",
    "\n",
    "The data used in this notebook example is GNIRS J-band keyhole imaging from the Gemini archive of the gamma-ray burst GRB120116A from the Gemini North program \"Investigating gamma-ray bursts and their use as cosmological probes\", PI: Nial Tanvir, program ID GN-2011B-Q-34. More program information is given here: https://archive.gemini.edu/programinfo/GN-2011B-Q-34.\n",
    "\n",
    "<a class=\"anchor\" id=\"disclaimer\"></a>\n",
    "# Disclaimer & attribution\n",
    "If you use this notebook for your published science, please acknowledge the following:\n",
    "\n",
    "* Data Lab concept paper: Fitzpatrick et al., \"The NOAO Data Laboratory: a conceptual overview\", SPIE, 9149, 2014, http://dx.doi.org/10.1117/12.2057445\n",
    "\n",
    "* Data Lab disclaimer: https://datalab.noirlab.edu/disclaimers.php\n",
    "\n",
    "* DRAGONS publication: Labrie et al., \"DRAGONS - Data Reduction for Astronomy from Gemini Observatory North and South\", ASPC, 523, 321L, https://ui.adsabs.harvard.edu/abs/2019ASPC..523..321L/abstract\n",
    "\n",
    "* DRAGONS open source software publication: https://zenodo.org/record/7776065#.ZDg5qOzMLUI"
   ]
  },
  {
   "cell_type": "markdown",
   "metadata": {},
   "source": [
    "<a class=\"anchor\" id=\"imports\"></a>\n",
    "# Importing Python Libraries"
   ]
  },
  {
   "cell_type": "code",
   "execution_count": null,
   "metadata": {},
   "outputs": [],
   "source": [
    "from __future__ import print_function\n",
    "\n",
    "import glob\n",
    "\n",
    "#DRAGONS\n",
    "from recipe_system import cal_service\n",
    "from recipe_system.reduction.coreReduce import Reduce\n",
    "from gempy.adlibrary import dataselect\n",
    "from gempy.utils import logutils\n",
    "from recipe_system.utils.reduce_utils import normalize_ucals\n",
    "\n",
    "from astropy.io import fits\n",
    "import numpy as np\n",
    "import matplotlib.pyplot as plt\n",
    "from astropy.wcs import WCS\n",
    "import matplotlib.colors as colors\n",
    "import matplotlib.cbook as cbook\n",
    "from matplotlib.colors import LogNorm\n",
    "from matplotlib.colors import Normalize\n",
    "from matplotlib.colors import PowerNorm\n",
    "\n",
    "from collections import namedtuple\n",
    "\n",
    "#%matplotlib widget\n",
    "%matplotlib inline"
   ]
  },
  {
   "cell_type": "markdown",
   "metadata": {},
   "source": [
    "<a class=\"anchor\" id=\"About\"></a>\n",
    "# About the dataset\n",
    "\n",
    "This is a GNIRS acquisition keyhole imaging observation of a point source. The observation sequence uses dither-on-target. Dithered observations nearby in time will be used for sky subtraction of each frame.\n",
    "\n",
    "The calibrations we use for this example include:\n",
    "\n",
    "- Darks for the science frames\n",
    "- Flats, as a sequence of lamps-on and lamps-off exposures\n",
    "\n",
    "| Observation Type | File name(s) | Purpose and Exposure (seconds) |\n",
    "| :--- | :--- | :---: |\n",
    "| Science | N20120117S0014-33 | J-band, on-target |\n",
    "| Science darks | N20120102S0538-547 | 60 s, like Science |\n",
    "| Flats | N20120117S0034-41 | lamps-on |\n",
    "| Flats | N20120117S0042-49 | lamps-off |\n",
    "\n",
    "A note about finding the darks in the GOA: GNIRS is not an imager and imaging through the keyhole is done only in extreme circumstances, so the archive does not have calibration association rules for the darks. One needs to search for the darks manually. Here is the search that was done to find the darks for this observation sequence:\n",
    "\n",
    "- Set a date range around the dates of the science observations. In this case, we used “20120101-20120131”.\n",
    "- Set Instrument to GNIRS.\n",
    "- Set Obs. Type to DARK.\n",
    "- Set the exposure time to 60 seconds.\n",
    "- On the result table, select the darks with a “Pass” setting in the “QA” column."
   ]
  },
  {
   "cell_type": "markdown",
   "metadata": {},
   "source": [
    "<a class=\"anchor\" id=\"Downloading_Data\"></a>\n",
    "# Downloading the data (uncomment lines before running)"
   ]
  },
  {
   "cell_type": "code",
   "execution_count": null,
   "metadata": {},
   "outputs": [],
   "source": [
    "#%%bash\n",
    "\n",
    "# create file that lists FITS files to be downloaded\n",
    "#echo \"\\\n",
    "#http://archive.gemini.edu/file/N20120117S0014.fits\n",
    "#http://archive.gemini.edu/file/N20120117S0015.fits\n",
    "#http://archive.gemini.edu/file/N20120117S0016.fits\n",
    "#http://archive.gemini.edu/file/N20120117S0017.fits\n",
    "#http://archive.gemini.edu/file/N20120117S0018.fits\n",
    "#http://archive.gemini.edu/file/N20120117S0019.fits\n",
    "#http://archive.gemini.edu/file/N20120117S0020.fits\n",
    "#http://archive.gemini.edu/file/N20120117S0021.fits\n",
    "#http://archive.gemini.edu/file/N20120117S0022.fits\n",
    "#http://archive.gemini.edu/file/N20120117S0023.fits\n",
    "#http://archive.gemini.edu/file/N20120117S0024.fits\n",
    "#http://archive.gemini.edu/file/N20120117S0025.fits\n",
    "#http://archive.gemini.edu/file/N20120117S0026.fits\n",
    "#http://archive.gemini.edu/file/N20120117S0027.fits\n",
    "#http://archive.gemini.edu/file/N20120117S0028.fits\n",
    "#http://archive.gemini.edu/file/N20120117S0029.fits\n",
    "#http://archive.gemini.edu/file/N20120117S0030.fits\n",
    "#http://archive.gemini.edu/file/N20120117S0031.fits\n",
    "#http://archive.gemini.edu/file/N20120117S0032.fits\n",
    "#http://archive.gemini.edu/file/N20120117S0033.fits\n",
    "#http://archive.gemini.edu/file/N20120102S0538.fits\n",
    "#http://archive.gemini.edu/file/N20120102S0539.fits\n",
    "#http://archive.gemini.edu/file/N20120102S0540.fits\n",
    "#http://archive.gemini.edu/file/N20120102S0541.fits\n",
    "#http://archive.gemini.edu/file/N20120102S0542.fits\n",
    "#http://archive.gemini.edu/file/N20120102S0543.fits\n",
    "#http://archive.gemini.edu/file/N20120102S0544.fits\n",
    "#http://archive.gemini.edu/file/N20120102S0545.fits\n",
    "#http://archive.gemini.edu/file/N20120102S0546.fits\n",
    "#http://archive.gemini.edu/file/N20120102S0547.fits\n",
    "#http://archive.gemini.edu/file/N20120117S0034.fits\n",
    "#http://archive.gemini.edu/file/N20120117S0035.fits\n",
    "#http://archive.gemini.edu/file/N20120117S0036.fits\n",
    "#http://archive.gemini.edu/file/N20120117S0037.fits\n",
    "#http://archive.gemini.edu/file/N20120117S0038.fits\n",
    "#http://archive.gemini.edu/file/N20120117S0039.fits\n",
    "#http://archive.gemini.edu/file/N20120117S0040.fits\n",
    "#http://archive.gemini.edu/file/N20120117S0041.fits\n",
    "#http://archive.gemini.edu/file/N20120117S0042.fits\n",
    "#http://archive.gemini.edu/file/N20120117S0043.fits\n",
    "#http://archive.gemini.edu/file/N20120117S0044.fits\n",
    "#http://archive.gemini.edu/file/N20120117S0045.fits\n",
    "#http://archive.gemini.edu/file/N20120117S0046.fits\n",
    "#http://archive.gemini.edu/file/N20120117S0047.fits\n",
    "#http://archive.gemini.edu/file/N20120117S0048.fits\n",
    "#http://archive.gemini.edu/file/N20120117S0049.fits\\\n",
    "#\" > gnirs.list\n",
    "\n",
    "# download with wget FITS files from Gemini archive for processing (in quiet mode)\n",
    "#wget --no-check-certificate -N -q -i gnirs.list"
   ]
  },
  {
   "cell_type": "code",
   "execution_count": null,
   "metadata": {},
   "outputs": [],
   "source": [
    "# Check header of one raw science image\n",
    "tmp = fits.open(\"N20120117S0014.fits\")\n",
    "tmp[0].header"
   ]
  },
  {
   "cell_type": "markdown",
   "metadata": {},
   "source": [
    "<a class=\"anchor\" id=\"DRAGONS_logger\"></a>\n",
    "# Setting up the DRAGONS logger\n",
    "\n",
    "DRAGONS comes with a local calibration manager that uses the same calibration association rules as the Gemini Observatory Archive. This allows reduce to make requests to a local light-weight database for matching processed calibrations when needed to reduce a dataset.\n",
    "\n",
    "This tells the system where to put the calibration database. This database will keep track of the processed calibrations we will send to it."
   ]
  },
  {
   "cell_type": "code",
   "execution_count": null,
   "metadata": {},
   "outputs": [],
   "source": [
    "logutils.config(file_name='gnirs_data_reduction.log')\n",
    "caldb = cal_service.set_local_database()\n",
    "caldb.init(\"w\")"
   ]
  },
  {
   "cell_type": "markdown",
   "metadata": {},
   "source": [
    "**Create a list of all the FITS files in the directory**"
   ]
  },
  {
   "cell_type": "code",
   "execution_count": null,
   "metadata": {},
   "outputs": [],
   "source": [
    "all_files = glob.glob('N2012*[0-9].fits')\n",
    "all_files.sort()"
   ]
  },
  {
   "cell_type": "markdown",
   "metadata": {},
   "source": [
    "<a class=\"anchor\" id=\"File_Lists\"></a>\n",
    "# Create file lists\n",
    "\n",
    "This data set contains science and calibration frames. Some programs could have different observed targets and exposure times depending on how you organize your raw data.\n",
    "\n",
    "The DRAGONS data reduction pipeline does not organize the data for you. You have to do it. DRAGONS provides tools to help you with that.\n",
    "\n",
    "The first step is to create lists that will be used in the data reduction process. For that, we use dataselect. Please refer to the [dataselect](https://dragons.readthedocs.io/projects/recipe-system-users-manual/en/stable/supptools/dataselect.html?highlight=dataselect) documentation for details regarding its usage."
   ]
  },
  {
   "cell_type": "code",
   "execution_count": null,
   "metadata": {},
   "outputs": [],
   "source": [
    "darks60 = dataselect.select_data(\n",
    "    all_files,\n",
    "    ['DARK'],\n",
    "    [],\n",
    "    dataselect.expr_parser('exposure_time==60')\n",
    ")\n",
    "\n",
    "flats = dataselect.select_data(all_files, ['FLAT'])\n",
    "\n",
    "target = dataselect.select_data(\n",
    "    all_files,\n",
    "    [],\n",
    "    [],\n",
    "    dataselect.expr_parser('object==\"GRB120116A\"')\n",
    ")"
   ]
  },
  {
   "cell_type": "markdown",
   "metadata": {},
   "source": [
    "<a class=\"anchor\" id=\"Master_dark\"></a>\n",
    "# Create Master Dark\n",
    "\n",
    "We first create the master dark for the science target. The name of the output master dark, N20120102S0538_dark.fits, is written to the screen at the end of the process."
   ]
  },
  {
   "cell_type": "code",
   "execution_count": null,
   "metadata": {
    "scrolled": true
   },
   "outputs": [],
   "source": [
    "reduce_darks = Reduce()\n",
    "reduce_darks.files.extend(darks60)\n",
    "reduce_darks.runr()"
   ]
  },
  {
   "cell_type": "markdown",
   "metadata": {},
   "source": [
    "<a class=\"anchor\" id=\"Master_Flat\"></a>\n",
    "# Create Master Flat Field\n",
    "\n",
    "A GNIRS master flat is created from a series of lamp-on and lamp-off exposures. Each flavor is stacked, and then the lamp-off stack is subtracted from the lamp-on stack."
   ]
  },
  {
   "cell_type": "code",
   "execution_count": null,
   "metadata": {
    "scrolled": true
   },
   "outputs": [],
   "source": [
    "reduce_flats = Reduce()\n",
    "reduce_flats.files.extend(flats)\n",
    "reduce_flats.runr()"
   ]
  },
  {
   "cell_type": "markdown",
   "metadata": {},
   "source": [
    "**The default for GNIRS keyhole images is “within 600 seconds”. This can be seen by using “showpars”:**"
   ]
  },
  {
   "cell_type": "code",
   "execution_count": null,
   "metadata": {},
   "outputs": [],
   "source": [
    "!showpars N20120117S0014.fits associateSky"
   ]
  },
  {
   "cell_type": "markdown",
   "metadata": {},
   "source": [
    "<a class=\"anchor\" id=\"Reduce_Science\"></a>\n",
    "# Reduce Science Images\n",
    "\n",
    "The science target is a point source. The sequence dithers on-target, moving the source across the thin keyhole aperture. The sky frames for each science image will be the adjacent dithered frames obtained within a certain time limit. The default for GNIRS keyhole images is “within 600 seconds”.\n",
    "\n",
    "Both the master dark and the master flat are in our local calibration database. The calibration manager would retrieve any other Gemini facility instrument automatically. However, GNIRS is not an imager, and the keyhole is typically used only for acquisition, so there are no calibration association rules between GNIRS keyhole images and darks. \n",
    "\n",
    "The output stack units are in electrons (header keyword BUNIT=electrons). The output stack is stored in a multi-extension FITS (MEF) file. The science signal is in the “SCI” extension, the variance is in the “VAR” extension, and the data quality plane (mask) is in the “DQ” extension."
   ]
  },
  {
   "cell_type": "code",
   "execution_count": null,
   "metadata": {},
   "outputs": [],
   "source": [
    "reduce_target = Reduce()\n",
    "reduce_target.files.extend(target)\n",
    "reduce_target.uparms = [('darkCorrect:dark', 'N20120102S0538_dark.fits')]\n",
    "reduce_target.runr()"
   ]
  },
  {
   "cell_type": "markdown",
   "metadata": {},
   "source": [
    "<a class=\"anchor\" id=\"Display_Image\"></a>\n",
    "# Display the Stacked Image"
   ]
  },
  {
   "cell_type": "code",
   "execution_count": null,
   "metadata": {
    "scrolled": true
   },
   "outputs": [],
   "source": [
    "image_file = \"N20120117S0014_image.fits\"\n",
    "hdu_list = fits.open(image_file)\n",
    "wcs = WCS(hdu_list[1].header)\n",
    "hdu_list.info()"
   ]
  },
  {
   "cell_type": "code",
   "execution_count": null,
   "metadata": {},
   "outputs": [],
   "source": [
    "image_data = fits.getdata(image_file, ext=1)\n",
    "print(image_data.shape)"
   ]
  },
  {
   "cell_type": "code",
   "execution_count": null,
   "metadata": {},
   "outputs": [],
   "source": [
    "plt.figure(figsize = (10,10))\n",
    "plt.subplot(projection=wcs)\n",
    "plt.imshow(image_data,cmap='bone',norm=Normalize(vmin=1, vmax=500),origin='lower')\n",
    "plt.xlabel('Right Ascension [hh:mm:ss]',fontsize=14,fontweight='bold')\n",
    "plt.ylabel('Declination [degree]',fontsize=14,fontweight='bold')\n",
    "plt.show()"
   ]
  },
  {
   "cell_type": "markdown",
   "metadata": {},
   "source": [
    "<a class=\"anchor\" id=\"Clean-up\"></a>\n",
    "# Optional: remove raw data (uncomment lines before running)"
   ]
  },
  {
   "cell_type": "code",
   "execution_count": null,
   "metadata": {},
   "outputs": [],
   "source": [
    "#%%bash\n",
    "\n",
    "#cp N20120117S0014_image.fits final.fits\n",
    "#rm -r calibrations\n",
    "#rm gnirs.list gnirs_data_reduction.log N2012*\n",
    "#mv final.fits N20120117S0014_image.fits"
   ]
  },
  {
   "cell_type": "code",
   "execution_count": null,
   "metadata": {},
   "outputs": [],
   "source": []
  }
 ],
 "metadata": {
  "kernelspec": {
   "display_name": "Python [conda env:dragons_emergency] *",
   "language": "python",
   "name": "conda-env-dragons_emergency-py"
  },
  "language_info": {
   "codemirror_mode": {
    "name": "ipython",
    "version": 3
   },
   "file_extension": ".py",
   "mimetype": "text/x-python",
   "name": "python",
   "nbconvert_exporter": "python",
   "pygments_lexer": "ipython3",
   "version": "3.10.13"
  }
 },
 "nbformat": 4,
 "nbformat_minor": 4
}
