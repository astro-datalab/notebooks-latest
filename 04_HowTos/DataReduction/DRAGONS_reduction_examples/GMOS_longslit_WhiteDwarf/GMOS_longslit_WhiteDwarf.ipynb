{
 "cells": [
  {
   "cell_type": "code",
   "execution_count": null,
   "id": "68687071-4e65-4688-982c-e973da903ec7",
   "metadata": {},
   "outputs": [],
   "source": [
    "__author__ = 'Brian Merino <brian.merino@noirlab.edu>, Vinicius Placco <vinicius.placco@noirlab.edu>'\n",
    "__version__ = '20240606' # yyyymmdd; version datestamp of this notebook\n",
    "__keywords__ = ['gmos','gemini','longslit','whitedwarf','dragons']"
   ]
  },
  {
   "cell_type": "markdown",
   "id": "182a5f1b-7aac-4fbd-81eb-972d0a132921",
   "metadata": {},
   "source": [
    "# Gemini GMOS longslit white dwarf reduction using DRAGONS Python API\n",
    "***\n",
    "## Public archival data from GS-2017B-Q-72 (J2145+0031)\n",
    "#### adapted from https://dragons.readthedocs.io/projects/gmosls-drtutorial/en/v3.1.0/ex1_gmosls_dithered_api.html\n",
    "***"
   ]
  },
  {
   "cell_type": "markdown",
   "id": "14b486fd-e641-438b-9a16-2d19419dd090",
   "metadata": {
    "jp-MarkdownHeadingCollapsed": true
   },
   "source": [
    "## Table of contents\n",
    "* [Goals](#goals)\n",
    "* [Summary](#summary)\n",
    "* [Disclaimers and attribution](#disclaimer)\n",
    "* [Imports and setup](#imports)\n",
    "* [About the dataset](#About)\n",
    "* [Downloading data for reduction](#Downloading_Data)\n",
    "* [Set up the DRAGONS logger](#DRAGONS_logger)\n",
    "* [Create File Lists](#File_Lists)\n",
    "* [Create Bad Pixel Mask](#BPM)\n",
    "* [Create Master Bias](#Master_Bias)\n",
    "* [Create Master Flat Field](#Master_Flat)\n",
    "* [Processed Arc](#Arc)\n",
    "* [Processed Standard](#Standard)\n",
    "* [Science Observations](#Science)\n",
    "* [Display the 2D Spectrum](#Display_2D_Spectrum)\n",
    "* [Display 1-D flux-calibrated spectrum](#Display_1D_Spectrum)\n",
    "* [Clean-up (optional)](#Clean-up)\n",
    "\n",
    "<a class=\"anchor\" id=\"goals\"></a>\n",
    "# Goals\n",
    "Showcase how to reduce GMOS longslit data using the Gemini DRAGONS package on the Data Lab science platform using a custom DRAGONS kernel `\"DRAGONS (Py3.7)\"`. The steps include downloading data from the Gemini archive, setting up a DRAGONS calibration service, processing flats, darks, a bad pixel mask, and science frames, and creating a single combined stacked image.\n",
    "\n",
    "<a class=\"anchor\" id=\"summary\"></a>\n",
    "# Summary\n",
    "DRAGONS is a Python-based astronomical data reduction platform written by the Gemini Science User Support Department. It can currently be used to reduce imaging data from Gemini instruments GMOS, NIRI, Flamingos 2, GSAOI, and GNIRS, as well as spectroscopic data in GMOS longslit mode. Linked <a href=\"https://dragons.readthedocs.io/en/v3.1.0/\">here</a> is a general list of guides, manuals, and tutorials about the use of DRAGONS.\n",
    "\n",
    "\n",
    "The DRAGONS kernel has been made available in the Data Lab environment, allowing users to access the routines without being dependent on installing the software on their local machines. \n",
    "\n",
    "In this notebook, we present an example of a DRAGONS Jupyter notebook that works in the Data Lab environment to reduce example Gemini South GMOS longslit data fully. This notebook will not present all of the details of the many options available to adjust or optimize the DRAGONS GMOS longslit data reduction process; rather, it will just show one example of a standard reduction of a GMOS longslit dataset. \n",
    "\n",
    "The data used in this notebook example is GMOS longslit data from the Gemini archive of the candiate DB white dwarf J2145+0031 from the Gemini South program \"<a href=\"https://archive.gemini.edu/programinfo/GS-2017B-Q-72\">Spectroscopy of massive DB white dwarf candidate stars</a>\", PI: Alejandra Romero, program ID GS-2017B-Q-72.\n",
    "\n",
    "<a class=\"anchor\" id=\"disclaimer\"></a>\n",
    "# Disclaimer & attribution\n",
    "If you use this notebook for your published science, please acknowledge the following:\n",
    "\n",
    "* Data Lab concept paper: Fitzpatrick et al., <a href=\"http://dx.doi.org/10.1117/12.2057445\">\"The NOAO Data Laboratory: a conceptual overview\"</a>, SPIE, 9149, 2014\n",
    "\n",
    "* <a href=\"https://datalab.noirlab.edu/disclaimers.php\">Data Lab disclaimer</a>\n",
    "\n",
    "* DRAGONS publication: Labrie et al., <a href=\"https://ui.adsabs.harvard.edu/abs/2019ASPC..523..321L/abstract\">\"DRAGONS - Data Reduction for Astronomy from Gemini Observatory North and South\"</a>, ASPC, 523, 321L \n",
    "\n",
    "* <a href=\"https://zenodo.org/record/7776065#.ZDg5qOzMLUI\">DRAGONS open source software publication</a>"
   ]
  },
  {
   "cell_type": "markdown",
   "id": "32356912-1901-4689-9c4a-3fe13d0099e0",
   "metadata": {},
   "source": [
    "<a class=\"anchor\" id=\"imports\"></a>\n",
    "# Importing Python libraries"
   ]
  },
  {
   "cell_type": "code",
   "execution_count": null,
   "id": "27f0f772-4dfd-41ba-b7fe-364b89b917aa",
   "metadata": {},
   "outputs": [],
   "source": [
    "import warnings\n",
    "import glob\n",
    "\n",
    "import astrodata\n",
    "\n",
    "from astropy.io import fits\n",
    "from astropy.utils.exceptions import AstropyWarning\n",
    "\n",
    "import numpy as np\n",
    "import matplotlib.pyplot as plt\n",
    "from matplotlib.colors import LogNorm\n",
    "\n",
    "import gemini_instruments\n",
    "from gempy.utils import logutils\n",
    "from gempy.adlibrary import dataselect\n",
    "from gempy.adlibrary import plotting\n",
    "\n",
    "from recipe_system import cal_service\n",
    "from recipe_system.reduction.coreReduce import Reduce\n",
    "\n",
    "warnings.simplefilter('ignore', category=AstropyWarning)\n",
    "warnings.filterwarnings(\"ignore\")"
   ]
  },
  {
   "cell_type": "markdown",
   "id": "50747df9-8919-4f82-83fe-3917ad372194",
   "metadata": {},
   "source": [
    "<a class=\"anchor\" id=\"About\"></a>\n",
    "# About the dataset\n",
    "\n",
    "The table below contains a summary of the dataset:\n",
    "\n",
    "| Observation Type | File name(s) | Wavelength |\n",
    "| :--- | :--- | :---: |\n",
    "| Science | S20171022S0087-89 <br> S20171022S0095-97| 515 nm <br> 530 nm|\n",
    "| Science biases | S20171021S0265-269 <br> S20171023S0032-036|  |\n",
    "| Science flats | S20171022S0088 (515 nm) <br> S20171022S0096 (530 nm) | 515 nm <br> 530 nm |\n",
    "| Science arcs | S20171022S0092 <br> S20171022S0099 | 515 nm <br> 530 nm |\n",
    "| Standard (LTT2415) | S20170826S0160 | 515 nm |\n",
    "| Standard biases | S20170825S0347-351 <br> S20170826S0224-228 |  |\n",
    "| Standard flats | S20170826S0161 | 515 nm |\n",
    "| Standard arc | S20170826S0162  | 515 nm |\n",
    "| BPM | bpm_20140601_gmos-s_Ham_22_full_12amp.fits |  |"
   ]
  },
  {
   "cell_type": "markdown",
   "id": "4fdaf95d-f4d0-41fd-914b-081a97358939",
   "metadata": {},
   "source": [
    "<a class=\"anchor\" id=\"Downloading_Data\"></a>\n",
    "# Downloading the data\n",
    "\n",
    "Downloading longslit data from the Gemini archive to the current working directory. This step only needs to be executed once.\n",
    "\n",
    "If you run this notebook for the first time and need to download the dataset, set the variable \"download=True\". The notebook will not redownload the dataset if it is set to False. This will become particularly useful if you run the notebooks more than once. "
   ]
  },
  {
   "cell_type": "code",
   "execution_count": null,
   "id": "bfa1a4bd-fc0d-4eef-b146-f8d6a6645d77",
   "metadata": {},
   "outputs": [],
   "source": [
    "%%bash \n",
    "\n",
    "# create file that lists FITS files to be downloaded\n",
    "echo \"\\\n",
    "http://archive.gemini.edu/file/S20171022S0087.fits\n",
    "http://archive.gemini.edu/file/S20171022S0088.fits\n",
    "http://archive.gemini.edu/file/S20171022S0089.fits\n",
    "http://archive.gemini.edu/file/S20171022S0095.fits\n",
    "http://archive.gemini.edu/file/S20171022S0096.fits\n",
    "http://archive.gemini.edu/file/S20171022S0097.fits\n",
    "http://archive.gemini.edu/file/S20171021S0265.fits\n",
    "http://archive.gemini.edu/file/S20171021S0266.fits\n",
    "http://archive.gemini.edu/file/S20171021S0267.fits\n",
    "http://archive.gemini.edu/file/S20171021S0268.fits\n",
    "http://archive.gemini.edu/file/S20171021S0269.fits\n",
    "http://archive.gemini.edu/file/S20171023S0032.fits\n",
    "http://archive.gemini.edu/file/S20171023S0033.fits\n",
    "http://archive.gemini.edu/file/S20171023S0034.fits\n",
    "http://archive.gemini.edu/file/S20171023S0035.fits\n",
    "http://archive.gemini.edu/file/S20171023S0036.fits\n",
    "http://archive.gemini.edu/file/S20171022S0088.fits\n",
    "http://archive.gemini.edu/file/S20171022S0096.fits\n",
    "http://archive.gemini.edu/file/S20171022S0092.fits\n",
    "http://archive.gemini.edu/file/S20171022S0099.fits\n",
    "http://archive.gemini.edu/file/S20170826S0160.fits\n",
    "http://archive.gemini.edu/file/S20170825S0347.fits\n",
    "http://archive.gemini.edu/file/S20170825S0348.fits\n",
    "http://archive.gemini.edu/file/S20170825S0349.fits\n",
    "http://archive.gemini.edu/file/S20170825S0350.fits\n",
    "http://archive.gemini.edu/file/S20170825S0351.fits\n",
    "http://archive.gemini.edu/file/S20170826S0224.fits\n",
    "http://archive.gemini.edu/file/S20170826S0225.fits\n",
    "http://archive.gemini.edu/file/S20170826S0226.fits\n",
    "http://archive.gemini.edu/file/S20170826S0227.fits\n",
    "http://archive.gemini.edu/file/S20170826S0228.fits\n",
    "http://archive.gemini.edu/file/S20170826S0161.fits\n",
    "http://archive.gemini.edu/file/S20170826S0162.fits\n",
    "http://archive.gemini.edu/file/bpm_20140601_gmos-s_Ham_22_full_12amp.fits\\\n",
    "\" > gmos_ls.list"
   ]
  },
  {
   "cell_type": "code",
   "execution_count": null,
   "id": "33188d69-8a17-405b-b63d-7a20b4ce69e2",
   "metadata": {},
   "outputs": [],
   "source": [
    "%%bash\n",
    "\n",
    "download=\"True\"\n",
    "\n",
    "if [ $download == \"True\" ]; then\n",
    "    wget --no-check-certificate -N -q -i gmos_ls.list\n",
    "\n",
    "else\n",
    "    echo \"Skipping download. To download the data set used in this notebook, set download=True.\"\n",
    "fi"
   ]
  },
  {
   "cell_type": "markdown",
   "id": "7d57ad0a-85d8-477e-8434-b55761767ad3",
   "metadata": {},
   "source": [
    "**Create a list of all the FITS files in the directory**"
   ]
  },
  {
   "cell_type": "code",
   "execution_count": null,
   "id": "863ce90e-cb30-49aa-99ae-63e842acf7d4",
   "metadata": {},
   "outputs": [],
   "source": [
    "all_files = glob.glob('S2017*.fits')\n",
    "all_files.append(glob.glob('bpm*.fits')[0])\n",
    "all_files.sort()"
   ]
  },
  {
   "cell_type": "markdown",
   "id": "89416329-f45d-42c1-8ecb-c59604432bfa",
   "metadata": {},
   "source": [
    "<a class=\"anchor\" id=\"DRAGONS_logger\"></a>\n",
    "# Setting up the DRAGONS logger\n",
    "\n",
    "DRAGONS comes with a local calibration manager that uses the same calibration association rules as the Gemini Observatory Archive. This allows reduce to make requests to a local light-weight database for matching processed calibrations when needed to reduce a dataset.\n",
    "\n",
    "This tells the system where to put the calibration database. This database will keep track of the processed calibrations we will send to it."
   ]
  },
  {
   "cell_type": "code",
   "execution_count": null,
   "id": "dbbbce6d-4f76-4d2f-adde-ed26eccffdb8",
   "metadata": {},
   "outputs": [],
   "source": [
    "logutils.config(file_name='gmosls.log')\n",
    "caldb = cal_service.set_local_database()\n",
    "caldb.init(\"w\")"
   ]
  },
  {
   "cell_type": "markdown",
   "id": "fa46f568-8cd9-44e9-a31f-a231a58bdcef",
   "metadata": {},
   "source": [
    "<a class=\"anchor\" id=\"File_Lists\"></a>\n",
    "# Create file lists\n",
    "\n",
    "This data set contains science and calibration frames. For some programs, it could have different observed targets and exposure times depending on how you organize your raw data.\n",
    "\n",
    "The DRAGONS data reduction pipeline does not organize the data for you. You have to do it. DRAGONS provides tools to help you with that.\n",
    "\n",
    "The first step is to create lists that will be used in the data reduction process. For that, we use dataselect. Please refer to the [dataselect](https://dragons.readthedocs.io/projects/recipe-system-users-manual/en/stable/supptools/dataselect.html?highlight=dataselect) documentation for details regarding its usage."
   ]
  },
  {
   "cell_type": "code",
   "execution_count": null,
   "id": "c04cd2b8-2cbb-4272-9ac9-ce3eace02b17",
   "metadata": {},
   "outputs": [],
   "source": [
    "all_biases = dataselect.select_data(all_files, ['BIAS'])\n",
    "for bias in all_biases:\n",
    "    ad = astrodata.open(bias)\n",
    "    print(bias, '  ', ad.detector_roi_setting())"
   ]
  },
  {
   "cell_type": "code",
   "execution_count": null,
   "id": "2a1c44f3-6507-4d04-af0b-07f9ebd1a600",
   "metadata": {},
   "outputs": [],
   "source": [
    "biasstd = dataselect.select_data(\n",
    "    all_files,\n",
    "    ['BIAS'],\n",
    "    [],\n",
    "    dataselect.expr_parser('detector_roi_setting==\"Central Spectrum\"')\n",
    ")\n",
    "\n",
    "biassci = dataselect.select_data(\n",
    "    all_files,\n",
    "    ['BIAS'],\n",
    "    [],\n",
    "    dataselect.expr_parser('detector_roi_setting==\"Full Frame\"')\n",
    ")"
   ]
  },
  {
   "cell_type": "markdown",
   "id": "b350f7ea-d663-463b-b09c-53110651ec26",
   "metadata": {},
   "source": [
    "## **A list for the flats**\n",
    "\n",
    "The GMOS longslit flats are not normally stacked. The default recipe does not stack the flats. This allows us to use only one list of the flats. Each will be reduced individually, never interacting with the others."
   ]
  },
  {
   "cell_type": "code",
   "execution_count": null,
   "id": "077ead7d-ef14-4ffd-81ba-4cbfde8133b8",
   "metadata": {},
   "outputs": [],
   "source": [
    "flats = dataselect.select_data(all_files, ['FLAT'])"
   ]
  },
  {
   "cell_type": "markdown",
   "id": "8f50bff5-310b-4b8f-93c8-4b789b1afe73",
   "metadata": {},
   "source": [
    "## **A list for the arcs**\n",
    "The GMOS longslit arcs are not normally stacked. The default recipe does not stack the arcs. This allows us to use only one list of arcs. Each will be reduce individually, never interacting with the others."
   ]
  },
  {
   "cell_type": "code",
   "execution_count": null,
   "id": "388155ed-3ec9-413f-b4f2-37801d4fd09b",
   "metadata": {},
   "outputs": [],
   "source": [
    "arcs = dataselect.select_data(all_files, ['ARC'])"
   ]
  },
  {
   "cell_type": "markdown",
   "id": "6abab4f6-f438-4530-97b7-bfb06b6cfeab",
   "metadata": {},
   "source": [
    "## **A list for the spectrophotometric standard star**\n",
    "\n",
    "If a spectrophotometric standard is recognized as such by DRAGONS, it will receive the Astrodata tag STANDARD. To be recognized, the name of the star must be in a lookup table. All spectrophotometric standards normally used at Gemini are in that table."
   ]
  },
  {
   "cell_type": "code",
   "execution_count": null,
   "id": "cb7322f4-9349-4fde-be8d-b6ea2d30c574",
   "metadata": {},
   "outputs": [],
   "source": [
    "stdstar = dataselect.select_data(all_files, ['STANDARD'])"
   ]
  },
  {
   "cell_type": "markdown",
   "id": "dbeb47e8-ed53-4869-a1ca-c5999066eec8",
   "metadata": {},
   "source": [
    "## **A list for the science observation**\n",
    "\n",
    "The science observations are what is left, that is anything that is not a calibration. Calibrations are assigned the astrodata tag CAL, therefore we can select against that tag to get the science observations."
   ]
  },
  {
   "cell_type": "code",
   "execution_count": null,
   "id": "31f7b2af-105b-407e-99d4-cd7c3b252d2b",
   "metadata": {},
   "outputs": [],
   "source": [
    "scitarget = dataselect.select_data(\n",
    "    all_files,\n",
    "    [],\n",
    "    ['CAL'],\n",
    "    dataselect.expr_parser('object==\"J2145+0031\"')\n",
    ")"
   ]
  },
  {
   "cell_type": "markdown",
   "id": "4f91bec4-f925-4ed1-a3e1-990bf7a9a86c",
   "metadata": {},
   "source": [
    "<a class=\"anchor\" id=\"BPM\"></a>\n",
    "## **Bad pixel mask**\n",
    "\n",
    "Starting with DRAGONS v3.1, the static bad pixel masks (BPMs) are now handled as calibrations. They are downloadable from the archive instead of being packaged with the software. They are automatically associated like any other calibrations. This means that the user now must download the BPMs along with the other calibrations and add the BPMs to the local calibration manager."
   ]
  },
  {
   "cell_type": "code",
   "execution_count": null,
   "id": "9dd37459-a184-4275-a9c5-6d7c623f27f7",
   "metadata": {},
   "outputs": [],
   "source": [
    "for bpm in dataselect.select_data(all_files, ['BPM']):\n",
    "    caldb.add_cal(bpm)"
   ]
  },
  {
   "cell_type": "markdown",
   "id": "fc68516f-eef3-4141-a0b0-575884444d1b",
   "metadata": {},
   "source": [
    "<a class=\"anchor\" id=\"Master_Bias\"></a>\n",
    "# Create master bias\n",
    "\n",
    "We create the master biases with the Reduce class. We will run it twice, once for each of the two raw bias lists. The master biases will be automatically added to the local calibration manager when the \"store\" parameter is present in the .dragonsrc configuration file. The output is written to disk and its name is stored in the Reduce instance. The calibration service expects the name of a file on disk.\n",
    "\n",
    "Because the database was given the \"store\" option in the dragonsrc file, the processed biases will be automatically added to the database at the end of the recipe. \n",
    "\n",
    "When the cell is done running, the master biases will be saved as S20170825S0347_bias.fits and S20171021S0265_bias.fits."
   ]
  },
  {
   "cell_type": "code",
   "execution_count": null,
   "id": "4b32c228-0037-49c6-9a55-23de30ff28e3",
   "metadata": {},
   "outputs": [],
   "source": [
    "reduce_biasstd = Reduce()\n",
    "reduce_biassci = Reduce()\n",
    "reduce_biasstd.files.extend(biasstd)\n",
    "reduce_biassci.files.extend(biassci)\n",
    "reduce_biasstd.runr()\n",
    "reduce_biassci.runr()"
   ]
  },
  {
   "cell_type": "markdown",
   "id": "7a27b83b-7e34-44bc-9516-ee7e5a15890a",
   "metadata": {},
   "source": [
    "<a class=\"anchor\" id=\"Master_Flat\"></a>\n",
    "# Create master flat field\n",
    "\n",
    "GMOS longslit flat fields are normally obtained at night along with the observation sequence to match the telescope and instrument flexure. The matching flat nearest in time to the target observation is used to flat field the target. The central wavelength, filter, grating, binning, gain, and read speed must match.\n",
    "\n",
    "Because of the flexure, GMOS longslit flat fields are not stacked. Each is reduced and used individually. The default recipe takes that into account.\n",
    "\n",
    "We can send all the flats, regardless of characteristics, to Reduce and each will be reduce individually. When a calibration is needed, in this case, a master bias, the best match will be obtained automatically from the local calibration manager.\n",
    "\n",
    "The master flats will have the name of the first flat of each list, all with the suffix _flat.fits\n",
    "\n",
    "NOTE: A warning may appear after running this cell regarding too few unmasked points. This warning can be ignored and will not affect the final product. "
   ]
  },
  {
   "cell_type": "code",
   "execution_count": null,
   "id": "93f3794d-b1be-44c4-8e88-48d16b1fc754",
   "metadata": {},
   "outputs": [],
   "source": [
    "reduce_flats = Reduce()\n",
    "reduce_flats.files.extend(flats)\n",
    "reduce_flats.runr()"
   ]
  },
  {
   "cell_type": "markdown",
   "id": "74f63d95-47e6-48b5-b8a2-5030baf06227",
   "metadata": {},
   "source": [
    "<a class=\"anchor\" id=\"Arc\"></a>\n",
    "# Processed arc - wavelength solution\n",
    "\n",
    "GMOS longslit arc can be obtained at night with the observation sequence, if requested by the program, but are often obtained at the end of the night or the following afternoon instead. In this example, the arcs have been obtained at night, as part of the sequence. Like the spectroscopic flats, they are not stacked which means that they can be sent to reduce all together and will be reduced individually.\n",
    "\n",
    "The wavelength solution is automatically calculated and the algorithm has been found to be quite reliable. There might be cases where it fails; inspect the *_mosaic.pdf plot and the RMS of determineWavelengthSolution in the logs to confirm a good solution.\n",
    "\n",
    "The processed arcs will be saved with the suffix _arc.fits. The mosaics will be saved with the suffix _mosaic.pdf."
   ]
  },
  {
   "cell_type": "code",
   "execution_count": null,
   "id": "1c914680-d3cf-411b-9145-a54d313607be",
   "metadata": {},
   "outputs": [],
   "source": [
    "reduce_arcs = Reduce()\n",
    "reduce_arcs.files.extend(arcs)\n",
    "reduce_arcs.runr()"
   ]
  },
  {
   "cell_type": "markdown",
   "id": "efea9dd8-9bb5-4e43-8d49-71721b2fffcc",
   "metadata": {},
   "source": [
    "<a class=\"anchor\" id=\"Standard\"></a>\n",
    "# Processed standard - sensitivity function\n",
    "\n",
    "The GMOS longslit spectrophotometric standards are normally taken when there is a hole in the queue schedule, often when the weather is not good enough for science observations. One standard per configuration, per program is the norm. If you dither along the dispersion axis, most likely only one of the positions will have been used for the spectrophotometric standard. This is normal for baseline calibrations at Gemini. The standard is used to calculate the sensitivity function. It has been shown that a difference of 10 or so nanometers does not significantly impact the spectrophotometric calibration.\n",
    "\n",
    "The reduction of the standard will be using a BPM, a master bias, a master flat, and a processed arc. If those have been added to the local calibration manager, they will be picked up automatically. The output of the reduction includes the sensitivity function and will be added to the calibration database automatically if the \"store\" option is set in the dragonsrc configuration file.\n",
    "\n",
    "The processed standard will be saved with the suffix _standard.fits."
   ]
  },
  {
   "cell_type": "code",
   "execution_count": null,
   "id": "bdc0ba22-3d0f-431f-a917-3c098dc6979e",
   "metadata": {},
   "outputs": [],
   "source": [
    "reduce_std = Reduce()\n",
    "reduce_std.files.extend(stdstar)\n",
    "reduce_std.runr()"
   ]
  },
  {
   "cell_type": "markdown",
   "id": "d6b9aac0-b12e-4384-9190-eef7c07e194f",
   "metadata": {},
   "source": [
    "<a class=\"anchor\" id=\"Science\"></a>\n",
    "# Science observations\n",
    "\n",
    "The science target is a DB white dwarf candidate. The sequence has four images that were dithered spatially and along the dispersion axis. DRAGONS will register the four images in both directions, align and stack them before extracting the 1-D spectrum.\n",
    "\n",
    "With the master bias, the master flat, the processed arcs (one for each of the grating position, aka central wavelength), and the processed standard in the local calibration manager, one only needs to do as follows to reduce the science observations and extract the 1-D spectrum.\n",
    "\n",
    "Running this cell will produce the final reduced 2D spectrum with the suffix _2D.fits, as well as several files that contain the names of the science images with the suffix _flagCosmicRays.pdf.\n",
    "\n",
    "**Warning:** This cell may take approximately 10 minutes to finish running. "
   ]
  },
  {
   "cell_type": "code",
   "execution_count": null,
   "id": "fa1ac4fe-cfc6-4966-b410-984d9210da0b",
   "metadata": {},
   "outputs": [],
   "source": [
    "reduce_science = Reduce()\n",
    "reduce_science.files.extend(scitarget)\n",
    "reduce_science.runr()"
   ]
  },
  {
   "cell_type": "markdown",
   "id": "309086ce-d1f3-4699-9c6b-a0cfa8f9255b",
   "metadata": {},
   "source": [
    "<a class=\"anchor\" id=\"Display_2D_Spectrum\"></a>\n",
    "# Display the 2D spectrum"
   ]
  },
  {
   "cell_type": "code",
   "execution_count": null,
   "id": "6193eb36-dffe-4d0e-85de-0a6e0c74d189",
   "metadata": {},
   "outputs": [],
   "source": [
    "file = 'S20171022S0087_2D.fits'\n",
    "\n",
    "hdu = fits.open(file)\n",
    "spectrum = hdu[1].data\n",
    "\n",
    "# You can choose the scaling of the 2D spectrum by uncommenting the first line below\n",
    "# for linear sclaing, or the line below that for logarithmic scaling. \n",
    "plt.imshow(spectrum,origin='lower',cmap='Greys_r',vmin=-5,vmax=15) #Linear\n",
    "#plt.imshow(spectrum,origin='lower',cmap='Greys_r',norm=LogNorm(vmin=0.005,vmax=1500)) #Logarithmic\n",
    "\n",
    "plt.xlim(500,3250)\n",
    "plt.ylim(100,2000)\n",
    "\n",
    "plt.xlabel('Detector Position [pixels]',fontweight='bold',fontsize=14)\n",
    "plt.ylabel('Detector Position [pixels]',fontweight='bold',fontsize=14)\n",
    "plt.title('%s'%file,fontweight='bold',fontsize=16)\n",
    "plt.show()"
   ]
  },
  {
   "cell_type": "markdown",
   "id": "af4377b9-85fd-461a-959b-80fe8cca5023",
   "metadata": {},
   "source": [
    "## ASCII representation\n",
    "\n",
    "If you need an ASCII representation of the spectrum, you can use the primitive write1DSpectra to extract the values from the FITS file. \n",
    "\n",
    "NOTE: Running this cell may result in two harmless warnings that can be ignored without affecting the quality of the spectrum. "
   ]
  },
  {
   "cell_type": "code",
   "execution_count": null,
   "id": "78e10cca-a5d4-459f-afea-4fe69477187d",
   "metadata": {},
   "outputs": [],
   "source": [
    "writeascii = Reduce()\n",
    "writeascii.files = ['S20171022S0087_1D.fits']\n",
    "writeascii.recipename = 'write1DSpectra'\n",
    "writeascii.runr()"
   ]
  },
  {
   "cell_type": "markdown",
   "id": "e38ffda6-4742-4018-84e0-75a694825e5f",
   "metadata": {},
   "source": [
    "<a class=\"anchor\" id=\"Display_1D_Spectrum\"></a>\n",
    "# Display the 1-D flux-calibrated spectrum of our sole target"
   ]
  },
  {
   "cell_type": "code",
   "execution_count": null,
   "id": "21f8f3aa-f6c8-4f6a-86a0-5c8e2a3c1cf1",
   "metadata": {
    "scrolled": true
   },
   "outputs": [],
   "source": [
    "ad = astrodata.open('S20171022S0087_1D.fits')\n",
    "\n",
    "data = ad[0].data\n",
    "wavelength = ad[0].wcs(np.arange(data.size)).astype(np.float32)\n",
    "units = ad[0].wcs.output_frame.unit[0]\n",
    "\n",
    "plt.xlabel(f'Wavelength ({units})')\n",
    "plt.ylabel(f'Signal ({ad[0].hdr[\"BUNIT\"]})')\n",
    "plt.ylim(0,10**(-17))\n",
    "plt.plot(wavelength, data)\n",
    "plt.show()"
   ]
  },
  {
   "cell_type": "markdown",
   "id": "9411623a-a032-4934-8ea8-50ebff92d50d",
   "metadata": {},
   "source": [
    "<a class=\"anchor\" id=\"Clean-up\"></a>\n",
    "# Optional: remove duplicate calibrations and remove raw data (uncomment lines before running)"
   ]
  },
  {
   "cell_type": "code",
   "execution_count": null,
   "id": "d203f6c4-0da2-42e6-a617-71dc506806b8",
   "metadata": {},
   "outputs": [],
   "source": [
    "# %%bash\n",
    "\n",
    "# cp S20171022S0087_2D.fits final.fits\n",
    "# cp S20171022S0087_1D.fits final_1D.fits\n",
    "# rm -r calibrations\n",
    "# rm *dat\n",
    "# rm gmos_ls.list gmosls.log S2017*\n",
    "# rm bpm_20140601_gmos-s_Ham_22_full_12amp.fits\n",
    "# mv final.fits S20171022S0087_2D.fits\n",
    "# mv final_1D.fits S20171022S0087_1D.fits"
   ]
  },
  {
   "cell_type": "code",
   "execution_count": null,
   "id": "cb639d41-d45f-4c17-bebe-dfc6f2becdce",
   "metadata": {},
   "outputs": [],
   "source": []
  }
 ],
 "metadata": {
  "kernelspec": {
   "display_name": "DRAGONS (Py3.7)",
   "language": "python",
   "name": "dragons"
  },
  "language_info": {
   "codemirror_mode": {
    "name": "ipython",
    "version": 3
   },
   "file_extension": ".py",
   "mimetype": "text/x-python",
   "name": "python",
   "nbconvert_exporter": "python",
   "pygments_lexer": "ipython3",
   "version": "3.10.9"
  }
 },
 "nbformat": 4,
 "nbformat_minor": 5
}
